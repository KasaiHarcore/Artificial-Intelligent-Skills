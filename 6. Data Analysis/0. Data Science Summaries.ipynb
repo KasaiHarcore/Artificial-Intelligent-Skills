{
 "cells": [
  {
   "cell_type": "markdown",
   "metadata": {},
   "source": [
    "When dealing with dat science or data analysis, we often trying to generate or extract information from data. In this case, we need to use some statistical methods to analyze the data.\n",
    "\n",
    "![Alt text](image.png)"
   ]
  },
  {
   "cell_type": "markdown",
   "metadata": {},
   "source": [
    "The figure above depicts very accurately what data science actually is. When you combine computer science and business knowledge, you get software development and create business applications. When you combine your business knowledge with mathematics and statistics, you can also analyze the data but you have to do it manually, since you are missing the computational component. When you only combine computer science and statistics, you get machine learning, which is very powerful, but without the necessary business knowledge, you won’t get any significant information or conclusions. We need to combine all of these three areas, in order to end up with data science."
   ]
  },
  {
   "cell_type": "markdown",
   "metadata": {},
   "source": [
    "In the real world, there's a lot of popular company that offer various data science services, such as Google, Amazon, Microsoft, and many more. Some role are:\n",
    "- Data Scientist\n",
    "- Data Analyst\n",
    "- Data Engineer\n",
    "- Machine Learning Engineer\n",
    "- Business Intelligence Analyst\n",
    "- Data Architect\n",
    "- Statistician\n",
    "- Data and Analytics Manager\n",
    "- Data Visualization Developer\n",
    "- Database Administrator\n",
    "- etc.."
   ]
  },
  {
   "cell_type": "markdown",
   "metadata": {},
   "source": [
    "## Installing Modules\n",
    "\n",
    "![Alt text](image-1.png)"
   ]
  },
  {
   "cell_type": "markdown",
   "metadata": {},
   "source": [
    "Each module here build on python, this is the hierarchy of these modules. Numpy/Scipy build on Python while Matplotlib and Pandas or other modules build on Numpy/Scipy. "
   ]
  },
  {
   "cell_type": "markdown",
   "metadata": {},
   "source": [
    "## Numpy\n",
    "\n",
    "Numpy module allows us to efficiently work with vectors, matrices and higher dimensional arrays. It also provides us with a large number of mathematical functions that we can use to operate on these arrays.\n",
    "\n",
    "Also, Numpy was built in the C programming language. This means that it's a lot faster and more efficient than other Python libraries."
   ]
  },
  {
   "cell_type": "markdown",
   "metadata": {},
   "source": [
    "## Scipy\n",
    "\n",
    "*Scipy* is a module which we're not using in this course. Nevertheless, it's worth mentioning because it's a very powerful library for scientific computing.\n",
    "\n",
    "However, it's not as popular as Numpy, Pandas, or Matplotlib. This is because it's not as easy to use as the other libraries. It's also not as fast as Numpy, which is why it's not used as often."
   ]
  },
  {
   "cell_type": "markdown",
   "metadata": {},
   "source": [
    "## Matplotlib\n",
    "\n",
    "On top of that, we have the *Matplotlib* module. This module allows us to create graphs and plots from our data. It's a very powerful module, and it's also very easy to use.\n",
    "\n",
    "Visualization is a very important part of data science. It allows us to better understand our data and to communicate our results to others."
   ]
  },
  {
   "cell_type": "markdown",
   "metadata": {},
   "source": [
    "## Pandas\n",
    "\n",
    "Finally, we have the *Pandas* module. This's the most high-level of our libraries and it builds on top of them/ It offers us a powerful data structure called *dataframe*. You can imagine it to be a bit like a mix of an Excel table and an SQL database.\n",
    "\n",
    "It allows us to store and manipulate tabular data in rows of observations and columns of variables. It's very similar to a spreadsheet or a database table.\n",
    "\n",
    "Pandas is highly compatible with Numpy and Matplotlib. This means that we can easily convert between Numpy arrays and Pandas dataframes. We can also plot Pandas dataframes using Matplotlib."
   ]
  }
 ],
 "metadata": {
  "language_info": {
   "name": "python"
  },
  "orig_nbformat": 4
 },
 "nbformat": 4,
 "nbformat_minor": 2
}
