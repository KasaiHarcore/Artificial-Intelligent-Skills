{
 "cells": [
  {
   "cell_type": "markdown",
   "metadata": {},
   "source": [
    "## Feauture Engineering Introduction\n",
    "\n",
    "### Feature Extraction\n",
    "\n",
    "In high-dimensional data sets, model training and prediction require a lot of computational costs. Therefore, feature extraction is a technique that helps reduce the dimensionality of data that allows us to select or combine input variables into predictive features but still accurately and intactly represent the data. original data. Feature extraction is applied in many different machine learning problems.\n",
    "\n",
    "- **Autoendcoder**: A quite effective technique in self - supervised learning. This technique will automatically encode the input data from a high-dimensional space to a low-dimensional space (encoder process). Then decode back from low-dimensional space to high-dimensional space (decoder process) so that the output information of the decoding process and the input must be approximately equal.\n",
    "\n",
    "- **Bag-of-Words**: Also known as the bag-of-words algorithm, it is often used in natural language processing (NLP) and information retrieval. The algorithm allows us to extract information from text segments, news items, and web pages by building a bag of words and trying to encode the text content into a vector of word frequencies without regard to word order and grammatical structure.\n",
    "\n",
    "- **Image Processing**: These are algorithms used to detect features on images such as shapes and edges. These can be manual image feature extraction methods such as HOG and SHIFT or using feature extractors through CNN convolution."
   ]
  },
  {
   "cell_type": "markdown",
   "metadata": {},
   "source": [
    "### Feature Transformation\n",
    "\n",
    "Feature Transformation are techniques that help transform input data into data suitable for the research model. These data are often highly correlated with respect to the target variable and thus help improve model accuracy. Below are some main methods applied in characteristic variation:\n",
    "- **Variable normalization**: Variable normalization aims to create unit uniformity between input variables and minimize negative impacts on the model due to differences in magnitude between variables. Techniques related to unit standardization for input variables are also known as Feature Scaling including: MinMax normalization (Minmax scaling), unit length normalization (Unit length scaling), normal distribution normalization (Standardization).\n",
    "\n",
    "- **Transform variables by function**: In case the data has heteroscedasticity, we can use some functions to transform the input variable to create variables with stable variance and a distribution close to more normal distribution like logrith, square root, cube root.\n",
    "\n",
    "- **Create interaction variables**: Interaction variables are variables that combine multiple input variables such as $x_1*x_2$, $x_1^2*x2$, $x_1*x_2^2$. The interaction variable can be the product of two or more variables. In a model with few input variables, using interaction variables can help create many new explanatory variables that help the model.\n",
    "\n",
    "- **Creating high-order variables**: High-order variables are variables created from input variables by exponentiation with higher-order values, which can be of order 2, 3, etc. For example, the input variable is $x_1$, the high-order variable is $x_1^2$, $x_1^3$.\n",
    "\n",
    "- **Geographic location data**: From geographical location, it is possible to infer region, urban, rural, average income level, demographic factors, etc.\n",
    "\n",
    "- **Time data**: Time series data often has cyclical and seasonal characteristics. Therefore, transformation techniques that turn time into a characteristic that captures cyclical and seasonal properties will help enhance the model's explanatory ability for the target variable. We can choose the time cycle of morning/afternoon/evening during the day; Day in month; week of the month; month of the year or quarter of the year depending on the seasonal rules expressed in the target variable."
   ]
  },
  {
   "cell_type": "markdown",
   "metadata": {},
   "source": [
    "### Feature Selection\n",
    "\n",
    "Feature selection is a very important part of Machine Learning with the main goal being to eliminate features that do not really contain useful information for the classification or prediction problem. Feature selection techniques can be used to improve training and prediction speed (fewer features mean the model is trained and predicted faster) and even reduce overfitting.\n",
    "\n",
    "Feature selection techniques are quite diverse:\n",
    "- **Use the correlation coefficient with the target variable**: Variables that are highly correlated with the target variable are variables with good explanatory power. Variable importance can be ranked using Pearson Correlation,\n",
    "\n",
    "- **Using AIC index**: AIC (Akaike information criterion) is an index used to evaluate the quality of a statistical model. This index is calculated through the logarithm value of the likelihood function (Log Likelihood Function). To rank the importance of variables, we will first calculate the AIC for the model regressed on all variables. Then perform training experiments, removing one variable each time to see which model's AIC value is the smallest. The smaller the AIC, the lower the error the model has on the training set and thus the variable ranking.\n",
    "\n",
    "- **Using the IV index**: IV (Information Value) is an index used in binary classification problems in statistics. This index is often measured to evaluate the classification power of the input variable.\n",
    "\n",
    "- **Feature selection using models**: Random Forest, Lasso Regression, Neural Network, SVD.\n",
    "\n",
    "- **Selection based on the level of variance fluctuation**: Variables that have little fluctuation or even no change in value will not have the effect of classification and prediction. Therefore, we can filter out these variables by determining that the magnitude of the variance must be greater than a given threshold.\n",
    "\n",
    "Next, we will analyze these techniques in theory and application cases through practical examples."
   ]
  },
  {
   "cell_type": "markdown",
   "metadata": {},
   "source": [
    "## Feature Extraction"
   ]
  },
  {
   "cell_type": "markdown",
   "metadata": {},
   "source": [
    "### Feature Extraction for Text Data"
   ]
  },
  {
   "cell_type": "markdown",
   "metadata": {},
   "source": [
    "Text data can exist in many different forms such as lowercase letters, uppercase letters, punctuation marks, special characters, etc. Different languages ​​also have different character patterns and different grammatical structures.\n",
    "\n",
    "The main problem with text data is how to encode characters into numbers? Tokenization technique will help us do this. Tokenization is when we divide text into the smallest units and build an index dictionary for these units. There are two main types of encoding: ***word encoding*** and ***character encoding***.\n",
    "\n",
    "- For word-based encoding, the words in the sentence will be the smallest unit. In English, words mainly exist in single word form while in Vietnamese there are compound words. When encoding by word, the size of the dictionary will be very large, depending on the number of different words appearing in the entire text.\n",
    "\n",
    "- Encoding by character, we will use symbols in the alphabet to make a word encoding dictionary. The size of the dictionary when encoding by character will be smaller than when encoding by word."
   ]
  },
  {
   "cell_type": "markdown",
   "metadata": {},
   "source": [
    "#### Bag-of-Words Methods\n",
    "\n"
   ]
  },
  {
   "cell_type": "markdown",
   "metadata": {},
   "source": [
    "bag-of-words, abbreviated as BoW, According to the bag-of-word method, we will encode the words in the sentence into a vector whose length is equal to the number of words in the dictionary and count the frequency of occurrence of the words. The frequency of the $i^{th}$ word in the dictionary will be equal to the $i^{th}$ element in the vector."
   ]
  },
  {
   "attachments": {
    "BoW.png": {
     "image/png": "[encoded data removed]"
    }
   },
   "cell_type": "markdown",
   "metadata": {},
   "source": [
    "![BoW.png](attachment:BoW.png)"
   ]
  },
  {
   "cell_type": "markdown",
   "metadata": {},
   "source": [
    "In above picture, the text on the left is encoded into the word frequency vector on the right. The words “I” and have are repeated twice so have a frequency of 2. Words that do not appear in the sentence but are in the dictionary such as “deep”, “is”, “this”, “machine”, “learning” have a value of 0."
   ]
  },
  {
   "cell_type": "markdown",
   "metadata": {},
   "source": [
    "Thus, according to the bag-of-words method, each word will become a dimension represented in the space of the output vector. When the number of words is very large, the encoding result can form a vector of very large length. Usually this will be a sparse vector with most values ​​equal to 0. The large number of dimensions makes it difficult to represent coding vectors in space. If we want to represent it on a graph, we must find a way to reduce the vector dimension to 2 or 3 dimensions"
   ]
  },
  {
   "cell_type": "markdown",
   "metadata": {},
   "source": [
    "Below is the code illustrating the bag of words method. To build the bag-of-words method, we go through two steps:\n",
    "- Build a dictionary.\n",
    "\n",
    "- Encode text into word frequency vector."
   ]
  },
  {
   "cell_type": "code",
   "execution_count": 1,
   "metadata": {},
   "outputs": [
    {
     "name": "stdout",
     "output_type": "stream",
     "text": [
      "[0. 1. 0. 1. 1. 0. 0. 1.]\n",
      "[1. 1. 1. 0. 0. 1. 0. 0.]\n",
      "[1. 2. 1. 1. 1. 1. 1. 1.]\n"
     ]
    }
   ],
   "source": [
    "from functools import reduce\n",
    "import numpy as np\n",
    "\n",
    "# The input is a text containing 3 sentences:\n",
    "texts = [['i', 'have', 'a', 'cat'],\n",
    "        ['he', 'has', 'a', 'dog'],\n",
    "        ['he', 'has', 'a', 'dog', 'and', 'i', 'have', 'a', 'cat']]\n",
    "\n",
    "#B1: Build a dictionary\n",
    "dictionary = list(enumerate(set(reduce(lambda x, y: x + y, texts))))\n",
    "\n",
    "# B2: Encode sentences into frequency vectors\n",
    "def bag_of_word(sentence):\n",
    "    # Initialize a vector with length equal to the dictionary.\n",
    "    vector = np.zeros(len(dictionary))\n",
    "    # Count the words in a sentence that appear in the dictionary.\n",
    "    for i, word in dictionary:\n",
    "        count = 0\n",
    "        # Count the number of words appearing in a sentence.\n",
    "        for w in sentence:\n",
    "            if w == word:\n",
    "                count += 1\n",
    "            vector[i] = count\n",
    "    return vector\n",
    "\n",
    "for i in texts:\n",
    "    print(bag_of_word(i))"
   ]
  },
  {
   "cell_type": "markdown",
   "metadata": {},
   "source": [
    "If we want to use the library to find bag-of-words representations of words, in sklearn we use the package as follows:"
   ]
  },
  {
   "cell_type": "code",
   "execution_count": 2,
   "metadata": {},
   "outputs": [
    {
     "name": "stdout",
     "output_type": "stream",
     "text": [
      "words in dictionary:  ['and' 'cat' 'dog' 'has' 'have' 'he']\n",
      "[[0 1 0 0 1 0]\n",
      " [0 0 1 1 0 1]\n",
      " [1 1 1 1 1 1]]\n"
     ]
    }
   ],
   "source": [
    "from sklearn.feature_extraction.text import CountVectorizer\n",
    "\n",
    "texts = ['i have a cat', \n",
    "        'he has a dog', \n",
    "        'he has a dog and i have a cat']\n",
    "\n",
    "vect = CountVectorizer()\n",
    "X = vect.fit_transform(texts)\n",
    "print('words in dictionary: ', vect.get_feature_names_out())\n",
    "print(X.toarray())"
   ]
  },
  {
   "attachments": {
    "BoW_diagram.png": {
     "image/png": "[encoded data removed]"
    }
   },
   "cell_type": "markdown",
   "metadata": {},
   "source": [
    "This process can be described by the diagram below:\n",
    "\n",
    "![BoW_diagram.png](attachment:BoW_diagram.png)"
   ]
  },
  {
   "cell_type": "markdown",
   "metadata": {},
   "source": [
    "The limitation of bag-of-words representations is that we cannot distinguish between two sentences with the same words because bag-of-words do not distinguish between the front and back order of words in a sentence. Phrases like \"you have no dog\" and \"no, you have dog\" are two sentences that have the same performance even though they have opposite meanings."
   ]
  },
  {
   "cell_type": "code",
   "execution_count": 3,
   "metadata": {},
   "outputs": [
    {
     "data": {
      "text/plain": [
       "array([[1, 1, 1, 1],\n",
       "       [1, 1, 1, 1]], dtype=int64)"
      ]
     },
     "execution_count": 3,
     "metadata": {},
     "output_type": "execute_result"
    }
   ],
   "source": [
    "from sklearn.feature_extraction.text import CountVectorizer\n",
    "\n",
    "vect = CountVectorizer(ngram_range = (1, 1))\n",
    "vect.fit_transform(['you have no dog', 'no, you have dog']).toarray()"
   ]
  },
  {
   "cell_type": "markdown",
   "metadata": {},
   "source": [
    "That's why the bag-of-n-gram method will be used instead."
   ]
  },
  {
   "cell_type": "markdown",
   "metadata": {},
   "source": [
    "#### Bag-of-N-grams Methods"
   ]
  },
  {
   "cell_type": "markdown",
   "metadata": {},
   "source": [
    "The bag-of-n-grams method is an extension of bag-of-words. An n-grams is a string consisting of $n$ tokens. In case $n = 1$ word we call it unigram, for 2 words it is bigram and for 3 words it is trigram. When performing tokenization with n-grams, clusters of $n - grams$ of words will appear in the dictionary if they appear in the documents. For example, the sentence “I have a dog” will be tokenized into “I have”, “have a”, “a dog”. Thus the number of words in the dictionary will increase significantly. If we have $k$ single words then we can have up to $k^2$ words in the bigram. \n",
    "\n",
    "But in reality, not most words can be paired with each other, so the representation vector of a sentence in a bigram is a very sparse vector with a large dimension. This leads to costly computation and storage costs."
   ]
  },
  {
   "cell_type": "markdown",
   "metadata": {},
   "source": [
    "In sklearn, to use bigram, in <code>CountVectorizer</code> we change <code>ngram_range = (2, 2)</code>. The first value is the minimum length and the latter value is the maximum allowed length of *ngrams*. Here we declare the smallest and largest lengths to be 2, so we get *ngrams* as *bigrams*."
   ]
  },
  {
   "cell_type": "code",
   "execution_count": 4,
   "metadata": {},
   "outputs": [],
   "source": [
    "from sklearn.feature_extraction.text import CountVectorizer\n",
    "\n",
    "# bigram\n",
    "bigram = CountVectorizer(ngram_range = (2, 2))\n",
    "n1, n2, n3 = bigram.fit_transform(['you have no dog', 'no, you have dog', 'you have a dog']).toarray()\n",
    "\n",
    "# trigram\n",
    "trigram = CountVectorizer(ngram_range = (3, 3))\n",
    "n1, n2, n3 = trigram.fit_transform(['you have no dog', 'no, you have dog', 'you have a dog']).toarray()"
   ]
  },
  {
   "cell_type": "markdown",
   "metadata": {},
   "source": [
    "After encoding the sentences we can also calculate the distance between vectors in euclidean space:"
   ]
  },
  {
   "cell_type": "code",
   "execution_count": 5,
   "metadata": {},
   "outputs": [
    {
     "name": "stdout",
     "output_type": "stream",
     "text": [
      "2.0 1.0 1.7320508075688772\n"
     ]
    }
   ],
   "source": [
    "from scipy.spatial.distance import euclidean\n",
    "print(euclidean(n1, n2), euclidean(n2, n3), euclidean(n1, n3))"
   ]
  },
  {
   "cell_type": "markdown",
   "metadata": {},
   "source": [
    "#### TF-IDF Method\n",
    "\n",
    "Suppose we have a corpus consisting of many sub-texts. Words that are rarely found in the corpus but are present in certain topics may play a more important role. For example, for the Family topic, words like “parents”, “grandparents”, “children”, “brothers”, and “sisters” appear more often than other topics.\n",
    "\n",
    "There are also words that appear a lot in the text, but they appear in almost every topic, every text, such as “the”, “a”, “an”. Such words are called stopwords because they do not have much significance for text classification. When encoding language, we will find ways to remove stopwords by using a dictionary with important stopwords.\n",
    "\n",
    "The TF-IDF method is a method in which we give greater weight to words that appear in some specific texts through the formula:"
   ]
  },
  {
   "cell_type": "markdown",
   "metadata": {},
   "source": [
    "$$\\text{idf}(t, D) = \\log{\\frac{\\left|D\\right|}{\\left|d \\in D: t \\in d\\right|}} = \\log{\\frac{\\left|D\\right|}{df(d, t) + 1}}$$\n",
    "$$\\text{tfidf}(t, d, D) = \\text{tf}(t, d) \\times \\text{idf}(t, D)$$\n",
    "\n",
    "Where:\n",
    "- $\\left|D\\right|$ is the number of texts in the corpus.\n",
    "- $\\text{df}(d, t) = \\left|{d \\in D; t \\in d}\\right|$ is the number of text $d \\in D$ that contain the word $t$.\n",
    "- $\\text{tf}(t, d)$ is the frequency of the word $t$ in the text $d$."
   ]
  },
  {
   "cell_type": "markdown",
   "metadata": {},
   "source": [
    "Thus $\\text{idf}(t, D)$ is the inverse document frequency index. This index is equal to the logarithm of the inverse of the number of documents divided by the number of documents containing a specific word $i$ . A particular word has a large $\\text{idf}(t, D)$ indicating that the word appears in only a small number of texts."
   ]
  },
  {
   "cell_type": "markdown",
   "metadata": {},
   "source": [
    "$\\text{tfidf}(t, d, D)$ is proportional to the frequency of the word appearing in the text and inversely proportional to the frequency of the text. We can explain the meaning of $\\text{tfidf}$ for assessing the importance of words as follows: The more important a word is, the more often it will appear in a specific text, such as The text term $d$ is large, i.e. $\\text{tf}(t, d)$ is large; At the same time, the word must not be *stopwords*, that is, the number of texts it appears in the entire small text set, meaning $\\text{idf}(t, D)$ must be large."
   ]
  },
  {
   "cell_type": "markdown",
   "metadata": {},
   "source": [
    "To encode text based on the tfidf method, we use the sklearn package as follows:"
   ]
  },
  {
   "cell_type": "code",
   "execution_count": 6,
   "metadata": {},
   "outputs": [
    {
     "name": "stdout",
     "output_type": "stream",
     "text": [
      "words in dictionary:  ['afternoon' 'again' 'an' 'and' 'bread' 'bring' 'eat' 'evening' 'falling'\n",
      " 'forecast' 'future' 'go' 'grow' 'hanoi' 'has' 'in' 'like' 'likes' 'll'\n",
      " 'makes' 'market' 'me' 'meat' 'my' 'near' 'out' 'portfolio' 'rain'\n",
      " 'recover' 'rice' 'sandwiches' 'she' 'sticky' 'stock' 'stocks' 'the' 'to'\n",
      " 'umbrella' 'weather' 'when' 'will' 'worried']\n",
      "X shape:  (5, 42)\n"
     ]
    }
   ],
   "source": [
    "from sklearn.feature_extraction.text import TfidfVectorizer\n",
    "\n",
    "corpus = [\n",
    "    \"I like to eat meat sandwiches\",\n",
    "    \"She likes to eat bread, and I like to eat sticky rice\",\n",
    "    \"the falling stock market makes me worried\",\n",
    "    \"Stocks will recover in the near future. my portfolio will grow again\",\n",
    "    \"Hanoi weather forecast has rain in the afternoon and evening. I'll bring an umbrella when I go out\"\n",
    "]\n",
    "\n",
    "# Calculate tfidf for each word. max_df to remove stopwords that appear in more than 90% of sentences\n",
    "vectorizer = TfidfVectorizer(max_df = 0.9)\n",
    "# Tokenize and build the vocabulary\n",
    "X = vectorizer.fit_transform(corpus)\n",
    "print(\"words in dictionary: \", vectorizer.get_feature_names_out())\n",
    "print(\"X shape: \", X.shape)"
   ]
  },
  {
   "cell_type": "markdown",
   "metadata": {},
   "source": [
    "We can see that the word \"I\" appears in all sentences and does not carry much meaning of the topic of the sentence, so it can be considered a stopword. By filtering the upper bound of the word's frequency in the text at 90%, we have removed this word from the dictionary."
   ]
  },
  {
   "cell_type": "markdown",
   "metadata": {},
   "source": [
    "Pocket methods can find some contests on kaggle such as <a class=\"reference external\" href=\"https://www.kaggle.com/c/catch-me-if-you-can-intruder-detection-through-webpage-session-tracking\">Catch me if you can competition</a>, <a class=\"reference external\" href=\"https://www.kaggle.com/xiaoml/bag-of-app-id-python-2-27392\">bag of app</a>, <a class=\"reference external\" href=\"http://www.interdigital.com/download/58540a46e3b9659c9f000372\">bag of event</a>."
   ]
  },
  {
   "cell_type": "markdown",
   "metadata": {},
   "source": [
    "### Word2vec Method"
   ]
  },
  {
   "cell_type": "markdown",
   "metadata": {},
   "source": [
    "Word2vec is a group of related models that are used to produce word embeddings. These models are shallow, two-layer neural networks that are trained to reconstruct linguistic contexts of words. Word2vec takes as its input a large corpus of text and produces a vector space, typically of several hundred dimensions, with each unique word in the corpus being assigned a corresponding vector in the space. Word vectors are positioned in the vector space such that words that share common contexts in the corpus are located close to another in the space."
   ]
  },
  {
   "cell_type": "markdown",
   "metadata": {},
   "source": [
    "word2vec is a family of models used to create embedded representations of words. These models are relatively shallow, consisting only of 2-layer neural networks trained to reconstruct the linguistic context for words. Through the word2vec model, each word in a set of documents is represented through a vector in a high-dimensional space, which can be up to hundreds of dimensions, so that words with the same context will be placed closer together in the word2vec model. space.\n",
    "\n",
    "For example, below is an example that after performing word encoding through the word2vec model, the words \"king\", \"queen\", \"man\", \"woman\" have a relationship according to the formula: king - man + woman = queen"
   ]
  },
  {
   "cell_type": "markdown",
   "metadata": {},
   "source": [
    "At a specific position in the sentence we will identify a target word and context words. The target word is the word in the selected position and the context words are the words in the surrounding position that help create a semantic context for the target word.\n",
    "\n",
    "Suppose we have a sentence like this: “I want a blue cup.” If we select a *context window* that includes 3 adjacent words, we will in turn obtain sets of 3 words: “I want one”, “want one”, “a cup”, “colored cup”, “blue cup”. For these sets of three words, the words in the middle will be the target words and the context words will be the words at the beginning and at the end. So we will have pairs of target words and contexts as follows:"
   ]
  },
  {
   "cell_type": "markdown",
   "metadata": {},
   "source": [
    "```python\n",
    "[(('I', 'one'), 'want'), (('want', 'piece'), 'one'), (('one', 'cup'), 'piece'), ( ('cup', 'color'), 'cup'), (('cup', 'blue'), 'color')]\n",
    "```"
   ]
  },
  {
   "cell_type": "markdown",
   "metadata": {},
   "source": [
    "The word2vec model has two main methods are skip-grams and CBOW as follows:"
   ]
  },
  {
   "attachments": {
    "CBOW & Skip-gram.png": {
     "image/png": "[encoded data removed]"
    }
   },
   "cell_type": "markdown",
   "metadata": {},
   "source": [
    "![CBOW & Skip-gram.png](<attachment:CBOW & Skip-gram.png>)"
   ]
  },
  {
   "cell_type": "markdown",
   "metadata": {},
   "source": [
    "#### CBOW Methods"
   ]
  },
  {
   "cell_type": "markdown",
   "metadata": {},
   "source": [
    "For the CBOW model, we will build a supervised learning model using context words as input, such as in the picture the words $w_{t - 2}, w_{t - 1}, w_{t + 1}, w_{t + 2}$ to explain the target word in current position as ${w_t}$"
   ]
  },
  {
   "cell_type": "markdown",
   "metadata": {},
   "source": [
    "The words $w_t$ are encoded as one-hot vectors in a $\\mathbb{R}^d$ dimensional space to be used for training. Here, $d$ is the size of the dictionary. Thus, in the CBOW method, we have 5 input one-hot vectors with the number of dimensions equal to the number of words in the dictionary. These vectors are then reduced in dimensionality through a projection onto a lower-dimensional space, for example, 200 dimensions; this step is called the projection in the image. The result is an embedding vector $e_c \\in \\mathbb{R}^{200}$. Finally, the probability distribution of the target word is predicted through a softmax function applied to the vector $e_c$. The model training process will be based on the cross-entropy form of the softmax function.\n",
    "\n",
    "$$\\mathcal{L}(\\mathbf{y}, \\hat{\\mathbf{y}}) = -\\sum_{i=1}^{d} y_i\\log(\\hat{y}_i)$$"
   ]
  },
  {
   "cell_type": "markdown",
   "metadata": {},
   "source": [
    "Where $\\hat{\\mathbf{y}}$ is the probability of predicting the target word corresponding to the word at index position $i$ in the dictionary, calculated according to the softmax formula:\n",
    "\n",
    "$$\\hat{y_i} = \\frac{\\exp(\\mathbf{w}_{:i}^{\\intercal}\\mathbf{e}_c)}{\\sum_{i=1}^{d}\\exp(\\mathbf{w}_{:i}^{\\intercal}\\mathbf{e}_c)}$$"
   ]
  },
  {
   "cell_type": "markdown",
   "metadata": {},
   "source": [
    "$\\mathbf{w}_{:i} \\in \\mathbb{R}^{200}$ is the parameter vector connecting all nodes of $\\mathbf{e}_c$ to the $i^{th}$ node position of the last layer.\n",
    "\n",
    "After the forward and back propagation process, the model coefficients will be updated and we will obtain a more accurate word representation. An input word will be represented through the CBOW method as the vector $\\mathbf{e}_c$."
   ]
  },
  {
   "cell_type": "code",
   "execution_count": 7,
   "metadata": {},
   "outputs": [
    {
     "name": "stderr",
     "output_type": "stream",
     "text": [
      "[nltk_data] Downloading package gutenberg to\n",
      "[nltk_data]     C:\\Users\\nguye\\AppData\\Roaming\\nltk_data...\n",
      "[nltk_data]   Package gutenberg is already up-to-date!\n",
      "[nltk_data] Downloading package punkt to\n",
      "[nltk_data]     C:\\Users\\nguye\\AppData\\Roaming\\nltk_data...\n",
      "[nltk_data]   Package punkt is already up-to-date!\n"
     ]
    },
    {
     "name": "stdout",
     "output_type": "stream",
     "text": [
      "Vocabulary Size: 13759\n",
      "Vocabulary Sample: [('PAD', 0), ('[', 1), ('The', 2), ('King', 3), ('James', 4), ('Bible', 5), (']', 6), ('Old', 7), ('Testament', 8), ('of', 9)]\n"
     ]
    }
   ],
   "source": [
    "import nltk\n",
    "from nltk.corpus import gutenberg\n",
    "from string import punctuation\n",
    "import torch\n",
    "import torch.nn as nn\n",
    "import torch.optim as optim\n",
    "from torch.utils.data import Dataset, DataLoader\n",
    "\n",
    "# Download Gutenberg corpus\n",
    "nltk.download('gutenberg')\n",
    "nltk.download('punkt')\n",
    "norm_bible = gutenberg.sents('bible-kjv.txt') \n",
    "norm_bible = [' '.join(doc) for doc in norm_bible]\n",
    "\n",
    "# Tokenize the text\n",
    "tokenizer = nltk.tokenize.word_tokenize\n",
    "tokens = [tokenizer(doc) for doc in norm_bible]\n",
    "\n",
    "# Build vocabulary\n",
    "word2id = {'PAD': 0}\n",
    "for sent in tokens:\n",
    "    for word in sent:\n",
    "        if word not in word2id:\n",
    "            word2id[word] = len(word2id)\n",
    "\n",
    "id2word = {v: k for k, v in word2id.items()}\n",
    "vocab_size = len(word2id)\n",
    "\n",
    "print('Vocabulary Size:', vocab_size)\n",
    "print('Vocabulary Sample:', list(word2id.items())[:10])"
   ]
  },
  {
   "cell_type": "code",
   "execution_count": 8,
   "metadata": {},
   "outputs": [
    {
     "name": "stdout",
     "output_type": "stream",
     "text": [
      "Embedding sentence by index:  [[1, 2, 3, 4, 5, 6], [2, 7, 8, 9, 10, 3, 4, 5], [2, 11, 12, 9, 13, 14, 15, 16], [17, 14, 17, 18, 10, 19, 20, 21, 10, 22, 23, 10, 24, 25], [17, 14, 26, 27, 10, 24, 28, 29, 30, 31, 23, 32, 33, 23, 34, 28, 35, 10, 36, 9, 10, 37, 25]]\n"
     ]
    }
   ],
   "source": [
    "# Encode sentences into indices\n",
    "wids = [[word2id[w] for w in doc] for doc in tokens]\n",
    "print('Embedding sentence by index: ', wids[:5])"
   ]
  },
  {
   "cell_type": "code",
   "execution_count": 9,
   "metadata": {},
   "outputs": [
    {
     "name": "stdout",
     "output_type": "stream",
     "text": [
      "Context (X): ['[', 'The', 'James', 'Bible'] -> Target (Y): King\n",
      "Context (X): ['The', 'King', 'Bible', ']'] -> Target (Y): James\n",
      "Context (X): ['The', 'Old', 'of', 'the'] -> Target (Y): Testament\n",
      "Context (X): ['Old', 'Testament', 'the', 'King'] -> Target (Y): of\n",
      "Context (X): ['Testament', 'of', 'King', 'James'] -> Target (Y): the\n",
      "Context (X): ['of', 'the', 'James', 'Bible'] -> Target (Y): King\n",
      "Context (X): ['The', 'First', 'of', 'Moses'] -> Target (Y): Book\n",
      "Context (X): ['First', 'Book', 'Moses', ':'] -> Target (Y): of\n",
      "Context (X): ['Book', 'of', ':', 'Called'] -> Target (Y): Moses\n",
      "Context (X): ['of', 'Moses', 'Called', 'Genesis'] -> Target (Y): :\n",
      "Context (X): ['1', ':', 'In', 'the'] -> Target (Y): 1\n"
     ]
    }
   ],
   "source": [
    "def generate_context_word_pairs(corpus, window_size, vocab_size):\n",
    "    context_length = window_size * 2\n",
    "    for words in corpus:\n",
    "        sentence_length = len(words)\n",
    "        for index, word in enumerate(words):\n",
    "            context_words = []\n",
    "            label_word = word\n",
    "            start = index - window_size\n",
    "            end = index + window_size + 1\n",
    "            context_words = [words[i] for i in range(start, end) if 0 <= i < sentence_length and i != index]\n",
    "            x = torch.nn.functional.pad(torch.tensor(context_words), (0, context_length - len(context_words)), 'constant', 0)\n",
    "            y = torch.nn.functional.one_hot(torch.tensor(label_word), num_classes=vocab_size)\n",
    "            yield x, y\n",
    "\n",
    "# Test this out for some samples\n",
    "i = 0\n",
    "window_size = 2  # context window size\n",
    "for x, y in generate_context_word_pairs(corpus=wids, window_size=window_size, vocab_size=vocab_size):\n",
    "    if 0 not in x:\n",
    "        print('Context (X):', [id2word[w.item()] for w in x], '-> Target (Y):', id2word[y.argmax().item()])\n",
    "        if i == 10:\n",
    "            break\n",
    "        i += 1"
   ]
  },
  {
   "cell_type": "code",
   "execution_count": 11,
   "metadata": {},
   "outputs": [
    {
     "name": "stdout",
     "output_type": "stream",
     "text": [
      "Epoch 1, Loss: 521.7630507946014\n",
      "Epoch 2, Loss: 258.8592987060547\n",
      "Epoch 3, Loss: 175.8490710258484\n",
      "Epoch 4, Loss: 127.66212940216064\n",
      "Epoch 5, Loss: 98.59629130363464\n",
      "Epoch 6, Loss: 79.42006278038025\n",
      "Epoch 7, Loss: 65.96231380105019\n",
      "Epoch 8, Loss: 57.537843093276024\n",
      "Epoch 9, Loss: 51.170799881219864\n",
      "Epoch 10, Loss: 46.32542020827532\n",
      "Epoch 11, Loss: 42.1400792747736\n",
      "Epoch 12, Loss: 39.87142910063267\n",
      "Epoch 13, Loss: 38.94939765334129\n",
      "Epoch 14, Loss: 36.24399475753307\n",
      "Epoch 15, Loss: 35.20298230648041\n",
      "Epoch 16, Loss: 33.837794318795204\n",
      "Epoch 17, Loss: 32.28717716410756\n",
      "Epoch 18, Loss: 31.784702736884356\n",
      "Epoch 19, Loss: 30.50809258967638\n",
      "Epoch 20, Loss: 31.09312973730266\n",
      "Epoch 21, Loss: 29.649346569553018\n",
      "Epoch 22, Loss: 28.88797376677394\n",
      "Epoch 23, Loss: 28.642189282923937\n",
      "Epoch 24, Loss: 28.109546829015017\n",
      "Epoch 25, Loss: 27.68133505806327\n",
      "Epoch 26, Loss: 27.250855254009366\n",
      "Epoch 27, Loss: 27.445099033415318\n",
      "Epoch 28, Loss: 27.152747373096645\n",
      "Epoch 29, Loss: 26.192441053688526\n",
      "Epoch 30, Loss: 25.583230759948492\n",
      "Epoch 31, Loss: 25.82633836567402\n",
      "Epoch 32, Loss: 26.32203298714012\n",
      "Epoch 33, Loss: 25.7085651922971\n",
      "Epoch 34, Loss: 25.584082088433206\n",
      "Epoch 35, Loss: 25.2551154892426\n",
      "Epoch 36, Loss: 25.583719401154667\n",
      "Epoch 37, Loss: 24.536601105704904\n",
      "Epoch 38, Loss: 24.364565581083298\n",
      "Epoch 39, Loss: 24.444814370013773\n",
      "Epoch 40, Loss: 25.083736917935312\n",
      "Epoch 41, Loss: 25.285710211843252\n",
      "Epoch 42, Loss: 25.078666555695236\n",
      "Epoch 43, Loss: 23.605303733609617\n",
      "Epoch 44, Loss: 23.824972248636186\n",
      "Epoch 45, Loss: 24.306566534098238\n",
      "Epoch 46, Loss: 24.33940608194098\n",
      "Epoch 47, Loss: 23.579033307963982\n",
      "Epoch 48, Loss: 23.757173392223194\n",
      "Epoch 49, Loss: 24.126189784146845\n",
      "Epoch 50, Loss: 23.312756803818047\n",
      "Epoch 51, Loss: 23.2806972656399\n",
      "Epoch 52, Loss: 22.97486264584586\n",
      "Epoch 53, Loss: 24.1032747910358\n",
      "Epoch 54, Loss: 23.07327963411808\n",
      "Epoch 55, Loss: 22.86154165584594\n",
      "Epoch 56, Loss: 23.046054095961154\n",
      "Epoch 57, Loss: 22.168097631074488\n",
      "Epoch 58, Loss: 23.206271091476083\n",
      "Epoch 59, Loss: 22.939396440051496\n",
      "Epoch 60, Loss: 22.3398771523498\n",
      "Epoch 61, Loss: 23.105250456370413\n",
      "Epoch 62, Loss: 22.521727619692683\n",
      "Epoch 63, Loss: 22.937966872239485\n",
      "Epoch 64, Loss: 23.019630966708064\n",
      "Epoch 65, Loss: 22.37909762794152\n",
      "Epoch 66, Loss: 22.79073278978467\n",
      "Epoch 67, Loss: 22.236009256914258\n",
      "Epoch 68, Loss: 22.397723596775904\n",
      "Epoch 69, Loss: 22.46013922104612\n",
      "Epoch 70, Loss: 22.20298509299755\n",
      "Epoch 71, Loss: 22.036096598487347\n",
      "Epoch 72, Loss: 21.303327951347455\n",
      "Epoch 73, Loss: 22.379522517323494\n",
      "Epoch 74, Loss: 22.031650170567445\n",
      "Epoch 75, Loss: 22.001350989565253\n",
      "Epoch 76, Loss: 21.755659321555868\n",
      "Epoch 77, Loss: 21.382409617304802\n",
      "Epoch 78, Loss: 22.423442932777107\n",
      "Epoch 79, Loss: 21.57115980051458\n",
      "Epoch 80, Loss: 21.335325894877315\n",
      "Epoch 81, Loss: 22.109425828326494\n",
      "Epoch 82, Loss: 21.05359651055187\n",
      "Epoch 83, Loss: 21.09740994265303\n",
      "Epoch 84, Loss: 21.302807786501944\n",
      "Epoch 85, Loss: 21.159005966037512\n",
      "Epoch 86, Loss: 21.51202405616641\n",
      "Epoch 87, Loss: 21.411255761049688\n",
      "Epoch 88, Loss: 20.711610765894875\n",
      "Epoch 89, Loss: 20.958973811473697\n",
      "Epoch 90, Loss: 20.845837587490678\n",
      "Epoch 91, Loss: 22.110196148976684\n",
      "Epoch 92, Loss: 20.63083148561418\n",
      "Epoch 93, Loss: 21.43801146140322\n",
      "Epoch 94, Loss: 21.140361468540505\n",
      "Epoch 95, Loss: 21.091960958205163\n",
      "Epoch 96, Loss: 21.346855343319476\n",
      "Epoch 97, Loss: 21.54373129364103\n",
      "Epoch 98, Loss: 20.711981161963195\n",
      "Epoch 99, Loss: 20.43649818841368\n",
      "CBOW(\n",
      "  (embedding): Embedding(13759, 100)\n",
      "  (linear1): Linear(in_features=100, out_features=13759, bias=True)\n",
      ")\n"
     ]
    }
   ],
   "source": [
    "# Define the CBOW model using PyTorch\n",
    "class CBOW(nn.Module):\n",
    "    def __init__(self, vocab_size, embed_size):\n",
    "        super(CBOW, self).__init__()\n",
    "        self.embedding = nn.Embedding(vocab_size, embed_size)\n",
    "        self.linear1 = nn.Linear(embed_size, vocab_size)\n",
    "        \n",
    "    def forward(self, x):\n",
    "        embeds = self.embedding(x)\n",
    "        avg_embeds = embeds.mean(dim=1)\n",
    "        out = self.linear1(avg_embeds)\n",
    "        log_probs = torch.nn.functional.log_softmax(out, dim=1)\n",
    "        return log_probs\n",
    "\n",
    "embed_size = 100\n",
    "model = CBOW(vocab_size, embed_size)\n",
    "loss_function = nn.NLLLoss()\n",
    "optimizer = optim.RMSprop(model.parameters(), lr=0.01)\n",
    "\n",
    "# Prepare data for training\n",
    "class ContextTargetDataset(Dataset):\n",
    "    def __init__(self, context_target_pairs):\n",
    "        self.pairs = list(context_target_pairs)\n",
    "\n",
    "    def __len__(self):\n",
    "        return len(self.pairs)\n",
    "\n",
    "    def __getitem__(self, idx):\n",
    "        return self.pairs[idx]\n",
    "\n",
    "context_target_pairs = list(generate_context_word_pairs(corpus=wids[:100], window_size=window_size, vocab_size=vocab_size))\n",
    "dataset = ContextTargetDataset(context_target_pairs)\n",
    "dataloader = DataLoader(dataset, batch_size=32, shuffle=True)\n",
    "\n",
    "# Train the model\n",
    "for epoch in range(1, 100):\n",
    "    total_loss = 0\n",
    "    for context, target in dataloader:\n",
    "        model.zero_grad()\n",
    "        log_probs = model(context)\n",
    "        loss = loss_function(log_probs, target.argmax(dim=1))\n",
    "        loss.backward()\n",
    "        optimizer.step()\n",
    "        total_loss += loss.item()\n",
    "    \n",
    "    print(f'Epoch {epoch}, Loss: {total_loss}')\n",
    "\n",
    "# View model summary\n",
    "print(model)"
   ]
  },
  {
   "cell_type": "markdown",
   "metadata": {},
   "source": [
    "#### Skip-gram Methods\n",
    "\n",
    "The skip-gram method is essentially an inverted version of the CBOW method. We will use the target words as input and predict the context words that project to the target word. As shown in the figure, $\\mathbf{w}_t$ is the target word used as input, the words $\\mathbf{w}_{t-2}, \\mathbf{w}_{t- 1}, \\mathbf{w}_{t+1}, \\mathbf{w}_{t+2}$ are context words that need to be predicted. These words are all encoded into one-hot vectors in the space $\\mathbb{R}^{d}$ Then the one-hot vector will be projected into the space to reduce the data dimension to, for example, 200 afternoon. The output is the vector $\\mathbf{e}_c$ of size 200, which is also the embedded representation of the word in the skip-gram. Finally we use a sigmoid layer to predict whether the target word $\\mathbf{w}_t$ and the background word $\\mathbf{w}_j$ ($\\mathbf{w}_j$ are randomly selected from the dictionary) have the same context?"
   ]
  },
  {
   "cell_type": "code",
   "execution_count": 14,
   "metadata": {},
   "outputs": [],
   "source": [
    "import torch\n",
    "import torch.nn as nn\n",
    "import torch.optim as optim\n",
    "from collections import defaultdict\n",
    "import numpy as np\n",
    "\n",
    "# Function to generate skip-grams\n",
    "def generate_skipgrams(wids, vocab_size, window_size):\n",
    "    skip_grams = []\n",
    "    for idx, word in enumerate(wids):\n",
    "        for neighbor in range(max(idx - window_size, 0), min(idx + window_size + 1, len(wids))):\n",
    "            if neighbor != idx:\n",
    "                skip_grams.append((word, wids[neighbor]))\n",
    "    return skip_grams\n",
    "\n",
    "# Example data\n",
    "wids = [1, 2, 3, 4, 5, 6]  # Example word IDs\n",
    "vocab_size = 10\n",
    "window_size = 2\n",
    "\n",
    "skip_grams = generate_skipgrams(wids[:100], vocab_size, window_size)"
   ]
  },
  {
   "cell_type": "code",
   "execution_count": 15,
   "metadata": {},
   "outputs": [
    {
     "name": "stdout",
     "output_type": "stream",
     "text": [
      "(1, 2)\n",
      "(1, 3)\n",
      "(2, 1)\n",
      "(2, 3)\n",
      "(2, 4)\n",
      "(3, 1)\n",
      "(3, 2)\n",
      "(3, 4)\n",
      "(3, 5)\n",
      "(4, 2)\n"
     ]
    }
   ],
   "source": [
    "# Sample skip-grams\n",
    "pairs = skip_grams[:10]\n",
    "for i in range(10):\n",
    "    print(f\"({pairs[i][0]}, {pairs[i][1]})\")"
   ]
  },
  {
   "cell_type": "code",
   "execution_count": 16,
   "metadata": {},
   "outputs": [
    {
     "name": "stdout",
     "output_type": "stream",
     "text": [
      "SkipGramModel(\n",
      "  (word_embeddings): Embedding(10, 50)\n",
      "  (context_embeddings): Embedding(10, 50)\n",
      ")\n",
      "Epoch: 1, Loss: 4.751020431518555\n",
      "Epoch: 2, Loss: 4.4072651863098145\n",
      "Epoch: 3, Loss: 4.169256687164307\n",
      "Epoch: 4, Loss: 3.9775755405426025\n",
      "Epoch: 5, Loss: 3.813333749771118\n",
      "Epoch: 6, Loss: 3.6677236557006836\n",
      "Epoch: 7, Loss: 3.535808563232422\n",
      "Epoch: 8, Loss: 3.414497137069702\n",
      "Epoch: 9, Loss: 3.301711082458496\n",
      "Epoch: 10, Loss: 3.1959786415100098\n",
      "Epoch: 11, Loss: 3.09621524810791\n",
      "Epoch: 12, Loss: 3.001596450805664\n",
      "Epoch: 13, Loss: 2.9114785194396973\n",
      "Epoch: 14, Loss: 2.8253469467163086\n"
     ]
    }
   ],
   "source": [
    "# Skip-gram model in PyTorch\n",
    "class SkipGramModel(nn.Module):\n",
    "    def __init__(self, vocab_size, embed_size):\n",
    "        super(SkipGramModel, self).__init__()\n",
    "        self.word_embeddings = nn.Embedding(vocab_size, embed_size)\n",
    "        self.context_embeddings = nn.Embedding(vocab_size, embed_size)\n",
    "        \n",
    "    def forward(self, word_input, context_input):\n",
    "        word_embed = self.word_embeddings(word_input)\n",
    "        context_embed = self.context_embeddings(context_input)\n",
    "        score = torch.mul(word_embed, context_embed).sum(1)\n",
    "        return torch.sigmoid(score)\n",
    "\n",
    "embed_size = 50\n",
    "model = SkipGramModel(vocab_size, embed_size)\n",
    "\n",
    "print(model)\n",
    "\n",
    "# Training\n",
    "loss_function = nn.BCELoss()\n",
    "optimizer = optim.RMSprop(model.parameters(), lr=0.001)\n",
    "\n",
    "# Prepare data for training\n",
    "def get_input_output_pairs(skip_grams):\n",
    "    word_input = torch.tensor([pair[0] for pair in skip_grams], dtype=torch.long)\n",
    "    context_input = torch.tensor([pair[1] for pair in skip_grams], dtype=torch.long)\n",
    "    labels = torch.tensor([1] * len(skip_grams), dtype=torch.float32)  # Assuming all pairs are valid\n",
    "    return word_input, context_input, labels\n",
    "\n",
    "# Training loop\n",
    "for epoch in range(1, 15):\n",
    "    total_loss = 0\n",
    "    word_input, context_input, labels = get_input_output_pairs(skip_grams[:100])\n",
    "    \n",
    "    optimizer.zero_grad()\n",
    "    outputs = model(word_input, context_input)\n",
    "    loss = loss_function(outputs, labels)\n",
    "    loss.backward()\n",
    "    optimizer.step()\n",
    "    \n",
    "    total_loss += loss.item()\n",
    "    print(f'Epoch: {epoch}, Loss: {total_loss}')\n"
   ]
  },
  {
   "cell_type": "markdown",
   "metadata": {},
   "source": [
    "Training the word2vec model using a neural network is so we can better understand the neural network structure and how the network works. In fact, to train the word2vec model we can go through the gensim package as follows:"
   ]
  },
  {
   "cell_type": "code",
   "execution_count": 17,
   "metadata": {},
   "outputs": [
    {
     "data": {
      "text/plain": [
       "(209478, 336740)"
      ]
     },
     "execution_count": 17,
     "metadata": {},
     "output_type": "execute_result"
    }
   ],
   "source": [
    "from gensim.models import Word2Vec\n",
    "# Training model with the first 1000 verses in the bible\n",
    "sentences = [[item.lower() for item in doc.split()] for doc in norm_bible[:1000]]\n",
    "model = Word2Vec(sentences, min_count = 1, vector_size = 150, window = 10, sg = 1, workers = 8)\n",
    "model.train(sentences, total_examples = model.corpus_count, epochs = 10)"
   ]
  },
  {
   "cell_type": "code",
   "execution_count": 18,
   "metadata": {},
   "outputs": [
    {
     "name": "stdout",
     "output_type": "stream",
     "text": [
      "embedding vector shape:  (150,)\n"
     ]
    },
    {
     "data": {
      "text/plain": [
       "array([-0.02651765,  0.20900695,  0.2421184 ,  0.13713393, -0.16987683],\n",
       "      dtype=float32)"
      ]
     },
     "execution_count": 18,
     "metadata": {},
     "output_type": "execute_result"
    }
   ],
   "source": [
    "print('embedding vector shape: ', model.wv['king'].shape)\n",
    "model.wv['king'][:5]"
   ]
  },
  {
   "cell_type": "markdown",
   "metadata": {},
   "source": [
    "### Feature Extraction for Image Data"
   ]
  },
  {
   "cell_type": "markdown",
   "metadata": {},
   "source": [
    "In the past when computational resources were limited and the “neural network renaissance” had not really returned, feature mining for image data was a complex field. People have to design manual filters to extract features such as corners, edges, horizontal, vertical, diagonal lines, etc. Algorithms such as HOG, SHIFT are commonly used methods to extract features. . The disadvantage of these methods is that the feature extractor and classifier are separated, so the model has slow training and prediction speed.\n",
    "\n",
    "The thawing period of deep learning has caused the CNN network to grow strongly. Modern CNN network architectures are becoming increasingly deeper and achieving high accuracy. These are end-to-end architectures that allow feature extractors to be attached to classifiers in a single pipeline. The filters also do not need to be initialized manually, on the contrary they are randomly generated according to assumed distributions.\n",
    "\n",
    "Thanks to the available resources of pretrained models, you don't need to figure out the architecture and train the network from scratch. Instead, a state-of-the-art network that has been trained with weights can be downloaded from published sources. Data scientists often make adjustments to adapt these networks to their needs by “decoupling” the final fully connected layers of the network, adding newly designed layers. designed for a specific task, and then train the network on new data. If your task is just to vectorize the image, you can simply remove the last layers and use the output from the previous layers as the feature vector."
   ]
  },
  {
   "cell_type": "markdown",
   "metadata": {},
   "source": [
    "However, we will not focus too much on neural network techniques. Instead, hand-created features are still very useful: for example, for the problem in the Rental Listing Inquiries - Kaggle Competition, to predict the popularity of rental listings, we can assume that the A well-lit apartment will attract more attention and create a new feature like “average pixel value”.\n",
    "\n",
    "Extract text information on images:\n",
    "\n",
    "- OCR (Optical character recognition) is a type of problem that extracts text information from images. They are highly applicable and often yield a lot of information when processing image data.\n",
    "\n",
    "For example, if there is text on an image, you can read it to extract some information through the pytesseract image text detection package."
   ]
  },
  {
   "cell_type": "code",
   "execution_count": null,
   "metadata": {},
   "outputs": [],
   "source": [
    "!pip install tesseract-ocr # Windows"
   ]
  },
  {
   "cell_type": "code",
   "execution_count": null,
   "metadata": {},
   "outputs": [],
   "source": [
    "import requests\n",
    "from io import BytesIO\n",
    "import matplotlib.pyplot as plt\n",
    "import numpy as np\n",
    "from PIL import Image\n",
    "\n",
    "%matplotlib inline\n",
    "\n",
    "##### Just a random picture from search\n",
    "img = 'http://ohscurrent.org/wp-content/uploads/2015/09/domus-01-google.jpg'\n",
    "img = requests.get(img)\n",
    "\n",
    "img = Image.open(BytesIO(img.content))\n",
    "\n",
    "# show image\n",
    "img_arr = np.array(img)\n",
    "plt.imshow(img_arr)"
   ]
  },
  {
   "cell_type": "markdown",
   "metadata": {},
   "source": [
    "### Geographic Data Extraction\n",
    "\n",
    "In python we have a quite popular package for exploiting geographical information, <code>reverse_geocoder</code>. There are two main types of problems with geographic information:\n",
    "\n",
    "- geocoding: encodes a geographic coordinate from an address.\n",
    "\n",
    "- revert geocoding: from the information provided about longitude and latitude, return the address of the location and related information.\n",
    "\n",
    "Both problems can be solved through Google map or OpenStreetMap API. The following is an example of extracting geographic information from a location through longitude and latitude."
   ]
  },
  {
   "cell_type": "code",
   "execution_count": 20,
   "metadata": {},
   "outputs": [
    {
     "name": "stdout",
     "output_type": "stream",
     "text": [
      "Collecting reverse_geocoder\n",
      "  Downloading reverse_geocoder-1.5.1.tar.gz (2.2 MB)\n",
      "     ---------------------------------------- 0.0/2.2 MB ? eta -:--:--\n",
      "     ---------------------------------------- 0.0/2.2 MB ? eta -:--:--\n",
      "      --------------------------------------- 0.0/2.2 MB 262.6 kB/s eta 0:00:09\n",
      "     - -------------------------------------- 0.1/2.2 MB 573.4 kB/s eta 0:00:04\n",
      "     --- ------------------------------------ 0.2/2.2 MB 1.1 MB/s eta 0:00:02\n",
      "     ------- -------------------------------- 0.4/2.2 MB 2.0 MB/s eta 0:00:01\n",
      "     -------------- ------------------------- 0.8/2.2 MB 3.0 MB/s eta 0:00:01\n",
      "     ---------------------- ----------------- 1.3/2.2 MB 4.1 MB/s eta 0:00:01\n",
      "     -------------------------------- ------- 1.8/2.2 MB 5.1 MB/s eta 0:00:01\n",
      "     ---------------------------------------- 2.2/2.2 MB 5.5 MB/s eta 0:00:00\n",
      "  Preparing metadata (setup.py): started\n",
      "  Preparing metadata (setup.py): finished with status 'done'\n",
      "Requirement already satisfied: numpy>=1.11.0 in c:\\users\\nguye\\anaconda3\\lib\\site-packages (from reverse_geocoder) (1.23.5)\n",
      "Requirement already satisfied: scipy>=0.17.1 in c:\\users\\nguye\\anaconda3\\lib\\site-packages (from reverse_geocoder) (1.11.4)\n",
      "Building wheels for collected packages: reverse_geocoder\n",
      "  Building wheel for reverse_geocoder (setup.py): started\n",
      "  Building wheel for reverse_geocoder (setup.py): finished with status 'done'\n",
      "  Created wheel for reverse_geocoder: filename=reverse_geocoder-1.5.1-py3-none-any.whl size=2268081 sha256=94e4f02dc3039b8af5a8dec7a613b3cb535a99beda150b0f63ff6c532de430c9\n",
      "  Stored in directory: c:\\users\\nguye\\appdata\\local\\pip\\cache\\wheels\\17\\3c\\41\\2bc89719586c2a5c53e9a527daa76a968a1288315c1ae2d904\n",
      "Successfully built reverse_geocoder\n",
      "Installing collected packages: reverse_geocoder\n",
      "Successfully installed reverse_geocoder-1.5.1\n"
     ]
    }
   ],
   "source": [
    "!pip install reverse_geocoder"
   ]
  },
  {
   "cell_type": "code",
   "execution_count": 22,
   "metadata": {},
   "outputs": [
    {
     "data": {
      "text/plain": [
       "[{'lat': '34.0339',\n",
       "  'lon': '-118.20535',\n",
       "  'name': 'Boyle Heights',\n",
       "  'admin1': 'California',\n",
       "  'admin2': 'Los Angeles County',\n",
       "  'cc': 'US'}]"
      ]
     },
     "execution_count": 22,
     "metadata": {},
     "output_type": "execute_result"
    }
   ],
   "source": [
    "import reverse_geocoder as revgc\n",
    "\n",
    "# Giving the latitude and longitude\n",
    "revgc.search((34.016596, -118.226501))"
   ]
  },
  {
   "cell_type": "markdown",
   "metadata": {},
   "source": [
    "As we can see, from the coordinates we can know that this apartment is located in Los Angeles, a developed place with a high standard of living. So its price is likely to be higher. From the district and district we can determine whether the apartment is located in the center or not, and the amenities around it. The above information is very important in assessing the sellability of the apartment. Although they do not appear in the original dataset, they can be extracted from geographic coordinates."
   ]
  },
  {
   "cell_type": "markdown",
   "metadata": {},
   "source": [
    "### Time Data Extraction\n",
    "\n",
    "In forecasting, the data often has a changing state. Yesterday's status may be different from today's. Such as a person's height, weight or the market price of stocks. Therefore, time is an information that has a great influence on the target variable. From a known timeline, we can decompose information into hours of the day, days of the month, months, quarters, years, etc. There will be many interesting things to discover from this information. For example, the rules of some number series change according to seasons: Monthly temperatures change according to seasons, GDP changes according to quarterly rules, ice cream sales change according to seasons, etc. The time factor remains. helps determine the changing trend of a variable over time and combined with seasonality, it becomes an important index for estimating time series.\n",
    "\n",
    "One-hot transformation coding is an important method used to encode time-period variables. One-hot coding will transform a variable into vectors with elements of 0 or 1, where 1 represents the occurrence of the feature and 0 represents features that the variable does not have.\n",
    "\n",
    "For example: We have 1 day of the week that can fall from Monday to Sunday. Thus a one-hot encoding representation of day 2 would be a vector with the first element equal to 1 and the remaining elements equal to 0. This representation is similar to encoding text data into sparse vector.\n",
    "\n",
    "In python we can use the weekday() function to determine the order of a day of the week. The weekday() property only exists for datetime data. Therefore, we need to convert date variables that are in string format to datetime format through strftime (string format time). The string format time table can be viewed here."
   ]
  },
  {
   "cell_type": "code",
   "execution_count": 23,
   "metadata": {},
   "outputs": [
    {
     "name": "stdout",
     "output_type": "stream",
     "text": [
      "datetime64[ns]\n"
     ]
    }
   ],
   "source": [
    "from datetime import datetime\n",
    "import pandas as pd\n",
    "\n",
    "dataset = pd.DataFrame({'created': ['2021-08-13 00:00:00', '2021-08-12 00:00:00', '2021-08-11 00:00:00', \n",
    "                                    '2021-08-10 00:00:00', '2021-08-09 00:00:00', '2021-08-08 00:00:00', '2021-08-07 00:00:00']})\n",
    "\n",
    "def parser(x):\n",
    "    # Để biết được định dạng strftime của một chuỗi kí tự ta phải tra trong bàng string format time\n",
    "    return datetime.strptime(x, '%Y-%m-%d %H:%M:%S')\n",
    "\n",
    "dataset['created'] = dataset['created'].map(lambda x: parser(x))\n",
    "print(dataset['created'].dtypes)"
   ]
  },
  {
   "cell_type": "markdown",
   "metadata": {},
   "source": [
    "So the created variable has been converted to datetime format. We can create a one-hot encoding based on the weekday() function"
   ]
  },
  {
   "cell_type": "code",
   "execution_count": 24,
   "metadata": {},
   "outputs": [
    {
     "data": {
      "text/plain": [
       "0    4\n",
       "1    3\n",
       "2    2\n",
       "3    1\n",
       "4    0\n",
       "5    6\n",
       "6    5\n",
       "Name: weekday, dtype: int64"
      ]
     },
     "execution_count": 24,
     "metadata": {},
     "output_type": "execute_result"
    }
   ],
   "source": [
    "dataset['weekday'] = dataset['created'].apply(lambda x: x.date().weekday())\n",
    "dataset['weekday']"
   ]
  },
  {
   "cell_type": "markdown",
   "metadata": {},
   "source": [
    "We can create a variable that returns the status of whether a day is a weekend by checking whether weekday() falls in [5, 6], which is a weekend day or not."
   ]
  },
  {
   "cell_type": "code",
   "execution_count": 25,
   "metadata": {},
   "outputs": [
    {
     "data": {
      "text/plain": [
       "0    0\n",
       "1    0\n",
       "2    0\n",
       "3    0\n",
       "4    0\n",
       "5    1\n",
       "6    1\n",
       "Name: is_weekend, dtype: int64"
      ]
     },
     "execution_count": 25,
     "metadata": {},
     "output_type": "execute_result"
    }
   ],
   "source": [
    "dataset['is_weekend'] = dataset['created'].apply(lambda x: 1 if x.date().weekday() in [5, 6] else 0)\n",
    "dataset['is_weekend']"
   ]
  },
  {
   "cell_type": "markdown",
   "metadata": {},
   "source": [
    "In some problems the data may be time dependent. For example, a credit card repayment schedule will fall on the statement period on a specific day of the month. When working with time series data, we should pay attention to the list of special days of the year such as Lunar New Year holiday, National Day, International Labor Day, etc. Because these days will often have large fluctuations in data. business materials."
   ]
  },
  {
   "cell_type": "markdown",
   "metadata": {},
   "source": [
    "### Data from website, blog, log"
   ]
  },
  {
   "cell_type": "markdown",
   "metadata": {},
   "source": [
    "Large website systems will track user sessions. Tracked information includes device information, event type, customer ID, etc. From the customer ID, they can link to the user database to know information about gender, age, account, and transaction behavior. ,... In some cases a customer can change the access device, so in most cases we cannot map the session with the Customer ID on local data. However, the information stored in Cookies about the user (also known as the user agent) also provides us with many things. For example: Access devices, browsers, operating systems, etc. From mobile devices, we can also estimate the user's income level: If you use IPhone High income people, using Xiaomi phones, are likely to be middle and low income people, etc. To classify information about users, we can use the <code>user_agents</code> package in python."
   ]
  },
  {
   "cell_type": "code",
   "execution_count": 26,
   "metadata": {},
   "outputs": [
    {
     "name": "stdout",
     "output_type": "stream",
     "text": [
      "Collecting user_agents\n",
      "  Downloading user_agents-2.2.0-py3-none-any.whl.metadata (7.9 kB)\n",
      "Collecting ua-parser>=0.10.0 (from user_agents)\n",
      "  Downloading ua_parser-0.18.0-py2.py3-none-any.whl.metadata (1.4 kB)\n",
      "Downloading user_agents-2.2.0-py3-none-any.whl (9.6 kB)\n",
      "Downloading ua_parser-0.18.0-py2.py3-none-any.whl (38 kB)\n",
      "Installing collected packages: ua-parser, user_agents\n",
      "Successfully installed ua-parser-0.18.0 user_agents-2.2.0\n"
     ]
    }
   ],
   "source": [
    "!pip install user_agents"
   ]
  },
  {
   "cell_type": "code",
   "execution_count": 27,
   "metadata": {},
   "outputs": [
    {
     "name": "stdout",
     "output_type": "stream",
     "text": [
      "Is a bot?  False\n",
      "Is mobile?  False\n",
      "Is PC?  True\n",
      "OS Family:  Ubuntu\n",
      "OS Version:  ()\n",
      "Browser Family:  Chromium\n",
      "Browser Version:  (56, 0, 2924)\n"
     ]
    }
   ],
   "source": [
    "import user_agents\n",
    "# Assume there is a user agent as below\n",
    "ua = 'Mozilla/5.0 (X11; Linux x86_64) AppleWebKit/537.36 (KHTML, like Gecko) Ubuntu Chromium/56.0.2924.76 Chrome/56.0.2924.76 Safari/537.36'\n",
    "# Parser user agent information\n",
    "ua = user_agents.parse(ua)\n",
    "# Exploit user attributes\n",
    "print('Is a bot? ', ua.is_bot)\n",
    "print('Is mobile? ', ua.is_mobile)\n",
    "print('Is PC? ',ua.is_pc)\n",
    "print('OS Family: ',ua.os.family)\n",
    "print('OS Version: ',ua.os.version)\n",
    "print('Browser Family: ',ua.browser.family)\n",
    "print('Browser Version: ',ua.browser.version)"
   ]
  },
  {
   "cell_type": "markdown",
   "metadata": {},
   "source": [
    "## Feature Transformation"
   ]
  },
  {
   "cell_type": "markdown",
   "metadata": {},
   "source": [
    "## Feature Selection"
   ]
  }
 ],
 "metadata": {
  "kernelspec": {
   "display_name": "base",
   "language": "python",
   "name": "python3"
  },
  "language_info": {
   "codemirror_mode": {
    "name": "ipython",
    "version": 3
   },
   "file_extension": ".py",
   "mimetype": "text/x-python",
   "name": "python",
   "nbconvert_exporter": "python",
   "pygments_lexer": "ipython3",
   "version": "3.11.7"
  }
 },
 "nbformat": 4,
 "nbformat_minor": 2
}
