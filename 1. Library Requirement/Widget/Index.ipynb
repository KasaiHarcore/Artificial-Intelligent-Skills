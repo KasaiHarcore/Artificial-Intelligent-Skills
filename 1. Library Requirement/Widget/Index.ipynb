{
  "cells": [
    {
      "cell_type": "markdown",
      "metadata": {},
      "source": [
        "Back to the main [Index](../Index.ipynb)"
      ]
    },
    {
      "cell_type": "markdown",
      "metadata": {},
      "source": [
        "# Interactive Widgets"
      ]
    },
    {
      "cell_type": "markdown",
      "metadata": {},
      "source": [
        "IPython includes an architecture for interactive widgets that tie together Python code running in the kernel and JavaScript/HTML/CSS  running in the browser. These widgets enable users to explore their code and data interactively."
      ]
    },
    {
      "cell_type": "markdown",
      "metadata": {},
      "source": [
        "## Tutorials"
      ]
    },
    {
      "cell_type": "markdown",
      "metadata": {},
      "source": [
        "- [Using Interact](Using%20Interact.ipynb)\n",
        "- [Widget Basics](Widget%20Basics.ipynb)  \n",
        "- [Widget Events](Widget%20Events.ipynb)  \n",
        "- [Widget List](Widget%20List.ipynb)  \n",
        "- [Widget Styling](Widget%20Styling.ipynb)\n",
        "- [Layout Templates](Layout%20Templates.ipynb)\n",
        "- [Custom Widget Tutorial](Widget%20Custom.ipynb)\n",
        "- [Widget Asynchronous](Widget%20Asynchronous.ipynb): how to pause and listen in the kernel for widget changes in the frontend."
      ]
    },
    {
      "cell_type": "markdown",
      "metadata": {},
      "source": [
        "## Examples of custom widgets"
      ]
    },
    {
      "cell_type": "markdown",
      "metadata": {},
      "source": [
        "- [Variable Inspector](Variable%20Inspector.ipynb)  \n",
        "- [Export As (nbconvert)](Export As (nbconvert%29.ipynb)"
      ]
    },
    {
      "cell_type": "markdown",
      "metadata": {},
      "source": [
        "## Examples using `interact`/`interactive`"
      ]
    },
    {
      "cell_type": "markdown",
      "metadata": {},
      "source": [
        "* [Beat Frequencies](Beat%20Frequencies.ipynb)\n",
        "* [Exploring Graphs](Exploring%20Graphs.ipynb)\n",
        "* [Factoring](Factoring.ipynb)\n",
        "* [Image Browser](Image%20Browser.ipynb)\n",
        "* [Image Processing](Image%20Processing.ipynb)\n",
        "* [Lorenz Differential Equations](Lorenz%20Differential%20Equations.ipynb)"
      ]
    }
  ],
  "metadata": {
    "kernelspec": {
      "display_name": "Python 3",
      "language": "python",
      "name": "python3"
    },
    "language_info": {
      "codemirror_mode": {
        "name": "ipython",
        "version": 3
      },
      "file_extension": ".py",
      "mimetype": "text/x-python",
      "name": "python",
      "nbconvert_exporter": "python",
      "pygments_lexer": "ipython3",
      "version": "3.6.2"
    }
  },
  "nbformat": 4,
  "nbformat_minor": 2
}