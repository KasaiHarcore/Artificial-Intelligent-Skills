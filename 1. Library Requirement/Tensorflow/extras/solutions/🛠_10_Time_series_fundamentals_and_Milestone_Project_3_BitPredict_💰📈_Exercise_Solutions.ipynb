{
  "nbformat": 4,
  "nbformat_minor": 0,
  "metadata": {
    "colab": {
      "name": "🛠_10. Time series fundamentals and Milestone Project 3: BitPredict 💰📈 Exercise Solutions.ipynb",
      "provenance": [],
      "collapsed_sections": [],
      "include_colab_link": true
    },
    "kernelspec": {
      "name": "python3",
      "display_name": "Python 3"
    },
    "language_info": {
      "name": "python"
    }
  },
  "cells": [
    {
      "cell_type": "markdown",
      "metadata": {
        "id": "view-in-github",
        "colab_type": "text"
      },
      "source": [
        "<a href=\"https://colab.research.google.com/github/ashikshafi08/Zero-to-Mastery-TensorFlow-for-Deep-Learning-Exercise-Solutions/blob/main/%F0%9F%9B%A0_10_Time_series_fundamentals_and_Milestone_Project_3_BitPredict_%F0%9F%92%B0%F0%9F%93%88_Exercise_Solutions.ipynb\" target=\"_parent\"><img src=\"https://colab.research.google.com/assets/colab-badge.svg\" alt=\"Open In Colab\"/></a>"
      ]
    },
    {
      "cell_type": "markdown",
      "metadata": {
        "id": "n9BhPZ1Tx4bm"
      },
      "source": [
        "# 🛠 10. Time series fundamentals and Milestone Project 3: BitPredict 💰📈 Exercise Solutions \n",
        "\n",
        "1. Does scaling the data help for univariate/multivariate data? (e.g. getting all of the values between 0 & 1)\n",
        "    * Try doing this for a univariate model (e.g. model_1) and a multivariate model (e.g. model_6) and see if it effects model training or evaluation results.\n",
        "2. Get the most up to date data on Bitcoin, train a model & see how it goes (our data goes up to May 18 2021).\n",
        "    * You can download the Bitcoin historical data for free from  [coindesk.com/price/bitcoin](https://www.coindesk.com/price/bitcoin)  and clicking “Export Data” -> “CSV”.\n",
        "3. For most of our models we used WINDOW_SIZE=7, but is there a better window size?\n",
        "    * Setup a series of experiments to find whether or not there’s a better window size.\n",
        "    * For example, you might train 10 different models with HORIZON=1 but with window sizes ranging from 2-12.\n",
        "4. Create a windowed dataset just like the ones we used for model_1 using  [tf.keras.preprocessing.timeseries_dataset_from_array()](https://www.tensorflow.org/api_docs/python/tf/keras/preprocessing/timeseries_dataset_from_array)  and retrain model_1 using the recreated dataset.\n",
        "5. For our multivariate modelling experiment, we added the Bitcoin block reward size as an extra feature to make our time series multivariate.\n",
        "    * Are there any other features you think you could add?\n",
        "    * If so, try it out, how do these affect the model?\n",
        "6. Make prediction intervals for future forecasts. To do so, one way would be to train an ensemble model on all of the data, make future forecasts with it and calculate the prediction intervals of the ensemble just like we did for model_8.\n",
        "7. For future predictions, try to make a prediction, retrain a model on the predictions, make a prediction, retrain a model, make a prediction, retrain a model, make a prediction (retrain a model each time a new prediction is made). Plot the results, how do they look compared to the future predictions where a model wasn’t retrained for every forecast (model_9)?\n",
        "8. Throughout this notebook, we’ve only tried algorithms we’ve handcrafted ourselves. But it’s worth seeing how a purpose built forecasting algorithm goes.\n",
        "    * Try out one of the extra algorithms listed in the modelling experiments part such as:\n",
        "\t*  [Facebook’s Kats library](https://github.com/facebookresearch/Kats)  - there are many models in here, remember the machine learning practioner’s motto: experiment, experiment, experiment.\n",
        "\t*  [LinkedIn’s Greykite library](https://github.com/linkedin/greykite) \n"
      ]
    },
    {
      "cell_type": "markdown",
      "metadata": {
        "id": "VT9614RIyCCl"
      },
      "source": [
        "## Downloading the data and preprocessing it "
      ]
    },
    {
      "cell_type": "code",
      "metadata": {
        "colab": {
          "base_uri": "https://localhost:8080/",
          "height": 422
        },
        "id": "aZe0Y63IyQgT",
        "outputId": "ca46e0cc-c761-4f3c-afa3-e6217144aadc"
      },
      "source": [
        "# Download Bitcoin historical data from GitHub \n",
        "!wget https://raw.githubusercontent.com/mrdbourke/tensorflow-deep-learning/main/extras/BTC_USD_2013-10-01_2021-05-18-CoinDesk.csv\n",
        "\n",
        "# Import with pandas \n",
        "import pandas as pd\n",
        "df = pd.read_csv(\"/content/BTC_USD_2013-10-01_2021-05-18-CoinDesk.csv\", \n",
        "                 parse_dates=[\"Date\"], \n",
        "                 index_col=[\"Date\"]) # parse the date column (tell pandas column 1 is a datetime)\n",
        "df.head()"
      ],
      "execution_count": 1,
      "outputs": [
        {
          "output_type": "stream",
          "name": "stdout",
          "text": [
            "--2021-09-14 10:00:47--  https://raw.githubusercontent.com/mrdbourke/tensorflow-deep-learning/main/extras/BTC_USD_2013-10-01_2021-05-18-CoinDesk.csv\n",
            "Resolving raw.githubusercontent.com (raw.githubusercontent.com)... 185.199.108.133, 185.199.109.133, 185.199.110.133, ...\n",
            "Connecting to raw.githubusercontent.com (raw.githubusercontent.com)|185.199.108.133|:443... connected.\n",
            "HTTP request sent, awaiting response... 200 OK\n",
            "Length: 178509 (174K) [text/plain]\n",
            "Saving to: ‘BTC_USD_2013-10-01_2021-05-18-CoinDesk.csv’\n",
            "\n",
            "\r          BTC_USD_2   0%[                    ]       0  --.-KB/s               \rBTC_USD_2013-10-01_ 100%[===================>] 174.33K  --.-KB/s    in 0.02s   \n",
            "\n",
            "2021-09-14 10:00:47 (7.01 MB/s) - ‘BTC_USD_2013-10-01_2021-05-18-CoinDesk.csv’ saved [178509/178509]\n",
            "\n"
          ]
        },
        {
          "output_type": "execute_result",
          "data": {
            "text/html": [
              "<div>\n",
              "<style scoped>\n",
              "    .dataframe tbody tr th:only-of-type {\n",
              "        vertical-align: middle;\n",
              "    }\n",
              "\n",
              "    .dataframe tbody tr th {\n",
              "        vertical-align: top;\n",
              "    }\n",
              "\n",
              "    .dataframe thead th {\n",
              "        text-align: right;\n",
              "    }\n",
              "</style>\n",
              "<table border=\"1\" class=\"dataframe\">\n",
              "  <thead>\n",
              "    <tr style=\"text-align: right;\">\n",
              "      <th></th>\n",
              "      <th>Currency</th>\n",
              "      <th>Closing Price (USD)</th>\n",
              "      <th>24h Open (USD)</th>\n",
              "      <th>24h High (USD)</th>\n",
              "      <th>24h Low (USD)</th>\n",
              "    </tr>\n",
              "    <tr>\n",
              "      <th>Date</th>\n",
              "      <th></th>\n",
              "      <th></th>\n",
              "      <th></th>\n",
              "      <th></th>\n",
              "      <th></th>\n",
              "    </tr>\n",
              "  </thead>\n",
              "  <tbody>\n",
              "    <tr>\n",
              "      <th>2013-10-01</th>\n",
              "      <td>BTC</td>\n",
              "      <td>123.65499</td>\n",
              "      <td>124.30466</td>\n",
              "      <td>124.75166</td>\n",
              "      <td>122.56349</td>\n",
              "    </tr>\n",
              "    <tr>\n",
              "      <th>2013-10-02</th>\n",
              "      <td>BTC</td>\n",
              "      <td>125.45500</td>\n",
              "      <td>123.65499</td>\n",
              "      <td>125.75850</td>\n",
              "      <td>123.63383</td>\n",
              "    </tr>\n",
              "    <tr>\n",
              "      <th>2013-10-03</th>\n",
              "      <td>BTC</td>\n",
              "      <td>108.58483</td>\n",
              "      <td>125.45500</td>\n",
              "      <td>125.66566</td>\n",
              "      <td>83.32833</td>\n",
              "    </tr>\n",
              "    <tr>\n",
              "      <th>2013-10-04</th>\n",
              "      <td>BTC</td>\n",
              "      <td>118.67466</td>\n",
              "      <td>108.58483</td>\n",
              "      <td>118.67500</td>\n",
              "      <td>107.05816</td>\n",
              "    </tr>\n",
              "    <tr>\n",
              "      <th>2013-10-05</th>\n",
              "      <td>BTC</td>\n",
              "      <td>121.33866</td>\n",
              "      <td>118.67466</td>\n",
              "      <td>121.93633</td>\n",
              "      <td>118.00566</td>\n",
              "    </tr>\n",
              "  </tbody>\n",
              "</table>\n",
              "</div>"
            ],
            "text/plain": [
              "           Currency  Closing Price (USD)  ...  24h High (USD)  24h Low (USD)\n",
              "Date                                      ...                               \n",
              "2013-10-01      BTC            123.65499  ...       124.75166      122.56349\n",
              "2013-10-02      BTC            125.45500  ...       125.75850      123.63383\n",
              "2013-10-03      BTC            108.58483  ...       125.66566       83.32833\n",
              "2013-10-04      BTC            118.67466  ...       118.67500      107.05816\n",
              "2013-10-05      BTC            121.33866  ...       121.93633      118.00566\n",
              "\n",
              "[5 rows x 5 columns]"
            ]
          },
          "metadata": {},
          "execution_count": 1
        }
      ]
    },
    {
      "cell_type": "code",
      "metadata": {
        "colab": {
          "base_uri": "https://localhost:8080/"
        },
        "id": "1LQW1xGSyYDv",
        "outputId": "4c8fbe15-08e3-414d-cad7-0229cbaf6dc8"
      },
      "source": [
        "# Only want closing price for each day \n",
        "bitcoin_prices = pd.DataFrame(df[\"Closing Price (USD)\"]).rename(columns={\"Closing Price (USD)\": \"Price\"})\n",
        "bitcoin_prices.head() , bitcoin_prices.shape"
      ],
      "execution_count": 2,
      "outputs": [
        {
          "output_type": "execute_result",
          "data": {
            "text/plain": [
              "(                Price\n",
              " Date                 \n",
              " 2013-10-01  123.65499\n",
              " 2013-10-02  125.45500\n",
              " 2013-10-03  108.58483\n",
              " 2013-10-04  118.67466\n",
              " 2013-10-05  121.33866, (2787, 1))"
            ]
          },
          "metadata": {},
          "execution_count": 2
        }
      ]
    },
    {
      "cell_type": "code",
      "metadata": {
        "id": "gIlIWPTWD6z_"
      },
      "source": [
        "# Get the data in array \n",
        "import numpy as np\n",
        "import tensorflow as tf \n",
        "from tensorflow.keras import layers\n",
        "\n",
        "timesteps = bitcoin_prices.index.to_numpy()\n",
        "prices = bitcoin_prices['Price'].to_numpy()\n",
        "\n",
        "# Instantiating the sklearn MinMaxScaler\n",
        "from sklearn.preprocessing import MinMaxScaler\n",
        "\n",
        "scaler = MinMaxScaler() "
      ],
      "execution_count": 3,
      "outputs": []
    },
    {
      "cell_type": "code",
      "metadata": {
        "id": "7eynNXXID68q"
      },
      "source": [
        "# Create function to view NumPy arrays as windows \n",
        "\n",
        "def get_labelled_windows(x , horizon):\n",
        "  return x[:, :-horizon] ,x[: , -horizon:]\n",
        "\n",
        "\n",
        "def make_windows_scaled(x, window_size=7, horizon=1):\n",
        "  \"\"\"\n",
        "  Turns a 1D array into a 2D array of sequential windows of window_size. Also applies the standard scaler\n",
        "  \"\"\"\n",
        "  scaler.fit(np.expand_dims(x , axis =1))\n",
        "  scaled_x = scaler.transform(np.expand_dims(x , axis = 1))\n",
        "  scaled_x = np.squeeze(scaled_x)\n",
        "  \n",
        "  window_step = np.expand_dims(np.arange(window_size+horizon), axis=0)\n",
        "  window_indexes = window_step + np.expand_dims(np.arange(len(scaled_x)-(window_size+horizon-1)), axis=0).T # create 2D array of windows of size window_size\n",
        "  windowed_array = scaled_x[window_indexes]\n",
        "  windows, labels = get_labelled_windows(windowed_array, horizon=horizon)\n",
        "\n",
        "  return windows, labels\n",
        "\n",
        "\n",
        "# Make the splits \n",
        "def make_train_test_splits(windows , labels , test_split = 0.2):\n",
        "  split_size = int(len(windows) * (1 - test_split))\n",
        "  train_windows = windows[:split_size]\n",
        "  train_labels = labels[:split_size]\n",
        "  test_windows = windows[split_size:]\n",
        "  test_labels = labels[split_size:]\n",
        "\n",
        "  return train_windows ,  test_windows ,train_labels,  test_labels"
      ],
      "execution_count": 4,
      "outputs": []
    },
    {
      "cell_type": "markdown",
      "metadata": {
        "id": "7dItohLM1Ozr"
      },
      "source": [
        "### 1. Does scaling the data help for univariate/multivariate data? (e.g. getting all of the values between 0 & 1)\n",
        "* Try doing this for a univariate model (e.g. model_1) and a multivariate model (e.g. model_6) and see if it effects model training or evaluation results."
      ]
    },
    {
      "cell_type": "code",
      "metadata": {
        "colab": {
          "base_uri": "https://localhost:8080/"
        },
        "id": "9S-J_3Tkzfto",
        "outputId": "d6d7d189-7df8-4b4f-e8ec-37cbc575ccb8"
      },
      "source": [
        "# Model 1 (Horizon = 1 , Window_size = 7)\n",
        "HORIZON = 1 \n",
        "WINDOW_SIZE = 7 \n",
        "\n",
        "\n",
        "full_windows , full_labels = make_windows_scaled(prices , window_size = WINDOW_SIZE , horizon = HORIZON)\n",
        "full_windows.shape , full_labels.shape"
      ],
      "execution_count": 5,
      "outputs": [
        {
          "output_type": "execute_result",
          "data": {
            "text/plain": [
              "((2780, 7), (2780, 1))"
            ]
          },
          "metadata": {},
          "execution_count": 5
        }
      ]
    },
    {
      "cell_type": "code",
      "metadata": {
        "colab": {
          "base_uri": "https://localhost:8080/"
        },
        "id": "TL8e6Iz9NOUX",
        "outputId": "f2c97dff-8cf7-42ca-be72-98fcb93b8139"
      },
      "source": [
        "# Looking at few examples of how price is scaled\n",
        "for i in range(3):\n",
        "  print(f'Window: {full_windows[i]} --> Label {full_labels[i]}')"
      ],
      "execution_count": 6,
      "outputs": [
        {
          "output_type": "stream",
          "name": "stdout",
          "text": [
            "Window: [0.00023831 0.00026677 0.         0.00015955 0.00020168 0.00019087\n",
            " 0.0002089 ] --> Label [0.00022847]\n",
            "Window: [0.00026677 0.         0.00015955 0.00020168 0.00019087 0.0002089\n",
            " 0.00022847] --> Label [0.00024454]\n",
            "Window: [0.         0.00015955 0.00020168 0.00019087 0.0002089  0.00022847\n",
            " 0.00024454] --> Label [0.00027478]\n"
          ]
        }
      ]
    },
    {
      "cell_type": "code",
      "metadata": {
        "colab": {
          "base_uri": "https://localhost:8080/"
        },
        "id": "mmHd26QZFZDU",
        "outputId": "6d5db718-1c2e-4c5a-a828-df1de1746e51"
      },
      "source": [
        "# Making train and test splits \n",
        "train_windows , test_windows , train_labels , test_labels = make_train_test_splits(full_windows , full_labels)\n",
        "len(train_windows), len(test_windows), len(train_labels), len(test_labels)"
      ],
      "execution_count": 7,
      "outputs": [
        {
          "output_type": "execute_result",
          "data": {
            "text/plain": [
              "(2224, 556, 2224, 556)"
            ]
          },
          "metadata": {},
          "execution_count": 7
        }
      ]
    },
    {
      "cell_type": "code",
      "metadata": {
        "id": "A2dT3_hqyejt",
        "colab": {
          "base_uri": "https://localhost:8080/"
        },
        "outputId": "d40af1bc-75e1-473a-cbb4-508e6a27b134"
      },
      "source": [
        "# Building the Model 1 \n",
        "tf.random.set_seed(42)\n",
        "\n",
        "# Construct the model \n",
        "model_1 = tf.keras.Sequential([\n",
        "  layers.Dense(128, activation= 'relu') ,\n",
        "  layers.Dense(HORIZON , activation = 'linear')\n",
        "])\n",
        "\n",
        "# Compiling the model \n",
        "model_1.compile(loss = 'mae' , \n",
        "                optimizer = tf.keras.optimizers.Adam() , \n",
        "                metrics = ['mae'])\n",
        "\n",
        "# Fit the model \n",
        "model_1.fit(x = train_windows , \n",
        "            y = train_labels , \n",
        "            epochs = 100 , batch_size = 128 , verbose = 0 , \n",
        "            validation_data = (test_windows , test_labels))"
      ],
      "execution_count": 8,
      "outputs": [
        {
          "output_type": "execute_result",
          "data": {
            "text/plain": [
              "<keras.callbacks.History at 0x7f5f2a3b99d0>"
            ]
          },
          "metadata": {},
          "execution_count": 8
        }
      ]
    },
    {
      "cell_type": "code",
      "metadata": {
        "id": "2MwuA2gI0t2B",
        "colab": {
          "base_uri": "https://localhost:8080/"
        },
        "outputId": "ea19048b-4e04-4f2b-9415-bad836e1b1cf"
      },
      "source": [
        "# Evaluate the model on test data \n",
        "model_1.evaluate(test_windows , test_labels)"
      ],
      "execution_count": 9,
      "outputs": [
        {
          "output_type": "stream",
          "name": "stdout",
          "text": [
            "18/18 [==============================] - 0s 1ms/step - loss: 0.0093 - mae: 0.0093\n"
          ]
        },
        {
          "output_type": "execute_result",
          "data": {
            "text/plain": [
              "[0.00931711308658123, 0.00931711308658123]"
            ]
          },
          "metadata": {},
          "execution_count": 9
        }
      ]
    },
    {
      "cell_type": "code",
      "metadata": {
        "id": "kh7sqPOjNo8V"
      },
      "source": [
        "# Making predictions \n",
        "model_1_preds = tf.squeeze(model_1.predict(test_windows))"
      ],
      "execution_count": 10,
      "outputs": []
    },
    {
      "cell_type": "markdown",
      "metadata": {
        "id": "pMNXeHUWXcEI"
      },
      "source": [
        "Now doing the same for the Multivariate data especially for the Model 6"
      ]
    },
    {
      "cell_type": "code",
      "metadata": {
        "colab": {
          "base_uri": "https://localhost:8080/",
          "height": 235
        },
        "id": "6HoW1S6TXhvD",
        "outputId": "2fcb88b1-f66f-4c0f-ac7d-3901f6641561"
      },
      "source": [
        "# Block reward values\n",
        "block_reward_1 = 50 # 3 January 2009 \n",
        "block_reward_2 = 25 # 28 November 2012 \n",
        "block_reward_3 = 12.5 # 9 July 2016\n",
        "block_reward_4 = 6.25 # 11 May 2020\n",
        "\n",
        "# Block reward dates (datetime form of the above date stamps)\n",
        "block_reward_2_datetime = np.datetime64(\"2012-11-28\")\n",
        "block_reward_3_datetime = np.datetime64(\"2016-07-09\")\n",
        "block_reward_4_datetime = np.datetime64(\"2020-05-11\")\n",
        "\n",
        "# Get date indexes for when to add in different block dates\n",
        "block_reward_2_days = (block_reward_3_datetime - bitcoin_prices.index[0]).days\n",
        "block_reward_3_days = (block_reward_4_datetime - bitcoin_prices.index[0]).days\n",
        "block_reward_2_days, block_reward_3_days\n",
        "\n",
        "# Add block_reward column\n",
        "bitcoin_prices_block = bitcoin_prices.copy()\n",
        "bitcoin_prices_block[\"block_reward\"] = None\n",
        "\n",
        "# Set values of block_reward column (it's the last column hence -1 indexing on iloc)\n",
        "bitcoin_prices_block.iloc[:block_reward_2_days, -1] = block_reward_2\n",
        "bitcoin_prices_block.iloc[block_reward_2_days:block_reward_3_days, -1] = block_reward_3\n",
        "bitcoin_prices_block.iloc[block_reward_3_days:, -1] = block_reward_4\n",
        "bitcoin_prices_block.head()"
      ],
      "execution_count": 11,
      "outputs": [
        {
          "output_type": "execute_result",
          "data": {
            "text/html": [
              "<div>\n",
              "<style scoped>\n",
              "    .dataframe tbody tr th:only-of-type {\n",
              "        vertical-align: middle;\n",
              "    }\n",
              "\n",
              "    .dataframe tbody tr th {\n",
              "        vertical-align: top;\n",
              "    }\n",
              "\n",
              "    .dataframe thead th {\n",
              "        text-align: right;\n",
              "    }\n",
              "</style>\n",
              "<table border=\"1\" class=\"dataframe\">\n",
              "  <thead>\n",
              "    <tr style=\"text-align: right;\">\n",
              "      <th></th>\n",
              "      <th>Price</th>\n",
              "      <th>block_reward</th>\n",
              "    </tr>\n",
              "    <tr>\n",
              "      <th>Date</th>\n",
              "      <th></th>\n",
              "      <th></th>\n",
              "    </tr>\n",
              "  </thead>\n",
              "  <tbody>\n",
              "    <tr>\n",
              "      <th>2013-10-01</th>\n",
              "      <td>123.65499</td>\n",
              "      <td>25</td>\n",
              "    </tr>\n",
              "    <tr>\n",
              "      <th>2013-10-02</th>\n",
              "      <td>125.45500</td>\n",
              "      <td>25</td>\n",
              "    </tr>\n",
              "    <tr>\n",
              "      <th>2013-10-03</th>\n",
              "      <td>108.58483</td>\n",
              "      <td>25</td>\n",
              "    </tr>\n",
              "    <tr>\n",
              "      <th>2013-10-04</th>\n",
              "      <td>118.67466</td>\n",
              "      <td>25</td>\n",
              "    </tr>\n",
              "    <tr>\n",
              "      <th>2013-10-05</th>\n",
              "      <td>121.33866</td>\n",
              "      <td>25</td>\n",
              "    </tr>\n",
              "  </tbody>\n",
              "</table>\n",
              "</div>"
            ],
            "text/plain": [
              "                Price block_reward\n",
              "Date                              \n",
              "2013-10-01  123.65499           25\n",
              "2013-10-02  125.45500           25\n",
              "2013-10-03  108.58483           25\n",
              "2013-10-04  118.67466           25\n",
              "2013-10-05  121.33866           25"
            ]
          },
          "metadata": {},
          "execution_count": 11
        }
      ]
    },
    {
      "cell_type": "code",
      "metadata": {
        "colab": {
          "base_uri": "https://localhost:8080/",
          "height": 390
        },
        "id": "4NQkP9EmX2Xt",
        "outputId": "4a3522fc-6458-4b30-9613-3ca27057b947"
      },
      "source": [
        "# Make a copy of the Bitcoin historical data with block reward feature\n",
        "bitcoin_prices_windowed = bitcoin_prices_block.copy()\n",
        "\n",
        "# Add windowed columns\n",
        "for i in range(WINDOW_SIZE): \n",
        "  bitcoin_prices_windowed[f\"Price+{i+1}\"] = bitcoin_prices_windowed[\"Price\"].shift(periods=i+1)\n",
        "bitcoin_prices_windowed.head(10)"
      ],
      "execution_count": 12,
      "outputs": [
        {
          "output_type": "execute_result",
          "data": {
            "text/html": [
              "<div>\n",
              "<style scoped>\n",
              "    .dataframe tbody tr th:only-of-type {\n",
              "        vertical-align: middle;\n",
              "    }\n",
              "\n",
              "    .dataframe tbody tr th {\n",
              "        vertical-align: top;\n",
              "    }\n",
              "\n",
              "    .dataframe thead th {\n",
              "        text-align: right;\n",
              "    }\n",
              "</style>\n",
              "<table border=\"1\" class=\"dataframe\">\n",
              "  <thead>\n",
              "    <tr style=\"text-align: right;\">\n",
              "      <th></th>\n",
              "      <th>Price</th>\n",
              "      <th>block_reward</th>\n",
              "      <th>Price+1</th>\n",
              "      <th>Price+2</th>\n",
              "      <th>Price+3</th>\n",
              "      <th>Price+4</th>\n",
              "      <th>Price+5</th>\n",
              "      <th>Price+6</th>\n",
              "      <th>Price+7</th>\n",
              "    </tr>\n",
              "    <tr>\n",
              "      <th>Date</th>\n",
              "      <th></th>\n",
              "      <th></th>\n",
              "      <th></th>\n",
              "      <th></th>\n",
              "      <th></th>\n",
              "      <th></th>\n",
              "      <th></th>\n",
              "      <th></th>\n",
              "      <th></th>\n",
              "    </tr>\n",
              "  </thead>\n",
              "  <tbody>\n",
              "    <tr>\n",
              "      <th>2013-10-01</th>\n",
              "      <td>123.65499</td>\n",
              "      <td>25</td>\n",
              "      <td>NaN</td>\n",
              "      <td>NaN</td>\n",
              "      <td>NaN</td>\n",
              "      <td>NaN</td>\n",
              "      <td>NaN</td>\n",
              "      <td>NaN</td>\n",
              "      <td>NaN</td>\n",
              "    </tr>\n",
              "    <tr>\n",
              "      <th>2013-10-02</th>\n",
              "      <td>125.45500</td>\n",
              "      <td>25</td>\n",
              "      <td>123.65499</td>\n",
              "      <td>NaN</td>\n",
              "      <td>NaN</td>\n",
              "      <td>NaN</td>\n",
              "      <td>NaN</td>\n",
              "      <td>NaN</td>\n",
              "      <td>NaN</td>\n",
              "    </tr>\n",
              "    <tr>\n",
              "      <th>2013-10-03</th>\n",
              "      <td>108.58483</td>\n",
              "      <td>25</td>\n",
              "      <td>125.45500</td>\n",
              "      <td>123.65499</td>\n",
              "      <td>NaN</td>\n",
              "      <td>NaN</td>\n",
              "      <td>NaN</td>\n",
              "      <td>NaN</td>\n",
              "      <td>NaN</td>\n",
              "    </tr>\n",
              "    <tr>\n",
              "      <th>2013-10-04</th>\n",
              "      <td>118.67466</td>\n",
              "      <td>25</td>\n",
              "      <td>108.58483</td>\n",
              "      <td>125.45500</td>\n",
              "      <td>123.65499</td>\n",
              "      <td>NaN</td>\n",
              "      <td>NaN</td>\n",
              "      <td>NaN</td>\n",
              "      <td>NaN</td>\n",
              "    </tr>\n",
              "    <tr>\n",
              "      <th>2013-10-05</th>\n",
              "      <td>121.33866</td>\n",
              "      <td>25</td>\n",
              "      <td>118.67466</td>\n",
              "      <td>108.58483</td>\n",
              "      <td>125.45500</td>\n",
              "      <td>123.65499</td>\n",
              "      <td>NaN</td>\n",
              "      <td>NaN</td>\n",
              "      <td>NaN</td>\n",
              "    </tr>\n",
              "    <tr>\n",
              "      <th>2013-10-06</th>\n",
              "      <td>120.65533</td>\n",
              "      <td>25</td>\n",
              "      <td>121.33866</td>\n",
              "      <td>118.67466</td>\n",
              "      <td>108.58483</td>\n",
              "      <td>125.45500</td>\n",
              "      <td>123.65499</td>\n",
              "      <td>NaN</td>\n",
              "      <td>NaN</td>\n",
              "    </tr>\n",
              "    <tr>\n",
              "      <th>2013-10-07</th>\n",
              "      <td>121.79500</td>\n",
              "      <td>25</td>\n",
              "      <td>120.65533</td>\n",
              "      <td>121.33866</td>\n",
              "      <td>118.67466</td>\n",
              "      <td>108.58483</td>\n",
              "      <td>125.45500</td>\n",
              "      <td>123.65499</td>\n",
              "      <td>NaN</td>\n",
              "    </tr>\n",
              "    <tr>\n",
              "      <th>2013-10-08</th>\n",
              "      <td>123.03300</td>\n",
              "      <td>25</td>\n",
              "      <td>121.79500</td>\n",
              "      <td>120.65533</td>\n",
              "      <td>121.33866</td>\n",
              "      <td>118.67466</td>\n",
              "      <td>108.58483</td>\n",
              "      <td>125.45500</td>\n",
              "      <td>123.65499</td>\n",
              "    </tr>\n",
              "    <tr>\n",
              "      <th>2013-10-09</th>\n",
              "      <td>124.04900</td>\n",
              "      <td>25</td>\n",
              "      <td>123.03300</td>\n",
              "      <td>121.79500</td>\n",
              "      <td>120.65533</td>\n",
              "      <td>121.33866</td>\n",
              "      <td>118.67466</td>\n",
              "      <td>108.58483</td>\n",
              "      <td>125.45500</td>\n",
              "    </tr>\n",
              "    <tr>\n",
              "      <th>2013-10-10</th>\n",
              "      <td>125.96116</td>\n",
              "      <td>25</td>\n",
              "      <td>124.04900</td>\n",
              "      <td>123.03300</td>\n",
              "      <td>121.79500</td>\n",
              "      <td>120.65533</td>\n",
              "      <td>121.33866</td>\n",
              "      <td>118.67466</td>\n",
              "      <td>108.58483</td>\n",
              "    </tr>\n",
              "  </tbody>\n",
              "</table>\n",
              "</div>"
            ],
            "text/plain": [
              "                Price block_reward    Price+1  ...    Price+5    Price+6    Price+7\n",
              "Date                                           ...                                 \n",
              "2013-10-01  123.65499           25        NaN  ...        NaN        NaN        NaN\n",
              "2013-10-02  125.45500           25  123.65499  ...        NaN        NaN        NaN\n",
              "2013-10-03  108.58483           25  125.45500  ...        NaN        NaN        NaN\n",
              "2013-10-04  118.67466           25  108.58483  ...        NaN        NaN        NaN\n",
              "2013-10-05  121.33866           25  118.67466  ...        NaN        NaN        NaN\n",
              "2013-10-06  120.65533           25  121.33866  ...  123.65499        NaN        NaN\n",
              "2013-10-07  121.79500           25  120.65533  ...  125.45500  123.65499        NaN\n",
              "2013-10-08  123.03300           25  121.79500  ...  108.58483  125.45500  123.65499\n",
              "2013-10-09  124.04900           25  123.03300  ...  118.67466  108.58483  125.45500\n",
              "2013-10-10  125.96116           25  124.04900  ...  121.33866  118.67466  108.58483\n",
              "\n",
              "[10 rows x 9 columns]"
            ]
          },
          "metadata": {},
          "execution_count": 12
        }
      ]
    },
    {
      "cell_type": "code",
      "metadata": {
        "colab": {
          "base_uri": "https://localhost:8080/",
          "height": 235
        },
        "id": "73jAFAVeYpD-",
        "outputId": "1f5f88c6-f926-4019-a6e9-0910a211bfd9"
      },
      "source": [
        "# Let's create X & y, remove the NaN's and convert to float32 to prevent TensorFlow errors \n",
        "X = bitcoin_prices_windowed.dropna().drop(\"Price\", axis=1).astype(np.float32) \n",
        "y = bitcoin_prices_windowed.dropna()[\"Price\"].astype(np.float32)\n",
        "X.head()"
      ],
      "execution_count": 13,
      "outputs": [
        {
          "output_type": "execute_result",
          "data": {
            "text/html": [
              "<div>\n",
              "<style scoped>\n",
              "    .dataframe tbody tr th:only-of-type {\n",
              "        vertical-align: middle;\n",
              "    }\n",
              "\n",
              "    .dataframe tbody tr th {\n",
              "        vertical-align: top;\n",
              "    }\n",
              "\n",
              "    .dataframe thead th {\n",
              "        text-align: right;\n",
              "    }\n",
              "</style>\n",
              "<table border=\"1\" class=\"dataframe\">\n",
              "  <thead>\n",
              "    <tr style=\"text-align: right;\">\n",
              "      <th></th>\n",
              "      <th>block_reward</th>\n",
              "      <th>Price+1</th>\n",
              "      <th>Price+2</th>\n",
              "      <th>Price+3</th>\n",
              "      <th>Price+4</th>\n",
              "      <th>Price+5</th>\n",
              "      <th>Price+6</th>\n",
              "      <th>Price+7</th>\n",
              "    </tr>\n",
              "    <tr>\n",
              "      <th>Date</th>\n",
              "      <th></th>\n",
              "      <th></th>\n",
              "      <th></th>\n",
              "      <th></th>\n",
              "      <th></th>\n",
              "      <th></th>\n",
              "      <th></th>\n",
              "      <th></th>\n",
              "    </tr>\n",
              "  </thead>\n",
              "  <tbody>\n",
              "    <tr>\n",
              "      <th>2013-10-08</th>\n",
              "      <td>25.0</td>\n",
              "      <td>121.794998</td>\n",
              "      <td>120.655327</td>\n",
              "      <td>121.338661</td>\n",
              "      <td>118.674660</td>\n",
              "      <td>108.584831</td>\n",
              "      <td>125.455002</td>\n",
              "      <td>123.654991</td>\n",
              "    </tr>\n",
              "    <tr>\n",
              "      <th>2013-10-09</th>\n",
              "      <td>25.0</td>\n",
              "      <td>123.032997</td>\n",
              "      <td>121.794998</td>\n",
              "      <td>120.655327</td>\n",
              "      <td>121.338661</td>\n",
              "      <td>118.674660</td>\n",
              "      <td>108.584831</td>\n",
              "      <td>125.455002</td>\n",
              "    </tr>\n",
              "    <tr>\n",
              "      <th>2013-10-10</th>\n",
              "      <td>25.0</td>\n",
              "      <td>124.049004</td>\n",
              "      <td>123.032997</td>\n",
              "      <td>121.794998</td>\n",
              "      <td>120.655327</td>\n",
              "      <td>121.338661</td>\n",
              "      <td>118.674660</td>\n",
              "      <td>108.584831</td>\n",
              "    </tr>\n",
              "    <tr>\n",
              "      <th>2013-10-11</th>\n",
              "      <td>25.0</td>\n",
              "      <td>125.961159</td>\n",
              "      <td>124.049004</td>\n",
              "      <td>123.032997</td>\n",
              "      <td>121.794998</td>\n",
              "      <td>120.655327</td>\n",
              "      <td>121.338661</td>\n",
              "      <td>118.674660</td>\n",
              "    </tr>\n",
              "    <tr>\n",
              "      <th>2013-10-12</th>\n",
              "      <td>25.0</td>\n",
              "      <td>125.279663</td>\n",
              "      <td>125.961159</td>\n",
              "      <td>124.049004</td>\n",
              "      <td>123.032997</td>\n",
              "      <td>121.794998</td>\n",
              "      <td>120.655327</td>\n",
              "      <td>121.338661</td>\n",
              "    </tr>\n",
              "  </tbody>\n",
              "</table>\n",
              "</div>"
            ],
            "text/plain": [
              "            block_reward     Price+1  ...     Price+6     Price+7\n",
              "Date                                  ...                        \n",
              "2013-10-08          25.0  121.794998  ...  125.455002  123.654991\n",
              "2013-10-09          25.0  123.032997  ...  108.584831  125.455002\n",
              "2013-10-10          25.0  124.049004  ...  118.674660  108.584831\n",
              "2013-10-11          25.0  125.961159  ...  121.338661  118.674660\n",
              "2013-10-12          25.0  125.279663  ...  120.655327  121.338661\n",
              "\n",
              "[5 rows x 8 columns]"
            ]
          },
          "metadata": {},
          "execution_count": 13
        }
      ]
    },
    {
      "cell_type": "code",
      "metadata": {
        "id": "_SdPXx_SauLC"
      },
      "source": [
        "# Scaling the X data \n",
        "X_scaled = scaler.fit_transform(X)\n",
        "y_scaled = scaler.fit_transform(np.expand_dims(y , axis = 1))\n",
        "y_scaled = np.squeeze(y_scaled)"
      ],
      "execution_count": 14,
      "outputs": []
    },
    {
      "cell_type": "code",
      "metadata": {
        "colab": {
          "base_uri": "https://localhost:8080/"
        },
        "id": "0M8UVLaIa1km",
        "outputId": "69199146-ea99-4575-d799-f8faaeb9f1ef"
      },
      "source": [
        "# Make train and test set splits of the scaled data \n",
        "split_size = int(len(X) * 0.8)\n",
        "X_train, y_train = X_scaled[:split_size], y_scaled[:split_size]\n",
        "X_test, y_test = X_scaled[split_size:], y_scaled[split_size:]\n",
        "len(X_train), len(y_train), len(X_test), len(y_test)"
      ],
      "execution_count": 15,
      "outputs": [
        {
          "output_type": "execute_result",
          "data": {
            "text/plain": [
              "(2224, 2224, 556, 556)"
            ]
          },
          "metadata": {},
          "execution_count": 15
        }
      ]
    },
    {
      "cell_type": "code",
      "metadata": {
        "colab": {
          "base_uri": "https://localhost:8080/"
        },
        "id": "6sXgRZ1Ka-TT",
        "outputId": "69e36603-9540-486d-a975-9ba75a7b1f73"
      },
      "source": [
        "# Building a Multivariate time series model and fitting it\n",
        "tf.random.set_seed(42)\n",
        "\n",
        "model_6 = tf.keras.Sequential([\n",
        "  layers.Dense(128 , activation= 'relu'), \n",
        "  layers.Dense(HORIZON)\n",
        "])\n",
        "\n",
        "model_6.compile(loss = 'mae' , \n",
        "                optimizer = tf.keras.optimizers.Adam())\n",
        "\n",
        "model_6.fit(X_train , y_train , \n",
        "          epochs = 100 ,\n",
        "          verbose = 0 , batch_size = 128, \n",
        "          validation_data = (X_test , y_test))"
      ],
      "execution_count": 16,
      "outputs": [
        {
          "output_type": "execute_result",
          "data": {
            "text/plain": [
              "<keras.callbacks.History at 0x7f5f2e58d310>"
            ]
          },
          "metadata": {},
          "execution_count": 16
        }
      ]
    },
    {
      "cell_type": "code",
      "metadata": {
        "colab": {
          "base_uri": "https://localhost:8080/"
        },
        "id": "rs_ZDtr1b3-N",
        "outputId": "c2278fcd-c0f1-4136-a737-1cbc14016b7a"
      },
      "source": [
        "# Evaluate the model 6 \n",
        "model_6.evaluate(X_test , y_test)"
      ],
      "execution_count": 17,
      "outputs": [
        {
          "output_type": "stream",
          "name": "stdout",
          "text": [
            "18/18 [==============================] - 0s 1ms/step - loss: 0.0735\n"
          ]
        },
        {
          "output_type": "execute_result",
          "data": {
            "text/plain": [
              "0.07352113723754883"
            ]
          },
          "metadata": {},
          "execution_count": 17
        }
      ]
    },
    {
      "cell_type": "markdown",
      "metadata": {
        "id": "MqlPT_dXfuQf"
      },
      "source": [
        "### 2. Get the most up to date data on Bitcoin, train a model & see how it goes (our data goes up to May 18 2021).\n",
        "\n",
        "Coindesk : https://www.coindesk.com/price/bitcoin/ \n",
        "\n",
        "> Note: Download and import the data into the colab session, then replace the path `your_data_path` with your downloaded data path. "
      ]
    },
    {
      "cell_type": "code",
      "metadata": {
        "colab": {
          "base_uri": "https://localhost:8080/"
        },
        "id": "LUKI8td_b_F_",
        "outputId": "06cfd514-d378-4707-d2ea-cc71c89a6605"
      },
      "source": [
        "# Loading the in the latest csv from Coindesk\n",
        "your_data_path = '/content/BTC_USD_2014-11-02_2021-09-09-CoinDesk.csv' \n",
        "df_updated = pd.read_csv( your_data_path, \n",
        "                 parse_dates = ['Date'] , \n",
        "                 index_col = ['Date'])\n",
        "\n",
        "bitcoin_prices_updated = pd.DataFrame(df_updated[\"Closing Price (USD)\"]).rename(columns={\"Closing Price (USD)\": \"Price\"})\n",
        "bitcoin_prices_updated.head(10) , bitcoin_prices_updated.shape"
      ],
      "execution_count": 18,
      "outputs": [
        {
          "output_type": "execute_result",
          "data": {
            "text/plain": [
              "(                Price\n",
              " Date                 \n",
              " 2014-11-02  325.22633\n",
              " 2014-11-03  331.60083\n",
              " 2014-11-04  324.71833\n",
              " 2014-11-05  332.45666\n",
              " 2014-11-06  336.58500\n",
              " 2014-11-07  346.77500\n",
              " 2014-11-08  344.81166\n",
              " 2014-11-09  343.06500\n",
              " 2014-11-10  358.50166\n",
              " 2014-11-11  368.07666, (2503, 1))"
            ]
          },
          "metadata": {},
          "execution_count": 18
        }
      ]
    },
    {
      "cell_type": "code",
      "metadata": {
        "id": "52OylhbEiIII"
      },
      "source": [
        "prices_updated = bitcoin_prices_updated['Price'].to_numpy()"
      ],
      "execution_count": 19,
      "outputs": []
    },
    {
      "cell_type": "code",
      "metadata": {
        "id": "JZYgYStegy7E"
      },
      "source": [
        "def make_windows(x, window_size=7, horizon=1):\n",
        "  \"\"\"\n",
        "  Turns a 1D array into a 2D array of sequential windows of window_size.\n",
        "  \"\"\"\n",
        "  \n",
        "  window_step = np.expand_dims(np.arange(window_size+horizon), axis=0)\n",
        "  window_indexes = window_step + np.expand_dims(np.arange(len(x)-(window_size+horizon-1)), axis=0).T # create 2D array of windows of size window_size\n",
        "  windowed_array = x[window_indexes]\n",
        "  windows, labels = get_labelled_windows(windowed_array, horizon=horizon)\n",
        "\n",
        "  return windows, labels"
      ],
      "execution_count": 20,
      "outputs": []
    },
    {
      "cell_type": "code",
      "metadata": {
        "colab": {
          "base_uri": "https://localhost:8080/"
        },
        "id": "bBzAx_9nhfGF",
        "outputId": "f4cf6e16-1a09-4760-df3e-f90d53d5355f"
      },
      "source": [
        "full_windows , full_labels = make_windows(prices_updated)\n",
        "len(full_windows), len(full_labels)"
      ],
      "execution_count": 21,
      "outputs": [
        {
          "output_type": "execute_result",
          "data": {
            "text/plain": [
              "(2496, 2496)"
            ]
          },
          "metadata": {},
          "execution_count": 21
        }
      ]
    },
    {
      "cell_type": "code",
      "metadata": {
        "colab": {
          "base_uri": "https://localhost:8080/"
        },
        "id": "jQ5Iir7jvLeY",
        "outputId": "512495cb-767c-41d6-ca8b-7f5c5cc2d252"
      },
      "source": [
        "# Looking at few examples of how price is scaled\n",
        "for i in range(3):\n",
        "  print(f'Window: {full_windows[i]} --> Label {full_labels[i]}')"
      ],
      "execution_count": 22,
      "outputs": [
        {
          "output_type": "stream",
          "name": "stdout",
          "text": [
            "Window: [325.22633 331.60083 324.71833 332.45666 336.585   346.775   344.81166] --> Label [343.065]\n",
            "Window: [331.60083 324.71833 332.45666 336.585   346.775   344.81166 343.065  ] --> Label [358.50166]\n",
            "Window: [324.71833 332.45666 336.585   346.775   344.81166 343.065   358.50166] --> Label [368.07666]\n"
          ]
        }
      ]
    },
    {
      "cell_type": "code",
      "metadata": {
        "colab": {
          "base_uri": "https://localhost:8080/"
        },
        "id": "2HCIuZdxh-GC",
        "outputId": "e6699867-8b03-4ee4-c862-f83f9d5f06e3"
      },
      "source": [
        "# Making train and test splits\n",
        "train_windows ,  test_windows ,train_labels,  test_labels =  make_train_test_splits(full_windows , full_labels)\n",
        "\n",
        "len(train_windows) ,  len(test_windows) , len(train_labels),  len(test_labels) "
      ],
      "execution_count": 23,
      "outputs": [
        {
          "output_type": "execute_result",
          "data": {
            "text/plain": [
              "(1996, 500, 1996, 500)"
            ]
          },
          "metadata": {},
          "execution_count": 23
        }
      ]
    },
    {
      "cell_type": "markdown",
      "metadata": {
        "id": "e1Ve_RGCm5Ez"
      },
      "source": [
        "Now we're building the same Model 1 with the new coindesk data. "
      ]
    },
    {
      "cell_type": "code",
      "metadata": {
        "colab": {
          "base_uri": "https://localhost:8080/"
        },
        "id": "4IytoXshkhJE",
        "outputId": "1bc5bd41-2a35-4ce6-e559-5cea7e8a7613"
      },
      "source": [
        "# Building the Model 1 with the updated data\n",
        "tf.random.set_seed(42)\n",
        "\n",
        "# Construct the model \n",
        "model_1 = tf.keras.Sequential([\n",
        "  layers.Dense(128, activation= 'relu') ,\n",
        "  layers.Dense(HORIZON , activation = 'linear')\n",
        "])\n",
        "\n",
        "# Compiling the model \n",
        "model_1.compile(loss = 'mae' , \n",
        "                optimizer = tf.keras.optimizers.Adam() , \n",
        "                metrics = ['mae'])\n",
        "\n",
        "# Fit the model \n",
        "model_1.fit(x = train_windows , \n",
        "            y = train_labels , \n",
        "            epochs = 100 , batch_size = 128 , verbose = 0 , \n",
        "            validation_data = (test_windows , test_labels))"
      ],
      "execution_count": 24,
      "outputs": [
        {
          "output_type": "execute_result",
          "data": {
            "text/plain": [
              "<keras.callbacks.History at 0x7f5f25beb910>"
            ]
          },
          "metadata": {},
          "execution_count": 24
        }
      ]
    },
    {
      "cell_type": "code",
      "metadata": {
        "colab": {
          "base_uri": "https://localhost:8080/"
        },
        "id": "Uq-4_z0rm_Gc",
        "outputId": "8ff2e0d1-15e9-4003-fc6d-a77c9547dcae"
      },
      "source": [
        "# Evaluating the model \n",
        "model_1.evaluate(test_windows , test_labels)"
      ],
      "execution_count": 25,
      "outputs": [
        {
          "output_type": "stream",
          "name": "stdout",
          "text": [
            "16/16 [==============================] - 0s 1ms/step - loss: 884.0138 - mae: 884.0138\n"
          ]
        },
        {
          "output_type": "execute_result",
          "data": {
            "text/plain": [
              "[884.0137939453125, 884.0137939453125]"
            ]
          },
          "metadata": {},
          "execution_count": 25
        }
      ]
    },
    {
      "cell_type": "markdown",
      "metadata": {
        "id": "OIuiLp-PnYlS"
      },
      "source": [
        "### 3. For most of our models we used WINDOW_SIZE=7, but is there a better window size?\n",
        "\n",
        "* Setup a series of experiments to find whether or not there’s a better window size.\n",
        "* For example, you might train 10 different models with HORIZON=1 but with window sizes ranging from 2-12."
      ]
    },
    {
      "cell_type": "code",
      "metadata": {
        "id": "P08KPQgG6op2"
      },
      "source": [
        "# Writing a evaluation function based on the preds and targets \n",
        "def evaluate_preds(y_true , y_pred):\n",
        "\n",
        "  # Casting the values to float32 \n",
        "  y_true = tf.cast(y_true , tf.float32)\n",
        "  y_pred = tf.cast(y_pred , tf.float32)\n",
        "\n",
        "\n",
        "  # Calculate the metrics \n",
        "  mae = tf.keras.metrics.mean_absolute_error(y_true , y_pred)\n",
        "  mse = tf.keras.metrics.mean_squared_error(y_true , y_pred)\n",
        "  rmse = tf.sqrt(mse)\n",
        "  mape = tf.keras.metrics.mean_absolute_percentage_error(y_true , y_pred)\n",
        "  \n",
        "  # For longer horizons \n",
        "  if mae.ndim > 0:\n",
        "    mae = tf.reduce_sum(mae)\n",
        "    mse = tf.reduce_sum(mse)\n",
        "    rmse = tf.reduce_sum(rmse)\n",
        "    mape = tf.reduce_sum(mape)\n",
        "\n",
        "  return {'mae' : mae.numpy() , \n",
        "          'mse': mse.numpy() , \n",
        "          'rmse': rmse.numpy() , \n",
        "          'mape': mape.numpy() }"
      ],
      "execution_count": 26,
      "outputs": []
    },
    {
      "cell_type": "code",
      "metadata": {
        "colab": {
          "base_uri": "https://localhost:8080/"
        },
        "id": "x11lEVED6d9A",
        "outputId": "0a939e55-bdd2-44ea-dfca-6a8337807537"
      },
      "source": [
        "# Writing a for loop to iterate over the Window size and build 10 different models\n",
        "\n",
        "# 10 Different models with window size ranging from (2 - 12) and store the results\n",
        "model_results_list = []\n",
        "\n",
        "from tqdm import tqdm\n",
        "for size in tqdm(range(2,12)):\n",
        "  HORIZON = 1 \n",
        "  WINDOW_SIZE = size\n",
        "\n",
        "  # Making window and labels \n",
        "  full_windows , full_labels = make_windows(prices, window_size= WINDOW_SIZE , horizon= HORIZON)\n",
        "  \n",
        "\n",
        "  # Splitting the data in train and test\n",
        "  train_windows ,  test_windows ,train_labels,  test_labels = make_train_test_splits(full_windows , full_labels)\n",
        "\n",
        "\n",
        "  # Building a simple dense model\n",
        "  input = layers.Input(shape = (WINDOW_SIZE ,) , name = 'Input_layer')\n",
        "  x = layers.Dense(128 , activation= 'relu')(input)\n",
        "  output = layers.Dense(HORIZON , activation= 'linear')(x)\n",
        "\n",
        "  # Packing into a model \n",
        "  model = tf.keras.Model(input , output , name = f'model_windowed_{size}')\n",
        "\n",
        "  # Compiling and fitting the model \n",
        "  model.compile(loss = 'mae' , optimizer = 'adam' , metrics = 'mae')\n",
        "\n",
        "  model.fit(train_windows , train_labels , \n",
        "            epochs = 100 , verbose = 0 , \n",
        "            batch_size = 128 , \n",
        "            validation_data = (test_windows , test_labels))\n",
        "  \n",
        "\n",
        "  # Making predictions \n",
        "  preds_ = model.predict(test_windows)\n",
        "  y_preds = tf.squeeze(preds_)\n",
        "\n",
        "  results = evaluate_preds(tf.squeeze(test_labels) , y_preds)\n",
        "  model_results_list.append(results)\n",
        " "
      ],
      "execution_count": 27,
      "outputs": [
        {
          "output_type": "stream",
          "name": "stderr",
          "text": [
            "100%|██████████| 10/10 [00:54<00:00,  5.42s/it]\n"
          ]
        }
      ]
    },
    {
      "cell_type": "code",
      "metadata": {
        "colab": {
          "base_uri": "https://localhost:8080/"
        },
        "id": "Qyp-2gqoUipn",
        "outputId": "ff2672cf-0ba2-4af4-e0a4-2ff2d8df06c6"
      },
      "source": [
        "# Below are the 10 different models result \n",
        "model_results_list"
      ],
      "execution_count": 28,
      "outputs": [
        {
          "output_type": "execute_result",
          "data": {
            "text/plain": [
              "[{'mae': 569.1506, 'mape': 2.5277913, 'mse': 1159396.5, 'rmse': 1076.7528},\n",
              " {'mae': 565.61, 'mape': 2.5274613, 'mse': 1139677.6, 'rmse': 1067.5569},\n",
              " {'mae': 623.44543, 'mape': 2.8342037, 'mse': 1266272.0, 'rmse': 1125.2875},\n",
              " {'mae': 565.61096, 'mape': 2.5193882, 'mse': 1157946.9, 'rmse': 1076.0793},\n",
              " {'mae': 575.82715, 'mape': 2.5713227, 'mse': 1181491.9, 'rmse': 1086.9645},\n",
              " {'mae': 624.65094, 'mape': 2.8559413, 'mse': 1279308.5, 'rmse': 1131.0652},\n",
              " {'mae': 673.8483, 'mape': 3.1560009, 'mse': 1401001.9, 'rmse': 1183.6393},\n",
              " {'mae': 661.0718, 'mape': 3.0542161, 'mse': 1343192.1, 'rmse': 1158.9617},\n",
              " {'mae': 583.37537, 'mape': 2.6407204, 'mse': 1204248.0, 'rmse': 1097.3823},\n",
              " {'mae': 701.84753, 'mape': 3.2888033, 'mse': 1443914.4, 'rmse': 1201.6299}]"
            ]
          },
          "metadata": {},
          "execution_count": 28
        }
      ]
    },
    {
      "cell_type": "markdown",
      "metadata": {
        "id": "wzH981vjL-fT"
      },
      "source": [
        "### 4. Create a windowed dataset just like the ones we used for model_1 using  [tf.keras.preprocessing.timeseries_dataset_from_array()](https://www.tensorflow.org/api_docs/python/tf/keras/preprocessing/timeseries_dataset_from_array)  and retrain model_1 using the recreated dataset."
      ]
    },
    {
      "cell_type": "code",
      "metadata": {
        "id": "YcRI4RcIYnYE"
      },
      "source": [
        "WINDOW_SIZE = 7 \n",
        "HORIZON = 1"
      ],
      "execution_count": 29,
      "outputs": []
    },
    {
      "cell_type": "code",
      "metadata": {
        "id": "zakDAvtCY32O"
      },
      "source": [
        "# Make the splits \n",
        "def make_train_test_splits(windows , labels , test_split = 0.2):\n",
        "  split_size = int(len(windows) * (1 - test_split))\n",
        "  train_windows = windows[:split_size]\n",
        "  train_labels = labels[:split_size]\n",
        "  test_windows = windows[split_size:]\n",
        "  test_labels = labels[split_size:]\n",
        "\n",
        "  return train_windows ,  test_windows ,train_labels,  test_labels"
      ],
      "execution_count": 30,
      "outputs": []
    },
    {
      "cell_type": "code",
      "metadata": {
        "id": "ujv0D7izXNhn"
      },
      "source": [
        "ds = tf.keras.utils.timeseries_dataset_from_array(\n",
        "    data = prices , targets = prices , sequence_length = WINDOW_SIZE , sequence_stride = HORIZON, \n",
        "    batch_size = 128\n",
        ")"
      ],
      "execution_count": 31,
      "outputs": []
    },
    {
      "cell_type": "code",
      "metadata": {
        "id": "ha5sXVH-ctoF"
      },
      "source": [
        "train_size , test_size = int(0.8 * len(ds)) ,int(0.2 * len(ds))"
      ],
      "execution_count": 32,
      "outputs": []
    },
    {
      "cell_type": "code",
      "metadata": {
        "id": "ZlzXwk84cxp6"
      },
      "source": [
        "train_ds = ds.take(train_size)\n",
        "test_ds = ds.skip(train_size).take(test_size)"
      ],
      "execution_count": 33,
      "outputs": []
    },
    {
      "cell_type": "code",
      "metadata": {
        "colab": {
          "base_uri": "https://localhost:8080/"
        },
        "id": "AcTn-l1Idl3t",
        "outputId": "e1e10e0a-f448-4c7a-bb46-3d1cbe660688"
      },
      "source": [
        "for x , y in train_ds.take(1):\n",
        "  print(x[:2] , y[:2])"
      ],
      "execution_count": 34,
      "outputs": [
        {
          "output_type": "stream",
          "name": "stdout",
          "text": [
            "tf.Tensor(\n",
            "[[123.65499 125.455   108.58483 118.67466 121.33866 120.65533 121.795  ]\n",
            " [125.455   108.58483 118.67466 121.33866 120.65533 121.795   123.033  ]], shape=(2, 7), dtype=float64) tf.Tensor([123.65499 125.455  ], shape=(2,), dtype=float64)\n"
          ]
        }
      ]
    },
    {
      "cell_type": "code",
      "metadata": {
        "colab": {
          "base_uri": "https://localhost:8080/"
        },
        "id": "xuP5_htZduAu",
        "outputId": "35ef1976-60bb-4958-a04d-64a2eebad47d"
      },
      "source": [
        "for x , y in test_ds.take(1):\n",
        "  print(x[:2] , y[:2])"
      ],
      "execution_count": 35,
      "outputs": [
        {
          "output_type": "stream",
          "name": "stdout",
          "text": [
            "tf.Tensor(\n",
            "[[10302.19071368 10301.65965169 10231.42151196 10168.28770938\n",
            "  10223.5055788  10138.33520522  9984.52051597]\n",
            " [10301.65965169 10231.42151196 10168.28770938 10223.5055788\n",
            "  10138.33520522  9984.52051597 10031.86670899]], shape=(2, 7), dtype=float64) tf.Tensor([10302.19071368 10301.65965169], shape=(2,), dtype=float64)\n"
          ]
        }
      ]
    },
    {
      "cell_type": "code",
      "metadata": {
        "colab": {
          "base_uri": "https://localhost:8080/"
        },
        "id": "ieBAnXs0eJAy",
        "outputId": "75e09094-7676-49e3-bbb6-3947f345f1ef"
      },
      "source": [
        "# Building the Model 1 with the updated data\n",
        "tf.random.set_seed(42)\n",
        "\n",
        "# Building a simple dense model\n",
        "input = layers.Input(shape = (WINDOW_SIZE ,) , name = 'Input_layer' , dtype = tf.float32)\n",
        "x = layers.Dense(128 , activation= 'relu')(input)\n",
        "output = layers.Dense(HORIZON , activation= 'linear')(x)\n",
        "\n",
        "# Packing into a model \n",
        "model = tf.keras.Model(input , output)\n",
        "\n",
        "# Compiling the model \n",
        "model.compile(loss = 'mae' , \n",
        "                optimizer = tf.keras.optimizers.Adam() , \n",
        "                metrics = ['mae'])\n",
        "\n",
        "# Fit the model \n",
        "model.fit(train_ds ,\n",
        "          epochs = 100 , verbose = 0 , \n",
        "            validation_data = test_ds)"
      ],
      "execution_count": 36,
      "outputs": [
        {
          "output_type": "execute_result",
          "data": {
            "text/plain": [
              "<keras.callbacks.History at 0x7f5f28e1cb50>"
            ]
          },
          "metadata": {},
          "execution_count": 36
        }
      ]
    },
    {
      "cell_type": "code",
      "metadata": {
        "colab": {
          "base_uri": "https://localhost:8080/"
        },
        "id": "uPBtfK2diAkV",
        "outputId": "473e6927-60ca-42e9-f48b-6b2b362e7870"
      },
      "source": [
        "# Evaluating the model on the test set\n",
        "model.evaluate(test_ds)"
      ],
      "execution_count": 37,
      "outputs": [
        {
          "output_type": "stream",
          "name": "stdout",
          "text": [
            "4/4 [==============================] - 0s 19ms/step - loss: 643.4305 - mae: 643.4305\n"
          ]
        },
        {
          "output_type": "execute_result",
          "data": {
            "text/plain": [
              "[643.4305419921875, 643.4305419921875]"
            ]
          },
          "metadata": {},
          "execution_count": 37
        }
      ]
    },
    {
      "cell_type": "markdown",
      "metadata": {
        "id": "6GONHDDlhwKr"
      },
      "source": [
        "### 5. For our multivariate modelling experiment, we added the Bitcoin block reward size as an extra feature to make our time series multivariate.\n",
        "\n",
        "  * Are there any other features you think you could add?\n",
        "  * If so, try it out, how do these affect the model?"
      ]
    },
    {
      "cell_type": "code",
      "metadata": {
        "id": "VA-51-MMxzNO",
        "colab": {
          "base_uri": "https://localhost:8080/",
          "height": 450
        },
        "outputId": "eba8a6bb-14ac-4a8b-bec4-5bfb8f5f25cf"
      },
      "source": [
        "df"
      ],
      "execution_count": 38,
      "outputs": [
        {
          "output_type": "execute_result",
          "data": {
            "text/html": [
              "<div>\n",
              "<style scoped>\n",
              "    .dataframe tbody tr th:only-of-type {\n",
              "        vertical-align: middle;\n",
              "    }\n",
              "\n",
              "    .dataframe tbody tr th {\n",
              "        vertical-align: top;\n",
              "    }\n",
              "\n",
              "    .dataframe thead th {\n",
              "        text-align: right;\n",
              "    }\n",
              "</style>\n",
              "<table border=\"1\" class=\"dataframe\">\n",
              "  <thead>\n",
              "    <tr style=\"text-align: right;\">\n",
              "      <th></th>\n",
              "      <th>Currency</th>\n",
              "      <th>Closing Price (USD)</th>\n",
              "      <th>24h Open (USD)</th>\n",
              "      <th>24h High (USD)</th>\n",
              "      <th>24h Low (USD)</th>\n",
              "    </tr>\n",
              "    <tr>\n",
              "      <th>Date</th>\n",
              "      <th></th>\n",
              "      <th></th>\n",
              "      <th></th>\n",
              "      <th></th>\n",
              "      <th></th>\n",
              "    </tr>\n",
              "  </thead>\n",
              "  <tbody>\n",
              "    <tr>\n",
              "      <th>2013-10-01</th>\n",
              "      <td>BTC</td>\n",
              "      <td>123.654990</td>\n",
              "      <td>124.304660</td>\n",
              "      <td>124.751660</td>\n",
              "      <td>122.563490</td>\n",
              "    </tr>\n",
              "    <tr>\n",
              "      <th>2013-10-02</th>\n",
              "      <td>BTC</td>\n",
              "      <td>125.455000</td>\n",
              "      <td>123.654990</td>\n",
              "      <td>125.758500</td>\n",
              "      <td>123.633830</td>\n",
              "    </tr>\n",
              "    <tr>\n",
              "      <th>2013-10-03</th>\n",
              "      <td>BTC</td>\n",
              "      <td>108.584830</td>\n",
              "      <td>125.455000</td>\n",
              "      <td>125.665660</td>\n",
              "      <td>83.328330</td>\n",
              "    </tr>\n",
              "    <tr>\n",
              "      <th>2013-10-04</th>\n",
              "      <td>BTC</td>\n",
              "      <td>118.674660</td>\n",
              "      <td>108.584830</td>\n",
              "      <td>118.675000</td>\n",
              "      <td>107.058160</td>\n",
              "    </tr>\n",
              "    <tr>\n",
              "      <th>2013-10-05</th>\n",
              "      <td>BTC</td>\n",
              "      <td>121.338660</td>\n",
              "      <td>118.674660</td>\n",
              "      <td>121.936330</td>\n",
              "      <td>118.005660</td>\n",
              "    </tr>\n",
              "    <tr>\n",
              "      <th>...</th>\n",
              "      <td>...</td>\n",
              "      <td>...</td>\n",
              "      <td>...</td>\n",
              "      <td>...</td>\n",
              "      <td>...</td>\n",
              "    </tr>\n",
              "    <tr>\n",
              "      <th>2021-05-14</th>\n",
              "      <td>BTC</td>\n",
              "      <td>49764.132082</td>\n",
              "      <td>49596.778891</td>\n",
              "      <td>51448.798576</td>\n",
              "      <td>46294.720180</td>\n",
              "    </tr>\n",
              "    <tr>\n",
              "      <th>2021-05-15</th>\n",
              "      <td>BTC</td>\n",
              "      <td>50032.693137</td>\n",
              "      <td>49717.354353</td>\n",
              "      <td>51578.312545</td>\n",
              "      <td>48944.346536</td>\n",
              "    </tr>\n",
              "    <tr>\n",
              "      <th>2021-05-16</th>\n",
              "      <td>BTC</td>\n",
              "      <td>47885.625255</td>\n",
              "      <td>49926.035067</td>\n",
              "      <td>50690.802950</td>\n",
              "      <td>47005.102292</td>\n",
              "    </tr>\n",
              "    <tr>\n",
              "      <th>2021-05-17</th>\n",
              "      <td>BTC</td>\n",
              "      <td>45604.615754</td>\n",
              "      <td>46805.537852</td>\n",
              "      <td>49670.414174</td>\n",
              "      <td>43868.638969</td>\n",
              "    </tr>\n",
              "    <tr>\n",
              "      <th>2021-05-18</th>\n",
              "      <td>BTC</td>\n",
              "      <td>43144.471291</td>\n",
              "      <td>46439.336570</td>\n",
              "      <td>46622.853437</td>\n",
              "      <td>42102.346430</td>\n",
              "    </tr>\n",
              "  </tbody>\n",
              "</table>\n",
              "<p>2787 rows × 5 columns</p>\n",
              "</div>"
            ],
            "text/plain": [
              "           Currency  Closing Price (USD)  ...  24h High (USD)  24h Low (USD)\n",
              "Date                                      ...                               \n",
              "2013-10-01      BTC           123.654990  ...      124.751660     122.563490\n",
              "2013-10-02      BTC           125.455000  ...      125.758500     123.633830\n",
              "2013-10-03      BTC           108.584830  ...      125.665660      83.328330\n",
              "2013-10-04      BTC           118.674660  ...      118.675000     107.058160\n",
              "2013-10-05      BTC           121.338660  ...      121.936330     118.005660\n",
              "...             ...                  ...  ...             ...            ...\n",
              "2021-05-14      BTC         49764.132082  ...    51448.798576   46294.720180\n",
              "2021-05-15      BTC         50032.693137  ...    51578.312545   48944.346536\n",
              "2021-05-16      BTC         47885.625255  ...    50690.802950   47005.102292\n",
              "2021-05-17      BTC         45604.615754  ...    49670.414174   43868.638969\n",
              "2021-05-18      BTC         43144.471291  ...    46622.853437   42102.346430\n",
              "\n",
              "[2787 rows x 5 columns]"
            ]
          },
          "metadata": {},
          "execution_count": 38
        }
      ]
    },
    {
      "cell_type": "code",
      "metadata": {
        "id": "CMRA5-nVmPnh"
      },
      "source": [
        "import datetime "
      ],
      "execution_count": 39,
      "outputs": []
    },
    {
      "cell_type": "code",
      "metadata": {
        "colab": {
          "base_uri": "https://localhost:8080/",
          "height": 390
        },
        "id": "VtYlinvCm8EQ",
        "outputId": "82e12cd1-7f74-4b6b-955c-2a26206cac60"
      },
      "source": [
        "# Creating a day of week feature \n",
        "df['day_of_week'] = df.index.dayofweek\n",
        "df.head(10)"
      ],
      "execution_count": 40,
      "outputs": [
        {
          "output_type": "execute_result",
          "data": {
            "text/html": [
              "<div>\n",
              "<style scoped>\n",
              "    .dataframe tbody tr th:only-of-type {\n",
              "        vertical-align: middle;\n",
              "    }\n",
              "\n",
              "    .dataframe tbody tr th {\n",
              "        vertical-align: top;\n",
              "    }\n",
              "\n",
              "    .dataframe thead th {\n",
              "        text-align: right;\n",
              "    }\n",
              "</style>\n",
              "<table border=\"1\" class=\"dataframe\">\n",
              "  <thead>\n",
              "    <tr style=\"text-align: right;\">\n",
              "      <th></th>\n",
              "      <th>Currency</th>\n",
              "      <th>Closing Price (USD)</th>\n",
              "      <th>24h Open (USD)</th>\n",
              "      <th>24h High (USD)</th>\n",
              "      <th>24h Low (USD)</th>\n",
              "      <th>day_of_week</th>\n",
              "    </tr>\n",
              "    <tr>\n",
              "      <th>Date</th>\n",
              "      <th></th>\n",
              "      <th></th>\n",
              "      <th></th>\n",
              "      <th></th>\n",
              "      <th></th>\n",
              "      <th></th>\n",
              "    </tr>\n",
              "  </thead>\n",
              "  <tbody>\n",
              "    <tr>\n",
              "      <th>2013-10-01</th>\n",
              "      <td>BTC</td>\n",
              "      <td>123.65499</td>\n",
              "      <td>124.30466</td>\n",
              "      <td>124.75166</td>\n",
              "      <td>122.56349</td>\n",
              "      <td>1</td>\n",
              "    </tr>\n",
              "    <tr>\n",
              "      <th>2013-10-02</th>\n",
              "      <td>BTC</td>\n",
              "      <td>125.45500</td>\n",
              "      <td>123.65499</td>\n",
              "      <td>125.75850</td>\n",
              "      <td>123.63383</td>\n",
              "      <td>2</td>\n",
              "    </tr>\n",
              "    <tr>\n",
              "      <th>2013-10-03</th>\n",
              "      <td>BTC</td>\n",
              "      <td>108.58483</td>\n",
              "      <td>125.45500</td>\n",
              "      <td>125.66566</td>\n",
              "      <td>83.32833</td>\n",
              "      <td>3</td>\n",
              "    </tr>\n",
              "    <tr>\n",
              "      <th>2013-10-04</th>\n",
              "      <td>BTC</td>\n",
              "      <td>118.67466</td>\n",
              "      <td>108.58483</td>\n",
              "      <td>118.67500</td>\n",
              "      <td>107.05816</td>\n",
              "      <td>4</td>\n",
              "    </tr>\n",
              "    <tr>\n",
              "      <th>2013-10-05</th>\n",
              "      <td>BTC</td>\n",
              "      <td>121.33866</td>\n",
              "      <td>118.67466</td>\n",
              "      <td>121.93633</td>\n",
              "      <td>118.00566</td>\n",
              "      <td>5</td>\n",
              "    </tr>\n",
              "    <tr>\n",
              "      <th>2013-10-06</th>\n",
              "      <td>BTC</td>\n",
              "      <td>120.65533</td>\n",
              "      <td>121.33866</td>\n",
              "      <td>121.85216</td>\n",
              "      <td>120.55450</td>\n",
              "      <td>6</td>\n",
              "    </tr>\n",
              "    <tr>\n",
              "      <th>2013-10-07</th>\n",
              "      <td>BTC</td>\n",
              "      <td>121.79500</td>\n",
              "      <td>120.65533</td>\n",
              "      <td>121.99166</td>\n",
              "      <td>120.43199</td>\n",
              "      <td>0</td>\n",
              "    </tr>\n",
              "    <tr>\n",
              "      <th>2013-10-08</th>\n",
              "      <td>BTC</td>\n",
              "      <td>123.03300</td>\n",
              "      <td>121.79500</td>\n",
              "      <td>123.64016</td>\n",
              "      <td>121.35066</td>\n",
              "      <td>1</td>\n",
              "    </tr>\n",
              "    <tr>\n",
              "      <th>2013-10-09</th>\n",
              "      <td>BTC</td>\n",
              "      <td>124.04900</td>\n",
              "      <td>123.03300</td>\n",
              "      <td>124.78350</td>\n",
              "      <td>122.59266</td>\n",
              "      <td>2</td>\n",
              "    </tr>\n",
              "    <tr>\n",
              "      <th>2013-10-10</th>\n",
              "      <td>BTC</td>\n",
              "      <td>125.96116</td>\n",
              "      <td>124.04900</td>\n",
              "      <td>128.01683</td>\n",
              "      <td>123.81966</td>\n",
              "      <td>3</td>\n",
              "    </tr>\n",
              "  </tbody>\n",
              "</table>\n",
              "</div>"
            ],
            "text/plain": [
              "           Currency  Closing Price (USD)  ...  24h Low (USD)  day_of_week\n",
              "Date                                      ...                            \n",
              "2013-10-01      BTC            123.65499  ...      122.56349            1\n",
              "2013-10-02      BTC            125.45500  ...      123.63383            2\n",
              "2013-10-03      BTC            108.58483  ...       83.32833            3\n",
              "2013-10-04      BTC            118.67466  ...      107.05816            4\n",
              "2013-10-05      BTC            121.33866  ...      118.00566            5\n",
              "2013-10-06      BTC            120.65533  ...      120.55450            6\n",
              "2013-10-07      BTC            121.79500  ...      120.43199            0\n",
              "2013-10-08      BTC            123.03300  ...      121.35066            1\n",
              "2013-10-09      BTC            124.04900  ...      122.59266            2\n",
              "2013-10-10      BTC            125.96116  ...      123.81966            3\n",
              "\n",
              "[10 rows x 6 columns]"
            ]
          },
          "metadata": {},
          "execution_count": 40
        }
      ]
    },
    {
      "cell_type": "code",
      "metadata": {
        "id": "ppVyHOd9pZUC"
      },
      "source": [
        "# Defining the hyper parameters \n",
        "HORIZON = 1 \n",
        "WINDOW_SIZE = 7 \n",
        "\n",
        "bitcoin_prices_windowed['day_of_week'] = bitcoin_prices_windowed.index.dayofweek"
      ],
      "execution_count": 41,
      "outputs": []
    },
    {
      "cell_type": "code",
      "metadata": {
        "id": "Z6zN_LcoqCca"
      },
      "source": [
        "# Getting three kinds of data (univariate , multivariate and the day of week)\n",
        "\n",
        "# Univariate data \n",
        "full_windows , full_labels = make_windows_scaled(prices)\n",
        "train_windows , test_windows , train_labels , test_labels = make_train_test_splits(full_windows , full_labels)\n",
        "\n",
        "# Multivaritate dat \n",
        "X = bitcoin_prices_windowed.dropna().drop('Price' , axis = 1).astype(np.float32)\n",
        "X_scaled = scaler.fit_transform(X)\n",
        "y = bitcoin_prices_windowed.dropna()['Price'].astype(np.float32)\n",
        "\n",
        "# Day of week \n",
        "day_of_week = bitcoin_prices_windowed.dropna()['day_of_week'].to_list()"
      ],
      "execution_count": 42,
      "outputs": []
    },
    {
      "cell_type": "code",
      "metadata": {
        "colab": {
          "base_uri": "https://localhost:8080/"
        },
        "id": "4YCJnEBEzj69",
        "outputId": "adf2e920-6c2d-4bb0-e802-6f92c370b31f"
      },
      "source": [
        "# Checking the shapes \n",
        "print(full_windows.shape , full_labels.shape)\n",
        "print(X.shape , y.shape)\n",
        "print(len(day_of_week))"
      ],
      "execution_count": 43,
      "outputs": [
        {
          "output_type": "stream",
          "name": "stdout",
          "text": [
            "(2780, 7) (2780, 1)\n",
            "(2780, 9) (2780,)\n",
            "2780\n"
          ]
        }
      ]
    },
    {
      "cell_type": "code",
      "metadata": {
        "colab": {
          "base_uri": "https://localhost:8080/"
        },
        "id": "CvJBEkZR4XVp",
        "outputId": "efef705a-8a90-4f06-eaeb-d9a6764d8491"
      },
      "source": [
        "# Splitting the multivariate and the day_of_week to train and test splits \n",
        "split_size = int(len(X) * 0.8)\n",
        "train_block_rewards , test_block_rewards = X[:split_size] , X[split_size:]\n",
        "train_days , test_days = day_of_week[:split_size] , day_of_week[split_size:]\n",
        " \n",
        "len(train_block_rewards), len(train_days) , len(test_block_rewards) , len(test_days)"
      ],
      "execution_count": 44,
      "outputs": [
        {
          "output_type": "execute_result",
          "data": {
            "text/plain": [
              "(2224, 2224, 556, 556)"
            ]
          },
          "metadata": {},
          "execution_count": 44
        }
      ]
    },
    {
      "cell_type": "code",
      "metadata": {
        "colab": {
          "base_uri": "https://localhost:8080/"
        },
        "id": "lQd1NpWSzke0",
        "outputId": "38713484-c851-4fd6-ce97-3c70506532ce"
      },
      "source": [
        "# Building a performant dataset for train and test \n",
        "\n",
        "train_data_tribid = tf.data.Dataset.from_tensor_slices((train_windows , \n",
        "                                                        train_block_rewards , \n",
        "                                                        train_days))\n",
        "\n",
        "train_labels_tribid = tf.data.Dataset.from_tensor_slices(train_labels)\n",
        "\n",
        "# The test/val split \n",
        "test_data_tribid = tf.data.Dataset.from_tensor_slices((test_windows , \n",
        "                                                       test_block_rewards , \n",
        "                                                       test_days))\n",
        "\n",
        "test_labels_tribid = tf.data.Dataset.from_tensor_slices(test_labels)\n",
        "\n",
        "# Zipping the data and labels into one complete dataset \n",
        "tribid_train_ds = tf.data.Dataset.zip((train_data_tribid , train_labels_tribid))\n",
        "tribid_test_ds = tf.data.Dataset.zip((test_data_tribid , test_labels_tribid))\n",
        "\n",
        "# Applying prefetch and batching the dataset \n",
        "tribid_train_ds = tribid_train_ds.batch(128).prefetch(tf.data.AUTOTUNE)\n",
        "tribid_test_ds = tribid_test_ds.batch(128).prefetch(tf.data.AUTOTUNE)\n",
        "\n",
        "tribid_train_ds ,tribid_test_ds"
      ],
      "execution_count": 45,
      "outputs": [
        {
          "output_type": "execute_result",
          "data": {
            "text/plain": [
              "(<PrefetchDataset shapes: (((None, 7), (None, 9), (None,)), (None, 1)), types: ((tf.float64, tf.float32, tf.int32), tf.float64)>,\n",
              " <PrefetchDataset shapes: (((None, 7), (None, 9), (None,)), (None, 1)), types: ((tf.float64, tf.float32, tf.int32), tf.float64)>)"
            ]
          },
          "metadata": {},
          "execution_count": 45
        }
      ]
    },
    {
      "cell_type": "code",
      "metadata": {
        "colab": {
          "base_uri": "https://localhost:8080/"
        },
        "id": "tyhukkUSzmu8",
        "outputId": "6c18723a-dbc1-49a5-d45c-38745a2586d3"
      },
      "source": [
        "# Building a tribid model \n",
        "\n",
        "input_windows = layers.Input(shape = (7,) , dtype=tf.float64 , name='Window Inputs')\n",
        "exp_layer_1 = layers.Lambda(lambda x: tf.expand_dims(x , axis = 1))(input_windows)\n",
        "conv1 = layers.Conv1D(filters= 32 , kernel_size=5 , padding='causal' , activation= 'relu')(exp_layer_1)\n",
        "window_model = tf.keras.Model(input_windows , conv1 , name = 'Windowed model')\n",
        "\n",
        "input_blocks = layers.Input(shape = (9,) , dtype= tf.float32 , name ='Block rewards input')\n",
        "exp_layer_2 = layers.Lambda(lambda x: tf.expand_dims(x , axis = 1))(input_blocks)\n",
        "conv2 = layers.Conv1D(filters = 32 , kernel_size= 5 , activation= 'relu' , padding = 'causal')(exp_layer_2)\n",
        "block_model = tf.keras.Model(input_blocks , conv2 , name = 'Block rewards model')\n",
        "\n",
        "\n",
        "# Use expand dims to match the same shape output (None , 1 , 128)\n",
        "# whereas without expand dims it would be (None , 128)\n",
        "input_days = layers.Input(shape= (1,) , dtype = tf.int32 , name ='Days of week Input')\n",
        "exp_layer_3 = layers.Lambda(lambda x: tf.expand_dims(x , axis = 1))(input_days)\n",
        "dense = layers.Dense(128 , activation= 'relu')(exp_layer_3)\n",
        "days_model = tf.keras.Model(input_days , dense , name = 'Days Model')\n",
        "\n",
        "# Concatenating the inputs \n",
        "concat = layers.Concatenate(name = 'combined_outputs' )([window_model.output , \n",
        "                                                           block_model.output , \n",
        "                                                           days_model.output])\n",
        "\n",
        "# Creating the output layer \n",
        "dropout = layers.Dropout(0.4)(concat)\n",
        "output_layer = layers.Dense(1 , activation = 'linear')(dropout)\n",
        "\n",
        "# Putting everything into a model \n",
        "tribid_model = tf.keras.Model(inputs = [window_model.input , \n",
        "                                        block_model.input , \n",
        "                                        days_model.input] , \n",
        "                              outputs = output_layer)\n",
        "tribid_model.summary()\n",
        "\n"
      ],
      "execution_count": 46,
      "outputs": [
        {
          "output_type": "stream",
          "name": "stdout",
          "text": [
            "Model: \"model_1\"\n",
            "__________________________________________________________________________________________________\n",
            "Layer (type)                    Output Shape         Param #     Connected to                     \n",
            "==================================================================================================\n",
            "Window Inputs (InputLayer)      [(None, 7)]          0                                            \n",
            "__________________________________________________________________________________________________\n",
            "Block rewards input (InputLayer [(None, 9)]          0                                            \n",
            "__________________________________________________________________________________________________\n",
            "Days of week Input (InputLayer) [(None, 1)]          0                                            \n",
            "__________________________________________________________________________________________________\n",
            "lambda (Lambda)                 (None, 1, 7)         0           Window Inputs[0][0]              \n",
            "__________________________________________________________________________________________________\n",
            "lambda_1 (Lambda)               (None, 1, 9)         0           Block rewards input[0][0]        \n",
            "__________________________________________________________________________________________________\n",
            "lambda_2 (Lambda)               (None, 1, 1)         0           Days of week Input[0][0]         \n",
            "__________________________________________________________________________________________________\n",
            "conv1d (Conv1D)                 (None, 1, 32)        1152        lambda[0][0]                     \n",
            "__________________________________________________________________________________________________\n",
            "conv1d_1 (Conv1D)               (None, 1, 32)        1472        lambda_1[0][0]                   \n",
            "__________________________________________________________________________________________________\n",
            "dense_28 (Dense)                (None, 1, 128)       256         lambda_2[0][0]                   \n",
            "__________________________________________________________________________________________________\n",
            "combined_outputs (Concatenate)  (None, 1, 192)       0           conv1d[0][0]                     \n",
            "                                                                 conv1d_1[0][0]                   \n",
            "                                                                 dense_28[0][0]                   \n",
            "__________________________________________________________________________________________________\n",
            "dropout (Dropout)               (None, 1, 192)       0           combined_outputs[0][0]           \n",
            "__________________________________________________________________________________________________\n",
            "dense_29 (Dense)                (None, 1, 1)         193         dropout[0][0]                    \n",
            "==================================================================================================\n",
            "Total params: 3,073\n",
            "Trainable params: 3,073\n",
            "Non-trainable params: 0\n",
            "__________________________________________________________________________________________________\n"
          ]
        }
      ]
    },
    {
      "cell_type": "code",
      "metadata": {
        "colab": {
          "base_uri": "https://localhost:8080/"
        },
        "id": "iDB8vFtu17Rp",
        "outputId": "82092496-c7eb-4ed1-9037-4a179895a4a5"
      },
      "source": [
        "# Compiling and fitting the model \n",
        "tribid_model.compile(loss = 'mae' , \n",
        "                     optimizer = 'adam' , metrics = ['mae'])\n",
        "\n",
        "# Fitting the model \n",
        "tribid_model.fit(tribid_train_ds , \n",
        "                 epochs = 20,  \n",
        "                 validation_data = tribid_test_ds , verbose = 2)"
      ],
      "execution_count": 47,
      "outputs": [
        {
          "output_type": "stream",
          "name": "stdout",
          "text": [
            "Epoch 1/20\n",
            "18/18 - 1s - loss: 173.1271 - mae: 173.1271 - val_loss: 124.0175 - val_mae: 124.0175\n",
            "Epoch 2/20\n",
            "18/18 - 0s - loss: 96.4324 - mae: 96.4324 - val_loss: 37.3843 - val_mae: 37.3843\n",
            "Epoch 3/20\n",
            "18/18 - 0s - loss: 58.4491 - mae: 58.4491 - val_loss: 40.1556 - val_mae: 40.1556\n",
            "Epoch 4/20\n",
            "18/18 - 0s - loss: 25.2752 - mae: 25.2752 - val_loss: 25.2996 - val_mae: 25.2996\n",
            "Epoch 5/20\n",
            "18/18 - 0s - loss: 6.4564 - mae: 6.4564 - val_loss: 7.1498 - val_mae: 7.1498\n",
            "Epoch 6/20\n",
            "18/18 - 0s - loss: 3.2152 - mae: 3.2152 - val_loss: 14.4171 - val_mae: 14.4171\n",
            "Epoch 7/20\n",
            "18/18 - 0s - loss: 1.3200 - mae: 1.3200 - val_loss: 5.2407 - val_mae: 5.2407\n",
            "Epoch 8/20\n",
            "18/18 - 0s - loss: 0.3744 - mae: 0.3744 - val_loss: 0.3289 - val_mae: 0.3289\n",
            "Epoch 9/20\n",
            "18/18 - 0s - loss: 0.2766 - mae: 0.2766 - val_loss: 0.3679 - val_mae: 0.3679\n",
            "Epoch 10/20\n",
            "18/18 - 0s - loss: 0.2502 - mae: 0.2502 - val_loss: 0.8294 - val_mae: 0.8294\n",
            "Epoch 11/20\n",
            "18/18 - 0s - loss: 0.4526 - mae: 0.4526 - val_loss: 1.4310 - val_mae: 1.4310\n",
            "Epoch 12/20\n",
            "18/18 - 0s - loss: 0.2831 - mae: 0.2831 - val_loss: 0.7019 - val_mae: 0.7019\n",
            "Epoch 13/20\n",
            "18/18 - 0s - loss: 0.2143 - mae: 0.2143 - val_loss: 0.2403 - val_mae: 0.2403\n",
            "Epoch 14/20\n",
            "18/18 - 0s - loss: 0.1896 - mae: 0.1896 - val_loss: 0.2570 - val_mae: 0.2570\n",
            "Epoch 15/20\n",
            "18/18 - 0s - loss: 0.1637 - mae: 0.1637 - val_loss: 0.2061 - val_mae: 0.2061\n",
            "Epoch 16/20\n",
            "18/18 - 0s - loss: 0.1283 - mae: 0.1283 - val_loss: 0.2460 - val_mae: 0.2460\n",
            "Epoch 17/20\n",
            "18/18 - 0s - loss: 0.1077 - mae: 0.1077 - val_loss: 0.1839 - val_mae: 0.1839\n",
            "Epoch 18/20\n",
            "18/18 - 0s - loss: 0.1213 - mae: 0.1213 - val_loss: 0.2423 - val_mae: 0.2423\n",
            "Epoch 19/20\n",
            "18/18 - 0s - loss: 0.0994 - mae: 0.0994 - val_loss: 0.2242 - val_mae: 0.2242\n",
            "Epoch 20/20\n",
            "18/18 - 0s - loss: 0.1007 - mae: 0.1007 - val_loss: 0.1563 - val_mae: 0.1563\n"
          ]
        },
        {
          "output_type": "execute_result",
          "data": {
            "text/plain": [
              "<keras.callbacks.History at 0x7f5f278da8d0>"
            ]
          },
          "metadata": {},
          "execution_count": 47
        }
      ]
    },
    {
      "cell_type": "code",
      "metadata": {
        "colab": {
          "base_uri": "https://localhost:8080/"
        },
        "id": "zzCKgn8598cB",
        "outputId": "fb07da76-d3fa-4e23-b27e-a4200f9fcfdd"
      },
      "source": [
        "# Evaluating the model \n",
        "tribid_model.evaluate(tribid_test_ds)"
      ],
      "execution_count": 48,
      "outputs": [
        {
          "output_type": "stream",
          "name": "stdout",
          "text": [
            "5/5 [==============================] - 0s 3ms/step - loss: 0.1563 - mae: 0.1563\n"
          ]
        },
        {
          "output_type": "execute_result",
          "data": {
            "text/plain": [
              "[0.1563473492860794, 0.1563473492860794]"
            ]
          },
          "metadata": {},
          "execution_count": 48
        }
      ]
    },
    {
      "cell_type": "markdown",
      "metadata": {
        "id": "uaqbrn-xnnjW"
      },
      "source": [
        "### 6. Make prediction intervals for future forecasts. To do so, one way would be to train an ensemble model on all of the data, make future forecasts with it and calculate the prediction intervals of the ensemble just like we did for model_8."
      ]
    },
    {
      "cell_type": "markdown",
      "metadata": {
        "id": "EuGAuQZpovQ9"
      },
      "source": [
        "**Things to do**\n",
        "- Train an ensemble model on the whole data. \n",
        "- Make one dataset (no test/valid) which will use to predict future forecasts of bitcoins. \n",
        "- Make a function that will take the number of iterations and different loss functions to train the model with. \n"
      ]
    },
    {
      "cell_type": "code",
      "metadata": {
        "colab": {
          "base_uri": "https://localhost:8080/"
        },
        "id": "gS_NBQuqt5Bb",
        "outputId": "f3e09108-7264-4d1a-f860-f54e33df4ee7"
      },
      "source": [
        "# Make one whole dataset (with the updated bitcoin prices 2014 - 2021)\n",
        "\n",
        "X_all = bitcoin_prices_windowed.drop(['Price' , 'block_reward' , 'day_of_week'] , axis = 1).dropna().to_numpy()\n",
        "y_all = bitcoin_prices_windowed.dropna()['Price'].to_numpy()\n",
        "\n",
        "whole_ds = tf.data.Dataset.from_tensor_slices((X_all , y_all))\n",
        "whole_ds = whole_ds.batch(128).prefetch(tf.data.AUTOTUNE)\n",
        "whole_ds"
      ],
      "execution_count": 49,
      "outputs": [
        {
          "output_type": "execute_result",
          "data": {
            "text/plain": [
              "<PrefetchDataset shapes: ((None, 7), (None,)), types: (tf.float64, tf.float64)>"
            ]
          },
          "metadata": {},
          "execution_count": 49
        }
      ]
    },
    {
      "cell_type": "code",
      "metadata": {
        "id": "a5zZCOdSvBDX"
      },
      "source": [
        "# Creating the function \n",
        "\n",
        "def get_ensemble_models(horizon = HORIZON , \n",
        "                        dataset = whole_ds , \n",
        "                        num_iter = 10 , \n",
        "                        num_epochs = 100 , \n",
        "                        loss_fns = ['mae' , 'mse' , 'mape']):\n",
        "  \n",
        "\n",
        "  # Make a empty list of the ensemble models \n",
        "  ensemble_models = []\n",
        "\n",
        "  # Create num_iter number of models per loss functions \n",
        "  for i in range(num_iter):\n",
        "    for loss_functions in loss_fns:\n",
        "      print(f'Optimizing model by reducing: {loss_functions} for {num_epochs} epochs, model number: {i}')\n",
        "\n",
        "      model = tf.keras.Sequential([\n",
        "          layers.Dense(128 , kernel_initializer='he_normal' , activation= 'relu'),\n",
        "          layers.Dense(128 , kernel_initializer= 'he_normal', activation= 'relu'),\n",
        "          layers.Dense(HORIZON)\n",
        "      ])\n",
        "\n",
        "      # Compiling the model \n",
        "      model.compile(loss = loss_functions , \n",
        "                    optimizer = 'adam' , metrics = ['mae' , 'mse'])\n",
        "      \n",
        "      # Fit the model \n",
        "      model.fit(dataset , \n",
        "                epochs = num_epochs , \n",
        "                verbose = 0,\n",
        "                callbacks=[tf.keras.callbacks.EarlyStopping(monitor=\"loss\",\n",
        "                                                            patience=200,\n",
        "                                                            restore_best_weights=True),\n",
        "                           tf.keras.callbacks.ReduceLROnPlateau(monitor=\"loss\",\n",
        "                                                                patience=100,\n",
        "                                                                verbose=1)])\n",
        "      \n",
        "      ensemble_models.append(model)\n",
        "\n",
        "  return ensemble_models"
      ],
      "execution_count": 50,
      "outputs": []
    },
    {
      "cell_type": "code",
      "metadata": {
        "colab": {
          "base_uri": "https://localhost:8080/"
        },
        "id": "btGEQNfLvCXL",
        "outputId": "15ecb076-e294-4ed3-c55c-a7fa93214695"
      },
      "source": [
        "# Running the above function \n",
        "ensemble_models = get_ensemble_models(num_iter=5 , num_epochs= 1000 , horizon = 1)"
      ],
      "execution_count": 51,
      "outputs": [
        {
          "output_type": "stream",
          "name": "stdout",
          "text": [
            "Optimizing model by reducing: mae for 1000 epochs, model number: 0\n",
            "\n",
            "Epoch 00304: ReduceLROnPlateau reducing learning rate to 0.00010000000474974513.\n",
            "\n",
            "Epoch 00438: ReduceLROnPlateau reducing learning rate to 1.0000000474974514e-05.\n",
            "Optimizing model by reducing: mse for 1000 epochs, model number: 0\n",
            "\n",
            "Epoch 00138: ReduceLROnPlateau reducing learning rate to 0.00010000000474974513.\n",
            "\n",
            "Epoch 00421: ReduceLROnPlateau reducing learning rate to 1.0000000474974514e-05.\n",
            "Optimizing model by reducing: mape for 1000 epochs, model number: 0\n",
            "\n",
            "Epoch 00272: ReduceLROnPlateau reducing learning rate to 0.00010000000474974513.\n",
            "\n",
            "Epoch 00374: ReduceLROnPlateau reducing learning rate to 1.0000000474974514e-05.\n",
            "\n",
            "Epoch 00495: ReduceLROnPlateau reducing learning rate to 1.0000000656873453e-06.\n",
            "Optimizing model by reducing: mae for 1000 epochs, model number: 1\n",
            "\n",
            "Epoch 00156: ReduceLROnPlateau reducing learning rate to 0.00010000000474974513.\n",
            "\n",
            "Epoch 00323: ReduceLROnPlateau reducing learning rate to 1.0000000474974514e-05.\n",
            "Optimizing model by reducing: mse for 1000 epochs, model number: 1\n",
            "\n",
            "Epoch 00402: ReduceLROnPlateau reducing learning rate to 0.00010000000474974513.\n",
            "\n",
            "Epoch 00677: ReduceLROnPlateau reducing learning rate to 1.0000000474974514e-05.\n",
            "Optimizing model by reducing: mape for 1000 epochs, model number: 1\n",
            "\n",
            "Epoch 00388: ReduceLROnPlateau reducing learning rate to 0.00010000000474974513.\n",
            "\n",
            "Epoch 00489: ReduceLROnPlateau reducing learning rate to 1.0000000474974514e-05.\n",
            "\n",
            "Epoch 00590: ReduceLROnPlateau reducing learning rate to 1.0000000656873453e-06.\n",
            "Optimizing model by reducing: mae for 1000 epochs, model number: 2\n",
            "\n",
            "Epoch 00187: ReduceLROnPlateau reducing learning rate to 0.00010000000474974513.\n",
            "\n",
            "Epoch 00324: ReduceLROnPlateau reducing learning rate to 1.0000000474974514e-05.\n",
            "Optimizing model by reducing: mse for 1000 epochs, model number: 2\n",
            "\n",
            "Epoch 00218: ReduceLROnPlateau reducing learning rate to 0.00010000000474974513.\n",
            "\n",
            "Epoch 00597: ReduceLROnPlateau reducing learning rate to 1.0000000474974514e-05.\n",
            "Optimizing model by reducing: mape for 1000 epochs, model number: 2\n",
            "\n",
            "Epoch 00253: ReduceLROnPlateau reducing learning rate to 0.00010000000474974513.\n",
            "\n",
            "Epoch 00360: ReduceLROnPlateau reducing learning rate to 1.0000000474974514e-05.\n",
            "\n",
            "Epoch 00461: ReduceLROnPlateau reducing learning rate to 1.0000000656873453e-06.\n",
            "Optimizing model by reducing: mae for 1000 epochs, model number: 3\n",
            "\n",
            "Epoch 00101: ReduceLROnPlateau reducing learning rate to 0.00010000000474974513.\n",
            "\n",
            "Epoch 00256: ReduceLROnPlateau reducing learning rate to 1.0000000474974514e-05.\n",
            "Optimizing model by reducing: mse for 1000 epochs, model number: 3\n",
            "\n",
            "Epoch 00164: ReduceLROnPlateau reducing learning rate to 0.00010000000474974513.\n",
            "\n",
            "Epoch 00428: ReduceLROnPlateau reducing learning rate to 1.0000000474974514e-05.\n",
            "Optimizing model by reducing: mape for 1000 epochs, model number: 3\n",
            "\n",
            "Epoch 00218: ReduceLROnPlateau reducing learning rate to 0.00010000000474974513.\n",
            "\n",
            "Epoch 00320: ReduceLROnPlateau reducing learning rate to 1.0000000474974514e-05.\n",
            "\n",
            "Epoch 00421: ReduceLROnPlateau reducing learning rate to 1.0000000656873453e-06.\n",
            "\n",
            "Epoch 00525: ReduceLROnPlateau reducing learning rate to 1.0000001111620805e-07.\n",
            "\n",
            "Epoch 00662: ReduceLROnPlateau reducing learning rate to 1.000000082740371e-08.\n",
            "\n",
            "Epoch 00763: ReduceLROnPlateau reducing learning rate to 1.000000082740371e-09.\n",
            "\n",
            "Epoch 00863: ReduceLROnPlateau reducing learning rate to 1.000000082740371e-10.\n",
            "\n",
            "Epoch 00963: ReduceLROnPlateau reducing learning rate to 1.000000082740371e-11.\n",
            "Optimizing model by reducing: mae for 1000 epochs, model number: 4\n",
            "\n",
            "Epoch 00246: ReduceLROnPlateau reducing learning rate to 0.00010000000474974513.\n",
            "\n",
            "Epoch 00367: ReduceLROnPlateau reducing learning rate to 1.0000000474974514e-05.\n",
            "Optimizing model by reducing: mse for 1000 epochs, model number: 4\n",
            "\n",
            "Epoch 00249: ReduceLROnPlateau reducing learning rate to 0.00010000000474974513.\n",
            "\n",
            "Epoch 00532: ReduceLROnPlateau reducing learning rate to 1.0000000474974514e-05.\n",
            "Optimizing model by reducing: mape for 1000 epochs, model number: 4\n",
            "\n",
            "Epoch 00213: ReduceLROnPlateau reducing learning rate to 0.00010000000474974513.\n",
            "\n",
            "Epoch 00314: ReduceLROnPlateau reducing learning rate to 1.0000000474974514e-05.\n",
            "\n",
            "Epoch 00514: ReduceLROnPlateau reducing learning rate to 1.0000000656873453e-06.\n",
            "\n",
            "Epoch 00616: ReduceLROnPlateau reducing learning rate to 1.0000001111620805e-07.\n",
            "\n",
            "Epoch 00802: ReduceLROnPlateau reducing learning rate to 1.000000082740371e-08.\n",
            "\n",
            "Epoch 00903: ReduceLROnPlateau reducing learning rate to 1.000000082740371e-09.\n"
          ]
        }
      ]
    },
    {
      "cell_type": "code",
      "metadata": {
        "id": "jM4bW2EN__jH"
      },
      "source": [
        "# Making future forecastts of Bitcoins (using the whole data)\n",
        "def make_future_forecast(values , model_list , into_future , window_size):\n",
        "\n",
        "  future_forecast = []\n",
        "  last_window = values[-window_size:]\n",
        "\n",
        "  for _ in range(into_future): \n",
        "    for model in model_list:\n",
        "    \n",
        "      future_pred = model.predict(tf.expand_dims(last_window, axis= 0))\n",
        "      #future_pred = model.predict(last_window)\n",
        "      print(f'Predicing on: \\n {last_window} --> Prediction: {tf.squeeze(future_pred).numpy()}\\n')\n",
        "\n",
        "      future_forecast.append(tf.squeeze(future_pred).numpy())\n",
        "\n",
        "      # Update the last window \n",
        "      last_window = np.append(last_window , future_pred)[-window_size:]\n",
        "  return future_forecast"
      ],
      "execution_count": 52,
      "outputs": []
    },
    {
      "cell_type": "code",
      "metadata": {
        "colab": {
          "base_uri": "https://localhost:8080/"
        },
        "id": "SG-C8sGguG-o",
        "outputId": "57acbf21-893b-426c-f81a-43f9eb9818ee"
      },
      "source": [
        "# Getting the future forecast \n",
        "future_forecast = make_future_forecast(y_all , ensemble_models , into_future= 14 , window_size = 7 )"
      ],
      "execution_count": 53,
      "outputs": [
        {
          "output_type": "stream",
          "name": "stdout",
          "text": [
            "Predicing on: \n",
            " [56573.5554719  52147.82118698 49764.1320816  50032.69313676\n",
            " 47885.62525472 45604.61575361 43144.47129086] --> Prediction: 56393.9140625\n",
            "\n",
            "Predicing on: \n",
            " [52147.82118698 49764.1320816  50032.69313676 47885.62525472\n",
            " 45604.61575361 43144.47129086 56393.9140625 ] --> Prediction: 54017.7734375\n",
            "\n",
            "Predicing on: \n",
            " [49764.1320816  50032.69313676 47885.62525472 45604.61575361\n",
            " 43144.47129086 56393.9140625  54017.7734375 ] --> Prediction: 47962.16796875\n",
            "\n",
            "WARNING:tensorflow:5 out of the last 22 calls to <function Model.make_predict_function.<locals>.predict_function at 0x7f5f22b9e4d0> triggered tf.function retracing. Tracing is expensive and the excessive number of tracings could be due to (1) creating @tf.function repeatedly in a loop, (2) passing tensors with different shapes, (3) passing Python objects instead of tensors. For (1), please define your @tf.function outside of the loop. For (2), @tf.function has experimental_relax_shapes=True option that relaxes argument shapes that can avoid unnecessary retracing. For (3), please refer to https://www.tensorflow.org/guide/function#controlling_retracing and https://www.tensorflow.org/api_docs/python/tf/function for  more details.\n",
            "Predicing on: \n",
            " [50032.69313676 47885.62525472 45604.61575361 43144.47129086\n",
            " 56393.9140625  54017.7734375  47962.16796875] --> Prediction: 50942.78125\n",
            "\n",
            "WARNING:tensorflow:6 out of the last 23 calls to <function Model.make_predict_function.<locals>.predict_function at 0x7f5f1d2d54d0> triggered tf.function retracing. Tracing is expensive and the excessive number of tracings could be due to (1) creating @tf.function repeatedly in a loop, (2) passing tensors with different shapes, (3) passing Python objects instead of tensors. For (1), please define your @tf.function outside of the loop. For (2), @tf.function has experimental_relax_shapes=True option that relaxes argument shapes that can avoid unnecessary retracing. For (3), please refer to https://www.tensorflow.org/guide/function#controlling_retracing and https://www.tensorflow.org/api_docs/python/tf/function for  more details.\n",
            "Predicing on: \n",
            " [47885.62525472 45604.61575361 43144.47129086 56393.9140625\n",
            " 54017.7734375  47962.16796875 50942.78125   ] --> Prediction: 46727.8046875\n",
            "\n",
            "Predicing on: \n",
            " [45604.61575361 43144.47129086 56393.9140625  54017.7734375\n",
            " 47962.16796875 50942.78125    46727.8046875 ] --> Prediction: 45861.671875\n",
            "\n",
            "Predicing on: \n",
            " [43144.47129086 56393.9140625  54017.7734375  47962.16796875\n",
            " 50942.78125    46727.8046875  45861.671875  ] --> Prediction: 44864.1015625\n",
            "\n",
            "Predicing on: \n",
            " [56393.9140625  54017.7734375  47962.16796875 50942.78125\n",
            " 46727.8046875  45861.671875   44864.1015625 ] --> Prediction: 56452.046875\n",
            "\n",
            "Predicing on: \n",
            " [54017.7734375  47962.16796875 50942.78125    46727.8046875\n",
            " 45861.671875   44864.1015625  56452.046875  ] --> Prediction: 51451.390625\n",
            "\n",
            "Predicing on: \n",
            " [47962.16796875 50942.78125    46727.8046875  45861.671875\n",
            " 44864.1015625  56452.046875   51451.390625  ] --> Prediction: 48863.578125\n",
            "\n",
            "Predicing on: \n",
            " [50942.78125   46727.8046875 45861.671875  44864.1015625 56452.046875\n",
            " 51451.390625  48863.578125 ] --> Prediction: 51207.015625\n",
            "\n",
            "Predicing on: \n",
            " [46727.8046875 45861.671875  44864.1015625 56452.046875  51451.390625\n",
            " 48863.578125  51207.015625 ] --> Prediction: 46731.8203125\n",
            "\n",
            "Predicing on: \n",
            " [45861.671875  44864.1015625 56452.046875  51451.390625  48863.578125\n",
            " 51207.015625  46731.8203125] --> Prediction: 46192.66015625\n",
            "\n",
            "Predicing on: \n",
            " [44864.1015625  56452.046875   51451.390625   48863.578125\n",
            " 51207.015625   46731.8203125  46192.66015625] --> Prediction: 47911.23046875\n",
            "\n",
            "Predicing on: \n",
            " [56452.046875   51451.390625   48863.578125   51207.015625\n",
            " 46731.8203125  46192.66015625 47911.23046875] --> Prediction: 56282.6171875\n",
            "\n",
            "Predicing on: \n",
            " [51451.390625   48863.578125   51207.015625   46731.8203125\n",
            " 46192.66015625 47911.23046875 56282.6171875 ] --> Prediction: 50123.953125\n",
            "\n",
            "Predicing on: \n",
            " [48863.578125   51207.015625   46731.8203125  46192.66015625\n",
            " 47911.23046875 56282.6171875  50123.953125  ] --> Prediction: 48003.26953125\n",
            "\n",
            "Predicing on: \n",
            " [51207.015625   46731.8203125  46192.66015625 47911.23046875\n",
            " 56282.6171875  50123.953125   48003.26953125] --> Prediction: 50785.48046875\n",
            "\n",
            "Predicing on: \n",
            " [46731.8203125  46192.66015625 47911.23046875 56282.6171875\n",
            " 50123.953125   48003.26953125 50785.48046875] --> Prediction: 46381.83984375\n",
            "\n",
            "Predicing on: \n",
            " [46192.66015625 47911.23046875 56282.6171875  50123.953125\n",
            " 48003.26953125 50785.48046875 46381.83984375] --> Prediction: 47145.140625\n",
            "\n",
            "Predicing on: \n",
            " [47911.23046875 56282.6171875  50123.953125   48003.26953125\n",
            " 50785.48046875 46381.83984375 47145.140625  ] --> Prediction: 48285.0234375\n",
            "\n",
            "Predicing on: \n",
            " [56282.6171875  50123.953125   48003.26953125 50785.48046875\n",
            " 46381.83984375 47145.140625   48285.0234375 ] --> Prediction: 55764.58203125\n",
            "\n",
            "Predicing on: \n",
            " [50123.953125   48003.26953125 50785.48046875 46381.83984375\n",
            " 47145.140625   48285.0234375  55764.58203125] --> Prediction: 51085.05078125\n",
            "\n",
            "Predicing on: \n",
            " [48003.26953125 50785.48046875 46381.83984375 47145.140625\n",
            " 48285.0234375  55764.58203125 51085.05078125] --> Prediction: 48172.80859375\n",
            "\n",
            "Predicing on: \n",
            " [50785.48046875 46381.83984375 47145.140625   48285.0234375\n",
            " 55764.58203125 51085.05078125 48172.80859375] --> Prediction: 50463.453125\n",
            "\n",
            "Predicing on: \n",
            " [46381.83984375 47145.140625   48285.0234375  55764.58203125\n",
            " 51085.05078125 48172.80859375 50463.453125  ] --> Prediction: 46155.3828125\n",
            "\n",
            "Predicing on: \n",
            " [47145.140625   48285.0234375  55764.58203125 51085.05078125\n",
            " 48172.80859375 50463.453125   46155.3828125 ] --> Prediction: 48031.484375\n",
            "\n",
            "Predicing on: \n",
            " [48285.0234375  55764.58203125 51085.05078125 48172.80859375\n",
            " 50463.453125   46155.3828125  48031.484375  ] --> Prediction: 49102.78125\n",
            "\n",
            "Predicing on: \n",
            " [55764.58203125 51085.05078125 48172.80859375 50463.453125\n",
            " 46155.3828125  48031.484375   49102.78125   ] --> Prediction: 56283.421875\n",
            "\n",
            "Predicing on: \n",
            " [51085.05078125 48172.80859375 50463.453125   46155.3828125\n",
            " 48031.484375   49102.78125    56283.421875  ] --> Prediction: 50323.9609375\n",
            "\n",
            "Predicing on: \n",
            " [48172.80859375 50463.453125   46155.3828125  48031.484375\n",
            " 49102.78125    56283.421875   50323.9609375 ] --> Prediction: 48732.71875\n",
            "\n",
            "Predicing on: \n",
            " [50463.453125  46155.3828125 48031.484375  49102.78125   56283.421875\n",
            " 50323.9609375 48732.71875  ] --> Prediction: 50227.4765625\n",
            "\n",
            "Predicing on: \n",
            " [46155.3828125 48031.484375  49102.78125   56283.421875  50323.9609375\n",
            " 48732.71875   50227.4765625] --> Prediction: 46310.8046875\n",
            "\n",
            "Predicing on: \n",
            " [48031.484375  49102.78125   56283.421875  50323.9609375 48732.71875\n",
            " 50227.4765625 46310.8046875] --> Prediction: 48371.89453125\n",
            "\n",
            "Predicing on: \n",
            " [49102.78125    56283.421875   50323.9609375  48732.71875\n",
            " 50227.4765625  46310.8046875  48371.89453125] --> Prediction: 50554.3203125\n",
            "\n",
            "Predicing on: \n",
            " [56283.421875   50323.9609375  48732.71875    50227.4765625\n",
            " 46310.8046875  48371.89453125 50554.3203125 ] --> Prediction: 55898.3359375\n",
            "\n",
            "Predicing on: \n",
            " [50323.9609375  48732.71875    50227.4765625  46310.8046875\n",
            " 48371.89453125 50554.3203125  55898.3359375 ] --> Prediction: 49544.0390625\n",
            "\n",
            "Predicing on: \n",
            " [48732.71875    50227.4765625  46310.8046875  48371.89453125\n",
            " 50554.3203125  55898.3359375  49544.0390625 ] --> Prediction: 49103.9296875\n",
            "\n",
            "Predicing on: \n",
            " [50227.4765625  46310.8046875  48371.89453125 50554.3203125\n",
            " 55898.3359375  49544.0390625  49103.9296875 ] --> Prediction: 49796.2421875\n",
            "\n",
            "Predicing on: \n",
            " [46310.8046875  48371.89453125 50554.3203125  55898.3359375\n",
            " 49544.0390625  49103.9296875  49796.2421875 ] --> Prediction: 45768.51171875\n",
            "\n",
            "Predicing on: \n",
            " [48371.89453125 50554.3203125  55898.3359375  49544.0390625\n",
            " 49103.9296875  49796.2421875  45768.51171875] --> Prediction: 48544.9296875\n",
            "\n",
            "Predicing on: \n",
            " [50554.3203125  55898.3359375  49544.0390625  49103.9296875\n",
            " 49796.2421875  45768.51171875 48544.9296875 ] --> Prediction: 50777.8671875\n",
            "\n",
            "Predicing on: \n",
            " [55898.3359375  49544.0390625  49103.9296875  49796.2421875\n",
            " 45768.51171875 48544.9296875  50777.8671875 ] --> Prediction: 54836.2734375\n",
            "\n",
            "Predicing on: \n",
            " [49544.0390625  49103.9296875  49796.2421875  45768.51171875\n",
            " 48544.9296875  50777.8671875  54836.2734375 ] --> Prediction: 49565.2890625\n",
            "\n",
            "Predicing on: \n",
            " [49103.9296875  49796.2421875  45768.51171875 48544.9296875\n",
            " 50777.8671875  54836.2734375  49565.2890625 ] --> Prediction: 49562.37890625\n",
            "\n",
            "Predicing on: \n",
            " [49796.2421875  45768.51171875 48544.9296875  50777.8671875\n",
            " 54836.2734375  49565.2890625  49562.37890625] --> Prediction: 49270.93359375\n",
            "\n",
            "Predicing on: \n",
            " [45768.51171875 48544.9296875  50777.8671875  54836.2734375\n",
            " 49565.2890625  49562.37890625 49270.93359375] --> Prediction: 45760.8046875\n",
            "\n",
            "Predicing on: \n",
            " [48544.9296875  50777.8671875  54836.2734375  49565.2890625\n",
            " 49562.37890625 49270.93359375 45760.8046875 ] --> Prediction: 49161.3828125\n",
            "\n",
            "Predicing on: \n",
            " [50777.8671875  54836.2734375  49565.2890625  49562.37890625\n",
            " 49270.93359375 45760.8046875  49161.3828125 ] --> Prediction: 51403.3359375\n",
            "\n",
            "Predicing on: \n",
            " [54836.2734375  49565.2890625  49562.37890625 49270.93359375\n",
            " 45760.8046875  49161.3828125  51403.3359375 ] --> Prediction: 54375.02734375\n",
            "\n",
            "Predicing on: \n",
            " [49565.2890625  49562.37890625 49270.93359375 45760.8046875\n",
            " 49161.3828125  51403.3359375  54375.02734375] --> Prediction: 48986.8203125\n",
            "\n",
            "Predicing on: \n",
            " [49562.37890625 49270.93359375 45760.8046875  49161.3828125\n",
            " 51403.3359375  54375.02734375 48986.8203125 ] --> Prediction: 50394.9140625\n",
            "\n",
            "Predicing on: \n",
            " [49270.93359375 45760.8046875  49161.3828125  51403.3359375\n",
            " 54375.02734375 48986.8203125  50394.9140625 ] --> Prediction: 48840.24609375\n",
            "\n",
            "Predicing on: \n",
            " [45760.8046875  49161.3828125  51403.3359375  54375.02734375\n",
            " 48986.8203125  50394.9140625  48840.24609375] --> Prediction: 46024.56640625\n",
            "\n",
            "Predicing on: \n",
            " [49161.3828125  51403.3359375  54375.02734375 48986.8203125\n",
            " 50394.9140625  48840.24609375 46024.56640625] --> Prediction: 49481.828125\n",
            "\n",
            "Predicing on: \n",
            " [51403.3359375  54375.02734375 48986.8203125  50394.9140625\n",
            " 48840.24609375 46024.56640625 49481.828125  ] --> Prediction: 51802.73046875\n",
            "\n",
            "Predicing on: \n",
            " [54375.02734375 48986.8203125  50394.9140625  48840.24609375\n",
            " 46024.56640625 49481.828125   51802.73046875] --> Prediction: 53703.80078125\n",
            "\n",
            "Predicing on: \n",
            " [48986.8203125  50394.9140625  48840.24609375 46024.56640625\n",
            " 49481.828125   51802.73046875 53703.80078125] --> Prediction: 48709.10546875\n",
            "\n",
            "Predicing on: \n",
            " [50394.9140625  48840.24609375 46024.56640625 49481.828125\n",
            " 51802.73046875 53703.80078125 48709.10546875] --> Prediction: 50423.18359375\n",
            "\n",
            "Predicing on: \n",
            " [48840.24609375 46024.56640625 49481.828125   51802.73046875\n",
            " 53703.80078125 48709.10546875 50423.18359375] --> Prediction: 48579.90234375\n",
            "\n",
            "Predicing on: \n",
            " [46024.56640625 49481.828125   51802.73046875 53703.80078125\n",
            " 48709.10546875 50423.18359375 48579.90234375] --> Prediction: 46652.44921875\n",
            "\n",
            "Predicing on: \n",
            " [49481.828125   51802.73046875 53703.80078125 48709.10546875\n",
            " 50423.18359375 48579.90234375 46652.44921875] --> Prediction: 50358.8125\n",
            "\n",
            "Predicing on: \n",
            " [51802.73046875 53703.80078125 48709.10546875 50423.18359375\n",
            " 48579.90234375 46652.44921875 50358.8125    ] --> Prediction: 52127.98828125\n",
            "\n",
            "Predicing on: \n",
            " [53703.80078125 48709.10546875 50423.18359375 48579.90234375\n",
            " 46652.44921875 50358.8125     52127.98828125] --> Prediction: 53378.9140625\n",
            "\n",
            "Predicing on: \n",
            " [48709.10546875 50423.18359375 48579.90234375 46652.44921875\n",
            " 50358.8125     52127.98828125 53378.9140625 ] --> Prediction: 49651.31640625\n",
            "\n",
            "Predicing on: \n",
            " [50423.18359375 48579.90234375 46652.44921875 50358.8125\n",
            " 52127.98828125 53378.9140625  49651.31640625] --> Prediction: 50193.2734375\n",
            "\n",
            "Predicing on: \n",
            " [48579.90234375 46652.44921875 50358.8125     52127.98828125\n",
            " 53378.9140625  49651.31640625 50193.2734375 ] --> Prediction: 47909.78125\n",
            "\n",
            "Predicing on: \n",
            " [46652.44921875 50358.8125     52127.98828125 53378.9140625\n",
            " 49651.31640625 50193.2734375  47909.78125   ] --> Prediction: 46968.25\n",
            "\n",
            "Predicing on: \n",
            " [50358.8125     52127.98828125 53378.9140625  49651.31640625\n",
            " 50193.2734375  47909.78125    46968.25      ] --> Prediction: 50580.0703125\n",
            "\n",
            "Predicing on: \n",
            " [52127.98828125 53378.9140625  49651.31640625 50193.2734375\n",
            " 47909.78125    46968.25       50580.0703125 ] --> Prediction: 52521.796875\n",
            "\n",
            "Predicing on: \n",
            " [53378.9140625  49651.31640625 50193.2734375  47909.78125\n",
            " 46968.25       50580.0703125  52521.796875  ] --> Prediction: 53131.28515625\n",
            "\n",
            "Predicing on: \n",
            " [49651.31640625 50193.2734375  47909.78125    46968.25\n",
            " 50580.0703125  52521.796875   53131.28515625] --> Prediction: 49628.73046875\n",
            "\n",
            "Predicing on: \n",
            " [50193.2734375  47909.78125    46968.25       50580.0703125\n",
            " 52521.796875   53131.28515625 49628.73046875] --> Prediction: 50439.19140625\n",
            "\n",
            "Predicing on: \n",
            " [47909.78125    46968.25       50580.0703125  52521.796875\n",
            " 53131.28515625 49628.73046875 50439.19140625] --> Prediction: 47225.40625\n",
            "\n",
            "Predicing on: \n",
            " [46968.25       50580.0703125  52521.796875   53131.28515625\n",
            " 49628.73046875 50439.19140625 47225.40625   ] --> Prediction: 47181.16015625\n",
            "\n",
            "Predicing on: \n",
            " [50580.0703125  52521.796875   53131.28515625 49628.73046875\n",
            " 50439.19140625 47225.40625    47181.16015625] --> Prediction: 50794.50390625\n",
            "\n",
            "Predicing on: \n",
            " [52521.796875   53131.28515625 49628.73046875 50439.19140625\n",
            " 47225.40625    47181.16015625 50794.50390625] --> Prediction: 53307.56640625\n",
            "\n",
            "Predicing on: \n",
            " [53131.28515625 49628.73046875 50439.19140625 47225.40625\n",
            " 47181.16015625 50794.50390625 53307.56640625] --> Prediction: 52264.91015625\n",
            "\n",
            "Predicing on: \n",
            " [49628.73046875 50439.19140625 47225.40625    47181.16015625\n",
            " 50794.50390625 53307.56640625 52264.91015625] --> Prediction: 49707.08203125\n",
            "\n",
            "Predicing on: \n",
            " [50439.19140625 47225.40625    47181.16015625 50794.50390625\n",
            " 53307.56640625 52264.91015625 49707.08203125] --> Prediction: 49579.13671875\n",
            "\n",
            "Predicing on: \n",
            " [47225.40625    47181.16015625 50794.50390625 53307.56640625\n",
            " 52264.91015625 49707.08203125 49579.13671875] --> Prediction: 47048.64453125\n",
            "\n",
            "Predicing on: \n",
            " [47181.16015625 50794.50390625 53307.56640625 52264.91015625\n",
            " 49707.08203125 49579.13671875 47048.64453125] --> Prediction: 47663.24609375\n",
            "\n",
            "Predicing on: \n",
            " [50794.50390625 53307.56640625 52264.91015625 49707.08203125\n",
            " 49579.13671875 47048.64453125 47663.24609375] --> Prediction: 51271.14453125\n",
            "\n",
            "Predicing on: \n",
            " [53307.56640625 52264.91015625 49707.08203125 49579.13671875\n",
            " 47048.64453125 47663.24609375 51271.14453125] --> Prediction: 53245.5625\n",
            "\n",
            "Predicing on: \n",
            " [52264.91015625 49707.08203125 49579.13671875 47048.64453125\n",
            " 47663.24609375 51271.14453125 53245.5625    ] --> Prediction: 52062.46484375\n",
            "\n",
            "Predicing on: \n",
            " [49707.08203125 49579.13671875 47048.64453125 47663.24609375\n",
            " 51271.14453125 53245.5625     52062.46484375] --> Prediction: 50269.35546875\n",
            "\n",
            "Predicing on: \n",
            " [49579.13671875 47048.64453125 47663.24609375 51271.14453125\n",
            " 53245.5625     52062.46484375 50269.35546875] --> Prediction: 49249.23046875\n",
            "\n",
            "Predicing on: \n",
            " [47048.64453125 47663.24609375 51271.14453125 53245.5625\n",
            " 52062.46484375 50269.35546875 49249.23046875] --> Prediction: 46215.859375\n",
            "\n",
            "Predicing on: \n",
            " [47663.24609375 51271.14453125 53245.5625     52062.46484375\n",
            " 50269.35546875 49249.23046875 46215.859375  ] --> Prediction: 47993.95703125\n",
            "\n",
            "Predicing on: \n",
            " [51271.14453125 53245.5625     52062.46484375 50269.35546875\n",
            " 49249.23046875 46215.859375   47993.95703125] --> Prediction: 51396.5625\n",
            "\n",
            "Predicing on: \n",
            " [53245.5625     52062.46484375 50269.35546875 49249.23046875\n",
            " 46215.859375   47993.95703125 51396.5625    ] --> Prediction: 53075.09765625\n",
            "\n",
            "Predicing on: \n",
            " [52062.46484375 50269.35546875 49249.23046875 46215.859375\n",
            " 47993.95703125 51396.5625     53075.09765625] --> Prediction: 51671.6953125\n",
            "\n",
            "Predicing on: \n",
            " [50269.35546875 49249.23046875 46215.859375   47993.95703125\n",
            " 51396.5625     53075.09765625 51671.6953125 ] --> Prediction: 49988.4453125\n",
            "\n",
            "Predicing on: \n",
            " [49249.23046875 46215.859375   47993.95703125 51396.5625\n",
            " 53075.09765625 51671.6953125  49988.4453125 ] --> Prediction: 48931.1953125\n",
            "\n",
            "Predicing on: \n",
            " [46215.859375   47993.95703125 51396.5625     53075.09765625\n",
            " 51671.6953125  49988.4453125  48931.1953125 ] --> Prediction: 45492.1171875\n",
            "\n",
            "Predicing on: \n",
            " [47993.95703125 51396.5625     53075.09765625 51671.6953125\n",
            " 49988.4453125  48931.1953125  45492.1171875 ] --> Prediction: 48078.91015625\n",
            "\n",
            "Predicing on: \n",
            " [51396.5625     53075.09765625 51671.6953125  49988.4453125\n",
            " 48931.1953125  45492.1171875  48078.91015625] --> Prediction: 51667.48046875\n",
            "\n",
            "Predicing on: \n",
            " [53075.09765625 51671.6953125  49988.4453125  48931.1953125\n",
            " 45492.1171875  48078.91015625 51667.48046875] --> Prediction: 54053.19140625\n",
            "\n",
            "Predicing on: \n",
            " [51671.6953125  49988.4453125  48931.1953125  45492.1171875\n",
            " 48078.91015625 51667.48046875 54053.19140625] --> Prediction: 51349.953125\n",
            "\n",
            "Predicing on: \n",
            " [49988.4453125  48931.1953125  45492.1171875  48078.91015625\n",
            " 51667.48046875 54053.19140625 51349.953125  ] --> Prediction: 50194.8203125\n",
            "\n",
            "Predicing on: \n",
            " [48931.1953125  45492.1171875  48078.91015625 51667.48046875\n",
            " 54053.19140625 51349.953125   50194.8203125 ] --> Prediction: 48904.59375\n",
            "\n",
            "Predicing on: \n",
            " [45492.1171875  48078.91015625 51667.48046875 54053.19140625\n",
            " 51349.953125   50194.8203125  48904.59375   ] --> Prediction: 45459.26953125\n",
            "\n",
            "Predicing on: \n",
            " [48078.91015625 51667.48046875 54053.19140625 51349.953125\n",
            " 50194.8203125  48904.59375    45459.26953125] --> Prediction: 48047.63671875\n",
            "\n",
            "Predicing on: \n",
            " [51667.48046875 54053.19140625 51349.953125   50194.8203125\n",
            " 48904.59375    45459.26953125 48047.63671875] --> Prediction: 52612.19140625\n",
            "\n",
            "Predicing on: \n",
            " [54053.19140625 51349.953125   50194.8203125  48904.59375\n",
            " 45459.26953125 48047.63671875 52612.19140625] --> Prediction: 53871.13671875\n",
            "\n",
            "Predicing on: \n",
            " [51349.953125   50194.8203125  48904.59375    45459.26953125\n",
            " 48047.63671875 52612.19140625 53871.13671875] --> Prediction: 50329.83984375\n",
            "\n",
            "Predicing on: \n",
            " [50194.8203125  48904.59375    45459.26953125 48047.63671875\n",
            " 52612.19140625 53871.13671875 50329.83984375] --> Prediction: 49263.125\n",
            "\n",
            "Predicing on: \n",
            " [48904.59375    45459.26953125 48047.63671875 52612.19140625\n",
            " 53871.13671875 50329.83984375 49263.125     ] --> Prediction: 48462.9296875\n",
            "\n",
            "Predicing on: \n",
            " [45459.26953125 48047.63671875 52612.19140625 53871.13671875\n",
            " 50329.83984375 49263.125      48462.9296875 ] --> Prediction: 45159.40625\n",
            "\n",
            "Predicing on: \n",
            " [48047.63671875 52612.19140625 53871.13671875 50329.83984375\n",
            " 49263.125      48462.9296875  45159.40625   ] --> Prediction: 48913.47265625\n",
            "\n",
            "Predicing on: \n",
            " [52612.19140625 53871.13671875 50329.83984375 49263.125\n",
            " 48462.9296875  45159.40625    48913.47265625] --> Prediction: 52578.26171875\n",
            "\n",
            "Predicing on: \n",
            " [53871.13671875 50329.83984375 49263.125      48462.9296875\n",
            " 45159.40625    48913.47265625 52578.26171875] --> Prediction: 53219.37890625\n",
            "\n",
            "Predicing on: \n",
            " [50329.83984375 49263.125      48462.9296875  45159.40625\n",
            " 48913.47265625 52578.26171875 53219.37890625] --> Prediction: 50905.95703125\n",
            "\n",
            "Predicing on: \n",
            " [49263.125      48462.9296875  45159.40625    48913.47265625\n",
            " 52578.26171875 53219.37890625 50905.95703125] --> Prediction: 49239.21875\n",
            "\n",
            "Predicing on: \n",
            " [48462.9296875  45159.40625    48913.47265625 52578.26171875\n",
            " 53219.37890625 50905.95703125 49239.21875   ] --> Prediction: 47584.8125\n",
            "\n",
            "Predicing on: \n",
            " [45159.40625    48913.47265625 52578.26171875 53219.37890625\n",
            " 50905.95703125 49239.21875    47584.8125    ] --> Prediction: 45006.06640625\n",
            "\n",
            "Predicing on: \n",
            " [48913.47265625 52578.26171875 53219.37890625 50905.95703125\n",
            " 49239.21875    47584.8125     45006.06640625] --> Prediction: 49145.5625\n",
            "\n",
            "Predicing on: \n",
            " [52578.26171875 53219.37890625 50905.95703125 49239.21875\n",
            " 47584.8125     45006.06640625 49145.5625    ] --> Prediction: 52564.890625\n",
            "\n",
            "Predicing on: \n",
            " [53219.37890625 50905.95703125 49239.21875    47584.8125\n",
            " 45006.06640625 49145.5625     52564.890625  ] --> Prediction: 53952.734375\n",
            "\n",
            "Predicing on: \n",
            " [50905.95703125 49239.21875    47584.8125     45006.06640625\n",
            " 49145.5625     52564.890625   53952.734375  ] --> Prediction: 50242.4140625\n",
            "\n",
            "Predicing on: \n",
            " [49239.21875    47584.8125     45006.06640625 49145.5625\n",
            " 52564.890625   53952.734375   50242.4140625 ] --> Prediction: 48975.546875\n",
            "\n",
            "Predicing on: \n",
            " [47584.8125     45006.06640625 49145.5625     52564.890625\n",
            " 53952.734375   50242.4140625  48975.546875  ] --> Prediction: 46822.66015625\n",
            "\n",
            "Predicing on: \n",
            " [45006.06640625 49145.5625     52564.890625   53952.734375\n",
            " 50242.4140625  48975.546875   46822.66015625] --> Prediction: 44942.71484375\n",
            "\n",
            "Predicing on: \n",
            " [49145.5625     52564.890625   53952.734375   50242.4140625\n",
            " 48975.546875   46822.66015625 44942.71484375] --> Prediction: 49489.5546875\n",
            "\n",
            "Predicing on: \n",
            " [52564.890625   53952.734375   50242.4140625  48975.546875\n",
            " 46822.66015625 44942.71484375 49489.5546875 ] --> Prediction: 53447.06640625\n",
            "\n",
            "Predicing on: \n",
            " [53952.734375   50242.4140625  48975.546875   46822.66015625\n",
            " 44942.71484375 49489.5546875  53447.06640625] --> Prediction: 52523.6015625\n",
            "\n",
            "Predicing on: \n",
            " [50242.4140625  48975.546875   46822.66015625 44942.71484375\n",
            " 49489.5546875  53447.06640625 52523.6015625 ] --> Prediction: 49754.44921875\n",
            "\n",
            "Predicing on: \n",
            " [48975.546875   46822.66015625 44942.71484375 49489.5546875\n",
            " 53447.06640625 52523.6015625  49754.44921875] --> Prediction: 48846.37109375\n",
            "\n",
            "Predicing on: \n",
            " [46822.66015625 44942.71484375 49489.5546875  53447.06640625\n",
            " 52523.6015625  49754.44921875 48846.37109375] --> Prediction: 46489.92578125\n",
            "\n",
            "Predicing on: \n",
            " [44942.71484375 49489.5546875  53447.06640625 52523.6015625\n",
            " 49754.44921875 48846.37109375 46489.92578125] --> Prediction: 45251.1640625\n",
            "\n",
            "Predicing on: \n",
            " [49489.5546875  53447.06640625 52523.6015625  49754.44921875\n",
            " 48846.37109375 46489.92578125 45251.1640625 ] --> Prediction: 50144.66015625\n",
            "\n",
            "Predicing on: \n",
            " [53447.06640625 52523.6015625  49754.44921875 48846.37109375\n",
            " 46489.92578125 45251.1640625  50144.66015625] --> Prediction: 53215.52734375\n",
            "\n",
            "Predicing on: \n",
            " [52523.6015625  49754.44921875 48846.37109375 46489.92578125\n",
            " 45251.1640625  50144.66015625 53215.52734375] --> Prediction: 51586.09765625\n",
            "\n",
            "Predicing on: \n",
            " [49754.44921875 48846.37109375 46489.92578125 45251.1640625\n",
            " 50144.66015625 53215.52734375 51586.09765625] --> Prediction: 49344.63671875\n",
            "\n",
            "Predicing on: \n",
            " [48846.37109375 46489.92578125 45251.1640625  50144.66015625\n",
            " 53215.52734375 51586.09765625 49344.63671875] --> Prediction: 48984.8984375\n",
            "\n",
            "Predicing on: \n",
            " [46489.92578125 45251.1640625  50144.66015625 53215.52734375\n",
            " 51586.09765625 49344.63671875 48984.8984375 ] --> Prediction: 45793.5078125\n",
            "\n",
            "Predicing on: \n",
            " [45251.1640625  50144.66015625 53215.52734375 51586.09765625\n",
            " 49344.63671875 48984.8984375  45793.5078125 ] --> Prediction: 45716.91796875\n",
            "\n",
            "Predicing on: \n",
            " [50144.66015625 53215.52734375 51586.09765625 49344.63671875\n",
            " 48984.8984375  45793.5078125  45716.91796875] --> Prediction: 50511.25\n",
            "\n",
            "Predicing on: \n",
            " [53215.52734375 51586.09765625 49344.63671875 48984.8984375\n",
            " 45793.5078125  45716.91796875 50511.25      ] --> Prediction: 53188.9375\n",
            "\n",
            "Predicing on: \n",
            " [51586.09765625 49344.63671875 48984.8984375  45793.5078125\n",
            " 45716.91796875 50511.25       53188.9375    ] --> Prediction: 51838.49609375\n",
            "\n",
            "Predicing on: \n",
            " [49344.63671875 48984.8984375  45793.5078125  45716.91796875\n",
            " 50511.25       53188.9375     51838.49609375] --> Prediction: 48733.3515625\n",
            "\n",
            "Predicing on: \n",
            " [48984.8984375  45793.5078125  45716.91796875 50511.25\n",
            " 53188.9375     51838.49609375 48733.3515625 ] --> Prediction: 48638.0\n",
            "\n",
            "Predicing on: \n",
            " [45793.5078125  45716.91796875 50511.25       53188.9375\n",
            " 51838.49609375 48733.3515625  48638.        ] --> Prediction: 45680.10546875\n",
            "\n",
            "Predicing on: \n",
            " [45716.91796875 50511.25       53188.9375     51838.49609375\n",
            " 48733.3515625  48638.         45680.10546875] --> Prediction: 46366.92578125\n",
            "\n",
            "Predicing on: \n",
            " [50511.25       53188.9375     51838.49609375 48733.3515625\n",
            " 48638.         45680.10546875 46366.92578125] --> Prediction: 51320.046875\n",
            "\n",
            "Predicing on: \n",
            " [53188.9375     51838.49609375 48733.3515625  48638.\n",
            " 45680.10546875 46366.92578125 51320.046875  ] --> Prediction: 53418.25390625\n",
            "\n",
            "Predicing on: \n",
            " [51838.49609375 48733.3515625  48638.         45680.10546875\n",
            " 46366.92578125 51320.046875   53418.25390625] --> Prediction: 50952.79296875\n",
            "\n",
            "Predicing on: \n",
            " [48733.3515625  48638.         45680.10546875 46366.92578125\n",
            " 51320.046875   53418.25390625 50952.79296875] --> Prediction: 48775.328125\n",
            "\n",
            "Predicing on: \n",
            " [48638.         45680.10546875 46366.92578125 51320.046875\n",
            " 53418.25390625 50952.79296875 48775.328125  ] --> Prediction: 48139.6328125\n",
            "\n",
            "Predicing on: \n",
            " [45680.10546875 46366.92578125 51320.046875   53418.25390625\n",
            " 50952.79296875 48775.328125   48139.6328125 ] --> Prediction: 45625.76171875\n",
            "\n",
            "Predicing on: \n",
            " [46366.92578125 51320.046875   53418.25390625 50952.79296875\n",
            " 48775.328125   48139.6328125  45625.76171875] --> Prediction: 47295.2578125\n",
            "\n",
            "Predicing on: \n",
            " [51320.046875   53418.25390625 50952.79296875 48775.328125\n",
            " 48139.6328125  45625.76171875 47295.2578125 ] --> Prediction: 52069.08984375\n",
            "\n",
            "Predicing on: \n",
            " [53418.25390625 50952.79296875 48775.328125   48139.6328125\n",
            " 45625.76171875 47295.2578125  52069.08984375] --> Prediction: 52844.3046875\n",
            "\n",
            "Predicing on: \n",
            " [50952.79296875 48775.328125   48139.6328125  45625.76171875\n",
            " 47295.2578125  52069.08984375 52844.3046875 ] --> Prediction: 50847.17578125\n",
            "\n",
            "Predicing on: \n",
            " [48775.328125   48139.6328125  45625.76171875 47295.2578125\n",
            " 52069.08984375 52844.3046875  50847.17578125] --> Prediction: 49179.71484375\n",
            "\n",
            "Predicing on: \n",
            " [48139.6328125  45625.76171875 47295.2578125  52069.08984375\n",
            " 52844.3046875  50847.17578125 49179.71484375] --> Prediction: 48073.609375\n",
            "\n",
            "Predicing on: \n",
            " [45625.76171875 47295.2578125  52069.08984375 52844.3046875\n",
            " 50847.17578125 49179.71484375 48073.609375  ] --> Prediction: 45678.48046875\n",
            "\n",
            "Predicing on: \n",
            " [47295.2578125  52069.08984375 52844.3046875  50847.17578125\n",
            " 49179.71484375 48073.609375   45678.48046875] --> Prediction: 47512.57421875\n",
            "\n",
            "Predicing on: \n",
            " [52069.08984375 52844.3046875  50847.17578125 49179.71484375\n",
            " 48073.609375   45678.48046875 47512.57421875] --> Prediction: 52238.828125\n",
            "\n",
            "Predicing on: \n",
            " [52844.3046875  50847.17578125 49179.71484375 48073.609375\n",
            " 45678.48046875 47512.57421875 52238.828125  ] --> Prediction: 52444.38671875\n",
            "\n",
            "Predicing on: \n",
            " [50847.17578125 49179.71484375 48073.609375   45678.48046875\n",
            " 47512.57421875 52238.828125   52444.38671875] --> Prediction: 51246.140625\n",
            "\n",
            "Predicing on: \n",
            " [49179.71484375 48073.609375   45678.48046875 47512.57421875\n",
            " 52238.828125   52444.38671875 51246.140625  ] --> Prediction: 49045.04296875\n",
            "\n",
            "Predicing on: \n",
            " [48073.609375   45678.48046875 47512.57421875 52238.828125\n",
            " 52444.38671875 51246.140625   49045.04296875] --> Prediction: 48060.79296875\n",
            "\n",
            "Predicing on: \n",
            " [45678.48046875 47512.57421875 52238.828125   52444.38671875\n",
            " 51246.140625   49045.04296875 48060.79296875] --> Prediction: 45472.32421875\n",
            "\n",
            "Predicing on: \n",
            " [47512.57421875 52238.828125   52444.38671875 51246.140625\n",
            " 49045.04296875 48060.79296875 45472.32421875] --> Prediction: 47774.2734375\n",
            "\n",
            "Predicing on: \n",
            " [52238.828125   52444.38671875 51246.140625   49045.04296875\n",
            " 48060.79296875 45472.32421875 47774.2734375 ] --> Prediction: 52372.5234375\n",
            "\n",
            "Predicing on: \n",
            " [52444.38671875 51246.140625   49045.04296875 48060.79296875\n",
            " 45472.32421875 47774.2734375  52372.5234375 ] --> Prediction: 52800.2421875\n",
            "\n",
            "Predicing on: \n",
            " [51246.140625   49045.04296875 48060.79296875 45472.32421875\n",
            " 47774.2734375  52372.5234375  52800.2421875 ] --> Prediction: 50242.47265625\n",
            "\n",
            "Predicing on: \n",
            " [49045.04296875 48060.79296875 45472.32421875 47774.2734375\n",
            " 52372.5234375  52800.2421875  50242.47265625] --> Prediction: 48985.69140625\n",
            "\n",
            "Predicing on: \n",
            " [48060.79296875 45472.32421875 47774.2734375  52372.5234375\n",
            " 52800.2421875  50242.47265625 48985.69140625] --> Prediction: 46709.421875\n",
            "\n",
            "Predicing on: \n",
            " [45472.32421875 47774.2734375  52372.5234375  52800.2421875\n",
            " 50242.47265625 48985.69140625 46709.421875  ] --> Prediction: 45365.37890625\n",
            "\n",
            "Predicing on: \n",
            " [47774.2734375  52372.5234375  52800.2421875  50242.47265625\n",
            " 48985.69140625 46709.421875   45365.37890625] --> Prediction: 48454.53515625\n",
            "\n",
            "Predicing on: \n",
            " [52372.5234375  52800.2421875  50242.47265625 48985.69140625\n",
            " 46709.421875   45365.37890625 48454.53515625] --> Prediction: 53123.41015625\n",
            "\n",
            "Predicing on: \n",
            " [52800.2421875  50242.47265625 48985.69140625 46709.421875\n",
            " 45365.37890625 48454.53515625 53123.41015625] --> Prediction: 52275.11328125\n",
            "\n",
            "Predicing on: \n",
            " [50242.47265625 48985.69140625 46709.421875   45365.37890625\n",
            " 48454.53515625 53123.41015625 52275.11328125] --> Prediction: 50708.56640625\n",
            "\n",
            "Predicing on: \n",
            " [48985.69140625 46709.421875   45365.37890625 48454.53515625\n",
            " 53123.41015625 52275.11328125 50708.56640625] --> Prediction: 48689.56640625\n",
            "\n",
            "Predicing on: \n",
            " [46709.421875   45365.37890625 48454.53515625 53123.41015625\n",
            " 52275.11328125 50708.56640625 48689.56640625] --> Prediction: 46196.12109375\n",
            "\n",
            "Predicing on: \n",
            " [45365.37890625 48454.53515625 53123.41015625 52275.11328125\n",
            " 50708.56640625 48689.56640625 46196.12109375] --> Prediction: 45003.68359375\n",
            "\n",
            "Predicing on: \n",
            " [48454.53515625 53123.41015625 52275.11328125 50708.56640625\n",
            " 48689.56640625 46196.12109375 45003.68359375] --> Prediction: 49021.66015625\n",
            "\n",
            "Predicing on: \n",
            " [53123.41015625 52275.11328125 50708.56640625 48689.56640625\n",
            " 46196.12109375 45003.68359375 49021.66015625] --> Prediction: 53285.6484375\n",
            "\n",
            "Predicing on: \n",
            " [52275.11328125 50708.56640625 48689.56640625 46196.12109375\n",
            " 45003.68359375 49021.66015625 53285.6484375 ] --> Prediction: 51089.66796875\n",
            "\n",
            "Predicing on: \n",
            " [50708.56640625 48689.56640625 46196.12109375 45003.68359375\n",
            " 49021.66015625 53285.6484375  51089.66796875] --> Prediction: 49677.890625\n",
            "\n",
            "Predicing on: \n",
            " [48689.56640625 46196.12109375 45003.68359375 49021.66015625\n",
            " 53285.6484375  51089.66796875 49677.890625  ] --> Prediction: 48275.91015625\n",
            "\n",
            "Predicing on: \n",
            " [46196.12109375 45003.68359375 49021.66015625 53285.6484375\n",
            " 51089.66796875 49677.890625   48275.91015625] --> Prediction: 45380.921875\n",
            "\n",
            "Predicing on: \n",
            " [45003.68359375 49021.66015625 53285.6484375  51089.66796875\n",
            " 49677.890625   48275.91015625 45380.921875  ] --> Prediction: 45107.1640625\n",
            "\n",
            "Predicing on: \n",
            " [49021.66015625 53285.6484375  51089.66796875 49677.890625\n",
            " 48275.91015625 45380.921875   45107.1640625 ] --> Prediction: 49099.34375\n",
            "\n",
            "Predicing on: \n",
            " [53285.6484375  51089.66796875 49677.890625   48275.91015625\n",
            " 45380.921875   45107.1640625  49099.34375   ] --> Prediction: 53578.875\n",
            "\n",
            "Predicing on: \n",
            " [51089.66796875 49677.890625   48275.91015625 45380.921875\n",
            " 45107.1640625  49099.34375    53578.875     ] --> Prediction: 52384.38671875\n",
            "\n",
            "Predicing on: \n",
            " [49677.890625   48275.91015625 45380.921875   45107.1640625\n",
            " 49099.34375    53578.875      52384.38671875] --> Prediction: 49584.265625\n",
            "\n",
            "Predicing on: \n",
            " [48275.91015625 45380.921875   45107.1640625  49099.34375\n",
            " 53578.875      52384.38671875 49584.265625  ] --> Prediction: 47745.578125\n",
            "\n",
            "Predicing on: \n",
            " [45380.921875   45107.1640625  49099.34375    53578.875\n",
            " 52384.38671875 49584.265625   47745.578125  ] --> Prediction: 45102.48046875\n",
            "\n",
            "Predicing on: \n",
            " [45107.1640625  49099.34375    53578.875      52384.38671875\n",
            " 49584.265625   47745.578125   45102.48046875] --> Prediction: 45771.96875\n",
            "\n",
            "Predicing on: \n",
            " [49099.34375    53578.875      52384.38671875 49584.265625\n",
            " 47745.578125   45102.48046875 45771.96875   ] --> Prediction: 49859.85546875\n",
            "\n",
            "Predicing on: \n",
            " [53578.875      52384.38671875 49584.265625   47745.578125\n",
            " 45102.48046875 45771.96875    49859.85546875] --> Prediction: 55240.80859375\n",
            "\n",
            "Predicing on: \n",
            " [52384.38671875 49584.265625   47745.578125   45102.48046875\n",
            " 45771.96875    49859.85546875 55240.80859375] --> Prediction: 51379.4296875\n",
            "\n",
            "Predicing on: \n",
            " [49584.265625   47745.578125   45102.48046875 45771.96875\n",
            " 49859.85546875 55240.80859375 51379.4296875 ] --> Prediction: 49260.76953125\n",
            "\n",
            "Predicing on: \n",
            " [47745.578125   45102.48046875 45771.96875    49859.85546875\n",
            " 55240.80859375 51379.4296875  49260.76953125] --> Prediction: 47109.81640625\n",
            "\n",
            "Predicing on: \n",
            " [45102.48046875 45771.96875    49859.85546875 55240.80859375\n",
            " 51379.4296875  49260.76953125 47109.81640625] --> Prediction: 45137.8046875\n",
            "\n",
            "Predicing on: \n",
            " [45771.96875    49859.85546875 55240.80859375 51379.4296875\n",
            " 49260.76953125 47109.81640625 45137.8046875 ] --> Prediction: 46479.46875\n",
            "\n",
            "Predicing on: \n",
            " [49859.85546875 55240.80859375 51379.4296875  49260.76953125\n",
            " 47109.81640625 45137.8046875  46479.46875   ] --> Prediction: 51108.62109375\n",
            "\n",
            "Predicing on: \n",
            " [55240.80859375 51379.4296875  49260.76953125 47109.81640625\n",
            " 45137.8046875  46479.46875    51108.62109375] --> Prediction: 54624.4375\n",
            "\n",
            "Predicing on: \n",
            " [51379.4296875  49260.76953125 47109.81640625 45137.8046875\n",
            " 46479.46875    51108.62109375 54624.4375    ] --> Prediction: 49828.84375\n",
            "\n",
            "Predicing on: \n",
            " [49260.76953125 47109.81640625 45137.8046875  46479.46875\n",
            " 51108.62109375 54624.4375     49828.84375   ] --> Prediction: 49544.62109375\n",
            "\n",
            "Predicing on: \n",
            " [47109.81640625 45137.8046875  46479.46875    51108.62109375\n",
            " 54624.4375     49828.84375    49544.62109375] --> Prediction: 47059.84375\n",
            "\n",
            "Predicing on: \n",
            " [45137.8046875  46479.46875    51108.62109375 54624.4375\n",
            " 49828.84375    49544.62109375 47059.84375   ] --> Prediction: 44754.6640625\n",
            "\n",
            "Predicing on: \n",
            " [46479.46875    51108.62109375 54624.4375     49828.84375\n",
            " 49544.62109375 47059.84375    44754.6640625 ] --> Prediction: 46963.6953125\n",
            "\n",
            "Predicing on: \n",
            " [51108.62109375 54624.4375     49828.84375    49544.62109375\n",
            " 47059.84375    44754.6640625  46963.6953125 ] --> Prediction: 51266.640625\n",
            "\n",
            "Predicing on: \n",
            " [54624.4375     49828.84375    49544.62109375 47059.84375\n",
            " 44754.6640625  46963.6953125  51266.640625  ] --> Prediction: 53232.18359375\n",
            "\n",
            "Predicing on: \n",
            " [49828.84375    49544.62109375 47059.84375    44754.6640625\n",
            " 46963.6953125  51266.640625   53232.18359375] --> Prediction: 49981.76171875\n",
            "\n",
            "Predicing on: \n",
            " [49544.62109375 47059.84375    44754.6640625  46963.6953125\n",
            " 51266.640625   53232.18359375 49981.76171875] --> Prediction: 49550.04296875\n",
            "\n"
          ]
        }
      ]
    },
    {
      "cell_type": "markdown",
      "metadata": {
        "id": "LZvOcaWdyPg3"
      },
      "source": [
        "### 7. For future predictions, try to make a prediction, retrain a model on the predictions, make a prediction, retrain a model, make a prediction, retrain a model, make a prediction (retrain a model each time a new prediction is made). Plot the results, how do they look compared to the future predictions where a model wasn’t retrained for every forecast (model_9)?\n"
      ]
    },
    {
      "cell_type": "markdown",
      "metadata": {
        "id": "8QPiaQIUwqB7"
      },
      "source": [
        "\n",
        "\n",
        "```\n",
        "- append pred to list -> train new model\n",
        "- make a pred on new list (with new model)\n",
        "- append new pred to list -> train new model\n",
        "- make a pred on new list (with new model)\n",
        "- append new pred to list -> train new model\n",
        "- make a pred on new list (with new model)\n",
        "- #7 is train a new model every single time a pred is made\n",
        "\n",
        "\n",
        "```"
      ]
    },
    {
      "cell_type": "code",
      "metadata": {
        "id": "FD2tfR7Y-BWG"
      },
      "source": [
        "# Lets code things at first without a loop and see how it foes \n",
        "HORIZON = 1 \n",
        "WINDOW_SIZE = 7 \n",
        "\n",
        "# Building a model (You can replace it with any model)\n",
        "def get_model(horizon = HORIZON):\n",
        "    model = tf.keras.Sequential([\n",
        "            layers.Dense(128 , activation = 'relu'), \n",
        "            layers.Dense(128 , activation = 'relu'), \n",
        "            layers.Dense(horizon)\n",
        "        ])\n",
        "    \n",
        "    model.compile(loss = tf.keras.losses.mae , \n",
        "                  optimizer = tf.keras.optimizers.Adam())\n",
        "    \n",
        "\n",
        "    return model"
      ],
      "execution_count": 72,
      "outputs": []
    },
    {
      "cell_type": "code",
      "metadata": {
        "id": "kzHOR23b-CkE"
      },
      "source": [
        "#. Making the data and labels for window size of 7 and horizon of 1 \n",
        "full_windows , full_labels = make_windows(prices , window_size= WINDOW_SIZE , horizon= HORIZON)"
      ],
      "execution_count": 153,
      "outputs": []
    },
    {
      "cell_type": "code",
      "metadata": {
        "id": "uedqTuLr-Cs1"
      },
      "source": [
        "# Making future forecastts of Bitcoins (using the whole data)\n",
        "def pred_model_run(values , X, model , into_future , window_size  , horizon, epochs ):\n",
        "\n",
        "  '''\n",
        "  This function train a model for every updated predictions. \n",
        "\n",
        "  Arguments:\n",
        "  ----------\n",
        "      - values --> labels / truth values. Bitcoin prices \n",
        "      - X --> Windowed data of the bitcoin prices (default window size is 7)\n",
        "      - model --> compiled model with default horizon 1 \n",
        "      - into_future -->  how many time steps to predict in the future? \n",
        "      - window_size --> default is 7 (using the 7 days prices of bitcoin)\n",
        "      - horizon --> default is 1 (predicting the price of next day)\n",
        "\n",
        "  Returns: \n",
        "  --------\n",
        "      - model --> a model that has been trained on all the previous predictions + the data\n",
        "  '''\n",
        "\n",
        "  last_window = values[-window_size:]\n",
        "  X_all = X\n",
        "  y_all = values\n",
        "  for _ in range(into_future): \n",
        "\n",
        "      # Each time the model is trained for 5 epochs with the updated data\n",
        "      model.fit(x = X_all , y = y_all , epochs = epochs , verbose = 0)\n",
        "\n",
        "      future_pred = model.predict(tf.expand_dims(last_window, axis= 0))\n",
        "      #future_pred = model.predict(last_window)\n",
        "      print(f'Predicing on: \\n {last_window} --> Prediction: {tf.squeeze(future_pred).numpy()}\\n')\n",
        "\n",
        "      future_forecast.append(tf.squeeze(future_pred).numpy())\n",
        "      #values = np.append(values , tf.squeeze(future_pred).numpy())\n",
        "      for i in range(0 , len(X_all)):\n",
        "        x = X_all[i][1:]  # removing the 0th index of the X window ()\n",
        "        y = y_all[1:] # removing the 0th index  of y \n",
        "        X = np.append(x , future_pred) # append the future pred at last to X window\n",
        "        values = np.append(y , future_pred) # appending the future pred to y \n",
        "\n",
        "      # Update the last window \n",
        "      last_window = np.append(last_window , future_pred)[-window_size:]\n",
        "\n",
        "\n",
        "  return model "
      ],
      "execution_count": 164,
      "outputs": []
    },
    {
      "cell_type": "code",
      "metadata": {
        "id": "v8TqNQNcOfWX",
        "outputId": "cd05699e-2989-4cb1-f4e4-6f5d42e7d9a6",
        "colab": {
          "base_uri": "https://localhost:8080/"
        }
      },
      "source": [
        "full_windows.shape , X_all.shape , full_labels.shape , y_all.shape"
      ],
      "execution_count": 163,
      "outputs": [
        {
          "output_type": "execute_result",
          "data": {
            "text/plain": [
              "((2780, 7), (2780, 7), (2780, 1), (2780,))"
            ]
          },
          "metadata": {},
          "execution_count": 163
        }
      ]
    },
    {
      "cell_type": "code",
      "metadata": {
        "id": "ov3W2gc_A6-1",
        "outputId": "51bd96d6-4e54-44bb-ed08-752d68eff0e4",
        "colab": {
          "base_uri": "https://localhost:8080/"
        }
      },
      "source": [
        "# Using the above function \n",
        "trained_model = pred_model_run(values = tf.squeeze(full_labels) , \n",
        "                               X = full_windows , \n",
        "                               model = get_model(horizon = 1) , \n",
        "                               window_size = WINDOW_SIZE , \n",
        "                               horizon = HORIZON , \n",
        "                               epochs = 10 , \n",
        "                               into_future  =14 )"
      ],
      "execution_count": 167,
      "outputs": [
        {
          "output_type": "stream",
          "name": "stdout",
          "text": [
            "Predicing on: \n",
            " [56573.5554719  52147.82118698 49764.1320816  50032.69313676\n",
            " 47885.62525472 45604.61575361 43144.47129086] --> Prediction: 42488.6875\n",
            "\n",
            "Predicing on: \n",
            " [52147.82118698 49764.1320816  50032.69313676 47885.62525472\n",
            " 45604.61575361 43144.47129086 42488.6875    ] --> Prediction: 41630.0234375\n",
            "\n",
            "Predicing on: \n",
            " [49764.1320816  50032.69313676 47885.62525472 45604.61575361\n",
            " 43144.47129086 42488.6875     41630.0234375 ] --> Prediction: 40474.16015625\n",
            "\n",
            "Predicing on: \n",
            " [50032.69313676 47885.62525472 45604.61575361 43144.47129086\n",
            " 42488.6875     41630.0234375  40474.16015625] --> Prediction: 40302.421875\n",
            "\n",
            "Predicing on: \n",
            " [47885.62525472 45604.61575361 43144.47129086 42488.6875\n",
            " 41630.0234375  40474.16015625 40302.421875  ] --> Prediction: 39411.90625\n",
            "\n",
            "Predicing on: \n",
            " [45604.61575361 43144.47129086 42488.6875     41630.0234375\n",
            " 40474.16015625 40302.421875   39411.90625   ] --> Prediction: 38208.4921875\n",
            "\n",
            "Predicing on: \n",
            " [43144.47129086 42488.6875     41630.0234375  40474.16015625\n",
            " 40302.421875   39411.90625    38208.4921875 ] --> Prediction: 37553.8046875\n",
            "\n",
            "Predicing on: \n",
            " [42488.6875     41630.0234375  40474.16015625 40302.421875\n",
            " 39411.90625    38208.4921875  37553.8046875 ] --> Prediction: 37455.140625\n",
            "\n",
            "Predicing on: \n",
            " [41630.0234375  40474.16015625 40302.421875   39411.90625\n",
            " 38208.4921875  37553.8046875  37455.140625  ] --> Prediction: 36594.33203125\n",
            "\n",
            "Predicing on: \n",
            " [40474.16015625 40302.421875   39411.90625    38208.4921875\n",
            " 37553.8046875  37455.140625   36594.33203125] --> Prediction: 36659.265625\n",
            "\n",
            "Predicing on: \n",
            " [40302.421875   39411.90625    38208.4921875  37553.8046875\n",
            " 37455.140625   36594.33203125 36659.265625  ] --> Prediction: 35935.08984375\n",
            "\n",
            "Predicing on: \n",
            " [39411.90625    38208.4921875  37553.8046875  37455.140625\n",
            " 36594.33203125 36659.265625   35935.08984375] --> Prediction: 35489.00390625\n",
            "\n",
            "Predicing on: \n",
            " [38208.4921875  37553.8046875  37455.140625   36594.33203125\n",
            " 36659.265625   35935.08984375 35489.00390625] --> Prediction: 35369.76171875\n",
            "\n",
            "Predicing on: \n",
            " [37553.8046875  37455.140625   36594.33203125 36659.265625\n",
            " 35935.08984375 35489.00390625 35369.76171875] --> Prediction: 35315.53515625\n",
            "\n"
          ]
        }
      ]
    },
    {
      "cell_type": "markdown",
      "metadata": {
        "id": "6eo6JOrd-Dme"
      },
      "source": [
        "### 8. Throughout this notebook, we’ve only tried algorithms we’ve handcrafted ourselves. But it’s worth seeing how a purpose built forecasting algorithm goes.\n",
        "\n",
        "* Try out one of the extra algorithms listed in the modelling experiments part such as:\n",
        "\t*  [Facebook’s Kats library](https://github.com/facebookresearch/Kats)  - there are many models in here, remember the machine learning practioner’s motto: experiment, experiment, experiment.\n",
        "\t*  [LinkedIn’s Greykite library](https://github.com/linkedin/greykite) \n"
      ]
    },
    {
      "cell_type": "code",
      "metadata": {
        "colab": {
          "base_uri": "https://localhost:8080/"
        },
        "id": "Rngm_dIP-Exz",
        "outputId": "8d2f3bce-aad1-40f0-b937-442e532ec9eb"
      },
      "source": [
        "# Installing facebooks kats lib \n",
        "!pip install kats "
      ],
      "execution_count": 54,
      "outputs": [
        {
          "output_type": "stream",
          "name": "stdout",
          "text": [
            "Collecting kats\n",
            "  Downloading kats-0.1.0.tar.gz (6.3 MB)\n",
            "\u001b[K     |████████████████████████████████| 6.3 MB 4.5 MB/s \n",
            "\u001b[?25hRequirement already satisfied: LunarCalendar>=0.0.9 in /usr/local/lib/python3.7/dist-packages (from kats) (0.0.9)\n",
            "Requirement already satisfied: attrs>=21.2.0 in /usr/local/lib/python3.7/dist-packages (from kats) (21.2.0)\n",
            "Collecting ax-platform\n",
            "  Downloading ax_platform-0.2.1-py3-none-any.whl (844 kB)\n",
            "\u001b[K     |████████████████████████████████| 844 kB 62.2 MB/s \n",
            "\u001b[?25hRequirement already satisfied: convertdate>=2.1.2 in /usr/local/lib/python3.7/dist-packages (from kats) (2.3.2)\n",
            "Collecting fbprophet==0.7\n",
            "  Downloading fbprophet-0.7.tar.gz (64 kB)\n",
            "\u001b[K     |████████████████████████████████| 64 kB 2.7 MB/s \n",
            "\u001b[?25hCollecting gpytorch\n",
            "  Downloading gpytorch-1.5.1-py2.py3-none-any.whl (503 kB)\n",
            "\u001b[K     |████████████████████████████████| 503 kB 67.2 MB/s \n",
            "\u001b[?25hRequirement already satisfied: holidays>=0.10.2 in /usr/local/lib/python3.7/dist-packages (from kats) (0.10.5.2)\n",
            "Requirement already satisfied: matplotlib>=2.0.0 in /usr/local/lib/python3.7/dist-packages (from kats) (3.2.2)\n",
            "Requirement already satisfied: numpy>=1.15.4 in /usr/local/lib/python3.7/dist-packages (from kats) (1.19.5)\n",
            "Collecting numba>=0.52.0\n",
            "  Downloading numba-0.54.0-2-cp37-cp37m-manylinux2014_x86_64.manylinux_2_17_x86_64.whl (3.4 MB)\n",
            "\u001b[K     |████████████████████████████████| 3.4 MB 37.0 MB/s \n",
            "\u001b[?25hRequirement already satisfied: pandas>=1.0.4 in /usr/local/lib/python3.7/dist-packages (from kats) (1.1.5)\n",
            "Collecting plotly>=4.14.3\n",
            "  Downloading plotly-5.3.1-py2.py3-none-any.whl (23.9 MB)\n",
            "\u001b[K     |████████████████████████████████| 23.9 MB 13 kB/s \n",
            "\u001b[?25hCollecting pymannkendall>=1.4.1\n",
            "  Downloading pymannkendall-1.4.2-py3-none-any.whl (12 kB)\n",
            "Requirement already satisfied: pystan==2.19.1.1 in /usr/local/lib/python3.7/dist-packages (from kats) (2.19.1.1)\n",
            "Requirement already satisfied: python-dateutil>=2.8.0 in /usr/local/lib/python3.7/dist-packages (from kats) (2.8.2)\n",
            "Requirement already satisfied: scikit-learn>+0.24.2 in /usr/local/lib/python3.7/dist-packages (from kats) (0.22.2.post1)\n",
            "Requirement already satisfied: setuptools-git>=1.2 in /usr/local/lib/python3.7/dist-packages (from kats) (1.2)\n",
            "Requirement already satisfied: seaborn>=0.11.1 in /usr/local/lib/python3.7/dist-packages (from kats) (0.11.1)\n",
            "Collecting statsmodels>=0.12.2\n",
            "  Downloading statsmodels-0.12.2-cp37-cp37m-manylinux1_x86_64.whl (9.5 MB)\n",
            "\u001b[K     |████████████████████████████████| 9.5 MB 28.5 MB/s \n",
            "\u001b[?25hRequirement already satisfied: torch>=1.8.1 in /usr/local/lib/python3.7/dist-packages (from kats) (1.9.0+cu102)\n",
            "Requirement already satisfied: tqdm>=4.36.1 in /usr/local/lib/python3.7/dist-packages (from kats) (4.62.0)\n",
            "Requirement already satisfied: Cython>=0.22 in /usr/local/lib/python3.7/dist-packages (from fbprophet==0.7->kats) (0.29.24)\n",
            "Requirement already satisfied: cmdstanpy==0.9.5 in /usr/local/lib/python3.7/dist-packages (from fbprophet==0.7->kats) (0.9.5)\n",
            "Requirement already satisfied: pymeeus<=1,>=0.3.13 in /usr/local/lib/python3.7/dist-packages (from convertdate>=2.1.2->kats) (0.5.11)\n",
            "Requirement already satisfied: pytz>=2014.10 in /usr/local/lib/python3.7/dist-packages (from convertdate>=2.1.2->kats) (2018.9)\n",
            "Requirement already satisfied: korean-lunar-calendar in /usr/local/lib/python3.7/dist-packages (from holidays>=0.10.2->kats) (0.2.1)\n",
            "Requirement already satisfied: six in /usr/local/lib/python3.7/dist-packages (from holidays>=0.10.2->kats) (1.15.0)\n",
            "Requirement already satisfied: hijri-converter in /usr/local/lib/python3.7/dist-packages (from holidays>=0.10.2->kats) (2.1.3)\n",
            "Requirement already satisfied: ephem>=3.7.5.3 in /usr/local/lib/python3.7/dist-packages (from LunarCalendar>=0.0.9->kats) (4.0.0.2)\n",
            "Requirement already satisfied: cycler>=0.10 in /usr/local/lib/python3.7/dist-packages (from matplotlib>=2.0.0->kats) (0.10.0)\n",
            "Requirement already satisfied: pyparsing!=2.0.4,!=2.1.2,!=2.1.6,>=2.0.1 in /usr/local/lib/python3.7/dist-packages (from matplotlib>=2.0.0->kats) (2.4.7)\n",
            "Requirement already satisfied: kiwisolver>=1.0.1 in /usr/local/lib/python3.7/dist-packages (from matplotlib>=2.0.0->kats) (1.3.1)\n",
            "Requirement already satisfied: setuptools in /usr/local/lib/python3.7/dist-packages (from numba>=0.52.0->kats) (57.4.0)\n",
            "Collecting llvmlite<0.38,>=0.37.0rc1\n",
            "  Downloading llvmlite-0.37.0-cp37-cp37m-manylinux2014_x86_64.whl (26.3 MB)\n",
            "\u001b[K     |████████████████████████████████| 26.3 MB 86 kB/s \n",
            "\u001b[?25hCollecting tenacity>=6.2.0\n",
            "  Downloading tenacity-8.0.1-py3-none-any.whl (24 kB)\n",
            "Requirement already satisfied: scipy in /usr/local/lib/python3.7/dist-packages (from pymannkendall>=1.4.1->kats) (1.4.1)\n",
            "Requirement already satisfied: joblib>=0.11 in /usr/local/lib/python3.7/dist-packages (from scikit-learn>+0.24.2->kats) (1.0.1)\n",
            "Requirement already satisfied: patsy>=0.5 in /usr/local/lib/python3.7/dist-packages (from statsmodels>=0.12.2->kats) (0.5.1)\n",
            "Requirement already satisfied: typing-extensions in /usr/local/lib/python3.7/dist-packages (from torch>=1.8.1->kats) (3.7.4.3)\n",
            "Collecting botorch==0.5.0\n",
            "  Downloading botorch-0.5.0-py3-none-any.whl (475 kB)\n",
            "\u001b[K     |████████████████████████████████| 475 kB 53.6 MB/s \n",
            "\u001b[?25hRequirement already satisfied: typeguard in /usr/local/lib/python3.7/dist-packages (from ax-platform->kats) (2.7.1)\n",
            "Requirement already satisfied: jinja2 in /usr/local/lib/python3.7/dist-packages (from ax-platform->kats) (2.11.3)\n",
            "Requirement already satisfied: MarkupSafe>=0.23 in /usr/local/lib/python3.7/dist-packages (from jinja2->ax-platform->kats) (2.0.1)\n",
            "Building wheels for collected packages: kats, fbprophet\n",
            "  Building wheel for kats (setup.py) ... \u001b[?25l\u001b[?25hdone\n",
            "  Created wheel for kats: filename=kats-0.1.0-py3-none-any.whl size=286607 sha256=60d71974855300be5e3bceebe42a3b8d70dd9edee6b89ed668294b5708f6d80d\n",
            "  Stored in directory: /root/.cache/pip/wheels/c8/dd/5b/cc7cb7fc37c5b838c65e504437bba4c1828a3fbb473c0c11be\n",
            "  Building wheel for fbprophet (setup.py) ... \u001b[?25l\u001b[?25hdone\n",
            "  Created wheel for fbprophet: filename=fbprophet-0.7-py3-none-any.whl size=6637439 sha256=eb89e9d54b4ff20a8b001d6d80fab499092c9e875dc25e87fa19e5ae5fa70009\n",
            "  Stored in directory: /root/.cache/pip/wheels/82/e8/a8/53f37f0a409bc51f8693e967dcce8f88bfd33632b40a594a28\n",
            "Successfully built kats fbprophet\n",
            "Installing collected packages: tenacity, gpytorch, plotly, llvmlite, botorch, statsmodels, pymannkendall, numba, fbprophet, ax-platform, kats\n",
            "  Attempting uninstall: plotly\n",
            "    Found existing installation: plotly 4.4.1\n",
            "    Uninstalling plotly-4.4.1:\n",
            "      Successfully uninstalled plotly-4.4.1\n",
            "  Attempting uninstall: llvmlite\n",
            "    Found existing installation: llvmlite 0.34.0\n",
            "    Uninstalling llvmlite-0.34.0:\n",
            "      Successfully uninstalled llvmlite-0.34.0\n",
            "  Attempting uninstall: statsmodels\n",
            "    Found existing installation: statsmodels 0.10.2\n",
            "    Uninstalling statsmodels-0.10.2:\n",
            "      Successfully uninstalled statsmodels-0.10.2\n",
            "  Attempting uninstall: numba\n",
            "    Found existing installation: numba 0.51.2\n",
            "    Uninstalling numba-0.51.2:\n",
            "      Successfully uninstalled numba-0.51.2\n",
            "  Attempting uninstall: fbprophet\n",
            "    Found existing installation: fbprophet 0.7.1\n",
            "    Uninstalling fbprophet-0.7.1:\n",
            "      Successfully uninstalled fbprophet-0.7.1\n",
            "Successfully installed ax-platform-0.2.1 botorch-0.5.0 fbprophet-0.7 gpytorch-1.5.1 kats-0.1.0 llvmlite-0.37.0 numba-0.54.0 plotly-5.3.1 pymannkendall-1.4.2 statsmodels-0.12.2 tenacity-8.0.1\n"
          ]
        }
      ]
    },
    {
      "cell_type": "code",
      "metadata": {
        "id": "1R2yY9-oqYd-"
      },
      "source": [
        "# Importing the TimeSerisData class from Kats \n",
        "from kats.consts import TimeSeriesData\n"
      ],
      "execution_count": 55,
      "outputs": []
    },
    {
      "cell_type": "code",
      "metadata": {
        "id": "EFyRBrpIrKns"
      },
      "source": [
        "# Utils to work with Kats \n",
        "from dateutil import parser \n",
        "from datetime import datetime"
      ],
      "execution_count": 56,
      "outputs": []
    },
    {
      "cell_type": "code",
      "metadata": {
        "colab": {
          "base_uri": "https://localhost:8080/"
        },
        "id": "2BbGVjIvrSCT",
        "outputId": "115783db-52e9-4b02-ecaa-4d8cbda897b8"
      },
      "source": [
        "# Creating a Dataset object with Kats \n",
        "ts_data = TimeSeriesData(time = bitcoin_prices_updated.index , \n",
        "               value = bitcoin_prices_updated.Price)\n",
        "\n",
        "type(ts_data)"
      ],
      "execution_count": 57,
      "outputs": [
        {
          "output_type": "execute_result",
          "data": {
            "text/plain": [
              "kats.consts.TimeSeriesData"
            ]
          },
          "metadata": {},
          "execution_count": 57
        }
      ]
    },
    {
      "cell_type": "code",
      "metadata": {
        "colab": {
          "base_uri": "https://localhost:8080/",
          "height": 408
        },
        "id": "lC4aG5BZraEa",
        "outputId": "6a7a9e19-315f-4e00-8a97-017d58f07b5c"
      },
      "source": [
        "# Plotting the timeseries data \n",
        "import matplotlib.pyplot as plt\n",
        "\n",
        "ts_data.plot(cols=['Price'])\n",
        "plt.show()\n"
      ],
      "execution_count": 58,
      "outputs": [
        {
          "output_type": "display_data",
          "data": {
            "image/png": "[encoded data removed]",
            "text/plain": [
              "<Figure size 720x432 with 1 Axes>"
            ]
          },
          "metadata": {}
        }
      ]
    },
    {
      "cell_type": "markdown",
      "metadata": {
        "id": "WB57AkOir5rY"
      },
      "source": [
        "Lets make some forecasting with our data on a prophet model. "
      ]
    },
    {
      "cell_type": "code",
      "metadata": {
        "colab": {
          "base_uri": "https://localhost:8080/"
        },
        "id": "DuNutrLdSUCI",
        "outputId": "023761ab-126b-49ca-88b7-ef6fe1bd6f7b"
      },
      "source": [
        "# Importing the prophet \n",
        "from kats.models.prophet import ProphetModel , ProphetParams\n",
        "\n",
        "# Creating a model param instance \n",
        "params = ProphetParams(seasonality_mode= 'multiplicative') \n",
        "\n",
        "# Create a prophet model instance (just like how we create an instance in sklearn)\n",
        "model = ProphetModel(ts_data , params)\n",
        "\n",
        "# Fitting the model \n",
        "model.fit() \n",
        "\n",
        "# Making predictions \n",
        "forecast = model.predict(steps= 1 , include_history= True , freq = '1W')"
      ],
      "execution_count": 59,
      "outputs": [
        {
          "output_type": "stream",
          "name": "stderr",
          "text": [
            "INFO:fbprophet:Disabling daily seasonality. Run prophet with daily_seasonality=True to override this.\n"
          ]
        }
      ]
    },
    {
      "cell_type": "code",
      "metadata": {
        "colab": {
          "base_uri": "https://localhost:8080/",
          "height": 359
        },
        "id": "jrVnWaygShim",
        "outputId": "0ea8b9f8-6e15-44d0-864d-4cc218cb9afa"
      },
      "source": [
        "# Predicting the bitcoin price for a day (Horizon = 1 )\n",
        "forecast.head(10)"
      ],
      "execution_count": 60,
      "outputs": [
        {
          "output_type": "execute_result",
          "data": {
            "text/html": [
              "<div>\n",
              "<style scoped>\n",
              "    .dataframe tbody tr th:only-of-type {\n",
              "        vertical-align: middle;\n",
              "    }\n",
              "\n",
              "    .dataframe tbody tr th {\n",
              "        vertical-align: top;\n",
              "    }\n",
              "\n",
              "    .dataframe thead th {\n",
              "        text-align: right;\n",
              "    }\n",
              "</style>\n",
              "<table border=\"1\" class=\"dataframe\">\n",
              "  <thead>\n",
              "    <tr style=\"text-align: right;\">\n",
              "      <th></th>\n",
              "      <th>time</th>\n",
              "      <th>fcst</th>\n",
              "      <th>fcst_lower</th>\n",
              "      <th>fcst_upper</th>\n",
              "    </tr>\n",
              "  </thead>\n",
              "  <tbody>\n",
              "    <tr>\n",
              "      <th>0</th>\n",
              "      <td>2014-11-02</td>\n",
              "      <td>100.477979</td>\n",
              "      <td>-1767.510883</td>\n",
              "      <td>2247.254977</td>\n",
              "    </tr>\n",
              "    <tr>\n",
              "      <th>1</th>\n",
              "      <td>2014-11-03</td>\n",
              "      <td>100.366334</td>\n",
              "      <td>-1872.590654</td>\n",
              "      <td>2010.129827</td>\n",
              "    </tr>\n",
              "    <tr>\n",
              "      <th>2</th>\n",
              "      <td>2014-11-04</td>\n",
              "      <td>100.533908</td>\n",
              "      <td>-2013.697578</td>\n",
              "      <td>2204.157991</td>\n",
              "    </tr>\n",
              "    <tr>\n",
              "      <th>3</th>\n",
              "      <td>2014-11-05</td>\n",
              "      <td>100.078650</td>\n",
              "      <td>-1946.285033</td>\n",
              "      <td>2158.315272</td>\n",
              "    </tr>\n",
              "    <tr>\n",
              "      <th>4</th>\n",
              "      <td>2014-11-06</td>\n",
              "      <td>101.371062</td>\n",
              "      <td>-2064.808847</td>\n",
              "      <td>2150.947470</td>\n",
              "    </tr>\n",
              "    <tr>\n",
              "      <th>5</th>\n",
              "      <td>2014-11-07</td>\n",
              "      <td>100.766892</td>\n",
              "      <td>-1768.361453</td>\n",
              "      <td>2270.882938</td>\n",
              "    </tr>\n",
              "    <tr>\n",
              "      <th>6</th>\n",
              "      <td>2014-11-08</td>\n",
              "      <td>101.996420</td>\n",
              "      <td>-1719.764635</td>\n",
              "      <td>2041.536832</td>\n",
              "    </tr>\n",
              "    <tr>\n",
              "      <th>7</th>\n",
              "      <td>2014-11-09</td>\n",
              "      <td>102.773991</td>\n",
              "      <td>-2051.092356</td>\n",
              "      <td>2161.300161</td>\n",
              "    </tr>\n",
              "    <tr>\n",
              "      <th>8</th>\n",
              "      <td>2014-11-10</td>\n",
              "      <td>103.027023</td>\n",
              "      <td>-1976.533111</td>\n",
              "      <td>2137.969236</td>\n",
              "    </tr>\n",
              "    <tr>\n",
              "      <th>9</th>\n",
              "      <td>2014-11-11</td>\n",
              "      <td>103.665574</td>\n",
              "      <td>-1860.269906</td>\n",
              "      <td>2233.857738</td>\n",
              "    </tr>\n",
              "  </tbody>\n",
              "</table>\n",
              "</div>"
            ],
            "text/plain": [
              "        time        fcst   fcst_lower   fcst_upper\n",
              "0 2014-11-02  100.477979 -1767.510883  2247.254977\n",
              "1 2014-11-03  100.366334 -1872.590654  2010.129827\n",
              "2 2014-11-04  100.533908 -2013.697578  2204.157991\n",
              "3 2014-11-05  100.078650 -1946.285033  2158.315272\n",
              "4 2014-11-06  101.371062 -2064.808847  2150.947470\n",
              "5 2014-11-07  100.766892 -1768.361453  2270.882938\n",
              "6 2014-11-08  101.996420 -1719.764635  2041.536832\n",
              "7 2014-11-09  102.773991 -2051.092356  2161.300161\n",
              "8 2014-11-10  103.027023 -1976.533111  2137.969236\n",
              "9 2014-11-11  103.665574 -1860.269906  2233.857738"
            ]
          },
          "metadata": {},
          "execution_count": 60
        }
      ]
    },
    {
      "cell_type": "markdown",
      "metadata": {
        "id": "Vjry8BspjFrj"
      },
      "source": [
        "The above shows the simple implementation of the Kat's library. And we have used a Prophet model with multiplicative seasonlity. \n",
        "\n",
        "Feel free to play with other parameters as well. \n",
        "\n",
        "Next we will look into creating a ensemble of models using the Kat's library. We can achieve this by using `KatEnsemble`, it will be kinda similar to how scikit-learn works. "
      ]
    },
    {
      "cell_type": "code",
      "metadata": {
        "id": "4tP71FtbZZS3"
      },
      "source": [
        "# Importing the things we need \n",
        "from kats.models.ensemble.ensemble import EnsembleParams , BaseModelParams \n",
        "from kats.models.ensemble.kats_ensemble import KatsEnsemble\n",
        "from kats.models import (\n",
        "    arima, \n",
        "    holtwinters , \n",
        "    linear_model , \n",
        "    prophet , \n",
        "    quadratic_model , \n",
        "    sarima , \n",
        "    theta\n",
        ")"
      ],
      "execution_count": 61,
      "outputs": []
    },
    {
      "cell_type": "markdown",
      "metadata": {
        "id": "XL_oYp-7ZxUo"
      },
      "source": [
        "On the next step we will define parameters for each individual forecasting model using the `EnsembleParams` class. "
      ]
    },
    {
      "cell_type": "code",
      "metadata": {
        "id": "GZLW0KdWZ4ji"
      },
      "source": [
        "# Defining the parameters of different models \n",
        "model_params = EnsembleParams(\n",
        "    [\n",
        "     BaseModelParams('arima' , arima.ARIMAParams(p = 1 , d=1 , q=1)) , \n",
        "     BaseModelParams('sarima' ,\n",
        "                     sarima.SARIMAParams(\n",
        "                         p = 2 , d= 2 , q =1 , trend = 'ct' , \n",
        "                     seasonal_order = (1, 0 ,1 ,12) , enforce_invertibility = False , \n",
        "                     enforce_stationarity = False),\n",
        "     ),\n",
        "     BaseModelParams('prophet' , prophet.ProphetParams()) , \n",
        "     BaseModelParams('linear' , linear_model.LinearModelParams()) , \n",
        "     BaseModelParams('quadratic' , quadratic_model.QuadraticModelParams()),\n",
        "     BaseModelParams('theta' , theta.ThetaParams()), \n",
        "    ]\n",
        ")"
      ],
      "execution_count": 62,
      "outputs": []
    },
    {
      "cell_type": "code",
      "metadata": {
        "id": "SyE-sW09bWqJ"
      },
      "source": [
        "# Creating KatEnsembleParam with detailed configuration \n",
        "KatEnsembleParams = {\n",
        "    'models': model_params , \n",
        "    'aggregation': 'median' , \n",
        "    'seasonality_length': 7 , \n",
        "    'decomposition_method': 'multiplicative'\n",
        "}"
      ],
      "execution_count": 63,
      "outputs": []
    },
    {
      "cell_type": "code",
      "metadata": {
        "id": "IlX7gB4DcbY1"
      },
      "source": [
        "# Creating a Time Series dataset \n",
        "bitcoin_ts = TimeSeriesData(value = bitcoin_prices.Price,\n",
        "                            time = bitcoin_prices.index , \n",
        "                            sort_by_time= True)"
      ],
      "execution_count": 64,
      "outputs": []
    },
    {
      "cell_type": "code",
      "metadata": {
        "colab": {
          "base_uri": "https://localhost:8080/"
        },
        "id": "RQdLi-tGcL9t",
        "outputId": "1c24c8b5-ac01-41b2-c0f3-363d19043ddf"
      },
      "source": [
        "# Creating a KatEnsemble model (or) instantiating it \n",
        "ensemble_model = KatsEnsemble(\n",
        "    data = bitcoin_ts , \n",
        "    params = KatEnsembleParams\n",
        ")\n",
        "\n",
        "# Fitting the model \n",
        "ensemble_model.fit()"
      ],
      "execution_count": 65,
      "outputs": [
        {
          "output_type": "stream",
          "name": "stderr",
          "text": [
            "/usr/local/lib/python3.7/dist-packages/statsmodels/tsa/stattools.py:671: FutureWarning:\n",
            "\n",
            "fft=True will become the default after the release of the 0.12 release of statsmodels. To suppress this warning, explicitly set fft=False.\n",
            "\n",
            "/usr/local/lib/python3.7/dist-packages/statsmodels/tsa/arima_model.py:472: FutureWarning:\n",
            "\n",
            "\n",
            "statsmodels.tsa.arima_model.ARMA and statsmodels.tsa.arima_model.ARIMA have\n",
            "been deprecated in favor of statsmodels.tsa.arima.model.ARIMA (note the .\n",
            "between arima and model) and\n",
            "statsmodels.tsa.SARIMAX. These will be removed after the 0.12 release.\n",
            "\n",
            "statsmodels.tsa.arima.model.ARIMA makes use of the statespace framework and\n",
            "is both well tested and maintained.\n",
            "\n",
            "To silence this warning and continue using ARMA and ARIMA until they are\n",
            "removed, use:\n",
            "\n",
            "import warnings\n",
            "warnings.filterwarnings('ignore', 'statsmodels.tsa.arima_model.ARMA',\n",
            "                        FutureWarning)\n",
            "warnings.filterwarnings('ignore', 'statsmodels.tsa.arima_model.ARIMA',\n",
            "                        FutureWarning)\n",
            "\n",
            "\n",
            "/usr/local/lib/python3.7/dist-packages/statsmodels/tsa/base/tsa_model.py:527: ValueWarning:\n",
            "\n",
            "No frequency information was provided, so inferred frequency D will be used.\n",
            "\n",
            "/usr/local/lib/python3.7/dist-packages/statsmodels/tsa/base/tsa_model.py:527: ValueWarning:\n",
            "\n",
            "No frequency information was provided, so inferred frequency D will be used.\n",
            "\n",
            "/usr/local/lib/python3.7/dist-packages/statsmodels/tsa/arima_model.py:472: FutureWarning:\n",
            "\n",
            "\n",
            "statsmodels.tsa.arima_model.ARMA and statsmodels.tsa.arima_model.ARIMA have\n",
            "been deprecated in favor of statsmodels.tsa.arima.model.ARIMA (note the .\n",
            "between arima and model) and\n",
            "statsmodels.tsa.SARIMAX. These will be removed after the 0.12 release.\n",
            "\n",
            "statsmodels.tsa.arima.model.ARIMA makes use of the statespace framework and\n",
            "is both well tested and maintained.\n",
            "\n",
            "To silence this warning and continue using ARMA and ARIMA until they are\n",
            "removed, use:\n",
            "\n",
            "import warnings\n",
            "warnings.filterwarnings('ignore', 'statsmodels.tsa.arima_model.ARMA',\n",
            "                        FutureWarning)\n",
            "warnings.filterwarnings('ignore', 'statsmodels.tsa.arima_model.ARIMA',\n",
            "                        FutureWarning)\n",
            "\n",
            "\n",
            "/usr/local/lib/python3.7/dist-packages/statsmodels/tsa/arima_model.py:472: FutureWarning:\n",
            "\n",
            "\n",
            "statsmodels.tsa.arima_model.ARMA and statsmodels.tsa.arima_model.ARIMA have\n",
            "been deprecated in favor of statsmodels.tsa.arima.model.ARIMA (note the .\n",
            "between arima and model) and\n",
            "statsmodels.tsa.SARIMAX. These will be removed after the 0.12 release.\n",
            "\n",
            "statsmodels.tsa.arima.model.ARIMA makes use of the statespace framework and\n",
            "is both well tested and maintained.\n",
            "\n",
            "To silence this warning and continue using ARMA and ARIMA until they are\n",
            "removed, use:\n",
            "\n",
            "import warnings\n",
            "warnings.filterwarnings('ignore', 'statsmodels.tsa.arima_model.ARMA',\n",
            "                        FutureWarning)\n",
            "warnings.filterwarnings('ignore', 'statsmodels.tsa.arima_model.ARIMA',\n",
            "                        FutureWarning)\n",
            "\n",
            "\n",
            "INFO:fbprophet:Disabling daily seasonality. Run prophet with daily_seasonality=True to override this.\n",
            "/usr/local/lib/python3.7/dist-packages/statsmodels/tsa/holtwinters/model.py:429: FutureWarning:\n",
            "\n",
            "After 0.13 initialization must be handled at model creation\n",
            "\n",
            "/usr/local/lib/python3.7/dist-packages/statsmodels/tsa/holtwinters/model.py:922: ConvergenceWarning:\n",
            "\n",
            "Optimization failed to converge. Check mle_retvals.\n",
            "\n",
            "/usr/local/lib/python3.7/dist-packages/kats/models/theta.py:121: FutureWarning:\n",
            "\n",
            "`rcond` parameter will change to the default of machine precision times ``max(M, N)`` where M and N are the input matrix dimensions.\n",
            "To use the future default and silence this warning we advise to pass `rcond=None`, to keep using the old, explicitly pass `rcond=-1`.\n",
            "\n",
            "INFO:fbprophet:Disabling daily seasonality. Run prophet with daily_seasonality=True to override this.\n",
            "/usr/local/lib/python3.7/dist-packages/statsmodels/tsa/holtwinters/model.py:429: FutureWarning:\n",
            "\n",
            "After 0.13 initialization must be handled at model creation\n",
            "\n",
            "/usr/local/lib/python3.7/dist-packages/statsmodels/tsa/holtwinters/model.py:922: ConvergenceWarning:\n",
            "\n",
            "Optimization failed to converge. Check mle_retvals.\n",
            "\n",
            "/usr/local/lib/python3.7/dist-packages/kats/models/theta.py:121: FutureWarning:\n",
            "\n",
            "`rcond` parameter will change to the default of machine precision times ``max(M, N)`` where M and N are the input matrix dimensions.\n",
            "To use the future default and silence this warning we advise to pass `rcond=None`, to keep using the old, explicitly pass `rcond=-1`.\n",
            "\n",
            "/usr/local/lib/python3.7/dist-packages/statsmodels/tsa/arima_model.py:472: FutureWarning:\n",
            "\n",
            "\n",
            "statsmodels.tsa.arima_model.ARMA and statsmodels.tsa.arima_model.ARIMA have\n",
            "been deprecated in favor of statsmodels.tsa.arima.model.ARIMA (note the .\n",
            "between arima and model) and\n",
            "statsmodels.tsa.SARIMAX. These will be removed after the 0.12 release.\n",
            "\n",
            "statsmodels.tsa.arima.model.ARIMA makes use of the statespace framework and\n",
            "is both well tested and maintained.\n",
            "\n",
            "To silence this warning and continue using ARMA and ARIMA until they are\n",
            "removed, use:\n",
            "\n",
            "import warnings\n",
            "warnings.filterwarnings('ignore', 'statsmodels.tsa.arima_model.ARMA',\n",
            "                        FutureWarning)\n",
            "warnings.filterwarnings('ignore', 'statsmodels.tsa.arima_model.ARIMA',\n",
            "                        FutureWarning)\n",
            "\n",
            "\n"
          ]
        },
        {
          "output_type": "execute_result",
          "data": {
            "text/plain": [
              "<kats.models.ensemble.kats_ensemble.KatsEnsemble at 0x7f5e96f72450>"
            ]
          },
          "metadata": {},
          "execution_count": 65
        }
      ]
    },
    {
      "cell_type": "code",
      "metadata": {
        "id": "a2-IfczBc-pX"
      },
      "source": [
        "# Making prediction for the next 30 days \n",
        "forecast = ensemble_model.predict(steps = 30) "
      ],
      "execution_count": 66,
      "outputs": []
    },
    {
      "cell_type": "code",
      "metadata": {
        "colab": {
          "base_uri": "https://localhost:8080/",
          "height": 979
        },
        "id": "E0uPDVYKdACp",
        "outputId": "125e50e8-fcd5-46b6-e1ff-2a4d2703029d"
      },
      "source": [
        "# Aggregate individual model results (we will get the predictions for 30 Days)\n",
        "ensemble_model.aggregate()"
      ],
      "execution_count": 67,
      "outputs": [
        {
          "output_type": "execute_result",
          "data": {
            "text/html": [
              "<div>\n",
              "<style scoped>\n",
              "    .dataframe tbody tr th:only-of-type {\n",
              "        vertical-align: middle;\n",
              "    }\n",
              "\n",
              "    .dataframe tbody tr th {\n",
              "        vertical-align: top;\n",
              "    }\n",
              "\n",
              "    .dataframe thead th {\n",
              "        text-align: right;\n",
              "    }\n",
              "</style>\n",
              "<table border=\"1\" class=\"dataframe\">\n",
              "  <thead>\n",
              "    <tr style=\"text-align: right;\">\n",
              "      <th></th>\n",
              "      <th>time</th>\n",
              "      <th>fcst</th>\n",
              "      <th>fcst_lower</th>\n",
              "      <th>fcst_upper</th>\n",
              "    </tr>\n",
              "  </thead>\n",
              "  <tbody>\n",
              "    <tr>\n",
              "      <th>0</th>\n",
              "      <td>2021-05-19</td>\n",
              "      <td>42702.328615</td>\n",
              "      <td>39032.386907</td>\n",
              "      <td>44921.608513</td>\n",
              "    </tr>\n",
              "    <tr>\n",
              "      <th>1</th>\n",
              "      <td>2021-05-20</td>\n",
              "      <td>42093.070700</td>\n",
              "      <td>38310.788632</td>\n",
              "      <td>44888.988334</td>\n",
              "    </tr>\n",
              "    <tr>\n",
              "      <th>2</th>\n",
              "      <td>2021-05-21</td>\n",
              "      <td>41453.679349</td>\n",
              "      <td>37395.374307</td>\n",
              "      <td>44078.196763</td>\n",
              "    </tr>\n",
              "    <tr>\n",
              "      <th>3</th>\n",
              "      <td>2021-05-22</td>\n",
              "      <td>42389.483521</td>\n",
              "      <td>37872.878370</td>\n",
              "      <td>45665.275739</td>\n",
              "    </tr>\n",
              "    <tr>\n",
              "      <th>4</th>\n",
              "      <td>2021-05-23</td>\n",
              "      <td>42430.877678</td>\n",
              "      <td>37962.923862</td>\n",
              "      <td>45973.603624</td>\n",
              "    </tr>\n",
              "    <tr>\n",
              "      <th>5</th>\n",
              "      <td>2021-05-24</td>\n",
              "      <td>41860.876656</td>\n",
              "      <td>37602.692938</td>\n",
              "      <td>45932.014000</td>\n",
              "    </tr>\n",
              "    <tr>\n",
              "      <th>6</th>\n",
              "      <td>2021-05-25</td>\n",
              "      <td>40876.735471</td>\n",
              "      <td>36456.911133</td>\n",
              "      <td>45016.331023</td>\n",
              "    </tr>\n",
              "    <tr>\n",
              "      <th>7</th>\n",
              "      <td>2021-05-26</td>\n",
              "      <td>41493.450702</td>\n",
              "      <td>36620.127055</td>\n",
              "      <td>46303.986131</td>\n",
              "    </tr>\n",
              "    <tr>\n",
              "      <th>8</th>\n",
              "      <td>2021-05-27</td>\n",
              "      <td>40974.434773</td>\n",
              "      <td>36010.993246</td>\n",
              "      <td>46215.963302</td>\n",
              "    </tr>\n",
              "    <tr>\n",
              "      <th>9</th>\n",
              "      <td>2021-05-28</td>\n",
              "      <td>40517.685762</td>\n",
              "      <td>35541.445586</td>\n",
              "      <td>45268.930748</td>\n",
              "    </tr>\n",
              "    <tr>\n",
              "      <th>10</th>\n",
              "      <td>2021-05-29</td>\n",
              "      <td>41310.823799</td>\n",
              "      <td>36146.832595</td>\n",
              "      <td>46942.661605</td>\n",
              "    </tr>\n",
              "    <tr>\n",
              "      <th>11</th>\n",
              "      <td>2021-05-30</td>\n",
              "      <td>41449.517163</td>\n",
              "      <td>35960.903837</td>\n",
              "      <td>47199.677049</td>\n",
              "    </tr>\n",
              "    <tr>\n",
              "      <th>12</th>\n",
              "      <td>2021-05-31</td>\n",
              "      <td>41278.951031</td>\n",
              "      <td>35290.926485</td>\n",
              "      <td>47151.482375</td>\n",
              "    </tr>\n",
              "    <tr>\n",
              "      <th>13</th>\n",
              "      <td>2021-06-01</td>\n",
              "      <td>40747.868299</td>\n",
              "      <td>34595.620869</td>\n",
              "      <td>46177.676612</td>\n",
              "    </tr>\n",
              "    <tr>\n",
              "      <th>14</th>\n",
              "      <td>2021-06-02</td>\n",
              "      <td>41375.657183</td>\n",
              "      <td>35106.352317</td>\n",
              "      <td>47465.047440</td>\n",
              "    </tr>\n",
              "    <tr>\n",
              "      <th>15</th>\n",
              "      <td>2021-06-03</td>\n",
              "      <td>41235.496211</td>\n",
              "      <td>34882.764880</td>\n",
              "      <td>47085.579379</td>\n",
              "    </tr>\n",
              "    <tr>\n",
              "      <th>16</th>\n",
              "      <td>2021-06-04</td>\n",
              "      <td>40843.805996</td>\n",
              "      <td>34460.086705</td>\n",
              "      <td>46245.740211</td>\n",
              "    </tr>\n",
              "    <tr>\n",
              "      <th>17</th>\n",
              "      <td>2021-06-05</td>\n",
              "      <td>41696.714289</td>\n",
              "      <td>35425.403281</td>\n",
              "      <td>47838.084470</td>\n",
              "    </tr>\n",
              "    <tr>\n",
              "      <th>18</th>\n",
              "      <td>2021-06-06</td>\n",
              "      <td>41886.155807</td>\n",
              "      <td>35500.021592</td>\n",
              "      <td>47887.671868</td>\n",
              "    </tr>\n",
              "    <tr>\n",
              "      <th>19</th>\n",
              "      <td>2021-06-07</td>\n",
              "      <td>41758.259614</td>\n",
              "      <td>35186.121799</td>\n",
              "      <td>47788.589750</td>\n",
              "    </tr>\n",
              "    <tr>\n",
              "      <th>20</th>\n",
              "      <td>2021-06-08</td>\n",
              "      <td>41253.592588</td>\n",
              "      <td>35252.447081</td>\n",
              "      <td>46866.733830</td>\n",
              "    </tr>\n",
              "    <tr>\n",
              "      <th>21</th>\n",
              "      <td>2021-06-09</td>\n",
              "      <td>41928.762161</td>\n",
              "      <td>35585.506553</td>\n",
              "      <td>48178.393089</td>\n",
              "    </tr>\n",
              "    <tr>\n",
              "      <th>22</th>\n",
              "      <td>2021-06-10</td>\n",
              "      <td>41813.850847</td>\n",
              "      <td>36187.033878</td>\n",
              "      <td>48211.347985</td>\n",
              "    </tr>\n",
              "    <tr>\n",
              "      <th>23</th>\n",
              "      <td>2021-06-11</td>\n",
              "      <td>41227.411220</td>\n",
              "      <td>35091.185874</td>\n",
              "      <td>47292.244745</td>\n",
              "    </tr>\n",
              "    <tr>\n",
              "      <th>24</th>\n",
              "      <td>2021-06-12</td>\n",
              "      <td>42317.681061</td>\n",
              "      <td>35364.917980</td>\n",
              "      <td>48537.083517</td>\n",
              "    </tr>\n",
              "    <tr>\n",
              "      <th>25</th>\n",
              "      <td>2021-06-13</td>\n",
              "      <td>42518.913745</td>\n",
              "      <td>36171.177209</td>\n",
              "      <td>48679.131392</td>\n",
              "    </tr>\n",
              "    <tr>\n",
              "      <th>26</th>\n",
              "      <td>2021-06-14</td>\n",
              "      <td>42392.329326</td>\n",
              "      <td>36271.636806</td>\n",
              "      <td>48717.445740</td>\n",
              "    </tr>\n",
              "    <tr>\n",
              "      <th>27</th>\n",
              "      <td>2021-06-15</td>\n",
              "      <td>41612.358831</td>\n",
              "      <td>35376.209350</td>\n",
              "      <td>47706.604601</td>\n",
              "    </tr>\n",
              "    <tr>\n",
              "      <th>28</th>\n",
              "      <td>2021-06-16</td>\n",
              "      <td>42556.673592</td>\n",
              "      <td>36088.857685</td>\n",
              "      <td>49013.276425</td>\n",
              "    </tr>\n",
              "    <tr>\n",
              "      <th>29</th>\n",
              "      <td>2021-06-17</td>\n",
              "      <td>42428.993650</td>\n",
              "      <td>36001.895304</td>\n",
              "      <td>48955.540297</td>\n",
              "    </tr>\n",
              "  </tbody>\n",
              "</table>\n",
              "</div>"
            ],
            "text/plain": [
              "         time          fcst    fcst_lower    fcst_upper\n",
              "0  2021-05-19  42702.328615  39032.386907  44921.608513\n",
              "1  2021-05-20  42093.070700  38310.788632  44888.988334\n",
              "2  2021-05-21  41453.679349  37395.374307  44078.196763\n",
              "3  2021-05-22  42389.483521  37872.878370  45665.275739\n",
              "4  2021-05-23  42430.877678  37962.923862  45973.603624\n",
              "5  2021-05-24  41860.876656  37602.692938  45932.014000\n",
              "6  2021-05-25  40876.735471  36456.911133  45016.331023\n",
              "7  2021-05-26  41493.450702  36620.127055  46303.986131\n",
              "8  2021-05-27  40974.434773  36010.993246  46215.963302\n",
              "9  2021-05-28  40517.685762  35541.445586  45268.930748\n",
              "10 2021-05-29  41310.823799  36146.832595  46942.661605\n",
              "11 2021-05-30  41449.517163  35960.903837  47199.677049\n",
              "12 2021-05-31  41278.951031  35290.926485  47151.482375\n",
              "13 2021-06-01  40747.868299  34595.620869  46177.676612\n",
              "14 2021-06-02  41375.657183  35106.352317  47465.047440\n",
              "15 2021-06-03  41235.496211  34882.764880  47085.579379\n",
              "16 2021-06-04  40843.805996  34460.086705  46245.740211\n",
              "17 2021-06-05  41696.714289  35425.403281  47838.084470\n",
              "18 2021-06-06  41886.155807  35500.021592  47887.671868\n",
              "19 2021-06-07  41758.259614  35186.121799  47788.589750\n",
              "20 2021-06-08  41253.592588  35252.447081  46866.733830\n",
              "21 2021-06-09  41928.762161  35585.506553  48178.393089\n",
              "22 2021-06-10  41813.850847  36187.033878  48211.347985\n",
              "23 2021-06-11  41227.411220  35091.185874  47292.244745\n",
              "24 2021-06-12  42317.681061  35364.917980  48537.083517\n",
              "25 2021-06-13  42518.913745  36171.177209  48679.131392\n",
              "26 2021-06-14  42392.329326  36271.636806  48717.445740\n",
              "27 2021-06-15  41612.358831  35376.209350  47706.604601\n",
              "28 2021-06-16  42556.673592  36088.857685  49013.276425\n",
              "29 2021-06-17  42428.993650  36001.895304  48955.540297"
            ]
          },
          "metadata": {},
          "execution_count": 67
        }
      ]
    },
    {
      "cell_type": "code",
      "metadata": {
        "colab": {
          "base_uri": "https://localhost:8080/",
          "height": 441
        },
        "id": "7cmueWTgdzE_",
        "outputId": "6d65ec26-3ba0-48d2-b279-403c8f3a61d7"
      },
      "source": [
        "# Plotting the model \n",
        "ensemble_model.plot()"
      ],
      "execution_count": 68,
      "outputs": [
        {
          "output_type": "display_data",
          "data": {
            "image/png": "[encoded data removed]",
            "text/plain": [
              "<Figure size 720x432 with 1 Axes>"
            ]
          },
          "metadata": {}
        }
      ]
    },
    {
      "cell_type": "code",
      "metadata": {
        "id": "Ijknhx20evcK"
      },
      "source": [
        ""
      ],
      "execution_count": 68,
      "outputs": []
    }
  ]
}