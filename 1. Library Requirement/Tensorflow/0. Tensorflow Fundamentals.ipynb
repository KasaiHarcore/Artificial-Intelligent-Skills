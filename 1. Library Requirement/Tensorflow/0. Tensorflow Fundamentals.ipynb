{
  "cells": [
    {
      "cell_type": "markdown",
      "metadata": {
        "colab_type": "text",
        "id": "view-in-github"
      },
      "source": [
        "<a href=\"https://colab.research.google.com/github/mrdbourke/tensorflow-deep-learning/blob/main/00_tensorflow_fundamentals.ipynb\" target=\"_parent\"><img src=\"https://colab.research.google.com/assets/colab-badge.svg\" alt=\"Open In Colab\"/></a>"
      ]
    },
    {
      "cell_type": "markdown",
      "metadata": {
        "id": "ielzxn52r2CB"
      },
      "source": [
        "# 00. Getting started with TensorFlow: A guide to the fundamentals\n",
        "\n",
        "## What is TensorFlow?\n",
        "\n",
        "[TensorFlow](https://www.tensorflow.org/) is an open-source end-to-end machine learning library for preprocessing data, modelling data and serving models (getting them into the hands of others).\n",
        "\n",
        "## Why use TensorFlow?\n",
        "\n",
        "Rather than building machine learning and deep learning models from scratch, it's more likely you'll use a library such as TensorFlow. This is because it contains many of the most common machine learning functions you'll want to use.\n",
        "\n",
        "## What we're going to cover\n",
        "\n",
        "TensorFlow is vast. But the main premise is simple: turn data into numbers (tensors) and build machine learning algorithms to find patterns in them.\n",
        "\n",
        "In this notebook we cover some of the most fundamental TensorFlow operations, more specificially:\n",
        "* Introduction to tensors (creating tensors)\n",
        "* Getting information from tensors (tensor attributes)\n",
        "* Manipulating tensors (tensor operations)\n",
        "* Tensors and NumPy\n",
        "* Using @tf.function (a way to speed up your regular Python functions)\n",
        "* Using GPUs with TensorFlow\n",
        "* Exercises to try\n",
        "\n",
        "Things to note:\n",
        "* Many of the conventions here will happen automatically behind the scenes (when you build a model) but it's worth knowing so if you see any of these things, you know what's happening.\n",
        "* For any TensorFlow function you see, it's important to be able to check it out in the documentation, for example, going to the Python API docs for all functions and searching for what you need: https://www.tensorflow.org/api_docs/python/ (don't worry if this seems overwhelming at first, with enough practice, you'll get used to navigating the documentaiton).\n",
        "\n"
      ]
    },
    {
      "cell_type": "code",
      "execution_count": 1,
      "metadata": {
        "colab": {
          "base_uri": "https://localhost:8080/"
        },
        "id": "PdXtFSY13JWv",
        "outputId": "d12fed68-45db-4e98-f843-d6a0a13ef906"
      },
      "outputs": [
        {
          "name": "stdout",
          "output_type": "stream",
          "text": [
            "Notebook last run (end-to-end): 2024-02-02 13:11:59.528029\n"
          ]
        }
      ],
      "source": [
        "# Create timestamp\n",
        "import datetime\n",
        "\n",
        "print(f\"Notebook last run (end-to-end): {datetime.datetime.now()}\")"
      ]
    },
    {
      "cell_type": "markdown",
      "metadata": {
        "id": "VArmDlu06sH0"
      },
      "source": [
        "## Introduction to Tensors\n",
        "\n",
        "If you've ever used NumPy, [tensors](https://www.tensorflow.org/guide/tensor) are kind of like NumPy arrays (we'll see more on this later).\n",
        "\n",
        "For the sake of this notebook and going forward, you can think of a tensor as a multi-dimensional numerical representation (also referred to as n-dimensional, where n can be any number) of something. Where something can be almost anything you can imagine: \n",
        "* It could be numbers themselves (using tensors to represent the price of houses). \n",
        "* It could be an image (using tensors to represent the pixels of an image).\n",
        "* It could be text (using tensors to represent words).\n",
        "* Or it could be some other form of information (or data) you want to represent with numbers.\n",
        "\n",
        "The main difference between tensors and NumPy arrays (also an n-dimensional array of numbers) is that tensors can be used on [GPUs (graphical processing units)](https://blogs.nvidia.com/blog/2009/12/16/whats-the-difference-between-a-cpu-and-a-gpu/) and [TPUs (tensor processing units)](https://en.wikipedia.org/wiki/Tensor_processing_unit). \n",
        "\n",
        "The benefit of being able to run on GPUs and TPUs is faster computation, this means, if we wanted to find patterns in the numerical representations of our data, we can generally find them faster using GPUs and TPUs.\n",
        "\n",
        "Okay, we've been talking enough about tensors, let's see them.\n",
        "\n",
        "The first thing we'll do is import TensorFlow under the common alias `tf`."
      ]
    },
    {
      "cell_type": "code",
      "execution_count": 2,
      "metadata": {
        "colab": {
          "base_uri": "https://localhost:8080/"
        },
        "id": "Z7ieIu8t9ijY",
        "outputId": "01adfd03-921d-4a59-fe89-3d74610adb21"
      },
      "outputs": [
        {
          "name": "stdout",
          "output_type": "stream",
          "text": [
            "2.14.0\n"
          ]
        }
      ],
      "source": [
        "# Import TensorFlow\n",
        "import tensorflow as tf\n",
        "print(tf.__version__) # find the version number (should be 2.x+)"
      ]
    },
    {
      "cell_type": "markdown",
      "metadata": {
        "id": "JNtV5t1qz0VP"
      },
      "source": [
        "### Creating Tensors with `tf.constant()`\n",
        "\n",
        "As mentioned before, in general, you usually won't create tensors yourself. This is because TensorFlow has modules built-in (such as [`tf.io`](https://www.tensorflow.org/api_docs/python/tf/io) and [`tf.data`](https://www.tensorflow.org/guide/data)) which are able to read your data sources and automatically convert them to tensors and then later on, neural network models will process these for us.\n",
        "\n",
        "But for now, because we're getting familar with tensors themselves and how to manipulate them, we'll see how we can create them ourselves.\n",
        "\n",
        "We'll begin by using [`tf.constant()`](https://www.tensorflow.org/api_docs/python/tf/constant)."
      ]
    },
    {
      "cell_type": "code",
      "execution_count": 3,
      "metadata": {
        "colab": {
          "base_uri": "https://localhost:8080/"
        },
        "id": "nC7aQgqi0M_Z",
        "outputId": "6756e867-e2b3-4d64-e7b9-b612394a8ecc"
      },
      "outputs": [
        {
          "data": {
            "text/plain": [
              "<tf.Tensor: shape=(), dtype=int32, numpy=7>"
            ]
          },
          "execution_count": 3,
          "metadata": {},
          "output_type": "execute_result"
        }
      ],
      "source": [
        "# Create a scalar (rank 0 tensor)\n",
        "scalar = tf.constant(7)\n",
        "scalar"
      ]
    },
    {
      "cell_type": "markdown",
      "metadata": {
        "id": "o6fXE5dXkO_3"
      },
      "source": [
        "A scalar is known as a rank 0 tensor. Because it has no dimensions (it's just a number).\n",
        "\n",
        "> 🔑 **Note:** For now, you don't need to know too much about the different ranks of tensors (but we will see more on this later). The important point is knowing tensors can have an unlimited range of dimensions (the exact amount will depend on what data you're representing)."
      ]
    },
    {
      "cell_type": "code",
      "execution_count": 4,
      "metadata": {
        "colab": {
          "base_uri": "https://localhost:8080/"
        },
        "id": "1sgUNKoFkJ21",
        "outputId": "b7538913-97b7-4c39-f732-e0dae545ab8d"
      },
      "outputs": [
        {
          "data": {
            "text/plain": [
              "0"
            ]
          },
          "execution_count": 4,
          "metadata": {},
          "output_type": "execute_result"
        }
      ],
      "source": [
        "# Check the number of dimensions of a tensor (ndim stands for number of dimensions)\n",
        "scalar.ndim"
      ]
    },
    {
      "cell_type": "code",
      "execution_count": 5,
      "metadata": {
        "colab": {
          "base_uri": "https://localhost:8080/"
        },
        "id": "irtCo2fs0V_o",
        "outputId": "ac00aae7-c80f-4450-d824-f6aa9910362b"
      },
      "outputs": [
        {
          "data": {
            "text/plain": [
              "<tf.Tensor: shape=(2,), dtype=int32, numpy=array([10, 10])>"
            ]
          },
          "execution_count": 5,
          "metadata": {},
          "output_type": "execute_result"
        }
      ],
      "source": [
        "# Create a vector (more than 0 dimensions)\n",
        "vector = tf.constant([10, 10])\n",
        "vector"
      ]
    },
    {
      "cell_type": "code",
      "execution_count": 6,
      "metadata": {
        "colab": {
          "base_uri": "https://localhost:8080/"
        },
        "id": "7DDc36pvmOse",
        "outputId": "aec326c7-d359-4df9-f64b-62af8fdc2958"
      },
      "outputs": [
        {
          "data": {
            "text/plain": [
              "1"
            ]
          },
          "execution_count": 6,
          "metadata": {},
          "output_type": "execute_result"
        }
      ],
      "source": [
        "# Check the number of dimensions of our vector tensor\n",
        "vector.ndim"
      ]
    },
    {
      "cell_type": "code",
      "execution_count": 7,
      "metadata": {
        "colab": {
          "base_uri": "https://localhost:8080/"
        },
        "id": "HXf5A5360V7A",
        "outputId": "4ad29d49-9ed6-4b7a-aed5-bb6cab663556"
      },
      "outputs": [
        {
          "data": {
            "text/plain": [
              "<tf.Tensor: shape=(2, 2), dtype=int32, numpy=\n",
              "array([[10,  7],\n",
              "       [ 7, 10]])>"
            ]
          },
          "execution_count": 7,
          "metadata": {},
          "output_type": "execute_result"
        }
      ],
      "source": [
        "# Create a matrix (more than 1 dimension)\n",
        "matrix = tf.constant([[10, 7],\n",
        "                      [7, 10]])\n",
        "matrix"
      ]
    },
    {
      "cell_type": "code",
      "execution_count": 8,
      "metadata": {
        "colab": {
          "base_uri": "https://localhost:8080/"
        },
        "id": "Asmn6YghlT6u",
        "outputId": "a720f883-9bed-4f83-833a-1e11c4cac29c"
      },
      "outputs": [
        {
          "data": {
            "text/plain": [
              "2"
            ]
          },
          "execution_count": 8,
          "metadata": {},
          "output_type": "execute_result"
        }
      ],
      "source": [
        "matrix.ndim"
      ]
    },
    {
      "cell_type": "markdown",
      "metadata": {
        "id": "qvQb7RT2s9Te"
      },
      "source": [
        "By default, TensorFlow creates tensors with either an `int32` or `float32` datatype.\n",
        "\n",
        "This is known as [32-bit precision](https://en.wikipedia.org/wiki/Precision_(computer_science) (the higher the number, the more precise the number, the more space it takes up on your computer)."
      ]
    },
    {
      "cell_type": "code",
      "execution_count": 9,
      "metadata": {
        "colab": {
          "base_uri": "https://localhost:8080/"
        },
        "id": "aEgthLq80V2u",
        "outputId": "77397970-7687-439d-c0dc-81548d2a238e"
      },
      "outputs": [
        {
          "data": {
            "text/plain": [
              "<tf.Tensor: shape=(3, 2), dtype=float16, numpy=\n",
              "array([[10.,  7.],\n",
              "       [ 3.,  2.],\n",
              "       [ 8.,  9.]], dtype=float16)>"
            ]
          },
          "execution_count": 9,
          "metadata": {},
          "output_type": "execute_result"
        }
      ],
      "source": [
        "# Create another matrix and define the datatype\n",
        "another_matrix = tf.constant([[10., 7.],\n",
        "                              [3., 2.],\n",
        "                              [8., 9.]], dtype=tf.float16) # specify the datatype with 'dtype'\n",
        "another_matrix"
      ]
    },
    {
      "cell_type": "code",
      "execution_count": 10,
      "metadata": {
        "colab": {
          "base_uri": "https://localhost:8080/"
        },
        "id": "v-Y-lXdOlXRg",
        "outputId": "e687b22d-f4fb-44b1-8d7f-06276a39d6ff"
      },
      "outputs": [
        {
          "data": {
            "text/plain": [
              "2"
            ]
          },
          "execution_count": 10,
          "metadata": {},
          "output_type": "execute_result"
        }
      ],
      "source": [
        "# Even though another_matrix contains more numbers, its dimensions stay the same\n",
        "another_matrix.ndim"
      ]
    },
    {
      "cell_type": "code",
      "execution_count": 11,
      "metadata": {
        "colab": {
          "base_uri": "https://localhost:8080/"
        },
        "id": "fAy7J6fT0Vwz",
        "outputId": "976ce412-58bb-4604-a8a6-881b8b6e1a67"
      },
      "outputs": [
        {
          "data": {
            "text/plain": [
              "<tf.Tensor: shape=(3, 2, 3), dtype=int32, numpy=\n",
              "array([[[ 1,  2,  3],\n",
              "        [ 4,  5,  6]],\n",
              "\n",
              "       [[ 7,  8,  9],\n",
              "        [10, 11, 12]],\n",
              "\n",
              "       [[13, 14, 15],\n",
              "        [16, 17, 18]]])>"
            ]
          },
          "execution_count": 11,
          "metadata": {},
          "output_type": "execute_result"
        }
      ],
      "source": [
        "# How about a tensor? (more than 2 dimensions, although, all of the above items are also technically tensors)\n",
        "tensor = tf.constant([[[1, 2, 3],\n",
        "                       [4, 5, 6]],\n",
        "                      [[7, 8, 9],\n",
        "                       [10, 11, 12]],\n",
        "                      [[13, 14, 15],\n",
        "                       [16, 17, 18]]])\n",
        "tensor"
      ]
    },
    {
      "cell_type": "code",
      "execution_count": 12,
      "metadata": {
        "colab": {
          "base_uri": "https://localhost:8080/"
        },
        "id": "FhIsj108mFOS",
        "outputId": "cf336e60-876d-423d-d8bf-024f794f5b22"
      },
      "outputs": [
        {
          "data": {
            "text/plain": [
              "3"
            ]
          },
          "execution_count": 12,
          "metadata": {},
          "output_type": "execute_result"
        }
      ],
      "source": [
        "tensor.ndim"
      ]
    },
    {
      "cell_type": "code",
      "execution_count": 18,
      "metadata": {},
      "outputs": [
        {
          "name": "stdout",
          "output_type": "stream",
          "text": [
            "The tensor in matrix have:\n",
            "Rank:  3\n",
            "Shape:  (3, 2, 3)\n",
            "Size:  18\n"
          ]
        }
      ],
      "source": [
        "print(\"The tensor in matrix have:\")\n",
        "print(\"Rank: \", tf.rank(tensor).numpy())\n",
        "print(\"Shape: \", tensor.shape) # Where 3 is the number of dimensions, 2 is the number of rows and 3 is the number of columns\n",
        "print(\"Size: \", tf.size(tensor).numpy())"
      ]
    },
    {
      "cell_type": "markdown",
      "metadata": {
        "id": "w5MGwSpA100u"
      },
      "source": [
        "This is known as a rank 3 tensor (3-dimensions), however a tensor can have an arbitrary (unlimited) amount of dimensions.\n",
        "\n",
        "For example, you might turn a series of images into tensors with shape (224, 224, 3, 32), where:\n",
        "* 224, 224 (the first 2 dimensions) are the height and width of the images in pixels.\n",
        "* 3 is the number of colour channels of the image (red, green blue).\n",
        "* 32 is the batch size (the number of images a neural network sees at any one time).\n",
        "\n",
        "All of the above variables we've created are actually tensors. But you may also hear them referred to as their different names (the ones we gave them):\n",
        "* **scalar**: a single number.\n",
        "* **vector**: a number with direction (e.g. wind speed with direction).\n",
        "* **matrix**: a 2-dimensional array of numbers.\n",
        "* **tensor**: an n-dimensional arrary of numbers (where n can be any number, a 0-dimension tensor is a scalar, a 1-dimension tensor is a vector). \n",
        "\n",
        "To add to the confusion, the terms matrix and tensor are often used interchangably.\n",
        "\n",
        "Going forward since we're using TensorFlow, everything we refer to and use will be tensors.\n",
        "\n",
        "For more on the mathematical difference between scalars, vectors and matrices see the [visual algebra post by Math is Fun](https://www.mathsisfun.com/algebra/scalar-vector-matrix.html).\n",
        "\n",
        "![difference between scalar, vector, matrix, tensor](https://raw.githubusercontent.com/mrdbourke/tensorflow-deep-learning/main/images/00-scalar-vector-matrix-tensor.png)"
      ]
    },
    {
      "cell_type": "markdown",
      "metadata": {
        "id": "TZMfDFKC0Cl7"
      },
      "source": [
        "### Creating Tensors with `tf.Variable()`\n",
        "\n",
        "You can also (although you likely rarely will, because often, when working with data, tensors are created for you automatically) create tensors using [`tf.Variable()`](https://www.tensorflow.org/api_docs/python/tf/Variable).\n",
        "\n",
        "The difference between `tf.Variable()` and `tf.constant()` is tensors created with `tf.constant()` are immutable (can't be changed, can only be used to create a new tensor), where as, tensors created with `tf.Variable()` are mutable (can be changed)."
      ]
    },
    {
      "cell_type": "code",
      "execution_count": 13,
      "metadata": {
        "colab": {
          "base_uri": "https://localhost:8080/"
        },
        "id": "bv1SBbDe4TxN",
        "outputId": "0aeb31ea-808d-4dc3-bcd3-8ef01be56012"
      },
      "outputs": [
        {
          "data": {
            "text/plain": [
              "(<tf.Variable 'Variable:0' shape=(2,) dtype=int32, numpy=array([10,  7])>,\n",
              " <tf.Tensor: shape=(2,), dtype=int32, numpy=array([10,  7])>)"
            ]
          },
          "execution_count": 13,
          "metadata": {},
          "output_type": "execute_result"
        }
      ],
      "source": [
        "# Create the same tensor with tf.Variable() and tf.constant()\n",
        "changeable_tensor = tf.Variable([10, 7])\n",
        "unchangeable_tensor = tf.constant([10, 7])\n",
        "changeable_tensor, unchangeable_tensor"
      ]
    },
    {
      "cell_type": "markdown",
      "metadata": {
        "id": "A4WrQ8c2ux15"
      },
      "source": [
        "Now let's try to change one of the elements of the changable tensor."
      ]
    },
    {
      "cell_type": "code",
      "execution_count": 14,
      "metadata": {
        "colab": {
          "base_uri": "https://localhost:8080/",
          "height": 204
        },
        "id": "dfDwbF6i5Sy3",
        "outputId": "9b25dd77-24c4-4f59-82bb-8f8ae826c384"
      },
      "outputs": [
        {
          "ename": "TypeError",
          "evalue": "'ResourceVariable' object does not support item assignment",
          "output_type": "error",
          "traceback": [
            "\u001b[1;31m---------------------------------------------------------------------------\u001b[0m",
            "\u001b[1;31mTypeError\u001b[0m                                 Traceback (most recent call last)",
            "\u001b[1;32mc:\\Users\\My computer\\Downloads\\School\\Personal Education\\Github\\Artificial-Intelligent-Skills\\1. Library Requirement\\Tensorflow\\0. Tensorflow Fundamentals.ipynb Cell 23\u001b[0m line \u001b[0;36m2\n\u001b[0;32m      <a href='vscode-notebook-cell:/c%3A/Users/My%20computer/Downloads/School/Personal%20Education/Github/Artificial-Intelligent-Skills/1.%20Library%20Requirement/Tensorflow/0.%20Tensorflow%20Fundamentals.ipynb#X31sZmlsZQ%3D%3D?line=0'>1</a>\u001b[0m \u001b[39m# Will error (requires the .assign() method)\u001b[39;00m\n\u001b[1;32m----> <a href='vscode-notebook-cell:/c%3A/Users/My%20computer/Downloads/School/Personal%20Education/Github/Artificial-Intelligent-Skills/1.%20Library%20Requirement/Tensorflow/0.%20Tensorflow%20Fundamentals.ipynb#X31sZmlsZQ%3D%3D?line=1'>2</a>\u001b[0m changeable_tensor[\u001b[39m0\u001b[39;49m] \u001b[39m=\u001b[39m \u001b[39m7\u001b[39m\n\u001b[0;32m      <a href='vscode-notebook-cell:/c%3A/Users/My%20computer/Downloads/School/Personal%20Education/Github/Artificial-Intelligent-Skills/1.%20Library%20Requirement/Tensorflow/0.%20Tensorflow%20Fundamentals.ipynb#X31sZmlsZQ%3D%3D?line=2'>3</a>\u001b[0m changeable_tensor\n",
            "\u001b[1;31mTypeError\u001b[0m: 'ResourceVariable' object does not support item assignment"
          ]
        }
      ],
      "source": [
        "# Will error (requires the .assign() method)\n",
        "changeable_tensor[0] = 7\n",
        "changeable_tensor"
      ]
    },
    {
      "cell_type": "markdown",
      "metadata": {
        "id": "oWP-kZEVvGm8"
      },
      "source": [
        "To change an element of a `tf.Variable()` tensor requires the `assign()` method."
      ]
    },
    {
      "cell_type": "code",
      "execution_count": 19,
      "metadata": {
        "colab": {
          "base_uri": "https://localhost:8080/"
        },
        "id": "FJV3iwvG4jg4",
        "outputId": "48fac542-e9c3-4d20-9a9a-807accfec61e"
      },
      "outputs": [
        {
          "data": {
            "text/plain": [
              "<tf.Variable 'Variable:0' shape=(2,) dtype=int32, numpy=array([7, 7])>"
            ]
          },
          "execution_count": 19,
          "metadata": {},
          "output_type": "execute_result"
        }
      ],
      "source": [
        "# Won't error\n",
        "changeable_tensor[0].assign(7)\n",
        "changeable_tensor"
      ]
    },
    {
      "cell_type": "markdown",
      "metadata": {
        "id": "9UiV1Z0XvZ_B"
      },
      "source": [
        "Now let's try to change a value in a `tf.constant()` tensor."
      ]
    },
    {
      "cell_type": "code",
      "execution_count": null,
      "metadata": {
        "colab": {
          "base_uri": "https://localhost:8080/",
          "height": 329
        },
        "id": "5j_rOo8X5N9f",
        "outputId": "5ccb2e96-6f3e-4bc1-d972-57654a52d6e6"
      },
      "outputs": [
        {
          "ename": "AttributeError",
          "evalue": "'tensorflow.python.framework.ops.EagerTensor' object has no attribute 'assign'",
          "output_type": "error",
          "traceback": [
            "\u001b[1;31m---------------------------------------------------------------------------\u001b[0m",
            "\u001b[1;31mAttributeError\u001b[0m                            Traceback (most recent call last)",
            "\u001b[1;32mc:\\Users\\My computer\\Downloads\\School\\Personal Education\\Github\\Artificial-Intelligent-Skills\\1. Library Requirement\\Tensorflow\\0. Tensorflow Fundamentals.ipynb Cell 27\u001b[0m line \u001b[0;36m2\n\u001b[0;32m      <a href='vscode-notebook-cell:/c%3A/Users/My%20computer/Downloads/School/Personal%20Education/Github/Artificial-Intelligent-Skills/1.%20Library%20Requirement/Tensorflow/0.%20Tensorflow%20Fundamentals.ipynb#X35sZmlsZQ%3D%3D?line=0'>1</a>\u001b[0m \u001b[39m# Will error (can't change tf.constant())\u001b[39;00m\n\u001b[1;32m----> <a href='vscode-notebook-cell:/c%3A/Users/My%20computer/Downloads/School/Personal%20Education/Github/Artificial-Intelligent-Skills/1.%20Library%20Requirement/Tensorflow/0.%20Tensorflow%20Fundamentals.ipynb#X35sZmlsZQ%3D%3D?line=1'>2</a>\u001b[0m unchangeable_tensor[\u001b[39m0\u001b[39;49m]\u001b[39m.\u001b[39;49massign(\u001b[39m7\u001b[39m)\n\u001b[0;32m      <a href='vscode-notebook-cell:/c%3A/Users/My%20computer/Downloads/School/Personal%20Education/Github/Artificial-Intelligent-Skills/1.%20Library%20Requirement/Tensorflow/0.%20Tensorflow%20Fundamentals.ipynb#X35sZmlsZQ%3D%3D?line=2'>3</a>\u001b[0m unchangleable_tensor\n",
            "File \u001b[1;32mc:\\Users\\My computer\\AppData\\Local\\Programs\\Python\\Python311\\Lib\\site-packages\\tensorflow\\python\\framework\\tensor.py:261\u001b[0m, in \u001b[0;36mTensor.__getattr__\u001b[1;34m(self, name)\u001b[0m\n\u001b[0;32m    253\u001b[0m \u001b[39mif\u001b[39;00m name \u001b[39min\u001b[39;00m {\u001b[39m\"\u001b[39m\u001b[39mT\u001b[39m\u001b[39m\"\u001b[39m, \u001b[39m\"\u001b[39m\u001b[39mastype\u001b[39m\u001b[39m\"\u001b[39m, \u001b[39m\"\u001b[39m\u001b[39mravel\u001b[39m\u001b[39m\"\u001b[39m, \u001b[39m\"\u001b[39m\u001b[39mtranspose\u001b[39m\u001b[39m\"\u001b[39m, \u001b[39m\"\u001b[39m\u001b[39mreshape\u001b[39m\u001b[39m\"\u001b[39m, \u001b[39m\"\u001b[39m\u001b[39mclip\u001b[39m\u001b[39m\"\u001b[39m, \u001b[39m\"\u001b[39m\u001b[39msize\u001b[39m\u001b[39m\"\u001b[39m,\n\u001b[0;32m    254\u001b[0m             \u001b[39m\"\u001b[39m\u001b[39mtolist\u001b[39m\u001b[39m\"\u001b[39m, \u001b[39m\"\u001b[39m\u001b[39mdata\u001b[39m\u001b[39m\"\u001b[39m}:\n\u001b[0;32m    255\u001b[0m   \u001b[39m# TODO(wangpeng): Export the enable_numpy_behavior knob\u001b[39;00m\n\u001b[0;32m    256\u001b[0m   \u001b[39mraise\u001b[39;00m \u001b[39mAttributeError\u001b[39;00m(\n\u001b[0;32m    257\u001b[0m       \u001b[39mf\u001b[39m\u001b[39m\"\u001b[39m\u001b[39m{\u001b[39;00m\u001b[39mtype\u001b[39m(\u001b[39mself\u001b[39m)\u001b[39m.\u001b[39m\u001b[39m__name__\u001b[39m\u001b[39m}\u001b[39;00m\u001b[39m object has no attribute \u001b[39m\u001b[39m'\u001b[39m\u001b[39m{\u001b[39;00mname\u001b[39m}\u001b[39;00m\u001b[39m'\u001b[39m\u001b[39m. \u001b[39m\u001b[39m\"\u001b[39m \u001b[39m+\u001b[39m \u001b[39m\"\"\"\u001b[39m\n\u001b[0;32m    258\u001b[0m \u001b[39m    If you are looking for numpy-related methods, please run the following:\u001b[39m\n\u001b[0;32m    259\u001b[0m \u001b[39m    tf.experimental.numpy.experimental_enable_numpy_behavior()\u001b[39m\n\u001b[0;32m    260\u001b[0m \u001b[39m  \u001b[39m\u001b[39m\"\"\"\u001b[39m)\n\u001b[1;32m--> 261\u001b[0m \u001b[39mself\u001b[39;49m\u001b[39m.\u001b[39;49m\u001b[39m__getattribute__\u001b[39;49m(name)\n",
            "\u001b[1;31mAttributeError\u001b[0m: 'tensorflow.python.framework.ops.EagerTensor' object has no attribute 'assign'"
          ]
        }
      ],
      "source": [
        "# Will error (can't change tf.constant())\n",
        "unchangeable_tensor[0].assign(7)\n",
        "unchangleable_tensor"
      ]
    },
    {
      "cell_type": "markdown",
      "metadata": {
        "id": "1t21IcYpverQ"
      },
      "source": [
        "Which one should you use? `tf.constant()` or `tf.Variable()`?\n",
        "\n",
        "It will depend on what your problem requires. However, most of the time, TensorFlow will automatically choose for you (when loading data or modelling data)."
      ]
    },
    {
      "cell_type": "markdown",
      "metadata": {
        "id": "pAAT59Ay0J0l"
      },
      "source": [
        "### Creating random tensors\n",
        "\n",
        "Random tensors are tensors of some abitrary size which contain random numbers.\n",
        "\n",
        "Why would you want to create random tensors? \n",
        "\n",
        "This is what neural networks use to intialize their weights (patterns) that they're trying to learn in the data.\n",
        "\n",
        "For example, the process of a neural network learning often involves taking a random n-dimensional array of numbers and refining them until they represent some kind of pattern (a compressed way to represent the original data).\n",
        "\n",
        "**How a network learns**\n",
        "![how a network learns](https://raw.githubusercontent.com/mrdbourke/tensorflow-deep-learning/main/images/00-how-a-network-learns.png)\n",
        "*A network learns by starting with random patterns (1) then going through demonstrative examples of data (2) whilst trying to update its random patterns to represent the examples (3).*\n",
        "\n",
        "We can create random tensors by using the [`tf.random.Generator`](https://www.tensorflow.org/guide/random_numbers#the_tfrandomgenerator_class) class."
      ]
    },
    {
      "cell_type": "code",
      "execution_count": 20,
      "metadata": {
        "colab": {
          "base_uri": "https://localhost:8080/"
        },
        "id": "yZ7Zu5Z178JL",
        "outputId": "141a772a-635f-4f40-e039-e5c9c4b6c446"
      },
      "outputs": [
        {
          "data": {
            "text/plain": [
              "(<tf.Tensor: shape=(3, 2), dtype=float32, numpy=\n",
              " array([[-0.7565803 , -0.06854702],\n",
              "        [ 0.07595026, -1.2573844 ],\n",
              "        [-0.23193763, -1.8107855 ]], dtype=float32)>,\n",
              " <tf.Tensor: shape=(3, 2), dtype=float32, numpy=\n",
              " array([[-0.7565803 , -0.06854702],\n",
              "        [ 0.07595026, -1.2573844 ],\n",
              "        [-0.23193763, -1.8107855 ]], dtype=float32)>,\n",
              " <tf.Tensor: shape=(3, 2), dtype=bool, numpy=\n",
              " array([[ True,  True],\n",
              "        [ True,  True],\n",
              "        [ True,  True]])>)"
            ]
          },
          "execution_count": 20,
          "metadata": {},
          "output_type": "execute_result"
        }
      ],
      "source": [
        "# Create two random (but the same) tensors\n",
        "random_1 = tf.random.Generator.from_seed(42) # set the seed for reproducibility\n",
        "random_1 = random_1.normal(shape=(3, 2)) # create tensor from a normal distribution \n",
        "random_2 = tf.random.Generator.from_seed(42)\n",
        "random_2 = random_2.normal(shape=(3, 2))\n",
        "\n",
        "# Are they equal?\n",
        "random_1, random_2, random_1 == random_2"
      ]
    },
    {
      "cell_type": "markdown",
      "metadata": {
        "id": "k6Od5fpZ-S--"
      },
      "source": [
        "The random tensors we've made are actually [pseudorandom numbers](https://www.computerhope.com/jargon/p/pseudo-random.htm) (they appear as random, but really aren't).\n",
        "\n",
        "If we set a seed we'll get the same random numbers (if you've ever used NumPy, this is similar to `np.random.seed(42)`). \n",
        "\n",
        "Setting the seed says, \"hey, create some random numbers, but flavour them with X\" (X is the seed).\n",
        "\n",
        "What do you think will happen when we change the seed?"
      ]
    },
    {
      "cell_type": "code",
      "execution_count": 21,
      "metadata": {
        "colab": {
          "base_uri": "https://localhost:8080/"
        },
        "id": "9eStLqr1F4ZP",
        "outputId": "9b944c3b-37cf-4196-a3be-314d25d16bc0"
      },
      "outputs": [
        {
          "data": {
            "text/plain": [
              "(<tf.Tensor: shape=(3, 2), dtype=float32, numpy=\n",
              " array([[-0.7565803 , -0.06854702],\n",
              "        [ 0.07595026, -1.2573844 ],\n",
              "        [-0.23193763, -1.8107855 ]], dtype=float32)>,\n",
              " <tf.Tensor: shape=(3, 2), dtype=float32, numpy=\n",
              " array([[ 0.27305737, -0.29925638],\n",
              "        [-0.3652325 ,  0.61883307],\n",
              "        [-1.0130816 ,  0.28291714]], dtype=float32)>,\n",
              " <tf.Tensor: shape=(3, 2), dtype=bool, numpy=\n",
              " array([[ True,  True],\n",
              "        [ True,  True],\n",
              "        [ True,  True]])>,\n",
              " <tf.Tensor: shape=(3, 2), dtype=bool, numpy=\n",
              " array([[False, False],\n",
              "        [False, False],\n",
              "        [False, False]])>)"
            ]
          },
          "execution_count": 21,
          "metadata": {},
          "output_type": "execute_result"
        }
      ],
      "source": [
        "# Create two random (and different) tensors\n",
        "random_3 = tf.random.Generator.from_seed(42)\n",
        "random_3 = random_3.normal(shape=(3, 2))\n",
        "random_4 = tf.random.Generator.from_seed(11)\n",
        "random_4 = random_4.normal(shape=(3, 2))\n",
        "\n",
        "# Check the tensors and see if they are equal\n",
        "random_3, random_4, random_1 == random_3, random_3 == random_4"
      ]
    },
    {
      "cell_type": "markdown",
      "metadata": {
        "id": "Nji9AdFRIhBi"
      },
      "source": [
        "What if you wanted to shuffle the order of a tensor?\n",
        "\n",
        "Wait, why would you want to do that?\n",
        "\n",
        "Let's say you working with 15,000 images of cats and dogs and the first 10,000 images of were of cats and the next 5,000 were of dogs. This order could effect how a neural network learns (it may overfit by learning the order of the data), instead, it might be a good idea to move your data around."
      ]
    },
    {
      "cell_type": "code",
      "execution_count": 22,
      "metadata": {
        "colab": {
          "base_uri": "https://localhost:8080/"
        },
        "id": "sl4HYEWMBI6x",
        "outputId": "d1c90142-3821-4bd8-da50-f0e3e50ff669"
      },
      "outputs": [
        {
          "data": {
            "text/plain": [
              "<tf.Tensor: shape=(3, 2), dtype=int32, numpy=\n",
              "array([[10,  7],\n",
              "       [ 2,  5],\n",
              "       [ 3,  4]])>"
            ]
          },
          "execution_count": 22,
          "metadata": {},
          "output_type": "execute_result"
        }
      ],
      "source": [
        "# Shuffle a tensor (valuable for when you want to shuffle your data)\n",
        "not_shuffled = tf.constant([[10, 7],\n",
        "                            [3, 4],\n",
        "                            [2, 5]])\n",
        "# Gets different results each time\n",
        "tf.random.shuffle(not_shuffled)"
      ]
    },
    {
      "cell_type": "code",
      "execution_count": 23,
      "metadata": {
        "colab": {
          "base_uri": "https://localhost:8080/"
        },
        "id": "-HYn0ME_H1SY",
        "outputId": "3e8e6b9b-a28e-45bb-9c21-17e77a1e8375"
      },
      "outputs": [
        {
          "data": {
            "text/plain": [
              "<tf.Tensor: shape=(3, 2), dtype=int32, numpy=\n",
              "array([[ 2,  5],\n",
              "       [ 3,  4],\n",
              "       [10,  7]])>"
            ]
          },
          "execution_count": 23,
          "metadata": {},
          "output_type": "execute_result"
        }
      ],
      "source": [
        "# Shuffle in the same order every time using the seed parameter (won't acutally be the same)\n",
        "tf.random.shuffle(not_shuffled, seed=42)"
      ]
    },
    {
      "cell_type": "markdown",
      "metadata": {
        "id": "GmC3qGIHjAx6"
      },
      "source": [
        "Wait... why didn't the numbers come out the same?\n",
        "\n",
        "It's due to rule #4 of the [`tf.random.set_seed()`](https://www.tensorflow.org/api_docs/python/tf/random/set_seed) documentation.\n",
        "\n",
        "> \"4. If both the global and the operation seed are set: Both seeds are used in conjunction to determine the random sequence.\"\n",
        "\n",
        "`tf.random.set_seed(42)` sets the global seed, and the `seed` parameter in `tf.random.shuffle(seed=42)` sets the operation seed.\n",
        "\n",
        "Because, \"Operations that rely on a random seed actually derive it from two seeds: the global and operation-level seeds. This sets the global seed.\"\n"
      ]
    },
    {
      "cell_type": "code",
      "execution_count": 24,
      "metadata": {
        "colab": {
          "base_uri": "https://localhost:8080/"
        },
        "id": "cM6S8set-ixV",
        "outputId": "7a317a6f-eb6f-4586-bfc1-75a3361e7001"
      },
      "outputs": [
        {
          "data": {
            "text/plain": [
              "<tf.Tensor: shape=(3, 2), dtype=int32, numpy=\n",
              "array([[10,  7],\n",
              "       [ 3,  4],\n",
              "       [ 2,  5]])>"
            ]
          },
          "execution_count": 24,
          "metadata": {},
          "output_type": "execute_result"
        }
      ],
      "source": [
        "# Shuffle in the same order every time\n",
        "\n",
        "# Set the global random seed\n",
        "tf.random.set_seed(42)\n",
        "\n",
        "# Set the operation random seed\n",
        "tf.random.shuffle(not_shuffled, seed=42)"
      ]
    },
    {
      "cell_type": "code",
      "execution_count": 25,
      "metadata": {
        "colab": {
          "base_uri": "https://localhost:8080/"
        },
        "id": "xKJOsdE8yCn4",
        "outputId": "7ad377d3-b812-4d32-d7dc-8caa5503cc3c"
      },
      "outputs": [
        {
          "data": {
            "text/plain": [
              "<tf.Tensor: shape=(3, 2), dtype=int32, numpy=\n",
              "array([[ 3,  4],\n",
              "       [ 2,  5],\n",
              "       [10,  7]])>"
            ]
          },
          "execution_count": 25,
          "metadata": {},
          "output_type": "execute_result"
        }
      ],
      "source": [
        "# Set the global random seed\n",
        "tf.random.set_seed(42) # if you comment this out you'll get different results\n",
        "\n",
        "# Set the operation random seed\n",
        "tf.random.shuffle(not_shuffled)"
      ]
    },
    {
      "cell_type": "markdown",
      "metadata": {
        "id": "ouZ1fpJk0R3h"
      },
      "source": [
        "### Other ways to make tensors\n",
        "\n",
        "Though you might rarely use these (remember, many tensor operations are done behind the scenes for you), you can use [`tf.ones()`](https://www.tensorflow.org/api_docs/python/tf/ones) to create a tensor of all ones and [`tf.zeros()`](https://www.tensorflow.org/api_docs/python/tf/zeros) to create a tensor of all zeros."
      ]
    },
    {
      "cell_type": "code",
      "execution_count": 26,
      "metadata": {
        "colab": {
          "base_uri": "https://localhost:8080/"
        },
        "id": "aG8QNZP7kEe1",
        "outputId": "5701ac23-b90d-4529-bef1-03c2f214dc97"
      },
      "outputs": [
        {
          "data": {
            "text/plain": [
              "<tf.Tensor: shape=(3, 2), dtype=float32, numpy=\n",
              "array([[1., 1.],\n",
              "       [1., 1.],\n",
              "       [1., 1.]], dtype=float32)>"
            ]
          },
          "execution_count": 26,
          "metadata": {},
          "output_type": "execute_result"
        }
      ],
      "source": [
        "# Make a tensor of all ones\n",
        "tf.ones(shape=(3, 2))"
      ]
    },
    {
      "cell_type": "code",
      "execution_count": 27,
      "metadata": {
        "colab": {
          "base_uri": "https://localhost:8080/"
        },
        "id": "GQKiWrB9kprj",
        "outputId": "0edaf3af-e038-4a58-beeb-69d11f208a17"
      },
      "outputs": [
        {
          "data": {
            "text/plain": [
              "<tf.Tensor: shape=(3, 2), dtype=float32, numpy=\n",
              "array([[0., 0.],\n",
              "       [0., 0.],\n",
              "       [0., 0.]], dtype=float32)>"
            ]
          },
          "execution_count": 27,
          "metadata": {},
          "output_type": "execute_result"
        }
      ],
      "source": [
        "# Make a tensor of all zeros\n",
        "tf.zeros(shape=(3, 2))"
      ]
    },
    {
      "cell_type": "markdown",
      "metadata": {
        "id": "slcLTK5D7kc2"
      },
      "source": [
        "You can also turn NumPy arrays in into tensors.\n",
        "\n",
        "Remember, the main difference between tensors and NumPy arrays is that tensors can be run on GPUs.\n",
        "\n",
        "> 🔑 **Note:** A matrix or tensor is typically represented by a capital letter (e.g. `X` or `A`) where as a vector is typically represented by a lowercase letter (e.g. `y` or `b`)."
      ]
    },
    {
      "cell_type": "code",
      "execution_count": 28,
      "metadata": {
        "colab": {
          "base_uri": "https://localhost:8080/"
        },
        "id": "C0XP37xi7mn4",
        "outputId": "eeab31d5-7017-44a9-8543-c86a3f1be67e"
      },
      "outputs": [
        {
          "data": {
            "text/plain": [
              "(array([ 1,  2,  3,  4,  5,  6,  7,  8,  9, 10, 11, 12, 13, 14, 15, 16, 17,\n",
              "        18, 19, 20, 21, 22, 23, 24]),\n",
              " <tf.Tensor: shape=(2, 4, 3), dtype=int32, numpy=\n",
              " array([[[ 1,  2,  3],\n",
              "         [ 4,  5,  6],\n",
              "         [ 7,  8,  9],\n",
              "         [10, 11, 12]],\n",
              " \n",
              "        [[13, 14, 15],\n",
              "         [16, 17, 18],\n",
              "         [19, 20, 21],\n",
              "         [22, 23, 24]]])>)"
            ]
          },
          "execution_count": 28,
          "metadata": {},
          "output_type": "execute_result"
        }
      ],
      "source": [
        "import numpy as np\n",
        "numpy_A = np.arange(1, 25, dtype=np.int32) # create a NumPy array between 1 and 25\n",
        "A = tf.constant(numpy_A,  \n",
        "                shape=[2, 4, 3]) # note: the shape total (2*4*3) has to match the number of elements in the array\n",
        "numpy_A, A"
      ]
    },
    {
      "cell_type": "markdown",
      "metadata": {
        "id": "J1JLXa2P0wpx"
      },
      "source": [
        "## Getting information from tensors (shape, rank, size)\n",
        "\n",
        "There will be times when you'll want to get different pieces of information from your tensors, in particuluar, you should know the following tensor vocabulary:\n",
        "* **Shape:** The length (number of elements) of each of the dimensions of a tensor.\n",
        "* **Rank:** The number of tensor dimensions. A scalar has rank 0, a vector has rank 1, a matrix is rank 2, a tensor has rank n.\n",
        "* **Axis** or **Dimension:** A particular dimension of a tensor.\n",
        "* **Size:** The total number of items in the tensor.\n",
        "\n",
        "You'll use these especially when you're trying to line up the shapes of your data to the shapes of your model. For example, making sure the shape of your image tensors are the same shape as your models input layer.\n",
        "\n",
        "We've already seen one of these before using the `ndim` attribute. Let's see the rest."
      ]
    },
    {
      "cell_type": "code",
      "execution_count": 30,
      "metadata": {
        "colab": {
          "base_uri": "https://localhost:8080/"
        },
        "id": "qhckrmovCaAA",
        "outputId": "96ce1206-537e-46fd-80cb-53ac64a9bd01"
      },
      "outputs": [
        {
          "data": {
            "text/plain": [
              "<tf.Tensor: shape=(2, 3, 4, 5), dtype=float32, numpy=\n",
              "array([[[[0., 0., 0., 0., 0.],\n",
              "         [0., 0., 0., 0., 0.],\n",
              "         [0., 0., 0., 0., 0.],\n",
              "         [0., 0., 0., 0., 0.]],\n",
              "\n",
              "        [[0., 0., 0., 0., 0.],\n",
              "         [0., 0., 0., 0., 0.],\n",
              "         [0., 0., 0., 0., 0.],\n",
              "         [0., 0., 0., 0., 0.]],\n",
              "\n",
              "        [[0., 0., 0., 0., 0.],\n",
              "         [0., 0., 0., 0., 0.],\n",
              "         [0., 0., 0., 0., 0.],\n",
              "         [0., 0., 0., 0., 0.]]],\n",
              "\n",
              "\n",
              "       [[[0., 0., 0., 0., 0.],\n",
              "         [0., 0., 0., 0., 0.],\n",
              "         [0., 0., 0., 0., 0.],\n",
              "         [0., 0., 0., 0., 0.]],\n",
              "\n",
              "        [[0., 0., 0., 0., 0.],\n",
              "         [0., 0., 0., 0., 0.],\n",
              "         [0., 0., 0., 0., 0.],\n",
              "         [0., 0., 0., 0., 0.]],\n",
              "\n",
              "        [[0., 0., 0., 0., 0.],\n",
              "         [0., 0., 0., 0., 0.],\n",
              "         [0., 0., 0., 0., 0.],\n",
              "         [0., 0., 0., 0., 0.]]]], dtype=float32)>"
            ]
          },
          "execution_count": 30,
          "metadata": {},
          "output_type": "execute_result"
        }
      ],
      "source": [
        "# Create a rank 4 tensor (4 dimensions)\n",
        "rank_4_tensor = tf.zeros([2, 3, 4, 5])\n",
        "rank_4_tensor"
      ]
    },
    {
      "cell_type": "code",
      "execution_count": 31,
      "metadata": {
        "colab": {
          "base_uri": "https://localhost:8080/"
        },
        "id": "ImJdhWnLtZ_2",
        "outputId": "6527a79f-7b77-43cb-b44a-79c8cc5cd75b"
      },
      "outputs": [
        {
          "data": {
            "text/plain": [
              "(TensorShape([2, 3, 4, 5]), 4, <tf.Tensor: shape=(), dtype=int32, numpy=120>)"
            ]
          },
          "execution_count": 31,
          "metadata": {},
          "output_type": "execute_result"
        }
      ],
      "source": [
        "rank_4_tensor.shape, rank_4_tensor.ndim, tf.size(rank_4_tensor)"
      ]
    },
    {
      "cell_type": "code",
      "execution_count": 32,
      "metadata": {
        "colab": {
          "base_uri": "https://localhost:8080/"
        },
        "id": "Vvb-4ZYdpI9f",
        "outputId": "09edd4f3-49ec-4a3a-9464-f1f9e4da4b81"
      },
      "outputs": [
        {
          "name": "stdout",
          "output_type": "stream",
          "text": [
            "Datatype of every element: <dtype: 'float32'>\n",
            "Number of dimensions (rank): 4\n",
            "Shape of tensor: (2, 3, 4, 5)\n",
            "Elements along axis 0 of tensor: 2\n",
            "Elements along last axis of tensor: 5\n",
            "Total number of elements (2*3*4*5): 120\n"
          ]
        }
      ],
      "source": [
        "# Get various attributes of tensor\n",
        "print(\"Datatype of every element:\", rank_4_tensor.dtype)\n",
        "print(\"Number of dimensions (rank):\", rank_4_tensor.ndim)\n",
        "print(\"Shape of tensor:\", rank_4_tensor.shape)\n",
        "print(\"Elements along axis 0 of tensor:\", rank_4_tensor.shape[0])\n",
        "print(\"Elements along last axis of tensor:\", rank_4_tensor.shape[-1])\n",
        "print(\"Total number of elements (2*3*4*5):\", tf.size(rank_4_tensor).numpy()) # .numpy() converts to NumPy array"
      ]
    },
    {
      "cell_type": "markdown",
      "metadata": {
        "id": "S0SMO2ZOqL0G"
      },
      "source": [
        "You can also index tensors just like Python lists."
      ]
    },
    {
      "cell_type": "code",
      "execution_count": 33,
      "metadata": {
        "colab": {
          "base_uri": "https://localhost:8080/"
        },
        "id": "CFzOo-7QqLJf",
        "outputId": "144077a7-5855-4df9-f7c1-219a80fe5274"
      },
      "outputs": [
        {
          "data": {
            "text/plain": [
              "<tf.Tensor: shape=(2, 2, 2, 2), dtype=float32, numpy=\n",
              "array([[[[0., 0.],\n",
              "         [0., 0.]],\n",
              "\n",
              "        [[0., 0.],\n",
              "         [0., 0.]]],\n",
              "\n",
              "\n",
              "       [[[0., 0.],\n",
              "         [0., 0.]],\n",
              "\n",
              "        [[0., 0.],\n",
              "         [0., 0.]]]], dtype=float32)>"
            ]
          },
          "execution_count": 33,
          "metadata": {},
          "output_type": "execute_result"
        }
      ],
      "source": [
        "# Get the first 2 items of each dimension\n",
        "rank_4_tensor[:2, :2, :2, :2]"
      ]
    },
    {
      "cell_type": "code",
      "execution_count": 34,
      "metadata": {
        "colab": {
          "base_uri": "https://localhost:8080/"
        },
        "id": "weQe2bBUqknd",
        "outputId": "0d035e40-a245-4655-f334-8875ad0309a4"
      },
      "outputs": [
        {
          "data": {
            "text/plain": [
              "<tf.Tensor: shape=(1, 1, 1, 5), dtype=float32, numpy=array([[[[0., 0., 0., 0., 0.]]]], dtype=float32)>"
            ]
          },
          "execution_count": 34,
          "metadata": {},
          "output_type": "execute_result"
        }
      ],
      "source": [
        "# Get the dimension from each index except for the final one\n",
        "rank_4_tensor[:1, :1, :1, :]"
      ]
    },
    {
      "cell_type": "code",
      "execution_count": 35,
      "metadata": {
        "colab": {
          "base_uri": "https://localhost:8080/"
        },
        "id": "YQKcZWz5rFXG",
        "outputId": "1993c0f6-e742-4cfc-bfc9-d9c344250e34"
      },
      "outputs": [
        {
          "data": {
            "text/plain": [
              "<tf.Tensor: shape=(2,), dtype=int32, numpy=array([7, 4])>"
            ]
          },
          "execution_count": 35,
          "metadata": {},
          "output_type": "execute_result"
        }
      ],
      "source": [
        "# Create a rank 2 tensor (2 dimensions)\n",
        "rank_2_tensor = tf.constant([[10, 7],\n",
        "                             [3, 4]])\n",
        "\n",
        "# Get the last item of each row\n",
        "rank_2_tensor[:, -1]"
      ]
    },
    {
      "cell_type": "markdown",
      "metadata": {
        "id": "cLZq3sHKrVdS"
      },
      "source": [
        "You can also add dimensions to your tensor whilst keeping the same information present using `tf.newaxis`. "
      ]
    },
    {
      "cell_type": "code",
      "execution_count": 36,
      "metadata": {
        "colab": {
          "base_uri": "https://localhost:8080/"
        },
        "id": "KuEEEQa4w1id",
        "outputId": "c5ab97d4-7a4d-4db9-8d6d-9a99970b6b1e"
      },
      "outputs": [
        {
          "data": {
            "text/plain": [
              "(<tf.Tensor: shape=(2, 2), dtype=int32, numpy=\n",
              " array([[10,  7],\n",
              "        [ 3,  4]])>,\n",
              " <tf.Tensor: shape=(2, 2, 1), dtype=int32, numpy=\n",
              " array([[[10],\n",
              "         [ 7]],\n",
              " \n",
              "        [[ 3],\n",
              "         [ 4]]])>)"
            ]
          },
          "execution_count": 36,
          "metadata": {},
          "output_type": "execute_result"
        }
      ],
      "source": [
        "# Add an extra dimension (to the end)\n",
        "rank_3_tensor = rank_2_tensor[..., tf.newaxis] # in Python \"...\" means \"all dimensions prior to\"\n",
        "rank_2_tensor, rank_3_tensor # shape (2, 2), shape (2, 2, 1)"
      ]
    },
    {
      "cell_type": "markdown",
      "metadata": {
        "id": "a5_KyB-6r7z7"
      },
      "source": [
        "You can achieve the same using [`tf.expand_dims()`](https://www.tensorflow.org/api_docs/python/tf/expand_dims)."
      ]
    },
    {
      "cell_type": "code",
      "execution_count": 37,
      "metadata": {
        "colab": {
          "base_uri": "https://localhost:8080/"
        },
        "id": "HpPTBqt4rvr9",
        "outputId": "925068e5-f544-45c3-be1a-7be9fbca22a6"
      },
      "outputs": [
        {
          "data": {
            "text/plain": [
              "<tf.Tensor: shape=(2, 2, 1), dtype=int32, numpy=\n",
              "array([[[10],\n",
              "        [ 7]],\n",
              "\n",
              "       [[ 3],\n",
              "        [ 4]]])>"
            ]
          },
          "execution_count": 37,
          "metadata": {},
          "output_type": "execute_result"
        }
      ],
      "source": [
        "tf.expand_dims(rank_2_tensor, axis=-1) # \"-1\" means last axis"
      ]
    },
    {
      "cell_type": "markdown",
      "metadata": {
        "id": "4EHae9iA04Ok"
      },
      "source": [
        "## Manipulating tensors (tensor operations)\n",
        "\n",
        "Finding patterns in tensors (numberical representation of data) requires manipulating them.\n",
        "\n",
        "Again, when building models in TensorFlow, much of this pattern discovery is done for you."
      ]
    },
    {
      "cell_type": "markdown",
      "metadata": {
        "id": "-NzdbYDqs1Ex"
      },
      "source": [
        "### Basic operations\n",
        "\n",
        "You can perform many of the basic mathematical operations directly on tensors using Pyhton operators such as, `+`, `-`, `*`."
      ]
    },
    {
      "cell_type": "code",
      "execution_count": 38,
      "metadata": {
        "colab": {
          "base_uri": "https://localhost:8080/"
        },
        "id": "tu3zJirLsMVw",
        "outputId": "900fe49b-d098-4082-b9df-fa274e6d0739"
      },
      "outputs": [
        {
          "data": {
            "text/plain": [
              "<tf.Tensor: shape=(2, 2), dtype=int32, numpy=\n",
              "array([[20, 17],\n",
              "       [13, 14]])>"
            ]
          },
          "execution_count": 38,
          "metadata": {},
          "output_type": "execute_result"
        }
      ],
      "source": [
        "# You can add values to a tensor using the addition operator\n",
        "tensor = tf.constant([[10, 7], [3, 4]])\n",
        "tensor + 10"
      ]
    },
    {
      "cell_type": "markdown",
      "metadata": {
        "id": "_smxbIkYwYY3"
      },
      "source": [
        "Since we used `tf.constant()`, the original tensor is unchanged (the addition gets done on a copy)."
      ]
    },
    {
      "cell_type": "code",
      "execution_count": 39,
      "metadata": {
        "colab": {
          "base_uri": "https://localhost:8080/"
        },
        "id": "BhJn3puhwOlM",
        "outputId": "711d938f-ddd4-4999-f667-dc2e80d4b70a"
      },
      "outputs": [
        {
          "data": {
            "text/plain": [
              "<tf.Tensor: shape=(2, 2), dtype=int32, numpy=\n",
              "array([[10,  7],\n",
              "       [ 3,  4]])>"
            ]
          },
          "execution_count": 39,
          "metadata": {},
          "output_type": "execute_result"
        }
      ],
      "source": [
        "# Original tensor unchanged\n",
        "tensor"
      ]
    },
    {
      "cell_type": "markdown",
      "metadata": {
        "id": "5N6tUM16xq9d"
      },
      "source": [
        "Other operators also work."
      ]
    },
    {
      "cell_type": "code",
      "execution_count": 40,
      "metadata": {
        "colab": {
          "base_uri": "https://localhost:8080/"
        },
        "id": "6TW0_ZC_xoEC",
        "outputId": "7042cd55-6025-430e-95bb-a9cce80eafd1"
      },
      "outputs": [
        {
          "data": {
            "text/plain": [
              "<tf.Tensor: shape=(2, 2), dtype=int32, numpy=\n",
              "array([[100,  70],\n",
              "       [ 30,  40]])>"
            ]
          },
          "execution_count": 40,
          "metadata": {},
          "output_type": "execute_result"
        }
      ],
      "source": [
        "# Multiplication (known as element-wise multiplication)\n",
        "tensor * 10"
      ]
    },
    {
      "cell_type": "code",
      "execution_count": 41,
      "metadata": {
        "colab": {
          "base_uri": "https://localhost:8080/"
        },
        "id": "MN6XjwWfxu66",
        "outputId": "ab56a5c4-52f1-41e9-c162-8d3edb5ff73f"
      },
      "outputs": [
        {
          "data": {
            "text/plain": [
              "<tf.Tensor: shape=(2, 2), dtype=int32, numpy=\n",
              "array([[ 0, -3],\n",
              "       [-7, -6]])>"
            ]
          },
          "execution_count": 41,
          "metadata": {},
          "output_type": "execute_result"
        }
      ],
      "source": [
        "# Subtraction\n",
        "tensor - 10"
      ]
    },
    {
      "cell_type": "markdown",
      "metadata": {
        "id": "1kMJe4GlyuZR"
      },
      "source": [
        "You can also use the equivalent TensorFlow function. Using the TensorFlow function (where possible) has the advantage of being sped up later down the line when running as part of a [TensorFlow graph](https://www.tensorflow.org/tensorboard/graphs)."
      ]
    },
    {
      "cell_type": "code",
      "execution_count": 42,
      "metadata": {
        "colab": {
          "base_uri": "https://localhost:8080/"
        },
        "id": "R2NDjqYIyyMc",
        "outputId": "bb357174-e7df-41f3-e6cc-622efd029a07"
      },
      "outputs": [
        {
          "data": {
            "text/plain": [
              "<tf.Tensor: shape=(2, 2), dtype=int32, numpy=\n",
              "array([[100,  70],\n",
              "       [ 30,  40]])>"
            ]
          },
          "execution_count": 42,
          "metadata": {},
          "output_type": "execute_result"
        }
      ],
      "source": [
        "# Use the tensorflow function equivalent of the '*' (multiply) operator\n",
        "tf.multiply(tensor, 10)"
      ]
    },
    {
      "cell_type": "code",
      "execution_count": 43,
      "metadata": {
        "colab": {
          "base_uri": "https://localhost:8080/"
        },
        "id": "lKEuDBFD49w7",
        "outputId": "270b64c8-424f-4c3b-84ce-24ba156cd147"
      },
      "outputs": [
        {
          "data": {
            "text/plain": [
              "<tf.Tensor: shape=(2, 2), dtype=int32, numpy=\n",
              "array([[10,  7],\n",
              "       [ 3,  4]])>"
            ]
          },
          "execution_count": 43,
          "metadata": {},
          "output_type": "execute_result"
        }
      ],
      "source": [
        "# The original tensor is still unchanged\n",
        "tensor"
      ]
    },
    {
      "cell_type": "markdown",
      "metadata": {
        "id": "8M-0dhjtzHoZ"
      },
      "source": [
        "### Matrix mutliplication\n",
        "\n",
        "One of the most common operations in machine learning algorithms is [matrix multiplication](https://www.mathsisfun.com/algebra/matrix-multiplying.html).\n",
        "\n",
        "TensorFlow implements this matrix multiplication functionality in the [`tf.matmul()`](https://www.tensorflow.org/api_docs/python/tf/linalg/matmul) method.\n",
        "\n",
        "The main two rules for matrix multiplication to remember are:\n",
        "1. The inner dimensions must match:\n",
        "  * `(3, 5) @ (3, 5)` won't work\n",
        "  * `(5, 3) @ (3, 5)` will work\n",
        "  * `(3, 5) @ (5, 3)` will work\n",
        "2. The resulting matrix has the shape of the outer dimensions:\n",
        " * `(5, 3) @ (3, 5)` -> `(5, 5)`\n",
        " * `(3, 5) @ (5, 3)` -> `(3, 3)`\n",
        "\n",
        "> 🔑 **Note:** '`@`' in Python is the symbol for matrix multiplication."
      ]
    },
    {
      "cell_type": "code",
      "execution_count": 44,
      "metadata": {
        "colab": {
          "base_uri": "https://localhost:8080/"
        },
        "id": "pbpwVJrAsPpA",
        "outputId": "58f18b51-6fd4-4af1-e74b-ee8f06611a7c"
      },
      "outputs": [
        {
          "name": "stdout",
          "output_type": "stream",
          "text": [
            "tf.Tensor(\n",
            "[[10  7]\n",
            " [ 3  4]], shape=(2, 2), dtype=int32)\n"
          ]
        },
        {
          "data": {
            "text/plain": [
              "<tf.Tensor: shape=(2, 2), dtype=int32, numpy=\n",
              "array([[121,  98],\n",
              "       [ 42,  37]])>"
            ]
          },
          "execution_count": 44,
          "metadata": {},
          "output_type": "execute_result"
        }
      ],
      "source": [
        "# Matrix multiplication in TensorFlow\n",
        "print(tensor)\n",
        "tf.matmul(tensor, tensor)"
      ]
    },
    {
      "cell_type": "code",
      "execution_count": 45,
      "metadata": {
        "colab": {
          "base_uri": "https://localhost:8080/"
        },
        "id": "9vpDnpb10G7U",
        "outputId": "02039aad-06e1-4589-fe91-f65870716ba7"
      },
      "outputs": [
        {
          "data": {
            "text/plain": [
              "<tf.Tensor: shape=(2, 2), dtype=int32, numpy=\n",
              "array([[121,  98],\n",
              "       [ 42,  37]])>"
            ]
          },
          "execution_count": 45,
          "metadata": {},
          "output_type": "execute_result"
        }
      ],
      "source": [
        "# Matrix multiplication with Python operator '@'\n",
        "tensor @ tensor"
      ]
    },
    {
      "cell_type": "markdown",
      "metadata": {
        "id": "TAV3S5YV0cDQ"
      },
      "source": [
        "Both of these examples work because our `tensor` variable is of shape (2, 2).\n",
        "\n",
        "What if we created some tensors which had mismatched shapes?"
      ]
    },
    {
      "cell_type": "code",
      "execution_count": 46,
      "metadata": {
        "colab": {
          "base_uri": "https://localhost:8080/"
        },
        "id": "UXSE6q1o0amm",
        "outputId": "2f106764-d526-44a6-e1e9-255aa3c4a83e"
      },
      "outputs": [
        {
          "data": {
            "text/plain": [
              "(<tf.Tensor: shape=(3, 2), dtype=int32, numpy=\n",
              " array([[1, 2],\n",
              "        [3, 4],\n",
              "        [5, 6]])>,\n",
              " <tf.Tensor: shape=(3, 2), dtype=int32, numpy=\n",
              " array([[ 7,  8],\n",
              "        [ 9, 10],\n",
              "        [11, 12]])>)"
            ]
          },
          "execution_count": 46,
          "metadata": {},
          "output_type": "execute_result"
        }
      ],
      "source": [
        "# Create (3, 2) tensor\n",
        "X = tf.constant([[1, 2],\n",
        "                 [3, 4],\n",
        "                 [5, 6]])\n",
        "\n",
        "# Create another (3, 2) tensor\n",
        "Y = tf.constant([[7, 8],\n",
        "                 [9, 10],\n",
        "                 [11, 12]])\n",
        "X, Y"
      ]
    },
    {
      "cell_type": "code",
      "execution_count": null,
      "metadata": {
        "colab": {
          "base_uri": "https://localhost:8080/",
          "height": 336
        },
        "id": "3J4DGQa309Hc",
        "outputId": "a3ee6031-1c27-4089-8db2-db0867160008"
      },
      "outputs": [
        {
          "ename": "InvalidArgumentError",
          "evalue": "ignored",
          "output_type": "error",
          "traceback": [
            "\u001b[0;31m---------------------------------------------------------------------------\u001b[0m",
            "\u001b[0;31mInvalidArgumentError\u001b[0m                      Traceback (most recent call last)",
            "\u001b[0;32m<ipython-input-43-62e1e4702ffd>\u001b[0m in \u001b[0;36m<cell line: 2>\u001b[0;34m()\u001b[0m\n\u001b[1;32m      1\u001b[0m \u001b[0;31m# Try to matrix multiply them (will error)\u001b[0m\u001b[0;34m\u001b[0m\u001b[0;34m\u001b[0m\u001b[0m\n\u001b[0;32m----> 2\u001b[0;31m \u001b[0mX\u001b[0m \u001b[0;34m@\u001b[0m \u001b[0mY\u001b[0m\u001b[0;34m\u001b[0m\u001b[0;34m\u001b[0m\u001b[0m\n\u001b[0m",
            "\u001b[0;32m/usr/local/lib/python3.9/dist-packages/tensorflow/python/util/traceback_utils.py\u001b[0m in \u001b[0;36merror_handler\u001b[0;34m(*args, **kwargs)\u001b[0m\n\u001b[1;32m    151\u001b[0m     \u001b[0;32mexcept\u001b[0m \u001b[0mException\u001b[0m \u001b[0;32mas\u001b[0m \u001b[0me\u001b[0m\u001b[0;34m:\u001b[0m\u001b[0;34m\u001b[0m\u001b[0;34m\u001b[0m\u001b[0m\n\u001b[1;32m    152\u001b[0m       \u001b[0mfiltered_tb\u001b[0m \u001b[0;34m=\u001b[0m \u001b[0m_process_traceback_frames\u001b[0m\u001b[0;34m(\u001b[0m\u001b[0me\u001b[0m\u001b[0;34m.\u001b[0m\u001b[0m__traceback__\u001b[0m\u001b[0;34m)\u001b[0m\u001b[0;34m\u001b[0m\u001b[0;34m\u001b[0m\u001b[0m\n\u001b[0;32m--> 153\u001b[0;31m       \u001b[0;32mraise\u001b[0m \u001b[0me\u001b[0m\u001b[0;34m.\u001b[0m\u001b[0mwith_traceback\u001b[0m\u001b[0;34m(\u001b[0m\u001b[0mfiltered_tb\u001b[0m\u001b[0;34m)\u001b[0m \u001b[0;32mfrom\u001b[0m \u001b[0;32mNone\u001b[0m\u001b[0;34m\u001b[0m\u001b[0;34m\u001b[0m\u001b[0m\n\u001b[0m\u001b[1;32m    154\u001b[0m     \u001b[0;32mfinally\u001b[0m\u001b[0;34m:\u001b[0m\u001b[0;34m\u001b[0m\u001b[0;34m\u001b[0m\u001b[0m\n\u001b[1;32m    155\u001b[0m       \u001b[0;32mdel\u001b[0m \u001b[0mfiltered_tb\u001b[0m\u001b[0;34m\u001b[0m\u001b[0;34m\u001b[0m\u001b[0m\n",
            "\u001b[0;32m/usr/local/lib/python3.9/dist-packages/tensorflow/python/framework/ops.py\u001b[0m in \u001b[0;36mraise_from_not_ok_status\u001b[0;34m(e, name)\u001b[0m\n\u001b[1;32m   7260\u001b[0m \u001b[0;32mdef\u001b[0m \u001b[0mraise_from_not_ok_status\u001b[0m\u001b[0;34m(\u001b[0m\u001b[0me\u001b[0m\u001b[0;34m,\u001b[0m \u001b[0mname\u001b[0m\u001b[0;34m)\u001b[0m\u001b[0;34m:\u001b[0m\u001b[0;34m\u001b[0m\u001b[0;34m\u001b[0m\u001b[0m\n\u001b[1;32m   7261\u001b[0m   \u001b[0me\u001b[0m\u001b[0;34m.\u001b[0m\u001b[0mmessage\u001b[0m \u001b[0;34m+=\u001b[0m \u001b[0;34m(\u001b[0m\u001b[0;34m\" name: \"\u001b[0m \u001b[0;34m+\u001b[0m \u001b[0mname\u001b[0m \u001b[0;32mif\u001b[0m \u001b[0mname\u001b[0m \u001b[0;32mis\u001b[0m \u001b[0;32mnot\u001b[0m \u001b[0;32mNone\u001b[0m \u001b[0;32melse\u001b[0m \u001b[0;34m\"\"\u001b[0m\u001b[0;34m)\u001b[0m\u001b[0;34m\u001b[0m\u001b[0;34m\u001b[0m\u001b[0m\n\u001b[0;32m-> 7262\u001b[0;31m   \u001b[0;32mraise\u001b[0m \u001b[0mcore\u001b[0m\u001b[0;34m.\u001b[0m\u001b[0m_status_to_exception\u001b[0m\u001b[0;34m(\u001b[0m\u001b[0me\u001b[0m\u001b[0;34m)\u001b[0m \u001b[0;32mfrom\u001b[0m \u001b[0;32mNone\u001b[0m  \u001b[0;31m# pylint: disable=protected-access\u001b[0m\u001b[0;34m\u001b[0m\u001b[0;34m\u001b[0m\u001b[0m\n\u001b[0m\u001b[1;32m   7263\u001b[0m \u001b[0;34m\u001b[0m\u001b[0m\n\u001b[1;32m   7264\u001b[0m \u001b[0;34m\u001b[0m\u001b[0m\n",
            "\u001b[0;31mInvalidArgumentError\u001b[0m: {{function_node __wrapped__MatMul_device_/job:localhost/replica:0/task:0/device:CPU:0}} Matrix size-incompatible: In[0]: [3,2], In[1]: [3,2] [Op:MatMul]"
          ]
        }
      ],
      "source": [
        "# Try to matrix multiply them (will error)\n",
        "X @ Y"
      ]
    },
    {
      "cell_type": "markdown",
      "metadata": {
        "id": "v27FQ59v1N-H"
      },
      "source": [
        "Trying to matrix multiply two tensors with the shape `(3, 2)` errors because the inner dimensions don't match.\n",
        "\n",
        "We need to either:\n",
        "* Reshape X to `(2, 3)` so it's `(2, 3) @ (3, 2)`.\n",
        "* Reshape Y to `(3, 2)` so it's `(3, 2) @ (2, 3)`.\n",
        "\n",
        "We can do this with either:\n",
        "* [`tf.reshape()`](https://www.tensorflow.org/api_docs/python/tf/reshape) - allows us to reshape a tensor into a defined shape.\n",
        "* [`tf.transpose()`](https://www.tensorflow.org/api_docs/python/tf/transpose) - switches the dimensions of a given tensor.\n",
        "\n",
        "![lining up dimensions for dot products](https://raw.githubusercontent.com/mrdbourke/tensorflow-deep-learning/main/images/00-lining-up-dot-products.png)\n",
        "\n",
        "Let's try `tf.reshape()` first."
      ]
    },
    {
      "cell_type": "code",
      "execution_count": 47,
      "metadata": {
        "colab": {
          "base_uri": "https://localhost:8080/"
        },
        "id": "ZwvVl-k_2W9u",
        "outputId": "86025237-4258-4582-8a62-d36f29f281fc"
      },
      "outputs": [
        {
          "data": {
            "text/plain": [
              "<tf.Tensor: shape=(2, 3), dtype=int32, numpy=\n",
              "array([[ 7,  8,  9],\n",
              "       [10, 11, 12]])>"
            ]
          },
          "execution_count": 47,
          "metadata": {},
          "output_type": "execute_result"
        }
      ],
      "source": [
        "# Example of reshape (3, 2) -> (2, 3)\n",
        "tf.reshape(Y, shape=(2, 3))"
      ]
    },
    {
      "cell_type": "code",
      "execution_count": 48,
      "metadata": {
        "colab": {
          "base_uri": "https://localhost:8080/"
        },
        "id": "1jBKPQVn1Nep",
        "outputId": "83040cf0-d09f-4e61-f9d5-bc5556492fdb"
      },
      "outputs": [
        {
          "data": {
            "text/plain": [
              "<tf.Tensor: shape=(3, 3), dtype=int32, numpy=\n",
              "array([[ 27,  30,  33],\n",
              "       [ 61,  68,  75],\n",
              "       [ 95, 106, 117]])>"
            ]
          },
          "execution_count": 48,
          "metadata": {},
          "output_type": "execute_result"
        }
      ],
      "source": [
        "# Try matrix multiplication with reshaped Y\n",
        "X @ tf.reshape(Y, shape=(2, 3))"
      ]
    },
    {
      "cell_type": "markdown",
      "metadata": {
        "id": "CWAgHKNk2_TO"
      },
      "source": [
        "It worked, let's try the same with a reshaped `X`, except this time we'll use [`tf.transpose()`](https://www.tensorflow.org/api_docs/python/tf/transpose) and `tf.matmul()`."
      ]
    },
    {
      "cell_type": "code",
      "execution_count": 49,
      "metadata": {
        "colab": {
          "base_uri": "https://localhost:8080/"
        },
        "id": "qA2rCnik2OnQ",
        "outputId": "f26d252c-8fed-445b-e0a3-b51de62ec7b0"
      },
      "outputs": [
        {
          "data": {
            "text/plain": [
              "<tf.Tensor: shape=(2, 3), dtype=int32, numpy=\n",
              "array([[1, 3, 5],\n",
              "       [2, 4, 6]])>"
            ]
          },
          "execution_count": 49,
          "metadata": {},
          "output_type": "execute_result"
        }
      ],
      "source": [
        "# Example of transpose (3, 2) -> (2, 3)\n",
        "tf.transpose(X)"
      ]
    },
    {
      "cell_type": "code",
      "execution_count": 50,
      "metadata": {
        "colab": {
          "base_uri": "https://localhost:8080/"
        },
        "id": "zR8YdMfh3G0S",
        "outputId": "468e80ff-8708-4ff9-93bd-9bc614004039"
      },
      "outputs": [
        {
          "data": {
            "text/plain": [
              "<tf.Tensor: shape=(2, 2), dtype=int32, numpy=\n",
              "array([[ 89,  98],\n",
              "       [116, 128]])>"
            ]
          },
          "execution_count": 50,
          "metadata": {},
          "output_type": "execute_result"
        }
      ],
      "source": [
        "# Try matrix multiplication \n",
        "tf.matmul(tf.transpose(X), Y)"
      ]
    },
    {
      "cell_type": "code",
      "execution_count": 51,
      "metadata": {
        "colab": {
          "base_uri": "https://localhost:8080/"
        },
        "id": "SL45P1cC5tnJ",
        "outputId": "2ffe20dd-3a85-4dc9-98e3-01bd973df267"
      },
      "outputs": [
        {
          "data": {
            "text/plain": [
              "<tf.Tensor: shape=(2, 2), dtype=int32, numpy=\n",
              "array([[ 89,  98],\n",
              "       [116, 128]])>"
            ]
          },
          "execution_count": 51,
          "metadata": {},
          "output_type": "execute_result"
        }
      ],
      "source": [
        "# You can achieve the same result with parameters\n",
        "tf.matmul(a=X, b=Y, transpose_a=True, transpose_b=False)"
      ]
    },
    {
      "cell_type": "markdown",
      "metadata": {
        "id": "AqE518TJ3GXG"
      },
      "source": [
        "Notice the difference in the resulting shapes when tranposing `X` or reshaping `Y`.\n",
        "\n",
        "This is because of the 2nd rule mentioned above:\n",
        " * `(3, 2) @ (2, 3)` -> `(3, 3)` done with `X @ tf.reshape(Y, shape=(2, 3))` \n",
        " * `(2, 3) @ (3, 2)` -> `(2, 2)` done with `tf.matmul(tf.transpose(X), Y)`\n",
        "\n",
        "This kind of data manipulation is a reminder: you'll spend a lot of your time in machine learning and working with neural networks reshaping data (in the form of tensors) to prepare it to be used with various operations (such as feeding it to a model).\n",
        "\n",
        "### The dot product\n",
        "\n",
        "Multiplying matrices by eachother is also referred to as the dot product.\n",
        "\n",
        "You can perform the `tf.matmul()` operation using [`tf.tensordot()`](https://www.tensorflow.org/api_docs/python/tf/tensordot). "
      ]
    },
    {
      "cell_type": "code",
      "execution_count": 52,
      "metadata": {
        "colab": {
          "base_uri": "https://localhost:8080/"
        },
        "id": "qfSJHDpe2Oe9",
        "outputId": "b128a9eb-0e98-4379-b9d2-e0d29edd86f9"
      },
      "outputs": [
        {
          "data": {
            "text/plain": [
              "<tf.Tensor: shape=(2, 2), dtype=int32, numpy=\n",
              "array([[ 89,  98],\n",
              "       [116, 128]])>"
            ]
          },
          "execution_count": 52,
          "metadata": {},
          "output_type": "execute_result"
        }
      ],
      "source": [
        "# Perform the dot product on X and Y (requires X to be transposed)\n",
        "tf.tensordot(tf.transpose(X), Y, axes=1)"
      ]
    },
    {
      "cell_type": "markdown",
      "metadata": {
        "id": "waJcSOGf_Fg7"
      },
      "source": [
        "You might notice that although using both `reshape` and `tranpose` work, you get different results when using each.\n",
        "\n",
        "Let's see an example, first with `tf.transpose()` then with `tf.reshape()`."
      ]
    },
    {
      "cell_type": "code",
      "execution_count": 53,
      "metadata": {
        "colab": {
          "base_uri": "https://localhost:8080/"
        },
        "id": "AAzB-F4l6Dc0",
        "outputId": "9f656c4e-cd07-4496-9036-3d399ede9006"
      },
      "outputs": [
        {
          "data": {
            "text/plain": [
              "<tf.Tensor: shape=(3, 3), dtype=int32, numpy=\n",
              "array([[ 23,  29,  35],\n",
              "       [ 53,  67,  81],\n",
              "       [ 83, 105, 127]])>"
            ]
          },
          "execution_count": 53,
          "metadata": {},
          "output_type": "execute_result"
        }
      ],
      "source": [
        "# Perform matrix multiplication between X and Y (transposed)\n",
        "tf.matmul(X, tf.transpose(Y))"
      ]
    },
    {
      "cell_type": "code",
      "execution_count": 54,
      "metadata": {
        "colab": {
          "base_uri": "https://localhost:8080/"
        },
        "id": "s-kQH7qh69PV",
        "outputId": "02a9e262-7405-4454-87e0-c86bc9d352be"
      },
      "outputs": [
        {
          "data": {
            "text/plain": [
              "<tf.Tensor: shape=(3, 3), dtype=int32, numpy=\n",
              "array([[ 27,  30,  33],\n",
              "       [ 61,  68,  75],\n",
              "       [ 95, 106, 117]])>"
            ]
          },
          "execution_count": 54,
          "metadata": {},
          "output_type": "execute_result"
        }
      ],
      "source": [
        "# Perform matrix multiplication between X and Y (reshaped)\n",
        "tf.matmul(X, tf.reshape(Y, (2, 3)))"
      ]
    },
    {
      "cell_type": "markdown",
      "metadata": {
        "id": "2eCDnCX6AhbF"
      },
      "source": [
        "Hmm... they result in different values.\n",
        "\n",
        "Which is strange because when dealing with `Y` (a `(3x2)` matrix), reshaping to `(2, 3)` and tranposing it result in the same shape."
      ]
    },
    {
      "cell_type": "code",
      "execution_count": 55,
      "metadata": {
        "colab": {
          "base_uri": "https://localhost:8080/"
        },
        "id": "P_RLV373ATAb",
        "outputId": "bf406bb5-12f6-4912-88d4-d594870925b8"
      },
      "outputs": [
        {
          "data": {
            "text/plain": [
              "(TensorShape([3, 2]), TensorShape([2, 3]), TensorShape([2, 3]))"
            ]
          },
          "execution_count": 55,
          "metadata": {},
          "output_type": "execute_result"
        }
      ],
      "source": [
        "# Check shapes of Y, reshaped Y and tranposed Y\n",
        "Y.shape, tf.reshape(Y, (2, 3)).shape, tf.transpose(Y).shape"
      ]
    },
    {
      "cell_type": "markdown",
      "metadata": {
        "id": "OilqUMBKAevX"
      },
      "source": [
        "But calling `tf.reshape()` and `tf.transpose()` on `Y` don't necessarily result in the same values."
      ]
    },
    {
      "cell_type": "code",
      "execution_count": 56,
      "metadata": {
        "colab": {
          "base_uri": "https://localhost:8080/"
        },
        "id": "B5_aYjqeA_w_",
        "outputId": "3467c583-4afa-48ee-d2a6-9ef9bb2e5020"
      },
      "outputs": [
        {
          "name": "stdout",
          "output_type": "stream",
          "text": [
            "Normal Y:\n",
            "tf.Tensor(\n",
            "[[ 7  8]\n",
            " [ 9 10]\n",
            " [11 12]], shape=(3, 2), dtype=int32) \n",
            "\n",
            "Y reshaped to (2, 3):\n",
            "tf.Tensor(\n",
            "[[ 7  8  9]\n",
            " [10 11 12]], shape=(2, 3), dtype=int32) \n",
            "\n",
            "Y transposed:\n",
            "tf.Tensor(\n",
            "[[ 7  9 11]\n",
            " [ 8 10 12]], shape=(2, 3), dtype=int32)\n"
          ]
        }
      ],
      "source": [
        "# Check values of Y, reshape Y and tranposed Y\n",
        "print(\"Normal Y:\")\n",
        "print(Y, \"\\n\") # \"\\n\" for newline\n",
        "\n",
        "print(\"Y reshaped to (2, 3):\")\n",
        "print(tf.reshape(Y, (2, 3)), \"\\n\")\n",
        "\n",
        "print(\"Y transposed:\")\n",
        "print(tf.transpose(Y))"
      ]
    },
    {
      "cell_type": "markdown",
      "metadata": {
        "id": "g9g3l45LFO7K"
      },
      "source": [
        "As you can see, the outputs of `tf.reshape()` and `tf.transpose()` when called on `Y`, even though they have the same shape, are different.\n",
        "\n",
        "This can be explained by the default behaviour of each method:\n",
        "* [`tf.reshape()`](https://www.tensorflow.org/api_docs/python/tf/reshape) - change the shape of the given tensor (first) and then insert values in order they appear (in our case, 7, 8, 9, 10, 11, 12).\n",
        "* [`tf.transpose()`](https://www.tensorflow.org/api_docs/python/tf/transpose) - swap the order of the axes, by default the last axis becomes the first, however the order can be changed using the [`perm` parameter](https://www.tensorflow.org/api_docs/python/tf/transpose)."
      ]
    },
    {
      "cell_type": "markdown",
      "metadata": {
        "id": "fzjcZ4FHCOb5"
      },
      "source": [
        "So which should you use?\n",
        "\n",
        "Again, most of the time these operations (when they need to be run, such as during the training a neural network, will be implemented for you).\n",
        "\n",
        "But generally, whenever performing a matrix multiplication and the shapes of two matrices don't line up, you will transpose (not reshape) one of them in order to line them up.\n",
        "\n",
        "### Matrix multiplication tidbits\n",
        "* If we transposed `Y`, it would be represented as $\\mathbf{Y}^\\mathsf{T}$ (note the capital T for tranpose).\n",
        "* Get an illustrative view of matrix multiplication [by Math is Fun](https://www.mathsisfun.com/algebra/matrix-multiplying.html).\n",
        "* Try a hands-on demo of matrix multiplcation: http://matrixmultiplication.xyz/ (shown below).\n",
        "\n",
        "![visual demo of matrix multiplication](https://raw.githubusercontent.com/mrdbourke/tensorflow-deep-learning/main/images/00-matrix-multiply-crop.gif)"
      ]
    },
    {
      "cell_type": "markdown",
      "metadata": {
        "id": "bK8Kc94SL-JL"
      },
      "source": [
        "### Changing the datatype of a tensor\n",
        "\n",
        "Sometimes you'll want to alter the default datatype of your tensor. \n",
        "\n",
        "This is common when you want to compute using less precision (e.g. 16-bit floating point numbers vs. 32-bit floating point numbers). \n",
        "\n",
        "Computing with less precision is useful on devices with less computing capacity such as mobile devices (because the less bits, the less space the computations require).\n",
        "\n",
        "You can change the datatype of a tensor using [`tf.cast()`](https://www.tensorflow.org/api_docs/python/tf/cast)."
      ]
    },
    {
      "cell_type": "code",
      "execution_count": 57,
      "metadata": {
        "colab": {
          "base_uri": "https://localhost:8080/"
        },
        "id": "jRkZhW35Lge_",
        "outputId": "117f9814-e7f2-42ee-ab76-498bbde856f3"
      },
      "outputs": [
        {
          "data": {
            "text/plain": [
              "(<tf.Tensor: shape=(2,), dtype=float32, numpy=array([1.7, 7.4], dtype=float32)>,\n",
              " <tf.Tensor: shape=(2,), dtype=int32, numpy=array([1, 7])>)"
            ]
          },
          "execution_count": 57,
          "metadata": {},
          "output_type": "execute_result"
        }
      ],
      "source": [
        "# Create a new tensor with default datatype (float32)\n",
        "B = tf.constant([1.7, 7.4])\n",
        "\n",
        "# Create a new tensor with default datatype (int32)\n",
        "C = tf.constant([1, 7])\n",
        "B, C"
      ]
    },
    {
      "cell_type": "code",
      "execution_count": 58,
      "metadata": {
        "colab": {
          "base_uri": "https://localhost:8080/"
        },
        "id": "kdhV1rgcNpUP",
        "outputId": "c2293dcd-cfe0-4618-e304-925f16a6db12"
      },
      "outputs": [
        {
          "data": {
            "text/plain": [
              "<tf.Tensor: shape=(2,), dtype=float16, numpy=array([1.7, 7.4], dtype=float16)>"
            ]
          },
          "execution_count": 58,
          "metadata": {},
          "output_type": "execute_result"
        }
      ],
      "source": [
        "# Change from float32 to float16 (reduced precision)\n",
        "B = tf.cast(B, dtype=tf.float16)\n",
        "B"
      ]
    },
    {
      "cell_type": "code",
      "execution_count": 59,
      "metadata": {
        "colab": {
          "base_uri": "https://localhost:8080/"
        },
        "id": "Px2E1ANeNxRv",
        "outputId": "a984cf0d-e14e-46db-a6d8-aa300cb121fe"
      },
      "outputs": [
        {
          "data": {
            "text/plain": [
              "<tf.Tensor: shape=(2,), dtype=float32, numpy=array([1., 7.], dtype=float32)>"
            ]
          },
          "execution_count": 59,
          "metadata": {},
          "output_type": "execute_result"
        }
      ],
      "source": [
        "# Change from int32 to float32\n",
        "C = tf.cast(C, dtype=tf.float32)\n",
        "C"
      ]
    },
    {
      "cell_type": "markdown",
      "metadata": {
        "id": "1F3L1BDuQVJz"
      },
      "source": [
        "### Getting the absolute value\n",
        "Sometimes you'll want the absolute values (all values are positive) of elements in your tensors.\n",
        "\n",
        "To do so, you can use [`tf.abs()`](https://www.tensorflow.org/api_docs/python/tf/math/abs)."
      ]
    },
    {
      "cell_type": "code",
      "execution_count": 60,
      "metadata": {
        "colab": {
          "base_uri": "https://localhost:8080/"
        },
        "id": "plNBFi51QOvW",
        "outputId": "b82f87c5-ada1-43b5-b998-5d6fa8e90931"
      },
      "outputs": [
        {
          "data": {
            "text/plain": [
              "<tf.Tensor: shape=(2,), dtype=int32, numpy=array([ -7, -10])>"
            ]
          },
          "execution_count": 60,
          "metadata": {},
          "output_type": "execute_result"
        }
      ],
      "source": [
        "# Create tensor with negative values\n",
        "D = tf.constant([-7, -10])\n",
        "D"
      ]
    },
    {
      "cell_type": "code",
      "execution_count": 61,
      "metadata": {
        "colab": {
          "base_uri": "https://localhost:8080/"
        },
        "id": "bOSYmX37QFHS",
        "outputId": "b80c6fd6-e1b5-469b-ffe8-f654be0be472"
      },
      "outputs": [
        {
          "data": {
            "text/plain": [
              "<tf.Tensor: shape=(2,), dtype=int32, numpy=array([ 7, 10])>"
            ]
          },
          "execution_count": 61,
          "metadata": {},
          "output_type": "execute_result"
        }
      ],
      "source": [
        "# Get the absolute values\n",
        "tf.abs(D)"
      ]
    },
    {
      "cell_type": "markdown",
      "metadata": {
        "id": "G4cnALehQ2CE"
      },
      "source": [
        "### Finding the min, max, mean, sum (aggregation)\n",
        "\n",
        "You can quickly aggregate (perform a calculation on a whole tensor) tensors to find things like the minimum value, maximum value, mean and sum of all the elements.\n",
        "\n",
        "To do so, aggregation methods typically have the syntax `reduce()_[action]`, such as:\n",
        "* [`tf.reduce_min()`](https://www.tensorflow.org/api_docs/python/tf/math/reduce_min) - find the minimum value in a tensor.\n",
        "* [`tf.reduce_max()`](https://www.tensorflow.org/api_docs/python/tf/math/reduce_max) - find the maximum value in a tensor (helpful for when you want to find the highest prediction probability).\n",
        "* [`tf.reduce_mean()`](https://www.tensorflow.org/api_docs/python/tf/math/reduce_mean) - find the mean of all elements in a tensor.\n",
        "* [`tf.reduce_sum()`](https://www.tensorflow.org/api_docs/python/tf/math/reduce_sum) - find the sum of all elements in a tensor.\n",
        "* **Note:** typically, each of these is under the `math` module, e.g. `tf.math.reduce_min()` but you can use the alias `tf.reduce_min()`.\n",
        "\n",
        "Let's see them in action."
      ]
    },
    {
      "cell_type": "code",
      "execution_count": 62,
      "metadata": {
        "colab": {
          "base_uri": "https://localhost:8080/"
        },
        "id": "kjW5_6i6Q7oo",
        "outputId": "684c3ac0-753c-4743-ac93-3297e624d0e0"
      },
      "outputs": [
        {
          "data": {
            "text/plain": [
              "<tf.Tensor: shape=(50,), dtype=int32, numpy=\n",
              "array([14, 79,  2, 12, 27, 10, 31, 91, 97, 36, 52, 90, 78, 14, 79, 35, 87,\n",
              "       99, 25, 11, 20, 20, 22, 30, 66, 66, 98, 10, 29, 11, 29, 87, 15, 73,\n",
              "        8, 66,  1, 93, 35, 33, 36, 54, 58, 84, 55, 35, 64, 85, 96, 73])>"
            ]
          },
          "execution_count": 62,
          "metadata": {},
          "output_type": "execute_result"
        }
      ],
      "source": [
        "# Create a tensor with 50 random values between 0 and 100\n",
        "E = tf.constant(np.random.randint(low=0, high=100, size=50))\n",
        "E"
      ]
    },
    {
      "cell_type": "code",
      "execution_count": 63,
      "metadata": {
        "colab": {
          "base_uri": "https://localhost:8080/"
        },
        "id": "slwMVgT-Rac0",
        "outputId": "482cd514-c1af-4101-84d7-ddd4c07c4ba7"
      },
      "outputs": [
        {
          "data": {
            "text/plain": [
              "<tf.Tensor: shape=(), dtype=int32, numpy=1>"
            ]
          },
          "execution_count": 63,
          "metadata": {},
          "output_type": "execute_result"
        }
      ],
      "source": [
        "# Find the minimum\n",
        "tf.reduce_min(E)"
      ]
    },
    {
      "cell_type": "code",
      "execution_count": 64,
      "metadata": {
        "colab": {
          "base_uri": "https://localhost:8080/"
        },
        "id": "voLqafGCRYqO",
        "outputId": "de7dd3b5-050e-4dc7-a5b1-e485f7c10d9b"
      },
      "outputs": [
        {
          "data": {
            "text/plain": [
              "<tf.Tensor: shape=(), dtype=int32, numpy=99>"
            ]
          },
          "execution_count": 64,
          "metadata": {},
          "output_type": "execute_result"
        }
      ],
      "source": [
        "# Find the maximum\n",
        "tf.reduce_max(E)"
      ]
    },
    {
      "cell_type": "code",
      "execution_count": 65,
      "metadata": {
        "colab": {
          "base_uri": "https://localhost:8080/"
        },
        "id": "MPqwvy6TRYN3",
        "outputId": "4801507a-d568-42d1-aa10-1b3df4d9854b"
      },
      "outputs": [
        {
          "data": {
            "text/plain": [
              "<tf.Tensor: shape=(), dtype=int32, numpy=48>"
            ]
          },
          "execution_count": 65,
          "metadata": {},
          "output_type": "execute_result"
        }
      ],
      "source": [
        "# Find the mean\n",
        "tf.reduce_mean(E)"
      ]
    },
    {
      "cell_type": "code",
      "execution_count": 66,
      "metadata": {
        "colab": {
          "base_uri": "https://localhost:8080/"
        },
        "id": "lqwCXeD6RhyE",
        "outputId": "0f2a23e2-1381-463e-fb84-d9aad6c3efc1"
      },
      "outputs": [
        {
          "data": {
            "text/plain": [
              "<tf.Tensor: shape=(), dtype=int32, numpy=2421>"
            ]
          },
          "execution_count": 66,
          "metadata": {},
          "output_type": "execute_result"
        }
      ],
      "source": [
        "# Find the sum\n",
        "tf.reduce_sum(E)"
      ]
    },
    {
      "cell_type": "code",
      "execution_count": 68,
      "metadata": {},
      "outputs": [
        {
          "data": {
            "text/plain": [
              "<tf.Tensor: shape=(), dtype=float32, numpy=969.2036>"
            ]
          },
          "execution_count": 68,
          "metadata": {},
          "output_type": "execute_result"
        }
      ],
      "source": [
        "# Find the variance\n",
        "tf.math.reduce_variance(tf.cast(E, dtype=tf.float32))"
      ]
    },
    {
      "cell_type": "code",
      "execution_count": 69,
      "metadata": {},
      "outputs": [
        {
          "data": {
            "text/plain": [
              "<tf.Tensor: shape=(), dtype=float32, numpy=31.132034>"
            ]
          },
          "execution_count": 69,
          "metadata": {},
          "output_type": "execute_result"
        }
      ],
      "source": [
        "# Find the standard deviation\n",
        "tf.math.reduce_std(tf.cast(E, dtype=tf.float32))"
      ]
    },
    {
      "cell_type": "markdown",
      "metadata": {
        "id": "zXGyiVPiRqgO"
      },
      "source": [
        "You can also find the standard deviation ([`tf.reduce_std()`](https://www.tensorflow.org/api_docs/python/tf/math/reduce_std)) and variance ([`tf.reduce_variance()`](https://www.tensorflow.org/api_docs/python/tf/math/reduce_variance)) of elements in a tensor using similar methods.\n",
        "\n",
        "### Finding the positional maximum and minimum\n",
        "\n",
        "How about finding the position a tensor where the maximum value occurs?\n",
        "\n",
        "This is helpful when you want to line up your labels (say `['Green', 'Blue', 'Red']`) with your prediction probabilities tensor (e.g. `[0.98, 0.01, 0.01]`).\n",
        "\n",
        "In this case, the predicted label (the one with the highest prediction probability) would be `'Green'`.\n",
        "\n",
        "You can do the same for the minimum (if required) with the following:\n",
        "* [`tf.argmax()`](https://www.tensorflow.org/api_docs/python/tf/math/argmax) - find the position of the maximum element in a given tensor.\n",
        "* [`tf.argmin()`](https://www.tensorflow.org/api_docs/python/tf/math/argmin) - find the position of the minimum element in a given tensor."
      ]
    },
    {
      "cell_type": "code",
      "execution_count": 71,
      "metadata": {
        "colab": {
          "base_uri": "https://localhost:8080/"
        },
        "id": "PspO0Vjp3Nm6",
        "outputId": "e64798b1-ac90-40fc-c820-7b2fcd158b41"
      },
      "outputs": [
        {
          "data": {
            "text/plain": [
              "<tf.Tensor: shape=(50,), dtype=float64, numpy=\n",
              "array([0.58490599, 0.87580282, 0.37505704, 0.90274714, 0.31594149,\n",
              "       0.38375936, 0.15853099, 0.69568802, 0.33507669, 0.19624377,\n",
              "       0.89496435, 0.18185774, 0.86031136, 0.39274224, 0.97428897,\n",
              "       0.21873319, 0.13830438, 0.40982253, 0.0353805 , 0.50424551,\n",
              "       0.934436  , 0.06990722, 0.64550756, 0.8563433 , 0.25051946,\n",
              "       0.35636287, 0.70264793, 0.8988058 , 0.95079941, 0.92088897,\n",
              "       0.50546226, 0.49703779, 0.39852247, 0.1382035 , 0.5617687 ,\n",
              "       0.02636196, 0.19113052, 0.81026361, 0.65014641, 0.41688279,\n",
              "       0.22304723, 0.54779679, 0.28254346, 0.17248243, 0.16026938,\n",
              "       0.65985033, 0.12197412, 0.41514592, 0.54739813, 0.83964556])>"
            ]
          },
          "execution_count": 71,
          "metadata": {},
          "output_type": "execute_result"
        }
      ],
      "source": [
        "# Create a tensor with 50 values between 0 and 1\n",
        "F = tf.constant(np.random.random(50))\n",
        "F"
      ]
    },
    {
      "cell_type": "code",
      "execution_count": 72,
      "metadata": {
        "colab": {
          "base_uri": "https://localhost:8080/"
        },
        "id": "ADbAMm9N3Zlb",
        "outputId": "0b16b507-e863-453e-c7e2-75bb44684bd5"
      },
      "outputs": [
        {
          "data": {
            "text/plain": [
              "<tf.Tensor: shape=(), dtype=int64, numpy=14>"
            ]
          },
          "execution_count": 72,
          "metadata": {},
          "output_type": "execute_result"
        }
      ],
      "source": [
        "# Find the maximum element position of F\n",
        "tf.argmax(F)"
      ]
    },
    {
      "cell_type": "code",
      "execution_count": 73,
      "metadata": {
        "colab": {
          "base_uri": "https://localhost:8080/"
        },
        "id": "aQrv1nVE3ckx",
        "outputId": "6e52173e-8f33-4a8a-aff7-ad968f163e92"
      },
      "outputs": [
        {
          "data": {
            "text/plain": [
              "<tf.Tensor: shape=(), dtype=int64, numpy=35>"
            ]
          },
          "execution_count": 73,
          "metadata": {},
          "output_type": "execute_result"
        }
      ],
      "source": [
        "# Find the minimum element position of F\n",
        "tf.argmin(F)"
      ]
    },
    {
      "cell_type": "code",
      "execution_count": 74,
      "metadata": {
        "colab": {
          "base_uri": "https://localhost:8080/"
        },
        "id": "yFHzARFwLmIf",
        "outputId": "e67cf2cc-93f9-44f6-810c-647814d5ba4f"
      },
      "outputs": [
        {
          "name": "stdout",
          "output_type": "stream",
          "text": [
            "The maximum value of F is at position: 14\n",
            "The maximum value of F is: 0.9742889656428423\n",
            "Using tf.argmax() to index F, the maximum value of F is: 0.9742889656428423\n",
            "Are the two max values the same (they should be)? True\n"
          ]
        }
      ],
      "source": [
        "# Find the maximum element position of F\n",
        "print(f\"The maximum value of F is at position: {tf.argmax(F).numpy()}\") \n",
        "print(f\"The maximum value of F is: {tf.reduce_max(F).numpy()}\") \n",
        "print(f\"Using tf.argmax() to index F, the maximum value of F is: {F[tf.argmax(F)].numpy()}\")\n",
        "print(f\"Are the two max values the same (they should be)? {F[tf.argmax(F)].numpy() == tf.reduce_max(F).numpy()}\")"
      ]
    },
    {
      "cell_type": "markdown",
      "metadata": {
        "id": "vSGIuNwm5QHM"
      },
      "source": [
        "### Squeezing a tensor (removing all single dimensions)\n",
        "\n",
        "If you need to remove single-dimensions from a tensor (dimensions with size 1), you can use `tf.squeeze()`.\n",
        "\n",
        "* [`tf.squeeze()`](https://www.tensorflow.org/api_docs/python/tf/squeeze) - remove all dimensions of 1 from a tensor.\n"
      ]
    },
    {
      "cell_type": "code",
      "execution_count": 75,
      "metadata": {
        "colab": {
          "base_uri": "https://localhost:8080/"
        },
        "id": "6xDZLtNu5wUZ",
        "outputId": "a641e1bc-7624-428c-942a-3d51170add8d"
      },
      "outputs": [
        {
          "data": {
            "text/plain": [
              "(TensorShape([1, 1, 1, 1, 50]), 5)"
            ]
          },
          "execution_count": 75,
          "metadata": {},
          "output_type": "execute_result"
        }
      ],
      "source": [
        "# Create a rank 5 (5 dimensions) tensor of 50 numbers between 0 and 100\n",
        "G = tf.constant(np.random.randint(0, 100, 50), shape=(1, 1, 1, 1, 50))\n",
        "G.shape, G.ndim"
      ]
    },
    {
      "cell_type": "code",
      "execution_count": 76,
      "metadata": {
        "colab": {
          "base_uri": "https://localhost:8080/"
        },
        "id": "oS91XOgO6lai",
        "outputId": "a9635c26-310e-46b0-9d80-604bddf7c8e5"
      },
      "outputs": [
        {
          "data": {
            "text/plain": [
              "(TensorShape([50]), 1)"
            ]
          },
          "execution_count": 76,
          "metadata": {},
          "output_type": "execute_result"
        }
      ],
      "source": [
        "# Squeeze tensor G (remove all 1 dimensions)\n",
        "G_squeezed = tf.squeeze(G)\n",
        "G_squeezed.shape, G_squeezed.ndim"
      ]
    },
    {
      "cell_type": "markdown",
      "metadata": {
        "id": "46cKe32W65Ox"
      },
      "source": [
        "### One-hot encoding\n",
        "\n",
        "If you have a tensor of indicies and would like to one-hot encode it, you can use [`tf.one_hot()`](https://www.tensorflow.org/api_docs/python/tf/one_hot).\n",
        "\n",
        "You should also specify the `depth` parameter (the level which you want to one-hot encode to)."
      ]
    },
    {
      "cell_type": "code",
      "execution_count": 77,
      "metadata": {
        "colab": {
          "base_uri": "https://localhost:8080/"
        },
        "id": "FlRkMjL-646U",
        "outputId": "57e586aa-c3b6-45af-a068-464b84ad4ca2"
      },
      "outputs": [
        {
          "data": {
            "text/plain": [
              "<tf.Tensor: shape=(4, 4), dtype=float32, numpy=\n",
              "array([[1., 0., 0., 0.],\n",
              "       [0., 1., 0., 0.],\n",
              "       [0., 0., 1., 0.],\n",
              "       [0., 0., 0., 1.]], dtype=float32)>"
            ]
          },
          "execution_count": 77,
          "metadata": {},
          "output_type": "execute_result"
        }
      ],
      "source": [
        "# Create a list of indices\n",
        "some_list = [0, 1, 2, 3]\n",
        "\n",
        "# One hot encode them\n",
        "tf.one_hot(some_list, depth=4)"
      ]
    },
    {
      "cell_type": "markdown",
      "metadata": {
        "id": "xYxYV0r08THk"
      },
      "source": [
        "You can also specify values for `on_value` and `off_value` instead of the default `0` and `1`."
      ]
    },
    {
      "cell_type": "code",
      "execution_count": 78,
      "metadata": {
        "colab": {
          "base_uri": "https://localhost:8080/"
        },
        "id": "FZluadm88EcN",
        "outputId": "5f98ee43-cf54-4c96-b466-b85e39d715ff"
      },
      "outputs": [
        {
          "data": {
            "text/plain": [
              "<tf.Tensor: shape=(4, 4), dtype=string, numpy=\n",
              "array([[b\"We're live!\", b'Offline', b'Offline', b'Offline'],\n",
              "       [b'Offline', b\"We're live!\", b'Offline', b'Offline'],\n",
              "       [b'Offline', b'Offline', b\"We're live!\", b'Offline'],\n",
              "       [b'Offline', b'Offline', b'Offline', b\"We're live!\"]], dtype=object)>"
            ]
          },
          "execution_count": 78,
          "metadata": {},
          "output_type": "execute_result"
        }
      ],
      "source": [
        "# Specify custom values for on and off encoding\n",
        "tf.one_hot(some_list, depth=4, on_value=\"We're live!\", off_value=\"Offline\")"
      ]
    },
    {
      "cell_type": "markdown",
      "metadata": {
        "id": "-E-I1jFC84Qi"
      },
      "source": [
        "### Squaring, log, square root\n",
        "\n",
        "Many other common mathematical operations you'd like to perform at some stage, probably exist.\n",
        "\n",
        "Let's take a look at:\n",
        "* [`tf.square()`](https://www.tensorflow.org/api_docs/python/tf/math/square) - get the square of every value in a tensor. \n",
        "* [`tf.sqrt()`](https://www.tensorflow.org/api_docs/python/tf/math/sqrt) - get the squareroot of every value in a tensor (**note:** the elements need to be floats or this will error).\n",
        "* [`tf.math.log()`](https://www.tensorflow.org/api_docs/python/tf/math/log) - get the natural log of every value in a tensor (elements need to floats)."
      ]
    },
    {
      "cell_type": "code",
      "execution_count": 79,
      "metadata": {
        "colab": {
          "base_uri": "https://localhost:8080/"
        },
        "id": "KTOvziCBLqhZ",
        "outputId": "10fa84ab-98d0-4bbe-f751-4f94a103e4f0"
      },
      "outputs": [
        {
          "data": {
            "text/plain": [
              "<tf.Tensor: shape=(9,), dtype=int32, numpy=array([1, 2, 3, 4, 5, 6, 7, 8, 9])>"
            ]
          },
          "execution_count": 79,
          "metadata": {},
          "output_type": "execute_result"
        }
      ],
      "source": [
        "# Create a new tensor\n",
        "H = tf.constant(np.arange(1, 10))\n",
        "H"
      ]
    },
    {
      "cell_type": "code",
      "execution_count": 80,
      "metadata": {
        "colab": {
          "base_uri": "https://localhost:8080/"
        },
        "id": "qvPS3xbk9JBK",
        "outputId": "7432fd66-28a6-4ed6-b7dc-fdc198171cec"
      },
      "outputs": [
        {
          "data": {
            "text/plain": [
              "<tf.Tensor: shape=(9,), dtype=int32, numpy=array([ 1,  4,  9, 16, 25, 36, 49, 64, 81])>"
            ]
          },
          "execution_count": 80,
          "metadata": {},
          "output_type": "execute_result"
        }
      ],
      "source": [
        "# Square it\n",
        "tf.square(H)"
      ]
    },
    {
      "cell_type": "code",
      "execution_count": 81,
      "metadata": {
        "colab": {
          "base_uri": "https://localhost:8080/",
          "height": 353
        },
        "id": "SJibI0GO9uf4",
        "outputId": "18537050-f17e-4f9d-bf6d-c8601384f2a8"
      },
      "outputs": [
        {
          "ename": "InvalidArgumentError",
          "evalue": "Value for attr 'T' of int32 is not in the list of allowed values: bfloat16, half, float, double, complex64, complex128\n\t; NodeDef: {{node Sqrt}}; Op<name=Sqrt; signature=x:T -> y:T; attr=T:type,allowed=[DT_BFLOAT16, DT_HALF, DT_FLOAT, DT_DOUBLE, DT_COMPLEX64, DT_COMPLEX128]> [Op:Sqrt] name: ",
          "output_type": "error",
          "traceback": [
            "\u001b[1;31m---------------------------------------------------------------------------\u001b[0m",
            "\u001b[1;31mInvalidArgumentError\u001b[0m                      Traceback (most recent call last)",
            "\u001b[1;32mc:\\Users\\My computer\\Downloads\\School\\Personal Education\\Github\\Artificial-Intelligent-Skills\\1. Library Requirement\\Tensorflow\\0. Tensorflow Fundamentals.ipynb Cell 122\u001b[0m line \u001b[0;36m2\n\u001b[0;32m      <a href='vscode-notebook-cell:/c%3A/Users/My%20computer/Downloads/School/Personal%20Education/Github/Artificial-Intelligent-Skills/1.%20Library%20Requirement/Tensorflow/0.%20Tensorflow%20Fundamentals.ipynb#Y226sZmlsZQ%3D%3D?line=0'>1</a>\u001b[0m \u001b[39m# Find the squareroot (will error), needs to be non-integer\u001b[39;00m\n\u001b[1;32m----> <a href='vscode-notebook-cell:/c%3A/Users/My%20computer/Downloads/School/Personal%20Education/Github/Artificial-Intelligent-Skills/1.%20Library%20Requirement/Tensorflow/0.%20Tensorflow%20Fundamentals.ipynb#Y226sZmlsZQ%3D%3D?line=1'>2</a>\u001b[0m tf\u001b[39m.\u001b[39;49msqrt(H)\n",
            "File \u001b[1;32mc:\\Users\\My computer\\AppData\\Local\\Programs\\Python\\Python311\\Lib\\site-packages\\tensorflow\\python\\util\\traceback_utils.py:153\u001b[0m, in \u001b[0;36mfilter_traceback.<locals>.error_handler\u001b[1;34m(*args, **kwargs)\u001b[0m\n\u001b[0;32m    151\u001b[0m \u001b[39mexcept\u001b[39;00m \u001b[39mException\u001b[39;00m \u001b[39mas\u001b[39;00m e:\n\u001b[0;32m    152\u001b[0m   filtered_tb \u001b[39m=\u001b[39m _process_traceback_frames(e\u001b[39m.\u001b[39m__traceback__)\n\u001b[1;32m--> 153\u001b[0m   \u001b[39mraise\u001b[39;00m e\u001b[39m.\u001b[39mwith_traceback(filtered_tb) \u001b[39mfrom\u001b[39;00m \u001b[39mNone\u001b[39;00m\n\u001b[0;32m    154\u001b[0m \u001b[39mfinally\u001b[39;00m:\n\u001b[0;32m    155\u001b[0m   \u001b[39mdel\u001b[39;00m filtered_tb\n",
            "File \u001b[1;32mc:\\Users\\My computer\\AppData\\Local\\Programs\\Python\\Python311\\Lib\\site-packages\\tensorflow\\python\\framework\\ops.py:5888\u001b[0m, in \u001b[0;36mraise_from_not_ok_status\u001b[1;34m(e, name)\u001b[0m\n\u001b[0;32m   5886\u001b[0m \u001b[39mdef\u001b[39;00m \u001b[39mraise_from_not_ok_status\u001b[39m(e, name) \u001b[39m-\u001b[39m\u001b[39m>\u001b[39m NoReturn:\n\u001b[0;32m   5887\u001b[0m   e\u001b[39m.\u001b[39mmessage \u001b[39m+\u001b[39m\u001b[39m=\u001b[39m (\u001b[39m\"\u001b[39m\u001b[39m name: \u001b[39m\u001b[39m\"\u001b[39m \u001b[39m+\u001b[39m \u001b[39mstr\u001b[39m(name \u001b[39mif\u001b[39;00m name \u001b[39mis\u001b[39;00m \u001b[39mnot\u001b[39;00m \u001b[39mNone\u001b[39;00m \u001b[39melse\u001b[39;00m \u001b[39m\"\u001b[39m\u001b[39m\"\u001b[39m))\n\u001b[1;32m-> 5888\u001b[0m   \u001b[39mraise\u001b[39;00m core\u001b[39m.\u001b[39m_status_to_exception(e) \u001b[39mfrom\u001b[39;00m \u001b[39mNone\u001b[39;00m\n",
            "\u001b[1;31mInvalidArgumentError\u001b[0m: Value for attr 'T' of int32 is not in the list of allowed values: bfloat16, half, float, double, complex64, complex128\n\t; NodeDef: {{node Sqrt}}; Op<name=Sqrt; signature=x:T -> y:T; attr=T:type,allowed=[DT_BFLOAT16, DT_HALF, DT_FLOAT, DT_DOUBLE, DT_COMPLEX64, DT_COMPLEX128]> [Op:Sqrt] name: "
          ]
        }
      ],
      "source": [
        "# Find the squareroot (will error), needs to be non-integer\n",
        "tf.sqrt(H)"
      ]
    },
    {
      "cell_type": "code",
      "execution_count": 82,
      "metadata": {
        "colab": {
          "base_uri": "https://localhost:8080/"
        },
        "id": "zlxRWy6Q-NHK",
        "outputId": "f2bc38ee-7af8-4c25-d556-0b464bd871d1"
      },
      "outputs": [
        {
          "data": {
            "text/plain": [
              "<tf.Tensor: shape=(9,), dtype=float32, numpy=array([1., 2., 3., 4., 5., 6., 7., 8., 9.], dtype=float32)>"
            ]
          },
          "execution_count": 82,
          "metadata": {},
          "output_type": "execute_result"
        }
      ],
      "source": [
        "# Change H to float32\n",
        "H = tf.cast(H, dtype=tf.float32)\n",
        "H"
      ]
    },
    {
      "cell_type": "code",
      "execution_count": 83,
      "metadata": {
        "colab": {
          "base_uri": "https://localhost:8080/"
        },
        "id": "S73eO0p--TtN",
        "outputId": "e9204262-c9a3-45bc-ba8e-3436dee76464"
      },
      "outputs": [
        {
          "data": {
            "text/plain": [
              "<tf.Tensor: shape=(9,), dtype=float32, numpy=\n",
              "array([1.       , 1.4142135, 1.7320508, 2.       , 2.236068 , 2.4494898,\n",
              "       2.6457512, 2.828427 , 3.       ], dtype=float32)>"
            ]
          },
          "execution_count": 83,
          "metadata": {},
          "output_type": "execute_result"
        }
      ],
      "source": [
        "# Find the square root\n",
        "tf.sqrt(H)"
      ]
    },
    {
      "cell_type": "code",
      "execution_count": 84,
      "metadata": {
        "colab": {
          "base_uri": "https://localhost:8080/"
        },
        "id": "RyCo55vz9u4f",
        "outputId": "a37f7d0a-9f71-43b7-84c3-20a60664bd22"
      },
      "outputs": [
        {
          "data": {
            "text/plain": [
              "<tf.Tensor: shape=(9,), dtype=float32, numpy=\n",
              "array([0.       , 0.6931472, 1.0986123, 1.3862944, 1.609438 , 1.7917595,\n",
              "       1.9459102, 2.0794415, 2.1972246], dtype=float32)>"
            ]
          },
          "execution_count": 84,
          "metadata": {},
          "output_type": "execute_result"
        }
      ],
      "source": [
        "# Find the log (input also needs to be float)\n",
        "tf.math.log(H)"
      ]
    },
    {
      "cell_type": "markdown",
      "metadata": {
        "id": "urq3bx3l_Y4K"
      },
      "source": [
        "### Manipulating `tf.Variable` tensors\n",
        "\n",
        "Tensors created with `tf.Variable()` can be changed in place using methods such as:\n",
        "\n",
        "* [`.assign()`](https://www.tensorflow.org/api_docs/python/tf/Variable#assign) - assign a different value to a particular index of a variable tensor.\n",
        "* [`.add_assign()`](https://www.tensorflow.org/api_docs/python/tf/Variable#assign_add) - add to an existing value and reassign it at a particular index of a variable tensor.\n"
      ]
    },
    {
      "cell_type": "code",
      "execution_count": 85,
      "metadata": {
        "colab": {
          "base_uri": "https://localhost:8080/"
        },
        "id": "tV7_uzdR_F4c",
        "outputId": "86c9ccb5-d32f-48a6-d55a-b34053aabc9f"
      },
      "outputs": [
        {
          "data": {
            "text/plain": [
              "<tf.Variable 'Variable:0' shape=(5,) dtype=int32, numpy=array([0, 1, 2, 3, 4])>"
            ]
          },
          "execution_count": 85,
          "metadata": {},
          "output_type": "execute_result"
        }
      ],
      "source": [
        "# Create a variable tensor\n",
        "I = tf.Variable(np.arange(0, 5))\n",
        "I"
      ]
    },
    {
      "cell_type": "code",
      "execution_count": 86,
      "metadata": {
        "colab": {
          "base_uri": "https://localhost:8080/"
        },
        "id": "ukatOuCG_4CY",
        "outputId": "0d36fb98-0c7c-42f7-c439-cdc2c72271d8"
      },
      "outputs": [
        {
          "data": {
            "text/plain": [
              "<tf.Variable 'UnreadVariable' shape=(5,) dtype=int32, numpy=array([ 0,  1,  2,  3, 50])>"
            ]
          },
          "execution_count": 86,
          "metadata": {},
          "output_type": "execute_result"
        }
      ],
      "source": [
        "# Assign the final value a new value of 50\n",
        "I.assign([0, 1, 2, 3, 50])"
      ]
    },
    {
      "cell_type": "code",
      "execution_count": 87,
      "metadata": {
        "colab": {
          "base_uri": "https://localhost:8080/"
        },
        "id": "3r2Pya_vAnLz",
        "outputId": "ea862b8c-a8bf-476b-d1b0-4164260c0927"
      },
      "outputs": [
        {
          "data": {
            "text/plain": [
              "<tf.Variable 'Variable:0' shape=(5,) dtype=int32, numpy=array([ 0,  1,  2,  3, 50])>"
            ]
          },
          "execution_count": 87,
          "metadata": {},
          "output_type": "execute_result"
        }
      ],
      "source": [
        "# The change happens in place (the last value is now 50, not 4)\n",
        "I"
      ]
    },
    {
      "cell_type": "code",
      "execution_count": 88,
      "metadata": {
        "colab": {
          "base_uri": "https://localhost:8080/"
        },
        "id": "gZie_FduAo5O",
        "outputId": "ce5e6cf0-224f-4361-e4ad-a3b5725859f9"
      },
      "outputs": [
        {
          "data": {
            "text/plain": [
              "<tf.Variable 'UnreadVariable' shape=(5,) dtype=int32, numpy=array([10, 11, 12, 13, 60])>"
            ]
          },
          "execution_count": 88,
          "metadata": {},
          "output_type": "execute_result"
        }
      ],
      "source": [
        "# Add 10 to every element in I\n",
        "I.assign_add([10, 10, 10, 10, 10])"
      ]
    },
    {
      "cell_type": "code",
      "execution_count": 89,
      "metadata": {
        "colab": {
          "base_uri": "https://localhost:8080/"
        },
        "id": "2qXODgVOBDzC",
        "outputId": "c8142fa5-7c51-4ef8-cc0b-2a780d096d19"
      },
      "outputs": [
        {
          "data": {
            "text/plain": [
              "<tf.Variable 'Variable:0' shape=(5,) dtype=int32, numpy=array([10, 11, 12, 13, 60])>"
            ]
          },
          "execution_count": 89,
          "metadata": {},
          "output_type": "execute_result"
        }
      ],
      "source": [
        "# Again, the change happens in place\n",
        "I"
      ]
    },
    {
      "cell_type": "markdown",
      "metadata": {
        "id": "2L2IyQhl-Z73"
      },
      "source": [
        "## Tensors and NumPy\n",
        "\n",
        "We've seen some examples of tensors interact with NumPy arrays, such as, using NumPy arrays to create tensors. \n",
        "\n",
        "Tensors can also be converted to NumPy arrays using:\n",
        "\n",
        "* `np.array()` - pass a tensor to convert to an ndarray (NumPy's main datatype).\n",
        "* `tensor.numpy()` - call on a tensor to convert to an ndarray.\n",
        "\n",
        "Doing this is helpful as it makes tensors iterable as well as allows us to use any of NumPy's methods on them."
      ]
    },
    {
      "cell_type": "code",
      "execution_count": 90,
      "metadata": {
        "colab": {
          "base_uri": "https://localhost:8080/"
        },
        "id": "HLHrij0vBywD",
        "outputId": "3fc123c9-c32c-4aac-e61e-900c75fc2a04"
      },
      "outputs": [
        {
          "data": {
            "text/plain": [
              "<tf.Tensor: shape=(3,), dtype=float64, numpy=array([ 3.,  7., 10.])>"
            ]
          },
          "execution_count": 90,
          "metadata": {},
          "output_type": "execute_result"
        }
      ],
      "source": [
        "# Create a tensor from a NumPy array\n",
        "J = tf.constant(np.array([3., 7., 10.]))\n",
        "J"
      ]
    },
    {
      "cell_type": "code",
      "execution_count": 91,
      "metadata": {
        "colab": {
          "base_uri": "https://localhost:8080/"
        },
        "id": "P0KBe_FqCKdU",
        "outputId": "e93c3a0c-3e7b-4687-ba99-9c84b8e08004"
      },
      "outputs": [
        {
          "data": {
            "text/plain": [
              "(array([ 3.,  7., 10.]), numpy.ndarray)"
            ]
          },
          "execution_count": 91,
          "metadata": {},
          "output_type": "execute_result"
        }
      ],
      "source": [
        "# Convert tensor J to NumPy with np.array()\n",
        "np.array(J), type(np.array(J))"
      ]
    },
    {
      "cell_type": "code",
      "execution_count": 92,
      "metadata": {
        "colab": {
          "base_uri": "https://localhost:8080/"
        },
        "id": "xxKsJPvSCUPI",
        "outputId": "2f661fba-ebb3-4f22-8591-093943268c03"
      },
      "outputs": [
        {
          "data": {
            "text/plain": [
              "(array([ 3.,  7., 10.]), numpy.ndarray)"
            ]
          },
          "execution_count": 92,
          "metadata": {},
          "output_type": "execute_result"
        }
      ],
      "source": [
        "# Convert tensor J to NumPy with .numpy()\n",
        "J.numpy(), type(J.numpy())"
      ]
    },
    {
      "cell_type": "markdown",
      "metadata": {
        "id": "SL4xHtNWDIT5"
      },
      "source": [
        "By default tensors have `dtype=float32`, where as NumPy arrays have `dtype=float64`.\n",
        "\n",
        "This is because neural networks (which are usually built with TensorFlow) can generally work very well with less precision (32-bit rather than 64-bit)."
      ]
    },
    {
      "cell_type": "code",
      "execution_count": 93,
      "metadata": {
        "colab": {
          "base_uri": "https://localhost:8080/"
        },
        "id": "HrQoUeyPCXU9",
        "outputId": "3b7ae5e1-5fe5-4332-f6c1-09be8f3435f2"
      },
      "outputs": [
        {
          "data": {
            "text/plain": [
              "(tf.float64, tf.float32)"
            ]
          },
          "execution_count": 93,
          "metadata": {},
          "output_type": "execute_result"
        }
      ],
      "source": [
        "# Create a tensor from NumPy and from an array\n",
        "numpy_J = tf.constant(np.array([3., 7., 10.])) # will be float64 (due to NumPy)\n",
        "tensor_J = tf.constant([3., 7., 10.]) # will be float32 (due to being TensorFlow default)\n",
        "numpy_J.dtype, tensor_J.dtype"
      ]
    },
    {
      "cell_type": "markdown",
      "metadata": {
        "id": "_ytLPBWF1wxt"
      },
      "source": [
        "## Using `@tf.function`\n",
        "\n",
        "In your TensorFlow adventures, you might come across Python functions which have the decorator [`@tf.function`](https://www.tensorflow.org/api_docs/python/tf/function).\n",
        "\n",
        "If you aren't sure what Python decorators do, [read RealPython's guide on them](https://realpython.com/primer-on-python-decorators/).\n",
        "\n",
        "But in short, decorators modify a function in one way or another.\n",
        "\n",
        "In the `@tf.function` decorator case, it turns a Python function into a callable TensorFlow graph. Which is a fancy way of saying, if you've written your own Python function, and you decorate it with `@tf.function`, when you export your code (to potentially run on another device), TensorFlow will attempt to convert it into a fast(er) version of itself (by making it part of a computation graph).\n",
        "\n",
        "For more on this, read the [Better performnace with tf.function](https://www.tensorflow.org/guide/function) guide."
      ]
    },
    {
      "cell_type": "code",
      "execution_count": 94,
      "metadata": {
        "colab": {
          "base_uri": "https://localhost:8080/"
        },
        "id": "URzFiwPoFDI7",
        "outputId": "65125afb-ff03-47fa-cd8e-033c0aba5eff"
      },
      "outputs": [
        {
          "data": {
            "text/plain": [
              "<tf.Tensor: shape=(10,), dtype=int32, numpy=array([ 10,  12,  16,  22,  30,  40,  52,  66,  82, 100])>"
            ]
          },
          "execution_count": 94,
          "metadata": {},
          "output_type": "execute_result"
        }
      ],
      "source": [
        "# Create a simple function\n",
        "def function(x, y):\n",
        "  return x ** 2 + y\n",
        "\n",
        "x = tf.constant(np.arange(0, 10))\n",
        "y = tf.constant(np.arange(10, 20))\n",
        "function(x, y)"
      ]
    },
    {
      "cell_type": "code",
      "execution_count": 95,
      "metadata": {
        "colab": {
          "base_uri": "https://localhost:8080/"
        },
        "id": "EHGbvlkXF7Gs",
        "outputId": "1428bb59-5ec5-4bc5-8c72-fb97a7d8a85e"
      },
      "outputs": [
        {
          "data": {
            "text/plain": [
              "<tf.Tensor: shape=(10,), dtype=int32, numpy=array([ 10,  12,  16,  22,  30,  40,  52,  66,  82, 100])>"
            ]
          },
          "execution_count": 95,
          "metadata": {},
          "output_type": "execute_result"
        }
      ],
      "source": [
        "# Create the same function and decorate it with tf.function\n",
        "@tf.function\n",
        "def tf_function(x, y):\n",
        "  return x ** 2 + y\n",
        "\n",
        "tf_function(x, y)"
      ]
    },
    {
      "cell_type": "markdown",
      "metadata": {
        "id": "lsiapEnTGBbH"
      },
      "source": [
        "If you noticed no difference between the above two functions (the decorated one and the non-decorated one) you'd be right.\n",
        "\n",
        "Much of the difference happens behind the scenes. One of the main ones being potential code speed-ups where possible."
      ]
    },
    {
      "cell_type": "markdown",
      "metadata": {
        "id": "y8AQmchkxKDn"
      },
      "source": [
        "## Finding access to GPUs\n",
        "\n",
        "We've mentioned GPUs plenty of times throughout this notebook.\n",
        "\n",
        "So how do you check if you've got one available?\n",
        "\n",
        "You can check if you've got access to a GPU using [`tf.config.list_physical_devices()`](https://www.tensorflow.org/guide/gpu)."
      ]
    },
    {
      "cell_type": "code",
      "execution_count": 96,
      "metadata": {
        "colab": {
          "base_uri": "https://localhost:8080/"
        },
        "id": "3rFNSeODxi3L",
        "outputId": "87f0a071-24c9-492c-e8f9-0be30cc488b9"
      },
      "outputs": [
        {
          "name": "stdout",
          "output_type": "stream",
          "text": [
            "[]\n"
          ]
        }
      ],
      "source": [
        "print(tf.config.list_physical_devices('GPU'))"
      ]
    },
    {
      "cell_type": "markdown",
      "metadata": {
        "id": "8165PtH8xyq5"
      },
      "source": [
        "If the above outputs an empty array (or nothing), it means you don't have access to a GPU (or at least TensorFlow can't find it).\n",
        "\n",
        "If you're running in Google Colab, you can access a GPU by going to *Runtime -> Change Runtime Type -> Select GPU* (**note:** after doing this your notebook will restart and any variables you've saved will be lost).\n",
        "\n",
        "Once you've changed your runtime type, run the cell below."
      ]
    },
    {
      "cell_type": "code",
      "execution_count": 97,
      "metadata": {
        "colab": {
          "base_uri": "https://localhost:8080/"
        },
        "id": "iAvMwRbZyULE",
        "outputId": "76f8d50a-94ca-4f83-ec4c-196826e898df"
      },
      "outputs": [
        {
          "name": "stdout",
          "output_type": "stream",
          "text": [
            "[]\n"
          ]
        }
      ],
      "source": [
        "import tensorflow as tf\n",
        "print(tf.config.list_physical_devices('GPU'))"
      ]
    },
    {
      "cell_type": "markdown",
      "metadata": {
        "id": "J3yu0LKiyZlJ"
      },
      "source": [
        "If you've got access to a GPU, the cell above should output something like:\n",
        "\n",
        "`[PhysicalDevice(name='/physical_device:GPU:0', device_type='GPU')]`\n",
        "\n",
        "You can also find information about your GPU using `!nvidia-smi`."
      ]
    },
    {
      "cell_type": "code",
      "execution_count": 98,
      "metadata": {
        "colab": {
          "base_uri": "https://localhost:8080/"
        },
        "id": "yOuVvG5kyefS",
        "outputId": "121bba78-489f-4804-c861-1952d7c82751"
      },
      "outputs": [
        {
          "name": "stdout",
          "output_type": "stream",
          "text": [
            "Fri Feb  2 14:53:28 2024       \n",
            "+---------------------------------------------------------------------------------------+\n",
            "| NVIDIA-SMI 546.33                 Driver Version: 546.33       CUDA Version: 12.3     |\n",
            "|-----------------------------------------+----------------------+----------------------+\n",
            "| GPU  Name                     TCC/WDDM  | Bus-Id        Disp.A | Volatile Uncorr. ECC |\n",
            "| Fan  Temp   Perf          Pwr:Usage/Cap |         Memory-Usage | GPU-Util  Compute M. |\n",
            "|                                         |                      |               MIG M. |\n",
            "|=========================================+======================+======================|\n",
            "|   0  NVIDIA GeForce RTX 3050 ...  WDDM  | 00000000:01:00.0 Off |                  N/A |\n",
            "| N/A   42C    P0              11W /  60W |      0MiB /  4096MiB |      0%      Default |\n",
            "|                                         |                      |                  N/A |\n",
            "+-----------------------------------------+----------------------+----------------------+\n",
            "                                                                                         \n",
            "+---------------------------------------------------------------------------------------+\n",
            "| Processes:                                                                            |\n",
            "|  GPU   GI   CI        PID   Type   Process name                            GPU Memory |\n",
            "|        ID   ID                                                             Usage      |\n",
            "|=======================================================================================|\n",
            "|  No running processes found                                                           |\n",
            "+---------------------------------------------------------------------------------------+\n"
          ]
        }
      ],
      "source": [
        "!nvidia-smi"
      ]
    },
    {
      "cell_type": "markdown",
      "metadata": {
        "id": "pER7mLFezV9u"
      },
      "source": [
        "> 🔑 **Note:** If you have access to a GPU, TensorFlow will automatically use it whenever possible."
      ]
    },
    {
      "cell_type": "markdown",
      "metadata": {
        "id": "HcCZxK61VIv0"
      },
      "source": [
        "## 🛠 Exercises\n",
        "\n",
        "1. Create a vector, scalar, matrix and tensor with values of your choosing using `tf.constant()`.\n",
        "2. Find the shape, rank and size of the tensors you created in 1.\n",
        "3. Create two tensors containing random values between 0 and 1 with shape `[5, 300]`.\n",
        "4. Multiply the two tensors you created in 3 using matrix multiplication.\n",
        "5. Multiply the two tensors you created in 3 using dot product.\n",
        "6. Create a tensor with random values between 0 and 1 with shape `[224, 224, 3]`.\n",
        "7. Find the min and max values of the tensor you created in 6.\n",
        "8. Created a tensor with random values of shape `[1, 224, 224, 3]` then squeeze it to change the shape to `[224, 224, 3]`.\n",
        "9. Create a tensor with shape `[10]` using your own choice of values, then find the index which has the maximum value.\n",
        "10. One-hot encode the tensor you created in 9."
      ]
    },
    {
      "cell_type": "markdown",
      "metadata": {
        "id": "EgHK5CjY3oVX"
      },
      "source": [
        "## 📖 Extra-curriculum\n",
        "\n",
        "* Read through the [list of TensorFlow Python APIs](https://www.tensorflow.org/api_docs/python/), pick one we haven't gone through in this notebook, reverse engineer it (write out the documentation code for yourself) and figure out what it does.\n",
        "* Try to create a series of tensor functions to calculate your most recent grocery bill (it's okay if you don't use the names of the items, just the price in numerical form).\n",
        "  * How would you calculate your grocery bill for the month and for the year using tensors?\n",
        "* Go through the [TensorFlow 2.x quick start for beginners](https://www.tensorflow.org/tutorials/quickstart/beginner) tutorial (be sure to type out all of the code yourself, even if you don't understand it).\n",
        "  * Are there any functions we used in here that match what's used in there? Which are the same? Which haven't you seen before?\n",
        "* Watch the video [\"What's a tensor?\"](https://www.youtube.com/watch?v=f5liqUk0ZTw) - a great visual introduction to many of the concepts we've covered in this notebook."
      ]
    },
    {
      "cell_type": "markdown",
      "metadata": {},
      "source": [
        "#### 1"
      ]
    },
    {
      "cell_type": "code",
      "execution_count": 100,
      "metadata": {},
      "outputs": [],
      "source": [
        "vector = tf.constant([1, 2, 3])\n",
        "\n",
        "scalar = tf.constant(7)\n",
        "\n",
        "matrix = tf.constant([[1, 2, 3],\n",
        "                        [4, 5, 6]])\n",
        "\n",
        "tensor =  tf.constant([[[1, 2, 3],\n",
        "                        [4, 5, 6]],\n",
        "                        [[7, 8, 9],\n",
        "                        [10, 11, 12]],\n",
        "                        [[13, 14, 15],\n",
        "                        [16, 17, 18]]])"
      ]
    },
    {
      "cell_type": "markdown",
      "metadata": {},
      "source": [
        "#### 2"
      ]
    },
    {
      "cell_type": "code",
      "execution_count": 101,
      "metadata": {},
      "outputs": [
        {
          "name": "stdout",
          "output_type": "stream",
          "text": [
            "1 2 3 0\n"
          ]
        }
      ],
      "source": [
        "print(vector.ndim, matrix.ndim, tensor.ndim, scalar.ndim)"
      ]
    },
    {
      "cell_type": "code",
      "execution_count": 102,
      "metadata": {},
      "outputs": [
        {
          "name": "stdout",
          "output_type": "stream",
          "text": [
            "(3,) (2, 3) (3, 2, 3) ()\n"
          ]
        }
      ],
      "source": [
        "print(vector.shape, matrix.shape, tensor.shape, scalar.shape)"
      ]
    },
    {
      "cell_type": "code",
      "execution_count": 105,
      "metadata": {},
      "outputs": [
        {
          "name": "stdout",
          "output_type": "stream",
          "text": [
            "tf.Tensor(3, shape=(), dtype=int32) tf.Tensor(6, shape=(), dtype=int32) tf.Tensor(18, shape=(), dtype=int32) tf.Tensor(1, shape=(), dtype=int32)\n"
          ]
        }
      ],
      "source": [
        "print(tf.size(vector), tf.size(matrix), tf.size(tensor), tf.size(scalar))"
      ]
    },
    {
      "cell_type": "markdown",
      "metadata": {},
      "source": [
        "#### 3"
      ]
    },
    {
      "cell_type": "code",
      "execution_count": 110,
      "metadata": {},
      "outputs": [
        {
          "name": "stdout",
          "output_type": "stream",
          "text": [
            "tf.Tensor(\n",
            "[[0.7402308  0.33938193 0.5692506  ... 0.08656633 0.19666708 0.7110305 ]\n",
            " [0.13257599 0.81292987 0.01284087 ... 0.02695906 0.2927854  0.06227863]\n",
            " [0.282601   0.47868013 0.77569485 ... 0.28239357 0.632112   0.44452012]\n",
            " [0.02029276 0.7841259  0.16919017 ... 0.26143157 0.43055534 0.47421408]\n",
            " [0.2616079  0.00913954 0.20257103 ... 0.3548187  0.9939178  0.35239196]], shape=(5, 300), dtype=float32) tf.Tensor(\n",
            "[[0.803156   0.49777734 0.37054038 ... 0.42893624 0.49179256 0.39297235]\n",
            " [0.14517438 0.72666824 0.80103934 ... 0.832801   0.649397   0.29312778]\n",
            " [0.4216962  0.6768439  0.5627917  ... 0.56929183 0.90308595 0.31530714]\n",
            " [0.6198498  0.70206463 0.994668   ... 0.03745186 0.23192072 0.23984468]\n",
            " [0.01790595 0.40531397 0.5369972  ... 0.62693167 0.47887897 0.25383985]], shape=(5, 300), dtype=float32)\n"
          ]
        }
      ],
      "source": [
        "A = tf.random.uniform(shape=(5, 300))\n",
        "B = tf.random.uniform(shape=(5, 300))\n",
        "print(A, B)"
      ]
    },
    {
      "cell_type": "markdown",
      "metadata": {},
      "source": [
        "#### 4"
      ]
    },
    {
      "cell_type": "code",
      "execution_count": 116,
      "metadata": {},
      "outputs": [
        {
          "data": {
            "text/plain": [
              "<tf.Tensor: shape=(5, 300), dtype=float32, numpy=\n",
              "array([[0.5945208 , 0.16893664, 0.21093033, ..., 0.03713144, 0.09671941,\n",
              "        0.2794153 ],\n",
              "       [0.01924664, 0.5907303 , 0.01028604, ..., 0.02245153, 0.19013397,\n",
              "        0.0182556 ],\n",
              "       [0.11917176, 0.32399172, 0.43655464, ..., 0.16076435, 0.5708515 ,\n",
              "        0.14016037],\n",
              "       [0.01257846, 0.55050707, 0.16828805, ..., 0.0097911 , 0.09985471,\n",
              "        0.11373772],\n",
              "       [0.00468434, 0.00370438, 0.10878008, ..., 0.22244708, 0.47596633,\n",
              "        0.08945112]], dtype=float32)>"
            ]
          },
          "execution_count": 116,
          "metadata": {},
          "output_type": "execute_result"
        }
      ],
      "source": [
        "A * B"
      ]
    },
    {
      "cell_type": "code",
      "execution_count": 117,
      "metadata": {},
      "outputs": [
        {
          "data": {
            "text/plain": [
              "<tf.Tensor: shape=(5, 300), dtype=float32, numpy=\n",
              "array([[0.5945208 , 0.16893664, 0.21093033, ..., 0.03713144, 0.09671941,\n",
              "        0.2794153 ],\n",
              "       [0.01924664, 0.5907303 , 0.01028604, ..., 0.02245153, 0.19013397,\n",
              "        0.0182556 ],\n",
              "       [0.11917176, 0.32399172, 0.43655464, ..., 0.16076435, 0.5708515 ,\n",
              "        0.14016037],\n",
              "       [0.01257846, 0.55050707, 0.16828805, ..., 0.0097911 , 0.09985471,\n",
              "        0.11373772],\n",
              "       [0.00468434, 0.00370438, 0.10878008, ..., 0.22244708, 0.47596633,\n",
              "        0.08945112]], dtype=float32)>"
            ]
          },
          "execution_count": 117,
          "metadata": {},
          "output_type": "execute_result"
        }
      ],
      "source": [
        "tf.multiply(A, B)"
      ]
    },
    {
      "cell_type": "markdown",
      "metadata": {},
      "source": [
        "#### 5"
      ]
    },
    {
      "cell_type": "code",
      "execution_count": 114,
      "metadata": {},
      "outputs": [
        {
          "data": {
            "text/plain": [
              "<tf.Tensor: shape=(5, 5), dtype=float32, numpy=\n",
              "array([[72.34169 , 73.84332 , 71.9973  , 69.78642 , 68.598114],\n",
              "       [76.2998  , 75.77641 , 71.655014, 72.104355, 75.29941 ],\n",
              "       [72.80916 , 75.74101 , 71.199   , 73.046555, 71.71448 ],\n",
              "       [74.654816, 76.64436 , 73.328476, 72.2124  , 73.30908 ],\n",
              "       [77.44371 , 78.68228 , 71.98375 , 72.70095 , 72.91727 ]],\n",
              "      dtype=float32)>"
            ]
          },
          "execution_count": 114,
          "metadata": {},
          "output_type": "execute_result"
        }
      ],
      "source": [
        "tf.tensordot(A, tf.transpose(B), axes=1)"
      ]
    },
    {
      "cell_type": "code",
      "execution_count": 118,
      "metadata": {},
      "outputs": [
        {
          "data": {
            "text/plain": [
              "<tf.Tensor: shape=(5, 5), dtype=float32, numpy=\n",
              "array([[72.34169 , 73.84332 , 71.9973  , 69.78642 , 68.598114],\n",
              "       [76.2998  , 75.77641 , 71.655014, 72.104355, 75.29941 ],\n",
              "       [72.80916 , 75.74101 , 71.199   , 73.046555, 71.71448 ],\n",
              "       [74.654816, 76.64436 , 73.328476, 72.2124  , 73.30908 ],\n",
              "       [77.44371 , 78.68228 , 71.98375 , 72.70095 , 72.91727 ]],\n",
              "      dtype=float32)>"
            ]
          },
          "execution_count": 118,
          "metadata": {},
          "output_type": "execute_result"
        }
      ],
      "source": [
        "tf.matmul(A, tf.transpose(B))"
      ]
    },
    {
      "cell_type": "markdown",
      "metadata": {},
      "source": [
        "#### 6"
      ]
    },
    {
      "cell_type": "code",
      "execution_count": 119,
      "metadata": {},
      "outputs": [
        {
          "data": {
            "text/plain": [
              "<tf.Tensor: shape=(224, 224, 3), dtype=float32, numpy=\n",
              "array([[[0.95831835, 0.01680839, 0.3156035 ],\n",
              "        [0.16013157, 0.7148702 , 0.7892921 ],\n",
              "        [0.11484027, 0.33310425, 0.21091413],\n",
              "        ...,\n",
              "        [0.6279857 , 0.85051286, 0.9490392 ],\n",
              "        [0.62438786, 0.2802421 , 0.18754554],\n",
              "        [0.9087832 , 0.46846092, 0.5317346 ]],\n",
              "\n",
              "       [[0.85744655, 0.51288927, 0.18603599],\n",
              "        [0.04882693, 0.78045344, 0.79377043],\n",
              "        [0.9356363 , 0.32798207, 0.15949786],\n",
              "        ...,\n",
              "        [0.6933085 , 0.5420611 , 0.1860913 ],\n",
              "        [0.7326596 , 0.9234495 , 0.07200372],\n",
              "        [0.5471792 , 0.24985266, 0.14673471]],\n",
              "\n",
              "       [[0.5033684 , 0.7000841 , 0.21468806],\n",
              "        [0.9304948 , 0.17212296, 0.720364  ],\n",
              "        [0.6657183 , 0.17304075, 0.7110392 ],\n",
              "        ...,\n",
              "        [0.35423398, 0.126225  , 0.24436975],\n",
              "        [0.096439  , 0.06387579, 0.32836854],\n",
              "        [0.15067935, 0.6084572 , 0.47766674]],\n",
              "\n",
              "       ...,\n",
              "\n",
              "       [[0.23573959, 0.42224514, 0.9151635 ],\n",
              "        [0.38158715, 0.32973826, 0.5171102 ],\n",
              "        [0.06080973, 0.31411576, 0.22626662],\n",
              "        ...,\n",
              "        [0.5705669 , 0.4921385 , 0.09957004],\n",
              "        [0.7411188 , 0.02490544, 0.6451397 ],\n",
              "        [0.87311184, 0.7771938 , 0.7208451 ]],\n",
              "\n",
              "       [[0.9943476 , 0.7494216 , 0.04249358],\n",
              "        [0.0224061 , 0.5791631 , 0.7543137 ],\n",
              "        [0.84515274, 0.6103951 , 0.5505407 ],\n",
              "        ...,\n",
              "        [0.1359564 , 0.47180867, 0.4215784 ],\n",
              "        [0.1299932 , 0.5381433 , 0.71466696],\n",
              "        [0.15192771, 0.8817011 , 0.2109077 ]],\n",
              "\n",
              "       [[0.603493  , 0.16534615, 0.6985712 ],\n",
              "        [0.15773225, 0.8743893 , 0.58997643],\n",
              "        [0.80147445, 0.37448967, 0.8073541 ],\n",
              "        ...,\n",
              "        [0.65353775, 0.7825564 , 0.45476055],\n",
              "        [0.45565426, 0.39367366, 0.925439  ],\n",
              "        [0.05451977, 0.5806842 , 0.01799083]]], dtype=float32)>"
            ]
          },
          "execution_count": 119,
          "metadata": {},
          "output_type": "execute_result"
        }
      ],
      "source": [
        "tf.random.uniform([224, 224, 3])"
      ]
    },
    {
      "cell_type": "markdown",
      "metadata": {},
      "source": [
        "#### 7"
      ]
    },
    {
      "cell_type": "code",
      "execution_count": 122,
      "metadata": {},
      "outputs": [
        {
          "name": "stdout",
          "output_type": "stream",
          "text": [
            "tf.Tensor(0.0006545782, shape=(), dtype=float32) tf.Tensor(0.99864674, shape=(), dtype=float32)\n"
          ]
        }
      ],
      "source": [
        "mins = tf.math.reduce_min(A)\n",
        "maxs = tf.math.reduce_max(A)\n",
        "print(mins, maxs)"
      ]
    },
    {
      "cell_type": "markdown",
      "metadata": {},
      "source": [
        "#### 8 "
      ]
    },
    {
      "cell_type": "code",
      "execution_count": 123,
      "metadata": {},
      "outputs": [],
      "source": [
        "test_dim = tf.random.uniform(shape=(1, 224, 224, 3))"
      ]
    },
    {
      "cell_type": "code",
      "execution_count": 124,
      "metadata": {},
      "outputs": [
        {
          "name": "stdout",
          "output_type": "stream",
          "text": [
            "(224, 224, 3)\n"
          ]
        }
      ],
      "source": [
        "print(tf.squeeze(test_dim).shape)"
      ]
    },
    {
      "cell_type": "markdown",
      "metadata": {},
      "source": [
        "#### 9"
      ]
    },
    {
      "cell_type": "code",
      "execution_count": 132,
      "metadata": {},
      "outputs": [
        {
          "name": "stdout",
          "output_type": "stream",
          "text": [
            "tf.Tensor(6, shape=(), dtype=int64)\n"
          ]
        }
      ],
      "source": [
        "data = tf.random.uniform([10])\n",
        "\n",
        "print(tf.argmax(data))"
      ]
    },
    {
      "cell_type": "markdown",
      "metadata": {},
      "source": [
        "#### 10"
      ]
    },
    {
      "cell_type": "code",
      "execution_count": 134,
      "metadata": {},
      "outputs": [
        {
          "name": "stdout",
          "output_type": "stream",
          "text": [
            "tf.Tensor([0. 0. 0. 0. 0. 0. 1. 0. 0. 0.], shape=(10,), dtype=float32)\n"
          ]
        }
      ],
      "source": [
        "tf.cast(data, dtype=tf.int32)\n",
        "\n",
        "print(tf.one_hot(indices=tf.argmax(data), depth=10))"
      ]
    }
  ],
  "metadata": {
    "accelerator": "GPU",
    "colab": {
      "authorship_tag": "ABX9TyPtjTIh2BnxrHodM1T0I1I2",
      "collapsed_sections": [
        "fzjcZ4FHCOb5"
      ],
      "include_colab_link": true,
      "provenance": []
    },
    "gpuClass": "premium",
    "kernelspec": {
      "display_name": "Python 3",
      "name": "python3"
    },
    "language_info": {
      "codemirror_mode": {
        "name": "ipython",
        "version": 3
      },
      "file_extension": ".py",
      "mimetype": "text/x-python",
      "name": "python",
      "nbconvert_exporter": "python",
      "pygments_lexer": "ipython3",
      "version": "3.11.6"
    }
  },
  "nbformat": 4,
  "nbformat_minor": 0
}
