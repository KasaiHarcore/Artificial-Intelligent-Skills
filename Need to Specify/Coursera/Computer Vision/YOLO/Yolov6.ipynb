{
 "cells": [
  {
   "cell_type": "markdown",
   "metadata": {},
   "source": [
    "# YOLOv6\n",
    "\n",
    "Một cải tiến nhẹ so với phiên bản tiền nhiêm là kiến trúc CNN được sử dụng. Nó sử dụng một biến thể của kiến trúc EfficientNet có tên là EfficientNet-L2, ít tham số hơn và hiệu quả tính toán cao hơn"
   ]
  },
  {
   "cell_type": "markdown",
   "metadata": {},
   "source": [
    "Ngoài ra cũng giới thiệu thêm phương pháp mới để tạo Anchor box, có tên là \"Dense Anchors\". Điều này giúp tăng cường khả năng phát hiện các vật thể nhỏ và gần nhau"
   ]
  }
 ],
 "metadata": {
  "language_info": {
   "name": "python"
  }
 },
 "nbformat": 4,
 "nbformat_minor": 2
}
