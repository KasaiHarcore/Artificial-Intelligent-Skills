{
 "cells": [
  {
   "cell_type": "markdown",
   "metadata": {},
   "source": [
    "Không có quá nhiều khác biệt so với YOLOv5, chỉ nhiều tham số hơn, với độ chính xác cao hơn. Khả năng phân tích ảnh chất lượng cao"
   ]
  }
 ],
 "metadata": {
  "language_info": {
   "name": "python"
  }
 },
 "nbformat": 4,
 "nbformat_minor": 2
}
