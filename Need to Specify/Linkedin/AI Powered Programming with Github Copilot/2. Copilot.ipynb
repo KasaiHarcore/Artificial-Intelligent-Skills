{
 "cells": [
  {
   "cell_type": "markdown",
   "metadata": {},
   "source": [
    "# Làm quen với Copilot\n",
    "- Copilot là một công cụ hỗ trợ viết code của Github, được xây dựng trên công nghệ AI.\n",
    "- Copilot sẽ đề xuất cả một dòng hoặc một khối code dựa trên những gì bạn đã viết, hỗ trợ lập trình một các nhanh chóng và hiệu quả."
   ]
  },
  {
   "cell_type": "markdown",
   "metadata": {},
   "source": [
    "# Unpacking Github Copilot\n",
    "- Sử dụng thuật toán machine learning để đề xuất code dựa vào bối cảnh code hiện tại, bao gồm cả comments và code trong cùng một workspace\n",
    "- Copilot không chỉ đưa ra đề xuất những gì mô hình đã học, mà nó còn tạo ra những đoạn code mới và hiểu rõ về cách hoạt động của chúng\n",
    "- Cung cấp nhiều đề xuất cho nhiều ngôn ngữ lập trình và frameworks\n",
    "- Hoạt động tốt trên:\n",
    "    - Python (Best)\n",
    "    - JavaScript\n",
    "    - TypeScript\n",
    "    - Ruby\n",
    "    - Go\n",
    "    - C++\n",
    "    - C#\n",
    "- Có thể sử dụng trên VS Code, Atom, JetBrains IDEs, Neovim, Visual Studio"
   ]
  },
  {
   "cell_type": "markdown",
   "metadata": {},
   "source": [
    "# Highlight các tính năng chính và lợi ích khi sử dụng Copilot"
   ]
  },
  {
   "cell_type": "markdown",
   "metadata": {},
   "source": [
    "- Contexual code suggestions\n",
    "    - Tăng tốc độ viết code\n",
    "- Multi-language code suggestions\n",
    "    - Đề xuất code cho nhiều ngôn ngữ\n",
    "- Function autocomplete\n",
    "    - Đề xuất code cho các hàm, giảm lỗi\n",
    "- Một cách để học ngôn ngữ lập trình mới\n",
    "\n",
    "Nhưng:\n",
    "- Đề xuất của Github Copilot không luôn luôn đúng\n",
    "    - Cần kiểm tra kỹ lưỡng trước khi sử dụng\n",
    "- Developers nên cân nhắc kĩ về vấn đề code license\n",
    "    - Copilot sử dụng code từ nhiều nguồn khác nhau, có thể vi phạm bản quyền"
   ]
  },
  {
   "cell_type": "markdown",
   "metadata": {},
   "source": [
    "### Github Copilot X\n",
    "- Được hỗ trợ bởi Github Next dev team\n",
    "- Có bao gồm Copilot Chat, Copilot Docs, Copilot for PRs, Copilot for CLI"
   ]
  }
 ],
 "metadata": {
  "language_info": {
   "name": "python"
  }
 },
 "nbformat": 4,
 "nbformat_minor": 2
}
