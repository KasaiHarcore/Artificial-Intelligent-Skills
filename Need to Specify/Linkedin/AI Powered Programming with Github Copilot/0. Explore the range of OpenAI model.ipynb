{
 "cells": [
  {
   "cell_type": "markdown",
   "metadata": {},
   "source": [
    "# GPT\n",
    "- Tên đầy đủ là Generative Pre-trained Transformer\n",
    "- Là một mô hình ngôn ngữ lớn (LLM)\n",
    "- Có khả năng tọa ra văn bản ngôn ngữ giống như con người\n",
    "- Ra mắt vào năm 2018\n",
    "- Có thể được sử dụng cho nhiều nhiệm vụ khác nhau như tạo văn bản, dịch ngôn ngữ, tóm tắt văn bản, hỏi đáp, v.v."
   ]
  },
  {
   "cell_type": "markdown",
   "metadata": {},
   "source": [
    "# ChatGPT\n",
    "- Là một phiên bản của GPT được tinh chỉnh để tạo ra các cuộc trò chuyện tự nhiên\n",
    "- Có khả năng nhận thức được bối cảnh và tạo ra câu trả lời phù hợp\n",
    "- Dễ dàng tiếp cận, trao đổi thông tin và giải quyết vấn đề"
   ]
  },
  {
   "cell_type": "markdown",
   "metadata": {},
   "source": [
    "# Microsoft Bing\n",
    "- Tích hợp vào công cụ tìm kiếm Microsoft Edge Browser\n",
    "- Được hỗ trợ bởi GPT-4\n",
    "- Tuân thủ nghiêm ngặt các nguyên tắc của Microsoft Response AI\n",
    "    - Cung cấp các thông tin chính xác liên quan tới reply"
   ]
  },
  {
   "cell_type": "markdown",
   "metadata": {},
   "source": [
    "# Github Copilot\n",
    "- Là một mô hình dựa trên GPT đặc biệt được tinh chỉnh để hỗ trợ tạo ra code\n",
    "- Có khả năng tự động hoàn thiện code, đề xuất code và tạo ra code mới\n",
    "- Huấn luyện trên dữ liệu open-source từ Github\n",
    "- Chủ yếu tập chung vào ngôn ngữ Python (có thể hỗ trợ một số ngôn ngữ khác)"
   ]
  },
  {
   "cell_type": "markdown",
   "metadata": {},
   "source": [
    "# DALL-E\n",
    "- Sự kết hợp giữa Dali và WALL-E (Cartoon model)\n",
    "- Là một mô hình sinh ảnh mới, có tương quan với Codex\n",
    "- Tạo ra hình ảnh từ text\n",
    "- Credit-based economy: mỗi lần tạo ra hình ảnh sẽ tốn một lượng credit\n",
    "- 115 generation per 15$"
   ]
  },
  {
   "cell_type": "markdown",
   "metadata": {},
   "source": [
    "# Azure OpenAI Service\n",
    "- Microsoft Azure-based product cho phép sử dụng các mô hình AI của OpenAI thông qua REST API\n",
    "    - Python SDK\n",
    "    - Azure OpenAI Studio web console\n",
    "- Bảo vệ quyền truy cập với Private Link\n",
    "- Fine-tune mô hình trên dữ liệu local"
   ]
  }
 ],
 "metadata": {
  "language_info": {
   "name": "python"
  }
 },
 "nbformat": 4,
 "nbformat_minor": 2
}
