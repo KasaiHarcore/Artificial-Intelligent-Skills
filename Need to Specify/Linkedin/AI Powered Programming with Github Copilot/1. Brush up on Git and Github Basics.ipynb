{
 "cells": [
  {
   "cell_type": "markdown",
   "metadata": {},
   "source": [
    "# Introduction to Git\n",
    "- Git được chấp nhận rộng rãi trong lĩnh vực phát triển phần mềm và khiến nó trử thành một kỹ năng quan trọng\n",
    "    - IT Operations professionals\n",
    "- Github Copilot được kèm theo với IDE, được tích hợp với Git\n",
    "- Copilot có thể hỗ trợ tạo ra lệnh Git\n",
    "- Copilot trải dài trên toàn bộ hệ sinh thái của Github\n",
    "- Git là một phần mềm hệ thống quản lý ứng dụng miễn phí, open-source, cross-platform cho phép nhiều người hoạt động và làm việc trên cùng một project mà không gây ra xung đột\n",
    "- Github cho phép thay đổi history, rollback\n",
    "- Git được tạo bởi Linus Torvald  vào năm 2005 để quản lý Linux kernel's source code"
   ]
  },
  {
   "cell_type": "markdown",
   "metadata": {},
   "source": [
    "# Basic Git commands and workflow"
   ]
  },
  {
   "cell_type": "markdown",
   "metadata": {},
   "source": [
    "- git init: khởi tạo một repository mới\n",
    "- git checkout: chuyển đổi giữa các branch\n",
    "- git status: kiểm tra trạng thái của repository\n",
    "- git add: thêm file vào staging area (chuẩn bị commit)\n",
    "- git commit: commit thay đổi vào repository (SHA-1 hash)\n",
    "- git remote: quản lý remote repository\n",
    "- git push: đẩy thay đổi lên remote repository\n",
    "- git log: xem lịch sử commit\n",
    "- git pull: kéo thay đổi từ remote repository\n",
    "- git clone: sao chép một repository từ remote repository"
   ]
  }
 ],
 "metadata": {
  "language_info": {
   "name": "python"
  }
 },
 "nbformat": 4,
 "nbformat_minor": 2
}
