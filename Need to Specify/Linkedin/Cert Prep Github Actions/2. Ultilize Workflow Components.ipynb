{
 "cells": [
  {
   "cell_type": "markdown",
   "metadata": {},
   "source": [
    "## Workflow jobs\n",
    "- Mục đích:\n",
    "    - xác định các đơn vị công việc thực hiện nhiệm vụ cụ thể trong workflow\n",
    "- Yếu tố:\n",
    "    - jobs: Keyword cho công việc cụ thể\n",
    "    - job_name: Tên công việc\n",
    "    - runs-on: Hệ điều hành của máy chủ chạy công việc (ubuntu-latest, windows-latest, macos-latest)\n",
    "    - steps: Danh sách các bước thực hiện công việc"
   ]
  },
  {
   "cell_type": "markdown",
   "metadata": {},
   "source": [
    "Sample:\n",
    "- Workflow\n",
    "    - Job\n",
    "        - Step\n",
    "            - Action"
   ]
  },
  {
   "cell_type": "markdown",
   "metadata": {},
   "source": [
    "VD:\n",
    "```yaml\n",
    "name: Example workflow\n",
    "on:\n",
    "    push:\n",
    "        branches:\n",
    "            - main\n",
    "job:\n",
    "    example-job: # Job name\n",
    "        runs-on: ubuntu-latest # Target OS\n",
    "        steps: # List of steps\n",
    "            - name: Check code\n",
    "              run: actions/checkout@v2\n",
    "\n",
    "            - name: Execute a command\n",
    "              run: echo \"Hello, world!\"\n",
    "```"
   ]
  },
  {
   "cell_type": "markdown",
   "metadata": {},
   "source": [
    "## Sử dụng job steps cho actions và shell commands"
   ]
  },
  {
   "cell_type": "markdown",
   "metadata": {},
   "source": [
    "- Mục đích:\n",
    "    - Xác định nhiệm vụ riêng lẻ sẽ được thực hiện trong job"
   ]
  },
  {
   "cell_type": "markdown",
   "metadata": {},
   "source": [
    "- Yếu tố:\n",
    "    - steps: Danh sách các bước thực hiện công việc\n",
    "    - uses: (Optional) Sử dụng pre-built action từ Github Actions Marketplace\n",
    "    - action_name: Tên action\n",
    "    - version: (Optional) Phiên bản của action\n",
    "    - with: (Optional) Thông tin cấu hình cho action\n",
    "    - name: (Optional) Tên bước thực hiện\n",
    "    - run: Command shell sẽ thực thi"
   ]
  },
  {
   "cell_type": "markdown",
   "metadata": {},
   "source": [
    "VD:\n",
    "```yaml\n",
    "name: Example Workflow for Job Steps\n",
    "on:\n",
    "    push:\n",
    "        branches:\n",
    "            - main\n",
    "jobs:\n",
    "    example-job:\n",
    "        runs-on: ubuntu-latest\n",
    "        steps:\n",
    "            - name: Check Repository # name\n",
    "              uses: actions/checkout@v2 # uses\n",
    "\n",
    "            - name: Set up Node.js # name\n",
    "              uses: actions/setup-node@v2 # action_name\n",
    "              with: # with: Giá trị đưa vào cho action\n",
    "                node-version: '14'\n",
    "\n",
    "            - name: Install Dependence # name\n",
    "              run: npm install # run\n",
    "\n",
    "            - name: Run Test # name\n",
    "              run: npm test # command_to_execute: Shell command\n",
    "```"
   ]
  },
  {
   "cell_type": "markdown",
   "metadata": {},
   "source": [
    "## Sử dụng conditional keywords cho steps\n",
    "\n",
    "- Mục đích: Kiểm soát các bước thực thi trong job dựa trên điều kiện cụ thể\n",
    "- Keywords:\n",
    "    - if: Điều kiện thực thi nếu đúng\n",
    "    - else: Điều kiện thực thi nếu sai\n",
    "    - needs: Danh sách các công việc cần chạy trước khi công việc hiện tại chạy"
   ]
  },
  {
   "cell_type": "markdown",
   "metadata": {},
   "source": [
    "VD:\n",
    "```yaml\n",
    "jobs:\n",
    "    initial_job:\n",
    "        runs-on: ubuntu-latest\n",
    "        steps:\n",
    "        - name: Check out code\n",
    "          uses: actions/checkout@v2\n",
    "        - name: Run a command\n",
    "          run: echo \"Hello, world!\"\n",
    "    conditional_job:\n",
    "        runs-on: ubuntu-latest\n",
    "        needs: initial_job\n",
    "        steps:\n",
    "        - name: Execute on specific condition\n",
    "          run: echo \"This step runs because the condition is true.\"\n",
    "          if: github.ref == 'refs/heads/main' # Conditional keyword\n",
    "\n",
    "        - name: Alternative step for false condition\n",
    "          run: echo \"This step would run if the above condition is false.\"\n",
    "          if: github.ref != 'refs/heads/main' # Conditional keyword\n",
    "```"
   ]
  },
  {
   "cell_type": "markdown",
   "metadata": {},
   "source": [
    "## Mô tả cách actions, workflows, job, step, runs và marketplace hoạt động với nhau"
   ]
  },
  {
   "cell_type": "markdown",
   "metadata": {},
   "source": [
    "- Workflow: Một tập hợp các công việc và các bước thực hiện công việc\n",
    "- Job: Một đơn vị công việc cụ thể trong workflow, mỗi job có một step riêng\n",
    "- Step: Nhiệm vụ đơn lẻ trong một job, được kích hoạt bởi một action hoặc command shell\n",
    "- Actions: Pre-built script cung cấp các công cụ và chức năng cụ thể, có thể được sử dụng trong các bước thực hiện công việc (Marketplace)\n",
    "- Shell commands: Script shell thực thi các lệnh cụ thể\n",
    "- Runs: Một kích hoạt của một workflow, bao gồm các công việc và bước thực hiện công việc trigger bởi sự kiện cụ thể\n",
    "- Marketplace: Nơi lưu trữ các actions sẵn có để sử dụng trong workflows"
   ]
  },
  {
   "cell_type": "markdown",
   "metadata": {},
   "source": [
    "## Xác định kịch bản phù hợp khi sử dụng Github-hosted và self-hosted runners"
   ]
  },
  {
   "cell_type": "markdown",
   "metadata": {},
   "source": [
    "- Github-hosted runners: Máy chủ được quản lý bởi Github, cung cấp môi trường chạy công việc, không cần phải quản lý máy chủ riêng\n",
    "    - Free to use\n",
    "    - Giới hạn tài nguyên\n",
    "    - Pre-configured với nhiều ứng dụng\n",
    "    - Phù hợp với workfloww đơn giản và các dự án open-source\n",
    "- Self-hosted runners: Máy chủ do người dùng tự quản lý, cung cấp môi trường chạy công việc, cần phải quản lý máy chủ riêng\n",
    "    - Nhiều quyền điều khiển và tùy chỉnh\n",
    "    - Có thể sử dụng để chạy workflow cho một cấu hình hoặc ứng dụng cụ thể\n",
    "    - Cần phải quản lý và duy trì máy chủ"
   ]
  },
  {
   "cell_type": "markdown",
   "metadata": {},
   "source": [
    "## Triển khai workflow dưới dạng runs step"
   ]
  },
  {
   "cell_type": "markdown",
   "metadata": {},
   "source": [
    "- Mục đích:\n",
    "    - Tương tác với runner trong khi thực thi workflow\n",
    "- Commands:\n",
    "    - set-output: Lưu trữ giá trị đầu ra từ một step để sử dụng trong các bước khác\n",
    "    - upload-artifact: Tải lên một tệp hoặc thư mục nhất định để sử dụng trong các bước khác hoặc trong các công việc khác\n",
    "    - download-artifact: Tải xuống một tệp hoặc thư mục đã được tải lên trước đó\n",
    "    - echo: In ra màn hình console"
   ]
  },
  {
   "cell_type": "markdown",
   "metadata": {},
   "source": [
    "VD:\n",
    "```yaml\n",
    "steps:\n",
    "    - name: Set an output variable\n",
    "      run: echo \"My output is: $MY_VARIABLE\"\n",
    "    - name: Upload artifact\n",
    "      uses: actions/upload-artifact@v2\n",
    "      with:\n",
    "        name: my-artifact\n",
    "        path: path/to/artifact\n",
    "    - name: Download artifact\n",
    "      uses: actions/download-artifact@v2\n",
    "      with:\n",
    "        name: my-artifact\n",
    "        path: path/to/download\n",
    "```"
   ]
  },
  {
   "cell_type": "markdown",
   "metadata": {},
   "source": [
    "## Mô tả việc sử dụng các dependent jobs trong workflow"
   ]
  },
  {
   "cell_type": "markdown",
   "metadata": {},
   "source": [
    "- Mục đích:\n",
    "    - Đảm bảo rằng các nhiệm vụ cụ thể được thực hiện bởi các yêu cầu tương ứng\n",
    "- Lợi ích:\n",
    "    - Cải thiện workflow control và execution flow\n",
    "    - Phòng tránh lỗi hoặc sự không nhất quán bằng cách đảm bảo rằng các công việc cần thiết được thực hiện trước khi công việc khác bắt đầu"
   ]
  },
  {
   "cell_type": "markdown",
   "metadata": {},
   "source": [
    "VD:\n",
    "```yaml\n",
    "jobs:\n",
    "    build:\n",
    "        runs-on: ubuntu-latest\n",
    "        steps:\n",
    "        - name: Check out code\n",
    "          uses: actions/checkout@v2\n",
    "        - name: Build the project\n",
    "          run: make build\n",
    "          with:\n",
    "            name: build\n",
    "            path: ./build\n",
    "\n",
    "    deploy:\n",
    "        needs: build # Dependent job\n",
    "        runs-on: ubuntu-latest\n",
    "        steps:\n",
    "            - uses: actions/checkout@v2\n",
    "              with:\n",
    "                name: build\n",
    "                path: ./build\n",
    "            - run: make deploy\n",
    "```"
   ]
  },
  {
   "cell_type": "markdown",
   "metadata": {},
   "source": []
  }
 ],
 "metadata": {
  "language_info": {
   "name": "python"
  }
 },
 "nbformat": 4,
 "nbformat_minor": 2
}
