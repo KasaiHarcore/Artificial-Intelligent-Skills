{
 "cells": [
  {
   "cell_type": "markdown",
   "metadata": {},
   "source": [
    "## Sự quan trọng của an toàn dữ liệu\n",
    "\n",
    "- Bảo vệ các thông tin nhạy cảm như mật khẩu, token, API, ...\n",
    "- Data breaches có thể gây ra thiệt hại lớn cho doanh nghiệp"
   ]
  },
  {
   "cell_type": "markdown",
   "metadata": {},
   "source": [
    "## Sử dụng encrypted secrets\n",
    "- Định nghĩa: Bảo vệ kho lưu trữ cho các dữ liệu nhạy cảm\n",
    "- Usage: Chỉ được truy cập bởi workflow trong cùng một repo\n",
    "- Setup: Github.com -> Settings -> Secrets -> New repository secret\n",
    "\n",
    "VD:\n",
    "```yaml\n",
    "name: My workflow\n",
    "\n",
    "on: push\n",
    "\n",
    "jobs:\n",
    "    build:\n",
    "        runs-on: ubuntu-latest\n",
    "        steps:\n",
    "            - uses: action/checkout@v2\n",
    "            - name: Install dependencies\n",
    "              run: npm install\n",
    "            - name: Build the code\n",
    "              run: npm run build\n",
    "            - name: Deploy the code\n",
    "              run: |\n",
    "                # Use the value of the encrypted SECRET_KEY\n",
    "                ./deploy.sh ${{ secrets.SECRET_KEY }} # Github actions expression syntax"
   ]
  },
  {
   "cell_type": "markdown",
   "metadata": {},
   "source": [
    "## Default environment variables\n",
    "- Định nghĩa: Pre-set variable như GTIHUB_REPOSITORY, GITHUB_SHA, GITHUB_REF, ... (meta data của workflow)\n",
    "- Mục đích: Dễ dàng sử dụng thông tin của repo mà không cần định nghĩa lại\n",
    "- Usage: Sử dụng trong workflow file"
   ]
  },
  {
   "cell_type": "markdown",
   "metadata": {},
   "source": [
    "## Setup custom environment variables\n",
    "- Định nghĩa: User-defined variable cụ thể cho workflow\n",
    "- Setting: Sử dụng env key trong workflow file\n",
    "\n",
    "VD:\n",
    "```yaml\n",
    "env:\n",
    "    MY_VARIABLE: \"Value\""
   ]
  },
  {
   "cell_type": "markdown",
   "metadata": {},
   "source": [
    "## Xác định khi nào thì sử dụng GITHUB_TOKEN secret"
   ]
  },
  {
   "cell_type": "markdown",
   "metadata": {},
   "source": [
    "- Định nghĩa: Là một token được tự động tạo ra cho mỗi repo, dùng để xác thực\n",
    "- Mục đích: Để thực hiện các thao tác như push code, create PR, ...\n",
    "- Usage: Được cung cấp cho mỗi lần chạy, không cần cài đặt thủ công"
   ]
  },
  {
   "cell_type": "markdown",
   "metadata": {},
   "source": [
    "VD:\n",
    "```yaml\n",
    "name: My workflow\n",
    "on: push\n",
    "jobs:\n",
    "    build:\n",
    "        runs-on: ubuntu-latest\n",
    "        steps:\n",
    "            - uses: actions/checkout@v2\n",
    "            - name: Download artifacts\n",
    "              uses: actions/download-artifact@v2\n",
    "              with:\n",
    "                name: my-artifact\n",
    "                path: path/to/artifact\n",
    "            - name: Run tests\n",
    "              run: |\n",
    "                # Use the GITHUB_TOKEN secret to access the private repository\n",
    "                curl -H \"Authorization: Bearer ${{ secrets.GITHUB_TOKEN }}\" https://api.github.com/repos/...\n",
    "            \n",
    "            - name: Upload artifacts\n",
    "              uses: actions/upload-artifact@v2\n",
    "              with:\n",
    "                name: my-artifact\n",
    "                path: path/to/test_results"
   ]
  },
  {
   "cell_type": "markdown",
   "metadata": {},
   "source": [
    "## Workflow commands và environment variables\n",
    "\n",
    "- Định nghĩa: Các lệnh để set env variables, gọi các action, ...\n",
    "- Example:\n",
    "    - echo \"VAR_NAME = value\" >> $GITHUB_ENV\n",
    "- Lợi ích:\n",
    "    - Linh hoạt trong việc sử dụng biến môi trường dựa trên điều kiện của thời gian chạy"
   ]
  }
 ],
 "metadata": {
  "language_info": {
   "name": "python"
  }
 },
 "nbformat": 4,
 "nbformat_minor": 2
}
