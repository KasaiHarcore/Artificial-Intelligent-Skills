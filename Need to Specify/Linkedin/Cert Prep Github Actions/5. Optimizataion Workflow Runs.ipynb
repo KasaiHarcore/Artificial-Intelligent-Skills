{
 "cells": [
  {
   "cell_type": "markdown",
   "metadata": {},
   "source": [
    "# Ý tưởng chính\n",
    "- Tránh việc liên tục tải dữ liệu độc lập mỗi lần chạy jobs, ta sẽ tải toàn bộ dữ liệu cần thiết một lần duy nhất\n",
    "- Đưa ra đường dẫn hoặc thư mục cụ thể của Cache giúp tăng tốc độ xử lý\n",
    "- Sử dụng multi-level cache cho nested dependency\n",
    "- Đặt cache expiration dựa trên thay đổi file hoặc workflow tags"
   ]
  },
  {
   "cell_type": "markdown",
   "metadata": {},
   "source": [
    "VD:\n",
    "```yaml\n",
    "jobs:\n",
    "    build:\n",
    "        runs-on: ubuntu-latest\n",
    "        steps:\n",
    "            - uses: actions/checkout@v2\n",
    "\n",
    "            - name: Cache Node.js modules\n",
    "              uses: actions/cache@v2\n",
    "              with:\n",
    "                path: node_modules\n",
    "                key: ${{ runner.os }}-node-${{ hashFiles('**/package-lock.json') }}\n",
    "                restore-keys: |\n",
    "                  ${{ runner.os }}-node-\n",
    "```"
   ]
  },
  {
   "cell_type": "markdown",
   "metadata": {},
   "source": [
    "# Xác định các bước để đưa data giữa các jobs trong workflow"
   ]
  },
  {
   "cell_type": "markdown",
   "metadata": {},
   "source": [
    "- Chia sẻ thông tin và artifacts giữa các jobs cải thiện tốc độ xử lý và giảm thời gian chạy workflow\n",
    "- Định nghĩa output từ các bước riêng lẻ và pass dữ liệu\n",
    "- Tận dụng các giá trị của environment cho secrets và configuration\n",
    "- Quản lý tài nguyên sử dụng với job concurrency limits"
   ]
  },
  {
   "cell_type": "markdown",
   "metadata": {},
   "source": [
    "VD:\n",
    "```yaml\n",
    "jobs:\n",
    "    build:\n",
    "        runs-on: ubuntu-lastest\n",
    "        steps:\n",
    "            - ... build steps ...\n",
    "            - name: Upload build artifacts\n",
    "              uses: actions/upload-artifact@v2\n",
    "              with:\n",
    "                name: application\n",
    "                path: build/app.zip\n",
    "        \n",
    "    test:\n",
    "        runs-on: ubuntu-lastest\n",
    "        needs: build\n",
    "        steps:\n",
    "            - name: Download build artifacts\n",
    "              uses: actions/download-artifact@v2\n",
    "              with:\n",
    "                name: application\n",
    "            - name: Run tests\n",
    "              ... test steps using the downloaded application ...\n",
    "``` "
   ]
  },
  {
   "cell_type": "markdown",
   "metadata": {},
   "source": [
    "# Loại bỏ workflow artifacts không cần thiết từ GitHub"
   ]
  },
  {
   "cell_type": "markdown",
   "metadata": {},
   "source": [
    "- Tự động loại bỏ các artifacts outdated hoặc không cần thiết\n",
    "    - 90/30 ngày sau khi tạo public/private repo\n",
    "- Tích hợp các cleanup actions với workflow triggers\n",
    "- Sử dụng các chính sách lưu trữ (retention policies) khác nhau cho artifacts\n",
    "- Tận dụng Github's built-in artifact management để quản lý chúng"
   ]
  },
  {
   "cell_type": "markdown",
   "metadata": {},
   "source": [
    "VD:\n",
    "```yaml\n",
    "jobs:\n",
    "    cleanup:\n",
    "        runs-on: ubuntu-latest\n",
    "        steps:\n",
    "            - uses: actions/stale@v1\n",
    "              with:\n",
    "                days: 7\n",
    "                repository: ${{ github.repository }}\n",
    "                token: ${{ secrets.GITHUB_TOKEN }}\n",
    "```"
   ]
  },
  {
   "cell_type": "markdown",
   "metadata": {},
   "source": [
    "# Thêm workflow status badges"
   ]
  },
  {
   "cell_type": "markdown",
   "metadata": {},
   "source": [
    "- Hiển thị trạng thái của workflow trên README hoặc trang web\n",
    "- Tùy chỉnh badge để hiển thị trạng thái của workflow với màu hoặc icon\n",
    "- Tích hợp badge vào dashboard hoặc trang docs của dự án\n",
    "- Dynamic badge cho các trạng thái khác nhau của workflow, phù hợp với real-time status\n",
    "\n",
    "VD:\n",
    "``` bash\n",
    "[![Build Status](https://img.shields.io/github/workflow/status/your-username/your-repo/build/master)](https://github.com/your-username/your-repo/actions)\n",
    "```"
   ]
  },
  {
   "cell_type": "markdown",
   "metadata": {},
   "source": [
    "# Thêm lớp bảo vệ cho environment"
   ]
  },
  {
   "cell_type": "markdown",
   "metadata": {},
   "source": [
    "- Bảo vệ và kiểm soát quyền truy cập vào dữ liệu và tài nguyên\n",
    "- Thực hiện đặc quyền tối thiểu cho các biến secret và environment\n",
    "- Sử dụng masking để xáo trộn dữ liệu trong logs\n",
    "- Tích hợp các công cụ bảo mật bên thứ 3 để kiểm tra và giám sát"
   ]
  },
  {
   "cell_type": "markdown",
   "metadata": {},
   "source": [
    "VD:\n",
    "```yaml\n",
    "env:\n",
    "    API_KEY: ${{ secrets.API_KEY }}\n",
    "\n",
    "jobs:\n",
    "    update-api-key:\n",
    "        runs-on: ubuntu-latest\n",
    "        steps:\n",
    "            - name: Change API Key\n",
    "              env:\n",
    "                API_KEY: ${{ secrets.NEW_API_KEY }}\n",
    "              requires:\n",
    "                - approval\n",
    "```"
   ]
  },
  {
   "cell_type": "markdown",
   "metadata": {},
   "source": [
    "# Định nghĩa ma trận cho các jobs khác nhau"
   ]
  },
  {
   "cell_type": "markdown",
   "metadata": {},
   "source": [
    "- Chạy nhiều phiên bản của cùng một job với các biến môi trường khác nhau trong cùng một workflow\n",
    "- Sử dụng các bước tham số cho adaptable workflows\n",
    "- Tận dụng kết hợp của ma trận cho efficient và scalable workflows\n",
    "- Tích hợp ma trận với các tính năng khác để cải thiện tự động hóa"
   ]
  },
  {
   "cell_type": "markdown",
   "metadata": {},
   "source": [
    "VD:\n",
    "```yaml\n",
    "jobs:\n",
    "    test:\n",
    "        strategy:\n",
    "            matrix: # Create parallel jobs for different OS and Node.js versions\n",
    "                os: [ubuntu-latest, windows-latest, macos-latest]\n",
    "                node_version: [10, 12, 14]\n",
    "        runs-on: ${{ matrix.os }}\n",
    "        steps:\n",
    "            - uses: actions/checkouts@v4\n",
    "            - uses: actions/setup-node@v3\n",
    "              with:\n",
    "                node-version: ${{ matrix.node_version }}\n",
    "            - name: Install dependencies\n",
    "              run: npm ci\n",
    "            - name: Run tests\n",
    "              run: npm test\n",
    "```"
   ]
  },
  {
   "cell_type": "markdown",
   "metadata": {},
   "source": [
    "# Tích hợp workflow approval gates"
   ]
  },
  {
   "cell_type": "markdown",
   "metadata": {},
   "source": [
    "- Yêu cầu phê duyệt thủ công trước các giai đoạn quan trọng của quy trình làm việc\n",
    "- Sử dụng các bước approval để kiểm tra và xác nhận các thay đổi\n",
    "- Tích hợp với Teams, Slack hoặc các công cụ khác để thông báo và xác nhận"
   ]
  }
 ],
 "metadata": {
  "language_info": {
   "name": "python"
  }
 },
 "nbformat": 4,
 "nbformat_minor": 2
}
