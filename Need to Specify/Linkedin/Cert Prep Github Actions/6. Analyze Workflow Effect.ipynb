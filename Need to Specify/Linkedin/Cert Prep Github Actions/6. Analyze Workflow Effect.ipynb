{
 "cells": [
  {
   "cell_type": "markdown",
   "metadata": {},
   "source": [
    "# Xác định event triggered workflow từ repo, issue hoặc pull request"
   ]
  },
  {
   "cell_type": "markdown",
   "metadata": {},
   "source": [
    "- Xem xét kỹ Github Actions logs để đánh dấu các event đã xảy ra (push, pull request, issue creation, etc.)\n",
    "- Logs tồn tại trong 90 ngày\n",
    "    - Có thể điều chính tới 90d (public repo) hoặc 400d (private repo)\n",
    "- Sử dụng ${{ github.event_name }} để xác định event type"
   ]
  },
  {
   "cell_type": "markdown",
   "metadata": {},
   "source": [
    "VD:\n",
    "```yaml\n",
    "name: Identify Event Type\n",
    "on: [push, pull_request, issues]\n",
    "\n",
    "jobs:\n",
    "    identify-event:\n",
    "        runs-on: ubuntu-latest\n",
    "        steps:\n",
    "            - name: Identify Event\n",
    "              run: echo \"Event type is ${{ github.event_name }}\"\n",
    "```"
   ]
  },
  {
   "cell_type": "markdown",
   "metadata": {},
   "source": [
    "# Mô tả workflow effects bằng cách đọc configuation file"
   ]
  },
  {
   "cell_type": "markdown",
   "metadata": {},
   "source": [
    "- Mục đích chính để hiểu workflow effects và ảnh hưởng mà không chạy workflow\n",
    "- Đọc file cấu hình workflow (`.github/workflows/*.yml`) để hiểu các bước, jobs, triggers, etc.\n",
    "- Các hành động tương quan trong workflow với effects (build, test, deploy, etc.)"
   ]
  },
  {
   "cell_type": "markdown",
   "metadata": {},
   "source": [
    "# Phân tích lỗi trong workflow run"
   ]
  },
  {
   "cell_type": "markdown",
   "metadata": {},
   "source": [
    "- Kiểm tra thông báo lỗi và exit codes trong Actions log để xác định lỗi\n",
    "- Review các lỗi thường gặp: syntax error, missing secrets, permission issues, etc."
   ]
  },
  {
   "cell_type": "markdown",
   "metadata": {},
   "source": [
    "# Xác định cách để truy cập vào workflow logs từ user interface"
   ]
  },
  {
   "cell_type": "markdown",
   "metadata": {},
   "source": [
    "- Từ Actions tab trong repo -> chọn workflow run -> chọn job -> chọn step để xem logs"
   ]
  },
  {
   "cell_type": "markdown",
   "metadata": {},
   "source": [
    "# Xác định cách truy cập Workflow logs từ Github REST API"
   ]
  },
  {
   "cell_type": "markdown",
   "metadata": {},
   "source": [
    "- Sử dụng Github REST API endpoint GET `/repos/{owner}/{repo}/actions/runs/{run_id}/logs` để truy cập logs\n",
    "- Authenticate API request với token hoặc personal access token\n",
    "- Sử dụng `curl` hoặc các HTTP client để gửi request"
   ]
  },
  {
   "cell_type": "markdown",
   "metadata": {},
   "source": [
    "# Cho phép step debug logging trong workflow"
   ]
  },
  {
   "cell_type": "markdown",
   "metadata": {},
   "source": [
    "- Đặt secret `ACTIONS_STEP_DEBUG = true` trong repo để hiển thị debug logs cho mỗi step trong ***Workflow***"
   ]
  },
  {
   "cell_type": "markdown",
   "metadata": {},
   "source": [
    "- Đặt secret `ACTIONS_RUNNER_DEBUG = true` để hiển thị debug logs cho ***Runner***"
   ]
  },
  {
   "cell_type": "markdown",
   "metadata": {},
   "source": [
    "- Review logs để xác định lỗi và debug"
   ]
  },
  {
   "cell_type": "markdown",
   "metadata": {},
   "source": [
    "# Mô tả cách làm thế nào để sử dụng các giá trị mặc định của environment trong workflow"
   ]
  },
  {
   "cell_type": "markdown",
   "metadata": {},
   "source": [
    "- Sử dụng built-in variable như `GITHUB_SHA` và `GITHUB_REPOSITORY` để truy cập thông tin repo và commit\n",
    "- Kết hợp những giá trị vào workflow steps để quản lý hành vi của workflow"
   ]
  },
  {
   "cell_type": "markdown",
   "metadata": {},
   "source": [
    "VD:\n",
    "```yaml\n",
    "name: Tag Docker Image\n",
    "on: push\n",
    "\n",
    "jobs:\n",
    "    docker-tag:\n",
    "        runs-on: ubuntu-latest\n",
    "        steps:\n",
    "            - name: Checkout\n",
    "              uses: actions/checkout@v2\n",
    "\n",
    "            - name: Build and Tag Docker Image\n",
    "              run: |\n",
    "                docker build -t my-app:${{ github.sha }} .\n",
    "                # Uses GITHUB_SHA to tag Docker image\n",
    "```"
   ]
  },
  {
   "cell_type": "markdown",
   "metadata": {},
   "source": [
    "# Syntax đúng khi passing custom environment variables vào workflow step"
   ]
  },
  {
   "cell_type": "markdown",
   "metadata": {},
   "source": [
    "- Declare giá trị tùy chỉnh trong environment dưới dạng `env` trong workflow hoặc job level\n",
    "- Truy cập chúng sử dụng `${{ env.VAR_NAME }}`"
   ]
  },
  {
   "cell_type": "markdown",
   "metadata": {},
   "source": [
    "VD: Cách để lấy file logs sử dụng powershell\n",
    "```ps1\n",
    "$headers = @{\n",
    "    \"Accept\"               = \"application/vnd.github.v3+json\"\n",
    "    \"Authorization\"        = \"Bearer $env:GITHUB_TOKEN\"\n",
    "    \"X-GitHub-Api-Version\" = \"date-here\"\n",
    "}\n",
    "\n",
    "$url = \"https://api.github.com/repos/$env:GITHUB_REPOSITORY/actions/runs/$env:GITHUB_RUN_ID/logs\"\n",
    "\n",
    "response = Invoke-RestMethod -Uri $url -Method Get -Headers $headers\n",
    "response | Format-List\n",
    "```"
   ]
  },
  {
   "cell_type": "markdown",
   "metadata": {},
   "source": []
  }
 ],
 "metadata": {
  "language_info": {
   "name": "python"
  }
 },
 "nbformat": 4,
 "nbformat_minor": 2
}
