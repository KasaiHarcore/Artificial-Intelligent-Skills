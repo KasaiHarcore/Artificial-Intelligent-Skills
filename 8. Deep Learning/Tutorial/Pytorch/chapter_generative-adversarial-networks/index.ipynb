{
 "cells": [
  {
   "cell_type": "markdown",
   "id": "294dfbf3",
   "metadata": {
    "origin_pos": 0
   },
   "source": [
    "# Generative Adversarial Networks\n",
    ":label:`chap_gans`\n",
    "\n",
    ":begin_tab:toc\n",
    " - [gan](gan.ipynb)\n",
    " - [dcgan](dcgan.ipynb)\n",
    ":end_tab:\n"
   ]
  }
 ],
 "metadata": {
  "language_info": {
   "name": "python"
  },
  "required_libs": []
 },
 "nbformat": 4,
 "nbformat_minor": 5
}