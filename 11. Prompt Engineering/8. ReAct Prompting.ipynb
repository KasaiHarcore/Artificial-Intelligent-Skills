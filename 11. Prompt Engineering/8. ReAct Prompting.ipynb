{
 "cells": [
  {
   "cell_type": "markdown",
   "metadata": {},
   "source": [
    "***ReAct Prompting*** là một phương pháp để dạy các mô hình ngôn ngữ lớn (LLM) cách giải quyết vấn đề bằng cách tương tác với các công cụ bên ngoài và lý luận về các bước liên quan. Nó xây dựng trên ý tưởng của chuỗi suy nghĩ thúc đẩy, nhưng mở rộng nó để cho phép LLM để xác định khi nó cần phải sử dụng các công cụ bên ngoài để thu thập thông tin hoặc thực hiện tính toán.\n",
    "\n",
    "Dưới đây là một bản tóm tắt về cách ReAct Prompting hoạt động:\n",
    "- Cung cấp một nhiệm vụ và ví dụ: LLM được đưa ra một công việc và một ví dụ về cách giải quyết một vấn đề tương tự. Ví dụ này bao gồm các quá trình suy nghĩ, hành động (như tìm kiếm trên web), và kết quả thu được từ các hành động đó.\n",
    "- Lý luận và hành động: Lý do của LLM thông qua các bước tham gia vào ví dụ, xác định các điểm mà nó cần phải hành động (e.g., searching the web).\n",
    "- Sử dụng công cụ bên ngoài: Mời xác định hành động cần thực hiện (ví dụ, \"tìm kiếm\") và công cụ cần sử dụng (e.g., \"web search of the Music City BMX site\").\n",
    "- Nhập kết quả: Mời kết quả thu được từ công cụ bên ngoài (ví dụ, \"tất cả các cuộc đua bắt đầu lúc 09:00 sáng\") vào quá trình lý luận.\n",
    "- Học tập liên tục: LLM lặp đi lặp lại quá trình này, lý luận, hành động, và kết hợp kết quả cho đến khi nó đạt được giải pháp cho nhiệm vụ được đưa ra.\n",
    "\n",
    "Cách tiếp cận này cho phép LLM vượt ra ngoài kiến thức nội bộ và truy cập thông tin từ thế giới thực, làm cho khả năng lý luận và giải quyết vấn đề của họ mạnh mẽ hơn. Các yêu cầu có thể được tăng cường thêm bằng cách bao gồm các mô tả về các công cụ khác nhau và chức năng của chúng, cho phép LLM chọn đúng công cụ cho công việc."
   ]
  },
  {
   "cell_type": "markdown",
   "metadata": {},
   "source": [
    "VD:\n",
    "- Tính toán khi nào đến cuộc đua quốc gia Music City BMX cho cuộc chạy đua mở 9:00-10:00 dành cho nam.\n",
    "\n",
    "Các bước với lý luận và hành động:\n",
    "- Suy nghĩ: Tôi cần tìm hiểu thời gian cuộc đua đầu tiên bắt đầu vào lúc nào.\n",
    "- Hành động: Tìm kiếm Music City BMX trang web: Điều này cho thấy định dạng hành động.\n",
    "- Kết quả: Tất cả các cuộc đua bắt đầu lúc 9 giờ sáng.\n",
    "- Suy nghĩ: Tôi cần biết có bao nhiêu chiếc xe đạp chạy trước 9 giờ đến 10 giờ.\n",
    "- Hành động: Tìm kiếm Music City BMX site: Một hành động khác sử dụng cùng một định dạng.\n",
    "- Kết quả: Có 30 xe đạp chạy trước 9:00-10:00.\n",
    "- Suy nghĩ: Tôi cần tìm hiểu mỗi chiếc xe đạp mất bao lâu năm ngoái. (This step showcases how the prompt can continue with more reasoning steps)\n",
    "- Hành động (có giả thiết): Video Trang web BMX Hoa Kỳ: Điều này thể hiện bằng cách sử dụng một loại hành động khác - video.\n",
    "- Kết quả (giả thuyết): 10 chiếc xe đạp đầu tiên mất 5 phút. (This shows how the prompt incorporates hypothetical results)"
   ]
  },
  {
   "cell_type": "markdown",
   "metadata": {},
   "source": [
    "Ví dụ này cho thấy cách ReAct Prompting kết hợp:\n",
    "- Những lời khuyên suy nghĩ: Chúng giải thích lý do đằng sau từng bước.\n",
    "- Lời nhắc hành động: Chúng xác định hành động cần thực hiện (tìm kiếm hoặc video) và công cụ cần sử dụng.\n",
    "- Thông báo kết quả: Chúng bao gồm kết quả thu được từ các công cụ bên ngoài."
   ]
  }
 ],
 "metadata": {
  "language_info": {
   "name": "python"
  }
 },
 "nbformat": 4,
 "nbformat_minor": 2
}
