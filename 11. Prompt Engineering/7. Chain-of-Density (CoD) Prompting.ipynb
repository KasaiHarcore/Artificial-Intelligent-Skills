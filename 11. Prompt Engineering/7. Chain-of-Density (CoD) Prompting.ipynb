{
 "cells": [
  {
   "cell_type": "markdown",
   "metadata": {},
   "source": [
    "***Chain-of-Density (COD)*** là một kỹ thuật tạo ra nhiều bản tóm tắt của một văn bản với mức độ chi tiết ngày càng tăng trong khi vẫn giữ độ dài cố định.\n",
    "\n",
    "- Sparse Summary: Đầu tiên, AI tạo ra một bản tóm tắt ngắn gọn chỉ chứa các danh từ chính và cụm danh từ, nắm bắt những điểm chính của văn bản.\n",
    "- Density Identification: Sau đó, hệ thống sẽ phân tích xem bản tóm tắt có thiếu thông tin quan trọng nào không.\n",
    "- Adding Details: Dựa trên phân tích, AI tạo ra một phiên bản tóm tắt mới, thêm các chi tiết cần thiết mà không làm tăng độ dài.\n",
    "- Repeat (optional): Quá trình này có thể được lặp lại nhiều lần để tạo ra các bản tóm tắt ngày càng chi tiết cho đến khi đạt được mức mong muốn.\n",
    "\n",
    "\n",
    "Ưu điểm của nhắc nhở chuỗi mật độ:\n",
    "- Người dùng có quyền kiểm soát số lượng chi tiết trong bản tóm tắt.\n",
    "- Các bản tóm tắt có độ chính xác cao, bao quát được những điểm chính của văn bản gốc.\n",
    "- Các bản tóm tắt thu được có thể cạnh tranh với các bản tóm tắt do con người tạo ra."
   ]
  },
  {
   "cell_type": "markdown",
   "metadata": {},
   "source": [
    "Applications of Chain-of-Density Prompting:\n",
    "- Tạo bản tóm tắt cho các đối tượng khác nhau\n",
    "- Trích xuất thông tin quan trọng từ tài liệu\n",
    "- Tạo dữ liệu đào tạo cho các mô hình học máy"
   ]
  },
  {
   "cell_type": "markdown",
   "metadata": {},
   "source": [
    "VD:\n",
    "\n",
    "Article: {{ ARTICLE }}\n",
    "\n",
    "You will generate increasingly concise, entity-dense summaries of the above Article.\n",
    "\n",
    "Repeat the following 2 steps 5 times.\n",
    "\n",
    "Step 1. Identify 1-3 informative Entities (\"; \" delimited) from the Article which are missing from the previously generated summary.\n",
    "\n",
    "Step 2. Write a new, denser summary of identical length which covers every entity and detail from the previous summary plus the Missing Entities.\n",
    "\n",
    "A Missing Entity is:\n",
    "- Relevant: to the main story.\n",
    "- Specific: descriptive yet concise (5 words or fewer).\n",
    "- Novel: not in the previous summary.\n",
    "- Faithful: present in the Article.\n",
    "- Anywhere: located anywhere in the Article.\n",
    "\n",
    "Guidelines:\n",
    "- The first summary should be long (4-5 sentences, ~80 words) yet highly non-specific, containing little information beyond the entities marked as missing. Use overly verbose language and fillers (e.g., \"this article discusses\") to reach ~80 words.\n",
    "- Make every word count: rewrite the previous summary to improve flow and make space for additional entities.\n",
    "- Make space with fusion, compression, and removal of uninformative phrases like \"the article discusses\".\n",
    "- The summaries should become highly dense and concise yet self-contained, e.g., easily understood without the Article.\n",
    "- Missing entities can appear anywhere in the new summary.\n",
    "- Never drop entities from the previous summary. If space cannot be made, add fewer new entities.\n",
    "\n",
    "Remember, use the exact same number of words for each summary.\n",
    "\n",
    "Answer in JSON. The JSON should be a list (length 5) of dictionaries whose keys are \"Missing_Entities\" and \"Denser_Summary\"."
   ]
  }
 ],
 "metadata": {
  "language_info": {
   "name": "python"
  }
 },
 "nbformat": 4,
 "nbformat_minor": 2
}
