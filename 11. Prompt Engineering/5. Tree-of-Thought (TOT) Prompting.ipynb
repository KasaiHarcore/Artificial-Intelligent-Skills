{
 "cells": [
  {
   "cell_type": "markdown",
   "metadata": {},
   "source": [
    "***Tree-of-Thought*** là một kỹ thuật kỹ thuật nhanh chóng tiên tiến cho phép hệ thống AI mô phỏng quá trình tham khảo ý kiến ​​của nhiều chuyên gia để giải quyết một nhiệm vụ phức tạp. Theo cách tiếp cận này, hệ thống AI tạo ra phản hồi từ các chuyên gia tưởng tượng, mỗi chuyên gia sẽ đưa ra quy trình tư duy từng bước để giải quyết nhiệm vụ. Sau đó, hệ thống sẽ đánh giá và chọn giải pháp tốt nhất dựa trên thông tin đầu vào từ các chuyên gia mô phỏng này.\n",
    "\n",
    "Sự khác biệt chính giữa Cây tư duy và Chuỗi tư duy là ở sự phức tạp của quá trình tư duy liên quan. Trong khi Chuỗi tư duy tập trung vào việc hướng dẫn hệ thống AI thông qua một chuỗi các bước hoặc suy nghĩ tuyến tính, thì Tree-of-Thought giới thiệu các đường dẫn tư duy phân nhánh, tương tự như cấu trúc cây, trong đó nhiều chuyên gia cung cấp các cách tiếp cận đa dạng để giải quyết vấn đề."
   ]
  },
  {
   "cell_type": "markdown",
   "metadata": {},
   "source": [
    "- Chuỗi suy nghĩ (COT):\n",
    "    - Đưa ra một câu đố logic, hệ thống AI sẽ được nhắc chia vấn đề thành các bước tuần tự và đưa ra giải pháp dựa trên các bước đó.\n",
    "    - Hệ thống AI tuân theo quy trình tư duy tuyến tính, phân tích vấn đề từng bước để đưa ra kết luận.\n",
    "\n",
    "- Cây suy nghĩ (TOT): Với cùng một câu đố logic, hệ thống AI mô phỏng việc tư vấn cho nhiều chuyên gia, mỗi chuyên gia sẽ đưa ra cách tiếp cận riêng để giải quyết vấn đề.\n",
    "    - Hệ thống AI tạo ra phản hồi từ các chuyên gia tưởng tượng này, xem xét các lối suy nghĩ khác nhau được thể hiện bằng các cành cây.\n",
    "    - Sau khi thu thập phản hồi từ các chuyên gia mô phỏng, hệ thống AI sẽ đánh giá và lựa chọn giải pháp phù hợp nhất dựa trên thông tin đầu vào nhận được."
   ]
  },
  {
   "cell_type": "markdown",
   "metadata": {},
   "source": [
    "VD:\n",
    "Imagine three different experts are answering this question. \n",
    "- All experts will write down 1 step of their thinking, then share it with the group. \n",
    "- Then all experts will go on to the next step, etc. \n",
    "- If any expert realises they're wrong at any point then they leave. \n",
    "\n",
    "The question is: \n",
    "48 people are riding a bus. On the first stop, 8 passengers get off, and 5 times as many people as the number who got off from the bus get into the bus. On the second stop 21, passengers get off and 3 times fewer passengers get on. How many passengers are riding the bus after the second stop?"
   ]
  }
 ],
 "metadata": {
  "language_info": {
   "name": "python"
  }
 },
 "nbformat": 4,
 "nbformat_minor": 2
}
