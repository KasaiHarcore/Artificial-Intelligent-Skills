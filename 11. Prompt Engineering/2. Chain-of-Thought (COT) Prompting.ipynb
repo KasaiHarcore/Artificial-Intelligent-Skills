{
 "cells": [
  {
   "cell_type": "markdown",
   "metadata": {},
   "source": [
    "***Chain-of-thought prompting*** là một kỹ thuật trong kỹ thuật thúc đẩy sử dụng trong công việc với các hệ thống trí tuệ nhân tạo, cho phép chúng tạo ra các câu trả lời hoặc giải quyết các vấn đề bằng cách lần theo một chuỗi tư duy hoặc các bước logic."
   ]
  },
  {
   "cell_type": "markdown",
   "metadata": {},
   "source": [
    "Khi giải một bài toán logic, thay vì chỉ đưa ra câu hỏi, chúng ta có thể sử dụng chain-of-thought prompting để cung cấp một chuỗi tư duy hoặc các bước để giải quyết vấn đề này."
   ]
  },
  {
   "cell_type": "markdown",
   "metadata": {},
   "source": [
    "VD:\n",
    "- Q:Jason had 20 lollipops. He gave Denny some lollipops. Now Jason has 12 lollipops. How many lollipops did Jason give Denny? \n",
    "- A: Jason started with 20 lollipops. Then he had 12 after giving some to Denny. So he gave Denny 20-12=8. The answer is 8. \n",
    "- Q: Michael had 58 golf balls. On tuesday, he lost 23 golf balls. On wednesday, he lost 2 more. How many golf balls did he have at the end of wednesday?\n",
    "- A: Michael started with 58 golf balls. After losing 23 on tuesday, he had 58-23=35. After losing 2 more, he had 35-2=33 golf balls. The answer is 33.\n",
    "- Q: If there are 3 cars in the parking lot and 2 more cars arrive, how many cars are in the parking lot? \n",
    "- A: There are originally 3 cars. 2 more cars arrive. 3+2=5. The answer is 5.\n",
    "- Q: There were nine computers in the server room. Five more computers were installed each day, from monday to thursday. How many computers are now in the server room?\n",
    "- A: There were originally 9 computers. For each of 4 days, 5 more computers were added. So 5*4=20 computers were added. 9+20 is 29. The answer is 29.\n",
    "- Q: Olivia has 23. She bought five bagels for 3 each. How much money does she have left?\n",
    "- A: Olivia had 23 dollars. 5 bagels for 3 dollars each will be 5x3=15 dollars. So she has 23-15 dollars left. 23-15 is 8. The answer is 8.\n",
    "- Q: There are 15 trees in the grove. Grove workers will plant trees in the grove today. After they are done, there will be 21 trees. How many trees did the grove workers plant today?\n",
    "- A: There are 15 trees originally. Then there were 21 trees after some more were planted. So there must have been 21-15=6. The answer is 6.\n",
    "- Q: Shawn has five toys. For Christmas, he got two toys each from his mom and dad. How many toys does he have now? \n",
    "- A: Shawn started with 5 toys. If he got 2 toys each from his mom and dad, then that is 4 more toys. 5+4=9. The answer is 9. \n",
    "- Q: Leah had 32 chocolates and her sister had 42. If they ate 35, how many pieces do they have left in total? \n",
    "- A: Originally, Leah had 32 chocolates. Her sister had 42. So in total they had 32+42=74. After eating 35, they had 74-35=39. The answer is 39.\n",
    "- Q: Tracy used a piece of wire 4 feet long to support tomato plants in the garden.The wire was cut into pieces 6 inches long. How many pieces did she obtain?\n",
    "- A: \n"
   ]
  },
  {
   "cell_type": "markdown",
   "metadata": {},
   "source": [
    "Với loại bài toán này, mô hình AI sẽ cố gắng tìm ra chuỗi tư duy hoặc các bước logic để giải quyết vấn đề. Điều này giúp mô hình hiểu rõ hơn về cách giải quyết vấn đề và cung cấp câu trả lời chính xác."
   ]
  },
  {
   "cell_type": "markdown",
   "metadata": {},
   "source": [
    "***Zero plus few-shot prompting***: Trong trường hợp này, bên cạnh các câu trả lời mẫu, cảm hứng hoặc hướng dẫn \"Let's think step by step\" cũng được cung cấp. Điều này khuyến khích hệ thống trí tuệ nhân tạo suy nghĩ và giải quyết vấn đề theo từng bước cụ thể.\n",
    "\n",
    "VD:\n",
    "- Q:Jason had 20 lollipops. He gave Denny some lollipops. Now Jason has 12 lollipops. How many lollipops did Jason give Denny? \n",
    "- A: Let's think step by step. Jason started with 20 lollipops. Then he had 12 after giving some to Denny. So he gave Denny 20-12=8. The answer is 8. \n",
    "- Q: Michael had 58 golf balls. On tuesday, he lost 23 golf balls. On wednesday, he lost 2 more. How many golf balls did he have at the end of wednesday?\n",
    "- A: Let's think step by step. Michael started with 58 golf balls. After losing 23 on tuesday, he had 58-23=35. After losing 2 more, he had 35-2=33 golf balls. The answer is 33.\n",
    "- Q: If there are 3 cars in the parking lot and 2 more cars arrive, how many cars are in the parking lot? \n",
    "- A: Let's think step by step. There are originally 3 cars. 2 more cars arrive. 3+2=5. The answer is 5.\n",
    "- Q: There were nine computers in the server room. Five more computers were installed each day, from monday to thursday. How many computers are now in the server room?\n",
    "- A: Let's think step by step. There were originally 9 computers. For each of 4 days, 5 more computers were added. So 5*4=20 computers were added. 9+20 is 29. The answer is 29.\n",
    "- Q: Olivia has 23. She bought five bagels for 3 each. How much money does she have left?\n",
    "- A: Let's think step by step. Olivia had 23 dollars. 5 bagels for 3 dollars each will be 5x3=15 dollars. So she has 23-15 dollars left. 23-15 is 8. The answer is 8.\n",
    "- Q: There are 15 trees in the grove. Grove workers will plant trees in the grove today. After they are done, there will be 21 trees. How many trees did the grove workers plant today?\n",
    "- A: Let's think step by step. There are 15 trees originally. Then there were 21 trees after some more were planted. So there must have been 21-15=6. The answer is 6.\n",
    "- Q: Shawn has five toys. For Christmas, he got two toys each from his mom and dad. How many toys does he have now? \n",
    "- A: Let's think step by step. Shawn started with 5 toys. If he got 2 toys each from his mom and dad, then that is 4 more toys. 5+4=9. The answer is 9. \n",
    "- Q: Leah had 32 chocolates and her sister had 42. If they ate 35, how many pieces do they have left in total? \n",
    "- A: Let's think step by step. Originally, Leah had 32 chocolates. Her sister had 42. So in total they had 32+42=74. After eating 35, they had 74-35=39. The answer is 39.\n",
    "- Q: Tracy used a piece of wire 4 feet long to support tomato plants in the garden.The wire was cut into pieces 6 inches long. How many pieces did she obtain?\n",
    "- A: Let's think step by step. "
   ]
  },
  {
   "cell_type": "markdown",
   "metadata": {},
   "source": [
    "Với cách prompt như trên, khi này mô hình sẽ tiếp tục giải bài toán với phương thức trả lời tương tự với các ví dụ ở trên. Câu trả lời sẽ có cấu trúc tự với cách trả lời đã cung cấp."
   ]
  },
  {
   "cell_type": "markdown",
   "metadata": {},
   "source": [
    "***Zero shot chain of thoughts***: Trong trường hợp này, không có các ví dụ mẫu được cung cấp, chỉ có một câu hỏi và hướng dẫn \"Let's think step by step\". Hệ thống trí tuệ nhân tạo sẽ tự tạo ra quy trình giải quyết vấn đề và trình bày nó theo từng bước."
   ]
  },
  {
   "cell_type": "markdown",
   "metadata": {},
   "source": [
    "VD:\n",
    "- Q: Tracy used a piece of wire 4 feet long to support tomato plants in the garden.The wire was cut into pieces 6 inches long. How many pieces did she obtain?\n",
    "- A: Let's think step by step. First, "
   ]
  },
  {
   "cell_type": "markdown",
   "metadata": {},
   "source": [
    "Còn với cách prompt này, mô hình sẽ tự tạo ra chuỗi tư duy hoặc các bước logic để giải quyết vấn đề. Điều này đòi hỏi mô hình phải hiểu rõ vấn đề và có khả năng suy luận logic để tạo ra câu trả lời chính xác."
   ]
  }
 ],
 "metadata": {
  "language_info": {
   "name": "python"
  }
 },
 "nbformat": 4,
 "nbformat_minor": 2
}
