{
 "cells": [
  {
   "cell_type": "markdown",
   "metadata": {},
   "source": [
    "# Prompt Pattern\n",
    "\n",
    "Prompt Pattern là một cách để ghi chép một cấu trúc của các cụm từ và tuyên bố để giải quyết một vấn đề cụ thể trong một mô hình ngôn ngữ lớn. Trong nhiều trường hợp, một ý tưởng có thể được viết lại và thể hiện theo những cách tùy ý dựa trên nhu cầu và trải nghiệm của người dùng. Tuy nhiên, những ý tưởng chính để truyền đạt được trình bày dưới dạng một loạt các tuyên bố đơn giản nhưng cơ bản.\n",
    "\n",
    "Ví dụ: Helpful Assistant Pattern\n",
    "\n",
    "Hãy tưởng tượng rằng chúng ta muốn ghi lại một mẫu mới để ngăn trợ lý AI tạo ra kết quả tiêu cực cho người dùng. Hãy gọi mẫu này là mẫu \"Trợ lý hữu ích\".\n",
    "\n",
    "Tiếp theo, hãy nói về các tuyên bố ngữ cảnh cơ bản mà chúng ta cần đưa vào lời nhắc về mẫu này. Tuyên bố theo bối cảnh cơ bản:\n",
    "- Bạn là một trợ lý AI hữu ích.\n",
    "- Bạn sẽ trả lời câu hỏi của tôi hoặc làm theo hướng dẫn của tôi bất cứ khi nào bạn có thể.\n",
    "- Bạn sẽ không bao giờ trả lời câu hỏi của tôi theo cách xúc phạm, xúc phạm hoặc sử dụng giọng điệu thù địch."
   ]
  },
  {
   "cell_type": "markdown",
   "metadata": {},
   "source": [
    "Bây giờ, chúng ta hãy xem xét một số lời nhắc ví dụ bao gồm từng câu lệnh ngữ cảnh cơ bản này, nhưng có thể có cách diễn đạt hoặc điều chỉnh khác nhau\n",
    "\n",
    "Ví dụ:\n",
    "- Bạn là một trợ lý AI cực kỳ lành nghề, có thể cung cấp câu trả lời tốt nhất có thể cho các câu hỏi của tôi. Bạn sẽ cố gắng hết sức để làm theo hướng dẫn của tôi và chỉ từ chối làm những gì tôi yêu cầu khi bạn hoàn toàn không còn lựa chọn nào khác. Bạn tận tâm bảo vệ tôi khỏi nội dung có hại và sẽ không bao giờ đưa ra bất cứ điều gì xúc phạm hoặc không phù hợp.\n",
    "\n",
    "Mỗi ví dụ gần như tuân theo khuôn mẫu nhưng diễn đạt lại các câu ngữ cảnh cơ bản theo một cách riêng. Tuy nhiên, mỗi ví dụ của mẫu có thể sẽ giải quyết được vấn đề khiến AI cố gắng hành động theo cách hữu ích và không đưa ra nội dung không phù hợp."
   ]
  },
  {
   "cell_type": "markdown",
   "metadata": {},
   "source": [
    "### The Persona Pattern\n"
   ]
  },
  {
   "cell_type": "markdown",
   "metadata": {},
   "source": [
    "Persona Prompt là một công cụ mạnh mẽ trong việc sử dụng các mô hình ngôn ngữ lớn để khai thác các hành vi cụ thể. Nó liên quan đến việc tưởng tượng một chuyên gia hoặc thực thể cụ thể mà một người thường sẽ tham khảo ý kiến cho một kết quả cụ thể và sau đó chỉ thị cho mô hình hành động như là cá nhân đó để tạo ra phản ứng.\n",
    "\n",
    "Điều này cho phép người dùng truy cập các quan điểm khác nhau mà mô hình không cần phải biết chính xác định dạng hoặc nội dung trước. Bằng cách cung cấp lời nhắc như \"hành động như một kẻ hoài nghi thông minh trong khoa học máy tính,\" người ta có thể kích hoạt các phản ứng sắc nét và chi tiết từ mô hình phù hợp với nhân vật được chỉ định."
   ]
  },
  {
   "cell_type": "markdown",
   "metadata": {},
   "source": [
    "- Nó đơn giản hóa quá trình tương tác với các mô hình ngôn ngữ lớn bằng cách kết hợp các hướng dẫn và kỳ vọng phức tạp thành một tuyên bố ngắn gọn.\n",
    "- Cách tiếp cận này không chỉ tạo điều kiện cho việc khám phá các quan điểm và vai trò khác nhau mà còn tối đa hóa hiệu quả của các yêu cầu bằng cách cung cấp một khuôn khổ toàn diện để tạo ra các phản ứng đa dạng.\n",
    "- cho phép người dùng tạo ra các loại phản ứng cụ thể phù hợp với các kịch bản hoặc yêu cầu khác nhau."
   ]
  },
  {
   "cell_type": "markdown",
   "metadata": {},
   "source": [
    "Tính linh hoạt này cho phép người dùng thu thập các quan điểm và thông tin khác nhau từ mô hình, nâng cao chiều rộng và chiều sâu của các phản ứng được tạo ra.\n",
    "\n",
    "Ngoài ra,  ta có thể dùng như một phương tiện để tăng cường tương tác với các mô hình ngôn ngữ lớn bằng cách xác định bối cảnh và hướng dẫn kết quả của mô hình hướng tới kết quả mong muốn. Bằng cách thiết lập cá nhân phản ánh vai trò, chuyên môn, hoặc đặc điểm khác nhau, người dùng có thể hiệu quả điều khiển hướng của các phản ứng được tạo ra và điều chỉnh kết quả của mô hình theo nhu cầu hoặc sở thích cụ thể."
   ]
  },
  {
   "cell_type": "markdown",
   "metadata": {},
   "source": [
    "Để sử dụng mẫu này, lời nhắc của bạn phải đưa ra các câu lệnh ngữ cảnh cơ bản sau:\n",
    "- Dóng vai Persona X\n",
    "- Thực hiện nhiệm vụ Y\n",
    "Ta sẽ cần thay thế \"X\" bằng một nhân cách thích hợp, chẳng hạn như \"nhà nghiên cứu bệnh lý ngôn ngữ lời nói\" hoặc \"chuyên gia dinh dưỡng\". Sau đó, bạn sẽ cần chỉ định nhiệm vụ để nhân vật đó thực hiện.\n",
    "\n",
    "Ví dụ:\n",
    "- Hoạt động như một nhà nghiên cứu bệnh học ngôn ngữ nói. Đưa ra đánh giá về trẻ ba tuổi dựa trên mẫu bài phát biểu \"I meed way woy\".\n",
    "- Hoạt động như một máy tính là nạn nhân của một cuộc tấn công mạng. Phản hồi bất kỳ nội dung nào tôi nhập bằng kết quả đầu ra mà thiết bị đầu cuối Linux sẽ tạo ra. Hãy hỏi tôi lệnh đầu tiên.\n",
    "- Đóng vai một đầu bếp sành ăn, tôi sẽ cho bạn biết tôi đang ăn gì và bạn sẽ cho tôi biết về những lựa chọn ăn uống của tôi."
   ]
  },
  {
   "cell_type": "markdown",
   "metadata": {},
   "source": [
    "### Introducing New Information to the Large Language Model\n",
    "\n",
    "Trong khi Prompt, điều quan trọng là phải cung cấp cho mô hình ngôn ngữ lớn thông tin mà nó không có quyền truy cập. Các mô hình ngôn ngữ lớn được đào tạo đến một thời điểm nào đó, nhưng chúng có thể không biết điều gì đã xảy ra sau thời điểm giới hạn đó và có thể không có quyền truy cập vào các nguồn dữ liệu mà bạn muốn sử dụng. Nếu có tài liệu và cơ sở dữ liệu của riêng mình, bạn có thể sử dụng lời nhắc để giới thiệu thông tin mới cho mô hình.\n",
    "\n",
    "Cũng có thể lấy tài liệu nếu bạn có tài liệu riêng tư mà bạn muốn giải thích. Đảm bảo rằng bạn đồng ý gửi dữ liệu cho người sử dụng mô hình hoặc nếu bạn đang chạy mô hình ngôn ngữ lớn local. Nếu bạn có tài liệu có thể gửi được, bạn có thể đưa chúng vào phần nhắc nhở và đặt câu hỏi về thông tin bạn chưa biết.\n",
    "\n",
    "Luôn cung cấp đủ thông tin cho mô hình ngôn ngữ lớn để đưa ra quyết định đúng đắn. Nó không thể nhìn thấy những gì xung quanh chúng ta hoặc bối cảnh. Điều quan trọng là cung cấp đủ thông tin để đưa ra quyết định hợp lý, chẳng hạn như các giả định ẩn, quy tắc trò chơi hoặc những điều đặc biệt. Đây có thể không chỉ là dữ liệu mà còn là các quy tắc được xây dựng trong cách tổ chức của bạn hoạt động hoặc cuộc sống."
   ]
  },
  {
   "cell_type": "markdown",
   "metadata": {},
   "source": [
    "### Prompt Size Limitation\n",
    "\n",
    "Prompt là đầu vào mà người dùng có trong một mô hình ngôn ngữ lớn, và có một giới hạn về kích cỡ của lời nhắc có thể được tạo ra. \n",
    "\n",
    "Mỗi mô hình ngôn ngữ lớn có một giới hạn cơ bản về số lượng thông tin có thể được đưa vào và gửi cho nó. Điều này có ảnh hưởng đến việc suy nghĩ về thiết kế nhanh chóng. \n",
    "\n",
    "Ví dụ: Khi một người dùng dán một lượng lớn văn bản liên quan đến Cách mạng Pháp vào ChatGPT, ChatGTP phản ứng với một thông báo rằng thông điệp quá dài, chỉ ra rằng người dùng không thể cung cấp thông tin không giới hạn cùng một lúc.\n",
    "\n",
    "Để giới thiệu thông tin mới mà ChatGPT hoặc mô hình ngôn ngữ lớn khác không được đào tạo, người dùng phải nhận thức được giới hạn về lượng thông tin họ có thể cung cấp cho mô hình cùng một lúc. Người dùng nên cố chọn và chỉ sử dụng thông tin mà họ cần để thực hiện nhiệm vụ mà họ yêu cầu ChatGPT thực hiện. Điều này liên quan đến việc là biên tập nội dung và có một bối cảnh về thông tin.\n",
    "\n",
    "Tuy nhiên, điều này chỉ hoạt động nếu cách mà tóm tắt hoặc lọc giữ lại thông tin cần thiết cho nhiệm vụ. Khi các mô hình ngôn ngữ lớn trở nên lớn hơn, chúng có thể đạt đến kích thước với nhiều nhiệm vụ thực tế, đặc biệt là khi người dùng tương tác trực tiếp với mô hình."
   ]
  },
  {
   "cell_type": "markdown",
   "metadata": {},
   "source": [
    "### Root Prompt\n",
    "\n",
    "Prompt là những quy tắc thiết yếu có thể lập trình các mô hình ngôn ngữ lớn để thực hiện các tác vụ một cách tự động. Chúng có thể bị ẩn khỏi người dùng và được sử dụng trong nhiều công cụ khác nhau, chẳng hạn như ChatGPT. Những lời nhắc gốc này xác định các quy tắc cơ bản cho sự tương tác của mô hình với người dùng, đảm bảo mô hình không nói bất kỳ điều gì xúc phạm hoặc gợi ý các hành động không phù hợp. Ví dụ: trợ lý cá nhân có thể ưu tiên đưa ra các đề xuất tiết kiệm thời gian để tiết kiệm thời gian.\n",
    "\n",
    "Tuy nhiên, có những người cố gắng tạo lời nhắc sẽ ghi đè lên những lời nhắc và câu lệnh này. Họ cố gắng đánh lừa công cụ này để tiết lộ dấu nhắc gốc hoặc bỏ qua nó. Việc xây dựng các công cụ xung quanh các mô hình ngôn ngữ lớn đòi hỏi phải biết cách tạo lời nhắc gốc sẽ ảnh hưởng đến các cuộc hội thoại tiếp theo. \n",
    "\n",
    "Ví dụ: nếu bạn muốn phát triển dịch vụ trợ lý cá nhân, bạn có thể đề xuất các quy tắc cơ bản khác nhau để tạo sự khác biệt cho dịch vụ của bạn.\n",
    "\n",
    "Root Prompt giống như seed cho cuộc trò chuyện, cung cấp các quy tắc phải tuân theo. Nó có thể được sử dụng để lập trình trải nghiệm tùy chỉnh xung quanh mô hình và đặt các thanh chắn bảo vệ để đảm bảo hành vi xấu không được tạo ra. \n",
    "\n",
    "Ví dụ: nếu ChatGPT cho biết hoạt động đào tạo của họ đã dừng vào năm 2019, thì nó có thể đặt lại ngày có thể trả lời các câu hỏi trước đó. Điều này có thể được thực hiện bằng cách sử dụng các mẫu lời nhắc khác nhau, chẳng hạn như cho biết rằng dữ liệu đào tạo của ChatGPT chỉ tính đến năm 2019."
   ]
  },
  {
   "cell_type": "markdown",
   "metadata": {},
   "source": [
    "### Question Refinement Pattern"
   ]
  },
  {
   "cell_type": "markdown",
   "metadata": {},
   "source": [
    "QRP là một cách đơn giản để cải thiện tương tác với các mô hình ngôn ngữ lớn như GPT trò chuyện. Nó liên quan đến việc xem trò chuyện GPT hoặc một mô hình ngôn ngữ lớn khác bất cứ khi nào một câu hỏi được hỏi để cố gắng cải thiện nó.\n",
    "\n",
    "Nó liên quan đến việc xem chatGPT hoặc một mô hình ngôn ngữ lớn khác bất cứ khi nào một câu hỏi được hỏi để cố gắng cải thiện nó. Bởi vì nó có nhiều thông tin và suy nghĩ cơ bản đằng sau câu hỏi của nó hơn là con người, mà có thể kết luận các mô hình và các câu hỏi hoặc từ hữu ích khác. Bằng cách hỏi một câu hỏi chung và yêu cầu nó tinh chỉnh nó, chat GPT có thể sử dụng kiến thức về các mô hình và ngôn ngữ xung quanh chủ đề để tạo ra một phiên bản cải tiến của nó.\n",
    "\n",
    "Bất cứ khi nào một câu hỏi được hỏi, chatGPT sẽ gợi ý câu hỏi tốt hơn và hỏi liệu người dùng có muốn sử dụng nó thay thế không. Điều này hữu ích từ quan điểm của trải nghiệm người dùng vì nó cho phép mô hình tạo ra các câu hỏi tốt hơn mà không yêu cầu người dùng cắt và dán câu hỏi. Thay vào đó, nó hỏi người dùng nếu họ muốn sử dụng câu hỏi được đề xuất thay vào đó. Nếu người dùng nói có, mô hình sẽ dùng câu hỏi, và nếu họ nói không, nó sẽ sử dụng câu hỏi gốc.\n",
    "\n",
    "Ví dụ, nếu một người dùng hỏi một câu hỏi chung như \"tôi có nên đến Đại học Vanderbilt không?\", chatGPT gợi ý câu hỏi đề xuất xem xét các yếu tố nên được xem xét khi quyết định có nên tham gia hay không vào Đại học Vanderbilt và làm thế nào họ phù hợp với mục tiêu và ưu tiên cá nhân của họ. Điều này giúp người dùng xác định thông tin thiếu và đưa ra quyết định sáng suốt hơn."
   ]
  },
  {
   "cell_type": "markdown",
   "metadata": {},
   "source": [
    "Để sử dụng pattern này, yêu cầu của bạn nên thực hiện các tuyên bố ngữ cảnh cơ bản sau:\n",
    "- Từ bây giờ, bất cứ khi nào tôi hỏi một câu hỏi, hãy đề xuất một phiên bản tốt hơn của câu hỏi để sử dụng thay thế \n",
    "- (Tùy chọn) Cho tôi biết nếu tôi muốn sử dụng phiên bản tốt hơn\n",
    "\n",
    "VD:\n",
    "- Từ bây giờ, bất cứ khi nào tôi hỏi một câu hỏi, hãy đề xuất một phiên bản tốt hơn của câu hỏi để sử dụng thay thế\n",
    "- Từ bây giờ, bất cứ khi nào tôi hỏi một câu hỏi, hãy đề xuất một phiên bản tốt hơn của câu hỏi và hỏi tôi nếu tôi muốn sử dụng nó thay thế\n",
    "\n",
    "VD Tùy chỉnh:\n",
    "- Bất cứ khi nào tôi hỏi một câu hỏi về chế độ ăn kiêng, đề nghị một phiên bản tốt hơn của câu hỏi mà nhấn mạnh thói quen ăn uống lành mạnh và dinh dưỡng lành mạnh. Hãy hỏi tôi câu hỏi đầu tiên để tinh chỉnh.\n",
    "- Bất cứ khi nào tôi hỏi một câu hỏi về ai là người vĩ đại nhất mọi thời đại (GOAT), đề nghị một phiên bản tốt hơn của câu hỏi mà đặt nhiều người chơi thành tựu độc đáo trong quan điểm  Hãy hỏi tôi câu hỏi đầu tiên để tinh chỉnh."
   ]
  },
  {
   "cell_type": "markdown",
   "metadata": {},
   "source": [
    "### Cognitive Verifier Pattern"
   ]
  },
  {
   "cell_type": "markdown",
   "metadata": {},
   "source": [
    "LLMs thường có thể lý luận tốt hơn nếu một câu hỏi được phân chia thành các câu hỏi bổ sung cung cấp câu trả lời kết hợp thành một đáp án tổng thể cho câu hỏi ban đầu. Mục đích của mô hình là buộc LLM phải luôn luôn chia các câu hỏi thành một tập hợp những câu hỏi có thể được sử dụng để trả lời tốt hơn câu hỏi ban đầu."
   ]
  },
  {
   "cell_type": "markdown",
   "metadata": {},
   "source": [
    "VD:\n",
    "- Khi bạn được hỏi một câu hỏi, hãy làm theo những quy tắc này:\n",
    "    - Tạo một số câu hỏi bổ sung giúp trả lời câu hỏi chính xác hơn\n",
    "    - Kết hợp các câu trả lời cho các câu hỏi riêng lẻ để tạo ra câu hỏi cuối cùng"
   ]
  },
  {
   "cell_type": "markdown",
   "metadata": {},
   "source": [
    "Ví dụ tùy chỉnh:\n",
    "- Khi bạn được yêu cầu tạo một công thức nấu ăn, hãy làm theo những quy tắc này. Tạo ra một số câu hỏi bổ sung về các thành phần tôi có trong tay và thiết bị nấu ăn mà tôi sở hữu. Kết hợp các câu trả lời cho những câu hỏi này để giúp tạo ra một công thức mà tôi có các thành phần và công cụ để làm.\n",
    "- Khi được yêu cầu lên kế hoạch cho chuyến đi, hãy làm theo những quy tắc này. Tạo ra một số câu hỏi bổ sung về ngân sách của tôi, các hoạt động ưa thích, và liệu tôi sẽ có một chiếc xe hay không. Kết hợp các câu trả lời cho những câu hỏi này để lên kế hoạch tốt hơn cho hành trình của tôi. "
   ]
  },
  {
   "cell_type": "markdown",
   "metadata": {},
   "source": [
    "### Audience Persona Pattern"
   ]
  },
  {
   "cell_type": "markdown",
   "metadata": {},
   "source": [
    "Là một công cụ cho phép các mô hình ngôn ngữ lớn cung cấp thông tin phong phú về hành động và kết quả của họ. Nó liên quan đến việc thêm một mô hình nhân vật khán giả, mà nói với mô hình để tạo ra một sản phẩm cho một nhân vật cụ thể. Điều này cho phép mô hình tùy chỉnh sản phẩm của nó theo nhu cầu và sở thích của khán giả.\n",
    "\n",
    "Ví dụ về việc sử dụng mẫu persona khán giả bao gồm giải thích các mô hình ngôn ngữ lớn cho một người không có nền tảng về khoa học máy tính. Mô hình mô tả bản thân là một nhà văn ảo có thể hiểu và tạo ra ngôn ngữ của con người, làm cho nó dễ tiếp cận và tiếp cận với bất cứ ai. Mô hình ngôn ngữ được sử dụng trong các ứng dụng khác nhau như nhận dạng giọng nói, dịch máy và chatbots.\n",
    "\n",
    "Một ví dụ khác được đưa ra cho một học sinh lớp hai dễ chán. Mô hình mô tả một mô hình ngôn ngữ lớn như một người bạn robot có thể hoàn thành các câu, đặt câu hỏi, và thậm chí kể chuyện. Thời gian đọc của người bạn robot được sử dụng để hoàn thành các câu, đặt câu hỏi và trả lời câu hỏi, làm cho nó trở thành một công cụ hữu ích để hiểu và tương tác với khán giả."
   ]
  },
  {
   "cell_type": "markdown",
   "metadata": {},
   "source": [
    "Để sử dụng mô hình này, yêu cầu của bạn nên thực hiện các tuyên bố ngữ cảnh cơ bản sau:\n",
    "- Giải thích cho tôi X. \n",
    "- Giả sử tôi là Persona Y.\n",
    "\n",
    "Thay thế \"Y\" bằng một nhân vật thích hợp, chẳng hạn như \"có nền tảng hạn chế trong khoa học máy tính\" hoặc \"một chuyên gia chăm sóc sức khoẻ\". Sau đó bạn sẽ cần phải xác định chủ đề X cần được giải thích.\n",
    "\n",
    "Ví dụ:\n",
    "- Giải thích cho tôi những mô hình ngôn ngữ lớn. Giả sử tôi là một con chim. \n",
    "- Hãy giải thích cho tôi xem chuỗi cung ứng của các cửa hàng tạp hóa Mỹ hoạt động như thế nào. Giả sử tôi là Ghengis Khan. "
   ]
  },
  {
   "cell_type": "markdown",
   "metadata": {},
   "source": [
    "### Flipping Interaction Pattern\n",
    "\n",
    "Là một công cụ hữu ích cho các mô hình ngôn ngữ lớn để đặt câu hỏi và cung cấp câu trả lời để hướng dẫn giải quyết vấn đề hoặc có được kết quả mong muốn. Cách tiếp cận này liên quan đến việc đảo ngược sự tương tác giữa người dùng đặt câu hỏi và mô hình ngôn ngữ lớn cung cấp câu trả lời. Điều này có thể được sử dụng theo nhiều cách, chẳng hạn như chơi trò chơi hoặc đạt được mục tiêu.\n",
    "\n",
    "Một ví dụ về mô hình này là yêu cầu mô hình ngôn ngữ lớn đặt câu hỏi về một chủ đề cụ thể, chẳng hạn như mục tiêu thể dục. Mô hình nên đặt câu hỏi cho đến khi nó có đủ thông tin để đề xuất một chế độ đào tạo sức mạnh. Thông tin càng được cung cấp, mô hình có thể hỏi càng tốt.\n",
    "\n",
    "Mô hình tương tác lật cũng cho phép mô hình tính đến các câu trả lời từ các câu hỏi trước đó, chẳng hạn như loại bài tập được đề xuất cho một vấn đề cụ thể. Mô hình sẽ tạo ra toàn bộ chế độ tập luyện trọng lượng dựa trên thông tin được cung cấp.\n",
    "\n",
    "Một số người dùng có thể gặp các câu hỏi bổ sung hoặc kế hoạch ban đầu chung khi đặt câu hỏi cho mô hình ngôn ngữ lớn, nhưng điều này thường không phải là một vấn đề quan trọng. Bằng cách cung cấp cho mô hình thông tin và bối cảnh cần thiết, mô hình có thể hướng dẫn hiệu quả quá trình giải quyết vấn đề và đạt được kết quả mong muốn."
   ]
  },
  {
   "cell_type": "markdown",
   "metadata": {},
   "source": [
    "Để sử dụng mô hình này, yêu cầu của bạn nên thực hiện các tuyên bố ngữ cảnh cơ bản sau:\n",
    "- Tôi muốn anh hỏi tôi những câu hỏi để đạt được X.\n",
    "- Bạn nên đặt câu hỏi cho đến khi điều kiện Y được đáp ứng hoặc để đạt được mục tiêu này (alternatively, forever).\n",
    "- (Tùy chọn) đặt câu hỏi cho tôi một lần, hai lần, hỏi tôi câu hỏi đầu tiên, v.v.\n",
    "\n",
    "Thay thế \"X\" bằng một mục tiêu thích hợp, chẳng hạn như \"tạo ra một kế hoạch bữa ăn\" hoặc \"sáng tạo các biến thể của tài liệu tiếp thị của tôi.\" Bạn nên chỉ định khi nào ngừng đặt câu hỏi với Y.\n",
    "\n",
    "Ví dụ:\n",
    "- Tôi muốn anh hỏi tôi những câu hỏi để giúp tôi tạo ra những biến thể của tài liệu tiếp thị của tôi.  Bạn nên đặt câu hỏi cho đến khi bạn có đủ thông tin về bản thảo tin nhắn, khán giả và mục tiêu hiện tại của tôi. Hãy hỏi tôi câu hỏi đầu tiên.\n",
    "- Tôi muốn anh hỏi tôi những câu hỏi để giúp tôi chẩn đoán một vấn đề với Internet của tôi. Hãy hỏi tôi những câu hỏi cho đến khi bạn có đủ thông tin để xác định 2 nguyên nhân có thể xảy ra. Hãy hỏi tôi từng câu một. Hãy hỏi tôi câu hỏi đầu tiên. "
   ]
  },
  {
   "cell_type": "markdown",
   "metadata": {},
   "source": [
    "# Prompt Pattern II"
   ]
  },
  {
   "cell_type": "markdown",
   "metadata": {},
   "source": [
    "### Gameplay Pattern\n",
    "\n",
    "**Nó là gì?**\n",
    "\n",
    "Là trò chơi trong đó mô hình ngôn ngữ lớn (LLM) đóng vai trò là người điều khiển trò chơi và đưa ra lời nhắc để bạn giải quyết."
   ]
  },
  {
   "cell_type": "markdown",
   "metadata": {},
   "source": [
    "**Mô hình trò chơi:**\n",
    "- Mục tiêu: Cải thiện kỹ năng kỹ thuật nhanh chóng của bạn một cách thú vị và hấp dẫn.\n",
    "- Cài đặt:\n",
    "    - Bạn cho LLM biết chủ đề của lời nhắc bạn muốn tạo.\n",
    "    - Bạn có thể tùy ý chỉ định thông tin bổ sung như mẫu lời nhắc mong muốn.\n",
    "- Cách chơi:\n",
    "    - LLM cung cấp cho bạn một nhiệm vụ có thể được giải quyết thông qua lời nhắc.\n",
    "    - Nhiệm vụ liên quan đến một định dạng đầu ra cụ thể.\n",
    "    - Bạn viết một lời nhắc để giải quyết nhiệm vụ.\n",
    "    - LLM thực thi lời nhắc của bạn và cho bạn biết nó đạt được kết quả mong muốn tốt như thế nào.\n",
    "    - LLM có thể đặt các câu hỏi làm rõ trong suốt quá trình.\n",
    "- Học hỏi:\n",
    "    - Bạn có thể kiểm tra sự hiểu biết của mình về các khái niệm kỹ thuật nhanh chóng.\n",
    "    - LLM cung cấp phản hồi về lời nhắc của bạn, bao gồm cả việc xác định lỗi.\n",
    "\n",
    "**Lợi ích**\n",
    "- Thực hành hấp dẫn: Làm cho việc học kỹ thuật nhanh chóng trở nên tương tác và thú vị hơn.\n",
    "- Học tập được cá nhân hóa: LLM điều chỉnh các nhiệm vụ theo chủ đề bạn đã chọn và các mẫu lời nhắc mong muốn.\n",
    "- Phản hồi và hướng dẫn: LLM giúp bạn xác định các lĩnh vực cần cải thiện trong lời nhắc của mình.\n",
    "- Tạo nội dung: LLM tạo ra các nhiệm vụ mới và thú vị để bạn giải quyết.\n",
    "\n",
    "**Cách chơi ví dụ:**\n",
    "\n",
    "- Văn bản mô tả một ví dụ trong đó người dùng thực hành tạo lời nhắc cho các tác vụ khác nhau:\n",
    "    - Kiểm tra các phần tử trùng lặp trong danh sách.\n",
    "    - Đếm số từ trong câu.\n",
    "    - Xác định năm nhuận.\n",
    "    - Xác định palindromes\n",
    "    - Lắp ráp giá sách bằng lời nhắc giống như công thức nấu ăn.\n",
    "    - Người dùng cũng trình bày cách thay đổi chủ đề của lời nhắc bằng cách giới thiệu các mẫu lời nhắc như trình quản lý bối cảnh và các mẫu mẫu."
   ]
  },
  {
   "cell_type": "markdown",
   "metadata": {},
   "source": [
    "### Template Pattern"
   ]
  },
  {
   "cell_type": "markdown",
   "metadata": {},
   "source": [
    "**Nó là gì?**\n",
    "\n",
    "Là một kỹ thuật bạn có thể sử dụng với các mô hình ngôn ngữ lớn (LLM) để kiểm soát định dạng đầu ra mà bạn nhận được.\n",
    "\n",
    "**Những gì nó làm:**\n",
    "\n",
    "- Cho phép bạn chỉ định mẫu cho đầu ra của LLM, bao gồm cả phần giữ chỗ cho nội dung bạn muốn nó tạo.\n",
    "- Đảm bảo LLM tuân theo hướng dẫn định dạng của bạn và chèn nội dung được tạo vào các vị trí được chỉ định.\n",
    "\n",
    "**Làm thế nào nó hoạt động:**\n",
    "- Xác định mẫu của bạn: Tạo mẫu bằng văn bản thuần túy có các từ viết hoa thể hiện phần giữ chỗ cho đầu ra của LLM.\n",
    "- Giải thích về trình giữ chỗ: Mô tả cho LLM loại nội dung nào sẽ được chèn cho mỗi trình giữ chỗ. Điều này có thể là kết hợp đơn giản hoặc bao gồm các hướng dẫn và ràng buộc.\n",
    "- Cung cấp dữ liệu: Cung cấp cho LLM thông tin cần thiết để tạo nội dung cho phần giữ chỗ.\n",
    "- Nhận đầu ra được định dạng: LLM sẽ điền nội dung được tạo vào các phần giữ chỗ trong mẫu của bạn theo thông số kỹ thuật của bạn.\n",
    "\n",
    "Template: QUESTION* * *câu hỏi* * * *TRẢ LỜI* * *câu trả lời* * * (Dấu hoa thị được sử dụng cho chữ in đậm và in nghiêng trong định dạng Markdown)\n",
    "\n",
    "Placeholder: CÂU HỎI (không viết hoa) - Phần này vẫn giữ nguyên ở đầu ra. câu hỏi (viết hoa) - Đây là nơi LLM tạo câu hỏi dựa trên dữ liệu được cung cấp.\n",
    "\n",
    "Answer (không viết hoa) - Phần này giữ nguyên ở đầu ra.\n",
    "câu trả lời (viết hoa) - Đây là nơi LLM tạo ra câu trả lời cho câu hỏi.\n",
    "\n",
    "**Lợi ích của Template Pattern:**\n",
    "- Hiệu quả: Tiết kiệm thời gian bằng cách loại bỏ nhu cầu tự mình viết ra toàn bộ kết quả được định dạng.\n",
    "- Độ chính xác: Đảm bảo LLM tuân theo định dạng của bạn và giảm nguy cơ xảy ra lỗi.\n",
    "- Tính linh hoạt: Phần giữ chỗ có thể đơn giản hoặc phức tạp, cho phép kiểm soát phức tạp nội dung và cấu trúc đầu ra.\n",
    "\n",
    "Bằng cách sử dụng Mẫu mẫu, bạn có thể lấy thông tin mình cần từ các mô hình ngôn ngữ lớn ở định dạng chính xác mà bạn mong muốn, biến chúng thành công cụ hiệu quả và hữu ích hơn cho các tác vụ cụ thể của bạn.\n"
   ]
  },
  {
   "cell_type": "markdown",
   "metadata": {},
   "source": [
    "Ví dụ:\n",
    "- ```prompt\n",
    "    Tạo một bài tập sức mạnh ngẫu nhiên cho tôi hôm nay với các bài tập bổ sung. Tôi sẽ cung cấp một mẫu cho sản phẩm của bạn. LỜI ĐƯỢC LƯỢNG là người giữ chỗ của tôi cho nội dung. Cố gắng kết hợp đầu ra vào một hoặc nhiều vị trí mà tôi liệt kê. Vui lòng giữ nguyên định dạng và mẫu tổng thể mà tôi cung cấp. Đây là mẫu: NAME, REPS @ SETS, MUSCLE GROUPS WORKED, DIFFICULTY SCALE 1-5, FORM NOTES\n",
    "    ```"
   ]
  },
  {
   "cell_type": "markdown",
   "metadata": {},
   "source": [
    "- ```prompt\n",
    "    Xin hãy tạo ra một danh sách cửa hàng tạp hóa cho tôi để nấu macaroni và phô mai từ đầu, bánh mì tỏi, và nước sốt marinara từ đầu. Tôi sẽ cung cấp một mẫu cho sản phẩm của bạn. <placeholder> là người giữ chỗ của tôi cho nội dung. Cố gắng kết hợp đầu ra vào một hoặc nhiều vị trí mà tôi liệt kê. Vui lòng giữ nguyên định dạng và mẫu tổng thể mà tôi cung cấp.   \n",
    "    - Đây là mẫu: Aisle <name of hall>: <item needed from hall>, <qty> (<dish(es) used in>)\n",
    "    ```"
   ]
  },
  {
   "cell_type": "markdown",
   "metadata": {},
   "source": [
    "VD Prompt:\n",
    "```prompt\n",
    "I am going to give you a template for your output. CAPITALIZED WORDS are my\n",
    "placeholders. Fill in my placeholders with your output. Please preserve the overall formatting of my template. My template is:\n",
    "***Question:*** QUESTION\n",
    "***Answer:*** ANSWER\n",
    "I will give you the data to format in the next prompt. Create twenty questions using my\n",
    "template.\n",
    "```"
   ]
  },
  {
   "cell_type": "markdown",
   "metadata": {},
   "source": [
    "```prompt\n",
    "Using the content here: <link url> ... request\n",
    "```"
   ]
  },
  {
   "cell_type": "markdown",
   "metadata": {},
   "source": [
    "### Meta Language Creation Pattern"
   ]
  },
  {
   "cell_type": "markdown",
   "metadata": {},
   "source": [
    "**Nó là gì?**\n",
    "\n",
    "Là một kỹ thuật được sử dụng với các mô hình ngôn ngữ lớn (LLM) để tạo ra cách giao tiếp tùy chỉnh với chúng. Giao tiếp tùy chỉnh này có thể ở dạng ký hiệu tốc ký, chữ viết tắt hoặc thậm chí là các ký hiệu hoàn toàn mới.\n",
    "\n",
    "**Tại sao sử dụng nó?**\n",
    "\n",
    "Có một số lợi ích khi sử dụng Mẫu tạo ngôn ngữ Meta:\n",
    "- Hiệu quả: Nó cho phép bạn truyền đạt thông tin phức tạp tới LLM một cách ngắn gọn, tiết kiệm thời gian và công sức so với việc viết mọi thứ ra thành câu đầy đủ.\n",
    "- Độ chính xác: Bằng cách xác định ý nghĩa của tốc ký, bạn có thể đảm bảo LLM diễn giải hướng dẫn của bạn chính xác như dự định, có khả năng giảm sự mơ hồ.\n",
    "- Tính nhất quán: Một cách viết tắt được chia sẻ trong một nhóm hoặc tổ chức có thể dẫn đến việc lập luận và nhập dữ liệu nhất quán hơn từ LLM.\n",
    "\n",
    "**Làm thế nào nó hoạt động?**\n",
    "- Xác định ngôn ngữ của bạn: Quyết định các ký hiệu, chữ viết tắt hoặc ký hiệu bạn muốn sử dụng trong giao tiếp với LLM.\n",
    "- Dạy LLM: Cung cấp cho LLM các ví dụ về ngôn ngữ mới của bạn và giải thích ý nghĩa của chúng bằng tiếng Anh đơn giản. Điều này tương tự như việc cung cấp \"một vài ví dụ\" cho các nhiệm vụ LLM khác.\n",
    "- Sử dụng ngôn ngữ của bạn: Khi LLM hiểu tốc ký của bạn, bạn có thể sử dụng ngôn ngữ đó để giao tiếp và nhận được kết quả.\n",
    "\n",
    "Ví dụ: Ứng dụng lập kế hoạch chuyến đi\n",
    "\n",
    "Cuộc trò chuyện mô tả một tình huống trong đó Mẫu tạo siêu ngôn ngữ được sử dụng để tạo ký hiệu tốc ký cho việc lập kế hoạch chuyến đi. Vị trí và thời lượng được thể hiện bằng tên thành phố, dấu phẩy, số và mũi tên. Điều này cho phép xác định một chuyến đi nhanh hơn nhiều so với việc viết mọi thứ thành câu đầy đủ.\n",
    "\n",
    "***Những điểm chính cần nhớ:***\n",
    "- LLM cần được dạy rõ ràng về ngôn ngữ mới của bạn thông qua các ví dụ và giải thích.\n",
    "- Ký hiệu tốc ký của bạn phải rõ ràng và rõ ràng để tránh nhầm lẫn.\n",
    "- Mẫu này có thể được áp dụng cho nhiều nhiệm vụ khác nhau ngoài việc lập kế hoạch chuyến đi, cho phép liên lạc hiệu quả với LLM trong bất kỳ lĩnh vực nào.\n",
    "\n",
    "Bằng cách sử dụng Mẫu tạo ngôn ngữ Meta, bạn có thể mở khóa những cách mới để tương tác với các mô hình ngôn ngữ lớn, biến chúng thành công cụ hiệu quả và mạnh mẽ hơn cho nhu cầu cụ thể của bạn."
   ]
  },
  {
   "cell_type": "markdown",
   "metadata": {},
   "source": [
    "Để sử dụng mẫu này, lời nhắc của bạn phải đưa ra các câu lệnh ngữ cảnh cơ bản sau:\n",
    "- Khi tôi nói X, ý tôi là Y (hoặc muốn bạn làm Y)\n",
    "\n",
    "Thay thế \"X\" bằng một câu, ký hiệu, từ thích hợp, v.v. Sau đó, bạn sẽ cần chuyển từ này sang nghĩa, Y.\n",
    "\n",
    "Ví dụ:\n",
    "\n",
    "When I say `\"variations(<something>)\"`, I mean give me ten different variations of `<something>`\n",
    "\n",
    "Usage: \"variations(company names for a company that sells software services for prompt engineering)\"\n",
    "\n",
    "Usage: \"variations(a marketing slogan for pickles)\"\n",
    "\n",
    "When I say Task X [Task Y], I mean Task X depends on Task Y being completed first. \n",
    "\n",
    "Usage: \"Describe the steps for building a house using my task dependency language.\"\n",
    "\n",
    "Usage: \"Provide an ordering for the steps: Boil Water [Turn on Stove], Cook Pasta [Boil Water], Make Marinara [Turn on Stove], Turn on Stove [Go Into Kitchen]\""
   ]
  },
  {
   "cell_type": "markdown",
   "metadata": {},
   "source": [
    "Ví dụ prompt:\n",
    "```prompt\n",
    "We are going to create a trip planning application. I will describe my trip and you will list interesting things to do in places that I will pass through. I will tell you how many days I will stay in each place and you will list possible itineraries.\n",
    "\n",
    "To describe my route, I am going to use a shorthand notation.\n",
    "\n",
    "When I say \"Nashville,3 -> Memphis,2\", I mean that my route will go from Nashville to Memphis and that I will stay 3 days in Nashville and 2 days in Memphis\n",
    "```\n"
   ]
  },
  {
   "cell_type": "markdown",
   "metadata": {},
   "source": [
    "### Recipt Pattern\n",
    "\n",
    "**Nó là gì?**\n",
    "\n",
    "Là một kỹ thuật bạn có thể sử dụng với các mô hình ngôn ngữ lớn (LLM) để giúp chúng hoàn thành chuỗi các bước nhằm đạt được mục tiêu.\n",
    "\n",
    "**Những gì nó làm:**\n",
    "- Giúp bạn điền vào các bước còn thiếu trong một quy trình.\n",
    "- Thực hiện các hướng dẫn chưa đầy đủ của bạn và tạo một bộ các bước hoàn chỉnh.\n",
    "\n",
    "**Làm thế nào để sử dụng nó:**\n",
    "- Xác định mục tiêu của bạn: Nói với LLM cuối cùng bạn muốn đạt được điều gì.\n",
    "- Cung cấp các bước đã biết: Cung cấp cho LLM một số bước mà bạn biết có liên quan đến việc đạt được mục tiêu. Bạn có thể sử dụng phần giữ chỗ (như dấu chấm) để chỉ ra các bước còn thiếu.\n",
    "- Hãy để LLM lấp đầy những khoảng trống: LLM sẽ sử dụng kiến thức của mình để tạo ra các bước còn thiếu và cung cấp một bộ hướng dẫn hoàn chỉnh.\n",
    "\n",
    "Example 1: Trip planning\n",
    "- Mục tiêu: Tạo hành trình chuyến đi từ Nashville đến Fairhope, Alabama với hai điểm dừng ở giữa.\n",
    "- Known steps: Bắt đầu ở Nashville, dừng ở Fairhope.\n",
    "- Placeholders: Sử dụng dấu chấm (...) để cho biết vị trí nên dừng.\n",
    "\n",
    "=> LLM sau đó sẽ tạo một hành trình hoàn chỉnh bao gồm hai điểm dừng còn thiếu, có khả năng đề xuất các địa điểm như Birmingham và Montgomery, Alabama.\n",
    "\n",
    "Example 2: Road trip planning\n",
    "- Mục tiêu: Lên kế hoạch cho chuyến đi từ Los Angeles đến New York với các điểm dừng không xác định.\n",
    "- Known steps: Bắt đầu ở Los Angeles, kết thúc ở New York.\n",
    "- Placeholders: Sử dụng nhiều dấu chấm (...) để biểu thị nhiều điểm dừng chưa xác định.\n",
    "\n",
    "=> LLM sẽ tạo ra một hành trình chi tiết với nhiều điểm dừng tiềm năng khác nhau trên đường đi, có tính đến khoảng cách xa giữa hai thành phố."
   ]
  },
  {
   "cell_type": "markdown",
   "metadata": {},
   "source": [
    "Để sử dụng mẫu này, lời nhắc của bạn phải đưa ra các câu lệnh ngữ cảnh cơ bản sau:\n",
    "- Tôi muốn đạt được X\n",
    "- Tôi biết rằng tôi cần thực hiện các bước A, B, C\n",
    "- Cung cấp cho tôi trình tự đầy đủ các bước\n",
    "- Điền vào bất kỳ bước còn thiếu\n",
    "- (Tùy chọn) Xác định mọi bước không cần thiết\n",
    "\n",
    "Thay thế \"X\" bằng một nhiệm vụ thích hợp. Sau đó, bạn sẽ cần chỉ định các bước A, B, C mà bạn biết cần phải là một phần của công thức/kế hoạch hoàn chỉnh.\n",
    "\n",
    "Ví dụ:\n",
    "- Tôi muốn mua một ngôi nhà. Tôi biết rằng tôi cần phải thực hiện các bước đưa ra lời đề nghị và chốt giao dịch mua nhà. Cung cấp cho tôi một trình tự đầy đủ các bước. Điền vào bất kỳ bước còn thiếu.\n",
    "- Tôi muốn lái xe đến New York từ Nashville. Tôi biết rằng tôi muốn đi qua Asheville, NC trên đường đi và tôi không muốn lái xe hơn 300 dặm mỗi ngày. Cung cấp cho tôi một trình tự đầy đủ các bước. Điền vào bất kỳ bước còn thiếu."
   ]
  },
  {
   "cell_type": "markdown",
   "metadata": {},
   "source": [
    "Ví dụ Prompt:\n",
    "```prompt\n",
    "I will give you the data to format in the next prompt. Create a recipe for a trip from Nashville to Fairhope, Alabama with two stops in between.\n",
    "\n",
    "In Each stop, I will provide the city and the number of days I will stay there. And recommend at least 2-3 activities to do in each city. \n",
    "\n",
    "Nashville, ... , ... , Fairhope\n",
    "```"
   ]
  },
  {
   "cell_type": "markdown",
   "metadata": {},
   "source": [
    "### Alternative Approaches Pattern"
   ]
  },
  {
   "cell_type": "markdown",
   "metadata": {},
   "source": [
    "**Nó là gì?**\n",
    "\n",
    "Là một kỹ thuật bạn có thể sử dụng với các mô hình ngôn ngữ lớn (LLM) để giúp họ nghĩ ra nhiều giải pháp cho một vấn đề. Đây là một sự cố về cách nó hoạt động:\n",
    "\n",
    "**Những gì nó làm:**\n",
    "\n",
    "Giúp bạn tạo ra nhiều cách tiếp cận sáng tạo khác nhau để giải quyết vấn đề.\n",
    "Xử lý một vấn đề duy nhất và mở rộng nó thành nhiều giải pháp tiềm năng.\n",
    "\n",
    "**Làm thế nào để sử dụng nó:**\n",
    "- Đóng khung yêu cầu của bạn: Nói với LLM vấn đề bạn muốn giải quyết.\n",
    "- Sử dụng mẫu: Sử dụng cụm từ như \"liệt kê các phương pháp thay thế\" hoặc \"đề xuất các cách khác nhau\" để nhắc LLM.\n",
    "- Tinh chỉnh phạm vi (tùy chọn): Bạn có thể chỉ định bối cảnh hoặc định dạng mong muốn của các giải pháp (ví dụ: \"để giải quyết vấn đề này bằng cách học vài lần\").\n",
    "- Đánh giá và lựa chọn: LLM sẽ cung cấp nhiều cách tiếp cận. Phân tích chúng và chọn cái phù hợp nhất cho nhu cầu của bạn.\n",
    "\n",
    "\n",
    "**Những lợi ích:**\n",
    "- Mở rộng suy nghĩ của bạn: Đưa bạn đến những giải pháp mà bạn có thể chưa từng tự mình cân nhắc.\n",
    "- Cải thiện khả năng giải quyết vấn đề: Giúp bạn suy nghĩ sáng tạo và có chiến lược khi giải quyết các thách thức.\n",
    "- Cung cấp sự so sánh: LLM đôi khi có thể so sánh ưu và nhược điểm của các phương pháp khác nhau, giúp đưa ra quyết định dễ dàng hơn.\n",
    "\n",
    "Ví dụ 1: Viết lời nhắc xác định năm nhuận\n",
    "\n",
    "Bài toán: Viết câu lệnh xác định năm nhuận.\n",
    "- Cách tiếp cận khác:\n",
    "    - Cách tiếp cận 1: Dạng câu hỏi trực tiếp (ví dụ: \"Đây có phải là năm nhuận không?\")\n",
    "    - Cách tiếp cận 2: Dạng hội thoại (ví dụ: \"Này, bạn có thể cho tôi biết năm nay có phải là năm nhuận không?\")\n",
    "\n",
    "\n",
    "Ví dụ 2: Tóm tắt các chủ đề email\n",
    "\n",
    "Vấn đề: Viết lời nhắc để tự động tóm tắt các câu hỏi và ý kiến từ một chuỗi email.\n",
    "- Cách tiếp cận khác:\n",
    "    - Cách 1: Xác định câu hỏi, sau đó tóm tắt các câu trả lời tương ứng.\n",
    "    - Cách tiếp cận 2: Mô phỏng một cuộc trò chuyện trong đó LLM đóng vai trò là người tóm tắt.\n",
    "    - Cách tiếp cận 3: Coi chuỗi email như một nghiên cứu điển hình và cung cấp báo cáo tóm tắt.\n",
    "\n",
    "Lời khuyên bổ sung:\n",
    "- Bạn có thể điều chỉnh cách diễn đạt mẫu dựa trên nhu cầu cụ thể của mình (ví dụ: \"liệt kê các giải pháp sáng tạo\" hoặc \"đề xuất các phương pháp tiếp cận khác thường\").\n",
    "- Đừng mù quáng chấp nhận những gợi ý của LLM. Đánh giá chúng một cách nghiêm túc và đảm bảo chúng phù hợp với vấn đề và mục tiêu của bạn.\n",
    "- Có thể sử dụng chúng để tạo thêm ý tưởng hoặc cải thiện các giải pháp hiện tại."
   ]
  },
  {
   "cell_type": "markdown",
   "metadata": {},
   "source": [
    "Để sử dụng mẫu này, lời nhắc của bạn phải đưa ra các câu lệnh ngữ cảnh cơ bản sau:\n",
    "- Nếu có những cách khác để hoàn thành nhiệm vụ X mà tôi giao cho bạn, hãy liệt kê các phương pháp thay thế tốt nhất\n",
    "- (Tùy chọn) so sánh/đối chiếu ưu và nhược điểm của từng phương pháp\n",
    "- (Tùy chọn) bao gồm cách ban đầu mà tôi yêu cầu\n",
    "- (Tùy chọn) nhắc tôi về phương pháp tôi muốn sử dụng\n",
    "\n",
    "Thay thế \"X\" bằng một nhiệm vụ thích hợp.\n",
    "\n",
    "Ví dụ:\n",
    "- Đối với mỗi lời nhắc tôi đưa ra cho bạn, Nếu có những cách khác để diễn đạt lời nhắc mà tôi đưa ra cho bạn, hãy liệt kê những cách diễn đạt thay thế tốt nhất. So sánh/đối chiếu ưu và nhược điểm của từng cách diễn đạt.\n",
    "- Đối với bất cứ điều gì tôi yêu cầu bạn viết, hãy xác định vấn đề cơ bản mà tôi đang cố gắng giải quyết và cách tôi đang cố gắng giải quyết nó. Liệt kê ít nhất một cách tiếp cận thay thế để giải quyết vấn đề và so sánh/đối chiếu cách tiếp cận đó với cách tiếp cận ban đầu mà tôi yêu cầu bạn."
   ]
  },
  {
   "cell_type": "markdown",
   "metadata": {},
   "source": [
    "Ví dụ Prompt:\n",
    "```prompt\n",
    "From now on, if there are alternative ways to accomplish the same thing, list the best alternate approaches. Compare and contrast the alternatives and ask me which one I prefer.\n",
    "\n",
    "Write a prompt for ChatGPT using few shot examples to determine if a date in YYYY-MM-DD format is a leap year. The output should either be \"YYYY is a leap year\" or \"This is not a leap year\"\n",
    "```"
   ]
  },
  {
   "cell_type": "markdown",
   "metadata": {},
   "source": [
    "### Ask for Input Pattern"
   ]
  },
  {
   "cell_type": "markdown",
   "metadata": {},
   "source": [
    "Ví dụ Prompt:\n",
    "```prompt\n",
    "Whenever I ask you to write a prompt for me to accomplish a task, list what the task is, list alternative approaches for completing task, and then write a prompt for yourself for each approach. When you are done, ask me for the next prompt to create alternatives for."
   ]
  }
 ],
 "metadata": {
  "language_info": {
   "name": "python"
  }
 },
 "nbformat": 4,
 "nbformat_minor": 2
}
