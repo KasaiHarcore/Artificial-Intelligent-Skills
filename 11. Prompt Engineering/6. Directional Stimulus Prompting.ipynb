{
 "cells": [
  {
   "cell_type": "markdown",
   "metadata": {},
   "source": [
    "***Directional Stimulus Prompting*** là một kỹ thuật được sử dụng trong advanced prompting để hướng dẫn các hệ thống AI tạo ra các phản hồi cụ thể bằng cách cung cấp cho chúng những gợi ý hoặc tín hiệu về kết quả mong muốn. Nó liên quan đến việc hướng sự chú ý của AI tới các khía cạnh hoặc chi tiết cụ thể, từ đó ảnh hưởng đến nội dung của đầu ra được tạo ra. Cách tiếp cận này giúp đảm bảo rằng phản hồi của AI phù hợp với mục tiêu và sở thích của người dùng, mang lại kết quả phù hợp và nhắm mục tiêu hơn."
   ]
  },
  {
   "cell_type": "markdown",
   "metadata": {},
   "source": [
    "VD:\n",
    "\n",
    "{...context}\n",
    "\n",
    "Summarize the above in 2-3 sentences based on the hint. \n",
    "\n",
    "Hint: {given hint to help model focus on ...} "
   ]
  },
  {
   "cell_type": "markdown",
   "metadata": {},
   "source": [
    "Điều này giúp AI tập trung vào các khía cạnh cụ thể của văn bản và tạo ra một bản tóm tắt ngắn gọn và chính xác hơn. Ngoài tóm tắt, AI cũng có thể tạo ra các phản hồi hoặc đầu ra khác dựa trên sự chú ý đặc biệt này."
   ]
  }
 ],
 "metadata": {
  "language_info": {
   "name": "python"
  }
 },
 "nbformat": 4,
 "nbformat_minor": 2
}
