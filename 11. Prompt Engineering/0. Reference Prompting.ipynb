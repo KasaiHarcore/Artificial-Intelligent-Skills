{
 "cells": [
  {
   "cell_type": "markdown",
   "metadata": {},
   "source": [
    "# Introduction:\n",
    "\n",
    "*AI-driven conversations*, điều quan trọng là phải hiểu cơ chế đằng sau các tương tác. Mặc dù có vẻ giống như tương tác với một thực thể thông minh nhưng về cơ bản, đây là một quá trình gửi yêu cầu đến các mô hình dữ liệu được đào tạo về ngôn ngữ con người. Hướng dẫn này đi sâu vào khái niệm nhắc nhở tham khảo, một kỹ thuật giúp nâng cao đáng kể độ chính xác và mức độ liên quan của các phản hồi từ các mô hình AI như ChatGPT.\n",
    "\n",
    "## Key Points:\n",
    "- Tìm hiểu chức năng của mô hình AI: Các mô hình AI hoạt động bằng cách khớp các mẫu ngôn ngữ của con người theo thống kê. Bất chấp ảo tưởng về trí thông minh, họ không phải là chúng sinh mà là những thuật toán phức tạp xử lý dữ liệu.\n",
    "\n",
    "- Hạn chế của Mô hình AI: Một ví dụ nêu bật những hạn chế của chúng là không thể đánh vần ngược các từ một cách chính xác do quá trình mã hóa. Điều này nhấn mạnh tầm quan trọng của việc nhận ra cơ chế đằng sau phản ứng của AI.\n",
    "\n",
    "- Sức mạnh của bối cảnh: Việc cung cấp bối cảnh giúp cải thiện đáng kể độ chính xác của các phản hồi của mô hình AI. Ngữ cảnh có thể ở dạng văn bản, tài liệu tham khảo hoặc hướng dẫn cụ thể.\n",
    "\n",
    "- Tầm quan trọng của thông tin cụ thể: Khi tìm kiếm thông tin cụ thể từ các mô hình AI, việc cung cấp ngữ cảnh hoặc tài liệu tham khảo là rất quan trọng. Nó hướng dẫn mô hình trích xuất các chi tiết liên quan một cách hiệu quả.\n",
    "\n",
    "- AI Models as Language Transformers: Các mô hình AI như ChatGPT rất thành thạo trong việc chuyển đổi ngôn ngữ. Họ truy xuất thông tin dựa trên văn bản hoặc ngữ cảnh được cung cấp, khiến họ thành thạo trong việc trả lời các truy vấn bằng tài liệu tham khảo phù hợp.\n",
    "\n",
    "- Effective Reference Prompting: Để nâng cao độ chính xác của câu trả lời, hãy kết hợp các kỹ thuật nhắc nhở tham khảo. Điều này liên quan đến việc cung cấp cho các mô hình AI ngữ cảnh hoặc tài liệu tham khảo liên quan đến truy vấn.\n",
    "\n",
    "- Tối ưu hóa kết quả: Bằng cách cung cấp bối cảnh hoặc điểm tham chiếu cho các mô hình AI, người dùng có thể tối ưu hóa độ chính xác và mức độ liên quan của các phản hồi. Điều này đảm bảo rằng mô hình trích xuất và cung cấp thông tin thích hợp một cách hiệu quả."
   ]
  },
  {
   "cell_type": "markdown",
   "metadata": {},
   "source": [
    "## Tutorial:\n",
    "\n",
    "Để sử dụng phương pháp thúc đẩy tham chiếu một cách hiệu quả, hãy tuân theo các bước sau:\n",
    "\n",
    "- Xác định Truy vấn của Bạn: Rõ ràng định nghĩa thông tin mà bạn đang tìm kiếm từ mô hình trí tuệ nhân tạo (AI).\n",
    "\n",
    "- Thu thập Context hoặc Reference Material: Tập hợp văn bản, dữ liệu, hoặc các tài liệu tham khảo liên quan đến truy vấn của bạn. Điều này có thể bao gồm các bài báo, bài nghiên cứu, hoặc các đoạn trích cụ thể.\n",
    "\n",
    "- Cấu trúc Truy vấn của Bạn: Kết hợp bối cảnh hoặc tài liệu tham khảo thu thập được vào truy vấn của bạn. Cung cấp các hướng dẫn hoặc câu hỏi rõ ràng để hướng dẫn mô hình AI.\n",
    "\n",
    "- Gửi Truy vấn của Bạn: Gửi truy vấn của bạn đến mô hình AI, đảm bảo rằng nó bao gồm bối cảnh hoặc các tài liệu tham khảo cần thiết.\n",
    "\n",
    "- Đánh giá Phản hồi: Xem xét phản hồi từ mô hình AI. Đánh giá xem liệu nó có chính xác đáp ứng truy vấn của bạn và có tích hợp các bối cảnh hoặc tài liệu tham khảo được cung cấp không.\n",
    "\n",
    "- Lặp và Tinh chỉnh: Nếu phản hồi không đạt yêu cầu, điều chỉnh lại truy vấn của bạn bằng cách điều chỉnh bối cảnh hoặc tài liệu tham khảo. Tiếp tục lặp lại cho đến khi bạn đạt được kết quả mong muốn."
   ]
  },
  {
   "cell_type": "markdown",
   "metadata": {},
   "source": [
    "Ex:\n",
    "```prompt\n",
    "As we start talking about advanced prompt engineering, it's important to understand what actually goes on when we talk to these AI models, because while it feels as if we're talking to an entity at the other end that is actually conversing with us, what's actually happening is we're sending off requests to a data model that puts together things that look like sentences and words...\n",
    "\n",
    "Please help me summary all the keypoint in this paragraph.\n",
    "```"
   ]
  },
  {
   "cell_type": "markdown",
   "metadata": {},
   "source": [
    "Where:\n",
    "- The first paragraph is the context or reference material.\n",
    "- The second paragraph is the prompt or query."
   ]
  }
 ],
 "metadata": {
  "language_info": {
   "name": "python"
  }
 },
 "nbformat": 4,
 "nbformat_minor": 2
}
