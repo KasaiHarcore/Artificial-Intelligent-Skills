{
 "cells": [
  {
   "cell_type": "markdown",
   "metadata": {},
   "source": [
    "Generative Knowledge Prompting là một kỹ thuật được sử dụng để tận dụng các hệ thống AI để tạo ra các ví dụ hoặc tạo ra kiến thức liên quan đến các câu hỏi hoặc tuyên bố cụ thể. Nó liên quan đến việc cung cấp đầu vào cho hệ thống AI bao gồm các câu hoặc câu hỏi cùng với các thành phần kiến thức liên quan, là những sự kiện hoặc thông tin liên quan đến những câu hoặc câu hỏi đó. Sau đó, hệ thống AI tạo ra các tuyên bố hoặc kiến thức mới dựa trên thông tin đầu vào được cung cấp, theo cấu trúc và định dạng của các ví dụ."
   ]
  },
  {
   "cell_type": "markdown",
   "metadata": {},
   "source": [
    "VD:\n",
    "\n",
    "- Input: All dogs are descendants of wolves.\n",
    "- Knowledge: All domestic dogs (Canis lupus familiaris) are descended from wolves (Canis lupus). The domestication of dogs from wolves occurred at least 15,000 years ago, but some estimates put the domestication event at up to 40,000 years ago. Through selective breeding over thousands of years, humans have been able to create a wide variety of dog breeds with a range of behaviors, appearances, and abilities.\n",
    "- Input: Every planet in our solar system has moons.\n",
    "- Knowledge: Not every planet in our solar system has moons. Mercury and Venus, the two planets closest to the sun, do not have any natural moons. The other six planets have a total of 205 known moons among them, with Jupiter and Saturn accounting for the majority of these moons due to their strong gravitational pulls.\n",
    "- Input: Humans can only use 10% of their brain.\n",
    "- Knowledge: The idea that humans only use 10% of their brain is a myth. Neuroimaging scans show activity coursing through the entire organ, even while we are at rest or asleep. Although it's true that at any given moment only a small fraction of the brain's neurons are firing, brain researchers using imaging technology have shown that virtually all parts of the brain have a known function.\n",
    "- Input: The color of the sky is due to the ocean's reflection.\n",
    "- Knowledge: The color of the sky is not due to the reflection of the ocean, but rather due to the scattering of sunlight by the atmosphere. The blue color of the sky is the result of a particular type of scattering called Rayleigh scattering. In the lower atmosphere, tiny oxygen and nitrogen molecules scatter short-wavelength light, such blue and violet light, to a far greater degree than than long-wavelength light, such as red and yellow. However, the violet light is absorbed by the upper atmosphere, which is why the sky appears blue instead of violet.\n",
    "- Input: The pinkie toe has no functional purpose.\n",
    "- Knowledge: "
   ]
  },
  {
   "cell_type": "markdown",
   "metadata": {},
   "source": [
    "Khi bạn chạy đầu vào này thông qua hệ thống AI, nó sẽ tạo ra các câu lệnh hoặc phần kiến thức mới dựa trên các ví dụ được cung cấp. Điều này cho phép bạn nhanh chóng tạo ra nhiều thông tin liên quan đến chủ đề, sau đó có thể được sử dụng để đặt câu hỏi cụ thể hơn hoặc đào tạo một hệ thống."
   ]
  }
 ],
 "metadata": {
  "language_info": {
   "name": "python"
  }
 },
 "nbformat": 4,
 "nbformat_minor": 2
}
