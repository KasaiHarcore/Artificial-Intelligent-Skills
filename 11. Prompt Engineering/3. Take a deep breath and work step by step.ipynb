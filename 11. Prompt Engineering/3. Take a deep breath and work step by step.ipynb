{
 "cells": [
  {
   "cell_type": "markdown",
   "metadata": {},
   "source": [
    "Trong đoạn văn trên, \"take a deep breath and work step by step\" được sử dụng như một phần của cấu trúc định hình (prompting) để hướng dẫn hệ thống trí tuệ nhân tạo thực hiện một nhiệm vụ hoặc giải quyết một vấn đề bằng cách phân tích từng bước một.\n",
    "\n",
    "Khi sử dụng cấu trúc này, hệ thống trí tuệ nhân tạo được khuyến khích tiến hành một quá trình tư duy chi tiết và phân tích từng bước một, giống như việc một người phải đối mặt với một vấn đề phức tạp.\n",
    "\n",
    "Cấu trúc \"take a deep breath and work step by step\" không chỉ gợi ý cho hệ thống trí tuệ nhân tạo thực hiện một quy trình phân tích cẩn thận từng bước, mà còn kích thích việc kết hợp các mẫu ngôn ngữ từ dữ liệu huấn luyện của nó. Điều này giúp cải thiện khả năng của hệ thống trong việc tạo ra các câu trả lời chi tiết và chính xác hơn, đặc biệt khi đối mặt với các vấn đề phức tạp như các câu đố logic."
   ]
  },
  {
   "cell_type": "markdown",
   "metadata": {},
   "source": [
    "VD:\n",
    "\n",
    "Take a deep breath and work on this problem step-by-step.\n",
    "\n",
    "48 people are riding a bus. On the first stop, 8 passengers get off, and 5 times as many people as the number who got off from the bus get into the bus. On the second stop 21, passengers get off and 3 times fewer passengers get on. How many passengers are riding the bus after the second stop?"
   ]
  }
 ],
 "metadata": {
  "language_info": {
   "name": "python"
  }
 },
 "nbformat": 4,
 "nbformat_minor": 2
}
