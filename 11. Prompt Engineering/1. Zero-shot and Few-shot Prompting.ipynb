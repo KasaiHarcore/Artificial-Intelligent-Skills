{
 "cells": [
  {
   "cell_type": "markdown",
   "metadata": {},
   "source": [
    "# Introduction to Zero-shot and Few-shot Prompting\n",
    "Zero-shot prompting và few-shot prompting là các kỹ thuật tiên tiến trong kỹ thuật thúc đẩy mà các mô hình trí tuệ nhân tạo sử dụng để tạo ra các câu trả lời dựa trên các ví dụ hoặc mẫu đã cho.\n",
    "\n",
    "- Zero-shot prompting: Trong zero-shot prompting, không cung cấp bất kỳ ví dụ cụ thể nào cho mô hình trí tuệ nhân tạo. Thay vào đó, câu hỏi thường bao gồm một câu hỏi hoặc một số thông tin, và mô hình được mong đợi tạo ra một câu trả lời mà không có bất kỳ ví dụ nào trước đó. Ví dụ, nếu bạn hỏi ChatGPT một câu hỏi mà không cung cấp bất kỳ ví dụ nào, đó sẽ được coi là một zero-shot prompt. Mô hình được mong đợi tạo ra một câu trả lời chỉ dựa trên ngữ cảnh được cung cấp trong câu thúc đẩy.\n",
    "\n",
    "- Few-shot prompting: Trong few-shot prompting, một số lượng nhỏ các ví dụ được cung cấp cho mô hình trí tuệ nhân tạo để hướng dẫn quá trình tạo ra câu trả lời. Các ví dụ này thường tuân theo một mẫu như các cặp câu hỏi-câu trả lời, và giúp mô hình hiểu được định dạng hoặc phong cách đầu ra mong muốn. Ví dụ, nếu một chủ nhà hàng pizza muốn ChatGPT luôn đề cập đến tên nhà hàng của họ trong các câu trả lời và duy trì một phong cách nhất định, họ có thể cung cấp các ví dụ về các câu hỏi và câu trả lời tương ứng trong đó tên nhà hàng được đề cập. Mô hình trí tuệ nhân tạo sau đó học từ các ví dụ này và tạo ra các câu trả lời tuân theo mẫu đã được cung cấp."
   ]
  },
  {
   "cell_type": "markdown",
   "metadata": {},
   "source": [
    "Ví dụ:\n",
    "\n",
    "***Zero-shot prompting***: Hỏi ChatGPT một câu hỏi như \"Các tính năng chính của các mô hình trí tuệ nhân tạo là gì?\" mà không cung cấp bất kỳ ví dụ cụ thể nào về các tính năng sẽ là một zero-shot prompt hoặc chỉ cung cấp một số thông tin chung về mục tiêu cần đạt được.\n",
    "\n",
    "VD:\n",
    "- Comment: This pizza is probably the best in town. If you’re looking for thin-crusted goodness, you now know where to go. Five stars. \n",
    "- Comment: I loved the pizza, but the overall dining experience was not great. The floor was dirty and the bathroom didn’t have a change table so I had to change our baby on top of the toilet which is not ideal. \n",
    "- Comment: Why do restaurants never get my order right? I specifically said I wanted the Supreme Vegetarian and to add pepperoni on top. When I arrived to pick up my order, the person at the counter said they had forgotten to add the pepperoni and asked if I could take the pizza anyway. They didn’t even offer a refund. I said I wanted what I ordered and they went back and made a new pizza. No apology, and I had to wait 20 minutes longer than necessary. Not great.\n",
    "\n",
    "Question: Is this a good restaurant to bring a large family with two babies and people with various dietary restrictions? \n",
    "\n",
    "***Few-shot prompting***: Cung cấp cho ChatGPT một loạt các cặp câu hỏi-câu trả lời trong đó mỗi câu trả lời đề cập đến \"Morten's Pizza Emporium\" sẽ là một few-shot prompt. Ví dụ:\n",
    "\n",
    "- Comment: This pizza is probably the best in town. If you’re looking for thin-crusted goodness, you now know where to go. Five stars. \n",
    "- Response: Thank you very much for your kind words and the five-star rating of Morten’s Pizza Emporium! We are elated to hear that you enjoyed our thin-crust pizza and consider it the best in town. At Morten’s Pizza Emporium we strive to provide delicious pizza and it's very rewarding to see our efforts reflected in your experience. We look forward to serving you again soon!\n",
    "- Comment: I loved the pizza, but the overall dining experience was not great. The floor was dirty and the bathroom didn’t have a change table so I had to change our baby on top of the toilet which is not ideal. \n",
    "- Response: Thank you for sharing your feedback about Morten’s Pizza Emporium with us. We are delighted that you enjoyed our pizza, however, we apologize for the inconvenience you experienced due to the cleanliness and the lack of a changing table in the bathroom. At Morten’s Pizza Emporium we take your comments seriously and will address these concerns to improve our overall dining experience. We hope to have the pleasure of serving you again and ensuring a better visit next time.\n",
    "- Comment: Why do restaurants never get my order right? I specifically said I wanted the Supreme Vegetarian and to add pepperoni on top. When I arrived to pick up my order, the person at the counter said they had forgotten to add the pepperoni and asked if I could take the pizza anyway. They didn’t even offer a refund. I said I wanted what I ordered and they went back and made a new pizza. No apology, and I had to wait 20 minutes longer than necessary. Not great.\n",
    "- Response: We appreciate you bringing this issue to our attention and sincerely apologize for the mix-up with your Morten’s Pizza Emporium order and the inconvenience it caused. Ensuring that our customers receive exactly what they ordered is of utmost importance to us, and we are sorry for falling short in this instance. Rest assured, we will work on our ordering and communication processes to prevent such occurrences in the future. We hope you'll give Morten’s Pizza Emporium another chance to serve you and meet your expectations.\n",
    "\n",
    "Question: Is this a good restaurant to bring a large family with two babies and people with various dietary restrictions? \n",
    "\n",
    "Trong few-shot prompting, mô hình trí tuệ nhân tạo học từ các ví dụ này và tích hợp mẫu đã được cung cấp, đảm bảo tính nhất quán và tuân thủ các tiêu chí cụ thể trong các câu trả lời của nó."
   ]
  },
  {
   "cell_type": "markdown",
   "metadata": {},
   "source": [
    "Ngoài ra, few-shot prompting ngoài việc cung cấp câu hỏi và kết quả, ta có thể thêm một bước thường được gọi là Intermediate Steps\n",
    "- Intermediate Steps: Cung cấp một số bước trung gian giữa câu hỏi và câu trả lời, giúp mô hình hiểu rõ hơn về quá trình giải quyết vấn đề và tạo ra câu trả lời chính xác hơn. Ví dụ, nếu bạn muốn ChatGPT tạo ra một bài viết hướng dẫn về cách làm một chiếc bánh pizza, bạn có thể cung cấp các bước trung gian giữa việc chọn nguyên liệu và việc nướng bánh, giúp mô hình hiểu rõ hơn về quá trình làm bánh và tạo ra một bài viết hướng dẫn chi tiết và chính xác."
   ]
  }
 ],
 "metadata": {
  "language_info": {
   "name": "python"
  }
 },
 "nbformat": 4,
 "nbformat_minor": 2
}
