{
 "cells": [
  {
   "cell_type": "markdown",
   "metadata": {},
   "source": [
    "SQLite DROP TABLE statement is used to remove a table definition and all associated data, indexes, triggers, constraints, and permission specifications for that table.\n",
    "\n",
    "You have to be careful while using this command because once a table is deleted then all the information available in the table would also be lost forever.\n",
    "\n",
    "## Syntax\n",
    "\n",
    "Following is the basic syntax of DROP TABLE statement. You can optionally specify the database name along with table name as follows\n",
    "\n",
    "```sql\n",
    "DROP TABLE [IF EXISTS] table_name;\n",
    "or\n",
    "DROP TABLE database_name.table_name;\n",
    "```\n",
    "\n",
    "Note: If you use the IF EXISTS clause, then SQLite will not raise an error if the table does not exist.\n",
    "\n",
    "## Example\n",
    "\n",
    "Let us first verify COMPANY table and then we will delete it from the database.\n",
    "\n",
    "```bash\n",
    "sqlite>.tables\n",
    "COMPANY       test.COMPANY\n",
    "```\n",
    "\n",
    "This means COMPANY table is available in the database, so let us drop it as follows\n",
    "\n",
    "```bash\n",
    "sqlite>DROP TABLE COMPANY;\n",
    "sqlite>\n",
    "```\n",
    "\n",
    "Now, if you try .TABLES command, then you will not find COMPANY table anymore.\n",
    "\n",
    "```bash\n",
    "sqlite>.tables\n",
    "sqlite>\n",
    "```\n",
    "\n",
    "It shows nothing which means the table from your database has been dropped successfully."
   ]
  }
 ],
 "metadata": {
  "language_info": {
   "name": "python"
  }
 },
 "nbformat": 4,
 "nbformat_minor": 2
}
