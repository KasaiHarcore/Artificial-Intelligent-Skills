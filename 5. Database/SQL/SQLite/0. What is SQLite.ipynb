{
 "cells": [
  {
   "cell_type": "markdown",
   "metadata": {},
   "source": [
    "# SQLite Introduction"
   ]
  },
  {
   "cell_type": "markdown",
   "metadata": {},
   "source": [
    "SQLite is a software library that provides a relational database management system. The lite in SQLite means lightweight in terms of setup, database administration, and required resources.\n",
    "\n",
    "SQLite has the following noticeable features: self-contained, serverless, zero-configuration, transactional."
   ]
  },
  {
   "cell_type": "markdown",
   "metadata": {},
   "source": [
    "## Serverless\n",
    "\n",
    "Normally, an RDBMS such as MySQL, PostgreSQL, etc., requires a separate server process to operate. The applications that want to access the database server use TCP/IP protocol to send and receive requests. This is called client/server architecture.\n",
    "\n",
    "But:\n",
    "- SQLite does NOT require a server to run.\n",
    "- SQLite database is directly handled by the application that accesses the database.\n",
    "- There is no separate server process."
   ]
  },
  {
   "cell_type": "markdown",
   "metadata": {},
   "source": [
    "## Self-contained\n",
    "\n",
    "SQLite is self-contained means it requires minimal support from the operating system or external library. This makes SQLite usable in any environment especially in embedded devices like iPhones, Android phones, game consoles, handheld media players, etc.\n",
    "\n",
    "SQLite is developed using ANSI-C. The source code is available as a big sqlite3.c and its header file sqlite3.h. If you want to develop an application that uses SQLite, you just need to drop these files into your project and compile it with your code."
   ]
  },
  {
   "cell_type": "markdown",
   "metadata": {},
   "source": [
    "### Zero-configuration\n",
    "\n",
    "Because of the serverless architecture, you don’t need to “install” SQLite before using it. There is no server process that needs to be configured, started, and stopped.\n",
    "\n",
    "In addition, SQLite does not use any configuration files."
   ]
  },
  {
   "cell_type": "markdown",
   "metadata": {},
   "source": [
    "### References\n",
    "\n",
    "https://www.sqlite.org – SQLite homepage\n",
    "https://www.sqlite.org/features.html – SQLite features\n",
    "https://www.sqlite.org/copyright.html – SQLite license\n",
    "https://www.sqlite.org/docs.html – SQLite documentation"
   ]
  },
  {
   "cell_type": "markdown",
   "metadata": {},
   "source": [
    "## SQLite Limitations\n",
    "\n",
    "There are few unsupported features of SQL92 in SQLite which are listed in the following table."
   ]
  },
  {
   "cell_type": "markdown",
   "metadata": {},
   "source": [
    "<table>\n",
    "    <tr>\n",
    "        <th>No.</th>\n",
    "        <th>Feature & Description</th>\n",
    "    </tr>\n",
    "    <tr>\n",
    "        <td>1</td>\n",
    "        <td>RIGHT OUTER JOIN\n",
    "            Only LEFT OUTER JOIN is implemented</td>\n",
    "    </tr>\n",
    "    <tr>\n",
    "        <td>2</td>\n",
    "        <td>FULL OUTER JOIN\n",
    "            Only LEFT OUTER JOIN is implemented</td>\n",
    "    </tr>\n",
    "    <tr>\n",
    "        <td>3</td>\n",
    "        <td>ALTER TABLE\n",
    "            Only RENAME TABLE and ADD COLUMN variants are supported. The DROP COLUMN, ALTER COLUMN, ADD CONSTRAINT, DROP CONSTRAINT, and renaming of other objects are omitted.</td>\n",
    "    </tr>\n",
    "    <tr>\n",
    "        <td>4</td>\n",
    "        <td>TRIGGER\n",
    "            Only FOR EACH ROW triggers are supported. The INSTEAD OF triggers are omitted.</td>\n",
    "    </tr>\n",
    "    <tr>\n",
    "        <td>5</td>\n",
    "        <td>VIEW\n",
    "            Only CREATE VIEW is supported. The DROP VIEW and ALTER VIEW are omitted.</td>\n",
    "    </tr>\n",
    "    <tr>\n",
    "        <td>6</td>\n",
    "        <td>GRANT and REVOKE\n",
    "            Only GRANT and REVOKE on tables, views, and triggers are supported. The GRANT and REVOKE on other objects are omitted.</td>\n",
    "    </tr>\n",
    "</table>"
   ]
  },
  {
   "cell_type": "markdown",
   "metadata": {},
   "source": [
    "## SQLite Commands\n",
    "\n",
    "The standard SQLite commands to interact with relational databases are similar to SQL. They are CREATE, SELECT, INSERT, UPDATE, DELETE and DROP. These commands can be classified into groups based on their operational nature"
   ]
  },
  {
   "cell_type": "markdown",
   "metadata": {},
   "source": [
    "DDL - Data Definition Language\n",
    "\n",
    "<table>\n",
    "    <tr>\n",
    "        <th>Command</th>\n",
    "        <th>Description</th>\n",
    "    </tr>\n",
    "    <tr>\n",
    "        <td>CREATE</td>\n",
    "        <td>Creates a new table, a view of a table, or other objects in the database.</td>\n",
    "    </tr>\n",
    "    <tr>\n",
    "        <td>ALTER</td>\n",
    "        <td>Modifies an existing database object, such as a table.</td>\n",
    "    </tr>\n",
    "    <tr>\n",
    "        <td>DROP</td>\n",
    "        <td>Deletes an entire table, a view of a table or other objects in the database.</td>\n",
    "    </tr>"
   ]
  },
  {
   "cell_type": "markdown",
   "metadata": {},
   "source": [
    "DML - Data Manipulation Language\n",
    "\n",
    "<table>\n",
    "    <tr>\n",
    "        <th>Command</th>\n",
    "        <th>Description</th>\n",
    "    </tr>\n",
    "    <tr>\n",
    "        <td>INSERT</td>\n",
    "        <td>Creates a record.</td>\n",
    "    </tr>\n",
    "    <tr>\n",
    "        <td>UPDATE</td>\n",
    "        <td>Modifies records.</td>\n",
    "    </tr>\n",
    "    <tr>\n",
    "        <td>DELETE</td>\n",
    "        <td>Deletes records.</td>\n",
    "    </tr>"
   ]
  },
  {
   "cell_type": "markdown",
   "metadata": {},
   "source": [
    "DQL - Data Query Language\n",
    "\n",
    "<table>\n",
    "    <tr>\n",
    "        <th>Command</th>\n",
    "        <th>Description</th>\n",
    "    </tr>\n",
    "    <tr>\n",
    "        <td>SELECT</td>\n",
    "        <td>Retrieves certain records from one or more tables.</td>\n",
    "    </tr>"
   ]
  }
 ],
 "metadata": {
  "language_info": {
   "name": "python"
  },
  "orig_nbformat": 4
 },
 "nbformat": 4,
 "nbformat_minor": 2
}
