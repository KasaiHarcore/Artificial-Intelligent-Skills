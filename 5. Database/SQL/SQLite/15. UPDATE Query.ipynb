{
 "cells": [
  {
   "cell_type": "markdown",
   "metadata": {},
   "source": [
    "SQLite UPDATE Query is used to modify the existing records in a table. You can use WHERE clause with UPDATE query to update selected rows, otherwise all the rows would be updated.\n",
    "\n",
    "## Syntax\n",
    "\n",
    "Following is the basic syntax of UPDATE query with WHERE clause.\n",
    "\n",
    "```sql\n",
    "UPDATE table_name\n",
    "SET column1 = value1, column2 = value2...., columnN = valueN\n",
    "WHERE [condition];\n",
    "```\n",
    "\n",
    "You can combine N number of conditions using AND or OR operators."
   ]
  },
  {
   "cell_type": "markdown",
   "metadata": {},
   "source": [
    "## Example\n",
    "\n",
    "Consider COMPANY table with the following records\n",
    "\n",
    "```bash\n",
    "ID          NAME        AGE         ADDRESS     SALARY\n",
    "----------  ----------  ----------  ----------  ----------\n",
    "1           Paul        32          California  20000.0\n",
    "2           Allen       25          Texas       15000.0\n",
    "3           Teddy       23          Norway      20000.0\n",
    "4           Mark        25          Rich-Mond   65000.0\n",
    "5           David       27          Texas       85000.0\n",
    "6           Kim         22          South-Hall  45000.0\n",
    "7           James       24          Houston     10000.0\n",
    "```\n",
    "\n",
    "Following is an example, which will update ADDRESS for a customer whose ID is 6.\n",
    "\n",
    "```bash\n",
    "sqlite> UPDATE COMPANY SET ADDRESS = 'Texas' WHERE ID = 6;\n",
    "```\n",
    "\n",
    "Now, COMPANY table will have the following records.\n",
    "\n",
    "```bash\n",
    "ID          NAME        AGE         ADDRESS     SALARY\n",
    "----------  ----------  ----------  ----------  ----------\n",
    "1           Paul        32          California  20000.0\n",
    "2           Allen       25          Texas       15000.0\n",
    "3           Teddy       23          Norway      20000.0\n",
    "4           Mark        25          Rich-Mond   65000.0\n",
    "5           David       27          Texas       85000.0\n",
    "6           Kim         22          Texas       45000.0\n",
    "7           James       24          Houston     10000.0\n",
    "```\n",
    "\n",
    "If you want to modify all ADDRESS and SALARY column values in COMPANY table, you do not need to use WHERE clause and UPDATE query will be as follows\n",
    "\n",
    "```bash\n",
    "sqlite> UPDATE COMPANY SET ADDRESS = 'Texas', SALARY = 20000.00;\n",
    "```\n",
    "Now, COMPANY table will have the following records −\n",
    "\n",
    "```bash\n",
    "ID          NAME        AGE         ADDRESS     SALARY\n",
    "----------  ----------  ----------  ----------  ----------\n",
    "1           Paul        32          Texas       20000.0\n",
    "2           Allen       25          Texas       20000.0\n",
    "3           Teddy       23          Texas       20000.0\n",
    "4           Mark        25          Texas       20000.0\n",
    "5           David       27          Texas       20000.0\n",
    "6           Kim         22          Texas       20000.0\n",
    "7           James       24          Texas       20000.0\n",
    "```"
   ]
  },
  {
   "cell_type": "markdown",
   "metadata": {},
   "source": []
  }
 ],
 "metadata": {
  "language_info": {
   "name": "python"
  }
 },
 "nbformat": 4,
 "nbformat_minor": 2
}
