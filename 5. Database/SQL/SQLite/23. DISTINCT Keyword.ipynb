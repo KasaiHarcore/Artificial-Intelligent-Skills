{
 "cells": [
  {
   "cell_type": "markdown",
   "metadata": {},
   "source": [
    "SQLite DISTINCT keyword is used in conjunction with SELECT statement to eliminate all the duplicate records and fetching only the unique records.\n",
    "\n",
    "There may be a situation when you have multiple duplicate records in a table. While fetching such records, it makes more sense to fetch only unique records instead of fetching duplicate records."
   ]
  },
  {
   "cell_type": "markdown",
   "metadata": {},
   "source": [
    "## Syntax\n",
    "\n",
    "Following is the basic syntax of DISTINCT keyword to eliminate duplicate records.\n",
    "\n",
    "```sql\n",
    "SELECT DISTINCT column1, column2,.....columnN \n",
    "FROM table_name\n",
    "WHERE [condition]\n",
    "```"
   ]
  },
  {
   "cell_type": "markdown",
   "metadata": {},
   "source": [
    "## Example\n",
    "\n",
    "Consider COMPANY table with the following records.\n",
    "\n",
    "```bash\n",
    "ID          NAME        AGE         ADDRESS     SALARY\n",
    "----------  ----------  ----------  ----------  ----------\n",
    "1           Paul        32          California  20000.0\n",
    "2           Allen       25          Texas       15000.0\n",
    "3           Teddy       23          Norway      20000.0\n",
    "4           Mark        25          Rich-Mond   65000.0\n",
    "5           David       27          Texas       85000.0\n",
    "6           Kim         22          South-Hall  45000.0\n",
    "7           James       24          Houston     10000.0\n",
    "8           Paul        24          Houston     20000.0\n",
    "9           James       44          Norway      5000.0\n",
    "10          James       45          Texas       5000.0\n",
    "```\n",
    "\n",
    "First, let us see how the following SELECT query returns duplicate salary records.\n",
    "\n",
    "```bash\n",
    "sqlite> SELECT name FROM COMPANY;\n",
    "```\n",
    "\n",
    "This will produce the following result.\n",
    "\n",
    "```bash\n",
    "NAME\n",
    "----------\n",
    "Paul\n",
    "Allen\n",
    "Teddy\n",
    "Mark\n",
    "David\n",
    "Kim\n",
    "James\n",
    "Paul\n",
    "James\n",
    "James\n",
    "```\n",
    "\n",
    "Now, let us use DISTINCT keyword with the above SELECT query and see the result.\n",
    "\n",
    "```bash\n",
    "sqlite> SELECT DISTINCT name FROM COMPANY;\n",
    "```\n",
    "\n",
    "This will produce the following result, where there is no duplicate entry.\n",
    "\n",
    "```bash\n",
    "NAME\n",
    "----------\n",
    "Paul\n",
    "Allen\n",
    "Teddy\n",
    "Mark\n",
    "David\n",
    "Kim\n",
    "James\n",
    "```"
   ]
  }
 ],
 "metadata": {
  "language_info": {
   "name": "python"
  }
 },
 "nbformat": 4,
 "nbformat_minor": 2
}
