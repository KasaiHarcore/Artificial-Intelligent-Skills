{
 "cells": [
  {
   "cell_type": "markdown",
   "metadata": {},
   "source": [
    "An expression is a combination of one or more values, operators, and SQL functions that evaluate to a value.\n",
    "\n",
    "SQL expressions are like formulas and they are written in query language. You can also use to query the database for a specific set of data.\n",
    "\n",
    "## Syntax\n",
    "\n",
    "Consider the basic syntax of the SELECT statement as follows\n",
    "\n",
    "```sql\n",
    "SELECT column1, column2, columnN \n",
    "FROM table_name \n",
    "WHERE [CONDITION | EXPRESSION];\n",
    "```"
   ]
  },
  {
   "cell_type": "markdown",
   "metadata": {},
   "source": [
    "## SQLite - Boolean Expressions\n",
    "\n",
    "SQLite Boolean Expressions fetch the data on the basis of matching single value. Following is the syntax\n",
    "\n",
    "```sql\n",
    "SELECT column1, column2, columnN \n",
    "FROM table_name \n",
    "WHERE SINGLE VALUE MATCHTING EXPRESSION;\n",
    "```\n",
    "\n",
    "Consider COMPANY table with the following records\n",
    "\n",
    "```bash\n",
    "ID          NAME        AGE         ADDRESS     SALARY\n",
    "----------  ----------  ----------  ----------  ----------\n",
    "1           Paul        32          California  20000.0\n",
    "2           Allen       25          Texas       15000.0\n",
    "3           Teddy       23          Norway      20000.0\n",
    "4           Mark        25          Rich-Mond   65000.0\n",
    "5           David       27          Texas       85000.0\n",
    "6           Kim         22          South-Hall  45000.0\n",
    "7           James       24          Houston     10000.0\n",
    "```\n",
    "\n",
    "Following is a simple examples showing the usage of SQLite Boolean Expressions\n",
    "\n",
    "```bash\n",
    "sqlite> SELECT * FROM COMPANY WHERE SALARY = 10000;\n",
    "\n",
    "ID          NAME        AGE         ADDRESS     SALARY\n",
    "----------  ----------  ----------  ----------  ----------\n",
    "4           James       24          Houston     10000.0\n",
    "```"
   ]
  },
  {
   "cell_type": "markdown",
   "metadata": {},
   "source": [
    "## SQLite - Numeric Expression\n",
    "\n",
    "These expressions are used to perform any mathematical operation in any query. Following is the syntax\n",
    "\n",
    "```sql\n",
    "SELECT numerical_expression as OPERATION_NAME\n",
    "[FROM table_name WHERE CONDITION] ;\n",
    "```\n",
    "\n",
    "Here, numerical_expression is used for mathematical expression or any formula. Following is a simple example showing the usage of SQLite Numeric Expressions.\n",
    "\n",
    "```bash\n",
    "sqlite> SELECT (15 + 6) AS ADDITION\n",
    "ADDITION = 21\n",
    "```\n",
    "\n",
    "There are several built-in functions such as <code>avg()</code>, <code>sum()</code>, <code>count()</code>, etc., to perform what is known as aggregate data calculations against a table or a specific table column."
   ]
  },
  {
   "cell_type": "markdown",
   "metadata": {},
   "source": [
    "```bash\n",
    "sqlite> SELECT COUNT(*) AS \"RECORDS\" FROM COMPANY; \n",
    "RECORDS = 7\n",
    "```"
   ]
  },
  {
   "cell_type": "markdown",
   "metadata": {},
   "source": [
    "## SQLite - Date Expressions\n",
    "\n",
    "Date Expressions returns the current system date and time values. These expressions are used in various data manipulations.\n",
    "\n",
    "```bash\n",
    "sqlite> SELECT CURRENT_TIMESTAMP;\n",
    "CURRENT_TIMESTAMP = 2013-03-17 10:43:35\n",
    "```"
   ]
  }
 ],
 "metadata": {
  "language_info": {
   "name": "python"
  }
 },
 "nbformat": 4,
 "nbformat_minor": 2
}
