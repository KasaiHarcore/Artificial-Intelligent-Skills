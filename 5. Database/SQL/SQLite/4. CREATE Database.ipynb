{
 "cells": [
  {
   "cell_type": "markdown",
   "metadata": {},
   "source": [
    "# Create New Database\n",
    "\n",
    "In SQLite, sqlite3 command is used to create a new SQLite database. You do not need to have any special privilege to create a database.\n",
    "\n",
    "## Syntax\n",
    "Following is the basic syntax of sqlite3 command to create a database:\n",
    "\n",
    "```bash\n",
    "$ sqlite3 test.db\n",
    "```\n",
    "\n",
    "Always, database name should be unique within the RDBMS.\n",
    "\n",
    "```bash\n",
    "$ sqlite3 test.db\n",
    "SQLite version 3.7.15.2 2013-01-09 11:53:05\n",
    "Enter \".help\" for instructions\n",
    "Enter SQL statements terminated with a \";\"\n",
    "sqlite>\n",
    "```\n",
    "\n",
    "The above command will create a file testDB.db in the current directory. This file will be used as database by SQLite engine. If you have noticed while creating database, sqlite3 command will provide a sqlite> prompt after creating a database file successfully.\n",
    "\n",
    "Once a database is created, you can verify it in the list of databases using the following SQLite .databases command.\n",
    "\n",
    "```bash\n",
    "sqlite>.databases\n",
    "seq  name             file\n",
    "---  ---------------  ----------------------\n",
    "0    main             /home/sqlite/testDB.db\n",
    "```\n",
    "\n",
    "You will use SQLite .quit command to come out of the sqlite prompt as follows:\n",
    "\n",
    "```bash\n",
    "sqlite>.quit\n",
    "```\n",
    "\n",
    "## The .dump Command\n",
    "You can use .dump dot command to export complete database in a text file using the following SQLite command at the command prompt.\n",
    "    \n",
    "```bash\n",
    "$ sqlite3 testDB.db .dump > testDB.sql\n",
    "```\n",
    "The above command will convert the entire contents of testDB.db database into SQLite statements and dump it into ASCII text file testDB.sql. You can perform restoration from the generated testDB.sql in a simple way as follows:\n",
    "\n",
    "```bash\n",
    "$ sqlite3 testDB.db < testDB.sql\n",
    "```"
   ]
  }
 ],
 "metadata": {
  "language_info": {
   "name": "python"
  }
 },
 "nbformat": 4,
 "nbformat_minor": 2
}
