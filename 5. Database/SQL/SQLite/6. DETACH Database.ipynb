{
 "cells": [
  {
   "cell_type": "markdown",
   "metadata": {},
   "source": [
    "SQLite DETACH DATABASE statement is used to detach and dissociate a named database from a database connection which was previously attached using ATTACH statement. If the same database file has been attached with multiple aliases, then DETACH command will disconnect only the given name and rest of the attachment will still continue. You cannot detach the **main** or **temp** databases.\n",
    "\n",
    "*If the database is an in-memory or temporary database, the database will be destroyed and the contents will be lost.*\n",
    "\n",
    "## Syntax\n",
    "Following is the basic syntax of SQLite DETACH DATABASE 'AliasName' statement.\n",
    "\n",
    "```bash\n",
    "sqlite> DETACH DATABASE 'AliasName';\n",
    "```\n",
    "\n",
    "Here, 'AliasName' is the same alias, which you had used while attaching the database using ATTACH statement.\n",
    "\n",
    "## Example\n",
    "\n",
    "Consider you have a database, which you created in the previous chapter and attached it with 'test' and 'currentDB' as we can see using .database command.\n",
    "\n",
    "```bash\n",
    "sqlite>.databases\n",
    "seq  name             file\n",
    "---  ---------------  ----------------------\n",
    "0    main             /home/sqlite/testDB.db\n",
    "2    test             /home/sqlite/testDB.db\n",
    "3    currentDB        /home/sqlite/testDB.db\n",
    "```\n",
    "\n",
    "Let's try to detach 'currentDB' from testDB.db using the following command.\n",
    "\n",
    "```bash\n",
    "sqlite> DETACH DATABASE 'currentDB';\n",
    "```\n",
    "\n",
    "Now, if you will check the current attachment, you will find that testDB.db is still connected with 'test' and 'main'.\n",
    "\n",
    "```bash\n",
    "sqlite>.databases\n",
    "seq  name             file\n",
    "---  ---------------  ----------------------\n",
    "0    main             /home/sqlite/testDB.db\n",
    "2    test             /home/sqlite/testDB.db\n",
    "```"
   ]
  }
 ],
 "metadata": {
  "language_info": {
   "name": "python"
  }
 },
 "nbformat": 4,
 "nbformat_minor": 2
}
