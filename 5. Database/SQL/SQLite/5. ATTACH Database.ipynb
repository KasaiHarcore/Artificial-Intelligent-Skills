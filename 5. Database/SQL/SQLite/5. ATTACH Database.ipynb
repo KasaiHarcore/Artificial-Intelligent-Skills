{
 "cells": [
  {
   "cell_type": "markdown",
   "metadata": {},
   "source": [
    "Consider a case when you have multiple databases available and you want to use any one of them at a time. SQLite ATTACH DATABASE statement is used to select a particular database, and after this command, all SQLite statements will be executed under the attached database.\n",
    "\n",
    "## Syntax\n",
    "Following is the basic syntax of SQLite ATTACH DATABASE statement.\n",
    "\n",
    "```bash\n",
    "sqlite> ATTACH DATABASE 'DatabaseName' AS 'AliasName';\n",
    "```\n",
    "\n",
    "The above command will also create a database in case the database is already not created, otherwise it will just attach database file name with logical database 'AliasName'.\n",
    "\n",
    "## Example\n",
    "\n",
    "If you want to attach an existing database testDB.db, then ATTACH DATABASE statement would be as follows:\n",
    "\n",
    "```bash\n",
    "sqlite> .database\n",
    "seq  name             file\n",
    "---  ---------------  ----------------------\n",
    "0    main             /home/sqlite/testDB.db\n",
    "2    test             /home/sqlite/testDB.db\n",
    "```\n",
    "\n",
    "The database names **main** and **temp** are reserved for the primary database and database to hold temporary tables and other temporary data objects. Both of these database names exist for every database connection and should not be used for attachment, otherwise you will get the following warning message.\n",
    "\n",
    "```bash\n",
    "sqlite> ATTACH DATABASE 'testDB.db' AS 'main';\n",
    "Error: database main is already in use\n",
    "sqlite> ATTACH DATABASE 'testDB.db' AS 'temp';\n",
    "Error: database temp is already in use\n",
    "```"
   ]
  }
 ],
 "metadata": {
  "language_info": {
   "name": "python"
  }
 },
 "nbformat": 4,
 "nbformat_minor": 2
}
