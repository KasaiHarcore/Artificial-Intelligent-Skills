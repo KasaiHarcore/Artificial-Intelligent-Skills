{
 "cells": [
  {
   "cell_type": "markdown",
   "metadata": {},
   "source": [
    "# DataType"
   ]
  },
  {
   "cell_type": "markdown",
   "metadata": {},
   "source": [
    "QLite data type is an attribute that specifies the type of data of any object. Each column, variable and expression has related data type in SQLite.\n",
    "\n",
    "You would use these data types while creating your tables. SQLite uses a more general dynamic type system. In SQLite, the datatype of a value is associated with the value itself, not with its container."
   ]
  },
  {
   "cell_type": "markdown",
   "metadata": {},
   "source": [
    "## SQLite Storage Classes\n",
    "\n",
    "Each value stored in an SQLite database has one of the following storage classes:"
   ]
  },
  {
   "cell_type": "markdown",
   "metadata": {},
   "source": [
    "<table>\n",
    "    <tr>\n",
    "        <th>Storage Class</th>\n",
    "        <th>Meaning</th>\n",
    "    </tr>\n",
    "    <tr>\n",
    "        <td>NULL</td>\n",
    "        <td>The value is a NULL value.</td>\n",
    "    </tr>\n",
    "    <tr>\n",
    "        <td>INTEGER</td>\n",
    "        <td>The value is a signed integer, stored in 1, 2, 3, 4, 6, or 8 bytes depending on the magnitude of the value.</td>\n",
    "    </tr>\n",
    "    <tr>\n",
    "        <td>REAL</td>\n",
    "        <td>The value is a floating point value, stored as an 8-byte IEEE floating point number.</td>\n",
    "    </tr>\n",
    "    <tr>\n",
    "        <td>TEXT</td>\n",
    "        <td>The value is a text string, stored using the database encoding (UTF-8, UTF-16BE or UTF-16LE).</td>\n",
    "    </tr>\n",
    "    <tr>\n",
    "        <td>BLOB</td>\n",
    "        <td>The value is a blob of data, stored exactly as it was input.</td>\n",
    "    </tr>\n",
    "</table>"
   ]
  },
  {
   "cell_type": "markdown",
   "metadata": {},
   "source": [
    "## SQLite Affinity Type\n",
    "\n",
    "SQLite supports the concept of type affinity on columns. Any column can still store any type of data but the preferred storage class for a column is called its affinity. Each table column in an SQLite3 database is assigned one of the following type affinities"
   ]
  },
  {
   "cell_type": "markdown",
   "metadata": {},
   "source": [
    "<table>\n",
    "    <tr>\n",
    "        <th>Affinity Type</th>\n",
    "        <th>Meaning</th>\n",
    "    </tr>\n",
    "    <tr>\n",
    "        <td>TEXT</td>\n",
    "        <td>This column stores all data using storage classes NULL, TEXT or BLOB.</td>\n",
    "    </tr>\n",
    "    <tr>\n",
    "        <td>NUMERIC</td>\n",
    "        <td>This column may contain values using all five storage classes.</td>\n",
    "    </tr>\n",
    "    <tr>\n",
    "        <td>INTEGER</td>\n",
    "        <td>Behaves the same as a column with NUMERIC affinity, with an exception in a CAST expression.</td>\n",
    "    </tr>\n",
    "    <tr>\n",
    "        <td>REAL</td>\n",
    "        <td>Behaves like a column with NUMERIC affinity except that it forces integer values into floating point representation.</td>\n",
    "    </tr>\n",
    "    <tr>\n",
    "        <td>NONE</td>\n",
    "        <td>It means that the column has no affinity.</td>\n",
    "    </tr>\n",
    "</table>"
   ]
  },
  {
   "cell_type": "markdown",
   "metadata": {},
   "source": [
    "## SQLite Affinity and Type Names"
   ]
  },
  {
   "cell_type": "markdown",
   "metadata": {},
   "source": [
    "<table>\n",
    "    <tr>\n",
    "        <th>Affinity</th>\n",
    "        <th>Type Names</th>\n",
    "    </tr>\n",
    "    <tr>\n",
    "        <td>TEXT</td>\n",
    "        <td>CHARACTER(20), VARCHAR(255), VARYING CHARACTER(255), NCHAR(55), NATIVE CHARACTER(70), NVARCHAR(100), TEXT, CLOB</td>\n",
    "    </tr>\n",
    "    <tr>\n",
    "        <td>NUMERIC</td>\n",
    "        <td>INT, INTEGER, TINYINT, SMALLINT, MEDIUMINT, BIGINT, UNSIGNED BIG INT, INT2, INT8, NUMERIC, DECIMAL(10,5), BOOLEAN, DATE, DATETIME</td>\n",
    "    </tr>\n",
    "    <tr>\n",
    "        <td>INTEGER</td>\n",
    "        <td>INT, INTEGER, TINYINT, SMALLINT, MEDIUMINT, BIGINT, UNSIGNED BIG INT, INT2, INT8</td>\n",
    "    </tr>\n",
    "    <tr>\n",
    "        <td>REAL</td>\n",
    "        <td>REAL, DOUBLE, DOUBLE PRECISION, FLOAT</td>\n",
    "    </tr>\n",
    "    <tr>\n",
    "        <td>NONE</td>\n",
    "        <td>BLOB</td>\n",
    "    </tr>"
   ]
  },
  {
   "cell_type": "markdown",
   "metadata": {},
   "source": [
    "## Boolean Datatype\n",
    "\n",
    "SQLite does not have a separate Boolean storage class. Instead, Boolean values are stored as integers 0 (false) and 1 (true)."
   ]
  },
  {
   "cell_type": "markdown",
   "metadata": {},
   "source": [
    "## Date and Time Datatype\n",
    "\n",
    "SQLite does not have a storage class set aside for storing dates and/or times. Instead, the built-in Date And Time Functions of SQLite are capable of storing dates and times as TEXT, REAL, or INTEGER values:"
   ]
  },
  {
   "cell_type": "markdown",
   "metadata": {},
   "source": [
    "<table>\n",
    "    <tr>\n",
    "        <th>Meaning</th>\n",
    "        <th>Format</th>\n",
    "    </tr>\n",
    "    <tr>\n",
    "        <td>TEXT as ISO8601 strings (\"YYYY-MM-DD HH:MM:SS.SSS\").</td>\n",
    "        <td>YYYY-MM-DD HH:MM:SS.SSS</td>\n",
    "    </tr>\n",
    "    <tr>\n",
    "        <td>REAL as Julian day numbers, the number of days since noon in Greenwich on November 24, 4714 B.C. according to the proleptic Gregorian calendar.</td>\n",
    "        <td>2457387.5</td>\n",
    "    </tr>\n",
    "    <tr>\n",
    "        <td>INTEGER as Unix Time, the number of seconds since 1970-01-01 00:00:00 UTC.</td>\n",
    "        <td>1410715640</td>\n",
    "    </tr>"
   ]
  }
 ],
 "metadata": {
  "language_info": {
   "name": "python"
  },
  "orig_nbformat": 4
 },
 "nbformat": 4,
 "nbformat_minor": 2
}
