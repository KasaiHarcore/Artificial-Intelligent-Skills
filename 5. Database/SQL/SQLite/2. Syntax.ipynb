{
 "cells": [
  {
   "cell_type": "markdown",
   "metadata": {},
   "source": [
    "# Syntax"
   ]
  },
  {
   "cell_type": "markdown",
   "metadata": {},
   "source": [
    "## Case Sensitivity\n",
    "\n",
    "The important point to be noted is that SQLite is case insensitive, i.e. the clauses GLOB and glob have the same meaning in SQLite statements."
   ]
  },
  {
   "cell_type": "markdown",
   "metadata": {},
   "source": [
    "## Comments\n",
    "\n",
    "SQL comments begin with two consecutive \"-\" characters (ASCII 0x2d) and extend up to and including the next newline character (ASCII 0x0a) or until the end of input, whichever comes first. Plus, we can also use C-style comments\n",
    "\n",
    "```bash\n",
    "sqlite> -- This is a comment\n",
    "```"
   ]
  },
  {
   "cell_type": "markdown",
   "metadata": {},
   "source": [
    "## Basic Statements\n",
    "\n",
    "All the SQLite statements start with any of the keywords like SELECT, INSERT, UPDATE, DELETE, ALTER, DROP, etc., and all the statements end with a semicolon (;)."
   ]
  },
  {
   "cell_type": "markdown",
   "metadata": {},
   "source": [
    "- SQLite ANALYZE Statement:\n",
    "\n",
    "```bash\n",
    "ANALYZE;\n",
    "or\n",
    "ANALYZE database_name;\n",
    "or\n",
    "ANALYZE database_name.table_name;\n",
    "```"
   ]
  },
  {
   "cell_type": "markdown",
   "metadata": {},
   "source": [
    "- SQLite AND/OR Clause:\n",
    "\n",
    "```bash\n",
    "SELECT column1, column2, columnN\n",
    "FROM table_name\n",
    "WHERE [condition1] AND|OR [condition2]...AND|OR [conditionN];\n",
    "```"
   ]
  },
  {
   "cell_type": "markdown",
   "metadata": {},
   "source": [
    "- SQLite ALTER TABLE Statement:\n",
    "\n",
    "```bash\n",
    "ALTER TABLE table_name ADD COLUMN column_def...;\n",
    "```\n",
    "\n",
    "- SQLite ALTER TABLE Statement (Rename):\n",
    "\n",
    "```bash\n",
    "ALTER TABLE table_name RENAME TO new_table_name;\n",
    "```"
   ]
  },
  {
   "cell_type": "markdown",
   "metadata": {},
   "source": [
    "- SQLite ATTACH DATABASE Statement:\n",
    "\n",
    "```bash\n",
    "ATTACH DATABASE 'DatabaseName.db' AS 'Alias-Name';\n",
    "```"
   ]
  },
  {
   "cell_type": "markdown",
   "metadata": {},
   "source": [
    "- SQLite BEGIN TRANSACTION Statement:\n",
    "\n",
    "```bash\n",
    "BEGIN;\n",
    "or\n",
    "BEGIN EXCLUSIVE TRANSACTION;\n",
    "```"
   ]
  },
  {
   "cell_type": "markdown",
   "metadata": {},
   "source": [
    "- SQLite BETWEEN Clause:\n",
    "\n",
    "```bash\n",
    "SELECT column1, column2, columnN\n",
    "FROM table_name\n",
    "WHERE column_name BETWEEN val-1 AND val-2;\n",
    "```"
   ]
  },
  {
   "cell_type": "markdown",
   "metadata": {},
   "source": [
    "- SQLite COMMIT Statement:\n",
    "\n",
    "```bash\n",
    "COMMIT;\n",
    "```"
   ]
  },
  {
   "cell_type": "markdown",
   "metadata": {},
   "source": [
    "- SQLite CREATE INDEX Statement:\n",
    "\n",
    "```bash\n",
    "CREATE INDEX index_name\n",
    "ON table_name (column1, column2, ... columnN);\n",
    "```"
   ]
  },
  {
   "cell_type": "markdown",
   "metadata": {},
   "source": [
    "- SQLite CREATE UNIQUE INDEX Statement:\n",
    "\n",
    "```bash\n",
    "CREATE UNIQUE INDEX index_name\n",
    "ON table_name (column1, column2, ... columnN);\n",
    "```"
   ]
  },
  {
   "cell_type": "markdown",
   "metadata": {},
   "source": [
    "- SQLite CREATE TABLE Statement:\n",
    "\n",
    "```bash\n",
    "CREATE TABLE table_name(\n",
    "column1 datatype PRIMARY KEY(one or more columns),\n",
    "column2 datatype,\n",
    "column3 datatype,\n",
    ".....\n",
    "columnN datatype\n",
    ");\n",
    "```"
   ]
  },
  {
   "cell_type": "markdown",
   "metadata": {},
   "source": [
    "- SQLite CREATE TRIGGER Statement:\n",
    "\n",
    "```bash\n",
    "CREATE TRIGGER database_name.trigger_name\n",
    "BEFORE|AFTER INSERT|DELETE|UPDATE \n",
    "ON table_name\n",
    "FOR EACH ROW\n",
    "BEGIN\n",
    "   ....\n",
    "END;\n",
    "```"
   ]
  },
  {
   "cell_type": "markdown",
   "metadata": {},
   "source": [
    "- SQLite CREATE VIEW Statement:\n",
    "\n",
    "```bash\n",
    "CREATE VIEW database_name.view_name AS\n",
    "SELECT column1, column2, ... columnN\n",
    "FROM table_name\n",
    "WHERE [condition];\n",
    "```"
   ]
  },
  {
   "cell_type": "markdown",
   "metadata": {},
   "source": [
    "- SQLite CREATE VIRTUAL TABLE Statement:\n",
    "\n",
    "```bash\n",
    "CREATE VIRTUAL TABLE database_name.table_name USING weblog( access.log );\n",
    "or\n",
    "CREATE VIRTUAL TABLE database_name.table_name USING fts3( );\n",
    "```"
   ]
  },
  {
   "cell_type": "markdown",
   "metadata": {},
   "source": [
    "- SQLite COUNT Clause:\n",
    "\n",
    "```bash\n",
    "SELECT COUNT(column_name)\n",
    "FROM table_name\n",
    "WHERE condition;\n",
    "```"
   ]
  },
  {
   "cell_type": "markdown",
   "metadata": {},
   "source": [
    "- SQLite DELETE Statement:\n",
    "\n",
    "```bash\n",
    "DELETE FROM table_name\n",
    "WHERE [condition];\n",
    "```"
   ]
  },
  {
   "cell_type": "markdown",
   "metadata": {},
   "source": [
    "- SQLite DETACH DATABASE Statement:\n",
    "\n",
    "```bash\n",
    "DETACH DATABASE 'Alias-Name';\n",
    "```"
   ]
  },
  {
   "cell_type": "markdown",
   "metadata": {},
   "source": [
    "- SQLite DISTINCT Clause:\n",
    "\n",
    "```bash\n",
    "SELECT DISTINCT column1, column2,.....columnN\n",
    "FROM table_name\n",
    "WHERE [condition];\n",
    "```"
   ]
  },
  {
   "cell_type": "markdown",
   "metadata": {},
   "source": [
    "- SQLite DROP INDEX Statement:\n",
    "\n",
    "```bash\n",
    "DROP INDEX database_name.index_name;\n",
    "```"
   ]
  },
  {
   "cell_type": "markdown",
   "metadata": {},
   "source": [
    "- SQLite DROP TABLE Statement:\n",
    "\n",
    "```bash\n",
    "DROP TABLE database_name.table_name;\n",
    "```\n"
   ]
  },
  {
   "cell_type": "markdown",
   "metadata": {},
   "source": [
    "- SQLite DROP TRIGGER Statement:\n",
    "\n",
    "```bash\n",
    "DROP TRIGGER database_name.trigger_name;\n",
    "```"
   ]
  },
  {
   "cell_type": "markdown",
   "metadata": {},
   "source": [
    "- SQLite DROP VIEW Statement:\n",
    "\n",
    "```bash\n",
    "DROP VIEW database_name.view_name;\n",
    "```"
   ]
  },
  {
   "cell_type": "markdown",
   "metadata": {},
   "source": [
    "- SQLite EXISTS Clause:\n",
    "\n",
    "```bash\n",
    "SELECT column1, column2, columnN\n",
    "FROM table_name\n",
    "WHERE column_name EXISTS (SELECT * FROM table_name WHERE [condition]);\n",
    "```"
   ]
  },
  {
   "cell_type": "markdown",
   "metadata": {},
   "source": [
    "- SQLite EXPLAIN Statement:\n",
    "\n",
    "```bash\n",
    "EXPLAIN SELECT * FROM table_name;\n",
    "or\n",
    "EXPLAIN QUERY PLAN SELECT * FROM table_name;\n",
    "```"
   ]
  },
  {
   "cell_type": "markdown",
   "metadata": {},
   "source": [
    "- SQLite GLOB Clause:\n",
    "\n",
    "```bash\n",
    "SELECT column1, column2, columnN\n",
    "FROM table_name\n",
    "WHERE column_name GLOB pattern;\n",
    "```"
   ]
  },
  {
   "cell_type": "markdown",
   "metadata": {},
   "source": [
    "- SQLite GROUP BY Clause:\n",
    "\n",
    "```bash\n",
    "SELECT SUM(column_name)\n",
    "FROM table_name\n",
    "WHERE [condition]\n",
    "GROUP BY column_name;\n",
    "```"
   ]
  },
  {
   "cell_type": "markdown",
   "metadata": {},
   "source": [
    "- SQLite HAVING Clause:\n",
    "\n",
    "```bash\n",
    "SELECT SUM(column_name)\n",
    "FROM table_name\n",
    "WHERE [condition]\n",
    "GROUP BY column_name\n",
    "HAVING [condition];\n",
    "```\n"
   ]
  },
  {
   "cell_type": "markdown",
   "metadata": {},
   "source": [
    "- SQLite INSERT INTO Statement:\n",
    "\n",
    "```bash\n",
    "INSERT INTO table_name( column1, column2....columnN)\n",
    "VALUES ( value1, value2....valueN);\n",
    "```"
   ]
  },
  {
   "cell_type": "markdown",
   "metadata": {},
   "source": [
    "- SQLite IN Clause:\n",
    "\n",
    "```bash\n",
    "SELECT column1, column2, columnN\n",
    "FROM table_name\n",
    "WHERE column_name IN (val-1, val-2,...val-N);\n",
    "```"
   ]
  },
  {
   "cell_type": "markdown",
   "metadata": {},
   "source": [
    "- SQLite LIKE Clause:\n",
    "\n",
    "```bash\n",
    "SELECT column1, column2, columnN\n",
    "FROM table_name\n",
    "WHERE column_name LIKE pattern;\n",
    "```"
   ]
  },
  {
   "cell_type": "markdown",
   "metadata": {},
   "source": [
    "- SQLite NOT LIKE Clause:\n",
    "\n",
    "```bash\n",
    "SELECT column1, column2, columnN\n",
    "FROM table_name\n",
    "WHERE column_name NOT LIKE pattern;\n",
    "```"
   ]
  },
  {
   "cell_type": "markdown",
   "metadata": {},
   "source": [
    "- SQLite ORDER BY Clause:\n",
    "\n",
    "```bash\n",
    "SELECT column-list\n",
    "FROM table_name\n",
    "[WHERE condition]\n",
    "[ORDER BY column1, column2, .. columnN] [ASC | DESC];\n",
    "```"
   ]
  },
  {
   "cell_type": "markdown",
   "metadata": {},
   "source": [
    "SQLite PRAGMA Statement:\n",
    "\n",
    "```bash\n",
    "PRAGMA pragma_name;\n",
    "PRAGMA cache_size = 1024;\n",
    "PRAGMA table_info(table_name);\n",
    "PRAGMA database_list;\n",
    "PRAGMA database_name.table_info(table_name);\n",
    ".....\n",
    "```"
   ]
  },
  {
   "cell_type": "markdown",
   "metadata": {},
   "source": [
    "- SQLite RELEASE SAVEPOINT Statement:\n",
    "\n",
    "```bash\n",
    "RELEASE SAVEPOINT savepoint_name;\n",
    "```"
   ]
  },
  {
   "cell_type": "markdown",
   "metadata": {},
   "source": [
    "- SQLite REINDEX Statement:\n",
    "\n",
    "```bash\n",
    "REINDEX collation_name;\n",
    "or\n",
    "REINDEX database_name.index_name;\n",
    "or\n",
    "REINDEX database_name.table_name;\n",
    "```"
   ]
  },
  {
   "cell_type": "markdown",
   "metadata": {},
   "source": [
    "- SQLite ROLLBACK Statement:\n",
    "\n",
    "```bash\n",
    "ROLLBACK;\n",
    "or\n",
    "ROLLBACK TO SAVEPOINT savepoint_name;\n",
    "```"
   ]
  },
  {
   "cell_type": "markdown",
   "metadata": {},
   "source": [
    "- SQLite SAVEPOINT Statement:\n",
    "\n",
    "```bash\n",
    "SAVEPOINT savepoint_name;\n",
    "```"
   ]
  },
  {
   "cell_type": "markdown",
   "metadata": {},
   "source": [
    "- SQLite SELECT Statement:\n",
    "\n",
    "```bash\n",
    "SELECT column1, column2, columnN\n",
    "FROM table_name;\n",
    "```"
   ]
  },
  {
   "cell_type": "markdown",
   "metadata": {},
   "source": [
    "- SQLite UPDATE Statement:\n",
    "\n",
    "```bash\n",
    "UPDATE table_name\n",
    "SET column1 = value1, column2 = value2....columnN=valueN\n",
    "[ WHERE  CONDITION ];\n",
    "```"
   ]
  },
  {
   "cell_type": "markdown",
   "metadata": {},
   "source": [
    "- SQLite VACUUM Statement:\n",
    "\n",
    "```bash\n",
    "VACUUM;\n",
    "```"
   ]
  }
 ],
 "metadata": {
  "language_info": {
   "name": "python"
  },
  "orig_nbformat": 4
 },
 "nbformat": 4,
 "nbformat_minor": 2
}
