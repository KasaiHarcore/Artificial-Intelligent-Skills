{
 "cells": [
  {
   "cell_type": "markdown",
   "metadata": {},
   "source": [
    "SQLite GLOB operator is used to match only text values against a pattern using wildcards. If the search expression can be matched to the pattern expression, the GLOB operator will return true, which is 1. Unlike LIKE operator, GLOB is case sensitive and it follows syntax of UNIX for specifying THE following wildcards.\n",
    "- The asterisk sign (*)\n",
    "- The question mark sign (?)"
   ]
  },
  {
   "cell_type": "markdown",
   "metadata": {},
   "source": [
    "The asterisk sign (*) represents zero or multiple numbers or characters. The question mark (?) represents a single number or character."
   ]
  },
  {
   "cell_type": "markdown",
   "metadata": {},
   "source": [
    "## Syntax\n",
    "\n",
    "Following is the basic syntax of * and ?.\n",
    "\n",
    "```sql\n",
    "SELECT FROM table_name\n",
    "WHERE column GLOB 'XXXX*'\n",
    "or \n",
    "SELECT FROM table_name\n",
    "WHERE column GLOB '*XXXX*'\n",
    "or\n",
    "SELECT FROM table_name\n",
    "WHERE column GLOB 'XXXX?'\n",
    "or\n",
    "SELECT FROM table_name\n",
    "WHERE column GLOB '?XXXX'\n",
    "or\n",
    "SELECT FROM table_name\n",
    "WHERE column GLOB '?XXXX?'\n",
    "or\n",
    "SELECT FROM table_name\n",
    "WHERE column GLOB '????'\n",
    "```"
   ]
  },
  {
   "cell_type": "markdown",
   "metadata": {},
   "source": [
    "You can combine N number of conditions using AND or OR operators. Here, XXXX could be any numeric or string value."
   ]
  },
  {
   "cell_type": "markdown",
   "metadata": {},
   "source": [
    "## Example\n",
    "\n",
    "Following table lists a number of examples showing WHERE part having different GLOB clause with '*' and '?' operators.\n",
    "\n",
    "<table>\n",
    "    <tr>\n",
    "        <th>No.</th>\n",
    "        <th>Statement & Description</th>\n",
    "    </tr>\n",
    "    <tr>\n",
    "        <td>1</td>\n",
    "        <td>WHERE SALARY GLOB '200*'<br>Finds any values that start with 200</td>\n",
    "    </tr>\n",
    "    <tr>\n",
    "        <td>2</td>\n",
    "        <td>WHERE SALARY GLOB '*200*'<br>Finds any values that have 200 in any position</td>\n",
    "    </tr>\n",
    "    <tr>\n",
    "        <td>3</td>\n",
    "        <td>WHERE SALARY GLOB '?00*'<br>Finds any values that have 00 in the second and third positions</td>\n",
    "    </tr>\n",
    "    <tr>\n",
    "        <td>4</td>\n",
    "        <td>WHERE SALARY GLOB '2??''<br>Finds any values that start with 2 and are at least 3 characters in length</td>\n",
    "    </tr>\n",
    "    <tr>\n",
    "        <td>5</td>\n",
    "        <td>WHERE SALARY GLOB '*2'<br>Finds any values that end with 2</td>\n",
    "    </tr>\n",
    "    <tr>\n",
    "        <td>6</td>\n",
    "        <td>WHERE SALARY GLOB '?2*3'<br>Finds any values that have a 2 in the second position and end with a 3</td>\n",
    "    </tr>\n",
    "    <tr>\n",
    "        <td>7</td>\n",
    "        <td>WHERE SALARY GLOB '2???3'<br>Finds any values in a five-digit number that start with 2 and end with 3</td>\n",
    "    </tr>\n",
    "</table>"
   ]
  },
  {
   "cell_type": "markdown",
   "metadata": {},
   "source": [
    "Let us take a real example, consider COMPANY table with the following records −\n",
    "\n",
    "```bash\n",
    "ID          NAME        AGE         ADDRESS     SALARY\n",
    "----------  ----------  ----------  ----------  ----------\n",
    "1           Paul        32          California  20000.0\n",
    "2           Allen       25          Texas       15000.0\n",
    "3           Teddy       23          Norway      20000.0\n",
    "4           Mark        25          Rich-Mond   65000.0\n",
    "5           David       27          Texas       85000.0\n",
    "6           Kim         22          South-Hall  45000.0\n",
    "7           James       24          Houston     10000.0\n",
    "```\n",
    "\n",
    "Following is an example, which will display all the records from COMPANY table, where AGE starts with 2.\n",
    "\n",
    "```bash\n",
    "sqlite> SELECT * FROM COMPANY WHERE AGE  GLOB '2*';\n",
    "```\n",
    "\n",
    "This will produce the following result.\n",
    "\n",
    "```bash\n",
    "ID          NAME        AGE         ADDRESS     SALARY\n",
    "----------  ----------  ----------  ----------  ----------\n",
    "2           Allen       25          Texas       15000.0\n",
    "3           Teddy       23          Norway      20000.0\n",
    "4           Mark        25          Rich-Mond   65000.0\n",
    "5           David       27          Texas       85000.0\n",
    "6           Kim         22          South-Hall  45000.0\n",
    "7           James       24          Houston     10000.0\n",
    "```\n",
    "\n",
    "Following is an example, which will display all the records from COMPANY table where ADDRESS will have a hyphen (-) inside the text\n",
    "\n",
    "```bash\n",
    "sqlite> SELECT * FROM COMPANY WHERE ADDRESS  GLOB '*-*';\n",
    "```\n",
    "\n",
    "This will produce the following result.\n",
    "\n",
    "```bash\n",
    "ID          NAME        AGE         ADDRESS     SALARY\n",
    "----------  ----------  ----------  ----------  ----------\n",
    "4           Mark        25          Rich-Mond   65000.0\n",
    "6           Kim         22          South-Hall  45000.0\n",
    "```"
   ]
  }
 ],
 "metadata": {
  "language_info": {
   "name": "python"
  }
 },
 "nbformat": 4,
 "nbformat_minor": 2
}
