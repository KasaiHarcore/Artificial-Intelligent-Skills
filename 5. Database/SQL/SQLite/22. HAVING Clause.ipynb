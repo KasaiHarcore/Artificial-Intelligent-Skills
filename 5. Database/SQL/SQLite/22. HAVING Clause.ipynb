{
 "cells": [
  {
   "cell_type": "markdown",
   "metadata": {},
   "source": [
    "HAVING clause enables you to specify conditions that filter which group results appear in the final results.\n",
    "\n",
    "The WHERE clause places conditions on the selected columns, whereas the HAVING clause places conditions on groups created by GROUP BY clause."
   ]
  },
  {
   "cell_type": "markdown",
   "metadata": {},
   "source": [
    "## Syntax\n",
    "\n",
    "Following is the position of HAVING clause in a SELECT query.\n",
    "\n",
    "```sql\n",
    "SELECT\n",
    "FROM\n",
    "WHERE\n",
    "GROUP BY\n",
    "HAVING\n",
    "ORDER BY\n",
    "```\n",
    "\n",
    "HAVING clause must follow GROUP BY clause in a query and must also precede ORDER BY clause if used. Following is the syntax of the SELECT statement, including HAVING clause.\n",
    "\n",
    "```sql\n",
    "SELECT column1, column2\n",
    "FROM table1, table2\n",
    "WHERE [ conditions ]\n",
    "GROUP BY column1, column2\n",
    "HAVING [ conditions ]\n",
    "ORDER BY column1, column2\n",
    "```"
   ]
  },
  {
   "cell_type": "markdown",
   "metadata": {},
   "source": [
    "## Example\n",
    "\n",
    "Consider COMPANY table with the following records.\n",
    "\n",
    "```bash\n",
    "ID          NAME        AGE         ADDRESS     SALARY\n",
    "----------  ----------  ----------  ----------  ----------\n",
    "1           Paul        32          California  20000.0\n",
    "2           Allen       25          Texas       15000.0\n",
    "3           Teddy       23          Norway      20000.0\n",
    "4           Mark        25          Rich-Mond   65000.0\n",
    "5           David       27          Texas       85000.0\n",
    "6           Kim         22          South-Hall  45000.0\n",
    "7           James       24          Houston     10000.0\n",
    "8           Paul        24          Houston     20000.0\n",
    "9           James       44          Norway      5000.0\n",
    "10          James       45          Texas       5000.0\n",
    "```\n",
    "\n",
    "Following is the example, which will display the record for which the name count is less than 2.\n",
    "\n",
    "```bash\n",
    "sqlite > SELECT * FROM COMPANY GROUP BY name HAVING count(name) < 2;\n",
    "```\n",
    "\n",
    "This will produce the following result.\n",
    "\n",
    "```bash\n",
    "ID          NAME        AGE         ADDRESS     SALARY\n",
    "----------  ----------  ----------  ----------  ----------\n",
    "2           Allen       25          Texas       15000\n",
    "5           David       27          Texas       85000\n",
    "6           Kim         22          South-Hall  45000\n",
    "4           Mark        25          Rich-Mond   65000\n",
    "3           Teddy       23          Norway      20000\n",
    "```\n",
    "\n",
    "Following is the example, which will display the record for which the name count is greater than 2.\n",
    "\n",
    "```bash\n",
    "sqlite > SELECT * FROM COMPANY GROUP BY name HAVING count(name) > 2;\n",
    "```\n",
    "This will produce the following result.\n",
    "\n",
    "```bash\n",
    "ID          NAME        AGE         ADDRESS     SALARY\n",
    "----------  ----------  ----------  ----------  ----------\n",
    "10          James       45          Texas       5000\n",
    "```"
   ]
  }
 ],
 "metadata": {
  "language_info": {
   "name": "python"
  }
 },
 "nbformat": 4,
 "nbformat_minor": 2
}
