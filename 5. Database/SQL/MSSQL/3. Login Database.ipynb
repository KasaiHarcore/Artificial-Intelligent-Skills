{
 "cells": [
  {
   "cell_type": "markdown",
   "metadata": {},
   "source": [
    "A login is a simple credential for accessing SQL Server. For example, you provide your username and password when logging on to Windows or even your e-mail account. This username and password builds up the credentials. Therefore, credentials are simply a username and a password.\n",
    "\n",
    "SQL Server allows four types of logins −\n",
    "\n",
    "- A login based on Windows credentials.\n",
    "\n",
    "- A login specific to SQL Server.\n",
    "\n",
    "- A login mapped to a certificate.\n",
    "\n",
    "- A login mapped to asymmetric key."
   ]
  },
  {
   "cell_type": "markdown",
   "metadata": {},
   "source": [
    "In this tutorial, we are interested in logins based on Windows Credentials and logins specific to SQL Server.\n",
    "\n",
    "Logins based on Windows credentials allow you to log in to SQL Server using a Windows username and password. If you need to create your own credentials (username and password,) you can create a login specific to SQL Server.\n",
    "\n",
    "To create, alter, or remove a SQL Server login, you can take one of two approaches −\n",
    "\n",
    "- Using SQL Server Management Studio.\n",
    "- Using Transact-SQL statements."
   ]
  },
  {
   "cell_type": "markdown",
   "metadata": {},
   "source": [
    "## First Method – Using SQL Server Management Studio\n",
    "\n",
    "Step 1: Open SQL Server Management Studio.\n",
    "\n",
    "Step 2: Connect to the SQL Server instance where you want to create a login.\n",
    "\n",
    "Step 3: In the Object Explorer, expand the Security node.\n",
    "\n",
    "Step 4: Right-click the Logins node, and select New Login.\n",
    "\n",
    "Step 5: In the Login – Fill the Login name, Password and Confirm password columns as shown in the above screen and then click OK."
   ]
  },
  {
   "cell_type": "markdown",
   "metadata": {},
   "source": [
    "## Second Method – Using Transact-SQL Statements\n",
    "\n",
    "```sql\n",
    "CREATE LOGIN login_name with PASSWORD = 'password';\n",
    "```\n",
    "\n",
    "To create login name with TestLogin and password ‘P@ssword’ run below the following query.\n",
    "\n",
    "```sql\n",
    "Create login TestLogin with password='P@ssword';\n",
    "```"
   ]
  }
 ],
 "metadata": {
  "language_info": {
   "name": "python"
  }
 },
 "nbformat": 4,
 "nbformat_minor": 2
}
