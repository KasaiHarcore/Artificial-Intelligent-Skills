{
 "cells": [
  {
   "cell_type": "markdown",
   "metadata": {},
   "source": [
    "SQL Server Management Studio is a workstation component\\client tool that will be installed if we select workstation component in installation steps. This allows you to connect to and manage your SQL Server from a graphical interface instead of having to use the command line.\n",
    "\n",
    "In order to connect to a remote instance of an SQL Server, you will need this or similar software. It is used by Administrators, Developers, Testers, etc.\n",
    "\n",
    "The following methods are used to open SQL Server Management Studio.\n",
    "\n",
    "## First Method\n",
    "\n",
    "Step 1: Click on the Windows Start button\n",
    "\n",
    "Step 2: Search for SQL Server Management Studio (If it is not appear in the recently add list)\n",
    "\n",
    "Step 3: Click on SQL Server Management Studio\n",
    "\n",
    "## Second Method\n",
    "\n",
    "Step 1: Press Windows + R key\n",
    "\n",
    "Step 2: Type SSMS in the Run window\n",
    "\n",
    "Step 3: Click on OK"
   ]
  },
  {
   "cell_type": "markdown",
   "metadata": {},
   "source": [
    "SQL Server Management Studio will be open up as shown"
   ]
  }
 ],
 "metadata": {
  "language_info": {
   "name": "python"
  }
 },
 "nbformat": 4,
 "nbformat_minor": 2
}
