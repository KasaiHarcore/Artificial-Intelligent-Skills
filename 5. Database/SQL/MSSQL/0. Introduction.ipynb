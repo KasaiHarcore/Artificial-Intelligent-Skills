{
 "cells": [
  {
   "cell_type": "markdown",
   "metadata": {},
   "source": [
    "MS SQL Server is a relational database management system (RDBMS) developed by Microsoft. This product is built for the basic function of storing retrieving data as required by other applications. It can be run either on the same computer or on another across a network. This tutorial explains some basic and advanced concepts of SQL Server such as how to create and restore data, create login and backup, assign permissions, etc. Each topic is explained using examples for easy understanding."
   ]
  },
  {
   "cell_type": "markdown",
   "metadata": {},
   "source": [
    "## Audience\n",
    "This tutorial is designed for all those readers who want to learn the fundamentals of SQL Server and put it into practice.\n"
   ]
  },
  {
   "cell_type": "markdown",
   "metadata": {},
   "source": [
    "## Prerequisites\n",
    "To go ahead with this tutorial, familiarity with database concepts is preferred. It is good to have SQL Server installed on your computer, as it might assist you in executing the examples yourself and get to know how it works."
   ]
  },
  {
   "cell_type": "markdown",
   "metadata": {},
   "source": [
    "## What is SQL Server?\n",
    "\n",
    "- It is a software, developed by Microsoft, which is implemented from the specification of RDBMS (Relational Database Management System).\n",
    "\n",
    "- It is also an ORDBMS (Object Relational Database Management System).\n",
    "\n",
    "- It is platform dependent.\n",
    "\n",
    "- It is both GUI and command based software.\n",
    "\n",
    "- It supports SQL (SEQUEL) language which is an IBM product, non-procedural, common database and case insensitive language."
   ]
  },
  {
   "cell_type": "markdown",
   "metadata": {},
   "source": [
    "## Usage of SQL Server\n",
    "\n",
    "- To create databases.\n",
    "\n",
    "- To maintain databases.\n",
    "\n",
    "- To analyze the data through SQL Server Analysis Services (SSAS).\n",
    "\n",
    "- To generate reports through SQL Server Reporting Services (SSRS).\n",
    "\n",
    "- To carry out ETL operations through SQL Server Integration Services (SSIS)."
   ]
  },
  {
   "cell_type": "markdown",
   "metadata": {},
   "source": [
    "## SQL Server Components\n",
    "\n",
    "SQL Server works in client-server architecture, hence it supports two types of components − (a) Workstation and (b) Server.\n",
    "\n",
    "- Workstation components are installed in every device/SQL Server operator’s machine. These are just interfaces to interact with Server components. Example: SSMS, SSCM, Profiler, BIDS, SQLEM etc.\n",
    "\n",
    "- Server components are installed in centralized server. These are services. Example: SQL Server, SQL Server Agent, SSIS, SSAS, SSRS, SQL browser, SQL Server full text search etc."
   ]
  },
  {
   "cell_type": "markdown",
   "metadata": {},
   "source": [
    "## Instance of SQL Server\n",
    "\n",
    "- An instance is an installation of SQL Server.\n",
    "\n",
    "- An instance is an exact copy of the same software.\n",
    "\n",
    "- If we install 'n' times, then 'n' instances will be created.\n",
    "\n",
    "- There are two types of instances in SQL Server a) Default b) Named.\n",
    "\n",
    "- Only one default instance will be supported in one Server.\n",
    "\n",
    "- Multiple named instances will be supported in one Server.\n",
    "\n",
    "- Default instance will take the server name as Instance name.\n",
    "\n",
    "- Default instance service name is MSSQLSERVER.\n",
    "\n",
    "- 16 instances will be supported in 2000 version.\n",
    "\n",
    "- 50 instances will supported in 2005 and later versions."
   ]
  },
  {
   "cell_type": "markdown",
   "metadata": {},
   "source": [
    "## Some version type\n",
    "\n",
    "SQL Server is available in various editions. This chapter lists the multiple editions with its features.\n",
    "\n",
    "- Enterprise − This is the top-end edition with a full feature set.\n",
    "\n",
    "- Standard − This has less features than Enterprise, when there is no requirement of advanced features.\n",
    "\n",
    "- Workgroup − This is suitable for remote offices of a larger company.\n",
    "\n",
    "- eb − This is designed for web applications.\n",
    "\n",
    "- Developer − This is similar to Enterprise, but licensed to only one user for development, testing and demo. It can be easily upgraded to Enterprise without reinstallation.\n",
    "\n",
    "- Express − This is free entry level database. It can utilize only 1 CPU and 1 GB memory, the maximum size of the database is 10 GB.\n",
    "\n",
    "- Compact − This is free embedded database for mobile application development. The maximum size of the database is 4 GB.\n",
    "\n",
    "- Datacenter − The major change in new SQL Server 2008 R2 is Datacenter Edition. The Datacenter edition has no memory limitation and offers support for more than 25 instances.\n",
    "\n",
    "- Business Intelligence − Business Intelligence Edition is a new introduction in SQL Server 2012. This edition includes all the features in the Standard edition and support for advanced BI features such as Power View and PowerPivot, but it lacks support for advanced availability features like AlwaysOn Availability Groups and other online operations.\n",
    "\n",
    "- Enterprise Evaluation − The SQL Server Evaluation Edition is a great way to get a fully functional and free instance of SQL Server for learning and developing solutions. This edition has a built-in expiry of 6 months from the time that you install it."
   ]
  }
 ],
 "metadata": {
  "language_info": {
   "name": "python"
  }
 },
 "nbformat": 4,
 "nbformat_minor": 2
}
