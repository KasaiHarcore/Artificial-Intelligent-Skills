{
 "cells": [
  {
   "cell_type": "markdown",
   "metadata": {},
   "source": [
    "**There are 3 methods to help you understand the code**\n",
    "\n",
    "1. inspect library\n",
    "- inspect.getsource(function)\n",
    "- inspect.getcomments(function)\n",
    "- inspect.getfile(function)\n",
    "\n",
    "2. help(function)\n",
    "\n",
    "3. dir(function)\n",
    "\n",
    "**Note:**\n",
    "- inspect.getsource(function) will return the source code of the function\n",
    "- inspect.getcomments(function) will return the comments of the function\n",
    "- inspect.getfile(function) will return the path of the file that contains the function\n",
    "- help(function) will return the document of the function (if it has)\n",
    "- dir(function) will return the list of attributes of the function\n",
    "\n",
    "You should use 3 methods above frequently to understand the code, it can be help in many cases. Also you don't have to spend much time to read the document of the function."
   ]
  }
 ],
 "metadata": {
  "language_info": {
   "name": "python"
  },
  "orig_nbformat": 4
 },
 "nbformat": 4,
 "nbformat_minor": 2
}
