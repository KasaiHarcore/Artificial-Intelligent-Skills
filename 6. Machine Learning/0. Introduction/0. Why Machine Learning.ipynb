{
 "cells": [
  {
   "cell_type": "markdown",
   "metadata": {},
   "source": [
    "In the early days of “intelligent” applications, many systems used handcoded rules of “if” and “else” decisions to process data or adjust to user input. Think of a spam filter whose job is to move the appropriate incoming email messages to a spam folder. You could make up a blacklist of words that would result in an email being marked as spam. This would be an example of using an expert-designed rule system to design an “intelligent” application. Manually crafting decision rules is feasible for some applications, particularly those in which humans have a good understanding of the process to model. However, using handcoded rules to make decisions has two major disadvantages:\n",
    "• The logic required to make a decision is specific to a single domain and task. Changing the task even slightly might require a rewrite of the whole system.\n",
    "• Designing rules requires a deep understanding of how a decision should be made by a human expert\n",
    "\n",
    "## Problems Machine Learning Can Solve\n",
    "\n",
    "Machine learning can be used to solve a variety of problems. The following are some of the most common tasks that machine learning is used for:\n",
    "- Classification. The task of assigning a label to an item from a fixed set of categories. For example, classifying emails as either spam or not spam.\n",
    "- Regression. The task of predicting a continuous value. For example, predicting the price of a house in dollars is a regression task.\n",
    "- Clustering. The task of grouping similar items into sets. For example, clustering Wikipedia entries into different categories.\n",
    "- Dimensionality reduction. The task of finding a simpler representation of the data that still contains the most important information. For example, representing a 100 × 100 pixel image with a vector of 10 numbers representing the 10 most important pixels of the image.\n",
    "- Anomaly detection. The task of identifying unusual or unlikely events or items in data. For example, identifying users with unusual purchasing behavior.\n",
    "- Association rule learning. The task of identifying rules that describe large portions of your data. For example, people that purchase X also tend to purchase Y.\n",
    "- etc."
   ]
  },
  {
   "cell_type": "markdown",
   "metadata": {},
   "source": [
    "## Knowing Your Task and Knowing Your Data\n",
    "\n",
    "Quite possibly the most important part in the machine learning process is understanding the data you are working with and how it relates to the task you want to solve. It will not be effective to randomly choose an algorithm and throw your data at it. It is necessary to understand what is going on in your dataset before you begin building a model. Each algorithm is different in terms of what kind of data and what problem setting it works best for. While you are building a machine learning solution, you should answer, or at least keep in mind, the following questions:\n",
    "- What question(s) am I trying to answer? Do I think the data collected can answer that question?\n",
    "- What is the best way to phrase my question(s) as a machine learning problem?\n",
    "- Have I collected enough data to represent the problem I want to solve?\n",
    "- What features of the data did I extract, and will these enable the right predictions?\n",
    "- How will I measure success in my application?\n",
    "- How will the machine learning solution interact with other parts of my research or business product?\n",
    "\n",
    "When going deep into the technical aspects of machine learning, it is easy to lose sight of the ultimate goals. While we will not discuss the questions listed here in detail, we still encourage you to keep in mind all the assumptions that you might be making, explicitly or implicitly, when you start building machine learning models."
   ]
  }
 ],
 "metadata": {
  "language_info": {
   "name": "python"
  },
  "orig_nbformat": 4
 },
 "nbformat": 4,
 "nbformat_minor": 2
}
