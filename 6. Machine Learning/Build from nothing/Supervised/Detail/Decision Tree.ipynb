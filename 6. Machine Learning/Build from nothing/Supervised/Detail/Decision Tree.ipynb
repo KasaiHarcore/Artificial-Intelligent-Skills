{
 "cells": [
  {
   "cell_type": "markdown",
   "metadata": {},
   "source": [
    "# What is a Decision Tree\n",
    "\n",
    "According to <a href=\"https://en.wikipedia.org/wiki/Decision_tree\">Wikipedia.</a>\n",
    "<p><i><h4>\n",
    "\"A decision tree is a decision support tool that uses a tree-like model of decisions and their possible consequences, including chance event outcomes, resource costs, and utility. It is one way to display an algorithm that only contains conditional control statements\"\n",
    "    </h4>   </i></p>\n",
    "\n",
    "<h2>What does this mean? </h2>\n",
    "\n",
    "I know what the definition want to say, but I don't know what it said :( . \n",
    "\n",
    "According to me you take decision on each node and eventually you know what decision you should take. Like, If the <b>outlook</b> is <b><i>sunny</i></b> and <b>humidity</b> is <b><i>low</i></b> . I think I will say <b>yes</b> to playing tennis and it should look something like this\n",
    "<img src=\"https://media.geeksforgeeks.org/wp-content/cdn-uploads/Decision_Tree-2.png\" alt=\"Decision Tree\">\n",
    "\n",
    "\n",
    "Visually appealling and easy to grasp :). \n"
   ]
  },
  {
   "cell_type": "markdown",
   "metadata": {},
   "source": [
    "# How to Construct a Decision Tree\n",
    "\n",
    "<p>\n",
    "That is where the problem starts ? \n",
    "\n",
    "Almost everyone after looking at decision tree can tell how they work but when you raise the question how to build it programatically most of the people will look away. \n",
    "\n",
    "But why is that, The structure looks so simple and easy to grasp, it should be easy to implement as well. \n",
    "\n",
    "Answer is \"yes\" it is easy to implement, most of the people have not thought how to implement it programmatically because the visual interpretation is so close to how we make our decisions , it becomes almost intuitive. And once you have intuition about something you will not have too many questions. \n",
    "\n",
    "For example if we show Neural netwrok to people and tell them this works with 90% accuracy, most of the people would say <b> \"how?\" </b>, because the neural network structure is not intuitive at first glance.\n",
    "\n",
    "</p>\n"
   ]
  },
  {
   "cell_type": "markdown",
   "metadata": {},
   "source": [
    "## Let's try to build a Decision Tree\n",
    "\n",
    "I want every step to be intuitive and easy to understand. So I will be using an example dataset throughout (Famous Iris Dataset). \n",
    "\n",
    "Before we start let's look at initial setup. \n",
    "1. I am using Python for this example, but language is never a barrier, you can implement in which ever language you want (In some ways using a different programming language will make it easier to understand the concepts)\n",
    "2. I will be using numpy, Pythons numerical library (to perform mathematical operations)\n",
    "3. I will be using pandas, to read the dataset initially. \n",
    "4. I will be using matplotlib and seaborn to graphically show the output at each step\n",
    "\n",
    "Note :- The same can be done using either Pandas or numpy, but pandas are slow but more interpretable and numpy arrays are vice-versa in comparison.\n",
    "\n",
    "lets go ahead and import all the libraries"
   ]
  },
  {
   "cell_type": "code",
   "execution_count": 1,
   "metadata": {},
   "outputs": [],
   "source": [
    "# Importing Dependencies\n",
    "import numpy as np\n",
    "import pandas as pd\n",
    "import matplotlib.pyplot as plt\n",
    "import seaborn as sns\n",
    "from pprint import pprint\n",
    "%matplotlib inline"
   ]
  },
  {
   "cell_type": "markdown",
   "metadata": {},
   "source": [
    "###  Something about the dataset\n",
    "\n",
    "The data set contains 3 classes of 50 instances each, where each class refers to a type of iris plant. One class is linearly separable from the other 2; the latter are NOT linearly separable from each other. There are 5 variables (sepal_length, sepal_width, petal_length,petal_width and species) \n",
    "\n",
    "Eventaully we will be predicting species using other 4 variables"
   ]
  },
  {
   "cell_type": "code",
   "execution_count": 2,
   "metadata": {},
   "outputs": [
    {
     "data": {
      "text/html": [
       "<div>\n",
       "<style scoped>\n",
       "    .dataframe tbody tr th:only-of-type {\n",
       "        vertical-align: middle;\n",
       "    }\n",
       "\n",
       "    .dataframe tbody tr th {\n",
       "        vertical-align: top;\n",
       "    }\n",
       "\n",
       "    .dataframe thead th {\n",
       "        text-align: right;\n",
       "    }\n",
       "</style>\n",
       "<table border=\"1\" class=\"dataframe\">\n",
       "  <thead>\n",
       "    <tr style=\"text-align: right;\">\n",
       "      <th></th>\n",
       "      <th>sepal_length</th>\n",
       "      <th>sepal_width</th>\n",
       "      <th>petal_length</th>\n",
       "      <th>petal_width</th>\n",
       "      <th>species</th>\n",
       "    </tr>\n",
       "  </thead>\n",
       "  <tbody>\n",
       "    <tr>\n",
       "      <th>0</th>\n",
       "      <td>5.1</td>\n",
       "      <td>3.5</td>\n",
       "      <td>1.4</td>\n",
       "      <td>0.2</td>\n",
       "      <td>setosa</td>\n",
       "    </tr>\n",
       "    <tr>\n",
       "      <th>1</th>\n",
       "      <td>4.9</td>\n",
       "      <td>3.0</td>\n",
       "      <td>1.4</td>\n",
       "      <td>0.2</td>\n",
       "      <td>setosa</td>\n",
       "    </tr>\n",
       "    <tr>\n",
       "      <th>2</th>\n",
       "      <td>4.7</td>\n",
       "      <td>3.2</td>\n",
       "      <td>1.3</td>\n",
       "      <td>0.2</td>\n",
       "      <td>setosa</td>\n",
       "    </tr>\n",
       "    <tr>\n",
       "      <th>3</th>\n",
       "      <td>4.6</td>\n",
       "      <td>3.1</td>\n",
       "      <td>1.5</td>\n",
       "      <td>0.2</td>\n",
       "      <td>setosa</td>\n",
       "    </tr>\n",
       "    <tr>\n",
       "      <th>4</th>\n",
       "      <td>5.0</td>\n",
       "      <td>3.6</td>\n",
       "      <td>1.4</td>\n",
       "      <td>0.2</td>\n",
       "      <td>setosa</td>\n",
       "    </tr>\n",
       "  </tbody>\n",
       "</table>\n",
       "</div>"
      ],
      "text/plain": [
       "   sepal_length  sepal_width  petal_length  petal_width species\n",
       "0           5.1          3.5           1.4          0.2  setosa\n",
       "1           4.9          3.0           1.4          0.2  setosa\n",
       "2           4.7          3.2           1.3          0.2  setosa\n",
       "3           4.6          3.1           1.5          0.2  setosa\n",
       "4           5.0          3.6           1.4          0.2  setosa"
      ]
     },
     "execution_count": 2,
     "metadata": {},
     "output_type": "execute_result"
    }
   ],
   "source": [
    "df = pd.read_csv(\"Iris.csv\")\n",
    "df.head()"
   ]
  },
  {
   "cell_type": "code",
   "execution_count": null,
   "metadata": {},
   "outputs": [],
   "source": []
  },
  {
   "cell_type": "code",
   "execution_count": 3,
   "metadata": {},
   "outputs": [
    {
     "data": {
      "text/plain": [
       "<seaborn.axisgrid.PairGrid at 0xc2e1890>"
      ]
     },
     "execution_count": 3,
     "metadata": {},
     "output_type": "execute_result"
    },
    {
     "data": {
      "image/png": "[encoded data removed]",
      "text/plain": [
       "<Figure size 948.75x864 with 20 Axes>"
      ]
     },
     "metadata": {
      "needs_background": "light"
     },
     "output_type": "display_data"
    }
   ],
   "source": [
    "sns.pairplot(df, hue=\"species\", height=3)"
   ]
  },
  {
   "cell_type": "markdown",
   "metadata": {},
   "source": [
    "Looking at the distribution of variables one class (sentosa) is clearly separable using petal_width or petal_length,if we have a correct decision bourdary. Other 2 classes are overlapping to some extent and it is very difficult to separate them 100%. \n",
    "\n",
    "Let me show how can we separate sentosa from other classes with only one decision boundry."
   ]
  },
  {
   "cell_type": "code",
   "execution_count": 4,
   "metadata": {},
   "outputs": [
    {
     "data": {
      "text/plain": [
       "<matplotlib.collections.LineCollection at 0xe183970>"
      ]
     },
     "execution_count": 4,
     "metadata": {},
     "output_type": "execute_result"
    },
    {
     "data": {
      "image/png": "[encoded data removed]",
      "text/plain": [
       "<Figure size 444.75x360 with 1 Axes>"
      ]
     },
     "metadata": {
      "needs_background": "light"
     },
     "output_type": "display_data"
    }
   ],
   "source": [
    "sns.lmplot(data=df,x=\"petal_width\",y=\"petal_length\",hue=\"species\",fit_reg=False)\n",
    "plt.vlines(x=0.8,ymin=0,ymax=7)\n",
    "\n",
    "plt.hlines(y=2.5,xmin=0,xmax=3)"
   ]
  },
  {
   "cell_type": "markdown",
   "metadata": {},
   "source": [
    "Any of the above two lines can be used to separate the sentosa species from other classes. The decision tree we will construct we should see similar decision"
   ]
  },
  {
   "cell_type": "markdown",
   "metadata": {},
   "source": [
    "# What we need to do\n",
    "\n",
    "We want to construct a decision tree which will have nodes which will conpare some attribute and based on which it will divide the data into 2 sub datasets.\n",
    "\n",
    "lets just look at what are the things that we need to know before we start this programming experiment.\n",
    "\n",
    "1. How would the program decide which feature to choose ?\n",
    "2. After Choosing the feature, how would the program decide on which value to split the tree.\n",
    "3. How can be deal with categorical and continuous variables\n",
    "4. How would we divide the tree\n",
    "5. How to store the result of the variable \n",
    "6. How to store the tree\n",
    "7. How to decide when to stop\n",
    "9. How would we create a tree\n",
    "10. How to predict using the tree\n",
    "11. How to use the decision tree\n",
    "\n"
   ]
  },
  {
   "cell_type": "markdown",
   "metadata": {},
   "source": [
    "## How to use the decision tree\n",
    "\n",
    "Before I go any further let's look at the existing implementation of Decision Tree in sklearn\n",
    "<p> <i><b>\n",
    "from sklearn.datasets import load_iris \n",
    "    \n",
    "from sklearn import tree\n",
    "\n",
    "iris = load_iris()\n",
    "\n",
    "clf = tree.DecisionTreeClassifier()      ----------------------    1\n",
    "\n",
    "clf = clf.fit(iris.data, iris.target)    ----------------------    2\n",
    "\n",
    "pred = clf.predict(iris.data)            ----------------------    3\n",
    "    \n",
    "</b></i></p>\n",
    "There are 3 important steps in constructing a decision tree in sklearn implementation.\n",
    "1. call the constructor method and create a decision tree instance\n",
    "2. Call the fit method and create the decision tree for the problem\n",
    "3. Call the predict method to predict for new instances\n",
    "\n",
    "We will also be implementing in similar way with 2 APIs \n",
    "1. fit - to train the decision tree\n",
    "2. predict - to predict for new instances of data\n",
    "\n",
    "So immediately we can understand that a class needs to be created with fit and predict methods\n",
    "\n",
    "Our Solution should look something like this\n",
    "\n",
    "<h4>\n",
    "dt = DecisionTree()\n",
    "\n",
    "clf = dt.fit(X_train,label)\n",
    "\n",
    "pred = clf.predict(X_test)\n",
    "</h4>"
   ]
  },
  {
   "cell_type": "markdown",
   "metadata": {},
   "source": [
    "The decision tree learning algorithm recursively learns the tree as follows:\n",
    "\n",
    "1. Assign all training instances to the root of the tree. Set curent node to root node.\n",
    "2. For each attribute Partition all data instances at the node by the value of the attribute.\n",
    "3. Compute the information gain ratio from the partitioning.\n",
    "4. Identify feature that results in the greatest information gain ratio. Set this feature to be the splitting criterion at the current node.\n",
    "5. If the best information gain ratio is 0, tag the current node as a leaf and return.\n",
    "6. Partition all instances according to attribute value of the best feature.\n",
    "7. Denote each partition as a child node of the current node.\n",
    "8. For each child node:\n",
    "    a. If the child node is “pure” (has instances from only one class) tag it as a leaf and return.\n",
    "    b. If not set the child node as the current node and recurse to step 2.\n",
    "    \n",
    "    \n",
    "    \n",
    "Based on above we would be required to write following functions to create the decision tree\n",
    "1. Function to identify partition values for all attribute\n",
    "2. Function to identify the best feature and value to particition on using entropy and information gain\n",
    "3. Split the data into 2 using the partition value\n",
    "4. Check each split if Data is Pure (0 information Gain), then stop for that split\n",
    "5. Else iterate through recursively\n",
    "6. Function to calculate entropy\n",
    "7. function to calculate information Gain\n",
    "8. Function to check Purity\n",
    "9. Function to return classification from leaf node"
   ]
  },
  {
   "cell_type": "markdown",
   "metadata": {},
   "source": [
    "### 1. Function to identify partition values for all attribute\n",
    "\n",
    "Our function should look this below. It should take the data and labels and return all the potential splits for all columns"
   ]
  },
  {
   "cell_type": "code",
   "execution_count": 5,
   "metadata": {},
   "outputs": [],
   "source": [
    "def all_potential_splits(data):\n",
    "    \n",
    "    return potential_splits"
   ]
  },
  {
   "cell_type": "markdown",
   "metadata": {},
   "source": [
    "How can we get all the potential splits. \n",
    "1. Iterate through each attribute\n",
    "2. identify the unique values for that attribute (continuous and numeric doesn't matter here, but will matter later)\n",
    "3. store the unique values with the attribute index in a dictionary and return the dictionary\n",
    "\n",
    "To verify that we have created the function correctly we would use iris data to validate\n"
   ]
  },
  {
   "cell_type": "code",
   "execution_count": 6,
   "metadata": {},
   "outputs": [],
   "source": [
    "data = df.drop(\"species\",axis=1).values\n",
    "label = df[\"species\"]"
   ]
  },
  {
   "cell_type": "code",
   "execution_count": 7,
   "metadata": {},
   "outputs": [
    {
     "name": "stdout",
     "output_type": "stream",
     "text": [
      "{0: array([4.3, 4.4, 4.5, 4.6, 4.7, 4.8, 4.9, 5. , 5.1, 5.2, 5.3, 5.4, 5.5,\n",
      "       5.6, 5.7, 5.8, 5.9, 6. , 6.1, 6.2, 6.3, 6.4, 6.5, 6.6, 6.7, 6.8,\n",
      "       6.9, 7. , 7.1, 7.2, 7.3, 7.4, 7.6, 7.7, 7.9]),\n",
      " 1: array([2. , 2.2, 2.3, 2.4, 2.5, 2.6, 2.7, 2.8, 2.9, 3. , 3.1, 3.2, 3.3,\n",
      "       3.4, 3.5, 3.6, 3.7, 3.8, 3.9, 4. , 4.1, 4.2, 4.4]),\n",
      " 2: array([1. , 1.1, 1.2, 1.3, 1.4, 1.5, 1.6, 1.7, 1.9, 3. , 3.3, 3.5, 3.6,\n",
      "       3.7, 3.8, 3.9, 4. , 4.1, 4.2, 4.3, 4.4, 4.5, 4.6, 4.7, 4.8, 4.9,\n",
      "       5. , 5.1, 5.2, 5.3, 5.4, 5.5, 5.6, 5.7, 5.8, 5.9, 6. , 6.1, 6.3,\n",
      "       6.4, 6.6, 6.7, 6.9]),\n",
      " 3: array([0.1, 0.2, 0.3, 0.4, 0.5, 0.6, 1. , 1.1, 1.2, 1.3, 1.4, 1.5, 1.6,\n",
      "       1.7, 1.8, 1.9, 2. , 2.1, 2.2, 2.3, 2.4, 2.5])}\n"
     ]
    }
   ],
   "source": [
    "# 1 - Create an empty dictionary, we will create our splits and store the splits in this dictionary. \n",
    "#      The format of the dictionary will be {col_index:[list of all possible values]} \n",
    "potential_splits ={}        \n",
    "# 2   Since we need to iterate through each column in the dataset we would need the column count. Row count is not required here\n",
    "n_row , n_col = data.shape\n",
    "# 3   In this Step we are iterating through each column in the dataset identifying the unique values and \n",
    "#     storing the values in our dictionary with that column index \n",
    "for col_index in range(n_col):\n",
    "    values = data[:,col_index]\n",
    "    unique_values = np.unique(values)    \n",
    "    potential_splits[col_index] = unique_values\n",
    "\n",
    "pprint(potential_splits)"
   ]
  },
  {
   "cell_type": "markdown",
   "metadata": {},
   "source": [
    "Looks like our code is working properly. We can incorporate this into our function. This function will later become method within a class DecisionTree\n"
   ]
  },
  {
   "cell_type": "code",
   "execution_count": 8,
   "metadata": {},
   "outputs": [],
   "source": [
    "def all_potential_splits(data):\n",
    "    # 1 - Create an empty dictionary, we will create our splits and store the splits in this dictionary. \n",
    "    #      The format of the dictionary will be {col_index:[list of all possible values]} \n",
    "    potential_splits ={}        \n",
    "    # 2   Since we need to iterate through each column in the dataset we would need the column count. Row count is \n",
    "    n_row , n_col = data.shape\n",
    "    # 3   In this Step we are iterating through each column in the dataset identifying the unique values and \n",
    "    #     storing the values in our dictionary with that column index \n",
    "    for col_index in range(n_col -1):\n",
    "        values = data[:,col_index]\n",
    "        unique_values = np.unique(values)    \n",
    "        potential_splits[col_index] = unique_values\n",
    "    return potential_splits"
   ]
  },
  {
   "cell_type": "markdown",
   "metadata": {},
   "source": [
    "Let's test out function again"
   ]
  },
  {
   "cell_type": "code",
   "execution_count": 9,
   "metadata": {},
   "outputs": [
    {
     "name": "stdout",
     "output_type": "stream",
     "text": [
      "{0: array([4.3, 4.4, 4.5, 4.6, 4.7, 4.8, 4.9, 5. , 5.1, 5.2, 5.3, 5.4, 5.5,\n",
      "       5.6, 5.7, 5.8, 5.9, 6. , 6.1, 6.2, 6.3, 6.4, 6.5, 6.6, 6.7, 6.8,\n",
      "       6.9, 7. , 7.1, 7.2, 7.3, 7.4, 7.6, 7.7, 7.9]),\n",
      " 1: array([2. , 2.2, 2.3, 2.4, 2.5, 2.6, 2.7, 2.8, 2.9, 3. , 3.1, 3.2, 3.3,\n",
      "       3.4, 3.5, 3.6, 3.7, 3.8, 3.9, 4. , 4.1, 4.2, 4.4]),\n",
      " 2: array([1. , 1.1, 1.2, 1.3, 1.4, 1.5, 1.6, 1.7, 1.9, 3. , 3.3, 3.5, 3.6,\n",
      "       3.7, 3.8, 3.9, 4. , 4.1, 4.2, 4.3, 4.4, 4.5, 4.6, 4.7, 4.8, 4.9,\n",
      "       5. , 5.1, 5.2, 5.3, 5.4, 5.5, 5.6, 5.7, 5.8, 5.9, 6. , 6.1, 6.3,\n",
      "       6.4, 6.6, 6.7, 6.9])}\n"
     ]
    }
   ],
   "source": [
    "potential_splits = all_potential_splits(df.drop(\"species\",axis=1).values)\n",
    "pprint(potential_splits)"
   ]
  },
  {
   "cell_type": "markdown",
   "metadata": {},
   "source": [
    "Let's see visually how the split looks like for petal_width. \n",
    "\n",
    "We can see that all unique values are part of the potential splits dictionary"
   ]
  },
  {
   "cell_type": "code",
   "execution_count": 10,
   "metadata": {},
   "outputs": [
    {
     "data": {
      "text/plain": [
       "<matplotlib.collections.LineCollection at 0xe502730>"
      ]
     },
     "execution_count": 10,
     "metadata": {},
     "output_type": "execute_result"
    },
    {
     "data": {
      "image/png": "[encoded data removed]",
      "text/plain": [
       "<Figure size 444.75x360 with 1 Axes>"
      ]
     },
     "metadata": {
      "needs_background": "light"
     },
     "output_type": "display_data"
    }
   ],
   "source": [
    "sns.lmplot(data=df,x=\"petal_width\",y=\"petal_length\",hue=\"species\",fit_reg=False)\n",
    "plt.vlines(x=potential_splits[2],ymin=0,ymax=8)"
   ]
  },
  {
   "cell_type": "markdown",
   "metadata": {},
   "source": [
    "# 3.Split the data into 2 using the partition value"
   ]
  },
  {
   "cell_type": "markdown",
   "metadata": {},
   "source": [
    "In Previous step we identified values on which we can split our dataset for each attribute and stored the result in a dictionary. We will use the dictionary to identify the best split and then split the data into 2. left_dataset, right_dataset.\n",
    "\n",
    "We will look at how to identify the best split later because it involves understanding of information gain and entropy. \n",
    "\n",
    "For now let's create a function which will take split value and split attribute as input and would return the left_dataset and right_dataset.\n",
    "\n",
    "Function signature should look like below"
   ]
  },
  {
   "cell_type": "code",
   "execution_count": 11,
   "metadata": {},
   "outputs": [],
   "source": [
    "def split_data(data,split_column,split_value):\n",
    "    \n",
    "    return left_dataset, right_dataset\n",
    "    "
   ]
  },
  {
   "cell_type": "markdown",
   "metadata": {},
   "source": [
    "How to split the dataset into 2 based on some value\n",
    "1. First thing that we need to understand is that we need to split the whole dataset not single column.\n",
    "2. Identify the type of column whether it is continous or categorical. For simplicity sake lets assume string values as categorical and others as continous. We can revisit this definition later. As we can identify this at start of program so that we dont have to calculate this every time\n",
    "3. we can simply iterate through all values in the split column check below condition\n",
    "    a. If variable is continous , check if value is <= to split value\n",
    "    b. If variable is categorical, check if value is == to split value\n",
    "4. Rows which will satisfy the condition will be stored in left dataset\n",
    "5. Rows that don't satisfy the condition will get stored in right dataset\n",
    "6. return the left dataset and right dataset\n",
    "\n",
    "Again lets use iris flower dataset check the function. Lets  arbitarily assign 0.8 as split_value and  3 as split_column (same example we have been using, becuase this value should separate the sentosa species )"
   ]
  },
  {
   "cell_type": "code",
   "execution_count": 12,
   "metadata": {},
   "outputs": [
    {
     "name": "stdout",
     "output_type": "stream",
     "text": [
      "['setosa']\n",
      "['versicolor' 'virginica']\n"
     ]
    }
   ],
   "source": [
    "data = df.values\n",
    "split_value = 0.8\n",
    "split_column = 3\n",
    "\n",
    "column_values = data[:,split_column]\n",
    "\n",
    "if isinstance(column_values, str):\n",
    "    left_dataset = data[column_values == split_value]\n",
    "    right_dataset = data[column_values != split_value]\n",
    "else:\n",
    "    left_dataset = data[column_values <= split_value]\n",
    "    right_dataset = data[column_values > split_value]\n",
    "\n",
    "print(np.unique(left_dataset[:,-1]))\n",
    "\n",
    "print(np.unique(right_dataset[:,-1]))"
   ]
  },
  {
   "cell_type": "markdown",
   "metadata": {},
   "source": [
    "Seems like our code is working fine. The result are as expected. We can see what is the output of the left dataset"
   ]
  },
  {
   "cell_type": "code",
   "execution_count": 13,
   "metadata": {},
   "outputs": [
    {
     "data": {
      "text/plain": [
       "array([[5.1, 3.5, 1.4, 0.2, 'setosa'],\n",
       "       [4.9, 3.0, 1.4, 0.2, 'setosa'],\n",
       "       [4.7, 3.2, 1.3, 0.2, 'setosa'],\n",
       "       [4.6, 3.1, 1.5, 0.2, 'setosa'],\n",
       "       [5.0, 3.6, 1.4, 0.2, 'setosa'],\n",
       "       [5.4, 3.9, 1.7, 0.4, 'setosa'],\n",
       "       [4.6, 3.4, 1.4, 0.3, 'setosa'],\n",
       "       [5.0, 3.4, 1.5, 0.2, 'setosa'],\n",
       "       [4.4, 2.9, 1.4, 0.2, 'setosa'],\n",
       "       [4.9, 3.1, 1.5, 0.1, 'setosa'],\n",
       "       [5.4, 3.7, 1.5, 0.2, 'setosa'],\n",
       "       [4.8, 3.4, 1.6, 0.2, 'setosa'],\n",
       "       [4.8, 3.0, 1.4, 0.1, 'setosa'],\n",
       "       [4.3, 3.0, 1.1, 0.1, 'setosa'],\n",
       "       [5.8, 4.0, 1.2, 0.2, 'setosa'],\n",
       "       [5.7, 4.4, 1.5, 0.4, 'setosa'],\n",
       "       [5.4, 3.9, 1.3, 0.4, 'setosa'],\n",
       "       [5.1, 3.5, 1.4, 0.3, 'setosa'],\n",
       "       [5.7, 3.8, 1.7, 0.3, 'setosa'],\n",
       "       [5.1, 3.8, 1.5, 0.3, 'setosa'],\n",
       "       [5.4, 3.4, 1.7, 0.2, 'setosa'],\n",
       "       [5.1, 3.7, 1.5, 0.4, 'setosa'],\n",
       "       [4.6, 3.6, 1.0, 0.2, 'setosa'],\n",
       "       [5.1, 3.3, 1.7, 0.5, 'setosa'],\n",
       "       [4.8, 3.4, 1.9, 0.2, 'setosa'],\n",
       "       [5.0, 3.0, 1.6, 0.2, 'setosa'],\n",
       "       [5.0, 3.4, 1.6, 0.4, 'setosa'],\n",
       "       [5.2, 3.5, 1.5, 0.2, 'setosa'],\n",
       "       [5.2, 3.4, 1.4, 0.2, 'setosa'],\n",
       "       [4.7, 3.2, 1.6, 0.2, 'setosa'],\n",
       "       [4.8, 3.1, 1.6, 0.2, 'setosa'],\n",
       "       [5.4, 3.4, 1.5, 0.4, 'setosa'],\n",
       "       [5.2, 4.1, 1.5, 0.1, 'setosa'],\n",
       "       [5.5, 4.2, 1.4, 0.2, 'setosa'],\n",
       "       [4.9, 3.1, 1.5, 0.1, 'setosa'],\n",
       "       [5.0, 3.2, 1.2, 0.2, 'setosa'],\n",
       "       [5.5, 3.5, 1.3, 0.2, 'setosa'],\n",
       "       [4.9, 3.1, 1.5, 0.1, 'setosa'],\n",
       "       [4.4, 3.0, 1.3, 0.2, 'setosa'],\n",
       "       [5.1, 3.4, 1.5, 0.2, 'setosa'],\n",
       "       [5.0, 3.5, 1.3, 0.3, 'setosa'],\n",
       "       [4.5, 2.3, 1.3, 0.3, 'setosa'],\n",
       "       [4.4, 3.2, 1.3, 0.2, 'setosa'],\n",
       "       [5.0, 3.5, 1.6, 0.6, 'setosa'],\n",
       "       [5.1, 3.8, 1.9, 0.4, 'setosa'],\n",
       "       [4.8, 3.0, 1.4, 0.3, 'setosa'],\n",
       "       [5.1, 3.8, 1.6, 0.2, 'setosa'],\n",
       "       [4.6, 3.2, 1.4, 0.2, 'setosa'],\n",
       "       [5.3, 3.7, 1.5, 0.2, 'setosa'],\n",
       "       [5.0, 3.3, 1.4, 0.2, 'setosa']], dtype=object)"
      ]
     },
     "execution_count": 13,
     "metadata": {},
     "output_type": "execute_result"
    }
   ],
   "source": [
    "left_dataset"
   ]
  },
  {
   "cell_type": "markdown",
   "metadata": {},
   "source": [
    "Looks like our code is working properly. We can incorporate this into our function. This function will later become method within a class DecisionTree"
   ]
  },
  {
   "cell_type": "code",
   "execution_count": 50,
   "metadata": {},
   "outputs": [],
   "source": [
    "def split_data(data,split_column,split_value):\n",
    "    column_values = data[:,split_column]\n",
    "\n",
    "    type_of_feature = FEATURE_TYPES[split_column]\n",
    " \n",
    "    if type_of_feature == \"continuous\":\n",
    "        left_dataset = data[column_values <= split_value]\n",
    "        right_dataset = data[column_values > split_value]\n",
    "    else:\n",
    "        left_dataset = data[column_values == split_value]\n",
    "        right_dataset = data[column_values != split_value]\n",
    "    return left_dataset, right_dataset\n",
    "    "
   ]
  },
  {
   "cell_type": "markdown",
   "metadata": {},
   "source": [
    "lets visually see what has happened"
   ]
  },
  {
   "cell_type": "code",
   "execution_count": 19,
   "metadata": {},
   "outputs": [
    {
     "data": {
      "image/png": "[encoded data removed]",
      "text/plain": [
       "<Figure size 444.75x360 with 1 Axes>"
      ]
     },
     "metadata": {
      "needs_background": "light"
     },
     "output_type": "display_data"
    }
   ],
   "source": [
    "# Data before the split\n",
    "sns.lmplot(data=df,x=\"petal_width\",y=\"petal_length\",hue=\"species\",fit_reg=False)\n",
    "plt.vlines(x=0.8,ymin=0,ymax=8)\n",
    "\n",
    "ld,rd = split_data(df.values,3,0.8)"
   ]
  },
  {
   "cell_type": "code",
   "execution_count": 20,
   "metadata": {},
   "outputs": [
    {
     "data": {
      "text/plain": [
       "(0, 2.5)"
      ]
     },
     "execution_count": 20,
     "metadata": {},
     "output_type": "execute_result"
    },
    {
     "data": {
      "image/png": "[encoded data removed]",
      "text/plain": [
       "<Figure size 428.625x360 with 1 Axes>"
      ]
     },
     "metadata": {
      "needs_background": "light"
     },
     "output_type": "display_data"
    }
   ],
   "source": [
    "# plotting the left dataset. \n",
    "# NOTE : some preprocessing is done to convert the left dataset from numpy array to pandas and give it column names\n",
    "\n",
    "column_names = df.columns\n",
    "ld = pd.DataFrame(ld,columns=column_names)\n",
    "sns.lmplot(data=ld,x=\"petal_width\",y=\"petal_length\",hue=\"species\",fit_reg=False)\n",
    "plt.vlines(x=0.8,ymin=0,ymax=8)\n",
    "plt.xlim(0,2.5)"
   ]
  },
  {
   "cell_type": "code",
   "execution_count": 21,
   "metadata": {},
   "outputs": [
    {
     "data": {
      "text/plain": [
       "(0, 2.5)"
      ]
     },
     "execution_count": 21,
     "metadata": {},
     "output_type": "execute_result"
    },
    {
     "data": {
      "image/png": "[encoded data removed]",
      "text/plain": [
       "<Figure size 444.75x360 with 1 Axes>"
      ]
     },
     "metadata": {
      "needs_background": "light"
     },
     "output_type": "display_data"
    }
   ],
   "source": [
    "# plotting the right dataset. \n",
    "# NOTE : some preprocessing is done to convert the right dataset from numpy array to pandas and give it column names\n",
    "\n",
    "rd = pd.DataFrame(rd,columns=column_names)\n",
    "sns.lmplot(data=rd,x=\"petal_width\",y=\"petal_length\",hue=\"species\",fit_reg=False)\n",
    "plt.vlines(x=0.8,ymin=0,ymax=8)\n",
    "plt.xlim(0,2.5)"
   ]
  },
  {
   "cell_type": "markdown",
   "metadata": {},
   "source": [
    "## 6.Function to calculate entropy"
   ]
  },
  {
   "cell_type": "markdown",
   "metadata": {},
   "source": [
    "### By the way what is entropy ?"
   ]
  },
  {
   "cell_type": "markdown",
   "metadata": {},
   "source": [
    "Well entropy is given by this formula\n",
    "\n",
    "<h3>\n",
    "\\begin{equation*}\n",
    "Entropy\\; H(X) = -\\sum p(X)\\log p(X)\n",
    "\\end{equation*}\n",
    "    </h3>\n",
    "    \n",
    "Lets understand in common terms. \n",
    "In physics, entropy stands for amount of randomness. Similar notion is used in data science as well. \n",
    "\n",
    "Lets take an example. \n",
    "I have 3 bowls with balls (bowl1, bowl2 and bowl3) . Bowl1 contains 3 red , 1 green.  Bowl2 contains 2 red ,2 green and Bowl3 contains 4 red.\n",
    "\n",
    "What is the proabability of picking a red ball.\n",
    "\n",
    "bowl1 = 3/4 = 0.75  \n",
    "\n",
    "bowl2 = 2/4 = 0.5\n",
    "\n",
    "bowl3 = 4/4 = 1\n",
    "\n",
    "Similarly, What is the proabability of picking a green ball.\n",
    "\n",
    "bowl1 = 1/4 = 0.25  \n",
    "\n",
    "bowl2 = 2/4 = 0.5\n",
    "\n",
    "bowl3 = 0/4 = 1\n",
    "\n",
    "lets calculate the entropy of each bowl\n",
    "\n",
    "E(bowl1) = -0.75 * log2(0.75) - 0.25* log2(0.25) = -0.75 * -0.415 - 0.25*-2 = 0.811\n",
    "\n",
    "E(bowl2) = -0.5 * log2(0.5) - 0.5* log2(0.5) = -0.5 *-1 - 0.5*-1 = 1\n",
    "\n",
    "E(bowl3) = -1 * log2(1) - 0*log2(0) = 0\n",
    "\n",
    "\n",
    "E(bowl2) has highest entropy meaning highest randomness or uncertainity. You can pick a ball and there is equal probability of both red ball and green ball. \n",
    "E(bowl1) has high entropy but less than bowl2 because their is more chance of picking a red ball than green ball\n",
    "E(bowl3) has zero entropy meaning you are always certain\n",
    "\n",
    "Our dataset will have very high entropy initially but eventually at the leaf nodes the entropy will be zero(mostly) because leaf will have only one value hence no uncertainity.\n",
    "\n",
    "We can use this property in our decision tree, for every split we can check that after split whether entropy is increasing or decreasing, We choose the split which provides highest entropy reduction. That is also called information gain. \n",
    "\n",
    "Lets write a function which does this. Our function should look like below. It should take the data return entropy for that data\n"
   ]
  },
  {
   "cell_type": "code",
   "execution_count": 23,
   "metadata": {},
   "outputs": [],
   "source": [
    "def calculate_entropy(data):\n",
    "    \n",
    "    return entropy"
   ]
  },
  {
   "cell_type": "markdown",
   "metadata": {},
   "source": [
    "To calculate entropy \n",
    "1. First identify the variable for which we want to calculate entropy of the dataset, this will always be the target variable as we want to reduce the uncertainity in the target variable\n",
    "2. get all the unique values and their counts for the target variable\n",
    "3. divide count of each unique value by the total count. this will give probability of each unique value\n",
    "4. calculate the overall entropy\n",
    "\n",
    "label = df.values[:,-1]\n",
    "\n",
    "_,counts = np.unique(label,return_counts=True)\n",
    "\n",
    "probabilities = counts/counts.sum()\n",
    "\n",
    "entropy = sum(probabilities * -np.log2(probabilities))\n",
    "\n",
    "print(entropy)\n",
    "\n",
    "above code should perform this. \n",
    "\n",
    "Lets check the entropy for some cases. \n",
    "\n"
   ]
  },
  {
   "cell_type": "code",
   "execution_count": 24,
   "metadata": {},
   "outputs": [
    {
     "name": "stdout",
     "output_type": "stream",
     "text": [
      "Entropy of entire dataset 1.584962500721156\n",
      "Entropy of only Sentosa 0.0\n",
      "Entropy of only Versicolor and Virginica 1.0\n"
     ]
    }
   ],
   "source": [
    "# entropy of entire dataset\n",
    "label = df.values[:,-1]\n",
    "_,counts = np.unique(label,return_counts=True)\n",
    "\n",
    "probabilities = counts/counts.sum()\n",
    "entropy = sum(probabilities * -np.log2(probabilities))\n",
    "print('Entropy of entire dataset {}'.format(entropy))\n",
    "\n",
    "\n",
    "# Entropy if we take only rows which have petal_width less than 0.8 . \n",
    "# This will return dataset with only sentosa and hence entropy should be 0\n",
    "label = df[df.petal_width < 0.8].values[:,-1]\n",
    "_,counts = np.unique(label,return_counts=True)\n",
    "\n",
    "probabilities = counts/counts.sum()\n",
    "entropy = sum(probabilities * -np.log2(probabilities))\n",
    "print('Entropy of only Sentosa {}'.format(entropy))\n",
    "\n",
    "\n",
    "# Entropy if we take only rows which have petal_width greater than 0.8 . \n",
    "# This will return dataset with  versicolor and virginica with each having  50 samples and hence entropy should be 1\n",
    "label = df[df.petal_width > 0.8].values[:,-1]\n",
    "_,counts = np.unique(label,return_counts=True)\n",
    "\n",
    "probabilities = counts/counts.sum()\n",
    "entropy = sum(probabilities * -np.log2(probabilities))\n",
    "print('Entropy of only Versicolor and Virginica {}'.format(entropy))"
   ]
  },
  {
   "cell_type": "markdown",
   "metadata": {},
   "source": [
    "Looks like our code is working properly. We can incorporate this into our function. This function will later become method within a class DecisionTree"
   ]
  },
  {
   "cell_type": "code",
   "execution_count": 25,
   "metadata": {},
   "outputs": [],
   "source": [
    "def calculate_entropy(data):\n",
    "    label = data[:,-1]\n",
    "    _,counts = np.unique(label,return_counts=True)\n",
    "\n",
    "    probabilities = counts/counts.sum()\n",
    "    entropy = sum(probabilities * -np.log2(probabilities))\n",
    "    return entropy"
   ]
  },
  {
   "cell_type": "markdown",
   "metadata": {},
   "source": [
    "# 7.function to calculate entropy after split"
   ]
  },
  {
   "cell_type": "markdown",
   "metadata": {},
   "source": [
    "We know how to calculate entropy and also have a know how to split dataset into two once we have the split value. \n",
    "\n",
    "Lets recap little bit on what we have built\n",
    "1. all_potential_splits():- Identify all possible splits in the dataset and store the result in a dictionary, dictionary is indexed by column\n",
    "2. split_data() :- Given a dataset, a column and a split value we are able to split the dataset into 2 smaller dataset based on the split_value\n",
    "3. calculate_entropy() :- We are able to calculate the entropy of any particular dataset. And we understand as our predictability increases the entropy decreases. Meaning our split should be such that weighted entropy of childs is less than that of parent. \n",
    "\n",
    "We can use the above functions to choose the right split for our decision tree. "
   ]
  },
  {
   "cell_type": "markdown",
   "metadata": {},
   "source": [
    "But before we go there we need to calculate the entropy of child node. i.e. weighted entropy of left_dataset and right_dataset. The function will have the below signature. It will receive the two dataset and will return the weighted entropy of both."
   ]
  },
  {
   "cell_type": "code",
   "execution_count": 26,
   "metadata": {},
   "outputs": [],
   "source": [
    "def get_child_entropy(left_dataset,right_dataset):\n",
    "    \n",
    "    return child_entropy"
   ]
  },
  {
   "cell_type": "markdown",
   "metadata": {},
   "source": [
    "To calculate child entropy.\n",
    "1. Calcualte the total number of rows in both the datasets\n",
    "2. Calculate the entropy of both left_dataset and right_dataset\n",
    "3. Calculate the weighted entropy using this formula, \n",
    "len(left_dataset)/total_len * entropy(left_dataset) + len(right_dataset)/total_len * entropy(right_dataset)\n",
    "4. return the value\n",
    "\n",
    "Again lets use the Iris dataset as example"
   ]
  },
  {
   "cell_type": "code",
   "execution_count": 29,
   "metadata": {},
   "outputs": [
    {
     "name": "stdout",
     "output_type": "stream",
     "text": [
      "Entropy of Parent Dataset 1.584962500721156\n",
      "Entropy of left_dataset = 0.0  entropy of right_dataset 1.0\n",
      "Weighted entropy of child 0.6666666666666666\n"
     ]
    }
   ],
   "source": [
    "data = df.values\n",
    "print('Entropy of Parent Dataset {}'.format(calculate_entropy(data)))\n",
    "\n",
    "left_dataset,right_dataset = split_data(data,3,0.8)\n",
    "\n",
    "total_len = len(left_dataset) + len(right_dataset)\n",
    "left_dataset_entropy = calculate_entropy(left_dataset)\n",
    "right_dataset_entropy = calculate_entropy(right_dataset)\n",
    "\n",
    "child_entropy = len(left_dataset)/total_len * left_dataset_entropy + len(right_dataset)/total_len * right_dataset_entropy\n",
    "\n",
    "print('Entropy of left_dataset = {}  entropy of right_dataset {}'.format(left_dataset_entropy, right_dataset_entropy))\n",
    "print('Weighted entropy of child {}'.format(child_entropy))\n",
    "      "
   ]
  },
  {
   "cell_type": "markdown",
   "metadata": {},
   "source": [
    "The code seems to be working. One observation we can make is after splitting the predictive power has improved. \n",
    "This is the exact logic that we will use in next section but for now lets complete our function. "
   ]
  },
  {
   "cell_type": "code",
   "execution_count": 30,
   "metadata": {},
   "outputs": [],
   "source": [
    "def get_child_entropy(left_dataset,right_dataset):\n",
    "    total_len = len(left_dataset) + len(right_dataset)\n",
    "    left_dataset_entropy = calculate_entropy(left_dataset)\n",
    "    right_dataset_entropy = calculate_entropy(right_dataset)\n",
    "\n",
    "    child_entropy = len(left_dataset)/total_len * left_dataset_entropy + len(right_dataset)/total_len * right_dataset_entropy\n",
    "    return child_entropy"
   ]
  },
  {
   "cell_type": "code",
   "execution_count": 31,
   "metadata": {},
   "outputs": [
    {
     "name": "stdout",
     "output_type": "stream",
     "text": [
      "0.6666666666666666\n"
     ]
    }
   ],
   "source": [
    "# validating whether code is working well in the function\n",
    "print(get_child_entropy(left_dataset,right_dataset))"
   ]
  },
  {
   "cell_type": "markdown",
   "metadata": {},
   "source": [
    "# 2.Function to identify the best feature and value to particition on using entropy and information gain"
   ]
  },
  {
   "cell_type": "markdown",
   "metadata": {},
   "source": [
    "Now its time to identify the best split and return that split value and split column. \n",
    "The signature of our function would be"
   ]
  },
  {
   "cell_type": "code",
   "execution_count": 32,
   "metadata": {},
   "outputs": [],
   "source": [
    "def best_split(data,potential_splits):\n",
    "    \n",
    "    \n",
    "    return best_split_value , best_split_column"
   ]
  },
  {
   "cell_type": "markdown",
   "metadata": {},
   "source": [
    "How to identify the best split. Given we have the dataset and list of all available splits\n",
    "\n",
    "1. calculate the entropy of the data. Store the entropy as best entropy\n",
    "2. loop through all the indexs in the potential_splits dictionary, i.e. loop through all the column\n",
    "    A. loop through all values for each column\n",
    "        i. split_data for each column,split_value pair in potential splits into left dataset and right dataset\n",
    "        ii. calculate weighted entropy of child datasets (left_dataset and right_dataset)\n",
    "        iii. if child entropy is less than best_entropy\n",
    "                a. Store the split_value and split_column in best_split_value and best_split_column\n",
    "                b. best entropy == child entropy\n",
    "        iv. else continue\n",
    "4. return best_split_value and best_split_column        \n",
    "\n",
    "As always we will use Iris dataset to check our solution\n",
    "       "
   ]
  },
  {
   "cell_type": "code",
   "execution_count": 33,
   "metadata": {},
   "outputs": [],
   "source": [
    "data = df.values\n",
    "potential_splits = all_potential_splits(data)"
   ]
  },
  {
   "cell_type": "code",
   "execution_count": 34,
   "metadata": {},
   "outputs": [
    {
     "name": "stdout",
     "output_type": "stream",
     "text": [
      "split_column 2 split_value 1.9 entropy 0.6666666666666666 parent entropy 1.584962500721156 information gain 0.9182958340544894\n"
     ]
    }
   ],
   "source": [
    "parent_entropy = calculate_entropy(data)\n",
    "best_entropy = parent_entropy\n",
    "\n",
    "for index in potential_splits:\n",
    "    for value in potential_splits[index]:\n",
    "        left_dataset,right_dataset = split_data(data,index,value)\n",
    "        child_entropy = get_child_entropy(left_dataset,right_dataset)\n",
    "#        print('Index = {}  value = {} child entropy = {} parent entropy = {}'.format(index,value,child_entropy,parent_entropy))\n",
    "        if child_entropy < best_entropy:\n",
    "            best_split_column = index\n",
    "            best_split_value = value\n",
    "            best_entropy = child_entropy\n",
    "            information_gain = parent_entropy - best_entropy\n",
    "print('split_column {} split_value {} entropy {} parent entropy {} information gain {}'.format(best_split_column,best_split_value,best_entropy,parent_entropy,information_gain))"
   ]
  },
  {
   "cell_type": "markdown",
   "metadata": {},
   "source": [
    "Ok we have received some output in format that we expected. but is it the best split. \n",
    "Lets look at it visually "
   ]
  },
  {
   "cell_type": "code",
   "execution_count": 35,
   "metadata": {},
   "outputs": [
    {
     "data": {
      "text/plain": [
       "<matplotlib.collections.LineCollection at 0xebb11d0>"
      ]
     },
     "execution_count": 35,
     "metadata": {},
     "output_type": "execute_result"
    },
    {
     "data": {
      "image/png": "[encoded data removed]",
      "text/plain": [
       "<Figure size 444.75x360 with 1 Axes>"
      ]
     },
     "metadata": {
      "needs_background": "light"
     },
     "output_type": "display_data"
    }
   ],
   "source": [
    "# Data before the split\n",
    "sns.lmplot(data=df,x=\"petal_width\",y=\"petal_length\",hue=\"species\",fit_reg=False)\n",
    "plt.hlines(y=best_split_value,xmin=0,xmax=3)"
   ]
  },
  {
   "cell_type": "markdown",
   "metadata": {},
   "source": [
    "Few Questions\n",
    "1. Although the line separates the points perfectly it is very close to one cluster, what effect it will have on accuracy ?\n",
    "2. Is it really the best split, we have seen example of separating using petal_width and 0.8 value which seemed quite right. Why was that split not selected ?\n",
    "\n",
    "Explanations\n",
    "2. There are multiple datapoint which are able to achieve similar split. We got this split because it comes before any other variable and our condition \"child_entropy < best_entropy\" is not satisfied. So mathematically it is the best split or one of the best split on the data it has seen. \n",
    "\n",
    "1. But in practice it may not be the best split. because it is so close to the cluster that it may misclassify few data points on actual data. How can we overcome this problem ?\n",
    "While designing the potential splits we have taken unique values as points for split, one way to reduce the error can be to take average of two points as as split value rather than acutal points. \n",
    "\n",
    "This is modification we will make later on once we have a working model. for now the code is working fine or we can continue\n"
   ]
  },
  {
   "cell_type": "code",
   "execution_count": 36,
   "metadata": {},
   "outputs": [],
   "source": [
    "def best_split(data,potential_splits):\n",
    "    parent_entropy = calculate_entropy(data)\n",
    "    best_entropy = 999\n",
    "\n",
    "    for index in potential_splits:\n",
    "        for value in potential_splits[index]:\n",
    "            left_dataset,right_dataset = split_data(data,index,value)\n",
    "            child_entropy = get_child_entropy(left_dataset,right_dataset)\n",
    "            if child_entropy < best_entropy:\n",
    "                best_split_column = index\n",
    "                best_split_value = value\n",
    "                best_entropy = child_entropy\n",
    "                information_gain = parent_entropy - best_entropy\n",
    "    \n",
    "    return best_split_column , best_split_value"
   ]
  },
  {
   "cell_type": "markdown",
   "metadata": {},
   "source": [
    "# 4.Check each split if Data is Pure"
   ]
  },
  {
   "cell_type": "markdown",
   "metadata": {},
   "source": [
    "In previous example after splitting the data we received two datasets. \n",
    "1. Left_dataset with all \"sentosa\" \n",
    "2. right_dataset with \"versicolor\" and \"virginica\"\n",
    "\n",
    "Now we need to again split these two datasets so that tree can grow. But wait what is the point of splitting the left dataset ? every element in left_dataset belong to sentosa class. And yes that is the case. No point in classifying any further if all belong to only one class. \n",
    "\n",
    "We would need to put a logic in our program which will tell us stop going further because the node has only 1 class in it. That is purity.\n",
    "\n",
    "So if any dataset is pure we will not classify it any further. \n",
    "\n",
    "Lets write a function for this. The signature of the function is below. It will receive dataset as input and will return a boolen value \"True\" or \"False\". "
   ]
  },
  {
   "cell_type": "code",
   "execution_count": 37,
   "metadata": {},
   "outputs": [],
   "source": [
    "def check_purity(data):\n",
    "   \n",
    "    return True\n",
    "    return False"
   ]
  },
  {
   "cell_type": "markdown",
   "metadata": {},
   "source": [
    "How to construct this function\n",
    "1. select the target column or the label column from the dataset.\n",
    "2. Check the unique values in the label column\n",
    "3. Return True, If their is only one unique value it will mean that Data is Pure and all rows in the dataset belong to only one class\n",
    "4. Else Return False\n",
    "\n",
    "for validation perspective lets print Purity rather than returning it while incorporating in the function we will replace the print statements with return statments\n",
    "\n",
    "Again lets use Iris dataset for validating the logic."
   ]
  },
  {
   "cell_type": "code",
   "execution_count": 38,
   "metadata": {},
   "outputs": [
    {
     "name": "stdout",
     "output_type": "stream",
     "text": [
      "Using the original dataset\n",
      "Data is not Pure\n"
     ]
    },
    {
     "data": {
      "image/png": "[encoded data removed]",
      "text/plain": [
       "<Figure size 444.75x360 with 1 Axes>"
      ]
     },
     "metadata": {
      "needs_background": "light"
     },
     "output_type": "display_data"
    }
   ],
   "source": [
    "print('Using the original dataset')\n",
    "sns.lmplot(data=df,x=\"petal_width\",y=\"petal_length\",hue=\"species\",fit_reg=False)\n",
    "data = df.values\n",
    "column_names = df.columns\n",
    "label = data[:,-1]\n",
    "unique_classes,unique_class_count = np.unique(label,return_counts=True)\n",
    "    \n",
    "if len(unique_classes) == 1:\n",
    "    print(\"Data is Pure\")\n",
    "else:\n",
    "    print(\"Data is not Pure\")"
   ]
  },
  {
   "cell_type": "code",
   "execution_count": 39,
   "metadata": {},
   "outputs": [
    {
     "name": "stdout",
     "output_type": "stream",
     "text": [
      "Using the left dataset after splitting on column 2 and split value 1.9\n",
      "Data is Pure\n"
     ]
    },
    {
     "data": {
      "image/png": "[encoded data removed]",
      "text/plain": [
       "<Figure size 428.625x360 with 1 Axes>"
      ]
     },
     "metadata": {
      "needs_background": "light"
     },
     "output_type": "display_data"
    }
   ],
   "source": [
    "print('Using the left dataset after splitting on column 2 and split value 1.9')\n",
    "\n",
    "data = df.values\n",
    "left_dataset,right_dataset = split_data(data,2,1.9)\n",
    "\n",
    "ld = pd.DataFrame(left_dataset,columns=column_names)\n",
    "sns.lmplot(data=ld,x=\"petal_width\",y=\"petal_length\",hue=\"species\",fit_reg=False)\n",
    "plt.hlines(y=1.9,xmin=0,xmax=3)\n",
    "plt.xlim(0,2.5)\n",
    "plt.ylim(0,8)\n",
    "\n",
    "label = left_dataset[:,-1]\n",
    "unique_classes,unique_class_count = np.unique(label,return_counts=True)\n",
    "    \n",
    "if len(unique_classes) == 1:\n",
    "    print(\"Data is Pure\")\n",
    "else:\n",
    "    print(\"Data is not Pure\")"
   ]
  },
  {
   "cell_type": "code",
   "execution_count": 40,
   "metadata": {},
   "outputs": [
    {
     "name": "stdout",
     "output_type": "stream",
     "text": [
      "Using the right dataset after splitting on column 2 and split value 1.9\n",
      "Data is not Pure\n"
     ]
    },
    {
     "data": {
      "image/png": "[encoded data removed]",
      "text/plain": [
       "<Figure size 444.75x360 with 1 Axes>"
      ]
     },
     "metadata": {
      "needs_background": "light"
     },
     "output_type": "display_data"
    }
   ],
   "source": [
    "print('Using the right dataset after splitting on column 2 and split value 1.9')\n",
    "\n",
    "data = df.values\n",
    "left_dataset,right_dataset = split_data(data,2,1.9)\n",
    "\n",
    "rd = pd.DataFrame(right_dataset,columns=column_names)\n",
    "sns.lmplot(data=rd,x=\"petal_width\",y=\"petal_length\",hue=\"species\",fit_reg=False)\n",
    "plt.hlines(y=1.9,xmin=0,xmax=3)\n",
    "plt.xlim(0,2.5)\n",
    "plt.ylim(0,8)\n",
    "label = right_dataset[:,-1]\n",
    "unique_classes,unique_class_count = np.unique(label,return_counts=True)\n",
    "    \n",
    "if len(unique_classes) == 1:\n",
    "    print(\"Data is Pure\")\n",
    "else:\n",
    "    print(\"Data is not Pure\")"
   ]
  },
  {
   "cell_type": "markdown",
   "metadata": {},
   "source": [
    "Logic is working well. lets encapsulate the logic into the function"
   ]
  },
  {
   "cell_type": "code",
   "execution_count": 41,
   "metadata": {},
   "outputs": [],
   "source": [
    "def check_purity(data):\n",
    "    label = data[:,-1]\n",
    "    unique_classes,unique_class_count = np.unique(label,return_counts=True)\n",
    "\n",
    "    if len(unique_classes) == 1:\n",
    "        return True\n",
    "    else:\n",
    "        return False   "
   ]
  },
  {
   "cell_type": "markdown",
   "metadata": {},
   "source": [
    "# 9.Function to return classification from leaf node"
   ]
  },
  {
   "cell_type": "markdown",
   "metadata": {},
   "source": [
    "Once we encounter a pure dataset. rather than splitting it further we would like to return the classification. because it becomes a leaf.\n",
    "\n",
    "The signature for the function is below"
   ]
  },
  {
   "cell_type": "code",
   "execution_count": 42,
   "metadata": {},
   "outputs": [],
   "source": [
    "def classify(data):\n",
    "    \n",
    "    \n",
    "    return classification"
   ]
  },
  {
   "cell_type": "markdown",
   "metadata": {},
   "source": [
    "If we take case that classify function will be called only when data is pure then a simple statement like \n",
    "\n",
    "\"return np.unique(data[:,-1])\" will be enough\n",
    "\n",
    "But that will not be the case always, mostly because of min_leaf concept. \n",
    "min_samples_leaf :- The minimum number of samples required to be at a leaf node. A split point at any depth will only be considered if it leaves at least min_samples_leaf training samples in each of the left and right branches\n",
    "\n",
    "This is to avoid overfitting. Otherwise the decision tree will overfit the training data and will give 100% accuracy but will strugle when it will try to classify new data.\n",
    "\n",
    "So assuming min_samples_leaf = 3 the tree will not grow any further. I will take the most frequent element of the dataset (out of 3, in this case or if all classes have same instance count send the first one returned by np.unique function)\n",
    "\n",
    "how to make this function\n",
    "1. get the label column from the dataset\n",
    "2. get unqiue classes and their count from label column\n",
    "3. Choose the class with maximum count \n",
    "4. Return the class\n",
    "\n"
   ]
  },
  {
   "cell_type": "code",
   "execution_count": 43,
   "metadata": {},
   "outputs": [
    {
     "name": "stdout",
     "output_type": "stream",
     "text": [
      "setosa\n"
     ]
    }
   ],
   "source": [
    "label = data[:,-1]\n",
    "unique_classes,unique_count = np.unique(label,return_counts=True)\n",
    "\n",
    "class_index = unique_count.argmax()\n",
    "classification = unique_classes[class_index]\n",
    "\n",
    "print(classification)"
   ]
  },
  {
   "cell_type": "code",
   "execution_count": 44,
   "metadata": {},
   "outputs": [
    {
     "name": "stdout",
     "output_type": "stream",
     "text": [
      "versicolor\n"
     ]
    }
   ],
   "source": [
    "label = right_dataset[:,-1]\n",
    "unique_classes,unique_count = np.unique(label,return_counts=True)\n",
    "\n",
    "class_index = unique_count.argmax()\n",
    "classification = unique_classes[class_index]\n",
    "\n",
    "print(classification)"
   ]
  },
  {
   "cell_type": "code",
   "execution_count": 45,
   "metadata": {},
   "outputs": [
    {
     "name": "stdout",
     "output_type": "stream",
     "text": [
      "setosa\n"
     ]
    }
   ],
   "source": [
    "label = left_dataset[:,-1]\n",
    "unique_classes,unique_count = np.unique(label,return_counts=True)\n",
    "\n",
    "class_index = unique_count.argmax()\n",
    "classification = unique_classes[class_index]\n",
    "\n",
    "print(classification)"
   ]
  },
  {
   "cell_type": "markdown",
   "metadata": {},
   "source": [
    "The function seems to be working correctly. since The dataset contain 50 instances of all 3 classes. the argmax() function returns the first class that it encounters.\n",
    "Same is the case when we use the right_dataset\n",
    "\n",
    "This is the behaviour we desire. \n",
    "\n",
    "Lets incorporate the functionality into the function"
   ]
  },
  {
   "cell_type": "code",
   "execution_count": 46,
   "metadata": {},
   "outputs": [],
   "source": [
    "def classify(data):\n",
    "    label = data[:,-1]\n",
    "    unique_classes,unique_count = np.unique(label,return_counts=True)\n",
    "\n",
    "    class_index = unique_count.argmax()\n",
    "    classification = unique_classes[class_index]\n",
    "    \n",
    "    return classification"
   ]
  },
  {
   "cell_type": "code",
   "execution_count": 47,
   "metadata": {},
   "outputs": [
    {
     "name": "stdout",
     "output_type": "stream",
     "text": [
      "setosa\n"
     ]
    }
   ],
   "source": [
    "print(classify(df.values))"
   ]
  },
  {
   "cell_type": "markdown",
   "metadata": {},
   "source": [
    "# Determining type of variable. Whether Continous or categorical\n",
    "\n",
    "The iris example provides one important convinience, We don't have to perform any processing and all the features are numeric in nature. \n",
    "\n",
    "But in real world cases we rarely get to deal with such cases. usually the dataset is contain categorical and continous and more :) . \n",
    "\n",
    "We would need to include a check to identify whether a variable is continuous or categorical. Not dealing with other cases. \n",
    "\n",
    "Also Dataset will contain lot of noise. I am not including any additional functionality of deal with missing data or noise.\n",
    "\n",
    "The logic to determining the type of variable is simple. \n",
    "categorical\n",
    "1. Check if the values are string.\n",
    "2. Or if values are numeric whether the count is less than 10\n",
    "\n",
    "Everything else continuous"
   ]
  },
  {
   "cell_type": "code",
   "execution_count": 48,
   "metadata": {},
   "outputs": [],
   "source": [
    "def determine_type_of_feature(df,n_unique_values_treshold = 10):\n",
    "    \n",
    "    feature_types = []\n",
    "    \n",
    "    for feature in df.columns:\n",
    "        if feature != \"label\":\n",
    "            unique_values = df[feature].unique()\n",
    "            example_value = unique_values[0]\n",
    "\n",
    "            if (isinstance(example_value, str)) or (len(unique_values) <= n_unique_values_treshold):\n",
    "                feature_types.append(\"categorical\")\n",
    "            else:\n",
    "                feature_types.append(\"continuous\")\n",
    "    \n",
    "    return feature_types"
   ]
  },
  {
   "cell_type": "markdown",
   "metadata": {},
   "source": [
    "All the required functions to create a decision tree are ready. \n",
    "\n",
    "Only thing left is to write the fit and predict functions and then encapsulate all functions as methods of a DecisionTree Class"
   ]
  },
  {
   "cell_type": "markdown",
   "metadata": {},
   "source": [
    "# Creating a decision Tree"
   ]
  },
  {
   "cell_type": "markdown",
   "metadata": {},
   "source": [
    "Most of the ground work is done in previous sections. We have functions for\n",
    "1. Identifying potential splits\n",
    "2. Splitting data into 2 datasets\n",
    "3. calculating the entropy\n",
    "4. calculating child entropy\n",
    "5. Identifying the best split from list of potential splits using entropy\n",
    "6. checking purity of data\n",
    "7. classifying the leaf node\n",
    "\n",
    "We have all the tools to build a tree but there are few gaps.\n",
    "1. How to create tree for whole dataset.\n",
    "2. How to store the tree\n",
    "\n",
    "Explanations\n",
    "1. Create tree for whole dataset\n",
    "We will traverse through the dataset.\n",
    "IF dataset is pure\n",
    "    return the classification of that dataset\n",
    "ELSE \n",
    "    Identify the best split for that dataset\n",
    "    Store the split value and split column\n",
    "    Split dataset into left_dataset and right_dataset\n",
    "    \n",
    "    perform the same operation on left and right_dataset (Recursion)\n",
    "2. we will be storing the results in a dictionary, similar to below. Each element will be recurively added \n",
    "{'A' <= {'B' <= {C <= ........}}}\n",
    "\n",
    "Let's start with the process of creating the fit function. Below will be the signature of the fit function. It will take train_data and train_label as input and would return a tree"
   ]
  },
  {
   "cell_type": "code",
   "execution_count": 49,
   "metadata": {},
   "outputs": [],
   "source": [
    "def fit(train_data,train_label):\n",
    "\n",
    "    return tree"
   ]
  },
  {
   "cell_type": "markdown",
   "metadata": {},
   "source": [
    "Problem 1 :- In our code we have assumed that label column will be the last column of the dataset but in the fit function we are accepting two separate dataset for train data and training label\n",
    "\n",
    "To overcome this challenge, either we can make changes to all the functions or \n",
    "just concatenate the two numpy arrays.\n",
    "\n",
    "Problem 2 :- We need to perform recursion of create a decision tree. Problem is everytime we will call fit function as part of recursive call we will need to separate the columns we merged and then pass the data and label separately.  This will make the code unnecessarily messy.\n",
    "\n",
    "We can keep the fit function simple and call another function within fit which will have the recursion logic. "
   ]
  },
  {
   "cell_type": "markdown",
   "metadata": {},
   "source": [
    "We can simply use data = np.column_stack((data,y))to merge the two datasets "
   ]
  },
  {
   "cell_type": "code",
   "execution_count": 51,
   "metadata": {},
   "outputs": [
    {
     "name": "stdout",
     "output_type": "stream",
     "text": [
      "(150, 4) (150,)\n",
      "(150, 5)\n"
     ]
    }
   ],
   "source": [
    "data = df.drop('species',axis=1).values\n",
    "y = df['species']\n",
    "print(data.shape,y.shape)\n",
    "\n",
    "data = np.column_stack((data,y))\n",
    "\n",
    "print(data.shape)\n"
   ]
  },
  {
   "cell_type": "code",
   "execution_count": 52,
   "metadata": {},
   "outputs": [],
   "source": [
    "def fit(train_data,train_label):\n",
    "    train_data[\"label\"] = train_label\n",
    "    tree = create_decision_tree(train_data)\n",
    "    return tree"
   ]
  },
  {
   "cell_type": "markdown",
   "metadata": {},
   "source": [
    "# Create Decision Tree"
   ]
  },
  {
   "cell_type": "markdown",
   "metadata": {},
   "source": [
    "The signature for create_decision_tree will be following. It will take the data, create and return the tree"
   ]
  },
  {
   "cell_type": "code",
   "execution_count": 53,
   "metadata": {},
   "outputs": [],
   "source": [
    "def create_decision_tree(data):\n",
    "    \n",
    "    return tree"
   ]
  },
  {
   "cell_type": "markdown",
   "metadata": {},
   "source": [
    "This function will\n",
    "1. Create tree for whole dataset\n",
    "2. We will traverse through the dataset.\n",
    "3. IF dataset is pure\n",
    "    a. return the classification of that dataset\n",
    "4. ELSE \n",
    "    a. Identify the best split for that dataset\n",
    "    b. Store the split value and split column\n",
    "    c. Split dataset into left_dataset and right_dataset\n",
    "    \n",
    "5. perform the same operation on left and right_dataset (Recursion)\n",
    "\n"
   ]
  },
  {
   "cell_type": "markdown",
   "metadata": {},
   "source": [
    " lets see one example of recursion before we processing. \n",
    " lets create a dictionary similar to one we will be creating(nested dictionary) and use some random data.\n",
    "\n",
    "for this example I will read a simple array of numbers and will store each number in a nested dictionary.\n",
    "\n",
    "We will be doing do by calling our split function again untill there are no elements in data. "
   ]
  },
  {
   "cell_type": "code",
   "execution_count": 54,
   "metadata": {},
   "outputs": [
    {
     "data": {
      "text/plain": [
       "{1: {2: {3: {4: {5: None}}}}}"
      ]
     },
     "execution_count": 54,
     "metadata": {},
     "output_type": "execute_result"
    }
   ],
   "source": [
    "data = [1,2,3,4,5]\n",
    "def split(data):\n",
    "    if data:\n",
    "        left_value, *right_value = data  # This is a nicer way of doing head, tail = data[0], data[1:]\n",
    "        return {left_value: split(right_value)}\n",
    "    else:\n",
    "        return \n",
    "split(data)"
   ]
  },
  {
   "cell_type": "markdown",
   "metadata": {},
   "source": [
    "Our tree will also be dictionary with conditions as nodes and classification as leaf"
   ]
  },
  {
   "cell_type": "code",
   "execution_count": 55,
   "metadata": {},
   "outputs": [],
   "source": [
    "def create_decision_tree(df,min_samples=3,counter=0,max_depth=5):\n",
    "    \n",
    "        # data preparations\n",
    "    if counter == 0:\n",
    "        global COLUMN_HEADERS, FEATURE_TYPES\n",
    "        COLUMN_HEADERS = df.columns\n",
    "        FEATURE_TYPES = determine_type_of_feature(df)\n",
    "        data = df.values\n",
    "    else:\n",
    "        data = df           \n",
    "    \n",
    "    \n",
    "    if check_purity(data) or (len(data) < min_samples) or (counter == max_depth):\n",
    "        classification =  classify(data)\n",
    "        return classification\n",
    "    \n",
    "    \n",
    "    else:\n",
    "        counter += 1\n",
    "        \n",
    "        potential_splits = all_potential_splits(data)\n",
    " #      print(potential_splits)\n",
    "        split_column,split_value = best_split(data,potential_splits)\n",
    "        \n",
    "        left_dataset, right_dataset = split_data(data,split_column,split_value)\n",
    "        \n",
    "       \n",
    "        if len(left_dataset) == 0 or len(right_dataset) == 0:\n",
    "            classification = classify(data)\n",
    "            return classification\n",
    "        \n",
    "        feature_name = COLUMN_HEADERS[split_column]\n",
    "        type_of_feature = FEATURE_TYPES[split_column]\n",
    "        if type_of_feature == \"continuous\":\n",
    "            question = \"{} <= {}\".format(feature_name, split_value)\n",
    "            \n",
    "        # feature is categorical\n",
    "        else:\n",
    "            question = \"{} = {}\".format(feature_name, split_value)\n",
    "        \n",
    "        tree = {question: []}\n",
    "        \n",
    "        yes_answer = create_decision_tree(left_dataset,min_samples,counter,max_depth)\n",
    " \n",
    "        no_answer = create_decision_tree(right_dataset,min_samples,counter,max_depth)\n",
    "        \n",
    "        if yes_answer == no_answer:\n",
    "            tree = yes_answer\n",
    "        else:\n",
    "            tree[question].append(yes_answer)\n",
    "            tree[question].append(no_answer)\n",
    "        return tree"
   ]
  },
  {
   "cell_type": "code",
   "execution_count": 56,
   "metadata": {},
   "outputs": [
    {
     "name": "stdout",
     "output_type": "stream",
     "text": [
      "(150, 4) (150,)\n"
     ]
    }
   ],
   "source": [
    "df = pd.read_csv(\"Iris.csv\")\n",
    "data = df.drop('species',axis=1)\n",
    "y = df['species']\n",
    "print(data.shape,y.shape)\n",
    "tree = fit(data,y)"
   ]
  },
  {
   "cell_type": "code",
   "execution_count": 57,
   "metadata": {},
   "outputs": [
    {
     "name": "stdout",
     "output_type": "stream",
     "text": [
      "{'petal_length <= 1.9': ['setosa',\n",
      "                         {'petal_width <= 1.7': [{'petal_length <= 4.9': [{'petal_width <= 1.6': ['versicolor',\n",
      "                                                                                                  'virginica']},\n",
      "                                                                          {'petal_width <= 1.5': ['virginica',\n",
      "                                                                                                  {'sepal_length <= 6.7': ['versicolor',\n",
      "                                                                                                                           'virginica']}]}]},\n",
      "                                                 {'petal_length <= 4.8': [{'sepal_length <= 5.9': ['versicolor',\n",
      "                                                                                                   'virginica']},\n",
      "                                                                          'virginica']}]}]}\n"
     ]
    }
   ],
   "source": [
    "pprint(tree)"
   ]
  },
  {
   "cell_type": "code",
   "execution_count": 58,
   "metadata": {},
   "outputs": [],
   "source": [
    "df = pd.read_csv('titanic.csv')\n",
    "median_age = df.Age.median()\n",
    "mode_embarked = df.Embarked.mode()[0]\n",
    "\n",
    "df = df.fillna({\"Age\": median_age, \"Embarked\": mode_embarked})\n",
    "\n",
    "y = df['Survived']\n",
    "data = df.drop(['PassengerId','Name','Ticket','Cabin','Survived'],axis=1)\n",
    "tree = fit(data,y)\n"
   ]
  },
  {
   "cell_type": "code",
   "execution_count": 59,
   "metadata": {},
   "outputs": [
    {
     "name": "stdout",
     "output_type": "stream",
     "text": [
      "{'Sex = female': [{'Pclass = 3': [{'Fare <= 23.25': [{'Age <= 36.0': [1,\n",
      "                                                                      {'Age <= 47.0': [0,\n",
      "                                                                                       1]}]},\n",
      "                                                     {'Parch = 0': [1, 0]}]},\n",
      "                                  {'Fare <= 28.7125': [{'Fare <= 27.75': [1,\n",
      "                                                                          0]},\n",
      "                                                       {'Age <= 2.0': [0,\n",
      "                                                                       1]}]}]},\n",
      "                  {'Fare <= 26.25': [{'Age <= 12.0': [{'SibSp = 1': [1,\n",
      "                                                                     {'Fare <= 12.475': [1,\n",
      "                                                                                         0]}]},\n",
      "                                                      {'Embarked = C': [{'Fare <= 15.05': [0,\n",
      "                                                                                           1]},\n",
      "                                                                        0]}]},\n",
      "                                     {'Fare <= 26.3875': [1,\n",
      "                                                          {'Pclass = 1': [{'Age <= 17.0': [1,\n",
      "                                                                                           0]},\n",
      "                                                                          {'SibSp = 0': [1,\n",
      "                                                                                         0]}]}]}]}]}\n"
     ]
    }
   ],
   "source": [
    "pprint(tree)"
   ]
  },
  {
   "cell_type": "markdown",
   "metadata": {},
   "source": [
    "# Predict the values"
   ]
  },
  {
   "cell_type": "markdown",
   "metadata": {},
   "source": [
    "The last task in creating a decision tree would be ability to perform predictions on unseen data. \n",
    "\n",
    "Since we have created a tree, it should not be too difficult to perform. Lets see how can we do this.\n",
    "\n",
    "1. We have a Tree as a dictionary. \n",
    "2. every node in tree contains one decision and 2 leafs.\n",
    "3. Leaf can either be the classification or another subtree. \n",
    "4. If the node is leaf we are done\n",
    "5. If node is leaf, then it will again have two elements (either node or leaf)\n",
    "\n",
    "We will define a predict function which will take the input and the tree that we just created and would return the classification.\n",
    "\n",
    "\n"
   ]
  },
  {
   "cell_type": "code",
   "execution_count": 60,
   "metadata": {},
   "outputs": [],
   "source": [
    "def predict(test,tree):\n",
    "    \n",
    "    return classification"
   ]
  },
  {
   "cell_type": "markdown",
   "metadata": {},
   "source": [
    "If we remember each node of our tree is in format.\n",
    "\n",
    "<b>\"variable operator value \"</b>\n",
    "\n",
    "here we conpare the variable with the value using the operator . <b> Fare <= 23.25 </b>, In this case we will conpare the Fare variable with 23.25 value using operator <= , if the answer is true then we will move to the left leaf otherwise will move to the right leaf in the tree. \n",
    "\n",
    "If node is not a dictionary (meaning we have reached leaf) then we will just return the value in that node. Other wise we will again call the predict function using the same test data and the remaining tree. "
   ]
  },
  {
   "cell_type": "code",
   "execution_count": 61,
   "metadata": {},
   "outputs": [
    {
     "name": "stdout",
     "output_type": "stream",
     "text": [
      "Tree is {'Sex = female': [{'Pclass = 3': [{'Fare <= 23.25': [{'Age <= 36.0': [1, {'Age <= 47.0': [0, 1]}]}, {'Parch = 0': [1, 0]}]}, {'Fare <= 28.7125': [{'Fare <= 27.75': [1, 0]}, {'Age <= 2.0': [0, 1]}]}]}, {'Fare <= 26.25': [{'Age <= 12.0': [{'SibSp = 1': [1, {'Fare <= 12.475': [1, 0]}]}, {'Embarked = C': [{'Fare <= 15.05': [0, 1]}, 0]}]}, {'Fare <= 26.3875': [1, {'Pclass = 1': [{'Age <= 17.0': [1, 0]}, {'SibSp = 0': [1, 0]}]}]}]}]}\n",
      " \n",
      "The question in top node is Sex = female\n",
      " \n",
      "variable  Sex\n",
      " \n",
      "Operator =\n",
      " \n",
      "value female\n"
     ]
    }
   ],
   "source": [
    "# Lets see an example \n",
    "\n",
    "question = list(tree.keys())[0]\n",
    "print('Tree is {}'.format(tree))\n",
    "print(\" \")\n",
    "print('The question in top node is {}'.format(question))\n",
    "\n",
    "variable, operator , value = question.split(\" \")\n",
    "print(\" \")\n",
    "print(\"variable  {}\".format(variable))\n",
    "print(\" \")\n",
    "print('Operator {}'.format(operator))\n",
    "print(\" \")\n",
    "print(\"value {}\".format(value))\n",
    "\n",
    "\n",
    "\n"
   ]
  },
  {
   "cell_type": "markdown",
   "metadata": {},
   "source": [
    " Now based on the comparision of variable and value. We decide to choose either left tree or right tree."
   ]
  },
  {
   "cell_type": "code",
   "execution_count": 62,
   "metadata": {},
   "outputs": [
    {
     "name": "stdout",
     "output_type": "stream",
     "text": [
      "left Tree\n",
      "{'Pclass = 3': [{'Fare <= 23.25': [{'Age <= 36.0': [1,\n",
      "                                                    {'Age <= 47.0': [0, 1]}]},\n",
      "                                   {'Parch = 0': [1, 0]}]},\n",
      "                {'Fare <= 28.7125': [{'Fare <= 27.75': [1, 0]},\n",
      "                                     {'Age <= 2.0': [0, 1]}]}]}\n",
      "right tree\n",
      "{'Fare <= 26.25': [{'Age <= 12.0': [{'SibSp = 1': [1,\n",
      "                                                   {'Fare <= 12.475': [1, 0]}]},\n",
      "                                    {'Embarked = C': [{'Fare <= 15.05': [0, 1]},\n",
      "                                                      0]}]},\n",
      "                   {'Fare <= 26.3875': [1,\n",
      "                                        {'Pclass = 1': [{'Age <= 17.0': [1, 0]},\n",
      "                                                        {'SibSp = 0': [1,\n",
      "                                                                       0]}]}]}]}\n"
     ]
    }
   ],
   "source": [
    " \n",
    "\n",
    "# Choosing Left tree\n",
    "left_tree = tree[question][0]\n",
    "\n",
    "# Choosing Right tree\n",
    "right_tree = tree[question][1]\n",
    "\n",
    "print(\"left Tree\")\n",
    "pprint(left_tree)\n",
    "print(\"right tree\")\n",
    "pprint(right_tree)\n"
   ]
  },
  {
   "cell_type": "markdown",
   "metadata": {},
   "source": [
    "Now we can check whether the selected node is a dictionary (If it is a dictionary meaning the answer is a subtree). If tree is dictionary we can again call the predict function using the test example and remaining tree. \n",
    "\n",
    "If the selected node is not a dictionary then Bingo it is our answer we just return that value and we are done.\n",
    "\n",
    "if not isinstance(answer, dict):\n",
    "    \n",
    "    return answer\n",
    "\n",
    "\n",
    "else:\n",
    "\n",
    "    residual_tree = answer\n",
    "\n",
    "    return classify_example(test, residual_tree)\n",
    "    "
   ]
  },
  {
   "cell_type": "markdown",
   "metadata": {},
   "source": [
    "Putting it all together "
   ]
  },
  {
   "cell_type": "code",
   "execution_count": 63,
   "metadata": {},
   "outputs": [],
   "source": [
    "def classify_example(test, tree):\n",
    "    question = list(tree.keys())[0]\n",
    "    feature_name, comparison_operator, value = question.split(\" \")\n",
    "\n",
    "    # ask question\n",
    "    if comparison_operator == \"<=\":\n",
    "        if test[feature_name] <= float(value):\n",
    "            answer = tree[question][0]\n",
    "        else:\n",
    "            answer = tree[question][1]\n",
    "    \n",
    "    # feature is categorical\n",
    "    else:\n",
    "        if str(test[feature_name]) == value:\n",
    "            answer = tree[question][0]\n",
    "        else:\n",
    "            answer = tree[question][1]\n",
    "\n",
    "    # base case\n",
    "    if not isinstance(answer, dict):\n",
    "        return answer\n",
    "    \n",
    "    # recursive part\n",
    "    else:\n",
    "        residual_tree = answer\n",
    "        return classify_example(test, residual_tree)"
   ]
  },
  {
   "cell_type": "markdown",
   "metadata": {},
   "source": [
    "But the above will classify only one instance. We want ability to either classify on example or mulitple examples. To perform that we will need to write the predict function which inturn will call the classify_example function."
   ]
  },
  {
   "cell_type": "code",
   "execution_count": 64,
   "metadata": {},
   "outputs": [],
   "source": [
    "def predict(test,tree):\n",
    "    output = []\n",
    "    index = test.index.tolist()\n",
    "    for i in index:\n",
    "        output.append(classify_example(test.loc[i],tree))\n",
    "    return output\n",
    "    "
   ]
  },
  {
   "cell_type": "code",
   "execution_count": 65,
   "metadata": {},
   "outputs": [
    {
     "name": "stdout",
     "output_type": "stream",
     "text": [
      "(150, 4) (150,)\n"
     ]
    }
   ],
   "source": [
    "df = pd.read_csv(\"Iris.csv\")\n",
    "data = df.drop('species',axis=1)\n",
    "y = df['species']\n",
    "print(data.shape,y.shape)\n",
    "tree = fit(data,y)\n",
    "\n",
    "output = predict(data,tree)"
   ]
  },
  {
   "cell_type": "code",
   "execution_count": 66,
   "metadata": {},
   "outputs": [
    {
     "data": {
      "text/plain": [
       "['setosa',\n",
       " 'setosa',\n",
       " 'setosa',\n",
       " 'setosa',\n",
       " 'setosa',\n",
       " 'setosa',\n",
       " 'setosa',\n",
       " 'setosa',\n",
       " 'setosa',\n",
       " 'setosa',\n",
       " 'setosa',\n",
       " 'setosa',\n",
       " 'setosa',\n",
       " 'setosa',\n",
       " 'setosa',\n",
       " 'setosa',\n",
       " 'setosa',\n",
       " 'setosa',\n",
       " 'setosa',\n",
       " 'setosa',\n",
       " 'setosa',\n",
       " 'setosa',\n",
       " 'setosa',\n",
       " 'setosa',\n",
       " 'setosa',\n",
       " 'setosa',\n",
       " 'setosa',\n",
       " 'setosa',\n",
       " 'setosa',\n",
       " 'setosa',\n",
       " 'setosa',\n",
       " 'setosa',\n",
       " 'setosa',\n",
       " 'setosa',\n",
       " 'setosa',\n",
       " 'setosa',\n",
       " 'setosa',\n",
       " 'setosa',\n",
       " 'setosa',\n",
       " 'setosa',\n",
       " 'setosa',\n",
       " 'setosa',\n",
       " 'setosa',\n",
       " 'setosa',\n",
       " 'setosa',\n",
       " 'setosa',\n",
       " 'setosa',\n",
       " 'setosa',\n",
       " 'setosa',\n",
       " 'setosa',\n",
       " 'versicolor',\n",
       " 'versicolor',\n",
       " 'versicolor',\n",
       " 'versicolor',\n",
       " 'versicolor',\n",
       " 'versicolor',\n",
       " 'versicolor',\n",
       " 'versicolor',\n",
       " 'versicolor',\n",
       " 'versicolor',\n",
       " 'versicolor',\n",
       " 'versicolor',\n",
       " 'versicolor',\n",
       " 'versicolor',\n",
       " 'versicolor',\n",
       " 'versicolor',\n",
       " 'versicolor',\n",
       " 'versicolor',\n",
       " 'versicolor',\n",
       " 'versicolor',\n",
       " 'versicolor',\n",
       " 'versicolor',\n",
       " 'versicolor',\n",
       " 'versicolor',\n",
       " 'versicolor',\n",
       " 'versicolor',\n",
       " 'versicolor',\n",
       " 'versicolor',\n",
       " 'versicolor',\n",
       " 'versicolor',\n",
       " 'versicolor',\n",
       " 'versicolor',\n",
       " 'versicolor',\n",
       " 'versicolor',\n",
       " 'versicolor',\n",
       " 'versicolor',\n",
       " 'versicolor',\n",
       " 'versicolor',\n",
       " 'versicolor',\n",
       " 'versicolor',\n",
       " 'versicolor',\n",
       " 'versicolor',\n",
       " 'versicolor',\n",
       " 'versicolor',\n",
       " 'versicolor',\n",
       " 'versicolor',\n",
       " 'versicolor',\n",
       " 'versicolor',\n",
       " 'versicolor',\n",
       " 'versicolor',\n",
       " 'virginica',\n",
       " 'virginica',\n",
       " 'virginica',\n",
       " 'virginica',\n",
       " 'virginica',\n",
       " 'virginica',\n",
       " 'virginica',\n",
       " 'virginica',\n",
       " 'virginica',\n",
       " 'virginica',\n",
       " 'virginica',\n",
       " 'virginica',\n",
       " 'virginica',\n",
       " 'virginica',\n",
       " 'virginica',\n",
       " 'virginica',\n",
       " 'virginica',\n",
       " 'virginica',\n",
       " 'virginica',\n",
       " 'virginica',\n",
       " 'virginica',\n",
       " 'virginica',\n",
       " 'virginica',\n",
       " 'virginica',\n",
       " 'virginica',\n",
       " 'virginica',\n",
       " 'virginica',\n",
       " 'virginica',\n",
       " 'virginica',\n",
       " 'virginica',\n",
       " 'virginica',\n",
       " 'virginica',\n",
       " 'virginica',\n",
       " 'virginica',\n",
       " 'virginica',\n",
       " 'virginica',\n",
       " 'virginica',\n",
       " 'virginica',\n",
       " 'virginica',\n",
       " 'virginica',\n",
       " 'virginica',\n",
       " 'virginica',\n",
       " 'virginica',\n",
       " 'virginica',\n",
       " 'virginica',\n",
       " 'virginica',\n",
       " 'virginica',\n",
       " 'virginica',\n",
       " 'virginica',\n",
       " 'virginica']"
      ]
     },
     "execution_count": 66,
     "metadata": {},
     "output_type": "execute_result"
    }
   ],
   "source": [
    "output"
   ]
  },
  {
   "cell_type": "code",
   "execution_count": 67,
   "metadata": {},
   "outputs": [
    {
     "name": "stdout",
     "output_type": "stream",
     "text": [
      "Accuracy of prediction is  1.0 \n"
     ]
    }
   ],
   "source": [
    "accuracy = (y==output)\n",
    "accuracy = accuracy.mean()\n",
    "print('Accuracy of prediction is  {} '.format(accuracy))"
   ]
  },
  {
   "cell_type": "markdown",
   "metadata": {},
   "source": [
    "Accuracy is 1 beacuse the training and testing data are same. Which is a bad idea. Lets just separate the training and testing samples and check the accuracy again"
   ]
  },
  {
   "cell_type": "code",
   "execution_count": 69,
   "metadata": {},
   "outputs": [
    {
     "name": "stdout",
     "output_type": "stream",
     "text": [
      "Accuracy of prediction is  0.92 \n"
     ]
    }
   ],
   "source": [
    "import random\n",
    "\n",
    "df = pd.read_csv(\"Iris.csv\")\n",
    "test_size = 50\n",
    "indices = df.index.tolist()\n",
    "test_indices = random.sample(population=indices, k=test_size)\n",
    "\n",
    "test_df = df.loc[test_indices]\n",
    "train_df = df.drop(test_indices)\n",
    "\n",
    "X_train = train_df.drop('species',axis=1)\n",
    "y_train = train_df['species']\n",
    "\n",
    "X_test = test_df.drop('species',axis=1)\n",
    "y_test = test_df['species']\n",
    "\n",
    "\n",
    "# Building the Tree\n",
    "tree = fit(X_train,y_train)\n",
    "\n",
    "# Predicting on the test data\n",
    "test_output = predict(X_test,tree)\n",
    "\n",
    "# Checking the accuracy \n",
    "Accuracy = (y_test == test_output)\n",
    "Accuracy = Accuracy.mean()\n",
    "print('Accuracy of prediction is  {} '.format(Accuracy))\n"
   ]
  },
  {
   "cell_type": "code",
   "execution_count": null,
   "metadata": {},
   "outputs": [],
   "source": []
  },
  {
   "cell_type": "code",
   "execution_count": null,
   "metadata": {},
   "outputs": [],
   "source": []
  },
  {
   "cell_type": "code",
   "execution_count": null,
   "metadata": {},
   "outputs": [],
   "source": []
  }
 ],
 "metadata": {
  "kernelspec": {
   "display_name": "Python 3",
   "language": "python",
   "name": "python3"
  },
  "language_info": {
   "codemirror_mode": {
    "name": "ipython",
    "version": 3
   },
   "file_extension": ".py",
   "mimetype": "text/x-python",
   "name": "python",
   "nbconvert_exporter": "python",
   "pygments_lexer": "ipython3",
   "version": "3.7.2"
  }
 },
 "nbformat": 4,
 "nbformat_minor": 2
}
