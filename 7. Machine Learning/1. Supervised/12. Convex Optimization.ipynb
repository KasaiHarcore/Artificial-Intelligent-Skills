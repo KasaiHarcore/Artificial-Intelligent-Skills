{
 "cells": [
  {
   "cell_type": "markdown",
   "metadata": {},
   "source": [
    "# Introduction"
   ]
  },
  {
   "cell_type": "markdown",
   "metadata": {},
   "source": [
    "I would like to start this article with three problems that are quite close to reality:"
   ]
  },
  {
   "cell_type": "markdown",
   "metadata": {},
   "source": [
    "### The publisher problem"
   ]
  },
  {
   "cell_type": "markdown",
   "metadata": {},
   "source": [
    "A publishing house received an order for 600 copies of the book \"Basic Machine Learning\" to Thai Binh and 400 copies to Hai Phong. That publishing house has 800 books in Nam Dinh warehouse and 700 books in Hai Duong warehouse. The price to deliver a book from Nam Dinh to Thai Binh is 50,000 VND (50k), to Hai Phong is 100k. The delivery price for a book from Hai Duong to Thai Binh is 150k, while to Hai Phong it is only 40k. To minimize delivery costs, how many books should the company distribute to each warehouse to each location?"
   ]
  },
  {
   "cell_type": "markdown",
   "metadata": {},
   "source": [
    "**Analyse**"
   ]
  },
  {
   "cell_type": "markdown",
   "metadata": {},
   "source": [
    "At first, I call:\n",
    "\n",
    "<table>\n",
    "    <tr>\n",
    "        <td>Source</td>\n",
    "        <td>Destination</td>\n",
    "        <td>Cost</td>\n",
    "        <td>Quantity</td>\n",
    "    </tr>\n",
    "    <tr>\n",
    "        <td>Nam Dinh</td>\n",
    "        <td>Thai Binh</td>\n",
    "        <td>50k</td>\n",
    "        <td>x</td>\n",
    "    </tr>\n",
    "    <tr>\n",
    "        <td>Nam Dinh</td>\n",
    "        <td>Hai Phong</td>\n",
    "        <td>100k</td>\n",
    "        <td>y</td>\n",
    "    </tr>\n",
    "    <tr>\n",
    "        <td>Hai Duong</td>\n",
    "        <td>Thai Binh</td>\n",
    "        <td>150k</td>\n",
    "        <td>z</td>\n",
    "    </tr>\n",
    "    <tr>\n",
    "        <td>Hai Duong</td>\n",
    "        <td>Hai Phong</td>\n",
    "        <td>40k</td>\n",
    "        <td>w</td>\n",
    "    </tr>\n",
    "</table>"
   ]
  },
  {
   "cell_type": "markdown",
   "metadata": {},
   "source": [
    "Total cost requirement will be $f(x, y, z, w) = 50x + 100y + 150z + 40w$ with constraints:\n",
    "- Shipping 600 books to Thai Binh: $x + z = 600$\n",
    "- Shipping 400 books to Hai Phong: $y + w = 400$\n",
    "- The number of books in Nam Dinh: $x + y \\leq 800$\n",
    "- The number of books in Hai Duong: $z + w \\leq 700$\n",
    "- $x, y, z, w \\geq 0$"
   ]
  },
  {
   "cell_type": "markdown",
   "metadata": {},
   "source": [
    "So to solve this we have a equation:\n",
    "\n",
    "$$\\begin{align}\n",
    "(x, y, z, w) = \\arg \\min f(x, y, z, w) = 50x + 100y + 150z + 40w \\\\\n",
    "\\text{subject to: } x + z = 600, y + w = 400, x + y \\leq 800, z + w \\leq 700, x, y, z, w \\geq 0\n",
    "\\end{align}$$"
   ]
  },
  {
   "cell_type": "markdown",
   "metadata": {},
   "source": [
    "So, the cost function is a linear function, and constraints are *hyperplanes* and *halfspaces*. This is a ***linear programming*** problem."
   ]
  },
  {
   "cell_type": "markdown",
   "metadata": {},
   "source": [
    "Solution **can be**: $x = 600, y = 200, z = 0, w = 200$"
   ]
  },
  {
   "cell_type": "markdown",
   "metadata": {},
   "source": [
    "### The farming problem"
   ]
  },
  {
   "cell_type": "markdown",
   "metadata": {},
   "source": [
    "A farmer has a total of 10ha of arable land. He plans to grow coffee and pepper on this land with a total cost of growing no more than 16M (million VND). The cost to grow coffee is 2T per hectare, and to grow pepper is 1T per hectare. Coffee growing time is 1 day/ha and pepper growing time is 4 days/ha; while he only had a total of 32 days. After deducting all costs (including tree planting costs), each hectare of coffee brings a profit of 5T, each hectare of pepper brings a profit of 3T. How should I plant to maximize profits?"
   ]
  },
  {
   "cell_type": "markdown",
   "metadata": {},
   "source": [
    "**Analyse**"
   ]
  },
  {
   "cell_type": "markdown",
   "metadata": {},
   "source": [
    "Recall $x$ and $y$ is number of ha coffee and pepper, respectively. The profit  is $g(x, y) = 5x + 3y$. The constraints are:\n",
    "- Total arable land: $x + y \\leq 10$\n",
    "- Total cost: $2x + y \\leq 16$\n",
    "- Total time: $x + 4y \\leq 32$\n",
    "- $x, y \\geq 0$"
   ]
  },
  {
   "cell_type": "markdown",
   "metadata": {},
   "source": [
    "With equation:\n",
    "\n",
    "$$\\begin{align}\n",
    "(x, y) &= \\arg \\max g(x, y) = 5x + 3y \\\\\n",
    "\\text{subject to: } x + y &\\leq 10, 2x + y \\leq 16, x + 4y \\leq 32, x, y \\geq 0\n",
    "\\end{align}$$"
   ]
  },
  {
   "cell_type": "markdown",
   "metadata": {},
   "source": [
    "Another linear programming problem."
   ]
  },
  {
   "cell_type": "markdown",
   "metadata": {},
   "source": [
    "Turn out that:\n",
    "- All of the math problem above, which in the form of AI or ML we call it a **convex optimization problem**.\n",
    "- Hard to find a global optimal solution, most of the time we can only find a local optimal solution.\n",
    "- In real life, we can't solve it by hand, we need a computer to do it."
   ]
  },
  {
   "cell_type": "markdown",
   "metadata": {},
   "source": [
    "But first we need to understand all the theory about **convex optimization** and why **convex** is important"
   ]
  },
  {
   "cell_type": "markdown",
   "metadata": {},
   "source": [
    "# Recall Optimization problems"
   ]
  },
  {
   "cell_type": "markdown",
   "metadata": {},
   "source": [
    "Allow me to recall optimization problems in general. An optimization problem is a problem that requires finding the best solution from all feasible solutions:\n",
    "\n",
    "$$\\begin{align}\n",
    "\\vec{x}^* = \\arg \\min_{\\vec{x}} f_0(\\vec{x}) \\\\\n",
    "\\text{subject to: } f_i(\\vec{x}) &\\leq 0, i = 1, 2, ..., m \\\\\n",
    "h_j(\\vec{x}) &= 0, j = 1, 2, ..., n \\\\\n",
    "\\end{align}$$"
   ]
  },
  {
   "cell_type": "markdown",
   "metadata": {},
   "source": [
    "| Notation                                           | Term                             |\n",
    "|----------------------------------------------------|----------------------------------|\n",
    "| $\\vec{x} \\in \\mathbb{R}^n$                         | Decision variable                |\n",
    "| $f_0: \\mathbb{R}^n \\to \\mathbb{R}$                 | Objective/Loss/Cost function     |\n",
    "| $f_i(\\vec{x}) \\leq 0$                              | Inequality constraints           |\n",
    "| $f_i: \\mathbb{R}^n \\to \\mathbb{R}$                 | Inequality constraint function   |\n",
    "| $h_j(\\vec{x}) = 0$                                 | Equality constraints             |\n",
    "| $h_j: \\mathbb{R}^n \\to \\mathbb{R}$                 | Equality constraint function     |\n",
    "| $\\mathcal{D} = \\bigcap_{i=0}^m \\text{dom} f_i \\cap \\bigcap_{j=1}^n \\text{dom} h_j$ | Domain of the problem |\n"
   ]
  },
  {
   "cell_type": "markdown",
   "metadata": {},
   "source": [
    "Beside:\n",
    "- When $m = n = 0$, we have an **unconstrained optimization problem**.\n",
    "- $\\mathcal{D}$ is the set of all feasible solutions.\n",
    "- *Optimal value* of a optimization problem define as:\n",
    "$$p^* = \\inf{\\{f_0(\\vec{x}) | f_i(\\vec{x}) \\leq 0, h_j(\\vec{x}) = 0\\}}$$\n",
    "\n",
    "Where: $\\inf$ is the infimum of a set, which is the greatest lower bound of the set. If problem is infeasible, $p^* = \\infty$. If target function is unbounded, $p^* = -\\infty$."
   ]
  },
  {
   "cell_type": "markdown",
   "metadata": {},
   "source": [
    "### Optimal and locally optimal points"
   ]
  },
  {
   "cell_type": "markdown",
   "metadata": {},
   "source": [
    "Each point $\\vec{x}^*$ is called an **optimal point** if $f_0(\\vec{x}^*) = p^*$. A set of all optimal points is called the **optimal set**."
   ]
  },
  {
   "cell_type": "markdown",
   "metadata": {},
   "source": [
    "If *optimal set* is a non-empty set, then we say it's *solvable*. Otherwise, if an *optimal set* is empty, then we say it's *not attained / not achieved*."
   ]
  },
  {
   "cell_type": "markdown",
   "metadata": {},
   "source": [
    "In optimization problem (usually multiple dimision), we call a point $\\vec{x}^*$ is a **locally optimal point** if there exists a variable (or radius) $\\mathcal{R}$ such that:\n",
    "\n",
    "$$f_0(x) = \\inf{(f_0(\\vec{z}) | f_i(\\vec{z}) \\leq 0, h_j(\\vec{z}) = 0, ||\\vec{z} - \\vec{x}||_2 \\leq \\mathcal{R})}$$"
   ]
  },
  {
   "cell_type": "markdown",
   "metadata": {},
   "source": [
    "If a point feasible $x$ satisfy $f_i(x) = 0$, we said that we say that the inequality constrains $i^{th}$ is **active**. Else, if $f_i(x) < 0$, we said that the inequality constrains $i^{th}$ is **inactive**."
   ]
  },
  {
   "cell_type": "markdown",
   "metadata": {},
   "source": [
    "# Convex optimization problem"
   ]
  },
  {
   "cell_type": "markdown",
   "metadata": {},
   "source": [
    "### Definition"
   ]
  },
  {
   "cell_type": "markdown",
   "metadata": {},
   "source": [
    "A convex optimization problem is an optimization problem:\n",
    "\n",
    "$$\\begin{align}\n",
    "\\vec{x}^* = \\arg \\min_{\\vec{x}} f_0(\\vec{x}) \\\\\n",
    "\\text{subject to: } f_i(\\vec{x}) &\\leq 0, i = 1, 2, ..., m \\\\\n",
    "h_j(\\vec{x}) &= \\vec{a}_j^T \\vec{x} - b_j = 0, j = 1, 2, ..., n \\\\\n",
    "\\end{align}$$"
   ]
  },
  {
   "cell_type": "markdown",
   "metadata": {},
   "source": [
    "Where $f_0, f_1, \\cdots, f_m$ are convex functions."
   ]
  },
  {
   "cell_type": "markdown",
   "metadata": {},
   "source": [
    "Compare to regular problems, we have three more conditions:\n",
    "- Loss/cost function must be convex.\n",
    "- Inequality constraint functions must be convex.\n",
    "- Equality constraint functions must be affine (linear plus constant/scalar)."
   ]
  },
  {
   "cell_type": "markdown",
   "metadata": {},
   "source": [
    "Some commonly known:\n",
    "- A set of point satisfy $h_j(\\vec{x}) = 0$ is a hyperplane.\n",
    "- When $f_i$ is a convex function then a set of point satisfy $f_i(\\vec{x}) \\leq 0$ is a convex set (or 0-sublevel set).\n",
    "- Thus, the set of points that satisfy all constraints is the intersection of convex sets, so it is a convex set."
   ]
  },
  {
   "cell_type": "markdown",
   "metadata": {},
   "source": [
    "### Local optimal of  optimization problem is global optimal"
   ]
  },
  {
   "cell_type": "markdown",
   "metadata": {},
   "source": [
    "The most important ***property of the convex optimization problem is that any locally optimal point is a (globally) optimal point***."
   ]
  },
  {
   "cell_type": "markdown",
   "metadata": {},
   "source": [
    "Suppose a minimum point is not the point that makes the function reach its minimum value. With the condition of feasible set and the objective function being convex, we can always find another point in the neighborhood of that minimum point such that the value of the objective function at this new point is smaller than the value of the objective function at the extreme point. pee. This contradiction shows that for a convex optimization problem, the minimum point must be the point that makes the function reach its minimum value."
   ]
  },
  {
   "cell_type": "markdown",
   "metadata": {},
   "source": [
    "This one is pretty hard to understand in math so I'll describe by words instead, for deeper explain and application example, you should seek further in Convex Optimization book."
   ]
  }
 ],
 "metadata": {
  "kernelspec": {
   "display_name": "ai",
   "language": "python",
   "name": "python3"
  },
  "language_info": {
   "codemirror_mode": {
    "name": "ipython",
    "version": 3
   },
   "file_extension": ".py",
   "mimetype": "text/x-python",
   "name": "python",
   "nbconvert_exporter": "python",
   "pygments_lexer": "ipython3",
   "version": "3.12.0"
  }
 },
 "nbformat": 4,
 "nbformat_minor": 2
}
