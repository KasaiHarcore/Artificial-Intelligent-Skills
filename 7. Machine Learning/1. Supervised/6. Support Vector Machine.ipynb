{
 "cells": [
  {
   "cell_type": "markdown",
   "metadata": {},
   "source": [
    "The next supervised model we'll dive in is Kernelized support vector machines. Often referred to as SVMs, are an extension that allows for more complex models that aren't defined simply by hyperplanes in the input space. Like all other model, it can be use in both classification and regression task."
   ]
  }
 ],
 "metadata": {
  "language_info": {
   "name": "python"
  },
  "orig_nbformat": 4
 },
 "nbformat": 4,
 "nbformat_minor": 2
}
