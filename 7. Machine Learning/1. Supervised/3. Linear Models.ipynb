{
 "cells": [
  {
   "cell_type": "markdown",
   "metadata": {},
   "source": [
    "# Linear Regression"
   ]
  },
  {
   "cell_type": "markdown",
   "metadata": {},
   "source": [
    "# Introduction"
   ]
  },
  {
   "cell_type": "markdown",
   "metadata": {},
   "source": [
    "Let's start with a simple example. Suppose a house width $x_1 m^2$, have $x_2$ bedroom and $x_3$ km away from the city center cost how much?"
   ]
  },
  {
   "cell_type": "markdown",
   "metadata": {},
   "source": [
    "Assume that we have a dataset of 1000 house in that city, If we have a new house with parameters such as area, number of bedrooms and distance to the center, can we predict the price of that house? If so, then the predicts function $y = f(x)$ will have what form?"
   ]
  },
  {
   "cell_type": "markdown",
   "metadata": {},
   "source": [
    "In here $\\vec{x} = [x_1, x_2, x_3]$ is the input vector and $y$ is the output or scalar value."
   ]
  },
  {
   "cell_type": "markdown",
   "metadata": {},
   "source": [
    "In the simplest way, we can see that: i) the larger the house area, the higher the house price; ii) the greater the number of bedrooms, the higher the house price; iii) The farther from the center, the lower the house price. The simplest function that can describe the relationship between house prices and three input quantities is:\n",
    "\n",
    "$$y \\approx f(x) = \\hat{y}$$\n",
    "\n",
    "$$f(x) = w_1x_1 + w_2x_2 + w_3x_3 + b$$\n",
    "\n",
    "where $w_1, w_2, w_3$ are the weights and $b$ is the bias. The weights and bias are the parameters of the model that we need to learn from the data. The function $f(x)$ is called a linear regression model."
   ]
  },
  {
   "cell_type": "markdown",
   "metadata": {},
   "source": [
    "# Mathematic Analysis"
   ]
  },
  {
   "cell_type": "markdown",
   "metadata": {},
   "source": [
    "### Linear Regression form"
   ]
  },
  {
   "cell_type": "markdown",
   "metadata": {},
   "source": [
    "In the equation from above, if we set $\\vec{w} = [w_1, w_2, w_3, b]$ ($b$ is equal to $w_0\\vec{1}$) and $\\bar{x} = [x_1, x_2, x_3]$, we can rewrite the equation as:\n",
    "\n",
    "$$y \\approx \\bar{x}\\vec{w}= \\hat{y}$$"
   ]
  },
  {
   "cell_type": "markdown",
   "metadata": {},
   "source": [
    "### Prediction Error"
   ]
  },
  {
   "cell_type": "markdown",
   "metadata": {},
   "source": [
    "We expect that the predicted value $\\hat{y}$ is close to the true value $y$, and the difference $e$ (error term) as small as possible. The error is defined as:\n",
    "\n",
    "$$\\frac{1}{2}e^2 = \\frac{1}{2}(y - \\hat{y})^2 = \\frac{1}{2}(y - \\bar{x}\\vec{w})^2$$\n",
    "\n",
    "Where the factor $\\frac{1}{2}$ is used to simplify the derivative calculation. (Will be explained in further sections). $e^2$ because we need a positive value."
   ]
  },
  {
   "cell_type": "markdown",
   "metadata": {},
   "source": [
    "### Loss function"
   ]
  },
  {
   "cell_type": "markdown",
   "metadata": {},
   "source": [
    "The same thing happen to every pair (input, outcome) $(x_i, y_i)$ in the dataset. The loss function is defined as:\n",
    "\n",
    "$$\\mathcal{L}(w) = \\frac{1}{2} \\sum_{i = 1}^{n} (y_i - \\bar{X}_iW)^2$$\n",
    "\n",
    "Where $n$ is the number of samples in the dataset."
   ]
  },
  {
   "cell_type": "markdown",
   "metadata": {},
   "source": [
    "The function $\\mathcal{L}(w)$ called loss function of Linear Regression. We alway want the $\\mathcal{L}(w)$ is smallest, that mean finding coefficients $\\vec{w}$ that minimize the loss function. Denoted as:\n",
    "\n",
    "$$w^* = \\arg\\min_{w} \\mathcal{L}(w)$$"
   ]
  },
  {
   "cell_type": "markdown",
   "metadata": {},
   "source": [
    "### Solution for Linear Regression problem"
   ]
  },
  {
   "cell_type": "markdown",
   "metadata": {},
   "source": [
    "The most common way to find the solution to an optimization problem (we have known since high school) is to solve the zero gradient equation! Of course, that is when calculating the derivative and solving the zero derivative equation are not too complicated. Luckily, with linear models, these two things are possible."
   ]
  },
  {
   "cell_type": "markdown",
   "metadata": {},
   "source": [
    "Derivative by $\\vec{w}$:\n",
    "\n",
    "$$\\frac{\\partial \\mathcal{L}(w)}{\\partial \\vec{w}} = \\bar{X}^T(\\bar{X}W - \\vec{y})$$\n",
    "\n",
    "This called the normal equation. Which will find the optimal solution for $\\vec{w}$ without any iteration. But this have a problem when the number of features is too large, the matrix $\\bar{x}^T\\bar{x}$ is not invertible. In this case, we can use the gradient descent method to find the optimal solution. (Recommend to Read Gradient Descent - Batch GD in my Optimization folder)"
   ]
  },
  {
   "cell_type": "markdown",
   "metadata": {},
   "source": [
    "# Example"
   ]
  },
  {
   "cell_type": "code",
   "execution_count": 1,
   "metadata": {},
   "outputs": [],
   "source": [
    "from sklearn.linear_model import LinearRegression\n",
    "import pandas as pd\n",
    "import numpy as np\n",
    "from sklearn.model_selection import train_test_split\n",
    "import matplotlib.pyplot as plt"
   ]
  },
  {
   "cell_type": "code",
   "execution_count": 3,
   "metadata": {},
   "outputs": [],
   "source": [
    "dataset = pd.read_csv('data/linear_regression_dataset.csv')"
   ]
  },
  {
   "cell_type": "code",
   "execution_count": 5,
   "metadata": {},
   "outputs": [
    {
     "data": {
      "text/html": [
       "<div>\n",
       "<style scoped>\n",
       "    .dataframe tbody tr th:only-of-type {\n",
       "        vertical-align: middle;\n",
       "    }\n",
       "\n",
       "    .dataframe tbody tr th {\n",
       "        vertical-align: top;\n",
       "    }\n",
       "\n",
       "    .dataframe thead th {\n",
       "        text-align: right;\n",
       "    }\n",
       "</style>\n",
       "<table border=\"1\" class=\"dataframe\">\n",
       "  <thead>\n",
       "    <tr style=\"text-align: right;\">\n",
       "      <th></th>\n",
       "      <th>age</th>\n",
       "      <th>experience</th>\n",
       "      <th>income</th>\n",
       "    </tr>\n",
       "  </thead>\n",
       "  <tbody>\n",
       "    <tr>\n",
       "      <th>0</th>\n",
       "      <td>25</td>\n",
       "      <td>1</td>\n",
       "      <td>30450</td>\n",
       "    </tr>\n",
       "    <tr>\n",
       "      <th>1</th>\n",
       "      <td>30</td>\n",
       "      <td>3</td>\n",
       "      <td>35670</td>\n",
       "    </tr>\n",
       "    <tr>\n",
       "      <th>2</th>\n",
       "      <td>47</td>\n",
       "      <td>2</td>\n",
       "      <td>31580</td>\n",
       "    </tr>\n",
       "    <tr>\n",
       "      <th>3</th>\n",
       "      <td>32</td>\n",
       "      <td>5</td>\n",
       "      <td>40130</td>\n",
       "    </tr>\n",
       "    <tr>\n",
       "      <th>4</th>\n",
       "      <td>43</td>\n",
       "      <td>10</td>\n",
       "      <td>47830</td>\n",
       "    </tr>\n",
       "  </tbody>\n",
       "</table>\n",
       "</div>"
      ],
      "text/plain": [
       "   age  experience  income\n",
       "0   25           1   30450\n",
       "1   30           3   35670\n",
       "2   47           2   31580\n",
       "3   32           5   40130\n",
       "4   43          10   47830"
      ]
     },
     "execution_count": 5,
     "metadata": {},
     "output_type": "execute_result"
    }
   ],
   "source": [
    "dataset.head()"
   ]
  },
  {
   "cell_type": "code",
   "execution_count": 6,
   "metadata": {},
   "outputs": [],
   "source": [
    "X, y = dataset.iloc[:, :-1], dataset.iloc[:, -1]\n",
    "\n",
    "X_train, X_test, y_train, y_test = train_test_split(X, y, test_size=0.3)"
   ]
  },
  {
   "cell_type": "code",
   "execution_count": 7,
   "metadata": {},
   "outputs": [
    {
     "data": {
      "text/html": [
       "<style>#sk-container-id-1 {color: black;}#sk-container-id-1 pre{padding: 0;}#sk-container-id-1 div.sk-toggleable {background-color: white;}#sk-container-id-1 label.sk-toggleable__label {cursor: pointer;display: block;width: 100%;margin-bottom: 0;padding: 0.3em;box-sizing: border-box;text-align: center;}#sk-container-id-1 label.sk-toggleable__label-arrow:before {content: \"▸\";float: left;margin-right: 0.25em;color: #696969;}#sk-container-id-1 label.sk-toggleable__label-arrow:hover:before {color: black;}#sk-container-id-1 div.sk-estimator:hover label.sk-toggleable__label-arrow:before {color: black;}#sk-container-id-1 div.sk-toggleable__content {max-height: 0;max-width: 0;overflow: hidden;text-align: left;background-color: #f0f8ff;}#sk-container-id-1 div.sk-toggleable__content pre {margin: 0.2em;color: black;border-radius: 0.25em;background-color: #f0f8ff;}#sk-container-id-1 input.sk-toggleable__control:checked~div.sk-toggleable__content {max-height: 200px;max-width: 100%;overflow: auto;}#sk-container-id-1 input.sk-toggleable__control:checked~label.sk-toggleable__label-arrow:before {content: \"▾\";}#sk-container-id-1 div.sk-estimator input.sk-toggleable__control:checked~label.sk-toggleable__label {background-color: #d4ebff;}#sk-container-id-1 div.sk-label input.sk-toggleable__control:checked~label.sk-toggleable__label {background-color: #d4ebff;}#sk-container-id-1 input.sk-hidden--visually {border: 0;clip: rect(1px 1px 1px 1px);clip: rect(1px, 1px, 1px, 1px);height: 1px;margin: -1px;overflow: hidden;padding: 0;position: absolute;width: 1px;}#sk-container-id-1 div.sk-estimator {font-family: monospace;background-color: #f0f8ff;border: 1px dotted black;border-radius: 0.25em;box-sizing: border-box;margin-bottom: 0.5em;}#sk-container-id-1 div.sk-estimator:hover {background-color: #d4ebff;}#sk-container-id-1 div.sk-parallel-item::after {content: \"\";width: 100%;border-bottom: 1px solid gray;flex-grow: 1;}#sk-container-id-1 div.sk-label:hover label.sk-toggleable__label {background-color: #d4ebff;}#sk-container-id-1 div.sk-serial::before {content: \"\";position: absolute;border-left: 1px solid gray;box-sizing: border-box;top: 0;bottom: 0;left: 50%;z-index: 0;}#sk-container-id-1 div.sk-serial {display: flex;flex-direction: column;align-items: center;background-color: white;padding-right: 0.2em;padding-left: 0.2em;position: relative;}#sk-container-id-1 div.sk-item {position: relative;z-index: 1;}#sk-container-id-1 div.sk-parallel {display: flex;align-items: stretch;justify-content: center;background-color: white;position: relative;}#sk-container-id-1 div.sk-item::before, #sk-container-id-1 div.sk-parallel-item::before {content: \"\";position: absolute;border-left: 1px solid gray;box-sizing: border-box;top: 0;bottom: 0;left: 50%;z-index: -1;}#sk-container-id-1 div.sk-parallel-item {display: flex;flex-direction: column;z-index: 1;position: relative;background-color: white;}#sk-container-id-1 div.sk-parallel-item:first-child::after {align-self: flex-end;width: 50%;}#sk-container-id-1 div.sk-parallel-item:last-child::after {align-self: flex-start;width: 50%;}#sk-container-id-1 div.sk-parallel-item:only-child::after {width: 0;}#sk-container-id-1 div.sk-dashed-wrapped {border: 1px dashed gray;margin: 0 0.4em 0.5em 0.4em;box-sizing: border-box;padding-bottom: 0.4em;background-color: white;}#sk-container-id-1 div.sk-label label {font-family: monospace;font-weight: bold;display: inline-block;line-height: 1.2em;}#sk-container-id-1 div.sk-label-container {text-align: center;}#sk-container-id-1 div.sk-container {/* jupyter's `normalize.less` sets `[hidden] { display: none; }` but bootstrap.min.css set `[hidden] { display: none !important; }` so we also need the `!important` here to be able to override the default hidden behavior on the sphinx rendered scikit-learn.org. See: https://github.com/scikit-learn/scikit-learn/issues/21755 */display: inline-block !important;position: relative;}#sk-container-id-1 div.sk-text-repr-fallback {display: none;}</style><div id=\"sk-container-id-1\" class=\"sk-top-container\"><div class=\"sk-text-repr-fallback\"><pre>LinearRegression()</pre><b>In a Jupyter environment, please rerun this cell to show the HTML representation or trust the notebook. <br />On GitHub, the HTML representation is unable to render, please try loading this page with nbviewer.org.</b></div><div class=\"sk-container\" hidden><div class=\"sk-item\"><div class=\"sk-estimator sk-toggleable\"><input class=\"sk-toggleable__control sk-hidden--visually\" id=\"sk-estimator-id-1\" type=\"checkbox\" checked><label for=\"sk-estimator-id-1\" class=\"sk-toggleable__label sk-toggleable__label-arrow\">LinearRegression</label><div class=\"sk-toggleable__content\"><pre>LinearRegression()</pre></div></div></div></div></div>"
      ],
      "text/plain": [
       "LinearRegression()"
      ]
     },
     "execution_count": 7,
     "metadata": {},
     "output_type": "execute_result"
    }
   ],
   "source": [
    "lr = LinearRegression()\n",
    "lr.fit(X_train, y_train)"
   ]
  },
  {
   "cell_type": "code",
   "execution_count": 8,
   "metadata": {},
   "outputs": [
    {
     "name": "stdout",
     "output_type": "stream",
     "text": [
      "lr coefficents:  [-107.10955305 2095.42641138]\n",
      "lr intercept:  31619.09724993968\n"
     ]
    }
   ],
   "source": [
    "print(\"lr coefficents: \", lr.coef_)\n",
    "print(\"lr intercept: \", lr.intercept_)"
   ]
  },
  {
   "cell_type": "markdown",
   "metadata": {},
   "source": [
    "The <code>intercept_</code> attribute holds the single float number, the <code>coef_</code> attribute is a Numpy array with one entry per input feature."
   ]
  },
  {
   "cell_type": "markdown",
   "metadata": {},
   "source": [
    "So after training, we have two slopes and one intercepts, which we can use to predict new data points. Let's take a look at the predictions score:"
   ]
  },
  {
   "cell_type": "code",
   "execution_count": 9,
   "metadata": {},
   "outputs": [
    {
     "name": "stdout",
     "output_type": "stream",
     "text": [
      "Training score: 0.97\n",
      "Test score: 0.97\n"
     ]
    }
   ],
   "source": [
    "print(\"Training score: {:.2f}\".format(lr.score(X_train, y_train)))\n",
    "print(\"Test score: {:.2f}\".format(lr.score(X_test, y_test)))"
   ]
  },
  {
   "cell_type": "markdown",
   "metadata": {},
   "source": [
    "Ok so $\\mathbb{R}^2$ is a measure of goodness of fit. It's a value between 0 and 1 for no-fit and perfect fit respectively. So we can see that our model is not very good."
   ]
  },
  {
   "cell_type": "markdown",
   "metadata": {},
   "source": [
    "## Ridge Regression\n",
    "\n",
    "Ridge regression is also a linear model for regression, so the formula it uses to make predictions is the same one used for ordinary least squares. In ridge regression, though, the coefficients ($w$) are chosen not only so that they predict well on the training data, but also to fit an additional constraint. We also want the magnitude of coefficients to be as small as possible; in other words, all entries of $w$ should be close to zero. Intuitively, this means each feature should have as little effect on the outcome as possible (which translates to having a small slope), while still predicting well. This constraint is an example of what is called regularization. Regularization means explicitly restricting a model to avoid overfitting. The particular kind used by ridge regression is known as L2 regularization."
   ]
  },
  {
   "cell_type": "code",
   "execution_count": 14,
   "metadata": {},
   "outputs": [
    {
     "data": {
      "text/html": [
       "<style>#sk-container-id-2 {color: black;}#sk-container-id-2 pre{padding: 0;}#sk-container-id-2 div.sk-toggleable {background-color: white;}#sk-container-id-2 label.sk-toggleable__label {cursor: pointer;display: block;width: 100%;margin-bottom: 0;padding: 0.3em;box-sizing: border-box;text-align: center;}#sk-container-id-2 label.sk-toggleable__label-arrow:before {content: \"▸\";float: left;margin-right: 0.25em;color: #696969;}#sk-container-id-2 label.sk-toggleable__label-arrow:hover:before {color: black;}#sk-container-id-2 div.sk-estimator:hover label.sk-toggleable__label-arrow:before {color: black;}#sk-container-id-2 div.sk-toggleable__content {max-height: 0;max-width: 0;overflow: hidden;text-align: left;background-color: #f0f8ff;}#sk-container-id-2 div.sk-toggleable__content pre {margin: 0.2em;color: black;border-radius: 0.25em;background-color: #f0f8ff;}#sk-container-id-2 input.sk-toggleable__control:checked~div.sk-toggleable__content {max-height: 200px;max-width: 100%;overflow: auto;}#sk-container-id-2 input.sk-toggleable__control:checked~label.sk-toggleable__label-arrow:before {content: \"▾\";}#sk-container-id-2 div.sk-estimator input.sk-toggleable__control:checked~label.sk-toggleable__label {background-color: #d4ebff;}#sk-container-id-2 div.sk-label input.sk-toggleable__control:checked~label.sk-toggleable__label {background-color: #d4ebff;}#sk-container-id-2 input.sk-hidden--visually {border: 0;clip: rect(1px 1px 1px 1px);clip: rect(1px, 1px, 1px, 1px);height: 1px;margin: -1px;overflow: hidden;padding: 0;position: absolute;width: 1px;}#sk-container-id-2 div.sk-estimator {font-family: monospace;background-color: #f0f8ff;border: 1px dotted black;border-radius: 0.25em;box-sizing: border-box;margin-bottom: 0.5em;}#sk-container-id-2 div.sk-estimator:hover {background-color: #d4ebff;}#sk-container-id-2 div.sk-parallel-item::after {content: \"\";width: 100%;border-bottom: 1px solid gray;flex-grow: 1;}#sk-container-id-2 div.sk-label:hover label.sk-toggleable__label {background-color: #d4ebff;}#sk-container-id-2 div.sk-serial::before {content: \"\";position: absolute;border-left: 1px solid gray;box-sizing: border-box;top: 0;bottom: 0;left: 50%;z-index: 0;}#sk-container-id-2 div.sk-serial {display: flex;flex-direction: column;align-items: center;background-color: white;padding-right: 0.2em;padding-left: 0.2em;position: relative;}#sk-container-id-2 div.sk-item {position: relative;z-index: 1;}#sk-container-id-2 div.sk-parallel {display: flex;align-items: stretch;justify-content: center;background-color: white;position: relative;}#sk-container-id-2 div.sk-item::before, #sk-container-id-2 div.sk-parallel-item::before {content: \"\";position: absolute;border-left: 1px solid gray;box-sizing: border-box;top: 0;bottom: 0;left: 50%;z-index: -1;}#sk-container-id-2 div.sk-parallel-item {display: flex;flex-direction: column;z-index: 1;position: relative;background-color: white;}#sk-container-id-2 div.sk-parallel-item:first-child::after {align-self: flex-end;width: 50%;}#sk-container-id-2 div.sk-parallel-item:last-child::after {align-self: flex-start;width: 50%;}#sk-container-id-2 div.sk-parallel-item:only-child::after {width: 0;}#sk-container-id-2 div.sk-dashed-wrapped {border: 1px dashed gray;margin: 0 0.4em 0.5em 0.4em;box-sizing: border-box;padding-bottom: 0.4em;background-color: white;}#sk-container-id-2 div.sk-label label {font-family: monospace;font-weight: bold;display: inline-block;line-height: 1.2em;}#sk-container-id-2 div.sk-label-container {text-align: center;}#sk-container-id-2 div.sk-container {/* jupyter's `normalize.less` sets `[hidden] { display: none; }` but bootstrap.min.css set `[hidden] { display: none !important; }` so we also need the `!important` here to be able to override the default hidden behavior on the sphinx rendered scikit-learn.org. See: https://github.com/scikit-learn/scikit-learn/issues/21755 */display: inline-block !important;position: relative;}#sk-container-id-2 div.sk-text-repr-fallback {display: none;}</style><div id=\"sk-container-id-2\" class=\"sk-top-container\"><div class=\"sk-text-repr-fallback\"><pre>Ridge()</pre><b>In a Jupyter environment, please rerun this cell to show the HTML representation or trust the notebook. <br />On GitHub, the HTML representation is unable to render, please try loading this page with nbviewer.org.</b></div><div class=\"sk-container\" hidden><div class=\"sk-item\"><div class=\"sk-estimator sk-toggleable\"><input class=\"sk-toggleable__control sk-hidden--visually\" id=\"sk-estimator-id-2\" type=\"checkbox\" checked><label for=\"sk-estimator-id-2\" class=\"sk-toggleable__label sk-toggleable__label-arrow\">Ridge</label><div class=\"sk-toggleable__content\"><pre>Ridge()</pre></div></div></div></div></div>"
      ],
      "text/plain": [
       "Ridge()"
      ]
     },
     "execution_count": 14,
     "metadata": {},
     "output_type": "execute_result"
    }
   ],
   "source": [
    "from sklearn.linear_model import Ridge\n",
    "\n",
    "ridge = Ridge()\n",
    "ridge.fit(X_train, y_train)"
   ]
  },
  {
   "cell_type": "code",
   "execution_count": 15,
   "metadata": {},
   "outputs": [
    {
     "name": "stdout",
     "output_type": "stream",
     "text": [
      "ridge coefficents:  [-104.11613814 2078.47752237]\n",
      "ridge intercept:  31592.940828781037\n"
     ]
    }
   ],
   "source": [
    "print(\"ridge coefficents: \", ridge.coef_)\n",
    "print(\"ridge intercept: \", ridge.intercept_)"
   ]
  },
  {
   "cell_type": "code",
   "execution_count": 16,
   "metadata": {},
   "outputs": [
    {
     "name": "stdout",
     "output_type": "stream",
     "text": [
      "Training score: 0.97\n",
      "Test score: 0.97\n"
     ]
    }
   ],
   "source": [
    "print(\"Training score: {:.2f}\".format(ridge.score(X_train, y_train)))\n",
    "print(\"Test score: {:.2f}\".format(ridge.score(X_test, y_test)))"
   ]
  },
  {
   "cell_type": "markdown",
   "metadata": {},
   "source": [
    "As you can see, the score in both model is the same. But the coefficients are different. Ridge regression applies a penalty to the size of the coefficients, so the coefficients learned by ridge regression are much smaller."
   ]
  },
  {
   "cell_type": "markdown",
   "metadata": {},
   "source": [
    "This model is more restricted than linear regression, so we are less likely to overfit. A less complex model means worse performance on the training set, but better generalization. As we are only interested in generalization performance, we should choose the ridge model over the linear regression model."
   ]
  },
  {
   "cell_type": "markdown",
   "metadata": {},
   "source": [
    "But we'll have a question: \"How much importance the model places on simplicity versus training set performance can be specified by the user?\"\n",
    "\n",
    "Well, the answer is the $\\alpha$ parameter. In the previous example, we used the default parameter, $\\alpha = 1.0$. There is no reason why this will give us the best trade-off, though. The optimum setting of $\\alpha$ depends on the particular dataset we are using. Increasing $\\alpha$ forces coefficients to move more toward zero, which decreases training set performance but might help generalization. For example:"
   ]
  },
  {
   "cell_type": "code",
   "execution_count": 20,
   "metadata": {},
   "outputs": [
    {
     "name": "stdout",
     "output_type": "stream",
     "text": [
      "rigde10 coefficents:  [ -79.38287591 1937.66561963]\n",
      "rigde10 intercept:  31380.78568723035\n",
      "Training score: 0.96\n",
      "Test score: 0.95\n"
     ]
    }
   ],
   "source": [
    "ridge10 = Ridge(alpha=10)\n",
    "ridge10.fit(X_train, y_train)\n",
    "\n",
    "print(\"rigde10 coefficents: \", ridge10.coef_)\n",
    "print(\"rigde10 intercept: \", ridge10.intercept_)\n",
    "\n",
    "print(\"Training score: {:.2f}\".format(ridge10.score(X_train, y_train)))\n",
    "print(\"Test score: {:.2f}\".format(ridge10.score(X_test, y_test)))"
   ]
  },
  {
   "cell_type": "markdown",
   "metadata": {},
   "source": [
    "So increasing alpha forces coefficients to move more toward zero, force it more restricted to avoid overfitting. But what about we decrease alpha?"
   ]
  },
  {
   "cell_type": "code",
   "execution_count": 22,
   "metadata": {},
   "outputs": [
    {
     "name": "stdout",
     "output_type": "stream",
     "text": [
      "righe01 coefficents:  [-106.80782074 2093.7188261 ]\n",
      "righe01 intercept:  31616.456393808072\n",
      "Training score: 0.97\n",
      "Test score: 0.97\n"
     ]
    }
   ],
   "source": [
    "ridge01 = Ridge(alpha=0.1)\n",
    "ridge01.fit(X_train, y_train)\n",
    "\n",
    "print(\"righe01 coefficents: \", ridge01.coef_)\n",
    "print(\"righe01 intercept: \", ridge01.intercept_)\n",
    "\n",
    "print(\"Training score: {:.2f}\".format(ridge01.score(X_train, y_train)))\n",
    "print(\"Test score: {:.2f}\".format(ridge01.score(X_test, y_test)))"
   ]
  },
  {
   "cell_type": "markdown",
   "metadata": {},
   "source": [
    "The coefficients and intercept slowly change, a little bit smaller than linear regression. We can easily understand that decrease alpha will make the model less restricted."
   ]
  },
  {
   "cell_type": "markdown",
   "metadata": {},
   "source": [
    "We can also get a more qualitative insight into how the alpha parameter changes the model by inspecting the `coef_ attribute` of models with different values of alpha. A higher alpha means a more restricted model, so we expect the entries of `coef_` to have smaller magnitude for a high value of alpha than for a low value of alpha"
   ]
  },
  {
   "cell_type": "markdown",
   "metadata": {},
   "source": [
    "## Lasso\n",
    "\n",
    "An alternative to Ridge for regularizing linear regression is **Lasso**. As with ridge regression, using the lasso also restricts coefficients to be close to zero, but in a slightly different way, called L1 regularization. The consequence of L1 regularization is that when using the lasso, some coefficients are exactly zero. This means some features are entirely ignored by the model. This can be seen as a form of automatic feature selection. Having some coefficients be exactly zero often makes a model easier to interpret, and can reveal the most important features of your model."
   ]
  },
  {
   "cell_type": "code",
   "execution_count": 35,
   "metadata": {},
   "outputs": [
    {
     "name": "stdout",
     "output_type": "stream",
     "text": [
      "lasso coefficents:  [-0.00000000e+00 -0.00000000e+00 -0.00000000e+00 -0.00000000e+00\n",
      " -0.00000000e+00 -0.00000000e+00 -0.00000000e+00 -0.00000000e+00\n",
      " -0.00000000e+00 -0.00000000e+00 -0.00000000e+00 -0.00000000e+00\n",
      " -0.00000000e+00  5.44364352e-05 -0.00000000e+00 -0.00000000e+00\n",
      " -0.00000000e+00 -0.00000000e+00 -0.00000000e+00 -0.00000000e+00\n",
      " -0.00000000e+00 -0.00000000e+00 -3.21298988e-03 -4.31901616e-04\n",
      " -0.00000000e+00 -0.00000000e+00 -0.00000000e+00 -0.00000000e+00\n",
      " -0.00000000e+00 -0.00000000e+00]\n",
      "lasso intercept:  1.3492834500519606\n",
      "Training score: 0.55\n",
      "Test score: 0.62\n",
      "Number of features used: 8\n"
     ]
    }
   ],
   "source": [
    "from sklearn.datasets import load_breast_cancer\n",
    "from sklearn.linear_model import Lasso\n",
    "\n",
    "cancer = load_breast_cancer()\n",
    "X, y = cancer.data, cancer.target\n",
    "X_train, X_test, y_train, y_test = train_test_split(X, y, test_size=0.2, random_state=42)\n",
    "\n",
    "lasso = Lasso()\n",
    "lasso.fit(X_train, y_train)\n",
    "\n",
    "print(\"lasso coefficents: \", lasso.coef_)\n",
    "print(\"lasso intercept: \", lasso.intercept_)\n",
    "\n",
    "print(\"Training score: {:.2f}\".format(lasso.score(X_train, y_train)))   \n",
    "print(\"Test score: {:.2f}\".format(lasso.score(X_test, y_test)))\n",
    "print(\"Number of features used: {}\".format(np.sum(lasso.coef_ != 0)))"
   ]
  },
  {
   "cell_type": "markdown",
   "metadata": {},
   "source": [
    "As you can see, Lasso does quite badly, both on the training and the test set. This indicates that we are underfitting, and we find that it used only 4 of the 105 features. Similarly to Ridge, the Lasso also has a regularization parameter, alpha, that controls how strongly coefficients are pushed toward zero. In the previous example, we used the default of $\\alpha = 1.0$. To reduce underfitting, let’s try decreasing alpha. When we do this, we also need to increase the default setting of max_iter (the maximum number of iterations to run)"
   ]
  },
  {
   "cell_type": "code",
   "execution_count": 34,
   "metadata": {},
   "outputs": [
    {
     "name": "stdout",
     "output_type": "stream",
     "text": [
      "Training set score: 0.68\n",
      "Test set score: 0.71\n",
      "Number of features used: 8\n"
     ]
    }
   ],
   "source": [
    "lasso001 = Lasso(alpha=0.01, max_iter=100000).fit(X_train, y_train)\n",
    "print(\"Training set score: {:.2f}\".format(lasso001.score(X_train, y_train)))\n",
    "print(\"Test set score: {:.2f}\".format(lasso001.score(X_test, y_test)))\n",
    "print(\"Number of features used: {}\".format(np.sum(lasso001.coef_ != 0)))"
   ]
  },
  {
   "cell_type": "markdown",
   "metadata": {},
   "source": [
    "So lower alpha help us to get better score, which worked better on the training data. The performance on the test set is not as good as Ridge, but seem better than the default setting of alpha=1.0. But how about we decrease alpha more since the score is still increasing?"
   ]
  },
  {
   "cell_type": "code",
   "execution_count": 36,
   "metadata": {},
   "outputs": [
    {
     "name": "stdout",
     "output_type": "stream",
     "text": [
      "Training set score: 0.77\n",
      "Test set score: 0.75\n",
      "Number of features used: 22\n"
     ]
    }
   ],
   "source": [
    "lasso00001 = Lasso(alpha=0.0001, max_iter=100000).fit(X_train, y_train)\n",
    "print(\"Training set score: {:.2f}\".format(lasso00001.score(X_train, y_train)))\n",
    "print(\"Test set score: {:.2f}\".format(lasso00001.score(X_test, y_test)))\n",
    "print(\"Number of features used: {}\".format(np.sum(lasso00001.coef_ != 0)))"
   ]
  },
  {
   "cell_type": "markdown",
   "metadata": {},
   "source": [
    "So that's all about our Regression task between three type of linear models. We can see that Ridge and Lasso are more restricted than Linear Regression, so we are less likely to overfit. A less complex model means worse performance on the training set, but better generalization. As we are only interested in generalization performance, we should choose the ridge model over the linear regression model."
   ]
  },
  {
   "cell_type": "markdown",
   "metadata": {},
   "source": [
    "# Conclusion"
   ]
  },
  {
   "cell_type": "markdown",
   "metadata": {},
   "source": [
    "### Problem that can be solve by Linear Regression"
   ]
  },
  {
   "cell_type": "markdown",
   "metadata": {},
   "source": [
    "Function $y \\approx f(x) = w^Tx$ is a linear function by $w$ and $x$. In real world, Linear Regression can be apply for any problem that have linear relationship by $w$:"
   ]
  },
  {
   "cell_type": "markdown",
   "metadata": {},
   "source": [
    "$$y \\approx w_1x_1 + w_2x_2 + w_3x_1^2 + w_4\\sin(x_2) + w_5x_1x_2 + w_0$$"
   ]
  },
  {
   "cell_type": "markdown",
   "metadata": {},
   "source": [
    "With each input $X = [x_1; x_2]$, we calculating new features $[x_1; x_2; x_1^2; \\sin(x_2); x_1x_2; 1]$ and apply Linear Regression for this new features."
   ]
  },
  {
   "cell_type": "markdown",
   "metadata": {},
   "source": [
    "### Limitation"
   ]
  },
  {
   "cell_type": "markdown",
   "metadata": {},
   "source": [
    "The first problem with LR is it very sensitive to outliers or noise. If we have a dataset with a lot of outliers, the model will be very bad."
   ]
  },
  {
   "attachments": {
    "image.png": {
     "image/png": "[encoded data removed]"
    }
   },
   "cell_type": "markdown",
   "metadata": {},
   "source": [
    "![image.png](attachment:image.png)"
   ]
  },
  {
   "cell_type": "markdown",
   "metadata": {},
   "source": [
    "The second one is it cannot represent complex relationship between input and output. If the relationship is not linear, the model will be very bad. Although in the above section we saw that this method can be applied if the relationship between outcome and input is not necessarily linear, this relationship is still much simpler compared to real models."
   ]
  },
  {
   "cell_type": "markdown",
   "metadata": {},
   "source": [
    "### Optimization method"
   ]
  },
  {
   "cell_type": "markdown",
   "metadata": {},
   "source": [
    "Linear Regression is a simple model, the solution for the zero differential equation is also quite simple. In most cases, we cannot solve a zero derivative equation.\n",
    "\n",
    "But there is one thing we should remember, as long as we can calculate the derivative, there is still hope."
   ]
  },
  {
   "cell_type": "markdown",
   "metadata": {},
   "source": [
    "# Logistic Regression"
   ]
  },
  {
   "cell_type": "markdown",
   "metadata": {},
   "source": [
    "(Note that this part contain some point about PLA - Perceptron Learning Algorithm, which is Notebook number 9 in Supervised Learning folder)"
   ]
  },
  {
   "cell_type": "markdown",
   "metadata": {},
   "source": [
    "# Introduce"
   ]
  },
  {
   "cell_type": "markdown",
   "metadata": {},
   "source": [
    "Let's start with another example: A group of 20 students spend between 0 and 6 hours studying for an exam. How does this study time affect the probability that the students will pass the exam?"
   ]
  },
  {
   "cell_type": "markdown",
   "metadata": {},
   "source": [
    "The results can be collected in a table:\n",
    "\n",
    "|Hours|Pass|\n",
    "|-----|----|\n",
    "|0.5  |0   |\n",
    "|0.75 |0   |\n",
    "|1    |0   |\n",
    "|1.25 |0   |\n",
    "|1.5  |0   |\n",
    "|1.75 |0   |\n",
    "|1.75 |1   |\n",
    "|2    |0   |\n",
    "|2.25 |1   |\n",
    "|2.5  |0   |\n",
    "|2.75 |1   |\n",
    "|3    |0   |\n",
    "|3.25 |1   |\n",
    "|3.5  |0   |\n",
    "|4    |1   |\n",
    "|4.25 |1   |\n",
    "|4.5  |0   |\n",
    "|4.75 |1   |\n",
    "|5    |1   |\n",
    "|5.5  |1   |"
   ]
  },
  {
   "cell_type": "markdown",
   "metadata": {},
   "source": [
    "Although it is a bit unfair that you fail after 3.5 hours of study, and pass after 1.75 hours of study, in general, the more you study, the higher your chances of passing. PLA cannot be applied to this problem because it is impossible to say how many hours a person studies to 100% fail or pass, and in fact this data is not linearly separable (a condition for PLA to work). Note that the red and blue points are plotted at different ordinates for illustration purposes."
   ]
  },
  {
   "attachments": {
    "image.png": {
     "image/png": "[encoded data removed]"
    }
   },
   "cell_type": "markdown",
   "metadata": {},
   "source": [
    "![image.png](attachment:image.png)"
   ]
  },
  {
   "cell_type": "markdown",
   "metadata": {},
   "source": [
    "### Logistic Regression model"
   ]
  },
  {
   "cell_type": "markdown",
   "metadata": {},
   "source": [
    "The predicted output:\n",
    "- Linear Regression:\n",
    "$$f(x) = w^Tx$$\n",
    "- Perceptron:\n",
    "$$f(x) = \\text{sgn}(w^Tx)$$"
   ]
  },
  {
   "cell_type": "markdown",
   "metadata": {},
   "source": [
    "Then the output of Logistic Regression is:\n",
    "\n",
    "$$f(x) = \\theta(w^Tx)$$\n",
    "\n",
    "Where $\\theta$ is the sigmoid function, which I will explain later"
   ]
  },
  {
   "attachments": {
    "image.png": {
     "image/png": "[encoded data removed]"
    }
   },
   "cell_type": "markdown",
   "metadata": {},
   "source": [
    "![image.png](attachment:image.png)"
   ]
  },
  {
   "cell_type": "markdown",
   "metadata": {},
   "source": [
    "Where yellow line express Linear Regression with no upper bound, which not suitable for this problem. But there is a little trick to make it bounded: cut off the parts less than 0 by setting them to 0, cut off the parts greater than 1 by setting them to 1. Then take the point on this line with the intercept of 0.5 as the dividing point of the two classes, which is also not a good choice. Suppose there are a few more typical students who study for 20 hours and, of course, pass the exam. When applying the linear regression model as shown below and taking the threshold of 0.5 to classify the classes, all the failed students are still predicted to fail, but many students who pass are also predicted to fail (if we consider the green x point as a hard threshold to draw conclusions). Clearly this is a bad model. This typical student has dragged many other students to fail."
   ]
  },
  {
   "cell_type": "markdown",
   "metadata": {},
   "source": [
    "Then why Linear Regression not good for this?"
   ]
  },
  {
   "attachments": {
    "image.png": {
     "image/png": "[encoded data removed]"
    }
   },
   "cell_type": "markdown",
   "metadata": {},
   "source": [
    "![image.png](attachment:image.png)"
   ]
  },
  {
   "cell_type": "markdown",
   "metadata": {},
   "source": [
    "- The red line (which differs from the PLA activation function only in that the two classes are 0 and 1 instead of -1 and 1) is also a hard threshold. PLA does not work for this problem because the given data is not linearly separable.\n",
    "- The blue and green lines (in the previous picture) are more suitable for our problem. They have several important properties:\n",
    "    - It is a continuous function that takes on real values, bounded in the interval (0,1).\n",
    "    - If we consider the point with the coordinate 1/2 as the dividing point, then the points farther to the left of this point have values ​​closer to. Conversely, the points farther to the right of this point have values ​​closer to 1. This is consistent with the observation that the more you study, the higher the probability of passing and vice versa.\n",
    "    - Smooth should have derivatives everywhere, which can be beneficial in optimization."
   ]
  },
  {
   "cell_type": "markdown",
   "metadata": {},
   "source": [
    "### Sigmoid function"
   ]
  },
  {
   "cell_type": "markdown",
   "metadata": {},
   "source": [
    "With:\n",
    "\n",
    "$$f(s) = \\frac{1}{1 + e^{-s}}$$"
   ]
  },
  {
   "cell_type": "markdown",
   "metadata": {},
   "source": [
    "Is the most used, because is bounded in the interval (0,1) and have a derivative everywhere. Also:\n",
    "\n",
    "$$\\lim_{s \\to -\\infty} f(s) = 0$$\n",
    "\n",
    "$$\\lim_{s \\to +\\infty} f(s) = 1$$"
   ]
  },
  {
   "cell_type": "markdown",
   "metadata": {},
   "source": [
    "Furthermore:\n",
    "\n",
    "$$\\sigma'(s) = \\frac{e^{-s}}{(1 + e^{-s})^2} = \\frac{1}{1 + e^{-s}}\\left(1 - \\frac{1}{1 + e^{-s}}\\right) = f(s)(1 - f(s))$$"
   ]
  },
  {
   "cell_type": "markdown",
   "metadata": {},
   "source": [
    "Beside Sigmoid, Tanh is also a good choice:\n",
    "\n",
    "$$f(s) = \\tanh(s) = \\frac{e^s - e^{-s}}{e^s + e^{-s}}$$"
   ]
  },
  {
   "cell_type": "markdown",
   "metadata": {},
   "source": [
    "This take bounded value in the interval (-1,1) and also have a derivative everywhere. And can be easily converted to Sigmoid:\n",
    "\n",
    "$$\\tanh(s) = 2f(2s) - 1$$"
   ]
  },
  {
   "cell_type": "markdown",
   "metadata": {},
   "source": [
    "# Loss function and Optimization"
   ]
  },
  {
   "cell_type": "markdown",
   "metadata": {},
   "source": [
    "In this part, from what I learn from multiple source, it's based on all this component:\n",
    "- Probability with Bernoulli distribution\n",
    "- Normal distribution (Gaussian distribution)\n",
    "- Maximum Likelihood Estimation (MLE)\n",
    "- Log likelihood"
   ]
  },
  {
   "cell_type": "markdown",
   "metadata": {},
   "source": [
    "So I'll not continue to explain this part, because I'm not confident to explain it and the knownledge I have right now is like fighting each other (each source have a different explain but it commonly used 4 type above). Maybe it's better if you go and check them out"
   ]
  },
  {
   "cell_type": "markdown",
   "metadata": {},
   "source": [
    "### Update formula for Logistic Sigmoid Regression"
   ]
  },
  {
   "cell_type": "markdown",
   "metadata": {},
   "source": [
    "So at the final:\n",
    "\n",
    "$$\\frac{\\partial \\mathcal{L}(w; x_i, y_i)}{\\partial w} = (z_i - y_i)x_i$$"
   ]
  },
  {
   "cell_type": "markdown",
   "metadata": {},
   "source": [
    "After this it can using any optimization algorithm to find the optimal solution."
   ]
  },
  {
   "cell_type": "markdown",
   "metadata": {},
   "source": [
    "# Conclusion"
   ]
  },
  {
   "cell_type": "markdown",
   "metadata": {},
   "source": [
    "### Logistic Regression frequently used in classification problem"
   ]
  },
  {
   "cell_type": "markdown",
   "metadata": {},
   "source": [
    "Although it is called Regression, which is a model for fitting, Logistic Regression is used a lot in Classification problems. After finding the model, determining the class $y$ of a input $x$ can be done by:\n",
    "\n",
    "$$P(y = 1|x; w); P(y = 0|x; w)$$\n",
    "\n",
    "Because sum of two probability is 1, we can easily determine using a threshold"
   ]
  },
  {
   "cell_type": "markdown",
   "metadata": {},
   "source": [
    "### Boundary created by Logistic Regression is linear"
   ]
  },
  {
   "cell_type": "markdown",
   "metadata": {},
   "source": [
    "We will check:\n",
    "\n",
    "$$P(y = 1|x; w) > 0.5 \\\\\n",
    "\\Leftrightarrow \\frac{1}{1 + e^{-w^Tx}} > 0.5 \\\\\n",
    "\\Leftrightarrow e^{-w^Tx} < 1 \\\\\n",
    "\\Leftrightarrow w^Tx > 0$$"
   ]
  },
  {
   "cell_type": "markdown",
   "metadata": {},
   "source": [
    "In other words, the boundary between two classes is a line with equation $w^Tx$. This is the equation of a hyperplane. So Logistic Regression produces a boundary of linear form."
   ]
  }
 ],
 "metadata": {
  "kernelspec": {
   "display_name": "Python 3",
   "language": "python",
   "name": "python3"
  },
  "language_info": {
   "codemirror_mode": {
    "name": "ipython",
    "version": 3
   },
   "file_extension": ".py",
   "mimetype": "text/x-python",
   "name": "python",
   "nbconvert_exporter": "python",
   "pygments_lexer": "ipython3",
   "version": "3.11.6"
  },
  "orig_nbformat": 4
 },
 "nbformat": 4,
 "nbformat_minor": 2
}
