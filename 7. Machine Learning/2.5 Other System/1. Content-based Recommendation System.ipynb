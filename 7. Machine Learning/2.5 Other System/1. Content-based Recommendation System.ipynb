{
 "cells": [
  {
   "cell_type": "markdown",
   "metadata": {},
   "source": [
    "# Introduction"
   ]
  },
  {
   "cell_type": "markdown",
   "metadata": {},
   "source": [
    "You've probably seen these phenomena many times:\n",
    "- Youtube automatically plays clips related to the clip you're watching. YouTube also suggests clips that you might like.\n",
    "- When you buy something on Amazon, the system automatically suggests \"Frequently bought together\", or it knows what items you might like based on your purchase history.\n",
    "- Facebook shows ads for products related to the keyword you just searched.\n",
    "- Facebook suggests friends.\n",
    "- Netflix automatically suggests movies to users."
   ]
  },
  {
   "cell_type": "markdown",
   "metadata": {},
   "source": [
    "And there are many other examples where the system is able to automatically suggest products to users that they might like. By advertising to the right audience like this, the effectiveness of marketing will also increase. The algorithms behind these applications are Machine Learning algorithms, commonly known as Recommender Systems or Recommendation Systems."
   ]
  },
  {
   "cell_type": "markdown",
   "metadata": {},
   "source": [
    "Recommendation Systems is a fairly broad area of ​​Machine Learning and is younger than Classification because the internet has only really exploded in the last 10-15 years. There are two main entities in Recommendation Systems: users and items. Users are users. Items are products, such as movies, songs, books, clips, or other users in the friend suggestion problem. The main purpose of Recommender Systems is to predict a user's level of interest in a certain item, thereby having an appropriate recommendation strategy."
   ]
  },
  {
   "cell_type": "markdown",
   "metadata": {},
   "source": [
    "### Long Tail Phenomenon"
   ]
  },
  {
   "cell_type": "markdown",
   "metadata": {},
   "source": [
    "Let’s compare the fundamental differences between physical stores and online stores in terms of product selection for promotion."
   ]
  },
  {
   "cell_type": "markdown",
   "metadata": {},
   "source": [
    "You may know the Pareto Principle (or the 20/80 rule): most effects are caused by a small number of causes. Most words used in everyday life are only a small number of words in the dictionary. Most wealth is owned by a small number of people. In business, the best-selling products are only a small number of products."
   ]
  },
  {
   "cell_type": "markdown",
   "metadata": {},
   "source": [
    "Physical stores typically have two areas, one is the display area and the other is the warehouse. The obvious rule for achieving high sales is to display the most popular products in visible places and store less popular products in storage. This approach has a clear limitation: the products displayed are popular, not necessarily relevant to a particular customer. A store may have an item that a customer is looking for but it may not be available because the customer cannot see it on the shelf; this results in the customer not being able to access the product even if it is displayed. In addition, because of limited space, the store cannot display all products, but only a small number of each type. Here, the majority of sales (80%) come from a small number of the most popular products (20%). If we arrange the store's products from highest to lowest sales, we will see that it is possible that a small number of products generate the majority of sales; and a long list behind only generates a small amount of contribution. This phenomenon is also known as the long tail phenomenon, which is the long tail of less popular products."
   ]
  },
  {
   "cell_type": "markdown",
   "metadata": {},
   "source": [
    "With online stores, the above disadvantages can be completely avoided. Since the display space of online stores is almost endless, all products can be displayed. Moreover, online arrangement is flexible, convenient with almost zero switching costs, making it more convenient to bring the right product to the customer. Revenue, therefore, can be increased."
   ]
  },
  {
   "cell_type": "markdown",
   "metadata": {},
   "source": [
    "### Two Main Types of Recommendation Systems"
   ]
  },
  {
   "cell_type": "markdown",
   "metadata": {},
   "source": [
    "Recommendation Systems are often divided into two large groups:\n",
    "- **Content-based systems**: Evaluate the characteristics of recommended items. For example, a user watches a lot of crime movies, then suggest a movie in the database that shares the same criminal characteristics to this user, for example, the movie The Judge. This approach requires arranging items into groups or finding the characteristics of each item. However, there are items that do not have a specific group and determining the group or characteristics of each item is sometimes impossible.\n",
    "- **Collaborative filtering**: The system recommends items based on the correlation (similarity) between users and/or items. It can be understood that in this group, an item is recommended to a user based on users with similar behavior. For example, users A, B, C all like Noo Phuoc Thinh's songs. In addition, the system knows that users B, C also like Bich Phuong's songs but does not have information about whether user A likes Bich Phuong or not. Based on the information of similar users B and C, the system can predict that A also likes Jake and suggest songs by this singer to A."
   ]
  },
  {
   "cell_type": "markdown",
   "metadata": {},
   "source": [
    "This notebook will focus on the Content-based recommendation system. The other one will be discussed in another notebook."
   ]
  },
  {
   "cell_type": "markdown",
   "metadata": {},
   "source": [
    "# Utility Matrix"
   ]
  },
  {
   "cell_type": "markdown",
   "metadata": {},
   "source": [
    "### Example of a Utility Matrix"
   ]
  },
  {
   "cell_type": "markdown",
   "metadata": {},
   "source": [
    "As mentioned, there are two main entities in Recommendation Systems: users and items. Each user will have a degree of preference for each item. This degree of preference, if known, is assigned a value to each user-item pair. Suppose that the degree of preference is measured by the user rate for the item, let's call this value the rating. The set of all ratings, including the unknown values ​​that need to be predicted, forms a matrix called the utility matrix. Consider the following example:"
   ]
  },
  {
   "cell_type": "markdown",
   "metadata": {},
   "source": [
    "|Songs|User A|User B|User C|User D|User E|\n",
    "|-|-|-|-|-|-|\n",
    "|Golden Hour|5|4|5|?|3|\n",
    "|So far away|4|?|5|4|?|\n",
    "|Cheap Thrills|?|2|?|4|5|\n",
    "|New Rules|1|4|?|1|0|\n"
   ]
  },
  {
   "cell_type": "markdown",
   "metadata": {},
   "source": [
    "In this example, there's 4 songs and 5 users. The utility matrix has 4 rows and 5 columns. Each row represents a song, each column represents a user. The value at the intersection of row i and column j is the rating of user j for song i. The value is unknown if the user has not rated the song. The goal of the recommendation system is to predict the unknown values $(?)$ ​​in the utility matrix."
   ]
  },
  {
   "cell_type": "markdown",
   "metadata": {},
   "source": [
    "Typically, there's a lot of missing values in the utility matrix. For example, in the Netflix dataset, there are 480,189 users and 17,770 movies, which means the utility matrix has 8,540,000,000 values. However, the number of ratings in the dataset is only 100,480,507, which means that the utility matrix has 99,979,492 missing values."
   ]
  },
  {
   "cell_type": "markdown",
   "metadata": {},
   "source": [
    "Obviously, the more boxes are filled in, the more accurate the system will be. Therefore, systems always ask users about their interest in products, and want users to rate as many products as possible. Therefore, rating products not only helps other users know the quality of the product, but also helps the system know the user's preferences, thereby having a reasonable advertising policy."
   ]
  },
  {
   "cell_type": "markdown",
   "metadata": {},
   "source": [
    "### Constructing the Utility Matrix"
   ]
  },
  {
   "cell_type": "markdown",
   "metadata": {},
   "source": [
    "Without Ultility Matrix, it is almost impossible to recommend products to users, other than always suggesting the most popular products. Therefore, in Recommender Systems, building a Utility Matrix is ​​of utmost importance. However, building this matrix is ​​often difficult. There are two common approaches to determining the rating value for each user-item pair in the Utility Matrix:\n",
    "- **Explicit feedback**: This is when users directly rate items. For example, when users rate movies on Netflix, rate songs on Spotify, or rate products on Amazon. This is the most accurate way to determine the rating value for each user-item pair. However, this approach has a disadvantage: users are often lazy to rate products. Therefore, the number of ratings is often very small compared to the number of products.\n",
    "- **Implicit feedback**: This is when the system infers the user's preferences based on their behavior. For example, the system can infer that a user likes a song if the user listens to the song many times. This approach is often used in cases where users do not rate products. However, this approach is less accurate than the explicit feedback approach."
   ]
  },
  {
   "cell_type": "markdown",
   "metadata": {},
   "source": [
    "# Content-based Recommendations"
   ]
  },
  {
   "cell_type": "markdown",
   "metadata": {},
   "source": [
    "### Item Profiles"
   ]
  },
  {
   "cell_type": "markdown",
   "metadata": {},
   "source": [
    "In content-based systems, based on the content of each item, we need to build a profile for each item. This profile is mathematically represented as a feature vector. In simple cases, the feature vector is directly extracted from the item. Example:\n",
    "- For movies: People love to watch Pacific Rim, Godzilla, and Transformers, so the system can infer that they like action movies. Therefore, the feature vector of action movies will have a high value in the action feature.\n",
    "- For song: In the same songs like \"So far away\" by Martin Garrix, but some people like the \"Acoustic\" version, some people like the \"Original\" version."
   ]
  },
  {
   "cell_type": "markdown",
   "metadata": {},
   "source": [
    "So, to make this short, consider the table:"
   ]
  },
  {
   "cell_type": "markdown",
   "metadata": {},
   "source": [
    "|Songs|User A|User B|User C|User D|User E| feature vector|\n",
    "|-|-|-|-|-|-|-|\n",
    "|Golden Hour|5|4|5|?|3|$x_1 = [0.9, 0.2]$|\n",
    "|So far away|4|?|5|4|?|$x_2 = [0.21, 0.93]$|\n",
    "|Cheap Thrills|?|2|?|4|5|$x_3 = [0.88, 0.14]$|\n",
    "|New Rules|1|4|?|1|0|$x_4 = [0.1, 0.9]$|\n",
    "|User models|$\\theta_1$|$\\theta_2$|$\\theta_3$|$\\theta_4$|$\\theta_5$|$\\Leftarrow \\text{need to optimize}$|"
   ]
  },
  {
   "cell_type": "markdown",
   "metadata": {},
   "source": [
    "The optimization problem is to find $\\theta_i$ for each user can be seen as Regression problem when rating it's a continuous value. Or it can be seen as a Classification problem when rating is a discrete value (like 1, 2, 3, 4, 5)."
   ]
  },
  {
   "cell_type": "markdown",
   "metadata": {},
   "source": [
    "Where vector $X$ represent for genre, artist, version, etc. of the song. Assume that in the above example only 2 features with: \"Pop\" and \"EDM\""
   ]
  },
  {
   "cell_type": "markdown",
   "metadata": {},
   "source": [
    "### Loss Function"
   ]
  },
  {
   "cell_type": "markdown",
   "metadata": {},
   "source": [
    "Assume number of user is $N$, number of item is $M$, ultility matrix is defined by $Y$. Component of row $m$, column $n$ of $Y$ is the degree of preference of user $n$ for item $m$. The feature vector of item $m$ is $x_m$. The model of user $n$ is $\\theta_n$."
   ]
  },
  {
   "cell_type": "markdown",
   "metadata": {},
   "source": [
    "Matrix $Y$ is missing many values. The goal is to predict the missing values. Furthermore, called $R$ is the **rated or not** matrix, where $R_{mn} = 1$ if user $n$ has rated item $m$, and $R_{mn} = 0$ otherwise."
   ]
  },
  {
   "cell_type": "markdown",
   "metadata": {},
   "source": [
    "***Linear Model***"
   ]
  },
  {
   "cell_type": "markdown",
   "metadata": {},
   "source": [
    "Assume that we can find a model for each user, illustration by vector column of coefficient $w_i$ and bias $b_n$ so that a user's level of interest in an item can be calculated using a linear function:"
   ]
  },
  {
   "cell_type": "markdown",
   "metadata": {},
   "source": [
    "$$\\hat{Y}_{mn} = w_n^T x_m + b_n$$"
   ]
  },
  {
   "cell_type": "markdown",
   "metadata": {},
   "source": [
    "(Note that $x_m$ is a row vector, $w_n$ is a column vector, so $w_n^T x_m$ is a scalar)"
   ]
  },
  {
   "cell_type": "markdown",
   "metadata": {},
   "source": [
    "Consider a user number $n$, if we see training set is the set of each component of $y_n$, we can build a loss function corresponding to Ridge Regression:\n",
    "\n",
    "$$\\mathcal{L}_n = \\frac{1}{2} \\sum_{m: r_{mn} = 1} (x_mw_n + b_n - y_mn)^2 + \\frac{\\lambda}{2} ||w_n||^2$$"
   ]
  },
  {
   "cell_type": "markdown",
   "metadata": {},
   "source": [
    "In practice, the average of loss will not be used, and the loss function of the entire dataset will be:\n",
    "\n",
    "$$\\mathcal{L_n} = \\frac{1}{2s_n} \\sum_{m: r_{mn} = 1} (x_mw_n + b_n - y_mn)^2 + \\frac{\\lambda}{2s_n} ||w_n||^2$$\n",
    "\n",
    "where $s_n$ is the number of items that user $n$ has rated:\n",
    "\n",
    "$$s_n = \\sum_{m=1}^M r_{mn}$$"
   ]
  },
  {
   "cell_type": "markdown",
   "metadata": {},
   "source": [
    "Because the loss only depends on the items that user $n$ has rated, we can simplify it as:\n",
    "\n",
    "$$\\mathcal{L}_n = \\frac{1}{2s_n} \\|\\bar{X}_nw_n + b_ne_n - \\bar{y}_n\\|^2 + \\frac{\\lambda}{2s_n} ||w_n||^2$$\n",
    "\n",
    "where:\n",
    "- $\\bar{X}_n$ is the matrix of feature vectors of items that user $n$ has rated.\n",
    "- $\\bar{y}_n$ is the vector of ratings of items that user $n$ has rated.\n",
    "- $e_n$ is the vector of ones. "
   ]
  },
  {
   "cell_type": "markdown",
   "metadata": {},
   "source": [
    "**Example:** With user D, we already know that:\n",
    "\n",
    "$$\\bar{X}_D = \\begin{bmatrix} 0.9 & 0.2 \\\\ 0.21 & 0.93 \\\\ 0.88 & 0.14 \\\\ 0.1 & 0.9 \\end{bmatrix}$$\n",
    "\n",
    "This present for sub matrix of what user D has rated. And:\n",
    "\n",
    "$$\\bar{y}_D = \\begin{bmatrix} ? \\\\ 4 \\\\ 4 \\\\ 1 \\end{bmatrix}$$\n",
    "\n",
    "So that, we have $r_{D} = [0, 1, 1, 1]$"
   ]
  },
  {
   "cell_type": "markdown",
   "metadata": {},
   "source": [
    "Then we can calculate the loss function for user D:\n",
    "\n",
    "$$\n",
    "\\mathcal{L}_D = \\frac{1}{2 \\times 3} \\| \\begin{bmatrix} 0.21 & 0.93 \\\\ 0.88 & 0.14 \\\\ 0.1 & 0.9 \\end{bmatrix} w_{D} + b_D \\begin{bmatrix} 1 \\\\ 1 \\\\ 1 \\end{bmatrix} - \\begin{bmatrix} 4 \\\\ 4 \\\\ 1 \\end{bmatrix} \\|^2 + \\frac{\\lambda}{2 \\times 3} \\| w_D \\|^2\n",
    "$$"
   ]
  }
 ],
 "metadata": {
  "language_info": {
   "name": "python"
  }
 },
 "nbformat": 4,
 "nbformat_minor": 2
}
