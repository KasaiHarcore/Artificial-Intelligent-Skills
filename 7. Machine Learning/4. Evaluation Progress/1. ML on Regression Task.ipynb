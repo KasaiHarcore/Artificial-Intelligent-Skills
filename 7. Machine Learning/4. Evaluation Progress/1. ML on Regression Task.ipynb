{
 "cells": [
  {
   "cell_type": "markdown",
   "metadata": {},
   "source": [
    "## Introduction\n",
    "\n",
    "Regression is also one type of supervised Machine learning and in this tutorial, we will discuss various metrics for evaluating regression Models and How to implement them using the scikit-learn library.\n",
    "\n",
    "Regression is a type of Machine learning which helps in finding the relationship between independent and dependent variables.\n",
    "\n",
    "In simple words, Regression can be defined as a Machine learning problem where we have to predict continuous values like price, Rating, Fees, etc."
   ]
  },
  {
   "cell_type": "markdown",
   "metadata": {},
   "source": [
    "Let's start with a simple example to understand the regression problem."
   ]
  },
  {
   "cell_type": "code",
   "execution_count": 1,
   "metadata": {},
   "outputs": [
    {
     "name": "stdout",
     "output_type": "stream",
     "text": [
      "[2.86114942 1.90257867]\n"
     ]
    }
   ],
   "source": [
    "from sklearn.model_selection import train_test_split\n",
    "from sklearn.linear_model import LinearRegression\n",
    "import pandas as pd\n",
    "\n",
    "cgpa = [6.89, 5.12, 7.82, 7.42, 6.94, 7.89, 6.73, 6.75, 6.09]\n",
    "package = [3.26, 1.98, 3.25, 3.67, 3.57, 2.99, 2.6, 2.48, 2.31]\n",
    "df = pd.DataFrame({'cgpa' : cgpa, 'package' : package})\n",
    "y = df['package']\n",
    "X = df.drop('package', axis = 1)\n",
    "\n",
    "X_train,X_test,y_train,y_test = train_test_split(X, y, test_size = 0.2, random_state = 2)\n",
    "\n",
    "lr = LinearRegression()\n",
    "lr.fit(X_train,y_train)\n",
    "y_pred = lr.predict(X_test)\n",
    "print(y_pred)"
   ]
  },
  {
   "cell_type": "markdown",
   "metadata": {},
   "source": [
    "## Mean Absolute Error (MAE)\n",
    "\n",
    "MAE is a very simple metric which calculates the absolute difference between actual and predicted values.\n",
    "\n",
    "To better understand, let’s take an example you have input data and output data and use Linear Regression, which draws a best-fit line.\n",
    "\n",
    "Now you have to find the MAE of your model which is basically a mistake made by the model known as an error. Now find the difference between the actual value and predicted value that is an absolute error but we have to find the mean absolute of the complete dataset.\n",
    "\n",
    "so, sum all the errors and divide them by a total number of observations And this is MAE. And we aim to get a minimum MAE because this is a loss.\n",
    "\n",
    "$$ MAE = \\frac{1}{n} \\sum_{i=1}^{n} |y_{i} - \\hat{y}_{i}| $$\n",
    "\n",
    "Where:\n",
    "- $y_{i}$ = Actual value\n",
    "- $\\hat{y}_{i}$ = Predicted value\n",
    "- $n$ = Total number of observations"
   ]
  },
  {
   "cell_type": "markdown",
   "metadata": {},
   "source": [
    "**Advantages of MAE**\n",
    "- The MAE you get is in the same unit as the output variable.\n",
    "\n",
    "- It is most Robust to outliers.\n",
    "\n",
    "**Disadvantages of MAE**\n",
    "- The graph of MAE is not differentiable so we have to apply various optimizers like Gradient descent which can be differentiable."
   ]
  },
  {
   "cell_type": "code",
   "execution_count": 2,
   "metadata": {},
   "outputs": [
    {
     "name": "stdout",
     "output_type": "stream",
     "text": [
      "0.3931359573449693\n"
     ]
    }
   ],
   "source": [
    "def mean_absolute_error(y_true, y_pred):\n",
    "    error = 0\n",
    "    for yt, yp in zip(y_true, y_pred):\n",
    "        error += abs(yt - yp)\n",
    "    return error / len(y_true)\n",
    "\n",
    "print(mean_absolute_error(y_test, y_pred))"
   ]
  },
  {
   "cell_type": "code",
   "execution_count": 3,
   "metadata": {},
   "outputs": [
    {
     "name": "stdout",
     "output_type": "stream",
     "text": [
      "MAE 0.3931359573449693\n"
     ]
    }
   ],
   "source": [
    "from sklearn.metrics import mean_absolute_error\n",
    "print(\"MAE\", mean_absolute_error(y_test,y_pred))"
   ]
  },
  {
   "cell_type": "markdown",
   "metadata": {},
   "source": [
    "## Mean Squared Error (MSE)\n",
    "\n",
    "MSE is a most used and very simple metric with a little bit of change in mean absolute error. Mean squared error states that finding the squared difference between actual and predicted value.\n",
    "\n",
    "So, above we are finding the absolute difference and here we are finding the squared difference.\n",
    "\n",
    "What actually the MSE represents? It represents the squared distance between actual and predicted values. we perform squared to avoid the cancellation of negative terms and it is the benefit of MSE.\n",
    "\n",
    "$$ MSE = \\frac{1}{n} \\sum_{i=1}^{n} (y_{i} - \\hat{y}_{i})^{2} $$\n",
    "\n",
    "**Advantages of MSE**\n",
    "- The graph of MSE is differentiable, so you can easily use it as a loss function.\n",
    "\n",
    "**Disadvantages of MSE**\n",
    "- The value you get after calculating MSE is a squared unit of output. for example, the output variable is in meter(m) then after calculating MSE the output we get is in meter squared.\n",
    "\n",
    "- If you have outliers in the dataset then it penalizes the outliers most and the calculated MSE is bigger. So, in short, It is not Robust to outliers which were an advantage in MAE."
   ]
  },
  {
   "cell_type": "code",
   "execution_count": 4,
   "metadata": {},
   "outputs": [
    {
     "name": "stdout",
     "output_type": "stream",
     "text": [
      "0.2542316070402522\n"
     ]
    }
   ],
   "source": [
    "def mean_squared_error(y_true, y_pred):\n",
    "    error = 0\n",
    "    for yt, yp in zip(y_true, y_pred):\n",
    "        error += (yt - yp)**2\n",
    "    return error / len(y_true)\n",
    "\n",
    "print(mean_squared_error(y_test, y_pred))"
   ]
  },
  {
   "cell_type": "code",
   "execution_count": 5,
   "metadata": {},
   "outputs": [
    {
     "name": "stdout",
     "output_type": "stream",
     "text": [
      "MSE 0.2542316070402522\n"
     ]
    }
   ],
   "source": [
    "from sklearn.metrics import mean_squared_error\n",
    "print(\"MSE\", mean_squared_error(y_test,y_pred))"
   ]
  },
  {
   "cell_type": "markdown",
   "metadata": {},
   "source": [
    "## Root Mean Squared Error (RMSE)\n",
    "\n",
    "As RMSE is clear by the name itself, that it is a simple square root of mean squared error.\n",
    "\n",
    "$$ RMSE = \\sqrt{\\frac{1}{n} \\sum_{i=1}^{n} (y_{i} - \\hat{y}_{i})^{2}} $$\n",
    "\n",
    "**Advantages of RMSE**\n",
    "- The output value you get is in the same unit as the required output variable which makes interpretation of loss easy.\n",
    "\n",
    "**Disadvantages of RMSE**\n",
    "- It is not that robust to outliers as compared to MAE."
   ]
  },
  {
   "cell_type": "code",
   "execution_count": 6,
   "metadata": {},
   "outputs": [
    {
     "name": "stdout",
     "output_type": "stream",
     "text": [
      "RMSE 0.5042138505041807\n"
     ]
    }
   ],
   "source": [
    "import numpy as np\n",
    "\n",
    "print(\"RMSE\", np.sqrt(mean_squared_error(y_test,y_pred)))"
   ]
  },
  {
   "cell_type": "markdown",
   "metadata": {},
   "source": [
    "Most of the time people use RMSE as an evaluation metric and mostly when you are working with deep learning techniques the most preferred metric is RMSE."
   ]
  },
  {
   "cell_type": "markdown",
   "metadata": {},
   "source": [
    "## Root Mean Squared Log Error(RMSLE)\n",
    "\n",
    "Taking the log of the RMSE metric slows down the scale of error. The metric is very helpful when you are developing a model without calling the inputs. In that case, the output will vary on a large scale.\n",
    "\n",
    "To control this situation of RMSE we take the log of calculated RMSE error and resultant we get as RMSLE.\n",
    "\n",
    "To perform RMSLE we have to use the NumPy log function over RMSE."
   ]
  },
  {
   "cell_type": "code",
   "execution_count": 7,
   "metadata": {},
   "outputs": [
    {
     "name": "stdout",
     "output_type": "stream",
     "text": [
      "RMSE -0.6847547943474257\n"
     ]
    }
   ],
   "source": [
    "print(\"RMSE\", np.log(np.sqrt(mean_squared_error(y_test,y_pred))))"
   ]
  },
  {
   "cell_type": "markdown",
   "metadata": {},
   "source": [
    "It is a very simple metric that is used by most of the datasets hosted for Machine Learning competitions."
   ]
  },
  {
   "cell_type": "markdown",
   "metadata": {},
   "source": [
    "## R Squared (R2)\n",
    "\n",
    "R2 score is a metric that tells the performance of your model, not the loss in an absolute sense that how many wells did your model perform.\n",
    "\n",
    "In contrast, MAE and MSE depend on the context as we have seen whereas the R2 score is independent of context.\n",
    "\n",
    "So, with help of R squared we have a baseline model to compare a model which none of the other metrics provides. The same we have in classification problems which we call a threshold which is fixed at 0.5. So basically R2 squared calculates how must regression line is better than a mean line.\n",
    "\n",
    "Hence, R2 squared is also known as Coefficient of Determination or sometimes also known as Goodness of fit.\n",
    "\n",
    "$$ R2 Squared = 1 - \\frac{SS_{res}}{SS_{tot}} $$\n",
    "\n",
    "Where:\n",
    "- $SS_{res} = \\sum_{i=1}^{n} (y_{i} - \\hat{y}_{i})^{2}$ = Residual Sum of Squares\n",
    "- $SS_{tot} = \\sum_{i=1}^{n} (y_{i} - \\bar{y})^{2}$ = Total Sum of Squares\n",
    "- $\\bar{y}$ = Mean of the output variable"
   ]
  },
  {
   "attachments": {
    "image.png": {
     "image/png": "[encoded data removed]"
    }
   },
   "cell_type": "markdown",
   "metadata": {},
   "source": [
    "![image.png](attachment:image.png)"
   ]
  },
  {
   "attachments": {
    "image.png": {
     "image/png": "[encoded data removed]"
    }
   },
   "cell_type": "markdown",
   "metadata": {},
   "source": [
    "![image.png](attachment:image.png)"
   ]
  },
  {
   "cell_type": "markdown",
   "metadata": {},
   "source": [
    "The goodness of fit of regression models can be analyzed on the basis of the R-square method. The more the value of the r-square near 1, the better the model is. \n",
    "\n",
    "***Note***: The value of R-square can also be negative when the model fitted is worse than the average fitted model. "
   ]
  },
  {
   "cell_type": "code",
   "execution_count": 8,
   "metadata": {},
   "outputs": [
    {
     "name": "stdout",
     "output_type": "stream",
     "text": [
      "R2 0.5977507107468023\n"
     ]
    }
   ],
   "source": [
    "def r2(y_true, y_pred):\n",
    "    mean_true = np.mean(y_true)\n",
    "    numerator = 0\n",
    "    denominator = 0\n",
    "    for yt, yp in zip(y_true, y_pred):\n",
    "        numerator += (yt - yp)**2\n",
    "        denominator += (yt - mean_true)**2\n",
    "    ratio = numerator / denominator\n",
    "    return 1 - ratio\n",
    "\n",
    "print(\"R2\", r2(y_test, y_pred))"
   ]
  },
  {
   "cell_type": "code",
   "execution_count": 9,
   "metadata": {},
   "outputs": [
    {
     "name": "stdout",
     "output_type": "stream",
     "text": [
      "R2 0.5977507107468023\n"
     ]
    }
   ],
   "source": [
    "from sklearn.metrics import r2_score\n",
    "print(\"R2\", r2_score(y_test,y_pred))"
   ]
  },
  {
   "cell_type": "markdown",
   "metadata": {},
   "source": [
    "## Adjusted R Squared\n",
    "\n",
    "The disadvantage of the R2 score is that while adding new features to the data, the R2 score starts increasing or remains constant but never decreases. This happens because R2 assumes that adding more data increases the variance of the data. The problem arises when irrelevant features are added to the dataset, which can sometimes cause the R2 score to increase incorrectly.\n",
    "\n",
    "To address this issue, Adjusted R-Squared was introduced. Adjusted R-Squared is an updated version of R-squared that takes into account the number of independent variables while calculating R-squared. The main problem with R-squared is that its value always increases with an increase in the number of independent variables, regardless of whether the independent variable is actually contributing to the model. This can lead to a model having high variance if it includes a lot of independent variables.\n",
    "\n",
    "$$ \\text{Adjusted R Squared} = 1 - \\frac{(1 - R^2) * (n - 1)}{(n - k - 1)} $$\n",
    "\n",
    "Where:\n",
    "- $n$ = Total number of observations\n",
    "- $k$ = Total number of independent variables\n",
    "- $R^2$ = R Squared value"
   ]
  },
  {
   "cell_type": "markdown",
   "metadata": {},
   "source": [
    "Now as K increases by adding some features so the denominator will decrease, n-1 will remain constant. R2 score will remain constant or will increase slightly so the complete answer will increase and when we subtract this from one then the resultant score will decrease. so this is the case when we add an irrelevant feature in the dataset.\n",
    "\n",
    "And if we add a relevant feature then the R2 score will increase and 1-R2 will decrease heavily and the denominator will also decrease so the complete term decreases, and on subtracting from one the score increases."
   ]
  },
  {
   "cell_type": "code",
   "execution_count": 10,
   "metadata": {},
   "outputs": [
    {
     "name": "stdout",
     "output_type": "stream",
     "text": [
      "Adj R2 0.5760075059223051\n"
     ]
    }
   ],
   "source": [
    "n = 40\n",
    "k = 2\n",
    "\n",
    "def adj_r2(y_true, y_pred, n, k):\n",
    "    r2 = r2_score(y_true, y_pred)\n",
    "    return 1 - ((1 - r2) * (n - 1) / (n - k - 1))\n",
    "\n",
    "print(\"Adj R2\", adj_r2(y_test, y_pred, n, k))"
   ]
  }
 ],
 "metadata": {
  "kernelspec": {
   "display_name": "base",
   "language": "python",
   "name": "python3"
  },
  "language_info": {
   "codemirror_mode": {
    "name": "ipython",
    "version": 3
   },
   "file_extension": ".py",
   "mimetype": "text/x-python",
   "name": "python",
   "nbconvert_exporter": "python",
   "pygments_lexer": "ipython3",
   "version": "3.11.7"
  }
 },
 "nbformat": 4,
 "nbformat_minor": 2
}
