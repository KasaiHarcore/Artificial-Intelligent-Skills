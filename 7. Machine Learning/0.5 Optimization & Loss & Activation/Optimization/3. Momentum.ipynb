{
 "cells": [
  {
   "cell_type": "markdown",
   "metadata": {},
   "source": [
    "# Gradient Descent with Momentum"
   ]
  },
  {
   "cell_type": "markdown",
   "metadata": {},
   "source": [
    "### Gradients in physics"
   ]
  },
  {
   "cell_type": "markdown",
   "metadata": {},
   "source": [
    "The GD algorithm is often compared to the effect of gravity on a marble placed on a valley-shaped surface like Figure 1a) below. Regardless of whether we place the marble at A or B, it will eventually roll down and end up at position C."
   ]
  },
  {
   "cell_type": "markdown",
   "metadata": {},
   "source": [
    "![momentum](./img/momentum.png)"
   ]
  },
  {
   "cell_type": "markdown",
   "metadata": {},
   "source": [
    "However, if the surface has two valley bottoms as in Figure 1b), then depending on whether the ball is placed at A or B, the final position of the ball will be at C or D. Point D is a local minimum point that we do not want."
   ]
  },
  {
   "cell_type": "markdown",
   "metadata": {},
   "source": [
    "If we think more physically, still in Figure 1b), if the initial velocity of the ball at point B is large enough, when the ball rolls to point D, with momentum, the ball can continue to move up the slope to the left of D. And if we assume the initial velocity is even larger, the ball can go up the slope to point E and then roll down to C as in Figure 1c). This is exactly what we want. Readers may ask whether the ball rolling from A to C follows the momentum to roll to E and then to D. The answer is that this is less likely to happen because compared to slope DE, slope CE is much higher."
   ]
  },
  {
   "cell_type": "markdown",
   "metadata": {},
   "source": [
    "Based on this phenomenon, an algorithm was born to overcome the problem of GD's solution falling at an unwanted local minimum point. That algorithm is called Momentum"
   ]
  },
  {
   "cell_type": "markdown",
   "metadata": {},
   "source": [
    "*Then, how do we represent momentum mathematically?*"
   ]
  },
  {
   "cell_type": "markdown",
   "metadata": {},
   "source": [
    "In GD, we need to calculate the change at time $t$ to update the new position of the solution (i.e the marble). If we consider this quantity as the velocity $v_t$ in physsics, the new position of the marble will be $\\theta_{t + 1} = \\theta_t - v_t$. "
   ]
  },
  {
   "cell_type": "markdown",
   "metadata": {},
   "source": [
    "The minus sign represents moving in the opposite direction of the derivative. Our job now is to calculate the quantity $v_t$ so that it carries both information about **the slope** (i.e. the derivative) and information about **the momentum**, i.e. the previous velocity $v_{t-1}$ (assume that the velocity at time $t = 0$ is $v_0 = 0$). In the simplest way, we can add (weighted) these two quantities together:\n",
    "\n",
    "$$v_t = \\gamma v_{t-1} + \\eta \\nabla J(\\theta_t)$$\n",
    "\n",
    "Where:\n",
    "- $v_t$: the velocity at time $t$\n",
    "- $\\gamma$: the momentum parameter, usually set to 0.9\n",
    "- $v_{t - 1}$: the velocity at time $t - 1$\n",
    "- $\\eta$: the learning rate\n",
    "- $\\nabla J(\\theta_t)$: the gradient of the cost function at time $t$"
   ]
  },
  {
   "cell_type": "markdown",
   "metadata": {},
   "source": [
    "And the update rule for the solution is:\n",
    "$$\\theta_{t + 1} = \\theta_t - v_t$$"
   ]
  },
  {
   "cell_type": "markdown",
   "metadata": {},
   "source": [
    "Small example, Consider this simple function with two local minimum points, and 1 global minimum point:\n",
    "\n",
    "$$f(x) = x^2 + 10\\sin(x)$$\n",
    "\n",
    "Have derivative:\n",
    "\n",
    "$$f'(x) = 2x + 10\\cos(x)$$"
   ]
  },
  {
   "cell_type": "markdown",
   "metadata": {},
   "source": [
    "![No Momentum](./img/no_momentum.gif)"
   ]
  },
  {
   "cell_type": "markdown",
   "metadata": {},
   "source": [
    "The above animation shows the path of the experiment without using the Momentum, algorithm converged after only 5 iterations but the experiment was found to a local minimum."
   ]
  },
  {
   "cell_type": "markdown",
   "metadata": {},
   "source": [
    "![Momentum](./img/momentum.gif)"
   ]
  },
  {
   "cell_type": "markdown",
   "metadata": {},
   "source": [
    "And this one shows the path of the solution when using Momentum, the ball was able to climb the slope to the area near the global minimun point, then oscillate around this point, decelerate and finally reach the goal. Although it takes more iterations, GD with Momentum gives us a more accurate solution. Observing the path of the ball in this case, we see that this is more physics-like!"
   ]
  }
 ],
 "metadata": {
  "language_info": {
   "name": "python"
  }
 },
 "nbformat": 4,
 "nbformat_minor": 2
}
