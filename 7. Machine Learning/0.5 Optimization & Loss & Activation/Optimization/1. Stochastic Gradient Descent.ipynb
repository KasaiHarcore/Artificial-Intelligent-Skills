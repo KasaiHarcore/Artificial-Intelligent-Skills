{
 "cells": [
  {
   "cell_type": "markdown",
   "metadata": {},
   "source": [
    "# Stochastic Gradient Descent"
   ]
  },
  {
   "cell_type": "markdown",
   "metadata": {},
   "source": [
    "Stochastic Gradient Descent (SGD) is a variant of the Gradient Descent algorithm that is used for optimizing machine learning models. It addresses the computational inefficiency of traditional Gradient Descent methods when dealing with large datasets in machine learning projects."
   ]
  },
  {
   "cell_type": "markdown",
   "metadata": {},
   "source": [
    "In SGD, instead of using the **entire dataset** for each iteration, only a ***single random training example (or a small batch)*** is selected to calculate the gradient and update the model parameters. This random selection introduces randomness into the optimization process, hence the term “stochastic” in stochastic Gradient Descent"
   ]
  },
  {
   "cell_type": "markdown",
   "metadata": {},
   "source": [
    "The advantage of using SGD is its computational efficiency, especially when dealing with large datasets. By using a single example or a small batch, the computational cost per iteration is significantly reduced compared to traditional Gradient Descent methods that require processing the entire dataset."
   ]
  },
  {
   "cell_type": "markdown",
   "metadata": {},
   "source": [
    "Update Rule:\n",
    "\n",
    "$$\\theta_{t + 1} = \\theta_t - \\eta \\nabla J(\\theta_t, x_i, y_i)$$\n",
    "\n",
    "Where:\n",
    "- $\\theta_{t}$: Current model parameters\n",
    "- $\\theta_{t + 1}$: Updated model parameters\n",
    "- $\\eta$: Learning rate\n",
    "- $J(\\theta_t, x_i, y_i)$: Loss function for a single data point $(x_i, y_i)$\n",
    "- $\\nabla J(\\theta_t, x_i, y_i)$: Gradient of the loss function with respect to the model parameters"
   ]
  },
  {
   "cell_type": "markdown",
   "metadata": {},
   "source": [
    "This makes SGD faster for large datasets but introduces higher variance in the updates, which can make convergence noisier."
   ]
  }
 ],
 "metadata": {
  "language_info": {
   "name": "python"
  }
 },
 "nbformat": 4,
 "nbformat_minor": 2
}
