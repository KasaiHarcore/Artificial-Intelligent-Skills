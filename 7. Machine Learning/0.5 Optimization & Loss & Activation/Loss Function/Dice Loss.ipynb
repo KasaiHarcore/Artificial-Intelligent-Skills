{
 "cells": [
  {
   "cell_type": "markdown",
   "metadata": {},
   "source": [
    "# Introduction"
   ]
  },
  {
   "cell_type": "markdown",
   "metadata": {},
   "source": [
    "Dice Loss originated from the Dice coefficient, a measure used to gauge the similarity between two sets. It is widely used in image segmentation tasks to evaluate the overlap between predicted and true segmentations."
   ]
  },
  {
   "cell_type": "markdown",
   "metadata": {},
   "source": [
    "Dice Loss directly optimizes the Dice Similarity Coefficient (DSC), which measures the overlap between predicted and ground truth masks. It’s particularly effective for unbalanced datasets, as it focuses more on overlap than class counts."
   ]
  },
  {
   "cell_type": "markdown",
   "metadata": {},
   "source": [
    "**Mathematically**, the Dice coefficient is defined as: (binary segmentation)\n",
    "\n",
    "$$\\text{Dice Loss }(y, \\hat{y}) = 1 - \\frac{2 \\cdot |y \\cap \\hat{y}|}{|y| + |\\hat{y}|}$$\n",
    "\n",
    "where:\n",
    "- $y$ is the ground truth mask\n",
    "- $\\hat{y}$ is the predicted mask"
   ]
  },
  {
   "cell_type": "markdown",
   "metadata": {},
   "source": [
    "# How it works"
   ]
  },
  {
   "cell_type": "markdown",
   "metadata": {},
   "source": [
    "Dice Loss measures the overlap between the predicted segmentation mask and the true mask. The closer the prediction is to the true mask, the higher the overlap, and the lower the Dice Loss. A value of 1 indicates perfect overlap, and a value of 0 indicates no overlap."
   ]
  },
  {
   "cell_type": "markdown",
   "metadata": {},
   "source": [
    "# Pros and Cons"
   ]
  },
  {
   "cell_type": "markdown",
   "metadata": {},
   "source": [
    "Pros:\n",
    "- Robust to class imbalance, focusing on overlap rather than pixel-wise errors.\n",
    "- Directly optimizes the Dice score, which is the metric of interest in many segmentation tasks.\n",
    "- Performs well in medical imaging and segmentation problems where class distributions are highly imbalanced."
   ]
  },
  {
   "cell_type": "markdown",
   "metadata": {},
   "source": [
    "Cons:\n",
    "- Non-differentiable at points, but can be smoothed for optimization.\n",
    "- May be less effective for datasets with balanced classes."
   ]
  },
  {
   "cell_type": "markdown",
   "metadata": {},
   "source": [
    "# Use Cases"
   ]
  },
  {
   "cell_type": "markdown",
   "metadata": {},
   "source": [
    "Best for image segmentation tasks, especially for medical or satellite images where class imbalance is common."
   ]
  }
 ],
 "metadata": {
  "language_info": {
   "name": "python"
  }
 },
 "nbformat": 4,
 "nbformat_minor": 2
}
