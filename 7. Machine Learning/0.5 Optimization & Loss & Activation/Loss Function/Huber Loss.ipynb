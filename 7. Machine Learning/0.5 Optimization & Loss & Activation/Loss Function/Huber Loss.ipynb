{
 "cells": [
  {
   "cell_type": "markdown",
   "metadata": {},
   "source": [
    "# Introduction"
   ]
  },
  {
   "cell_type": "markdown",
   "metadata": {},
   "source": [
    "Huber Loss was introduced to combine the benefits of Mean Squared Error (MSE) and Mean Absolute Error (MAE) in regression tasks. It is robust to outliers, combining the quadratic nature of MSE with the linear nature of MAE."
   ]
  },
  {
   "cell_type": "markdown",
   "metadata": {},
   "source": [
    "Huber Loss behaves like MSE when the error is small but switches to MAE when the error is large. This makes it less sensitive to outliers while retaining the smoothness of MSE for smaller errors."
   ]
  },
  {
   "cell_type": "markdown",
   "metadata": {},
   "source": [
    "**Mathematical Formulation** for a given threshold $\\delta$, the Huber Loss is defined as:\n",
    "\n",
    "$$\\mathcal{L}(y, \\hat{y}) = \\begin{cases}\n",
    "\\frac{1}{2}(y - \\hat{y})^2 & \\text{for } |y - \\hat{y}| \\leq \\delta \\\\\n",
    "\\delta |y - \\hat{y}| - \\frac{1}{2}\\delta^2 & \\text{otherwise}\n",
    "\\end{cases}$$\n",
    "\n",
    "where:\n",
    "- $y$ is the true value\n",
    "- $\\hat{y}$ is the predicted value\n",
    "- $\\delta$ is the threshold"
   ]
  },
  {
   "cell_type": "markdown",
   "metadata": {},
   "source": [
    "# How it works"
   ]
  },
  {
   "cell_type": "markdown",
   "metadata": {},
   "source": [
    "For errors smaller than $\\delta$, the loss behaves like MSE and is quadratic. For errors larger than $\\delta$, the loss switches to MAE, reducing the influence of large outliers by applying a linear penalty."
   ]
  },
  {
   "cell_type": "markdown",
   "metadata": {},
   "source": [
    "**Example**"
   ]
  },
  {
   "cell_type": "markdown",
   "metadata": {},
   "source": [
    "If the error $|y - \\hat{y}|$ is 0.5 and $\\delta$ is 1, the loss is calculated as:\n",
    "\n",
    "$$\\mathcal{L}(y, \\hat{y}) = \\frac{1}{2}(0.5)^2 = 0.125$$"
   ]
  },
  {
   "cell_type": "markdown",
   "metadata": {},
   "source": [
    "If the error $|y - \\hat{y}|$ is 2 and $\\delta$ is 1, the loss is calculated as:\n",
    "\n",
    "$$\\mathcal{L}(y, \\hat{y}) = 1 \\times 2 - \\frac{1}{2} \\times 1^2 = 1.5$$"
   ]
  },
  {
   "cell_type": "markdown",
   "metadata": {},
   "source": [
    "### Pros and Cons"
   ]
  },
  {
   "cell_type": "markdown",
   "metadata": {},
   "source": [
    "Pros:\n",
    "- Combines the benefits of MSE (smooth gradients) and MAE (robustness to outliers).\n",
    "- Effective in regression tasks where both small and large errors occur.\n",
    "- More robust to outliers than MSE."
   ]
  },
  {
   "cell_type": "markdown",
   "metadata": {},
   "source": [
    "Cons:\n",
    "- Requires tuning of the threshold $\\delta$.\n",
    "- May not perform as well as MSE for datasets without outliers."
   ]
  },
  {
   "cell_type": "markdown",
   "metadata": {},
   "source": [
    "# Use cases"
   ]
  },
  {
   "cell_type": "markdown",
   "metadata": {},
   "source": [
    "- Ideal for regression tasks where outliers are present.\n",
    "- Useful when you want the smoothness of MSE but need robustness to large errors."
   ]
  }
 ],
 "metadata": {
  "language_info": {
   "name": "python"
  }
 },
 "nbformat": 4,
 "nbformat_minor": 2
}
