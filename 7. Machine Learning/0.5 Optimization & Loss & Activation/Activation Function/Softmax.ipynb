{
 "cells": [
  {
   "cell_type": "markdown",
   "metadata": {},
   "source": [
    "Before exploring the ins and outs of the ***Softmax*** activation function, we should focus on its building block—the sigmoid/logistic activation function that works on calculating probability values."
   ]
  },
  {
   "cell_type": "markdown",
   "metadata": {},
   "source": [
    "The output of the sigmoid function was in the range of 0 to 1, which can be thought of as probability."
   ]
  },
  {
   "cell_type": "markdown",
   "metadata": {},
   "source": [
    "But this faces a certain problems. Suppose we have multiple output like: $0.8, 0.9, 0.7, 0.8, 0.6, ...$. How can we continue with Sigmoid ?"
   ]
  },
  {
   "cell_type": "markdown",
   "metadata": {},
   "source": [
    "The answer is we cannot. The above values don’t make sense as the sum of all the classes/output probabilities should be equal to 1."
   ]
  },
  {
   "cell_type": "markdown",
   "metadata": {},
   "source": [
    "You see, the Softmax function is described as a combination of multiple sigmoids. "
   ]
  },
  {
   "cell_type": "markdown",
   "metadata": {},
   "source": [
    "It calculates the relative probabilities. Similar to the sigmoid/logistic activation function, the SoftMax function returns the probability of each class. "
   ]
  },
  {
   "cell_type": "markdown",
   "metadata": {},
   "source": [
    "It is most commonly used as an activation function for the last layer of the neural network in the case of multi-class classification. "
   ]
  },
  {
   "cell_type": "markdown",
   "metadata": {},
   "source": [
    "Mathematically it can be represented as:\n",
    "\n"
   ]
  },
  {
   "cell_type": "markdown",
   "metadata": {},
   "source": [
    "$$ S(y_i) = \\frac{e^{y_i}}{\\sum_{j=1}^{n} e^{y_j}} $$"
   ]
  },
  {
   "cell_type": "markdown",
   "metadata": {},
   "source": [
    "Don't worry if I don't provide and help or visualze here, because I will prepare a ML model just for it."
   ]
  }
 ],
 "metadata": {
  "language_info": {
   "name": "python"
  }
 },
 "nbformat": 4,
 "nbformat_minor": 2
}
