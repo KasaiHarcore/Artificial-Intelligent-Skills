{
 "cells": [
  {
   "cell_type": "markdown",
   "metadata": {},
   "source": [
    "# Basic Data Types\n",
    "- Like Python, R has five basic or “atomic” classes of objects:\n",
    "    - character\n",
    "    - numeric (real numbers)\n",
    "    - integer\n",
    "    - complex\n",
    "    - logical (True/False)\n",
    "- The most basic object is a vector, which is a list of elements of a given class."
   ]
  },
  {
   "cell_type": "markdown",
   "metadata": {},
   "source": [
    "# Integers\n",
    "- As you know, integers are whole numbers without decimal points, like 42 and -10.\n",
    "\n",
    "```R\n",
    "# Create a vector of integers\n",
    "x <- c(1L, 2L, 3L, 4L, 5L)\n",
    "x\n",
    "#> [1] 1 2 3 4 5\n",
    "```\n",
    "\n",
    "- The L suffix tells R to store these numbers as integer rather than numeric values. Even zero and negative numbers can be integers.\n",
    "\n",
    "```R\n",
    "# Create a vector of negetive integers\n",
    "x <- c(0L, -1L, -2L, -3L, -4L, -5L)\n",
    "\n",
    "# Check the class of x\n",
    "class(x)\n",
    "#> [1] \"integer\"\n",
    "```"
   ]
  },
  {
   "cell_type": "markdown",
   "metadata": {},
   "source": [
    "# Numeric\n",
    "- Numeric objects are real numbers, like 0.5 and -3.14. They can be written with or without decimal points.\n",
    "\n",
    "```R\n",
    "# Create a vector of numeric values\n",
    "x <- c(1.5, 2.5, 3.5, 4.5, 5.5)\n",
    "x\n",
    "#> [1] 1.5 2.5 3.5 4.5 5.5\n",
    "\n",
    "# Check the class of x\n",
    "class(x)\n",
    "#> [1] \"numeric\"\n",
    "```"
   ]
  },
  {
   "cell_type": "markdown",
   "metadata": {},
   "source": [
    "# Character\n",
    "- Character objects are sequences of characters enclosed in double quotes (\"), single quotes ('), or backticks (``).\n",
    "\n",
    "```R\n",
    "# Create a vector of character values\n",
    "x <- c(\"a\", \"b\", \"c\", \"d\", \"e\")\n",
    "x\n",
    "\n",
    "# Create a sentence\n",
    "x <- \"I am a sentence.\"\n",
    "x\n",
    "\n",
    "# Check the class of x\n",
    "class(x)\n",
    "#> [1] \"character\"\n",
    "```"
   ]
  },
  {
   "cell_type": "markdown",
   "metadata": {},
   "source": [
    "# Logical\n",
    "- Logical objects can only take the values TRUE, FALSE, and NA (a third logical value indicating that a value is missing). This one is the same as Python.\n",
    "\n",
    "```R\n",
    "# Create a vector of logical values\n",
    "x <- c(TRUE, FALSE, TRUE, FALSE, NA)\n",
    "x\n",
    "\n",
    "# We will have:\n",
    "#> [1] 1 0 1 0 NA (base 2) or [1] TRUE FALSE TRUE FALSE NA (base 10)\n",
    "```"
   ]
  },
  {
   "cell_type": "markdown",
   "metadata": {},
   "source": [
    "# Common conversion functions\n",
    "- You can convert between different data types using the following functions:\n",
    "    - as.logical()\n",
    "    - as.integer()\n",
    "    - as.numeric()\n",
    "    - as.character()\n",
    "\n",
    "```R\n",
    "# Convert to logical\n",
    "x <- c(1, 0, 1, 0, NA)\n",
    "as.logical(x)\n",
    "#> [1]  TRUE FALSE  TRUE FALSE    NA\n",
    "\n",
    "# Convert to integer\n",
    "x <- c(TRUE, FALSE, TRUE, FALSE, NA)\n",
    "as.integer(x)\n",
    "#> [1]  1  0  1  0 NA\n",
    "\n",
    "# Convert to numeric\n",
    "x <- c(TRUE, FALSE, TRUE, FALSE, NA)\n",
    "as.numeric(x)\n",
    "#> [1]  1  0  1  0 NA\n",
    "\n",
    "# Convert to character\n",
    "x <- c(1, 0, 1, 0, NA)\n",
    "as.character(x)\n",
    "#> [1] \"1\"    \"0\"    \"1\"    \"0\"    \"NA\"\n",
    "```"
   ]
  },
  {
   "cell_type": "markdown",
   "metadata": {},
   "source": [
    "# Complex and raw\n",
    "- Complex objects are written as a real part and an imaginary part, both of which are numeric values. They are written as a + bi, where a is the real part and b is the imaginary part.\n",
    "- Raw objects are sequences of raw bytes. They are not as commonly used as the other data types.\n",
    "\n",
    "```R\n",
    "# Create a complex object\n",
    "x <- 1 + 0i\n",
    "x\n",
    "\n",
    "# Create a raw object\n",
    "x <- charToRaw(\"Hello World!\")\n",
    "x\n",
    "```"
   ]
  }
 ],
 "metadata": {
  "language_info": {
   "name": "python"
  },
  "orig_nbformat": 4
 },
 "nbformat": 4,
 "nbformat_minor": 2
}
