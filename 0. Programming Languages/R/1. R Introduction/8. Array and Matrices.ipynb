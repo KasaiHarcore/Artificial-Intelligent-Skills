{
 "cells": [
  {
   "cell_type": "markdown",
   "metadata": {},
   "source": [
    "# Arrays\n",
    "- A single or multidimensional structure containing data of the same type (strings, characters, integers, floats, etc.). Arrays can also be **multidimensional**, such as a 2 x 2 x 2 array.\n",
    "\n",
    "```R\n",
    "# Create an array\n",
    "movie_vector <- c(\"Toy Story\", \"Akira\", \"The Breakfast Club\", \"The Artist\", \"Modern Times\")\n",
    "movie_vector <- array(movie_vector, dim = c(2, 3, 2))\n",
    "\n",
    "# [,,1]\n",
    "#      [,1]                  [,2]                  [,3]\n",
    "# [1,] \"Toy Story\"            \"The Breakfast Club\" \"Modern Times\"\n",
    "# [2,] \"Akira\"                \"The Artist\"         \"Toy Story\"\n",
    "#\n",
    "# [,,2]\n",
    "#      [,1]                  [,2]                  [,3]\n",
    "# [1,] \"The Breakfast Club\" \"Modern Times\"        \"Akira\"\n",
    "# [2,] \"The Artist\"         \"Toy Story\"           \"The Breakfast Club\"\n",
    "```\n",
    "\n",
    "## What is the difference between an array and a vector?\n",
    "\n",
    "Vectors are always one dimensional like a single row of data. On the other hand, an array can be multidimensional (stored as rows and columns). The \"dimension\" indicates how many rows of data there are.\n",
    "\n",
    "- Let's see another example:\n",
    "\n",
    "```R\n",
    "movie_array <- array(movie_vector, dim = c(4,3))\n",
    "movie_array\n",
    "\n",
    "#      [,1]                  [,2]                  [,3]\n",
    "# [1,] \"Toy Story\"            \"The Breakfast Club\" \"Modern Times\"\n",
    "# [2,] \"Akira\"                \"The Artist\"         \"Toy Story\"\n",
    "# [3,] \"The Breakfast Club\"   \"Modern Times\"       \"Akira\"\n",
    "# [4,] \"The Artist\"           \"Toy Story\"          \"The Breakfast Club\"\n",
    "```\n",
    "\n",
    "Note that **arrays are created column-wise**. Did you also notice that there were only 9 movie names, but the array was 4 x 3? The original **vector doesn't have enough elements** to fill the entire array (that should have 3 x 4 = 12 elements). So R simply fills rest of the empty values by going back to the beginning of the vector and starting again (\"Akira\", \"Toy story\", \"Room\" in this case)."
   ]
  },
  {
   "cell_type": "markdown",
   "metadata": {},
   "source": [
    "## Accessing Array Elements\n",
    "```R\n",
    "# Accessing Array Elements\n",
    "movie_vector[1, 2, 1] # \"The Breakfast Club\"\n",
    "movie_vector[1, 2, ] # \"The Breakfast Club\" \"Modern Times\"\n",
    "movie_vector[1, , ] # \"Toy Story\" \"The Breakfast Club\" \"Modern Times\"\n",
    "movie_vector[1, , 1] # \"Toy Story\" \"The Breakfast Club\" \"Modern Times\"\n",
    "movie_vector[1, 1, ] # \"Toy Story\" \"The Breakfast Club\" \"Modern Times\"\n",
    "```"
   ]
  },
  {
   "cell_type": "markdown",
   "metadata": {},
   "source": [
    "## Using Logical Operators with Arrays\n",
    "\n",
    "Let's have a look at the following example:\n",
    "\n",
    "```R\n",
    "mask_array <- length_array < 120\n",
    "mask_array\n",
    "\n",
    "x_vector <- c(\"Akira\", \"Toy Story\", \"Room\", \"The Wave\", \"Whiplash\",\n",
    "              \"Star Wars\", \"The Ring\", \"The Artist\", \"Jumanji\")\n",
    "x_array <- array(x_vector, dim = c(3,3))\n",
    "\n",
    "x_array[mask_array] # \"Akira\" \"The Wave\" \"The Ring\" \"The Artist\"\n",
    "```\n",
    "\n",
    "In this example, we created a logical vector called mask_array that contains the value TRUE for every element in length_array that is less than 120. We then used this logical vector to subset x_array. The result is a vector that contains the values of x_array that correspond to the TRUE values in mask_array."
   ]
  },
  {
   "cell_type": "markdown",
   "metadata": {},
   "source": [
    "# Matrices\n",
    "\n",
    "Matrices are a subtype of arrays. A matrix must have 2 dimensions, whereas arrays are more flexible and can have, one, two, or more dimensions.\n",
    "\n",
    "To create a matrix out of a vector , you can use matrix(), which takes in an argument for the vector, an argument for the number of rows and another for the number of column\n",
    "\n",
    "```R\n",
    "# Create a matrix\n",
    "movie_matrix <- matrix(c(\"Toy Story\", \"Akira\", \"The Breakfast Club\", \"The Artist\", \"Modern Times\"), nrow = 2, ncol = 3)\n",
    "\n",
    "#      [,1]                  [,2]                  [,3]\n",
    "# [1,] \"Toy Story\"            \"The Breakfast Club\" \"Modern Times\"\n",
    "# [2,] \"Akira\"                \"The Artist\"         \"Toy Story\"\n",
    "```\n",
    "\n",
    "## Accessing Matrix Elements\n",
    "\n",
    "As with arrays, you can use [row, column] to access elements of a matrix. To retrieve \"Akira\", you should use [1,1] as it lies in the first row and first column.\n",
    "\n",
    "```R\n",
    "# Accessing Matrix Elements\n",
    "movie_matrix[1, 2] # \"The Breakfast Club\"\n",
    "movie_matrix[1, ] # \"Toy Story\" \"The Breakfast Club\" \"Modern Times\"\n",
    "movie_matrix[, 2] # \"The Breakfast Club\" \"The Artist\"\n",
    "movie_matrix[1:2, 1:2] # \"Toy Story\" \"Akira\" \"The Breakfast Club\" \"The Artist\"\n",
    "```"
   ]
  },
  {
   "cell_type": "markdown",
   "metadata": {},
   "source": [
    "## Concatenation function\n",
    "\n",
    "A concatenation function is used to combine two vectors into one vector. It combines values of both vectors.\n",
    "Lets create a new vector for the upcoming movies as a upcoming_movie variable and add them to the movie_vector variable to create a new_vector of movies.\n",
    "\n",
    "```R\n",
    "upcoming_movie <- c(\"Fast and Furious X\", \"xXx: Return of Xander Cage\", \"Suicide Squad\")\n",
    "new_vector <- c(movie_vector, upcoming_movie)\n",
    "new_vector\n",
    "```"
   ]
  }
 ],
 "metadata": {
  "language_info": {
   "name": "python"
  },
  "orig_nbformat": 4
 },
 "nbformat": 4,
 "nbformat_minor": 2
}
