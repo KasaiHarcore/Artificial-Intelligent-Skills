{
 "cells": [
  {
   "cell_type": "markdown",
   "metadata": {},
   "source": [
    "# R Programming\n",
    "\n",
    "R is a computing environment that combines:\n",
    "- a programming language called S, developed by John Chambers at Bell Labs, that implements the idea of programming with data (Chambers 1998),\n",
    "- an extensive set of functions for classical and modern statistical data analysis and modeling,\n",
    "- powerful numerical analysis tools for linear algebra, differential equations, and stochastic,\n",
    "- graphics functions for visualizing data and model output,\n",
    "- a modular and extensible structure that supports a vast array of optional add-on packages, and\n",
    "- extensive help and documentation facilities.\n",
    "\n",
    "R is freely available under the GNU General Public License, and pre-compiled binary versions are provided for various operating systems like Linux, Windows and Mac. It is now managed by a development team that includes a number of well-regarded statisticians, and is widely used by statistical researchers and working scientists as a platform for making new methods available to users.\n",
    "\n",
    "There are a number of graphical front-ends for R. At present, the best of these appears to be RStudio. Before learning about these, however, you should learn a little about R itself."
   ]
  },
  {
   "cell_type": "markdown",
   "metadata": {},
   "source": [
    "# Why R?\n",
    "\n",
    "- R is a full-featured programming language, not just a statistics package.\n",
    "- R is a complete environment for data manipulation, calculation and graphical display.\n",
    "- R is a vectorized language, so it is easy to express vector and matrix operations.\n",
    "- R has a large, coherent, integrated collection of intermediate tools for data analysis.\n",
    "- Have a lot simple and advanced statistical functions like linear and non-linear modeling, classical statistical tests, time-series analysis, classification, clustering, etc."
   ]
  }
 ],
 "metadata": {
  "language_info": {
   "name": "python"
  },
  "orig_nbformat": 4
 },
 "nbformat": 4,
 "nbformat_minor": 2
}
