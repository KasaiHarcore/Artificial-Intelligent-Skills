{
 "cells": [
  {
   "cell_type": "markdown",
   "metadata": {},
   "source": [
    "# R Programming\n",
    "\n",
    "R is a computing environment that combines:\n",
    "- a programming language called S, developed by John Chambers at Bell Labs, that implements the idea of programming with data (Chambers 1994),\n",
    "- an extensive set of functions for classical and modern statistical data analysis and modeling,\n",
    "- powerful numerical analysis tools for linear algebra, differential equations, and stochastic,\n",
    "- graphics functions for visualizing data and model output,\n",
    "- a modular and extensible structure that supports a vast array of optional add-on packages, and\n",
    "- extensive help and documentation facilities.\n",
    "\n",
    "R is freely available under the GNU General Public License, and pre-compiled binary versions are provided for various operating systems like Linux, Windows and Mac. It is now managed by a development team that includes a number of well-regarded statisticians, and is widely used by statistical researchers and working scientists as a platform for making new methods available to users.\n",
    "\n",
    "There are a number of graphical front-ends for R. At present, the best of these appears to be RStudio. Before learning about these, however, you should learn a little about R itself."
   ]
  },
  {
   "cell_type": "markdown",
   "metadata": {},
   "source": [
    "# Why R?\n",
    "\n",
    "### Statistical Computing\n",
    "- R is a complete, interactive, object-oriented language for statistical computing and data visualization. It includes an effective data handling and storage facility, a suite of operators for calculations on arrays, in particular matrices, a large, coherent, integrated collection of intermediate tools for data analysis, graphical facilities for data analysis and display either directly at the computer or on hardcopy, and a well-developed, simple and effective programming language which includes conditionals, loops, user-defined recursive functions and input and output facilities.\n",
    "\n",
    "### Data Sampling\n",
    "- R is a language and environment for statistical computing and graphics. It is a GNU project which is similar to the S language and environment which was developed at Bell Laboratories (formerly AT&T, now Lucent Technologies) by John Chambers and colleagues. R can be considered as a different implementation of S. There are some important differences, but much code written for S runs unaltered under R.\n",
    "\n",
    "### Correlation analysis\n",
    "- R provides a wide variety of statistical (linear and nonlinear modelling, classical statistical tests, time-series analysis, classification, clustering, …) and graphical techniques, and is highly extensible. The S language is often the vehicle of choice for research in statistical methodology, and R provides an Open Source route to participation in that activity.\n",
    "\n",
    "### Hypothesis testing\n",
    "- One of R’s strengths is the ease with which well-designed publication-quality plots can be produced, including mathematical symbols and formulae where needed. Great care has been taken over the defaults for the minor design choices in graphics, but the user retains full control.\n",
    "\n",
    "### Statistical inference\n",
    "- R is available as Free Software under the terms of the Free Software Foundation’s GNU General Public License in source code form. It compiles and runs on a wide variety of UNIX platforms and similar systems (including FreeBSD and Linux), Windows and MacOS.\n",
    "\n",
    "### Data Visualization\n",
    "- The R environment is easily extended (when you know how) through a packaging system on CRAN (Comprehensive R Archive Network) and thousands of packages are available for download. (The current count exceeds 10,000 packages.) R is also highly extensible through the use of user-submitted packages for specific functions or specific areas of study. Due to its S heritage, R has stronger object-oriented programming facilities than most statistical computing languages. Extending R is also eased by its lexical scoping rules.\n",
    "\n",
    "### Predictive modeling\n",
    "- R is an integrated suite of software facilities for data manipulation, calculation and graphical display. It includes\n",
    "    - an effective data handling and storage facility,\n",
    "    - a suite of operators for calculations on arrays, in particular matrices,\n",
    "    - a large, coherent, integrated collection of intermediate tools for data analysis,\n",
    "    - graphical facilities for data analysis and display either on-screen or on hardcopy, and\n",
    "    - a well-developed, simple and effective programming language which includes conditionals, loops, user-defined recursive functions and input and output facilities."
   ]
  },
  {
   "cell_type": "markdown",
   "metadata": {},
   "source": [
    "# Working in the R environment\n",
    "\n",
    "### R Console\n",
    "- The R console is the main area of interaction with R. It is where commands can be typed in and where output will be displayed. The console is also used for displaying graphics produced by R. The console can be used interactively, by typing directly at the command prompt, or it can be used non-interactively, by executing R commands from a script file. The console is also used for displaying graphics produced by R.\n",
    "\n",
    "### RStudio\n",
    "- RStudio is a powerful and productive user interface for R. It’s free and open source, and works great on Windows, Mac, and Linux. RStudio is an integrated development environment (IDE) for R. It includes a console, syntax-highlighting editor that supports direct code execution, as well as tools for plotting, history, debugging and workspace management.\n",
    "\n",
    "### R Commander\n",
    "- The R Commander is a graphical user interface (GUI) to the free, open-source R statistical software. The R Commander is implemented as an R package, the Rcmdr package, which is freely available on CRAN (the Comprehensive R Archive Network). The R Commander is a cross-platform GUI (Graphical User Interface) for R, a free graphical programming environment for statistical computing and graphics which runs on Unix, Windows and Macintosh platforms. The R Commander provides a point-and-click interface to R, enabling useRs to easily conduct statistical analyses.\n",
    "\n",
    "### R Markdown\n",
    "- R Markdown is a file format for making dynamic documents with R. An R Markdown document is written in markdown (an easy-to-write plain text format) and contains chunks of embedded R code, like the document below. R Markdown documents can be rendered to many output formats including HTML documents, PDFs, Word files, slideshows, and more, allowing you to focus on the content while R Markdown takes care of your code. R Markdown documents are fully reproducible and support dozens of static and dynamic output formats.\n",
    "\n",
    "### R Notebooks\n",
    "- R Notebooks are an implementation of Literate Programming that allows for direct interaction with R while producing a reproducible document with publication-quality output. An R Notebook is an R Markdown document with chunks that can be executed independently and interactively, with output visible immediately beneath the input. These documents can be rendered directly to a PDF or HTML document, or to a notebook, which can be shared with others or published.\n"
   ]
  },
  {
   "cell_type": "markdown",
   "metadata": {},
   "source": [
    "- Overall R is an excellent tool for statistical analysis as well as data visualization. It is widely used by statisticians and data miners for developing statistical software and data analysis.\n",
    "\n",
    "- Next we will see how to install R on different operating systems."
   ]
  }
 ],
 "metadata": {
  "language_info": {
   "name": "python"
  },
  "orig_nbformat": 4
 },
 "nbformat": 4,
 "nbformat_minor": 2
}
