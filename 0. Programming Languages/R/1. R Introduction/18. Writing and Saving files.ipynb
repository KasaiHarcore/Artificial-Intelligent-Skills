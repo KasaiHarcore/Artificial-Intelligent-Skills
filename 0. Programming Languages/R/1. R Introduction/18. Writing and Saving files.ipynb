{
 "cells": [
  {
   "cell_type": "markdown",
   "metadata": {},
   "source": [
    "# Writing and Saving files\n",
    "\n",
    "## Exporting as txt file\n",
    "Simple structures like strings and matrices can easily be saved in a text file. In order to save this matrix to a file, we’re going to make use of the `write` function. The `file` argument is simply the target file that we’re going to save the data to.\n",
    "\n",
    "```R\n",
    "m <- matrix(c(1,2,3,4,5,6), nrow=2, ncol=3)\n",
    "\n",
    "# [1,]    1    3    5\n",
    "# [2,]    2    4    6\n",
    "\n",
    "write(m, file=\"matrix.txt\", ncolumns=3, sep=\" \")\n",
    "```\n",
    "\n",
    "## Exporting as csv file\n",
    "\n",
    "```R\n",
    "write.csv(m, file=\"matrix.csv\")\n",
    "```"
   ]
  }
 ],
 "metadata": {
  "language_info": {
   "name": "python"
  },
  "orig_nbformat": 4
 },
 "nbformat": 4,
 "nbformat_minor": 2
}
