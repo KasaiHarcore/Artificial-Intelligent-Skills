{
 "cells": [
  {
   "cell_type": "markdown",
   "metadata": {},
   "source": [
    "# Reading file\n",
    "\n",
    "A common file format for structured data is CSV, which stands for comma separated values. CSV files store the data in a table format, and in each row, every column value is separated by a delimiter. As the name would suggest, this delimiter is traditionally a comma. In order to read a CSV data file, all we need to do is call the “read.csv” function while passing in the path to the file. The function will return a DataFrame object, which we can then manipulate as we please.\n",
    "\n",
    "```R\n",
    "# Reading file\n",
    "df <- read.csv(\"data.csv\")\n",
    "```\n",
    "\n",
    "- We can read Excel file too, thing that pandas in Python can't do.\n",
    "\n",
    "```R\n",
    "install.packages(\"readxl\")\n",
    "library(readxl)\n",
    "df <- read_excel(\"data.xlsx\")\n",
    "```\n",
    "\n",
    "To accessing the data, we can use the `head()` function to see the first 6 rows of the data frame, or `tail()` to see the last 6 rows. Like pandas, we can use `df.info()` to see the data type of each column and the number of non-null values.\n",
    "\n",
    "```R\n",
    "# Some basic functions\n",
    "df['name']\n",
    "\n",
    "df[1:3,]\n",
    "\n",
    "df[1:3, 1:2]\n",
    "\n",
    "df[1:3, c(\"name\", \"age\")]\n",
    "\n",
    "df[1:3, c(1, 2)]\n",
    "\n",
    "df[1:3, c(TRUE, FALSE, TRUE, FALSE, FALSE)]\n",
    "```"
   ]
  }
 ],
 "metadata": {
  "language_info": {
   "name": "python"
  },
  "orig_nbformat": 4
 },
 "nbformat": 4,
 "nbformat_minor": 2
}
