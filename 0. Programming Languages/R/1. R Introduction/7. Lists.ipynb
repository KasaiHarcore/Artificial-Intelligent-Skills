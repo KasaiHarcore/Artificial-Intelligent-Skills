{
 "cells": [
  {
   "cell_type": "markdown",
   "metadata": {},
   "source": [
    "# Lists\n",
    "\n",
    "In R, a list is a collection of objects, similar to a vector. But unlike a vector, the elements inside of a list can differ in terms of data type. For example, a list can contain a vector, a function, and a data frame. Lists are also different from vectors in that they are not constrained to a single dimension. A list can be nested inside of another list, and so on."
   ]
  },
  {
   "cell_type": "markdown",
   "metadata": {},
   "source": [
    "```R\n",
    "# Create a list\n",
    "my_list <- list(1, 2, 3, \"a\", \"b\", \"c\", TRUE, FALSE)\n",
    "\n",
    "# [1] 1 2 3 \"a\" \"b\" \"c\" TRUE FALSE\n",
    "```"
   ]
  },
  {
   "cell_type": "markdown",
   "metadata": {},
   "source": [
    "## Accessing items in a list\n",
    "\n",
    "```R\n",
    "# Access the first element of my_list\n",
    "my_list[[1]]\n",
    "\n",
    "# [1] 1\n",
    "\n",
    "# Access a range of elements\n",
    "my_list[1:3]\n",
    "\n",
    "# [[1]]\n",
    "# [1] 1\n",
    "\n",
    "# [[2]]\n",
    "# [1] 2\n",
    "\n",
    "# [[3]]\n",
    "# [1] 3\n",
    "\n",
    "# Access the last element\n",
    "my_list[[length(my_list)]]\n",
    "\n",
    "# [1] FALSE\n",
    "```"
   ]
  },
  {
   "cell_type": "markdown",
   "metadata": {},
   "source": [
    "You can also provide each of the individual variables with a name. This improves the list’s organization and makes everything a bit easier to read. In order to access a list element by name, you can use the “dollar sign” symbol, followed by the name of the element you want to access.\n",
    "\n",
    "```R\n",
    "# Create a list with named elements\n",
    "my_list <- list(a = 1, b = 2, c = 3, d = \"a\", e = \"b\", f = \"c\", g = TRUE, h = c(FALSE, TRUE))\n",
    "\n",
    "# Access the element named \"a\"\n",
    "my_list[[\"a\"]]\n",
    "# [1] 1\n",
    "\n",
    "# Access the element named \"g\"\n",
    "my_list[[\"g\"]]\n",
    "# [1] TRUE\n",
    "\n",
    "# Access the element named \"h\"\n",
    "my_list$h # This equal to my_list[[\"h\"]]\n",
    "# [1] FALSE TRUE\n",
    "```"
   ]
  },
  {
   "cell_type": "markdown",
   "metadata": {},
   "source": [
    "## Adding elements to a list\n",
    "\n",
    "```R\n",
    "# Add a new element to my_list\n",
    "my_list[[\"i\"]] <- 4\n",
    "\n",
    "# [1] 1 2 3 \"a\" \"b\" \"c\" TRUE FALSE 4\n",
    "```\n",
    "\n",
    "## Removing elements from a list\n",
    "\n",
    "```R\n",
    "# Remove the element named \"i\"\n",
    "my_list[[\"i\"]] <- NULL\n",
    "\n",
    "# [1] 1 2 3 \"a\" \"b\" \"c\" TRUE FALSE\n",
    "```\n",
    "\n",
    "## Nested lists\n",
    "\n",
    "```R\n",
    "# Create a nested list\n",
    "nested_list <- list(a = 1, b = 2, c = list(d = 3, e = 4))\n",
    "\n",
    "# Access the element named \"d\"\n",
    "nested_list[[\"c\"]][[\"d\"]]\n",
    "# [1] 3\n",
    "\n",
    "# Access the element named \"e\"\n",
    "nested_list[[\"c\"]][[\"e\"]]\n",
    "\n",
    "# [1] 4\n",
    "```\n",
    "\n",
    "## Modify elements in a list\n",
    "\n",
    "```R\n",
    "# Modify the element named \"a\"\n",
    "my_list[[\"a\"]] <- 5\n",
    "\n",
    "# [1] 5 2 3 \"a\" \"b\" \"c\" TRUE FALSE\n",
    "```"
   ]
  }
 ],
 "metadata": {
  "language_info": {
   "name": "python"
  },
  "orig_nbformat": 4
 },
 "nbformat": 4,
 "nbformat_minor": 2
}
