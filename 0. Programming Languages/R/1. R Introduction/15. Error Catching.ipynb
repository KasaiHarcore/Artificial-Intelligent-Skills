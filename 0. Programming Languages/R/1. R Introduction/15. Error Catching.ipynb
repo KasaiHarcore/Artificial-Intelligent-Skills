{
 "cells": [
  {
   "cell_type": "markdown",
   "metadata": {},
   "source": [
    "# Error Catching\n",
    "\n",
    "If you try to perform an invalid operation, R will alert you with the appropriate error message. Consider the piece of code here:\n",
    "\n",
    "```R\n",
    "\"a\" + 10\n",
    "\n",
    "# Error in \"a\" + 10 : non-numeric argument to binary operator\n",
    "```\n",
    "\n",
    "Notice that we’re trying to add a character type and a number together. When run, we see in the error output that one of the arguments is non-numeric.\n",
    "\n",
    "Or when it running in a loop like this:\n",
    "\n",
    "```R\n",
    "for (i in 1:10) {\n",
    "  print(i + a)\n",
    "  if (i == 5) {\n",
    "    stop(\"Error: i is equal to 5\")\n",
    "  }\n",
    "}\n",
    "\n",
    "# [1] 1\n",
    "# [1] 2\n",
    "# [1] 3\n",
    "# [1] 4\n",
    "# Error: i is equal to 5\n",
    "```\n",
    "\n",
    "if you look at this code, you’ll see that we have a for loop that, under normal circumstances, would run three times. But when the error is encountered, the error message is output and the code stops immediately. The previous two examples were simple, but these errors can often be difficult to locate in a large body of code."
   ]
  }
 ],
 "metadata": {
  "language_info": {
   "name": "python"
  },
  "orig_nbformat": 4
 },
 "nbformat": 4,
 "nbformat_minor": 2
}
