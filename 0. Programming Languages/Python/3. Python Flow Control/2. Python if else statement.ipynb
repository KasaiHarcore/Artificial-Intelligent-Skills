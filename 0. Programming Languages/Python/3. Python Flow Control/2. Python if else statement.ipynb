{
 "cells": [
  {
   "cell_type": "markdown",
   "metadata": {},
   "source": [
    "# Python `if-else` statement\n",
    "\n",
    "It is likely that we will want the program to do something even when an **[if statement](https://github.com/milaan9/03_Python_Flow_Control/blob/main/001_Python_if_statement.ipynb)** **evaluates to false**. In our grade example of previous tutorial, we will want output whether the grade is passing or failing."
   ]
  },
  {
   "cell_type": "code",
   "execution_count": 1,
   "metadata": {
    "ExecuteTime": {
     "end_time": "2021-10-04T07:16:58.412652Z",
     "start_time": "2021-10-04T07:16:58.381404Z"
    },
    "scrolled": true
   },
   "outputs": [
    {
     "name": "stdout",
     "output_type": "stream",
     "text": [
      "Case 2\n"
     ]
    }
   ],
   "source": [
    "x = 1\n",
    "\n",
    "if x > 3:\n",
    "    print (\"Case 1\")\n",
    "if x <= 3:\n",
    "    print (\"Case 2\")"
   ]
  },
  {
   "cell_type": "markdown",
   "metadata": {},
   "source": [
    "The **`if-else`** statement checks the condition and executes the **`if`** block of code when the condition is **`True`**, and **`if`** the condition is **`False`**, it will execute the **`else`** block of code."
   ]
  },
  {
   "cell_type": "markdown",
   "metadata": {},
   "source": [
    "### Syntax :\n",
    "\n",
    "```python\n",
    "if condition:\n",
    "    statement 1\n",
    "else:\n",
    "    statement 2\n",
    "```\n",
    "\n",
    "1. The **`if..else`** statement evaluates **`condition`** and will execute the body of **`if`** only when the test condition is **`True`**.\n",
    "\n",
    "2. If the condition is **`False`**, the body of **`else`** is executed. Indentation is used to separate the blocks.\n",
    "\n",
    "<div>\n",
    "<img src=\"img/ife0.png\" width=\"300\"/>\n",
    "</div>\n",
    "\n",
    "To do this, we will add an else statement to the grade condition above that is constructed like this:\n",
    "\n",
    "```python\n",
    ">>> grade = 60   \n",
    ">>> if grade >= 65:\n",
    ">>>     print(\"Passing grade\")\n",
    ">>> else:\n",
    ">>>     print(\"Failing grade\")\n",
    "\n",
    "Failing grade\n",
    "```\n",
    "\n",
    "Since the grade variable above has the value of 60, the if statement evaluates as false, so the program will not print out Passing grade. The else statement that follows tells the program to do **something anyway**.\n",
    "\n",
    "If we then rewrite the program to give the grade a value of 65 or higher, we will instead receive the output Passing grade."
   ]
  },
  {
   "cell_type": "code",
   "execution_count": 2,
   "metadata": {
    "ExecuteTime": {
     "end_time": "2021-10-04T07:16:58.535698Z",
     "start_time": "2021-10-04T07:16:58.415580Z"
    }
   },
   "outputs": [
    {
     "name": "stdout",
     "output_type": "stream",
     "text": [
      "Failing grade\n"
     ]
    }
   ],
   "source": [
    "# Example 1:\n",
    "\n",
    "grade = 60\n",
    "    \n",
    "if grade >= 65:\n",
    "    print(\"Passing grade\")\n",
    "else:\n",
    "    print(\"Failing grade\")"
   ]
  },
  {
   "cell_type": "code",
   "execution_count": 3,
   "metadata": {
    "ExecuteTime": {
     "end_time": "2021-10-04T07:16:58.644099Z",
     "start_time": "2021-10-04T07:16:58.540581Z"
    }
   },
   "outputs": [
    {
     "name": "stdout",
     "output_type": "stream",
     "text": [
      "Positive or Zero\n"
     ]
    }
   ],
   "source": [
    "# Example 2: Program checks if the number is positive or negative and displays an appropriate message\n",
    "\n",
    "num = 3\n",
    "\n",
    "# Try these two variations as well. \n",
    "# num = -5\n",
    "# num = 0\n",
    "\n",
    "if num >= 0:\n",
    "    print(\"Positive or Zero\")\n",
    "else:\n",
    "    print(\"Negative number\")"
   ]
  },
  {
   "cell_type": "markdown",
   "metadata": {},
   "source": [
    "**Explanation**\n",
    "\n",
    "In the above example, when **`num`** is equal to 3, the test expression is true and the body of **`if`** is executed and the **`body`** of else is skipped.\n",
    "\n",
    "If **`num`** is equal to -5, the test expression is false and the body of **`else`** is executed and the body of **`if`** is skipped.\n",
    "\n",
    "If **`num`** is equal to 0, the test expression is true and body of **`if`** is executed and **`body`** of else is skipped."
   ]
  },
  {
   "cell_type": "code",
   "execution_count": 4,
   "metadata": {
    "ExecuteTime": {
     "end_time": "2021-10-04T07:16:58.659725Z",
     "start_time": "2021-10-04T07:16:58.648003Z"
    }
   },
   "outputs": [
    {
     "name": "stdout",
     "output_type": "stream",
     "text": [
      "num2 is less than num1\n"
     ]
    }
   ],
   "source": [
    "# Example 3: program to check if a num1 is less than num2\n",
    "\n",
    "num1, num2 = 6, 5\n",
    "if (num1 < num2):\n",
    "    print(\"num1 is less than num2\")\n",
    "else:\n",
    "    print(\"num2 is less than num1\")"
   ]
  },
  {
   "cell_type": "code",
   "execution_count": 5,
   "metadata": {
    "ExecuteTime": {
     "end_time": "2021-10-04T07:16:58.798390Z",
     "start_time": "2021-10-04T07:16:58.662651Z"
    }
   },
   "outputs": [
    {
     "name": "stdout",
     "output_type": "stream",
     "text": [
      "Correct password\n",
      "Incorrect Password\n"
     ]
    }
   ],
   "source": [
    "# Example 4:\n",
    "\n",
    "def password_check(password):\n",
    "    if password == \"Python@99>\":\n",
    "        print(\"Correct password\")\n",
    "    else:\n",
    "        print(\"Incorrect Password\")\n",
    "\n",
    "password_check(\"Python@99>\")\n",
    "# Output Correct password\n",
    "\n",
    "password_check(\"Python99\")\n",
    "# Output Incorrect Password"
   ]
  },
  {
   "cell_type": "markdown",
   "metadata": {},
   "source": [
    "### Shortcut of `if else` (Short Hand if ... else or One line `if else`)\n",
    "\n",
    "If you have **only one statement each for if and else, then they can be put in the same line**. This can be done as shown below"
   ]
  },
  {
   "cell_type": "code",
   "execution_count": 6,
   "metadata": {
    "ExecuteTime": {
     "end_time": "2021-10-04T07:16:58.920462Z",
     "start_time": "2021-10-04T07:16:58.806208Z"
    }
   },
   "outputs": [
    {
     "name": "stdout",
     "output_type": "stream",
     "text": [
      "Feed the bear now!\n"
     ]
    }
   ],
   "source": [
    "hungry = True\n",
    "x = 'Feed the bear now!' if hungry else 'Do not feed the bear.'\n",
    "print(x)"
   ]
  },
  {
   "cell_type": "code",
   "execution_count": 7,
   "metadata": {
    "ExecuteTime": {
     "end_time": "2021-10-04T07:16:59.059135Z",
     "start_time": "2021-10-04T07:16:58.931207Z"
    }
   },
   "outputs": [
    {
     "name": "stdout",
     "output_type": "stream",
     "text": [
      "A is positive\n"
     ]
    }
   ],
   "source": [
    "a = 3\n",
    "print('A is positive') if a > 0 else print('A is negative') # first condition met, 'A is positive' will be printed"
   ]
  },
  {
   "cell_type": "code",
   "execution_count": 8,
   "metadata": {
    "ExecuteTime": {
     "end_time": "2021-10-04T07:16:59.183158Z",
     "start_time": "2021-10-04T07:16:59.070854Z"
    }
   },
   "outputs": [
    {
     "name": "stdout",
     "output_type": "stream",
     "text": [
      "num2 is less than num1\n"
     ]
    }
   ],
   "source": [
    "num1, num2 = 6, 5\n",
    "print(\"num1 is less than num2\") if (num1 < num2) else print(\"num2 is less than num1\")"
   ]
  },
  {
   "cell_type": "code",
   "execution_count": 9,
   "metadata": {
    "ExecuteTime": {
     "end_time": "2021-10-04T07:16:59.325248Z",
     "start_time": "2021-10-04T07:16:59.189017Z"
    }
   },
   "outputs": [
    {
     "name": "stdout",
     "output_type": "stream",
     "text": [
      "positive\n"
     ]
    }
   ],
   "source": [
    "number = 96\n",
    "if number > 0: print(\"positive\") \n",
    "else: print(\"negative\")"
   ]
  },
  {
   "cell_type": "code",
   "execution_count": 10,
   "metadata": {
    "ExecuteTime": {
     "end_time": "2021-10-04T07:16:59.429251Z",
     "start_time": "2021-10-04T07:16:59.328177Z"
    }
   },
   "outputs": [
    {
     "name": "stdout",
     "output_type": "stream",
     "text": [
      "world\n"
     ]
    }
   ],
   "source": [
    "x = 12\n",
    "if 10 < x < 11:\n",
    "    print(\"hello\")\n",
    "else:\n",
    "    print(\"world\")"
   ]
  },
  {
   "cell_type": "code",
   "execution_count": 11,
   "metadata": {
    "ExecuteTime": {
     "end_time": "2021-10-04T07:16:59.538139Z",
     "start_time": "2021-10-04T07:16:59.437065Z"
    }
   },
   "outputs": [
    {
     "name": "stdout",
     "output_type": "stream",
     "text": [
      "Case 2\n"
     ]
    }
   ],
   "source": [
    "'''\n",
    "x = 1\n",
    "\n",
    "if x > 3:\n",
    "    print (\"Case 1\")\n",
    "if x <= 3:\n",
    "    print (\"Case 2\")\n",
    "'''\n",
    "\n",
    "x = 1\n",
    "\n",
    "if x > 3:\n",
    "    print (\"Case 1\")\n",
    "else:\n",
    "    print (\"Case 2\")"
   ]
  },
  {
   "cell_type": "code",
   "execution_count": 12,
   "metadata": {
    "ExecuteTime": {
     "end_time": "2021-10-04T07:16:59.660693Z",
     "start_time": "2021-10-04T07:16:59.542045Z"
    }
   },
   "outputs": [
    {
     "name": "stdout",
     "output_type": "stream",
     "text": [
      "Incorrect\n"
     ]
    }
   ],
   "source": [
    "x = 2\n",
    "\n",
    "if x > 4:\n",
    "    print (\"Correct\")\n",
    "else:\n",
    "    print(\"Incorrect\")"
   ]
  },
  {
   "cell_type": "markdown",
   "metadata": {},
   "source": [
    "### The difference....\n",
    "\n",
    "Now, let us try to execute the same above discussed code with different input values."
   ]
  },
  {
   "cell_type": "code",
   "execution_count": 13,
   "metadata": {
    "ExecuteTime": {
     "end_time": "2021-10-04T07:16:59.814505Z",
     "start_time": "2021-10-04T07:16:59.664116Z"
    }
   },
   "outputs": [
    {
     "name": "stdout",
     "output_type": "stream",
     "text": [
      "num2 is less than num1\n"
     ]
    },
    {
     "data": {
      "text/plain": [
       "'\\nOutput: num2 is lesser than num1\\n'"
      ]
     },
     "execution_count": 13,
     "metadata": {},
     "output_type": "execute_result"
    }
   ],
   "source": [
    "#program to check if num1 is less than num2\n",
    "\n",
    "num1, num2 = 5, 5\n",
    "if (num1 < num2):\n",
    "    print(\"num1 is less than num2\")\n",
    "else:\n",
    "    print(\"num2 is less than num1\")\n",
    "\n",
    "'''\n",
    "Output: num2 is lesser than num1\n",
    "'''"
   ]
  },
  {
   "cell_type": "markdown",
   "metadata": {},
   "source": [
    "**Explanation:**\n",
    "\n",
    "* **Why was the output wrong?**\n",
    "\n",
    "Since both the input values are equal, the condition **`num1<num2`** is **`False`**. So immediately the control shifts to else block and the print statement inside it gets executed. However, this is not logically correct as both the input values are equal (5 = 5).\n",
    "\n",
    "\n",
    "*  **How to rectify this?**\n",
    "\n",
    "Your program should logically include every possible test case and only then your program will produce accurate results. So this mean **you need to add another conditional statement to check if num1 is equal to num 2**. Let us now see how this can be done."
   ]
  },
  {
   "cell_type": "markdown",
   "metadata": {},
   "source": [
    "## 💻 Exercises  ➞ <span class='label label-default'>List</span>\n",
    "\n",
    "1.  Get user input using **`input(“Enter your age: ”)`**. If user is 18 or older, give feedback: **`You are old enough to drive`**. If below 18 give feedback to **`wait for the missing amount of years`**. \n",
    "\n",
    "Output:\n",
    "\n",
    "```py\n",
    "    Enter your age: 30\n",
    "    You are old enough to learn to drive.\n",
    "    Output:\n",
    "    Enter your age: 15\n",
    "    You need 3 more years to learn to drive.\n",
    "```\n",
    "\n",
    "2.  Compare the values of my_age and your_age using **`if-else`**. Who is older (me or you)? Use **`input(“Enter your age: ”)`** to get the age as input. You can use a nested condition to print **`'year'`** for 1 year difference in age, **`'years'`** for bigger differences, and a custom text if **`my_age = your_age`**. \n",
    "\n",
    "Output:\n",
    "\n",
    "```py\n",
    "    Enter your age: 30\n",
    "    You are 5 years older than me.\n",
    "```"
   ]
  }
 ],
 "metadata": {
  "hide_input": false,
  "kernelspec": {
   "display_name": "Python 3",
   "language": "python",
   "name": "python3"
  },
  "language_info": {
   "codemirror_mode": {
    "name": "ipython",
    "version": 3
   },
   "file_extension": ".py",
   "mimetype": "text/x-python",
   "name": "python",
   "nbconvert_exporter": "python",
   "pygments_lexer": "ipython3",
   "version": "3.8.8"
  },
  "toc": {
   "base_numbering": 1,
   "nav_menu": {},
   "number_sections": true,
   "sideBar": true,
   "skip_h1_title": false,
   "title_cell": "Table of Contents",
   "title_sidebar": "Contents",
   "toc_cell": false,
   "toc_position": {},
   "toc_section_display": true,
   "toc_window_display": false
  },
  "varInspector": {
   "cols": {
    "lenName": 16,
    "lenType": 16,
    "lenVar": 40
   },
   "kernels_config": {
    "python": {
     "delete_cmd_postfix": "",
     "delete_cmd_prefix": "del ",
     "library": "var_list.py",
     "varRefreshCmd": "print(var_dic_list())"
    },
    "r": {
     "delete_cmd_postfix": ") ",
     "delete_cmd_prefix": "rm(",
     "library": "var_list.r",
     "varRefreshCmd": "cat(var_dic_list()) "
    }
   },
   "types_to_exclude": [
    "module",
    "function",
    "builtin_function_or_method",
    "instance",
    "_Feature"
   ],
   "window_display": false
  }
 },
 "nbformat": 4,
 "nbformat_minor": 2
}
