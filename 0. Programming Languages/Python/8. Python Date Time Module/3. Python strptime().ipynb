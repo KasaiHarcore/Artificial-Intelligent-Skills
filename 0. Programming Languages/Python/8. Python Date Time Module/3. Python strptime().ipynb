{
 "cells": [
  {
   "cell_type": "markdown",
   "metadata": {},
   "source": [
    "<small><small><i>\n",
    "All the IPython Notebooks in **Python Date Time Module** lecture series by Dr. Milaan Parmar are available @ **[GitHub](https://github.com/milaan9/08_Python_Date_Time_Module)**\n",
    "</i></small></small>"
   ]
  },
  {
   "cell_type": "markdown",
   "metadata": {},
   "source": [
    "# Python `strptime()`\n",
    "\n",
    "In this class, you will learn to create a datetime object from a string (with the help of examples).\n",
    "\n",
    "The **`strptime()`** method creates a **[datetime (@ Example 9)](https://github.com/milaan9/08_Python_Date_Time_Module/blob/main/001_Python_datetime_Module.ipynb)** object from the given string.\n",
    "\n",
    ">**Note:** You cannot create **`datetime`** object from every string. The string needs to be in a certain format."
   ]
  },
  {
   "cell_type": "markdown",
   "metadata": {},
   "source": [
    "### Example 1: string to datetime object"
   ]
  },
  {
   "cell_type": "code",
   "execution_count": 1,
   "metadata": {
    "ExecuteTime": {
     "end_time": "2021-06-22T13:01:34.579558Z",
     "start_time": "2021-06-22T13:01:34.555147Z"
    }
   },
   "outputs": [
    {
     "name": "stdout",
     "output_type": "stream",
     "text": [
      "date_string = 21 June, 2018\n",
      "type of date_string = <class 'str'>\n",
      "date_object = 2018-06-21 00:00:00\n",
      "type of date_object = <class 'datetime.datetime'>\n"
     ]
    }
   ],
   "source": [
    "# Example 1: string to datetime object\n",
    "\n",
    "from datetime import datetime\n",
    "\n",
    "date_string = \"21 June, 2018\"\n",
    "\n",
    "print(\"date_string =\", date_string)\n",
    "print(\"type of date_string =\", type(date_string))\n",
    "\n",
    "date_object = datetime.strptime(date_string, \"%d %B, %Y\")\n",
    "\n",
    "print(\"date_object =\", date_object)\n",
    "print(\"type of date_object =\", type(date_object))\n",
    "\n",
    "# When you run the program, the output will be something like below:"
   ]
  },
  {
   "cell_type": "markdown",
   "metadata": {},
   "source": [
    "### How `strptime()` works?\n",
    "\n",
    "The **`strftime()`** class method takes two arguments:\n",
    "\n",
    "1. string (that be converted to datetime)\n",
    "2. format code\n",
    "\n",
    "Based on the string and format code used, the method returns its equivalent **`datetime`** object.\n",
    "\n",
    "In the above example:\n",
    "\n",
    "<div>\n",
    "<img src=\"img/strpt.png\" width=\"450\"/>\n",
    "</div>\n",
    "\n",
    "Here,\n",
    "\n",
    "* **`%d`** - Represents the day of the month. **Example:** 01, 02, ..., 31\n",
    "* **`%B`** - Month's name in full. **Example:** January, February etc.\n",
    "* **`%Y`** - Year in four digits. **Example:** 2018, 2019 etc."
   ]
  },
  {
   "cell_type": "markdown",
   "metadata": {},
   "source": [
    "### Example 2: string to datetime object"
   ]
  },
  {
   "cell_type": "code",
   "execution_count": 2,
   "metadata": {
    "ExecuteTime": {
     "end_time": "2021-06-22T13:01:37.969183Z",
     "start_time": "2021-06-22T13:01:37.955508Z"
    }
   },
   "outputs": [
    {
     "name": "stdout",
     "output_type": "stream",
     "text": [
      "dt_object1 = 2018-11-12 09:15:32\n",
      "dt_object2 = 2018-12-11 09:15:32\n"
     ]
    }
   ],
   "source": [
    "# Example 2: string to datetime object\n",
    "\n",
    "from datetime import datetime\n",
    "\n",
    "dt_string = \"12/11/2018 09:15:32\"\n",
    "\n",
    "# Considering date is in dd/mm/yyyy format\n",
    "dt_object1 = datetime.strptime(dt_string, \"%d/%m/%Y %H:%M:%S\")\n",
    "print(\"dt_object1 =\", dt_object1)\n",
    "\n",
    "# Considering date is in mm/dd/yyyy format\n",
    "dt_object2 = datetime.strptime(dt_string, \"%m/%d/%Y %H:%M:%S\")\n",
    "print(\"dt_object2 =\", dt_object2)\n",
    "\n",
    "# When you run the program, the output will be something like below:"
   ]
  },
  {
   "cell_type": "markdown",
   "metadata": {
    "cell_style": "center"
   },
   "source": [
    "## Format Code List\n",
    "\n",
    "The table below shows all the codes that you can pass to the **`strptime()`** method.\n",
    "\n",
    "| Directive | Meaning | Example |\n",
    "|:----: |:---- |:---- |\n",
    "| **`%a`**  | **Abbreviated weekday name.**   | **Sun, Mon, ...** |  \n",
    "| **`%A`**  | **Full weekday name.**   | **Sunday, Monday, ...** |  \n",
    "| **`%w`**  | **Weekday as a decimal number.**   | **0, 1, ..., 6** |  \n",
    "| **`%d`**  | **Day of the month as a zero-padded decimal.**   | **01, 02, ..., 31** |  \n",
    "| **`%-d`** | **Day of the month as a decimal number.**   | **1, 2, ..., 30** |  \n",
    "| **`%b`**  | **Abbreviated month name.**   | **Jan, Feb, ..., Dec** |  \n",
    "| **`%B`**  | **Full month name.**   | **January, February, ...** |  \n",
    "| **`%m`**  | **Month as a zero-padded decimal number.**   | **01, 02, ..., 12** |  \n",
    "| **`%-m`** | **Month as a decimal number.**   | **1, 2, ..., 12** |  \n",
    "| **`%y`**  | **Year without century as a zero-padded decimal number.**   | **00, 01, ..., 99** |  \n",
    "| **`%-y`** | **Year without century as a decimal number.**   | **0, 1, ..., 99** |  \n",
    "| **`%Y`**  | **Year with century as a decimal number.**   | **2013, 2019 etc.** |  \n",
    "| **`%H`**  | **Hour (24-hour clock) as a zero-padded decimal number.**   | **00, 01, ..., 23** |  \n",
    "| **`%-H`** | **Hour (24-hour clock) as a decimal number.**   | **0, 1, ..., 23** |  \n",
    "| **`%I`**  | **Hour (12-hour clock) as a zero-padded decimal number.**   | **01, 02, ..., 12** |  \n",
    "| **`%-I`** | **Hour (12-hour clock) as a decimal number.**   | **1, 2, ... 12** |  \n",
    "| **`%p`**  | **Locale’s AM or PM.**   | **AM, PM** |  \n",
    "| **`%M`**  | **Minute as a zero-padded decimal number.**   | **00, 01, ..., 59** |  \n",
    "| **`%-M`** | **Minute as a decimal number.**   | **0, 1, ..., 59** |  \n",
    "| **`%S`**  | **Second as a zero-padded decimal number.**   | **00, 01, ..., 59** |  \n",
    "| **`%-S`** | **Second as a decimal number.**   | **0, 1, ..., 59** |  \n",
    "| **`%f`**  | **Microsecond as a decimal number, zero-padded on the left.**   | **000000 - 999999** |  \n",
    "| **`%z`**  | **UTC offset in the form +HHMM or -HHMM.**   |  |  \n",
    "| **`%Z`**  | **Time zone name.**   |  |  \n",
    "| **`%j`**  | **Day of the year as a zero-padded decimal number.**   | **001, 002, ..., 366** |  \n",
    "| **`%-j`** | **Day of the year as a decimal number.**   | **1, 2, ..., 366** |  \n",
    "| **`%U`**  | **Week number of the year (Sunday as the first day of the week). All days in a new year preceding the first Sunday are considered to be in week 0.**   | **00, 01, ..., 53** |  \n",
    "| **`%U`**  | **Week number of the year (Monday as the first day of the week). All days in a new year preceding the first Monday are considered to be in week 0.**   | **00, 01, ..., 53** |  \n",
    "| **`%c`**  | **Locale’s appropriate date and time representation.**   | **Mon Sep 30 07:06:05 2013** |  \n",
    "| **`%x`**  | **Locale’s appropriate date representation.**   | **09/30/13** |  \n",
    "| **`%X`**  | **Locale’s appropriate time representation.**   | **07:06:05** |  \n",
    "| **`%%`**  | **A literal '%' character.**   | **%** | "
   ]
  },
  {
   "cell_type": "markdown",
   "metadata": {},
   "source": [
    "### `ValueError` in `strptime()`\n",
    "\n",
    "If the string (first argument) and the format code (second argument) passed to the **`strptime()`** doesn't match, you will get **`ValueError`**. For example:"
   ]
  },
  {
   "cell_type": "code",
   "execution_count": 3,
   "metadata": {
    "ExecuteTime": {
     "end_time": "2021-06-22T13:01:43.423237Z",
     "start_time": "2021-06-22T13:01:43.098047Z"
    }
   },
   "outputs": [
    {
     "ename": "ValueError",
     "evalue": "time data '12/11/2018' does not match format '%d %m %Y'",
     "output_type": "error",
     "traceback": [
      "\u001b[1;31m---------------------------------------------------------------------------\u001b[0m",
      "\u001b[1;31mValueError\u001b[0m                                Traceback (most recent call last)",
      "\u001b[1;32m<ipython-input-3-fffbe51149a7>\u001b[0m in \u001b[0;36m<module>\u001b[1;34m\u001b[0m\n\u001b[0;32m      2\u001b[0m \u001b[1;33m\u001b[0m\u001b[0m\n\u001b[0;32m      3\u001b[0m \u001b[0mdate_string\u001b[0m \u001b[1;33m=\u001b[0m \u001b[1;34m\"12/11/2018\"\u001b[0m\u001b[1;33m\u001b[0m\u001b[1;33m\u001b[0m\u001b[0m\n\u001b[1;32m----> 4\u001b[1;33m \u001b[0mdate_object\u001b[0m \u001b[1;33m=\u001b[0m \u001b[0mdatetime\u001b[0m\u001b[1;33m.\u001b[0m\u001b[0mstrptime\u001b[0m\u001b[1;33m(\u001b[0m\u001b[0mdate_string\u001b[0m\u001b[1;33m,\u001b[0m \u001b[1;34m\"%d %m %Y\"\u001b[0m\u001b[1;33m)\u001b[0m\u001b[1;33m\u001b[0m\u001b[1;33m\u001b[0m\u001b[0m\n\u001b[0m\u001b[0;32m      5\u001b[0m \u001b[1;33m\u001b[0m\u001b[0m\n\u001b[0;32m      6\u001b[0m \u001b[0mprint\u001b[0m\u001b[1;33m(\u001b[0m\u001b[1;34m\"date_object =\"\u001b[0m\u001b[1;33m,\u001b[0m \u001b[0mdate_object\u001b[0m\u001b[1;33m)\u001b[0m\u001b[1;33m\u001b[0m\u001b[1;33m\u001b[0m\u001b[0m\n",
      "\u001b[1;32mC:\\ProgramData\\Anaconda3\\lib\\_strptime.py\u001b[0m in \u001b[0;36m_strptime_datetime\u001b[1;34m(cls, data_string, format)\u001b[0m\n\u001b[0;32m    566\u001b[0m     \"\"\"Return a class cls instance based on the input string and the\n\u001b[0;32m    567\u001b[0m     format string.\"\"\"\n\u001b[1;32m--> 568\u001b[1;33m     \u001b[0mtt\u001b[0m\u001b[1;33m,\u001b[0m \u001b[0mfraction\u001b[0m\u001b[1;33m,\u001b[0m \u001b[0mgmtoff_fraction\u001b[0m \u001b[1;33m=\u001b[0m \u001b[0m_strptime\u001b[0m\u001b[1;33m(\u001b[0m\u001b[0mdata_string\u001b[0m\u001b[1;33m,\u001b[0m \u001b[0mformat\u001b[0m\u001b[1;33m)\u001b[0m\u001b[1;33m\u001b[0m\u001b[1;33m\u001b[0m\u001b[0m\n\u001b[0m\u001b[0;32m    569\u001b[0m     \u001b[0mtzname\u001b[0m\u001b[1;33m,\u001b[0m \u001b[0mgmtoff\u001b[0m \u001b[1;33m=\u001b[0m \u001b[0mtt\u001b[0m\u001b[1;33m[\u001b[0m\u001b[1;33m-\u001b[0m\u001b[1;36m2\u001b[0m\u001b[1;33m:\u001b[0m\u001b[1;33m]\u001b[0m\u001b[1;33m\u001b[0m\u001b[1;33m\u001b[0m\u001b[0m\n\u001b[0;32m    570\u001b[0m     \u001b[0margs\u001b[0m \u001b[1;33m=\u001b[0m \u001b[0mtt\u001b[0m\u001b[1;33m[\u001b[0m\u001b[1;33m:\u001b[0m\u001b[1;36m6\u001b[0m\u001b[1;33m]\u001b[0m \u001b[1;33m+\u001b[0m \u001b[1;33m(\u001b[0m\u001b[0mfraction\u001b[0m\u001b[1;33m,\u001b[0m\u001b[1;33m)\u001b[0m\u001b[1;33m\u001b[0m\u001b[1;33m\u001b[0m\u001b[0m\n",
      "\u001b[1;32mC:\\ProgramData\\Anaconda3\\lib\\_strptime.py\u001b[0m in \u001b[0;36m_strptime\u001b[1;34m(data_string, format)\u001b[0m\n\u001b[0;32m    347\u001b[0m     \u001b[0mfound\u001b[0m \u001b[1;33m=\u001b[0m \u001b[0mformat_regex\u001b[0m\u001b[1;33m.\u001b[0m\u001b[0mmatch\u001b[0m\u001b[1;33m(\u001b[0m\u001b[0mdata_string\u001b[0m\u001b[1;33m)\u001b[0m\u001b[1;33m\u001b[0m\u001b[1;33m\u001b[0m\u001b[0m\n\u001b[0;32m    348\u001b[0m     \u001b[1;32mif\u001b[0m \u001b[1;32mnot\u001b[0m \u001b[0mfound\u001b[0m\u001b[1;33m:\u001b[0m\u001b[1;33m\u001b[0m\u001b[1;33m\u001b[0m\u001b[0m\n\u001b[1;32m--> 349\u001b[1;33m         raise ValueError(\"time data %r does not match format %r\" %\n\u001b[0m\u001b[0;32m    350\u001b[0m                          (data_string, format))\n\u001b[0;32m    351\u001b[0m     \u001b[1;32mif\u001b[0m \u001b[0mlen\u001b[0m\u001b[1;33m(\u001b[0m\u001b[0mdata_string\u001b[0m\u001b[1;33m)\u001b[0m \u001b[1;33m!=\u001b[0m \u001b[0mfound\u001b[0m\u001b[1;33m.\u001b[0m\u001b[0mend\u001b[0m\u001b[1;33m(\u001b[0m\u001b[1;33m)\u001b[0m\u001b[1;33m:\u001b[0m\u001b[1;33m\u001b[0m\u001b[1;33m\u001b[0m\u001b[0m\n",
      "\u001b[1;31mValueError\u001b[0m: time data '12/11/2018' does not match format '%d %m %Y'"
     ]
    }
   ],
   "source": [
    "from datetime import datetime\n",
    "\n",
    "date_string = \"12/11/2018\"\n",
    "date_object = datetime.strptime(date_string, \"%d %m %Y\")\n",
    "\n",
    "print(\"date_object =\", date_object)\n",
    "\n",
    "# When you run the program, the output will be something like below:"
   ]
  },
  {
   "cell_type": "markdown",
   "metadata": {},
   "source": [
    "We also recommend you to check **[Python strftime()](https://github.com/milaan9/08_Python_Date_Time_Module/blob/main/002_Python_strftime%28%29.ipynb)**."
   ]
  },
  {
   "cell_type": "code",
   "execution_count": null,
   "metadata": {},
   "outputs": [],
   "source": []
  }
 ],
 "metadata": {
  "hide_input": false,
  "kernelspec": {
   "display_name": "Python 3",
   "language": "python",
   "name": "python3"
  },
  "language_info": {
   "codemirror_mode": {
    "name": "ipython",
    "version": 3
   },
   "file_extension": ".py",
   "mimetype": "text/x-python",
   "name": "python",
   "nbconvert_exporter": "python",
   "pygments_lexer": "ipython3",
   "version": "3.8.8"
  },
  "toc": {
   "base_numbering": 1,
   "nav_menu": {},
   "number_sections": true,
   "sideBar": true,
   "skip_h1_title": false,
   "title_cell": "Table of Contents",
   "title_sidebar": "Contents",
   "toc_cell": false,
   "toc_position": {},
   "toc_section_display": true,
   "toc_window_display": false
  },
  "varInspector": {
   "cols": {
    "lenName": 16,
    "lenType": 16,
    "lenVar": 40
   },
   "kernels_config": {
    "python": {
     "delete_cmd_postfix": "",
     "delete_cmd_prefix": "del ",
     "library": "var_list.py",
     "varRefreshCmd": "print(var_dic_list())"
    },
    "r": {
     "delete_cmd_postfix": ") ",
     "delete_cmd_prefix": "rm(",
     "library": "var_list.r",
     "varRefreshCmd": "cat(var_dic_list()) "
    }
   },
   "types_to_exclude": [
    "module",
    "function",
    "builtin_function_or_method",
    "instance",
    "_Feature"
   ],
   "window_display": false
  }
 },
 "nbformat": 4,
 "nbformat_minor": 2
}
