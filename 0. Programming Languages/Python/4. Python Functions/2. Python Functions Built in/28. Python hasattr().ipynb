{
 "cells": [
  {
   "cell_type": "markdown",
   "metadata": {},
   "source": [
    "<small><small><i>\n",
    "All the IPython Notebooks in this lecture series by Dr. Milan Parmar are available @ **[GitHub](https://github.com/milaan9/04_Python_Functions/tree/main/002_Python_Functions_Built_in)**\n",
    "</i></small></small>"
   ]
  },
  {
   "cell_type": "markdown",
   "metadata": {},
   "source": [
    "# Python `hasattr()`\n",
    "\n",
    "The **`hasattr()`** method returns true if an object has the given named attribute and false if it does not.\n",
    "\n",
    "**Syntax**:\n",
    "\n",
    "```python\n",
    "hasattr(object, name)\n",
    "```\n",
    "\n",
    "**`hasattr()`** is called by **[getattr()](https://github.com/milaan9/04_Python_Functions/blob/main/002_Python_Functions_Built_in/025_Python_getattr%28%29.ipynb)** to check to see if **`AttributeError`** is to be raised or not."
   ]
  },
  {
   "cell_type": "markdown",
   "metadata": {},
   "source": [
    "## `hasattr()` Parameters\n",
    "\n",
    "**`hasattr()`** method takes two parameters:\n",
    "\n",
    "* **object** - object whose named attribute is to be checked\n",
    "* **name** - name of the attribute to be searched"
   ]
  },
  {
   "cell_type": "markdown",
   "metadata": {},
   "source": [
    "## Return Value from `hasattr()`\n",
    "\n",
    "**`hasattr()`** method returns:\n",
    "\n",
    "* **True**, if object has the given named attribute\n",
    "* **False**, if object has no given named attribute"
   ]
  },
  {
   "cell_type": "code",
   "execution_count": 1,
   "metadata": {
    "ExecuteTime": {
     "end_time": "2021-06-14T10:04:41.253271Z",
     "start_time": "2021-06-14T10:04:41.235694Z"
    },
    "scrolled": false
   },
   "outputs": [
    {
     "name": "stdout",
     "output_type": "stream",
     "text": [
      "Person has age?: True\n",
      "Person has salary?: False\n"
     ]
    }
   ],
   "source": [
    "# Example: How hasattr() works in Python?\n",
    "\n",
    "class Person:\n",
    "    age = 23\n",
    "    name = 'Adam'\n",
    "\n",
    "person = Person()\n",
    "\n",
    "print('Person has age?:', hasattr(person, 'age'))\n",
    "print('Person has salary?:', hasattr(person, 'salary'))"
   ]
  },
  {
   "cell_type": "code",
   "execution_count": null,
   "metadata": {},
   "outputs": [],
   "source": []
  }
 ],
 "metadata": {
  "hide_input": false,
  "kernelspec": {
   "display_name": "Python 3",
   "language": "python",
   "name": "python3"
  },
  "language_info": {
   "codemirror_mode": {
    "name": "ipython",
    "version": 3
   },
   "file_extension": ".py",
   "mimetype": "text/x-python",
   "name": "python",
   "nbconvert_exporter": "python",
   "pygments_lexer": "ipython3",
   "version": "3.8.8"
  },
  "toc": {
   "base_numbering": 1,
   "nav_menu": {},
   "number_sections": true,
   "sideBar": true,
   "skip_h1_title": false,
   "title_cell": "Table of Contents",
   "title_sidebar": "Contents",
   "toc_cell": false,
   "toc_position": {},
   "toc_section_display": true,
   "toc_window_display": false
  },
  "varInspector": {
   "cols": {
    "lenName": 16,
    "lenType": 16,
    "lenVar": 40
   },
   "kernels_config": {
    "python": {
     "delete_cmd_postfix": "",
     "delete_cmd_prefix": "del ",
     "library": "var_list.py",
     "varRefreshCmd": "print(var_dic_list())"
    },
    "r": {
     "delete_cmd_postfix": ") ",
     "delete_cmd_prefix": "rm(",
     "library": "var_list.r",
     "varRefreshCmd": "cat(var_dic_list()) "
    }
   },
   "types_to_exclude": [
    "module",
    "function",
    "builtin_function_or_method",
    "instance",
    "_Feature"
   ],
   "window_display": false
  }
 },
 "nbformat": 4,
 "nbformat_minor": 2
}
