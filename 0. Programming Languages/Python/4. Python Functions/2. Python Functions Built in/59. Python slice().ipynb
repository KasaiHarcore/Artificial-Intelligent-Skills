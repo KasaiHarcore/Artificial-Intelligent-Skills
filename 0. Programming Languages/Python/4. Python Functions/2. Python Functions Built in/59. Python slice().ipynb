{
 "cells": [
  {
   "cell_type": "markdown",
   "metadata": {},
   "source": [
    "<small><small><i>\n",
    "All the IPython Notebooks in this lecture series by Dr. Milan Parmar are available @ **[GitHub](https://github.com/milaan9/04_Python_Functions/tree/main/002_Python_Functions_Built_in)**\n",
    "</i></small></small>"
   ]
  },
  {
   "cell_type": "markdown",
   "metadata": {},
   "source": [
    "# Python `slice()`\n",
    "\n",
    "The **`slice()`** function returns a slice object that can use used to slice strings, lists, tuple etc.\n",
    "\n",
    "The slice object is used to slice a given sequence (**string**, **bytes**, **tuple**, **list** or **range**) or any object which supports sequence protocol (implements **`__getitem__()`** and **`__len__()`** method).\n",
    "\n",
    "**Syntax**:\n",
    "\n",
    "```python\n",
    "slice(start, stop, step)\n",
    "```"
   ]
  },
  {
   "cell_type": "markdown",
   "metadata": {},
   "source": [
    "## `slice()` Parameters\n",
    "\n",
    "**`slice()`** can take three parameters:\n",
    "\n",
    "* **start (optional)** - Starting integer where the slicing of the object starts. Default to **`None`** if not provided.\n",
    "* **stop** - Integer until which the slicing takes place. The slicing stops at index **stop -1 (last element)**.\n",
    "* **step (optional)** - Integer value which determines the increment between each index for slicing. Defaults to **`None`** if not provided."
   ]
  },
  {
   "cell_type": "code",
   "execution_count": 1,
   "metadata": {
    "ExecuteTime": {
     "end_time": "2021-06-14T11:37:38.604635Z",
     "start_time": "2021-06-14T11:37:38.578267Z"
    },
    "scrolled": true
   },
   "outputs": [
    {
     "name": "stdout",
     "output_type": "stream",
     "text": [
      "slice(None, 3, None)\n",
      "slice(1, 5, 2)\n"
     ]
    }
   ],
   "source": [
    "# Example 1: Create a slice object for slicing\n",
    "\n",
    "# contains indices (0, 1, 2)\n",
    "result1 = slice(3)\n",
    "print(result1)\n",
    "\n",
    "# contains indices (1, 3)\n",
    "result2 = slice(1, 5, 2)\n",
    "print(slice(1, 5, 2))"
   ]
  },
  {
   "cell_type": "markdown",
   "metadata": {},
   "source": [
    "Here, **`result1`** and **`result2`** are slice objects.\n",
    "\n",
    "Now we know about slice objects, let's see how we can get substring, sub-list, sub-tuple, etc. from slice objects."
   ]
  },
  {
   "cell_type": "code",
   "execution_count": 2,
   "metadata": {
    "ExecuteTime": {
     "end_time": "2021-06-14T11:37:40.850711Z",
     "start_time": "2021-06-14T11:37:40.833138Z"
    }
   },
   "outputs": [
    {
     "name": "stdout",
     "output_type": "stream",
     "text": [
      "Pyt\n",
      "yhn\n"
     ]
    }
   ],
   "source": [
    "# Example 2: Get substring using slice object\n",
    "\n",
    "# Program to get a substring from the given string \n",
    "\n",
    "py_string = 'Python'\n",
    "\n",
    "# stop = 3\n",
    "# contains 0, 1 and 2 indices\n",
    "slice_object = slice(3) \n",
    "print(py_string[slice_object])  # Pyt\n",
    "\n",
    "# start = 1, stop = 6, step = 2\n",
    "# contains 1, 3 and 5 indices\n",
    "slice_object = slice(1, 6, 2)\n",
    "print(py_string[slice_object])   # yhn"
   ]
  },
  {
   "cell_type": "code",
   "execution_count": 3,
   "metadata": {
    "ExecuteTime": {
     "end_time": "2021-06-14T11:37:42.032837Z",
     "start_time": "2021-06-14T11:37:42.018188Z"
    }
   },
   "outputs": [
    {
     "name": "stdout",
     "output_type": "stream",
     "text": [
      "noh\n"
     ]
    }
   ],
   "source": [
    "# Example 3: Get substring using negative index\n",
    "\n",
    "py_string = 'Python'\n",
    "\n",
    "# start = -1, stop = -4, step = -1\n",
    "# contains indices -1, -2 and -3\n",
    "slice_object = slice(-1, -4, -1)\n",
    "\n",
    "print(py_string[slice_object])   # noh"
   ]
  },
  {
   "cell_type": "code",
   "execution_count": 4,
   "metadata": {
    "ExecuteTime": {
     "end_time": "2021-06-14T11:37:44.628522Z",
     "start_time": "2021-06-14T11:37:44.619734Z"
    }
   },
   "outputs": [
    {
     "name": "stdout",
     "output_type": "stream",
     "text": [
      "['P', 'y', 't']\n",
      "('y', 'h')\n"
     ]
    }
   ],
   "source": [
    "# Example 4: Get sublist and sub-tuple\n",
    "\n",
    "py_list = ['P', 'y', 't', 'h', 'o', 'n']\n",
    "py_tuple = ('P', 'y', 't', 'h', 'o', 'n')\n",
    "\n",
    "# contains indices 0, 1 and 2\n",
    "slice_object = slice(3)\n",
    "print(py_list[slice_object]) # ['P', 'y', 't']\n",
    "\n",
    "# contains indices 1 and 3\n",
    "slice_object = slice(1, 5, 2)\n",
    "print(py_tuple[slice_object]) # ('y', 'h')  "
   ]
  },
  {
   "cell_type": "code",
   "execution_count": 5,
   "metadata": {
    "ExecuteTime": {
     "end_time": "2021-06-14T11:37:45.275004Z",
     "start_time": "2021-06-14T11:37:45.266216Z"
    }
   },
   "outputs": [
    {
     "name": "stdout",
     "output_type": "stream",
     "text": [
      "['n', 'o', 'h']\n",
      "('n', 'h')\n"
     ]
    }
   ],
   "source": [
    "# Example 5: Get sublist and sub-tuple using negative index\n",
    "\n",
    "py_list = ['P', 'y', 't', 'h', 'o', 'n']\n",
    "py_tuple = ('P', 'y', 't', 'h', 'o', 'n')\n",
    "\n",
    "# contains indices -1, -2 and -3\n",
    "slice_object = slice(-1, -4, -1) \n",
    "print(py_list[slice_object])  # ['n', 'o', 'h']\n",
    "\n",
    "# contains indices -1 and -3\n",
    "slice_object = slice(-1, -5, -2)\n",
    "print(py_tuple[slice_object]) # ('n', 'h')"
   ]
  },
  {
   "cell_type": "code",
   "execution_count": 6,
   "metadata": {
    "ExecuteTime": {
     "end_time": "2021-06-14T11:37:46.456638Z",
     "start_time": "2021-06-14T11:37:46.448826Z"
    }
   },
   "outputs": [
    {
     "name": "stdout",
     "output_type": "stream",
     "text": [
      "Pyt\n",
      "yh\n"
     ]
    }
   ],
   "source": [
    "# Example 6: Using Indexing Syntax for Slicing\n",
    "\n",
    "# The slice object can be substituted with the indexing syntax in Python.\n",
    "\n",
    "#You can alternately use the following syntax for slicing:\n",
    "\n",
    "#obj[start:stop:step]\n",
    "#For example,\n",
    "\n",
    "py_string = 'Python'\n",
    "\n",
    "# contains indices 0, 1 and 2\n",
    "print(py_string[0:3])  # Pyt\n",
    "\n",
    "# contains indices 1 and 3\n",
    "print(py_string[1:5:2]) # yh"
   ]
  },
  {
   "cell_type": "code",
   "execution_count": null,
   "metadata": {},
   "outputs": [],
   "source": []
  }
 ],
 "metadata": {
  "hide_input": false,
  "kernelspec": {
   "display_name": "Python 3",
   "language": "python",
   "name": "python3"
  },
  "language_info": {
   "codemirror_mode": {
    "name": "ipython",
    "version": 3
   },
   "file_extension": ".py",
   "mimetype": "text/x-python",
   "name": "python",
   "nbconvert_exporter": "python",
   "pygments_lexer": "ipython3",
   "version": "3.8.8"
  },
  "toc": {
   "base_numbering": 1,
   "nav_menu": {},
   "number_sections": true,
   "sideBar": true,
   "skip_h1_title": false,
   "title_cell": "Table of Contents",
   "title_sidebar": "Contents",
   "toc_cell": false,
   "toc_position": {},
   "toc_section_display": true,
   "toc_window_display": false
  },
  "varInspector": {
   "cols": {
    "lenName": 16,
    "lenType": 16,
    "lenVar": 40
   },
   "kernels_config": {
    "python": {
     "delete_cmd_postfix": "",
     "delete_cmd_prefix": "del ",
     "library": "var_list.py",
     "varRefreshCmd": "print(var_dic_list())"
    },
    "r": {
     "delete_cmd_postfix": ") ",
     "delete_cmd_prefix": "rm(",
     "library": "var_list.r",
     "varRefreshCmd": "cat(var_dic_list()) "
    }
   },
   "types_to_exclude": [
    "module",
    "function",
    "builtin_function_or_method",
    "instance",
    "_Feature"
   ],
   "window_display": false
  }
 },
 "nbformat": 4,
 "nbformat_minor": 2
}
