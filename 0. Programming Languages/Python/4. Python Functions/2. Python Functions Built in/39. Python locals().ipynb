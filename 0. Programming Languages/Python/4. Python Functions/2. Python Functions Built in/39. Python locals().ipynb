{
 "cells": [
  {
   "cell_type": "markdown",
   "metadata": {},
   "source": [
    "<small><small><i>\n",
    "All the IPython Notebooks in this lecture series by Dr. Milan Parmar are available @ **[GitHub](https://github.com/milaan9/04_Python_Functions/tree/main/002_Python_Functions_Built_in)**\n",
    "</i></small></small>"
   ]
  },
  {
   "cell_type": "markdown",
   "metadata": {},
   "source": [
    "# Python `locals()`\n",
    "\n",
    "The **`locals()`** method updates and returns a dictionary of the current local symbol table.\n",
    "\n",
    "A symbol table is a data structure maintained by a compiler which contains all necessary information about the program.\n",
    "\n",
    "These include variable names, methods, classes, etc.\n",
    "\n",
    "There are mainly two kinds of symbol table.\n",
    "\n",
    "1. Global symbol table\n",
    "2. Local symbol table\n",
    "\n",
    "A **Global** symbol table stores all information related to the global scope of the program, and is accessed in Python using **[globals()](https://github.com/milaan9/04_Python_Functions/blob/main/002_Python_Functions_Built_in/026_Python_globals%28%29.ipynb)** method.\n",
    "\n",
    "The global scope contains all functions, variables which are not associated with any class or function.\n",
    "\n",
    "Likewise, **Local** symbol table stores all information related to the local scope of the program, and is accessed in Python using **`locals()`** method.\n",
    "\n",
    "The local scope could be within a function, within a class, etc.\n",
    "\n",
    "> Recommended Reading: **[Namespace and scope of in Python](https://github.com/milaan9/01_Python_Introduction/blob/main/013_Python_Namespace_and_Scope.ipynb)**\n",
    "\n",
    "**Syntax**:\n",
    "\n",
    "```python\n",
    "locals()\n",
    "```"
   ]
  },
  {
   "cell_type": "markdown",
   "metadata": {},
   "source": [
    "## `locals()` Parameters\n",
    "\n",
    "**`locals()`** method doesn't take any parameters."
   ]
  },
  {
   "cell_type": "markdown",
   "metadata": {},
   "source": [
    "## Return Value from `locals()`\n",
    "\n",
    "**`locals()`**  method updates and returns the dictionary associated with the current local symbol table."
   ]
  },
  {
   "cell_type": "code",
   "execution_count": 1,
   "metadata": {
    "ExecuteTime": {
     "end_time": "2021-06-14T11:19:36.877786Z",
     "start_time": "2021-06-14T11:19:36.823097Z"
    },
    "scrolled": true
   },
   "outputs": [
    {
     "data": {
      "text/plain": [
       "{'__name__': '__main__',\n",
       " '__doc__': 'Automatically created module for IPython interactive environment',\n",
       " '__package__': None,\n",
       " '__loader__': None,\n",
       " '__spec__': None,\n",
       " '__builtin__': <module 'builtins' (built-in)>,\n",
       " '__builtins__': <module 'builtins' (built-in)>,\n",
       " '_ih': ['', '# Example 1: How locals() works in Python?\\n\\nlocals()'],\n",
       " '_oh': {},\n",
       " '_dh': ['C:\\\\Users\\\\Deepak\\\\01_Learn_Python4Data\\\\04_Python_Functions\\\\002_Python_Functions_Built_in'],\n",
       " 'In': ['', '# Example 1: How locals() works in Python?\\n\\nlocals()'],\n",
       " 'Out': {},\n",
       " 'get_ipython': <function IPython.core.getipython.get_ipython()>,\n",
       " 'exit': <IPython.core.autocall.ZMQExitAutocall at 0x225ebef0700>,\n",
       " 'quit': <IPython.core.autocall.ZMQExitAutocall at 0x225ebef0700>,\n",
       " '_': '',\n",
       " '__': '',\n",
       " '___': '',\n",
       " 'json': <module 'json' from 'C:\\\\ProgramData\\\\Anaconda3\\\\lib\\\\json\\\\__init__.py'>,\n",
       " 'getsizeof': <function sys.getsizeof>,\n",
       " 'NamespaceMagics': IPython.core.magics.namespace.NamespaceMagics,\n",
       " '_nms': <IPython.core.magics.namespace.NamespaceMagics at 0x225ec3aba00>,\n",
       " '_Jupyter': <ipykernel.zmqshell.ZMQInteractiveShell at 0x225ebe33f10>,\n",
       " 'np': <module 'numpy' from 'C:\\\\ProgramData\\\\Anaconda3\\\\lib\\\\site-packages\\\\numpy\\\\__init__.py'>,\n",
       " '_getsizeof': <function __main__._getsizeof(x)>,\n",
       " '_getshapeof': <function __main__._getshapeof(x)>,\n",
       " 'var_dic_list': <function __main__.var_dic_list()>,\n",
       " '_i': '',\n",
       " '_ii': '',\n",
       " '_iii': '',\n",
       " '_i1': '# Example 1: How locals() works in Python?\\n\\nlocals()'}"
      ]
     },
     "execution_count": 1,
     "metadata": {},
     "output_type": "execute_result"
    }
   ],
   "source": [
    "# Example 1: How locals() works in Python?\n",
    "\n",
    "locals()"
   ]
  },
  {
   "cell_type": "markdown",
   "metadata": {},
   "source": [
    "> **Note:** **`globals()`** and **`locals()`** symbol table for the global environment is the same."
   ]
  },
  {
   "cell_type": "code",
   "execution_count": 2,
   "metadata": {
    "ExecuteTime": {
     "end_time": "2021-06-14T11:19:40.720535Z",
     "start_time": "2021-06-14T11:19:40.701985Z"
    }
   },
   "outputs": [
    {
     "name": "stdout",
     "output_type": "stream",
     "text": [
      "localsNotPresent: {}\n",
      "localsPresent: {'present': True}\n"
     ]
    }
   ],
   "source": [
    "# Example 2: How locals() works inside a local scope?\n",
    "\n",
    "def localsNotPresent():\n",
    "    return locals()\n",
    "\n",
    "def localsPresent():\n",
    "    present = True\n",
    "    return locals()\n",
    "\n",
    "print('localsNotPresent:', localsNotPresent())\n",
    "print('localsPresent:', localsPresent())"
   ]
  },
  {
   "cell_type": "code",
   "execution_count": 3,
   "metadata": {
    "ExecuteTime": {
     "end_time": "2021-06-14T11:19:43.624328Z",
     "start_time": "2021-06-14T11:19:43.605776Z"
    }
   },
   "outputs": [
    {
     "name": "stdout",
     "output_type": "stream",
     "text": [
      "True\n",
      "True\n"
     ]
    }
   ],
   "source": [
    "# Example 3: Updating locals() dictionary values\n",
    "\n",
    "def localsPresent():\n",
    "    present = True\n",
    "    print(present)\n",
    "    locals()['present'] = False;\n",
    "    print(present)\n",
    "\n",
    "localsPresent()"
   ]
  },
  {
   "cell_type": "markdown",
   "metadata": {},
   "source": [
    "Unlike, **`globals()`** dictionary which reflects the change to the actual global table, **`locals()`** dictionary may not change the information inside the locals table."
   ]
  },
  {
   "cell_type": "code",
   "execution_count": null,
   "metadata": {},
   "outputs": [],
   "source": []
  }
 ],
 "metadata": {
  "hide_input": false,
  "kernelspec": {
   "display_name": "Python 3",
   "language": "python",
   "name": "python3"
  },
  "language_info": {
   "codemirror_mode": {
    "name": "ipython",
    "version": 3
   },
   "file_extension": ".py",
   "mimetype": "text/x-python",
   "name": "python",
   "nbconvert_exporter": "python",
   "pygments_lexer": "ipython3",
   "version": "3.8.8"
  },
  "toc": {
   "base_numbering": 1,
   "nav_menu": {},
   "number_sections": true,
   "sideBar": true,
   "skip_h1_title": false,
   "title_cell": "Table of Contents",
   "title_sidebar": "Contents",
   "toc_cell": false,
   "toc_position": {},
   "toc_section_display": true,
   "toc_window_display": false
  },
  "varInspector": {
   "cols": {
    "lenName": 16,
    "lenType": 16,
    "lenVar": 40
   },
   "kernels_config": {
    "python": {
     "delete_cmd_postfix": "",
     "delete_cmd_prefix": "del ",
     "library": "var_list.py",
     "varRefreshCmd": "print(var_dic_list())"
    },
    "r": {
     "delete_cmd_postfix": ") ",
     "delete_cmd_prefix": "rm(",
     "library": "var_list.r",
     "varRefreshCmd": "cat(var_dic_list()) "
    }
   },
   "types_to_exclude": [
    "module",
    "function",
    "builtin_function_or_method",
    "instance",
    "_Feature"
   ],
   "window_display": false
  }
 },
 "nbformat": 4,
 "nbformat_minor": 2
}
