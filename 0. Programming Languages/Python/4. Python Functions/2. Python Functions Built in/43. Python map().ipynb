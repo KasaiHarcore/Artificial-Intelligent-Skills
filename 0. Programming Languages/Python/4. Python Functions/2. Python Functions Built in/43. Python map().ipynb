{
 "cells": [
  {
   "cell_type": "markdown",
   "metadata": {},
   "source": [
    "<small><small><i>\n",
    "All the IPython Notebooks in this lecture series by Dr. Milan Parmar are available @ **[GitHub](https://github.com/milaan9/04_Python_Functions/tree/main/002_Python_Functions_Built_in)**\n",
    "</i></small></small>"
   ]
  },
  {
   "cell_type": "markdown",
   "metadata": {},
   "source": [
    "# Python `map()`\n",
    "\n",
    "The **`map()`** function applies a given function to each item of an iterable (list, tuple etc.) and returns a list of the results.\n",
    "\n",
    "**Syntax**:\n",
    "\n",
    "```python\n",
    "map(function, iterable, ...)\n",
    "```"
   ]
  },
  {
   "cell_type": "markdown",
   "metadata": {},
   "source": [
    "## `map()` Parameters\n",
    "\n",
    "* **function** - **`map()`** passes each item of the iterable to this function.\n",
    "* **iterable** - iterable which is to be mapped\n",
    "\n",
    "You can pass more than one iterable to the **`map()`** function."
   ]
  },
  {
   "cell_type": "markdown",
   "metadata": {},
   "source": [
    "## Return Value from `map()`\n",
    "\n",
    "The **`map()`** function applies a given to function to each item of an iterable and returns a list of the results.\n",
    "\n",
    "The returned value from **`map()`** (map object) can then be passed to functions like **[list()](https://github.com/milaan9/02_Python_Datatypes/blob/main/003_Python_List.ipynb)** (to create a list), **[set()](https://github.com/milaan9/02_Python_Datatypes/blob/main/006_Python_Sets.ipynb)** (to create a set) and so on."
   ]
  },
  {
   "cell_type": "code",
   "execution_count": 1,
   "metadata": {
    "ExecuteTime": {
     "end_time": "2021-06-14T11:21:37.056350Z",
     "start_time": "2021-06-14T11:21:37.011428Z"
    },
    "scrolled": true
   },
   "outputs": [
    {
     "name": "stdout",
     "output_type": "stream",
     "text": [
      "<map object at 0x00000235D2CA8E20>\n",
      "{16, 1, 4, 9}\n"
     ]
    }
   ],
   "source": [
    "# Example 1: Working of map()\n",
    "\n",
    "def calculateSquare(n):\n",
    "    return n*n\n",
    "\n",
    "\n",
    "numbers = (1, 2, 3, 4)\n",
    "result = map(calculateSquare, numbers)\n",
    "print(result)  \n",
    "\n",
    "# converting map object to set or list or tuple\n",
    "numbersSquare = set(result)\n",
    "#numbersSquare = list(result)\n",
    "#numbersSquare = tuple(result)\n",
    "print(numbersSquare)"
   ]
  },
  {
   "cell_type": "markdown",
   "metadata": {},
   "source": [
    "In the above example, each item of the tuple is squared."
   ]
  },
  {
   "cell_type": "markdown",
   "metadata": {},
   "source": [
    "Since **`map()`** expects a function to be passed in, lambda functions are commonly used while working with **`map()`** functions.\n",
    "\n",
    "A **lambda function** is a short function without a name. Visit this page to learn more about **[Python lambda Function](https://github.com/milaan9/04_Python_Functions/blob/main/006_Python_Function_Anonymous.ipynb)**."
   ]
  },
  {
   "cell_type": "code",
   "execution_count": 2,
   "metadata": {
    "ExecuteTime": {
     "end_time": "2021-06-14T11:21:40.591979Z",
     "start_time": "2021-06-14T11:21:40.579280Z"
    },
    "scrolled": true
   },
   "outputs": [
    {
     "name": "stdout",
     "output_type": "stream",
     "text": [
      "<map object at 0x00000235D3130640>\n",
      "{16, 1, 4, 9}\n"
     ]
    }
   ],
   "source": [
    "# Example 2: How to use lambda function with map()?\n",
    "\n",
    "numbers = (1, 2, 3, 4)\n",
    "result = map(lambda x: x*x, numbers)\n",
    "print(result)\n",
    "\n",
    "# converting map object to set or list or tuple\n",
    "numbersSquare = set(result)\n",
    "#numbersSquare = list(result)\n",
    "#numbersSquare = tuple(result)\n",
    "print(numbersSquare)"
   ]
  },
  {
   "cell_type": "markdown",
   "metadata": {},
   "source": [
    "There is no difference in functionalities of this example and **Example 1**."
   ]
  },
  {
   "cell_type": "code",
   "execution_count": 3,
   "metadata": {
    "ExecuteTime": {
     "end_time": "2021-06-14T11:21:43.900551Z",
     "start_time": "2021-06-14T11:21:43.881995Z"
    },
    "scrolled": true
   },
   "outputs": [
    {
     "name": "stdout",
     "output_type": "stream",
     "text": [
      "[9, 11, 13]\n"
     ]
    }
   ],
   "source": [
    "# Example 3: Passing Multiple Iterators to map() Using Lambda\n",
    "\n",
    "# In this example, corresponding items of two lists are added.\n",
    "\n",
    "num1 = [4, 5, 6]\n",
    "num2 = [5, 6, 7]\n",
    "\n",
    "# Format: result = map(functionName, arguments)\n",
    "result = map(lambda n1, n2: n1+n2, num1, num2)\n",
    "print(list(result))"
   ]
  },
  {
   "cell_type": "code",
   "execution_count": null,
   "metadata": {},
   "outputs": [],
   "source": []
  }
 ],
 "metadata": {
  "hide_input": false,
  "kernelspec": {
   "display_name": "Python 3",
   "language": "python",
   "name": "python3"
  },
  "language_info": {
   "codemirror_mode": {
    "name": "ipython",
    "version": 3
   },
   "file_extension": ".py",
   "mimetype": "text/x-python",
   "name": "python",
   "nbconvert_exporter": "python",
   "pygments_lexer": "ipython3",
   "version": "3.8.8"
  },
  "toc": {
   "base_numbering": 1,
   "nav_menu": {},
   "number_sections": true,
   "sideBar": true,
   "skip_h1_title": false,
   "title_cell": "Table of Contents",
   "title_sidebar": "Contents",
   "toc_cell": false,
   "toc_position": {},
   "toc_section_display": true,
   "toc_window_display": false
  },
  "varInspector": {
   "cols": {
    "lenName": 16,
    "lenType": 16,
    "lenVar": 40
   },
   "kernels_config": {
    "python": {
     "delete_cmd_postfix": "",
     "delete_cmd_prefix": "del ",
     "library": "var_list.py",
     "varRefreshCmd": "print(var_dic_list())"
    },
    "r": {
     "delete_cmd_postfix": ") ",
     "delete_cmd_prefix": "rm(",
     "library": "var_list.r",
     "varRefreshCmd": "cat(var_dic_list()) "
    }
   },
   "types_to_exclude": [
    "module",
    "function",
    "builtin_function_or_method",
    "instance",
    "_Feature"
   ],
   "window_display": false
  }
 },
 "nbformat": 4,
 "nbformat_minor": 2
}
