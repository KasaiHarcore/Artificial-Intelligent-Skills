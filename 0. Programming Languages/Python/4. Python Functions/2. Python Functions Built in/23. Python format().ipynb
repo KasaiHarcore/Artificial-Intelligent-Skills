{
 "cells": [
  {
   "cell_type": "markdown",
   "metadata": {},
   "source": [
    "<small><small><i>\n",
    "All the IPython Notebooks in this lecture series by Dr. Milan Parmar are available @ **[GitHub](https://github.com/milaan9/04_Python_Functions/tree/main/002_Python_Functions_Built_in)**\n",
    "</i></small></small>"
   ]
  },
  {
   "cell_type": "markdown",
   "metadata": {},
   "source": [
    "# Python `format()`\n",
    "\n",
    "The built-in **`format()`** method returns a formatted representation of the given value controlled by the format specifier.\n",
    "\n",
    "The **`format()`** function is similar to the **[String format](https://github.com/milaan9/02_Python_Datatypes/blob/main/002_Python_String_Methods/009_Python_String_format%28%29.ipynb)** method. Internally, both methods call **`__format__()`** method of an object.\n",
    "\n",
    "While the built-in **`format()`** function is a low level implementation for formatting an object using **`__format__()`** internally, string **`format()`** is a higher level implementation able to perform complex formatting operations on multiple object strings as well.\n",
    "\n",
    "**Syntax**:\n",
    "\n",
    "```python\n",
    "format(value[, format_spec])\n",
    "```"
   ]
  },
  {
   "cell_type": "markdown",
   "metadata": {},
   "source": [
    "## `format()` Parameters\n",
    "\n",
    "The **`format()`** function takes two parameters:\n",
    "\n",
    "* **value** - value that needs to be formatted\n",
    "* **format_spec** - The specification on how the value should be formatted.\n",
    "\n",
    "The format specifier could be in the format:\n",
    "\n",
    "**`[[fill]align][sign][#][0][width][,][.precision][type]`**\n",
    "\n",
    "**where, the options are**\n",
    "\n",
    "| Parameter Type | **`::=`** | Usage |\n",
    "|:----| :--- | :--- |\n",
    "| **fill** | **`::=`** | **any character** |\n",
    "| **align** | **`::=`** | **\"`<`\" or \"`>`\" or \"`=`\" or \"`^`\"** |\n",
    "| **sign** | **`::=`** | **\"`+`\" or \"`-`\" or \"` `\"** |\n",
    "| **width** | **`::=`** | **integer** |\n",
    "| **precision** | **`::=`** | **integer** |\n",
    "| **type** | **`::=`** | **\"`b`\" or \"`c`\" or \"`d`\" or \"`e`\" or \"`E`\" or \"`f`\" or \"`F`\" or \"`g`\" or \"`G`\" or \"`n`\" or \"`o`\" or \"`s`\" or \"`x`\" or \"`X`\" or \"`%`\"** |\n",
    "\n",
    "Visit these links to learn more about **[format types](https://github.com/milaan9/02_Python_Datatypes/blob/main/002_Python_String_Methods/009_Python_String_format%28%29.ipynb)** and **[alignment](https://github.com/milaan9/02_Python_Datatypes/blob/main/002_Python_String_Methods/009_Python_String_format%28%29.ipynb)**."
   ]
  },
  {
   "cell_type": "markdown",
   "metadata": {},
   "source": [
    "## Return Value from `format()`\n",
    "\n",
    "The **`format()`** function returns a formatted representation of a given value specified by the format specifier."
   ]
  },
  {
   "cell_type": "code",
   "execution_count": 1,
   "metadata": {
    "ExecuteTime": {
     "end_time": "2021-06-14T10:00:17.432645Z",
     "start_time": "2021-06-14T10:00:17.411648Z"
    },
    "scrolled": true
   },
   "outputs": [
    {
     "name": "stdout",
     "output_type": "stream",
     "text": [
      "123\n",
      "123.456790\n",
      "1100\n"
     ]
    }
   ],
   "source": [
    "# Example 1: Number formatting with format()\n",
    "# d, f and b are type\n",
    "\n",
    "# integer\n",
    "print(format(123, \"d\"))\n",
    "\n",
    "# float arguments\n",
    "print(format(123.4567898, \"f\"))\n",
    "\n",
    "# binary format\n",
    "print(format(12, \"b\"))"
   ]
  },
  {
   "cell_type": "code",
   "execution_count": 2,
   "metadata": {
    "ExecuteTime": {
     "end_time": "2021-06-14T10:00:18.293967Z",
     "start_time": "2021-06-14T10:00:18.276394Z"
    }
   },
   "outputs": [
    {
     "name": "stdout",
     "output_type": "stream",
     "text": [
      "*+1,234\n",
      "0123.4570\n"
     ]
    }
   ],
   "source": [
    "# Example 2: Number formatting with fill, align, sign, width, precision and type\n",
    "# integer \n",
    "\n",
    "print(format(1234, \"*>+7,d\"))\n",
    "\n",
    "# float number\n",
    "print(format(123.4567, \"^-09.3f\"))"
   ]
  },
  {
   "cell_type": "markdown",
   "metadata": {},
   "source": [
    "**Explanation**:\n",
    "\n",
    "Here, when formatting the integer **`1234`**, we've specified the formatting specifier **`*>+7,d`**. Let's understand each option:\n",
    "\n",
    "* **`*`** - It is the fill character that fills up the empty spaces after formatting\n",
    "* **`>`** - It is the right alignment option that aligns the output string to the right\n",
    "* **`+`** - It is the sign option that forces the number to be signed (having a sign on its left)\n",
    "* **`7`** - It is the width option that forces the number to take a minimum width of 7, other spaces will be filled by fill character\n",
    "* **`,`** - It is the thousands operator that places a comma between all thousands.\n",
    "* **`d`** - It is the type option that specifies the number is an integer.\n",
    "\n",
    "When formatting the floating point number **`123.4567`**, we've specified the format specifier **`^-09.3f`**. These are:\n",
    "\n",
    "* **`^`** - It is the center alignment option that aligns the output string to the center of the remaining space\n",
    "* **`-`** - It is the sign option that forces only negative numbers to show the sign\n",
    "* **`0`** - It is the character that is placed in place of the empty spaces.\n",
    "* **`9`** - It is the width option that sets the minimum width of the number to 9 (including decimal point, thousands comma and sign)\n",
    "* **`.3`** - It is the precision operator that sets the precision of the given floating number to 3 places\n",
    "* **`f`** - It is the type option that specifies the number is a float."
   ]
  },
  {
   "cell_type": "code",
   "execution_count": 3,
   "metadata": {
    "ExecuteTime": {
     "end_time": "2021-06-14T10:00:21.382331Z",
     "start_time": "2021-06-14T10:00:21.368662Z"
    }
   },
   "outputs": [
    {
     "name": "stdout",
     "output_type": "stream",
     "text": [
      "23\n"
     ]
    }
   ],
   "source": [
    "# Example 3: Using format() by overriding __format__()\n",
    "# custom __format__() method\n",
    "\n",
    "class Person:\n",
    "    def __format__(self, format):\n",
    "        if(format == 'age'):\n",
    "            return '23'\n",
    "        return 'None'\n",
    "\n",
    "print(format(Person(), \"age\"))"
   ]
  },
  {
   "cell_type": "markdown",
   "metadata": {},
   "source": [
    "**Explanation**:\n",
    "\n",
    "Here, we have overridden the **`__format__()`** method of the class **`Person`**.\n",
    "\n",
    "It now accepts a **`format`** parameter and returns 23 if it is equal to **`'age'`**. If no format is specified, **`None`** is returned.\n",
    "\n",
    "The **`format()`** function internally runs **`Person().__format__(\"age\")`** to return 23."
   ]
  },
  {
   "cell_type": "code",
   "execution_count": null,
   "metadata": {},
   "outputs": [],
   "source": []
  }
 ],
 "metadata": {
  "hide_input": false,
  "kernelspec": {
   "display_name": "Python 3",
   "language": "python",
   "name": "python3"
  },
  "language_info": {
   "codemirror_mode": {
    "name": "ipython",
    "version": 3
   },
   "file_extension": ".py",
   "mimetype": "text/x-python",
   "name": "python",
   "nbconvert_exporter": "python",
   "pygments_lexer": "ipython3",
   "version": "3.8.8"
  },
  "toc": {
   "base_numbering": 1,
   "nav_menu": {},
   "number_sections": true,
   "sideBar": true,
   "skip_h1_title": false,
   "title_cell": "Table of Contents",
   "title_sidebar": "Contents",
   "toc_cell": false,
   "toc_position": {},
   "toc_section_display": true,
   "toc_window_display": false
  },
  "varInspector": {
   "cols": {
    "lenName": 16,
    "lenType": 16,
    "lenVar": 40
   },
   "kernels_config": {
    "python": {
     "delete_cmd_postfix": "",
     "delete_cmd_prefix": "del ",
     "library": "var_list.py",
     "varRefreshCmd": "print(var_dic_list())"
    },
    "r": {
     "delete_cmd_postfix": ") ",
     "delete_cmd_prefix": "rm(",
     "library": "var_list.r",
     "varRefreshCmd": "cat(var_dic_list()) "
    }
   },
   "types_to_exclude": [
    "module",
    "function",
    "builtin_function_or_method",
    "instance",
    "_Feature"
   ],
   "window_display": false
  }
 },
 "nbformat": 4,
 "nbformat_minor": 2
}
