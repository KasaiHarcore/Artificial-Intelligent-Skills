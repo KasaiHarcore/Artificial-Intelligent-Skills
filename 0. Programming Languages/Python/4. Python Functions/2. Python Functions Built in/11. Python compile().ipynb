{
 "cells": [
  {
   "cell_type": "markdown",
   "metadata": {},
   "source": [
    "<small><small><i>\n",
    "All the IPython Notebooks in this lecture series by Dr. Milan Parmar are available @ **[GitHub](https://github.com/milaan9/04_Python_Functions/tree/main/002_Python_Functions_Built_in)**\n",
    "</i></small></small>"
   ]
  },
  {
   "cell_type": "markdown",
   "metadata": {},
   "source": [
    "# Python `compile()`\n",
    "\n",
    "The **`compile()`** method returns a Python code object from the source (normal string, a byte string, or an AST object).\n",
    "\n",
    "**Syntax**:\n",
    "\n",
    "```python\n",
    "compile(source, filename, mode, flags=0, dont_inherit=False, optimize=-1)\n",
    "```\n",
    "\n",
    "**`compile()`** method is used if the Python code is in string form or is an AST object, and you want to change it to a code object.\n",
    "\n",
    "The code object returned by **`compile()`** method can later be called using methods like: **[exec()](https://github.com/milaan9/04_Python_Functions/blob/main/002_Python_Functions_Built_in/027_Python_exec%28%29.ipynb)** and **[eval()](https://github.com/milaan9/04_Python_Functions/blob/main/002_Python_Functions_Built_in/021_Python_eval%28%29.ipynb)** which will execute dynamically generated Python code."
   ]
  },
  {
   "cell_type": "markdown",
   "metadata": {},
   "source": [
    "## `compile()` Parameters\n",
    "\n",
    "* **`source`** - a normal string, a byte string, or an AST object\n",
    "* **`filename`** - file from which the code was read. If it wasn't read from a file, you can give a name yourself\n",
    "* **`mode`** - Either **`eval`** or **`exec`** or **`single`**.\n",
    "    * **`eval`** - accepts only a single expression.\n",
    "    * **`exec`** - It can take a code block that has Python statements, class and functions, and so on.\n",
    "    * **`single`** - if it consists of a single interactive statement\n",
    "* **`flags`** (optional) and **`dont_inherit`** (optional) - controls which future statements affect the * compilation of the source. Default Value: 0\n",
    "* **`optimize`** (optional) - optimization level of the compiler. Default value -1."
   ]
  },
  {
   "cell_type": "markdown",
   "metadata": {},
   "source": [
    "## Return Value from `compile()`\n",
    "\n",
    "**`compile()`** method returns a Python code object."
   ]
  },
  {
   "cell_type": "code",
   "execution_count": 1,
   "metadata": {
    "ExecuteTime": {
     "end_time": "2021-06-14T09:53:17.996156Z",
     "start_time": "2021-06-14T09:53:17.979071Z"
    }
   },
   "outputs": [
    {
     "name": "stdout",
     "output_type": "stream",
     "text": [
      "sum = 11\n"
     ]
    }
   ],
   "source": [
    "# Example 1: How compile() works?\n",
    "\n",
    "codeInString = 'a = 5\\nb=6\\nsum=a+b\\nprint(\"sum =\",sum)'\n",
    "codeObejct = compile(codeInString, 'sumstring', 'exec')\n",
    "\n",
    "exec(codeObejct)"
   ]
  },
  {
   "cell_type": "markdown",
   "metadata": {},
   "source": [
    "**Explanation**:\n",
    "\n",
    "Here, **`source`** is in normal string form. The **`filename`** is sumstring. And, the **`exec`** mode later allows the use of **`exec()`** method.\n",
    "\n",
    "**`compile()`** method converts the string to Python code object. The code object is then executed using **`exec()`** method."
   ]
  },
  {
   "cell_type": "code",
   "execution_count": null,
   "metadata": {},
   "outputs": [],
   "source": []
  }
 ],
 "metadata": {
  "hide_input": false,
  "kernelspec": {
   "display_name": "Python 3",
   "language": "python",
   "name": "python3"
  },
  "language_info": {
   "codemirror_mode": {
    "name": "ipython",
    "version": 3
   },
   "file_extension": ".py",
   "mimetype": "text/x-python",
   "name": "python",
   "nbconvert_exporter": "python",
   "pygments_lexer": "ipython3",
   "version": "3.8.8"
  },
  "toc": {
   "base_numbering": 1,
   "nav_menu": {},
   "number_sections": true,
   "sideBar": true,
   "skip_h1_title": false,
   "title_cell": "Table of Contents",
   "title_sidebar": "Contents",
   "toc_cell": false,
   "toc_position": {},
   "toc_section_display": true,
   "toc_window_display": false
  },
  "varInspector": {
   "cols": {
    "lenName": 16,
    "lenType": 16,
    "lenVar": 40
   },
   "kernels_config": {
    "python": {
     "delete_cmd_postfix": "",
     "delete_cmd_prefix": "del ",
     "library": "var_list.py",
     "varRefreshCmd": "print(var_dic_list())"
    },
    "r": {
     "delete_cmd_postfix": ") ",
     "delete_cmd_prefix": "rm(",
     "library": "var_list.r",
     "varRefreshCmd": "cat(var_dic_list()) "
    }
   },
   "types_to_exclude": [
    "module",
    "function",
    "builtin_function_or_method",
    "instance",
    "_Feature"
   ],
   "window_display": false
  }
 },
 "nbformat": 4,
 "nbformat_minor": 2
}
