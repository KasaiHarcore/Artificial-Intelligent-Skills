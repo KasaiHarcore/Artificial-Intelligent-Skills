{
 "cells": [
  {
   "cell_type": "markdown",
   "metadata": {},
   "source": [
    "<small><small><i>\n",
    "All the IPython Notebooks in this lecture series by Dr. Milan Parmar are available @ **[GitHub](https://github.com/milaan9/04_Python_Functions/tree/main/002_Python_Functions_Built_in)**\n",
    "</i></small></small>"
   ]
  },
  {
   "cell_type": "markdown",
   "metadata": {},
   "source": [
    "# Python `pow()`\n",
    "\n",
    "The **`pow()`** function returns the power of a number.\n",
    "\n",
    "**Syntax**:\n",
    "\n",
    "```python\n",
    "pow(x, y, z)\n",
    "```"
   ]
  },
  {
   "cell_type": "markdown",
   "metadata": {},
   "source": [
    "## `pow()` Parameters\n",
    "\n",
    "The pow() function takes three parameters:\n",
    "\n",
    "* **x** - a number, the base\n",
    "* **y** - a number, the exponent\n",
    "* **z (optional)** - a number, used for modulus\n",
    "\n",
    "Hence,\n",
    "\n",
    "* **`pow(x, y)`** is equal to **$x^y$**\n",
    "* **`pow(x, y, z)`** is equal to **$x^y$`% z`**"
   ]
  },
  {
   "cell_type": "code",
   "execution_count": 1,
   "metadata": {
    "ExecuteTime": {
     "end_time": "2021-06-14T11:31:28.198442Z",
     "start_time": "2021-06-14T11:31:28.190631Z"
    },
    "scrolled": true
   },
   "outputs": [
    {
     "name": "stdout",
     "output_type": "stream",
     "text": [
      "4\n",
      "4\n",
      "0.25\n",
      "0.25\n"
     ]
    }
   ],
   "source": [
    "# Example 1: Python pow()\n",
    "\n",
    "# positive x, positive y (x**y)\n",
    "print(pow(2, 2))    # 4\n",
    "\n",
    "# negative x, positive y\n",
    "print(pow(-2, 2))    # 4  \n",
    "\n",
    "# positive x, negative y\n",
    "print(pow(2, -2))    # 0.25\n",
    "\n",
    "# negative x, negative y\n",
    "print(pow(-2, -2))    # 0.25"
   ]
  },
  {
   "cell_type": "code",
   "execution_count": 2,
   "metadata": {
    "ExecuteTime": {
     "end_time": "2021-06-14T11:31:29.458198Z",
     "start_time": "2021-06-14T11:31:29.436717Z"
    }
   },
   "outputs": [
    {
     "name": "stdout",
     "output_type": "stream",
     "text": [
      "4\n"
     ]
    }
   ],
   "source": [
    "# Example 2: pow() with three arguments (x**y) % z\n",
    "\n",
    "x = 7\n",
    "y = 2\n",
    "z = 5\n",
    "\n",
    "print(pow(x, y, z))    # 4"
   ]
  },
  {
   "cell_type": "markdown",
   "metadata": {},
   "source": [
    "Here, 7 powered by 2 equals 49. Then, 49 modulus 5 equals 4."
   ]
  },
  {
   "cell_type": "code",
   "execution_count": null,
   "metadata": {},
   "outputs": [],
   "source": []
  }
 ],
 "metadata": {
  "hide_input": false,
  "kernelspec": {
   "display_name": "Python 3",
   "language": "python",
   "name": "python3"
  },
  "language_info": {
   "codemirror_mode": {
    "name": "ipython",
    "version": 3
   },
   "file_extension": ".py",
   "mimetype": "text/x-python",
   "name": "python",
   "nbconvert_exporter": "python",
   "pygments_lexer": "ipython3",
   "version": "3.8.8"
  },
  "toc": {
   "base_numbering": 1,
   "nav_menu": {},
   "number_sections": true,
   "sideBar": true,
   "skip_h1_title": false,
   "title_cell": "Table of Contents",
   "title_sidebar": "Contents",
   "toc_cell": false,
   "toc_position": {},
   "toc_section_display": true,
   "toc_window_display": false
  },
  "varInspector": {
   "cols": {
    "lenName": 16,
    "lenType": 16,
    "lenVar": 40
   },
   "kernels_config": {
    "python": {
     "delete_cmd_postfix": "",
     "delete_cmd_prefix": "del ",
     "library": "var_list.py",
     "varRefreshCmd": "print(var_dic_list())"
    },
    "r": {
     "delete_cmd_postfix": ") ",
     "delete_cmd_prefix": "rm(",
     "library": "var_list.r",
     "varRefreshCmd": "cat(var_dic_list()) "
    }
   },
   "types_to_exclude": [
    "module",
    "function",
    "builtin_function_or_method",
    "instance",
    "_Feature"
   ],
   "window_display": false
  }
 },
 "nbformat": 4,
 "nbformat_minor": 2
}
