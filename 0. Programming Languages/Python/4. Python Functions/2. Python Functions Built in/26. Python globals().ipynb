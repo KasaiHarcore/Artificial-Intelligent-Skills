{
 "cells": [
  {
   "cell_type": "markdown",
   "metadata": {},
   "source": [
    "<small><small><i>\n",
    "All the IPython Notebooks in this lecture series by Dr. Milan Parmar are available @ **[GitHub](https://github.com/milaan9/04_Python_Functions/tree/main/002_Python_Functions_Built_in)**\n",
    "</i></small></small>"
   ]
  },
  {
   "cell_type": "markdown",
   "metadata": {},
   "source": [
    "# Python `globals()`\n",
    "\n",
    "The **`globals()`** method returns the dictionary of the current global symbol table.\n",
    "A symbol table is a data structure maintained by a compiler which contains all necessary information about the program.\n",
    "\n",
    "These include variable names, methods, classes, etc.\n",
    "\n",
    "There are mainly two kinds of symbol table.\n",
    "\n",
    "1. Local symbol table\n",
    "2. Global symbol table\n",
    "\n",
    "**Local** symbol table stores all information related to the local scope of the program, and is accessed in Python using **[locals()](https://github.com/milaan9/04_Python_Functions/blob/main/002_Python_Functions_Built_in/039_Python_locals%28%29.ipynb)** method.\n",
    "\n",
    "The local scope could be within a function, within a class, etc.\n",
    "\n",
    "Likewise, a **Global** symbol table stores all information related to the global scope of the program, and is accessed in Python using **`globals()`** method.\n",
    "\n",
    "The global scope contains all functions, variables that are not associated with any class or function.\n",
    "\n",
    "> Recommended Reading: **[Namespace and scope of in Python](https://github.com/milaan9/01_Python_Introduction/blob/main/013_Python_Namespace_and_Scope.ipynb)**"
   ]
  },
  {
   "cell_type": "markdown",
   "metadata": {},
   "source": [
    "## Syntax of `globals()`\n",
    "\n",
    "The globals table dictionary is the dictionary of the current module (inside a function, this is a module where it is defined, not the module where it is called).\n",
    "\n",
    "**Syntax**:\n",
    "\n",
    "```python\n",
    "globals()\n",
    "```"
   ]
  },
  {
   "cell_type": "markdown",
   "metadata": {},
   "source": [
    "## `globals()` Parameters\n",
    "\n",
    "The **`globals()`** method doesn't take any parameters."
   ]
  },
  {
   "cell_type": "markdown",
   "metadata": {},
   "source": [
    "## Return Value from `globals()`\n",
    "\n",
    "**`globals()`** method returns the dictionary of the current global symbol table."
   ]
  },
  {
   "cell_type": "code",
   "execution_count": 1,
   "metadata": {
    "ExecuteTime": {
     "end_time": "2021-06-14T10:02:37.247939Z",
     "start_time": "2021-06-14T10:02:37.223527Z"
    },
    "scrolled": false
   },
   "outputs": [
    {
     "data": {
      "text/plain": [
       "{'__name__': '__main__',\n",
       " '__doc__': 'Automatically created module for IPython interactive environment',\n",
       " '__package__': None,\n",
       " '__loader__': None,\n",
       " '__spec__': None,\n",
       " '__builtin__': <module 'builtins' (built-in)>,\n",
       " '__builtins__': <module 'builtins' (built-in)>,\n",
       " '_ih': ['',\n",
       "  '# Example 1: How globals() method works in Python?\\n\\nglobals()'],\n",
       " '_oh': {},\n",
       " '_dh': ['C:\\\\Users\\\\Deepak\\\\01_Learn_Python4Data\\\\04_Python_Functions\\\\002_Python_Functions_Built_in'],\n",
       " 'In': ['', '# Example 1: How globals() method works in Python?\\n\\nglobals()'],\n",
       " 'Out': {},\n",
       " 'get_ipython': <function IPython.core.getipython.get_ipython()>,\n",
       " 'exit': <IPython.core.autocall.ZMQExitAutocall at 0x1689fe80700>,\n",
       " 'quit': <IPython.core.autocall.ZMQExitAutocall at 0x1689fe80700>,\n",
       " '_': '',\n",
       " '__': '',\n",
       " '___': '',\n",
       " 'json': <module 'json' from 'C:\\\\ProgramData\\\\Anaconda3\\\\lib\\\\json\\\\__init__.py'>,\n",
       " 'getsizeof': <function sys.getsizeof>,\n",
       " 'NamespaceMagics': IPython.core.magics.namespace.NamespaceMagics,\n",
       " '_nms': <IPython.core.magics.namespace.NamespaceMagics at 0x1689fee94f0>,\n",
       " '_Jupyter': <ipykernel.zmqshell.ZMQInteractiveShell at 0x1689fdc3f10>,\n",
       " 'np': <module 'numpy' from 'C:\\\\ProgramData\\\\Anaconda3\\\\lib\\\\site-packages\\\\numpy\\\\__init__.py'>,\n",
       " '_getsizeof': <function __main__._getsizeof(x)>,\n",
       " '_getshapeof': <function __main__._getshapeof(x)>,\n",
       " 'var_dic_list': <function __main__.var_dic_list()>,\n",
       " '_i': '',\n",
       " '_ii': '',\n",
       " '_iii': '',\n",
       " '_i1': '# Example 1: How globals() method works in Python?\\n\\nglobals()'}"
      ]
     },
     "execution_count": 1,
     "metadata": {},
     "output_type": "execute_result"
    }
   ],
   "source": [
    "# Example 1: How globals() method works in Python?\n",
    "\n",
    "globals()"
   ]
  },
  {
   "cell_type": "markdown",
   "metadata": {},
   "source": [
    "The output shows all global variables and other symbols for the current program."
   ]
  },
  {
   "cell_type": "code",
   "execution_count": 2,
   "metadata": {
    "ExecuteTime": {
     "end_time": "2021-06-14T10:02:39.156623Z",
     "start_time": "2021-06-14T10:02:39.150762Z"
    }
   },
   "outputs": [
    {
     "name": "stdout",
     "output_type": "stream",
     "text": [
      "The age is: 25\n"
     ]
    }
   ],
   "source": [
    "# Example 2: Modify global variable using global()\n",
    "\n",
    "age = 23\n",
    "\n",
    "globals()['age'] = 25\n",
    "print('The age is:', age)"
   ]
  },
  {
   "cell_type": "markdown",
   "metadata": {},
   "source": [
    "**Explanation**:\n",
    "\n",
    "Here, since the global symbol table also stores all global variables, i.e. in this case, **`age`**, the value of **`age`** can be changed using **`globals()`** function.\n",
    "\n",
    "The dictionary returned is accessed using the key of the variable **`age`** and modified to 25.\n",
    "\n",
    "This is reflected in the global symbol table again."
   ]
  },
  {
   "cell_type": "code",
   "execution_count": null,
   "metadata": {},
   "outputs": [],
   "source": []
  }
 ],
 "metadata": {
  "hide_input": false,
  "kernelspec": {
   "display_name": "Python 3",
   "language": "python",
   "name": "python3"
  },
  "language_info": {
   "codemirror_mode": {
    "name": "ipython",
    "version": 3
   },
   "file_extension": ".py",
   "mimetype": "text/x-python",
   "name": "python",
   "nbconvert_exporter": "python",
   "pygments_lexer": "ipython3",
   "version": "3.8.8"
  },
  "toc": {
   "base_numbering": 1,
   "nav_menu": {},
   "number_sections": true,
   "sideBar": true,
   "skip_h1_title": false,
   "title_cell": "Table of Contents",
   "title_sidebar": "Contents",
   "toc_cell": false,
   "toc_position": {},
   "toc_section_display": true,
   "toc_window_display": false
  },
  "varInspector": {
   "cols": {
    "lenName": 16,
    "lenType": 16,
    "lenVar": 40
   },
   "kernels_config": {
    "python": {
     "delete_cmd_postfix": "",
     "delete_cmd_prefix": "del ",
     "library": "var_list.py",
     "varRefreshCmd": "print(var_dic_list())"
    },
    "r": {
     "delete_cmd_postfix": ") ",
     "delete_cmd_prefix": "rm(",
     "library": "var_list.r",
     "varRefreshCmd": "cat(var_dic_list()) "
    }
   },
   "types_to_exclude": [
    "module",
    "function",
    "builtin_function_or_method",
    "instance",
    "_Feature"
   ],
   "window_display": false
  }
 },
 "nbformat": 4,
 "nbformat_minor": 2
}
