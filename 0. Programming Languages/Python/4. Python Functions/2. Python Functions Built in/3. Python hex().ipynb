{
 "cells": [
  {
   "cell_type": "markdown",
   "metadata": {},
   "source": [
    "<small><small><i>\n",
    "All the IPython Notebooks in this lecture series by Dr. Milan Parmar are available @ **[GitHub](https://github.com/milaan9/04_Python_Functions/tree/main/002_Python_Functions_Built_in)**\n",
    "</i></small></small>"
   ]
  },
  {
   "cell_type": "markdown",
   "metadata": {},
   "source": [
    "# Python `hex()`\n",
    "\n",
    "The **`hex()`** function converts an integer number to the corresponding hexadecimal string.\n",
    "\n",
    "**Syntax**:\n",
    "\n",
    "```python\n",
    "hex(x)\n",
    "```"
   ]
  },
  {
   "cell_type": "markdown",
   "metadata": {},
   "source": [
    "## `hex()` Parameters\n",
    "\n",
    "**`hex()`** function takes a single argument.\n",
    "\n",
    "* **x** - integer number (int object or it has to define **`__index__()`** method that returns an integer)"
   ]
  },
  {
   "cell_type": "markdown",
   "metadata": {},
   "source": [
    "## Return Value from `hex()`\n",
    "\n",
    "**`hex()`** function converts an integer to the corresponding hexadecimal number in string form and returns it.\n",
    "\n",
    "The returned hexadecimal string starts with the prefix **`0x`** indicating it's in hexadecimal form."
   ]
  },
  {
   "cell_type": "code",
   "execution_count": 1,
   "metadata": {
    "ExecuteTime": {
     "end_time": "2021-06-14T10:05:41.052342Z",
     "start_time": "2021-06-14T10:05:41.037694Z"
    },
    "scrolled": false
   },
   "outputs": [
    {
     "name": "stdout",
     "output_type": "stream",
     "text": [
      "435 in hex = 0x1b3\n",
      "0 in hex = 0x0\n",
      "-34 in hex = -0x22\n",
      "Return type from hex() is <class 'str'>\n"
     ]
    }
   ],
   "source": [
    "# Example 1: How hex() works?\n",
    "\n",
    "number = 435\n",
    "print(number, 'in hex =', hex(number))\n",
    "\n",
    "number = 0\n",
    "print(number, 'in hex =', hex(number))\n",
    "\n",
    "number = -34\n",
    "print(number, 'in hex =', hex(number))\n",
    "\n",
    "returnType = type(hex(number))\n",
    "print('Return type from hex() is', returnType)"
   ]
  },
  {
   "cell_type": "markdown",
   "metadata": {},
   "source": [
    "If you need to find a hexadecimal representation of a float, you need to use **`float.hex()`** method."
   ]
  },
  {
   "cell_type": "code",
   "execution_count": 2,
   "metadata": {
    "ExecuteTime": {
     "end_time": "2021-06-14T10:05:42.514738Z",
     "start_time": "2021-06-14T10:05:42.485442Z"
    }
   },
   "outputs": [
    {
     "name": "stdout",
     "output_type": "stream",
     "text": [
      "2.5 in hex = 0x1.4000000000000p+1\n",
      "0.0 in hex = 0x0.0p+0\n",
      "10.5 in hex = 0x1.5000000000000p+3\n"
     ]
    }
   ],
   "source": [
    "# Example 2: Hexadecimal representation of a float\n",
    "\n",
    "number = 2.5\n",
    "print(number, 'in hex =', float.hex(number))\n",
    "\n",
    "number = 0.0\n",
    "print(number, 'in hex =', float.hex(number))\n",
    "\n",
    "number = 10.5\n",
    "print(number, 'in hex =', float.hex(number))"
   ]
  },
  {
   "cell_type": "code",
   "execution_count": null,
   "metadata": {},
   "outputs": [],
   "source": []
  }
 ],
 "metadata": {
  "hide_input": false,
  "kernelspec": {
   "display_name": "Python 3",
   "language": "python",
   "name": "python3"
  },
  "language_info": {
   "codemirror_mode": {
    "name": "ipython",
    "version": 3
   },
   "file_extension": ".py",
   "mimetype": "text/x-python",
   "name": "python",
   "nbconvert_exporter": "python",
   "pygments_lexer": "ipython3",
   "version": "3.8.8"
  },
  "toc": {
   "base_numbering": 1,
   "nav_menu": {},
   "number_sections": true,
   "sideBar": true,
   "skip_h1_title": false,
   "title_cell": "Table of Contents",
   "title_sidebar": "Contents",
   "toc_cell": false,
   "toc_position": {},
   "toc_section_display": true,
   "toc_window_display": false
  },
  "varInspector": {
   "cols": {
    "lenName": 16,
    "lenType": 16,
    "lenVar": 40
   },
   "kernels_config": {
    "python": {
     "delete_cmd_postfix": "",
     "delete_cmd_prefix": "del ",
     "library": "var_list.py",
     "varRefreshCmd": "print(var_dic_list())"
    },
    "r": {
     "delete_cmd_postfix": ") ",
     "delete_cmd_prefix": "rm(",
     "library": "var_list.r",
     "varRefreshCmd": "cat(var_dic_list()) "
    }
   },
   "types_to_exclude": [
    "module",
    "function",
    "builtin_function_or_method",
    "instance",
    "_Feature"
   ],
   "window_display": false
  }
 },
 "nbformat": 4,
 "nbformat_minor": 2
}
