{
 "cells": [
  {
   "cell_type": "markdown",
   "metadata": {},
   "source": [
    "<small><small><i>\n",
    "All the IPython Notebooks in this lecture series by Dr. Milan Parmar are available @ **[GitHub](https://github.com/milaan9/04_Python_Functions/tree/main/002_Python_Functions_Built_in)**\n",
    "</i></small></small>"
   ]
  },
  {
   "cell_type": "markdown",
   "metadata": {},
   "source": [
    "# Python `id()`\n",
    "\n",
    "The **`id()`** function returns identity (unique integer) of an object.\n",
    "\n",
    "**Syntax**:\n",
    "\n",
    "```python\n",
    "id(object)\n",
    "```"
   ]
  },
  {
   "cell_type": "markdown",
   "metadata": {},
   "source": [
    "## `id()` Parameters\n",
    "\n",
    "**`id()`** function takes a single parameter **`object`**."
   ]
  },
  {
   "cell_type": "markdown",
   "metadata": {},
   "source": [
    "## Return Value from `id()`\n",
    "\n",
    "**`id()`** unction returns the identity of the object. This is an integer that is unique for the given object and remains constant during its lifetime."
   ]
  },
  {
   "cell_type": "code",
   "execution_count": 1,
   "metadata": {
    "ExecuteTime": {
     "end_time": "2021-06-14T11:17:49.863226Z",
     "start_time": "2021-06-14T11:17:49.846625Z"
    },
    "scrolled": false
   },
   "outputs": [
    {
     "name": "stdout",
     "output_type": "stream",
     "text": [
      "id of dummyFoo = 1830087123344\n"
     ]
    }
   ],
   "source": [
    "# Example 1: How id() works?\n",
    "class Foo:\n",
    "    b = 5\n",
    "\n",
    "dummyFoo = Foo()\n",
    "print('id of dummyFoo =',id(dummyFoo))"
   ]
  },
  {
   "cell_type": "code",
   "execution_count": 2,
   "metadata": {
    "ExecuteTime": {
     "end_time": "2021-06-14T11:17:50.893496Z",
     "start_time": "2021-06-14T11:17:50.882753Z"
    }
   },
   "outputs": [
    {
     "name": "stdout",
     "output_type": "stream",
     "text": [
      "id of 5 = 140731973642160\n",
      "id of a = 140731973642160\n",
      "id of b = 140731973642160\n",
      "id of c = 1830086141680\n"
     ]
    }
   ],
   "source": [
    "# More Examples on id()\n",
    "\n",
    "print('id of 5 =',id(5))\n",
    "\n",
    "a = 5\n",
    "print('id of a =',id(a))\n",
    "\n",
    "b = a\n",
    "print('id of b =',id(b))\n",
    "\n",
    "c = 5.0\n",
    "print('id of c =',id(c))"
   ]
  },
  {
   "cell_type": "markdown",
   "metadata": {},
   "source": [
    "It's important to note that everything in Python is an object, even numbers, and Classes.\n",
    "\n",
    "Hence, integer **`5`** has a unique id. The id of the integer **`5`** remains constant during the lifetime. Similar is the case for float **`5.5`** and other objects."
   ]
  },
  {
   "cell_type": "code",
   "execution_count": null,
   "metadata": {},
   "outputs": [],
   "source": []
  }
 ],
 "metadata": {
  "hide_input": false,
  "kernelspec": {
   "display_name": "Python 3",
   "language": "python",
   "name": "python3"
  },
  "language_info": {
   "codemirror_mode": {
    "name": "ipython",
    "version": 3
   },
   "file_extension": ".py",
   "mimetype": "text/x-python",
   "name": "python",
   "nbconvert_exporter": "python",
   "pygments_lexer": "ipython3",
   "version": "3.8.8"
  },
  "toc": {
   "base_numbering": 1,
   "nav_menu": {},
   "number_sections": true,
   "sideBar": true,
   "skip_h1_title": false,
   "title_cell": "Table of Contents",
   "title_sidebar": "Contents",
   "toc_cell": false,
   "toc_position": {},
   "toc_section_display": true,
   "toc_window_display": false
  },
  "varInspector": {
   "cols": {
    "lenName": 16,
    "lenType": 16,
    "lenVar": 40
   },
   "kernels_config": {
    "python": {
     "delete_cmd_postfix": "",
     "delete_cmd_prefix": "del ",
     "library": "var_list.py",
     "varRefreshCmd": "print(var_dic_list())"
    },
    "r": {
     "delete_cmd_postfix": ") ",
     "delete_cmd_prefix": "rm(",
     "library": "var_list.r",
     "varRefreshCmd": "cat(var_dic_list()) "
    }
   },
   "types_to_exclude": [
    "module",
    "function",
    "builtin_function_or_method",
    "instance",
    "_Feature"
   ],
   "window_display": false
  }
 },
 "nbformat": 4,
 "nbformat_minor": 2
}
