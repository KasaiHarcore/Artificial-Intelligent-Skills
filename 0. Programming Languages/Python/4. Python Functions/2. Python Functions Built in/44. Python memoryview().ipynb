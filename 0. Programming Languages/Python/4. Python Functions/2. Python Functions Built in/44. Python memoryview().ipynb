{
 "cells": [
  {
   "cell_type": "markdown",
   "metadata": {},
   "source": [
    "<small><small><i>\n",
    "All the IPython Notebooks in this lecture series by Dr. Milan Parmar are available @ **[GitHub](https://github.com/milaan9/04_Python_Functions/tree/main/002_Python_Functions_Built_in)**\n",
    "</i></small></small>"
   ]
  },
  {
   "cell_type": "markdown",
   "metadata": {},
   "source": [
    "# Python `memoryview()`\n",
    "\n",
    "The **`memoryview()`** function returns a memory view object of the given argument.\n",
    "\n",
    "Before we get into what memory views are, we need to first understand about Python's buffer protocol."
   ]
  },
  {
   "cell_type": "markdown",
   "metadata": {},
   "source": [
    "## Python Buffer Protocol\n",
    "\n",
    "The buffer protocol provides a way to access the internal data of an object. This internal data is a memory array or a buffer.\n",
    "\n",
    "The buffer protocol allows one object to expose its internal data (buffers) and the other to access those buffers without intermediate copying.\n",
    "\n",
    "This protocol is only accessible to us at the C-API level and not using our normal codebase.\n",
    "\n",
    "So, in order to expose the same protocol to the normal Python codebase, memory views are present."
   ]
  },
  {
   "cell_type": "markdown",
   "metadata": {},
   "source": [
    "## What is a memory view?\n",
    "\n",
    "A memory view is a safe way to expose the buffer protocol in Python.\n",
    "\n",
    "It allows you to access the internal buffers of an object by creating a memory view object."
   ]
  },
  {
   "cell_type": "markdown",
   "metadata": {},
   "source": [
    "## Why buffer protocol and memory views are important?\n",
    "\n",
    "We need to remember that whenever we perform some action on an object (call a function of an object, slice an array), Python needs to create a **copy of the object**.\n",
    "\n",
    "If we have large data to work with (eg. binary data of an image), we would unnecessarily create copies of huge chunks of data, which serves almost no use.\n",
    "\n",
    "Using the buffer protocol, we can give another object access to use/modify the large data without copying it. This makes the program use less memory and increases the execution speed."
   ]
  },
  {
   "cell_type": "markdown",
   "metadata": {},
   "source": [
    "**Syntax**:\n",
    "\n",
    "```python\n",
    "memoryview(obj)\n",
    "```"
   ]
  },
  {
   "cell_type": "markdown",
   "metadata": {},
   "source": [
    "## `memoryview()` Parameters\n",
    "\n",
    "The **`memoryview()`** function takes a single parameter:\n",
    "\n",
    "* **obj** - object whose internal data is to be exposed. **`obj`** must support the buffer protocol (**[bytes](https://github.com/milaan9/04_Python_Functions/blob/main/002_Python_Functions_Built_in/009_Python_bytes%28%29.ipynb)**, **[bytearray](https://github.com/milaan9/04_Python_Functions/blob/main/002_Python_Functions_Built_in/007_Python_bytearray%28%29.ipynb)**)"
   ]
  },
  {
   "cell_type": "markdown",
   "metadata": {},
   "source": [
    "## Return Value from `memoryview()`\n",
    "\n",
    "The **`memoryview()`** function returns a memory view object."
   ]
  },
  {
   "cell_type": "code",
   "execution_count": 1,
   "metadata": {
    "ExecuteTime": {
     "end_time": "2021-06-14T11:22:02.244695Z",
     "start_time": "2021-06-14T11:22:02.204655Z"
    },
    "scrolled": true
   },
   "outputs": [
    {
     "name": "stdout",
     "output_type": "stream",
     "text": [
      "65\n",
      "b'AB'\n",
      "[65, 66, 67]\n"
     ]
    }
   ],
   "source": [
    "# Example 1: How memoryview() works in Python?\n",
    "\n",
    "# random bytearray\n",
    "random_byte_array = bytearray('ABC', 'utf-8')\n",
    "\n",
    "mv = memoryview(random_byte_array)\n",
    "\n",
    "# access memory view's zeroth index\n",
    "print(mv[0])\n",
    "\n",
    "# create byte from memory view\n",
    "print(bytes(mv[0:2]))\n",
    "\n",
    "# create list from memory view\n",
    "print(list(mv[0:3]))"
   ]
  },
  {
   "cell_type": "markdown",
   "metadata": {},
   "source": [
    "**Explanation:**\n",
    "\n",
    "Here, we created a memory view object **`mv`** from the byte array **`random_byte_array`**.\n",
    "\n",
    "Then, we accessed the **`mv`**'s 0th index, **`'A'`**, and printed it (which gives the ASCII value - 65).\n",
    "\n",
    "Again, we accessed the **`mv`**'s indices from 0 and 1, **`'AB'`** , and converted them into bytes.\n",
    "\n",
    "Finally, we accessed all indices of **`mv`** and converted it to a list. Since internally **`bytearray`** stores ASCII value for the alphabets, the output is a list of ASCII values of **`A`**, **`B`**, and **`C`**."
   ]
  },
  {
   "cell_type": "code",
   "execution_count": 2,
   "metadata": {
    "ExecuteTime": {
     "end_time": "2021-06-14T11:22:05.793502Z",
     "start_time": "2021-06-14T11:22:05.771043Z"
    },
    "scrolled": true
   },
   "outputs": [
    {
     "name": "stdout",
     "output_type": "stream",
     "text": [
      "Before updation: bytearray(b'ABC')\n",
      "After updation: bytearray(b'AZC')\n"
     ]
    }
   ],
   "source": [
    "# Example 2: Modify internal data using memory view\n",
    "\n",
    "# random bytearray\n",
    "random_byte_array = bytearray('ABC', 'utf-8')\n",
    "print('Before updation:', random_byte_array)\n",
    "\n",
    "mv = memoryview(random_byte_array)\n",
    "\n",
    "# update 1st index of mv to Z\n",
    "mv[1] = 90\n",
    "print('After updation:', random_byte_array)"
   ]
  },
  {
   "cell_type": "markdown",
   "metadata": {},
   "source": [
    "**Explanation:**\n",
    "\n",
    "Here, we updated the memory view's 1st index to 90, the ASCII value of **`Z`**.\n",
    "\n",
    "Since, the memory view object mv references the same buffer/memory, updating the index in **`mv`** also updates **`random_byte_array`**."
   ]
  },
  {
   "cell_type": "code",
   "execution_count": null,
   "metadata": {},
   "outputs": [],
   "source": []
  }
 ],
 "metadata": {
  "hide_input": false,
  "kernelspec": {
   "display_name": "Python 3",
   "language": "python",
   "name": "python3"
  },
  "language_info": {
   "codemirror_mode": {
    "name": "ipython",
    "version": 3
   },
   "file_extension": ".py",
   "mimetype": "text/x-python",
   "name": "python",
   "nbconvert_exporter": "python",
   "pygments_lexer": "ipython3",
   "version": "3.8.8"
  },
  "toc": {
   "base_numbering": 1,
   "nav_menu": {},
   "number_sections": true,
   "sideBar": true,
   "skip_h1_title": false,
   "title_cell": "Table of Contents",
   "title_sidebar": "Contents",
   "toc_cell": false,
   "toc_position": {},
   "toc_section_display": true,
   "toc_window_display": false
  },
  "varInspector": {
   "cols": {
    "lenName": 16,
    "lenType": 16,
    "lenVar": 40
   },
   "kernels_config": {
    "python": {
     "delete_cmd_postfix": "",
     "delete_cmd_prefix": "del ",
     "library": "var_list.py",
     "varRefreshCmd": "print(var_dic_list())"
    },
    "r": {
     "delete_cmd_postfix": ") ",
     "delete_cmd_prefix": "rm(",
     "library": "var_list.r",
     "varRefreshCmd": "cat(var_dic_list()) "
    }
   },
   "types_to_exclude": [
    "module",
    "function",
    "builtin_function_or_method",
    "instance",
    "_Feature"
   ],
   "window_display": false
  }
 },
 "nbformat": 4,
 "nbformat_minor": 2
}
