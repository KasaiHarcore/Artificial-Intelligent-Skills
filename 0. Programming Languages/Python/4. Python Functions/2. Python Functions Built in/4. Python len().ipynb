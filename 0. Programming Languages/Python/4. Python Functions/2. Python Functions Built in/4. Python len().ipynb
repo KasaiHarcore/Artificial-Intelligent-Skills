{
 "cells": [
  {
   "cell_type": "markdown",
   "metadata": {},
   "source": [
    "<small><small><i>\n",
    "All the IPython Notebooks in this lecture series by Dr. Milan Parmar are available @ **[GitHub](https://github.com/milaan9/04_Python_Functions/tree/main/002_Python_Functions_Built_in)**\n",
    "</i></small></small>"
   ]
  },
  {
   "cell_type": "markdown",
   "metadata": {},
   "source": [
    "# Python `len()`\n",
    "\n",
    "The **`len()`** function returns the number of items (length) in an object.\n",
    "\n",
    "**Syntax**:\n",
    "\n",
    "```python\n",
    "len(s)\n",
    "```"
   ]
  },
  {
   "cell_type": "markdown",
   "metadata": {},
   "source": [
    "## `len()` Parameters\n",
    "\n",
    "* **s** - a sequence (string, bytes, tuple, list, or range) or a collection (dictionary, set or frozen set)"
   ]
  },
  {
   "cell_type": "markdown",
   "metadata": {},
   "source": [
    "## Return Value from `len()`\n",
    "\n",
    "**`len()`**  function returns the number of items of an object.\n",
    "\n",
    "Failing to pass an argument or passing an invalid argument will raise a **`TypeError`** exception."
   ]
  },
  {
   "cell_type": "code",
   "execution_count": 1,
   "metadata": {
    "ExecuteTime": {
     "end_time": "2021-06-14T11:20:01.553432Z",
     "start_time": "2021-06-14T11:20:01.527068Z"
    },
    "scrolled": true
   },
   "outputs": [
    {
     "name": "stdout",
     "output_type": "stream",
     "text": [
      "[] length is 0\n",
      "[1, 2, 3] length is 3\n",
      "(1, 2, 3) length is 3\n",
      "Length of range(1, 10) is 9\n"
     ]
    }
   ],
   "source": [
    "# Example 1: How len() works with tuples, lists and range?\n",
    "\n",
    "testList = []\n",
    "print(testList, 'length is', len(testList))\n",
    "\n",
    "testList = [1, 2, 3]\n",
    "print(testList, 'length is', len(testList))\n",
    "\n",
    "testTuple = (1, 2, 3)\n",
    "print(testTuple, 'length is', len(testTuple))\n",
    "\n",
    "testRange = range(1, 10)\n",
    "print('Length of', testRange, 'is', len(testRange))"
   ]
  },
  {
   "cell_type": "markdown",
   "metadata": {},
   "source": [
    "Visit these sections to learn more about:\n",
    "\n",
    "* **[Python Lists](https://github.com/milaan9/02_Python_Datatypes/blob/main/003_Python_List.ipynb)**\n",
    "* **[Python Tuples](https://github.com/milaan9/02_Python_Datatypes/blob/main/004_Python_Tuple.ipynb)**\n",
    "* **[Python range() Method](https://github.com/milaan9/04_Python_Functions/blob/main/002_Python_Functions_Built_in/053_Python_range%28%29.ipynb)**"
   ]
  },
  {
   "cell_type": "code",
   "execution_count": 2,
   "metadata": {
    "ExecuteTime": {
     "end_time": "2021-06-14T11:20:03.151568Z",
     "start_time": "2021-06-14T11:20:03.127159Z"
    },
    "scrolled": true
   },
   "outputs": [
    {
     "name": "stdout",
     "output_type": "stream",
     "text": [
      "Length of  is 0\n",
      "Length of Python is 6\n",
      "Length of b'Python' is 6\n",
      "Length of b'\\x01\\x02\\x03' is 3\n"
     ]
    }
   ],
   "source": [
    "# Example 2: How len() works with strings and bytes?\n",
    "\n",
    "testString = ''\n",
    "print('Length of', testString, 'is', len(testString))\n",
    "\n",
    "testString = 'Python'\n",
    "print('Length of', testString, 'is', len(testString))\n",
    "\n",
    "# byte object\n",
    "testByte = b'Python'\n",
    "print('Length of', testByte, 'is', len(testByte))\n",
    "\n",
    "testList = [1, 2, 3]\n",
    "\n",
    "# converting to bytes object\n",
    "testByte = bytes(testList)\n",
    "print('Length of', testByte, 'is', len(testByte))"
   ]
  },
  {
   "cell_type": "markdown",
   "metadata": {},
   "source": [
    "Visit these sections to learn more about:\n",
    "\n",
    "* **[Python Strings](https://github.com/milaan9/02_Python_Datatypes/blob/main/002_Python_String.ipynb)**\n",
    "* **[Python bytes() Method](https://github.com/milaan9/04_Python_Functions/blob/main/002_Python_Functions_Built_in/009_Python_bytes%28%29.ipynb)**"
   ]
  },
  {
   "cell_type": "code",
   "execution_count": 3,
   "metadata": {
    "ExecuteTime": {
     "end_time": "2021-06-14T11:20:05.367380Z",
     "start_time": "2021-06-14T11:20:05.342967Z"
    }
   },
   "outputs": [
    {
     "name": "stdout",
     "output_type": "stream",
     "text": [
      "{1, 2, 3} length is 3\n",
      "set() length is 0\n",
      "{1: 'one', 2: 'two'} length is 2\n",
      "{} length is 0\n",
      "frozenset({1, 2}) length is 2\n"
     ]
    }
   ],
   "source": [
    "# Example 3: How len() works with dictionaries and sets?\n",
    "\n",
    "testSet = {1, 2, 3}\n",
    "print(testSet, 'length is', len(testSet))\n",
    "\n",
    "# Empty Set\n",
    "testSet = set()\n",
    "print(testSet, 'length is', len(testSet))\n",
    "\n",
    "testDict = {1: 'one', 2: 'two'}\n",
    "print(testDict, 'length is', len(testDict))\n",
    "\n",
    "testDict = {}\n",
    "print(testDict, 'length is', len(testDict))\n",
    "\n",
    "testSet = {1, 2}\n",
    "# frozenSet\n",
    "frozenTestSet = frozenset(testSet)\n",
    "print(frozenTestSet, 'length is', len(frozenTestSet))"
   ]
  },
  {
   "cell_type": "markdown",
   "metadata": {},
   "source": [
    "Visit these sections to learn more about:\n",
    "\n",
    "* **[Python Dictionary](https://github.com/milaan9/02_Python_Datatypes/blob/main/005_Python_Dictionary.ipynb)**\n",
    "* **[Python Set](https://github.com/milaan9/02_Python_Datatypes/blob/main/006_Python_Sets.ipynb)**\n",
    "* **[Python frozenset()](https://github.com/milaan9/04_Python_Functions/blob/main/002_Python_Functions_Built_in/024_Python_frozenset%28%29.ipynb)**"
   ]
  },
  {
   "cell_type": "markdown",
   "metadata": {},
   "source": [
    "Internally, **`len()`** calls object's **`__len__`** method. You can think of **`len()`** as:\n",
    "\n",
    "```python\n",
    "def len(s):\n",
    "    return s.__len__()\n",
    "```\n",
    "\n",
    "So, you can assign custom length to the object (if necessary)"
   ]
  },
  {
   "cell_type": "code",
   "execution_count": 4,
   "metadata": {
    "ExecuteTime": {
     "end_time": "2021-06-14T11:20:08.716971Z",
     "start_time": "2021-06-14T11:20:08.702324Z"
    }
   },
   "outputs": [
    {
     "name": "stdout",
     "output_type": "stream",
     "text": [
      "0\n",
      "6\n"
     ]
    }
   ],
   "source": [
    "# Example 4: How len() works for custom objects?\n",
    "\n",
    "class Session:\n",
    "    def __init__(self, number = 0):\n",
    "        self.number = number\n",
    "    \n",
    "    def __len__(self):\n",
    "        return self.number\n",
    "\n",
    "\n",
    "# default length is 0\n",
    "s1 = Session()\n",
    "print(len(s1))\n",
    "\n",
    "# giving custom length\n",
    "s2 = Session(6)\n",
    "print(len(s2))"
   ]
  },
  {
   "cell_type": "code",
   "execution_count": null,
   "metadata": {},
   "outputs": [],
   "source": []
  }
 ],
 "metadata": {
  "hide_input": false,
  "kernelspec": {
   "display_name": "Python 3",
   "language": "python",
   "name": "python3"
  },
  "language_info": {
   "codemirror_mode": {
    "name": "ipython",
    "version": 3
   },
   "file_extension": ".py",
   "mimetype": "text/x-python",
   "name": "python",
   "nbconvert_exporter": "python",
   "pygments_lexer": "ipython3",
   "version": "3.8.8"
  },
  "toc": {
   "base_numbering": 1,
   "nav_menu": {},
   "number_sections": true,
   "sideBar": true,
   "skip_h1_title": false,
   "title_cell": "Table of Contents",
   "title_sidebar": "Contents",
   "toc_cell": false,
   "toc_position": {},
   "toc_section_display": true,
   "toc_window_display": false
  },
  "varInspector": {
   "cols": {
    "lenName": 16,
    "lenType": 16,
    "lenVar": 40
   },
   "kernels_config": {
    "python": {
     "delete_cmd_postfix": "",
     "delete_cmd_prefix": "del ",
     "library": "var_list.py",
     "varRefreshCmd": "print(var_dic_list())"
    },
    "r": {
     "delete_cmd_postfix": ") ",
     "delete_cmd_prefix": "rm(",
     "library": "var_list.r",
     "varRefreshCmd": "cat(var_dic_list()) "
    }
   },
   "types_to_exclude": [
    "module",
    "function",
    "builtin_function_or_method",
    "instance",
    "_Feature"
   ],
   "window_display": false
  }
 },
 "nbformat": 4,
 "nbformat_minor": 2
}
