{
 "cells": [
  {
   "cell_type": "markdown",
   "metadata": {},
   "source": [
    "<small><small><i>\n",
    "All the IPython Notebooks in this lecture series by Dr. Milan Parmar are available @ **[GitHub](https://github.com/milaan9/04_Python_Functions/tree/main/002_Python_Functions_Built_in)**\n",
    "</i></small></small>"
   ]
  },
  {
   "cell_type": "markdown",
   "metadata": {},
   "source": [
    "# Python `tuple()`\n",
    "\n",
    "The **`tuple()`** builtin can be used to create tuples in Python.\n",
    "\n",
    "In Python, a tuple is an immutable sequence type. One of the ways of creating tuple is by using the **`tuple()`** construct.\n",
    "\n",
    "**Syntax**:\n",
    "\n",
    "```python\n",
    "tuple(iterable)\n",
    "```"
   ]
  },
  {
   "cell_type": "markdown",
   "metadata": {},
   "source": [
    "## `tuple()` Parameters\n",
    "\n",
    "* **iterable (optional)** - an iterable (list, range, etc.) or an iterator object\n",
    "\n",
    "If the **`iterable`** is not passed to **`tuple()`**, the function returns an empty tuple."
   ]
  },
  {
   "cell_type": "code",
   "execution_count": 1,
   "metadata": {
    "ExecuteTime": {
     "end_time": "2021-06-14T11:39:05.140738Z",
     "start_time": "2021-06-14T11:39:05.117303Z"
    },
    "scrolled": false
   },
   "outputs": [
    {
     "name": "stdout",
     "output_type": "stream",
     "text": [
      "t1 = ()\n",
      "t2 = (1, 4, 6)\n",
      "t1 = ('P', 'y', 't', 'h', 'o', 'n')\n",
      "t1 = (1, 2)\n"
     ]
    }
   ],
   "source": [
    "# Example 1: Create tuples using tuple()\n",
    "\n",
    "t1 = tuple()\n",
    "print('t1 =', t1)\n",
    "\n",
    "# creating a tuple from a list\n",
    "t2 = tuple([1, 4, 6])\n",
    "print('t2 =', t2)\n",
    "\n",
    "# creating a tuple from a string\n",
    "t1 = tuple('Python')\n",
    "print('t1 =',t1)\n",
    "\n",
    "# creating a tuple from a dictionary\n",
    "t1 = tuple({1: 'one', 2: 'two'})\n",
    "print('t1 =',t1)"
   ]
  },
  {
   "cell_type": "markdown",
   "metadata": {},
   "source": [
    "Recommended reading: **[Python Tuples](https://github.com/milaan9/02_Python_Datatypes/blob/main/004_Python_Tuple.ipynb)**"
   ]
  },
  {
   "cell_type": "code",
   "execution_count": null,
   "metadata": {},
   "outputs": [],
   "source": []
  }
 ],
 "metadata": {
  "hide_input": false,
  "kernelspec": {
   "display_name": "Python 3",
   "language": "python",
   "name": "python3"
  },
  "language_info": {
   "codemirror_mode": {
    "name": "ipython",
    "version": 3
   },
   "file_extension": ".py",
   "mimetype": "text/x-python",
   "name": "python",
   "nbconvert_exporter": "python",
   "pygments_lexer": "ipython3",
   "version": "3.8.8"
  },
  "toc": {
   "base_numbering": 1,
   "nav_menu": {},
   "number_sections": true,
   "sideBar": true,
   "skip_h1_title": false,
   "title_cell": "Table of Contents",
   "title_sidebar": "Contents",
   "toc_cell": false,
   "toc_position": {},
   "toc_section_display": true,
   "toc_window_display": false
  },
  "varInspector": {
   "cols": {
    "lenName": 16,
    "lenType": 16,
    "lenVar": 40
   },
   "kernels_config": {
    "python": {
     "delete_cmd_postfix": "",
     "delete_cmd_prefix": "del ",
     "library": "var_list.py",
     "varRefreshCmd": "print(var_dic_list())"
    },
    "r": {
     "delete_cmd_postfix": ") ",
     "delete_cmd_prefix": "rm(",
     "library": "var_list.r",
     "varRefreshCmd": "cat(var_dic_list()) "
    }
   },
   "types_to_exclude": [
    "module",
    "function",
    "builtin_function_or_method",
    "instance",
    "_Feature"
   ],
   "window_display": false
  }
 },
 "nbformat": 4,
 "nbformat_minor": 2
}
