{
 "cells": [
  {
   "cell_type": "markdown",
   "metadata": {},
   "source": [
    "<small><small><i>\n",
    "All the IPython Notebooks in this lecture series by Dr. Milan Parmar are available @ **[GitHub](https://github.com/milaan9/04_Python_Functions/tree/main/002_Python_Functions_Built_in)**\n",
    "</i></small></small>"
   ]
  },
  {
   "cell_type": "markdown",
   "metadata": {},
   "source": [
    "# Python `bin()`\n",
    "\n",
    "The **`bin()`** method converts and returns the binary equivalent string of a given integer. If the parameter isn't an integer, it has to implement **`__index__()`** method to return an integer.\n",
    "\n",
    "**Syntax**:\n",
    "\n",
    "```python\n",
    "bin(num)\n",
    "```"
   ]
  },
  {
   "cell_type": "markdown",
   "metadata": {},
   "source": [
    "## `bin()` Parameters\n",
    "\n",
    "**`bin()`** method takes a single parameter:\n",
    "\n",
    "* **num** - an integer number whose binary equivalent is to be calculated.\n",
    "If not an integer, should implement **`__index__()`** method to return an integer."
   ]
  },
  {
   "cell_type": "markdown",
   "metadata": {},
   "source": [
    "## Return Value from `bin()`\n",
    "\n",
    "**`bin()`** method returns the binary string equivalent to the given integer.\n",
    "\n",
    "If not specified an integer, it raises a **`TypeError`** exception highlighting the type cannot be interpreted as an integer."
   ]
  },
  {
   "cell_type": "code",
   "execution_count": 1,
   "metadata": {
    "ExecuteTime": {
     "end_time": "2021-06-14T09:49:09.967604Z",
     "start_time": "2021-06-14T09:49:09.956865Z"
    }
   },
   "outputs": [
    {
     "name": "stdout",
     "output_type": "stream",
     "text": [
      "The binary equivalent of 5 is: 0b101\n"
     ]
    }
   ],
   "source": [
    "# Example 1: Convert integer to binary using bin()\n",
    "number = 5\n",
    "print('The binary equivalent of 5 is:', bin(number))"
   ]
  },
  {
   "cell_type": "markdown",
   "metadata": {},
   "source": [
    "The prefix **`0b`** represents that the result is a binary string."
   ]
  },
  {
   "cell_type": "code",
   "execution_count": 2,
   "metadata": {
    "ExecuteTime": {
     "end_time": "2021-06-14T09:49:11.596504Z",
     "start_time": "2021-06-14T09:49:11.586738Z"
    }
   },
   "outputs": [
    {
     "name": "stdout",
     "output_type": "stream",
     "text": [
      "The binary equivalent of quantity is: 0b101\n"
     ]
    }
   ],
   "source": [
    "# Example 2: Convert an object to binary implementing __index__() method\n",
    "\n",
    "class Quantity:\n",
    "    apple = 1\n",
    "    orange = 2\n",
    "    grapes = 2\n",
    "    \n",
    "    def __index__(self):\n",
    "        return self.apple + self.orange + self.grapes\n",
    "        \n",
    "print('The binary equivalent of quantity is:', bin(Quantity()))"
   ]
  },
  {
   "cell_type": "markdown",
   "metadata": {},
   "source": [
    "**Explanation**:\n",
    "\n",
    "Here, we've sent an object of class **`Quantity`** to the **`bin()`** method.\n",
    "\n",
    "**`bin()`** method doesn't raise an error even if the object Quantity is not an integer.\n",
    "\n",
    "This is because we have implemented the **`__index__()`** method which returns an integer (sum of fruit quantities). This integer is then supplied to the **`bin()`** method."
   ]
  },
  {
   "cell_type": "code",
   "execution_count": null,
   "metadata": {},
   "outputs": [],
   "source": []
  }
 ],
 "metadata": {
  "hide_input": false,
  "kernelspec": {
   "display_name": "Python 3",
   "language": "python",
   "name": "python3"
  },
  "language_info": {
   "codemirror_mode": {
    "name": "ipython",
    "version": 3
   },
   "file_extension": ".py",
   "mimetype": "text/x-python",
   "name": "python",
   "nbconvert_exporter": "python",
   "pygments_lexer": "ipython3",
   "version": "3.8.8"
  },
  "toc": {
   "base_numbering": 1,
   "nav_menu": {},
   "number_sections": true,
   "sideBar": true,
   "skip_h1_title": false,
   "title_cell": "Table of Contents",
   "title_sidebar": "Contents",
   "toc_cell": false,
   "toc_position": {},
   "toc_section_display": true,
   "toc_window_display": false
  },
  "varInspector": {
   "cols": {
    "lenName": 16,
    "lenType": 16,
    "lenVar": 40
   },
   "kernels_config": {
    "python": {
     "delete_cmd_postfix": "",
     "delete_cmd_prefix": "del ",
     "library": "var_list.py",
     "varRefreshCmd": "print(var_dic_list())"
    },
    "r": {
     "delete_cmd_postfix": ") ",
     "delete_cmd_prefix": "rm(",
     "library": "var_list.r",
     "varRefreshCmd": "cat(var_dic_list()) "
    }
   },
   "types_to_exclude": [
    "module",
    "function",
    "builtin_function_or_method",
    "instance",
    "_Feature"
   ],
   "window_display": false
  }
 },
 "nbformat": 4,
 "nbformat_minor": 2
}
