{
 "cells": [
  {
   "cell_type": "markdown",
   "metadata": {},
   "source": [
    "<small><small><i>\n",
    "All the IPython Notebooks in this lecture series by Dr. Milan Parmar are available @ **[GitHub](https://github.com/milaan9/04_Python_Functions/tree/main/002_Python_Functions_Built_in)**\n",
    "</i></small></small>"
   ]
  },
  {
   "cell_type": "markdown",
   "metadata": {},
   "source": [
    "# Python `property()`\n",
    "\n",
    "The **`property()`** construct returns the property attribute.\n",
    "\n",
    "**Syntax**:\n",
    "\n",
    "```python\n",
    "property(fget=None, fset=None, fdel=None, doc=None)\n",
    "```\n",
    "\n",
    "> Recommended Reading: **[Python @property: How to Use it and Why?](https://github.com/milaan9/07_Python_Advanced_Topics/blob/main/005_Python_Property.ipynb)**"
   ]
  },
  {
   "cell_type": "markdown",
   "metadata": {},
   "source": [
    "## `property()` Parameters\n",
    "\n",
    "The **`property()`** takes four optional parameters:\n",
    "\n",
    "* **fget (optional)** - Function for getting the attribute value. Defaults to **`None`**.\n",
    "* **fset (optional)** - Function for setting the attribute value. Defaults to **`None`**.\n",
    "* **fdel (optional)** - Function for deleting the attribute value. Defaults to **`None`**.\n",
    "* **doc (optional)** - A string that contains the documentation (docstring) for the attribute. Defaults to **`None`**."
   ]
  },
  {
   "cell_type": "markdown",
   "metadata": {},
   "source": [
    "## Return Value from `property()`\n",
    "\n",
    "**`property()`** returns the property attribute from the given getter, setter, and deleter.\n",
    "\n",
    "* If no arguments are given, **`property()`** returns a base property attribute that doesn't contain any getter, setter or deleter.\n",
    "* If **doc** isn't provided, **`property()`** takes the docstring of the getter function."
   ]
  },
  {
   "cell_type": "code",
   "execution_count": 1,
   "metadata": {
    "ExecuteTime": {
     "end_time": "2021-06-14T11:32:02.863305Z",
     "start_time": "2021-06-14T11:32:02.824242Z"
    },
    "scrolled": true
   },
   "outputs": [
    {
     "name": "stdout",
     "output_type": "stream",
     "text": [
      "Getting name\n",
      "Adam\n",
      "Setting name to John\n",
      "Deleting name\n"
     ]
    }
   ],
   "source": [
    "# Example 1: Create attribute with getter, setter, and deleter\n",
    "\n",
    "class Person:\n",
    "    def __init__(self, name):\n",
    "        self._name = name\n",
    "\n",
    "    def get_name(self):\n",
    "        print('Getting name')\n",
    "        return self._name\n",
    "\n",
    "    def set_name(self, value):\n",
    "        print('Setting name to ' + value)\n",
    "        self._name = value\n",
    "\n",
    "    def del_name(self):\n",
    "        print('Deleting name')\n",
    "        del self._name\n",
    "\n",
    "    # Set property to use get_name, set_name\n",
    "    # and del_name methods\n",
    "    name = property(get_name, set_name, del_name, 'Name property')\n",
    "\n",
    "p = Person('Adam')\n",
    "print(p.name)\n",
    "p.name = 'John'\n",
    "del p.name"
   ]
  },
  {
   "cell_type": "markdown",
   "metadata": {},
   "source": [
    "Here, **`_name`** is used as the private variable for storing the name of Person.\n",
    "\n",
    "We also set:\n",
    "\n",
    "* a getter method **`get_name()`** to get the name of the person,\n",
    "* a setter method **`set_name()`** to set the name of the person,\n",
    "* a deleter method **`del_name()`** to delete the name of the person.\n",
    "\n",
    "Now, we set a new property attribute **`name`** by calling the **`property()`** method.\n",
    "\n",
    "As shown in the program, referencing **`p.name`** internally calls **`get_name()`** as getter, **`set_name()`** as setter and **`del_name()`** as deleter through the printed output present inside the methods."
   ]
  },
  {
   "cell_type": "code",
   "execution_count": 2,
   "metadata": {
    "ExecuteTime": {
     "end_time": "2021-06-14T11:32:04.705582Z",
     "start_time": "2021-06-14T11:32:04.686051Z"
    }
   },
   "outputs": [
    {
     "name": "stdout",
     "output_type": "stream",
     "text": [
      "Getting name\n",
      "The name is: Adam\n",
      "Setting name to John\n",
      "Deleting name\n"
     ]
    }
   ],
   "source": [
    "# Example 2: Using @property decorator\n",
    "\n",
    "# Instead of using property(), you can use the Python decorator @property to assign\n",
    "# the getter, setter, and deleter.\n",
    "\n",
    "class Person:\n",
    "    def __init__(self, name):\n",
    "        self._name = name\n",
    "\n",
    "    @property\n",
    "    def name(self):\n",
    "        print('Getting name')\n",
    "        return self._name\n",
    "\n",
    "    @name.setter\n",
    "    def name(self, value):\n",
    "        print('Setting name to ' + value)\n",
    "        self._name = value\n",
    "\n",
    "    @name.deleter\n",
    "    def name(self):\n",
    "        print('Deleting name')\n",
    "        del self._name\n",
    "\n",
    "p = Person('Adam')\n",
    "print('The name is:', p.name)\n",
    "p.name = 'John'\n",
    "del p.name"
   ]
  },
  {
   "cell_type": "markdown",
   "metadata": {},
   "source": [
    "Here, instead of using **`property()`**, we've used the **`@property`** **[decorator](https://github.com/milaan9/07_Python_Advanced_Topics/blob/main/004_Python_Decorators.ipynb)**.\n",
    "\n",
    "First, we specify that **`name()`** method is also an attribute of **`Person`**. This is done by using **`@property`** before the getter method as shown in the program.\n",
    "\n",
    "Next, we use the attribute name to specify the setter and the deleter.\n",
    "\n",
    "This is done by using **`@name.setter`** for the setter method and **`@name.deleter`** for the deleter method.\n",
    "\n",
    "Notice, we've used the same method **`name()`** with different definitions for defining the getter, setter, and deleter.\n",
    "\n",
    "Now, whenever we use **`p.name`**, it internally calls the appropriate getter, setter, and deleter as shown by the printed output present inside the method."
   ]
  },
  {
   "cell_type": "code",
   "execution_count": null,
   "metadata": {},
   "outputs": [],
   "source": []
  }
 ],
 "metadata": {
  "hide_input": false,
  "kernelspec": {
   "display_name": "Python 3",
   "language": "python",
   "name": "python3"
  },
  "language_info": {
   "codemirror_mode": {
    "name": "ipython",
    "version": 3
   },
   "file_extension": ".py",
   "mimetype": "text/x-python",
   "name": "python",
   "nbconvert_exporter": "python",
   "pygments_lexer": "ipython3",
   "version": "3.8.8"
  },
  "toc": {
   "base_numbering": 1,
   "nav_menu": {},
   "number_sections": true,
   "sideBar": true,
   "skip_h1_title": false,
   "title_cell": "Table of Contents",
   "title_sidebar": "Contents",
   "toc_cell": false,
   "toc_position": {},
   "toc_section_display": true,
   "toc_window_display": false
  },
  "varInspector": {
   "cols": {
    "lenName": 16,
    "lenType": 16,
    "lenVar": 40
   },
   "kernels_config": {
    "python": {
     "delete_cmd_postfix": "",
     "delete_cmd_prefix": "del ",
     "library": "var_list.py",
     "varRefreshCmd": "print(var_dic_list())"
    },
    "r": {
     "delete_cmd_postfix": ") ",
     "delete_cmd_prefix": "rm(",
     "library": "var_list.r",
     "varRefreshCmd": "cat(var_dic_list()) "
    }
   },
   "types_to_exclude": [
    "module",
    "function",
    "builtin_function_or_method",
    "instance",
    "_Feature"
   ],
   "window_display": false
  }
 },
 "nbformat": 4,
 "nbformat_minor": 2
}
