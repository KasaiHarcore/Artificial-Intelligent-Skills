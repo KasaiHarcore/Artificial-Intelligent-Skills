{
 "cells": [
  {
   "cell_type": "markdown",
   "metadata": {},
   "source": [
    "<small><small><i>\n",
    "All the IPython Notebooks in this lecture series by Dr. Milan Parmar are available @ **[GitHub](https://github.com/milaan9/04_Python_Functions/tree/main/002_Python_Functions_Built_in)**\n",
    "</i></small></small>"
   ]
  },
  {
   "cell_type": "markdown",
   "metadata": {},
   "source": [
    "# Python `exec()`\n",
    "\n",
    "The **`exec()`** method executes the dynamically created program, which is either a string or a code object.\n",
    "\n",
    "**Syntax**:\n",
    "\n",
    "```python\n",
    "exec(object, globals, locals)\n",
    "```"
   ]
  },
  {
   "cell_type": "markdown",
   "metadata": {},
   "source": [
    "## `exec()` Parameters\n",
    "\n",
    "**`exec()`** takes three parameters:\n",
    "\n",
    "* **object** - Either a string or a code object\n",
    "* **globals (optional)** - a dictionary\n",
    "* **locals (optional)**- a mapping object. Dictionary is the standard and commonly used mapping type in Python.\n",
    "\n",
    "The use of **`globals`** and **`locals`** will be discussed later in the article."
   ]
  },
  {
   "cell_type": "markdown",
   "metadata": {},
   "source": [
    "## Return Value from `exec()`\n",
    "\n",
    "**`exec()`** doesn't return any value, it returns **`None`**."
   ]
  },
  {
   "cell_type": "code",
   "execution_count": 1,
   "metadata": {
    "ExecuteTime": {
     "end_time": "2021-06-14T10:03:35.619264Z",
     "start_time": "2021-06-14T10:03:35.602667Z"
    },
    "scrolled": false
   },
   "outputs": [
    {
     "name": "stdout",
     "output_type": "stream",
     "text": [
      "Sum = 15\n"
     ]
    }
   ],
   "source": [
    "# Example 1: How exec() works?\n",
    "\n",
    "program = 'a = 5\\nb=10\\nprint(\"Sum =\", a+b)'\n",
    "exec(program)"
   ]
  },
  {
   "cell_type": "markdown",
   "metadata": {},
   "source": [
    "**Explanation**:\n",
    "\n",
    "Here, the string object program is passed to **`exec()`** which executes the program. **`globals`** and **`locals`** are omitted in this case."
   ]
  },
  {
   "cell_type": "code",
   "execution_count": 2,
   "metadata": {
    "ExecuteTime": {
     "end_time": "2021-06-14T10:03:42.055765Z",
     "start_time": "2021-06-14T10:03:37.233518Z"
    }
   },
   "outputs": [
    {
     "name": "stdout",
     "output_type": "stream",
     "text": [
      "Enter a program:program\n"
     ]
    },
    {
     "data": {
      "text/plain": [
       "'\\nOutput:\\n\\nEnter a program: [print(item) for item in [1, 2, 3]]\\n1\\n2\\n3\\n'"
      ]
     },
     "execution_count": 2,
     "metadata": {},
     "output_type": "execute_result"
    }
   ],
   "source": [
    "# Example 2: Allow user to provide input\n",
    "\n",
    "program = input('Enter a program:')\n",
    "exec(program)\n",
    "\n",
    "'''\n",
    "Output:\n",
    "\n",
    "Enter a program: [print(item) for item in [1, 2, 3]]\n",
    "1\n",
    "2\n",
    "3\n",
    "'''"
   ]
  },
  {
   "cell_type": "markdown",
   "metadata": {},
   "source": [
    "**Explanation**:\n",
    "\n",
    "If you want to take Python code from the user which allows multiline code (using **`'\\n'`**), you can use **`compile()`** method before using **`exec()`**.\n",
    "\n",
    "Learn more about **[compile() method in Python](https://github.com/milaan9/04_Python_Functions/blob/main/002_Python_Functions_Built_in/011_Python_compile%28%29.ipynb)**."
   ]
  },
  {
   "cell_type": "markdown",
   "metadata": {},
   "source": [
    "## Be careful while using `exec()`\n",
    "\n",
    "Consider a situation, you are using a Unix system (macOS, Linux etc) and you have imported **`os`** module. The os module provides a portable way to use operating system functionalities like read or write a file.\n",
    "\n",
    "If you allow users to input a value using **`exec(input())`**, the user may issue commands to change file or even delete all the files using the command **`os.system('rm -rf *')`**."
   ]
  },
  {
   "cell_type": "markdown",
   "metadata": {},
   "source": [
    "If you are using **`exec(input())`** in your code, it's a good idea to check which variables and methods the user can use. You can see which variables and methods are available using **[dir() method](https://github.com/milaan9/04_Python_Functions/blob/main/002_Python_Functions_Built_in/016_Python_dir%28%29.ipynb)**."
   ]
  },
  {
   "cell_type": "code",
   "execution_count": 3,
   "metadata": {
    "ExecuteTime": {
     "end_time": "2021-06-14T10:03:46.902419Z",
     "start_time": "2021-06-14T10:03:46.880937Z"
    }
   },
   "outputs": [
    {
     "name": "stdout",
     "output_type": "stream",
     "text": [
      "['In', 'NamespaceMagics', 'Out', '_', '_2', '_Jupyter', '__', '___', '__builtin__', '__builtins__', '__doc__', '__loader__', '__name__', '__package__', '__spec__', '_dh', '_getshapeof', '_getsizeof', '_i', '_i1', '_i2', '_i3', '_ih', '_ii', '_iii', '_nms', '_oh', 'a', 'acos', 'acosh', 'asin', 'asinh', 'atan', 'atan2', 'atanh', 'b', 'ceil', 'comb', 'copysign', 'cos', 'cosh', 'degrees', 'dist', 'e', 'erf', 'erfc', 'exit', 'exp', 'expm1', 'fabs', 'factorial', 'floor', 'fmod', 'frexp', 'fsum', 'gamma', 'gcd', 'get_ipython', 'getsizeof', 'hypot', 'inf', 'isclose', 'isfinite', 'isinf', 'isnan', 'isqrt', 'json', 'ldexp', 'lgamma', 'log', 'log10', 'log1p', 'log2', 'modf', 'nan', 'np', 'perm', 'pi', 'pow', 'prod', 'program', 'quit', 'radians', 'remainder', 'sin', 'sinh', 'sqrt', 'tan', 'tanh', 'tau', 'trunc', 'var_dic_list']\n"
     ]
    }
   ],
   "source": [
    "from math import *\n",
    "exec('print(dir())')"
   ]
  },
  {
   "cell_type": "markdown",
   "metadata": {},
   "source": [
    "## Restricting the Use of Available Methods and Variables in `exec()`\n",
    "\n",
    "More often than not, all the available methods and variables used in **`exec()`** may not be needed, or even may have a security hole. You can restrict the use of these variables and methods by passing optional **`globals`** and **`locals`** parameters (dictionaries) to **`exec()`** method.\n",
    "\n",
    "### 1. Both globals and locals parameters are omitted\n",
    "\n",
    "If both parameters are omitted (as in our earlier examples), the code expected to be executed by **`exec()`** is executed in the current scope. You can check the available variables and methods using the following code:"
   ]
  },
  {
   "cell_type": "code",
   "execution_count": 4,
   "metadata": {
    "ExecuteTime": {
     "end_time": "2021-06-14T10:03:49.039131Z",
     "start_time": "2021-06-14T10:03:49.033273Z"
    }
   },
   "outputs": [
    {
     "name": "stdout",
     "output_type": "stream",
     "text": [
      "['In', 'NamespaceMagics', 'Out', '_', '_2', '_Jupyter', '__', '___', '__builtin__', '__builtins__', '__doc__', '__loader__', '__name__', '__package__', '__spec__', '_dh', '_getshapeof', '_getsizeof', '_i', '_i1', '_i2', '_i3', '_i4', '_ih', '_ii', '_iii', '_nms', '_oh', 'a', 'acos', 'acosh', 'asin', 'asinh', 'atan', 'atan2', 'atanh', 'b', 'ceil', 'comb', 'copysign', 'cos', 'cosh', 'degrees', 'dist', 'e', 'erf', 'erfc', 'exit', 'exp', 'expm1', 'fabs', 'factorial', 'floor', 'fmod', 'frexp', 'fsum', 'gamma', 'gcd', 'get_ipython', 'getsizeof', 'hypot', 'inf', 'isclose', 'isfinite', 'isinf', 'isnan', 'isqrt', 'json', 'ldexp', 'lgamma', 'log', 'log10', 'log1p', 'log2', 'modf', 'nan', 'np', 'perm', 'pi', 'pow', 'prod', 'program', 'quit', 'radians', 'remainder', 'sin', 'sinh', 'sqrt', 'tan', 'tanh', 'tau', 'trunc', 'var_dic_list']\n"
     ]
    }
   ],
   "source": [
    "exec('print(dir())')"
   ]
  },
  {
   "cell_type": "markdown",
   "metadata": {},
   "source": [
    "### 2. Passing globals parameter; locals parameter is omitted\n",
    "\n",
    "The **`globals`** and **`locals`** parameters (dictionaries) are used for global and local variables respectively. If **`locals`** dictionary is omitted, it defaults to **`globals`** dictionary. Meaning, **`globals`** will be used for both global and local variables.\n",
    "\n",
    "> **Note**: You can check the current global and local dictionary in Python using **[globals()](https://github.com/milaan9/04_Python_Functions/blob/main/002_Python_Functions_Built_in/026_Python_globals%28%29.ipynb)** and **[locals()](https://github.com/milaan9/04_Python_Functions/blob/main/002_Python_Functions_Built_in/039_Python_locals%28%29.ipynb)** built-in methods respectively."
   ]
  },
  {
   "cell_type": "markdown",
   "metadata": {},
   "source": [
    "### 3. Passing empty dictionary as globals parameter"
   ]
  },
  {
   "cell_type": "code",
   "execution_count": 5,
   "metadata": {
    "ExecuteTime": {
     "end_time": "2021-06-14T10:03:50.808166Z",
     "start_time": "2021-06-14T10:03:50.793518Z"
    }
   },
   "outputs": [
    {
     "name": "stdout",
     "output_type": "stream",
     "text": [
      "['__builtins__']\n"
     ]
    }
   ],
   "source": [
    "from math import *\n",
    "exec('print(dir())', {})\n",
    "\n",
    "# This code will raise an exception\n",
    "# exec('print(sqrt(9))', {})"
   ]
  },
  {
   "cell_type": "markdown",
   "metadata": {},
   "source": [
    "If you pass an empty dictionary as **`globals`**, only the **`__builtins__`** are available to the **`object`** (first parameter to the **`exec()`**). Even though we have imported math module in the above program, trying to access any of the functions provided by the **[math module](https://github.com/milaan9/04_Python_Functions/blob/main/009_Python_Function_math_Module.ipynb.ipynb)** will raise an exception."
   ]
  },
  {
   "cell_type": "markdown",
   "metadata": {},
   "source": [
    "#### Making Certain Methods available"
   ]
  },
  {
   "cell_type": "code",
   "execution_count": 6,
   "metadata": {
    "ExecuteTime": {
     "end_time": "2021-06-14T10:03:54.712935Z",
     "start_time": "2021-06-14T10:03:54.698288Z"
    }
   },
   "outputs": [
    {
     "name": "stdout",
     "output_type": "stream",
     "text": [
      "['__builtins__', 'pow', 'sqrt']\n",
      "3.0\n"
     ]
    }
   ],
   "source": [
    "from math import *\n",
    "exec('print(dir())', {'sqrt': sqrt, 'pow': pow})\n",
    "\n",
    "# object can have sqrt() module\n",
    "exec('print(sqrt(9))', {'sqrt': sqrt, 'pow': pow})"
   ]
  },
  {
   "cell_type": "markdown",
   "metadata": {},
   "source": [
    "Here, the code that is executed by **`exec()`** can also have **`sqrt()`** and **`pow()`** methods along with **`__builtins__`**.\n",
    "\n",
    "It's possible to change the name of the method according to your wish."
   ]
  },
  {
   "cell_type": "code",
   "execution_count": 7,
   "metadata": {
    "ExecuteTime": {
     "end_time": "2021-06-14T10:03:56.003946Z",
     "start_time": "2021-06-14T10:03:55.994182Z"
    }
   },
   "outputs": [
    {
     "name": "stdout",
     "output_type": "stream",
     "text": [
      "['__builtins__', 'pow', 'squareRoot']\n",
      "3.0\n"
     ]
    }
   ],
   "source": [
    "from math import *\n",
    "exec('print(dir())', {'squareRoot': sqrt, 'pow': pow})\n",
    "\n",
    "# object can have squareRoot() module\n",
    "exec('print(squareRoot(9))', {'squareRoot': sqrt, 'pow': pow})"
   ]
  },
  {
   "cell_type": "markdown",
   "metadata": {},
   "source": [
    "In the above program, **`squareRoot()`** calculates the square root (similar functionality like **`sqrt()`**). However, trying to use **`sqrt()`** will raise an exception."
   ]
  },
  {
   "cell_type": "markdown",
   "metadata": {},
   "source": [
    "#### Restricting the Use of built-ins\n",
    "\n",
    "You can restrict the use of **`__builtins__`** by giving value **`None`** to the **`'__builtins__'`** in the **`globals`** dictionary.\n",
    "\n",
    "```python\n",
    "exec(object, {'__builtins__': None}) \n",
    "```"
   ]
  },
  {
   "cell_type": "markdown",
   "metadata": {},
   "source": [
    "### 4. Passing both globals and locals dictionary\n",
    "\n",
    "You can make needed functions and variables available for use by passing **`locals`** dictionary. For example:"
   ]
  },
  {
   "cell_type": "code",
   "execution_count": 8,
   "metadata": {
    "ExecuteTime": {
     "end_time": "2021-06-14T10:04:00.051782Z",
     "start_time": "2021-06-14T10:04:00.042014Z"
    }
   },
   "outputs": [
    {
     "name": "stdout",
     "output_type": "stream",
     "text": [
      "['dir', 'print']\n"
     ]
    }
   ],
   "source": [
    "from math import *\n",
    "\n",
    "globalsParameter = {'__builtins__' : None}\n",
    "localsParameter = {'print': print, 'dir': dir}\n",
    "exec('print(dir())', globalsParameter, localsParameter)"
   ]
  },
  {
   "cell_type": "markdown",
   "metadata": {},
   "source": [
    "Here, only two built-in methods **[print()](https://github.com/milaan9/04_Python_Functions/blob/main/002_Python_Functions_Built_in/051_Python_print%28%29.ipynb)** and **[dir()](https://github.com/milaan9/04_Python_Functions/blob/main/002_Python_Functions_Built_in/016_Python_dir%28%29.ipynb)** can be executed by **`exec()`** method."
   ]
  },
  {
   "cell_type": "markdown",
   "metadata": {},
   "source": [
    "It's important to note that, **`exec()`** executes the code and doesn't return any value (returns **`None`**). Hence, you cannot use return and **[yield](https://github.com/milaan9/07_Python_Advanced_Topics/blob/main/002_Python_Generators.ipynb)** statements outside of the function definitions."
   ]
  },
  {
   "cell_type": "code",
   "execution_count": null,
   "metadata": {},
   "outputs": [],
   "source": []
  }
 ],
 "metadata": {
  "hide_input": false,
  "kernelspec": {
   "display_name": "Python 3",
   "language": "python",
   "name": "python3"
  },
  "language_info": {
   "codemirror_mode": {
    "name": "ipython",
    "version": 3
   },
   "file_extension": ".py",
   "mimetype": "text/x-python",
   "name": "python",
   "nbconvert_exporter": "python",
   "pygments_lexer": "ipython3",
   "version": "3.8.8"
  },
  "toc": {
   "base_numbering": 1,
   "nav_menu": {},
   "number_sections": true,
   "sideBar": true,
   "skip_h1_title": false,
   "title_cell": "Table of Contents",
   "title_sidebar": "Contents",
   "toc_cell": false,
   "toc_position": {},
   "toc_section_display": true,
   "toc_window_display": false
  },
  "varInspector": {
   "cols": {
    "lenName": 16,
    "lenType": 16,
    "lenVar": 40
   },
   "kernels_config": {
    "python": {
     "delete_cmd_postfix": "",
     "delete_cmd_prefix": "del ",
     "library": "var_list.py",
     "varRefreshCmd": "print(var_dic_list())"
    },
    "r": {
     "delete_cmd_postfix": ") ",
     "delete_cmd_prefix": "rm(",
     "library": "var_list.r",
     "varRefreshCmd": "cat(var_dic_list()) "
    }
   },
   "types_to_exclude": [
    "module",
    "function",
    "builtin_function_or_method",
    "instance",
    "_Feature"
   ],
   "window_display": false
  }
 },
 "nbformat": 4,
 "nbformat_minor": 2
}
