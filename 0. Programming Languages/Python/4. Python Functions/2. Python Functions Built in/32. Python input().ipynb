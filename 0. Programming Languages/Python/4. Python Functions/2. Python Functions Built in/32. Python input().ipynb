{
 "cells": [
  {
   "cell_type": "markdown",
   "metadata": {},
   "source": [
    "<small><small><i>\n",
    "All the IPython Notebooks in this lecture series by Dr. Milan Parmar are available @ **[GitHub](https://github.com/milaan9/04_Python_Functions/tree/main/002_Python_Functions_Built_in)**\n",
    "</i></small></small>"
   ]
  },
  {
   "cell_type": "markdown",
   "metadata": {},
   "source": [
    "# Python `input()`\n",
    "\n",
    "The **`input()`** method reads a line from input, converts into a string and returns it.\n",
    "\n",
    "**Syntax**:\n",
    "\n",
    "```python\n",
    "input([prompt])\n",
    "```"
   ]
  },
  {
   "cell_type": "markdown",
   "metadata": {},
   "source": [
    "## `input()` Parameters\n",
    "\n",
    "The **`input()`** method takes a single optional argument:\n",
    "\n",
    "* **prompt (Optional)** - a string that is written to standard output (usually screen) without trailing newline"
   ]
  },
  {
   "cell_type": "markdown",
   "metadata": {},
   "source": [
    "## Return Value from `input()`\n",
    "\n",
    "The **`input()`** method reads a line from the input (usually from the user), converts the line into a string by removing the trailing newline, and returns it.\n",
    "\n",
    "If **EOF** is read, it raises an **`EOFError`** exception."
   ]
  },
  {
   "cell_type": "code",
   "execution_count": 1,
   "metadata": {
    "ExecuteTime": {
     "end_time": "2021-06-14T10:06:22.281660Z",
     "start_time": "2021-06-14T10:06:11.670375Z"
    },
    "scrolled": false
   },
   "outputs": [
    {
     "name": "stdout",
     "output_type": "stream",
     "text": [
      "Hello\n",
      "The inputted string is: Hello\n"
     ]
    }
   ],
   "source": [
    "# Example 1: How input() works in Python?\n",
    "# get input from user\n",
    "\n",
    "inputString = input()\n",
    "\n",
    "print('The inputted string is:', inputString)"
   ]
  },
  {
   "cell_type": "code",
   "execution_count": 2,
   "metadata": {
    "ExecuteTime": {
     "end_time": "2021-06-14T10:06:39.105809Z",
     "start_time": "2021-06-14T10:06:25.118073Z"
    }
   },
   "outputs": [
    {
     "name": "stdout",
     "output_type": "stream",
     "text": [
      "Enter a string:Perfect\n",
      "The inputted string is: Perfect\n"
     ]
    }
   ],
   "source": [
    "# Example 2: Get input from user with a prompt\n",
    "# get input from user\n",
    "\n",
    "inputString = input('Enter a string:')\n",
    "\n",
    "print('The inputted string is:', inputString)"
   ]
  },
  {
   "cell_type": "code",
   "execution_count": null,
   "metadata": {},
   "outputs": [],
   "source": []
  }
 ],
 "metadata": {
  "hide_input": false,
  "kernelspec": {
   "display_name": "Python 3",
   "language": "python",
   "name": "python3"
  },
  "language_info": {
   "codemirror_mode": {
    "name": "ipython",
    "version": 3
   },
   "file_extension": ".py",
   "mimetype": "text/x-python",
   "name": "python",
   "nbconvert_exporter": "python",
   "pygments_lexer": "ipython3",
   "version": "3.8.8"
  },
  "toc": {
   "base_numbering": 1,
   "nav_menu": {},
   "number_sections": true,
   "sideBar": true,
   "skip_h1_title": false,
   "title_cell": "Table of Contents",
   "title_sidebar": "Contents",
   "toc_cell": false,
   "toc_position": {},
   "toc_section_display": true,
   "toc_window_display": false
  },
  "varInspector": {
   "cols": {
    "lenName": 16,
    "lenType": 16,
    "lenVar": 40
   },
   "kernels_config": {
    "python": {
     "delete_cmd_postfix": "",
     "delete_cmd_prefix": "del ",
     "library": "var_list.py",
     "varRefreshCmd": "print(var_dic_list())"
    },
    "r": {
     "delete_cmd_postfix": ") ",
     "delete_cmd_prefix": "rm(",
     "library": "var_list.r",
     "varRefreshCmd": "cat(var_dic_list()) "
    }
   },
   "types_to_exclude": [
    "module",
    "function",
    "builtin_function_or_method",
    "instance",
    "_Feature"
   ],
   "window_display": false
  }
 },
 "nbformat": 4,
 "nbformat_minor": 2
}
