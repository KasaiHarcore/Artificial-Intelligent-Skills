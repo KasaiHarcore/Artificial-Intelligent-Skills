{
 "cells": [
  {
   "cell_type": "markdown",
   "metadata": {},
   "source": [
    "<small><small><i>\n",
    "All the IPython Notebooks in this lecture series by Dr. Milan Parmar are available @ **[GitHub](https://github.com/milaan9/04_Python_Functions/tree/main/002_Python_Functions_Built_in)**\n",
    "</i></small></small>"
   ]
  },
  {
   "cell_type": "markdown",
   "metadata": {},
   "source": [
    "# Python `round()`\n",
    "\n",
    "The **`round()`** function returns a floating-point number rounded to the specified number of decimals.\n",
    "\n",
    "**Syntax**:\n",
    "\n",
    "```python\n",
    "round(number, ndigits)\n",
    "```"
   ]
  },
  {
   "cell_type": "markdown",
   "metadata": {},
   "source": [
    "## `round()` Parameters\n",
    "\n",
    "The **`round()`** function takes two parameters:\n",
    "\n",
    "* **number** - the number to be rounded\n",
    "* **ndigits (optional)** - number up to which the given number is rounded; defaults to 0"
   ]
  },
  {
   "cell_type": "markdown",
   "metadata": {},
   "source": [
    "## Return Value from `round()`\n",
    "\n",
    "* If **`ndigits`** is not provided, **`round()`** returns the nearest integer to the given number.\n",
    "* If **`ndigits`** is given, **`round()`** returns the number rounded off to the **`ndigits`** digits."
   ]
  },
  {
   "cell_type": "code",
   "execution_count": 1,
   "metadata": {
    "scrolled": true
   },
   "outputs": [
    {
     "name": "stdout",
     "output_type": "stream",
     "text": [
      "10\n",
      "11\n",
      "6\n"
     ]
    }
   ],
   "source": [
    "# Example 1: How round() works in Python?\n",
    "\n",
    "# for integers\n",
    "print(round(10))\n",
    "\n",
    "# for floating point\n",
    "print(round(10.7))\n",
    "\n",
    "# even choice\n",
    "print(round(5.5))"
   ]
  },
  {
   "cell_type": "code",
   "execution_count": 2,
   "metadata": {},
   "outputs": [
    {
     "name": "stdout",
     "output_type": "stream",
     "text": [
      "2.67\n",
      "2.67\n"
     ]
    }
   ],
   "source": [
    "# Example 2: Round a number to the given number of decimal places\n",
    "\n",
    "print(round(2.665, 2))\n",
    "print(round(2.675, 2))"
   ]
  },
  {
   "cell_type": "markdown",
   "metadata": {},
   "source": [
    ">**Note:** The behavior of **`round()`** for floats can be surprising. Notice **`round(2.675, 2) `** gives **`2.67`** instead of the expected **`2.68`**. This is not a bug: it's a result of the fact that most decimal fractions can't be represented exactly as a float.\n",
    "When the decimal **`2.675`** is converted to a binary floating-point number, it's again replaced with a binary approximation, whose exact value is:\n",
    "```python\n",
    "2.67499999999999982236431605997495353221893310546875\n",
    "```\n",
    "Due to this, it is rounded down to 2.67."
   ]
  },
  {
   "cell_type": "markdown",
   "metadata": {},
   "source": [
    "If you're in a situation where this precision is needed, consider using the **`decimal`** module, which is designed for floating-point arithmetic:"
   ]
  },
  {
   "cell_type": "code",
   "execution_count": 3,
   "metadata": {},
   "outputs": [
    {
     "name": "stdout",
     "output_type": "stream",
     "text": [
      "2.67\n",
      "2.68\n"
     ]
    }
   ],
   "source": [
    "# Example 3:\n",
    "\n",
    "from decimal import Decimal\n",
    "\n",
    "# normal float\n",
    "num = 2.675\n",
    "print(round(num, 2))\n",
    "\n",
    "# using decimal.Decimal (passed float as string for precision)\n",
    "num = Decimal('2.675')\n",
    "print(round(num, 2))"
   ]
  },
  {
   "cell_type": "code",
   "execution_count": null,
   "metadata": {},
   "outputs": [],
   "source": []
  }
 ],
 "metadata": {
  "kernelspec": {
   "display_name": "Python 3",
   "language": "python",
   "name": "python3"
  },
  "language_info": {
   "codemirror_mode": {
    "name": "ipython",
    "version": 3
   },
   "file_extension": ".py",
   "mimetype": "text/x-python",
   "name": "python",
   "nbconvert_exporter": "python",
   "pygments_lexer": "ipython3",
   "version": "3.8.8"
  }
 },
 "nbformat": 4,
 "nbformat_minor": 2
}
