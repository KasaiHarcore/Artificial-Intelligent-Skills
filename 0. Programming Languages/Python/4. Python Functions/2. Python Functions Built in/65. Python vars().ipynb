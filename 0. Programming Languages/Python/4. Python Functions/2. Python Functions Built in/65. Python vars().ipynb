{
 "cells": [
  {
   "cell_type": "markdown",
   "metadata": {},
   "source": [
    "<small><small><i>\n",
    "All the IPython Notebooks in this lecture series by Dr. Milan Parmar are available @ **[GitHub](https://github.com/milaan9/04_Python_Functions/tree/main/002_Python_Functions_Built_in)**\n",
    "</i></small></small>"
   ]
  },
  {
   "cell_type": "markdown",
   "metadata": {},
   "source": [
    "# Python `vars()`\n",
    "\n",
    "The **`vars()`** function returns the **`__dict__`** attribute of the given object.\n",
    "\n",
    "**Syntax**:\n",
    "\n",
    "```python\n",
    "vars(object)\n",
    "```"
   ]
  },
  {
   "cell_type": "markdown",
   "metadata": {},
   "source": [
    "## `vars()` Parameter\n",
    "\n",
    "**`vars()`** takes a maximum of one parameter.\n",
    "\n",
    "* **object** - can be module, class, instance, or any object having the **`__dict__`** attribute."
   ]
  },
  {
   "cell_type": "markdown",
   "metadata": {},
   "source": [
    "## Return Value from `vars()`\n",
    "\n",
    "* **`vars()`** returns the **`__dict__`** attribute of the given object.\n",
    "* If the object passed to **`vars()`** doesn't have the **`__dict__`** attribute, it raises a TypeError exception.\n",
    "* If no argument is passed to **`vars()`**, this function acts like **[locals() function](https://github.com/milaan9/04_Python_Functions/blob/main/002_Python_Functions_Built_in/039_Python_locals%28%29.ipynb)**.\n",
    "\n",
    ">**Note:** **`__dict__`** is a dictionary or a mapping object. It stores object's (writable) attributes."
   ]
  },
  {
   "cell_type": "code",
   "execution_count": 1,
   "metadata": {
    "scrolled": false
   },
   "outputs": [
    {
     "name": "stdout",
     "output_type": "stream",
     "text": [
      "{'a': 5, 'b': 10}\n"
     ]
    }
   ],
   "source": [
    "# Example: Working of Python vars()\n",
    "\n",
    "class Foo:\n",
    "    def __init__(self, a = 5, b = 10):\n",
    "        self.a = a\n",
    "        self.b = b\n",
    "  \n",
    "object = Foo()\n",
    "print(vars(object))"
   ]
  },
  {
   "cell_type": "markdown",
   "metadata": {},
   "source": [
    "Also, run these statements on Python shell:"
   ]
  },
  {
   "cell_type": "code",
   "execution_count": 2,
   "metadata": {},
   "outputs": [
    {
     "data": {
      "text/plain": [
       "mappingproxy({'__repr__': <slot wrapper '__repr__' of 'list' objects>,\n",
       "              '__hash__': None,\n",
       "              '__getattribute__': <slot wrapper '__getattribute__' of 'list' objects>,\n",
       "              '__lt__': <slot wrapper '__lt__' of 'list' objects>,\n",
       "              '__le__': <slot wrapper '__le__' of 'list' objects>,\n",
       "              '__eq__': <slot wrapper '__eq__' of 'list' objects>,\n",
       "              '__ne__': <slot wrapper '__ne__' of 'list' objects>,\n",
       "              '__gt__': <slot wrapper '__gt__' of 'list' objects>,\n",
       "              '__ge__': <slot wrapper '__ge__' of 'list' objects>,\n",
       "              '__iter__': <slot wrapper '__iter__' of 'list' objects>,\n",
       "              '__init__': <slot wrapper '__init__' of 'list' objects>,\n",
       "              '__len__': <slot wrapper '__len__' of 'list' objects>,\n",
       "              '__getitem__': <method '__getitem__' of 'list' objects>,\n",
       "              '__setitem__': <slot wrapper '__setitem__' of 'list' objects>,\n",
       "              '__delitem__': <slot wrapper '__delitem__' of 'list' objects>,\n",
       "              '__add__': <slot wrapper '__add__' of 'list' objects>,\n",
       "              '__mul__': <slot wrapper '__mul__' of 'list' objects>,\n",
       "              '__rmul__': <slot wrapper '__rmul__' of 'list' objects>,\n",
       "              '__contains__': <slot wrapper '__contains__' of 'list' objects>,\n",
       "              '__iadd__': <slot wrapper '__iadd__' of 'list' objects>,\n",
       "              '__imul__': <slot wrapper '__imul__' of 'list' objects>,\n",
       "              '__new__': <function list.__new__(*args, **kwargs)>,\n",
       "              '__reversed__': <method '__reversed__' of 'list' objects>,\n",
       "              '__sizeof__': <method '__sizeof__' of 'list' objects>,\n",
       "              'clear': <method 'clear' of 'list' objects>,\n",
       "              'copy': <method 'copy' of 'list' objects>,\n",
       "              'append': <method 'append' of 'list' objects>,\n",
       "              'insert': <method 'insert' of 'list' objects>,\n",
       "              'extend': <method 'extend' of 'list' objects>,\n",
       "              'pop': <method 'pop' of 'list' objects>,\n",
       "              'remove': <method 'remove' of 'list' objects>,\n",
       "              'index': <method 'index' of 'list' objects>,\n",
       "              'count': <method 'count' of 'list' objects>,\n",
       "              'reverse': <method 'reverse' of 'list' objects>,\n",
       "              'sort': <method 'sort' of 'list' objects>,\n",
       "              '__doc__': 'Built-in mutable sequence.\\n\\nIf no argument is given, the constructor creates a new empty list.\\nThe argument must be an iterable if specified.'})"
      ]
     },
     "execution_count": 2,
     "metadata": {},
     "output_type": "execute_result"
    }
   ],
   "source": [
    "vars(list)"
   ]
  },
  {
   "cell_type": "code",
   "execution_count": 3,
   "metadata": {},
   "outputs": [
    {
     "data": {
      "text/plain": [
       "mappingproxy({'__repr__': <slot wrapper '__repr__' of 'str' objects>,\n",
       "              '__hash__': <slot wrapper '__hash__' of 'str' objects>,\n",
       "              '__str__': <slot wrapper '__str__' of 'str' objects>,\n",
       "              '__getattribute__': <slot wrapper '__getattribute__' of 'str' objects>,\n",
       "              '__lt__': <slot wrapper '__lt__' of 'str' objects>,\n",
       "              '__le__': <slot wrapper '__le__' of 'str' objects>,\n",
       "              '__eq__': <slot wrapper '__eq__' of 'str' objects>,\n",
       "              '__ne__': <slot wrapper '__ne__' of 'str' objects>,\n",
       "              '__gt__': <slot wrapper '__gt__' of 'str' objects>,\n",
       "              '__ge__': <slot wrapper '__ge__' of 'str' objects>,\n",
       "              '__iter__': <slot wrapper '__iter__' of 'str' objects>,\n",
       "              '__mod__': <slot wrapper '__mod__' of 'str' objects>,\n",
       "              '__rmod__': <slot wrapper '__rmod__' of 'str' objects>,\n",
       "              '__len__': <slot wrapper '__len__' of 'str' objects>,\n",
       "              '__getitem__': <slot wrapper '__getitem__' of 'str' objects>,\n",
       "              '__add__': <slot wrapper '__add__' of 'str' objects>,\n",
       "              '__mul__': <slot wrapper '__mul__' of 'str' objects>,\n",
       "              '__rmul__': <slot wrapper '__rmul__' of 'str' objects>,\n",
       "              '__contains__': <slot wrapper '__contains__' of 'str' objects>,\n",
       "              '__new__': <function str.__new__(*args, **kwargs)>,\n",
       "              'encode': <method 'encode' of 'str' objects>,\n",
       "              'replace': <method 'replace' of 'str' objects>,\n",
       "              'split': <method 'split' of 'str' objects>,\n",
       "              'rsplit': <method 'rsplit' of 'str' objects>,\n",
       "              'join': <method 'join' of 'str' objects>,\n",
       "              'capitalize': <method 'capitalize' of 'str' objects>,\n",
       "              'casefold': <method 'casefold' of 'str' objects>,\n",
       "              'title': <method 'title' of 'str' objects>,\n",
       "              'center': <method 'center' of 'str' objects>,\n",
       "              'count': <method 'count' of 'str' objects>,\n",
       "              'expandtabs': <method 'expandtabs' of 'str' objects>,\n",
       "              'find': <method 'find' of 'str' objects>,\n",
       "              'partition': <method 'partition' of 'str' objects>,\n",
       "              'index': <method 'index' of 'str' objects>,\n",
       "              'ljust': <method 'ljust' of 'str' objects>,\n",
       "              'lower': <method 'lower' of 'str' objects>,\n",
       "              'lstrip': <method 'lstrip' of 'str' objects>,\n",
       "              'rfind': <method 'rfind' of 'str' objects>,\n",
       "              'rindex': <method 'rindex' of 'str' objects>,\n",
       "              'rjust': <method 'rjust' of 'str' objects>,\n",
       "              'rstrip': <method 'rstrip' of 'str' objects>,\n",
       "              'rpartition': <method 'rpartition' of 'str' objects>,\n",
       "              'splitlines': <method 'splitlines' of 'str' objects>,\n",
       "              'strip': <method 'strip' of 'str' objects>,\n",
       "              'swapcase': <method 'swapcase' of 'str' objects>,\n",
       "              'translate': <method 'translate' of 'str' objects>,\n",
       "              'upper': <method 'upper' of 'str' objects>,\n",
       "              'startswith': <method 'startswith' of 'str' objects>,\n",
       "              'endswith': <method 'endswith' of 'str' objects>,\n",
       "              'isascii': <method 'isascii' of 'str' objects>,\n",
       "              'islower': <method 'islower' of 'str' objects>,\n",
       "              'isupper': <method 'isupper' of 'str' objects>,\n",
       "              'istitle': <method 'istitle' of 'str' objects>,\n",
       "              'isspace': <method 'isspace' of 'str' objects>,\n",
       "              'isdecimal': <method 'isdecimal' of 'str' objects>,\n",
       "              'isdigit': <method 'isdigit' of 'str' objects>,\n",
       "              'isnumeric': <method 'isnumeric' of 'str' objects>,\n",
       "              'isalpha': <method 'isalpha' of 'str' objects>,\n",
       "              'isalnum': <method 'isalnum' of 'str' objects>,\n",
       "              'isidentifier': <method 'isidentifier' of 'str' objects>,\n",
       "              'isprintable': <method 'isprintable' of 'str' objects>,\n",
       "              'zfill': <method 'zfill' of 'str' objects>,\n",
       "              'format': <method 'format' of 'str' objects>,\n",
       "              'format_map': <method 'format_map' of 'str' objects>,\n",
       "              '__format__': <method '__format__' of 'str' objects>,\n",
       "              'maketrans': <staticmethod at 0x223d1520640>,\n",
       "              '__sizeof__': <method '__sizeof__' of 'str' objects>,\n",
       "              '__getnewargs__': <method '__getnewargs__' of 'str' objects>,\n",
       "              '__doc__': \"str(object='') -> str\\nstr(bytes_or_buffer[, encoding[, errors]]) -> str\\n\\nCreate a new string object from the given object. If encoding or\\nerrors is specified, then the object must expose a data buffer\\nthat will be decoded using the given encoding and error handler.\\nOtherwise, returns the result of object.__str__() (if defined)\\nor repr(object).\\nencoding defaults to sys.getdefaultencoding().\\nerrors defaults to 'strict'.\"})"
      ]
     },
     "execution_count": 3,
     "metadata": {},
     "output_type": "execute_result"
    }
   ],
   "source": [
    "vars(str)"
   ]
  },
  {
   "cell_type": "code",
   "execution_count": 4,
   "metadata": {},
   "outputs": [
    {
     "data": {
      "text/plain": [
       "mappingproxy({'__repr__': <slot wrapper '__repr__' of 'dict' objects>,\n",
       "              '__hash__': None,\n",
       "              '__getattribute__': <slot wrapper '__getattribute__' of 'dict' objects>,\n",
       "              '__lt__': <slot wrapper '__lt__' of 'dict' objects>,\n",
       "              '__le__': <slot wrapper '__le__' of 'dict' objects>,\n",
       "              '__eq__': <slot wrapper '__eq__' of 'dict' objects>,\n",
       "              '__ne__': <slot wrapper '__ne__' of 'dict' objects>,\n",
       "              '__gt__': <slot wrapper '__gt__' of 'dict' objects>,\n",
       "              '__ge__': <slot wrapper '__ge__' of 'dict' objects>,\n",
       "              '__iter__': <slot wrapper '__iter__' of 'dict' objects>,\n",
       "              '__init__': <slot wrapper '__init__' of 'dict' objects>,\n",
       "              '__len__': <slot wrapper '__len__' of 'dict' objects>,\n",
       "              '__getitem__': <method '__getitem__' of 'dict' objects>,\n",
       "              '__setitem__': <slot wrapper '__setitem__' of 'dict' objects>,\n",
       "              '__delitem__': <slot wrapper '__delitem__' of 'dict' objects>,\n",
       "              '__contains__': <method '__contains__' of 'dict' objects>,\n",
       "              '__new__': <function dict.__new__(*args, **kwargs)>,\n",
       "              '__sizeof__': <method '__sizeof__' of 'dict' objects>,\n",
       "              'get': <method 'get' of 'dict' objects>,\n",
       "              'setdefault': <method 'setdefault' of 'dict' objects>,\n",
       "              'pop': <method 'pop' of 'dict' objects>,\n",
       "              'popitem': <method 'popitem' of 'dict' objects>,\n",
       "              'keys': <method 'keys' of 'dict' objects>,\n",
       "              'items': <method 'items' of 'dict' objects>,\n",
       "              'values': <method 'values' of 'dict' objects>,\n",
       "              'update': <method 'update' of 'dict' objects>,\n",
       "              'fromkeys': <method 'fromkeys' of 'dict' objects>,\n",
       "              'clear': <method 'clear' of 'dict' objects>,\n",
       "              'copy': <method 'copy' of 'dict' objects>,\n",
       "              '__reversed__': <method '__reversed__' of 'dict' objects>,\n",
       "              '__doc__': \"dict() -> new empty dictionary\\ndict(mapping) -> new dictionary initialized from a mapping object's\\n    (key, value) pairs\\ndict(iterable) -> new dictionary initialized as if via:\\n    d = {}\\n    for k, v in iterable:\\n        d[k] = v\\ndict(**kwargs) -> new dictionary initialized with the name=value pairs\\n    in the keyword argument list.  For example:  dict(one=1, two=2)\"})"
      ]
     },
     "execution_count": 4,
     "metadata": {},
     "output_type": "execute_result"
    }
   ],
   "source": [
    "vars(dict)"
   ]
  },
  {
   "cell_type": "code",
   "execution_count": null,
   "metadata": {},
   "outputs": [],
   "source": []
  }
 ],
 "metadata": {
  "hide_input": false,
  "kernelspec": {
   "display_name": "Python 3",
   "language": "python",
   "name": "python3"
  },
  "language_info": {
   "codemirror_mode": {
    "name": "ipython",
    "version": 3
   },
   "file_extension": ".py",
   "mimetype": "text/x-python",
   "name": "python",
   "nbconvert_exporter": "python",
   "pygments_lexer": "ipython3",
   "version": "3.8.8"
  },
  "toc": {
   "base_numbering": 1,
   "nav_menu": {},
   "number_sections": true,
   "sideBar": true,
   "skip_h1_title": false,
   "title_cell": "Table of Contents",
   "title_sidebar": "Contents",
   "toc_cell": false,
   "toc_position": {},
   "toc_section_display": true,
   "toc_window_display": false
  },
  "varInspector": {
   "cols": {
    "lenName": 16,
    "lenType": 16,
    "lenVar": 40
   },
   "kernels_config": {
    "python": {
     "delete_cmd_postfix": "",
     "delete_cmd_prefix": "del ",
     "library": "var_list.py",
     "varRefreshCmd": "print(var_dic_list())"
    },
    "r": {
     "delete_cmd_postfix": ") ",
     "delete_cmd_prefix": "rm(",
     "library": "var_list.r",
     "varRefreshCmd": "cat(var_dic_list()) "
    }
   },
   "types_to_exclude": [
    "module",
    "function",
    "builtin_function_or_method",
    "instance",
    "_Feature"
   ],
   "window_display": false
  }
 },
 "nbformat": 4,
 "nbformat_minor": 2
}
