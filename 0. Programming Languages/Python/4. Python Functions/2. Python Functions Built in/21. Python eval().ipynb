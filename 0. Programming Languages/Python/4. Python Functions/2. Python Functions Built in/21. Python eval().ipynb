{
 "cells": [
  {
   "cell_type": "markdown",
   "metadata": {},
   "source": [
    "<small><small><i>\n",
    "All the IPython Notebooks in this lecture series by Dr. Milan Parmar are available @ **[GitHub](https://github.com/milaan9/04_Python_Functions/tree/main/002_Python_Functions_Built_in)**\n",
    "</i></small></small>"
   ]
  },
  {
   "cell_type": "markdown",
   "metadata": {},
   "source": [
    "# Python `eval()`\n",
    "\n",
    "The **`eval()`** method parses the expression passed to this method and runs python expression (code) within the program.\n",
    "\n",
    "In simple terms, the **`eval()`** function runs the python code (which is passed as an argument) within the program.\n",
    "\n",
    "**Syntax**:\n",
    "\n",
    "```python\n",
    "eval(expression, globals=None, locals=None)\n",
    "```"
   ]
  },
  {
   "cell_type": "markdown",
   "metadata": {},
   "source": [
    "## `eval()` Parameters\n",
    "\n",
    "The **`filter()`** function takes three parameters:\n",
    "\n",
    "* **expression** - the string parsed and evaluated as a Python expression\n",
    "* **globals** (optional) - a dictionary\n",
    "* **locals** (optional)- a mapping object. Dictionary is the standard and commonly used mapping type in Python.\n",
    "\n",
    "The use of **`globals`** and **`locals`** will be discussed later in this article."
   ]
  },
  {
   "cell_type": "markdown",
   "metadata": {},
   "source": [
    "## Return Value from `eval()`\n",
    "\n",
    "The **`eval()`** method returns the result evaluated from the **`expression`**."
   ]
  },
  {
   "cell_type": "code",
   "execution_count": 1,
   "metadata": {
    "ExecuteTime": {
     "end_time": "2021-06-14T09:58:19.336516Z",
     "start_time": "2021-06-14T09:58:19.316984Z"
    },
    "scrolled": true
   },
   "outputs": [
    {
     "name": "stdout",
     "output_type": "stream",
     "text": [
      "2\n"
     ]
    }
   ],
   "source": [
    "# Example 1: How eval() works in Python\n",
    "\n",
    "x = 1\n",
    "print(eval('x + 1'))"
   ]
  },
  {
   "cell_type": "markdown",
   "metadata": {},
   "source": [
    "**Explanation**:\n",
    "\n",
    "Here, the **`eval()`** function evaluates the expression **`x + 1`** and **`print`** is used to display this value."
   ]
  },
  {
   "cell_type": "code",
   "execution_count": 2,
   "metadata": {
    "ExecuteTime": {
     "end_time": "2021-06-14T09:58:45.465295Z",
     "start_time": "2021-06-14T09:58:22.145586Z"
    }
   },
   "outputs": [
    {
     "name": "stdout",
     "output_type": "stream",
     "text": [
      "Type a function: calculateArea(l)\n",
      "If length is  1 , Area =  1\n",
      "If length is  2 , Area =  4\n",
      "If length is  3 , Area =  9\n",
      "If length is  4 , Area =  16\n"
     ]
    },
    {
     "data": {
      "text/plain": [
       "'\\nOutput:\\nType a function: calculateArea(l)\\nIf length is  1 , Area =  1\\nIf length is  2 , Area =  4\\nIf length is  3 , Area =  9\\nIf length is  4 , Area =  16\\n'"
      ]
     },
     "execution_count": 2,
     "metadata": {},
     "output_type": "execute_result"
    }
   ],
   "source": [
    "# Example 2: Practical Example to Demonstrate Use of eval()\n",
    "\n",
    "# Perimeter of Square\n",
    "def calculatePerimeter(l):\n",
    "    return 4*l\n",
    "\n",
    "# Area of Square\n",
    "def calculateArea(l):\n",
    "    return l*l\n",
    "\n",
    "\n",
    "expression = input(\"Type a function: \")\n",
    "\n",
    "for l in range(1, 5):\n",
    "    if (expression == 'calculatePerimeter(l)'):\n",
    "        print(\"If length is \", l, \", Perimeter = \", eval(expression))\n",
    "    elif (expression == 'calculateArea(l)'):\n",
    "        print(\"If length is \", l, \", Area = \", eval(expression))\n",
    "    else:\n",
    "        print('Wrong Function')\n",
    "        break\n",
    "        \n",
    "'''\n",
    "Output:\n",
    "Type a function: calculateArea(l)\n",
    "If length is  1 , Area =  1\n",
    "If length is  2 , Area =  4\n",
    "If length is  3 , Area =  9\n",
    "If length is  4 , Area =  16\n",
    "'''"
   ]
  },
  {
   "cell_type": "markdown",
   "metadata": {},
   "source": [
    "## Warnings when using `eval()`\n",
    "\n",
    "Consider a situation where you are using a Unix system (macOS, Linux etc) and you have imported the os module. The **`os`** module provides a portable way to use operating system functionalities like reading or writing to a file.\n",
    "\n",
    "If you allow users to input a value using **`eval(input())`**, the user may issue commands to change file or even delete all the files using the command: **`os.system('rm -rf *')`**."
   ]
  },
  {
   "cell_type": "markdown",
   "metadata": {},
   "source": [
    "If you are using **`eval(input())`** in your code, it is a good idea to check which variables and methods the user can use. You can see which variables and methods are available using **[dir() method](https://github.com/milaan9/04_Python_Functions/blob/main/002_Python_Functions_Built_in/016_Python_dir%28%29.ipynb)**."
   ]
  },
  {
   "cell_type": "code",
   "execution_count": 3,
   "metadata": {
    "ExecuteTime": {
     "end_time": "2021-06-14T09:58:54.630782Z",
     "start_time": "2021-06-14T09:58:54.616623Z"
    }
   },
   "outputs": [
    {
     "name": "stdout",
     "output_type": "stream",
     "text": [
      "['In', 'NamespaceMagics', 'Out', '_', '_2', '_Jupyter', '__', '___', '__builtin__', '__builtins__', '__doc__', '__loader__', '__name__', '__package__', '__spec__', '_dh', '_getshapeof', '_getsizeof', '_i', '_i1', '_i2', '_i3', '_ih', '_ii', '_iii', '_nms', '_oh', 'acos', 'acosh', 'asin', 'asinh', 'atan', 'atan2', 'atanh', 'calculateArea', 'calculatePerimeter', 'ceil', 'comb', 'copysign', 'cos', 'cosh', 'degrees', 'dist', 'e', 'erf', 'erfc', 'exit', 'exp', 'expm1', 'expression', 'fabs', 'factorial', 'floor', 'fmod', 'frexp', 'fsum', 'gamma', 'gcd', 'get_ipython', 'getsizeof', 'hypot', 'inf', 'isclose', 'isfinite', 'isinf', 'isnan', 'isqrt', 'json', 'l', 'ldexp', 'lgamma', 'log', 'log10', 'log1p', 'log2', 'modf', 'nan', 'np', 'perm', 'pi', 'pow', 'prod', 'quit', 'radians', 'remainder', 'sin', 'sinh', 'sqrt', 'tan', 'tanh', 'tau', 'trunc', 'var_dic_list', 'x']\n"
     ]
    }
   ],
   "source": [
    "from math import *\n",
    "print(eval('dir()'))"
   ]
  },
  {
   "cell_type": "markdown",
   "metadata": {},
   "source": [
    "## Restricting the Use of Available Methods and Variables in `eval()`\n",
    "\n",
    "More often than not, all the available methods and variables used in the **`expression`** (first parameter to **`eval()`**) may not be needed, or even may have a security hole. You may need to restrict the use of these methods and variables for **`eval()`**. You can do so by passing optional **`globals`** and **`locals`** parameters (dictionaries) to the **`eval()`** function.\n",
    "\n",
    "### 1. When both globals and locals parameters omitted\n",
    "\n",
    "If both parameters are omitted (as in our earlier examples), the **`expression`** is executed in the current scope. You can check the available variables and methods using following code:"
   ]
  },
  {
   "cell_type": "code",
   "execution_count": 4,
   "metadata": {
    "ExecuteTime": {
     "end_time": "2021-06-14T09:58:56.983797Z",
     "start_time": "2021-06-14T09:58:56.967685Z"
    }
   },
   "outputs": [
    {
     "name": "stdout",
     "output_type": "stream",
     "text": [
      "['In', 'NamespaceMagics', 'Out', '_', '_2', '_Jupyter', '__', '___', '__builtin__', '__builtins__', '__doc__', '__loader__', '__name__', '__package__', '__spec__', '_dh', '_getshapeof', '_getsizeof', '_i', '_i1', '_i2', '_i3', '_i4', '_ih', '_ii', '_iii', '_nms', '_oh', 'acos', 'acosh', 'asin', 'asinh', 'atan', 'atan2', 'atanh', 'calculateArea', 'calculatePerimeter', 'ceil', 'comb', 'copysign', 'cos', 'cosh', 'degrees', 'dist', 'e', 'erf', 'erfc', 'exit', 'exp', 'expm1', 'expression', 'fabs', 'factorial', 'floor', 'fmod', 'frexp', 'fsum', 'gamma', 'gcd', 'get_ipython', 'getsizeof', 'hypot', 'inf', 'isclose', 'isfinite', 'isinf', 'isnan', 'isqrt', 'json', 'l', 'ldexp', 'lgamma', 'log', 'log10', 'log1p', 'log2', 'modf', 'nan', 'np', 'perm', 'pi', 'pow', 'prod', 'quit', 'radians', 'remainder', 'sin', 'sinh', 'sqrt', 'tan', 'tanh', 'tau', 'trunc', 'var_dic_list', 'x']\n"
     ]
    }
   ],
   "source": [
    "print(eval('dir()'))"
   ]
  },
  {
   "cell_type": "markdown",
   "metadata": {},
   "source": [
    "### 2. Passing globals parameter; locals parameter is omitted\n",
    "\n",
    "The **`globals`** and **`locals`** parameters (dictionaries) are used for global and local variables respectively. If the **`locals`** dictionary is omitted, it defaults to **`globals`** dictionary. Meaning, **`globals`** will be used for both global and local variables.\n",
    "\n",
    "> **Note**: You can check the current global and local dictionary in Python using **[globals()](https://github.com/milaan9/04_Python_Functions/blob/main/002_Python_Functions_Built_in/026_Python_globals%28%29.ipynb)** and **[locals()](https://github.com/milaan9/04_Python_Functions/blob/main/002_Python_Functions_Built_in/039_Python_locals%28%29.ipynb)** built-in methods respectively."
   ]
  },
  {
   "cell_type": "code",
   "execution_count": 5,
   "metadata": {
    "ExecuteTime": {
     "end_time": "2021-06-14T09:58:58.659083Z",
     "start_time": "2021-06-14T09:58:58.304103Z"
    }
   },
   "outputs": [
    {
     "name": "stdout",
     "output_type": "stream",
     "text": [
      "['__builtins__']\n"
     ]
    },
    {
     "ename": "NameError",
     "evalue": "name 'sqrt' is not defined",
     "output_type": "error",
     "traceback": [
      "\u001b[1;31m---------------------------------------------------------------------------\u001b[0m",
      "\u001b[1;31mNameError\u001b[0m                                 Traceback (most recent call last)",
      "\u001b[1;32m<ipython-input-5-4fd85d39c708>\u001b[0m in \u001b[0;36m<module>\u001b[1;34m\u001b[0m\n\u001b[0;32m      5\u001b[0m \u001b[1;33m\u001b[0m\u001b[0m\n\u001b[0;32m      6\u001b[0m \u001b[1;31m# The code will raise an exception\u001b[0m\u001b[1;33m\u001b[0m\u001b[1;33m\u001b[0m\u001b[1;33m\u001b[0m\u001b[0m\n\u001b[1;32m----> 7\u001b[1;33m \u001b[0mprint\u001b[0m\u001b[1;33m(\u001b[0m\u001b[0meval\u001b[0m\u001b[1;33m(\u001b[0m\u001b[1;34m'sqrt(25)'\u001b[0m\u001b[1;33m,\u001b[0m \u001b[1;33m{\u001b[0m\u001b[1;33m}\u001b[0m\u001b[1;33m)\u001b[0m\u001b[1;33m)\u001b[0m\u001b[1;33m\u001b[0m\u001b[1;33m\u001b[0m\u001b[0m\n\u001b[0m",
      "\u001b[1;32m<string>\u001b[0m in \u001b[0;36m<module>\u001b[1;34m\u001b[0m\n",
      "\u001b[1;31mNameError\u001b[0m: name 'sqrt' is not defined"
     ]
    }
   ],
   "source": [
    "# Example 3: Passing empty dictionary as globals parameter\n",
    "    \n",
    "from math import *\n",
    "print(eval('dir()', {}))\n",
    "\n",
    "# The code will raise an exception\n",
    "print(eval('sqrt(25)', {}))"
   ]
  },
  {
   "cell_type": "markdown",
   "metadata": {},
   "source": [
    "**Explanation**:\n",
    "\n",
    "If you pass an empty dictionary as **`globals`**, only the **`__builtins__`** are available to **`expression`** (first parameter to the **`eval()`**).\n",
    "\n",
    "Even though we have imported the **`math`** module in the above program, **`expression`** can't access any functions provided by the **[math module](https://github.com/milaan9/04_Python_Functions/blob/main/009_Python_Function_math_Module.ipynb.ipynb)**."
   ]
  },
  {
   "cell_type": "code",
   "execution_count": 6,
   "metadata": {
    "ExecuteTime": {
     "end_time": "2021-06-14T09:59:05.935415Z",
     "start_time": "2021-06-14T09:59:05.927607Z"
    }
   },
   "outputs": [
    {
     "name": "stdout",
     "output_type": "stream",
     "text": [
      "['__builtins__', 'pow', 'sqrt']\n"
     ]
    }
   ],
   "source": [
    "# Example 4: Making Certain Methods available\n",
    "\n",
    "from math import *\n",
    "print(eval('dir()', {'sqrt': sqrt, 'pow': pow}))"
   ]
  },
  {
   "cell_type": "markdown",
   "metadata": {},
   "source": [
    "**Explanation**:\n",
    "\n",
    "Here, the expression can only use the **`sqrt()`** and the **`pow()`** methods along with **`__builtins__`**.\n",
    "\n",
    "It is also possible to change the name of the method available for the **`expression`** as to your wish:"
   ]
  },
  {
   "cell_type": "code",
   "execution_count": 7,
   "metadata": {
    "ExecuteTime": {
     "end_time": "2021-06-14T09:59:08.022319Z",
     "start_time": "2021-06-14T09:59:07.999863Z"
    }
   },
   "outputs": [
    {
     "name": "stdout",
     "output_type": "stream",
     "text": [
      "['__builtins__', 'power', 'square_root']\n",
      "3.0\n"
     ]
    }
   ],
   "source": [
    "from math import *\n",
    "names = {'square_root': sqrt, 'power': pow}\n",
    "print(eval('dir()', names))\n",
    "\n",
    "# Using square_root in Expression\n",
    "print(eval('square_root(9)', names))"
   ]
  },
  {
   "cell_type": "markdown",
   "metadata": {},
   "source": [
    "**Explanation**:\n",
    "\n",
    "In the above program, **`square_root()`** calculates the square root using **`sqrt()`**. However, trying to use **`sqrt()`** directly will raise an error."
   ]
  },
  {
   "cell_type": "code",
   "execution_count": 8,
   "metadata": {
    "ExecuteTime": {
     "end_time": "2021-06-14T09:59:09.530129Z",
     "start_time": "2021-06-14T09:59:09.512550Z"
    }
   },
   "outputs": [
    {
     "ename": "TypeError",
     "evalue": "'NoneType' object is not subscriptable",
     "output_type": "error",
     "traceback": [
      "\u001b[1;31m---------------------------------------------------------------------------\u001b[0m",
      "\u001b[1;31mTypeError\u001b[0m                                 Traceback (most recent call last)",
      "\u001b[1;32m<ipython-input-8-5b814a8b3241>\u001b[0m in \u001b[0;36m<module>\u001b[1;34m\u001b[0m\n\u001b[0;32m      2\u001b[0m \u001b[1;31m# You can restrict the use of __builtins__ in the expression as follows:\u001b[0m\u001b[1;33m\u001b[0m\u001b[1;33m\u001b[0m\u001b[1;33m\u001b[0m\u001b[0m\n\u001b[0;32m      3\u001b[0m \u001b[1;33m\u001b[0m\u001b[0m\n\u001b[1;32m----> 4\u001b[1;33m \u001b[0meval\u001b[0m\u001b[1;33m(\u001b[0m\u001b[0mexpression\u001b[0m\u001b[1;33m,\u001b[0m \u001b[1;33m{\u001b[0m\u001b[1;34m'__builtins__'\u001b[0m\u001b[1;33m:\u001b[0m \u001b[1;32mNone\u001b[0m\u001b[1;33m}\u001b[0m\u001b[1;33m)\u001b[0m\u001b[1;33m\u001b[0m\u001b[1;33m\u001b[0m\u001b[0m\n\u001b[0m",
      "\u001b[1;32m<string>\u001b[0m in \u001b[0;36m<module>\u001b[1;34m\u001b[0m\n",
      "\u001b[1;31mTypeError\u001b[0m: 'NoneType' object is not subscriptable"
     ]
    }
   ],
   "source": [
    "# Example 5: Restricting the Use of built-ins\n",
    "# You can restrict the use of __builtins__ in the expression as follows:\n",
    "\n",
    "eval(expression, {'__builtins__': None})"
   ]
  },
  {
   "cell_type": "markdown",
   "metadata": {},
   "source": [
    "### 3. Passing both globals and locals dictionary\n",
    "\n",
    "You can make needed functions and variables available for use by passing the **`locals`** dictionary. For example:"
   ]
  },
  {
   "cell_type": "code",
   "execution_count": 9,
   "metadata": {
    "ExecuteTime": {
     "end_time": "2021-06-14T09:59:13.314290Z",
     "start_time": "2021-06-14T09:59:13.304525Z"
    }
   },
   "outputs": [
    {
     "name": "stdout",
     "output_type": "stream",
     "text": [
      "13.0\n"
     ]
    }
   ],
   "source": [
    "from math import *\n",
    "\n",
    "a = 169\n",
    "print(eval('sqrt(a)', {'__builtins__': None}, {'a': a, 'sqrt': sqrt}))"
   ]
  },
  {
   "cell_type": "markdown",
   "metadata": {},
   "source": [
    "**Explanation**:\n",
    "\n",
    "In this program, **`expression`** can have **`sqrt()`** method and variable **`a`** only. All other methods and variables are unavailable."
   ]
  },
  {
   "cell_type": "markdown",
   "metadata": {},
   "source": [
    "Restricting the use of **`eval()`** by passing **`globals`** and **`locals`** dictionaries will make your code secure particularly when you are using input provided by the user to the **`eval()`** method.\n",
    "\n",
    "> **Note**: Sometimes, **`eval()`** is not secure even with limited names. When an object and its methods are made accessible, almost anything can be done. The only secure way is by validating the user input."
   ]
  },
  {
   "cell_type": "code",
   "execution_count": null,
   "metadata": {},
   "outputs": [],
   "source": []
  }
 ],
 "metadata": {
  "hide_input": false,
  "kernelspec": {
   "display_name": "Python 3",
   "language": "python",
   "name": "python3"
  },
  "language_info": {
   "codemirror_mode": {
    "name": "ipython",
    "version": 3
   },
   "file_extension": ".py",
   "mimetype": "text/x-python",
   "name": "python",
   "nbconvert_exporter": "python",
   "pygments_lexer": "ipython3",
   "version": "3.8.8"
  },
  "toc": {
   "base_numbering": 1,
   "nav_menu": {},
   "number_sections": true,
   "sideBar": true,
   "skip_h1_title": false,
   "title_cell": "Table of Contents",
   "title_sidebar": "Contents",
   "toc_cell": false,
   "toc_position": {},
   "toc_section_display": true,
   "toc_window_display": false
  },
  "varInspector": {
   "cols": {
    "lenName": 16,
    "lenType": 16,
    "lenVar": 40
   },
   "kernels_config": {
    "python": {
     "delete_cmd_postfix": "",
     "delete_cmd_prefix": "del ",
     "library": "var_list.py",
     "varRefreshCmd": "print(var_dic_list())"
    },
    "r": {
     "delete_cmd_postfix": ") ",
     "delete_cmd_prefix": "rm(",
     "library": "var_list.r",
     "varRefreshCmd": "cat(var_dic_list()) "
    }
   },
   "types_to_exclude": [
    "module",
    "function",
    "builtin_function_or_method",
    "instance",
    "_Feature"
   ],
   "window_display": false
  }
 },
 "nbformat": 4,
 "nbformat_minor": 2
}
