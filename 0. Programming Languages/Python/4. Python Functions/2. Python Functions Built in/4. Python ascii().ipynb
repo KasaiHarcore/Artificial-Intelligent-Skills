{
 "cells": [
  {
   "cell_type": "markdown",
   "metadata": {},
   "source": [
    "<small><small><i>\n",
    "All the IPython Notebooks in this lecture series by Dr. Milan Parmar are available @ **[GitHub](https://github.com/milaan9/04_Python_Functions/tree/main/002_Python_Functions_Built_in)**\n",
    "</i></small></small>"
   ]
  },
  {
   "cell_type": "markdown",
   "metadata": {},
   "source": [
    "# Python `ascii()`\n",
    "\n",
    "The **`ascii()`** method returns a string containing a printable representation of an object. It escapes the non-ASCII characters in the string using **`\\x`**, **`\\u`** or **`\\U`** escapes.\n",
    "\n",
    "**Syntax**:\n",
    "\n",
    "```python\n",
    "ascii(object)\n",
    "```"
   ]
  },
  {
   "cell_type": "markdown",
   "metadata": {},
   "source": [
    "## `ascii()` Parameters\n",
    "\n",
    "**`ascii()`** method takes an object (like: **[strings](https://github.com/milaan9/02_Python_Datatypes/blob/main/002_Python_String.ipynb)**, **[list](https://github.com/milaan9/02_Python_Datatypes/blob/main/003_Python_List.ipynb)** etc)."
   ]
  },
  {
   "cell_type": "markdown",
   "metadata": {},
   "source": [
    "## Return Value from `ascii()`\n",
    "\n",
    "It returns a string containing a printable representation of an object.\n",
    "\n",
    "For example, **`ö`** is changed to **`\\xf6n`**, **`√`** is changed to **`\\u221a`**\n",
    "\n",
    "The non-ASCII characters in the string are escaped using **`\\x`**, **`\\u`** or **`\\U`**."
   ]
  },
  {
   "cell_type": "code",
   "execution_count": 1,
   "metadata": {
    "ExecuteTime": {
     "end_time": "2021-06-14T09:48:52.748941Z",
     "start_time": "2021-06-14T09:48:52.740153Z"
    }
   },
   "outputs": [
    {
     "name": "stdout",
     "output_type": "stream",
     "text": [
      "'Python is interesting'\n",
      "'Pyth\\xf6n is interesting'\n",
      "Pythön is interesting\n"
     ]
    }
   ],
   "source": [
    "# Example 1: How ascii() method works?\n",
    "\n",
    "normalText = 'Python is interesting'\n",
    "print(ascii(normalText))\n",
    "\n",
    "otherText = 'Pythön is interesting'\n",
    "print(ascii(otherText))\n",
    "\n",
    "print('Pyth\\xf6n is interesting')"
   ]
  },
  {
   "cell_type": "code",
   "execution_count": 2,
   "metadata": {
    "ExecuteTime": {
     "end_time": "2021-06-14T09:48:54.134184Z",
     "start_time": "2021-06-14T09:48:54.114658Z"
    }
   },
   "outputs": [
    {
     "name": "stdout",
     "output_type": "stream",
     "text": [
      "['Python', 'Pyth\\xf6n', 5]\n"
     ]
    }
   ],
   "source": [
    "# Example 2: randomList\n",
    "\n",
    "randomList = ['Python', 'Pythön', 5]\n",
    "print(ascii(randomList))"
   ]
  },
  {
   "cell_type": "code",
   "execution_count": null,
   "metadata": {},
   "outputs": [],
   "source": []
  }
 ],
 "metadata": {
  "hide_input": false,
  "kernelspec": {
   "display_name": "Python 3",
   "language": "python",
   "name": "python3"
  },
  "language_info": {
   "codemirror_mode": {
    "name": "ipython",
    "version": 3
   },
   "file_extension": ".py",
   "mimetype": "text/x-python",
   "name": "python",
   "nbconvert_exporter": "python",
   "pygments_lexer": "ipython3",
   "version": "3.8.8"
  },
  "toc": {
   "base_numbering": 1,
   "nav_menu": {},
   "number_sections": true,
   "sideBar": true,
   "skip_h1_title": false,
   "title_cell": "Table of Contents",
   "title_sidebar": "Contents",
   "toc_cell": false,
   "toc_position": {},
   "toc_section_display": true,
   "toc_window_display": false
  },
  "varInspector": {
   "cols": {
    "lenName": 16,
    "lenType": 16,
    "lenVar": 40
   },
   "kernels_config": {
    "python": {
     "delete_cmd_postfix": "",
     "delete_cmd_prefix": "del ",
     "library": "var_list.py",
     "varRefreshCmd": "print(var_dic_list())"
    },
    "r": {
     "delete_cmd_postfix": ") ",
     "delete_cmd_prefix": "rm(",
     "library": "var_list.r",
     "varRefreshCmd": "cat(var_dic_list()) "
    }
   },
   "types_to_exclude": [
    "module",
    "function",
    "builtin_function_or_method",
    "instance",
    "_Feature"
   ],
   "window_display": false
  }
 },
 "nbformat": 4,
 "nbformat_minor": 2
}
