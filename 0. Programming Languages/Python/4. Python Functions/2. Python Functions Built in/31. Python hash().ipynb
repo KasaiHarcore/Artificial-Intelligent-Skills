{
 "cells": [
  {
   "cell_type": "markdown",
   "metadata": {},
   "source": [
    "<small><small><i>\n",
    "All the IPython Notebooks in this lecture series by Dr. Milan Parmar are available @ **[GitHub](https://github.com/milaan9/04_Python_Functions/tree/main/002_Python_Functions_Built_in)**\n",
    "</i></small></small>"
   ]
  },
  {
   "cell_type": "markdown",
   "metadata": {},
   "source": [
    "# Python `hash()`\n",
    "\n",
    "The **`hash()`** method returns the hash value of an object if it has one.\n",
    "\n",
    "Hash values are just integers that are used to compare dictionary keys during a dictionary lookup quickly.\n",
    "\n",
    "Internally, **`hash()`** method calls **`__hash__()`** method of an object which is set by default for any object. We'll look at this later..\n",
    "\n",
    "**Syntax**:\n",
    "\n",
    "```python\n",
    "hash(object)\n",
    "```"
   ]
  },
  {
   "cell_type": "markdown",
   "metadata": {},
   "source": [
    "## `hash()` Parameters\n",
    "\n",
    "**`hash()`** method takes a single parameter:\n",
    "\n",
    "* **object** - the object whose hash value is to be returned (integer, string, float)"
   ]
  },
  {
   "cell_type": "markdown",
   "metadata": {},
   "source": [
    "## Return Value from `hash()`\n",
    "\n",
    "**`hash()`** method returns the hash value of an object if it has one.\n",
    "\n",
    "If an object has custom **`__hash__()`** method, it truncates the return value to the size of **`Py_ssize_t`**."
   ]
  },
  {
   "cell_type": "code",
   "execution_count": 1,
   "metadata": {
    "ExecuteTime": {
     "end_time": "2021-06-14T10:05:53.218307Z",
     "start_time": "2021-06-14T10:05:53.206586Z"
    },
    "scrolled": false
   },
   "outputs": [
    {
     "name": "stdout",
     "output_type": "stream",
     "text": [
      "Hash for 181 is: 181\n",
      "Hash for 181.23 is: 530343892119126197\n",
      "Hash for Python is: 5047677840638240195\n"
     ]
    }
   ],
   "source": [
    "# Example 1: How hash() works in Python?\n",
    "# hash for integer unchanged\n",
    "print('Hash for 181 is:', hash(181))\n",
    "\n",
    "# hash for decimal\n",
    "print('Hash for 181.23 is:',hash(181.23))\n",
    "\n",
    "# hash for string\n",
    "print('Hash for Python is:', hash('Python'))"
   ]
  },
  {
   "cell_type": "code",
   "execution_count": 2,
   "metadata": {
    "ExecuteTime": {
     "end_time": "2021-06-14T10:05:54.111858Z",
     "start_time": "2021-06-14T10:05:54.101116Z"
    }
   },
   "outputs": [
    {
     "name": "stdout",
     "output_type": "stream",
     "text": [
      "The hash is: -8193489769393279200\n"
     ]
    }
   ],
   "source": [
    "# Example 2: hash() for immutable tuple object?\n",
    "# hash() method only works for immutable objects as tuple.\n",
    "\n",
    "# tuple of vowels\n",
    "vowels = ('a', 'e', 'i', 'o', 'u')\n",
    "\n",
    "print('The hash is:', hash(vowels))"
   ]
  },
  {
   "cell_type": "markdown",
   "metadata": {},
   "source": [
    "## How hash() works for custom objects?\n",
    "\n",
    "As stated above, hash() method internally calls **`__hash__()`** method. So, any objects can override **`__hash__()`** for custom hash values.\n",
    "\n",
    "But for correct hash implementation, **`__hash__()`** should always return an integer. And, both **`__eq__()`** and **`__hash__()`** methods have to be implemented.\n",
    "\n",
    "Below are the cases for correct **`__hash__()`** override.\n",
    "\n",
    "**Cases for custom hash implementation for objects**\n",
    "\n",
    "| **`__eq__()`** | **`__hash__()`** | **Description** |\n",
    "|:----| :--- |:--- |\n",
    "| **Defined (by default)** | **Defined (by default)** | **If left as is, all objects compare unequal (except themselves)** |\n",
    "| **(If mutable) Defined** | **Should not be defined** | **Implementation of hashable collection requires key's hash value be immutable** |\n",
    "| **Not defined** | **Should not be defined** | **If `__eq__()` isn't defined, `__hash__()` should not be defined.** |\n",
    "| **Defined** | **Not defined** | **Class instances will not be usable as hashable collection. `__hash__()` implicity set to `None`. Raises `TypeError` exception if tried to retrieve the hash.** |\n",
    "| **Defined** | **Retain from Parent** | **`__hash__ = <ParentClass>.__hash__`** |\n",
    "| **Defined** | **Doesn't want to hash** | **`__hash__ = None`. Raises TypeError exception if tried to retrieve the hash.** |"
   ]
  },
  {
   "cell_type": "code",
   "execution_count": 3,
   "metadata": {
    "ExecuteTime": {
     "end_time": "2021-06-14T10:05:56.064974Z",
     "start_time": "2021-06-14T10:05:56.053255Z"
    }
   },
   "outputs": [
    {
     "name": "stdout",
     "output_type": "stream",
     "text": [
      "The hash is:\n",
      "-9002918617615370443\n"
     ]
    }
   ],
   "source": [
    "# Example 3: hash() for Custom Objects by overriding __hash__()\n",
    "\n",
    "class Person:\n",
    "    def __init__(self, age, name):\n",
    "        self.age = age\n",
    "        self.name = name\n",
    "\n",
    "    def __eq__(self, other):\n",
    "        return self.age == other.age and self.name == other.name\n",
    "\n",
    "    def __hash__(self):\n",
    "        print('The hash is:')\n",
    "        return hash((self.age, self.name))\n",
    "\n",
    "person = Person(23, 'Adam')\n",
    "print(hash(person))"
   ]
  },
  {
   "cell_type": "markdown",
   "metadata": {},
   "source": [
    "> **Note:** You don't have to implement **`__eq__()`** method for the hash as it is created by default for all objects."
   ]
  },
  {
   "cell_type": "code",
   "execution_count": null,
   "metadata": {},
   "outputs": [],
   "source": []
  }
 ],
 "metadata": {
  "hide_input": false,
  "kernelspec": {
   "display_name": "Python 3",
   "language": "python",
   "name": "python3"
  },
  "language_info": {
   "codemirror_mode": {
    "name": "ipython",
    "version": 3
   },
   "file_extension": ".py",
   "mimetype": "text/x-python",
   "name": "python",
   "nbconvert_exporter": "python",
   "pygments_lexer": "ipython3",
   "version": "3.8.8"
  },
  "toc": {
   "base_numbering": 1,
   "nav_menu": {},
   "number_sections": true,
   "sideBar": true,
   "skip_h1_title": false,
   "title_cell": "Table of Contents",
   "title_sidebar": "Contents",
   "toc_cell": false,
   "toc_position": {},
   "toc_section_display": true,
   "toc_window_display": false
  },
  "varInspector": {
   "cols": {
    "lenName": 16,
    "lenType": 16,
    "lenVar": 40
   },
   "kernels_config": {
    "python": {
     "delete_cmd_postfix": "",
     "delete_cmd_prefix": "del ",
     "library": "var_list.py",
     "varRefreshCmd": "print(var_dic_list())"
    },
    "r": {
     "delete_cmd_postfix": ") ",
     "delete_cmd_prefix": "rm(",
     "library": "var_list.r",
     "varRefreshCmd": "cat(var_dic_list()) "
    }
   },
   "types_to_exclude": [
    "module",
    "function",
    "builtin_function_or_method",
    "instance",
    "_Feature"
   ],
   "window_display": false
  }
 },
 "nbformat": 4,
 "nbformat_minor": 2
}
