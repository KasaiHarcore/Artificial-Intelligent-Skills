{
 "cells": [
  {
   "cell_type": "markdown",
   "metadata": {},
   "source": [
    "<small><small><i>\n",
    "All the IPython Notebooks in this lecture series by Dr. Milan Parmar are available @ **[GitHub](https://github.com/milaan9/04_Python_Functions/tree/main/002_Python_Functions_Built_in)**\n",
    "</i></small></small>"
   ]
  },
  {
   "cell_type": "markdown",
   "metadata": {},
   "source": [
    "# Python `filter()`\n",
    "\n",
    "The **`filter()`** constructs an iterator from elements of an iterable for which a function returns true.\n",
    "\n",
    "In simple words, **`filter()`** method filters the given iterable with the help of a function that tests each element in the iterable to be true or not.\n",
    "\n",
    "**Syntax**:\n",
    "\n",
    "```python\n",
    "filter(function, iterable)\n",
    "```"
   ]
  },
  {
   "cell_type": "markdown",
   "metadata": {},
   "source": [
    "## `filter()` Parameters\n",
    "\n",
    "The **`filter()`** method takes two parameters:\n",
    "\n",
    "* **function** - function that tests if elements of an iterable return true or false\n",
    "    * If None, the function defaults to Identity function - which returns false if any elements are false\n",
    "\n",
    "* **iterable** - iterable which is to be filtered, could be **[sets](https://github.com/milaan9/02_Python_Datatypes/blob/main/006_Python_Sets.ipynb)**, **[lists](https://github.com/milaan9/02_Python_Datatypes/blob/main/003_Python_List.ipynb)**, **[tuples](https://github.com/milaan9/02_Python_Datatypes/blob/main/004_Python_Tuple.ipynb)**, or containers of any iterators"
   ]
  },
  {
   "cell_type": "markdown",
   "metadata": {},
   "source": [
    "## Return Value from `filter()`\n",
    "\n",
    "**`filter()`** method returns an iterator that passed the function check for each element in the iterable.\n",
    "\n",
    "**`filter()`** method is equivalent to:\n",
    "\n",
    "```python\n",
    "# when function is defined\n",
    "(element for element in iterable if function(element))\n",
    "\n",
    "# when function is None\n",
    "(element for element in iterable if element)\n",
    "```"
   ]
  },
  {
   "cell_type": "code",
   "execution_count": 1,
   "metadata": {
    "ExecuteTime": {
     "end_time": "2021-06-14T09:56:20.341463Z",
     "start_time": "2021-06-14T09:56:20.322914Z"
    },
    "scrolled": true
   },
   "outputs": [
    {
     "name": "stdout",
     "output_type": "stream",
     "text": [
      "The filtered vowels are:\n",
      "a\n",
      "e\n",
      "i\n",
      "o\n"
     ]
    }
   ],
   "source": [
    "# Example 1: How filter() works for iterable list?\n",
    "\n",
    "# list of letters\n",
    "letters = ['a', 'b', 'd', 'e', 'i', 'j', 'o']\n",
    "\n",
    "# function that filters vowels\n",
    "def filterVowels(letter):\n",
    "    vowels = ['a', 'e', 'i', 'o', 'u']\n",
    "\n",
    "    if(letter in vowels):\n",
    "        return True\n",
    "    else:\n",
    "        return False\n",
    "\n",
    "filteredVowels = filter(filterVowels, letters)\n",
    "\n",
    "print('The filtered vowels are:')\n",
    "for vowel in filteredVowels:\n",
    "    print(vowel)"
   ]
  },
  {
   "cell_type": "markdown",
   "metadata": {},
   "source": [
    "**Explanation**:\n",
    "\n",
    "Here, we have a list of letters and need to filter out only the vowels in it.\n",
    "\n",
    "We could use a for loop to loop through each element in **`letters`** list and store it in another list, but in Python, this process is easier and faster using **`filter()`** method.\n",
    "\n",
    "We have a function **`filterVowels`** that checks if a letter is a vowel or not. This function is passed onto **`filter()`** method with the list of letters.\n",
    "\n",
    "**`filter()`** method then passes each letter to the **`filterVowels`** method to check if it returns true or not. In the end, it creates an iterator of the ones that return true (vowels).\n",
    "\n",
    "Since the iterator doesn't store the values itself, we loop through it and print out vowels one by one."
   ]
  },
  {
   "cell_type": "code",
   "execution_count": 2,
   "metadata": {
    "ExecuteTime": {
     "end_time": "2021-06-14T09:56:24.845352Z",
     "start_time": "2021-06-14T09:56:24.834612Z"
    }
   },
   "outputs": [
    {
     "name": "stdout",
     "output_type": "stream",
     "text": [
      "The filtered elements are:\n",
      "1\n",
      "a\n",
      "True\n",
      "0\n"
     ]
    }
   ],
   "source": [
    "# Example 2: How filter() method works without the filter function?\n",
    "\n",
    "# random list\n",
    "randomList = [1, 'a', 0, False, True, '0']\n",
    "\n",
    "filteredList = filter(None, randomList)\n",
    "\n",
    "print('The filtered elements are:')\n",
    "for element in filteredList:\n",
    "    print(element)"
   ]
  },
  {
   "cell_type": "markdown",
   "metadata": {},
   "source": [
    "**Explanation**:\n",
    "\n",
    "Here, we have a random list of numbers, string, and boolean in **`randomList`**.\n",
    "\n",
    "We pass **`randomList`** to the **`filter()`** method with first parameter (filter function) as **`None`**.\n",
    "\n",
    "With filter function as None, the function defaults to Identity function, and each element in **`randomList`** is checked if it's true or not.\n",
    "\n",
    "When we loop through the final **`filteredList`**, we get the elements which are true: **`1, a, True and '0'`** ('0' as a string is also true)."
   ]
  },
  {
   "cell_type": "code",
   "execution_count": null,
   "metadata": {},
   "outputs": [],
   "source": []
  }
 ],
 "metadata": {
  "hide_input": false,
  "kernelspec": {
   "display_name": "Python 3",
   "language": "python",
   "name": "python3"
  },
  "language_info": {
   "codemirror_mode": {
    "name": "ipython",
    "version": 3
   },
   "file_extension": ".py",
   "mimetype": "text/x-python",
   "name": "python",
   "nbconvert_exporter": "python",
   "pygments_lexer": "ipython3",
   "version": "3.8.8"
  },
  "toc": {
   "base_numbering": 1,
   "nav_menu": {},
   "number_sections": true,
   "sideBar": true,
   "skip_h1_title": false,
   "title_cell": "Table of Contents",
   "title_sidebar": "Contents",
   "toc_cell": false,
   "toc_position": {},
   "toc_section_display": true,
   "toc_window_display": false
  },
  "varInspector": {
   "cols": {
    "lenName": 16,
    "lenType": 16,
    "lenVar": 40
   },
   "kernels_config": {
    "python": {
     "delete_cmd_postfix": "",
     "delete_cmd_prefix": "del ",
     "library": "var_list.py",
     "varRefreshCmd": "print(var_dic_list())"
    },
    "r": {
     "delete_cmd_postfix": ") ",
     "delete_cmd_prefix": "rm(",
     "library": "var_list.r",
     "varRefreshCmd": "cat(var_dic_list()) "
    }
   },
   "types_to_exclude": [
    "module",
    "function",
    "builtin_function_or_method",
    "instance",
    "_Feature"
   ],
   "window_display": false
  }
 },
 "nbformat": 4,
 "nbformat_minor": 2
}
