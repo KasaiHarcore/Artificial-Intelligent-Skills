{
 "cells": [
  {
   "cell_type": "markdown",
   "metadata": {},
   "source": [
    "<small><small><i>\n",
    "All the IPython Notebooks in this lecture series by Dr. Milan Parmar are available @ **[GitHub](https://github.com/milaan9/04_Python_Functions/tree/main/002_Python_Functions_Built_in)**\n",
    "</i></small></small>"
   ]
  },
  {
   "cell_type": "markdown",
   "metadata": {},
   "source": [
    "# Python `type()`\n",
    "\n",
    "The **`type()`** function either returns the type of the object or returns a new type object based on the arguments passed.\n",
    "\n",
    "**Syntax**:\n",
    "\n",
    "```python\n",
    "type(object)\n",
    "type(name, bases, dict)\n",
    "```"
   ]
  },
  {
   "cell_type": "markdown",
   "metadata": {},
   "source": [
    "## `type()` With a Single Object Parameter\n",
    "\n",
    "If a single **`object`** is passed to **`type()`**, the function returns its type."
   ]
  },
  {
   "cell_type": "code",
   "execution_count": 1,
   "metadata": {
    "ExecuteTime": {
     "end_time": "2021-06-14T11:39:18.605504Z",
     "start_time": "2021-06-14T11:39:18.589416Z"
    },
    "scrolled": false
   },
   "outputs": [
    {
     "name": "stdout",
     "output_type": "stream",
     "text": [
      "<class 'list'>\n",
      "<class 'dict'>\n",
      "<class '__main__.Foo'>\n"
     ]
    }
   ],
   "source": [
    "# Example 1: Get Type of an Object\n",
    "\n",
    "numbers_list = [1, 2]\n",
    "print(type(numbers_list))\n",
    "\n",
    "numbers_dict = {1: 'one', 2: 'two'}\n",
    "print(type(numbers_dict))\n",
    "\n",
    "class Foo:\n",
    "    a = 0\n",
    "\n",
    "foo = Foo()\n",
    "print(type(foo))"
   ]
  },
  {
   "cell_type": "markdown",
   "metadata": {},
   "source": [
    "If you need to check the type of an object, it is better to use the **[Python isinstance() function](https://github.com/milaan9/04_Python_Functions/blob/main/002_Python_Functions_Built_in/034_Python_isinstance%28%29.ipynb)** instead. It's because the **`isinstance()` function** also checks if the given object is an instance of the subclass."
   ]
  },
  {
   "cell_type": "markdown",
   "metadata": {},
   "source": [
    "## `type()` With name, bases and dict Parameters\n",
    "\n",
    "If three parameters are passed to **`type()`**, it returns a new type object.\n",
    "\n",
    "The three parameters are:\n",
    "\n",
    "| Parameter | Description |\n",
    "|:----| :--- |\n",
    "| **name** | **a class name; becomes the `__name__` attribute** |\n",
    "| **name** | **a tuple that itemizes the base class; becomes the `__bases__` attribute** |\n",
    "| **name** | **a dictionary which is the namespace containing definitions for the class body; becomes the `__dict__` attribute** |"
   ]
  },
  {
   "cell_type": "code",
   "execution_count": 2,
   "metadata": {
    "ExecuteTime": {
     "end_time": "2021-06-14T11:39:22.920907Z",
     "start_time": "2021-06-14T11:39:22.901379Z"
    }
   },
   "outputs": [
    {
     "name": "stdout",
     "output_type": "stream",
     "text": [
      "<class 'type'>\n",
      "{'a': 'Foo', 'b': 12, '__module__': '__main__', '__dict__': <attribute '__dict__' of 'X' objects>, '__weakref__': <attribute '__weakref__' of 'X' objects>, '__doc__': None}\n",
      "<class 'type'>\n",
      "{'a': 'Foo', 'b': 12, '__module__': '__main__', '__doc__': None}\n"
     ]
    }
   ],
   "source": [
    "# Example 2: Create a type object\n",
    "\n",
    "o1 = type('X', (object,), dict(a='Foo', b=12))\n",
    "\n",
    "print(type(o1))\n",
    "print(vars(o1))\n",
    "\n",
    "class test:\n",
    "    a = 'Foo'\n",
    "    b = 12\n",
    "  \n",
    "o2 = type('Y', (test,), dict(a='Foo', b=12))\n",
    "print(type(o2))\n",
    "print(vars(o2))"
   ]
  },
  {
   "cell_type": "markdown",
   "metadata": {},
   "source": [
    "In the program, we have used the **[Python vars() function](https://github.com/milaan9/04_Python_Functions/blob/main/002_Python_Functions_Built_in/065_Python_vars%28%29.ipynb)** which returns the **`__dict__`** attribute. **`__dict__`** is used to store object's writable attributes.\n",
    "\n",
    "You can easily change these attributes if necessary. For example, if you need to change the **`__name__`** attribute of **`o1`** to **`'Z'`**, use:\n",
    "\n",
    "```python\n",
    "o1.__name = 'Z'\n",
    "```"
   ]
  },
  {
   "cell_type": "code",
   "execution_count": null,
   "metadata": {},
   "outputs": [],
   "source": []
  }
 ],
 "metadata": {
  "hide_input": false,
  "kernelspec": {
   "display_name": "Python 3",
   "language": "python",
   "name": "python3"
  },
  "language_info": {
   "codemirror_mode": {
    "name": "ipython",
    "version": 3
   },
   "file_extension": ".py",
   "mimetype": "text/x-python",
   "name": "python",
   "nbconvert_exporter": "python",
   "pygments_lexer": "ipython3",
   "version": "3.8.8"
  },
  "toc": {
   "base_numbering": 1,
   "nav_menu": {},
   "number_sections": true,
   "sideBar": true,
   "skip_h1_title": false,
   "title_cell": "Table of Contents",
   "title_sidebar": "Contents",
   "toc_cell": false,
   "toc_position": {},
   "toc_section_display": true,
   "toc_window_display": false
  },
  "varInspector": {
   "cols": {
    "lenName": 16,
    "lenType": 16,
    "lenVar": 40
   },
   "kernels_config": {
    "python": {
     "delete_cmd_postfix": "",
     "delete_cmd_prefix": "del ",
     "library": "var_list.py",
     "varRefreshCmd": "print(var_dic_list())"
    },
    "r": {
     "delete_cmd_postfix": ") ",
     "delete_cmd_prefix": "rm(",
     "library": "var_list.r",
     "varRefreshCmd": "cat(var_dic_list()) "
    }
   },
   "types_to_exclude": [
    "module",
    "function",
    "builtin_function_or_method",
    "instance",
    "_Feature"
   ],
   "window_display": false
  }
 },
 "nbformat": 4,
 "nbformat_minor": 2
}
