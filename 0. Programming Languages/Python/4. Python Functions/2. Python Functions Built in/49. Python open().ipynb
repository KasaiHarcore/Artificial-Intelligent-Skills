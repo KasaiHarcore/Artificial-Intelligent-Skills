{
 "cells": [
  {
   "cell_type": "markdown",
   "metadata": {},
   "source": [
    "<small><small><i>\n",
    "All the IPython Notebooks in this lecture series by Dr. Milan Parmar are available @ **[GitHub](https://github.com/milaan9/04_Python_Functions/tree/main/002_Python_Functions_Built_in)**\n",
    "</i></small></small>"
   ]
  },
  {
   "cell_type": "markdown",
   "metadata": {},
   "source": [
    "# Python `open()`\n",
    "\n",
    "The **`open()`** function opens the file (if possible) and returns the corresponding file object.\n",
    "\n",
    "**Syntax**:\n",
    "\n",
    "```python\n",
    "open(file, mode='r', buffering=-1, encoding=None, errors=None, newline=None, closefd=True, opener=None)\n",
    "```"
   ]
  },
  {
   "cell_type": "markdown",
   "metadata": {},
   "source": [
    "## `open()` Parameters\n",
    "\n",
    "* **file** - path-like object (representing a file system path)\n",
    "* **mode (optional)** - mode while opening a file. If not provided, it defaults to **`'r'`** (open for reading in text mode). Available file modes are:\n",
    "\n",
    "| Mode | Description |\n",
    "|:----| :--- |\n",
    "| **`'r'`** | **Open a file for reading. (default)** |\n",
    "| **`'w'`** | **Open a file for writing. Creates a new file if it does not exist or truncates the file if it exists.** |\n",
    "| **`'x'`** | **Open a file for exclusive creation. If the file already exists, the operation fails.** |\n",
    "| **`'a'`** | **Open for appending at the end of the file without truncating it. Creates a new file if it does not exist.** |\n",
    "| **`'t'`** | **Open in text mode. (default)** |\n",
    "| **`'b'`** | **Open in binary mode.** |\n",
    "| **`'+'`** | **Open a file for updating (reading and writing)** |\n",
    "\n",
    "* **buffering** (optional) - used for setting buffering policy\n",
    "* **encoding** (optional) - the encoding format\n",
    "* **errors** (optional) - string specifying how to handle encoding/decoding errors\n",
    "* **newline** (optional) - how newlines mode works (available values: **`None`**, **`' '`**, **`'\\n'`**, **`'r'`**, and **`'\\r\\n'`**\n",
    "* **closefd** (optional) - must be **`True`** (default); if given otherwise, an exception will be raised\n",
    "* **opener** (optional) - a custom opener; must return an open file descriptor"
   ]
  },
  {
   "cell_type": "markdown",
   "metadata": {},
   "source": [
    "## Return Value from `open()`\n",
    "\n",
    "The **`open()`** function returns a file object which can used to read, write and modify the file.\n",
    "\n",
    "If the file is not found, it raises the **`FileNotFoundError`** exception."
   ]
  },
  {
   "cell_type": "code",
   "execution_count": 1,
   "metadata": {
    "ExecuteTime": {
     "end_time": "2021-06-14T11:28:20.066535Z",
     "start_time": "2021-06-14T11:28:20.047008Z"
    },
    "scrolled": true
   },
   "outputs": [],
   "source": [
    "# Example 1: How to open a file in Python?\n",
    "\n",
    "# opens test.text file of the current directory\n",
    "f = open(\"test.txt\")\n",
    "\n",
    "# To get the current directory\n",
    "#import os\n",
    "#os.getcwd()\n",
    "\n",
    "# specifying the full path\n",
    "f = open(\"C:/Python99/README.txt\")"
   ]
  },
  {
   "cell_type": "markdown",
   "metadata": {},
   "source": [
    "Since the mode is omitted, the file is opened in **`'r'`** mode; opens for reading."
   ]
  },
  {
   "cell_type": "code",
   "execution_count": 2,
   "metadata": {
    "ExecuteTime": {
     "end_time": "2021-06-14T11:28:59.517523Z",
     "start_time": "2021-06-14T11:28:59.504828Z"
    }
   },
   "outputs": [],
   "source": [
    "# Example 2: Providing mode to open()\n",
    "\n",
    "# opens the file in reading mode\n",
    "#f = open(\"path_to_file\", mode='r')\n",
    "f = open(\"C:/Python99/README.txt\", mode='r')\n",
    "\n",
    "# opens the file in writing mode \n",
    "#f = open(\"path_to_file\", mode = 'w')\n",
    "f = open(\"C:/Python99/README.txt\", mode='w')\n",
    "\n",
    "# opens for writing to the end \n",
    "#f = open(\"path_to_file\", mode = 'a')\n",
    "f = open(\"C:/Python99/README.txt\", mode='a')"
   ]
  },
  {
   "cell_type": "markdown",
   "metadata": {},
   "source": [
    "Python's default encoding is ASCII. You can easily change it by passing the **`encoding`** parameter."
   ]
  },
  {
   "cell_type": "code",
   "execution_count": 3,
   "metadata": {
    "ExecuteTime": {
     "end_time": "2021-06-14T11:36:06.761906Z",
     "start_time": "2021-06-14T11:36:06.755070Z"
    }
   },
   "outputs": [],
   "source": [
    "#f = open(\"path_to_file\", mode = 'r', encoding='utf-8')\n",
    "f = open(\"C:/Python99/README.txt\", mode = 'r', encoding='utf-8')"
   ]
  },
  {
   "cell_type": "markdown",
   "metadata": {},
   "source": [
    ">Recommended Reading: **[Python File Input/Output](https://github.com/milaan9/05_Python_Files/blob/main/001_Python_File_Input_Output.ipynb)**"
   ]
  },
  {
   "cell_type": "code",
   "execution_count": null,
   "metadata": {},
   "outputs": [],
   "source": []
  }
 ],
 "metadata": {
  "hide_input": false,
  "kernelspec": {
   "display_name": "Python 3",
   "language": "python",
   "name": "python3"
  },
  "language_info": {
   "codemirror_mode": {
    "name": "ipython",
    "version": 3
   },
   "file_extension": ".py",
   "mimetype": "text/x-python",
   "name": "python",
   "nbconvert_exporter": "python",
   "pygments_lexer": "ipython3",
   "version": "3.8.8"
  },
  "toc": {
   "base_numbering": 1,
   "nav_menu": {},
   "number_sections": true,
   "sideBar": true,
   "skip_h1_title": false,
   "title_cell": "Table of Contents",
   "title_sidebar": "Contents",
   "toc_cell": false,
   "toc_position": {},
   "toc_section_display": true,
   "toc_window_display": false
  },
  "varInspector": {
   "cols": {
    "lenName": 16,
    "lenType": 16,
    "lenVar": 40
   },
   "kernels_config": {
    "python": {
     "delete_cmd_postfix": "",
     "delete_cmd_prefix": "del ",
     "library": "var_list.py",
     "varRefreshCmd": "print(var_dic_list())"
    },
    "r": {
     "delete_cmd_postfix": ") ",
     "delete_cmd_prefix": "rm(",
     "library": "var_list.r",
     "varRefreshCmd": "cat(var_dic_list()) "
    }
   },
   "types_to_exclude": [
    "module",
    "function",
    "builtin_function_or_method",
    "instance",
    "_Feature"
   ],
   "window_display": false
  }
 },
 "nbformat": 4,
 "nbformat_minor": 2
}
