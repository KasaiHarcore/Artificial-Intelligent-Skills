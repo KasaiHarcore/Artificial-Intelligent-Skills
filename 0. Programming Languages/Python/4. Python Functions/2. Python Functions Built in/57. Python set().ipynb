{
 "cells": [
  {
   "cell_type": "markdown",
   "metadata": {},
   "source": [
    "<small><small><i>\n",
    "All the IPython Notebooks in this lecture series by Dr. Milan Parmar are available @ **[GitHub](https://github.com/milaan9/04_Python_Functions/tree/main/002_Python_Functions_Built_in)**\n",
    "</i></small></small>"
   ]
  },
  {
   "cell_type": "markdown",
   "metadata": {},
   "source": [
    "# Python `set()`\n",
    "\n",
    "The **`set()`** builtin creates a set in Python.\n",
    "\n",
    "**Syntax**:\n",
    "\n",
    "```python\n",
    "set(iterable)\n",
    "```\n",
    "\n",
    "> Recommended Reading: **[Python sets](https://github.com/milaan9/02_Python_Datatypes/blob/main/006_Python_Sets.ipynb)**"
   ]
  },
  {
   "cell_type": "markdown",
   "metadata": {},
   "source": [
    "## `set()` Parameters\n",
    "\n",
    "**`set()`** takes a single optional parameter:\n",
    "\n",
    "* **iterable (optional)** - a sequence (**[string](https://github.com/milaan9/02_Python_Datatypes/blob/main/002_Python_String.ipynb)**, **[tuple](https://github.com/milaan9/02_Python_Datatypes/blob/main/004_Python_Tuple.ipynb)**, etc.) or collection (**[set](https://github.com/milaan9/02_Python_Datatypes/blob/main/006_Python_Sets.ipynb)**, **[dictionary](https://github.com/milaan9/02_Python_Datatypes/blob/main/005_Python_Dictionary.ipynb)**, etc.) or an iterator object to be converted into a set."
   ]
  },
  {
   "cell_type": "markdown",
   "metadata": {},
   "source": [
    "## Return Value from `set()`\n",
    "\n",
    "**`set()`** returns:\n",
    "\n",
    "* an empty set if no parameters are passed\n",
    "* a set constructed from the given **iterable** parameter"
   ]
  },
  {
   "cell_type": "code",
   "execution_count": 1,
   "metadata": {
    "scrolled": false
   },
   "outputs": [
    {
     "name": "stdout",
     "output_type": "stream",
     "text": [
      "set()\n",
      "{'P', 't', 'o', 'y', 'h', 'n'}\n",
      "{'e', 'u', 'o', 'a', 'i'}\n",
      "{'e', 'u', 'o', 'a', 'i'}\n",
      "{0, 1, 2, 3, 4}\n"
     ]
    }
   ],
   "source": [
    "# Example 1: Create sets from string, tuple, list, and range\n",
    "\n",
    "# empty set\n",
    "print(set())\n",
    "\n",
    "# from string\n",
    "print(set('Python'))\n",
    "\n",
    "# from tuple\n",
    "print(set(('a', 'e', 'i', 'o', 'u')))\n",
    "\n",
    "# from list\n",
    "print(set(['a', 'e', 'i', 'o', 'u']))\n",
    "\n",
    "# from range\n",
    "print(set(range(5)))"
   ]
  },
  {
   "cell_type": "markdown",
   "metadata": {},
   "source": [
    ">**Note:** We cannot create empty sets using **`{ }`** syntax as it creates an empty dictionary. To create an empty set, we use **`set()`**."
   ]
  },
  {
   "cell_type": "code",
   "execution_count": 2,
   "metadata": {},
   "outputs": [
    {
     "name": "stdout",
     "output_type": "stream",
     "text": [
      "{'e', 'i', 'u', 'o', 'a'}\n",
      "{'e', 'i', 'u', 'o', 'a'}\n",
      "{'e', 'i', 'u', 'o', 'a'}\n"
     ]
    }
   ],
   "source": [
    "# Example 2: Create sets from another set, dictionary and frozen set\n",
    "\n",
    "# from set\n",
    "print(set({'a', 'e', 'i', 'o', 'u'}))\n",
    "\n",
    "# from dictionary\n",
    "print(set({'a':1, 'e': 2, 'i':3, 'o':4, 'u':5}))\n",
    "\n",
    "# from frozen set\n",
    "frozen_set = frozenset(('a', 'e', 'i', 'o', 'u'))\n",
    "print(set(frozen_set))"
   ]
  },
  {
   "cell_type": "code",
   "execution_count": 3,
   "metadata": {},
   "outputs": [
    {
     "name": "stdout",
     "output_type": "stream",
     "text": [
      "{1, 2, 3, 4, 5}\n"
     ]
    }
   ],
   "source": [
    "# Example 3: Create set() for a custom iterable object\n",
    "\n",
    "class PrintNumber:\n",
    "    def __init__(self, max):\n",
    "        self.max = max\n",
    "\n",
    "    def __iter__(self):\n",
    "        self.num = 0\n",
    "        return self\n",
    "\n",
    "    def __next__(self):\n",
    "        if(self.num >= self.max):\n",
    "            raise StopIteration\n",
    "        self.num += 1\n",
    "        return self.num\n",
    "\n",
    "# print_num is an iterable\n",
    "print_num = PrintNumber(5)\n",
    "\n",
    "# creating a set\n",
    "print(set(print_num))"
   ]
  },
  {
   "cell_type": "code",
   "execution_count": null,
   "metadata": {},
   "outputs": [],
   "source": []
  }
 ],
 "metadata": {
  "hide_input": false,
  "kernelspec": {
   "display_name": "Python 3",
   "language": "python",
   "name": "python3"
  },
  "language_info": {
   "codemirror_mode": {
    "name": "ipython",
    "version": 3
   },
   "file_extension": ".py",
   "mimetype": "text/x-python",
   "name": "python",
   "nbconvert_exporter": "python",
   "pygments_lexer": "ipython3",
   "version": "3.8.8"
  },
  "toc": {
   "base_numbering": 1,
   "nav_menu": {},
   "number_sections": true,
   "sideBar": true,
   "skip_h1_title": false,
   "title_cell": "Table of Contents",
   "title_sidebar": "Contents",
   "toc_cell": false,
   "toc_position": {},
   "toc_section_display": true,
   "toc_window_display": false
  },
  "varInspector": {
   "cols": {
    "lenName": 16,
    "lenType": 16,
    "lenVar": 40
   },
   "kernels_config": {
    "python": {
     "delete_cmd_postfix": "",
     "delete_cmd_prefix": "del ",
     "library": "var_list.py",
     "varRefreshCmd": "print(var_dic_list())"
    },
    "r": {
     "delete_cmd_postfix": ") ",
     "delete_cmd_prefix": "rm(",
     "library": "var_list.r",
     "varRefreshCmd": "cat(var_dic_list()) "
    }
   },
   "types_to_exclude": [
    "module",
    "function",
    "builtin_function_or_method",
    "instance",
    "_Feature"
   ],
   "window_display": false
  }
 },
 "nbformat": 4,
 "nbformat_minor": 2
}
