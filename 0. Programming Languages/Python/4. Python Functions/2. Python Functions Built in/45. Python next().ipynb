{
 "cells": [
  {
   "cell_type": "markdown",
   "metadata": {},
   "source": [
    "<small><small><i>\n",
    "All the IPython Notebooks in this lecture series by Dr. Milan Parmar are available @ **[GitHub](https://github.com/milaan9/04_Python_Functions/tree/main/002_Python_Functions_Built_in)**\n",
    "</i></small></small>"
   ]
  },
  {
   "cell_type": "markdown",
   "metadata": {},
   "source": [
    "# Python `next()`\n",
    "\n",
    "The **`next()`** function returns the next item from the iterator.\n",
    "\n",
    "**Syntax**:\n",
    "\n",
    "```python\n",
    "next(iterator, default)\n",
    "```"
   ]
  },
  {
   "cell_type": "markdown",
   "metadata": {},
   "source": [
    "## `next()` Parameters\n",
    "\n",
    "The **`next()`** function takes a single parameter:\n",
    "\n",
    "* **iterator** - **`next()`** retrieves next item from the **`iterator`**\n",
    "* **default (optional)** - this value is returned if the iterator is exhausted (there is no next item)"
   ]
  },
  {
   "cell_type": "markdown",
   "metadata": {},
   "source": [
    "## Return Value from `next()`\n",
    "\n",
    "* The **`next()`** function returns the next item from the iterator.\n",
    "* If the iterator is exhausted, it returns the **`default`** value passed as an argument.\n",
    "* If the **`default`** parameter is omitted and the **`iterator`** is exhausted, it raises **`StopIteration`** exception."
   ]
  },
  {
   "cell_type": "code",
   "execution_count": 1,
   "metadata": {
    "ExecuteTime": {
     "end_time": "2021-06-14T11:22:21.892538Z",
     "start_time": "2021-06-14T11:22:21.476525Z"
    },
    "scrolled": false
   },
   "outputs": [
    {
     "name": "stdout",
     "output_type": "stream",
     "text": [
      "<list_iterator object at 0x000001A76E9F9E80>\n",
      "5\n",
      "9\n",
      "cat\n"
     ]
    },
    {
     "ename": "StopIteration",
     "evalue": "",
     "output_type": "error",
     "traceback": [
      "\u001b[1;31m---------------------------------------------------------------------------\u001b[0m",
      "\u001b[1;31mStopIteration\u001b[0m                             Traceback (most recent call last)",
      "\u001b[1;32m<ipython-input-1-3e4a05383388>\u001b[0m in \u001b[0;36m<module>\u001b[1;34m\u001b[0m\n\u001b[0;32m     18\u001b[0m \u001b[1;31m# This will raise Error\u001b[0m\u001b[1;33m\u001b[0m\u001b[1;33m\u001b[0m\u001b[1;33m\u001b[0m\u001b[0m\n\u001b[0;32m     19\u001b[0m \u001b[1;31m# iterator is exhausted\u001b[0m\u001b[1;33m\u001b[0m\u001b[1;33m\u001b[0m\u001b[1;33m\u001b[0m\u001b[0m\n\u001b[1;32m---> 20\u001b[1;33m \u001b[0mprint\u001b[0m\u001b[1;33m(\u001b[0m\u001b[0mnext\u001b[0m\u001b[1;33m(\u001b[0m\u001b[0mrandom_iterator\u001b[0m\u001b[1;33m)\u001b[0m\u001b[1;33m)\u001b[0m\u001b[1;33m\u001b[0m\u001b[1;33m\u001b[0m\u001b[0m\n\u001b[0m",
      "\u001b[1;31mStopIteration\u001b[0m: "
     ]
    }
   ],
   "source": [
    "# Example 1: Get the next item\n",
    "\n",
    "random = [5, 9, 'cat']\n",
    "\n",
    "# converting the list to an iterator\n",
    "random_iterator = iter(random)\n",
    "print(random_iterator)\n",
    "\n",
    "# Output: 5\n",
    "print(next(random_iterator))\n",
    "\n",
    "# Output: 9\n",
    "print(next(random_iterator))\n",
    "\n",
    "# Output: 'cat'\n",
    "print(next(random_iterator))\n",
    "\n",
    "# This will raise Error\n",
    "# iterator is exhausted\n",
    "print(next(random_iterator))"
   ]
  },
  {
   "cell_type": "markdown",
   "metadata": {},
   "source": [
    "A list is an **iterable** and you can get its **iterator** from it by using the **`iter()`** function in Python.\n",
    "\n",
    "Learn more about\n",
    "\n",
    "* **[Python iterators](https://github.com/milaan9/07_Python_Advanced_Topics/blob/main/001_Python_Iterators.ipynb)**\n",
    "* **[Python iter() function](https://github.com/milaan9/04_Python_Functions/blob/main/002_Python_Functions_Built_in/037_Python_iter%28%29.ipynb)**\n",
    "\n",
    "We got an error from the last statement in the above program because we tried to get the next item when no next item was available (iterator is exhausted).\n",
    "\n",
    "In such cases, you can give a **`default`** value as the second parameter."
   ]
  },
  {
   "cell_type": "code",
   "execution_count": 2,
   "metadata": {
    "ExecuteTime": {
     "end_time": "2021-06-14T11:22:23.687449Z",
     "start_time": "2021-06-14T11:22:23.666945Z"
    },
    "scrolled": true
   },
   "outputs": [
    {
     "name": "stdout",
     "output_type": "stream",
     "text": [
      "5\n",
      "9\n",
      "-1\n",
      "-1\n",
      "-1\n"
     ]
    }
   ],
   "source": [
    "# Example 2: Passing default value to next()\n",
    "\n",
    "random = [5, 9]\n",
    "\n",
    "# converting the list to an iterator\n",
    "random_iterator = iter(random)\n",
    "\n",
    "# Output: 5\n",
    "print(next(random_iterator, '-1'))\n",
    "\n",
    "# Output: 9\n",
    "print(next(random_iterator, '-1'))\n",
    "\n",
    "# random_iterator is exhausted\n",
    "# Output: '-1'\n",
    "print(next(random_iterator, '-1'))\n",
    "print(next(random_iterator, '-1'))\n",
    "print(next(random_iterator, '-1'))"
   ]
  },
  {
   "cell_type": "markdown",
   "metadata": {},
   "source": [
    "> **Note:** Internally, **`next()`** calls the **`__next__()`** method."
   ]
  },
  {
   "cell_type": "code",
   "execution_count": null,
   "metadata": {},
   "outputs": [],
   "source": []
  }
 ],
 "metadata": {
  "hide_input": false,
  "kernelspec": {
   "display_name": "Python 3",
   "language": "python",
   "name": "python3"
  },
  "language_info": {
   "codemirror_mode": {
    "name": "ipython",
    "version": 3
   },
   "file_extension": ".py",
   "mimetype": "text/x-python",
   "name": "python",
   "nbconvert_exporter": "python",
   "pygments_lexer": "ipython3",
   "version": "3.8.8"
  },
  "toc": {
   "base_numbering": 1,
   "nav_menu": {},
   "number_sections": true,
   "sideBar": true,
   "skip_h1_title": false,
   "title_cell": "Table of Contents",
   "title_sidebar": "Contents",
   "toc_cell": false,
   "toc_position": {},
   "toc_section_display": true,
   "toc_window_display": false
  },
  "varInspector": {
   "cols": {
    "lenName": 16,
    "lenType": 16,
    "lenVar": 40
   },
   "kernels_config": {
    "python": {
     "delete_cmd_postfix": "",
     "delete_cmd_prefix": "del ",
     "library": "var_list.py",
     "varRefreshCmd": "print(var_dic_list())"
    },
    "r": {
     "delete_cmd_postfix": ") ",
     "delete_cmd_prefix": "rm(",
     "library": "var_list.r",
     "varRefreshCmd": "cat(var_dic_list()) "
    }
   },
   "types_to_exclude": [
    "module",
    "function",
    "builtin_function_or_method",
    "instance",
    "_Feature"
   ],
   "window_display": false
  }
 },
 "nbformat": 4,
 "nbformat_minor": 2
}
