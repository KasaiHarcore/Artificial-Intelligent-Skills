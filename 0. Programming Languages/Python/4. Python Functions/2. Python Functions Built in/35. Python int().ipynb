{
 "cells": [
  {
   "cell_type": "markdown",
   "metadata": {},
   "source": [
    "<small><small><i>\n",
    "All the IPython Notebooks in this lecture series by Dr. Milan Parmar are available @ **[GitHub](https://github.com/milaan9/04_Python_Functions/tree/main/002_Python_Functions_Built_in)**\n",
    "</i></small></small>"
   ]
  },
  {
   "cell_type": "markdown",
   "metadata": {},
   "source": [
    "# Python `int()`\n",
    "\n",
    "The **`int()`** method returns an integer object from any number or string.\n",
    "\n",
    "**Syntax**:\n",
    "\n",
    "```python\n",
    "int(x=0, base=10)\n",
    "```"
   ]
  },
  {
   "cell_type": "markdown",
   "metadata": {},
   "source": [
    "## `int()` Parameters\n",
    "\n",
    "**`int()`** method takes two arguments:\n",
    "\n",
    "* **x** - Number or string to be converted to integer object.\n",
    "    * The default argument is **`zero`**.\n",
    "* **base** - Base of the number in x.\n",
    "    * Can be 0 (code literal) or 2-36."
   ]
  },
  {
   "cell_type": "markdown",
   "metadata": {},
   "source": [
    "## Return Value from `int()`\n",
    "\n",
    "**`int()`** method returns:\n",
    "\n",
    "* an integer object from the given number or string treats default base as 10\n",
    "* (No parameters) returns 0\n",
    "* (If base given) treats the string in the given base (0, 2, 8, 10, 16)"
   ]
  },
  {
   "cell_type": "code",
   "execution_count": 1,
   "metadata": {
    "ExecuteTime": {
     "end_time": "2021-06-14T11:18:22.505629Z",
     "start_time": "2021-06-14T11:18:22.434338Z"
    },
    "scrolled": false
   },
   "outputs": [
    {
     "name": "stdout",
     "output_type": "stream",
     "text": [
      "int(123) is: 123\n",
      "int(123.23) is: 123\n",
      "int('123') is: 123\n"
     ]
    }
   ],
   "source": [
    "# Example 1: How int() works in Python?\n",
    "\n",
    "# integer\n",
    "print(\"int(123) is:\", int(123))\n",
    "\n",
    "# float\n",
    "print(\"int(123.23) is:\", int(123.23))\n",
    "\n",
    "# string\n",
    "print(\"int('123') is:\", int('123'))"
   ]
  },
  {
   "cell_type": "code",
   "execution_count": 2,
   "metadata": {
    "ExecuteTime": {
     "end_time": "2021-06-14T11:18:23.199959Z",
     "start_time": "2021-06-14T11:18:23.188239Z"
    }
   },
   "outputs": [
    {
     "name": "stdout",
     "output_type": "stream",
     "text": [
      "For 1010, int is: 10\n",
      "For 0b1010, int is: 10\n",
      "For 12, int is: 10\n",
      "For 0o12, int is: 10\n",
      "For A, int is: 10\n",
      "For 0xA, int is: 10\n"
     ]
    }
   ],
   "source": [
    "# Example 2: How int() works for decimal, octal and hexadecimal?\n",
    "\n",
    "# binary 0b or 0B\n",
    "print(\"For 1010, int is:\", int('1010', 2))\n",
    "print(\"For 0b1010, int is:\", int('0b1010', 2))\n",
    "\n",
    "# octal 0o or 0O\n",
    "print(\"For 12, int is:\", int('12', 8))\n",
    "print(\"For 0o12, int is:\", int('0o12', 8))\n",
    "\n",
    "# hexadecimal\n",
    "print(\"For A, int is:\", int('A', 16))\n",
    "print(\"For 0xA, int is:\", int('0xA', 16))"
   ]
  },
  {
   "cell_type": "code",
   "execution_count": 3,
   "metadata": {
    "ExecuteTime": {
     "end_time": "2021-06-14T11:18:26.265370Z",
     "start_time": "2021-06-14T11:18:26.250721Z"
    }
   },
   "outputs": [
    {
     "name": "stdout",
     "output_type": "stream",
     "text": [
      "int(person) is: 23\n"
     ]
    }
   ],
   "source": [
    "# Example 3: int() for custom objects\n",
    "\n",
    "# Internally, int() method calls an object's __int__() method.\n",
    "# So, even if an object isn't a number, you can convert the object into an integer object.\n",
    "# You can do this by overriding __index__() and __int__() methods of the class to return a number.\n",
    "# These two methods should return the same value as older versions of Python uses __int__(), \n",
    "# while newer uses __index__() method.\n",
    "\n",
    "class Person:\n",
    "    age = 23\n",
    "\n",
    "    def __index__(self):\n",
    "        return self.age\n",
    "    \n",
    "    def __int__(self):\n",
    "        return self.age\n",
    "\n",
    "person = Person()\n",
    "print('int(person) is:', int(person))"
   ]
  },
  {
   "cell_type": "code",
   "execution_count": null,
   "metadata": {},
   "outputs": [],
   "source": []
  }
 ],
 "metadata": {
  "hide_input": false,
  "kernelspec": {
   "display_name": "Python 3",
   "language": "python",
   "name": "python3"
  },
  "language_info": {
   "codemirror_mode": {
    "name": "ipython",
    "version": 3
   },
   "file_extension": ".py",
   "mimetype": "text/x-python",
   "name": "python",
   "nbconvert_exporter": "python",
   "pygments_lexer": "ipython3",
   "version": "3.8.8"
  },
  "toc": {
   "base_numbering": 1,
   "nav_menu": {},
   "number_sections": true,
   "sideBar": true,
   "skip_h1_title": false,
   "title_cell": "Table of Contents",
   "title_sidebar": "Contents",
   "toc_cell": false,
   "toc_position": {},
   "toc_section_display": true,
   "toc_window_display": false
  },
  "varInspector": {
   "cols": {
    "lenName": 16,
    "lenType": 16,
    "lenVar": 40
   },
   "kernels_config": {
    "python": {
     "delete_cmd_postfix": "",
     "delete_cmd_prefix": "del ",
     "library": "var_list.py",
     "varRefreshCmd": "print(var_dic_list())"
    },
    "r": {
     "delete_cmd_postfix": ") ",
     "delete_cmd_prefix": "rm(",
     "library": "var_list.r",
     "varRefreshCmd": "cat(var_dic_list()) "
    }
   },
   "types_to_exclude": [
    "module",
    "function",
    "builtin_function_or_method",
    "instance",
    "_Feature"
   ],
   "window_display": false
  }
 },
 "nbformat": 4,
 "nbformat_minor": 2
}
