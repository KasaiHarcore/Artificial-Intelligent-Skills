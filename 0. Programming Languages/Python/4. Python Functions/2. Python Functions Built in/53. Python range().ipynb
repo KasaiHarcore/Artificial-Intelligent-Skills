{
 "cells": [
  {
   "cell_type": "markdown",
   "metadata": {},
   "source": [
    "<small><small><i>\n",
    "All the IPython Notebooks in this lecture series by Dr. Milan Parmar are available @ **[GitHub](https://github.com/milaan9/04_Python_Functions/tree/main/002_Python_Functions_Built_in)**\n",
    "</i></small></small>"
   ]
  },
  {
   "cell_type": "markdown",
   "metadata": {},
   "source": [
    "# Python `range()`\n",
    "\n",
    "The **`range()`** type **generates an immutable sequence of numbers** between the given start integer to the stop integer.\n",
    "\n",
    "**`range()`** constructor has two forms of definition:\n",
    "\n",
    "```python\n",
    "range(stop)\n",
    "range(start, stop[, step])\n",
    "```"
   ]
  },
  {
   "cell_type": "markdown",
   "metadata": {},
   "source": [
    "## `range()` Parameters\n",
    "\n",
    "**`range()`** takes mainly three arguments. Out of the three 2 arguments are optional. i.e., start and step are the optional arguments having the same use in both definitions:\n",
    "\n",
    "* **start** - integer starting from which the sequence of integers is to be returned, i.e., lower limit. By default, it starts with 0 if not specified.\n",
    "\n",
    "* **stop** - integer before which the sequence of integers is to be returned. i.e., upper lmit where it generate numbers up to this number. The **`range()`** doesn’t include this number in the result, i.e., the range of integers ends at **`stop - 1`**.\n",
    "\n",
    "* **step (Optional)** - integer value which determines the increment between each integer in the sequence, i.e., difference between each number in the result. The default value of the step is 1 if not specified."
   ]
  },
  {
   "cell_type": "markdown",
   "metadata": {},
   "source": [
    "## Return Value from `range()`\n",
    "\n",
    "**`range()`** returns an immutable sequence object of numbers depending upon the definitions used:\n",
    "\n",
    "* **`range(stop)`**\n",
    "\n",
    "Returns a sequence of numbers starting from **`0`** to **`stop - 1`**\n",
    "Returns an empty sequence if **`stop`** is **`negative`** or **`0`**.\n",
    "\n",
    "* **`range(start, stop[, step])`**\n",
    "The return value is calculated by the following formula with the given constraints:\n",
    "\n",
    "```python\n",
    "r[n] = start + step*n (for both positive and negative step)\n",
    "where, n >=0 and r[n] < stop (for positive step)\n",
    "where, n >= 0 and r[n] > stop (for negative step)\n",
    "```\n",
    "\n",
    "* (If no **`step`**) Step defaults to 1. Returns a sequence of numbers starting from **`start`** and ending at **`stop - 1`**.\n",
    "* (if **`step`** is zero) Raises a **`ValueError`** exception\n",
    "* (if **`step`** is non-zero) Checks if the **value constraint** is met and returns a sequence according to the formula\n",
    "If it doesn't meet the value constraint, **Empty** sequence is returned."
   ]
  },
  {
   "cell_type": "code",
   "execution_count": 1,
   "metadata": {
    "ExecuteTime": {
     "end_time": "2021-06-14T11:32:16.854931Z",
     "start_time": "2021-06-14T11:32:16.832472Z"
    },
    "scrolled": true
   },
   "outputs": [
    {
     "name": "stdout",
     "output_type": "stream",
     "text": [
      "[]\n",
      "[0, 1, 2, 3, 4]\n",
      "[0, 1, 2, 3, 4, 5, 6, 7, 8, 9]\n",
      "[1, 2, 3, 4, 5, 6, 7, 8, 9]\n"
     ]
    }
   ],
   "source": [
    "# Example 1: How range works in Python?\n",
    "\n",
    "# empty range\n",
    "print(list(range(0)))\n",
    "\n",
    "# using range(stop)\n",
    "print(list(range(5)))\n",
    "\n",
    "# using range(stop)\n",
    "print(list(range(10)))\n",
    "\n",
    "# using range(start, stop)\n",
    "print(list(range(1, 10)))"
   ]
  },
  {
   "cell_type": "markdown",
   "metadata": {},
   "source": [
    "<div>\n",
    "<img src=\"img/r1.png\" width=\"300\"/>\n",
    "</div>\n",
    "\n",
    ">**Note:** We've converted the range to a **[Python list](https://github.com/milaan9/02_Python_Datatypes/blob/main/003_Python_List.ipynb)**, as **`range()`** returns a generator-like object that only prints the output on demand.\n",
    "\n",
    "However, the range object returned by the range constructor can also be accessed by its index. It supports both positive and negative indices.\n",
    "\n",
    "You can access the range object by index as:\n",
    "\n",
    "```python\n",
    "rangeObject[index]\n",
    "```"
   ]
  },
  {
   "cell_type": "code",
   "execution_count": 2,
   "metadata": {
    "ExecuteTime": {
     "end_time": "2021-06-14T11:32:22.572678Z",
     "start_time": "2021-06-14T11:32:22.560959Z"
    }
   },
   "outputs": [
    {
     "name": "stdout",
     "output_type": "stream",
     "text": [
      "[2, 4, 6, 8, 10, 12]\n"
     ]
    }
   ],
   "source": [
    "# Example 2: Create a list of even number between the given numbers using range()\n",
    "\n",
    "start = 2\n",
    "stop = 14\n",
    "step = 2\n",
    "\n",
    "print(list(range(start, stop, step)))"
   ]
  },
  {
   "cell_type": "code",
   "execution_count": 3,
   "metadata": {
    "ExecuteTime": {
     "end_time": "2021-06-14T11:32:23.509196Z",
     "start_time": "2021-06-14T11:32:23.495524Z"
    }
   },
   "outputs": [
    {
     "name": "stdout",
     "output_type": "stream",
     "text": [
      "[2, 0, -2, -4, -6, -8, -10, -12]\n",
      "[]\n"
     ]
    }
   ],
   "source": [
    "# Example 3: How range() works with negative step?\n",
    "\n",
    "start = 2\n",
    "stop = -14\n",
    "step = -2\n",
    "\n",
    "print(list(range(start, stop, step)))\n",
    "\n",
    "# value constraint not met\n",
    "print(list(range(start, 14, step)))"
   ]
  },
  {
   "cell_type": "markdown",
   "metadata": {},
   "source": [
    "## Python `range()` using `for` loop\n",
    "\n",
    "Using **`for`** loop, we can iterate over a sequence of numbers produced by the **`range( )`** function. Let’s understand how to use a **`range( )`** function of Python 3 with the help of a simple example."
   ]
  },
  {
   "cell_type": "code",
   "execution_count": 4,
   "metadata": {
    "ExecuteTime": {
     "end_time": "2021-06-14T11:32:27.994523Z",
     "start_time": "2021-06-14T11:32:27.984760Z"
    },
    "scrolled": true
   },
   "outputs": [
    {
     "name": "stdout",
     "output_type": "stream",
     "text": [
      "Python range() example\n",
      "Get numbers from range 0 to 5\n",
      "0, 1, 2, 3, 4, "
     ]
    }
   ],
   "source": [
    "# Example 4: Using only one argument\n",
    "# Print first 5 numbers using range function\n",
    "\n",
    "print(\"Python range() example\")\n",
    "print(\"Get numbers from range 0 to 5\")\n",
    "for i in range(5):\n",
    "    print(i, end=', ')"
   ]
  },
  {
   "cell_type": "markdown",
   "metadata": {},
   "source": [
    "<div>\n",
    "<img src=\"img/r2.png\" width=\"500\"/>\n",
    "</div>\n",
    "\n",
    ">**Note**: We got integers from 0 to 4 because **`range( )`** function doesn’t include the last (stop) number in the result, i.e., Only a stop argument is passed to **`range( )`**. So by default, it takes **`start = 0`** and **`step = 1`**."
   ]
  },
  {
   "cell_type": "code",
   "execution_count": 5,
   "metadata": {
    "ExecuteTime": {
     "end_time": "2021-06-14T11:32:30.703496Z",
     "start_time": "2021-06-14T11:32:30.690804Z"
    },
    "scrolled": true
   },
   "outputs": [
    {
     "name": "stdout",
     "output_type": "stream",
     "text": [
      "5, 6, 7, 8, 9, "
     ]
    }
   ],
   "source": [
    "# Example 5: using two arguments (i.e., start and stop)\n",
    "\n",
    "# Print integers within given start and stop number using range()\n",
    "for i in range(5, 10):\n",
    "    print(i, end=', ')"
   ]
  },
  {
   "cell_type": "markdown",
   "metadata": {},
   "source": [
    ">**Note:** By default, it took step value as 1."
   ]
  },
  {
   "cell_type": "code",
   "execution_count": 6,
   "metadata": {
    "ExecuteTime": {
     "end_time": "2021-06-14T11:32:33.661000Z",
     "start_time": "2021-06-14T11:32:33.641471Z"
    }
   },
   "outputs": [
    {
     "name": "stdout",
     "output_type": "stream",
     "text": [
      "Printing All even numbers between 2 and 10 using range()\n",
      "2, 4, 6, 8, "
     ]
    }
   ],
   "source": [
    "# Example 6: using all three arguments\n",
    "\n",
    "# using start, stop, and step arguments in range()\n",
    "print(\"Printing All even numbers between 2 and 10 using range()\")\n",
    "for i in range(2, 10, 2):\n",
    "    print(i, end=', ')"
   ]
  },
  {
   "cell_type": "markdown",
   "metadata": {},
   "source": [
    ">**Note:** All three arguments are specified i.e., **`start = 2`**, **`stop = 10`**, **`step = 2`**.  The step value is 2 so the difference between each number is 2."
   ]
  },
  {
   "cell_type": "markdown",
   "metadata": {},
   "source": [
    "### Practice Problem 1:\n",
    "\n",
    "Generate a range of numbers from 9 to 100 divisible by 3 in Python using **`range()`** function."
   ]
  },
  {
   "cell_type": "markdown",
   "metadata": {},
   "source": [
    "### Points to remember about `range()` function arguments\n",
    "\n",
    "* **`range()`** only works with the integers. All arguments must be integers. You can not use float number or any other type in a start, stop and step argument of a **`range()`**.\n",
    "\n",
    "* All three arguments can be positive or negative.\n",
    "\n",
    "* The step value must not be zero. If a step is zero Python raises a ValueError exception."
   ]
  },
  {
   "cell_type": "markdown",
   "metadata": {},
   "source": [
    "### for `i` in range – `for` loop with `range()`\n",
    "\n",
    "As you know for loop executes a block of code or statement repeatedly for the fixed number of times. Using for loop we can iterate over a sequence of numbers produced by the **`range()`** function. Let’s see how to use for loop and **`range()`** function to print the odd numbers between 1 and 10. Using this example, we can understand how i is getting its value when we use **`range()`** and for loop together."
   ]
  },
  {
   "cell_type": "code",
   "execution_count": 7,
   "metadata": {
    "ExecuteTime": {
     "end_time": "2021-06-14T11:32:38.668785Z",
     "start_time": "2021-06-14T11:32:38.649261Z"
    },
    "scrolled": true
   },
   "outputs": [
    {
     "name": "stdout",
     "output_type": "stream",
     "text": [
      "Current value of i is: 1\n",
      "Current value of i is: 3\n",
      "Current value of i is: 5\n",
      "Current value of i is: 7\n",
      "Current value of i is: 9\n"
     ]
    }
   ],
   "source": [
    "# Example 7:\n",
    "\n",
    "for i in range(1, 10, 2):\n",
    "    print(\"Current value of i is:\", i)"
   ]
  },
  {
   "cell_type": "markdown",
   "metadata": {},
   "source": [
    "**In `for i in range()` i is the iterator variable**. To understand what does for i in **`range()`** mean in Python, first, we need to understand the working of **`range()`** function.  The **`range()`** function uses the generator to produce numbers within a range, i.e., it doesn’t produce all numbers at once. It generates the next value only when for loop iteration asked for it. In each loop iteration, Python generates the next value and assign it to the iterator variable i."
   ]
  },
  {
   "cell_type": "markdown",
   "metadata": {},
   "source": [
    "**Explanation:**\n",
    "\n",
    "Program execution\n",
    "\n",
    "* As you can see in the output, the variable i is not getting the value 1, 3, 5, 7, 9 at the same time.\n",
    "* In the first iteration of for loop value of i is the value of start.  i.e., The first value of i is the starting number of a range. Here the range starts at 1.\n",
    "* Next, In every subsequent iteration of for loop, the value of i incremented sequentially. The value of i is determined by the formula i = i + step. i.e., in the second iteration, i become 3, and so on.\n",
    "\n",
    "As you know, In every iteration of for loop, **`range()`** generates the next number and assigns it to the iterator variable i. i.e., We get numbers on demand (**`range()`** produces number one by one as the loop moves to the next iteration). Because of this behavior **`range()`** is faster and saves memory."
   ]
  },
  {
   "cell_type": "markdown",
   "metadata": {},
   "source": [
    "### Practice Problem 3:\n",
    "\n",
    "Print the following number pattern using Python **`range()`** and for loop.\n",
    "\n",
    "```python\n",
    "1 \n",
    "2 2 \n",
    "3 3 3\n",
    "```\n",
    "\n",
    "`for num in range(3):\n",
    "    for i in range(num):\n",
    "        print(num, end=\" \")\n",
    "    print()  # new line after each row to show pattern correctly`\n"
   ]
  },
  {
   "cell_type": "markdown",
   "metadata": {},
   "source": [
    "### Inclusive range\n",
    "\n",
    "In this section, we will learn how to generate an inclusive range. The **`range(n)`** is of exclusive nature that is why it doesn’t include the last number in the output.  i.e., The given endpoint is never part of the generated result. \n",
    "\n",
    "For example, **`range(0, 5) = [0, 1, 2, 3, 4]`**. The result contains numbers from **`0`** to up to **`5`** but not 5 and the total count is 5. The **`range(start, stop)`** not include stop number in the output because the index (i) always starts with 0 in Python.\n",
    "\n",
    "If you want to include the last number in the output i.e., If you want an inclusive range then set stop argument value as stop+step."
   ]
  },
  {
   "cell_type": "code",
   "execution_count": 8,
   "metadata": {
    "ExecuteTime": {
     "end_time": "2021-06-14T11:32:44.836724Z",
     "start_time": "2021-06-14T11:32:44.816221Z"
    }
   },
   "outputs": [
    {
     "name": "stdout",
     "output_type": "stream",
     "text": [
      "1, 2, 3, 4, 5, "
     ]
    }
   ],
   "source": [
    "# Example 8: Inclusive range() example.\n",
    "\n",
    "# Printing inclusive range\n",
    "start = 1\n",
    "stop  = 5 \n",
    "step  = 1\n",
    "stop +=step #now stop is 6\n",
    "\n",
    "for i in range(start, stop, step):\n",
    "    print(i, end=', ')"
   ]
  },
  {
   "cell_type": "code",
   "execution_count": 9,
   "metadata": {
    "ExecuteTime": {
     "end_time": "2021-06-14T11:32:47.928509Z",
     "start_time": "2021-06-14T11:32:47.913374Z"
    }
   },
   "outputs": [
    {
     "name": "stdout",
     "output_type": "stream",
     "text": [
      "2, 4, 6, 8, 10, "
     ]
    }
   ],
   "source": [
    "# Example 9: Printing inclusive range\n",
    "start = 2\n",
    "stop  = 10 \n",
    "step  = 2\n",
    "stop +=step #now stop is 12\n",
    "\n",
    "for i in range(start, stop, step):\n",
    "    print(i, end=', ')"
   ]
  },
  {
   "cell_type": "markdown",
   "metadata": {},
   "source": [
    "### Decrementing with **`range()`** using a negative step\n",
    "\n",
    "We can use negative values in all the arguments of **`range()`** function i.e., start, stop, and step."
   ]
  },
  {
   "cell_type": "code",
   "execution_count": 10,
   "metadata": {
    "ExecuteTime": {
     "end_time": "2021-06-14T11:32:49.204381Z",
     "start_time": "2021-06-14T11:32:49.193641Z"
    }
   },
   "outputs": [
    {
     "name": "stdout",
     "output_type": "stream",
     "text": [
      "Negative number range\n",
      "-2, -4, -6, -8, "
     ]
    }
   ],
   "source": [
    "# Example 10:\n",
    "\n",
    "start = -2\n",
    "stop = -10\n",
    "step = -2\n",
    "print(\"Negative number range\")\n",
    "for number in range(start, stop, step):\n",
    "    print(number, end=', ')"
   ]
  },
  {
   "cell_type": "markdown",
   "metadata": {},
   "source": [
    "### Decrementing with the range from Negative to Positive number\n",
    "\n",
    "Here in this example, we will learn how to use a step argument to display a range of numbers from negative to positive. Range of negative numbers."
   ]
  },
  {
   "cell_type": "code",
   "execution_count": 11,
   "metadata": {
    "ExecuteTime": {
     "end_time": "2021-06-14T11:32:51.971943Z",
     "start_time": "2021-06-14T11:32:51.961205Z"
    }
   },
   "outputs": [
    {
     "name": "stdout",
     "output_type": "stream",
     "text": [
      "-2, -1, 0, 1, 2, 3, 4, "
     ]
    }
   ],
   "source": [
    "# Example 11:\n",
    "\n",
    "# printing range from negative to positive\n",
    "for num in range(-2, 5, 1):\n",
    "    print(num, end=\", \")"
   ]
  },
  {
   "cell_type": "markdown",
   "metadata": {},
   "source": [
    "### Python range from Positive to Negative number\n",
    "\n",
    "Here in this example, we can learn how to use step argument effectively to display numbers from positive to negative."
   ]
  },
  {
   "cell_type": "code",
   "execution_count": 12,
   "metadata": {
    "ExecuteTime": {
     "end_time": "2021-06-14T11:32:53.097427Z",
     "start_time": "2021-06-14T11:32:53.088640Z"
    }
   },
   "outputs": [
    {
     "name": "stdout",
     "output_type": "stream",
     "text": [
      " printing range from Positive to Negative\n",
      "2, 1, 0, -1, -2, -3, -4, "
     ]
    }
   ],
   "source": [
    "# Example 12:\n",
    "\n",
    "# printing range from positive to negtive\n",
    "print (\" printing range from Positive to Negative\")\n",
    "for num in range(2,-5,-1):\n",
    "    print(num, end=\", \")"
   ]
  },
  {
   "cell_type": "markdown",
   "metadata": {},
   "source": [
    "### Reverse range\n",
    "\n",
    "If you want to print the sequence of numbers within range by descending order or reverse order in Python then its possible, there are two ways to do this.\n",
    "\n",
    "**The first is to use a negative or down step value**. i.e., set the step argument of a **`range()`** to **`-1`**. For example, if you want to display a number sequence like **`[5, 4, 3, 2, 1, 0]`** i.e., we want reverse iteration or backward iteration of for loop with **`range()`** function.\n",
    "\n",
    "Let’s see how to **loop backward using indices** in Python to display a range of numbers from 5 to 0."
   ]
  },
  {
   "cell_type": "code",
   "execution_count": 13,
   "metadata": {
    "ExecuteTime": {
     "end_time": "2021-06-14T11:32:54.897221Z",
     "start_time": "2021-06-14T11:32:54.881600Z"
    }
   },
   "outputs": [
    {
     "name": "stdout",
     "output_type": "stream",
     "text": [
      "Displaying a range of numbers by reverse order\n",
      "5, 4, 3, 2, 1, 0, "
     ]
    }
   ],
   "source": [
    "# Example 13:\n",
    "\n",
    "print (\"Displaying a range of numbers by reverse order\")\n",
    "for i in range(5, -1, -1):\n",
    "    print (i, end=', ')"
   ]
  },
  {
   "cell_type": "markdown",
   "metadata": {},
   "source": [
    "### Use the reversed function to reverse range in Python\n",
    "\n",
    "Alternatively, using The **`reversed()`** function, we can reverse any sequence. If we use the **`reversed()`** function with **`range()`**, that will return a range_iterator that accesses the given range of numbers in the reverse order. The below example will let you know how to make a reverse for loop in Python."
   ]
  },
  {
   "cell_type": "code",
   "execution_count": 14,
   "metadata": {
    "ExecuteTime": {
     "end_time": "2021-06-14T11:32:56.114014Z",
     "start_time": "2021-06-14T11:32:56.105226Z"
    }
   },
   "outputs": [
    {
     "name": "stdout",
     "output_type": "stream",
     "text": [
      "Printing reverse range using reversed()\n",
      "4\n",
      "3\n",
      "2\n",
      "1\n",
      "0\n"
     ]
    }
   ],
   "source": [
    "# Example 14:\n",
    "\n",
    "print(\"Printing reverse range using reversed()\")\n",
    "for i in reversed(range(0, 5)):\n",
    "    print(i)"
   ]
  },
  {
   "cell_type": "code",
   "execution_count": 15,
   "metadata": {
    "ExecuteTime": {
     "end_time": "2021-06-14T11:32:57.234614Z",
     "start_time": "2021-06-14T11:32:57.224850Z"
    }
   },
   "outputs": [
    {
     "name": "stdout",
     "output_type": "stream",
     "text": [
      "Checking the type\n",
      "<class 'range'>\n",
      "<class 'range_iterator'>\n"
     ]
    }
   ],
   "source": [
    "# Example 15: Check the output type if  we use range() with reversed()\n",
    "\n",
    "print(\"Checking the type\")\n",
    "print(type(range(0, 5)))\n",
    "print(type(reversed(range(0,5))))\n"
   ]
  },
  {
   "cell_type": "markdown",
   "metadata": {},
   "source": [
    "### Concatenating the result of two range() function\n",
    "\n",
    "Let say you want to add **`range(5) + range(10,15)`**. (Note: this code is a pseudo-code.)  And you want the concatenated range like **`[0, 1, 2, 3, 4, 10, 11, 12, 13, 14]`**.\n",
    "\n",
    "We can concatenate the output of two range functions using the itertools’s **`chain()`** function.\n",
    "\n",
    "Program: Concatenating two range function results."
   ]
  },
  {
   "cell_type": "code",
   "execution_count": 16,
   "metadata": {
    "ExecuteTime": {
     "end_time": "2021-06-14T11:32:58.969466Z",
     "start_time": "2021-06-14T11:32:58.952868Z"
    }
   },
   "outputs": [
    {
     "name": "stdout",
     "output_type": "stream",
     "text": [
      "Concatinated two range() function\n",
      "0, 1, 2, 3, 4, 5, 6, 7, 8, 9, 50, 51, 52, 53, 54, 55, 56, 57, 58, 59, 60, 61, 62, 63, 64, 65, 66, 67, 68, 69, 70, 71, 72, 73, 74, "
     ]
    }
   ],
   "source": [
    "# Example 16:\n",
    "\n",
    "from itertools import chain\n",
    "\n",
    "print (\"Concatinated two range() function\")\n",
    "concatenated_range = chain(range(10), range(50, 75))\n",
    "for num in concatenated_range:\n",
    "    print(num,end=\", \")"
   ]
  },
  {
   "cell_type": "code",
   "execution_count": null,
   "metadata": {},
   "outputs": [],
   "source": []
  }
 ],
 "metadata": {
  "hide_input": false,
  "kernelspec": {
   "display_name": "Python 3",
   "language": "python",
   "name": "python3"
  },
  "language_info": {
   "codemirror_mode": {
    "name": "ipython",
    "version": 3
   },
   "file_extension": ".py",
   "mimetype": "text/x-python",
   "name": "python",
   "nbconvert_exporter": "python",
   "pygments_lexer": "ipython3",
   "version": "3.8.8"
  },
  "toc": {
   "base_numbering": 1,
   "nav_menu": {},
   "number_sections": true,
   "sideBar": true,
   "skip_h1_title": false,
   "title_cell": "Table of Contents",
   "title_sidebar": "Contents",
   "toc_cell": false,
   "toc_position": {},
   "toc_section_display": true,
   "toc_window_display": false
  },
  "varInspector": {
   "cols": {
    "lenName": 16,
    "lenType": 16,
    "lenVar": 40
   },
   "kernels_config": {
    "python": {
     "delete_cmd_postfix": "",
     "delete_cmd_prefix": "del ",
     "library": "var_list.py",
     "varRefreshCmd": "print(var_dic_list())"
    },
    "r": {
     "delete_cmd_postfix": ") ",
     "delete_cmd_prefix": "rm(",
     "library": "var_list.r",
     "varRefreshCmd": "cat(var_dic_list()) "
    }
   },
   "types_to_exclude": [
    "module",
    "function",
    "builtin_function_or_method",
    "instance",
    "_Feature"
   ],
   "window_display": false
  }
 },
 "nbformat": 4,
 "nbformat_minor": 2
}
