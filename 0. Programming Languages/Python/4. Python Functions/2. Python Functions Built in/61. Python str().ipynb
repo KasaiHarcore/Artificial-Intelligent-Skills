{
 "cells": [
  {
   "cell_type": "markdown",
   "metadata": {},
   "source": [
    "<small><small><i>\n",
    "All the IPython Notebooks in this lecture series by Dr. Milan Parmar are available @ **[GitHub](https://github.com/milaan9/04_Python_Functions/tree/main/002_Python_Functions_Built_in)**\n",
    "</i></small></small>"
   ]
  },
  {
   "cell_type": "markdown",
   "metadata": {},
   "source": [
    "# Python `str()`\n",
    "\n",
    "The **`str()`** function returns the string version of the given object.\n",
    "\n",
    "**Syntax**:\n",
    "\n",
    "```python\n",
    "str(object, encoding='utf-8', errors='strict')\n",
    "```"
   ]
  },
  {
   "cell_type": "markdown",
   "metadata": {},
   "source": [
    "## `str()` Parameters\n",
    "\n",
    "**`str()`** method takes three parameters:\n",
    "\n",
    "* **object** - The **`object`** whose string representation is to be returned. If not provided, returns the empty string\n",
    "* **encoding** - Encoding of the given object. Defaults of **UTF-8** when not provided.\n",
    "* **errors** - Response when decoding fails. Defaults to **`'strict'`**.\n",
    "\n",
    "There are six types of **`errors`**:\n",
    "\n",
    "* **strict** - default response which raises a **`UnicodeDecodeError`** exception on failure\n",
    "* **ignore** - ignores the unencodable Unicode from the result\n",
    "* **replace** - replaces the unencodable Unicode to a question mark\n",
    "* **xmlcharrefreplace** - inserts XML character reference instead of unencodable Unicode\n",
    "* **backslashreplace** - inserts a **`\\uNNNN`** espace sequence instead of unencodable Unicode\n",
    "* **namereplace** - inserts a **`\\N{...}`** escape sequence instead of unencodable Unicode\n"
   ]
  },
  {
   "cell_type": "markdown",
   "metadata": {},
   "source": [
    "## Return value from `str()`\n",
    "\n",
    "The **`str()`** method returns a string, which is considered an informal or nicely printable representation of the given object."
   ]
  },
  {
   "cell_type": "code",
   "execution_count": 1,
   "metadata": {
    "ExecuteTime": {
     "end_time": "2021-06-14T11:38:27.095062Z",
     "start_time": "2021-06-14T11:38:27.084319Z"
    },
    "scrolled": false
   },
   "outputs": [
    {
     "name": "stdout",
     "output_type": "stream",
     "text": [
      "10\n"
     ]
    }
   ],
   "source": [
    "# Example 1: Convert to String\n",
    "\n",
    "# If encoding and errors parameter isn't provided, str() internally calls the __str__() method \n",
    "# of an object.\n",
    "\n",
    "# If it cannot find the __str__() method, it instead calls repr(obj).\n",
    "\n",
    "result = str(10)\n",
    "print(result)"
   ]
  },
  {
   "cell_type": "markdown",
   "metadata": {},
   "source": [
    "If it cannot find the **`__str__()`** method, it instead calls **[repr(obj)](https://github.com/milaan9/04_Python_Functions/blob/main/002_Python_Functions_Built_in/054_Python_repr%28%29.ipynb)**.\n",
    "\n",
    ">**Note:** The result variable will contain a string.\n",
    "\n",
    "Also try these commands on the Python console."
   ]
  },
  {
   "cell_type": "code",
   "execution_count": 2,
   "metadata": {
    "ExecuteTime": {
     "end_time": "2021-06-14T11:38:29.306962Z",
     "start_time": "2021-06-14T11:38:29.275714Z"
    }
   },
   "outputs": [
    {
     "data": {
      "text/plain": [
       "'Adam'"
      ]
     },
     "execution_count": 2,
     "metadata": {},
     "output_type": "execute_result"
    }
   ],
   "source": [
    "str('Adam')"
   ]
  },
  {
   "cell_type": "code",
   "execution_count": 3,
   "metadata": {
    "ExecuteTime": {
     "end_time": "2021-06-14T11:38:29.799148Z",
     "start_time": "2021-06-14T11:38:29.787431Z"
    }
   },
   "outputs": [
    {
     "data": {
      "text/plain": [
       "\"b'Python!'\""
      ]
     },
     "execution_count": 3,
     "metadata": {},
     "output_type": "execute_result"
    }
   ],
   "source": [
    "str(b'Python!')"
   ]
  },
  {
   "cell_type": "markdown",
   "metadata": {},
   "source": [
    "## `str()` with bytes\n",
    "\n",
    "If **`encoding`** and **`errors`** parameter is provided, the first parameter, **object**, should be a **bytes-like-object** (**[bytes](https://github.com/milaan9/04_Python_Functions/blob/main/002_Python_Functions_Built_in/009_Python_bytes%28%29.ipynb)** or **[bytearray](https://github.com/milaan9/04_Python_Functions/blob/main/002_Python_Functions_Built_in/007_Python_bytearray%28%29.ipynb)**).\n",
    "\n",
    "If the object is **bytes or bytearray**, **`str()`** internally calls **`bytes.decode(encoding, errors)`**.\n",
    "\n",
    "Otherwise, it gets the bytes object in the buffer before calling the **`decode()`** method."
   ]
  },
  {
   "cell_type": "code",
   "execution_count": 4,
   "metadata": {
    "ExecuteTime": {
     "end_time": "2021-06-14T11:38:38.266871Z",
     "start_time": "2021-06-14T11:38:38.259062Z"
    }
   },
   "outputs": [
    {
     "name": "stdout",
     "output_type": "stream",
     "text": [
      "pythn\n"
     ]
    }
   ],
   "source": [
    "# Example 2: \n",
    "\n",
    "# bytes\n",
    "b = bytes('pythön', encoding='utf-8')\n",
    "\n",
    "print(str(b, encoding='ascii', errors='ignore'))"
   ]
  },
  {
   "cell_type": "markdown",
   "metadata": {},
   "source": [
    "Here, the character **`'ö'`** cannot be decoded by ASCII. Hence, it should give an error. However, we have set the **`errors ='ignore'`**. Hence, Python ignores the character which cannot be decoded by **`str()`**."
   ]
  },
  {
   "cell_type": "code",
   "execution_count": null,
   "metadata": {},
   "outputs": [],
   "source": []
  }
 ],
 "metadata": {
  "hide_input": false,
  "kernelspec": {
   "display_name": "Python 3",
   "language": "python",
   "name": "python3"
  },
  "language_info": {
   "codemirror_mode": {
    "name": "ipython",
    "version": 3
   },
   "file_extension": ".py",
   "mimetype": "text/x-python",
   "name": "python",
   "nbconvert_exporter": "python",
   "pygments_lexer": "ipython3",
   "version": "3.8.8"
  },
  "toc": {
   "base_numbering": 1,
   "nav_menu": {},
   "number_sections": true,
   "sideBar": true,
   "skip_h1_title": false,
   "title_cell": "Table of Contents",
   "title_sidebar": "Contents",
   "toc_cell": false,
   "toc_position": {},
   "toc_section_display": true,
   "toc_window_display": false
  },
  "varInspector": {
   "cols": {
    "lenName": 16,
    "lenType": 16,
    "lenVar": 40
   },
   "kernels_config": {
    "python": {
     "delete_cmd_postfix": "",
     "delete_cmd_prefix": "del ",
     "library": "var_list.py",
     "varRefreshCmd": "print(var_dic_list())"
    },
    "r": {
     "delete_cmd_postfix": ") ",
     "delete_cmd_prefix": "rm(",
     "library": "var_list.r",
     "varRefreshCmd": "cat(var_dic_list()) "
    }
   },
   "types_to_exclude": [
    "module",
    "function",
    "builtin_function_or_method",
    "instance",
    "_Feature"
   ],
   "window_display": false
  }
 },
 "nbformat": 4,
 "nbformat_minor": 2
}
