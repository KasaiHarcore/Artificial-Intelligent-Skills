{
 "cells": [
  {
   "cell_type": "markdown",
   "metadata": {},
   "source": [
    "<small><small><i>\n",
    "All the IPython Notebooks in this lecture series by Dr. Milan Parmar are available @ **[GitHub](https://github.com/milaan9/04_Python_Functions/tree/main/002_Python_Functions_Built_in)**\n",
    "</i></small></small>"
   ]
  },
  {
   "cell_type": "markdown",
   "metadata": {},
   "source": [
    "# Python `staticmethod()`\n",
    "\n",
    "The **`staticmethod()`** built-in function returns a static method for a given function.\n",
    "\n",
    "**Syntax**:\n",
    "\n",
    "```python\n",
    "staticmethod(function)\n",
    "```\n",
    "\n",
    "Using **`staticmethod()`** is considered a un-Pythonic way of creating a static function.\n",
    "\n",
    "Hence, in newer versions of Python, you can use the **`@staticmethod`** decorator.\n",
    "\n",
    "The syntax of **`@staticmethod`** is:\n",
    "\n",
    "**Syntax**:\n",
    "\n",
    "```python\n",
    "@staticmethod\n",
    "def func(args, ...)\n",
    "```"
   ]
  },
  {
   "cell_type": "markdown",
   "metadata": {},
   "source": [
    "## `staticmethod()` Parameters\n",
    "\n",
    "The **`staticmethod()`** method takes a single parameter:\n",
    "\n",
    "* **function** - function that needs to be converted to a static method"
   ]
  },
  {
   "cell_type": "markdown",
   "metadata": {},
   "source": [
    "## Return Value from `staticmethod()`\n",
    "\n",
    "The **`staticmethod()`** returns a static method for a function passed as the parameter."
   ]
  },
  {
   "cell_type": "markdown",
   "metadata": {},
   "source": [
    "## What is a static method?\n",
    "\n",
    "Static methods, much like **[class methods](https://github.com/milaan9/04_Python_Functions/blob/main/002_Python_Functions_Built_in/012_Python_classmethod%28%29.ipynb)**, are methods that are bound to a class rather than its object.\n",
    "\n",
    "They do not require a class instance creation. So, they are not dependent on the state of the object.\n",
    "\n",
    "The difference between a static method and a class method is:\n",
    "\n",
    "* Static method knows nothing about the class and just deals with the parameters.\n",
    "* Class method works with the class since its parameter is always the class itself.\n",
    "\n",
    "They can be called both by the class and its object.\n",
    "\n",
    "```python\n",
    "Class.staticmethodFunc()\n",
    "or even\n",
    "Class().staticmethodFunc()\n",
    "```"
   ]
  },
  {
   "cell_type": "code",
   "execution_count": 1,
   "metadata": {
    "ExecuteTime": {
     "end_time": "2021-06-14T09:56:00.968026Z",
     "start_time": "2021-06-14T09:56:00.953376Z"
    },
    "scrolled": true
   },
   "outputs": [
    {
     "name": "stdout",
     "output_type": "stream",
     "text": [
      "The sum is: 15\n"
     ]
    }
   ],
   "source": [
    "# Example 1: Create a static method using staticmethod()\n",
    "\n",
    "class Mathematics:\n",
    "\n",
    "    def addNumbers(x, y):\n",
    "        return x + y\n",
    "\n",
    "# create addNumbers static method\n",
    "Mathematics.addNumbers = staticmethod(Mathematics.addNumbers)\n",
    "\n",
    "print('The sum is:', Mathematics.addNumbers(5, 10))"
   ]
  },
  {
   "cell_type": "markdown",
   "metadata": {},
   "source": [
    "## When do you use static methods?\n",
    "\n",
    "### 1. Grouping utility function to a class\n",
    "\n",
    "Static methods have a limited use case because, like class methods or any other methods within a class, they cannot access the properties of the class itself.\n",
    "\n",
    "However, when you need a utility function that doesn't access any properties of a class but makes sense that it belongs to the class, we use static functions."
   ]
  },
  {
   "cell_type": "code",
   "execution_count": 2,
   "metadata": {
    "ExecuteTime": {
     "end_time": "2021-06-14T09:56:02.281985Z",
     "start_time": "2021-06-14T09:56:02.265381Z"
    }
   },
   "outputs": [
    {
     "name": "stdout",
     "output_type": "stream",
     "text": [
      "Equal\n"
     ]
    }
   ],
   "source": [
    "# Example 2: Create a utility function as a static method\n",
    "\n",
    "class Dates:\n",
    "    def __init__(self, date):\n",
    "        self.date = date\n",
    "        \n",
    "    def getDate(self):\n",
    "        return self.date\n",
    "\n",
    "    @staticmethod\n",
    "    def toDashDate(date):\n",
    "        return date.replace(\"/\", \"-\")\n",
    "\n",
    "date = Dates(\"15-12-2016\")\n",
    "dateFromDB = \"15/12/2016\"\n",
    "dateWithDash = Dates.toDashDate(dateFromDB)\n",
    "\n",
    "if(date.getDate() == dateWithDash):\n",
    "    print(\"Equal\")\n",
    "else:\n",
    "    print(\"Unequal\")"
   ]
  },
  {
   "cell_type": "markdown",
   "metadata": {},
   "source": [
    "Here, we have a **`Dates`** class that only works with dates with dashes. However, in our previous database, all dates were present in slashes.\n",
    "\n",
    "In order to convert the slash-dates to dash-dates, we have created a utility function **`toDashDate`** within **`Dates`**.\n",
    "\n",
    "It is a static method because it doesn't need to access any properties of Dates itself and only requires the parameters.\n",
    "\n",
    "We can also create **`toDashDate`** outside the class, but since it works only for dates, it's logical to keep it inside the **`Dates`** class."
   ]
  },
  {
   "cell_type": "markdown",
   "metadata": {},
   "source": [
    "### 2. Having a single implementation\n",
    "\n",
    "Static methods are used when we don't want subclasses of a class change/override a specific implementation of a method."
   ]
  },
  {
   "cell_type": "code",
   "execution_count": 3,
   "metadata": {
    "ExecuteTime": {
     "end_time": "2021-06-14T09:56:03.891352Z",
     "start_time": "2021-06-14T09:56:03.881586Z"
    }
   },
   "outputs": [
    {
     "name": "stdout",
     "output_type": "stream",
     "text": [
      "Equal\n"
     ]
    }
   ],
   "source": [
    "# Example 3: How inheritance works with static method?\n",
    "\n",
    "class Dates:\n",
    "    def __init__(self, date):\n",
    "        self.date = date\n",
    "        \n",
    "    def getDate(self):\n",
    "        return self.date\n",
    "\n",
    "    @staticmethod\n",
    "    def toDashDate(date):\n",
    "        return date.replace(\"/\", \"-\")\n",
    "\n",
    "class DatesWithSlashes(Dates):\n",
    "    def getDate(self):\n",
    "        return Dates.toDashDate(self.date)\n",
    "\n",
    "date = Dates(\"15-12-2016\")\n",
    "dateFromDB = DatesWithSlashes(\"15/12/2016\")\n",
    "\n",
    "if(date.getDate() == dateFromDB.getDate()):\n",
    "    print(\"Equal\")\n",
    "else:\n",
    "    print(\"Unequal\")"
   ]
  },
  {
   "cell_type": "markdown",
   "metadata": {},
   "source": [
    "**Explanation**:\n",
    "\n",
    "Here, we wouldn't want the subclass **`DatesWithSlashes`** to override the static utility method **`toDashDate`** because it only has a single use, i.e. change date to dash-dates.\n",
    "\n",
    "We could easily use the static method to our advantage by overriding **`getDate()`** method in the subclass so that it works well with the **`DatesWithSlashes`** class."
   ]
  },
  {
   "cell_type": "code",
   "execution_count": null,
   "metadata": {},
   "outputs": [],
   "source": []
  }
 ],
 "metadata": {
  "hide_input": false,
  "kernelspec": {
   "display_name": "Python 3",
   "language": "python",
   "name": "python3"
  },
  "language_info": {
   "codemirror_mode": {
    "name": "ipython",
    "version": 3
   },
   "file_extension": ".py",
   "mimetype": "text/x-python",
   "name": "python",
   "nbconvert_exporter": "python",
   "pygments_lexer": "ipython3",
   "version": "3.8.8"
  },
  "toc": {
   "base_numbering": 1,
   "nav_menu": {},
   "number_sections": true,
   "sideBar": true,
   "skip_h1_title": false,
   "title_cell": "Table of Contents",
   "title_sidebar": "Contents",
   "toc_cell": false,
   "toc_position": {},
   "toc_section_display": true,
   "toc_window_display": false
  },
  "varInspector": {
   "cols": {
    "lenName": 16,
    "lenType": 16,
    "lenVar": 40
   },
   "kernels_config": {
    "python": {
     "delete_cmd_postfix": "",
     "delete_cmd_prefix": "del ",
     "library": "var_list.py",
     "varRefreshCmd": "print(var_dic_list())"
    },
    "r": {
     "delete_cmd_postfix": ") ",
     "delete_cmd_prefix": "rm(",
     "library": "var_list.r",
     "varRefreshCmd": "cat(var_dic_list()) "
    }
   },
   "types_to_exclude": [
    "module",
    "function",
    "builtin_function_or_method",
    "instance",
    "_Feature"
   ],
   "window_display": false
  }
 },
 "nbformat": 4,
 "nbformat_minor": 2
}
