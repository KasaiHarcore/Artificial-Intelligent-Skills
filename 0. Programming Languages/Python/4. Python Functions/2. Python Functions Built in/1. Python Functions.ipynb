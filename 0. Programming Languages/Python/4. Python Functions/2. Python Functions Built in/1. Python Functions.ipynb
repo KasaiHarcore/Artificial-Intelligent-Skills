{
 "cells": [
  {
   "cell_type": "markdown",
   "metadata": {},
   "source": [
    "<small><small><i>\n",
    "All the IPython Notebooks in this lecture series by Dr. Milan Parmar are available @ **[GitHub](https://github.com/milaan9/04_Python_Functions)**\n",
    "</i></small></small>"
   ]
  },
  {
   "cell_type": "markdown",
   "metadata": {},
   "source": [
    "# Python Functions\n",
    "\n",
    "In this class, you'll learn about functions, what a function is, the syntax, components, and types of functions. Also, you'll learn to create a function in Python."
   ]
  },
  {
   "cell_type": "markdown",
   "metadata": {},
   "source": [
    "# What is a function in Python?\n",
    "\n",
    "In Python, a **function is a block of organized, reusable (DRY- Don’t Repeat Yourself) code with a name** that is used to perform a single, specific task. It can take arguments and returns the value.\n",
    "\n",
    "Functions help break our program into smaller and modular chunks. As our program grows larger and larger, functions make it more organized and manageable.\n",
    "\n",
    "Furthermore, it improves efficiency and reduces errors because of the reusability of a code."
   ]
  },
  {
   "cell_type": "markdown",
   "metadata": {},
   "source": [
    "## Types of Functions\n",
    "\n",
    "Python support two types of functions\n",
    "\n",
    "1. **Built-in** function\n",
    "2. **User-defined** function\n",
    "\n",
    "1.**Built-in function**\n",
    "\n",
    "The functions which are come along with Python itself are called a built-in function or predefined function. Some of them are:\n",
    "**`range()`**, **`print()`**, **`input()`**, **`type()`**, **`id()`**, **`eval()`** etc.\n",
    "\n",
    "**Example:** Python **`range()`** function generates the immutable sequence of numbers starting from the given start integer to the stop integer.\n",
    "\n",
    "```python\n",
    ">>>for i in range(1, 10):\n",
    ">>>    print(i, end=' ')\n",
    "\n",
    "1 2 3 4 5 6 7 8 9\n",
    "```\n",
    "\n",
    "2. **User-defined function**\n",
    "\n",
    "Functions which are created by programmer explicitly according to the requirement are called a user-defined function."
   ]
  },
  {
   "cell_type": "markdown",
   "metadata": {},
   "source": [
    "**Syntax:**\n",
    "\n",
    "```python\n",
    "def function_name(parameter1, parameter2):\n",
    "    \"\"\"docstring\"\"\"\n",
    "    # function body    \n",
    "    # write some action\n",
    "return value\n",
    "```\n",
    "\n",
    "<div>\n",
    "<img src=\"img/f1.png\" width=\"550\"/>\n",
    "</div>"
   ]
  },
  {
   "cell_type": "markdown",
   "metadata": {},
   "source": [
    "## Defining a Function\n",
    "\n",
    "1. **`def`** is a keyword that marks the start of the function header.\n",
    "\n",
    "2. **`function_name`** to uniquely identify the function. Function naming follows the same **[rules of writing identifiers in Python](http://localhost:8888/notebooks/01_Learn_Python4Data/01_Python_Introduction/005_Python_Keywords_and_Identifiers.ipynb)**.\n",
    "\n",
    "2. **`parameter`** is the value passed to the function. They are optional.\n",
    "\n",
    "3. **`:`** (colon) to mark the end of the function header.\n",
    "\n",
    "4. **`function body`** is a block of code that performs some task and all the statements in **`function body`** must have the same **indentation** level (usually 4 spaces). \n",
    "\n",
    "5. **\"\"\"docstring\"\"\"** documentation string is used to describe what the function does.\n",
    "\n",
    "6. **`return`** is a keyword to return a value from the function.. A return statement with no arguments is the same as return **`None`**.\n",
    "\n",
    ">**Note:** While defining a function, we use two keywords, **`def`** (mandatory) and **`return`** (optional).\n",
    "\n",
    "**Example:**\n",
    "\n",
    "```python\n",
    ">>>def add(num1,num2):           # Function name: 'add', Parameters: 'num1', 'num2'\n",
    ">>>    print(\"Number 1: \", num1) #  Function body\n",
    ">>>    print(\"Number 2: \", num2) #  Function body\n",
    ">>>    addition = num1 + num2    #  Function body\n",
    ">>>    return addition           # return value\n",
    "\n",
    "\n",
    ">>>res = add(2, 4)   # Function call\n",
    ">>>print(\"Result: \", res)\n",
    "```"
   ]
  },
  {
   "cell_type": "markdown",
   "metadata": {},
   "source": [
    "## Defining a function without any parameters"
   ]
  },
  {
   "cell_type": "code",
   "execution_count": 1,
   "metadata": {
    "ExecuteTime": {
     "end_time": "2021-06-13T16:00:05.220839Z",
     "start_time": "2021-06-13T16:00:05.201310Z"
    },
    "scrolled": true
   },
   "outputs": [
    {
     "name": "stdout",
     "output_type": "stream",
     "text": [
      "Welcome to Data Science\n"
     ]
    }
   ],
   "source": [
    "# Example 1: \n",
    "    \n",
    "def greet():\n",
    "    print(\"Welcome to Data Science\")\n",
    "\n",
    "# call function using its name\n",
    "greet()"
   ]
  },
  {
   "cell_type": "markdown",
   "metadata": {},
   "source": [
    "## Defining a function with parameters"
   ]
  },
  {
   "cell_type": "code",
   "execution_count": 2,
   "metadata": {
    "ExecuteTime": {
     "end_time": "2021-06-13T16:00:05.682263Z",
     "start_time": "2021-06-13T16:00:05.659804Z"
    },
    "scrolled": false
   },
   "outputs": [
    {
     "name": "stdout",
     "output_type": "stream",
     "text": [
      "Hello Arthur Welcome to Data Science\n",
      "Your course name is Python\n"
     ]
    }
   ],
   "source": [
    "# Example 1: \n",
    "\n",
    "def course(name, course_name):\n",
    "    print(\"Hello\", name, \"Welcome to Data Science\")\n",
    "    print(\"Your course name is\", course_name)\n",
    "\n",
    "course('Arthur', 'Python')   # call function"
   ]
  },
  {
   "cell_type": "code",
   "execution_count": 3,
   "metadata": {
    "ExecuteTime": {
     "end_time": "2021-06-13T16:00:05.898573Z",
     "start_time": "2021-06-13T16:00:05.878064Z"
    }
   },
   "outputs": [],
   "source": [
    "# Example 2: Gereeting\n",
    "\n",
    "def greet(name):\n",
    "    \"\"\"\n",
    "    This function greets to the person passed in as a parameter\n",
    "    \"\"\"\n",
    "    print(\"Hello, \" + name + \". Good morning!\")   # No output!"
   ]
  },
  {
   "cell_type": "markdown",
   "metadata": {},
   "source": [
    "## Defining a function with parameters and `return` value"
   ]
  },
  {
   "cell_type": "code",
   "execution_count": 4,
   "metadata": {
    "ExecuteTime": {
     "end_time": "2021-06-13T16:00:06.545535Z",
     "start_time": "2021-06-13T16:00:06.531378Z"
    }
   },
   "outputs": [
    {
     "name": "stdout",
     "output_type": "stream",
     "text": [
      "Addition : 36\n"
     ]
    }
   ],
   "source": [
    "# Example 1: \n",
    "\n",
    "def calculator(a, b):\n",
    "    add = a + b   \n",
    "    return add    # return the addition\n",
    "\n",
    "result = calculator(30, 6)   # call function & take return value in variable\n",
    "print(\"Addition :\", result)   # Output Addition : 36"
   ]
  },
  {
   "cell_type": "markdown",
   "metadata": {},
   "source": [
    "## How to call a function in python?\n",
    "\n",
    "Once we have defined a function, we can call it from another function, program or even the Python prompt. To call a function we simply type the function name with appropriate parameters.\n",
    "\n",
    "<div>\n",
    "<img src=\"img/f2.png\" width=\"500\"/>\n",
    "</div>"
   ]
  },
  {
   "cell_type": "code",
   "execution_count": 5,
   "metadata": {
    "ExecuteTime": {
     "end_time": "2021-06-13T16:00:08.206658Z",
     "start_time": "2021-06-13T16:00:08.192987Z"
    }
   },
   "outputs": [
    {
     "name": "stdout",
     "output_type": "stream",
     "text": [
      "Hello, Alan. Good morning!\n"
     ]
    }
   ],
   "source": [
    "greet('Alan')"
   ]
  },
  {
   "cell_type": "markdown",
   "metadata": {},
   "source": [
    ">**Note:** Try running the above code in the Python program with the function definition to see the output."
   ]
  },
  {
   "cell_type": "code",
   "execution_count": 6,
   "metadata": {
    "ExecuteTime": {
     "end_time": "2021-06-13T16:00:09.270122Z",
     "start_time": "2021-06-13T16:00:09.248641Z"
    }
   },
   "outputs": [
    {
     "name": "stdout",
     "output_type": "stream",
     "text": [
      "Happy birthday, Bill. Hope you have a wonderful day!\n"
     ]
    }
   ],
   "source": [
    "# Example 1: \n",
    "\n",
    "def wish(name):\n",
    "    \"\"\"\n",
    "    This function wishes to the person passed in as a parameter\n",
    "    \"\"\"\n",
    "    print(\"Happy birthday, \" + name + \". Hope you have a wonderful day!\")\n",
    "\n",
    "wish('Bill')"
   ]
  },
  {
   "cell_type": "code",
   "execution_count": 7,
   "metadata": {
    "ExecuteTime": {
     "end_time": "2021-06-13T16:00:09.499124Z",
     "start_time": "2021-06-13T16:00:09.479595Z"
    }
   },
   "outputs": [
    {
     "name": "stdout",
     "output_type": "stream",
     "text": [
      "value of x is: 9\n",
      "value of y is: 6\n"
     ]
    }
   ],
   "source": [
    "# Example 2: \n",
    "\n",
    "def swap(x, y):\n",
    "    \"\"\"\n",
    "    This function swaps the value of two variables\n",
    "    \"\"\"\n",
    "    temp = x;  # value of x will go inside temp\n",
    "    x = y;     # value of y will go inside x\n",
    "    y = temp;  # value of temp will go inside y\n",
    "    print(\"value of x is:\", x)\n",
    "    print(\"value of y is:\", y)\n",
    "    return     # \"return\" is optional\n",
    "\n",
    "x = 6\n",
    "y = 9\n",
    "swap(x, y)     #call function"
   ]
  },
  {
   "cell_type": "code",
   "execution_count": 8,
   "metadata": {
    "ExecuteTime": {
     "end_time": "2021-06-13T16:00:09.683206Z",
     "start_time": "2021-06-13T16:00:09.662702Z"
    }
   },
   "outputs": [
    {
     "name": "stdout",
     "output_type": "stream",
     "text": [
      "9 is a Odd Number\n"
     ]
    }
   ],
   "source": [
    "# Example 3: \n",
    "\n",
    "def even_odd(n):    \n",
    "    if n % 2 == 0:   # check number is even or odd\n",
    "        print(n, 'is a Even number')\n",
    "    else:\n",
    "        print(n, 'is a Odd Number')\n",
    "\n",
    "even_odd(9)   # calling function by its name"
   ]
  },
  {
   "cell_type": "markdown",
   "metadata": {},
   "source": [
    "\n",
    "## Docstrings\n",
    "\n",
    "The first string after the function header is called the **docstring** and is short for documentation string. It is a descriptive text (like a comment) written by a programmer to let others know what block of code does.\n",
    "\n",
    "Although **optional**, documentation is a good programming practice. Unless you can remember what you had for dinner last week, always document your code.\n",
    "\n",
    "It is being declared using triple single quotes **`''' '''`** or triple-double quote **`\"\"\" \"\"\"`** so that docstring can extend up to multiple lines.\n",
    "\n",
    "We can access docstring using doc attribute **`__doc__`** for any object like list, tuple, dict, and user-defined function, etc.\n",
    "\n",
    "In the above example, we have a docstring immediately below the function header."
   ]
  },
  {
   "cell_type": "code",
   "execution_count": 9,
   "metadata": {
    "ExecuteTime": {
     "end_time": "2021-06-13T16:00:10.052344Z",
     "start_time": "2021-06-13T16:00:10.042580Z"
    },
    "scrolled": true
   },
   "outputs": [
    {
     "name": "stdout",
     "output_type": "stream",
     "text": [
      "\n",
      "    This function greets to the person passed in as a parameter\n",
      "    \n"
     ]
    }
   ],
   "source": [
    "print(greet.__doc__)"
   ]
  },
  {
   "cell_type": "markdown",
   "metadata": {},
   "source": [
    "To learn more about docstrings in Python, visit **[Python Docstrings](XXX)**."
   ]
  },
  {
   "cell_type": "markdown",
   "metadata": {},
   "source": [
    "## Function `return` Statement\n",
    "\n",
    "In Python, to return value from the function, a **`return`** statement is used. It returns the value of the expression following the returns keyword.\n",
    "\n",
    "**Syntax:**\n",
    "\n",
    "```python\n",
    "def fun():\n",
    "    statement-1\n",
    "    statement-2\n",
    "    statement-3\n",
    "    .          \n",
    "    .          \n",
    "    return [expression]\n",
    "```\n",
    "\n",
    "The **`return`** value is nothing but a outcome of function.\n",
    "\n",
    "* The **`return`** statement ends the function execution.\n",
    "* For a function, it is not mandatory to return a value.\n",
    "* If a **`return`** statement is used without any expression, then the **`None`** is returned.\n",
    "* The **`return`** statement should be inside of the function block."
   ]
  },
  {
   "cell_type": "markdown",
   "metadata": {},
   "source": [
    "### Return Single Value"
   ]
  },
  {
   "cell_type": "code",
   "execution_count": 10,
   "metadata": {
    "ExecuteTime": {
     "end_time": "2021-06-13T16:00:10.975677Z",
     "start_time": "2021-06-13T16:00:10.969818Z"
    }
   },
   "outputs": [
    {
     "name": "stdout",
     "output_type": "stream",
     "text": [
      "Hello, Cory. Good morning!\n",
      "None\n"
     ]
    }
   ],
   "source": [
    "print(greet(\"Cory\"))"
   ]
  },
  {
   "cell_type": "markdown",
   "metadata": {},
   "source": [
    "Here, **`None`** is the returned value since **`greet()`** directly prints the name and no **`return`** statement is used."
   ]
  },
  {
   "cell_type": "code",
   "execution_count": 11,
   "metadata": {
    "ExecuteTime": {
     "end_time": "2021-06-13T16:00:11.393151Z",
     "start_time": "2021-06-13T16:00:11.374603Z"
    }
   },
   "outputs": [
    {
     "name": "stdout",
     "output_type": "stream",
     "text": [
      "2\n",
      "4\n"
     ]
    }
   ],
   "source": [
    "# Example 1:\n",
    "\n",
    "def absolute_value(num):\n",
    "    \"\"\"This function returns the absolute\n",
    "    value of the entered number\"\"\"\n",
    "\n",
    "    if num >= 0:\n",
    "        return num\n",
    "    else:\n",
    "        return -num\n",
    "\n",
    "\n",
    "print(absolute_value(2))\n",
    "\n",
    "print(absolute_value(-4))"
   ]
  },
  {
   "cell_type": "code",
   "execution_count": 12,
   "metadata": {
    "ExecuteTime": {
     "end_time": "2021-06-13T16:00:12.436114Z",
     "start_time": "2021-06-13T16:00:12.426349Z"
    },
    "scrolled": true
   },
   "outputs": [
    {
     "name": "stdout",
     "output_type": "stream",
     "text": [
      "Adding the two values\n",
      "Printing within Function\n",
      "30\n",
      "total :  30\n",
      "Hello\n",
      "Rest of code\n"
     ]
    }
   ],
   "source": [
    "# Example 2:\n",
    "\n",
    "def sum(a,b):  # Function 1\n",
    "    print(\"Adding the two values\")\n",
    "    print(\"Printing within Function\")\n",
    "    print(a+b)\n",
    "    return a+b\n",
    "\n",
    "def msg():  # Function 2\n",
    "    print(\"Hello\")\n",
    "    return\n",
    "\n",
    "total=sum(10,20)\n",
    "print('total : ',total)\n",
    "msg()\n",
    "print(\"Rest of code\")"
   ]
  },
  {
   "cell_type": "code",
   "execution_count": 13,
   "metadata": {
    "ExecuteTime": {
     "end_time": "2021-06-13T16:00:13.204660Z",
     "start_time": "2021-06-13T16:00:13.184155Z"
    }
   },
   "outputs": [
    {
     "name": "stdout",
     "output_type": "stream",
     "text": [
      "Even numbers are: [2, 46, 72, 90]\n"
     ]
    }
   ],
   "source": [
    "# Example 3:\n",
    "\n",
    "def is_even(list1):\n",
    "    even_num = []\n",
    "    for n in list1:\n",
    "        if n % 2 == 0:\n",
    "            even_num.append(n)\n",
    "    # return a list\n",
    "    return even_num\n",
    "\n",
    "# Pass list to the function\n",
    "even_num = is_even([2, 3, 46, 63, 72, 83, 90, 19])\n",
    "print(\"Even numbers are:\", even_num)"
   ]
  },
  {
   "cell_type": "markdown",
   "metadata": {},
   "source": [
    "### Return Multiple Values\n",
    "\n",
    "You can also return multiple values from a function. Use the return statement by separating each expression by a comma."
   ]
  },
  {
   "cell_type": "code",
   "execution_count": 14,
   "metadata": {
    "ExecuteTime": {
     "end_time": "2021-06-13T16:00:14.680235Z",
     "start_time": "2021-06-13T16:00:14.656801Z"
    }
   },
   "outputs": [
    {
     "name": "stdout",
     "output_type": "stream",
     "text": [
      "Addition:  12\n",
      "Subtraction:  8\n",
      "Multiplication:  20\n",
      "Division:  5.0\n"
     ]
    }
   ],
   "source": [
    "# Example 1:\n",
    "\n",
    "def arithmetic(num1, num2):\n",
    "    add = num1 + num2\n",
    "    sub = num1 - num2\n",
    "    multiply = num1 * num2\n",
    "    division = num1 / num2\n",
    "    # return four values\n",
    "    return add, sub, multiply, division\n",
    "\n",
    "a, b, c, d = arithmetic(10, 2)  # read four return values in four variables\n",
    "\n",
    "print(\"Addition: \", a)\n",
    "print(\"Subtraction: \", b)\n",
    "print(\"Multiplication: \", c)\n",
    "print(\"Division: \", d)"
   ]
  },
  {
   "cell_type": "markdown",
   "metadata": {},
   "source": [
    "## Function `pass` Statement\n",
    "\n",
    "In Python, the **`pass`** is the keyword, which won’t do anything. Sometimes there is a situation where we need to define a syntactically empty block. We can define that block using the **`pass`** keyword.\n",
    "\n",
    "When the interpreter finds a **`pass`** statement in the program, it returns no operation."
   ]
  },
  {
   "cell_type": "code",
   "execution_count": 15,
   "metadata": {
    "ExecuteTime": {
     "end_time": "2021-06-13T16:00:16.710491Z",
     "start_time": "2021-06-13T16:00:16.704636Z"
    }
   },
   "outputs": [],
   "source": [
    "# Example 1:\n",
    "\n",
    "def addition(num1, num2):\n",
    "    # Implementation of addition function in comming release\n",
    "    # Pass statement \n",
    "    pass\n",
    "\n",
    "addition(10, 2)"
   ]
  },
  {
   "cell_type": "code",
   "execution_count": null,
   "metadata": {},
   "outputs": [],
   "source": []
  }
 ],
 "metadata": {
  "gist": {
   "data": {
    "description": "01_Learn_Python4Data/04_Python_Functions/001_Python_Functions.ipynb",
    "public": true
   },
   "id": ""
  },
  "hide_input": false,
  "kernelspec": {
   "display_name": "Python 3",
   "language": "python",
   "name": "python3"
  },
  "language_info": {
   "codemirror_mode": {
    "name": "ipython",
    "version": 3
   },
   "file_extension": ".py",
   "mimetype": "text/x-python",
   "name": "python",
   "nbconvert_exporter": "python",
   "pygments_lexer": "ipython3",
   "version": "3.8.8"
  },
  "toc": {
   "base_numbering": 1,
   "nav_menu": {},
   "number_sections": true,
   "sideBar": true,
   "skip_h1_title": false,
   "title_cell": "Table of Contents",
   "title_sidebar": "Contents",
   "toc_cell": false,
   "toc_position": {},
   "toc_section_display": true,
   "toc_window_display": false
  },
  "varInspector": {
   "cols": {
    "lenName": 16,
    "lenType": 16,
    "lenVar": 40
   },
   "kernels_config": {
    "python": {
     "delete_cmd_postfix": "",
     "delete_cmd_prefix": "del ",
     "library": "var_list.py",
     "varRefreshCmd": "print(var_dic_list())"
    },
    "r": {
     "delete_cmd_postfix": ") ",
     "delete_cmd_prefix": "rm(",
     "library": "var_list.r",
     "varRefreshCmd": "cat(var_dic_list()) "
    }
   },
   "types_to_exclude": [
    "module",
    "function",
    "builtin_function_or_method",
    "instance",
    "_Feature"
   ],
   "window_display": false
  }
 },
 "nbformat": 4,
 "nbformat_minor": 2
}
