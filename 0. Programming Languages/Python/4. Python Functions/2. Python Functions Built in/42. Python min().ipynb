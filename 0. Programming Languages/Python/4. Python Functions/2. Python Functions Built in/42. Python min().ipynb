{
 "cells": [
  {
   "cell_type": "markdown",
   "metadata": {},
   "source": [
    "<small><small><i>\n",
    "All the IPython Notebooks in this lecture series by Dr. Milan Parmar are available @ **[GitHub](https://github.com/milaan9/04_Python_Functions/tree/main/002_Python_Functions_Built_in)**\n",
    "</i></small></small>"
   ]
  },
  {
   "cell_type": "markdown",
   "metadata": {},
   "source": [
    "# Python `min()`\n",
    "\n",
    "The Python **`min()`** function returns the smallest item in an iterable. It can also be used to find the smallest item between two or more parameters.\n",
    "\n",
    "**The `min()` function has two forms:**\n",
    "\n",
    "```python\n",
    "// to find the smallest item in an iterable\n",
    "min(iterable, *iterables, key, default)\n",
    "\n",
    "// to find the smallest item between two or more objects\n",
    "min(arg1, arg2, *args, key)\n",
    "```"
   ]
  },
  {
   "cell_type": "markdown",
   "metadata": {},
   "source": [
    "## 1. `min()` with iterable arguments\n",
    "\n",
    "To find the largest item in an iterable, we use this syntax:\n",
    "\n",
    "```python\n",
    "min(iterable, *iterables, key, default)\n",
    "```"
   ]
  },
  {
   "cell_type": "markdown",
   "metadata": {},
   "source": [
    "## `min()` Parameters\n",
    "\n",
    "* **iterable** - an iterable such as list, tuple, set, dictionary, etc.\n",
    "* **\\*iterables** (optional) - any number of iterables; can be more than one\n",
    "* **key (optional)** - key function where the iterables are passed and comparison is performed based on its return value\n",
    "* **default (optional)** - default value if the given iterable is empty"
   ]
  },
  {
   "cell_type": "code",
   "execution_count": 1,
   "metadata": {
    "ExecuteTime": {
     "end_time": "2021-06-14T11:21:15.722475Z",
     "start_time": "2021-06-14T11:21:15.690249Z"
    },
    "scrolled": true
   },
   "outputs": [
    {
     "name": "stdout",
     "output_type": "stream",
     "text": [
      "The smallest number is: 2\n"
     ]
    }
   ],
   "source": [
    "# Example 1: Get the smallest item in a list\n",
    "\n",
    "number = [3, 2, 8, 5, 10, 6]\n",
    "largest_number = min(number);\n",
    "\n",
    "print(\"The smallest number is:\", largest_number)"
   ]
  },
  {
   "cell_type": "markdown",
   "metadata": {},
   "source": [
    "If the items in an iterable are strings, the smallest  item (ordered alphabetically) is returned."
   ]
  },
  {
   "cell_type": "code",
   "execution_count": 2,
   "metadata": {
    "ExecuteTime": {
     "end_time": "2021-06-14T11:21:19.800090Z",
     "start_time": "2021-06-14T11:21:19.793256Z"
    },
    "scrolled": true
   },
   "outputs": [
    {
     "name": "stdout",
     "output_type": "stream",
     "text": [
      "The smallest string is: C Programming\n"
     ]
    }
   ],
   "source": [
    "# Example 2: the smallest string in a list\n",
    "\n",
    "languages = [\"Python\", \"C Programming\", \"Java\", \"JavaScript\"]\n",
    "largest_string = min(languages);\n",
    "\n",
    "print(\"The smallest string is:\", largest_string)"
   ]
  },
  {
   "cell_type": "markdown",
   "metadata": {},
   "source": [
    "In the case of dictionaries, **`min()`** returns the largest key. Let's use the **`key`** parameter so that we can find the dictionary's key having the largest value."
   ]
  },
  {
   "cell_type": "code",
   "execution_count": 3,
   "metadata": {
    "ExecuteTime": {
     "end_time": "2021-06-14T11:21:20.984651Z",
     "start_time": "2021-06-14T11:21:20.961218Z"
    }
   },
   "outputs": [
    {
     "name": "stdout",
     "output_type": "stream",
     "text": [
      "The largest key: -3\n",
      "The key with the smallest value: -1\n",
      "The largest value: 1\n"
     ]
    }
   ],
   "source": [
    "# Example 3: min() in dictionaries\n",
    "\n",
    "square = {2: 4, -3: 9, -1: 1, -2: 4}\n",
    "\n",
    "# the largest key\n",
    "key1 = min(square)\n",
    "print(\"The largest key:\", key1)    # 2\n",
    "\n",
    "# the key whose value is the largest\n",
    "key2 = min(square, key = lambda k: square[k])\n",
    "\n",
    "print(\"The key with the smallest value:\", key2)    # -3\n",
    "\n",
    "# getting the largest value\n",
    "print(\"The largest value:\", square[key2])    # 9"
   ]
  },
  {
   "cell_type": "markdown",
   "metadata": {},
   "source": [
    "In the second **`min()`** function, we have passed a **[lambda function](https://github.com/milaan9/04_Python_Functions/blob/main/006_Python_Function_Anonymous.ipynb)** to the **`key`** parameter.\n",
    "\n",
    "```python\n",
    "key = lambda k: square[k]\n",
    "```\n",
    "\n",
    "The function returns the values of dictionaries. Based on the values (rather than the dictionary's keys), the key having the maximum value is returned."
   ]
  },
  {
   "cell_type": "markdown",
   "metadata": {},
   "source": [
    ">Few Notes:\n",
    "* If we pass an empty iterator, a **`ValueError`** exception is raised. To avoid this, we can pass the **`default`** parameter.\n",
    "* If we pass more than one iterators, the smallest item from the given iterators is returned."
   ]
  },
  {
   "cell_type": "markdown",
   "metadata": {},
   "source": [
    "## 2. `min()` without iterable\n",
    "\n",
    "To find the smallest object between two or more parameters, we can use this syntax:\n",
    "\n",
    "```python\n",
    "min(arg1, arg2, *args, key)\n",
    "```"
   ]
  },
  {
   "cell_type": "markdown",
   "metadata": {},
   "source": [
    "## `min()` Parameters\n",
    "\n",
    "* **arg1** - an object; can be numbers, strings, etc.\n",
    "* **arg2** - an object; can be numbers, strings, etc.\n",
    "* **\\*args (optional)** - any number of objects\n",
    "* **key (optional)** - key function where each argument is passed, and comparison is performed based on its return value\n",
    "\n",
    "Basically, the **`min()`** function finds the smallest item between two or more objects."
   ]
  },
  {
   "cell_type": "code",
   "execution_count": 4,
   "metadata": {
    "ExecuteTime": {
     "end_time": "2021-06-14T11:21:25.244395Z",
     "start_time": "2021-06-14T11:21:25.224868Z"
    }
   },
   "outputs": [
    {
     "name": "stdout",
     "output_type": "stream",
     "text": [
      "The minimum number is: -5\n"
     ]
    }
   ],
   "source": [
    "# Example 4: Find the minimum among the given numbers\n",
    "\n",
    "result = min(4, -5, 23, 5)\n",
    "print(\"The minimum number is:\", result)"
   ]
  },
  {
   "cell_type": "markdown",
   "metadata": {},
   "source": [
    "If you need to find the smallest item, you can use the **[Python max()](https://github.com/milaan9/04_Python_Functions/blob/main/002_Python_Functions_Built_in/041_Python_max%28%29.ipynb)** function."
   ]
  },
  {
   "cell_type": "code",
   "execution_count": null,
   "metadata": {},
   "outputs": [],
   "source": []
  }
 ],
 "metadata": {
  "hide_input": false,
  "kernelspec": {
   "display_name": "Python 3",
   "language": "python",
   "name": "python3"
  },
  "language_info": {
   "codemirror_mode": {
    "name": "ipython",
    "version": 3
   },
   "file_extension": ".py",
   "mimetype": "text/x-python",
   "name": "python",
   "nbconvert_exporter": "python",
   "pygments_lexer": "ipython3",
   "version": "3.8.8"
  },
  "toc": {
   "base_numbering": 1,
   "nav_menu": {},
   "number_sections": true,
   "sideBar": true,
   "skip_h1_title": false,
   "title_cell": "Table of Contents",
   "title_sidebar": "Contents",
   "toc_cell": false,
   "toc_position": {},
   "toc_section_display": true,
   "toc_window_display": false
  },
  "varInspector": {
   "cols": {
    "lenName": 16,
    "lenType": 16,
    "lenVar": 40
   },
   "kernels_config": {
    "python": {
     "delete_cmd_postfix": "",
     "delete_cmd_prefix": "del ",
     "library": "var_list.py",
     "varRefreshCmd": "print(var_dic_list())"
    },
    "r": {
     "delete_cmd_postfix": ") ",
     "delete_cmd_prefix": "rm(",
     "library": "var_list.r",
     "varRefreshCmd": "cat(var_dic_list()) "
    }
   },
   "types_to_exclude": [
    "module",
    "function",
    "builtin_function_or_method",
    "instance",
    "_Feature"
   ],
   "window_display": false
  }
 },
 "nbformat": 4,
 "nbformat_minor": 2
}
