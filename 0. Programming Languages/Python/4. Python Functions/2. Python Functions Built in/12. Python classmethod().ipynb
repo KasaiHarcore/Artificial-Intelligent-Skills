{
 "cells": [
  {
   "cell_type": "markdown",
   "metadata": {},
   "source": [
    "<small><small><i>\n",
    "All the IPython Notebooks in this lecture series by Dr. Milan Parmar are available @ **[GitHub](https://github.com/milaan9/04_Python_Functions/tree/main/002_Python_Functions_Built_in)**\n",
    "</i></small></small>"
   ]
  },
  {
   "cell_type": "markdown",
   "metadata": {},
   "source": [
    "# Python `classmethod()`\n",
    "\n",
    "The **`classmethod()`** method returns a class method for the given function.\n",
    "\n",
    "**Syntax**:\n",
    "\n",
    "```python\n",
    "classmethod(function)\n",
    "```\n",
    "\n",
    "**`classmethod()`** is considered un-Pythonic so in newer Python versions, you can use the **`@classmethod`** decorator for classmethod definition.\n",
    "\n",
    "**Syntax**:\n",
    "\n",
    "```python\n",
    "@classmethod\n",
    "def func(cls, args...)\n",
    "```"
   ]
  },
  {
   "cell_type": "markdown",
   "metadata": {},
   "source": [
    "## `classmethod()` Parameters\n",
    "\n",
    "**`classmethod()`** method takes a single parameter:\n",
    "\n",
    "* **function** - Function that needs to be converted into a class method"
   ]
  },
  {
   "cell_type": "markdown",
   "metadata": {},
   "source": [
    "## Return Value from `classmethod()`\n",
    "\n",
    "**`classmethod()`** method returns a class method for the given function."
   ]
  },
  {
   "cell_type": "markdown",
   "metadata": {},
   "source": [
    "## What is a class method?\n",
    "\n",
    "A class method is a method that is bound to a class rather than its object. It doesn't require creation of a class instance, much like **[staticmethod()](https://github.com/milaan9/04_Python_Functions/blob/main/002_Python_Functions_Built_in/019_Python_staticmethod%28%29.ipynb)**.\n",
    "\n",
    "The difference between a static method and a class method is:\n",
    "\n",
    "* Static method knows nothing about the class and just deals with the parameters\n",
    "* Class method works with the class since its parameter is always the class itself.\n",
    "The class method can be called both by the class and its object.\n",
    "\n",
    "```python\n",
    "Class.classmethod()\n",
    "Or even\n",
    "Class().classmethod()\n",
    "```\n",
    "\n",
    "But no matter what, the class method is always attached to a class with the first argument as the class itself **`cls`**.\n",
    "\n",
    "```python\n",
    "def classMethod(cls, args...)\n",
    "```"
   ]
  },
  {
   "cell_type": "code",
   "execution_count": 1,
   "metadata": {
    "ExecuteTime": {
     "end_time": "2021-06-14T09:53:38.527797Z",
     "start_time": "2021-06-14T09:53:38.509245Z"
    }
   },
   "outputs": [
    {
     "name": "stdout",
     "output_type": "stream",
     "text": [
      "The age is: 25\n"
     ]
    }
   ],
   "source": [
    "# Example 1: Create class method using classmethod()\n",
    "\n",
    "class Person:\n",
    "    age = 25\n",
    "\n",
    "    def printAge(cls):\n",
    "        print('The age is:', cls.age)\n",
    "\n",
    "# create printAge class method\n",
    "Person.printAge = classmethod(Person.printAge)\n",
    "\n",
    "Person.printAge()"
   ]
  },
  {
   "cell_type": "markdown",
   "metadata": {},
   "source": [
    "**Explanation**:\n",
    "\n",
    "Here, we have a class **`Person`**, with a member variable **`age`** assigned to 25.\n",
    "\n",
    "We also have a function **`printAge`** that takes a single parameter **`cls`** and not **`self`** we usually take.\n",
    "\n",
    "**`cls`** accepts the class **`Person`** as a parameter rather than Person's object/instance.\n",
    "\n",
    "Now, we pass the method **`Person.printAge`** as an argument to the function **`classmethod`**. This converts the method to a class method so that it accepts the first parameter as a class (i.e. Person).\n",
    "\n",
    "In the final line, we call **`printAge`** without creating a Person object like we do for static methods. This prints the class variable **`age`**."
   ]
  },
  {
   "cell_type": "markdown",
   "metadata": {},
   "source": [
    "## When do you use class method?\n",
    "\n",
    "### 1. **Factory methods**\n",
    "\n",
    "Factory methods are those methods that return a class object (like constructor) for different use cases.\n",
    "\n",
    "It is similar to function overloading in C++. Since, Python doesn't have anything as such, class methods and static methods are used."
   ]
  },
  {
   "cell_type": "code",
   "execution_count": 2,
   "metadata": {
    "ExecuteTime": {
     "end_time": "2021-06-14T09:53:41.915475Z",
     "start_time": "2021-06-14T09:53:41.892042Z"
    }
   },
   "outputs": [
    {
     "name": "stdout",
     "output_type": "stream",
     "text": [
      "Adam's age is: 19\n",
      "John's age is: 36\n"
     ]
    }
   ],
   "source": [
    "# Example 2: Create factory method using class method\n",
    "\n",
    "from datetime import date\n",
    "\n",
    "# random Person\n",
    "class Person:\n",
    "    def __init__(self, name, age):\n",
    "        self.name = name\n",
    "        self.age = age\n",
    "\n",
    "    @classmethod\n",
    "    def fromBirthYear(cls, name, birthYear):\n",
    "        return cls(name, date.today().year - birthYear)\n",
    "\n",
    "    def display(self):\n",
    "        print(self.name + \"'s age is: \" + str(self.age))\n",
    "\n",
    "person = Person('Adam', 19)\n",
    "person.display()\n",
    "\n",
    "person1 = Person.fromBirthYear('John',  1985)\n",
    "person1.display()"
   ]
  },
  {
   "cell_type": "markdown",
   "metadata": {},
   "source": [
    "**Explanation**:\n",
    "\n",
    "Here, we have two class instance creator, a constructor and a **`fromBirthYear`** method.\n",
    "\n",
    "The constructor takes normal parameters **`name`** and **`age`**. While, **`fromBirthYear`** takes **`class`**, **`name`** and **`birthYear`**, calculates the current age by subtracting it with the current year and returns the class instance.\n",
    "\n",
    "The fromBirthYear method takes Person class (not Person object) as the first parameter **`cls`** and returns the constructor by calling **`cls(name, date.today().year - birthYear)`**, which is equivalent to **`Person(name, date.today().year - birthYear)`**\n",
    "\n",
    "Before the method, we see **`@classmethod`**. This is called a **[decorator](https://github.com/milaan9/07_Python_Advanced_Topics/blob/main/004_Python_Decorators.ipynb)** for converting **`fromBirthYear`** to a class method as **`classmethod()`**."
   ]
  },
  {
   "cell_type": "markdown",
   "metadata": {},
   "source": [
    "### 2. Correct instance creation in inheritance\n",
    "\n",
    "Whenever you derive a class from implementing a factory method as a class method, it ensures correct instance creation of the derived class.\n",
    "\n",
    "You can create a static method for the above example but the object it creates, will always be hardcoded as Base class.\n",
    "\n",
    "But, when you use a class method, it creates the correct instance of the derived class."
   ]
  },
  {
   "cell_type": "code",
   "execution_count": 3,
   "metadata": {
    "ExecuteTime": {
     "end_time": "2021-06-14T09:53:43.939883Z",
     "start_time": "2021-06-14T09:53:43.925233Z"
    }
   },
   "outputs": [
    {
     "name": "stdout",
     "output_type": "stream",
     "text": [
      "True\n",
      "False\n"
     ]
    }
   ],
   "source": [
    "# Example 3: How the class method works for the inheritance?\n",
    "\n",
    "from datetime import date\n",
    "\n",
    "# random Person\n",
    "class Person:\n",
    "    def __init__(self, name, age):\n",
    "        self.name = name\n",
    "        self.age = age\n",
    "\n",
    "    @staticmethod\n",
    "    def fromFathersAge(name, fatherAge, fatherPersonAgeDiff):\n",
    "        return Person(name, date.today().year - fatherAge + fatherPersonAgeDiff)\n",
    "\n",
    "    @classmethod\n",
    "    def fromBirthYear(cls, name, birthYear):\n",
    "        return cls(name, date.today().year - birthYear)\n",
    "\n",
    "    def display(self):\n",
    "        print(self.name + \"'s age is: \" + str(self.age))\n",
    "\n",
    "class Man(Person):\n",
    "    sex = 'Male'\n",
    "\n",
    "man = Man.fromBirthYear('John', 1985)\n",
    "print(isinstance(man, Man))\n",
    "\n",
    "man1 = Man.fromFathersAge('John', 1965, 20)\n",
    "print(isinstance(man1, Man))"
   ]
  },
  {
   "cell_type": "markdown",
   "metadata": {},
   "source": [
    "**Explanation**:\n",
    "\n",
    "Here, using a static method to create a class instance wants us to hardcode the instance type during creation.\n",
    "\n",
    "This clearly causes a problem when inheriting **`Person`** to **`Man`**.\n",
    "\n",
    "**`fromFathersAge`** method doesn't return a **`Man`** object but its base class **`Person`**'s object.\n",
    "\n",
    "This violates OOP paradigm. Using a class method as **`fromBirthYear`** can ensure the OOP-ness of the code since it takes the first parameter as the class itself and calls its factory method."
   ]
  },
  {
   "cell_type": "code",
   "execution_count": null,
   "metadata": {},
   "outputs": [],
   "source": []
  }
 ],
 "metadata": {
  "hide_input": false,
  "kernelspec": {
   "display_name": "Python 3",
   "language": "python",
   "name": "python3"
  },
  "language_info": {
   "codemirror_mode": {
    "name": "ipython",
    "version": 3
   },
   "file_extension": ".py",
   "mimetype": "text/x-python",
   "name": "python",
   "nbconvert_exporter": "python",
   "pygments_lexer": "ipython3",
   "version": "3.8.8"
  },
  "toc": {
   "base_numbering": 1,
   "nav_menu": {},
   "number_sections": true,
   "sideBar": true,
   "skip_h1_title": false,
   "title_cell": "Table of Contents",
   "title_sidebar": "Contents",
   "toc_cell": false,
   "toc_position": {},
   "toc_section_display": true,
   "toc_window_display": false
  },
  "varInspector": {
   "cols": {
    "lenName": 16,
    "lenType": 16,
    "lenVar": 40
   },
   "kernels_config": {
    "python": {
     "delete_cmd_postfix": "",
     "delete_cmd_prefix": "del ",
     "library": "var_list.py",
     "varRefreshCmd": "print(var_dic_list())"
    },
    "r": {
     "delete_cmd_postfix": ") ",
     "delete_cmd_prefix": "rm(",
     "library": "var_list.r",
     "varRefreshCmd": "cat(var_dic_list()) "
    }
   },
   "types_to_exclude": [
    "module",
    "function",
    "builtin_function_or_method",
    "instance",
    "_Feature"
   ],
   "window_display": false
  }
 },
 "nbformat": 4,
 "nbformat_minor": 2
}
