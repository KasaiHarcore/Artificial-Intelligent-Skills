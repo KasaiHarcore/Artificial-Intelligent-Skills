{
 "cells": [
  {
   "cell_type": "markdown",
   "metadata": {},
   "source": [
    "<small><small><i>\n",
    "All the IPython Notebooks in this lecture series by Dr. Milan Parmar are available @ **[GitHub](https://github.com/milaan9/04_Python_Functions/tree/main/002_Python_Functions_Built_in)**\n",
    "</i></small></small>"
   ]
  },
  {
   "cell_type": "markdown",
   "metadata": {},
   "source": [
    "# Python `zip()`\n",
    "\n",
    "The **`zip()`** function takes iterables (can be zero or more), aggregates them in a tuple, and return it.\n",
    "\n",
    "**Syntax**:\n",
    "\n",
    "```python\n",
    "zip(*iterables)\n",
    "```"
   ]
  },
  {
   "cell_type": "markdown",
   "metadata": {},
   "source": [
    "## `zip()` Parameter\n",
    "\n",
    "| Parameter | Description |\n",
    "|:----| :--- |\n",
    "| **`iterables`** | **can be built-in iterables (like: list, string, dict), or user-defined iterables** |\n",
    "\n",
    "> Recommended Reading: **[Python Iterators, __iter__ and __next__](https://github.com/milaan9/07_Python_Advanced_Topics/blob/main/001_Python_Iterators.ipynb)**"
   ]
  },
  {
   "cell_type": "markdown",
   "metadata": {},
   "source": [
    "## Return Value from `zip()`\n",
    "\n",
    "The **`zip()`** function returns an iterator of tuples based on the iterable objects.\n",
    "\n",
    "* If we do not pass any parameter, **`zip()`** returns an empty iterator\n",
    "* If a single iterable is passed, **`zip()`** returns an iterator of tuples with each tuple having only one element.\n",
    "* If multiple iterables are passed, **`zip()`** returns an iterator of tuples with each tuple having elements from all the iterables.\n",
    "\n",
    "Suppose, two iterables are passed to **`zip()`**; one iterable containing three and other containing five elements. Then, the returned iterator will contain three tuples. It's because iterator stops when the shortest iterable is exhausted."
   ]
  },
  {
   "cell_type": "code",
   "execution_count": 1,
   "metadata": {
    "ExecuteTime": {
     "end_time": "2021-06-14T11:40:12.433328Z",
     "start_time": "2021-06-14T11:40:12.424539Z"
    },
    "scrolled": false
   },
   "outputs": [
    {
     "name": "stdout",
     "output_type": "stream",
     "text": [
      "[]\n",
      "{(2, 'two'), (3, 'three'), (1, 'one')}\n"
     ]
    }
   ],
   "source": [
    "# Example 1: Python zip()\n",
    "\n",
    "number_list = [1, 2, 3]\n",
    "str_list = ['one', 'two', 'three']\n",
    "\n",
    "# No iterables are passed\n",
    "result = zip()\n",
    "\n",
    "# Converting itertor to list\n",
    "result_list = list(result)\n",
    "print(result_list)\n",
    "\n",
    "# Two iterables are passed\n",
    "result = zip(number_list, str_list)\n",
    "\n",
    "# Converting itertor to set\n",
    "result_set = set(result)\n",
    "print(result_set)"
   ]
  },
  {
   "cell_type": "code",
   "execution_count": 2,
   "metadata": {
    "ExecuteTime": {
     "end_time": "2021-06-14T11:40:13.184788Z",
     "start_time": "2021-06-14T11:40:13.175023Z"
    }
   },
   "outputs": [
    {
     "name": "stdout",
     "output_type": "stream",
     "text": [
      "{(3, 'THREE'), (2, 'TWO'), (1, 'ONE')}\n",
      "{(2, 'two', 'TWO'), (1, 'one', 'ONE')}\n"
     ]
    }
   ],
   "source": [
    "# Example 2: Different number of iterable elements\n",
    "\n",
    "numbersList = [1, 2, 3]\n",
    "str_list = ['one', 'two']\n",
    "numbers_tuple = ('ONE', 'TWO', 'THREE', 'FOUR')\n",
    "\n",
    "# Notice, the size of numbersList and numbers_tuple is different\n",
    "result = zip(numbersList, numbers_tuple)\n",
    "\n",
    "# Converting to set\n",
    "result_set = set(result)\n",
    "print(result_set)\n",
    "\n",
    "result = zip(numbersList, str_list, numbers_tuple)\n",
    "\n",
    "# Converting to set\n",
    "result_set = set(result)\n",
    "print(result_set)"
   ]
  },
  {
   "cell_type": "markdown",
   "metadata": {},
   "source": [
    "The **`*`** operator can be used in conjunction with **`zip()`** to unzip the list.\n",
    "\n",
    "```python\n",
    "zip(*zippedList)\n",
    "```"
   ]
  },
  {
   "cell_type": "code",
   "execution_count": 3,
   "metadata": {
    "ExecuteTime": {
     "end_time": "2021-06-14T11:40:16.440141Z",
     "start_time": "2021-06-14T11:40:16.422563Z"
    }
   },
   "outputs": [
    {
     "name": "stdout",
     "output_type": "stream",
     "text": [
      "[('x', 3), ('y', 4), ('z', 5)]\n",
      "c = ('x', 'y', 'z')\n",
      "v = (3, 4, 5)\n"
     ]
    }
   ],
   "source": [
    "# Example 3: Unzipping the Value Using zip()\n",
    "\n",
    "coordinate = ['x', 'y', 'z']\n",
    "value = [3, 4, 5]\n",
    "\n",
    "result = zip(coordinate, value)\n",
    "result_list = list(result)\n",
    "print(result_list)\n",
    "\n",
    "c, v =  zip(*result_list)\n",
    "print('c =', c)\n",
    "print('v =', v)"
   ]
  },
  {
   "cell_type": "code",
   "execution_count": null,
   "metadata": {},
   "outputs": [],
   "source": []
  }
 ],
 "metadata": {
  "hide_input": false,
  "kernelspec": {
   "display_name": "Python 3",
   "language": "python",
   "name": "python3"
  },
  "language_info": {
   "codemirror_mode": {
    "name": "ipython",
    "version": 3
   },
   "file_extension": ".py",
   "mimetype": "text/x-python",
   "name": "python",
   "nbconvert_exporter": "python",
   "pygments_lexer": "ipython3",
   "version": "3.8.8"
  },
  "toc": {
   "base_numbering": 1,
   "nav_menu": {},
   "number_sections": true,
   "sideBar": true,
   "skip_h1_title": false,
   "title_cell": "Table of Contents",
   "title_sidebar": "Contents",
   "toc_cell": false,
   "toc_position": {},
   "toc_section_display": true,
   "toc_window_display": false
  },
  "varInspector": {
   "cols": {
    "lenName": 16,
    "lenType": 16,
    "lenVar": 40
   },
   "kernels_config": {
    "python": {
     "delete_cmd_postfix": "",
     "delete_cmd_prefix": "del ",
     "library": "var_list.py",
     "varRefreshCmd": "print(var_dic_list())"
    },
    "r": {
     "delete_cmd_postfix": ") ",
     "delete_cmd_prefix": "rm(",
     "library": "var_list.r",
     "varRefreshCmd": "cat(var_dic_list()) "
    }
   },
   "types_to_exclude": [
    "module",
    "function",
    "builtin_function_or_method",
    "instance",
    "_Feature"
   ],
   "window_display": false
  }
 },
 "nbformat": 4,
 "nbformat_minor": 2
}
