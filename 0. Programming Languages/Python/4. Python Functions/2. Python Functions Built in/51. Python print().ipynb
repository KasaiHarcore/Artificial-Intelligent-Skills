{
 "cells": [
  {
   "cell_type": "markdown",
   "metadata": {},
   "source": [
    "<small><small><i>\n",
    "All the IPython Notebooks in this lecture series by Dr. Milan Parmar are available @ **[GitHub](https://github.com/milaan9/04_Python_Functions/tree/main/002_Python_Functions_Built_in)**\n",
    "</i></small></small>"
   ]
  },
  {
   "cell_type": "markdown",
   "metadata": {},
   "source": [
    "# Python `print()`\n",
    "\n",
    "The **`print()`** function prints the given object to the standard output device (screen) or to the text stream file.\n",
    "\n",
    "**Syntax**:\n",
    "\n",
    "```python\n",
    "print(*objects, sep=' ', end='\\n', file=sys.stdout, flush=False)\n",
    "```"
   ]
  },
  {
   "cell_type": "markdown",
   "metadata": {},
   "source": [
    "## `print()` Parameters\n",
    "\n",
    "* **objects** - object to the printed. **\\*** indicates that there may be more than one object\n",
    "* **sep** - objects are separated by sep. **Default value:** **`' '`**\n",
    "* **end** - **`end`** is printed at last\n",
    "* **file** - must be an object with write(string) method. If omitted it, **`sys.stdout`** will be used which prints objects on the screen.\n",
    "* **flush** - If **`True`**, the stream is forcibly flushed. **Default value:** **`False`**\n",
    "\n",
    ">**Note:** **`sep`**, **`end`**, **`file`**, and **`flush`** are keyword arguments. If you want to use **`sep`** argument, you have to use:\n",
    "\n",
    "```python\n",
    "print(*objects, sep = 'separator')\n",
    "```\n",
    "not\n",
    "\n",
    "```python\n",
    "print(*objects, 'separator')\n",
    "```"
   ]
  },
  {
   "cell_type": "markdown",
   "metadata": {},
   "source": [
    "## Return Value from `print()`\n",
    "\n",
    "The **`print()`** function doesn't return any value; returns **`None`**."
   ]
  },
  {
   "cell_type": "code",
   "execution_count": 1,
   "metadata": {
    "ExecuteTime": {
     "end_time": "2021-06-14T11:31:42.960084Z",
     "start_time": "2021-06-14T11:31:42.942508Z"
    },
    "scrolled": true
   },
   "outputs": [
    {
     "name": "stdout",
     "output_type": "stream",
     "text": [
      "Python is fun.\n",
      "a = 5\n",
      "a = 5 = b\n"
     ]
    }
   ],
   "source": [
    "# Example 1: How print() works in Python?\n",
    "\n",
    "print(\"Python is fun.\")\n",
    "\n",
    "a = 5\n",
    "# Two objects are passed\n",
    "print(\"a =\", a)\n",
    "\n",
    "b = a\n",
    "# Three objects are passed\n",
    "print('a =', a, '= b')"
   ]
  },
  {
   "cell_type": "markdown",
   "metadata": {},
   "source": [
    "In the above program, only **`objects`** parameter is passed to **`print()`** function (in all three print statements).\n",
    "\n",
    "Hence,\n",
    "\n",
    "* **`' '`** separator is used. Notice, the space between two objects in the output.\n",
    "* **`end`** parameter **`'\\n'`** (newline character) is used. Notice, each print statement displays the output in the new line.\n",
    "* **`file`** is **`sys.stdout`**. The output is printed on the screen.\n",
    "* **`flush`** is **`False`**. The stream is not forcibly flushed."
   ]
  },
  {
   "cell_type": "code",
   "execution_count": 2,
   "metadata": {
    "ExecuteTime": {
     "end_time": "2021-06-14T11:31:44.817008Z",
     "start_time": "2021-06-14T11:31:44.805291Z"
    }
   },
   "outputs": [
    {
     "name": "stdout",
     "output_type": "stream",
     "text": [
      "a =000005\n",
      "\n",
      "\n",
      "a =05"
     ]
    }
   ],
   "source": [
    "# Example 2: print() with separator and end parameters\n",
    "\n",
    "a = 5\n",
    "print(\"a =\", a, sep='00000', end='\\n\\n\\n')\n",
    "print(\"a =\", a, sep='0', end='')"
   ]
  },
  {
   "cell_type": "markdown",
   "metadata": {},
   "source": [
    "We passed the **`sep`** and **`end`** parameters in the above program."
   ]
  },
  {
   "cell_type": "markdown",
   "metadata": {},
   "source": [
    ">Recommended Reading: **[Python File Input/Output](https://github.com/milaan9/05_Python_Files/blob/main/001_Python_File_Input_Output.ipynb)**"
   ]
  },
  {
   "cell_type": "code",
   "execution_count": 3,
   "metadata": {
    "ExecuteTime": {
     "end_time": "2021-06-14T11:31:47.736428Z",
     "start_time": "2021-06-14T11:31:47.725687Z"
    }
   },
   "outputs": [],
   "source": [
    "# Example 3: print() with file parameter\n",
    "\n",
    "# In Python, you can print objects to the file by specifying the file parameter.\n",
    "\n",
    "sourceFile = open('python.txt', 'w')\n",
    "print('Pretty cool, huh!', file = sourceFile)\n",
    "sourceFile.close()"
   ]
  },
  {
   "cell_type": "markdown",
   "metadata": {},
   "source": [
    "This program tries to open the **python.txt** in writing mode. If this file doesn't exist, **python.txt** file is created and opened in writing mode.\n",
    "\n",
    "Here, we have passed **`sourceFile`** file object to the **`file`** parameter. The string object 'Pretty cool, huh!' is printed to **python.txt** file (check it in your system).\n",
    "\n",
    "Finally, the file is closed using **`close()`** method."
   ]
  },
  {
   "cell_type": "code",
   "execution_count": null,
   "metadata": {},
   "outputs": [],
   "source": []
  }
 ],
 "metadata": {
  "hide_input": false,
  "kernelspec": {
   "display_name": "Python 3",
   "language": "python",
   "name": "python3"
  },
  "language_info": {
   "codemirror_mode": {
    "name": "ipython",
    "version": 3
   },
   "file_extension": ".py",
   "mimetype": "text/x-python",
   "name": "python",
   "nbconvert_exporter": "python",
   "pygments_lexer": "ipython3",
   "version": "3.8.8"
  },
  "toc": {
   "base_numbering": 1,
   "nav_menu": {},
   "number_sections": true,
   "sideBar": true,
   "skip_h1_title": false,
   "title_cell": "Table of Contents",
   "title_sidebar": "Contents",
   "toc_cell": false,
   "toc_position": {},
   "toc_section_display": true,
   "toc_window_display": false
  },
  "varInspector": {
   "cols": {
    "lenName": 16,
    "lenType": 16,
    "lenVar": 40
   },
   "kernels_config": {
    "python": {
     "delete_cmd_postfix": "",
     "delete_cmd_prefix": "del ",
     "library": "var_list.py",
     "varRefreshCmd": "print(var_dic_list())"
    },
    "r": {
     "delete_cmd_postfix": ") ",
     "delete_cmd_prefix": "rm(",
     "library": "var_list.r",
     "varRefreshCmd": "cat(var_dic_list()) "
    }
   },
   "types_to_exclude": [
    "module",
    "function",
    "builtin_function_or_method",
    "instance",
    "_Feature"
   ],
   "window_display": false
  }
 },
 "nbformat": 4,
 "nbformat_minor": 2
}
