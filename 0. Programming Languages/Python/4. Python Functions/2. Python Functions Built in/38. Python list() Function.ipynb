{
 "cells": [
  {
   "cell_type": "markdown",
   "metadata": {},
   "source": [
    "<small><small><i>\n",
    "All the IPython Notebooks in this lecture series by Dr. Milan Parmar are available @ **[GitHub](https://github.com/milaan9/04_Python_Functions/tree/main/002_Python_Functions_Built_in)**\n",
    "</i></small></small>"
   ]
  },
  {
   "cell_type": "markdown",
   "metadata": {},
   "source": [
    "# Python `list()`\n",
    "\n",
    "The **`list()`** constructor returns a list in Python.\n",
    "\n",
    "**Syntax**:\n",
    "\n",
    "```python\n",
    "list([iterable])\n",
    "```"
   ]
  },
  {
   "cell_type": "markdown",
   "metadata": {},
   "source": [
    "## `list()` Parameters\n",
    "\n",
    "The **`list()`** constructor takes a single argument:\n",
    "\n",
    "* **iterable (optional)** - an object that could be a sequence (**[string](https://github.com/milaan9/02_Python_Datatypes/blob/main/002_Python_String.ipynb)**, **[tuples](https://github.com/milaan9/02_Python_Datatypes/blob/main/004_Python_Tuple.ipynb)**) or collection (**[set](https://github.com/milaan9/02_Python_Datatypes/blob/main/006_Python_Sets.ipynb)**, **[dictionary](https://github.com/milaan9/02_Python_Datatypes/blob/main/005_Python_Dictionary.ipynb)**) or any iterator object"
   ]
  },
  {
   "cell_type": "markdown",
   "metadata": {},
   "source": [
    "## Return Value from `list()`\n",
    "\n",
    "The **`list()`**  constructor returns a list.\n",
    "\n",
    "* If no parameters are passed, it returns an empty list\n",
    "* If iterable is passed as a parameter, it creates a list consisting of iterable's items."
   ]
  },
  {
   "cell_type": "code",
   "execution_count": 1,
   "metadata": {
    "ExecuteTime": {
     "end_time": "2021-06-14T11:19:15.337372Z",
     "start_time": "2021-06-14T11:19:15.302216Z"
    },
    "scrolled": true
   },
   "outputs": [
    {
     "name": "stdout",
     "output_type": "stream",
     "text": [
      "[]\n",
      "['a', 'e', 'i', 'o', 'u']\n",
      "['a', 'e', 'i', 'o', 'u']\n",
      "['a', 'e', 'i', 'o', 'u']\n"
     ]
    }
   ],
   "source": [
    "# Example 1: Create lists from string, tuple, and list\n",
    "\n",
    "# empty list\n",
    "print(list())\n",
    "\n",
    "# vowel string\n",
    "vowel_string = 'aeiou'\n",
    "print(list(vowel_string))\n",
    "\n",
    "# vowel tuple\n",
    "vowel_tuple = ('a', 'e', 'i', 'o', 'u')\n",
    "print(list(vowel_tuple))\n",
    "\n",
    "# vowel list\n",
    "vowel_list = ['a', 'e', 'i', 'o', 'u']\n",
    "print(list(vowel_list))"
   ]
  },
  {
   "cell_type": "code",
   "execution_count": 2,
   "metadata": {
    "ExecuteTime": {
     "end_time": "2021-06-14T11:19:15.952603Z",
     "start_time": "2021-06-14T11:19:15.941862Z"
    }
   },
   "outputs": [
    {
     "name": "stdout",
     "output_type": "stream",
     "text": [
      "['a', 'e', 'o', 'i', 'u']\n",
      "['a', 'e', 'i', 'o', 'u']\n"
     ]
    }
   ],
   "source": [
    "# Example 2: Create lists from set and dictionary\n",
    "\n",
    "# vowel set\n",
    "vowel_set = {'a', 'e', 'i', 'o', 'u'}\n",
    "print(list(vowel_set))\n",
    "\n",
    "# vowel dictionary\n",
    "vowel_dictionary = {'a': 1, 'e': 2, 'i': 3, 'o':4, 'u':5}\n",
    "print(list(vowel_dictionary))"
   ]
  },
  {
   "cell_type": "markdown",
   "metadata": {},
   "source": [
    "> **Note:** In the case of dictionaries, the keys of the dictionary will be the items of the list. Also, the order of the elements will be random."
   ]
  },
  {
   "cell_type": "code",
   "execution_count": 3,
   "metadata": {
    "ExecuteTime": {
     "end_time": "2021-06-14T11:19:17.873490Z",
     "start_time": "2021-06-14T11:19:17.862749Z"
    }
   },
   "outputs": [
    {
     "name": "stdout",
     "output_type": "stream",
     "text": [
      "[1, 2, 4, 8, 16]\n"
     ]
    }
   ],
   "source": [
    "# Example 3: Create a list from an iterator object\n",
    "\n",
    "# objects of this class are iterators\n",
    "class PowTwo:\n",
    "    def __init__(self, max):\n",
    "        self.max = max\n",
    "    \n",
    "    def __iter__(self):\n",
    "        self.num = 0\n",
    "        return self\n",
    "        \n",
    "    def __next__(self):\n",
    "        if(self.num >= self.max):\n",
    "            raise StopIteration\n",
    "        result = 2 ** self.num\n",
    "        self.num += 1\n",
    "        return result\n",
    "\n",
    "pow_two = PowTwo(5)\n",
    "pow_two_iter = iter(pow_two)\n",
    "\n",
    "print(list(pow_two_iter))"
   ]
  },
  {
   "cell_type": "markdown",
   "metadata": {},
   "source": [
    "> Recommended Reading: **[Python List](https://github.com/milaan9/02_Python_Datatypes/blob/main/003_Python_List.ipynb)**"
   ]
  },
  {
   "cell_type": "code",
   "execution_count": null,
   "metadata": {},
   "outputs": [],
   "source": []
  }
 ],
 "metadata": {
  "hide_input": false,
  "kernelspec": {
   "display_name": "Python 3",
   "language": "python",
   "name": "python3"
  },
  "language_info": {
   "codemirror_mode": {
    "name": "ipython",
    "version": 3
   },
   "file_extension": ".py",
   "mimetype": "text/x-python",
   "name": "python",
   "nbconvert_exporter": "python",
   "pygments_lexer": "ipython3",
   "version": "3.8.8"
  },
  "toc": {
   "base_numbering": 1,
   "nav_menu": {},
   "number_sections": true,
   "sideBar": true,
   "skip_h1_title": false,
   "title_cell": "Table of Contents",
   "title_sidebar": "Contents",
   "toc_cell": false,
   "toc_position": {},
   "toc_section_display": true,
   "toc_window_display": false
  },
  "varInspector": {
   "cols": {
    "lenName": 16,
    "lenType": 16,
    "lenVar": 40
   },
   "kernels_config": {
    "python": {
     "delete_cmd_postfix": "",
     "delete_cmd_prefix": "del ",
     "library": "var_list.py",
     "varRefreshCmd": "print(var_dic_list())"
    },
    "r": {
     "delete_cmd_postfix": ") ",
     "delete_cmd_prefix": "rm(",
     "library": "var_list.r",
     "varRefreshCmd": "cat(var_dic_list()) "
    }
   },
   "types_to_exclude": [
    "module",
    "function",
    "builtin_function_or_method",
    "instance",
    "_Feature"
   ],
   "window_display": false
  }
 },
 "nbformat": 4,
 "nbformat_minor": 2
}
