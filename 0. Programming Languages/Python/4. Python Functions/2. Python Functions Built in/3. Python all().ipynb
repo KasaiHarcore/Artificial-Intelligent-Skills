{
 "cells": [
  {
   "cell_type": "markdown",
   "metadata": {},
   "source": [
    "<small><small><i>\n",
    "All the IPython Notebooks in this lecture series by Dr. Milan Parmar are available @ **[GitHub](https://github.com/milaan9/04_Python_Functions/tree/main/002_Python_Functions_Built_in)**\n",
    "</i></small></small>"
   ]
  },
  {
   "cell_type": "markdown",
   "metadata": {},
   "source": [
    "# Python `all()`\n",
    "\n",
    "The **`all()`** method returns **`True`** when all elements in the given iterable are true. If not, it returns **`False`**.\n",
    "\n",
    "**Syntax**:\n",
    "\n",
    "```python\n",
    "all(iterable)\n",
    "```"
   ]
  },
  {
   "cell_type": "markdown",
   "metadata": {},
   "source": [
    "## `all()` Parameters\n",
    "\n",
    "**`any()`** method takes a single parameter:\n",
    "\n",
    "* **iterable** - any iterable (**[list](https://github.com/milaan9/02_Python_Datatypes/blob/main/003_Python_List.ipynb)**, **[tuple](https://github.com/milaan9/02_Python_Datatypes/blob/main/004_Python_Tuple.ipynb)**, **[dictionary](https://github.com/milaan9/02_Python_Datatypes/blob/main/005_Python_Dictionary.ipynb)**, etc.) which contains the elements"
   ]
  },
  {
   "cell_type": "markdown",
   "metadata": {},
   "source": [
    "## Return Value from `all()`\n",
    "\n",
    "**`all()`** method returns:\n",
    "\n",
    "* **`True`** If all elements in an iterable are true\n",
    "* **`False`** If any element in an iterable is false\n",
    "\n",
    "**Truth table for **`all()`****:\n",
    "\n",
    "| When | Return Value |\n",
    "|:----| :--- |\n",
    "| **All values are true** | **True** |\n",
    "| **All values are false** | **False** |\n",
    "| **One value is true (others are false)** | **False** |\n",
    "| **One value is false (others are true)** | **False** |\n",
    "| **Empty Iterable** | **True** |"
   ]
  },
  {
   "cell_type": "code",
   "execution_count": 1,
   "metadata": {
    "ExecuteTime": {
     "end_time": "2021-06-14T09:48:32.075708Z",
     "start_time": "2021-06-14T09:48:32.059106Z"
    }
   },
   "outputs": [
    {
     "name": "stdout",
     "output_type": "stream",
     "text": [
      "True\n",
      "False\n",
      "False\n",
      "False\n",
      "True\n"
     ]
    }
   ],
   "source": [
    "# Example 1: How all() works for lists?\n",
    "\n",
    "# all values true\n",
    "l = [1, 3, 4, 5]\n",
    "print(all(l))\n",
    "\n",
    "# all values false\n",
    "l = [0, False]\n",
    "print(all(l))\n",
    "\n",
    "# one false value\n",
    "l = [1, 3, 4, 0]\n",
    "print(all(l))\n",
    "\n",
    "# one true value\n",
    "l = [0, False, 5]\n",
    "print(all(l))\n",
    "\n",
    "# empty iterable\n",
    "l = []\n",
    "print(all(l))"
   ]
  },
  {
   "cell_type": "markdown",
   "metadata": {},
   "source": [
    "The **`all()`** method works in a similar way for tuples and sets like lists."
   ]
  },
  {
   "cell_type": "code",
   "execution_count": 2,
   "metadata": {
    "ExecuteTime": {
     "end_time": "2021-06-14T09:48:34.036147Z",
     "start_time": "2021-06-14T09:48:34.017593Z"
    }
   },
   "outputs": [
    {
     "name": "stdout",
     "output_type": "stream",
     "text": [
      "True\n",
      "True\n",
      "True\n"
     ]
    }
   ],
   "source": [
    "# Example 2: How all() works for strings?\n",
    "\n",
    "s = \"This is good\"\n",
    "print(all(s))\n",
    "\n",
    "# 0 is False\n",
    "# '0' is True\n",
    "s = '000'\n",
    "print(all(s))\n",
    "\n",
    "s = ''\n",
    "print(all(s))"
   ]
  },
  {
   "cell_type": "code",
   "execution_count": 3,
   "metadata": {
    "ExecuteTime": {
     "end_time": "2021-06-14T09:48:37.728507Z",
     "start_time": "2021-06-14T09:48:37.706050Z"
    }
   },
   "outputs": [
    {
     "name": "stdout",
     "output_type": "stream",
     "text": [
      "False\n",
      "True\n",
      "False\n",
      "True\n",
      "True\n"
     ]
    }
   ],
   "source": [
    "# Example 3: Using all() with Python Dictionaries\n",
    "\n",
    "# In the case of dictionaries, if all keys (not values) are false or the dictionary is empty, \n",
    "# `all()` returns `True`. Else, it returns false for all other cases.\n",
    "\n",
    "s = {0: 'False', 1: 'False'}\n",
    "print(all(s))\n",
    "\n",
    "s = {1: 'True', 2: 'True'}\n",
    "print(all(s))\n",
    "\n",
    "s = {1: 'True', False: 0}\n",
    "print(all(s))\n",
    "\n",
    "s = {}\n",
    "print(all(s))\n",
    "\n",
    "# 0 is False\n",
    "# '0' is True\n",
    "s = {'0': 'True'}\n",
    "print(all(s))"
   ]
  },
  {
   "cell_type": "code",
   "execution_count": null,
   "metadata": {},
   "outputs": [],
   "source": []
  }
 ],
 "metadata": {
  "hide_input": false,
  "kernelspec": {
   "display_name": "Python 3",
   "language": "python",
   "name": "python3"
  },
  "language_info": {
   "codemirror_mode": {
    "name": "ipython",
    "version": 3
   },
   "file_extension": ".py",
   "mimetype": "text/x-python",
   "name": "python",
   "nbconvert_exporter": "python",
   "pygments_lexer": "ipython3",
   "version": "3.8.8"
  },
  "toc": {
   "base_numbering": 1,
   "nav_menu": {},
   "number_sections": true,
   "sideBar": true,
   "skip_h1_title": false,
   "title_cell": "Table of Contents",
   "title_sidebar": "Contents",
   "toc_cell": false,
   "toc_position": {},
   "toc_section_display": true,
   "toc_window_display": false
  },
  "varInspector": {
   "cols": {
    "lenName": 16,
    "lenType": 16,
    "lenVar": 40
   },
   "kernels_config": {
    "python": {
     "delete_cmd_postfix": "",
     "delete_cmd_prefix": "del ",
     "library": "var_list.py",
     "varRefreshCmd": "print(var_dic_list())"
    },
    "r": {
     "delete_cmd_postfix": ") ",
     "delete_cmd_prefix": "rm(",
     "library": "var_list.r",
     "varRefreshCmd": "cat(var_dic_list()) "
    }
   },
   "types_to_exclude": [
    "module",
    "function",
    "builtin_function_or_method",
    "instance",
    "_Feature"
   ],
   "window_display": false
  }
 },
 "nbformat": 4,
 "nbformat_minor": 2
}
