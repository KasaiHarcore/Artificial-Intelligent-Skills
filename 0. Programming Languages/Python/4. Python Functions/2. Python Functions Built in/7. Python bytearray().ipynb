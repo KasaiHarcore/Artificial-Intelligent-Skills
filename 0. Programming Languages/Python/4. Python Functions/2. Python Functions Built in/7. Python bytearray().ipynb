{
 "cells": [
  {
   "cell_type": "markdown",
   "metadata": {},
   "source": [
    "<small><small><i>\n",
    "All the IPython Notebooks in this lecture series by Dr. Milan Parmar are available @ **[GitHub](https://github.com/milaan9/04_Python_Functions/tree/main/002_Python_Functions_Built_in)**\n",
    "</i></small></small>"
   ]
  },
  {
   "cell_type": "markdown",
   "metadata": {},
   "source": [
    "# Python `bytearray()`\n",
    "\n",
    "The **`bytearray()`** method returns a bytearray object which is an array of the given bytes.\n",
    "\n",
    "**Syntax**:\n",
    "\n",
    "```python\n",
    "bytearray([source[, encoding[, errors]]])\n",
    "```\n",
    "\n",
    "**`bytearray()`** method returns a bytearray object which is mutable (can be modified) sequence of integers in the range **`0 <= x < 256`**.\n",
    "\n",
    "If you want the immutable version, use **[bytes()](https://github.com/milaan9/04_Python_Functions/blob/main/002_Python_Functions_Built_in/009_Python_bytes%28%29.ipynb)** method."
   ]
  },
  {
   "cell_type": "markdown",
   "metadata": {},
   "source": [
    "## `bytearray()` Parameters\n",
    "\n",
    "**`bytearray()`** method takes three optional parameters:\n",
    "\n",
    "* **source (Optional)** - source to initialize the array of bytes.\n",
    "* **encoding (Optional)** - if the source is a string, the encoding of the string.\n",
    "* **errors (Optional)** - if the source is a string, the action to take when the encoding conversion fails (Read more: **String encoding**)\n",
    "\n",
    "The **source** parameter can be used to initialize the byte array in the following ways:\n",
    "\n",
    "**Different source parameters**:\n",
    "\n",
    "| Type | Description |\n",
    "|:----| :--- |\n",
    "| **String** | **Converts the string to bytes using `str.encode()` Must also provide encoding and optionally errors** |\n",
    "| **Integer** | **Creates an array of provided size, all initialized to null** |\n",
    "| **Object** | **A read-only buffer of the object will be used to initialize the byte array** |\n",
    "| **Iterable** | **Creates an array of size equal to the iterable count and initialized to the iterable elements Must be iterable of integers between `0 <= x < 256`** |\n",
    "| **No source (arguments)** | **Creates an array of size `0`**. |"
   ]
  },
  {
   "cell_type": "markdown",
   "metadata": {},
   "source": [
    "## Return Value from `bytearray()`\n",
    "\n",
    "**`bytearray()`** method returns an array of bytes of the given size and initialization values."
   ]
  },
  {
   "cell_type": "code",
   "execution_count": 1,
   "metadata": {
    "ExecuteTime": {
     "end_time": "2021-06-14T09:50:40.215203Z",
     "start_time": "2021-06-14T09:50:40.208368Z"
    }
   },
   "outputs": [
    {
     "name": "stdout",
     "output_type": "stream",
     "text": [
      "bytearray(b'Python is interesting.')\n"
     ]
    }
   ],
   "source": [
    "# Example 1: Array of bytes from a string\n",
    "\n",
    "string = \"Python is interesting.\"\n",
    "\n",
    "# string with encoding 'utf-8'\n",
    "arr = bytearray(string, 'utf-8')\n",
    "print(arr)"
   ]
  },
  {
   "cell_type": "code",
   "execution_count": 2,
   "metadata": {
    "ExecuteTime": {
     "end_time": "2021-06-14T09:50:40.969594Z",
     "start_time": "2021-06-14T09:50:40.950066Z"
    }
   },
   "outputs": [
    {
     "name": "stdout",
     "output_type": "stream",
     "text": [
      "bytearray(b'\\x00\\x00\\x00\\x00\\x00')\n"
     ]
    }
   ],
   "source": [
    "# Example 2: Array of bytes of given integer size\n",
    "\n",
    "size = 5\n",
    "\n",
    "arr = bytearray(size)\n",
    "print(arr)"
   ]
  },
  {
   "cell_type": "code",
   "execution_count": 3,
   "metadata": {
    "ExecuteTime": {
     "end_time": "2021-06-14T09:50:41.570667Z",
     "start_time": "2021-06-14T09:50:41.550160Z"
    }
   },
   "outputs": [
    {
     "name": "stdout",
     "output_type": "stream",
     "text": [
      "bytearray(b'\\x01\\x02\\x03\\x04\\x05')\n"
     ]
    }
   ],
   "source": [
    "# Example 3: Array of bytes from an iterable list\n",
    "rList = [1, 2, 3, 4, 5]\n",
    "\n",
    "arr = bytearray(rList)\n",
    "print(arr)"
   ]
  },
  {
   "cell_type": "code",
   "execution_count": null,
   "metadata": {},
   "outputs": [],
   "source": []
  }
 ],
 "metadata": {
  "hide_input": false,
  "kernelspec": {
   "display_name": "Python 3",
   "language": "python",
   "name": "python3"
  },
  "language_info": {
   "codemirror_mode": {
    "name": "ipython",
    "version": 3
   },
   "file_extension": ".py",
   "mimetype": "text/x-python",
   "name": "python",
   "nbconvert_exporter": "python",
   "pygments_lexer": "ipython3",
   "version": "3.8.8"
  },
  "toc": {
   "base_numbering": 1,
   "nav_menu": {},
   "number_sections": true,
   "sideBar": true,
   "skip_h1_title": false,
   "title_cell": "Table of Contents",
   "title_sidebar": "Contents",
   "toc_cell": false,
   "toc_position": {},
   "toc_section_display": true,
   "toc_window_display": false
  },
  "varInspector": {
   "cols": {
    "lenName": 16,
    "lenType": 16,
    "lenVar": 40
   },
   "kernels_config": {
    "python": {
     "delete_cmd_postfix": "",
     "delete_cmd_prefix": "del ",
     "library": "var_list.py",
     "varRefreshCmd": "print(var_dic_list())"
    },
    "r": {
     "delete_cmd_postfix": ") ",
     "delete_cmd_prefix": "rm(",
     "library": "var_list.r",
     "varRefreshCmd": "cat(var_dic_list()) "
    }
   },
   "types_to_exclude": [
    "module",
    "function",
    "builtin_function_or_method",
    "instance",
    "_Feature"
   ],
   "window_display": false
  }
 },
 "nbformat": 4,
 "nbformat_minor": 2
}
