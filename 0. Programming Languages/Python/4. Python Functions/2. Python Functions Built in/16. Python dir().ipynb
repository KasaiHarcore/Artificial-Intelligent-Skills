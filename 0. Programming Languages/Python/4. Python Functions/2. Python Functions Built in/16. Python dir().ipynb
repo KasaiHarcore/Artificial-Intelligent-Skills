{
 "cells": [
  {
   "cell_type": "markdown",
   "metadata": {},
   "source": [
    "<small><small><i>\n",
    "All the IPython Notebooks in this lecture series by Dr. Milan Parmar are available @ **[GitHub](https://github.com/milaan9/04_Python_Functions/tree/main/002_Python_Functions_Built_in)**\n",
    "</i></small></small>"
   ]
  },
  {
   "cell_type": "markdown",
   "metadata": {},
   "source": [
    "# Python `dir()`\n",
    "\n",
    "The **`dir()`** method tries to return a list of valid attributes of the object.\n",
    "\n",
    "**Syntax**:\n",
    "\n",
    "```python\n",
    "dir([object])\n",
    "```"
   ]
  },
  {
   "cell_type": "markdown",
   "metadata": {},
   "source": [
    "## `dir()` Parameters\n",
    "\n",
    "**`dir()`** takes maximum of one object.\n",
    "\n",
    "* **object** (optional) - **`dir()`** attempts to return all attributes of this object."
   ]
  },
  {
   "cell_type": "markdown",
   "metadata": {},
   "source": [
    "## Return Value from `dir()`\n",
    "\n",
    "**`dir()`** tries to return a list of valid attributes of the object.\n",
    "\n",
    "* If the object has **`__dir__()`** method, the method will be called and must return the list of attributes.\n",
    "* If the object doesn't have **`__dir__()`** method, this method tries to find information from the **`__dict__`** attribute (if defined), and from type object. In this case, the list returned from **`dir()`** may not be complete.\n",
    "\n",
    "If an object is not passed to **`dir()`** method, it returns the list of names in the current local scope."
   ]
  },
  {
   "cell_type": "code",
   "execution_count": 1,
   "metadata": {
    "ExecuteTime": {
     "end_time": "2021-06-14T09:55:13.304191Z",
     "start_time": "2021-06-14T09:55:13.288567Z"
    },
    "scrolled": true
   },
   "outputs": [
    {
     "name": "stdout",
     "output_type": "stream",
     "text": [
      "['__add__', '__class__', '__contains__', '__delattr__', '__delitem__', '__dir__', '__doc__', '__eq__', '__format__', '__ge__', '__getattribute__', '__getitem__', '__gt__', '__hash__', '__iadd__', '__imul__', '__init__', '__init_subclass__', '__iter__', '__le__', '__len__', '__lt__', '__mul__', '__ne__', '__new__', '__reduce__', '__reduce_ex__', '__repr__', '__reversed__', '__rmul__', '__setattr__', '__setitem__', '__sizeof__', '__str__', '__subclasshook__', 'append', 'clear', 'copy', 'count', 'extend', 'index', 'insert', 'pop', 'remove', 'reverse', 'sort']\n",
      "\n",
      "Return Value from empty dir()\n",
      "['In', 'NamespaceMagics', 'Out', '_', '_Jupyter', '__', '___', '__builtin__', '__builtins__', '__doc__', '__loader__', '__name__', '__package__', '__spec__', '_dh', '_getshapeof', '_getsizeof', '_i', '_i1', '_ih', '_ii', '_iii', '_nms', '_oh', 'exit', 'get_ipython', 'getsizeof', 'json', 'np', 'number', 'quit', 'var_dic_list']\n"
     ]
    }
   ],
   "source": [
    "# Example 1: How dir() works?\n",
    "\n",
    "number = [1, 2, 3]\n",
    "print(dir(number))\n",
    "\n",
    "print('\\nReturn Value from empty dir()')\n",
    "print(dir())"
   ]
  },
  {
   "cell_type": "code",
   "execution_count": 2,
   "metadata": {
    "ExecuteTime": {
     "end_time": "2021-06-14T09:55:14.457996Z",
     "start_time": "2021-06-14T09:55:14.448228Z"
    }
   },
   "outputs": [
    {
     "name": "stdout",
     "output_type": "stream",
     "text": [
      "['age', 'name', 'salary']\n"
     ]
    }
   ],
   "source": [
    "# Example 2: dir() on User-defined Object\n",
    "\n",
    "class Person:\n",
    "    def __dir__(self):\n",
    "        return ['age', 'name', 'salary']\n",
    "    \n",
    "\n",
    "teacher = Person()\n",
    "print(dir(teacher))"
   ]
  },
  {
   "cell_type": "code",
   "execution_count": null,
   "metadata": {},
   "outputs": [],
   "source": []
  }
 ],
 "metadata": {
  "hide_input": false,
  "kernelspec": {
   "display_name": "Python 3",
   "language": "python",
   "name": "python3"
  },
  "language_info": {
   "codemirror_mode": {
    "name": "ipython",
    "version": 3
   },
   "file_extension": ".py",
   "mimetype": "text/x-python",
   "name": "python",
   "nbconvert_exporter": "python",
   "pygments_lexer": "ipython3",
   "version": "3.8.8"
  },
  "toc": {
   "base_numbering": 1,
   "nav_menu": {},
   "number_sections": true,
   "sideBar": true,
   "skip_h1_title": false,
   "title_cell": "Table of Contents",
   "title_sidebar": "Contents",
   "toc_cell": false,
   "toc_position": {},
   "toc_section_display": true,
   "toc_window_display": false
  },
  "varInspector": {
   "cols": {
    "lenName": 16,
    "lenType": 16,
    "lenVar": 40
   },
   "kernels_config": {
    "python": {
     "delete_cmd_postfix": "",
     "delete_cmd_prefix": "del ",
     "library": "var_list.py",
     "varRefreshCmd": "print(var_dic_list())"
    },
    "r": {
     "delete_cmd_postfix": ") ",
     "delete_cmd_prefix": "rm(",
     "library": "var_list.r",
     "varRefreshCmd": "cat(var_dic_list()) "
    }
   },
   "types_to_exclude": [
    "module",
    "function",
    "builtin_function_or_method",
    "instance",
    "_Feature"
   ],
   "window_display": false
  }
 },
 "nbformat": 4,
 "nbformat_minor": 2
}
