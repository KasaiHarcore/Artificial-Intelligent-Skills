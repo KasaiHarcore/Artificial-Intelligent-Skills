{
 "cells": [
  {
   "cell_type": "markdown",
   "metadata": {},
   "source": [
    "<small><small><i>\n",
    "All the IPython Notebooks in **Python Functions** lecture series by Dr. Milaan Parmar are available @ **[GitHub](https://github.com/milaan9/04_Python_Functions)**\n",
    "</i></small></small>"
   ]
  },
  {
   "cell_type": "markdown",
   "metadata": {},
   "source": [
    "# Python Random Module\n",
    "\n",
    "You can generate random numbers in Python by using random module.\n",
    "\n",
    "Python offers **`random`** module that can generate random numbers.\n",
    "\n",
    "These are pseudo-random number as the sequence of number generated depends on the seed.\n",
    "\n",
    "If the seeding value is same, the sequence will be the same. For example, if you use 2 as the seeding value, you will always see the following sequence."
   ]
  },
  {
   "cell_type": "code",
   "execution_count": 1,
   "metadata": {
    "ExecuteTime": {
     "end_time": "2021-06-13T16:48:05.271252Z",
     "start_time": "2021-06-13T16:48:05.255627Z"
    }
   },
   "outputs": [
    {
     "name": "stdout",
     "output_type": "stream",
     "text": [
      "0.9560342718892494\n",
      "0.9478274870593494\n",
      "0.05655136772680869\n"
     ]
    }
   ],
   "source": [
    "import random\n",
    "random.seed(2)\n",
    "\n",
    "print(random.random())\n",
    "print(random.random())\n",
    "print(random.random())"
   ]
  },
  {
   "cell_type": "markdown",
   "metadata": {},
   "source": [
    "**Not so random eh?** Since this generator is completely deterministic, it must not be used for encryption purpose.\n",
    "\n",
    "Here is the list of all the functions defined in random module with a brief explanation of what they do.\n",
    "\n",
    "**List of Functions in Python Random Module**\n",
    "\n",
    "| Function | Description |\n",
    "|:----| :--- |\n",
    "| **`seed(a=None, version=2)`** | Initialize the random number generator | \n",
    "| **`getstate()`** | Returns an object capturing the current internal state of the generator | \n",
    "| **`setstate(state)`** | Restores the internal state of the generator | \n",
    "| **`getrandbits(k)`** | Returns a Python integer with k random bits | \n",
    "| **`randrange(start, stop[, step])`** | Returns a random integer from the range | \n",
    "| **`randint(a, b)`** | Returns a random integer between a and b inclusive | \n",
    "| **`choice(seq)`** | Return a random element from the non-empty sequence | \n",
    "| **`shuffle(seq)`** | Shuffle the sequence | \n",
    "| **`sample(population, k)`** | Return a k length list of unique elements chosen from the population sequence | \n",
    "| **`random()`** | Return the next random floating point number in the range [0.0, 1.0] | \n",
    "| **`uniform(a, b)`** | Return a random floating point number between a and b inclusive | \n",
    "| **`triangular(low, high, mode)`** | Return a random floating point number between low and high, with the specified mode between those bounds | \n",
    "| **`betavariate(alpha, beta)`** | Beta distribution | \n",
    "| **`expovariate(lambd)`** | Exponential distribution | \n",
    "| **`gammavariate(alpha, beta)`** | Gamma distribution | \n",
    "| **`gauss(mu, sigma)`** | Gaussian distribution | \n",
    "| **`lognormvariate(mu, sigma)`** | Log normal distribution | \n",
    "| **`normalvariate(mu, sigma)`** | Normal distribution | \n",
    "| **`vonmisesvariate(mu, kappa)`** | Vonmises distribution | \n",
    "| **`paretovariate(alpha)`** | Pareto distribution | \n",
    "| **`weibullvariate(alpha, beta)`** | Weibull distribution | "
   ]
  },
  {
   "cell_type": "markdown",
   "metadata": {},
   "source": [
    "Visit this page to learn more on **[how you can generate pseudo-random numbers in Python](https://docs.python.org/3/library/random.html)**."
   ]
  },
  {
   "cell_type": "code",
   "execution_count": null,
   "metadata": {},
   "outputs": [],
   "source": []
  }
 ],
 "metadata": {
  "hide_input": false,
  "kernelspec": {
   "display_name": "Python 3",
   "language": "python",
   "name": "python3"
  },
  "language_info": {
   "codemirror_mode": {
    "name": "ipython",
    "version": 3
   },
   "file_extension": ".py",
   "mimetype": "text/x-python",
   "name": "python",
   "nbconvert_exporter": "python",
   "pygments_lexer": "ipython3",
   "version": "3.8.8"
  },
  "toc": {
   "base_numbering": 1,
   "nav_menu": {},
   "number_sections": true,
   "sideBar": true,
   "skip_h1_title": false,
   "title_cell": "Table of Contents",
   "title_sidebar": "Contents",
   "toc_cell": false,
   "toc_position": {},
   "toc_section_display": true,
   "toc_window_display": false
  },
  "varInspector": {
   "cols": {
    "lenName": 16,
    "lenType": 16,
    "lenVar": 40
   },
   "kernels_config": {
    "python": {
     "delete_cmd_postfix": "",
     "delete_cmd_prefix": "del ",
     "library": "var_list.py",
     "varRefreshCmd": "print(var_dic_list())"
    },
    "r": {
     "delete_cmd_postfix": ") ",
     "delete_cmd_prefix": "rm(",
     "library": "var_list.r",
     "varRefreshCmd": "cat(var_dic_list()) "
    }
   },
   "types_to_exclude": [
    "module",
    "function",
    "builtin_function_or_method",
    "instance",
    "_Feature"
   ],
   "window_display": false
  }
 },
 "nbformat": 4,
 "nbformat_minor": 2
}
