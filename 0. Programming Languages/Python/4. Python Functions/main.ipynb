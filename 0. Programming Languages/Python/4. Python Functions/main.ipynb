{
 "cells": [
  {
   "cell_type": "markdown",
   "metadata": {},
   "source": [
    "<small><small><i>\n",
    "All the IPython Notebooks in this lecture series by Dr. Milan Parmar are available @ **[GitHub](https://github.com/milaan9/04_Python_Functions)**\n",
    "</i></small></small>"
   ]
  },
  {
   "cell_type": "code",
   "execution_count": 1,
   "metadata": {
    "ExecuteTime": {
     "end_time": "2021-06-14T07:57:27.980684Z",
     "start_time": "2021-06-14T07:57:27.756072Z"
    },
    "scrolled": true
   },
   "outputs": [
    {
     "name": "stdout",
     "output_type": "stream",
     "text": [
      "importing Jupyter notebook from test1.ipynb\n",
      "something here inside fun()\n"
     ]
    }
   ],
   "source": [
    "import import_ipynb\n",
    "\n",
    "import test1           # importing module test1.ipynb\n",
    "from test1 import fun  # importing function \"fun\" here\n",
    "fun()"
   ]
  },
  {
   "cell_type": "code",
   "execution_count": 2,
   "metadata": {
    "ExecuteTime": {
     "end_time": "2021-06-14T07:57:28.013888Z",
     "start_time": "2021-06-14T07:57:27.986541Z"
    }
   },
   "outputs": [
    {
     "name": "stdout",
     "output_type": "stream",
     "text": [
      "something here inside fun()\n"
     ]
    }
   ],
   "source": [
    "import test  # importing module test.py\n",
    "from test import fun  # importing function \"fun\" here\n",
    "fun()\n",
    "\n",
    "#x = test.fun()\n",
    "#print(\"x=\",x)"
   ]
  },
  {
   "cell_type": "code",
   "execution_count": 3,
   "metadata": {
    "ExecuteTime": {
     "end_time": "2021-06-14T07:57:28.103729Z",
     "start_time": "2021-06-14T07:57:28.019745Z"
    },
    "scrolled": true
   },
   "outputs": [
    {
     "name": "stdout",
     "output_type": "stream",
     "text": [
      "[1, 1, 2, 3, 5, 8, 13, 21, 34, 55, 89]\n"
     ]
    }
   ],
   "source": [
    "import fibo  # importing module fibo.py\n",
    "from fibo import fib\n",
    "print(fib(100))"
   ]
  },
  {
   "cell_type": "code",
   "execution_count": 4,
   "metadata": {
    "ExecuteTime": {
     "end_time": "2021-06-14T07:57:28.242404Z",
     "start_time": "2021-06-14T07:57:28.112516Z"
    },
    "scrolled": true
   },
   "outputs": [
    {
     "name": "stdout",
     "output_type": "stream",
     "text": [
      "importing Jupyter notebook from fibo1.ipynb\n",
      "[1, 1, 2, 3, 5, 8, 13, 21, 34, 55, 89]\n"
     ]
    }
   ],
   "source": [
    "import import_ipynb\n",
    "\n",
    "import fibo1  # importing module fibo1.ipynb\n",
    "from fibo1 import fib\n",
    "print(fib(100))"
   ]
  },
  {
   "cell_type": "code",
   "execution_count": 5,
   "metadata": {
    "ExecuteTime": {
     "end_time": "2021-06-14T07:57:28.318574Z",
     "start_time": "2021-06-14T07:57:28.246796Z"
    }
   },
   "outputs": [
    {
     "name": "stdout",
     "output_type": "stream",
     "text": [
      "True\n"
     ]
    }
   ],
   "source": [
    "from equal import *  # '*' means import all the functions in the file equal.py\n",
    "a, b = 10, 10\n",
    "print(equal(a, b))"
   ]
  },
  {
   "cell_type": "code",
   "execution_count": 6,
   "metadata": {
    "ExecuteTime": {
     "end_time": "2021-06-14T07:57:28.472870Z",
     "start_time": "2021-06-14T07:57:28.324433Z"
    }
   },
   "outputs": [
    {
     "name": "stdout",
     "output_type": "stream",
     "text": [
      "importing Jupyter notebook from equal1.ipynb\n",
      "True\n"
     ]
    }
   ],
   "source": [
    "import import_ipynb\n",
    "\n",
    "from equal1 import *  # '*' means import all the functions in the file equal.ipynb\n",
    "a, b = 10, 10\n",
    "print(equal(a, b))"
   ]
  },
  {
   "cell_type": "markdown",
   "metadata": {},
   "source": [
    "In Python, each and every built-in module has a large number of predefined functions to perform specific tasks. For instance, Python has a built-in module named **`operator`**, inside which the function called **`eq()`** is defined. This function returns the boolean value of **`True`** if the given two input values are equal. Else, returns **`False`**.\n",
    "\n",
    "So now, we can make use of this operator module in our **`main()`** program to check if two numbers are equal. This means we would no longer need that **`equal.py`** module."
   ]
  },
  {
   "cell_type": "code",
   "execution_count": 7,
   "metadata": {
    "ExecuteTime": {
     "end_time": "2021-06-14T07:57:28.566619Z",
     "start_time": "2021-06-14T07:57:28.479708Z"
    }
   },
   "outputs": [
    {
     "name": "stdout",
     "output_type": "stream",
     "text": [
      "True\n"
     ]
    }
   ],
   "source": [
    "#main function\n",
    "from operator import *\n",
    "a, b = 10, 10\n",
    "print(eq(a, b))"
   ]
  },
  {
   "cell_type": "code",
   "execution_count": 8,
   "metadata": {
    "ExecuteTime": {
     "end_time": "2021-06-14T07:57:58.729796Z",
     "start_time": "2021-06-14T07:57:28.573457Z"
    }
   },
   "outputs": [
    {
     "name": "stdout",
     "output_type": "stream",
     "text": [
      "Welcome to Dr Parmar's Python4DataScience class\n",
      "Welcome to Dr Parmar's Python4DataScience class\n",
      "Welcome to Dr Parmar's Python4DataScience class\n",
      "This is test file..\n"
     ]
    }
   ],
   "source": [
    "import time\n",
    "from importlib import reload\n",
    "\n",
    "# load 1st time\n",
    "import greet   # importing module greet.py\n",
    "time.sleep(15)\n",
    "# reload \n",
    "reload(greet)\n",
    "time.sleep(15) \n",
    "\n",
    " # reload again  \n",
    "reload(greet)\n",
    "print(\"This is test file..\")"
   ]
  },
  {
   "cell_type": "code",
   "execution_count": 9,
   "metadata": {
    "ExecuteTime": {
     "end_time": "2021-06-14T07:58:28.768946Z",
     "start_time": "2021-06-14T07:57:58.739562Z"
    }
   },
   "outputs": [
    {
     "name": "stdout",
     "output_type": "stream",
     "text": [
      "Welcome to Dr Parmar's Python4DataScience class\n",
      "Welcome to Dr Parmar's Python4DataScience class\n",
      "This is test file..\n"
     ]
    }
   ],
   "source": [
    "import import_ipynb\n",
    "import time\n",
    "from importlib import reload\n",
    "\n",
    "# load 1st time\n",
    "import greet   # importing module greet.ipynb\n",
    "time.sleep(15)\n",
    "# reload \n",
    "reload(greet)\n",
    "time.sleep(15) \n",
    "\n",
    " # reload again  \n",
    "reload(greet)\n",
    "print(\"This is test file..\")"
   ]
  },
  {
   "cell_type": "code",
   "execution_count": null,
   "metadata": {},
   "outputs": [],
   "source": []
  }
 ],
 "metadata": {
  "hide_input": false,
  "kernelspec": {
   "display_name": "Python 3",
   "language": "python",
   "name": "python3"
  },
  "language_info": {
   "codemirror_mode": {
    "name": "ipython",
    "version": 3
   },
   "file_extension": ".py",
   "mimetype": "text/x-python",
   "name": "python",
   "nbconvert_exporter": "python",
   "pygments_lexer": "ipython3",
   "version": "3.8.8"
  },
  "toc": {
   "base_numbering": 1,
   "nav_menu": {},
   "number_sections": true,
   "sideBar": true,
   "skip_h1_title": false,
   "title_cell": "Table of Contents",
   "title_sidebar": "Contents",
   "toc_cell": false,
   "toc_position": {},
   "toc_section_display": true,
   "toc_window_display": false
  },
  "varInspector": {
   "cols": {
    "lenName": 16,
    "lenType": 16,
    "lenVar": 40
   },
   "kernels_config": {
    "python": {
     "delete_cmd_postfix": "",
     "delete_cmd_prefix": "del ",
     "library": "var_list.py",
     "varRefreshCmd": "print(var_dic_list())"
    },
    "r": {
     "delete_cmd_postfix": ") ",
     "delete_cmd_prefix": "rm(",
     "library": "var_list.r",
     "varRefreshCmd": "cat(var_dic_list()) "
    }
   },
   "types_to_exclude": [
    "module",
    "function",
    "builtin_function_or_method",
    "instance",
    "_Feature"
   ],
   "window_display": false
  }
 },
 "nbformat": 4,
 "nbformat_minor": 4
}
