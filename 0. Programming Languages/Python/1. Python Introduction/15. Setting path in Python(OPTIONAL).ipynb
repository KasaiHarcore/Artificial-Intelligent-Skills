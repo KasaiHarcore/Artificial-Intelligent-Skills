{
 "cells": [
  {
   "cell_type": "markdown",
   "metadata": {},
   "source": [
    "# Setting path in Python\n",
    "\n",
    "> These document provide a relatively brief overview of how to set path in Python. \n",
    "\n",
    "If you’ve installed Python in Windows using the default installation options, the path to the Python executable wasn’t added to the Windows **Path variable**. The Path variable lists the directories that will be searched for executables when you type a command in the command prompt. By adding the path to the Python executable, you will be able to access **python.exe** by typing the **python keyword** (you won’t need to specify the full path to the program)."
   ]
  },
  {
   "cell_type": "markdown",
   "metadata": {},
   "source": [
    "`C:\\>python`\n",
    "\n",
    "> 'python' is not recognized as an internal or external command, operable program or batch file\n",
    "\n",
    "<div>\n",
    "<img src=\"img/p1.png\" width=\"900\"/>\n",
    "</div>\n",
    "\n",
    "As you can see from the output above, the command was not found. To run python.exe, you need to specify the full path to the executable:\n",
    "\n",
    "`C:\\>C:\\Python34\\python --version`\n",
    "\n",
    "> Python 3.4.3.\n",
    "\n",
    "<div>\n",
    "<img src=\"img/p2.png\" width=\"300\"/>\n",
    "</div>\n",
    "\n",
    "To add the path to the python.exe file to the Path variable, start the Run box and enter **sysdm.cpl**\n",
    "\n",
    "<div>\n",
    "<img src=\"img/p3.png\" width=\"400\"/>\n",
    "</div>\n",
    "\n",
    "This should open up the System Properties window. Go to the Advanced tab and click the Environment Variables button:\n",
    "\n",
    "<div>\n",
    "<img src=\"img/p1.png\" width=\"800\"/>\n",
    "</div>\n",
    "\n",
    "In the **System variable** window, find the **Path variable** and click Edit:\n",
    "\n",
    "<div>\n",
    "<img src=\"img/p5.png\" width=\"400\"/>\n",
    "</div>\n",
    "\n",
    "Position your cursor at the end of the Variable value line and add the path to the python.exe file, preceeded with the semicolon character (;). In our example, we have added the following value: **C:\\Python34**\n",
    "\n",
    "<div>\n",
    "<img src=\"img/p6.png\" width=\"400\"/>\n",
    "</div>\n",
    "\n",
    "Close all windows. Now you can run python.exe without specifying the full path to the file:\n",
    "\n",
    ">**Note:** If you get the ‘python’ is not recognized as an internal or external command, operable program or batch file. error, there is something wrong with your Path variable. Note also that you will have to reopen all command prompt windows in order for changes to the Path variable take effect."
   ]
  }
 ],
 "metadata": {
  "hide_input": false,
  "kernelspec": {
   "display_name": "Python 3 (ipykernel)",
   "language": "python",
   "name": "python3"
  },
  "language_info": {
   "codemirror_mode": {
    "name": "ipython",
    "version": 3
   },
   "file_extension": ".py",
   "mimetype": "text/x-python",
   "name": "python",
   "nbconvert_exporter": "python",
   "pygments_lexer": "ipython3",
   "version": "3.8.8"
  },
  "toc": {
   "base_numbering": 1,
   "nav_menu": {},
   "number_sections": true,
   "sideBar": true,
   "skip_h1_title": false,
   "title_cell": "Table of Contents",
   "title_sidebar": "Contents",
   "toc_cell": false,
   "toc_position": {},
   "toc_section_display": true,
   "toc_window_display": false
  },
  "varInspector": {
   "cols": {
    "lenName": 16,
    "lenType": 16,
    "lenVar": 40
   },
   "kernels_config": {
    "python": {
     "delete_cmd_postfix": "",
     "delete_cmd_prefix": "del ",
     "library": "var_list.py",
     "varRefreshCmd": "print(var_dic_list())"
    },
    "r": {
     "delete_cmd_postfix": ") ",
     "delete_cmd_prefix": "rm(",
     "library": "var_list.r",
     "varRefreshCmd": "cat(var_dic_list()) "
    }
   },
   "types_to_exclude": [
    "module",
    "function",
    "builtin_function_or_method",
    "instance",
    "_Feature"
   ],
   "window_display": false
  }
 },
 "nbformat": 4,
 "nbformat_minor": 2
}
