{
 "cells": [
  {
   "cell_type": "markdown",
   "metadata": {},
   "source": [
    "# Python Programming\n",
    "\n",
    "Python is a powerful multipurpose programming language created by *Guido van Rossum*.\n",
    "\n",
    "It has a simple and easy-to-use syntax, making it a popular first-choice programming language for beginners.\n",
    "\n",
    "This is a comprehensive guide that explores the reasons you should consider learning Python and the ways you can get started with Python."
   ]
  },
  {
   "cell_type": "markdown",
   "metadata": {},
   "source": [
    "## What is Python Programming Language?\n",
    "\n",
    "Python is an interpreted, object-oriented, high-level programming language. As it is general-purpose, it has a wide range of applications from web development, building desktop GUI to scientific and mathematical computing.\n",
    "\n",
    "Python is popular for its simple and relatively straightforward syntax. Its syntax readability increases productivity as it allows us to focus more on the problem rather than structuring the code."
   ]
  },
  {
   "cell_type": "markdown",
   "metadata": {},
   "source": [
    "## Features of Python Programming"
   ]
  },
  {
   "cell_type": "markdown",
   "metadata": {},
   "source": [
    "### Simple and easy to learn\n",
    "Python has a very simple and elegant syntax. It is much easier to read and write programs in Python compared to other languages like C, C++, or Java.\n",
    "\n",
    "Due to this reason, many beginners are introduced to programming with Python as their first programming language.\n",
    "\n",
    "### Free and open-source\n",
    "You can freely use and distribute Python programs even for commercial use. As it is open-source, you can even change Python's source code to fit your use case.\n",
    "\n",
    "### Portability\n",
    "A single Python program can run on different platforms without any change in source code. It runs on almost all platforms including Windows, Mac OS X, and Linux.\n",
    "\n",
    "### Extensible and Embeddable\n",
    "You can combine Python code with other programming languages like C or Java to increase efficiency. This allows high performance and scripting capabilities that other languages do not provide out of the box.\n",
    "\n",
    "### High-Level Interpreted Language\n",
    "Python itself handles tasks like memory management and garbage collection. So unlike C or C++, you don't have to worry about system architecture or any other lower-level operations.\n",
    "\n",
    "### Rich library and large community\n",
    "Python has numerous reliable built-in libraries. Python programmers have developed tons of free and open-source libraries, so you don't have to code everything by yourself.\n",
    "\n",
    "The Python community is very large and evergrowing. If you encounter errors while programming in Python, it's like that it has already been asked and solved by someone in this community."
   ]
  },
  {
   "cell_type": "markdown",
   "metadata": {},
   "source": [
    "## Reasons to Choose Python as First Language"
   ]
  },
  {
   "cell_type": "markdown",
   "metadata": {},
   "source": [
    "### 1. Simple Elegant Syntax\n",
    "\n",
    "Programming in Python is fun. It's easier to understand and write Python code. The syntax feels natural. Let's take the following example where we add two numbers:\n",
    "\n",
    "```python\n",
    "a = 2\n",
    "b = 3\n",
    "sum = a + b\n",
    "print(sum)\n",
    "```\n",
    "\n",
    "Even if you have never programmed before, you can easily guess that this program adds two numbers and displays it."
   ]
  },
  {
   "cell_type": "markdown",
   "metadata": {},
   "source": [
    "### 2. Not overly strict\n",
    "\n",
    "You don't need to define the type of a variable in Python. Also, it's not necessary to add a semicolon at the end of the statement.\n",
    "\n",
    "Python enforces you to follow good practices (like proper indentation). These small things can make learning much easier for beginners."
   ]
  },
  {
   "cell_type": "markdown",
   "metadata": {},
   "source": [
    "### 3. The expressiveness of the language\n",
    "\n",
    "Python allows you to write programs having greater functionality with fewer lines of code. Let's look at code to swap the values of two variables. It can be done in Python with the following lines of code:\n",
    "\n",
    "```python\n",
    "a = 15\n",
    "b = 27\n",
    "print(f'Before swapping: a, b = {a},{b}')\n",
    "a, b = b, a\n",
    "print(f'After swapping: a, b = {a},{b}')\n",
    "```\n",
    "\n",
    "Here, we can see that the code is very less and more readable.\n",
    "\n",
    "If instead, we were to use Java, the same program would have to be written in the following way:\n",
    "\n",
    "```python\n",
    "public class Swap {\n",
    " public static void main(String[] args) {\n",
    "   int a, b, temp;\n",
    "   a = 15;\n",
    "   b = 27;\n",
    "   System.out.println(\"Before swapping : a, b = \"+a+\", \"+ + b);\n",
    "   temp = a;\n",
    "   a = b;\n",
    "   b = temp;   \n",
    "   System.out.println(\"After swapping : a, b = \"+a+\", \"+ + b);\n",
    " }\n",
    " }\n",
    "```\n",
    "\n",
    "This is just an example. There are many more such cases where Python increases efficiency by reducing the amount of code required to program something."
   ]
  },
  {
   "cell_type": "markdown",
   "metadata": {},
   "source": [
    "## Python Applications Area\n",
    "\n",
    "Python is known for its **general purpose** nature that makes it applicable in almost each domain of software development. Python as a whole can be used in any sphere of development. \n",
    "\n",
    "\n",
    "Here, we are **specifing applications** areas where python can be applied.\n",
    "\n",
    "1. **Web Applications**\n",
    "    - We can use Python to develop web applications. It provides libraries to handle internet protocols such as HTML and XML, JSON, Email processing, request, beautifulSoup, Feedparser etc. It also provides Frameworks such as Django, Pyramid, Flask etc to design and delelop web based applications. Some important developments are: PythonWikiEngines, Pocoo, PythonBlogSoftware etc.\n",
    "\n",
    "2. **AI & Machine Learning** \n",
    "    - Python has Prebuilt Libraries like Numpy for scientific computation, Scipy for advanced computing and Pybrain for machine learning (Python Machine Learning) making it one of the best languages For AI.\n",
    "\n",
    "3. **Desktop GUI Applications**\n",
    "    - Python provides Tk GUI library to develop user interface in python based application. Some other useful toolkits wxWidgets, Kivy, pyqt that are useable on several platforms. The Kivy is popular for writing multitouch applications.\n",
    "\n",
    "4. **Software Development** \n",
    "    - Python is helpful for software development process. It works as a support language and can be used for build control and management, testing etc.\n",
    "\n",
    "5. **Scientific and Numeric** \n",
    "    - Python is popular and widely used in scientific and numeric computing. Some useful library and package are SciPy, Pandas, IPython etc. SciPy is group of packages of engineering, science and mathematics.\n",
    "\n",
    "6. **Business Applications** \n",
    "    - Python is used to build Bussiness applications like ERP and e-commerce systems. Tryton is a high level application platform.\n",
    "\n",
    "7. **Console Based Application** \n",
    "    - We can use Python to develop console based applications. For example: IPython.\n",
    "\n",
    "8. **Audio or Video based Applications** \n",
    "    - Python is awesome to perform multiple tasks and can be used to develop multimedia applications. Some of real applications are: TimPlayer, cplay etc.\n",
    "\n",
    "9. **3D CAD Applications** \n",
    "    - To create CAD application Fandango is a real application which provides full features of CAD.\n",
    "\n",
    "10. **Enterprise Applications** \n",
    "    - Python can be used to create applications which can be used within an Enterprise or an Organization. Some real time applications are: OpenErp, Tryton, Picalo etc.\n",
    "\n",
    "11. **Applications for Images** \n",
    "    - Using Python several application can be developed for image. Applications developed are: VPython, Gogh, imgSeek etc.\n",
    "\n",
    "12. **Games and 3D Graphics** \n",
    "    - PyGame, PyKyra are two frameworks for game-development with Python. Apart from these, we also get a variety of 3D-rendering libraries. If you’re one of those game-developers, you can check out PyWeek, a semi-annual game programming contest."
   ]
  },
  {
   "cell_type": "markdown",
   "metadata": {},
   "source": [
    "### 4. Great Community and Support\n",
    "\n",
    "Python has a large supporting community. There are numerous active online forums which can come in handy if you are stuck anywhere in the learning process. Some of them are:\n",
    "\n",
    "* **[Learn Python subreddit](https://www.reddit.com/r/learnpython)**\n",
    "* **[Google Forum for Python](https://groups.google.com/forum/#!forum/comp.lang.python)**\n",
    "* **[Python Questions - Stack Overflow](https://stackoverflow.com/questions/tagged/python)**"
   ]
  },
  {
   "cell_type": "markdown",
   "metadata": {},
   "source": [
    "## How you can learn to code in Python?"
   ]
  },
  {
   "cell_type": "markdown",
   "metadata": {},
   "source": [
    "### Learn Python from Dr. Milaan Parmar\n",
    "\n",
    "Programiz offers dozens of tutorials and examples to help you learn Python programming from scratch. Each tutorial is written in-depth with examples and detailed explanations.\n",
    "\n",
    "### Learn Python from Books\n",
    "\n",
    "It is always a good idea to learn to program from books. You will get the big picture of programming concepts in the book which you may not find elsewhere.\n",
    "\n",
    "Here are 3 books we personally recommend.\n",
    "\n",
    "* **[Think Python: How to Think Like a Computer Scientist](http://amzn.to/2dVg5rG)** - a hands-on guide to start learning Python with lots of exercise materials\n",
    "* **[Starting out With Python](http://amzn.to/2diJu8Z)** - introductory programming book for students with limited programming experience\n",
    "* **[Effective Python: 59 Specific Ways to Write Better Python](http://amzn.to/2e2EiJt)** - an excellent book for learning to write robust, efficient and maintainable code in Python\n"
   ]
  },
  {
   "cell_type": "markdown",
   "metadata": {},
   "source": [
    "## Final Words\n",
    "\n",
    "I personally think Python is a terrific language to learn.\n",
    "\n",
    "If you are getting started in programming, Python is an awesome choice. You will be amazed by how much you can do in Python once you know the basics.\n",
    "\n",
    "It is easy to overlook the fact that Python is a powerful language. Not only is Python good for learning programming, but it is also a good language to have in your arsenal.\n",
    "\n",
    "Python can help you to get started in everything, whether it is changing your idea into a prototype, creating a game, or getting in Machine Learning and Artificial Intelligence."
   ]
  }
 ],
 "metadata": {
  "hide_input": false,
  "kernelspec": {
   "display_name": "Python 3 (ipykernel)",
   "language": "python",
   "name": "python3"
  },
  "language_info": {
   "codemirror_mode": {
    "name": "ipython",
    "version": 3
   },
   "file_extension": ".py",
   "mimetype": "text/x-python",
   "name": "python",
   "nbconvert_exporter": "python",
   "pygments_lexer": "ipython3",
   "version": "3.10.9"
  },
  "toc": {
   "base_numbering": 1,
   "nav_menu": {},
   "number_sections": true,
   "sideBar": true,
   "skip_h1_title": false,
   "title_cell": "Table of Contents",
   "title_sidebar": "Contents",
   "toc_cell": false,
   "toc_position": {},
   "toc_section_display": true,
   "toc_window_display": false
  },
  "varInspector": {
   "cols": {
    "lenName": 16,
    "lenType": 16,
    "lenVar": 40
   },
   "kernels_config": {
    "python": {
     "delete_cmd_postfix": "",
     "delete_cmd_prefix": "del ",
     "library": "var_list.py",
     "varRefreshCmd": "print(var_dic_list())"
    },
    "r": {
     "delete_cmd_postfix": ") ",
     "delete_cmd_prefix": "rm(",
     "library": "var_list.r",
     "varRefreshCmd": "cat(var_dic_list()) "
    }
   },
   "types_to_exclude": [
    "module",
    "function",
    "builtin_function_or_method",
    "instance",
    "_Feature"
   ],
   "window_display": false
  }
 },
 "nbformat": 4,
 "nbformat_minor": 2
}
