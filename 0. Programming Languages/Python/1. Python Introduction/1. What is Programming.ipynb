{
 "cells": [
  {
   "cell_type": "markdown",
   "metadata": {},
   "source": [
    "# What is programming?\n",
    "\n",
    "Feel free to **[skip this part](#howto)** if you already know everything it's talking about.\n",
    "\n",
    "As a computer user you know that computers don't have feelings. They don't work any faster or slower depending on if we're angry at them or if we're happy. Computers can perform millions of calculations per second, but they require us to tell them exactly what to do. If they do something else than we want them to do the problem is usually that they don't understand our instructions the way we understand them.\n",
    "\n",
    "The only big difference between programming and what you're familiar with already is that instead of clicking buttons to do things we write the instructions using a **programming language**. Most programming languages consist of English words, digits and some characters that have special meanings.\n",
    "\n",
    "Unlike people often think, programming is usually not complicated. Large programs are always made of small, simple pieces, and those pieces are written one by one. Programming languages are made to be used by humans, so if there's an easy way to do something and a difficult way to do something, you should use the easier way."
   ]
  },
  {
   "cell_type": "markdown",
   "metadata": {},
   "source": [
    "## What do I need?\n",
    "\n",
    "First of all, you don't need to be good at math. Some programmers are good at math, some are not. Programming and math are two separate things and being good or bad at one doesn't mean you are automatically good or bad at the other.\n",
    "\n",
    "You also don't need a powerful computer. I could do almost all of my programming on a 12-year-old computer if I needed to. Fast computers are nice to work with, but you don't need them.\n",
    "\n",
    "Programming takes time like all hobbies do. Some people learn it quickly, and some people don't. I don't expect you to read this tutorial in a couple hours and then master everything it's talking about. Take your time with things, and remember that I learned to program slowly."
   ]
  },
  {
   "cell_type": "markdown",
   "metadata": {},
   "source": [
    "## Getting started\n",
    "\n",
    "This tutorial uses a programming language called Python because it's easy to learn and we can do many different things with it. For example, we can create our own applications that have buttons that people can click instead of just using applications written by others.\n",
    "\n",
    "In this tutorial we need to know how to type these characters. We'll learn their meanings later.\n",
    "\n",
    "| Character | Names |\n",
    "|:---: |:--- |\n",
    "| **`+`** | **plus** |\n",
    "| **`-`** | **minus, dash** |\n",
    "| **`_`** | **underscore** |\n",
    "| **`*`** | **star, asterisk** |\n",
    "| **`/`** | **forwardslash (it's leaning forward)** |\n",
    "| **`\\`** | **backslash (it's leaning back)** |\n",
    "| **`=`** | **equals sign** |\n",
    "| **`%`** | **percent sign** |\n",
    "| **`.`** | **dot** |\n",
    "| **`,`** | **comma** |\n",
    "| **`:`** | **colon** |\n",
    "| **`;`** | **semi-colon** |\n",
    "| **`?`** | **question mark** |\n",
    "| **`!`** | **exclamation mark** |\n",
    "| **`< >`** | **less-than and greater-than signs** |\n",
    "| **`' \"`** | **single quote and double quote** |\n",
    "| **`#`** | **hashtag** |\n",
    "| **`()`** | **parentheses** |\n",
    "| **`[]`** | **square brackets, brackets** |\n",
    "| **`{}`** | **curly braces, braces, curly brackets** |\n",
    "\n",
    "That may seem like many characters, but you probably know many of them already so it shouldn't be a problem."
   ]
  },
  {
   "cell_type": "markdown",
   "metadata": {},
   "source": [
    "<a id=\"howto\"></a>\n",
    "## How to read this tutorial \n",
    "\n",
    "I've done my best to make this tutorial as easy to follow as possible. Other people have commented on this and helped me improve this a lot also. But what should you do if you have a problem with the tutorial?\n",
    "\n",
    "1. Try the example code yourself.\n",
    "2. Read the code and the explanation for it again.\n",
    "3. If there's something you haven't seen before in the tutorial and it's not explained, try to find it in the previous chapters.\n",
    "4. If you can't find what you're looking for or you still have trouble understanding the tutorial or any other problems with the tutorial, please tell me about it by **[Create an issue on GitHub](https://github.com/milaan9/01_Python_Introduction/issues/new)**. I want to improve this tutorial so other readers won't have the same problem as you have.\n",
    "\n",
    "You are free to combine this tutorial with other learning resources. If this tutorial isn't exactly what you're looking for you don't need to stick with nothing but this. You can find another tutorial and mix the tutorials however you want as long as you **make sure that you understand everything you read**.\n",
    "\n",
    "One of the most important things with learning to program is to not fear mistakes. If you make a mistake, your computer will not break in any way. You'll get an error message that tells you what's wrong and where. Even professional programmers do mistakes and get error messages all the time, and there's nothing wrong with it.\n",
    "\n",
    "If you want to know what some piece of code in this tutorial does just **try it and see**. It's practically impossible to break anything accidentally with the things you will learn by reading this tutorial, so you are free to try out all the examples however you want and change them to do whatever you want.\n",
    "\n",
    "Even though a good tutorial is an important part about learning to program, you also need to learn to make your own things. Use what you have learned, and create something with it."
   ]
  },
  {
   "cell_type": "markdown",
   "metadata": {},
   "source": [
    "## But reading is boring!\n",
    "\n",
    "This chapter is probably the most boring chapter in the whole tutorial. Other chapters contain much less text and much more code. You can also get pretty far by just reading the code, and then reading the text only if you don't understand the code."
   ]
  },
  {
   "cell_type": "markdown",
   "metadata": {},
   "source": [
    "## Summary\n",
    "\n",
    "* Now you should know what programming and programming languages are.\n",
    "* You don't need to be good at math and you don't need a new computer.\n",
    "* Complicated programs consist of simple pieces.\n",
    "* You don't need to remember how to type different characters. Just find the character on your * keyboard and press the key, holding down shift or AltGr as needed.\n",
    "* Make sure you understand everything you read.\n",
    "* Experiment with things freely and don't fear mistakes.\n",
    "* Error messages are our friends.\n",
    "* Let me know if you have trouble with this tutorial.\n",
    "* Now we're ready to **[install Python](https://github.com/milaan9/01_Python_Introduction/blob/main/002_How_to_install_Python.ipynb)** and **[get started](https://github.com/milaan9/01_Python_Introduction/blob/main/003_Jupyter_Keyboard_Shortcuts_Practice.ipynb)** and continue with next file in the list.!"
   ]
  },
  {
   "cell_type": "code",
   "execution_count": null,
   "metadata": {},
   "outputs": [],
   "source": []
  }
 ],
 "metadata": {
  "hide_input": false,
  "kernelspec": {
   "display_name": "Python 3 (ipykernel)",
   "language": "python",
   "name": "python3"
  },
  "language_info": {
   "codemirror_mode": {
    "name": "ipython",
    "version": 3
   },
   "file_extension": ".py",
   "mimetype": "text/x-python",
   "name": "python",
   "nbconvert_exporter": "python",
   "pygments_lexer": "ipython3",
   "version": "3.10.9"
  },
  "toc": {
   "base_numbering": 1,
   "nav_menu": {},
   "number_sections": true,
   "sideBar": true,
   "skip_h1_title": false,
   "title_cell": "Table of Contents",
   "title_sidebar": "Contents",
   "toc_cell": false,
   "toc_position": {},
   "toc_section_display": true,
   "toc_window_display": false
  },
  "varInspector": {
   "cols": {
    "lenName": 16,
    "lenType": 16,
    "lenVar": 40
   },
   "kernels_config": {
    "python": {
     "delete_cmd_postfix": "",
     "delete_cmd_prefix": "del ",
     "library": "var_list.py",
     "varRefreshCmd": "print(var_dic_list())"
    },
    "r": {
     "delete_cmd_postfix": ") ",
     "delete_cmd_prefix": "rm(",
     "library": "var_list.r",
     "varRefreshCmd": "cat(var_dic_list()) "
    }
   },
   "types_to_exclude": [
    "module",
    "function",
    "builtin_function_or_method",
    "instance",
    "_Feature"
   ],
   "window_display": false
  }
 },
 "nbformat": 4,
 "nbformat_minor": 2
}
