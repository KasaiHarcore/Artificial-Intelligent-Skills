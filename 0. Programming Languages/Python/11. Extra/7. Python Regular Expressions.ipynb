{
 "cells": [
  {
   "cell_type": "markdown",
   "metadata": {},
   "source": [
    "# Regular Expression\n",
    "\n",
    "While programming, we often need to search if a string contains a substring or not. For example, we may need to search if a string contains a valid email address or not. Regular expressions are very useful in this case. Regular expressions are a generalized way to match patterns with sequences of characters. Regular expressions are also called regex or regexp.\n",
    "\n",
    "The topic of regular expressions is huge. In this article, we will learn the basics of regular expressions. We will learn how to use regular expressions in Python."
   ]
  },
  {
   "cell_type": "markdown",
   "metadata": {},
   "source": [
    "## Identifier\n",
    "\n",
    "So I'll give you a very basic syntax below:"
   ]
  },
  {
   "cell_type": "markdown",
   "metadata": {},
   "source": [
    "<table>\n",
    "    <tr>\n",
    "     <td><strong>Identifier</strong>\n",
    "     </td>\n",
    "     <td><strong>Meaning</strong>\n",
    "     </td>\n",
    "    </tr>\n",
    "    <tr>\n",
    "     <td><strong>\\d</strong>\n",
    "     </td>\n",
    "     <td>Matches any decimal digit, this is equivalent to the set class [0-9].\n",
    "     </td>\n",
    "    </tr>\n",
    "    <tr>\n",
    "     <td><strong>\\D</strong>\n",
    "     </td>\n",
    "     <td>Matches any non-digit character.\n",
    "     </td>\n",
    "    </tr>\n",
    "    <tr>\n",
    "     <td><strong>\\s</strong>\n",
    "     </td>\n",
    "     <td>Matches any whitespace character.\n",
    "     </td>\n",
    "    </tr>\n",
    "    <tr>\n",
    "     <td><strong>\\S</strong>\n",
    "     </td>\n",
    "     <td>Matches any non-whitespace character.\n",
    "     </td>\n",
    "    </tr>\n",
    "    <tr>\n",
    "     <td><strong>\\w</strong>\n",
    "     </td>\n",
    "     <td>Matches any alphanumeric character, this is equivalent to the class [a-zA-Z0-9_].\n",
    "     </td>\n",
    "    </tr>\n",
    "    <tr>\n",
    "     <td><strong>\\W</strong>\n",
    "     </td>\n",
    "     <td>Matches any non-alphanumeric character.\n",
    "     </td>\n",
    "    </tr>\n",
    "    </tr>\n",
    "        <td><strong>.<strong>\n",
    "        </td>\n",
    "        <td>Matches any character except newline\n",
    "        </td>\n",
    "    </tr>\n",
    "    <tr>\n",
    "        <td><strong>\\b<strong>\n",
    "        </td>\n",
    "        <td>Matches word boundary(white space)\n",
    "        </td>\n",
    "    </tr>\n",
    "    <tr>\n",
    "        <td><strong>\\.<strong>\n",
    "        </td>\n",
    "        <td>Just a dot\n",
    "        </td>\n",
    "    </tr>\n",
    "</table>\n"
   ]
  },
  {
   "cell_type": "markdown",
   "metadata": {},
   "source": [
    "## Modifier\n",
    "\n",
    "This one extend the regular expression syntax. Modifier makes the search case-insensitive."
   ]
  },
  {
   "cell_type": "markdown",
   "metadata": {},
   "source": [
    "<table>\n",
    "    <tr>\n",
    "        <td><strong>Modifier</strong>\n",
    "        </td>\n",
    "        <td><strong>Meaning</strong>\n",
    "        </td>\n",
    "    </tr>\n",
    "    <tr>\n",
    "        <td><strong>^</strong>\n",
    "        </td>\n",
    "        <td>Matches the beginning of the line.\n",
    "        </td>\n",
    "    </tr>\n",
    "    <tr>\n",
    "        <td><strong>$</strong>\n",
    "        </td>\n",
    "        <td>Matches the end of the line.\n",
    "        </td>\n",
    "    </tr>\n",
    "    <tr>\n",
    "        <td><strong>*</strong>\n",
    "        </td>\n",
    "        <td>Everything it can get\n",
    "        </td>\n",
    "    </tr>\n",
    "    <tr>\n",
    "        <td><strong>?</strong>\n",
    "        </td>\n",
    "        <td>None or one\n",
    "        </td>\n",
    "    </tr>\n",
    "    <tr>\n",
    "        <td><strong>+</strong>\n",
    "        </td>\n",
    "        <td>One or more\n",
    "        </td>\n",
    "    </tr>\n",
    "    <tr>\n",
    "        <td><strong>{}</strong>\n",
    "        </td>\n",
    "        <td>Range\n",
    "        </td>\n",
    "    </tr>\n",
    "    <tr>\n",
    "        <td><strong>|</strong>\n",
    "        </td>\n",
    "        <td>Or\n",
    "        </td>\n",
    "    </tr>\n",
    "    <tr>\n",
    "        <td><strong>[]</strong>\n",
    "        </td>\n",
    "        <td>Set of characters\n",
    "        </td>\n",
    "    </tr>\n",
    "    <tr>\n",
    "        <td><strong>()</strong>\n",
    "        </td>\n",
    "        <td>Group\n",
    "        </td>\n",
    "    </tr>\n",
    "</table>"
   ]
  },
  {
   "cell_type": "markdown",
   "metadata": {},
   "source": [
    "## Escape Characters"
   ]
  },
  {
   "cell_type": "markdown",
   "metadata": {},
   "source": [
    "<table>\n",
    "    <tr>\n",
    "        <td><strong>Character</strong>\n",
    "        </td>\n",
    "        <td><strong>Meaning</strong>\n",
    "        </td>\n",
    "    <tr>\n",
    "        <td><strong>\\n</strong>\n",
    "        </td>\n",
    "        <td>Newline\n",
    "        </td>\n",
    "    </tr>\n",
    "    <tr>\n",
    "        <td><strong>\\t</strong>\n",
    "        </td>\n",
    "        <td>Tab\n",
    "        </td>\n",
    "    </tr>\n",
    "    <tr>\n",
    "        <td><strong>\\r</strong>\n",
    "        </td>\n",
    "        <td>Carriage return\n",
    "        </td>\n",
    "    </tr>\n",
    "    <tr>\n",
    "        <td><strong>\\f</strong>\n",
    "        </td>\n",
    "        <td>Form feed\n",
    "        </td>\n",
    "    </tr>\n",
    "    <tr>\n",
    "        <td><strong>\\v</strong>\n",
    "        </td>\n",
    "        <td>Vertical tab\n",
    "        </td>\n",
    "    </tr>\n",
    "    <tr>\n",
    "        <td><strong>\\ooo</strong>\n",
    "        </td>\n",
    "        <td>Octal value\n",
    "        </td>\n",
    "    </tr>\n",
    "    <tr>\n",
    "        <td><strong>\\xhh</strong>\n",
    "        </td>\n",
    "        <td>Hex value\n",
    "        </td>\n",
    "    </tr>\n",
    "    <tr>\n",
    "        <td><strong>\\s</strong>\n",
    "        </td>\n",
    "        <td>White space\n",
    "        </td>\n",
    "    </tr>\n",
    "</table>"
   ]
  },
  {
   "cell_type": "markdown",
   "metadata": {},
   "source": [
    "## Applying Regular Expression in Python"
   ]
  },
  {
   "cell_type": "markdown",
   "metadata": {},
   "source": [
    "### Finding a string\n",
    "\n",
    "In order to apply these *re* in Python, we need to import the module"
   ]
  },
  {
   "cell_type": "code",
   "execution_count": 29,
   "metadata": {},
   "outputs": [],
   "source": [
    "import re\n",
    "\n",
    "text = \"The agent's phone number is 408-555-1234, names John\""
   ]
  },
  {
   "cell_type": "markdown",
   "metadata": {},
   "source": [
    "Imagine that we want to fine the agent name in the example above. We can use the following code:"
   ]
  },
  {
   "cell_type": "code",
   "execution_count": 45,
   "metadata": {},
   "outputs": [
    {
     "name": "stdout",
     "output_type": "stream",
     "text": [
      "['John']\n"
     ]
    }
   ],
   "source": [
    "name = re.findall(r'names (\\w+)', text)\n",
    "print(name)"
   ]
  },
  {
   "cell_type": "markdown",
   "metadata": {},
   "source": [
    "As you can see, we use the *re.findall()* function to find all the matches. The first argument is the pattern we want to find, and the second argument is the string we want to search.\n",
    "\n",
    "At the beginning, we using an *r* character before we write the expression to tell the program that this is a regular expression."
   ]
  },
  {
   "cell_type": "markdown",
   "metadata": {},
   "source": [
    "## Matching Strings\n",
    "\n",
    "What we can also do is to check if a string matches a certain regular\n",
    "expression"
   ]
  },
  {
   "cell_type": "code",
   "execution_count": 47,
   "metadata": {},
   "outputs": [
    {
     "name": "stdout",
     "output_type": "stream",
     "text": [
      "Valid email\n"
     ]
    }
   ],
   "source": [
    "text = \"bestmail@hotmail.com\"\n",
    "\n",
    "result = re.fullmatch( r\"^[a-zA-Z0-9.!#$%&'*+/=? ^_`{|}~-]+@[a-zA-Z0-9](?:[a-zA-Z0-9-]{0,61}[a-zA-Z0-9])?(?:\\.[a-zA-Z0-9](?:[a-zA-Z0-9-]{0,61}[a-zA-Z0-9])?)*$\" ,\n",
    "text)\n",
    "\n",
    "if result:\n",
    "    print(\"Valid email\")\n",
    "else:\n",
    "    print(\"Invalid email\")"
   ]
  },
  {
   "cell_type": "markdown",
   "metadata": {},
   "source": [
    "We're not going to describe the code above, because it's very complicated. But what we see here is a new function called *re.fullmatch()*. This function returns the checked string if it matches the regular expression (A boolean type in this code)."
   ]
  },
  {
   "cell_type": "markdown",
   "metadata": {},
   "source": [
    "## Manipulating Strings\n",
    "\n",
    "Finally, we're going to take a look at how we can manipulate strings using regular expressions. We're going to use the *re.sub()* function for this."
   ]
  },
  {
   "cell_type": "code",
   "execution_count": 55,
   "metadata": {},
   "outputs": [
    {
     "name": "stdout",
     "output_type": "stream",
     "text": [
      "The agent's phone number is 408-555-1234, names John\n"
     ]
    }
   ],
   "source": [
    "text = \"The agent's phone number is 408-555-1234, names John\"\n",
    "print(text)"
   ]
  },
  {
   "cell_type": "markdown",
   "metadata": {},
   "source": [
    "We'll try to replace the word \"agent\" with the word \"special agent\". We can do this with the following code:"
   ]
  },
  {
   "cell_type": "code",
   "execution_count": 56,
   "metadata": {},
   "outputs": [
    {
     "name": "stdout",
     "output_type": "stream",
     "text": [
      "The secret agent's phone number is 408-555-1234, names John\n"
     ]
    }
   ],
   "source": [
    "# Replace the word 'agent'\n",
    "\n",
    "text = re.sub(r\"agent's\", \"secret agent's\", text)\n",
    "\n",
    "print(text)"
   ]
  },
  {
   "cell_type": "markdown",
   "metadata": {},
   "source": [
    "In this example, we replace the \"agent\"\" with \"special agent\". The first argument is the pattern we want to find, the second argument is the string we want to replace, and the third argument is the string we want to search."
   ]
  }
 ],
 "metadata": {
  "kernelspec": {
   "display_name": "Python 3",
   "language": "python",
   "name": "python3"
  },
  "language_info": {
   "codemirror_mode": {
    "name": "ipython",
    "version": 3
   },
   "file_extension": ".py",
   "mimetype": "text/x-python",
   "name": "python",
   "nbconvert_exporter": "python",
   "pygments_lexer": "ipython3",
   "version": "3.11.6"
  },
  "orig_nbformat": 4
 },
 "nbformat": 4,
 "nbformat_minor": 2
}
