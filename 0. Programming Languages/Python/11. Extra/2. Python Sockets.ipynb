{
 "cells": [
  {
   "cell_type": "markdown",
   "metadata": {},
   "source": [
    "# Sockets"
   ]
  },
  {
   "cell_type": "markdown",
   "metadata": {},
   "source": [
    "## What is a socket?"
   ]
  },
  {
   "cell_type": "markdown",
   "metadata": {},
   "source": [
    "Whenever we talk about networking in programming, we also have to talk about sockets. They're the endpoints of the communication channels or basically, the endpoints that talk to each other. The communication may happen in the same process or even across different continents over the internet.\n",
    "\n",
    "What's important is that in Python we have different access levels for the\n",
    "network services. At the lower layers, we can access the simple sockets that\n",
    "allow us to use the connection-oriented and connection-less protocols like\n",
    "TCP or UDP, whereas other Python modules like FTP or HTTP are working\n",
    "on a higher layer – the application layer."
   ]
  },
  {
   "cell_type": "markdown",
   "metadata": {},
   "source": [
    "## Creating sockets"
   ]
  },
  {
   "cell_type": "markdown",
   "metadata": {},
   "source": [
    "In Python, we can create sockets by using the socket module. Let's see how we can create a socket\n",
    "\n",
    "```python\n",
    "import socket\n",
    "```"
   ]
  },
  {
   "cell_type": "markdown",
   "metadata": {},
   "source": [
    "Before jumping into the code, we need to know a couple of thing in advance:\n",
    "- Are we using an internet socket or a Unix domain socket?\n",
    "- Which protocol are we going to use?\n",
    "- Which IP-address and port are we going to use?\n",
    "- Which port are we going to use?\n",
    "\n",
    "The first question can be answered by looking at the address family. If we want to use an internet socket, we have to use the AF_INET address family. If we want to use a Unix domain socket, we have to use the AF_UNIX address family.\n",
    "\n",
    "The second question is a bit trickier. We have 2 options here: TCP or UDP. **TCP(Transmission Control Protocol)** is a connection-oriented protocol and more trustworthy than UDP, whereas **UDP (User Datagram Protocol)** is a connection-less protocol. This means that UDP is faster than TCP, but it's also less reliable.\n",
    "\n",
    "The basic IP-address is **127.0.0.1** which is the localhost address. This applies to every machine but only works when we want to connect to our own machine. If we want to connect to another machine, we have to use the server's IP-address or something like that accordingly.\n",
    "\n",
    "For our port we can choose any number we want. But be careful with low number, **<i>since all numbers up to 1024 are standardized and the rest (up to 49151)</i>** are reserved. It may collapse or conflicts with other application or your operating system."
   ]
  },
  {
   "cell_type": "code",
   "execution_count": 1,
   "metadata": {},
   "outputs": [],
   "source": [
    "import socket\n",
    "\n",
    "s = socket.socket(socket.AF_INET, socket.SOCK_STREAM)"
   ]
  },
  {
   "cell_type": "markdown",
   "metadata": {},
   "source": [
    "We create a socket by calling the socket function of the socket module. The socket function takes 2 arguments: the address family and the socket type. The address family is AF_INET and the socket type is SOCK_STREAM for TCP and SOCK_DGRAM for UDP."
   ]
  },
  {
   "cell_type": "markdown",
   "metadata": {},
   "source": [
    "## Client-Server Architecture\n",
    "\n",
    "In short, the serer is a program that runs continuously and waits for connection from client. The client is a program that runs on a computer and establishes connection to the server. The client can send data to the server and the server can send data to the client."
   ]
  },
  {
   "cell_type": "markdown",
   "metadata": {},
   "source": [
    "## Server Socket Methods\n",
    "\n",
    "<table>\n",
    "    <tr>\n",
    "        <th>Method</th>\n",
    "        <th>Description</th>\n",
    "    </tr>\n",
    "    <tr>\n",
    "        <td>socket.bind(address)</td>\n",
    "        <td>Binds the socket to address, which should be a tuple (host, port)</td>\n",
    "    </tr>\n",
    "    <tr>\n",
    "        <td>socket.listen(backlog)</td>\n",
    "        <td>Listen for connections made to the socket. The backlog argument specifies the maximum number of queued connections and should be at least 0; the maximum value is system-dependent (usually 5), the minimum value is forced to 0.</td>\n",
    "    </tr>\n",
    "    <tr>\n",
    "        <td>socket.accept()</td>\n",
    "        <td>Accept a connection. The socket must be bound to an address and listening for connections. The return value is a pair (conn, address) where conn is a new socket object usable to send and receive data on the connection, and address is the address bound to the socket on the other end of the connection.</td>\n",
    "    </tr>\n",
    "</table>"
   ]
  },
  {
   "cell_type": "markdown",
   "metadata": {},
   "source": [
    "## Client Socket Methods\n",
    "\n",
    "For client, there is only one specific and very important method, namely the <code>connect</code> method. The connect method takes one argument, a tuple of host and port."
   ]
  },
  {
   "cell_type": "markdown",
   "metadata": {},
   "source": [
    "## Other Socket Methods\n",
    "\n",
    "<table>\n",
    "    <tr>\n",
    "        <th>Method</th>\n",
    "        <th>Description</th>\n",
    "    </tr>\n",
    "    <tr>\n",
    "        <td>socket.recv(bufsize[, flags])</td>\n",
    "        <td>Receive data from the socket. The return value is a bytes object representing the data received. The maximum amount of data to be received at once is specified by bufsize. See the Unix manual page recv(2) for the meaning of the optional argument flags; it defaults to zero.</td>\n",
    "    </tr>\n",
    "    <tr>\n",
    "        <td>socket.send(bytes[, flags])</td>\n",
    "        <td>Send data to the socket. The socket must be connected to a remote socket. The optional flags argument has the same meaning as for recv() above. Returns the number of bytes sent. Applications are responsible for checking that all data has been sent; if only some of the data was transmitted, the application needs to attempt delivery of the remaining data. For further information on this concept, consult the Socket Programming HOWTO.</td>\n",
    "    </tr>\n",
    "    <tr>\n",
    "        <td>socket.recvfrom(bufsize[, flags])</td>\n",
    "        <td>Receive data from the socket. The return value is a pair (bytes, address) where bytes is a bytes object representing the data received and address is the address of the socket sending the data.</td>\n",
    "    </tr>\n",
    "    <tr>\n",
    "        <td>socket.sendto(bytes[, flags], address)</td>\n",
    "        <td>Send data to the socket. The socket should not be connected to a remote socket, since the destination socket is specified by address. The optional flags argument has the same meaning as for recv() above. Returns the number of bytes sent. Applications are responsible for checking that all data has been sent; if only some of the data was transmitted, the application needs to attempt delivery of the remaining data. For further information on this concept, consult the Socket Programming HOWTO.</td>\n",
    "    </tr>\n",
    "    <tr>\n",
    "        <td>socket.close()</td>\n",
    "        <td>Close the socket. All future operations on the socket object will fail. The remote end will receive no more data (after queued data is flushed). Sockets are automatically closed when they are garbage-collected.</td>\n",
    "    </tr>\n",
    "    <tr>\n",
    "        <td>socket.getpeername()</td>\n",
    "        <td>Return the address of the remote endpoint. For IP sockets, the address info is a pair (hostaddr, port).</td>\n",
    "    </tr>\n",
    "    <tr>\n",
    "        <td>socket.getsockname()</td>\n",
    "        <td>Return the socket’s own address. This is useful to find out the port number of an IPv4/v6 socket, for instance. The address info is returned as a pair (hostaddr, port).</td>\n",
    "    </tr>\n",
    "    <tr>\n",
    "        <td>socket.setsockopt(level, optname, value)</td>\n",
    "        <td>Set a socket option. The needed symbolic constants are defined in the socket module (SO_* etc.). The value argument can either be an integer, or a bytes-like object representing a buffer.</td>\n",
    "    </tr>\n",
    "    <tr>\n",
    "        <td>socket.gethostname()</td>\n",
    "        <td>Return a string containing the hostname of the machine where the Python interpreter is currently executing.</td>\n",
    "    </tr>\n",
    "</table>"
   ]
  },
  {
   "cell_type": "markdown",
   "metadata": {},
   "source": [
    "## Creating a Server and Client"
   ]
  },
  {
   "cell_type": "code",
   "execution_count": 1,
   "metadata": {},
   "outputs": [
    {
     "name": "stdout",
     "output_type": "stream",
     "text": [
      "Server listening...\n",
      "Connected to ('127.0.0.1', 60461)\n",
      "Received: b'Hello from client'\n",
      "Received: b'Hello from server'\n"
     ]
    }
   ],
   "source": [
    "import socket\n",
    "import threading\n",
    "\n",
    "def server():\n",
    "    s = socket.socket(socket.AF_INET, socket.SOCK_STREAM)  \n",
    "    s.bind((\"127.0.0.1\", 9999))\n",
    "    s.listen(5)\n",
    "    print(\"Server listening...\")\n",
    "    \n",
    "    while True:\n",
    "        client, addr = s.accept()\n",
    "        print(\"Connected to\", addr)\n",
    "        data = client.recv(1024)\n",
    "        print(\"Received:\", data)\n",
    "        client.send(b\"Hello from server\")\n",
    "        \n",
    "def client():\n",
    "    s = socket.socket(socket.AF_INET, socket.SOCK_STREAM)\n",
    "    s.connect((\"127.0.0.1\", 9999))\n",
    "    s.send(b\"Hello from client\")\n",
    "    data = s.recv(1024)\n",
    "    print(\"Received:\", data)\n",
    "\n",
    "t1 = threading.Thread(target=server)\n",
    "t2 = threading.Thread(target=client)\n",
    "t1.start()\n",
    "t2.start()"
   ]
  },
  {
   "cell_type": "markdown",
   "metadata": {},
   "source": [
    "The method <code>accept</code> waits for a connection attempt to come and accepts it. It then returns a client for further communication with the client. We can then use this in order to send the message. But it's important that we encode the message before sending it."
   ]
  },
  {
   "cell_type": "markdown",
   "metadata": {},
   "source": [
    "## Port Scanner\n",
    "\n",
    "So, we have learned a lot about multithreading, locking, queues and sockets. With all that knowledge, we can create a highly efficient and well working port scanner.\n",
    "\n",
    "Port scanner is a program that scans a server for open ports. It's a very useful tool for network administrators and hackers. It's also a very good example for multithreading and sockets.\n",
    "\n",
    "**WARNING**: Port scanning is illegal in some countries. Make sure you have the permission of the owner of the server before scanning it."
   ]
  },
  {
   "cell_type": "code",
   "execution_count": 2,
   "metadata": {},
   "outputs": [
    {
     "name": "stdout",
     "output_type": "stream",
     "text": [
      "Port 1 is closed.\n",
      "Port 2 is closed.\n",
      "Port 3 is closed.\n",
      "Port 4 is closed.\n",
      "Port 5 is closed.\n",
      "Port 6 is closed.\n",
      "Port 7 is closed.\n",
      "Port 8 is closed.\n",
      "Port 9 is closed.\n",
      "Port 10 is closed.\n",
      "Port 11 is closed.\n",
      "Port 12 is closed.\n",
      "Port 13 is closed.\n",
      "Port 14 is closed.\n",
      "Port 15 is closed.\n",
      "Port 16 is closed.\n",
      "Port 17 is closed.\n",
      "Port 18 is closed.\n",
      "Port 19 is closed.\n",
      "Port 20 is closed.\n",
      "Port 21 is closed.\n",
      "Port 22 is closed.\n",
      "Port 23 is closed.\n",
      "Port 24 is closed.\n",
      "Port 25 is closed.\n",
      "Port 26 is closed.\n",
      "Port 27 is closed.\n",
      "Port 28 is closed.\n",
      "Port 29 is closed.\n",
      "Port 30 is closed.\n",
      "Port 31 is closed.\n",
      "Port 32 is closed.\n",
      "Port 33 is closed.\n",
      "Port 34 is closed.\n"
     ]
    }
   ],
   "source": [
    "import socket\n",
    "\n",
    "target = \"10.0.0.5\"\n",
    "\n",
    "def portscan(port):\n",
    "    try:\n",
    "        s = socket.socket(socket.AF_INET, socket.SOCK_STREAM)\n",
    "        conn = s.connect((target, port))\n",
    "        return True\n",
    "    except:\n",
    "        return False\n",
    "    \n",
    "for port in range(1, 1024):\n",
    "    if portscan(port):\n",
    "        print(\"Port\", port, \"is open!\")\n",
    "    else:\n",
    "        print(\"Port\", port, \"is closed.\")"
   ]
  },
  {
   "cell_type": "markdown",
   "metadata": {},
   "source": [
    "We can easily notice that it's extremely slow. That's because we serially scan one port after the other."
   ]
  },
  {
   "cell_type": "markdown",
   "metadata": {},
   "source": [
    "## Threaded Port Scanner"
   ]
  },
  {
   "cell_type": "code",
   "execution_count": 2,
   "metadata": {},
   "outputs": [
    {
     "name": "stdout",
     "output_type": "stream",
     "text": [
      "PortPort 11 is closed.\n",
      "Port 14 is closed.\n",
      "Port 10 is closed.\n",
      "Port 1 is closed.\n",
      "Port 2 is closed.\n",
      "Port 4 is closed.\n",
      "Port 12 is closed.\n",
      " 3 is closed.\n",
      "Port 5 is closed.\n",
      "Port 7 is closed.\n",
      "Port 23 is closed.\n",
      "Port 27 is closed.\n",
      "Port 6 is closed.\n",
      "Port 19 is closed.\n",
      "Port 15 is closed.\n",
      "Port 16 is closed.\n",
      "Port 13 is closed.\n",
      "Port 17 is closed.\n",
      "Port 20 is closed.\n",
      "Port 22 is closed.\n",
      "Port 21 is closed.\n",
      "Port 26 is closed.\n",
      "Port 29 is closed.\n",
      "Port 30 is closed.\n",
      "Port 25 is closed.\n",
      "Port 24 is closed.\n",
      "Port 8 is closed.\n",
      "Port 28 is closed.\n",
      "Port 18 is closed.\n",
      "Port 9 is closed.\n"
     ]
    }
   ],
   "source": [
    "import socket\n",
    "import queue\n",
    "import threading\n",
    "\n",
    "ports = {'Number':[], 'Status':[]}\n",
    "target = \"10.0.0.5\"\n",
    "q = queue.Queue()\n",
    "for x in range(1, 501):\n",
    "    q.put(x)\n",
    "    \n",
    "def portscan(port):\n",
    "    try:\n",
    "        s = socket.socket(socket.AF_INET, socket.SOCK_STREAM)\n",
    "        conn = s.connect((target, port))\n",
    "        return True\n",
    "    except:\n",
    "        return False\n",
    "    \n",
    "def worker():\n",
    "    while True:\n",
    "        port = q.get()\n",
    "        if portscan(port):\n",
    "            print(\"Port\", port, \"is open!\")\n",
    "            ports['Number'].append(port)\n",
    "            ports['Status'].append('Open')\n",
    "        else:\n",
    "            print(\"Port\", port, \"is closed.\")\n",
    "            ports['Number'].append(port)\n",
    "            ports['Status'].append('Closed')\n",
    "            \n",
    "for x in range(30):\n",
    "    t = threading.Thread(target=worker)\n",
    "    t.start()"
   ]
  },
  {
   "cell_type": "code",
   "execution_count": 7,
   "metadata": {},
   "outputs": [
    {
     "name": "stdout",
     "output_type": "stream",
     "text": [
      "There is 241 open ports\n"
     ]
    },
    {
     "name": "stdout",
     "output_type": "stream",
     "text": [
      "Port 242 is closed.\n",
      "Port 245 is closed.\n",
      "Port 243 is closed.\n",
      "Port 244 is closed.\n",
      "Port 246 is closed.\n",
      "Port 251 is closed.\n",
      "Port 261 is closed.\n",
      "Port 248 is closed.\n",
      "Port 259 is closed.\n",
      "Port 258 is closed.\n",
      "Port 254 is closed.\n",
      "Port 257 is closed.\n",
      "Port 256 is closed.\n",
      "Port 263 is closed.\n",
      "Port 262 is closed.\n",
      "Port 260 is closed.\n",
      "Port 249 is closed.\n",
      "Port 247 is closed.\n",
      "Port 255 is closed.\n",
      "Port 253 is closed.\n",
      "Port 250 is closed.\n",
      "Port 252 is closed.\n",
      "Port 267 is closed.\n",
      "Port 266 is closed.\n",
      "Port 270 is closed.\n",
      "Port 265 is closed.\n",
      "Port 269 is closed.\n",
      "Port 268 is closed.\n",
      "Port 264 is closed.\n",
      "Port 271 is closed.\n",
      "Port 272 is closed.\n",
      "Port 275 is closed.\n",
      "Port 274 is closed.\n",
      "Port 273 is closed.\n",
      "Port 276 is closed.\n",
      "Port 289 is closed.\n",
      "Port 293 is closed.\n",
      "Port 285 is closed.\n",
      "Port 284 is closed.\n",
      "Port 282 is closed.\n",
      "Port 277 is closed.\n",
      "Port 281 is closed.\n",
      "Port 278 is closed.\n",
      "Port 283 is closed.\n",
      "Port 279 is closed.\n",
      "Port 280 is closed.\n",
      "Port 292 is closed.\n",
      "Port 286 is closed.\n",
      "Port 287 is closed.\n",
      "Port 288 is closed.\n",
      "Port 290 is closed.\n",
      "Port 291 is closed.\n",
      "Port 298 is closed.\n",
      "Port 299 is closed.\n",
      "Port 294 is closed.\n",
      "Port 295 is closed.\n",
      "Port 296 is closed.\n",
      "Port 297 is closed.\n",
      "Port 300 is closed.\n",
      "Port 301 is closed.\n",
      "Port 302 is closed.\n",
      "Port 304 is closed.\n",
      "Port 305 is closed.\n",
      "Port 303 is closed.\n",
      "Port 306 is closed.\n",
      "Port 308 is closed.\n",
      "Port 313 is closed.\n",
      "Port 311 is closed.\n",
      "Port 315 is closed.\n",
      "Port 323 is closed.\n",
      "Port 314 is closed.\n",
      "Port 321 is closed.\n",
      "Port 316 is closed.\n",
      "Port 317 is closed.\n",
      "Port 322 is closed.\n",
      "Port 320 is closed.\n",
      "Port 319 is closed.\n",
      "Port 318 is closed.\n",
      "Port 307 is closed.\n",
      "Port 310 is closed.\n",
      "Port 312 is closed.\n",
      "Port 309 is closed.\n",
      "Port 326 is closed.\n",
      "Port 324 is closed.\n",
      "Port 328 is closed.\n",
      "Port 327 is closed.\n",
      "Port 329 is closed.\n",
      "Port 325 is closed.\n",
      "Port 330 is closed.\n",
      "Port 331 is closed.\n"
     ]
    }
   ],
   "source": [
    "print(\"There is {} open ports\".format(len(ports['Number'])))\n",
    "\n",
    "for i in range(len(ports['Number'])):\n",
    "    if ports['Status'][i] == 'Open':\n",
    "        print(\"Port {} is {}\".format(ports['Number'][i], ports['Status'][i]))\n",
    "    else:\n",
    "        pass"
   ]
  },
  {
   "cell_type": "code",
   "execution_count": null,
   "metadata": {},
   "outputs": [],
   "source": []
  }
 ],
 "metadata": {
  "kernelspec": {
   "display_name": "Python 3",
   "language": "python",
   "name": "python3"
  },
  "language_info": {
   "codemirror_mode": {
    "name": "ipython",
    "version": 3
   },
   "file_extension": ".py",
   "mimetype": "text/x-python",
   "name": "python",
   "nbconvert_exporter": "python",
   "pygments_lexer": "ipython3",
   "version": "3.11.6"
  },
  "orig_nbformat": 4
 },
 "nbformat": 4,
 "nbformat_minor": 2
}
