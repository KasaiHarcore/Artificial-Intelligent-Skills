{
 "cells": [
  {
   "cell_type": "markdown",
   "metadata": {},
   "source": [
    "# Recursion"
   ]
  },
  {
   "cell_type": "markdown",
   "metadata": {},
   "source": [
    "In this short notebook, we're going to talk about a very common programming concept. It's about recursion and basically it refers to a function calling itself, like a while loop."
   ]
  },
  {
   "cell_type": "markdown",
   "metadata": {},
   "source": [
    "```python\n",
    "def function():\n",
    "    function()\n",
    "    \n",
    "function()\n",
    "```"
   ]
  },
  {
   "cell_type": "markdown",
   "metadata": {},
   "source": [
    "Basically, when calling a function like that, you get into an endless recursion. This is not very useful and in Python we get <i>RecursionError</i> when the maximum recursion depth is exceeded."
   ]
  },
  {
   "cell_type": "markdown",
   "metadata": {},
   "source": [
    "Every program has a stack memory and this memory is limited. When we run a function we allocate stack memory space and if there is no space left, it called Stack Overflow. This is also where the name of the famous forum comes from."
   ]
  },
  {
   "cell_type": "markdown",
   "metadata": {},
   "source": [
    "## Factorial Calculation\n",
    "\n",
    "But recursion can also be useful, if it's managed right. For example, we can calculates factorial number with out math library:\n",
    "\n",
    "```python\n",
    "def factorial(n):\n",
    "    if n < 1:\n",
    "        return 1\n",
    "    else:\n",
    "        number = n * factorial(n-1)\n",
    "        return number\n",
    "```"
   ]
  },
  {
   "cell_type": "markdown",
   "metadata": {},
   "source": [
    "When we first call it, the parameter n is our base number that we want to calculate the factorial of, If n is not smaller than 1, we keep multiply it by the number n - 1.\n",
    "\n",
    "Notice that our first function call doesn't return anything until we get down to one. This because it always calls itself over and over again. At the end all the results are multiplied by the last return, which is one."
   ]
  }
 ],
 "metadata": {
  "kernelspec": {
   "display_name": "Python 3",
   "language": "python",
   "name": "python3"
  },
  "language_info": {
   "codemirror_mode": {
    "name": "ipython",
    "version": 3
   },
   "file_extension": ".py",
   "mimetype": "text/x-python",
   "name": "python",
   "nbconvert_exporter": "python",
   "pygments_lexer": "ipython3",
   "version": "3.11.6"
  },
  "orig_nbformat": 4
 },
 "nbformat": 4,
 "nbformat_minor": 2
}
