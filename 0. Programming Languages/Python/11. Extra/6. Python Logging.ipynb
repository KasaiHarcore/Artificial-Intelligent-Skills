{
 "cells": [
  {
   "cell_type": "markdown",
   "metadata": {},
   "source": [
    "# Logging\n",
    "\n",
    "Till now, you'll have a big question in your head: \"We're learning how to build a fully function AI, Computer Science stuff. But why we have to learn about logging ? It's not related to AI or Computer Science at all !\". Well, you're right. But, logging is a very important part of programming. It's a good practice to log your program's status, so you can know what's going on in your program. It's also a good practice to log your program's error, so you can know what's wrong with your program. In this chapter, we'll learn how to log our program's status and error.\n",
    "\n",
    "Every system that has a certain size produces errors or conditions in which specific people should be warned or informed. Nowadays, everything gets logged or recorded. Bank transactions, flights, networking activities, operating systems and much more. Log files help us to find problems and to get information about the state of our systems. They are an essential tool for avoiding and understanding errors."
   ]
  },
  {
   "cell_type": "markdown",
   "metadata": {},
   "source": [
    "Up until now, we have always printed some message onto the console screen when we encountered an error. But when our applications grow, this becomes confusing and we need to categorize and outsource our logs. In addition, not every message is equally relevant. Some messages are urgent because a critical component fails and some just provide nice information."
   ]
  },
  {
   "cell_type": "markdown",
   "metadata": {},
   "source": [
    "## Security Levels\n",
    "\n",
    "In Python, there are 5 security levels:\n",
    "- 1. DEBUG\n",
    "- 2. INFO\n",
    "- 3. WARNING\n",
    "- 4. ERROR\n",
    "- 5. CRITICAL\n",
    "\n",
    "Notice that when we choose a certain security level, we also get all the messages of the levels above. So for example, *INFO* also prints the messages of *WARNING*, *ERROR* and *CRITICAL* but not of *DEBUG* ."
   ]
  },
  {
   "cell_type": "markdown",
   "metadata": {},
   "source": [
    "**<i>DEBUG</i>** is mainly used for tests, experiments or in order to check something. We typically use this mode, when we are looking for errors.\n",
    "\n",
    "**<i>INFO</i>** is used to give the user some information about what is going on. It is used to inform the user about the current state of the program. This might be something like \"The program has started\" or \"The program has finished\".\n",
    "\n",
    "**<i>WARNING</i>** is used to indicate that something unexpected happened. The program is still running as expected. This might be something like \"The program has started but the configuration file is missing\".\n",
    "\n",
    "An **<i>ERROR</i>** message gets logged or printed when something didn’t go according to the plan. When we get an exception this is a classical error.\n",
    "\n",
    "A **<i>CRITICAL</i>** messages tell us that critical for the whole system or application happened. This might be the case when a crucial component fails and we have to immediately stop the program."
   ]
  },
  {
   "cell_type": "markdown",
   "metadata": {},
   "source": [
    "## Creating Loggers\n",
    "\n",
    "Just like every other function, we have to import the logging module first. Then, we can create a logger by using the following code:"
   ]
  },
  {
   "cell_type": "code",
   "execution_count": 1,
   "metadata": {},
   "outputs": [],
   "source": [
    "import logging"
   ]
  },
  {
   "cell_type": "markdown",
   "metadata": {},
   "source": [
    "Now we can just log messages by directly using the respective functions of the *logging* module."
   ]
  },
  {
   "cell_type": "code",
   "execution_count": 2,
   "metadata": {},
   "outputs": [
    {
     "name": "stderr",
     "output_type": "stream",
     "text": [
      "CRITICAL:root:IT'S BURNING!\n"
     ]
    }
   ],
   "source": [
    "logging.info( \"It's finish!\" )\n",
    "logging.critical( \"IT'S BURNING!\" )"
   ]
  },
  {
   "cell_type": "markdown",
   "metadata": {},
   "source": [
    "So let's create our own logger first. This is one by either using the constructor of the Logger class or by using the method <code>getLogger</code> "
   ]
  },
  {
   "cell_type": "code",
   "execution_count": 3,
   "metadata": {},
   "outputs": [],
   "source": [
    "logger = logging.getLogger()\n",
    "logger = logging.Logger(\"my-log\")"
   ]
  },
  {
   "cell_type": "markdown",
   "metadata": {},
   "source": [
    "Notice that we need to specify a name for our logger, if we use the constructor. Now we can log our messages."
   ]
  },
  {
   "cell_type": "code",
   "execution_count": 4,
   "metadata": {},
   "outputs": [
    {
     "name": "stderr",
     "output_type": "stream",
     "text": [
      "CRITICAL:root:Critical Message!\n",
      "CRITICAL:root:Critical!\n"
     ]
    }
   ],
   "source": [
    "logging.info(\"Logger successfully created!\")\n",
    "logging.log(logging.INFO, \"Successful!\")\n",
    "logging.critical(\"Critical Message!\")\n",
    "logging.log(logging.CRITICAL, \"Critical!\")"
   ]
  },
  {
   "cell_type": "markdown",
   "metadata": {},
   "source": [
    "Here we also have two different options for logging messages. We can either directly call the function of the respective security level or we can use the method log and specify the security level in the parameters."
   ]
  },
  {
   "cell_type": "markdown",
   "metadata": {},
   "source": [
    "But when execute the script, you'll notice that only the Critical messages are printed. This has two reasons. First, we have to specify the security level of the logger. Second, we have to specify the security level of the handler from the default *root* logger."
   ]
  },
  {
   "cell_type": "code",
   "execution_count": 5,
   "metadata": {},
   "outputs": [],
   "source": [
    "for handler in logging.root.handlers:\n",
    "    logging.root.removeHandler(handler)\n",
    "logging.basicConfig(level = logging.INFO)"
   ]
  },
  {
   "cell_type": "markdown",
   "metadata": {},
   "source": [
    "Here we just use a for loop in order to remove all the handlers from the *root* logger. Then we use the <code>.basicConfig</code> method, in order to set our logging level to *INFO*"
   ]
  },
  {
   "cell_type": "markdown",
   "metadata": {},
   "source": [
    "You will see a difference results when you execute the script. Now we can see all the messages that we logged."
   ]
  },
  {
   "cell_type": "markdown",
   "metadata": {},
   "source": [
    "## Logging into Files\n",
    "\n",
    "What we are mainly interested in is logging into files. For this, we need a so-called <code>.fileHandler</code>. It is an object that we add to our logger, in order to make it log everything into a specific file."
   ]
  },
  {
   "cell_type": "code",
   "execution_count": 6,
   "metadata": {},
   "outputs": [
    {
     "name": "stderr",
     "output_type": "stream",
     "text": [
      "INFO:my-log:Log this into the file!\n",
      "CRITICAL:my-log:Critical Message!\n"
     ]
    }
   ],
   "source": [
    "import logging\n",
    "\n",
    "logger = logging.getLogger(\"my-log\")\n",
    "logger.setLevel(logging.INFO)\n",
    "\n",
    "handler = logging.FileHandler(\"file/my-log.log\")\n",
    "handler.setLevel(logging.INFO)\n",
    "\n",
    "logger.addHandler(handler)\n",
    "logger.info(\"Log this into the file!\")\n",
    "logger.critical(\"Critical Message!\")"
   ]
  },
  {
   "cell_type": "markdown",
   "metadata": {},
   "source": [
    "We start again by defining a logger. Then we set the security level to *INFO* by using the function <code>.setLevel</code>. After that, we create a <code>.FileHandler</code> that logs into the file *my-log.log*. Here we also need to set the security level. Finally, we add the handler to our logger using the <code>.addHandler</code> function and start logging messages."
   ]
  },
  {
   "cell_type": "markdown",
   "metadata": {},
   "source": [
    "## Formatting Logs"
   ]
  },
  {
   "cell_type": "markdown",
   "metadata": {},
   "source": [
    "One thing that you will notice is that we don’t have any format in our logs. We don’t know which logger was used or which security level our message has. For this, we can use a so-called *formatter*."
   ]
  },
  {
   "cell_type": "code",
   "execution_count": 7,
   "metadata": {},
   "outputs": [
    {
     "name": "stderr",
     "output_type": "stream",
     "text": [
      "INFO:root:Log this into the file!\n"
     ]
    }
   ],
   "source": [
    "logger = logging.getLogger()\n",
    "logger.setLevel(logging.INFO)\n",
    "handler = logging.FileHandler(\"file/my-log-modify.log\")\n",
    "handler.setLevel(logging.INFO)\n",
    "formatter = logging.Formatter(\"%(asctime)s - %(name)s - %(levelname)s - %(message)s\")\n",
    "handler.setFormatter(formatter)\n",
    "logger.addHandler(handler)\n",
    "logger.info(\"Log this into the file!\")"
   ]
  },
  {
   "cell_type": "markdown",
   "metadata": {},
   "source": [
    "We create a formatter by using the constructor of the respective class. Then we use the keywords for the timestamp, the security level name and the message. Last but not least, we assign the formatter to our handler and start logging again. When we now look into our file, we will find a more detailed message.\n",
    "\n",
    "```log\n",
    "2024-01-05 14:27:54,692 - root - INFO - Log this into the file!\n",
    "```"
   ]
  },
  {
   "cell_type": "markdown",
   "metadata": {},
   "source": [
    "These log messages can be very helpful, if they are used wisely. Place them wherever something important or alarming happens in your code"
   ]
  }
 ],
 "metadata": {
  "kernelspec": {
   "display_name": "Python 3",
   "language": "python",
   "name": "python3"
  },
  "language_info": {
   "codemirror_mode": {
    "name": "ipython",
    "version": 3
   },
   "file_extension": ".py",
   "mimetype": "text/x-python",
   "name": "python",
   "nbconvert_exporter": "python",
   "pygments_lexer": "ipython3",
   "version": "3.11.6"
  },
  "orig_nbformat": 4
 },
 "nbformat": 4,
 "nbformat_minor": 2
}
