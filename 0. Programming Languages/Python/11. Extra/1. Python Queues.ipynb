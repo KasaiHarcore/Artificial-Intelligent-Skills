{
 "cells": [
  {
   "cell_type": "markdown",
   "metadata": {},
   "source": [
    "# Queues"
   ]
  },
  {
   "cell_type": "markdown",
   "metadata": {},
   "source": [
    "In Python, queues are structures that take in data in a certain order to then output it in a certain order. The default queue type is so-called FIFO queue. This stand for <i>first in, first out</i>. This means that the first element that is put into the queue is also the first element that is taken out of the queue. \n",
    "\n",
    "This is the same principle as a queue in a supermarket. The first person that enters the queue is also the first person that leaves the queue."
   ]
  },
  {
   "cell_type": "code",
   "execution_count": 1,
   "metadata": {},
   "outputs": [
    {
     "name": "stdout",
     "output_type": "stream",
     "text": [
      "0\n",
      "1\n",
      "2\n",
      "3\n",
      "4\n",
      "<class 'queue.Queue'>\n"
     ]
    }
   ],
   "source": [
    "import queue\n",
    "\n",
    "q = queue.Queue()\n",
    "\n",
    "for x in range(5):\n",
    "    q.put(x)\n",
    "\n",
    "for x in range(5):\n",
    "    print(q.get(x))\n",
    "    \n",
    "print(type(q))"
   ]
  },
  {
   "cell_type": "markdown",
   "metadata": {},
   "source": [
    "As we can see, the <code>put</code> function adds an element to the queue, while the <code>get</code> function removes an element from the queue. The <code>get</code> function also returns the element that is removed from the queue."
   ]
  },
  {
   "cell_type": "markdown",
   "metadata": {},
   "source": [
    "## Queuing Resources\n",
    "\n",
    "Let's say we have a list of numbers that need to be processed. We decide to use multiple threads, in order to speed up the process. But there might be a problem. The threads don't know which number has already been processed and they might do the same work twice, which would be a waste of resources.\n",
    "\n",
    "In this case we can just use queues to solve our problems. We fill up our queue with the numbers and every thread takes a number from the queue, processes it and then takes the next number from the queue."
   ]
  },
  {
   "cell_type": "code",
   "execution_count": 2,
   "metadata": {},
   "outputs": [],
   "source": [
    "import threading\n",
    "import queue\n",
    "import math\n",
    "\n",
    "q = queue.Queue()\n",
    "threads = []\n",
    "\n",
    "def worker():\n",
    "    while True:\n",
    "        item = q.get()\n",
    "        if item is None:\n",
    "            break\n",
    "        print(math.factorial(item))\n",
    "        q.task_done()"
   ]
  },
  {
   "cell_type": "markdown",
   "metadata": {},
   "source": [
    "We start an empty queue and an empty list for threads. Our function has an endless loop that gets number from the list and calculates the factorial of them. At the end we use <code>task_done()</code> to tell the queue that the task is done. We also use <code>join()</code> to wait for all threads to finish."
   ]
  },
  {
   "cell_type": "code",
   "execution_count": 3,
   "metadata": {},
   "outputs": [
    {
     "name": "stdout",
     "output_type": "stream",
     "text": [
      "1\n",
      "2\n",
      "6\n",
      "24\n",
      "120\n",
      "720\n",
      "5040\n",
      "40320\n",
      "362880\n"
     ]
    }
   ],
   "source": [
    "for x in range(5):\n",
    "    t = threading.Thread(target=worker)\n",
    "    t.start()\n",
    "    threads.append(t)\n",
    "    \n",
    "nums = [1, 2, 3, 4, 5, 6, 7, 8, 9]\n",
    "    \n",
    "for item in nums:\n",
    "    q.put(item)\n",
    "    \n",
    "q.join()\n",
    "\n",
    "for t in range(5):\n",
    "    q.put(None)"
   ]
  },
  {
   "cell_type": "markdown",
   "metadata": {},
   "source": [
    "The method <code>join()</code> of the <code>queue</code> waits for all elements to be extracted and processed. Basically, it waits for all the <code>task_done</code> functions. After that, we put None elements into the queue to trigger break.\n",
    "\n",
    "Notice that our threads can't process the same element twice or skip one."
   ]
  },
  {
   "cell_type": "markdown",
   "metadata": {},
   "source": [
    "## LIFO Queues"
   ]
  },
  {
   "cell_type": "markdown",
   "metadata": {},
   "source": [
    "It's stand for <i>last in, first out</i>. This means that the last element that is put into the queue is also the first element that is taken out of the queue."
   ]
  },
  {
   "cell_type": "code",
   "execution_count": 1,
   "metadata": {},
   "outputs": [
    {
     "name": "stdout",
     "output_type": "stream",
     "text": [
      "9\n",
      "8\n",
      "7\n",
      "6\n",
      "5\n",
      "4\n",
      "3\n",
      "2\n",
      "1\n"
     ]
    }
   ],
   "source": [
    "import queue\n",
    "\n",
    "q = queue.LifoQueue()\n",
    "\n",
    "number = [1, 2, 3, 4, 5, 6, 7, 8, 9]\n",
    "\n",
    "for x in number:\n",
    "    q.put(x)\n",
    "    \n",
    "while not q.empty():\n",
    "    print(q.get())"
   ]
  },
  {
   "cell_type": "markdown",
   "metadata": {},
   "source": [
    "## Prioritizing Queues"
   ]
  },
  {
   "cell_type": "markdown",
   "metadata": {},
   "source": [
    "In these, every element gets assigned a level of priority that determines when they will leave the queue. The element with the highest priority will leave the queue first."
   ]
  },
  {
   "cell_type": "code",
   "execution_count": 1,
   "metadata": {},
   "outputs": [
    {
     "name": "stdout",
     "output_type": "stream",
     "text": [
      "(1, 10.23)\n",
      "(2, 2023)\n",
      "(3, 'String')\n",
      "(90, True)\n"
     ]
    }
   ],
   "source": [
    "import queue\n",
    "\n",
    "q = queue.PriorityQueue()\n",
    "\n",
    "q.put((1, 10.23))\n",
    "q.put((3, \"String\"))\n",
    "q.put((2, 2023))\n",
    "q.put((90, True))\n",
    "\n",
    "while not q.empty():\n",
    "    print(q.get())"
   ]
  },
  {
   "cell_type": "markdown",
   "metadata": {},
   "source": [
    "Like what we see above, the elements got sorted by their priority. The element with the highest priority was the first to leave the queue. If we ony want to access the actual value, we need to address the index one because the index zero contains the priority."
   ]
  },
  {
   "cell_type": "code",
   "execution_count": 2,
   "metadata": {},
   "outputs": [],
   "source": [
    "while not q.empty():\n",
    "    print(q.get()[1])"
   ]
  }
 ],
 "metadata": {
  "kernelspec": {
   "display_name": "Python 3",
   "language": "python",
   "name": "python3"
  },
  "language_info": {
   "codemirror_mode": {
    "name": "ipython",
    "version": 3
   },
   "file_extension": ".py",
   "mimetype": "text/x-python",
   "name": "python",
   "nbconvert_exporter": "python",
   "pygments_lexer": "ipython3",
   "version": "3.11.6"
  },
  "orig_nbformat": 4
 },
 "nbformat": 4,
 "nbformat_minor": 2
}
