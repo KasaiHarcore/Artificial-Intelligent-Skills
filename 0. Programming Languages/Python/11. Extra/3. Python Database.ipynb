{
 "cells": [
  {
   "cell_type": "markdown",
   "metadata": {},
   "source": [
    "# Database Programming"
   ]
  },
  {
   "cell_type": "markdown",
   "metadata": {},
   "source": [
    "<h2>SQLITE WITH PYTHON</h2>"
   ]
  },
  {
   "cell_type": "markdown",
   "metadata": {},
   "source": [
    "Databases are one of the most popular ways to store and manage data in computer science.\n",
    "\n",
    "Notice that for most databases we use the query language SQL , which stands for <b><i>Structured Query Language</i></b>. We use this language in order to\n",
    "manage the database, the tables and the rows and columns. This chapter is not about database structure itself, nor is it about **SQL**. We'll try to focusing on Python part.\n",
    "\n",
    "For more detail, I have made a completed tutorial for SQL in <b>5.DataBase</b>, you can return and continue after finish the basic."
   ]
  },
  {
   "cell_type": "markdown",
   "metadata": {},
   "source": [
    "## Connecting to SQLite with Python\n",
    "\n",
    "The database that come pre-installed with Python is called SQLite. It is also the one which we're going to use. Of course, there're also other libraries for MySQL, MSSQL, MongoDB, PostgreSQL.\n",
    "\n",
    "In order to use SQLite, first we've to import the respective module:\n",
    "\n",
    "```python\n",
    "import sqlite3\n",
    "```\n",
    "\n",
    "Now to create a new database file on our disk, we use <code>connect</code> method.\n",
    "\n",
    "```python\n",
    "conn = sqlite3.connect('database_name.db')\n",
    "```"
   ]
  },
  {
   "cell_type": "markdown",
   "metadata": {},
   "source": [
    "## Executing Statements\n",
    "\n",
    "After established a connection to the database, we have to define our role in here. We'll need to create a so-called <code>cursor</code>.\n",
    "\n",
    "```python\n",
    "c = conn.cursor()\n",
    "```"
   ]
  },
  {
   "cell_type": "markdown",
   "metadata": {},
   "source": [
    "Ok so this one will act like a connection object."
   ]
  },
  {
   "cell_type": "markdown",
   "metadata": {},
   "source": [
    "## Creating Table\n",
    "\n",
    "For example, we can create our first table like this:\n",
    "\n",
    "```python\n",
    "c.execute(\"\"\"CREATE TABLE persons (\n",
    "    first_name TEXT,\n",
    "    last_name NVARCHAR(50),\n",
    "    age INTEGER\n",
    ")\"\"\")```"
   ]
  },
  {
   "cell_type": "markdown",
   "metadata": {},
   "source": [
    "We're creating a new table with name persons and each will have three attribute. Now our statement is written but in order to really execute it, we need to commit to our connection.\n",
    "\n",
    "```python\n",
    "conn.commit()\n",
    "```"
   ]
  },
  {
   "cell_type": "markdown",
   "metadata": {},
   "source": [
    "At the end, don't forget to close the connection to prevent data loss.\n",
    "\n",
    "```python\n",
    "conn.close()\n",
    "```"
   ]
  },
  {
   "cell_type": "markdown",
   "metadata": {},
   "source": [
    "## Inserting Values\n",
    "\n",
    "For this, we'll use INSERT statement:\n",
    "\n",
    "```python\n",
    "c.execute(\"\"\"INSERT INTO persons VALUES\n",
    "('John', 'Smith', 25),\n",
    "('Anna', 'Smith', 30),\n",
    "('Mike', 'Johnson', 40)\"\"\")\n",
    "\n",
    "conn.commit()\n",
    "\n",
    "conn.close()\n",
    "```"
   ]
  },
  {
   "cell_type": "markdown",
   "metadata": {},
   "source": [
    "## Selecting Values\n",
    "\n",
    "To get values from the database, we use SELECT statement. After that we also need to <code>fetch<code> the results.\n",
    "\n",
    "```python\n",
    "c.execute(\"\"\"SELECT * FROM persons\n",
    "WHERE last_name = 'Smith'\"\"\")\n",
    "print(c.fetchall())\n",
    "\n",
    "conn.commit()\n",
    "conn.close()\n",
    "```"
   ]
  },
  {
   "cell_type": "markdown",
   "metadata": {},
   "source": [
    "As you see, our SELECT statement that gets all the entries where the last_name has value Smith. We have to use the method <code>fetchall</code> of the cursor, in order to get every results. It return a list of tuples, where every tuple is one entry.\n",
    "\n",
    "Alternatively, we could use the method <code>fetchone</code> to only get the first entry or <code>fetchmany</code> to get a specific amount of entries."
   ]
  },
  {
   "cell_type": "markdown",
   "metadata": {},
   "source": [
    "## Classes and Tables\n",
    "\n",
    "In order to make the communication more efficient and easier, we're going to create a Person class that has the columns as attribute:\n",
    "\n",
    "```python\n",
    "class Person():\n",
    "    def __init__(self, first = None, last = None, age = None):\n",
    "        self.first = first\n",
    "        self.last = last\n",
    "        self.age = age\n",
    "\n",
    "    def clone_person(self, result):\n",
    "        self.first = result[0]\n",
    "        self.last = result[1]\n",
    "        self.age = result[2]\n",
    "```"
   ]
  },
  {
   "cell_type": "markdown",
   "metadata": {},
   "source": [
    "## From Table to Object\n",
    "\n",
    "After that, we'll create a new Person object by getting its data from our database:"
   ]
  },
  {
   "cell_type": "markdown",
   "metadata": {},
   "source": [
    "```python\n",
    "c.execute(\"\"\"SELECT * FROM persons\n",
    "WHERE last_name = 'Smith'\"\"\")\n",
    "\n",
    "person1 = Person()\n",
    "person1.clone_person(c.fetchone())\n",
    "print(person1.first)\n",
    "print(person1.last)\n",
    "print(person1.age)\n",
    "```\n",
    "\n",
    "and we will have the results:\n",
    "\n",
    "```bash\n",
    "John\n",
    "Smith\n",
    "25\n",
    "```"
   ]
  },
  {
   "cell_type": "markdown",
   "metadata": {},
   "source": [
    "## From Object to Table\n",
    "\n",
    "We can also do that the way around. Let's create a person objects, assign values to the attributes and then insert this object into our database:\n",
    "\n",
    "```python\n",
    "person2 = Person('Bob', 'Davis', 23)\n",
    "\n",
    "c.execute(\"\"\"INSERT INTO persons VALUES ('{}','{}','{}')\"\"\".format(person2.first, person2.last, person2.age))\n",
    "\n",
    "conn.commit()\n",
    "conn.close()\n",
    "```"
   ]
  },
  {
   "cell_type": "markdown",
   "metadata": {},
   "source": [
    "After that we can check the result, it will look something like this:\n",
    "\n",
    "```python\n",
    "c.execute(\"\"\"SELECT * FROM persons\"\"\")\n",
    "\n",
    "print(c.fetchall())\n",
    "```\n",
    "\n",
    "```bash\n",
    "> [...('Bob', 'Davis', 23)]\n",
    "```"
   ]
  },
  {
   "cell_type": "markdown",
   "metadata": {},
   "source": [
    "## Prepared Statements\n",
    "\n",
    "There is a much more secure and elegant way to put the values of our attributes into the SQL statements. We can use <i>prepared statements</i>\n",
    "\n",
    "```python\n",
    "person3 = Person('Julia', 'Johnson', 28)\n",
    "\n",
    "c.execute(\"INSERT INTO persons VALUES (?, ?, ?)\" , (person.first, person.last, person.age))\n",
    "\n",
    "conn.commit()\n",
    "conn.close()\n",
    "```"
   ]
  }
 ],
 "metadata": {
  "language_info": {
   "name": "python"
  },
  "orig_nbformat": 4
 },
 "nbformat": 4,
 "nbformat_minor": 2
}
