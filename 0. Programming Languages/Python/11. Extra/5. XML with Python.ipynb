{
 "cells": [
  {
   "cell_type": "markdown",
   "metadata": {},
   "source": [
    "# XML Processing\n",
    "\n",
    "Up until now, we either saved our data into regular text files or into professional databases. Sometimes however, our script is quite small and doesn’t need a big database but we still want to structure our data in files. For this, we can use XML.\n",
    "\n",
    "XML stands for <b>*Extensible Markup Language*</b> and is a language that allows us to hierarchically structure our data in files. It is **platform-independent** and also **application-independent**. XML files that you create with a Python script, can be read and processed by a C++ or Java application."
   ]
  },
  {
   "cell_type": "markdown",
   "metadata": {},
   "source": [
    "## XML Parser\n",
    "\n",
    "In Python, we can choose between two different XML parsers: **SAX** and **DOM**."
   ]
  },
  {
   "cell_type": "markdown",
   "metadata": {},
   "source": [
    "## Simple API for XML (SAX)\n",
    "\n",
    "SAX stand for <b>*Simple API for XML*</b> and is better suited for large XML files or in situations where we have very limited RAM memory space. This is\n",
    "because in this mode we never load the full file into our RAM. We read the file from our hard drive and only load the little parts that we need right at the moment into the RAM. An additional effect of this is that we can only read from the file and not manipulate it and change values."
   ]
  },
  {
   "cell_type": "markdown",
   "metadata": {},
   "source": [
    "## Document Object Model (DOM)\n",
    "\n",
    "DOM stands for <b>*Document Object Model*</b> and is the generally recommended option. It is a **language-independent API** for working with XML. Here we always load the full XML file into our RAM and then save it there in a hierarchical structure. Because of that, we can use all of the features and also manipulate the file."
   ]
  },
  {
   "cell_type": "markdown",
   "metadata": {},
   "source": [
    "### What to use?\n",
    "\n",
    "Obviously, DOM is a lot faster than SAX because it's using the RAM instead of the hard disk. The main memory is way more efficient than the hard disk. However, if we have a very large XML file, we might not be able to load it into our RAM. In this case, we have to use SAX.\n",
    "\n",
    "So, there're no reason to not use both options in the same projects. We can choose depending on the situation."
   ]
  },
  {
   "cell_type": "markdown",
   "metadata": {},
   "source": [
    "## XML Structure\n",
    "\n",
    "Let's take a look on this:\n",
    "\n",
    "```xml\n",
    "<group>\n",
    "    <person id=\"1\">\n",
    "        <name>Max</name>\n",
    "        <age>17</age>\n",
    "        <weight>80</weight>\n",
    "        <height>180</height>\n",
    "    </person>\n",
    "    <person id=\"2\">\n",
    "        <name>Sepp</name>\n",
    "        <age>18</age>\n",
    "        <weight>70</weight>\n",
    "        <height>175</height>\n",
    "    </person>\n",
    "    <person id=\"3\">\n",
    "        <name>Nina</name>\n",
    "        <age>16</age>\n",
    "        <weight>55</weight>\n",
    "        <height>165</height>\n",
    "    </person>\n",
    "</group>\n",
    "```\n",
    "\n",
    "This is a very simple XML file. We have a group of people and each person has a name, age, weight and height. The person also has an id. This is an attribute. We can use attributes to give additional information about an element. In this case, we use the id to identify the person.\n",
    "\n",
    "I already save this in file folder, so we can use it later."
   ]
  },
  {
   "cell_type": "markdown",
   "metadata": {},
   "source": [
    "## XML with SAX\n",
    "\n",
    "In order to work with SAX, we first need to import the module:"
   ]
  },
  {
   "cell_type": "code",
   "execution_count": 2,
   "metadata": {},
   "outputs": [],
   "source": [
    "import xml.sax"
   ]
  },
  {
   "cell_type": "markdown",
   "metadata": {},
   "source": [
    "Now, we can create a SAX parser with <code>contentHandler</code> and <code>parser</code>:"
   ]
  },
  {
   "cell_type": "code",
   "execution_count": 3,
   "metadata": {},
   "outputs": [],
   "source": [
    "handler = xml.sax.ContentHandler()\n",
    "parser = xml.sax.make_parser()\n",
    "parser.setContentHandler(handler)\n",
    "parser.parse(\"file/group.xml\")"
   ]
  },
  {
   "cell_type": "markdown",
   "metadata": {},
   "source": [
    "First we create an instance of the ContentHandler class. Then we use the method <i>make_parser</i> to create a parser object. This parser object is then used to parse our XML file.\n",
    "\n",
    "After that we set our *handler* to the content handler of our parser. Finally, we can then parse the file by using the method <i>parse</i> of our parser object."
   ]
  },
  {
   "cell_type": "markdown",
   "metadata": {},
   "source": [
    "## Content Handler Class"
   ]
  },
  {
   "cell_type": "code",
   "execution_count": 4,
   "metadata": {},
   "outputs": [
    {
     "name": "stdout",
     "output_type": "stream",
     "text": [
      "group\n",
      "person\n",
      "name\n",
      "age\n",
      "weight\n",
      "height\n",
      "person\n",
      "name\n",
      "age\n",
      "weight\n",
      "height\n",
      "person\n",
      "name\n",
      "age\n",
      "weight\n",
      "height\n"
     ]
    }
   ],
   "source": [
    "class GroupHandler(xml.sax.ContentHandler):\n",
    "    def startElement(self, name, attrs):\n",
    "        print(name)\n",
    "        \n",
    "handler = GroupHandler()\n",
    "parser = xml.sax.make_parser()\n",
    "parser.setContentHandler(handler)\n",
    "parser.parse(\"file/group.xml\")"
   ]
  },
  {
   "cell_type": "markdown",
   "metadata": {},
   "source": [
    "Ok, so we have create a very simple code here that return all the tag (call as name) and all it attributes. For now, we only call the tag name"
   ]
  },
  {
   "cell_type": "markdown",
   "metadata": {},
   "source": [
    "## Prorcessing XML Data\n",
    "\n",
    "We will edit our code above, make it a bit more complex and includes two more functions."
   ]
  },
  {
   "cell_type": "code",
   "execution_count": 5,
   "metadata": {},
   "outputs": [
    {
     "name": "stdout",
     "output_type": "stream",
     "text": [
      "--- Person ---\n",
      "ID:1\n",
      "Name:Tom\n",
      "Age:17\n",
      "Weight:80\n",
      "Height:180\n",
      "--- Person ---\n",
      "ID:2\n",
      "Name:Sepp\n",
      "Age:18\n",
      "Weight:70\n",
      "Height:175\n",
      "--- Person ---\n",
      "ID:3\n",
      "Name:Nina\n",
      "Age:16\n",
      "Weight:55\n",
      "Height:165\n"
     ]
    }
   ],
   "source": [
    "class GroupHandler(xml.sax.ContentHandler):\n",
    "    def startElement(self, name, attrs):\n",
    "        self.current = name\n",
    "        if self.current == \"person\":\n",
    "            print(\"--- Person ---\")\n",
    "            id = attrs[\"id\"]\n",
    "            print(\"ID:%s\" % id)\n",
    "    \n",
    "    def endElement(self, name):\n",
    "        if self.current == \"name\":\n",
    "            print(\"Name:%s\" % self.name)\n",
    "        elif self.current == \"age\":\n",
    "            print(\"Age:%s\" % self.age)\n",
    "        elif self.current == \"weight\":\n",
    "            print(\"Weight:%s\" % self.weight)\n",
    "        elif self.current == \"height\":\n",
    "            print(\"Height:%s\" % self.height)\n",
    "        self.current = \"\"\n",
    "    \n",
    "    def characters(self, content):\n",
    "        if self.current == \"name\":\n",
    "            self.name = content\n",
    "        elif self.current == \"age\":\n",
    "            self.age = content\n",
    "        elif self.current == \"weight\":\n",
    "            self.weight = content\n",
    "        elif self.current == \"height\":\n",
    "            self.height = content\n",
    "\n",
    "handler = GroupHandler()\n",
    "parser = xml.sax.make_parser()\n",
    "parser.setContentHandler(handler)\n",
    "parser.parse(\"file/group.xml\")"
   ]
  },
  {
   "cell_type": "markdown",
   "metadata": {},
   "source": [
    "The first thing you will notice here is that we have three functions instead of one. When we start processing an element, the function <code>startElement</code> gets called. Then we go on to process the individual characters which are *name*,*age*, *weight* and *height* . At the end of the element parsing, we call the <code>endElement</code> function.\n",
    "\n",
    "In this example, we first check if the element is a *person* or not. If this is the case we print the *id* just for information. We then go on with the characters\n",
    "method. It checks which tag belongs to which attribute and saves the values accordingly. At the end, we print out all the values."
   ]
  },
  {
   "cell_type": "markdown",
   "metadata": {},
   "source": [
    "## XML with DOM\n",
    "\n",
    "Like with SAX, we first need to import the module:"
   ]
  },
  {
   "cell_type": "code",
   "execution_count": 6,
   "metadata": {},
   "outputs": [],
   "source": [
    "import xml.dom.minidom"
   ]
  },
  {
   "cell_type": "markdown",
   "metadata": {},
   "source": [
    "When working with DOM, we need to create a so-called *DOM tree* and view all elements as collections or sequences."
   ]
  },
  {
   "cell_type": "code",
   "execution_count": 7,
   "metadata": {},
   "outputs": [],
   "source": [
    "domtree = xml.dom.minidom.parse(\"file/group.xml\")\n",
    "\n",
    "group = domtree.documentElement"
   ]
  },
  {
   "cell_type": "markdown",
   "metadata": {},
   "source": [
    "We parse the XML file by using the method *parse*. This returns a DOM-tree, which we save into a variable. Then we get the <code>documentElement</code> of our tree and in our case this is **group**. We also save this one into an object."
   ]
  },
  {
   "cell_type": "code",
   "execution_count": 8,
   "metadata": {},
   "outputs": [
    {
     "name": "stdout",
     "output_type": "stream",
     "text": [
      "--- Person ---\n",
      "ID:1\n",
      "Name:Tom\n",
      "Age:17\n",
      "Weight:80\n",
      "Height:180\n",
      "--- Person ---\n",
      "ID:2\n",
      "Name:Sepp\n",
      "Age:18\n",
      "Weight:70\n",
      "Height:175\n",
      "--- Person ---\n",
      "ID:3\n",
      "Name:Nina\n",
      "Age:16\n",
      "Weight:55\n",
      "Height:165\n"
     ]
    }
   ],
   "source": [
    "persons = group.getElementsByTagName(\"person\")\n",
    "for person in persons:\n",
    "    print (\"--- Person ---\")\n",
    "    if person.hasAttribute(\"id\"):\n",
    "        print(\"ID:%s\" % person.getAttribute(\"id\"))\n",
    "    name = person.getElementsByTagName('name')[0]\n",
    "    print(\"Name:%s\" % name.childNodes[0].data)\n",
    "    age = person.getElementsByTagName('age')[0]\n",
    "    print(\"Age:%s\" % age.childNodes[0].data)\n",
    "    weight = person.getElementsByTagName('weight')[0]\n",
    "    print(\"Weight:%s\" % weight.childNodes[0].data)\n",
    "    height = person.getElementsByTagName('height')[0]\n",
    "    print(\"Height:%s\" % height.childNodes[0].data)"
   ]
  },
  {
   "cell_type": "markdown",
   "metadata": {},
   "source": [
    "We get all the individual elements by using the method <code>getElementsByTagName</code>. This returns a list of all the elements with the given tag name. In our case, this is **person**.\n",
    "\n",
    "By using the functions <code>hasAttribute</code> and <code>getAttribute</code>, we can check if an element has a certain attribute and get the value of it.\n",
    "\n",
    "Finally, we can print out all the values with <code>.childNodes[0].data</code>. This is a bit more complicated. First, we get the child nodes of the element. This returns a list of all the child nodes. In our case, this is **name**, **age**, **weight** and **height**. We then get the first element of this list and then the data of it. This is the value of the element."
   ]
  },
  {
   "cell_type": "markdown",
   "metadata": {},
   "source": [
    "When we do all that and execute our script, we get the exact same result as with *SAX*."
   ]
  },
  {
   "cell_type": "markdown",
   "metadata": {},
   "source": [
    "## Manipulating XML Files \n",
    "\n",
    "Since we're now working with DOM, let's manipulate our XML file and change some values."
   ]
  },
  {
   "cell_type": "code",
   "execution_count": 9,
   "metadata": {},
   "outputs": [],
   "source": [
    "persons = group.getElementsByTagName(\"person\")\n",
    "persons[0].getElementsByTagName('name')[0].childNodes[0].data = \"Tom\""
   ]
  },
  {
   "cell_type": "markdown",
   "metadata": {},
   "source": [
    "Just like that, we're using the same function. To access our elements. Here we address the *name* tag of the first person object. We access the first person object by using the index 0. Then we get the first child node of this object, which is the name. Finally, we get the data of this element and change it to *Tom*."
   ]
  },
  {
   "cell_type": "markdown",
   "metadata": {},
   "source": [
    "Then we commit our change by:"
   ]
  },
  {
   "cell_type": "code",
   "execution_count": 10,
   "metadata": {},
   "outputs": [],
   "source": [
    "domtree.writexml(open('file/group.xml', 'w'), encoding='utf-8')"
   ]
  },
  {
   "cell_type": "markdown",
   "metadata": {},
   "source": [
    "This is what we get:\n",
    "\n",
    "```xml\n",
    "<?xml version=\"1.0\" encoding=\"utf-8\"?><group>\n",
    "    <person id=\"1\">\n",
    "        <name>Tom</name>\n",
    "        <age>17</age>\n",
    "        <weight>80</weight>\n",
    "        <height>180</height>\n",
    "    </person>\n",
    "```"
   ]
  },
  {
   "cell_type": "markdown",
   "metadata": {},
   "source": [
    "We can also change the attributes by using the function <code>setAttribute</code>:"
   ]
  },
  {
   "cell_type": "code",
   "execution_count": 11,
   "metadata": {},
   "outputs": [],
   "source": [
    "persons[0].setAttribute(\"id\", \"1\")"
   ]
  },
  {
   "cell_type": "markdown",
   "metadata": {},
   "source": [
    "## Creating New Elements"
   ]
  },
  {
   "cell_type": "markdown",
   "metadata": {},
   "source": [
    "The last thing that we are going to look at in this chapter is creating new XML elements by using DOM,"
   ]
  },
  {
   "cell_type": "code",
   "execution_count": 15,
   "metadata": {},
   "outputs": [],
   "source": [
    "newperson = domtree.createElement(\"person\")\n",
    "newperson.setAttribute(\"id\", \"4\")"
   ]
  },
  {
   "cell_type": "markdown",
   "metadata": {},
   "source": [
    "After that, we create all the elements that we need for the person and assign values to them."
   ]
  },
  {
   "cell_type": "code",
   "execution_count": 16,
   "metadata": {},
   "outputs": [
    {
     "data": {
      "text/plain": [
       "<DOM Text node \"'178'\">"
      ]
     },
     "execution_count": 16,
     "metadata": {},
     "output_type": "execute_result"
    }
   ],
   "source": [
    "name = domtree.createElement(\"name\")\n",
    "name.appendChild(domtree.createTextNode(\"Paul Smith\"))\n",
    "age = domtree.createElement(\"age\")\n",
    "age.appendChild(domtree.createTextNode(\"45\"))\n",
    "weight = domtree.createElement(\"weight\")\n",
    "weight.appendChild(domtree.createTextNode(\"78\"))\n",
    "height = domtree.createElement(\"height\")\n",
    "height.appendChild(domtree.createTextNode(\"178\"))"
   ]
  },
  {
   "cell_type": "markdown",
   "metadata": {},
   "source": [
    "First, we create a new element for each attribute of the person. Then we use the method <code>.appendChild</code> to put something in between the tags of our\n",
    "element. In this case we create a new <code>.createTextNode</code> , which is basically just text.\n",
    "\n",
    "Last but not least, we again need to use the method <code>.appendChild</code> in order to define the hierarchical structure. The attribute elements are the child of the person element and this itself is the child of the group element."
   ]
  },
  {
   "cell_type": "code",
   "execution_count": 18,
   "metadata": {},
   "outputs": [],
   "source": [
    "newperson.appendChild(name)\n",
    "newperson.appendChild(age)\n",
    "newperson.appendChild(weight)\n",
    "newperson.appendChild(height)\n",
    "group.appendChild(newperson)\n",
    "domtree.writexml(open(\"file/group.xml\" , \"w\"))"
   ]
  }
 ],
 "metadata": {
  "kernelspec": {
   "display_name": "Python 3",
   "language": "python",
   "name": "python3"
  },
  "language_info": {
   "codemirror_mode": {
    "name": "ipython",
    "version": 3
   },
   "file_extension": ".py",
   "mimetype": "text/x-python",
   "name": "python",
   "nbconvert_exporter": "python",
   "pygments_lexer": "ipython3",
   "version": "3.11.6"
  },
  "orig_nbformat": 4
 },
 "nbformat": 4,
 "nbformat_minor": 2
}
