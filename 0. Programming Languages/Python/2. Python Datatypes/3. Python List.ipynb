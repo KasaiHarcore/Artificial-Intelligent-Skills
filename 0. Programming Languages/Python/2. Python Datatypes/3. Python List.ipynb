{
 "cells": [
  {
   "cell_type": "markdown",
   "metadata": {},
   "source": [
    "<small><small><i>\n",
    "All the IPython Notebooks in **Python Datatypes** lecture series by **[Dr. Milaan Parmar](https://www.linkedin.com/in/milaanparmar/)** are available @ **[GitHub](https://github.com/milaan9/02_Python_Datatypes)**\n",
    "</i></small></small>"
   ]
  },
  {
   "cell_type": "markdown",
   "metadata": {},
   "source": [
    "# Python List\n",
    "\n",
    "In this class, we'll learn everything about Python lists, how they are created, slicing of a list, adding or removing elements from them and so on.\n",
    "\n",
    "Python offers a range of compound data types often referred to as sequences. List is one of the most frequently used and very versatile data types used in Python."
   ]
  },
  {
   "cell_type": "markdown",
   "metadata": {
    "heading_collapsed": true
   },
   "source": [
    "## What is List in Python?\n",
    "\n",
    "Python list is a **data structure** which is used to store various types of data.In Python, lists are **mutable** i.e., Python will not create a new list if we modify an element of the list.\n",
    "\n",
    "It works as a container that holds other objects in a given order. We can perform various operations like insertion and deletion on list. A list can be composed by storing a **sequence** of different type of values **separated by commas**."
   ]
  },
  {
   "cell_type": "markdown",
   "metadata": {},
   "source": [
    "### Summary\n",
    "\n",
    "| Data types     | Type          |         |\n",
    "| :------------: | :-----------: |:------: |\n",
    "| **String**     | **immutable** |  |\n",
    "| **List**       | **mutable**   |✎|"
   ]
  },
  {
   "cell_type": "markdown",
   "metadata": {},
   "source": [
    "## Creating Python List\n",
    "\n",
    "In Python programming, a list is created by placing all the items (elements) inside **square brackets `[]`**, separated by **commas** **`,`**. All the elements in list are stored in the index basis with starting index **0**.\n",
    "\n",
    "It can have any number of items and they may be of different types (integer, float, string etc.).\n",
    "\n",
    "<div>\n",
    "<img src=\"img/l0.png\" width=\"600\"/>\n",
    "</div>\n",
    "\n",
    "**Syantax:** \n",
    "\n",
    "```python\n",
    "<list_name>=[value1,value2,value3,...,valuen] \n",
    "```"
   ]
  },
  {
   "cell_type": "code",
   "execution_count": 1,
   "metadata": {
    "ExecuteTime": {
     "end_time": "2021-10-03T09:17:05.188178Z",
     "start_time": "2021-10-03T09:17:05.168649Z"
    }
   },
   "outputs": [
    {
     "name": "stdout",
     "output_type": "stream",
     "text": [
      "[]\n",
      "0\n",
      "[1, 2, 3]\n",
      "[1, 'Hello', 3.4]\n",
      "['mouse', [9, 3, 6], ['a']]\n",
      "['foo', 'bar', 'baz', 'quz', 'quux', 'corge']\n",
      "[1, 2, 3, 4, 4.5, 'helloworld', 'X']\n"
     ]
    }
   ],
   "source": [
    "# Example:\n",
    "\n",
    "# empty list, no item in the list\n",
    "my_list = []  \n",
    "print(my_list)      # ▶ ()\n",
    "print(len(my_list)) # ▶ 0\n",
    "\n",
    "# list of integers\n",
    "my_list1 = [1, 2, 3]  \n",
    "print(my_list1)     # ▶ [1, 2, 3]\n",
    "\n",
    "# list with mixed data types\n",
    "my_list2 = [1, \"Hello\", 3.4]\n",
    "print(my_list2)     # ▶ [1, 'Hello', 3.4]\n",
    "\n",
    "# nested list\n",
    "my_list3 = [\"mouse\", [9, 3, 6], ['a']]\n",
    "print(my_list3)     # ▶ [\"mouse\", [9, 3, 6], ['a']]\n",
    "\n",
    "my_list4=['foo','bar','baz','quz','quux','corge']\n",
    "print(my_list4)     # ▶ ['foo','bar','baz','quz','quux','corge']\n",
    "\n",
    "my_list5=[1,2,3,4,4.5,'helloworld','X']\n",
    "print(my_list5)     # ▶ [1,2,3,4,4.5,'helloworld','X']"
   ]
  },
  {
   "cell_type": "markdown",
   "metadata": {},
   "source": [
    "## Access elements from a list\n",
    "\n",
    "There are various ways in which we can access the elements of a list."
   ]
  },
  {
   "cell_type": "markdown",
   "metadata": {},
   "source": [
    "### List Index\n",
    "\n",
    "We can use the index operator **`[]`** to access an item in a list. In Python, indices start at 0. So, a list having 5 elements will have an index from 0 to 4.\n",
    "\n",
    "Trying to access indexes other than these will raise an **`IndexError`**. The index must be an integer. We can't use float or other types, this will result in **`TypeError`**.\n",
    "\n",
    "Nested lists are accessed using nested indexing."
   ]
  },
  {
   "cell_type": "markdown",
   "metadata": {},
   "source": [
    "<div>\n",
    "<img src=\"img/l6_1.png\" width=\"400\"/>\n",
    "</div>"
   ]
  },
  {
   "cell_type": "code",
   "execution_count": 2,
   "metadata": {
    "ExecuteTime": {
     "end_time": "2021-10-03T09:17:05.870808Z",
     "start_time": "2021-10-03T09:17:05.197947Z"
    },
    "scrolled": true
   },
   "outputs": [
    {
     "name": "stdout",
     "output_type": "stream",
     "text": [
      "p\n",
      "o\n",
      "e\n",
      "a\n",
      "5\n"
     ]
    },
    {
     "ename": "TypeError",
     "evalue": "list indices must be integers or slices, not float",
     "output_type": "error",
     "traceback": [
      "\u001b[1;31m---------------------------------------------------------------------------\u001b[0m",
      "\u001b[1;31mTypeError\u001b[0m                                 Traceback (most recent call last)",
      "\u001b[1;32m<ipython-input-2-0a4959e7a13b>\u001b[0m in \u001b[0;36m<module>\u001b[1;34m\u001b[0m\n\u001b[0;32m     14\u001b[0m \u001b[0mprint\u001b[0m\u001b[1;33m(\u001b[0m\u001b[0mn_list\u001b[0m\u001b[1;33m[\u001b[0m\u001b[1;36m1\u001b[0m\u001b[1;33m]\u001b[0m\u001b[1;33m[\u001b[0m\u001b[1;36m3\u001b[0m\u001b[1;33m]\u001b[0m\u001b[1;33m)\u001b[0m \u001b[1;31m# ▶ 5\u001b[0m\u001b[1;33m\u001b[0m\u001b[1;33m\u001b[0m\u001b[0m\n\u001b[0;32m     15\u001b[0m \u001b[1;33m\u001b[0m\u001b[0m\n\u001b[1;32m---> 16\u001b[1;33m \u001b[0mprint\u001b[0m\u001b[1;33m(\u001b[0m\u001b[0mmy_list\u001b[0m\u001b[1;33m[\u001b[0m\u001b[1;36m4.0\u001b[0m\u001b[1;33m]\u001b[0m\u001b[1;33m)\u001b[0m \u001b[1;31m# ▶ TypeError: list indices must be integers or slices, not float\u001b[0m\u001b[1;33m\u001b[0m\u001b[1;33m\u001b[0m\u001b[0m\n\u001b[0m",
      "\u001b[1;31mTypeError\u001b[0m: list indices must be integers or slices, not float"
     ]
    }
   ],
   "source": [
    "# Example: List indexing\n",
    "\n",
    "my_list = ['p', 'r', 'o', 'b', 'e']\n",
    "\n",
    "print(my_list[0]) # ▶  p\n",
    "print(my_list[2]) # ▶  o\n",
    "print(my_list[4]) # ▶  e\n",
    "\n",
    "# Nested List\n",
    "n_list = [\"Happy\", [2, 0, 1, 5]]\n",
    "\n",
    "# Nested indexing\n",
    "print(n_list[0][1]) # ▶ a\n",
    "print(n_list[1][3]) # ▶ 5\n",
    "\n",
    "print(my_list[4.0]) # ▶ TypeError: list indices must be integers or slices, not float"
   ]
  },
  {
   "cell_type": "markdown",
   "metadata": {},
   "source": [
    "### Negative indexing\n",
    "\n",
    "Python allows negative indexing for its sequences. The index of -1 refers to the last item, -2 to the second last item and so on."
   ]
  },
  {
   "cell_type": "code",
   "execution_count": 3,
   "metadata": {
    "ExecuteTime": {
     "end_time": "2021-10-03T09:17:21.693159Z",
     "start_time": "2021-10-03T09:17:21.675586Z"
    }
   },
   "outputs": [
    {
     "name": "stdout",
     "output_type": "stream",
     "text": [
      "e\n",
      "p\n"
     ]
    }
   ],
   "source": [
    "# Example: Negative indexing in lists\n",
    "\n",
    "# Python allows negative indexing for its sequences. \n",
    "#The index of -1 refers to the last item, -2 to the second last item and so on.\n",
    "\n",
    "my_list = ['p','r','o','b','e']\n",
    "\n",
    "print(my_list[-1])  # ▶ e\n",
    "print(my_list[-5])  # ▶ p"
   ]
  },
  {
   "cell_type": "markdown",
   "metadata": {},
   "source": [
    ">**Note:** If the index provided in the list slice is outside the list, then it raises an IndexError exception."
   ]
  },
  {
   "cell_type": "markdown",
   "metadata": {},
   "source": [
    "### How to slice lists in Python?\n",
    "\n",
    "We can access a range of items in a list by using the slicing operator **`:`**(colon).\n",
    "\n",
    "**Syntax:**\n",
    "\n",
    "```python\n",
    "<list_name>[start : stop : step]\n",
    "```"
   ]
  },
  {
   "cell_type": "code",
   "execution_count": 4,
   "metadata": {
    "ExecuteTime": {
     "end_time": "2021-10-03T09:17:23.231742Z",
     "start_time": "2021-10-03T09:17:23.210264Z"
    }
   },
   "outputs": [
    {
     "name": "stdout",
     "output_type": "stream",
     "text": [
      "['o', 'g', 'r']\n",
      "['p', 'r', 'o', 'g', 'r']\n",
      "['a', 'm', 'i', 'n', 'g']\n",
      "['p', 'r', 'o', 'g', 'r', 'a', 'm', 'i', 'n', 'g']\n"
     ]
    }
   ],
   "source": [
    "# Example: List slicing in Python\n",
    "\n",
    "my_list = ['p','r','o','g','r','a','m','i','n','g']\n",
    "# indes   [ 0   1   2   3   4   5   6   7   8   9 ]\n",
    "# index   [-10 -9  -8  -7  -6  -5  -4  -3  -2  -1 ]\n",
    "\n",
    "print(my_list[2:5])   # ▶ ['o', 'g', 'r'] ∵ elements 3rd to 4th\n",
    "print(my_list[:-5])   # ▶ ['p', 'r', 'o', 'g', 'r'] ∵ elements beginning to 4th\n",
    "print(my_list[5:])    # ▶ ['a', 'm', 'i', 'n', 'g'] ∵ elements 5th to end\n",
    "\n",
    "# elements beginning to end\n",
    "print(my_list[:])     # ▶ ('p', 'r', 'o', 'g', 'r', 'a', 'm', 'i', 'n','g')"
   ]
  },
  {
   "cell_type": "markdown",
   "metadata": {},
   "source": [
    "Slicing can be best visualized by considering the index to be between the elements as shown below. So if we want to access a range, we need two indices that will slice that portion from the list.\n",
    "\n",
    "<div>\n",
    "<img src=\"img/l6_2.png\" width=\"350\"/>\n",
    "</div>"
   ]
  },
  {
   "cell_type": "markdown",
   "metadata": {},
   "source": [
    ">**NOTE:** Internal Memory Organization:\n",
    "\n",
    ">List do not store the elements directly at the index. In fact a reference is stored at each index which subsequently refers to the object stored somewhere in the memory. This is due to the fact that some objects may be large enough than other objects and hence they are stored at some other memory location."
   ]
  },
  {
   "cell_type": "code",
   "execution_count": 5,
   "metadata": {
    "ExecuteTime": {
     "end_time": "2021-10-03T09:17:21.893355Z",
     "start_time": "2021-10-03T09:17:21.869437Z"
    },
    "scrolled": false
   },
   "outputs": [
    {
     "name": "stdout",
     "output_type": "stream",
     "text": [
      "baz\n",
      "['foo', 'bar', 'baz', 'quz', 'quux', 'corge']\n",
      "['quux', 'corge']\n",
      "['baz', 'quz', 'quux']\n",
      "['bar', 'quz']\n",
      "['corge', 'quux', 'quz', 'baz', 'bar', 'foo']\n",
      "corge\n",
      "quux\n",
      "5\n",
      "True\n"
     ]
    }
   ],
   "source": [
    "# Example:\n",
    "\n",
    "list=['foo','bar','baz','quz','quux','corge']\n",
    "\n",
    "print(list[2])         # ▶ baz\n",
    "print(list[0:])        # ▶ ['foo', 'bar', 'baz', 'quz', 'quux', 'corge'] ∵ if we don't set where to stop it takes all the rest\n",
    "print(list[4:6])       # ▶ ['quux', 'corge']\n",
    "print(list[-4:-1])     # ▶ ['baz', 'quz', 'quux'] ∵ it does not include the end index\n",
    "print(list[1:5:2])     # ▶ ['bar', 'quz'] ∵ it does not include the end index\n",
    "print(list[-1: :-1])   # ▶ ['corge', 'quux', 'quz', 'baz', 'bar', 'foo'] ∵ reverse list\n",
    "print(list[-1])        # ▶ corge ∵ last element\n",
    "print(list[-2])        # ▶ quux ∵ second last element\n",
    "print(len(list)-1)     # ▶ 5 ∵ index of last element\n",
    "\n",
    "does_exist = 'bar' in list\n",
    "print(does_exist)      # ▶ True"
   ]
  },
  {
   "cell_type": "markdown",
   "metadata": {},
   "source": [
    "## Python List Operations\n",
    "\n",
    "Apart from creating and accessing elements from the list, Python allows us to perform various other operations on the list. Some common operations are given below:"
   ]
  },
  {
   "cell_type": "markdown",
   "metadata": {},
   "source": [
    "### Add/Change List Elements\n",
    "\n",
    "Lists are mutable, meaning their elements can be changed unlike **[string](https://github.com/milaan9/02_Python_Datatypes/blob/main/002_Python_String.ipynb)** or **[tuple](https://github.com/milaan9/02_Python_Datatypes/blob/main/004_Python_Tuple.ipynb)**.\n",
    "\n",
    "We can use the assignment operator (**`=`**) to change an item or a range of items."
   ]
  },
  {
   "cell_type": "code",
   "execution_count": 6,
   "metadata": {
    "ExecuteTime": {
     "end_time": "2021-10-03T09:17:25.010562Z",
     "start_time": "2021-10-03T09:17:24.992012Z"
    }
   },
   "outputs": [
    {
     "name": "stdout",
     "output_type": "stream",
     "text": [
      "[1, 4, 6, 8]\n",
      "[1, 3, 5, 7]\n"
     ]
    }
   ],
   "source": [
    "# Example: Correcting mistake values in a list\n",
    "\n",
    "odd = [2, 4, 6, 8]\n",
    "  \n",
    "odd[0] = 1            # ▶ [1, 4, 6, 8] ∵ update 1st element         \n",
    "print(odd)\n",
    "\n",
    "odd[1:4] = [3, 5, 7]  # ▶ [1, 3, 5, 7] ∵ update 2nd to 4th elements\n",
    "print(odd)  "
   ]
  },
  {
   "cell_type": "code",
   "execution_count": 7,
   "metadata": {
    "ExecuteTime": {
     "end_time": "2021-10-03T09:17:25.296700Z",
     "start_time": "2021-10-03T09:17:25.276192Z"
    },
    "scrolled": false
   },
   "outputs": [
    {
     "name": "stdout",
     "output_type": "stream",
     "text": [
      "[5, 10, 15, 20, 25]\n",
      "[5, 10, 'Multiple of 5', 20, 25]\n"
     ]
    }
   ],
   "source": [
    "# Example:\n",
    "\n",
    "data1=[5,10,15,20,25]\n",
    "print(data1) # ▶ [5, 10, 15, 20, 25]\n",
    "\n",
    "data1[2]=\"Multiple of 5\"  # we are modifying the 3rd element using its index [2] \n",
    "print(data1) # ▶ [5, 10, 'Multiple of 5', 20, 25]"
   ]
  },
  {
   "cell_type": "markdown",
   "metadata": {},
   "source": [
    "We can add one item to a list using the **`append()`** method or add several items using **`extend()`** method."
   ]
  },
  {
   "cell_type": "code",
   "execution_count": 8,
   "metadata": {
    "ExecuteTime": {
     "end_time": "2021-10-03T09:17:26.102368Z",
     "start_time": "2021-10-03T09:17:26.088696Z"
    },
    "scrolled": true
   },
   "outputs": [
    {
     "name": "stdout",
     "output_type": "stream",
     "text": [
      "[1, 3, 5, 7]\n",
      "[1, 3, 5, 7, 9, 11, 13]\n"
     ]
    }
   ],
   "source": [
    "# Example: Appending and Extending lists in Python\n",
    "\n",
    "odd = [1, 3, 5]\n",
    "\n",
    "odd.append(7)\n",
    "print(odd)  # ▶ [1, 3, 5, 7]\n",
    "\n",
    "odd.extend([9, 11, 13])\n",
    "print(odd)  # ▶ [1, 3, 5, 7, 9, 11, 13]"
   ]
  },
  {
   "cell_type": "code",
   "execution_count": 9,
   "metadata": {
    "ExecuteTime": {
     "end_time": "2021-10-03T09:17:26.411450Z",
     "start_time": "2021-10-03T09:17:26.383133Z"
    }
   },
   "outputs": [
    {
     "name": "stdout",
     "output_type": "stream",
     "text": [
      "['a', 'b', 'c', 1.5, 'x', ['y', 'z']]\n"
     ]
    }
   ],
   "source": [
    "# Example:\n",
    "\n",
    "list1=['a','b','c']\n",
    "list1.append(1.5)\n",
    "list1.append('x')\n",
    "list1.append(['y','z']) # append list into list as single object\n",
    "print(list1)  # ▶ ['a', 'b', 'c', 1.5, 'x', ['y', 'z']]"
   ]
  },
  {
   "cell_type": "markdown",
   "metadata": {},
   "source": [
    "We can also use **`+`** (concatenation) operator to combine two lists. This is also called concatenation."
   ]
  },
  {
   "cell_type": "code",
   "execution_count": 10,
   "metadata": {
    "ExecuteTime": {
     "end_time": "2021-10-03T09:17:27.189775Z",
     "start_time": "2021-10-03T09:17:27.169273Z"
    }
   },
   "outputs": [
    {
     "name": "stdout",
     "output_type": "stream",
     "text": [
      "[1, 3, 5, 9, 7, 5]\n"
     ]
    }
   ],
   "source": [
    "# Example: Concatenating and repeating lists\n",
    "\n",
    "odd = [1, 3, 5]\n",
    "print(odd + [9, 7, 5]) # ▶ [1, 3, 5, 9, 7, 5] "
   ]
  },
  {
   "cell_type": "code",
   "execution_count": 11,
   "metadata": {
    "ExecuteTime": {
     "end_time": "2021-10-03T09:17:27.402669Z",
     "start_time": "2021-10-03T09:17:27.383145Z"
    },
    "scrolled": false
   },
   "outputs": [
    {
     "name": "stdout",
     "output_type": "stream",
     "text": [
      "['a', 'b', 'c', 'x', 'y', 'z']\n"
     ]
    }
   ],
   "source": [
    "# Example:\n",
    "\n",
    "list1=['a','b','c']\n",
    "list2=['x','y','z']\n",
    "list3=list1+list2\n",
    "print(list3)  # ▶ ['a', 'b', 'c', 'x', 'y', 'z']"
   ]
  },
  {
   "cell_type": "code",
   "execution_count": 12,
   "metadata": {
    "ExecuteTime": {
     "end_time": "2021-10-03T09:17:27.828941Z",
     "start_time": "2021-10-03T09:17:27.750817Z"
    },
    "scrolled": true
   },
   "outputs": [
    {
     "ename": "TypeError",
     "evalue": "can only concatenate list (not \"str\") to list",
     "output_type": "error",
     "traceback": [
      "\u001b[1;31m---------------------------------------------------------------------------\u001b[0m",
      "\u001b[1;31mTypeError\u001b[0m                                 Traceback (most recent call last)",
      "\u001b[1;32m<ipython-input-12-4ed3868a9a2e>\u001b[0m in \u001b[0;36m<module>\u001b[1;34m\u001b[0m\n\u001b[0;32m      3\u001b[0m \u001b[0mlist1\u001b[0m\u001b[1;33m=\u001b[0m\u001b[1;33m[\u001b[0m\u001b[1;34m'a'\u001b[0m\u001b[1;33m,\u001b[0m\u001b[1;34m'b'\u001b[0m\u001b[1;33m,\u001b[0m\u001b[1;34m'c'\u001b[0m\u001b[1;33m]\u001b[0m\u001b[1;33m\u001b[0m\u001b[1;33m\u001b[0m\u001b[0m\n\u001b[0;32m      4\u001b[0m \u001b[0ma\u001b[0m\u001b[1;33m=\u001b[0m\u001b[1;34m'x'\u001b[0m\u001b[1;33m\u001b[0m\u001b[1;33m\u001b[0m\u001b[0m\n\u001b[1;32m----> 5\u001b[1;33m \u001b[0mprint\u001b[0m\u001b[1;33m(\u001b[0m\u001b[0mlist1\u001b[0m\u001b[1;33m+\u001b[0m\u001b[0ma\u001b[0m\u001b[1;33m)\u001b[0m  \u001b[1;31m# ▶ TypeError: can only concatenate list (not \"str\") to list\u001b[0m\u001b[1;33m\u001b[0m\u001b[1;33m\u001b[0m\u001b[0m\n\u001b[0m",
      "\u001b[1;31mTypeError\u001b[0m: can only concatenate list (not \"str\") to list"
     ]
    }
   ],
   "source": [
    "# Example:\n",
    "\n",
    "list1=['a','b','c']\n",
    "a='x'\n",
    "print(list1+a)  # ▶ TypeError: can only concatenate list (not \"str\") to list"
   ]
  },
  {
   "cell_type": "markdown",
   "metadata": {},
   "source": [
    ">**NOTE:** **`+`** operator implies that both the operands passed must be list else error will be shown."
   ]
  },
  {
   "cell_type": "markdown",
   "metadata": {},
   "source": [
    "The **`'*'`** operator repeats a list for the given number of times."
   ]
  },
  {
   "cell_type": "code",
   "execution_count": 13,
   "metadata": {
    "ExecuteTime": {
     "end_time": "2021-10-03T09:17:28.334314Z",
     "start_time": "2021-10-03T09:17:28.322599Z"
    }
   },
   "outputs": [
    {
     "name": "stdout",
     "output_type": "stream",
     "text": [
      "[1, 3, 5, 9, 7, 5]\n",
      "['re', 're', 're']\n"
     ]
    }
   ],
   "source": [
    "# Example: Concatenating and repeating lists\n",
    "\n",
    "odd = [1, 3, 5]\n",
    "\n",
    "print(odd + [9, 7, 5])  # ▶ [1, 3, 5, 9, 7, 5]\n",
    "print([\"re\"] * 3)       # ▶ ['re', 're', 're']"
   ]
  },
  {
   "cell_type": "code",
   "execution_count": 14,
   "metadata": {
    "ExecuteTime": {
     "end_time": "2021-10-03T09:17:28.534510Z",
     "start_time": "2021-10-03T09:17:28.519867Z"
    }
   },
   "outputs": [
    {
     "name": "stdout",
     "output_type": "stream",
     "text": [
      "['a', 'b', 'c', 'a', 'b', 'c', 'a', 'b', 'c']\n",
      "['re', 're', 're']\n"
     ]
    }
   ],
   "source": [
    "# Example:\n",
    "\n",
    "list1=['a','b','c']\n",
    "print(list1*3)    # ▶ quux ∵ \n",
    "print([\"re\"] * 3) # ▶ quux ∵ "
   ]
  },
  {
   "cell_type": "markdown",
   "metadata": {},
   "source": [
    "Furthermore, we can insert one item at a desired location by using the method **`insert()`** or insert multiple items by squeezing it into an empty slice of a list."
   ]
  },
  {
   "cell_type": "code",
   "execution_count": 15,
   "metadata": {
    "ExecuteTime": {
     "end_time": "2021-10-03T09:17:29.052094Z",
     "start_time": "2021-10-03T09:17:29.043306Z"
    }
   },
   "outputs": [
    {
     "name": "stdout",
     "output_type": "stream",
     "text": [
      "[1, 3, 9]\n",
      "[1, 3, 5, 7, 9]\n"
     ]
    }
   ],
   "source": [
    "# Example: Demonstration of list insert() method\n",
    "\n",
    "odd = [1, 9]\n",
    "odd.insert(1,3)\n",
    "print(odd)  # ▶ [1, 3, 9] \n",
    "\n",
    "odd[2:2] = [5, 7]\n",
    "print(odd)  # ▶ [1, 3, 5, 7, 9]"
   ]
  },
  {
   "cell_type": "markdown",
   "metadata": {},
   "source": [
    "### Delete/Remove List Elements\n",
    "\n",
    "We can delete one or more items from a list using the keyword **`del`**. It can even delete the list entirely."
   ]
  },
  {
   "cell_type": "code",
   "execution_count": 16,
   "metadata": {
    "ExecuteTime": {
     "end_time": "2021-10-03T09:17:29.481784Z",
     "start_time": "2021-10-03T09:17:29.461278Z"
    },
    "scrolled": true
   },
   "outputs": [
    {
     "name": "stdout",
     "output_type": "stream",
     "text": [
      "['p', 'r', 'b', 'l', 'e', 'm']\n",
      "['p', 'm']\n"
     ]
    },
    {
     "ename": "NameError",
     "evalue": "name 'my_list' is not defined",
     "output_type": "error",
     "traceback": [
      "\u001b[1;31m---------------------------------------------------------------------------\u001b[0m",
      "\u001b[1;31mNameError\u001b[0m                                 Traceback (most recent call last)",
      "\u001b[1;32m<ipython-input-16-b72af0bfcd83>\u001b[0m in \u001b[0;36m<module>\u001b[1;34m\u001b[0m\n\u001b[0;32m     10\u001b[0m \u001b[1;33m\u001b[0m\u001b[0m\n\u001b[0;32m     11\u001b[0m \u001b[1;32mdel\u001b[0m \u001b[0mmy_list\u001b[0m      \u001b[1;31m# delete entire list\u001b[0m\u001b[1;33m\u001b[0m\u001b[1;33m\u001b[0m\u001b[0m\n\u001b[1;32m---> 12\u001b[1;33m \u001b[0mprint\u001b[0m\u001b[1;33m(\u001b[0m\u001b[0mmy_list\u001b[0m\u001b[1;33m)\u001b[0m   \u001b[1;31m# ▶ NameError: name 'my_list' is not defined\u001b[0m\u001b[1;33m\u001b[0m\u001b[1;33m\u001b[0m\u001b[0m\n\u001b[0m",
      "\u001b[1;31mNameError\u001b[0m: name 'my_list' is not defined"
     ]
    }
   ],
   "source": [
    "# Example: Deleting list items\n",
    "\n",
    "my_list = ['p', 'r', 'o', 'b', 'l', 'e', 'm']\n",
    "\n",
    "del my_list[2]  # delete one item\n",
    "print(my_list)  # ▶ ['p', 'r', 'b', 'l', 'e', 'm'] \n",
    "\n",
    "del my_list[1:5]  # delete multiple items\n",
    "print(my_list)  # ▶ ['p', 'm']\n",
    "\n",
    "del my_list      # delete entire list\n",
    "print(my_list)   # ▶ NameError: name 'my_list' is not defined"
   ]
  },
  {
   "cell_type": "code",
   "execution_count": 17,
   "metadata": {
    "ExecuteTime": {
     "end_time": "2021-10-03T09:17:29.698583Z",
     "start_time": "2021-10-03T09:17:29.687842Z"
    },
    "scrolled": true
   },
   "outputs": [
    {
     "name": "stdout",
     "output_type": "stream",
     "text": [
      "data in list :  ['a', 'b', 'c']\n",
      "new data in list :  ['a', 'b']\n"
     ]
    }
   ],
   "source": [
    "# Example:\n",
    "\n",
    "list1=['a','b','c']\n",
    "print(\"data in list : \",list1)      # ▶ data in list :  ['a', 'b', 'c']\n",
    "\n",
    "del(list1[2])\n",
    "print(\"new data in list : \",list1)  # ▶ new data in list :  ['a', 'b']"
   ]
  },
  {
   "cell_type": "markdown",
   "metadata": {},
   "source": [
    "We can use **`remove()`** method to remove the given item or **`pop()`** method to remove an item at the given index.\n",
    "\n",
    "The **`pop()`** method removes and returns the last item if the index is not provided. This helps us implement lists as stacks (first in, last out data structure).\n",
    "\n",
    "We can also use the **`clear()`** method to empty a list."
   ]
  },
  {
   "cell_type": "code",
   "execution_count": 18,
   "metadata": {
    "ExecuteTime": {
     "end_time": "2021-10-03T09:17:30.111668Z",
     "start_time": "2021-10-03T09:17:30.093604Z"
    }
   },
   "outputs": [
    {
     "name": "stdout",
     "output_type": "stream",
     "text": [
      "['r', 'o', 'b', 'l', 'e', 'm']\n",
      "o\n",
      "['r', 'b', 'l', 'e', 'm']\n",
      "m\n",
      "['r', 'b', 'l', 'e']\n",
      "[]\n"
     ]
    }
   ],
   "source": [
    "# Example:\n",
    "\n",
    "my_list = ['p','r','o','b','l','e','m']\n",
    "my_list.remove('p')\n",
    "\n",
    "print(my_list)        # ▶ ['r', 'o', 'b', 'l', 'e', 'm']\n",
    "print(my_list.pop(1)) # ▶ 'o'\n",
    "print(my_list)        # ▶ ['r', 'b', 'l', 'e', 'm']\n",
    "print(my_list.pop())  # ▶ 'm'\n",
    "print(my_list)        # ▶ ['r', 'b', 'l', 'e']\n",
    "\n",
    "my_list.clear()\n",
    "print(my_list)        # ▶ []"
   ]
  },
  {
   "cell_type": "markdown",
   "metadata": {},
   "source": [
    "Finally, we can also delete items in a list by assigning an empty list to a slice of elements."
   ]
  },
  {
   "cell_type": "code",
   "execution_count": 19,
   "metadata": {
    "ExecuteTime": {
     "end_time": "2021-10-03T09:17:30.608254Z",
     "start_time": "2021-10-03T09:17:30.586772Z"
    }
   },
   "outputs": [
    {
     "name": "stdout",
     "output_type": "stream",
     "text": [
      "['p', 'r', 'b', 'l', 'e', 'm']\n",
      "['p', 'r', 'e', 'm']\n"
     ]
    }
   ],
   "source": [
    "# Example:\n",
    "\n",
    "my_list = ['p','r','o','b','l','e','m']\n",
    "\n",
    "my_list[2:3] = []\n",
    "print(my_list)  # ▶ ['p', 'r', 'b', 'l', 'e', 'm']\n",
    "\n",
    "my_list[2:-2] = []\n",
    "print(my_list)  # ▶ ['p', 'r', 'e', 'm']"
   ]
  },
  {
   "cell_type": "markdown",
   "metadata": {},
   "source": [
    "##  Python Built-in List Functions\n",
    "\n",
    "Built-in functions like **`all()`**, **`any()`**, **`sorted()`**, **`min()`**, **`max()`**, **`len()`**, **`cmp()`**, **`list()`**, etc. are commonly used with dictionaries to perform different tasks.\n",
    "\n",
    "| Functions | Description |\n",
    "|:----| :--- |\n",
    "| **[all()](https://github.com/milaan9/04_Python_Functions/blob/main/002_Python_Functions_Built_in/003_Python_all%28%29.ipynb)** |   Returns **`True`** if all keys of the list are True. | \n",
    "| **[any()](https://github.com/milaan9/04_Python_Functions/blob/main/002_Python_Functions_Built_in/002_Python_any%28%29.ipynb)** |   Returns **`True`** if any key of the list is true. If the list is empty, return **`False`**. | \n",
    "| **[sorted()](https://github.com/milaan9/04_Python_Functions/blob/main/002_Python_Functions_Built_in/060_Python_sorted%28%29.ipynb)** |   Returns a new sorted list of elements in the list. | \n",
    "| **[min()](https://github.com/milaan9/04_Python_Functions/blob/main/002_Python_Functions_Built_in/042_Python_min%28%29.ipynb)** |   Returns the minimum value from the list given. | \n",
    "| **[max()](https://github.com/milaan9/04_Python_Functions/blob/main/002_Python_Functions_Built_in/041_Python_max%28%29.ipynb)** |   Returns the maximum value from the list given. | \n",
    "| **[len()](https://github.com/milaan9/04_Python_Functions/blob/main/002_Python_Functions_Built_in/040_Python_len%28%29.ipynb)** |   Returns number of elements in a list. | \n",
    "| **cmp()** |   Compares items of two lists. (Not available in Python 3). | \n",
    "| **[list()](https://github.com/milaan9/04_Python_Functions/blob/main/002_Python_Functions_Built_in/038_Python_list%28%29_Function.ipynb)** |   Takes sequence types and converts them to lists. | "
   ]
  },
  {
   "cell_type": "markdown",
   "metadata": {},
   "source": [
    "### **`all(list)`** - The method all() method returns True when all elements in the given iterable are true. If not, it returns False."
   ]
  },
  {
   "cell_type": "code",
   "execution_count": 20,
   "metadata": {
    "ExecuteTime": {
     "end_time": "2021-10-03T09:17:31.630720Z",
     "start_time": "2021-10-03T09:17:31.611193Z"
    },
    "scrolled": true
   },
   "outputs": [
    {
     "name": "stdout",
     "output_type": "stream",
     "text": [
      "True\n",
      "False\n",
      "False\n",
      "False\n",
      "True\n"
     ]
    }
   ],
   "source": [
    "# Example: How all() works for lists?\n",
    "\n",
    "l = [1, 3, 4, 5]\n",
    "print(all(l))  # ▶ True ∵ all values true\n",
    "\n",
    "l = [0, False]\n",
    "print(all(l))  # ▶ False ∵ all values false\n",
    "\n",
    "l = [1, 3, 4, 0]\n",
    "print(all(l))  # ▶ False ∵ one false value\n",
    "\n",
    "l = [0, False, 5]\n",
    "print(all(l))  # ▶ False ∵ one true value\n",
    "\n",
    "l = []\n",
    "print(all(l))  # ▶ True ∵ empty iterable"
   ]
  },
  {
   "cell_type": "markdown",
   "metadata": {},
   "source": [
    "### **`any(list)`** - any() function returns True if any element of an iterable is True. If not, any() returns False."
   ]
  },
  {
   "cell_type": "code",
   "execution_count": 21,
   "metadata": {
    "ExecuteTime": {
     "end_time": "2021-10-03T09:17:32.042343Z",
     "start_time": "2021-10-03T09:17:32.019888Z"
    },
    "scrolled": true
   },
   "outputs": [
    {
     "name": "stdout",
     "output_type": "stream",
     "text": [
      "True\n",
      "False\n",
      "True\n",
      "False\n"
     ]
    }
   ],
   "source": [
    "# Example: True since 1,3 and 4 (at least one) is true\n",
    "\n",
    "l = [1, 3, 4, 0]\n",
    "print(any(l))  # ▶ True \n",
    "\n",
    "l = [0, False]\n",
    "print(any(l))  # ▶ False ∵ both are False\n",
    "\n",
    "l = [0, False, 5]\n",
    "print(any(l))  # ▶ True ∵ 5 is true\n",
    "\n",
    "l = []\n",
    "print(any(l))  # ▶ False ∵ iterable is empty"
   ]
  },
  {
   "cell_type": "markdown",
   "metadata": {},
   "source": [
    "### **`sorted(dict)`** - The sorted() function sorts the elements of a given iterable in a specific order (either **ascending** or **descending**) and returns the sorted iterable as a list."
   ]
  },
  {
   "cell_type": "code",
   "execution_count": 22,
   "metadata": {
    "ExecuteTime": {
     "end_time": "2021-10-03T09:17:32.452016Z",
     "start_time": "2021-10-03T09:17:32.443229Z"
    }
   },
   "outputs": [
    {
     "name": "stdout",
     "output_type": "stream",
     "text": [
      "['a', 'e', 'i', 'o', 'u']\n",
      "['u', 'o', 'i', 'e', 'a']\n"
     ]
    }
   ],
   "source": [
    "# Example: vowels list\n",
    "\n",
    "py_list = ['e', 'a', 'u', 'o', 'i']\n",
    "print(sorted(py_list))                # ▶ ['a', 'e', 'i', 'o', 'u']\n",
    "print(sorted(py_list, reverse=True))  # ▶ ['u', 'o', 'i', 'e', 'a']"
   ]
  },
  {
   "cell_type": "markdown",
   "metadata": {},
   "source": [
    "### **`min(list)`** - this method is used to get min value from the list. In Python3 lists element's type should be same otherwise compiler throw type Error. "
   ]
  },
  {
   "cell_type": "code",
   "execution_count": 23,
   "metadata": {
    "ExecuteTime": {
     "end_time": "2021-10-03T09:17:33.100459Z",
     "start_time": "2021-10-03T09:17:33.083858Z"
    }
   },
   "outputs": [
    {
     "name": "stdout",
     "output_type": "stream",
     "text": [
      "a\n",
      "1\n"
     ]
    },
    {
     "ename": "TypeError",
     "evalue": "'<' not supported between instances of 'int' and 'str'",
     "output_type": "error",
     "traceback": [
      "\u001b[1;31m---------------------------------------------------------------------------\u001b[0m",
      "\u001b[1;31mTypeError\u001b[0m                                 Traceback (most recent call last)",
      "\u001b[1;32m<ipython-input-23-9b450cb47d30>\u001b[0m in \u001b[0;36m<module>\u001b[1;34m\u001b[0m\n\u001b[0;32m      7\u001b[0m \u001b[0mprint\u001b[0m\u001b[1;33m(\u001b[0m\u001b[0mmin\u001b[0m\u001b[1;33m(\u001b[0m\u001b[0mlist1\u001b[0m\u001b[1;33m)\u001b[0m\u001b[1;33m)\u001b[0m  \u001b[1;31m# ▶ a\u001b[0m\u001b[1;33m\u001b[0m\u001b[1;33m\u001b[0m\u001b[0m\n\u001b[0;32m      8\u001b[0m \u001b[0mprint\u001b[0m\u001b[1;33m(\u001b[0m\u001b[0mmin\u001b[0m\u001b[1;33m(\u001b[0m\u001b[0mlist2\u001b[0m\u001b[1;33m)\u001b[0m\u001b[1;33m)\u001b[0m  \u001b[1;31m# ▶ 1\u001b[0m\u001b[1;33m\u001b[0m\u001b[1;33m\u001b[0m\u001b[0m\n\u001b[1;32m----> 9\u001b[1;33m \u001b[0mprint\u001b[0m\u001b[1;33m(\u001b[0m\u001b[0mmin\u001b[0m\u001b[1;33m(\u001b[0m\u001b[0mlist3\u001b[0m\u001b[1;33m)\u001b[0m\u001b[1;33m)\u001b[0m  \u001b[1;31m# ▶ TypeError: '<' not supported between instances of 'int' and 'str'\u001b[0m\u001b[1;33m\u001b[0m\u001b[1;33m\u001b[0m\u001b[0m\n\u001b[0m",
      "\u001b[1;31mTypeError\u001b[0m: '<' not supported between instances of 'int' and 'str'"
     ]
    }
   ],
   "source": [
    "# Example:\n",
    "\n",
    "list1 = ['a','b','c']\n",
    "list2 = [1,2,3]\n",
    "list3=['a','b','c',1,2,3]\n",
    "\n",
    "print(min(list1))  # ▶ a \n",
    "print(min(list2))  # ▶ 1\n",
    "print(min(list3))  # ▶ TypeError: '<' not supported between instances of 'int' and 'str'"
   ]
  },
  {
   "cell_type": "markdown",
   "metadata": {},
   "source": [
    "### **`max(list)`** - The max() method returns the elements from the list with maximum value."
   ]
  },
  {
   "cell_type": "code",
   "execution_count": 24,
   "metadata": {
    "ExecuteTime": {
     "end_time": "2021-10-03T09:17:33.916867Z",
     "start_time": "2021-10-03T09:17:33.835816Z"
    }
   },
   "outputs": [
    {
     "name": "stdout",
     "output_type": "stream",
     "text": [
      "c\n",
      "3\n"
     ]
    },
    {
     "ename": "TypeError",
     "evalue": "'>' not supported between instances of 'int' and 'str'",
     "output_type": "error",
     "traceback": [
      "\u001b[1;31m---------------------------------------------------------------------------\u001b[0m",
      "\u001b[1;31mTypeError\u001b[0m                                 Traceback (most recent call last)",
      "\u001b[1;32m<ipython-input-24-8f0bbdfdf6e5>\u001b[0m in \u001b[0;36m<module>\u001b[1;34m\u001b[0m\n\u001b[0;32m      7\u001b[0m \u001b[0mprint\u001b[0m\u001b[1;33m(\u001b[0m\u001b[0mmax\u001b[0m\u001b[1;33m(\u001b[0m\u001b[0mlist1\u001b[0m\u001b[1;33m)\u001b[0m\u001b[1;33m)\u001b[0m  \u001b[1;31m# ▶ c\u001b[0m\u001b[1;33m\u001b[0m\u001b[1;33m\u001b[0m\u001b[0m\n\u001b[0;32m      8\u001b[0m \u001b[0mprint\u001b[0m\u001b[1;33m(\u001b[0m\u001b[0mmax\u001b[0m\u001b[1;33m(\u001b[0m\u001b[0mlist2\u001b[0m\u001b[1;33m)\u001b[0m\u001b[1;33m)\u001b[0m  \u001b[1;31m# ▶ 3\u001b[0m\u001b[1;33m\u001b[0m\u001b[1;33m\u001b[0m\u001b[0m\n\u001b[1;32m----> 9\u001b[1;33m \u001b[0mprint\u001b[0m\u001b[1;33m(\u001b[0m\u001b[0mmax\u001b[0m\u001b[1;33m(\u001b[0m\u001b[0mlist3\u001b[0m\u001b[1;33m)\u001b[0m\u001b[1;33m)\u001b[0m  \u001b[1;31m# ▶ TypeError: '>' not supported between instances of 'int' and 'str'\u001b[0m\u001b[1;33m\u001b[0m\u001b[1;33m\u001b[0m\u001b[0m\n\u001b[0m",
      "\u001b[1;31mTypeError\u001b[0m: '>' not supported between instances of 'int' and 'str'"
     ]
    }
   ],
   "source": [
    "# Example:\n",
    "\n",
    "list1 = ['a','b','c']\n",
    "list2 = [1,2,3]\n",
    "list3=['a','b','c',1,2,3]\n",
    "\n",
    "print(max(list1))  # ▶ c\n",
    "print(max(list2))  # ▶ 3\n",
    "print(max(list3))  # ▶ TypeError: '>' not supported between instances of 'int' and 'str'"
   ]
  },
  {
   "cell_type": "markdown",
   "metadata": {},
   "source": [
    "### **`len(list)`** - The len() method returns the number of elements in the list."
   ]
  },
  {
   "cell_type": "code",
   "execution_count": 25,
   "metadata": {
    "ExecuteTime": {
     "end_time": "2021-10-03T09:17:34.543827Z",
     "start_time": "2021-10-03T09:17:34.522832Z"
    }
   },
   "outputs": [
    {
     "name": "stdout",
     "output_type": "stream",
     "text": [
      "3\n",
      "0\n",
      "6\n"
     ]
    }
   ],
   "source": [
    "# Example:\n",
    "\n",
    "list1 = ['a','b','c']\n",
    "list2 = []\n",
    "list3=['a','b','c',1,2,3]\n",
    "\n",
    "print(len(list1))  # ▶ 3\n",
    "print(len(list2))  # ▶ 0\n",
    "print(len(list3))  # ▶ 6"
   ]
  },
  {
   "cell_type": "markdown",
   "metadata": {},
   "source": [
    "## Python List Methods\n",
    "\n",
    "Methods that are available with list objects in Python programming are tabulated below. Some of the methods have already been used above.\n",
    "\n",
    "| Method | Description |\n",
    "|:----| :--- |\n",
    "| **[append()](https://github.com/milaan9/02_Python_Datatypes/blob/main/003_Python_List_Methods/002_Python_List_append%28%29.ipynb)** | Add an element to the end of the list | \n",
    "| **[extend()](https://github.com/milaan9/02_Python_Datatypes/blob/main/003_Python_List_Methods/003_Python_List_extend%28%29.ipynb)** | Add all elements of a list to the another list |\n",
    "| **[insert()](https://github.com/milaan9/02_Python_Datatypes/blob/main/003_Python_List_Methods/004_Python_List_insert%28%29.ipynb)** | Insert an item at the defined index |\n",
    "| **[remove()](https://github.com/milaan9/02_Python_Datatypes/blob/main/003_Python_List_Methods/005_Python_List_remove%28%29.ipynb)** | Removes an item from the list |\n",
    "| **[pop()](https://github.com/milaan9/02_Python_Datatypes/blob/main/003_Python_List_Methods/007_Python_List_pop%28%29.ipynb)** | Removes and returns an element at the given index \n",
    "| **[clear()](https://github.com/milaan9/02_Python_Datatypes/blob/main/003_Python_List_Methods/011_Python_List_clear%28%29.ipynb)** | Removes all items from the list |\n",
    "| **[index()](https://github.com/milaan9/02_Python_Datatypes/blob/main/003_Python_List_Methods/001_Python_List_index%28%29.ipynb)** | Returns the index of the first matched item | \n",
    "| **[count()](https://github.com/milaan9/02_Python_Datatypes/blob/main/003_Python_List_Methods/006_Python_List_count%28%29.ipynb)** | Returns the count of the number of items passed as an argument |\n",
    "| **[sort()](https://github.com/milaan9/02_Python_Datatypes/blob/main/003_Python_List_Methods/009_Python_List_sort%28%29.ipynb)** | Sort items in a list in ascending order |\n",
    "| **[reverse()](https://github.com/milaan9/02_Python_Datatypes/blob/main/003_Python_List_Methods/008_Python_List_reverse%28%29.ipynb)** |  Reverse the order of items in the list |\n",
    "| **[copy()](https://github.com/milaan9/02_Python_Datatypes/blob/main/003_Python_List_Methods/010_Python_List_copy%28%29.ipynb)** | Returns a shallow copy of the list |"
   ]
  },
  {
   "cell_type": "markdown",
   "metadata": {},
   "source": [
    "### **`append()`** - The `append()` method adds an item to the end of the list."
   ]
  },
  {
   "cell_type": "code",
   "execution_count": 26,
   "metadata": {
    "ExecuteTime": {
     "end_time": "2021-10-03T09:17:35.451060Z",
     "start_time": "2021-10-03T09:17:35.434458Z"
    }
   },
   "outputs": [
    {
     "name": "stdout",
     "output_type": "stream",
     "text": [
      "[1, 2, 3, 4, 'helloworld', ['a', 'b', 'c']]\n"
     ]
    }
   ],
   "source": [
    "# Example:\n",
    "\n",
    "list1 =[1,2,3]\n",
    "list1.append(4)\n",
    "list1.append('helloworld')\n",
    "list1.append(['a','b','c']) #append as single object\n",
    "print(list1)  # ▶ [1, 2, 3, 4, 'helloworld', ['a', 'b', 'c']]"
   ]
  },
  {
   "cell_type": "markdown",
   "metadata": {},
   "source": [
    "### **`extend()`** - The `extend()` method adds all the elements of an iterable (list, tuple, string etc.) to the end of the list."
   ]
  },
  {
   "cell_type": "code",
   "execution_count": 27,
   "metadata": {
    "ExecuteTime": {
     "end_time": "2021-10-03T09:17:36.023323Z",
     "start_time": "2021-10-03T09:17:36.008680Z"
    }
   },
   "outputs": [
    {
     "name": "stdout",
     "output_type": "stream",
     "text": [
      "[1, 2, 3, 4, 'h', 'e', 'l', 'l', 'o', 'w', 'o', 'r', 'l', 'd', 'a', 'b', 'c']\n"
     ]
    }
   ],
   "source": [
    "# Example:\n",
    "\n",
    "list1 =[1,2,3]\n",
    "list1.extend([4])\n",
    "list1.extend('helloworld')\n",
    "list1.extend(['a','b','c'])\n",
    "print(list1)  # ▶ [1, 2, 3, 4, 'h', 'e', 'l', 'l', 'o', 'w', 'o', 'r', 'l', 'd', 'a', 'b', 'c']"
   ]
  },
  {
   "cell_type": "markdown",
   "metadata": {},
   "source": [
    "### **`insert()`** - The `insert()` method inserts an element to the list at the specified index."
   ]
  },
  {
   "cell_type": "code",
   "execution_count": 28,
   "metadata": {
    "ExecuteTime": {
     "end_time": "2021-10-03T09:17:36.477433Z",
     "start_time": "2021-10-03T09:17:36.468644Z"
    }
   },
   "outputs": [
    {
     "name": "stdout",
     "output_type": "stream",
     "text": [
      "['helloworld', 'python', 'java', 'C#', 'c++', 1, 2, 3]\n"
     ]
    }
   ],
   "source": [
    "# Example:\n",
    "\n",
    "list1 =['helloworld','python','java','c++',1,2,3]\n",
    "list1.insert(3,'C#')\n",
    "print(list1)  # ▶ ['helloworld', 'python', 'java', 'C#', 'c++', 1, 2, 3]"
   ]
  },
  {
   "cell_type": "markdown",
   "metadata": {},
   "source": [
    "### **`remove()`** - The `remove()` method removes the first matching element (which is passed as an argument) from the list."
   ]
  },
  {
   "cell_type": "code",
   "execution_count": 29,
   "metadata": {
    "ExecuteTime": {
     "end_time": "2021-10-03T09:17:37.161031Z",
     "start_time": "2021-10-03T09:17:37.140523Z"
    }
   },
   "outputs": [
    {
     "name": "stdout",
     "output_type": "stream",
     "text": [
      "['helloworld', 'python', 'c++', 1, 2, 3]\n",
      "['helloworld', 'python', 'c++', 1, 3]\n"
     ]
    }
   ],
   "source": [
    "# Example:\n",
    "\n",
    "list1 =['helloworld','python','java','c++',1,2,3]\n",
    "list1.remove(\"java\")\n",
    "print(list1)  # ▶ ['helloworld', 'python', 'c++', 1, 2, 3]\n",
    "list1.remove(2)\n",
    "print(list1)  # ▶ ['helloworld', 'python', 'c++', 1, 3]"
   ]
  },
  {
   "cell_type": "markdown",
   "metadata": {},
   "source": [
    "### **`pop()`** - The `pop()` method removes the item at the given index from the list and returns the removed item."
   ]
  },
  {
   "cell_type": "code",
   "execution_count": 30,
   "metadata": {
    "ExecuteTime": {
     "end_time": "2021-10-03T09:17:37.633201Z",
     "start_time": "2021-10-03T09:17:37.614647Z"
    }
   },
   "outputs": [
    {
     "name": "stdout",
     "output_type": "stream",
     "text": [
      "['helloworld', 'python', 'java', 'c++', 1, 2]\n",
      "['helloworld', 'python', 'c++', 1, 2]\n"
     ]
    }
   ],
   "source": [
    "# Example:\n",
    "\n",
    "list1 =['helloworld','python','java','c++',1,2,3]\n",
    "list1.pop()   # pop last element\n",
    "print(list1)  # ▶ ['helloworld', 'python', 'java', 'c++', 1, 2]\n",
    "list1.pop(2)  # pop element with index 2\n",
    "print(list1)  # ▶ ['helloworld', 'python', 'c++', 1, 2]"
   ]
  },
  {
   "cell_type": "markdown",
   "metadata": {},
   "source": [
    "### **`clear()`** - The `clear()` method removes all items from the list."
   ]
  },
  {
   "cell_type": "code",
   "execution_count": 31,
   "metadata": {
    "ExecuteTime": {
     "end_time": "2021-10-03T09:17:38.108790Z",
     "start_time": "2021-10-03T09:17:38.099024Z"
    }
   },
   "outputs": [
    {
     "name": "stdout",
     "output_type": "stream",
     "text": [
      "list1: []\n"
     ]
    }
   ],
   "source": [
    "list1 =['helloworld','python','java','c++',1,2,3]\n",
    "list1.clear()\n",
    "print('list1:', list1)  # ▶ list1: []"
   ]
  },
  {
   "cell_type": "markdown",
   "metadata": {},
   "source": [
    "### **`index()`** - The `index()` method returns the index of the specified element in the list."
   ]
  },
  {
   "cell_type": "code",
   "execution_count": 32,
   "metadata": {
    "ExecuteTime": {
     "end_time": "2021-10-03T09:17:38.578520Z",
     "start_time": "2021-10-03T09:17:38.565823Z"
    }
   },
   "outputs": [
    {
     "name": "stdout",
     "output_type": "stream",
     "text": [
      "index of java :  2\n",
      "index of 2 :  5\n"
     ]
    }
   ],
   "source": [
    "# Example:\n",
    "\n",
    "list1 =['helloworld','python','java','c++',1,2,3]\n",
    "print(\"index of java : \",list1.index('java'))  # ▶ index of java :  2\n",
    "print(\"index of 2 : \",list1.index(2))          # ▶ index of 2 :  5"
   ]
  },
  {
   "cell_type": "markdown",
   "metadata": {},
   "source": [
    "### **`count()`** - The `count()` method returns the number of times the specified element appears in the list."
   ]
  },
  {
   "cell_type": "code",
   "execution_count": 33,
   "metadata": {
    "ExecuteTime": {
     "end_time": "2021-10-03T09:17:39.248929Z",
     "start_time": "2021-10-03T09:17:39.229403Z"
    },
    "scrolled": true
   },
   "outputs": [
    {
     "name": "stdout",
     "output_type": "stream",
     "text": [
      "2\n",
      "1\n",
      "0\n"
     ]
    }
   ],
   "source": [
    "# Example:\n",
    "\n",
    "list1 =[1,2,3,'a','b','c',1,2,3]\n",
    "\n",
    "print(list1.count(1))   # ▶ 2\n",
    "print(list1.count('b')) # ▶ 1\n",
    "print(list1.count(4))   # ▶ 0"
   ]
  },
  {
   "cell_type": "markdown",
   "metadata": {},
   "source": [
    "### **`sort() `** - The `sort()` method sorts the elements of a given list in a specific ascending or descending order."
   ]
  },
  {
   "cell_type": "code",
   "execution_count": 34,
   "metadata": {
    "ExecuteTime": {
     "end_time": "2021-10-03T09:17:39.733798Z",
     "start_time": "2021-10-03T09:17:39.712315Z"
    }
   },
   "outputs": [
    {
     "name": "stdout",
     "output_type": "stream",
     "text": [
      "[22, 30, 100, 300, 399]\n",
      "[399, 300, 100, 30, 22]\n",
      "['a', 'ab', 'abc', 'b', 'z']\n"
     ]
    }
   ],
   "source": [
    "# Example:\n",
    "\n",
    "list1 =[22,30,100,300,399]\n",
    "list2=['z','ab','abc','a','b']\n",
    "list1.sort()\n",
    "list2.sort()\n",
    "print(list1)  # ▶ [22, 30, 100, 300, 399]\n",
    "\n",
    "list1.sort(reverse=True)\n",
    "print(list1)  # ▶ [399, 300, 100, 30, 22]\n",
    "print(list2)  # ▶ ['a', 'ab', 'abc', 'b', 'z']"
   ]
  },
  {
   "cell_type": "code",
   "execution_count": 35,
   "metadata": {
    "ExecuteTime": {
     "end_time": "2021-10-03T09:17:39.948152Z",
     "start_time": "2021-10-03T09:17:39.916906Z"
    },
    "scrolled": false
   },
   "outputs": [
    {
     "ename": "TypeError",
     "evalue": "'<' not supported between instances of 'int' and 'str'",
     "output_type": "error",
     "traceback": [
      "\u001b[1;31m---------------------------------------------------------------------------\u001b[0m",
      "\u001b[1;31mTypeError\u001b[0m                                 Traceback (most recent call last)",
      "\u001b[1;32m<ipython-input-35-b942612e6b6a>\u001b[0m in \u001b[0;36m<module>\u001b[1;34m\u001b[0m\n\u001b[0;32m      2\u001b[0m \u001b[1;33m\u001b[0m\u001b[0m\n\u001b[0;32m      3\u001b[0m \u001b[0mlist3\u001b[0m\u001b[1;33m=\u001b[0m\u001b[1;33m[\u001b[0m\u001b[1;34m'a'\u001b[0m\u001b[1;33m,\u001b[0m\u001b[1;34m'b'\u001b[0m\u001b[1;33m,\u001b[0m\u001b[1;36m1\u001b[0m\u001b[1;33m,\u001b[0m\u001b[1;36m2\u001b[0m\u001b[1;33m]\u001b[0m\u001b[1;33m\u001b[0m\u001b[1;33m\u001b[0m\u001b[0m\n\u001b[1;32m----> 4\u001b[1;33m \u001b[0mlist3\u001b[0m\u001b[1;33m.\u001b[0m\u001b[0msort\u001b[0m\u001b[1;33m(\u001b[0m\u001b[1;33m)\u001b[0m\u001b[1;33m\u001b[0m\u001b[1;33m\u001b[0m\u001b[0m\n\u001b[0m\u001b[0;32m      5\u001b[0m \u001b[0mprint\u001b[0m\u001b[1;33m(\u001b[0m\u001b[0mlist3\u001b[0m\u001b[1;33m)\u001b[0m  \u001b[1;31m# ▶ TypeError: '<' not supported between instances of 'int' and 'str'\u001b[0m\u001b[1;33m\u001b[0m\u001b[1;33m\u001b[0m\u001b[0m\n",
      "\u001b[1;31mTypeError\u001b[0m: '<' not supported between instances of 'int' and 'str'"
     ]
    }
   ],
   "source": [
    "# Example:\n",
    "\n",
    "list3=['a','b',1,2]\n",
    "list3.sort()\n",
    "print(list3)  # ▶ TypeError: '<' not supported between instances of 'int' and 'str'"
   ]
  },
  {
   "cell_type": "markdown",
   "metadata": {},
   "source": [
    "### **`reverse() `** - The `reverse()` method reverses the elements of the list."
   ]
  },
  {
   "cell_type": "code",
   "execution_count": 36,
   "metadata": {
    "ExecuteTime": {
     "end_time": "2021-10-03T09:17:40.498451Z",
     "start_time": "2021-10-03T09:17:40.491618Z"
    }
   },
   "outputs": [
    {
     "name": "stdout",
     "output_type": "stream",
     "text": [
      "[3, 2, 1, 'c++', 'java', 'python', 'helloworld']\n"
     ]
    }
   ],
   "source": [
    "# Example:\n",
    "\n",
    "list1 =['helloworld','python','java','c++',1,2,3]\n",
    "list1.reverse()\n",
    "print(list1)  # ▶ [3, 2, 1, 'c++', 'java', 'python', 'helloworld']"
   ]
  },
  {
   "cell_type": "markdown",
   "metadata": {},
   "source": [
    "### **`copy() `** - The `copy()` method returns a shallow copy of the list."
   ]
  },
  {
   "cell_type": "code",
   "execution_count": 37,
   "metadata": {
    "ExecuteTime": {
     "end_time": "2021-10-03T09:17:40.892494Z",
     "start_time": "2021-10-03T09:17:40.869058Z"
    }
   },
   "outputs": [
    {
     "name": "stdout",
     "output_type": "stream",
     "text": [
      "list1: ['helloworld', 'python', 'java', 'c++', 1, 2, 3]\n",
      "list2: ['helloworld', 'python', 'java', 'c++', 1, 2, 3]\n"
     ]
    }
   ],
   "source": [
    "list1 =['helloworld','python','java','c++',1,2,3]\n",
    "list2 = list1.copy()\n",
    "print('list1:', list1)  # ▶ list1: ['helloworld', 'python', 'java', 'c++', 1, 2, 3]\n",
    "print('list2:', list2)  # ▶ list2: ['helloworld', 'python', 'java', 'c++', 1, 2, 3]"
   ]
  },
  {
   "cell_type": "markdown",
   "metadata": {},
   "source": [
    "Here is a complete list of all the **[built-in methods to work with List in Python](https://github.com/milaan9/02_Python_Datatypes/tree/main/003_Python_List_Methods)**."
   ]
  },
  {
   "cell_type": "markdown",
   "metadata": {},
   "source": [
    "## List Comprehension: Elegant way to create new List\n",
    "\n",
    "List comprehension is an elegant and concise way to create a new list from an existing list in Python.\n",
    "\n",
    "A list comprehension consists of an expression followed by **[for loop](https://github.com/milaan9/03_Python_Flow_Control/blob/main/005_Python_for_Loop.ipynb)** inside square brackets.\n",
    "\n",
    "Here is an example to make a list with each item being increasing power of 2."
   ]
  },
  {
   "cell_type": "code",
   "execution_count": 38,
   "metadata": {
    "ExecuteTime": {
     "end_time": "2021-10-03T09:17:41.485275Z",
     "start_time": "2021-10-03T09:17:41.475509Z"
    }
   },
   "outputs": [
    {
     "name": "stdout",
     "output_type": "stream",
     "text": [
      "[1, 2, 4, 8, 16, 32, 64, 128, 256, 512]\n"
     ]
    }
   ],
   "source": [
    "pow2 = [2 ** x for x in range(10)]\n",
    "print(pow2)  # ▶ [1, 2, 4, 8, 16, 32, 64, 128, 256, 512]"
   ]
  },
  {
   "cell_type": "markdown",
   "metadata": {},
   "source": [
    "This code is equivalent to:"
   ]
  },
  {
   "cell_type": "code",
   "execution_count": 39,
   "metadata": {
    "ExecuteTime": {
     "end_time": "2021-10-03T09:17:42.015547Z",
     "start_time": "2021-10-03T09:17:42.001880Z"
    }
   },
   "outputs": [
    {
     "name": "stdout",
     "output_type": "stream",
     "text": [
      "[1, 2, 4, 8, 16, 32, 64, 128, 256, 512]\n"
     ]
    }
   ],
   "source": [
    "pow2 = []\n",
    "for x in range(10):\n",
    "    pow2.append(2 ** x)\n",
    "print(pow2)  # ▶ [1, 2, 4, 8, 16, 32, 64, 128, 256, 512]"
   ]
  },
  {
   "cell_type": "markdown",
   "metadata": {},
   "source": [
    "A list comprehension can optionally contain more **`for`** or **[if statements](https://github.com/milaan9/03_Python_Flow_Control/blob/main/001_Python_if_statement.ipynb)**. An optional **`if`** statement can filter out items for the new list. Here are some examples."
   ]
  },
  {
   "cell_type": "code",
   "execution_count": 40,
   "metadata": {
    "ExecuteTime": {
     "end_time": "2021-10-03T09:17:42.918874Z",
     "start_time": "2021-10-03T09:17:42.896417Z"
    }
   },
   "outputs": [
    {
     "data": {
      "text/plain": [
       "[64, 128, 256, 512]"
      ]
     },
     "execution_count": 40,
     "metadata": {},
     "output_type": "execute_result"
    }
   ],
   "source": [
    "pow2 = [2 ** x for x in range(10) if x > 5]\n",
    "pow2  # ▶ [64, 128, 256, 512]"
   ]
  },
  {
   "cell_type": "code",
   "execution_count": 41,
   "metadata": {
    "ExecuteTime": {
     "end_time": "2021-10-03T09:17:43.070241Z",
     "start_time": "2021-10-03T09:17:43.050714Z"
    }
   },
   "outputs": [
    {
     "data": {
      "text/plain": [
       "[1, 3, 5, 7, 9, 11, 13, 15, 17, 19]"
      ]
     },
     "execution_count": 41,
     "metadata": {},
     "output_type": "execute_result"
    }
   ],
   "source": [
    "odd = [x for x in range(20) if x % 2 == 1]\n",
    "odd  # ▶ [1, 3, 5, 7, 9, 11, 13, 15, 17, 19]"
   ]
  },
  {
   "cell_type": "code",
   "execution_count": 42,
   "metadata": {
    "ExecuteTime": {
     "end_time": "2021-10-03T09:17:43.414483Z",
     "start_time": "2021-10-03T09:17:43.402766Z"
    }
   },
   "outputs": [
    {
     "data": {
      "text/plain": [
       "['Python Language', 'Python Programming', 'C Language', 'C Programming']"
      ]
     },
     "execution_count": 42,
     "metadata": {},
     "output_type": "execute_result"
    }
   ],
   "source": [
    "[x+y for x in ['Python ','C '] for y in ['Language','Programming']]"
   ]
  },
  {
   "cell_type": "markdown",
   "metadata": {},
   "source": [
    "## Other List Operations in Python"
   ]
  },
  {
   "cell_type": "markdown",
   "metadata": {},
   "source": [
    "### 1. List Membership Test\n",
    "\n",
    "We can test if an item exists in a list or not, using the keyword **`in`**."
   ]
  },
  {
   "cell_type": "code",
   "execution_count": 43,
   "metadata": {
    "ExecuteTime": {
     "end_time": "2021-10-03T09:17:44.394469Z",
     "start_time": "2021-10-03T09:17:44.376895Z"
    }
   },
   "outputs": [
    {
     "name": "stdout",
     "output_type": "stream",
     "text": [
      "True\n",
      "False\n",
      "True\n"
     ]
    }
   ],
   "source": [
    "my_list = ['p', 'r', 'o', 'b', 'l', 'e', 'm']\n",
    "\n",
    "# Output: True\n",
    "print('p' in my_list)  # ▶ True\n",
    "\n",
    "# Output: False\n",
    "print('a' in my_list)  # ▶ False\n",
    "\n",
    "# Output: True\n",
    "print('c' not in my_list)  # ▶ True"
   ]
  },
  {
   "cell_type": "markdown",
   "metadata": {},
   "source": [
    "### 2. Iterating Through a List\n",
    "\n",
    "Using a for loop we can iterate through each item in a list."
   ]
  },
  {
   "cell_type": "code",
   "execution_count": 44,
   "metadata": {
    "ExecuteTime": {
     "end_time": "2021-10-03T09:17:45.054627Z",
     "start_time": "2021-10-03T09:17:45.033148Z"
    },
    "scrolled": true
   },
   "outputs": [
    {
     "name": "stdout",
     "output_type": "stream",
     "text": [
      "I like apple\n",
      "I like banana\n",
      "I like mango\n"
     ]
    }
   ],
   "source": [
    "for fruit in ['apple','banana','mango']:\n",
    "    print(\"I like\",fruit)"
   ]
  },
  {
   "cell_type": "markdown",
   "metadata": {},
   "source": [
    "### 3. Other List Operations in Python\n",
    "\n",
    "Using a **`for`** loop we can iterate through each item in a list."
   ]
  },
  {
   "cell_type": "code",
   "execution_count": 45,
   "metadata": {
    "ExecuteTime": {
     "end_time": "2021-10-03T09:17:45.742133Z",
     "start_time": "2021-10-03T09:17:45.729439Z"
    },
    "scrolled": true
   },
   "outputs": [
    {
     "name": "stdout",
     "output_type": "stream",
     "text": [
      "a\n",
      "b\n",
      "c\n",
      "1\n",
      "2\n",
      "3\n"
     ]
    }
   ],
   "source": [
    "# Example:\n",
    "\n",
    "list1=['a','b','c',1,2,3]\n",
    "for x in list1 :\n",
    "    print(x)"
   ]
  },
  {
   "cell_type": "code",
   "execution_count": 46,
   "metadata": {
    "ExecuteTime": {
     "end_time": "2021-10-03T09:17:47.351515Z",
     "start_time": "2021-10-03T09:17:47.337850Z"
    },
    "scrolled": false
   },
   "outputs": [
    {
     "name": "stdout",
     "output_type": "stream",
     "text": [
      "I like apple\n",
      "I like banana\n",
      "I like mango\n"
     ]
    }
   ],
   "source": [
    "for fruit in ['apple','banana','mango']:\n",
    "    print(\"I like\",fruit)"
   ]
  },
  {
   "cell_type": "markdown",
   "metadata": {},
   "source": [
    "## 💻 Exercises  ➞ <span class='label label-default'>List</span>\n",
    "\n",
    "### Exercises ➞ <span class='label label-default'>Level 1</span>\n",
    "\n",
    "1. Declare a list with more than 5 items with different data types\n",
    "2. Find the length of your list\n",
    "3. Get the first item, the middle item and the last item of the list\n",
    "4. Declare a list **`called my_info`**, put your (name, age, height, marital status, country)\n",
    "5. Declare a list variable named **`mix_fruits`** and assign initial values Guava, Mango, Apple, Pear, Fig, Orange and Banana and print the list.\n",
    "6. Print the list using **[print()](https://github.com/milaan9/04_Python_Functions/blob/main/002_Python_Functions_Built_in/051_Python_print%28%29.ipynb)**\n",
    "7. Print the number of **`mix_fruits`** in the list\n",
    "8. Print the first, middle and last fruit\n",
    "9. Print the list after modifying one of the fruit\n",
    "10. Add an fruit to variable **`mix_fruits`**\n",
    "11. Insert an fruit in the middle of the **`mix_fruits`** list\n",
    "12. Change one of the fruit names to uppercase\n",
    "13. Join the elements in **`mix_fruits`** with a string **`-#-`**\n",
    "14. Check if a certain fruit exists in the **`mix_fruits`** list.\n",
    "15. Sort the list using **[sort()](https://github.com/milaan9/02_Python_Datatypes/blob/main/003_Python_List_Methods/009_Python_List_sort%28%29.ipynb)** method\n",
    "16. Reverse the list in descending order using **[reverse()](https://github.com/milaan9/02_Python_Datatypes/blob/main/003_Python_List_Methods/008_Python_List_reverse%28%29.ipynb)** method\n",
    "17. Slice out the first 3 fruits from the list\n",
    "18. Slice out the last 3 fruits from the list\n",
    "19. Slice out the middle fruit or fruits from the list\n",
    "20. Remove the first fruit from the list\n",
    "21. Remove the middle fruit or companies from the list\n",
    "22. Remove the last fruit from the list\n",
    "23. Remove all fruits from the list\n",
    "24. Delete the fruits list\n",
    "25. Join the following lists:\n",
    "\n",
    "    - ```py\n",
    "    front_end = ['HTML', 'CSS', 'JS', 'React', 'Redux']\n",
    "    back_end = ['Node','Express', 'MongoDB']\n",
    "    ```\n",
    "\n",
    "26. After joining the lists in question 25. Copy the joined list and assign it to a variable full_stack. Then insert **`'Python'`** and **`'SQL'`** after **`'Redux'`**.\n",
    "\n",
    "### Exercises ➞ <span class='label label-default'>Level 2</span>\n",
    "\n",
    "1. The following is a list of 10 students ages:\n",
    "\n",
    "    - ```py\n",
    "ages = [19, 23, 19, 25, 21, 20, 25, 26, 25, 24]\n",
    "    ```\n",
    "\n",
    "        - Sort the list and find the min and max age\n",
    "        - Add the min age and the max age again to the list\n",
    "        - Find the median age (one middle item or two middle items divided by two)\n",
    "        - Find the average age (sum of all items divided by their number )\n",
    "        - Find the range of the ages (max - min)\n",
    "        - Compare the value of (min - average) and (max - average), use **[abs()](https://github.com/milaan9/04_Python_Functions/blob/main/002_Python_Functions_Built_in/001_Python_abs%28%29.ipynb)** method\n",
    "\n",
    "2. Find the middle country(ies) in the **[countries list](https://github.com/milaan9/02_Python_Datatypes/blob/main/countries_data.py)**\n",
    "3. Divide the countries list into two equal lists if it is even if not one more country for the first half.\n",
    "4. **`['India', 'Russia', 'China', 'Finland', 'Sweden', 'Norway', 'Denmark']`**. Unpack the first three countries and the rest as scandic countries."
   ]
  },
  {
   "cell_type": "code",
   "execution_count": null,
   "metadata": {},
   "outputs": [],
   "source": []
  }
 ],
 "metadata": {
  "hide_input": false,
  "kernelspec": {
   "display_name": "Python 3",
   "language": "python",
   "name": "python3"
  },
  "language_info": {
   "codemirror_mode": {
    "name": "ipython",
    "version": 3
   },
   "file_extension": ".py",
   "mimetype": "text/x-python",
   "name": "python",
   "nbconvert_exporter": "python",
   "pygments_lexer": "ipython3",
   "version": "3.8.8"
  },
  "toc": {
   "base_numbering": 1,
   "nav_menu": {},
   "number_sections": true,
   "sideBar": true,
   "skip_h1_title": false,
   "title_cell": "Table of Contents",
   "title_sidebar": "Contents",
   "toc_cell": false,
   "toc_position": {},
   "toc_section_display": true,
   "toc_window_display": false
  },
  "varInspector": {
   "cols": {
    "lenName": 16,
    "lenType": 16,
    "lenVar": 40
   },
   "kernels_config": {
    "python": {
     "delete_cmd_postfix": "",
     "delete_cmd_prefix": "del ",
     "library": "var_list.py",
     "varRefreshCmd": "print(var_dic_list())"
    },
    "r": {
     "delete_cmd_postfix": ") ",
     "delete_cmd_prefix": "rm(",
     "library": "var_list.r",
     "varRefreshCmd": "cat(var_dic_list()) "
    }
   },
   "types_to_exclude": [
    "module",
    "function",
    "builtin_function_or_method",
    "instance",
    "_Feature"
   ],
   "window_display": false
  }
 },
 "nbformat": 4,
 "nbformat_minor": 2
}
