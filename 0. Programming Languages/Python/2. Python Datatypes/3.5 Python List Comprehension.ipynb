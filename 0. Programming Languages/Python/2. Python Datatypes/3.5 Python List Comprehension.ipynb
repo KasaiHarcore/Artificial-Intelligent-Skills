{
 "cells": [
  {
   "cell_type": "markdown",
   "metadata": {},
   "source": [
    "# Python List Comprehension\n",
    "\n",
    "In this class, we will learn about Python list comprehensions, and how to use it.\n",
    "\n",
    "List comprehension is an elegant and concise way to create a new list from an existing list in Python. It is a short way to create a new list. List comprehension is considerably faster than processing a list using the **`for loop`**."
   ]
  },
  {
   "cell_type": "markdown",
   "metadata": {},
   "source": [
    "## List Comprehension vs String vs For Loop in Python\n",
    "\n",
    "Suppose, we want to separate the letters of the word **`python`** and add the letters as items of a list. \n",
    "\n",
    "The first thing that comes in mind would be using **[String](https://github.com/milaan9/02_Python_Datatypes/blob/main/002_Python_String.ipynb)**."
   ]
  },
  {
   "cell_type": "code",
   "execution_count": 1,
   "metadata": {
    "ExecuteTime": {
     "end_time": "2021-10-04T05:27:18.639356Z",
     "start_time": "2021-10-04T05:27:18.620803Z"
    }
   },
   "outputs": [
    {
     "name": "stdout",
     "output_type": "stream",
     "text": [
      "['p', 'y', 't', 'h', 'o', 'n']\n",
      "<class 'list'>\n"
     ]
    }
   ],
   "source": [
    "# Example 1: Converting string to a list\n",
    "# Method 1:\n",
    "\n",
    "language = 'python'\n",
    "lst = list(language) # changing the string to list\n",
    "\n",
    "print(lst)           # ['p', 'y', 't', 'h', 'o', 'n']\n",
    "print(type(lst))     # list"
   ]
  },
  {
   "cell_type": "markdown",
   "metadata": {},
   "source": [
    "The second thing that comes in mind would be using **[for loop](https://github.com/milaan9/03_Python_Flow_Control/blob/main/005_Python_for_Loop.ipynb)**."
   ]
  },
  {
   "cell_type": "code",
   "execution_count": 2,
   "metadata": {
    "ExecuteTime": {
     "end_time": "2021-10-04T05:27:18.747755Z",
     "start_time": "2021-10-04T05:27:18.642286Z"
    }
   },
   "outputs": [
    {
     "name": "stdout",
     "output_type": "stream",
     "text": [
      "['p', 'y', 't', 'h', 'o', 'n']\n",
      "<class 'list'>\n"
     ]
    }
   ],
   "source": [
    "# Example 1: Iterating through a string Using for Loop\n",
    "# Method 2:\n",
    "\n",
    "p_letters = []\n",
    "\n",
    "for letter in 'python':\n",
    "    p_letters.append(letter)\n",
    "\n",
    "print(p_letters)       # ['p', 'y', 't', 'h', 'o', 'n']\n",
    "print(type(p_letters)) # List"
   ]
  },
  {
   "cell_type": "markdown",
   "metadata": {},
   "source": [
    "**Explanation:** \n",
    "\n",
    "However, Python has an easier way to solve this issue using List Comprehension. List comprehension is an elegant way to define and create lists based on existing lists.\n",
    "\n",
    "Let’s see how the above program can be written using **list comprehension**."
   ]
  },
  {
   "cell_type": "code",
   "execution_count": 3,
   "metadata": {
    "ExecuteTime": {
     "end_time": "2021-10-04T05:27:18.856155Z",
     "start_time": "2021-10-04T05:27:18.752636Z"
    }
   },
   "outputs": [
    {
     "name": "stdout",
     "output_type": "stream",
     "text": [
      "['p', 'y', 't', 'h', 'o', 'n']\n",
      "<class 'list'>\n"
     ]
    }
   ],
   "source": [
    "# Example 1: Iterating through a string Using List Comprehension\n",
    "# Method 3:\n",
    "\n",
    "p_letters = [ letter for letter in 'python' ]\n",
    "print(p_letters)       # ['p', 'y', 't', 'h', 'o', 'n']\n",
    "print(type(p_letters)) # List"
   ]
  },
  {
   "cell_type": "markdown",
   "metadata": {},
   "source": [
    "**Explanation:**\n",
    "\n",
    "In the above example, a new list is assigned to variable **`p_letters`**, and list contains the items of the iterable string 'human'. We call **`print()`** function to receive the output."
   ]
  },
  {
   "cell_type": "markdown",
   "metadata": {},
   "source": [
    "## Syntax of List Comprehension\n",
    "\n",
    "```python\n",
    "[expression for item in list]\n",
    "```\n",
    "\n",
    "<div>\n",
    "<img src=\"img/exlc.png\" width=\"300\"/>\n",
    "</div>"
   ]
  },
  {
   "cell_type": "markdown",
   "metadata": {},
   "source": [
    "We can now identify where list comprehensions are used.\n",
    "\n",
    "If you noticed, **`python`** is a string, not a list. This is the power of list comprehension. It can identify when it receives a string or a tuple and work on it like a **[list](https://github.com/milaan9/02_Python_Datatypes/blob/main/003_Python_List.ipynb)**.\n",
    "\n",
    "You can do that using loops. However, not every loop can be rewritten as list comprehension. But as you learn and get comfortable with list comprehensions, you will find yourself replacing more and more loops with this elegant syntax."
   ]
  },
  {
   "cell_type": "markdown",
   "metadata": {},
   "source": [
    "## Conditionals in List Comprehension\n",
    "\n",
    "List comprehensions can utilize conditional statement to modify existing list (or other tuples). We will create list that uses mathematical operators, integers, and **[range()](https://github.com/milaan9/04_Python_Functions/blob/main/002_Python_Functions_Built_in/053_Python_range%28%29.ipynb)**."
   ]
  },
  {
   "cell_type": "code",
   "execution_count": 4,
   "metadata": {
    "ExecuteTime": {
     "end_time": "2021-10-04T05:27:18.979201Z",
     "start_time": "2021-10-04T05:27:18.868848Z"
    }
   },
   "outputs": [
    {
     "name": "stdout",
     "output_type": "stream",
     "text": [
      "[1, 2, 4, 8, 16, 32, 64, 128, 256, 512]\n"
     ]
    }
   ],
   "source": [
    "# Example 4: regular program to generate power for the numbers\n",
    "\n",
    "pow2 = [2 ** x for x in range(10)]\n",
    "print(pow2)"
   ]
  },
  {
   "cell_type": "markdown",
   "metadata": {},
   "source": [
    "Above code is equivalent to:"
   ]
  },
  {
   "cell_type": "code",
   "execution_count": 5,
   "metadata": {
    "ExecuteTime": {
     "end_time": "2021-10-04T05:27:19.162794Z",
     "start_time": "2021-10-04T05:27:18.982129Z"
    }
   },
   "outputs": [
    {
     "name": "stdout",
     "output_type": "stream",
     "text": [
      "[1, 2, 4, 8, 16, 32, 64, 128, 256, 512]\n"
     ]
    }
   ],
   "source": [
    "# Example 4: with list comprehension\n",
    "\n",
    "pow2 = []\n",
    "for x in range(10):\n",
    "    pow2.append(2 ** x)\n",
    "print(pow2)"
   ]
  },
  {
   "cell_type": "markdown",
   "metadata": {},
   "source": [
    "A list comprehension can optionally contain more **`for`** or **[if statements](https://github.com/milaan9/03_Python_Flow_Control/blob/main/001_Python_if_statement.ipynb)**. An optional **`if`** statement can filter out items for the new list. Here are some examples."
   ]
  },
  {
   "cell_type": "markdown",
   "metadata": {},
   "source": [
    "### For instance if you want to generate a list of numbers"
   ]
  },
  {
   "cell_type": "code",
   "execution_count": 6,
   "metadata": {
    "ExecuteTime": {
     "end_time": "2021-10-04T05:27:19.271189Z",
     "start_time": "2021-10-04T05:27:19.171582Z"
    }
   },
   "outputs": [
    {
     "name": "stdout",
     "output_type": "stream",
     "text": [
      "[0, 1, 2, 3, 4, 5, 6, 7, 8, 9, 10]\n"
     ]
    }
   ],
   "source": [
    "# Example 2:\n",
    "# Method 1: Generating numbers\n",
    "\n",
    "numbers = [i for i in range(11)]  # to generate numbers from 0 to 10\n",
    "print(numbers)                    # [0, 1, 2, 3, 4, 5, 6, 7, 8, 9, 10]"
   ]
  },
  {
   "cell_type": "code",
   "execution_count": 7,
   "metadata": {
    "ExecuteTime": {
     "end_time": "2021-10-04T05:27:19.378610Z",
     "start_time": "2021-10-04T05:27:19.276072Z"
    }
   },
   "outputs": [
    {
     "name": "stdout",
     "output_type": "stream",
     "text": [
      "[0, 1, 4, 9, 16, 25, 36, 49, 64, 81, 100]\n"
     ]
    }
   ],
   "source": [
    "# Example 2:\n",
    "# Method 2: It is possible to do mathematical operations during iteration\n",
    "\n",
    "squares = [i * i for i in range(11)]\n",
    "print(squares)                    # [0, 1, 4, 9, 16, 25, 36, 49, 64, 81, 100]"
   ]
  },
  {
   "cell_type": "code",
   "execution_count": 8,
   "metadata": {
    "ExecuteTime": {
     "end_time": "2021-10-04T05:27:19.531929Z",
     "start_time": "2021-10-04T05:27:19.383495Z"
    }
   },
   "outputs": [
    {
     "name": "stdout",
     "output_type": "stream",
     "text": [
      "[(0, 0), (1, 1), (2, 4), (3, 9), (4, 16), (5, 25), (6, 36), (7, 49), (8, 64), (9, 81), (10, 100)]\n"
     ]
    }
   ],
   "source": [
    "# Example 2:\n",
    "# Method 3: It is also possible to make a list of tuples\n",
    "\n",
    "numbers = [(i, i * i) for i in range(11)]\n",
    "print(numbers)                             # [(0, 0), (1, 1), (2, 4), (3, 9), (4, 16), (5, 25)]"
   ]
  },
  {
   "cell_type": "code",
   "execution_count": 9,
   "metadata": {
    "ExecuteTime": {
     "end_time": "2021-10-04T05:27:19.654000Z",
     "start_time": "2021-10-04T05:27:19.534862Z"
    }
   },
   "outputs": [
    {
     "data": {
      "text/plain": [
       "[64, 128, 256, 512]"
      ]
     },
     "execution_count": 9,
     "metadata": {},
     "output_type": "execute_result"
    }
   ],
   "source": [
    "# Example 4:\n",
    "\n",
    "pow2 = [2 ** x for x in range(10) if x > 5]\n",
    "pow2"
   ]
  },
  {
   "cell_type": "markdown",
   "metadata": {},
   "source": [
    "### List comprehension can be combined with if statement"
   ]
  },
  {
   "cell_type": "code",
   "execution_count": 10,
   "metadata": {
    "ExecuteTime": {
     "end_time": "2021-10-04T05:27:19.762402Z",
     "start_time": "2021-10-04T05:27:19.657908Z"
    }
   },
   "outputs": [
    {
     "name": "stdout",
     "output_type": "stream",
     "text": [
      "[0, 2, 4, 6, 8, 10, 12, 14, 16, 18, 20, 22, 24, 26, 28]\n"
     ]
    }
   ],
   "source": [
    "# Example 7: Using 'if' with List Comprehension\n",
    "\n",
    "number_list = [ x for x in range(30) if x % 2 == 0]\n",
    "print(number_list)"
   ]
  },
  {
   "cell_type": "markdown",
   "metadata": {},
   "source": [
    "**Explanation:**\n",
    "\n",
    "The list, **`number_list`**, will be populated by the items in range from 0-27 if the item's value is divisible by 2."
   ]
  },
  {
   "cell_type": "code",
   "execution_count": 11,
   "metadata": {
    "ExecuteTime": {
     "end_time": "2021-10-04T05:27:19.902047Z",
     "start_time": "2021-10-04T05:27:19.767283Z"
    }
   },
   "outputs": [
    {
     "name": "stdout",
     "output_type": "stream",
     "text": [
      "[0, 2, 4, 6, 8, 10, 12, 14, 16, 18, 20, 22, 24, 26, 28]\n"
     ]
    }
   ],
   "source": [
    "# Generating even numbers\n",
    "\n",
    "even_numbers = [x for x in range(30) if x % 2 == 0]  # to generate even numbers list in range 0 to 21\n",
    "print(even_numbers)                                  # [0, 2, 4, 6, 8, 10, 12, 14, 16, 18, 20]"
   ]
  },
  {
   "cell_type": "code",
   "execution_count": 12,
   "metadata": {
    "ExecuteTime": {
     "end_time": "2021-10-04T05:27:20.008490Z",
     "start_time": "2021-10-04T05:27:19.904977Z"
    }
   },
   "outputs": [
    {
     "name": "stdout",
     "output_type": "stream",
     "text": [
      "[1, 3, 5, 7, 9, 11, 13, 15, 17, 19]\n"
     ]
    }
   ],
   "source": [
    "# Generating odd numbers\n",
    "\n",
    "odd_numbers = [x for x in range(21) if x % 2 != 0]  # to generate odd numbers in range 0 to 21\n",
    "# odd_numbers = [x for x in range(21) x % 2 == 1]   # this would also work!\n",
    "print(odd_numbers)                                  # [1, 3, 5, 7, 9, 11, 13, 15, 17, 19]"
   ]
  },
  {
   "cell_type": "code",
   "execution_count": 13,
   "metadata": {
    "ExecuteTime": {
     "end_time": "2021-10-04T05:27:20.115923Z",
     "start_time": "2021-10-04T05:27:20.011424Z"
    }
   },
   "outputs": [
    {
     "name": "stdout",
     "output_type": "stream",
     "text": [
      "[2, 4, 6, 8, 10, 12, 14, 16, 18, 20]\n"
     ]
    }
   ],
   "source": [
    "# Filter numbers: let's filter out positive even numbers from the list below\n",
    "\n",
    "numbers = [-8, -7, -3, -1, 0, 1, 3, 4, 5, 7, 6, 8, 10]\n",
    "positive_even_numbers = [x for x in range(21) if x % 2 == 0 and x > 0]\n",
    "print(positive_even_numbers)                       # [2, 4, 6, 8, 10, 12, 14, 16, 18, 20]"
   ]
  },
  {
   "cell_type": "code",
   "execution_count": 14,
   "metadata": {
    "ExecuteTime": {
     "end_time": "2021-10-04T05:27:20.223334Z",
     "start_time": "2021-10-04T05:27:20.118845Z"
    }
   },
   "outputs": [
    {
     "name": "stdout",
     "output_type": "stream",
     "text": [
      "[1, 2, 3, 4, 5, 6, 7, 8, 9]\n"
     ]
    }
   ],
   "source": [
    "# Flattening a three dimensional array\n",
    "\n",
    "list_of_lists = [[1, 2, 3], [4, 5, 6], [7, 8, 9]]\n",
    "flattened_list = [number for row in list_of_lists for number in row]\n",
    "print(flattened_list)                             # [1, 2, 3, 4, 5, 6, 7, 8, 9]"
   ]
  },
  {
   "cell_type": "code",
   "execution_count": 15,
   "metadata": {
    "ExecuteTime": {
     "end_time": "2021-10-04T05:27:20.330755Z",
     "start_time": "2021-10-04T05:27:20.229196Z"
    }
   },
   "outputs": [
    {
     "data": {
      "text/plain": [
       "['Python Language', 'Python Programming', 'C Language', 'C Programming']"
      ]
     },
     "execution_count": 15,
     "metadata": {},
     "output_type": "execute_result"
    }
   ],
   "source": [
    "# Example 9:\n",
    "\n",
    "[x+y for x in ['Python ','C '] for y in ['Language','Programming']]"
   ]
  },
  {
   "cell_type": "code",
   "execution_count": 16,
   "metadata": {
    "ExecuteTime": {
     "end_time": "2021-10-04T05:27:20.438183Z",
     "start_time": "2021-10-04T05:27:20.333688Z"
    }
   },
   "outputs": [
    {
     "name": "stdout",
     "output_type": "stream",
     "text": [
      "[0, 10, 20, 30, 40, 50, 60, 70, 80, 90]\n"
     ]
    }
   ],
   "source": [
    "# Example 10: Nested 'if' with List Comprehension\n",
    "\n",
    "num_list = [y for y in range(100) if y % 2 == 0 if y % 5 == 0]\n",
    "print(num_list)"
   ]
  },
  {
   "cell_type": "markdown",
   "metadata": {},
   "source": [
    "**Explanation:**\n",
    "\n",
    "Here, list comprehension checks:\n",
    "\n",
    "* Is **`y`** divisible by 2 or not?\n",
    "* Is **`y`** divisible by 5 or not?\n",
    "\n",
    "If **`y`** satisfies both conditions, **`y`** is appended to **`num_list`**."
   ]
  },
  {
   "cell_type": "code",
   "execution_count": 17,
   "metadata": {
    "ExecuteTime": {
     "end_time": "2021-10-04T05:27:20.592478Z",
     "start_time": "2021-10-04T05:27:20.451853Z"
    },
    "scrolled": true
   },
   "outputs": [
    {
     "name": "stdout",
     "output_type": "stream",
     "text": [
      "['Even', 'Odd', 'Even', 'Odd', 'Even', 'Odd', 'Even', 'Odd', 'Even', 'Odd']\n"
     ]
    }
   ],
   "source": [
    "# Example 11: if...else With List Comprehension\n",
    "\n",
    "obj = [\"Even\" if i%2==0 else \"Odd\" for i in range(10)]\n",
    "print(obj)"
   ]
  },
  {
   "cell_type": "markdown",
   "metadata": {},
   "source": [
    "**Explanation:**\n",
    "\n",
    "Here, list comprehension will check the 10 numbers from 0 to 9. If **`i`** is divisible by 2, then **`Even`** is appended to the **`obj`** list. If not, **`Odd`** is appended."
   ]
  },
  {
   "cell_type": "markdown",
   "metadata": {},
   "source": [
    "## List Comprehensions vs Lambda functions\n",
    "\n",
    "List comprehensions aren't the only way to work on lists. Various built-in functions and lambda functions can create and modify lists in less lines of code."
   ]
  },
  {
   "cell_type": "markdown",
   "metadata": {},
   "source": [
    "### Lambda Function\n",
    "\n",
    "**[Lambda function](https://github.com/milaan9/04_Python_Functions/blob/main/006_Python_Function_Anonymous.ipynb)** is a small anonymous function without a name. It can take any number of arguments, but can only have one expression. Lambda function is similar to anonymous functions in JavaScript. We need it when we want to write an anonymous function inside another function."
   ]
  },
  {
   "cell_type": "markdown",
   "metadata": {},
   "source": [
    "### Creating a Lambda Function\n",
    "\n",
    "To create a lambda function we use **`lambda`** keyword followed by a parameter(s), followed by an expression. See the syntax and the example below. Lambda function does not use return but it explicitly returns the expression.\n",
    "\n",
    "**Syntax:**\n",
    "```py\n",
    "x = lambda param1, param2, param3: param1 + param2 + param2\n",
    "print(x(arg1, arg2, arg3))\n",
    "```"
   ]
  },
  {
   "cell_type": "code",
   "execution_count": 18,
   "metadata": {
    "ExecuteTime": {
     "end_time": "2021-10-04T05:27:20.699896Z",
     "start_time": "2021-10-04T05:27:20.607128Z"
    }
   },
   "outputs": [
    {
     "name": "stdout",
     "output_type": "stream",
     "text": [
      "5\n"
     ]
    }
   ],
   "source": [
    "# Named function\n",
    "def add_two_nums(a, b):\n",
    "    return a + b\n",
    "\n",
    "print(add_two_nums(2, 3))     # 5"
   ]
  },
  {
   "cell_type": "markdown",
   "metadata": {},
   "source": [
    "Lets change the above function to a lambda function"
   ]
  },
  {
   "cell_type": "code",
   "execution_count": 19,
   "metadata": {
    "ExecuteTime": {
     "end_time": "2021-10-04T05:27:20.837590Z",
     "start_time": "2021-10-04T05:27:20.707711Z"
    }
   },
   "outputs": [
    {
     "name": "stdout",
     "output_type": "stream",
     "text": [
      "5\n"
     ]
    }
   ],
   "source": [
    "add_two_nums = lambda a, b: a + b\n",
    "print(add_two_nums(2,3))    # 5"
   ]
  },
  {
   "cell_type": "code",
   "execution_count": 20,
   "metadata": {
    "ExecuteTime": {
     "end_time": "2021-10-04T05:27:20.991891Z",
     "start_time": "2021-10-04T05:27:20.842475Z"
    }
   },
   "outputs": [
    {
     "data": {
      "text/plain": [
       "5"
      ]
     },
     "execution_count": 20,
     "metadata": {},
     "output_type": "execute_result"
    }
   ],
   "source": [
    "# Self invoking lambda function\n",
    "(lambda a, b: a + b)(2,3) # 5 "
   ]
  },
  {
   "cell_type": "code",
   "execution_count": 21,
   "metadata": {
    "ExecuteTime": {
     "end_time": "2021-10-04T05:27:21.114938Z",
     "start_time": "2021-10-04T05:27:20.997749Z"
    },
    "scrolled": true
   },
   "outputs": [
    {
     "name": "stdout",
     "output_type": "stream",
     "text": [
      "9\n",
      "27\n"
     ]
    }
   ],
   "source": [
    "square = lambda x : x ** 2\n",
    "print(square(3))    # 9\n",
    "cube = lambda x : x ** 3\n",
    "print(cube(3))    # 27"
   ]
  },
  {
   "cell_type": "code",
   "execution_count": 22,
   "metadata": {
    "ExecuteTime": {
     "end_time": "2021-10-04T05:27:21.130561Z",
     "start_time": "2021-10-04T05:27:21.121772Z"
    }
   },
   "outputs": [
    {
     "name": "stdout",
     "output_type": "stream",
     "text": [
      "22\n"
     ]
    }
   ],
   "source": [
    "# Multiple variables\n",
    "\n",
    "multiple_variable = lambda a, b, c: a ** 2 - 3 * b + 4 * c\n",
    "print(multiple_variable(5, 5, 3)) # 22"
   ]
  },
  {
   "cell_type": "code",
   "execution_count": 23,
   "metadata": {
    "ExecuteTime": {
     "end_time": "2021-10-04T05:27:21.237981Z",
     "start_time": "2021-10-04T05:27:21.134468Z"
    }
   },
   "outputs": [
    {
     "name": "stdout",
     "output_type": "stream",
     "text": [
      "8\n",
      "16\n"
     ]
    }
   ],
   "source": [
    "### Lambda Function Inside Another Function\n",
    "\n",
    "def power(x):\n",
    "    return lambda n : x ** n\n",
    "\n",
    "cube = power(2)(3)   # function power now need 2 arguments to run, in separate rounded brackets\n",
    "print(cube)          # 8\n",
    "two_power_of_five = power(2)(4) \n",
    "print(two_power_of_five)  # 16"
   ]
  },
  {
   "cell_type": "code",
   "execution_count": 24,
   "metadata": {
    "ExecuteTime": {
     "end_time": "2021-10-04T05:27:21.366889Z",
     "start_time": "2021-10-04T05:27:21.252631Z"
    }
   },
   "outputs": [
    {
     "name": "stdout",
     "output_type": "stream",
     "text": [
      "['p', 'y', 't', 'h', 'o', 'n']\n"
     ]
    }
   ],
   "source": [
    "# Example 3: Using Lambda functions inside List\n",
    "\n",
    "letters = list(map(lambda x: x, 'python'))\n",
    "print(letters)"
   ]
  },
  {
   "cell_type": "markdown",
   "metadata": {},
   "source": [
    "**Explanation:**\n",
    "\n",
    "However, list comprehensions are usually more human readable than lambda functions. It is easier to understand what the programmer was trying to accomplish when list comprehensions are used."
   ]
  },
  {
   "cell_type": "markdown",
   "metadata": {},
   "source": [
    "## Nested Loops in List Comprehension\n",
    "\n",
    "Suppose, we need to compute the transpose of a matrix that requires nested for loop. Let's see how it is done using normal for loop first."
   ]
  },
  {
   "cell_type": "code",
   "execution_count": 25,
   "metadata": {
    "ExecuteTime": {
     "end_time": "2021-10-04T05:27:21.504587Z",
     "start_time": "2021-10-04T05:27:21.371772Z"
    },
    "scrolled": true
   },
   "outputs": [
    {
     "name": "stdout",
     "output_type": "stream",
     "text": [
      "[[1, 5], [2, 6], [3, 8], [4, 9]]\n"
     ]
    }
   ],
   "source": [
    "# Example 12: Transpose of Matrix using Nested Loops\n",
    "\n",
    "transposed = []\n",
    "matrix = [[1, 2, 3, 4], [5, 6, 8, 9]]\n",
    "\n",
    "for i in range(len(matrix[0])):\n",
    "    transposed_row = []\n",
    "\n",
    "    for row in matrix:\n",
    "        transposed_row.append(row[i])\n",
    "    transposed.append(transposed_row)\n",
    "\n",
    "print(transposed)"
   ]
  },
  {
   "cell_type": "markdown",
   "metadata": {},
   "source": [
    "**Explanation:**\n",
    "\n",
    "The above code use two for loops to find transpose of the matrix.\n",
    "\n",
    "We can also perform nested iteration inside a list comprehension. In this section, we will find transpose of a matrix using nested loop inside list comprehension."
   ]
  },
  {
   "cell_type": "code",
   "execution_count": 26,
   "metadata": {
    "ExecuteTime": {
     "end_time": "2021-10-04T05:27:21.608096Z",
     "start_time": "2021-10-04T05:27:21.518257Z"
    },
    "scrolled": true
   },
   "outputs": [
    {
     "name": "stdout",
     "output_type": "stream",
     "text": [
      "[[1, 3, 5, 7], [2, 4, 6, 8]]\n"
     ]
    }
   ],
   "source": [
    "# Example 13: Transpose of a Matrix using List Comprehension\n",
    "\n",
    "matrix = [[1,2], [3,4], [5,6], [7,8]]\n",
    "transpose = [[row[i] for row in matrix] for i in range(2)]\n",
    "print (transpose)"
   ]
  },
  {
   "cell_type": "markdown",
   "metadata": {},
   "source": [
    "**Explanation:**\n",
    "\n",
    "In above program, we have a variable **`matrix`** which have **`4`** rows and **`2`** columns. We need to find transpose of the **`matrix`**. For that, we used list comprehension.\n",
    "\n",
    ">**Note:** The nested loops in list comprehension don't work like normal nested loops. In the above program, **`for i in range(2)`** is executed before **`row[i] for row in matrix`**. Hence at first, a value is assigned to **`i`** then item directed by **`row[i]`** is appended in the **`transpose`** variable."
   ]
  },
  {
   "cell_type": "markdown",
   "metadata": {},
   "source": [
    "## Key Points to Remember\n",
    "\n",
    "* List comprehension is an elegant way to define and create lists based on existing lists.\n",
    "* List comprehension is generally more compact and faster than normal functions and loops for creating list.\n",
    "* However, we should avoid writing very long list comprehensions in one line to ensure that code is user-friendly.\n",
    "* Remember, every list comprehension can be rewritten in for loop, but every for loop can't be rewritten in the form of list comprehension."
   ]
  },
  {
   "cell_type": "markdown",
   "metadata": {},
   "source": [
    "## 💻 Exercises ➞ <span class='label label-default'>List Comprehension</span>\n",
    "\n",
    "1. Filter only negative and zero in the list using list comprehension\n",
    "\n",
    "    - ```py\n",
    "numbers = [-4, -3, -2, -1, 0, 3, 6, 9, 12]\n",
    "    ```\n",
    "\n",
    "2. Flatten the following list of lists of lists to a one dimensional list :\n",
    "\n",
    "    - ```py\n",
    "list_of_lists =[[[1, 2, 3]], [[4, 5, 6]], [[7, 8, 9]]]\n",
    "\n",
    "output:\n",
    "[1, 2, 3, 4, 5, 6, 7, 8, 9]\n",
    "    ```\n",
    "\n",
    "3. Using list comprehension create the following list of tuples:\n",
    "\n",
    "    - ```py\n",
    "[(0, 1, 0, 0, 0, 0, 0),\n",
    "(1, 1, 1, 1, 1, 1, 1),\n",
    "(2, 1, 2, 4, 8, 16, 32),\n",
    "(3, 1, 3, 9, 27, 81, 243),\n",
    "(4, 1, 4, 16, 64, 256, 1024),\n",
    "(5, 1, 5, 25, 125, 625, 3125),\n",
    "(6, 1, 6, 36, 216, 1296, 7776),\n",
    "(7, 1, 7, 49, 343, 2401, 16807),\n",
    "(8, 1, 8, 64, 512, 4096, 32768),\n",
    "(9, 1, 9, 81, 729, 6561, 59049),\n",
    "(10, 1, 10, 100, 1000, 10000, 100000)]\n",
    "    ```\n",
    "\n",
    "4. Flatten the following list to a new list:\n",
    "\n",
    "    - ```py\n",
    "countries = [[('INDIA', 'MUMBAI')], [('CHINA', 'SHANGHAI')], [('FINLAND', 'TAMPERE')]]\n",
    "output:\n",
    "[['INDIA','IN', 'MUMBAI'], ['CHINA', 'CH', 'SHANGHAI'], ['FINLAND','FI', 'TAMPERE']]\n",
    "    ```\n",
    "\n",
    "5. Change the following list to a list of dictionaries:\n",
    "\n",
    "    - ```py\n",
    "countries = [[('India', 'Mumbai')], [('China', 'Shanghai')], [('Finland', 'Tampere')]]\n",
    "output:\n",
    "[{'country': 'INDIA', 'city': 'MUMBAI'},\n",
    "{'country': 'CHINA', 'city': 'SHANGHAI'},\n",
    "{'country': 'FINLAND', 'city': 'TAMPERE'}]\n",
    "    ```\n",
    "\n",
    "6. Change the following list of lists to a list of concatenated strings:\n",
    "\n",
    "    - ```py\n",
    "names = [[('Milaan', 'Parmar')], [('Arthur', 'Curry')], [('Bill', 'Gates')], [('Ethan', 'Hunt')]]\n",
    "output\n",
    "['Milaan Parmar', 'Arthur Curry', 'Bill Gates', 'Ethan Hunt']\n",
    "    ```\n",
    "\n",
    "7. Write a lambda function which can solve a slope or y-intercept of linear functions."
   ]
  },
  {
   "cell_type": "code",
   "execution_count": null,
   "metadata": {},
   "outputs": [],
   "source": []
  }
 ],
 "metadata": {
  "hide_input": false,
  "kernelspec": {
   "display_name": "Python 3",
   "language": "python",
   "name": "python3"
  },
  "language_info": {
   "codemirror_mode": {
    "name": "ipython",
    "version": 3
   },
   "file_extension": ".py",
   "mimetype": "text/x-python",
   "name": "python",
   "nbconvert_exporter": "python",
   "pygments_lexer": "ipython3",
   "version": "3.8.8"
  },
  "toc": {
   "base_numbering": 1,
   "nav_menu": {},
   "number_sections": true,
   "sideBar": true,
   "skip_h1_title": false,
   "title_cell": "Table of Contents",
   "title_sidebar": "Contents",
   "toc_cell": false,
   "toc_position": {},
   "toc_section_display": true,
   "toc_window_display": false
  },
  "varInspector": {
   "cols": {
    "lenName": 16,
    "lenType": 16,
    "lenVar": 40
   },
   "kernels_config": {
    "python": {
     "delete_cmd_postfix": "",
     "delete_cmd_prefix": "del ",
     "library": "var_list.py",
     "varRefreshCmd": "print(var_dic_list())"
    },
    "r": {
     "delete_cmd_postfix": ") ",
     "delete_cmd_prefix": "rm(",
     "library": "var_list.r",
     "varRefreshCmd": "cat(var_dic_list()) "
    }
   },
   "types_to_exclude": [
    "module",
    "function",
    "builtin_function_or_method",
    "instance",
    "_Feature"
   ],
   "window_display": false
  }
 },
 "nbformat": 4,
 "nbformat_minor": 2
}
