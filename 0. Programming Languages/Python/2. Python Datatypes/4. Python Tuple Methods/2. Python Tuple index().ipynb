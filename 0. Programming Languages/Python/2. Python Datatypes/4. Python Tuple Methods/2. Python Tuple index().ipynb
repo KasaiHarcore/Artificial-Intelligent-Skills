{
 "cells": [
  {
   "cell_type": "markdown",
   "metadata": {},
   "source": [
    "<small><small><i>\n",
    "All the IPython Notebooks in this lecture series by Dr. Milan Parmar are available @ **[GitHub](https://github.com/milaan9/02_Python_Datatypes/tree/main/004_Python_Tuple_Methods)**\n",
    "</i></small></small>"
   ]
  },
  {
   "cell_type": "markdown",
   "metadata": {},
   "source": [
    "# Python Tuple `index()`\n",
    "\n",
    "The **`index()`** method returns the index of the specified element in the tuple.\n",
    "\n",
    "**Syntax**:\n",
    "\n",
    "```python\n",
    "tuple.index(element, start, end)\n",
    "```"
   ]
  },
  {
   "cell_type": "markdown",
   "metadata": {},
   "source": [
    "## `index()` Parameters\n",
    "\n",
    "The tuple **`index()`** method can take a maximum of three arguments:\n",
    "\n",
    "* **element** - the element to be searched\n",
    "* **start (optional)** - start searching from this index\n",
    "* **end (optional)** - search the element up to this index"
   ]
  },
  {
   "cell_type": "markdown",
   "metadata": {},
   "source": [
    "## Return Value from `index()`\n",
    "\n",
    "* The **`index()`** method returns the index of the given element in the tuple.\n",
    "* If the element is not found, a **`ValueError`** exception is raised.\n",
    "\n",
    ">**Note:** The **`index()`** method only returns the first occurrence of the matching element."
   ]
  },
  {
   "cell_type": "code",
   "execution_count": 1,
   "metadata": {
    "ExecuteTime": {
     "end_time": "2021-06-09T14:25:01.908382Z",
     "start_time": "2021-06-09T14:25:01.899617Z"
    }
   },
   "outputs": [
    {
     "name": "stdout",
     "output_type": "stream",
     "text": [
      "The index of e: 1\n",
      "The index of i: 2\n"
     ]
    }
   ],
   "source": [
    "# Example 1: Find the index of the element\n",
    "\n",
    "# vowels tuple\n",
    "vowels = ('a', 'e', 'i', 'o', 'i', 'u')\n",
    "\n",
    "# index of 'e' in vowels\n",
    "index = vowels.index('e')\n",
    "print('The index of e:', index)\n",
    "\n",
    "# element 'i' is searched\n",
    "# index of the first 'i' is returned\n",
    "index = vowels.index('i')\n",
    "\n",
    "print('The index of i:', index)"
   ]
  },
  {
   "cell_type": "code",
   "execution_count": 2,
   "metadata": {
    "ExecuteTime": {
     "end_time": "2021-06-09T14:25:10.073879Z",
     "start_time": "2021-06-09T14:25:09.752519Z"
    }
   },
   "outputs": [
    {
     "ename": "ValueError",
     "evalue": "tuple.index(x): x not in tuple",
     "output_type": "error",
     "traceback": [
      "\u001b[1;31m---------------------------------------------------------------------------\u001b[0m",
      "\u001b[1;31mValueError\u001b[0m                                Traceback (most recent call last)",
      "\u001b[1;32m<ipython-input-2-04f1b097c9d2>\u001b[0m in \u001b[0;36m<module>\u001b[1;34m\u001b[0m\n\u001b[0;32m      5\u001b[0m \u001b[1;33m\u001b[0m\u001b[0m\n\u001b[0;32m      6\u001b[0m \u001b[1;31m# index of'p' is vowels\u001b[0m\u001b[1;33m\u001b[0m\u001b[1;33m\u001b[0m\u001b[1;33m\u001b[0m\u001b[0m\n\u001b[1;32m----> 7\u001b[1;33m \u001b[0mindex\u001b[0m \u001b[1;33m=\u001b[0m \u001b[0mvowels\u001b[0m\u001b[1;33m.\u001b[0m\u001b[0mindex\u001b[0m\u001b[1;33m(\u001b[0m\u001b[1;34m'p'\u001b[0m\u001b[1;33m)\u001b[0m\u001b[1;33m\u001b[0m\u001b[1;33m\u001b[0m\u001b[0m\n\u001b[0m\u001b[0;32m      8\u001b[0m \u001b[0mprint\u001b[0m\u001b[1;33m(\u001b[0m\u001b[1;34m'The index of p:'\u001b[0m\u001b[1;33m,\u001b[0m \u001b[0mindex\u001b[0m\u001b[1;33m)\u001b[0m\u001b[1;33m\u001b[0m\u001b[1;33m\u001b[0m\u001b[0m\n",
      "\u001b[1;31mValueError\u001b[0m: tuple.index(x): x not in tuple"
     ]
    }
   ],
   "source": [
    "# Example 2: Index of the Element not Present in the Tuple\n",
    "\n",
    "# vowels tuple\n",
    "vowels = ('a', 'e', 'i', 'o', 'u')\n",
    "\n",
    "# index of'p' is vowels\n",
    "index = vowels.index('p')\n",
    "print('The index of p:', index)"
   ]
  },
  {
   "cell_type": "code",
   "execution_count": 3,
   "metadata": {
    "ExecuteTime": {
     "end_time": "2021-06-09T14:25:15.203486Z",
     "start_time": "2021-06-09T14:25:15.176223Z"
    }
   },
   "outputs": [
    {
     "name": "stdout",
     "output_type": "stream",
     "text": [
      "The index of e: 1\n",
      "The index of i: 6\n"
     ]
    },
    {
     "ename": "ValueError",
     "evalue": "tuple.index(x): x not in tuple",
     "output_type": "error",
     "traceback": [
      "\u001b[1;31m---------------------------------------------------------------------------\u001b[0m",
      "\u001b[1;31mValueError\u001b[0m                                Traceback (most recent call last)",
      "\u001b[1;32m<ipython-input-3-250474a9ca7c>\u001b[0m in \u001b[0;36m<module>\u001b[1;34m\u001b[0m\n\u001b[0;32m     13\u001b[0m \u001b[1;33m\u001b[0m\u001b[0m\n\u001b[0;32m     14\u001b[0m \u001b[1;31m# 'i' between 3rd and 5th index is searched\u001b[0m\u001b[1;33m\u001b[0m\u001b[1;33m\u001b[0m\u001b[1;33m\u001b[0m\u001b[0m\n\u001b[1;32m---> 15\u001b[1;33m \u001b[0mindex\u001b[0m \u001b[1;33m=\u001b[0m \u001b[0malphabets\u001b[0m\u001b[1;33m.\u001b[0m\u001b[0mindex\u001b[0m\u001b[1;33m(\u001b[0m\u001b[1;34m'i'\u001b[0m\u001b[1;33m,\u001b[0m \u001b[1;36m3\u001b[0m\u001b[1;33m,\u001b[0m \u001b[1;36m5\u001b[0m\u001b[1;33m)\u001b[0m   \u001b[1;31m# Error!\u001b[0m\u001b[1;33m\u001b[0m\u001b[1;33m\u001b[0m\u001b[0m\n\u001b[0m\u001b[0;32m     16\u001b[0m \u001b[0mprint\u001b[0m\u001b[1;33m(\u001b[0m\u001b[1;34m'The index of i:'\u001b[0m\u001b[1;33m,\u001b[0m \u001b[0mindex\u001b[0m\u001b[1;33m)\u001b[0m\u001b[1;33m\u001b[0m\u001b[1;33m\u001b[0m\u001b[0m\n",
      "\u001b[1;31mValueError\u001b[0m: tuple.index(x): x not in tuple"
     ]
    }
   ],
   "source": [
    "# Example 3: Working of index() With Start and End Parameters\n",
    "\n",
    "# alphabets tuple\n",
    "alphabets = ('a', 'e', 'i', 'o', 'g', 'l', 'i', 'u')\n",
    "\n",
    "# index of 'i' in alphabets\n",
    "index = alphabets.index('e')   # 1\n",
    "print('The index of e:', index)\n",
    "\n",
    "# 'i' after the 4th index is searched\n",
    "index = alphabets.index('i', 4)   # 6\n",
    "print('The index of i:', index)\n",
    "\n",
    "# 'i' between 3rd and 5th index is searched\n",
    "index = alphabets.index('i', 3, 5)   # Error!\n",
    "print('The index of i:', index)"
   ]
  },
  {
   "cell_type": "code",
   "execution_count": null,
   "metadata": {},
   "outputs": [],
   "source": []
  }
 ],
 "metadata": {
  "hide_input": false,
  "kernelspec": {
   "display_name": "Python 3",
   "language": "python",
   "name": "python3"
  },
  "language_info": {
   "codemirror_mode": {
    "name": "ipython",
    "version": 3
   },
   "file_extension": ".py",
   "mimetype": "text/x-python",
   "name": "python",
   "nbconvert_exporter": "python",
   "pygments_lexer": "ipython3",
   "version": "3.8.3"
  },
  "varInspector": {
   "cols": {
    "lenName": 16,
    "lenType": 16,
    "lenVar": 40
   },
   "kernels_config": {
    "python": {
     "delete_cmd_postfix": "",
     "delete_cmd_prefix": "del ",
     "library": "var_list.py",
     "varRefreshCmd": "print(var_dic_list())"
    },
    "r": {
     "delete_cmd_postfix": ") ",
     "delete_cmd_prefix": "rm(",
     "library": "var_list.r",
     "varRefreshCmd": "cat(var_dic_list()) "
    }
   },
   "types_to_exclude": [
    "module",
    "function",
    "builtin_function_or_method",
    "instance",
    "_Feature"
   ],
   "window_display": false
  }
 },
 "nbformat": 4,
 "nbformat_minor": 2
}
