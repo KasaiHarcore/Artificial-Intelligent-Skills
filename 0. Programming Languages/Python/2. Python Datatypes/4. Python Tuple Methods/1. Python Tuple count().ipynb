{
 "cells": [
  {
   "cell_type": "markdown",
   "metadata": {},
   "source": [
    "<small><small><i>\n",
    "All the IPython Notebooks in this lecture series by Dr. Milan Parmar are available @ **[GitHub](https://github.com/milaan9/02_Python_Datatypes/tree/main/004_Python_Tuple_Methods)**\n",
    "</i></small></small>"
   ]
  },
  {
   "cell_type": "markdown",
   "metadata": {},
   "source": [
    "# Python Tuple `count()`\n",
    "\n",
    "The **`count()`** method returns the number of times the specified element appears in the tuple.\n",
    "\n",
    "**Syntax**:\n",
    "\n",
    "```python\n",
    "tuple.count(element)\n",
    "```"
   ]
  },
  {
   "cell_type": "markdown",
   "metadata": {},
   "source": [
    "## `count()` Parameters\n",
    "\n",
    "The tuple **`count()`** method takes a single argument:\n",
    "\n",
    "* **element** - the element to be counted"
   ]
  },
  {
   "cell_type": "markdown",
   "metadata": {},
   "source": [
    "## Return Value from `count()`\n",
    "\n",
    "The **`count()`** method returns the number of times **`element`** appears in the tuple."
   ]
  },
  {
   "cell_type": "code",
   "execution_count": 1,
   "metadata": {
    "ExecuteTime": {
     "end_time": "2021-06-09T14:25:45.608647Z",
     "start_time": "2021-06-09T14:25:45.595986Z"
    }
   },
   "outputs": [
    {
     "name": "stdout",
     "output_type": "stream",
     "text": [
      "The count of i is: 2\n",
      "The count of p is: 0\n"
     ]
    }
   ],
   "source": [
    "# Example 1: Use of Tuple count()\n",
    "\n",
    "# vowels tuple\n",
    "vowels = ('a', 'e', 'i', 'o', 'i', 'u')\n",
    "\n",
    "# count element 'i'\n",
    "count = vowels.count('i')\n",
    "\n",
    "# print count\n",
    "print('The count of i is:', count)\n",
    "\n",
    "# count element 'p'\n",
    "count = vowels.count('p')\n",
    "\n",
    "# print count\n",
    "print('The count of p is:', count)"
   ]
  },
  {
   "cell_type": "code",
   "execution_count": 2,
   "metadata": {
    "ExecuteTime": {
     "end_time": "2021-06-09T14:25:46.903830Z",
     "start_time": "2021-06-09T14:25:46.891169Z"
    }
   },
   "outputs": [
    {
     "name": "stdout",
     "output_type": "stream",
     "text": [
      "The count of ('a', 'b') is: 2\n",
      "The count of [3, 4] is: 1\n"
     ]
    }
   ],
   "source": [
    "# Example 2: Count List and Tuple Elements Inside Tuple\n",
    "\n",
    "# random tuple\n",
    "random = ('a', ('a', 'b'), ('a', 'b'), [3, 4])\n",
    "\n",
    "# count element ('a', 'b')\n",
    "count = random.count(('a', 'b'))\n",
    "\n",
    "# print count\n",
    "print(\"The count of ('a', 'b') is:\", count)\n",
    "\n",
    "# count element [3, 4]\n",
    "count = random.count([3, 4])\n",
    "\n",
    "# print count\n",
    "print(\"The count of [3, 4] is:\", count)"
   ]
  },
  {
   "cell_type": "code",
   "execution_count": null,
   "metadata": {},
   "outputs": [],
   "source": []
  }
 ],
 "metadata": {
  "hide_input": false,
  "kernelspec": {
   "display_name": "Python 3",
   "language": "python",
   "name": "python3"
  },
  "language_info": {
   "codemirror_mode": {
    "name": "ipython",
    "version": 3
   },
   "file_extension": ".py",
   "mimetype": "text/x-python",
   "name": "python",
   "nbconvert_exporter": "python",
   "pygments_lexer": "ipython3",
   "version": "3.8.3"
  },
  "varInspector": {
   "cols": {
    "lenName": 16,
    "lenType": 16,
    "lenVar": 40
   },
   "kernels_config": {
    "python": {
     "delete_cmd_postfix": "",
     "delete_cmd_prefix": "del ",
     "library": "var_list.py",
     "varRefreshCmd": "print(var_dic_list())"
    },
    "r": {
     "delete_cmd_postfix": ") ",
     "delete_cmd_prefix": "rm(",
     "library": "var_list.r",
     "varRefreshCmd": "cat(var_dic_list()) "
    }
   },
   "types_to_exclude": [
    "module",
    "function",
    "builtin_function_or_method",
    "instance",
    "_Feature"
   ],
   "window_display": false
  }
 },
 "nbformat": 4,
 "nbformat_minor": 2
}
