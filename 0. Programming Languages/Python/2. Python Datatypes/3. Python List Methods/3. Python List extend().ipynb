{
 "cells": [
  {
   "cell_type": "markdown",
   "metadata": {},
   "source": [
    "<small><small><i>\n",
    "All the IPython Notebooks in this lecture series by Dr. Milan Parmar are available @ **[GitHub](https://github.com/milaan9/02_Python_Datatypes/tree/main/003_Python_List_Methods)**\n",
    "</i></small></small>"
   ]
  },
  {
   "cell_type": "markdown",
   "metadata": {},
   "source": [
    "# Python List `extend()`\n",
    "\n",
    "The **`extend()`** method adds all the elements of an iterable (list, tuple, string etc.) to the end of the list.\n",
    "\n",
    "**Syntax**:\n",
    "\n",
    "```python\n",
    "list1.extend(iterable)\n",
    "```\n",
    "\n",
    "Here, all the elements of **`iterable`** are added to the end of **`list1`**."
   ]
  },
  {
   "cell_type": "markdown",
   "metadata": {},
   "source": [
    "## `extend()` Parameters\n",
    "\n",
    "As mentioned, the **`extend()`** method takes an iterable such as list, tuple, string etc."
   ]
  },
  {
   "cell_type": "markdown",
   "metadata": {},
   "source": [
    "## Return Value from `extend()`\n",
    "\n",
    "The **`extend()`** method modifies the original list. It doesn't return any value."
   ]
  },
  {
   "cell_type": "code",
   "execution_count": 1,
   "metadata": {
    "ExecuteTime": {
     "end_time": "2021-06-10T17:55:39.604990Z",
     "start_time": "2021-06-10T17:55:39.589414Z"
    }
   },
   "outputs": [
    {
     "name": "stdout",
     "output_type": "stream",
     "text": [
      "Language List: ['French', 'English', 'Spanish', 'Portuguese']\n"
     ]
    }
   ],
   "source": [
    "# Example 1: Using extend() Method\n",
    "\n",
    "# language list\n",
    "language = ['French', 'English']\n",
    "\n",
    "# another list of language\n",
    "language1 = ['Spanish', 'Portuguese']\n",
    "\n",
    "# appending language1 elements to language\n",
    "language.extend(language1)\n",
    "\n",
    "print('Language List:', language)"
   ]
  },
  {
   "cell_type": "code",
   "execution_count": 2,
   "metadata": {
    "ExecuteTime": {
     "end_time": "2021-06-10T17:55:40.589041Z",
     "start_time": "2021-06-10T17:55:40.569562Z"
    }
   },
   "outputs": [
    {
     "name": "stdout",
     "output_type": "stream",
     "text": [
      "New Language List: ['French', 'Spanish', 'Portuguese']\n",
      "Newer Language List: ['French', 'Spanish', 'Portuguese', 'Chinese', 'Japanese']\n"
     ]
    }
   ],
   "source": [
    "# Example 2: Add Elements of Tuple and Set to List\n",
    "\n",
    "# language list\n",
    "language = ['French']\n",
    "\n",
    "# language tuple\n",
    "language_tuple = ('Spanish', 'Portuguese')\n",
    "\n",
    "# language set\n",
    "language_set = {'Chinese', 'Japanese'}\n",
    "\n",
    "# appending language_tuple elements to language\n",
    "language.extend(language_tuple)\n",
    "\n",
    "print('New Language List:', language)\n",
    "\n",
    "# appending language_set elements to language\n",
    "language.extend(language_set)\n",
    "\n",
    "print('Newer Language List:', language)"
   ]
  },
  {
   "cell_type": "markdown",
   "metadata": {},
   "source": [
    "## Other Ways to Extend a List\n",
    "\n",
    "You can also append all elements of an iterable to the list using:\n",
    "\n",
    "**1. the `+` operator**"
   ]
  },
  {
   "cell_type": "code",
   "execution_count": 3,
   "metadata": {
    "ExecuteTime": {
     "end_time": "2021-06-10T17:55:42.542045Z",
     "start_time": "2021-06-10T17:55:42.531330Z"
    }
   },
   "outputs": [
    {
     "name": "stdout",
     "output_type": "stream",
     "text": [
      "a = [1, 2, 3, 4]\n"
     ]
    }
   ],
   "source": [
    "a = [1, 2]\n",
    "b = [3, 4]\n",
    "\n",
    "a += b    # a = a + b\n",
    "\n",
    "# Output: [1, 2, 3, 4]\n",
    "print('a =', a)"
   ]
  },
  {
   "cell_type": "markdown",
   "metadata": {},
   "source": [
    "**2. the list slicing syntax**"
   ]
  },
  {
   "cell_type": "code",
   "execution_count": 4,
   "metadata": {
    "ExecuteTime": {
     "end_time": "2021-06-10T17:55:43.993526Z",
     "start_time": "2021-06-10T17:55:43.975511Z"
    }
   },
   "outputs": [
    {
     "name": "stdout",
     "output_type": "stream",
     "text": [
      "a = [1, 2, 3, 4]\n"
     ]
    }
   ],
   "source": [
    "a = [1, 2]\n",
    "b = [3, 4]\n",
    "\n",
    "a[len(a):] = b\n",
    "\n",
    "# Output: [1, 2, 3, 4]\n",
    "print('a =', a)"
   ]
  },
  {
   "cell_type": "markdown",
   "metadata": {},
   "source": [
    "## Python `extend()` Vs `append()`\n",
    "\n",
    "If you need to add an element to the end of a list, you can use the **`append()`** method."
   ]
  },
  {
   "cell_type": "code",
   "execution_count": 5,
   "metadata": {
    "ExecuteTime": {
     "end_time": "2021-06-10T17:55:45.821396Z",
     "start_time": "2021-06-10T17:55:45.809709Z"
    }
   },
   "outputs": [
    {
     "name": "stdout",
     "output_type": "stream",
     "text": [
      "[1, 2, 3, 4]\n",
      "[1, 2, (3, 4)]\n"
     ]
    }
   ],
   "source": [
    "a1 = [1, 2]\n",
    "a2 = [1, 2]\n",
    "b = (3, 4)\n",
    "\n",
    "# a1 = [1, 2, 3, 4]\n",
    "a1.extend(b) \n",
    "print(a1)\n",
    "\n",
    "# a2 = [1, 2, (3, 4)]\n",
    "a2.append(b)\n",
    "print(a2)"
   ]
  },
  {
   "cell_type": "markdown",
   "metadata": {},
   "source": [
    "To learn more, visit **[list append() method](https://github.com/milaan9/02_Python_Datatypes/blob/main/003_Python_List_Methods/002_Python_List_append%28%29.ipynb)**."
   ]
  },
  {
   "cell_type": "code",
   "execution_count": null,
   "metadata": {},
   "outputs": [],
   "source": []
  }
 ],
 "metadata": {
  "hide_input": false,
  "kernelspec": {
   "display_name": "Python 3",
   "language": "python",
   "name": "python3"
  },
  "language_info": {
   "codemirror_mode": {
    "name": "ipython",
    "version": 3
   },
   "file_extension": ".py",
   "mimetype": "text/x-python",
   "name": "python",
   "nbconvert_exporter": "python",
   "pygments_lexer": "ipython3",
   "version": "3.8.8"
  },
  "toc": {
   "base_numbering": 1,
   "nav_menu": {},
   "number_sections": true,
   "sideBar": true,
   "skip_h1_title": false,
   "title_cell": "Table of Contents",
   "title_sidebar": "Contents",
   "toc_cell": false,
   "toc_position": {},
   "toc_section_display": true,
   "toc_window_display": false
  },
  "varInspector": {
   "cols": {
    "lenName": 16,
    "lenType": 16,
    "lenVar": 40
   },
   "kernels_config": {
    "python": {
     "delete_cmd_postfix": "",
     "delete_cmd_prefix": "del ",
     "library": "var_list.py",
     "varRefreshCmd": "print(var_dic_list())"
    },
    "r": {
     "delete_cmd_postfix": ") ",
     "delete_cmd_prefix": "rm(",
     "library": "var_list.r",
     "varRefreshCmd": "cat(var_dic_list()) "
    }
   },
   "types_to_exclude": [
    "module",
    "function",
    "builtin_function_or_method",
    "instance",
    "_Feature"
   ],
   "window_display": false
  }
 },
 "nbformat": 4,
 "nbformat_minor": 2
}
