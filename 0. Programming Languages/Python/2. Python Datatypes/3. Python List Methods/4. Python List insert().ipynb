{
 "cells": [
  {
   "cell_type": "markdown",
   "metadata": {},
   "source": [
    "<small><small><i>\n",
    "All the IPython Notebooks in this lecture series by Dr. Milan Parmar are available @ **[GitHub](https://github.com/milaan9/02_Python_Datatypes/tree/main/003_Python_List_Methods)**\n",
    "</i></small></small>"
   ]
  },
  {
   "cell_type": "markdown",
   "metadata": {},
   "source": [
    "# Python List `insert()`\n",
    "\n",
    "The list **`insert()`** method inserts an element to the list at the specified index.\n",
    "\n",
    "**Syntax**:\n",
    "\n",
    "```python\n",
    "list.insert(i, elem)\n",
    "```\n",
    "\n",
    "Here, **`elem`** is inserted to the list at the **$i_{th}$** index. All the elements after **`elem`** are shifted to the right."
   ]
  },
  {
   "cell_type": "markdown",
   "metadata": {},
   "source": [
    "## `insert()` Parameters\n",
    "\n",
    "The **`insert()`** method takes two parameters:\n",
    "\n",
    "* **index** - the index where the element needs to be inserted\n",
    "* **element** - this is the element to be inserted in the list\n",
    "\n",
    ">**Notes:**\n",
    "* If **`index`** is 0, the element is inserted at the beginning of the list.\n",
    "* If **`index`** is 3, the element is inserted after the 3rd element. Its position will be 4th."
   ]
  },
  {
   "cell_type": "markdown",
   "metadata": {},
   "source": [
    "## Return Value from `insert()`\n",
    "\n",
    "The **`insert()`** method doesn't return anything; returns None. It only updates the current list."
   ]
  },
  {
   "cell_type": "code",
   "execution_count": 1,
   "metadata": {
    "ExecuteTime": {
     "end_time": "2021-06-10T17:55:59.469047Z",
     "start_time": "2021-06-10T17:55:59.461258Z"
    }
   },
   "outputs": [
    {
     "name": "stdout",
     "output_type": "stream",
     "text": [
      "Updated List: ['a', 'e', 'i', 'o', 'u']\n"
     ]
    }
   ],
   "source": [
    "# Example 1: Inserting an Element to the List\n",
    "\n",
    "# vowel list\n",
    "vowel = ['a', 'e', 'i', 'u']\n",
    "\n",
    "# 'o' is inserted at index 3\n",
    "# the position of 'o' will be 4th\n",
    "vowel.insert(3, 'o')\n",
    "\n",
    "print('Updated List:', vowel)"
   ]
  },
  {
   "cell_type": "code",
   "execution_count": 2,
   "metadata": {
    "ExecuteTime": {
     "end_time": "2021-06-10T17:56:00.578235Z",
     "start_time": "2021-06-10T17:56:00.570444Z"
    }
   },
   "outputs": [
    {
     "name": "stdout",
     "output_type": "stream",
     "text": [
      "Updated List: [{1, 2}, (3, 4), [5, 6, 7]]\n"
     ]
    }
   ],
   "source": [
    "# Example 2: Inserting a Tuple (as an Element) to the List\n",
    "\n",
    "mixed_list = [{1, 2}, [5, 6, 7]]\n",
    "\n",
    "# number tuple\n",
    "number_tuple = (3, 4)\n",
    "\n",
    "# inserting a tuple to the list\n",
    "mixed_list.insert(1, number_tuple)\n",
    "\n",
    "print('Updated List:', mixed_list)"
   ]
  },
  {
   "cell_type": "code",
   "execution_count": null,
   "metadata": {},
   "outputs": [],
   "source": []
  }
 ],
 "metadata": {
  "hide_input": false,
  "kernelspec": {
   "display_name": "Python 3",
   "language": "python",
   "name": "python3"
  },
  "language_info": {
   "codemirror_mode": {
    "name": "ipython",
    "version": 3
   },
   "file_extension": ".py",
   "mimetype": "text/x-python",
   "name": "python",
   "nbconvert_exporter": "python",
   "pygments_lexer": "ipython3",
   "version": "3.8.8"
  },
  "toc": {
   "base_numbering": 1,
   "nav_menu": {},
   "number_sections": true,
   "sideBar": true,
   "skip_h1_title": false,
   "title_cell": "Table of Contents",
   "title_sidebar": "Contents",
   "toc_cell": false,
   "toc_position": {},
   "toc_section_display": true,
   "toc_window_display": false
  },
  "varInspector": {
   "cols": {
    "lenName": 16,
    "lenType": 16,
    "lenVar": 40
   },
   "kernels_config": {
    "python": {
     "delete_cmd_postfix": "",
     "delete_cmd_prefix": "del ",
     "library": "var_list.py",
     "varRefreshCmd": "print(var_dic_list())"
    },
    "r": {
     "delete_cmd_postfix": ") ",
     "delete_cmd_prefix": "rm(",
     "library": "var_list.r",
     "varRefreshCmd": "cat(var_dic_list()) "
    }
   },
   "types_to_exclude": [
    "module",
    "function",
    "builtin_function_or_method",
    "instance",
    "_Feature"
   ],
   "window_display": false
  }
 },
 "nbformat": 4,
 "nbformat_minor": 2
}
