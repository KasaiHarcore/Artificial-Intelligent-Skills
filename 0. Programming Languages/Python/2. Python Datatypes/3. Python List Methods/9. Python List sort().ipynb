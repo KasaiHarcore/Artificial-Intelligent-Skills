{
 "cells": [
  {
   "cell_type": "markdown",
   "metadata": {},
   "source": [
    "<small><small><i>\n",
    "All the IPython Notebooks in this lecture series by Dr. Milan Parmar are available @ **[GitHub](https://github.com/milaan9/02_Python_Datatypes/tree/main/003_Python_List_Methods)**\n",
    "</i></small></small>"
   ]
  },
  {
   "cell_type": "markdown",
   "metadata": {},
   "source": [
    "# Python List `sort()`\n",
    "\n",
    "The **`sort()`** method sorts the elements of a given list in a specific ascending or descending order.\n",
    "\n",
    "**Syntax**:\n",
    "\n",
    "```python\n",
    "list.sort(key=..., reverse=...)\n",
    "```\n",
    "\n",
    "Alternatively, you can also use Python's built-in **[sorted()](https://github.com/milaan9/04_Python_Functions/blob/main/002_Python_Functions_Built_in/060_Python_sorted%28%29.ipynb)** function for the same purpose.\n",
    "\n",
    "```python\n",
    "sorted(list, key=..., reverse=...)\n",
    "```\n",
    "\n",
    ">**Note:** The simplest difference between **`sort()`** and **`sorted()`** is: **`sort()`** changes the list directly and doesn't return any value, while **`sorted()`** doesn't change the list and returns the sorted list."
   ]
  },
  {
   "cell_type": "markdown",
   "metadata": {},
   "source": [
    "## `sort()` Parameters\n",
    "\n",
    "By default, **`sort()`** doesn't require any extra parameters. However, it has two optional parameters:\n",
    "\n",
    "* **reverse** - If **`True`**, the sorted list is reversed (or sorted in Descending order)\n",
    "* **key** - function that serves as a key for the sort comparison"
   ]
  },
  {
   "cell_type": "markdown",
   "metadata": {},
   "source": [
    "## Return Value from `sort()`\n",
    "\n",
    "The **`sort()`** method doesn't return any value. Rather, it changes the original list.\n",
    "\n",
    "If you want a function to return the sorted list rather than change the original list, use **`sorted()`**."
   ]
  },
  {
   "cell_type": "code",
   "execution_count": 1,
   "metadata": {
    "ExecuteTime": {
     "end_time": "2021-06-10T17:57:46.549754Z",
     "start_time": "2021-06-10T17:57:46.540016Z"
    }
   },
   "outputs": [
    {
     "name": "stdout",
     "output_type": "stream",
     "text": [
      "Sorted list: ['a', 'e', 'i', 'o', 'u']\n"
     ]
    }
   ],
   "source": [
    "# Example 1: Sort a given list\n",
    "\n",
    "# vowels list\n",
    "vowels = ['e', 'a', 'u', 'o', 'i']\n",
    "\n",
    "# sort the vowels\n",
    "vowels.sort()\n",
    "\n",
    "# print vowels\n",
    "print('Sorted list:', vowels)"
   ]
  },
  {
   "cell_type": "markdown",
   "metadata": {},
   "source": [
    "## Sort in Descending order\n",
    "\n",
    "The **`sort()`** method accepts a **`reverse`** parameter as an optional argument.\n",
    "\n",
    "Setting **`reverse = True`** sorts the list in the descending order.\n",
    "\n",
    "```python\n",
    "list.sort(reverse=True)\n",
    "```\n",
    "\n",
    "Alternately for **`sorted()`**, you can use the following code.\n",
    "\n",
    "```python\n",
    "sorted(list, reverse=True)\n",
    "```"
   ]
  },
  {
   "cell_type": "code",
   "execution_count": 2,
   "metadata": {
    "ExecuteTime": {
     "end_time": "2021-06-10T17:57:51.486070Z",
     "start_time": "2021-06-10T17:57:51.470486Z"
    }
   },
   "outputs": [
    {
     "name": "stdout",
     "output_type": "stream",
     "text": [
      "Sorted list (in Descending): ['u', 'o', 'i', 'e', 'a']\n"
     ]
    }
   ],
   "source": [
    "# Example 2: Sort the list in Descending order\n",
    "\n",
    "# vowels list\n",
    "vowels = ['e', 'a', 'u', 'o', 'i']\n",
    "\n",
    "# sort the vowels\n",
    "vowels.sort(reverse=True)\n",
    "\n",
    "# print vowels\n",
    "print('Sorted list (in Descending):', vowels)"
   ]
  },
  {
   "cell_type": "markdown",
   "metadata": {},
   "source": [
    "## Sort with custom function using key\n",
    "\n",
    "If you want your own implementation for sorting, the **`sort()`** method also accepts a **`key`** function as an optional parameter.\n",
    "\n",
    "Based on the results of the key function, you can sort the given list.\n",
    "\n",
    "```python\n",
    "list.sort(key=len)\n",
    "```\n",
    "\n",
    "Alternatively for sorted:\n",
    "\n",
    "```python\n",
    "sorted(list, key=len)\n",
    "```\n",
    "\n",
    "Here, **`len`** is the Python's in-built function to count the length of an element.\n",
    "\n",
    "The list is sorted based on the length of each element, from lowest count to highest."
   ]
  },
  {
   "cell_type": "markdown",
   "metadata": {},
   "source": [
    "We know that a tuple is sorted using its first parameter by default. Let's look at how to customize the **`sort()`** method to sort using the second element."
   ]
  },
  {
   "cell_type": "code",
   "execution_count": 3,
   "metadata": {
    "ExecuteTime": {
     "end_time": "2021-06-10T17:58:35.059335Z",
     "start_time": "2021-06-10T17:58:35.037914Z"
    }
   },
   "outputs": [
    {
     "name": "stdout",
     "output_type": "stream",
     "text": [
      "Sorted list: [(4, 1), (2, 2), (1, 3), (3, 4)]\n"
     ]
    }
   ],
   "source": [
    "# Example 3: Sort the list using key\n",
    "\n",
    "# take second element for sort\n",
    "def takeSecond(elem):\n",
    "    return elem[1]\n",
    "\n",
    "# random list\n",
    "random = [(2, 2), (3, 4), (4, 1), (1, 3)]\n",
    "\n",
    "# sort list with key\n",
    "random.sort(key=takeSecond)\n",
    "\n",
    "# print list\n",
    "print('Sorted list:', random)"
   ]
  },
  {
   "cell_type": "markdown",
   "metadata": {},
   "source": [
    "Let's take another example. Suppose we have a list of information about the employees of an office where each element is a dictionary.\n",
    "\n",
    "We can sort the list in the following way:"
   ]
  },
  {
   "cell_type": "code",
   "execution_count": 4,
   "metadata": {
    "ExecuteTime": {
     "end_time": "2021-06-10T17:58:38.292922Z",
     "start_time": "2021-06-10T17:58:38.269549Z"
    }
   },
   "outputs": [
    {
     "name": "stdout",
     "output_type": "stream",
     "text": [
      "[{'Name': 'Alan Turing', 'age': 25, 'salary': 10000}, {'Name': 'John Hopkins', 'age': 18, 'salary': 1000}, {'Name': 'Mikhail Tal', 'age': 40, 'salary': 15000}, {'Name': 'Sharon Lin', 'age': 30, 'salary': 8000}]\n",
      "\n",
      "[{'Name': 'John Hopkins', 'age': 18, 'salary': 1000}, {'Name': 'Alan Turing', 'age': 25, 'salary': 10000}, {'Name': 'Sharon Lin', 'age': 30, 'salary': 8000}, {'Name': 'Mikhail Tal', 'age': 40, 'salary': 15000}]\n",
      "\n",
      "[{'Name': 'Mikhail Tal', 'age': 40, 'salary': 15000}, {'Name': 'Alan Turing', 'age': 25, 'salary': 10000}, {'Name': 'Sharon Lin', 'age': 30, 'salary': 8000}, {'Name': 'John Hopkins', 'age': 18, 'salary': 1000}]\n",
      "\n"
     ]
    }
   ],
   "source": [
    "# sorting using custom key\n",
    "employees = [\n",
    "    {'Name': 'Alan Turing', 'age': 25, 'salary': 10000},\n",
    "    {'Name': 'Sharon Lin', 'age': 30, 'salary': 8000},\n",
    "    {'Name': 'John Hopkins', 'age': 18, 'salary': 1000},\n",
    "    {'Name': 'Mikhail Tal', 'age': 40, 'salary': 15000},\n",
    "]\n",
    "\n",
    "# custom functions to get employee info\n",
    "def get_name(employee):\n",
    "    return employee.get('Name')\n",
    "\n",
    "\n",
    "def get_age(employee):\n",
    "    return employee.get('age')\n",
    "\n",
    "\n",
    "def get_salary(employee):\n",
    "    return employee.get('salary')\n",
    "\n",
    "\n",
    "# sort by name (Ascending order)\n",
    "employees.sort(key=get_name)\n",
    "print(employees, end='\\n\\n')\n",
    "\n",
    "# sort by Age (Ascending order)\n",
    "employees.sort(key=get_age)\n",
    "print(employees, end='\\n\\n')\n",
    "\n",
    "# sort by salary (Descending order)\n",
    "employees.sort(key=get_salary, reverse=True)\n",
    "print(employees, end='\\n\\n')"
   ]
  },
  {
   "cell_type": "markdown",
   "metadata": {},
   "source": [
    "Here, for the first case, our custom function returns the name of each employee. Since the name is a **`string`**, Python by default sorts it using the alphabetical order.\n",
    "\n",
    "For the second case, age (**`int`**) is returned and is sorted in ascending order.\n",
    "\n",
    "For the third case, the function returns the salary (**`int`**), and is sorted in the descending order using **`reverse = True`**.\n",
    "\n",
    "It is a good practice to use the lambda function when the function can be summarized in one line. So, we can also write the above program as:"
   ]
  },
  {
   "cell_type": "code",
   "execution_count": 5,
   "metadata": {
    "ExecuteTime": {
     "end_time": "2021-06-10T17:58:41.540620Z",
     "start_time": "2021-06-10T17:58:41.515306Z"
    }
   },
   "outputs": [
    {
     "name": "stdout",
     "output_type": "stream",
     "text": [
      "[{'Name': 'Alan Turing', 'age': 25, 'salary': 10000}, {'Name': 'John Hopkins', 'age': 18, 'salary': 1000}, {'Name': 'Mikhail Tal', 'age': 40, 'salary': 15000}, {'Name': 'Sharon Lin', 'age': 30, 'salary': 8000}]\n",
      "\n",
      "[{'Name': 'John Hopkins', 'age': 18, 'salary': 1000}, {'Name': 'Alan Turing', 'age': 25, 'salary': 10000}, {'Name': 'Sharon Lin', 'age': 30, 'salary': 8000}, {'Name': 'Mikhail Tal', 'age': 40, 'salary': 15000}]\n",
      "\n",
      "[{'Name': 'Mikhail Tal', 'age': 40, 'salary': 15000}, {'Name': 'Alan Turing', 'age': 25, 'salary': 10000}, {'Name': 'Sharon Lin', 'age': 30, 'salary': 8000}, {'Name': 'John Hopkins', 'age': 18, 'salary': 1000}]\n",
      "\n"
     ]
    }
   ],
   "source": [
    "# sorting using custom key\n",
    "employees = [\n",
    "    {'Name': 'Alan Turing', 'age': 25, 'salary': 10000},\n",
    "    {'Name': 'Sharon Lin', 'age': 30, 'salary': 8000},\n",
    "    {'Name': 'John Hopkins', 'age': 18, 'salary': 1000},\n",
    "    {'Name': 'Mikhail Tal', 'age': 40, 'salary': 15000},\n",
    "]\n",
    "\n",
    "# sort by name (Ascending order)\n",
    "employees.sort(key=lambda x: x.get('Name'))\n",
    "print(employees, end='\\n\\n')\n",
    "\n",
    "# sort by Age (Ascending order)\n",
    "employees.sort(key=lambda x: x.get('age'))\n",
    "print(employees, end='\\n\\n')\n",
    "\n",
    "# sort by salary (Descending order)\n",
    "employees.sort(key=lambda x: x.get('salary'), reverse=True)\n",
    "print(employees, end='\\n\\n')"
   ]
  },
  {
   "cell_type": "markdown",
   "metadata": {},
   "source": [
    "To learn more about lambda functions, visit **[Python Lambda Functions](https://github.com/milaan9/04_Python_Functions/blob/main/006_Python_Function_Anonymous.ipynb)**."
   ]
  },
  {
   "cell_type": "code",
   "execution_count": null,
   "metadata": {},
   "outputs": [],
   "source": []
  }
 ],
 "metadata": {
  "hide_input": false,
  "kernelspec": {
   "display_name": "Python 3",
   "language": "python",
   "name": "python3"
  },
  "language_info": {
   "codemirror_mode": {
    "name": "ipython",
    "version": 3
   },
   "file_extension": ".py",
   "mimetype": "text/x-python",
   "name": "python",
   "nbconvert_exporter": "python",
   "pygments_lexer": "ipython3",
   "version": "3.8.8"
  },
  "toc": {
   "base_numbering": 1,
   "nav_menu": {},
   "number_sections": true,
   "sideBar": true,
   "skip_h1_title": false,
   "title_cell": "Table of Contents",
   "title_sidebar": "Contents",
   "toc_cell": false,
   "toc_position": {},
   "toc_section_display": true,
   "toc_window_display": false
  },
  "varInspector": {
   "cols": {
    "lenName": 16,
    "lenType": 16,
    "lenVar": 40
   },
   "kernels_config": {
    "python": {
     "delete_cmd_postfix": "",
     "delete_cmd_prefix": "del ",
     "library": "var_list.py",
     "varRefreshCmd": "print(var_dic_list())"
    },
    "r": {
     "delete_cmd_postfix": ") ",
     "delete_cmd_prefix": "rm(",
     "library": "var_list.r",
     "varRefreshCmd": "cat(var_dic_list()) "
    }
   },
   "types_to_exclude": [
    "module",
    "function",
    "builtin_function_or_method",
    "instance",
    "_Feature"
   ],
   "window_display": false
  }
 },
 "nbformat": 4,
 "nbformat_minor": 2
}
