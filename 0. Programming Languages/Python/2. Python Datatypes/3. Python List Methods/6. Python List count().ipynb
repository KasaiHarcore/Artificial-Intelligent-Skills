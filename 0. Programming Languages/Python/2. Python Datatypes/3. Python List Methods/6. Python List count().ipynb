{
 "cells": [
  {
   "cell_type": "markdown",
   "metadata": {},
   "source": [
    "<small><small><i>\n",
    "All the IPython Notebooks in this lecture series by Dr. Milan Parmar are available @ **[GitHub](https://github.com/milaan9/02_Python_Datatypes/tree/main/003_Python_List_Methods)**\n",
    "</i></small></small>"
   ]
  },
  {
   "cell_type": "markdown",
   "metadata": {},
   "source": [
    "# Python List `count()`\n",
    "\n",
    "The **`count()`** method returns the number of times the specified element appears in the list.\n",
    "\n",
    "**Syntax**:\n",
    "\n",
    "```python\n",
    "list.count(element)\n",
    "```"
   ]
  },
  {
   "cell_type": "markdown",
   "metadata": {},
   "source": [
    "## `count()` Parameters\n",
    "\n",
    "The list **`count()`** method takes a single argument:\n",
    "\n",
    "* **element** - the element to be counted"
   ]
  },
  {
   "cell_type": "markdown",
   "metadata": {},
   "source": [
    "## Return Value from `count()`\n",
    "\n",
    "The **`count()`** method returns the number of times **`element`** appears in the list."
   ]
  },
  {
   "cell_type": "code",
   "execution_count": 1,
   "metadata": {
    "ExecuteTime": {
     "end_time": "2021-06-10T17:56:25.192602Z",
     "start_time": "2021-06-10T17:56:25.181891Z"
    }
   },
   "outputs": [
    {
     "name": "stdout",
     "output_type": "stream",
     "text": [
      "The count of i is: 2\n",
      "The count of p is: 0\n"
     ]
    }
   ],
   "source": [
    "# Example 1: Use of List count()\n",
    "\n",
    "# vowels list\n",
    "vowels = ['a', 'e', 'i', 'o', 'i', 'u']\n",
    "\n",
    "# count element 'i'\n",
    "count = vowels.count('i')\n",
    "\n",
    "# print count\n",
    "print('The count of i is:', count)\n",
    "\n",
    "# count element 'p'\n",
    "count = vowels.count('p')\n",
    "\n",
    "# print count\n",
    "print('The count of p is:', count)"
   ]
  },
  {
   "cell_type": "code",
   "execution_count": 2,
   "metadata": {
    "ExecuteTime": {
     "end_time": "2021-06-10T17:56:26.222909Z",
     "start_time": "2021-06-10T17:56:26.211220Z"
    }
   },
   "outputs": [
    {
     "name": "stdout",
     "output_type": "stream",
     "text": [
      "The count of ('a', 'b') is: 2\n",
      "The count of [3, 4] is: 1\n"
     ]
    }
   ],
   "source": [
    "# Example 2: Count Tuple and List Elements Inside List\n",
    "\n",
    "# random list\n",
    "random = ['a', ('a', 'b'), ('a', 'b'), [3, 4]]\n",
    "\n",
    "# count element ('a', 'b')\n",
    "count = random.count(('a', 'b'))\n",
    "\n",
    "# print count\n",
    "print(\"The count of ('a', 'b') is:\", count)\n",
    "\n",
    "# count element [3, 4]\n",
    "count = random.count([3, 4])\n",
    "\n",
    "# print count\n",
    "print(\"The count of [3, 4] is:\", count)"
   ]
  },
  {
   "cell_type": "code",
   "execution_count": null,
   "metadata": {},
   "outputs": [],
   "source": []
  }
 ],
 "metadata": {
  "hide_input": false,
  "kernelspec": {
   "display_name": "Python 3",
   "language": "python",
   "name": "python3"
  },
  "language_info": {
   "codemirror_mode": {
    "name": "ipython",
    "version": 3
   },
   "file_extension": ".py",
   "mimetype": "text/x-python",
   "name": "python",
   "nbconvert_exporter": "python",
   "pygments_lexer": "ipython3",
   "version": "3.8.8"
  },
  "toc": {
   "base_numbering": 1,
   "nav_menu": {},
   "number_sections": true,
   "sideBar": true,
   "skip_h1_title": false,
   "title_cell": "Table of Contents",
   "title_sidebar": "Contents",
   "toc_cell": false,
   "toc_position": {},
   "toc_section_display": true,
   "toc_window_display": false
  },
  "varInspector": {
   "cols": {
    "lenName": 16,
    "lenType": 16,
    "lenVar": 40
   },
   "kernels_config": {
    "python": {
     "delete_cmd_postfix": "",
     "delete_cmd_prefix": "del ",
     "library": "var_list.py",
     "varRefreshCmd": "print(var_dic_list())"
    },
    "r": {
     "delete_cmd_postfix": ") ",
     "delete_cmd_prefix": "rm(",
     "library": "var_list.r",
     "varRefreshCmd": "cat(var_dic_list()) "
    }
   },
   "types_to_exclude": [
    "module",
    "function",
    "builtin_function_or_method",
    "instance",
    "_Feature"
   ],
   "window_display": false
  }
 },
 "nbformat": 4,
 "nbformat_minor": 2
}
