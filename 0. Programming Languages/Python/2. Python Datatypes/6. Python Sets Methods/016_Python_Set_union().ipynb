{
 "cells": [
  {
   "cell_type": "markdown",
   "metadata": {},
   "source": [
    "<small><small><i>\n",
    "All the IPython Notebooks in this lecture series by Dr. Milan Parmar are available @ **[GitHub](https://github.com/milaan9/02_Python_Datatypes/tree/main/006_Python_Sets_Methods)**\n",
    "</i></small></small>"
   ]
  },
  {
   "cell_type": "markdown",
   "metadata": {},
   "source": [
    "# Python Set `union()`\n",
    "\n",
    "The **`union()`** method returns a new set with distinct elements from all the sets.\n",
    "\n",
    "The union of two or more sets is the set of all distinct elements present in all the sets. For example:\n",
    "\n",
    "```python\n",
    "A = {1, 2}\n",
    "B = {2, 3, 4}\n",
    "C = {5}\n",
    "\n",
    "Then,\n",
    "A∪B = B∪A = {1, 2, 3, 4}\n",
    "A∪C = C∪A = {1, 2, 5}\n",
    "B∪C = C∪B = {2, 3, 4, 5}\n",
    "\n",
    "A∪B∪C = {1, 2, 3, 4, 5}\n",
    "```\n",
    "\n",
    "<div>\n",
    "<img src=\"img/union.png\" width=\"250\"/>\n",
    "</div>"
   ]
  },
  {
   "cell_type": "markdown",
   "metadata": {},
   "source": [
    "**Syntax**:\n",
    "\n",
    "```python\n",
    "A.union(*other_sets)\n",
    "```\n",
    "\n",
    ">**Note:** **`*`** is not part of the syntax. It is used to indicate that the method can take 0 or more arguments."
   ]
  },
  {
   "cell_type": "markdown",
   "metadata": {},
   "source": [
    "## Return Value from `union()`\n",
    "\n",
    "* The **`union()`** method returns a new set with elements from the set and all other sets (passed as an argument).\n",
    "* If the argument is not passed to **`union()`**, it returns a shallow copy of the set."
   ]
  },
  {
   "cell_type": "code",
   "execution_count": 1,
   "metadata": {
    "ExecuteTime": {
     "end_time": "2021-06-10T17:46:05.414841Z",
     "start_time": "2021-06-10T17:46:05.404128Z"
    },
    "scrolled": true
   },
   "outputs": [
    {
     "name": "stdout",
     "output_type": "stream",
     "text": [
      "A U B = {'a', 2, 'd', 'c'}\n",
      "B U C = {1, 2, 3, 'd', 'c'}\n",
      "A U B U C = {1, 'a', 2, 3, 'd', 'c'}\n",
      "A.union() = {'a', 'd', 'c'}\n"
     ]
    }
   ],
   "source": [
    "# Example 1: Working of union()\n",
    "\n",
    "A = {'a', 'c', 'd'}\n",
    "B = {'c', 'd', 2 }\n",
    "C = {1, 2, 3}\n",
    "\n",
    "print('A U B =', A.union(B))\n",
    "print('B U C =', B.union(C))\n",
    "print('A U B U C =', A.union(B, C))\n",
    "print('A.union() =', A.union())"
   ]
  },
  {
   "cell_type": "markdown",
   "metadata": {},
   "source": [
    "You can also find the union of sets using the **`|`** operator."
   ]
  },
  {
   "cell_type": "code",
   "execution_count": 2,
   "metadata": {
    "ExecuteTime": {
     "end_time": "2021-06-10T17:46:08.102103Z",
     "start_time": "2021-06-10T17:46:08.083601Z"
    }
   },
   "outputs": [
    {
     "name": "stdout",
     "output_type": "stream",
     "text": [
      "A U B = {'a', 2, 'd', 'c'}\n",
      "B U C = {1, 2, 3, 'd', 'c'}\n",
      "A U B U C = {1, 'a', 2, 3, 'd', 'c'}\n"
     ]
    }
   ],
   "source": [
    "# Example 2: Set Union Using the | Operator\n",
    "\n",
    "A = {'a', 'c', 'd'}\n",
    "B = {'c', 'd', 2 }\n",
    "C = {1, 2, 3}\n",
    "\n",
    "print('A U B =', A| B)\n",
    "print('B U C =', B | C)\n",
    "print('A U B U C =', A | B | C)"
   ]
  },
  {
   "cell_type": "code",
   "execution_count": null,
   "metadata": {},
   "outputs": [],
   "source": []
  }
 ],
 "metadata": {
  "hide_input": false,
  "kernelspec": {
   "display_name": "Python 3",
   "language": "python",
   "name": "python3"
  },
  "language_info": {
   "codemirror_mode": {
    "name": "ipython",
    "version": 3
   },
   "file_extension": ".py",
   "mimetype": "text/x-python",
   "name": "python",
   "nbconvert_exporter": "python",
   "pygments_lexer": "ipython3",
   "version": "3.8.8"
  },
  "toc": {
   "base_numbering": 1,
   "nav_menu": {},
   "number_sections": true,
   "sideBar": true,
   "skip_h1_title": false,
   "title_cell": "Table of Contents",
   "title_sidebar": "Contents",
   "toc_cell": false,
   "toc_position": {},
   "toc_section_display": true,
   "toc_window_display": false
  },
  "varInspector": {
   "cols": {
    "lenName": 16,
    "lenType": 16,
    "lenVar": 40
   },
   "kernels_config": {
    "python": {
     "delete_cmd_postfix": "",
     "delete_cmd_prefix": "del ",
     "library": "var_list.py",
     "varRefreshCmd": "print(var_dic_list())"
    },
    "r": {
     "delete_cmd_postfix": ") ",
     "delete_cmd_prefix": "rm(",
     "library": "var_list.r",
     "varRefreshCmd": "cat(var_dic_list()) "
    }
   },
   "types_to_exclude": [
    "module",
    "function",
    "builtin_function_or_method",
    "instance",
    "_Feature"
   ],
   "window_display": false
  }
 },
 "nbformat": 4,
 "nbformat_minor": 2
}
