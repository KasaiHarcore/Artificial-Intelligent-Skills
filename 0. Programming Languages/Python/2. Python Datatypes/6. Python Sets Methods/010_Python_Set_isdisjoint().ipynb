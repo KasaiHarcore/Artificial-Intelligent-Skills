{
 "cells": [
  {
   "cell_type": "markdown",
   "metadata": {},
   "source": [
    "<small><small><i>\n",
    "All the IPython Notebooks in this lecture series by Dr. Milan Parmar are available @ **[GitHub](https://github.com/milaan9/02_Python_Datatypes/tree/main/006_Python_Sets_Methods)**\n",
    "</i></small></small>"
   ]
  },
  {
   "cell_type": "markdown",
   "metadata": {},
   "source": [
    "# Python Set `isdisjoint()`\n",
    "\n",
    "The **`isdisjoint()`** method returns **`True`** if two sets are disjoint sets. If not, it returns **`False`**.\n",
    "\n",
    "Two sets are said to be disjoint sets if they have no common elements. For example:\n",
    "```python\n",
    "A = {1, 5, 9, 0}\n",
    "B = {2, 4, -5}\n",
    "```\n",
    "\n",
    "<div>\n",
    "<img src=\"img/isdisjoint.png\" width=\"250\"/>\n",
    "</div>"
   ]
  },
  {
   "cell_type": "markdown",
   "metadata": {},
   "source": [
    "**Syntax**:\n",
    "\n",
    "```python\n",
    "set_a.isdisjoint(set_b)\n",
    "```"
   ]
  },
  {
   "cell_type": "markdown",
   "metadata": {},
   "source": [
    "## `isdisjoint()` Parameters\n",
    "\n",
    "The **`isdisjoint()`** method takes a single argument (a set).\n",
    "\n",
    "You can also pass an iterable (list, tuple, dictionary, and string) to **`disjoint()`**. **`isdisjoint()`** method will automatically convert iterables to set and checks whether the sets are disjoint or not."
   ]
  },
  {
   "cell_type": "markdown",
   "metadata": {},
   "source": [
    "## Return Value from `isdisjoint()`\n",
    "\n",
    "The **`isdisjoint()`** method returns\n",
    "\n",
    "* **`True`** if two sets are disjoint sets (if **`set_a`** and **`set_b`** are disjoint sets in above syntax)\n",
    "* **`False`** if two sets are not disjoint sets"
   ]
  },
  {
   "cell_type": "code",
   "execution_count": 1,
   "metadata": {
    "ExecuteTime": {
     "end_time": "2021-06-10T17:44:28.984472Z",
     "start_time": "2021-06-10T17:44:28.966946Z"
    }
   },
   "outputs": [
    {
     "name": "stdout",
     "output_type": "stream",
     "text": [
      "Are A and B disjoint? True\n",
      "Are A and C disjoint? False\n"
     ]
    }
   ],
   "source": [
    "# Example 1: How isdisjoint() works?\n",
    "\n",
    "A = {1, 2, 3, 4}\n",
    "B = {5, 6, 7}\n",
    "C = {4, 5, 6}\n",
    "\n",
    "print('Are A and B disjoint?', A.isdisjoint(B))\n",
    "print('Are A and C disjoint?', A.isdisjoint(C))"
   ]
  },
  {
   "cell_type": "code",
   "execution_count": 2,
   "metadata": {
    "ExecuteTime": {
     "end_time": "2021-06-10T17:44:29.609670Z",
     "start_time": "2021-06-10T17:44:29.596035Z"
    }
   },
   "outputs": [
    {
     "name": "stdout",
     "output_type": "stream",
     "text": [
      "Are A and B disjoint? False\n",
      "Are A and C disjoint? False\n",
      "Are A and D disjoint? True\n",
      "Are A and E disjoint? False\n"
     ]
    }
   ],
   "source": [
    "# Example 2: isdisjoint() with Other Iterables as arguments\n",
    "\n",
    "A = {'a', 'b', 'c', 'd'}\n",
    "B = ['b', 'e', 'f']\n",
    "C = '5de4'\n",
    "D ={1 : 'a', 2 : 'b'}\n",
    "E ={'a' : 1, 'b' : 2}\n",
    "\n",
    "print('Are A and B disjoint?', A.isdisjoint(B))\n",
    "print('Are A and C disjoint?', A.isdisjoint(C))\n",
    "print('Are A and D disjoint?', A.isdisjoint(D))\n",
    "print('Are A and E disjoint?', A.isdisjoint(E))"
   ]
  },
  {
   "cell_type": "markdown",
   "metadata": {},
   "source": [
    "You can also find the intersection of sets using **`&`** operator."
   ]
  },
  {
   "cell_type": "code",
   "execution_count": 3,
   "metadata": {
    "ExecuteTime": {
     "end_time": "2021-06-10T17:44:30.672109Z",
     "start_time": "2021-06-10T17:44:30.657503Z"
    }
   },
   "outputs": [
    {
     "name": "stdout",
     "output_type": "stream",
     "text": [
      "{7}\n",
      "{100}\n",
      "set()\n",
      "set()\n"
     ]
    }
   ],
   "source": [
    "# Example 3: Set Intersection Using & operator\n",
    "\n",
    "A = {100, 7, 8}\n",
    "B = {200, 4, 5}\n",
    "C = {300, 2, 3, 7}\n",
    "D = {100, 200, 300}\n",
    "\n",
    "print(A & C)\n",
    "print(A & D)\n",
    "\n",
    "\n",
    "print(A & C & D)\n",
    "print(A & B & C & D)"
   ]
  },
  {
   "cell_type": "code",
   "execution_count": null,
   "metadata": {},
   "outputs": [],
   "source": []
  }
 ],
 "metadata": {
  "hide_input": false,
  "kernelspec": {
   "display_name": "Python 3",
   "language": "python",
   "name": "python3"
  },
  "language_info": {
   "codemirror_mode": {
    "name": "ipython",
    "version": 3
   },
   "file_extension": ".py",
   "mimetype": "text/x-python",
   "name": "python",
   "nbconvert_exporter": "python",
   "pygments_lexer": "ipython3",
   "version": "3.8.8"
  },
  "toc": {
   "base_numbering": 1,
   "nav_menu": {},
   "number_sections": true,
   "sideBar": true,
   "skip_h1_title": false,
   "title_cell": "Table of Contents",
   "title_sidebar": "Contents",
   "toc_cell": false,
   "toc_position": {},
   "toc_section_display": true,
   "toc_window_display": false
  },
  "varInspector": {
   "cols": {
    "lenName": 16,
    "lenType": 16,
    "lenVar": 40
   },
   "kernels_config": {
    "python": {
     "delete_cmd_postfix": "",
     "delete_cmd_prefix": "del ",
     "library": "var_list.py",
     "varRefreshCmd": "print(var_dic_list())"
    },
    "r": {
     "delete_cmd_postfix": ") ",
     "delete_cmd_prefix": "rm(",
     "library": "var_list.r",
     "varRefreshCmd": "cat(var_dic_list()) "
    }
   },
   "types_to_exclude": [
    "module",
    "function",
    "builtin_function_or_method",
    "instance",
    "_Feature"
   ],
   "window_display": false
  }
 },
 "nbformat": 4,
 "nbformat_minor": 2
}
