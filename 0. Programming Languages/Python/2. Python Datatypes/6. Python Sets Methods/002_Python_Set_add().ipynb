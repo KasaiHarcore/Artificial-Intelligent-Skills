{
 "cells": [
  {
   "cell_type": "markdown",
   "metadata": {},
   "source": [
    "<small><small><i>\n",
    "All the IPython Notebooks in this lecture series by Dr. Milan Parmar are available @ **[GitHub](https://github.com/milaan9/02_Python_Datatypes/tree/main/006_Python_Sets_Methods)**\n",
    "</i></small></small>"
   ]
  },
  {
   "cell_type": "markdown",
   "metadata": {},
   "source": [
    "# Python Set `add()`\n",
    "\n",
    "The **`add()`** method adds a given element to a **[set](https://github.com/milaan9/02_Python_Datatypes/blob/main/006_Python_Sets.ipynb)**. If the element is already present, it doesn't add any element.\n",
    "\n",
    "**Syntax**:\n",
    "\n",
    "```python\n",
    "set.add(elem)\n",
    "```\n",
    "\n",
    "**`add()`** method doesn't add an element to the set if it's already present in it.\n",
    "\n",
    "Also, you don't get back a set if you use **`add()`** method when creating a set object.\n",
    "\n",
    "```python\n",
    "noneValue = set().add(elem)\n",
    "```\n",
    "\n",
    "The above statement doesn't return a reference to the set but **'None'**, because the statement returns the return type of add which is **`None`**."
   ]
  },
  {
   "cell_type": "markdown",
   "metadata": {},
   "source": [
    "## `add()` Parameters\n",
    "\n",
    "The **`add()`** method takes a single parameter:\n",
    "\n",
    "* **elem** - the element that is added to the set"
   ]
  },
  {
   "cell_type": "markdown",
   "metadata": {},
   "source": [
    "## Return Value from `add()`\n",
    "\n",
    "The **`add()`** method doesn't return any value and returns **`None`**."
   ]
  },
  {
   "cell_type": "code",
   "execution_count": 1,
   "metadata": {
    "ExecuteTime": {
     "end_time": "2021-06-10T17:19:53.612814Z",
     "start_time": "2021-06-10T17:19:53.601128Z"
    }
   },
   "outputs": [
    {
     "name": "stdout",
     "output_type": "stream",
     "text": [
      "{'Hai', 20}\n"
     ]
    }
   ],
   "source": [
    "# Example 1: Add an element to a set\n",
    "\n",
    "set1 = set() # creating an empty set\n",
    "\n",
    "# adding two elements into the set\n",
    "set1.add(20)\n",
    "set1.add(\"Hai\")\n",
    "print(set1)"
   ]
  },
  {
   "cell_type": "code",
   "execution_count": 2,
   "metadata": {
    "ExecuteTime": {
     "end_time": "2021-06-10T17:19:54.721999Z",
     "start_time": "2021-06-10T17:19:54.700575Z"
    }
   },
   "outputs": [
    {
     "name": "stdout",
     "output_type": "stream",
     "text": [
      "Vowels are: {'o', 'e', 'a', 'u', 'i'}\n",
      "Vowels are: {'o', 'e', 'a', 'u', 'i'}\n"
     ]
    }
   ],
   "source": [
    "# Example 2: Add an element to a set\n",
    "\n",
    "# set of vowels\n",
    "vowels = {'a', 'e', 'i', 'u'}\n",
    "\n",
    "# adding 'o'\n",
    "vowels.add('o')\n",
    "print('Vowels are:', vowels)\n",
    "\n",
    "# adding 'a' again\n",
    "vowels.add('a')\n",
    "print('Vowels are:', vowels)"
   ]
  },
  {
   "cell_type": "markdown",
   "metadata": {},
   "source": [
    ">**Note:** Order of the vowels can be different."
   ]
  },
  {
   "cell_type": "code",
   "execution_count": 3,
   "metadata": {
    "ExecuteTime": {
     "end_time": "2021-06-10T17:19:57.503240Z",
     "start_time": "2021-06-10T17:19:57.492529Z"
    }
   },
   "outputs": [
    {
     "name": "stdout",
     "output_type": "stream",
     "text": [
      "Vowels are: {'e', ('i', 'o'), 'a', 'u'}\n",
      "Vowels are: {'e', ('i', 'o'), 'a', 'u'}\n"
     ]
    }
   ],
   "source": [
    "# Example 3: Add tuple to a set\n",
    "\n",
    "# set of vowels\n",
    "vowels = {'a', 'e', 'u'}\n",
    "\n",
    "# a tuple ('i', 'o')\n",
    "tup = ('i', 'o')\n",
    "\n",
    "# adding tuple\n",
    "vowels.add(tup)\n",
    "print('Vowels are:', vowels)\n",
    "\n",
    "# adding same tuple again\n",
    "vowels.add(tup)\n",
    "print('Vowels are:', vowels)"
   ]
  },
  {
   "cell_type": "markdown",
   "metadata": {},
   "source": [
    "You can also add **[tuples](https://github.com/milaan9/02_Python_Datatypes/blob/main/004_Python_Tuple.ipynb)** to a set. And like normal elements, you can add the same tuple only once."
   ]
  },
  {
   "cell_type": "code",
   "execution_count": null,
   "metadata": {},
   "outputs": [],
   "source": []
  }
 ],
 "metadata": {
  "hide_input": false,
  "kernelspec": {
   "display_name": "Python 3",
   "language": "python",
   "name": "python3"
  },
  "language_info": {
   "codemirror_mode": {
    "name": "ipython",
    "version": 3
   },
   "file_extension": ".py",
   "mimetype": "text/x-python",
   "name": "python",
   "nbconvert_exporter": "python",
   "pygments_lexer": "ipython3",
   "version": "3.8.8"
  },
  "toc": {
   "base_numbering": 1,
   "nav_menu": {},
   "number_sections": true,
   "sideBar": true,
   "skip_h1_title": false,
   "title_cell": "Table of Contents",
   "title_sidebar": "Contents",
   "toc_cell": false,
   "toc_position": {},
   "toc_section_display": true,
   "toc_window_display": false
  },
  "varInspector": {
   "cols": {
    "lenName": 16,
    "lenType": 16,
    "lenVar": 40
   },
   "kernels_config": {
    "python": {
     "delete_cmd_postfix": "",
     "delete_cmd_prefix": "del ",
     "library": "var_list.py",
     "varRefreshCmd": "print(var_dic_list())"
    },
    "r": {
     "delete_cmd_postfix": ") ",
     "delete_cmd_prefix": "rm(",
     "library": "var_list.r",
     "varRefreshCmd": "cat(var_dic_list()) "
    }
   },
   "types_to_exclude": [
    "module",
    "function",
    "builtin_function_or_method",
    "instance",
    "_Feature"
   ],
   "window_display": false
  }
 },
 "nbformat": 4,
 "nbformat_minor": 2
}
