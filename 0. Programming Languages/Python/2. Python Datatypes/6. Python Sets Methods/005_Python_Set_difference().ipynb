{
 "cells": [
  {
   "cell_type": "markdown",
   "metadata": {},
   "source": [
    "<small><small><i>\n",
    "All the IPython Notebooks in this lecture series by Dr. Milan Parmar are available @ **[GitHub](https://github.com/milaan9/02_Python_Datatypes/tree/main/006_Python_Sets_Methods)**\n",
    "</i></small></small>"
   ]
  },
  {
   "cell_type": "markdown",
   "metadata": {},
   "source": [
    "# Python Set `difference()`\n",
    "\n",
    "The **`difference()`** method returns the set difference of two sets."
   ]
  },
  {
   "cell_type": "markdown",
   "metadata": {},
   "source": [
    "If **`A`** and **`B`** are two sets. The set difference of **`A`** and **`B`** is a set of elements that exists only in set **`A`** but not in **`B`**.\n",
    "\n",
    "```python\n",
    "If A = {1, 2, 3, 4}\n",
    "B = {2, 3, 9}\n",
    "\n",
    "Then,\n",
    "A - B = {1, 4}\n",
    "B - A = {9}\n",
    "```\n",
    "\n",
    "<div>\n",
    "<img src=\"img/difference.png\" width=\"250\"/>\n",
    "</div>"
   ]
  },
  {
   "cell_type": "markdown",
   "metadata": {},
   "source": [
    "**Syntax**:\n",
    "\n",
    "```python\n",
    "A.difference(B)\n",
    "```\n",
    "\n",
    "Here, **`A`** and **`B`** are two sets. The following syntax is equivalent to **`A-B`**."
   ]
  },
  {
   "cell_type": "markdown",
   "metadata": {},
   "source": [
    "## Return Value from `difference()`\n",
    "\n",
    "The **`difference()`** method returns the difference between two sets which is also a set. It doesn't modify original sets."
   ]
  },
  {
   "cell_type": "code",
   "execution_count": 1,
   "metadata": {
    "ExecuteTime": {
     "end_time": "2021-06-10T17:21:03.029399Z",
     "start_time": "2021-06-10T17:21:03.014792Z"
    }
   },
   "outputs": [
    {
     "name": "stdout",
     "output_type": "stream",
     "text": [
      "{'b', 'a', 'd'}\n",
      "{'f', 'g'}\n"
     ]
    }
   ],
   "source": [
    "# Example 1: How difference() works in Python?\n",
    "\n",
    "A = {'a', 'b', 'c', 'd'}\n",
    "B = {'c', 'f', 'g'}\n",
    "\n",
    "# Equivalent to A-B\n",
    "print(A.difference(B))\n",
    "\n",
    "# Equivalent to B-A\n",
    "print(B.difference(A))"
   ]
  },
  {
   "cell_type": "markdown",
   "metadata": {},
   "source": [
    "You can also find the set difference using **`-`** operator in Python."
   ]
  },
  {
   "cell_type": "code",
   "execution_count": 2,
   "metadata": {
    "ExecuteTime": {
     "end_time": "2021-06-10T17:21:04.685870Z",
     "start_time": "2021-06-10T17:21:04.666397Z"
    }
   },
   "outputs": [
    {
     "name": "stdout",
     "output_type": "stream",
     "text": [
      "{'b', 'a', 'd'}\n",
      "{'f', 'g'}\n"
     ]
    }
   ],
   "source": [
    "# Example 2: Set Difference Using - Operator.\n",
    "\n",
    "A = {'a', 'b', 'c', 'd'}\n",
    "B = {'c', 'f', 'g'}\n",
    "\n",
    "print(A-B)\n",
    "\n",
    "print(B-A)"
   ]
  },
  {
   "cell_type": "code",
   "execution_count": null,
   "metadata": {},
   "outputs": [],
   "source": []
  }
 ],
 "metadata": {
  "hide_input": false,
  "kernelspec": {
   "display_name": "Python 3",
   "language": "python",
   "name": "python3"
  },
  "language_info": {
   "codemirror_mode": {
    "name": "ipython",
    "version": 3
   },
   "file_extension": ".py",
   "mimetype": "text/x-python",
   "name": "python",
   "nbconvert_exporter": "python",
   "pygments_lexer": "ipython3",
   "version": "3.8.8"
  },
  "toc": {
   "base_numbering": 1,
   "nav_menu": {},
   "number_sections": true,
   "sideBar": true,
   "skip_h1_title": false,
   "title_cell": "Table of Contents",
   "title_sidebar": "Contents",
   "toc_cell": false,
   "toc_position": {},
   "toc_section_display": true,
   "toc_window_display": false
  },
  "varInspector": {
   "cols": {
    "lenName": 16,
    "lenType": 16,
    "lenVar": 40
   },
   "kernels_config": {
    "python": {
     "delete_cmd_postfix": "",
     "delete_cmd_prefix": "del ",
     "library": "var_list.py",
     "varRefreshCmd": "print(var_dic_list())"
    },
    "r": {
     "delete_cmd_postfix": ") ",
     "delete_cmd_prefix": "rm(",
     "library": "var_list.r",
     "varRefreshCmd": "cat(var_dic_list()) "
    }
   },
   "types_to_exclude": [
    "module",
    "function",
    "builtin_function_or_method",
    "instance",
    "_Feature"
   ],
   "window_display": false
  }
 },
 "nbformat": 4,
 "nbformat_minor": 2
}
