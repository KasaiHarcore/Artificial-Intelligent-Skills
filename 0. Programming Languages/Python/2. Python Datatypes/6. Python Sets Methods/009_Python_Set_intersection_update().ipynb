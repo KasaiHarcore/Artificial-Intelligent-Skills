{
 "cells": [
  {
   "cell_type": "markdown",
   "metadata": {},
   "source": [
    "<small><small><i>\n",
    "All the IPython Notebooks in this lecture series by Dr. Milan Parmar are available @ **[GitHub](https://github.com/milaan9/02_Python_Datatypes/tree/main/006_Python_Sets_Methods)**\n",
    "</i></small></small>"
   ]
  },
  {
   "cell_type": "markdown",
   "metadata": {},
   "source": [
    "# Python Set `intersection_update()`\n",
    "\n",
    "The **`intersection_update()`** updates the set calling **`intersection_update()`** method with the intersection of sets.\n",
    "\n",
    "The intersection of two or more sets is the set of elements which are common to all sets.\n",
    "\n",
    "To learn more, visit **[Python set Intersection()](https://github.com/milaan9/02_Python_Datatypes/blob/main/006_Python_Sets_Methods/008_Python_Set_intersection%28%29.ipynb)**.\n",
    "\n",
    "**Syntax**:\n",
    "\n",
    "```python\n",
    "A.intersection_update(*other_sets)\n",
    "```"
   ]
  },
  {
   "cell_type": "markdown",
   "metadata": {},
   "source": [
    "## `intersection_update()` Parameters\n",
    "\n",
    "The **`intersection_update()`** method allows an arbitrary number of arguments (sets).\n",
    "\n",
    ">**Note:** __`*`__ is not part of the syntax. It is used to indicate that the method allows an arbitrary number of arguments."
   ]
  },
  {
   "cell_type": "markdown",
   "metadata": {},
   "source": [
    "## Return Value from `intersection_update()`\n",
    "\n",
    "The **`intersection_update()`** method returns **`None`** (meaning it does not have a return value). It only updates the set calling the **`intersection_update()`** method.\n",
    "\n",
    "For example:\n",
    "```python\n",
    "result = A.intersection_update(B, C)\n",
    "```\n",
    "\n",
    "When you run the code,\n",
    "\n",
    "* **`result`** will be **`None`**\n",
    "* **`A`** will be equal to the intersection of **`A`**,**`B`**, and **`C`**\n",
    "* **`B`** remains unchanged\n",
    "* **`C`** remains unchanged"
   ]
  },
  {
   "cell_type": "code",
   "execution_count": 1,
   "metadata": {
    "ExecuteTime": {
     "end_time": "2021-06-10T17:44:15.629964Z",
     "start_time": "2021-06-10T17:44:15.619252Z"
    }
   },
   "outputs": [
    {
     "name": "stdout",
     "output_type": "stream",
     "text": [
      "result = None\n",
      "A = {2, 3, 4}\n",
      "B = {2, 3, 4, 5}\n"
     ]
    }
   ],
   "source": [
    "# Example 1: How intersection_update() Works?\n",
    "\n",
    "A = {1, 2, 3, 4}\n",
    "B = {2, 3, 4, 5}\n",
    "\n",
    "result = A.intersection_update(B)\n",
    "\n",
    "print('result =', result)\n",
    "print('A =', A)\n",
    "print('B =', B)"
   ]
  },
  {
   "cell_type": "code",
   "execution_count": 2,
   "metadata": {
    "ExecuteTime": {
     "end_time": "2021-06-10T17:44:16.426550Z",
     "start_time": "2021-06-10T17:44:16.409022Z"
    }
   },
   "outputs": [
    {
     "name": "stdout",
     "output_type": "stream",
     "text": [
      "result = None\n",
      "C = {4}\n",
      "B = {2, 3, 4, 5, 6}\n",
      "A = {1, 2, 3, 4}\n"
     ]
    }
   ],
   "source": [
    "# Example 2: intersection_update() with Two Parameters\n",
    "\n",
    "A = {1, 2, 3, 4}\n",
    "B = {2, 3, 4, 5, 6}\n",
    "C = {4, 5, 6, 9, 10}\n",
    "\n",
    "result = C.intersection_update(B, A)\n",
    "\n",
    "print('result =', result)\n",
    "print('C =', C)\n",
    "print('B =', B)\n",
    "print('A =', A)"
   ]
  },
  {
   "cell_type": "code",
   "execution_count": null,
   "metadata": {},
   "outputs": [],
   "source": []
  }
 ],
 "metadata": {
  "hide_input": false,
  "kernelspec": {
   "display_name": "Python 3",
   "language": "python",
   "name": "python3"
  },
  "language_info": {
   "codemirror_mode": {
    "name": "ipython",
    "version": 3
   },
   "file_extension": ".py",
   "mimetype": "text/x-python",
   "name": "python",
   "nbconvert_exporter": "python",
   "pygments_lexer": "ipython3",
   "version": "3.8.8"
  },
  "toc": {
   "base_numbering": 1,
   "nav_menu": {},
   "number_sections": true,
   "sideBar": true,
   "skip_h1_title": false,
   "title_cell": "Table of Contents",
   "title_sidebar": "Contents",
   "toc_cell": false,
   "toc_position": {},
   "toc_section_display": true,
   "toc_window_display": false
  },
  "varInspector": {
   "cols": {
    "lenName": 16,
    "lenType": 16,
    "lenVar": 40
   },
   "kernels_config": {
    "python": {
     "delete_cmd_postfix": "",
     "delete_cmd_prefix": "del ",
     "library": "var_list.py",
     "varRefreshCmd": "print(var_dic_list())"
    },
    "r": {
     "delete_cmd_postfix": ") ",
     "delete_cmd_prefix": "rm(",
     "library": "var_list.r",
     "varRefreshCmd": "cat(var_dic_list()) "
    }
   },
   "types_to_exclude": [
    "module",
    "function",
    "builtin_function_or_method",
    "instance",
    "_Feature"
   ],
   "window_display": false
  }
 },
 "nbformat": 4,
 "nbformat_minor": 2
}
