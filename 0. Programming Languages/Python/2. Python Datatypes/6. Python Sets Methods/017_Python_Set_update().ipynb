{
 "cells": [
  {
   "cell_type": "markdown",
   "metadata": {},
   "source": [
    "<small><small><i>\n",
    "All the IPython Notebooks in this lecture series by Dr. Milan Parmar are available @ **[GitHub](https://github.com/milaan9/02_Python_Datatypes/tree/main/006_Python_Sets_Methods)**\n",
    "</i></small></small>"
   ]
  },
  {
   "cell_type": "markdown",
   "metadata": {},
   "source": [
    "# Python Set `update()`\n",
    "\n",
    "The **`update()`** method returns a new set with distinct elements from all the sets.\n",
    "\n",
    "**Syntax**:\n",
    "\n",
    "```python\n",
    "A.update(iterable)\n",
    "```\n",
    "\n",
    "Here, **`A`** is a set, and **`iterable`** can be any iterable such as list, set, dictionary, string, etc. The elements of the iterable are added to the set **`A`**.\n",
    "\n",
    "Let's take another example:\n",
    "\n",
    "```python\n",
    "A.update(iter1, iter2, iter3)\n",
    "```\n",
    "\n",
    "Here, the elements of iterables **`iter1`**, **`iter2`**, and **`iter3`** are added to set **`A`**."
   ]
  },
  {
   "cell_type": "markdown",
   "metadata": {},
   "source": [
    "## Return Value from `update()`\n",
    "\n",
    "The **`update()`** method method returns **`None`** (returns nothing)."
   ]
  },
  {
   "cell_type": "code",
   "execution_count": 1,
   "metadata": {
    "ExecuteTime": {
     "end_time": "2021-06-10T17:46:27.700771Z",
     "start_time": "2021-06-10T17:46:27.678374Z"
    },
    "scrolled": true
   },
   "outputs": [
    {
     "name": "stdout",
     "output_type": "stream",
     "text": [
      "A = {'a', 1, 2, 3, 'b'}\n",
      "result = None\n"
     ]
    }
   ],
   "source": [
    "# Example 1: Python set update()\n",
    "\n",
    "A = {'a', 'b'}\n",
    "B = {1, 2, 3}\n",
    "\n",
    "result = A.update(B)\n",
    "\n",
    "print('A =', A)\n",
    "print('result =', result)"
   ]
  },
  {
   "cell_type": "code",
   "execution_count": 2,
   "metadata": {
    "ExecuteTime": {
     "end_time": "2021-06-10T17:46:28.575749Z",
     "start_time": "2021-06-10T17:46:28.554815Z"
    }
   },
   "outputs": [
    {
     "name": "stdout",
     "output_type": "stream",
     "text": [
      "numbers_set = {1, 2, 'a', 'c', 'b'}\n",
      "numbers_set = {'a', 'b', 'key', 'lock'}\n"
     ]
    }
   ],
   "source": [
    "# Example 2: Add elements of string and dictionary to Set\n",
    "\n",
    "string_alphabet = 'abc'\n",
    "numbers_set = {1, 2}\n",
    "\n",
    "# add elements of the string to the set\n",
    "numbers_set.update(string_alphabet)\n",
    "\n",
    "print('numbers_set =', numbers_set)\n",
    "\n",
    "info_dictionary = {'key': 1, 'lock' : 2}\n",
    "numbers_set = {'a', 'b'}\n",
    "\n",
    "# add keys of dictionary to the set\n",
    "numbers_set.update(info_dictionary)\n",
    "print('numbers_set =', numbers_set)"
   ]
  },
  {
   "cell_type": "markdown",
   "metadata": {},
   "source": [
    ">**Note:** If dictionaries are passed to the **`update()`** method, the keys of the dictionaries are added to the set."
   ]
  },
  {
   "cell_type": "code",
   "execution_count": 3,
   "metadata": {
    "ExecuteTime": {
     "end_time": "2021-06-10T17:46:31.277623Z",
     "start_time": "2021-06-10T17:46:31.260097Z"
    }
   },
   "outputs": [
    {
     "name": "stdout",
     "output_type": "stream",
     "text": [
      "{'Python', 20, 30.45, 'Learn with'}\n",
      "{'Welcome', 'Hi', 20, 'to', 'course', 30.45, 'Python'}\n"
     ]
    }
   ],
   "source": [
    "# Example 3: adding multiple elements to a new set\n",
    "\n",
    "set1 = set() # creating an empty set\n",
    "set1.update({20, 30.45, \"Learn with\", \"Python\"})\n",
    "print(set1)\n",
    "\n",
    "#adding multiple elements to an existing set\n",
    "set2 = {\"Welcome\", \"to\", \"Python\", \"course\"}\n",
    "set2.update({20, 30.45, \"Hi\"})\n",
    "print(set2)"
   ]
  },
  {
   "cell_type": "code",
   "execution_count": null,
   "metadata": {},
   "outputs": [],
   "source": []
  }
 ],
 "metadata": {
  "hide_input": false,
  "kernelspec": {
   "display_name": "Python 3",
   "language": "python",
   "name": "python3"
  },
  "language_info": {
   "codemirror_mode": {
    "name": "ipython",
    "version": 3
   },
   "file_extension": ".py",
   "mimetype": "text/x-python",
   "name": "python",
   "nbconvert_exporter": "python",
   "pygments_lexer": "ipython3",
   "version": "3.8.8"
  },
  "toc": {
   "base_numbering": 1,
   "nav_menu": {},
   "number_sections": true,
   "sideBar": true,
   "skip_h1_title": false,
   "title_cell": "Table of Contents",
   "title_sidebar": "Contents",
   "toc_cell": false,
   "toc_position": {},
   "toc_section_display": true,
   "toc_window_display": false
  },
  "varInspector": {
   "cols": {
    "lenName": 16,
    "lenType": 16,
    "lenVar": 40
   },
   "kernels_config": {
    "python": {
     "delete_cmd_postfix": "",
     "delete_cmd_prefix": "del ",
     "library": "var_list.py",
     "varRefreshCmd": "print(var_dic_list())"
    },
    "r": {
     "delete_cmd_postfix": ") ",
     "delete_cmd_prefix": "rm(",
     "library": "var_list.r",
     "varRefreshCmd": "cat(var_dic_list()) "
    }
   },
   "types_to_exclude": [
    "module",
    "function",
    "builtin_function_or_method",
    "instance",
    "_Feature"
   ],
   "window_display": false
  }
 },
 "nbformat": 4,
 "nbformat_minor": 2
}
