{
 "cells": [
  {
   "cell_type": "markdown",
   "metadata": {},
   "source": [
    "<small><small><i>\n",
    "All the IPython Notebooks in this lecture series by Dr. Milan Parmar are available @ **[GitHub](https://github.com/milaan9/02_Python_Datatypes/tree/main/005_Python_Dictionary_Methods)**\n",
    "</i></small></small>"
   ]
  },
  {
   "cell_type": "markdown",
   "metadata": {},
   "source": [
    "# Python Dictionary Comprehension\n",
    "\n",
    "In this tutorial, we will learn about Python dictionary comprehension and how to use it with the help of examples.\n",
    "\n",
    "Dictionaries are data types in Python which allows us to store data in **key:value pair**. For example:\n",
    "\n",
    "**Syntax**:\n",
    "\n",
    "```python\n",
    "my_dict = {1: 'apple', 2: 'ball'}\n",
    "```\n",
    "To learn more about them visit: **[Python Dictionary](https://github.com/milaan9/02_Python_Datatypes/blob/main/005_Python_Dictionary.ipynb)**"
   ]
  },
  {
   "cell_type": "markdown",
   "metadata": {},
   "source": [
    "## What is Dictionary Comprehension in Python?\n",
    "\n",
    "Dictionary comprehension is an elegant and concise way to create dictionaries."
   ]
  },
  {
   "cell_type": "code",
   "execution_count": 1,
   "metadata": {
    "ExecuteTime": {
     "end_time": "2021-06-23T05:00:51.876171Z",
     "start_time": "2021-06-23T05:00:51.862498Z"
    }
   },
   "outputs": [
    {
     "name": "stdout",
     "output_type": "stream",
     "text": [
      "{1: 1, 2: 4, 3: 9, 4: 16, 5: 25, 6: 36, 7: 49, 8: 64, 9: 81, 10: 100}\n"
     ]
    }
   ],
   "source": [
    "# Example 1: Dictionary Comprehension\n",
    "\n",
    "square_dict = dict()\n",
    "for num in range(1, 11):\n",
    "    square_dict[num] = num*num\n",
    "print(square_dict)"
   ]
  },
  {
   "cell_type": "markdown",
   "metadata": {},
   "source": [
    "Now, let's create the dictionary in the above program using dictionary comprehension."
   ]
  },
  {
   "cell_type": "code",
   "execution_count": 2,
   "metadata": {
    "ExecuteTime": {
     "end_time": "2021-06-23T05:00:53.109561Z",
     "start_time": "2021-06-23T05:00:53.099309Z"
    }
   },
   "outputs": [
    {
     "name": "stdout",
     "output_type": "stream",
     "text": [
      "{1: 1, 2: 4, 3: 9, 4: 16, 5: 25, 6: 36, 7: 49, 8: 64, 9: 81, 10: 100}\n"
     ]
    }
   ],
   "source": [
    "# dictionary comprehension example\n",
    "square_dict = {num: num*num for num in range(1, 11)}\n",
    "print(square_dict)"
   ]
  },
  {
   "cell_type": "markdown",
   "metadata": {},
   "source": [
    "In both programs, we have created a dictionary **`square_dict`** with **number-square key/value pair**.\n",
    "\n",
    "However, using dictionary comprehension allowed us to **create a dictionary in a single line**."
   ]
  },
  {
   "cell_type": "markdown",
   "metadata": {},
   "source": [
    "## Using Dictionary Comprehension\n",
    "\n",
    "From the above example, we can see that dictionary comprehension should be written in a specific pattern.\n",
    "\n",
    "**Syntax**:\n",
    "\n",
    "```python\n",
    "dictionary = {key: value for vars in iterable}\n",
    "```\n",
    "Let's compare this syntax with dictionary comprehension from the above example.\n",
    "\n",
    "<div>\n",
    "<img src=\"img/dictcomprehension.png\" width=\"500\"/>\n",
    "</div>"
   ]
  },
  {
   "cell_type": "markdown",
   "metadata": {},
   "source": [
    "Now, let's see how we can use dictionary comprehension using data from another dictionary."
   ]
  },
  {
   "cell_type": "code",
   "execution_count": 3,
   "metadata": {
    "ExecuteTime": {
     "end_time": "2021-06-23T05:00:55.157884Z",
     "start_time": "2021-06-23T05:00:55.140312Z"
    }
   },
   "outputs": [
    {
     "name": "stdout",
     "output_type": "stream",
     "text": [
      "{'milk': 1.5428, 'bread': 1.9760000000000002, 'butter': 1.9760000000000002}\n"
     ]
    }
   ],
   "source": [
    "# Example 3: How to use Dictionary Comprehension\n",
    "\n",
    "#item price in dollars\n",
    "old_price = {'milk': 2.03, 'bread': 2.6, 'butter': 2.6}\n",
    "\n",
    "dollar_to_pound = 0.76\n",
    "new_price = {item: value*dollar_to_pound for (item, value) in old_price.items()}\n",
    "print(new_price)"
   ]
  },
  {
   "cell_type": "markdown",
   "metadata": {},
   "source": [
    "**Explanation:**\n",
    "\n",
    "Here, we can see that we retrieved the item prices in dollars and converted them to pounds. Using dictionary comprehension makes this task much simpler and shorter."
   ]
  },
  {
   "cell_type": "markdown",
   "metadata": {},
   "source": [
    "## Conditionals in Dictionary Comprehension\n",
    "\n",
    "We can further customize dictionary comprehension by adding conditions to it. Let's look at an example."
   ]
  },
  {
   "cell_type": "code",
   "execution_count": 4,
   "metadata": {
    "ExecuteTime": {
     "end_time": "2021-06-23T05:00:56.711097Z",
     "start_time": "2021-06-23T05:00:56.690594Z"
    }
   },
   "outputs": [
    {
     "name": "stdout",
     "output_type": "stream",
     "text": [
      "{'Allan': 36, 'Bill': 48}\n"
     ]
    }
   ],
   "source": [
    "# Example 4: If Conditional Dictionary Comprehension\n",
    "    \n",
    "original_dict = {'Allan': 36, 'Bill': 48, 'Cory': 57, 'Dave': 33}\n",
    "\n",
    "even_dict = {k: v for (k, v) in original_dict.items() if v % 2 == 0}\n",
    "print(even_dict)"
   ]
  },
  {
   "cell_type": "markdown",
   "metadata": {},
   "source": [
    "**Explanation:**\n",
    "\n",
    "As we can see, only the items with even value have been added, because of the **`if`** clause in the dictionary comprehension."
   ]
  },
  {
   "cell_type": "code",
   "execution_count": 5,
   "metadata": {
    "ExecuteTime": {
     "end_time": "2021-06-23T05:00:57.407382Z",
     "start_time": "2021-06-23T05:00:57.386877Z"
    }
   },
   "outputs": [
    {
     "name": "stdout",
     "output_type": "stream",
     "text": [
      "{'Dave': 33}\n"
     ]
    }
   ],
   "source": [
    "# Example 5: Multiple if Conditional Dictionary Comprehension\n",
    "\n",
    "original_dict = {'Allan': 36, 'Bill': 48, 'Cory': 57, 'Dave': 33}\n",
    "\n",
    "new_dict = {k: v for (k, v) in original_dict.items() if v % 2 != 0 if v < 40}\n",
    "print(new_dict)"
   ]
  },
  {
   "cell_type": "markdown",
   "metadata": {},
   "source": [
    "**Explanation:**\n",
    "\n",
    "In this case, only the items with an odd value of less than 40 have been added to the new dictionary.\n",
    "\n",
    "It is because of the multiple **`if`** clauses in the dictionary comprehension. They are equivalent to **`and`** operation where both conditions have to be true."
   ]
  },
  {
   "cell_type": "code",
   "execution_count": 6,
   "metadata": {
    "ExecuteTime": {
     "end_time": "2021-06-23T05:00:58.070465Z",
     "start_time": "2021-06-23T05:00:58.059724Z"
    }
   },
   "outputs": [
    {
     "name": "stdout",
     "output_type": "stream",
     "text": [
      "{'Allan': 'young', 'Bill': 'old', 'Cory': 'old', 'Dave': 'young'}\n"
     ]
    }
   ],
   "source": [
    "# Example 6: if-else Conditional Dictionary Comprehension\n",
    "\n",
    "original_dict = {'Allan': 36, 'Bill': 48, 'Cory': 57, 'Dave': 33}\n",
    "\n",
    "new_dict_1 = {k: ('old' if v > 40 else 'young')\n",
    "    for (k, v) in original_dict.items()}\n",
    "print(new_dict_1)\n"
   ]
  },
  {
   "cell_type": "markdown",
   "metadata": {},
   "source": [
    "**Explanation:**\n",
    "    \n",
    "In this case, a new dictionary is created via dictionary comprehension.\n",
    "The items with a value of 40 or more have the value of 'old' while others have the value of 'young'."
   ]
  },
  {
   "cell_type": "markdown",
   "metadata": {},
   "source": [
    "## Nested Dictionary Comprehension\n",
    "\n",
    "Like how a Dictionary is a collection of **key-value** pairs, Python nested dictionaries are an unordered collection of one or two dictionaries. These can be represented as shown below.\n",
    "\n",
    "**Syntax:**\n",
    "\n",
    "```python\n",
    "nested_dict = { 'dict1': {'key1': 'value1'}, 'dict2': {'key2': 'value2'}}\n",
    "```\n",
    "Here, nested_dict is a nested dictionary which has two dictionaries with keys **`dict1`** and **`dict2`**. The values of those two keys (**`dict1`**, **`dict2`**) are in-turn dictionaries.\n",
    "\n",
    "In Python, Nested dictionaries can be created by placing the comma-separated dictionaries enclosed within curly brackets. For example:"
   ]
  },
  {
   "cell_type": "code",
   "execution_count": 7,
   "metadata": {
    "ExecuteTime": {
     "end_time": "2021-06-23T05:00:59.737445Z",
     "start_time": "2021-06-23T05:00:59.730613Z"
    }
   },
   "outputs": [
    {
     "name": "stdout",
     "output_type": "stream",
     "text": [
      "{'dict1': {'Color': 'Red', 'Shape': 'Square'}, 'dict2': {'Color': 'Pink', 'Shape': 'Round'}}\n"
     ]
    }
   ],
   "source": [
    "# Example 7: creating a nested dictionary\n",
    "\n",
    "nes_dict = {'dict1': {'Color': 'Red', 'Shape': 'Square'}, 'dict2': {'Color': 'Pink', 'Shape': 'Round'}}\n",
    "print (nes_dict)"
   ]
  },
  {
   "cell_type": "markdown",
   "metadata": {},
   "source": [
    "<div>\n",
    "<img src=\"img/nd0.png\" width=\"300\"/>\n",
    "</div>"
   ]
  },
  {
   "cell_type": "code",
   "execution_count": 8,
   "metadata": {
    "ExecuteTime": {
     "end_time": "2021-06-23T05:01:00.878063Z",
     "start_time": "2021-06-23T05:01:00.867323Z"
    }
   },
   "outputs": [
    {
     "name": "stdout",
     "output_type": "stream",
     "text": [
      "{2: {1: 2, 2: 4, 3: 6, 4: 8, 5: 10}, 3: {1: 3, 2: 6, 3: 9, 4: 12, 5: 15}, 4: {1: 4, 2: 8, 3: 12, 4: 16, 5: 20}}\n"
     ]
    }
   ],
   "source": [
    "# Example 8: Nested Dictionary with Two Dictionary Comprehensions\n",
    "\n",
    "dictionary = {k1: {k2: k1 * k2 for k2 in range(1, 6)} for k1 in range(2, 5)}\n",
    "print(dictionary)"
   ]
  },
  {
   "cell_type": "markdown",
   "metadata": {},
   "source": [
    "**Explanation:**\n",
    "\n",
    "As you can see, we have constructed a multiplication table in a nested dictionary, for numbers from 2 to 4.\n",
    "\n",
    "Whenever nested dictionary comprehension is used, Python first starts from the outer loop and then goes to the inner one.\n",
    "\n",
    "So, the above code would be equivalent to:"
   ]
  },
  {
   "cell_type": "code",
   "execution_count": 9,
   "metadata": {
    "ExecuteTime": {
     "end_time": "2021-06-23T05:01:01.678346Z",
     "start_time": "2021-06-23T05:01:01.658822Z"
    }
   },
   "outputs": [
    {
     "name": "stdout",
     "output_type": "stream",
     "text": [
      "{11: {1: 11, 2: 22, 3: 33, 4: 44, 5: 55}, 12: {1: 12, 2: 24, 3: 36, 4: 48, 5: 60}, 13: {1: 13, 2: 26, 3: 39, 4: 52, 5: 65}, 14: {1: 14, 2: 28, 3: 42, 4: 56, 5: 70}, 15: {1: 15, 2: 30, 3: 45, 4: 60, 5: 75}}\n"
     ]
    }
   ],
   "source": [
    "# Example 8:\n",
    "\n",
    "dictionary = dict()\n",
    "for k1 in range(11, 16):\n",
    "    dictionary[k1] = {k2: k1*k2 for k2 in range(1, 6)}\n",
    "print(dictionary)"
   ]
  },
  {
   "cell_type": "markdown",
   "metadata": {},
   "source": [
    "It can further be unfolded:"
   ]
  },
  {
   "cell_type": "code",
   "execution_count": 10,
   "metadata": {
    "ExecuteTime": {
     "end_time": "2021-06-23T05:01:02.588496Z",
     "start_time": "2021-06-23T05:01:02.570924Z"
    }
   },
   "outputs": [
    {
     "name": "stdout",
     "output_type": "stream",
     "text": [
      "{11: {1: 11, 2: 22, 3: 33, 4: 44, 5: 55}, 12: {1: 12, 2: 24, 3: 36, 4: 48, 5: 60}, 13: {1: 13, 2: 26, 3: 39, 4: 52, 5: 65}, 14: {1: 14, 2: 28, 3: 42, 4: 56, 5: 70}, 15: {1: 15, 2: 30, 3: 45, 4: 60, 5: 75}}\n"
     ]
    }
   ],
   "source": [
    "# Example 8:\n",
    "\n",
    "dictionary = dict()\n",
    "for k1 in range(11, 16):\n",
    "    dictionary[k1] = dict()\n",
    "    for k2 in range(1, 6):\n",
    "        dictionary[k1][k2] = k1*k2\n",
    "print(dictionary)"
   ]
  },
  {
   "cell_type": "markdown",
   "metadata": {},
   "source": [
    "All these three programs give us the same output."
   ]
  },
  {
   "cell_type": "markdown",
   "metadata": {},
   "source": [
    "### How to Add a Dictionary to a Nested Dictionary\n",
    "\n",
    "Another way to add a dictionary to an existing nested dictionary is shown below."
   ]
  },
  {
   "cell_type": "code",
   "execution_count": 11,
   "metadata": {
    "ExecuteTime": {
     "end_time": "2021-06-23T05:01:04.041617Z",
     "start_time": "2021-06-23T05:01:04.026968Z"
    }
   },
   "outputs": [
    {
     "name": "stdout",
     "output_type": "stream",
     "text": [
      "{'dict1': {'Color': 'Red', 'Shape': 'Square'}, 'dict2': {'Color': 'Pink', 'Shape': 'Round'}, 'dict3': {'Color': 'Blue', 'Shape': 'Rectangle'}}\n"
     ]
    }
   ],
   "source": [
    "# Example 9: adding a dictionary to nested dictionary\n",
    "\n",
    "nes_dict = {'dict1': {'Color': 'Red', 'Shape': 'Square'}, 'dict2': {'Color': 'Pink', 'Shape': 'Round'}}\n",
    "nes_dict['dict3'] = {'Color': 'Blue', 'Shape': 'Rectangle'}\n",
    "print(nes_dict)"
   ]
  },
  {
   "cell_type": "markdown",
   "metadata": {},
   "source": [
    "### How to Access Values of a Nested Dictionary\n",
    "\n",
    "Values of a nested dictionary can simply be accessed using their respective keys."
   ]
  },
  {
   "cell_type": "code",
   "execution_count": 12,
   "metadata": {
    "ExecuteTime": {
     "end_time": "2021-06-23T05:01:04.982034Z",
     "start_time": "2021-06-23T05:01:04.963486Z"
    }
   },
   "outputs": [
    {
     "name": "stdout",
     "output_type": "stream",
     "text": [
      "Red\n",
      "Round\n"
     ]
    }
   ],
   "source": [
    "# Example 10: accessing a value in nested dictionary\n",
    "\n",
    "nes_dict = {'dict1': {'Color': 'Red', 'Shape': 'Square'}, 'dict2': {'Color': 'Pink', 'Shape': 'Round'}}\n",
    "print(nes_dict['dict1']['Color'])\n",
    "print(nes_dict['dict2']['Shape'])"
   ]
  },
  {
   "cell_type": "markdown",
   "metadata": {},
   "source": [
    "### How to Delete Elements from a Nested Dictionary\n",
    "\n",
    "The key-value pairs in Python nested dictionaries can be deleted using the **`del()`** method. This method can be used to delete either the entire dictionary or a particular key-value pair from a nested dictionary."
   ]
  },
  {
   "cell_type": "code",
   "execution_count": 13,
   "metadata": {
    "ExecuteTime": {
     "end_time": "2021-06-23T05:01:05.782815Z",
     "start_time": "2021-06-23T05:01:05.771097Z"
    }
   },
   "outputs": [
    {
     "name": "stdout",
     "output_type": "stream",
     "text": [
      "{'dict2': {'Color': 'Pink', 'Shape': 'Round'}}\n",
      "{'dict2': {'Color': 'Pink'}}\n"
     ]
    }
   ],
   "source": [
    "# Example 11: deleting the entire nested dictionary\n",
    "\n",
    "nes_dict = {'dict1': {'Color': 'Red', 'Shape': 'Square'}, 'dict2': {'Color': 'Pink', 'Shape': 'Round'}}\n",
    "del nes_dict['dict1']\n",
    "print(nes_dict)\n",
    "\n",
    "# deleting the a key-value from nested dictionary\n",
    "nes_dict = {'dict1': {'Color': 'Red', 'Shape': 'Square'}, 'dict2': {'Color': 'Pink', 'Shape': 'Round'}}\n",
    "del nes_dict['dict1']\n",
    "del nes_dict['dict2']['Shape']\n",
    "print (nes_dict)"
   ]
  },
  {
   "cell_type": "markdown",
   "metadata": {},
   "source": [
    "## Advantages of Using Dictionary Comprehension\n",
    "\n",
    "As we can see, dictionary comprehension shortens the process of dictionary initialization by a lot. It makes the code more pythonic.\n",
    "\n",
    "Using dictionary comprehension in our code can shorten the lines of code while keeping the logic intact."
   ]
  },
  {
   "cell_type": "markdown",
   "metadata": {},
   "source": [
    "## Warnings on Using Dictionary Comprehension\n",
    "\n",
    "Even though dictionary comprehensions are great for writing elegant code that is easy to read, they are not always the right choice.\n",
    "\n",
    "We must be careful while using them as :\n",
    "\n",
    "* They can sometimes make the code run slower and consume more memory.\n",
    "* They can also decrease the readability of the code.\n",
    "\n",
    "We must not try to fit a difficult logic or a large number of dictionary comprehension inside them just for the sake of making the code single lined. In these cases, It is better to choose other alternatives like loops."
   ]
  },
  {
   "cell_type": "code",
   "execution_count": null,
   "metadata": {},
   "outputs": [],
   "source": []
  }
 ],
 "metadata": {
  "hide_input": false,
  "kernelspec": {
   "display_name": "Python 3",
   "language": "python",
   "name": "python3"
  },
  "language_info": {
   "codemirror_mode": {
    "name": "ipython",
    "version": 3
   },
   "file_extension": ".py",
   "mimetype": "text/x-python",
   "name": "python",
   "nbconvert_exporter": "python",
   "pygments_lexer": "ipython3",
   "version": "3.8.8"
  },
  "toc": {
   "base_numbering": 1,
   "nav_menu": {},
   "number_sections": true,
   "sideBar": true,
   "skip_h1_title": false,
   "title_cell": "Table of Contents",
   "title_sidebar": "Contents",
   "toc_cell": false,
   "toc_position": {},
   "toc_section_display": true,
   "toc_window_display": false
  },
  "varInspector": {
   "cols": {
    "lenName": 16,
    "lenType": 16,
    "lenVar": 40
   },
   "kernels_config": {
    "python": {
     "delete_cmd_postfix": "",
     "delete_cmd_prefix": "del ",
     "library": "var_list.py",
     "varRefreshCmd": "print(var_dic_list())"
    },
    "r": {
     "delete_cmd_postfix": ") ",
     "delete_cmd_prefix": "rm(",
     "library": "var_list.r",
     "varRefreshCmd": "cat(var_dic_list()) "
    }
   },
   "types_to_exclude": [
    "module",
    "function",
    "builtin_function_or_method",
    "instance",
    "_Feature"
   ],
   "window_display": false
  }
 },
 "nbformat": 4,
 "nbformat_minor": 2
}
