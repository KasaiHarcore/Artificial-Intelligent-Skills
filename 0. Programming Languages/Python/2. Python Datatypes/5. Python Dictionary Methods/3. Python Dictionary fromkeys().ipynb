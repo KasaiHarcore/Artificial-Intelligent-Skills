{
 "cells": [
  {
   "cell_type": "markdown",
   "metadata": {},
   "source": [
    "<small><small><i>\n",
    "All the IPython Notebooks in this lecture series by Dr. Milan Parmar are available @ **[GitHub](https://github.com/milaan9/02_Python_Datatypes/tree/main/005_Python_Dictionary_Methods)**\n",
    "</i></small></small>"
   ]
  },
  {
   "cell_type": "markdown",
   "metadata": {},
   "source": [
    "# Python Dictionary `fromkeys()`\n",
    "\n",
    "The **`fromkeys()`** method creates a new dictionary from the given sequence of elements with a value provided by the user.\n",
    "\n",
    "**Syntax**:\n",
    "\n",
    "```python\n",
    "dictionary.fromkeys(sequence[, value])\n",
    "```"
   ]
  },
  {
   "cell_type": "markdown",
   "metadata": {},
   "source": [
    "## `fromkeys()` Parameters\n",
    "\n",
    "The **`fromkeys()`** method takes two parameters:\n",
    "\n",
    "* **sequence** - sequence of elements which is to be used as keys for the new dictionary\n",
    "* **value (Optional)** - value which is set to each each element of the dictionary"
   ]
  },
  {
   "cell_type": "markdown",
   "metadata": {},
   "source": [
    "## Return Value from `fromkeys()`\n",
    "\n",
    "The **`fromkeys()`** method returns a new dictionary with the given sequence of elements as the keys of the dictionary.\n",
    "\n",
    "If the value argument is set, each element of the newly created dictionary is set to the provided value."
   ]
  },
  {
   "cell_type": "code",
   "execution_count": 1,
   "metadata": {
    "ExecuteTime": {
     "end_time": "2021-06-09T18:10:35.437247Z",
     "start_time": "2021-06-09T18:10:35.428483Z"
    }
   },
   "outputs": [
    {
     "name": "stdout",
     "output_type": "stream",
     "text": [
      "{'i': None, 'u': None, 'o': None, 'a': None, 'e': None}\n"
     ]
    }
   ],
   "source": [
    "# Example 1: Create a dictionary from a sequence of keys\n",
    "\n",
    "# vowels keys\n",
    "keys = {'a', 'e', 'i', 'o', 'u' }\n",
    "\n",
    "vowels = dict.fromkeys(keys)\n",
    "print(vowels)"
   ]
  },
  {
   "cell_type": "code",
   "execution_count": 2,
   "metadata": {
    "ExecuteTime": {
     "end_time": "2021-06-09T18:10:35.781008Z",
     "start_time": "2021-06-09T18:10:35.766401Z"
    }
   },
   "outputs": [
    {
     "name": "stdout",
     "output_type": "stream",
     "text": [
      "{'i': 'vowel', 'u': 'vowel', 'o': 'vowel', 'a': 'vowel', 'e': 'vowel'}\n"
     ]
    }
   ],
   "source": [
    "# Example 2: Create a dictionary from a sequence of keys with value\n",
    "\n",
    "# vowels keys\n",
    "keys = {'a', 'e', 'i', 'o', 'u' }\n",
    "value = 'vowel'\n",
    "\n",
    "vowels = dict.fromkeys(keys, value)\n",
    "print(vowels)"
   ]
  },
  {
   "cell_type": "code",
   "execution_count": 3,
   "metadata": {
    "ExecuteTime": {
     "end_time": "2021-06-09T18:10:36.575648Z",
     "start_time": "2021-06-09T18:10:36.560068Z"
    }
   },
   "outputs": [
    {
     "name": "stdout",
     "output_type": "stream",
     "text": [
      "{'i': [1], 'u': [1], 'o': [1], 'a': [1], 'e': [1]}\n",
      "{'i': [1, 2], 'u': [1, 2], 'o': [1, 2], 'a': [1, 2], 'e': [1, 2]}\n"
     ]
    }
   ],
   "source": [
    "# Example 3: Create a dictionary from mutable object list\n",
    "\n",
    "# vowels keys\n",
    "keys = {'a', 'e', 'i', 'o', 'u' }\n",
    "value = [1]\n",
    "\n",
    "vowels = dict.fromkeys(keys, value)\n",
    "print(vowels)\n",
    "\n",
    "# updating the value\n",
    "value.append(2)\n",
    "print(vowels)"
   ]
  },
  {
   "cell_type": "markdown",
   "metadata": {},
   "source": [
    "**Note:** If **`value`** is a mutable object (whose value can be modified) like **[list](https://github.com/milaan9/02_Python_Datatypes/blob/main/003_Python_List.ipynb)**, **[dictionary](https://github.com/milaan9/02_Python_Datatypes/blob/main/005_Python_Dictionary.ipynb)**, etc., when the mutable object is modified, each element of the sequence also gets updated.\n",
    "\n",
    "This is because each element is assigned a reference to the same object (points to the same object in the memory).\n",
    "\n",
    "To avoid this issue, we use dictionary comprehension."
   ]
  },
  {
   "cell_type": "code",
   "execution_count": 4,
   "metadata": {
    "ExecuteTime": {
     "end_time": "2021-06-09T18:10:37.807048Z",
     "start_time": "2021-06-09T18:10:37.794388Z"
    }
   },
   "outputs": [
    {
     "name": "stdout",
     "output_type": "stream",
     "text": [
      "{'i': [1], 'u': [1], 'o': [1], 'a': [1], 'e': [1]}\n",
      "{'i': [1], 'u': [1], 'o': [1], 'a': [1], 'e': [1]}\n"
     ]
    }
   ],
   "source": [
    "# Example 4:\n",
    "\n",
    "# vowels keys\n",
    "keys = {'a', 'e', 'i', 'o', 'u' }\n",
    "value = [1]\n",
    "\n",
    "vowels = { key : list(value) for key in keys }\n",
    "# you can also use { key : value[:] for key in keys }\n",
    "print(vowels)\n",
    "\n",
    "# updating the value\n",
    "value.append(2)\n",
    "print(vowels)"
   ]
  },
  {
   "cell_type": "markdown",
   "metadata": {},
   "source": [
    "**Note:** Here, for each key in **`keys`**, a new list from **`value`** is created and assigned to it.\n",
    "\n",
    "In essence, **`value`** isn't assigned to the element but a new list is created from it, which is then assigned to each element in the dictionary."
   ]
  },
  {
   "cell_type": "code",
   "execution_count": null,
   "metadata": {},
   "outputs": [],
   "source": []
  }
 ],
 "metadata": {
  "hide_input": false,
  "kernelspec": {
   "display_name": "Python 3",
   "language": "python",
   "name": "python3"
  },
  "language_info": {
   "codemirror_mode": {
    "name": "ipython",
    "version": 3
   },
   "file_extension": ".py",
   "mimetype": "text/x-python",
   "name": "python",
   "nbconvert_exporter": "python",
   "pygments_lexer": "ipython3",
   "version": "3.8.8"
  },
  "toc": {
   "base_numbering": 1,
   "nav_menu": {},
   "number_sections": true,
   "sideBar": true,
   "skip_h1_title": false,
   "title_cell": "Table of Contents",
   "title_sidebar": "Contents",
   "toc_cell": false,
   "toc_position": {},
   "toc_section_display": true,
   "toc_window_display": false
  },
  "varInspector": {
   "cols": {
    "lenName": 16,
    "lenType": 16,
    "lenVar": 40
   },
   "kernels_config": {
    "python": {
     "delete_cmd_postfix": "",
     "delete_cmd_prefix": "del ",
     "library": "var_list.py",
     "varRefreshCmd": "print(var_dic_list())"
    },
    "r": {
     "delete_cmd_postfix": ") ",
     "delete_cmd_prefix": "rm(",
     "library": "var_list.r",
     "varRefreshCmd": "cat(var_dic_list()) "
    }
   },
   "types_to_exclude": [
    "module",
    "function",
    "builtin_function_or_method",
    "instance",
    "_Feature"
   ],
   "window_display": false
  }
 },
 "nbformat": 4,
 "nbformat_minor": 2
}
