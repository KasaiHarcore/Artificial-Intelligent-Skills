{
 "cells": [
  {
   "cell_type": "markdown",
   "metadata": {},
   "source": [
    "<small><small><i>\n",
    "All the IPython Notebooks in this lecture series by Dr. Milan Parmar are available @ **[GitHub](https://github.com/milaan9/02_Python_Datatypes/tree/main/005_Python_Dictionary_Methods)**\n",
    "</i></small></small>"
   ]
  },
  {
   "cell_type": "markdown",
   "metadata": {},
   "source": [
    "# Python Dictionary `setdefault()`\n",
    "\n",
    "The **`setdefault()`** method returns the value of a key (if the key is in dictionary). If not, it inserts key with a value to the dictionary.\n",
    "\n",
    "**Syntax**:\n",
    "\n",
    "```python\n",
    "dict.setdefault(key[, default_value])\n",
    "```"
   ]
  },
  {
   "cell_type": "markdown",
   "metadata": {},
   "source": [
    "## `setdefault()` Parameters\n",
    "\n",
    "The **`setdefault()`** method takes a maximum of two parameters:\n",
    "\n",
    "* **key** - the key to be searched in the dictionary\n",
    "* **default_value** (optional) - **`key`**  with a value **`default_value`** is inserted to the dictionary if the key is not in the dictionary.\n",
    "\n",
    "If not provided, the **`default_value`** will be **`None`**."
   ]
  },
  {
   "cell_type": "markdown",
   "metadata": {},
   "source": [
    "## Return Value from `setdefault()`\n",
    "\n",
    "The **`setdefault()`** method returns:\n",
    "\n",
    "* value of the **`key`** if it is in the dictionary\n",
    "* None if the key is not in the dictionary and **`default_value`** is not specified\n",
    "* **`default_value`** if **`key`** is not in the dictionary and **`default_value`** is specified"
   ]
  },
  {
   "cell_type": "code",
   "execution_count": 1,
   "metadata": {
    "ExecuteTime": {
     "end_time": "2021-06-09T18:12:40.123321Z",
     "start_time": "2021-06-09T18:12:40.112608Z"
    }
   },
   "outputs": [
    {
     "name": "stdout",
     "output_type": "stream",
     "text": [
      "person =  {'name': 'Phill', 'age': 22}\n",
      "Age =  22\n"
     ]
    }
   ],
   "source": [
    "# Example 1: How setdefault() works when key is in the dictionary?\n",
    "\n",
    "person = {'name': 'Phill', 'age': 22}\n",
    "\n",
    "age = person.setdefault('age')\n",
    "print('person = ',person)\n",
    "print('Age = ',age)"
   ]
  },
  {
   "cell_type": "code",
   "execution_count": 2,
   "metadata": {
    "ExecuteTime": {
     "end_time": "2021-06-09T18:12:41.230074Z",
     "start_time": "2021-06-09T18:12:41.220335Z"
    }
   },
   "outputs": [
    {
     "name": "stdout",
     "output_type": "stream",
     "text": [
      "person =  {'name': 'Phill', 'salary': None}\n",
      "salary =  None\n",
      "person =  {'name': 'Phill', 'salary': None, 'age': 22}\n",
      "age =  22\n"
     ]
    }
   ],
   "source": [
    "# Example 2: How setdefault() works when key is not in the dictionary?\n",
    "\n",
    "person = {'name': 'Phill'}\n",
    "\n",
    "# key is not in the dictionary\n",
    "salary = person.setdefault('salary')\n",
    "print('person = ',person)\n",
    "print('salary = ',salary)\n",
    "\n",
    "# key is not in the dictionary\n",
    "# default_value is provided\n",
    "age = person.setdefault('age', 22)\n",
    "print('person = ',person)\n",
    "print('age = ',age)"
   ]
  },
  {
   "cell_type": "code",
   "execution_count": null,
   "metadata": {},
   "outputs": [],
   "source": []
  }
 ],
 "metadata": {
  "hide_input": false,
  "kernelspec": {
   "display_name": "Python 3",
   "language": "python",
   "name": "python3"
  },
  "language_info": {
   "codemirror_mode": {
    "name": "ipython",
    "version": 3
   },
   "file_extension": ".py",
   "mimetype": "text/x-python",
   "name": "python",
   "nbconvert_exporter": "python",
   "pygments_lexer": "ipython3",
   "version": "3.8.8"
  },
  "toc": {
   "base_numbering": 1,
   "nav_menu": {},
   "number_sections": true,
   "sideBar": true,
   "skip_h1_title": false,
   "title_cell": "Table of Contents",
   "title_sidebar": "Contents",
   "toc_cell": false,
   "toc_position": {},
   "toc_section_display": true,
   "toc_window_display": false
  },
  "varInspector": {
   "cols": {
    "lenName": 16,
    "lenType": 16,
    "lenVar": 40
   },
   "kernels_config": {
    "python": {
     "delete_cmd_postfix": "",
     "delete_cmd_prefix": "del ",
     "library": "var_list.py",
     "varRefreshCmd": "print(var_dic_list())"
    },
    "r": {
     "delete_cmd_postfix": ") ",
     "delete_cmd_prefix": "rm(",
     "library": "var_list.r",
     "varRefreshCmd": "cat(var_dic_list()) "
    }
   },
   "types_to_exclude": [
    "module",
    "function",
    "builtin_function_or_method",
    "instance",
    "_Feature"
   ],
   "window_display": false
  }
 },
 "nbformat": 4,
 "nbformat_minor": 2
}
