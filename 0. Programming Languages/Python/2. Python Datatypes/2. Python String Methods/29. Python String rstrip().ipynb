{
 "cells": [
  {
   "cell_type": "markdown",
   "metadata": {},
   "source": [
    "<small><small><i>\n",
    "All the IPython Notebooks in this lecture series by Dr. Milan Parmar are available @ **[GitHub](https://github.com/milaan9/02_Python_Datatypes/tree/main/002_Python_String_Methods)**\n",
    "</i></small></small>"
   ]
  },
  {
   "cell_type": "markdown",
   "metadata": {},
   "source": [
    "# Python String `rstrip()`\n",
    "\n",
    "The string **`rstrip()`** method returns a copy of the string with trailing characters removed (based on the string argument passed).\n",
    "\n",
    "The **`rstrip()`** removes characters from the right based on the argument (a string specifying the set of characters to be removed).\n",
    "\n",
    "**Syntax**:\n",
    "\n",
    "```python\n",
    "string.rstrip([chars])\n",
    "```"
   ]
  },
  {
   "cell_type": "markdown",
   "metadata": {
    "heading_collapsed": true
   },
   "source": [
    "## `rstrip()` Parameters\n",
    "\n",
    "The **`rstrip()`** method takes one parameter:\n",
    "\n",
    "* **`chars`** (optional) - a string specifying the set of characters to be removed.\n",
    "\n",
    "If **`chars`** argument is not provided, all leading whitespaces on the right are removed from the string."
   ]
  },
  {
   "cell_type": "markdown",
   "metadata": {},
   "source": [
    "## Return Value from `rstrip()`\n",
    "\n",
    "The **`rstrip()`** method returns a copy of the string with trailing characters stripped.\n",
    "\n",
    "All combinations of characters in **`chars`** argument are removed from the right of the string until first mismatch."
   ]
  },
  {
   "cell_type": "code",
   "execution_count": 1,
   "metadata": {
    "ExecuteTime": {
     "end_time": "2021-06-23T09:45:31.749724Z",
     "start_time": "2021-06-23T09:45:31.739960Z"
    },
    "scrolled": true
   },
   "outputs": [
    {
     "name": "stdout",
     "output_type": "stream",
     "text": [
      "this is good\n",
      "this is good\n",
      "this is g\n",
      "www.github.co\n"
     ]
    }
   ],
   "source": [
    "# Example 1: Working of rstrip()\n",
    "\n",
    "random_string = 'this is good    '\n",
    "\n",
    "# Trailing whitepsace are removed\n",
    "print(random_string.rstrip())\n",
    "\n",
    "# Argument doesn't contain 'd'\n",
    "# No characters are removed.\n",
    "print(random_string.rstrip('si oo'))\n",
    "\n",
    "print(random_string.rstrip('sid oo'))\n",
    "\n",
    "website = 'www.github.com/'\n",
    "print(website.rstrip('m/.'))"
   ]
  },
  {
   "cell_type": "code",
   "execution_count": 2,
   "metadata": {
    "ExecuteTime": {
     "end_time": "2021-06-23T09:45:46.885849Z",
     "start_time": "2021-06-23T09:45:46.867297Z"
    }
   },
   "outputs": [
    {
     "name": "stdout",
     "output_type": "stream",
     "text": [
      " I Love Python Tutorial\n",
      "###HelloWorld\n"
     ]
    }
   ],
   "source": [
    "# Example 2:\n",
    "\n",
    "s1=' I Love Python Tutorial '\n",
    "print(s1.rstrip())\n",
    "\n",
    "s2='###HelloWorld###'\n",
    "print(s2.rstrip('#'))"
   ]
  },
  {
   "cell_type": "code",
   "execution_count": null,
   "metadata": {},
   "outputs": [],
   "source": []
  }
 ],
 "metadata": {
  "hide_input": false,
  "kernelspec": {
   "display_name": "Python 3",
   "language": "python",
   "name": "python3"
  },
  "language_info": {
   "codemirror_mode": {
    "name": "ipython",
    "version": 3
   },
   "file_extension": ".py",
   "mimetype": "text/x-python",
   "name": "python",
   "nbconvert_exporter": "python",
   "pygments_lexer": "ipython3",
   "version": "3.8.8"
  },
  "toc": {
   "base_numbering": 1,
   "nav_menu": {},
   "number_sections": true,
   "sideBar": true,
   "skip_h1_title": false,
   "title_cell": "Table of Contents",
   "title_sidebar": "Contents",
   "toc_cell": false,
   "toc_position": {},
   "toc_section_display": true,
   "toc_window_display": false
  },
  "varInspector": {
   "cols": {
    "lenName": 16,
    "lenType": 16,
    "lenVar": 40
   },
   "kernels_config": {
    "python": {
     "delete_cmd_postfix": "",
     "delete_cmd_prefix": "del ",
     "library": "var_list.py",
     "varRefreshCmd": "print(var_dic_list())"
    },
    "r": {
     "delete_cmd_postfix": ") ",
     "delete_cmd_prefix": "rm(",
     "library": "var_list.r",
     "varRefreshCmd": "cat(var_dic_list()) "
    }
   },
   "types_to_exclude": [
    "module",
    "function",
    "builtin_function_or_method",
    "instance",
    "_Feature"
   ],
   "window_display": false
  }
 },
 "nbformat": 4,
 "nbformat_minor": 2
}
