{
 "cells": [
  {
   "cell_type": "markdown",
   "metadata": {},
   "source": [
    "<small><small><i>\n",
    "All the IPython Notebooks in this lecture series by Dr. Milan Parmar are available @ **[GitHub](https://github.com/milaan9/02_Python_Datatypes/tree/main/002_Python_String_Methods)**\n",
    "</i></small></small>"
   ]
  },
  {
   "cell_type": "markdown",
   "metadata": {},
   "source": [
    "# Python String `isdecimal()`\n",
    "\n",
    "The string **`isdecimal()`** method returns **`True`** if all characters in the string are decimal characters. If not, it returns **`False`**.\n",
    "\n",
    "**Syntax**:\n",
    "\n",
    "```python\n",
    "string.isdecimal()\n",
    "```"
   ]
  },
  {
   "cell_type": "markdown",
   "metadata": {
    "heading_collapsed": true
   },
   "source": [
    "## `isdecimal()` Parameters\n",
    "\n",
    "The **`isdecimal()`** method doesn't take any parameters."
   ]
  },
  {
   "cell_type": "markdown",
   "metadata": {},
   "source": [
    "## Return Value from `isdecimal()`\n",
    "\n",
    "The **`isdecimal()`** returns:\n",
    "\n",
    "* **`True`** if all characters in the string are decimal characters.\n",
    "* **`False`** if at least one character is not decimal characters."
   ]
  },
  {
   "cell_type": "code",
   "execution_count": 1,
   "metadata": {
    "ExecuteTime": {
     "end_time": "2021-06-10T18:08:01.653605Z",
     "start_time": "2021-06-10T18:08:01.645815Z"
    },
    "scrolled": true
   },
   "outputs": [
    {
     "name": "stdout",
     "output_type": "stream",
     "text": [
      "True\n",
      "False\n",
      "False\n"
     ]
    }
   ],
   "source": [
    "# Example 1: Working of isdecimal()\n",
    "\n",
    "s = \"28212\"\n",
    "print(s.isdecimal())\n",
    "\n",
    "# contains alphabets\n",
    "s = \"32ladk3\"\n",
    "print(s.isdecimal())\n",
    "\n",
    "# contains alphabets and spaces\n",
    "s = \"Mo3 nicaG el l22er\"\n",
    "print(s.isdecimal())"
   ]
  },
  {
   "cell_type": "markdown",
   "metadata": {},
   "source": [
    "**Explanation:**\n",
    "\n",
    "The superscript and subscripts are considered digit characters but not decimals. If the string contains these characters (usually written using unicode), **`isdecimal()`** returns **`False`**.\n",
    "\n",
    "Similarly, roman numerals, currency numerators and fractions are considered numeric numbers (usually written using unicode) but not decimals. The **`isdecimal()`** also returns **`False`** in this case.\n",
    "\n",
    "There are two methods **`isdigit()`** and **`isnumeric()`** that checks whether the string contains digit characters and numeric characters respectively.\n",
    "\n",
    "Learn more about **[isdigit()](https://github.com/milaan9/02_Python_Datatypes/blob/main/002_Python_String_Methods/014_Python_String_isdigit%28%29.ipynb)** and **[isnumeric()](https://github.com/milaan9/02_Python_Datatypes/blob/main/002_Python_String_Methods/017_Python_String_isnumeric%28%29.ipynb)** methods."
   ]
  },
  {
   "cell_type": "code",
   "execution_count": 2,
   "metadata": {
    "ExecuteTime": {
     "end_time": "2021-06-10T18:08:03.621215Z",
     "start_time": "2021-06-10T18:08:03.605637Z"
    }
   },
   "outputs": [
    {
     "name": "stdout",
     "output_type": "stream",
     "text": [
      "True\n",
      "False\n",
      "False\n"
     ]
    }
   ],
   "source": [
    "# Example 2: String Containing digits and Numeric Characters\n",
    "\n",
    "s = '23455'\n",
    "print(s.isdecimal())\n",
    "\n",
    "#s = '²3455'\n",
    "s = '\\u00B23455'\n",
    "print(s.isdecimal())\n",
    "\n",
    "# s = '½'\n",
    "s = '\\u00BD'\n",
    "print(s.isdecimal())"
   ]
  },
  {
   "cell_type": "code",
   "execution_count": null,
   "metadata": {},
   "outputs": [],
   "source": []
  }
 ],
 "metadata": {
  "hide_input": false,
  "kernelspec": {
   "display_name": "Python 3",
   "language": "python",
   "name": "python3"
  },
  "language_info": {
   "codemirror_mode": {
    "name": "ipython",
    "version": 3
   },
   "file_extension": ".py",
   "mimetype": "text/x-python",
   "name": "python",
   "nbconvert_exporter": "python",
   "pygments_lexer": "ipython3",
   "version": "3.8.8"
  },
  "toc": {
   "base_numbering": 1,
   "nav_menu": {},
   "number_sections": true,
   "sideBar": true,
   "skip_h1_title": false,
   "title_cell": "Table of Contents",
   "title_sidebar": "Contents",
   "toc_cell": false,
   "toc_position": {},
   "toc_section_display": true,
   "toc_window_display": false
  },
  "varInspector": {
   "cols": {
    "lenName": 16,
    "lenType": 16,
    "lenVar": 40
   },
   "kernels_config": {
    "python": {
     "delete_cmd_postfix": "",
     "delete_cmd_prefix": "del ",
     "library": "var_list.py",
     "varRefreshCmd": "print(var_dic_list())"
    },
    "r": {
     "delete_cmd_postfix": ") ",
     "delete_cmd_prefix": "rm(",
     "library": "var_list.r",
     "varRefreshCmd": "cat(var_dic_list()) "
    }
   },
   "types_to_exclude": [
    "module",
    "function",
    "builtin_function_or_method",
    "instance",
    "_Feature"
   ],
   "window_display": false
  }
 },
 "nbformat": 4,
 "nbformat_minor": 2
}
