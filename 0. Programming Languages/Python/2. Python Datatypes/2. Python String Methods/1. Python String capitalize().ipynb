{
 "cells": [
  {
   "cell_type": "markdown",
   "metadata": {},
   "source": [
    "<small><small><i>\n",
    "All the IPython Notebooks in this lecture series by Dr. Milan Parmar are available @ **[GitHub](https://github.com/milaan9/02_Python_Datatypes/tree/main/002_Python_String_Methods)**\n",
    "</i></small></small>"
   ]
  },
  {
   "cell_type": "markdown",
   "metadata": {},
   "source": [
    "# Python String `capitalize()`\n",
    "\n",
    "In Python, the **`capitalize()`** method converts first character of a string to uppercase letter and lowercases all other characters, if any.\n",
    "\n",
    "**Syntax**:\n",
    "\n",
    "```python\n",
    "string.capitalize()\n",
    "```"
   ]
  },
  {
   "cell_type": "markdown",
   "metadata": {},
   "source": [
    "## `capitalize()` Parameters\n",
    "\n",
    "The **`capitalize()`** function doesn't take any parameter."
   ]
  },
  {
   "cell_type": "markdown",
   "metadata": {},
   "source": [
    "## Return Value from `capitalize()`\n",
    "\n",
    "The **`capitalize()`** function returns a string with the first letter capitalized and all other characters lowercased. It doesn't modify the original string."
   ]
  },
  {
   "cell_type": "code",
   "execution_count": 1,
   "metadata": {
    "ExecuteTime": {
     "end_time": "2021-06-10T18:03:22.140236Z",
     "start_time": "2021-06-10T18:03:22.118813Z"
    }
   },
   "outputs": [
    {
     "name": "stdout",
     "output_type": "stream",
     "text": [
      "Old String:  python is AWesome.\n",
      "Capitalized String: Python is awesome.\n"
     ]
    }
   ],
   "source": [
    "# Example 1: Capitalize a Sentence\n",
    "\n",
    "string = \"python is AWesome.\"\n",
    "\n",
    "capitalized_string = string.capitalize()\n",
    "\n",
    "print('Old String: ', string)\n",
    "print('Capitalized String:', capitalized_string)"
   ]
  },
  {
   "cell_type": "code",
   "execution_count": 2,
   "metadata": {
    "ExecuteTime": {
     "end_time": "2021-06-10T18:03:23.076080Z",
     "start_time": "2021-06-10T18:03:23.057092Z"
    }
   },
   "outputs": [
    {
     "name": "stdout",
     "output_type": "stream",
     "text": [
      "Old String: + is an operator.\n",
      "New String: + is an operator.\n"
     ]
    }
   ],
   "source": [
    "# Example 2: Non-alphabetic First Character\n",
    "\n",
    "string = \"+ is an operator.\"\n",
    "\n",
    "new_string = string.capitalize()\n",
    "\n",
    "print('Old String:', string)\n",
    "print('New String:', new_string)"
   ]
  },
  {
   "cell_type": "code",
   "execution_count": null,
   "metadata": {},
   "outputs": [],
   "source": []
  }
 ],
 "metadata": {
  "hide_input": false,
  "kernelspec": {
   "display_name": "Python 3",
   "language": "python",
   "name": "python3"
  },
  "language_info": {
   "codemirror_mode": {
    "name": "ipython",
    "version": 3
   },
   "file_extension": ".py",
   "mimetype": "text/x-python",
   "name": "python",
   "nbconvert_exporter": "python",
   "pygments_lexer": "ipython3",
   "version": "3.8.8"
  },
  "toc": {
   "base_numbering": 1,
   "nav_menu": {},
   "number_sections": true,
   "sideBar": true,
   "skip_h1_title": false,
   "title_cell": "Table of Contents",
   "title_sidebar": "Contents",
   "toc_cell": false,
   "toc_position": {},
   "toc_section_display": true,
   "toc_window_display": false
  },
  "varInspector": {
   "cols": {
    "lenName": 16,
    "lenType": 16,
    "lenVar": 40
   },
   "kernels_config": {
    "python": {
     "delete_cmd_postfix": "",
     "delete_cmd_prefix": "del ",
     "library": "var_list.py",
     "varRefreshCmd": "print(var_dic_list())"
    },
    "r": {
     "delete_cmd_postfix": ") ",
     "delete_cmd_prefix": "rm(",
     "library": "var_list.r",
     "varRefreshCmd": "cat(var_dic_list()) "
    }
   },
   "types_to_exclude": [
    "module",
    "function",
    "builtin_function_or_method",
    "instance",
    "_Feature"
   ],
   "window_display": false
  }
 },
 "nbformat": 4,
 "nbformat_minor": 2
}
