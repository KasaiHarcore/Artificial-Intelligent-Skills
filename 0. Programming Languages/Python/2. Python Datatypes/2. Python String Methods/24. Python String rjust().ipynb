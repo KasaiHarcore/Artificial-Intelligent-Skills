{
 "cells": [
  {
   "cell_type": "markdown",
   "metadata": {},
   "source": [
    "<small><small><i>\n",
    "All the IPython Notebooks in this lecture series by Dr. Milan Parmar are available @ **[GitHub](https://github.com/milaan9/02_Python_Datatypes/tree/main/002_Python_String_Methods)**\n",
    "</i></small></small>"
   ]
  },
  {
   "cell_type": "markdown",
   "metadata": {},
   "source": [
    "# Python String `rjust()`\n",
    "\n",
    "The string **`rjust()`** method returns a right-justified string of a given minimum width.\n",
    "\n",
    "**Syntax**:\n",
    "\n",
    "```python\n",
    "string.rjust(width[, fillchar])\n",
    "```\n",
    "\n",
    ">**Note:** Here, **`fillchar`** is an optional parameter."
   ]
  },
  {
   "cell_type": "markdown",
   "metadata": {
    "heading_collapsed": true
   },
   "source": [
    "## `rjust()` Parameters\n",
    "\n",
    "The **`ljust()`** method takes two parameters:\n",
    "\n",
    "* **`width`** - width of the given string. If width is less than or equal to the length of the string, the original string is returned.\n",
    "\n",
    "* **`fillchar`** (Optional) - character to fill the remaining space of the width"
   ]
  },
  {
   "cell_type": "markdown",
   "metadata": {},
   "source": [
    "## Return Value from `rjust()`\n",
    "\n",
    "The **`rjust()`** method returns the right-justified string within the given minimum **`width`**.\n",
    "\n",
    "If **`fillchar`** is defined, it also fills the remaining space with the defined character."
   ]
  },
  {
   "cell_type": "code",
   "execution_count": 1,
   "metadata": {
    "ExecuteTime": {
     "end_time": "2021-06-10T18:11:06.109535Z",
     "start_time": "2021-06-10T18:11:06.101746Z"
    },
    "scrolled": true
   },
   "outputs": [
    {
     "name": "stdout",
     "output_type": "stream",
     "text": [
      "  cat\n"
     ]
    }
   ],
   "source": [
    "# Example 1: Right justify string of minimum width\n",
    "\n",
    "# example string\n",
    "string = 'cat'\n",
    "width = 5\n",
    "\n",
    "# print right justified string\n",
    "print(string.rjust(width))"
   ]
  },
  {
   "cell_type": "markdown",
   "metadata": {},
   "source": [
    "**Explanation:**\n",
    "\n",
    "Here, the minimum **`width`** defined is 5. So, the resultant string is at least of length 5.\n",
    "\n",
    "Now, **`rjust()`** aligns the string **`cat`** to the right leaving two spaces to the left of the word."
   ]
  },
  {
   "cell_type": "code",
   "execution_count": 2,
   "metadata": {
    "ExecuteTime": {
     "end_time": "2021-06-10T18:11:07.280560Z",
     "start_time": "2021-06-10T18:11:07.272768Z"
    }
   },
   "outputs": [
    {
     "name": "stdout",
     "output_type": "stream",
     "text": [
      "**cat\n"
     ]
    }
   ],
   "source": [
    "# Example 2: Right justify string and fill the remaining spaces\n",
    "\n",
    "# example string\n",
    "string = 'cat'\n",
    "width = 5\n",
    "fillchar = '*'\n",
    "\n",
    "# print right justified string\n",
    "print(string.rjust(width, fillchar))"
   ]
  },
  {
   "cell_type": "markdown",
   "metadata": {},
   "source": [
    "**Explanation:**\n",
    "\n",
    "Here, the string **`cat`** is aligned to the right, and the remaining two spaces on the left is filled with the character **`*`**.\n",
    "\n",
    ">**Note:** If you want to right justify the string, use **[ljust()](https://github.com/milaan9/02_Python_Datatypes/blob/main/002_Python_String_Methods/023_Python_String_ljust%28%29.ipynb)**. You can also use **[format()](https://github.com/milaan9/02_Python_Datatypes/blob/main/002_Python_String_Methods/009_Python_String_format%28%29.ipynb)** method for the formatting of strings."
   ]
  },
  {
   "cell_type": "code",
   "execution_count": null,
   "metadata": {},
   "outputs": [],
   "source": []
  }
 ],
 "metadata": {
  "hide_input": false,
  "kernelspec": {
   "display_name": "Python 3",
   "language": "python",
   "name": "python3"
  },
  "language_info": {
   "codemirror_mode": {
    "name": "ipython",
    "version": 3
   },
   "file_extension": ".py",
   "mimetype": "text/x-python",
   "name": "python",
   "nbconvert_exporter": "python",
   "pygments_lexer": "ipython3",
   "version": "3.8.8"
  },
  "toc": {
   "base_numbering": 1,
   "nav_menu": {},
   "number_sections": true,
   "sideBar": true,
   "skip_h1_title": false,
   "title_cell": "Table of Contents",
   "title_sidebar": "Contents",
   "toc_cell": false,
   "toc_position": {},
   "toc_section_display": true,
   "toc_window_display": false
  },
  "varInspector": {
   "cols": {
    "lenName": 16,
    "lenType": 16,
    "lenVar": 40
   },
   "kernels_config": {
    "python": {
     "delete_cmd_postfix": "",
     "delete_cmd_prefix": "del ",
     "library": "var_list.py",
     "varRefreshCmd": "print(var_dic_list())"
    },
    "r": {
     "delete_cmd_postfix": ") ",
     "delete_cmd_prefix": "rm(",
     "library": "var_list.r",
     "varRefreshCmd": "cat(var_dic_list()) "
    }
   },
   "types_to_exclude": [
    "module",
    "function",
    "builtin_function_or_method",
    "instance",
    "_Feature"
   ],
   "window_display": false
  }
 },
 "nbformat": 4,
 "nbformat_minor": 2
}
