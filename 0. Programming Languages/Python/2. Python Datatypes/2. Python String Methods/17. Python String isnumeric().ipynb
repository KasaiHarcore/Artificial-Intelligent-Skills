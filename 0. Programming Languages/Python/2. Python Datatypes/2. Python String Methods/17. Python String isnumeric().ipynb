{
 "cells": [
  {
   "cell_type": "markdown",
   "metadata": {},
   "source": [
    "<small><small><i>\n",
    "All the IPython Notebooks in this lecture series by Dr. Milan Parmar are available @ **[GitHub](https://github.com/milaan9/02_Python_Datatypes/tree/main/002_Python_String_Methods)**\n",
    "</i></small></small>"
   ]
  },
  {
   "cell_type": "markdown",
   "metadata": {},
   "source": [
    "# Python String `isnumeric()`\n",
    "\n",
    "The string **`isnumeric()`** method returns **`True`** if all characters in a string are numeric characters. If not, it returns **`False`**.\n",
    "\n",
    "A numeric character has following properties:\n",
    "\n",
    "* **`Numeric_Type=Decimal`**\n",
    "* **`Numeric_Type=Digit`**\n",
    "* **`Numeric_Type=Numeric`**\n",
    "\n",
    "In Python, decimal characters (like: 0, 1, 2..), digits (like: subscript, superscript), and characters having Unicode numeric value property (like: fraction, roman numerals, currency numerators) are all considered numeric characters.\n",
    "\n",
    "You can write the digit and numeric characters using unicode in the program. For example:\n",
    "\n",
    "```python\n",
    "# s = '½'\n",
    ">>>s = '\\u00BD'\n",
    "```\n",
    "\n",
    "**Syntax**:\n",
    "\n",
    "```python\n",
    "string.isnumeric()\n",
    "```"
   ]
  },
  {
   "cell_type": "markdown",
   "metadata": {
    "heading_collapsed": true
   },
   "source": [
    "## `isnumeric()` Parameters\n",
    "\n",
    "The **`isnumeric()`** method doesn't take any parameters."
   ]
  },
  {
   "cell_type": "markdown",
   "metadata": {},
   "source": [
    "## Return Value from `isnumeric()`\n",
    "\n",
    "The **`isnumeric()`** returns:\n",
    "\n",
    "* **`True`** if all characters in the string are numeric characters.\n",
    "* **`False`** if at least one character is not a numeric character."
   ]
  },
  {
   "cell_type": "code",
   "execution_count": 1,
   "metadata": {
    "ExecuteTime": {
     "end_time": "2021-06-23T09:24:59.495127Z",
     "start_time": "2021-06-23T09:24:59.487314Z"
    },
    "scrolled": true
   },
   "outputs": [
    {
     "name": "stdout",
     "output_type": "stream",
     "text": [
      "True\n",
      "True\n",
      "True\n",
      "False\n"
     ]
    }
   ],
   "source": [
    "# Example 1: Working of isnumeric()\n",
    "\n",
    "s = '1242323'\n",
    "print(s.isnumeric())\n",
    "\n",
    "#s = '²3455'\n",
    "s = '\\u00B23455'\n",
    "print(s.isnumeric())\n",
    "\n",
    "# s = '½'\n",
    "s = '\\u00BD'\n",
    "print(s.isnumeric())\n",
    "\n",
    "s = '1242323'\n",
    "s='python12'\n",
    "print(s.isnumeric())"
   ]
  },
  {
   "cell_type": "code",
   "execution_count": 2,
   "metadata": {
    "ExecuteTime": {
     "end_time": "2021-06-23T09:25:00.281255Z",
     "start_time": "2021-06-23T09:25:00.273440Z"
    }
   },
   "outputs": [
    {
     "name": "stdout",
     "output_type": "stream",
     "text": [
      "All characters are numeric.\n"
     ]
    }
   ],
   "source": [
    "# Example 2: How to use isnumeric()?\n",
    "    \n",
    "#s = '²3455'\n",
    "s = '\\u00B23455'\n",
    "\n",
    "if s.isnumeric() == True:\n",
    "    print('All characters are numeric.')\n",
    "else:\n",
    "    print('All characters are not numeric.')"
   ]
  },
  {
   "cell_type": "code",
   "execution_count": 3,
   "metadata": {
    "ExecuteTime": {
     "end_time": "2021-06-23T09:25:10.859291Z",
     "start_time": "2021-06-23T09:25:10.838788Z"
    }
   },
   "outputs": [
    {
     "name": "stdout",
     "output_type": "stream",
     "text": [
      "False\n",
      "True\n"
     ]
    }
   ],
   "source": [
    "# Example 3:\n",
    "\n",
    "str = \"helloworld99\"\n",
    "\n",
    "print (str.isnumeric())\n",
    "str = \"10121997\"\n",
    "print (str.isnumeric())"
   ]
  },
  {
   "cell_type": "code",
   "execution_count": null,
   "metadata": {},
   "outputs": [],
   "source": []
  }
 ],
 "metadata": {
  "hide_input": false,
  "kernelspec": {
   "display_name": "Python 3",
   "language": "python",
   "name": "python3"
  },
  "language_info": {
   "codemirror_mode": {
    "name": "ipython",
    "version": 3
   },
   "file_extension": ".py",
   "mimetype": "text/x-python",
   "name": "python",
   "nbconvert_exporter": "python",
   "pygments_lexer": "ipython3",
   "version": "3.8.8"
  },
  "toc": {
   "base_numbering": 1,
   "nav_menu": {},
   "number_sections": true,
   "sideBar": true,
   "skip_h1_title": false,
   "title_cell": "Table of Contents",
   "title_sidebar": "Contents",
   "toc_cell": false,
   "toc_position": {},
   "toc_section_display": true,
   "toc_window_display": false
  },
  "varInspector": {
   "cols": {
    "lenName": 16,
    "lenType": 16,
    "lenVar": 40
   },
   "kernels_config": {
    "python": {
     "delete_cmd_postfix": "",
     "delete_cmd_prefix": "del ",
     "library": "var_list.py",
     "varRefreshCmd": "print(var_dic_list())"
    },
    "r": {
     "delete_cmd_postfix": ") ",
     "delete_cmd_prefix": "rm(",
     "library": "var_list.r",
     "varRefreshCmd": "cat(var_dic_list()) "
    }
   },
   "types_to_exclude": [
    "module",
    "function",
    "builtin_function_or_method",
    "instance",
    "_Feature"
   ],
   "window_display": false
  }
 },
 "nbformat": 4,
 "nbformat_minor": 2
}
