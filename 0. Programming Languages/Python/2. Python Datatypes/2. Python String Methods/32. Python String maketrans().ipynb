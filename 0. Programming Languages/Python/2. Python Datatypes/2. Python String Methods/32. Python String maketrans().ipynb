{
 "cells": [
  {
   "cell_type": "markdown",
   "metadata": {},
   "source": [
    "<small><small><i>\n",
    "All the IPython Notebooks in this lecture series by Dr. Milan Parmar are available @ **[GitHub](https://github.com/milaan9/02_Python_Datatypes/tree/main/002_Python_String_Methods)**\n",
    "</i></small></small>"
   ]
  },
  {
   "cell_type": "markdown",
   "metadata": {},
   "source": [
    "# Python String `maketrans()`\n",
    "\n",
    "The string **`maketrans()`** method returns a mapping table for translation usable for **`translate()`** method.\n",
    "\n",
    "In simple terms, **`maketrans()`** method is a static method that creates a one to one mapping of a character to its translation/replacement.\n",
    "\n",
    "It creates a Unicode representation of each character for translation.\n",
    "\n",
    "This translation mapping is then used for replacing a character to its mapped character when used in **[translate()](https://github.com/milaan9/02_Python_Datatypes/blob/main/002_Python_String_Methods/034_Python_String_translate%28%29.ipynb)** method.\n",
    "\n",
    "**Syntax**:\n",
    "\n",
    "```python\n",
    "string.maketrans(x[, y[, z]])\n",
    "```\n",
    "\n",
    ">**Note:** Here, **`y`** and **`z`** are optional arguments."
   ]
  },
  {
   "cell_type": "markdown",
   "metadata": {
    "heading_collapsed": true
   },
   "source": [
    "## `maketrans()` Parameters\n",
    "\n",
    "The **`maketrans()`** method takes 3 parameters:\n",
    "\n",
    "* **`x`** - If only one argument is supplied, it must be a dictionary. The dictionary should contain a 1-to-1 mapping from a single character string to its translation OR a Unicode number (97 for 'a') to its translation.\n",
    "\n",
    "\n",
    "* **`y`** - If two arguments are passed, it must be two strings with equal length. Each character in the first string is a replacement to its corresponding index in the second string.\n",
    "\n",
    "\n",
    "* **`z`** - If three arguments are passed, each character in the third argument is mapped to None."
   ]
  },
  {
   "cell_type": "markdown",
   "metadata": {},
   "source": [
    "## Return Value from `maketrans()`\n",
    "\n",
    "The **`maketrans()`** method returns a translation table with a 1-to-1 mapping of a Unicode ordinal to its translation/replacement."
   ]
  },
  {
   "cell_type": "code",
   "execution_count": 1,
   "metadata": {
    "ExecuteTime": {
     "end_time": "2021-06-10T18:13:54.308953Z",
     "start_time": "2021-06-10T18:13:54.301161Z"
    },
    "scrolled": true
   },
   "outputs": [
    {
     "name": "stdout",
     "output_type": "stream",
     "text": [
      "{97: '123', 98: '456', 99: '789'}\n",
      "{97: '123', 98: '456', 99: '789'}\n"
     ]
    }
   ],
   "source": [
    "# Example 1: Translation table using a dictionary with maketrans()\n",
    "\n",
    "# example dictionary\n",
    "dict = {\"a\": \"123\", \"b\": \"456\", \"c\": \"789\"}\n",
    "string = \"abc\"\n",
    "print(string.maketrans(dict))\n",
    "\n",
    "# example dictionary\n",
    "dict = {97: \"123\", 98: \"456\", 99: \"789\"}\n",
    "string = \"abc\"\n",
    "print(string.maketrans(dict))"
   ]
  },
  {
   "cell_type": "markdown",
   "metadata": {},
   "source": [
    "**Explanation:**\n",
    "\n",
    "Here, a dictionary **`dict`** is defined. It contains a mapping of characters a,b and c to 123, 456, and 789 respectively.\n",
    "\n",
    "**`maketrans()`** creates a mapping of the character's Unicode ordinal to its corresponding translation.\n",
    "\n",
    "So, 97 ('**`a`**') is mapped to '123', 98 '**`b`**' to 456 and 99 '**`c`**' to 789. This can be demonstrated from the output of both dictionaries.\n",
    "\n",
    "Also, if two or more characters are mapped in the dictionary, it raises an exception."
   ]
  },
  {
   "cell_type": "code",
   "execution_count": 2,
   "metadata": {
    "ExecuteTime": {
     "end_time": "2021-06-10T18:13:55.777478Z",
     "start_time": "2021-06-10T18:13:55.478514Z"
    },
    "scrolled": true
   },
   "outputs": [
    {
     "name": "stdout",
     "output_type": "stream",
     "text": [
      "{97: 100, 98: 101, 99: 102}\n"
     ]
    },
    {
     "ename": "ValueError",
     "evalue": "the first two maketrans arguments must have equal length",
     "output_type": "error",
     "traceback": [
      "\u001b[1;31m---------------------------------------------------------------------------\u001b[0m",
      "\u001b[1;31mValueError\u001b[0m                                Traceback (most recent call last)",
      "\u001b[1;32m<ipython-input-2-cecd70ef3aaa>\u001b[0m in \u001b[0;36m<module>\u001b[1;34m\u001b[0m\n\u001b[0;32m     11\u001b[0m \u001b[0msecondString\u001b[0m \u001b[1;33m=\u001b[0m \u001b[1;34m\"defghi\"\u001b[0m\u001b[1;33m\u001b[0m\u001b[1;33m\u001b[0m\u001b[0m\n\u001b[0;32m     12\u001b[0m \u001b[0mstring\u001b[0m \u001b[1;33m=\u001b[0m \u001b[1;34m\"abc\"\u001b[0m\u001b[1;33m\u001b[0m\u001b[1;33m\u001b[0m\u001b[0m\n\u001b[1;32m---> 13\u001b[1;33m \u001b[0mprint\u001b[0m\u001b[1;33m(\u001b[0m\u001b[0mstring\u001b[0m\u001b[1;33m.\u001b[0m\u001b[0mmaketrans\u001b[0m\u001b[1;33m(\u001b[0m\u001b[0mfirstString\u001b[0m\u001b[1;33m,\u001b[0m \u001b[0msecondString\u001b[0m\u001b[1;33m)\u001b[0m\u001b[1;33m)\u001b[0m\u001b[1;33m\u001b[0m\u001b[1;33m\u001b[0m\u001b[0m\n\u001b[0m",
      "\u001b[1;31mValueError\u001b[0m: the first two maketrans arguments must have equal length"
     ]
    }
   ],
   "source": [
    "# Example 2: Translation table using two strings with maketrans()\n",
    "\n",
    "# first string\n",
    "firstString = \"abc\"\n",
    "secondString = \"def\"\n",
    "string = \"abc\"\n",
    "print(string.maketrans(firstString, secondString))\n",
    "\n",
    "# example dictionary\n",
    "firstString = \"abc\"\n",
    "secondString = \"defghi\"\n",
    "string = \"abc\"\n",
    "print(string.maketrans(firstString, secondString))"
   ]
  },
  {
   "cell_type": "markdown",
   "metadata": {},
   "source": [
    "**Explanation:**\n",
    "\n",
    "Here first, two strings of equal length **`abc`** and **`def`** are defined. And the corresponding translation is created.\n",
    "\n",
    "Printing only the first translation gives you a 1-to-1 mapping to each character's Unicode ordinal in **`firstString`** to the same indexed character on **`secondString`**.\n",
    "\n",
    "In this case, 97 ('**`a`**') is mapped to 100 ('**`d`**'), 98 ('**`b`**') to 101 ('**`e`**') and 99 ('**`c`**') to 102 ('**`f`**').\n",
    "\n",
    "Trying to create a translation table for unequal length strings raises a **`ValueError`** exception indicating that the strings must have equal length."
   ]
  },
  {
   "cell_type": "code",
   "execution_count": 3,
   "metadata": {
    "ExecuteTime": {
     "end_time": "2021-06-10T18:13:57.760671Z",
     "start_time": "2021-06-10T18:13:57.744118Z"
    }
   },
   "outputs": [
    {
     "name": "stdout",
     "output_type": "stream",
     "text": [
      "{97: None, 98: None, 99: 102, 100: None}\n"
     ]
    }
   ],
   "source": [
    "# Example 3: Translational table with removable string with maketrans()\n",
    "\n",
    "# first string\n",
    "firstString = \"abc\"\n",
    "secondString = \"def\"\n",
    "thirdString = \"abd\"\n",
    "string = \"abc\"\n",
    "print(string.maketrans(firstString, secondString, thirdString))"
   ]
  },
  {
   "cell_type": "markdown",
   "metadata": {},
   "source": [
    "**Explanation:**\n",
    "\n",
    "Here, first, the mapping between the two strings **`firstString`** and **`secondString`** are created.\n",
    "\n",
    "Then, the third argument **`thirdString`** resets the mapping of each character in it to **`None`** and also creates a new mapping for non-existent characters.\n",
    "\n",
    "In this case, **`thirdString`** resets the mapping of 97 ('**`a`**') and 98 ('**`b`**') to **`None`**, and also creates a new mapping for 100 ('**`d`**') mapped to **`None`**."
   ]
  },
  {
   "cell_type": "code",
   "execution_count": null,
   "metadata": {},
   "outputs": [],
   "source": []
  }
 ],
 "metadata": {
  "hide_input": false,
  "kernelspec": {
   "display_name": "Python 3",
   "language": "python",
   "name": "python3"
  },
  "language_info": {
   "codemirror_mode": {
    "name": "ipython",
    "version": 3
   },
   "file_extension": ".py",
   "mimetype": "text/x-python",
   "name": "python",
   "nbconvert_exporter": "python",
   "pygments_lexer": "ipython3",
   "version": "3.8.8"
  },
  "toc": {
   "base_numbering": 1,
   "nav_menu": {},
   "number_sections": true,
   "sideBar": true,
   "skip_h1_title": false,
   "title_cell": "Table of Contents",
   "title_sidebar": "Contents",
   "toc_cell": false,
   "toc_position": {},
   "toc_section_display": true,
   "toc_window_display": false
  },
  "varInspector": {
   "cols": {
    "lenName": 16,
    "lenType": 16,
    "lenVar": 40
   },
   "kernels_config": {
    "python": {
     "delete_cmd_postfix": "",
     "delete_cmd_prefix": "del ",
     "library": "var_list.py",
     "varRefreshCmd": "print(var_dic_list())"
    },
    "r": {
     "delete_cmd_postfix": ") ",
     "delete_cmd_prefix": "rm(",
     "library": "var_list.r",
     "varRefreshCmd": "cat(var_dic_list()) "
    }
   },
   "types_to_exclude": [
    "module",
    "function",
    "builtin_function_or_method",
    "instance",
    "_Feature"
   ],
   "window_display": false
  }
 },
 "nbformat": 4,
 "nbformat_minor": 2
}
