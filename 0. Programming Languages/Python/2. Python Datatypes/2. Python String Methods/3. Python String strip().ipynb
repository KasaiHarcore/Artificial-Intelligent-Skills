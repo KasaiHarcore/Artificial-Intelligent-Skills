{
 "cells": [
  {
   "cell_type": "markdown",
   "metadata": {},
   "source": [
    "<small><small><i>\n",
    "All the IPython Notebooks in this lecture series by Dr. Milan Parmar are available @ **[GitHub](https://github.com/milaan9/02_Python_Datatypes/tree/main/002_Python_String_Methods)**\n",
    "</i></small></small>"
   ]
  },
  {
   "cell_type": "markdown",
   "metadata": {},
   "source": [
    "# Python String `strip()`\n",
    "\n",
    "The string **`strip()`** method returns a copy of the string by removing both the leading and the trailing characters (based on the string argument passed).\n",
    "\n",
    "The **`strip()`** method removes characters from both left and right based on the argument (a string specifying the set of characters to be removed).\n",
    "\n",
    "**Syntax**:\n",
    "\n",
    "```python\n",
    "string.strip([chars])\n",
    "```"
   ]
  },
  {
   "cell_type": "markdown",
   "metadata": {
    "heading_collapsed": true
   },
   "source": [
    "## `strip()` Parameters\n",
    "\n",
    "The **`strip()`** method takes one parameter:\n",
    "\n",
    "* **`chars`** (optional) - a string specifying the set of characters to be removed from the left and right part of the string.\n",
    "\n",
    "If **`chars`** argument is not provided, all leading and trailing whitespaces are removed from the string."
   ]
  },
  {
   "cell_type": "markdown",
   "metadata": {
    "heading_collapsed": true
   },
   "source": [
    "## Return Value from `strip()`\n",
    "\n",
    "The **`strip()`** method returns a copy of the string with both leading and trailing characters stripped."
   ]
  },
  {
   "cell_type": "markdown",
   "metadata": {},
   "source": [
    "## Working of the `strip()` method\n",
    "\n",
    "* When the character of the string in the left mismatches with all the characters in the **`chars`** argument, it stops removing the leading characters.\n",
    "* Similarly, when the character of the string in the right mismatches with all the characters in the **`chars`** argument, it stops removing the trailing characters."
   ]
  },
  {
   "cell_type": "code",
   "execution_count": 1,
   "metadata": {
    "ExecuteTime": {
     "end_time": "2021-06-10T18:13:27.352520Z",
     "start_time": "2021-06-10T18:13:27.341805Z"
    },
    "scrolled": true
   },
   "outputs": [
    {
     "name": "stdout",
     "output_type": "stream",
     "text": [
      "xoxo love xoxo\n",
      "lov\n",
      "  xoxo love xoxo   \n",
      "droid is awesome\n"
     ]
    }
   ],
   "source": [
    "# Example 1: Working of the strip() method\n",
    "\n",
    "string = '  xoxo love xoxo   '\n",
    "\n",
    "# Leading and trailing whitespaces are removed\n",
    "print(string.strip())\n",
    "\n",
    "# All <whitespace>,x,o,e characters in the left\n",
    "# and right of string are removed\n",
    "print(string.strip(' xoe'))\n",
    "\n",
    "# Argument doesn't contain space\n",
    "# No characters are removed.\n",
    "print(string.strip('stx'))\n",
    "\n",
    "string = 'android is awesome'\n",
    "print(string.strip('an'))"
   ]
  },
  {
   "cell_type": "markdown",
   "metadata": {},
   "source": [
    "**Explanation:** \n",
    "\n",
    "Here, we can see that the first expression **`string.strip()`** without any arguments removed the whitespaces from the left and right of **`string`**.\n",
    "\n",
    "**`string.strip(' xoe')`** removed all whitespace, **`x`**, **`o`**, and **`e`** that lead or trailed the string.\n",
    "\n",
    "Since **`string`** has whitespace at the beginning and end, the expression **`string.strip('stx')`** does not change the string. **`x`** is not removed since it is at the middle of the string (whitespaces lead and trail the string)\n",
    "\n",
    "**`string.strip('an')`** removed **`an`** leading the string."
   ]
  },
  {
   "cell_type": "code",
   "execution_count": null,
   "metadata": {},
   "outputs": [],
   "source": []
  }
 ],
 "metadata": {
  "hide_input": false,
  "kernelspec": {
   "display_name": "Python 3",
   "language": "python",
   "name": "python3"
  },
  "language_info": {
   "codemirror_mode": {
    "name": "ipython",
    "version": 3
   },
   "file_extension": ".py",
   "mimetype": "text/x-python",
   "name": "python",
   "nbconvert_exporter": "python",
   "pygments_lexer": "ipython3",
   "version": "3.8.8"
  },
  "toc": {
   "base_numbering": 1,
   "nav_menu": {},
   "number_sections": true,
   "sideBar": true,
   "skip_h1_title": false,
   "title_cell": "Table of Contents",
   "title_sidebar": "Contents",
   "toc_cell": false,
   "toc_position": {},
   "toc_section_display": true,
   "toc_window_display": false
  },
  "varInspector": {
   "cols": {
    "lenName": 16,
    "lenType": 16,
    "lenVar": 40
   },
   "kernels_config": {
    "python": {
     "delete_cmd_postfix": "",
     "delete_cmd_prefix": "del ",
     "library": "var_list.py",
     "varRefreshCmd": "print(var_dic_list())"
    },
    "r": {
     "delete_cmd_postfix": ") ",
     "delete_cmd_prefix": "rm(",
     "library": "var_list.r",
     "varRefreshCmd": "cat(var_dic_list()) "
    }
   },
   "types_to_exclude": [
    "module",
    "function",
    "builtin_function_or_method",
    "instance",
    "_Feature"
   ],
   "window_display": false
  }
 },
 "nbformat": 4,
 "nbformat_minor": 2
}
