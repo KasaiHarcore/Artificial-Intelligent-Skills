{
 "cells": [
  {
   "cell_type": "markdown",
   "metadata": {},
   "source": [
    "<small><small><i>\n",
    "All the IPython Notebooks in this lecture series by Dr. Milan Parmar are available @ **[GitHub](https://github.com/milaan9/02_Python_Datatypes/tree/main/002_Python_String_Methods)**\n",
    "</i></small></small>"
   ]
  },
  {
   "cell_type": "markdown",
   "metadata": {},
   "source": [
    "# Python String `encode()`\n",
    "\n",
    "The **`encode()`** method returns encoded version of the given string.\n",
    "\n",
    "Since Python 3.0, **[string](https://github.com/milaan9/02_Python_Datatypes/blob/main/002_Python_String.ipynb)** are stored as Unicode, i.e. each character in the string is represented by a code point. So, each string is just a sequence of Unicode code points.\n",
    "\n",
    "For efficient storage of these strings, the sequence of code points is converted into a set of bytes. The process is known as **encodings**.\n",
    "\n",
    "There are various encodings present which treats a string differently. The popular encoding being **utf-8**, **ascii**, etc.\n",
    "\n",
    "Using string's **`encode()`** method, you can convert unicoded strings into any **[encodings supported by Python](https://docs.python.org/3/library/codecs.html#standard-encodings)**. By default, Python uses **utf-8** encoding.\n",
    "\n",
    "**Syntax**:\n",
    "\n",
    "```python\n",
    "string.encode(encoding='UTF-8',errors='strict')\n",
    "```"
   ]
  },
  {
   "cell_type": "markdown",
   "metadata": {},
   "source": [
    "## `encode()` Parameters\n",
    "\n",
    "By default, **`encode()`** method doesn't require any parameters.\n",
    "\n",
    "It returns **utf-8** encoded version of the string. In case of failure, it raises a **`UnicodeDecodeError`** exception.\n",
    "\n",
    "However, it takes two parameters:\n",
    "\n",
    "* **encoding** - the encoding type a string has to be encoded to\n",
    "* **errors** - response when encoding fails. There are six types of error response\n",
    "    - **strict** - default response which raises a UnicodeDecodeError exception on failure\n",
    "    - **ignore** - ignores the unencodable unicode from the result\n",
    "    - **replace** - replaces the unencodable unicode to a question mark **?**\n",
    "    - **xmlcharrefreplace** - inserts XML character reference instead of unencodable unicode\n",
    "    - **backslashreplace** - inserts a **\\uNNNN** escape sequence instead of unencodable unicode\n",
    "    - **namereplace** - inserts a **\\N{...}** escape sequence instead of unencodable unicode"
   ]
  },
  {
   "cell_type": "code",
   "execution_count": 1,
   "metadata": {
    "ExecuteTime": {
     "end_time": "2021-06-10T18:05:08.799798Z",
     "start_time": "2021-06-10T18:05:08.778860Z"
    }
   },
   "outputs": [
    {
     "name": "stdout",
     "output_type": "stream",
     "text": [
      "The string is: pythön!\n",
      "The encoded version is: b'pyth\\xc3\\xb6n!'\n"
     ]
    }
   ],
   "source": [
    "# Example 1: Encode to Default Utf-8 Encoding\n",
    "\n",
    "# unicode string\n",
    "string = 'pythön!'\n",
    "\n",
    "# print string\n",
    "print('The string is:', string)\n",
    "\n",
    "# default encoding to utf-8\n",
    "string_utf = string.encode()\n",
    "\n",
    "# print result\n",
    "print('The encoded version is:', string_utf)"
   ]
  },
  {
   "cell_type": "code",
   "execution_count": 2,
   "metadata": {
    "ExecuteTime": {
     "end_time": "2021-06-10T18:05:09.861754Z",
     "start_time": "2021-06-10T18:05:09.847146Z"
    }
   },
   "outputs": [
    {
     "name": "stdout",
     "output_type": "stream",
     "text": [
      "The string is: pythön!\n",
      "The encoded version (with ignore) is: b'pythn!'\n",
      "The encoded version (with replace) is: b'pyth?n!'\n"
     ]
    }
   ],
   "source": [
    "# Example 2: Encoding with error parameter\n",
    "\n",
    "# unicode string\n",
    "string = 'pythön!'\n",
    "\n",
    "# print string\n",
    "print('The string is:', string)\n",
    "\n",
    "# ignore error\n",
    "print('The encoded version (with ignore) is:', string.encode(\"ascii\", \"ignore\"))\n",
    "\n",
    "# replace error\n",
    "print('The encoded version (with replace) is:', string.encode(\"ascii\", \"replace\"))"
   ]
  },
  {
   "cell_type": "markdown",
   "metadata": {},
   "source": [
    ">**Note:** Try different encoding and error parameters as well."
   ]
  },
  {
   "cell_type": "code",
   "execution_count": null,
   "metadata": {},
   "outputs": [],
   "source": []
  }
 ],
 "metadata": {
  "hide_input": false,
  "kernelspec": {
   "display_name": "Python 3",
   "language": "python",
   "name": "python3"
  },
  "language_info": {
   "codemirror_mode": {
    "name": "ipython",
    "version": 3
   },
   "file_extension": ".py",
   "mimetype": "text/x-python",
   "name": "python",
   "nbconvert_exporter": "python",
   "pygments_lexer": "ipython3",
   "version": "3.8.8"
  },
  "toc": {
   "base_numbering": 1,
   "nav_menu": {},
   "number_sections": true,
   "sideBar": true,
   "skip_h1_title": false,
   "title_cell": "Table of Contents",
   "title_sidebar": "Contents",
   "toc_cell": false,
   "toc_position": {},
   "toc_section_display": true,
   "toc_window_display": false
  },
  "varInspector": {
   "cols": {
    "lenName": 16,
    "lenType": 16,
    "lenVar": 40
   },
   "kernels_config": {
    "python": {
     "delete_cmd_postfix": "",
     "delete_cmd_prefix": "del ",
     "library": "var_list.py",
     "varRefreshCmd": "print(var_dic_list())"
    },
    "r": {
     "delete_cmd_postfix": ") ",
     "delete_cmd_prefix": "rm(",
     "library": "var_list.r",
     "varRefreshCmd": "cat(var_dic_list()) "
    }
   },
   "types_to_exclude": [
    "module",
    "function",
    "builtin_function_or_method",
    "instance",
    "_Feature"
   ],
   "window_display": false
  }
 },
 "nbformat": 4,
 "nbformat_minor": 2
}
