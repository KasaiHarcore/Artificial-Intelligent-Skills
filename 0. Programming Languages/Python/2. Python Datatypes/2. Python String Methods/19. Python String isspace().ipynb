{
 "cells": [
  {
   "cell_type": "markdown",
   "metadata": {},
   "source": [
    "<small><small><i>\n",
    "All the IPython Notebooks in this lecture series by Dr. Milan Parmar are available @ **[GitHub](https://github.com/milaan9/02_Python_Datatypes/tree/main/002_Python_String_Methods)**\n",
    "</i></small></small>"
   ]
  },
  {
   "cell_type": "markdown",
   "metadata": {},
   "source": [
    "# Python String `isspace()`\n",
    "\n",
    "The string **`isspace()`** method returns **`True`** if there are only whitespace characters in the string. If not, it returns **`False`**.\n",
    "\n",
    "Characters that are used for spacing are called whitespace characters. For example: \n",
    "\n",
    "1. tabs\n",
    "2. spaces \n",
    "3. newline, etc.\n",
    "\n",
    "**Syntax**:\n",
    "\n",
    "```python\n",
    "string.isspace()\n",
    "```"
   ]
  },
  {
   "cell_type": "markdown",
   "metadata": {
    "heading_collapsed": true
   },
   "source": [
    "## `isspace()` Parameters\n",
    "\n",
    "The **`isspace()`** method doesn't take any parameters."
   ]
  },
  {
   "cell_type": "markdown",
   "metadata": {},
   "source": [
    "## Return Value from `isspace()`\n",
    "\n",
    "The **`isspace()`** returns:\n",
    "\n",
    "* **`True`** if all characters in the string are whitespace characters.\n",
    "* **`False`** if the string is empty or contains at least one non-printable character."
   ]
  },
  {
   "cell_type": "code",
   "execution_count": 1,
   "metadata": {
    "ExecuteTime": {
     "end_time": "2021-06-23T09:26:53.636788Z",
     "start_time": "2021-06-23T09:26:53.626045Z"
    },
    "scrolled": true
   },
   "outputs": [
    {
     "name": "stdout",
     "output_type": "stream",
     "text": [
      "True\n",
      "False\n",
      "False\n"
     ]
    }
   ],
   "source": [
    "# Example 1: Working of isspace()\n",
    "\n",
    "s = '   \\t'\n",
    "print(s.isspace())\n",
    "\n",
    "s = ' a '\n",
    "print(s.isspace())\n",
    "\n",
    "s = ''\n",
    "print(s.isspace())"
   ]
  },
  {
   "cell_type": "code",
   "execution_count": 2,
   "metadata": {
    "ExecuteTime": {
     "end_time": "2021-06-23T09:26:53.776433Z",
     "start_time": "2021-06-23T09:26:53.698308Z"
    }
   },
   "outputs": [
    {
     "name": "stdout",
     "output_type": "stream",
     "text": [
      "All whitespace characters\n",
      "Contains non-whitespace characters.\n"
     ]
    }
   ],
   "source": [
    "# Example 2: How to use isspace()?\n",
    "\n",
    "s = '\\t  \\n'\n",
    "if s.isspace() == True:\n",
    "    print('All whitespace characters')\n",
    "else:\n",
    "    print('Contains non-whitespace characters')\n",
    "  \n",
    "s = '2+2 = 4'\n",
    "\n",
    "if s.isspace() == True:\n",
    "    print('All whitespace characters')\n",
    "else:\n",
    "    print('Contains non-whitespace characters.')"
   ]
  },
  {
   "cell_type": "code",
   "execution_count": 3,
   "metadata": {
    "ExecuteTime": {
     "end_time": "2021-06-23T09:26:56.368210Z",
     "start_time": "2021-06-23T09:26:56.356492Z"
    }
   },
   "outputs": [
    {
     "name": "stdout",
     "output_type": "stream",
     "text": [
      "True\n",
      "False\n"
     ]
    }
   ],
   "source": [
    "# Example 3:\n",
    "\n",
    "str = \" \"\n",
    "\n",
    "print (str.isspace())\n",
    "str = \"helloworld\"\n",
    "print (str.isspace())"
   ]
  },
  {
   "cell_type": "code",
   "execution_count": null,
   "metadata": {},
   "outputs": [],
   "source": []
  }
 ],
 "metadata": {
  "hide_input": false,
  "kernelspec": {
   "display_name": "Python 3",
   "language": "python",
   "name": "python3"
  },
  "language_info": {
   "codemirror_mode": {
    "name": "ipython",
    "version": 3
   },
   "file_extension": ".py",
   "mimetype": "text/x-python",
   "name": "python",
   "nbconvert_exporter": "python",
   "pygments_lexer": "ipython3",
   "version": "3.8.8"
  },
  "toc": {
   "base_numbering": 1,
   "nav_menu": {},
   "number_sections": true,
   "sideBar": true,
   "skip_h1_title": false,
   "title_cell": "Table of Contents",
   "title_sidebar": "Contents",
   "toc_cell": false,
   "toc_position": {},
   "toc_section_display": true,
   "toc_window_display": false
  },
  "varInspector": {
   "cols": {
    "lenName": 16,
    "lenType": 16,
    "lenVar": 40
   },
   "kernels_config": {
    "python": {
     "delete_cmd_postfix": "",
     "delete_cmd_prefix": "del ",
     "library": "var_list.py",
     "varRefreshCmd": "print(var_dic_list())"
    },
    "r": {
     "delete_cmd_postfix": ") ",
     "delete_cmd_prefix": "rm(",
     "library": "var_list.r",
     "varRefreshCmd": "cat(var_dic_list()) "
    }
   },
   "types_to_exclude": [
    "module",
    "function",
    "builtin_function_or_method",
    "instance",
    "_Feature"
   ],
   "window_display": false
  }
 },
 "nbformat": 4,
 "nbformat_minor": 2
}
