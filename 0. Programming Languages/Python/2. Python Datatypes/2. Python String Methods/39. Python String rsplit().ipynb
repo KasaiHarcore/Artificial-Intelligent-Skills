{
 "cells": [
  {
   "cell_type": "markdown",
   "metadata": {},
   "source": [
    "<small><small><i>\n",
    "All the IPython Notebooks in this lecture series by Dr. Milan Parmar are available @ **[GitHub](https://github.com/milaan9/02_Python_Datatypes/tree/main/002_Python_String_Methods)**\n",
    "</i></small></small>"
   ]
  },
  {
   "cell_type": "markdown",
   "metadata": {},
   "source": [
    "# Python String `rsplit()`\n",
    "\n",
    "The string **`rsplit()`** method splits string from the right at the specified separator and returns a list of strings.\n",
    "\n",
    "**Syntax**:\n",
    "\n",
    "```python\n",
    "str.rsplit([separator [, maxsplit]])\n",
    "```"
   ]
  },
  {
   "cell_type": "markdown",
   "metadata": {
    "heading_collapsed": true
   },
   "source": [
    "## `rsplit()` Parameters\n",
    "\n",
    "The **`rsplit()`** method takes a maximum of 2 parameters:\n",
    "\n",
    "* **`separator`** (optional)- It is a delimiter. **`rsplit()`** method splits string starting from the right at the specified **`separator`**.\n",
    "If the **`separator`** is not specified, any whitespace (space, newline etc.) string is a separator.\n",
    "\n",
    "* **`maxsplit`** (optional) - The **`maxsplit`** defines the maximum number of splits.\n",
    "The default value of **`maxsplit`** is -1, meaning, no limit on the number of splits."
   ]
  },
  {
   "cell_type": "markdown",
   "metadata": {},
   "source": [
    "## Return Value from `rsplit()`\n",
    "\n",
    "The **`rsplit()`** method breaks the string at the **`separator`** starting from the right and returns a list of strings."
   ]
  },
  {
   "cell_type": "code",
   "execution_count": 1,
   "metadata": {
    "ExecuteTime": {
     "end_time": "2021-06-10T18:16:00.322307Z",
     "start_time": "2021-06-10T18:16:00.300885Z"
    },
    "scrolled": true
   },
   "outputs": [
    {
     "name": "stdout",
     "output_type": "stream",
     "text": [
      "['Love', 'thy', 'neighbor']\n",
      "['Milk', 'Coffee', 'Bread']\n",
      "['Milk, Coffee, Bread']\n"
     ]
    }
   ],
   "source": [
    "# Example 1: How rsplit() works in Python?\n",
    "\n",
    "text= 'Love thy neighbor'\n",
    "\n",
    "# splits at space\n",
    "print(text.rsplit())\n",
    "\n",
    "grocery = 'Milk, Coffee, Bread'\n",
    "\n",
    "# splits at ','\n",
    "print(grocery.rsplit(', '))\n",
    "\n",
    "# Splitting at ':'\n",
    "print(grocery.rsplit(':'))"
   ]
  },
  {
   "cell_type": "markdown",
   "metadata": {},
   "source": [
    ">**Note:** When **`maxsplit`** is not specified, **`rsplit()`** behaves like **`split()`**."
   ]
  },
  {
   "cell_type": "code",
   "execution_count": 2,
   "metadata": {
    "ExecuteTime": {
     "end_time": "2021-06-10T18:16:02.414086Z",
     "start_time": "2021-06-10T18:16:02.398504Z"
    }
   },
   "outputs": [
    {
     "name": "stdout",
     "output_type": "stream",
     "text": [
      "['Milk, Coffee', 'Bread', 'Butter']\n",
      "['Milk, Coffee, Bread', 'Butter']\n",
      "['Milk', 'Coffee', 'Bread', 'Butter']\n",
      "['Milk, Coffee, Bread, Butter']\n"
     ]
    }
   ],
   "source": [
    "# Example 2: How split() works when maxsplit is specified?\n",
    "\n",
    "grocery = 'Milk, Coffee, Bread, Butter'\n",
    "\n",
    "# maxsplit: 2\n",
    "print(grocery.rsplit(', ', 2))\n",
    "\n",
    "# maxsplit: 1\n",
    "print(grocery.rsplit(', ', 1))\n",
    "\n",
    "# maxsplit: 5\n",
    "print(grocery.rsplit(', ', 5))\n",
    "\n",
    "# maxsplit: 0\n",
    "print(grocery.rsplit(', ', 0))"
   ]
  },
  {
   "cell_type": "markdown",
   "metadata": {},
   "source": [
    ">**Note:** If **`maxsplit`** is specified, the list will have the maximum of **`maxsplit+1`** items."
   ]
  },
  {
   "cell_type": "code",
   "execution_count": null,
   "metadata": {},
   "outputs": [],
   "source": []
  }
 ],
 "metadata": {
  "hide_input": false,
  "kernelspec": {
   "display_name": "Python 3",
   "language": "python",
   "name": "python3"
  },
  "language_info": {
   "codemirror_mode": {
    "name": "ipython",
    "version": 3
   },
   "file_extension": ".py",
   "mimetype": "text/x-python",
   "name": "python",
   "nbconvert_exporter": "python",
   "pygments_lexer": "ipython3",
   "version": "3.8.8"
  },
  "toc": {
   "base_numbering": 1,
   "nav_menu": {},
   "number_sections": true,
   "sideBar": true,
   "skip_h1_title": false,
   "title_cell": "Table of Contents",
   "title_sidebar": "Contents",
   "toc_cell": false,
   "toc_position": {},
   "toc_section_display": true,
   "toc_window_display": false
  },
  "varInspector": {
   "cols": {
    "lenName": 16,
    "lenType": 16,
    "lenVar": 40
   },
   "kernels_config": {
    "python": {
     "delete_cmd_postfix": "",
     "delete_cmd_prefix": "del ",
     "library": "var_list.py",
     "varRefreshCmd": "print(var_dic_list())"
    },
    "r": {
     "delete_cmd_postfix": ") ",
     "delete_cmd_prefix": "rm(",
     "library": "var_list.r",
     "varRefreshCmd": "cat(var_dic_list()) "
    }
   },
   "types_to_exclude": [
    "module",
    "function",
    "builtin_function_or_method",
    "instance",
    "_Feature"
   ],
   "window_display": false
  }
 },
 "nbformat": 4,
 "nbformat_minor": 2
}
