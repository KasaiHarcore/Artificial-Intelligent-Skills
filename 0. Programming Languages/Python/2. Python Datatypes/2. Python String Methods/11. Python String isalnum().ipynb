{
 "cells": [
  {
   "cell_type": "markdown",
   "metadata": {},
   "source": [
    "<small><small><i>\n",
    "All the IPython Notebooks in this lecture series by Dr. Milan Parmar are available @ **[GitHub](https://github.com/milaan9/02_Python_Datatypes/tree/main/002_Python_String_Methods)**\n",
    "</i></small></small>"
   ]
  },
  {
   "cell_type": "markdown",
   "metadata": {},
   "source": [
    "# Python String `isalnum()`\n",
    "\n",
    "The string **`isalnum()`** method returns **`True`** if all characters in the string are alphanumeric (either alphabets or numbers). If not, it returns **`False`**.\n",
    "\n",
    "**Syntax**:\n",
    "\n",
    "```python\n",
    "string.isalnum()\n",
    "```"
   ]
  },
  {
   "cell_type": "markdown",
   "metadata": {},
   "source": [
    "## `isalnum()` Parameters\n",
    "\n",
    "The **`isalnum()`** method doesn't take any parameters."
   ]
  },
  {
   "cell_type": "markdown",
   "metadata": {},
   "source": [
    "## Return Value from `isalnum()`\n",
    "\n",
    "The **`isalnum()`** returns:\n",
    "\n",
    "* **`True`** if all characters in the string are alphanumeric\n",
    "* **`False`** if at least one character is not alphanumeric"
   ]
  },
  {
   "cell_type": "code",
   "execution_count": 1,
   "metadata": {
    "ExecuteTime": {
     "end_time": "2021-06-23T08:28:50.640700Z",
     "start_time": "2021-06-23T08:28:50.628005Z"
    },
    "scrolled": true
   },
   "outputs": [
    {
     "name": "stdout",
     "output_type": "stream",
     "text": [
      "True\n",
      "False\n",
      "True\n",
      "True\n"
     ]
    }
   ],
   "source": [
    "# Example 1: Working of isalnum()\n",
    "\n",
    "name = \"M234onica\"\n",
    "print(name.isalnum())\n",
    "\n",
    "# contains whitespace\n",
    "name = \"M3onica Gell22er \"\n",
    "print(name.isalnum())\n",
    "\n",
    "name = \"Mo3nicaGell22er\"\n",
    "print(name.isalnum())\n",
    "\n",
    "name = \"133\"\n",
    "print(name.isalnum())"
   ]
  },
  {
   "cell_type": "code",
   "execution_count": 2,
   "metadata": {
    "ExecuteTime": {
     "end_time": "2021-06-23T08:28:51.504460Z",
     "start_time": "2021-06-23T08:28:51.484442Z"
    }
   },
   "outputs": [
    {
     "name": "stdout",
     "output_type": "stream",
     "text": [
      "All characters of string (name) are alphanumeric.\n"
     ]
    }
   ],
   "source": [
    "# Example 2: Working of isalnum()\n",
    "\n",
    "name = \"M0n1caG3ll3r\"\n",
    "\n",
    "if name.isalnum() == True:\n",
    "    print(\"All characters of string (name) are alphanumeric.\")\n",
    "else:\n",
    "    print(\"All characters are not alphanumeric.\")"
   ]
  },
  {
   "cell_type": "code",
   "execution_count": 3,
   "metadata": {
    "ExecuteTime": {
     "end_time": "2021-06-23T08:28:52.371155Z",
     "start_time": "2021-06-23T08:28:52.356508Z"
    }
   },
   "outputs": [
    {
     "name": "stdout",
     "output_type": "stream",
     "text": [
      "False\n",
      "True\n"
     ]
    }
   ],
   "source": [
    "# Example 3:\n",
    "\n",
    "s=\"I Love Python 3 Tutorial\"\n",
    "print(s.isalnum())\n",
    "\n",
    "s=\"Python\" # No space\n",
    "print(s.isalnum())"
   ]
  },
  {
   "cell_type": "markdown",
   "metadata": {},
   "source": [
    "Checkout these related String methods as well:\n",
    "\n",
    "* **[Python isalpha()](https://github.com/milaan9/02_Python_Datatypes/blob/main/002_Python_String_Methods/012_Python_String_isalpha%28%29.ipynb)**\n",
    "* **[Python isdigit()](https://github.com/milaan9/02_Python_Datatypes/blob/main/002_Python_String_Methods/014_Python_String_isdigit%28%29.ipynb)**"
   ]
  },
  {
   "cell_type": "code",
   "execution_count": null,
   "metadata": {},
   "outputs": [],
   "source": []
  }
 ],
 "metadata": {
  "hide_input": false,
  "kernelspec": {
   "display_name": "Python 3",
   "language": "python",
   "name": "python3"
  },
  "language_info": {
   "codemirror_mode": {
    "name": "ipython",
    "version": 3
   },
   "file_extension": ".py",
   "mimetype": "text/x-python",
   "name": "python",
   "nbconvert_exporter": "python",
   "pygments_lexer": "ipython3",
   "version": "3.8.8"
  },
  "toc": {
   "base_numbering": 1,
   "nav_menu": {},
   "number_sections": true,
   "sideBar": true,
   "skip_h1_title": false,
   "title_cell": "Table of Contents",
   "title_sidebar": "Contents",
   "toc_cell": false,
   "toc_position": {},
   "toc_section_display": true,
   "toc_window_display": false
  },
  "varInspector": {
   "cols": {
    "lenName": 16,
    "lenType": 16,
    "lenVar": 40
   },
   "kernels_config": {
    "python": {
     "delete_cmd_postfix": "",
     "delete_cmd_prefix": "del ",
     "library": "var_list.py",
     "varRefreshCmd": "print(var_dic_list())"
    },
    "r": {
     "delete_cmd_postfix": ") ",
     "delete_cmd_prefix": "rm(",
     "library": "var_list.r",
     "varRefreshCmd": "cat(var_dic_list()) "
    }
   },
   "types_to_exclude": [
    "module",
    "function",
    "builtin_function_or_method",
    "instance",
    "_Feature"
   ],
   "window_display": false
  }
 },
 "nbformat": 4,
 "nbformat_minor": 2
}
