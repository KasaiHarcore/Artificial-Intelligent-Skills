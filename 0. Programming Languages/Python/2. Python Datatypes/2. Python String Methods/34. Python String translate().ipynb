{
 "cells": [
  {
   "cell_type": "markdown",
   "metadata": {},
   "source": [
    "<small><small><i>\n",
    "All the IPython Notebooks in this lecture series by Dr. Milan Parmar are available @ **[GitHub](https://github.com/milaan9/02_Python_Datatypes/tree/main/002_Python_String_Methods)**\n",
    "</i></small></small>"
   ]
  },
  {
   "cell_type": "markdown",
   "metadata": {},
   "source": [
    "# Python String `translate()`\n",
    "\n",
    "The string **`translate()`** method returns a string where each character is mapped to its corresponding character in the translation table.\n",
    "\n",
    "**`translate()`** method takes the translation table to replace/translate characters in the given string as per the mapping table.\n",
    "\n",
    "The translation table is created by the static method **[maketrans()](https://github.com/milaan9/02_Python_Datatypes/blob/main/002_Python_String_Methods/032_Python_String_maketrans%28%29.ipynb)**.\n",
    "\n",
    "**Syntax**:\n",
    "\n",
    "```python\n",
    "string.translate(table)\n",
    "```"
   ]
  },
  {
   "cell_type": "markdown",
   "metadata": {
    "heading_collapsed": true
   },
   "source": [
    "## `translate()` Parameters\n",
    "\n",
    "The **`translate()`** method takes a single parameter:\n",
    "\n",
    "* **`table`** - a translation table containing the mapping between two characters; usually created by **`maketrans()`**."
   ]
  },
  {
   "cell_type": "markdown",
   "metadata": {},
   "source": [
    "## Return Value from `translate()`\n",
    "\n",
    "The **`translate()`** method returns a string where each character is mapped to its corresponding character as per the translation table."
   ]
  },
  {
   "cell_type": "code",
   "execution_count": 1,
   "metadata": {
    "ExecuteTime": {
     "end_time": "2021-06-10T18:14:21.353030Z",
     "start_time": "2021-06-10T18:14:21.335502Z"
    },
    "scrolled": true
   },
   "outputs": [
    {
     "name": "stdout",
     "output_type": "stream",
     "text": [
      "Original string: abcdef\n",
      "Translated string: idef\n"
     ]
    }
   ],
   "source": [
    "# Example 1: Translation/Mapping using a translation table with translate()\n",
    "\n",
    "# first string\n",
    "firstString = \"abc\"\n",
    "secondString = \"ghi\"\n",
    "thirdString = \"ab\"\n",
    "\n",
    "string = \"abcdef\"\n",
    "print(\"Original string:\", string)\n",
    "\n",
    "translation = string.maketrans(firstString, secondString, thirdString)\n",
    "\n",
    "# translate string\n",
    "print(\"Translated string:\", string.translate(translation))"
   ]
  },
  {
   "cell_type": "markdown",
   "metadata": {},
   "source": [
    "**Explanation:**\n",
    "\n",
    "Here, the translation mapping **`translate()`** contains the mapping from **`a`**, **`b`** and **`c`** to **`g`**, **`h`** and **`i`** respectively.\n",
    "\n",
    "But, the removal string **`thirdString`** resets the mapping to **`a`** and **`b`** to **`None`**.\n",
    "\n",
    "So, when the string is translated using **`translate()`**, **`a`** and **`b`** are removed, and **`c`** is replaced **`i`** outputting **`idef`**.\n",
    "\n",
    ">**Note:** If you cannot understand what's going inside **`maketrans()`**, please refer to **[String maketrans()](https://github.com/milaan9/02_Python_Datatypes/blob/main/002_Python_String_Methods/032_Python_String_maketrans%28%29.ipynb)**."
   ]
  },
  {
   "cell_type": "code",
   "execution_count": 2,
   "metadata": {
    "ExecuteTime": {
     "end_time": "2021-06-10T18:14:24.383087Z",
     "start_time": "2021-06-10T18:14:24.365558Z"
    }
   },
   "outputs": [
    {
     "name": "stdout",
     "output_type": "stream",
     "text": [
      "Original string: abcdef\n",
      "Translated string: idef\n"
     ]
    }
   ],
   "source": [
    "# Example 2: Translation/Mapping with translate() with manual translation table\n",
    "\n",
    "# translation table - a dictionary\n",
    "translation = {97: None, 98: None, 99: 105}\n",
    "\n",
    "string = \"abcdef\"\n",
    "print(\"Original string:\", string)\n",
    "\n",
    "# translate string\n",
    "print(\"Translated string:\", string.translate(translation))"
   ]
  },
  {
   "cell_type": "markdown",
   "metadata": {},
   "source": [
    "**Explanation:**\n",
    "\n",
    "Here, we don't create a translation table from **`maketrans()`** but, we manually create the mapping dictionary **`translation`**.\n",
    "\n",
    "This translation is then used to translate **`string`** to get the same output as the previous example."
   ]
  },
  {
   "cell_type": "code",
   "execution_count": null,
   "metadata": {},
   "outputs": [],
   "source": []
  }
 ],
 "metadata": {
  "hide_input": false,
  "kernelspec": {
   "display_name": "Python 3",
   "language": "python",
   "name": "python3"
  },
  "language_info": {
   "codemirror_mode": {
    "name": "ipython",
    "version": 3
   },
   "file_extension": ".py",
   "mimetype": "text/x-python",
   "name": "python",
   "nbconvert_exporter": "python",
   "pygments_lexer": "ipython3",
   "version": "3.8.8"
  },
  "toc": {
   "base_numbering": 1,
   "nav_menu": {},
   "number_sections": true,
   "sideBar": true,
   "skip_h1_title": false,
   "title_cell": "Table of Contents",
   "title_sidebar": "Contents",
   "toc_cell": false,
   "toc_position": {},
   "toc_section_display": true,
   "toc_window_display": false
  },
  "varInspector": {
   "cols": {
    "lenName": 16,
    "lenType": 16,
    "lenVar": 40
   },
   "kernels_config": {
    "python": {
     "delete_cmd_postfix": "",
     "delete_cmd_prefix": "del ",
     "library": "var_list.py",
     "varRefreshCmd": "print(var_dic_list())"
    },
    "r": {
     "delete_cmd_postfix": ") ",
     "delete_cmd_prefix": "rm(",
     "library": "var_list.r",
     "varRefreshCmd": "cat(var_dic_list()) "
    }
   },
   "types_to_exclude": [
    "module",
    "function",
    "builtin_function_or_method",
    "instance",
    "_Feature"
   ],
   "window_display": false
  }
 },
 "nbformat": 4,
 "nbformat_minor": 2
}
