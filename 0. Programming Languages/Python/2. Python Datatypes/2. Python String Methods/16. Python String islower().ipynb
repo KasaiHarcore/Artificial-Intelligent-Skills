{
 "cells": [
  {
   "cell_type": "markdown",
   "metadata": {},
   "source": [
    "<small><small><i>\n",
    "All the IPython Notebooks in this lecture series by Dr. Milan Parmar are available @ **[GitHub](https://github.com/milaan9/02_Python_Datatypes/tree/main/002_Python_String_Methods)**\n",
    "</i></small></small>"
   ]
  },
  {
   "cell_type": "markdown",
   "metadata": {},
   "source": [
    "# Python String `islower()`\n",
    "\n",
    "The string **`islower()`** method returns **`True`** if all alphabets in a string are lowercase alphabets. If the string contains at least one uppercase alphabet, it returns **`False`**.\n",
    "\n",
    "**Syntax**:\n",
    "\n",
    "```python\n",
    "string.islower()\n",
    "```"
   ]
  },
  {
   "cell_type": "markdown",
   "metadata": {
    "heading_collapsed": true
   },
   "source": [
    "## `islower()` Parameters\n",
    "\n",
    "The **`islower()`** method doesn't take any parameters."
   ]
  },
  {
   "cell_type": "markdown",
   "metadata": {},
   "source": [
    "## Return Value from `islower()`\n",
    "\n",
    "The **`islower()`** returns:\n",
    "\n",
    "* **`True`** if all alphabets that exist in the string are lowercase alphabets.\n",
    "* **`False`** if the string contains at least one uppercase alphabet."
   ]
  },
  {
   "cell_type": "code",
   "execution_count": 1,
   "metadata": {
    "ExecuteTime": {
     "end_time": "2021-06-23T09:23:31.669668Z",
     "start_time": "2021-06-23T09:23:31.659900Z"
    },
    "scrolled": true
   },
   "outputs": [
    {
     "name": "stdout",
     "output_type": "stream",
     "text": [
      "True\n",
      "True\n",
      "False\n"
     ]
    }
   ],
   "source": [
    "# Example 1: Return Value from islower()\n",
    "\n",
    "s = 'this is good'\n",
    "print(s.islower())\n",
    "\n",
    "s = 'th!s is a1so g00d'\n",
    "print(s.islower())\n",
    "\n",
    "s = 'this is Not good'\n",
    "print(s.islower())"
   ]
  },
  {
   "cell_type": "code",
   "execution_count": 2,
   "metadata": {
    "ExecuteTime": {
     "end_time": "2021-06-23T09:23:32.194564Z",
     "start_time": "2021-06-23T09:23:32.179426Z"
    }
   },
   "outputs": [
    {
     "name": "stdout",
     "output_type": "stream",
     "text": [
      "Does not contain uppercase letter.\n",
      "Contains uppercase letter.\n"
     ]
    }
   ],
   "source": [
    "# Example 2: How to use islower() in a program?\n",
    "\n",
    "s = 'this is good'\n",
    "if s.islower() == True:\n",
    "    print('Does not contain uppercase letter.')\n",
    "else:\n",
    "    print('Contains uppercase letter.')\n",
    "  \n",
    "s = 'this is Good'\n",
    "if s.islower() == True:\n",
    "    print('Does not contain uppercase letter.')\n",
    "else:\n",
    "    print('Contains uppercase letter.')"
   ]
  },
  {
   "cell_type": "code",
   "execution_count": 3,
   "metadata": {
    "ExecuteTime": {
     "end_time": "2021-06-23T09:23:35.210648Z",
     "start_time": "2021-06-23T09:23:35.195028Z"
    }
   },
   "outputs": [
    {
     "name": "stdout",
     "output_type": "stream",
     "text": [
      "False\n",
      "True\n"
     ]
    }
   ],
   "source": [
    "# Example:\n",
    "\n",
    "s=\"I Love Python 3 Tutorial\"\n",
    "\n",
    "print(s.islower())\n",
    "p=\"python\"\n",
    "print(p.islower())"
   ]
  },
  {
   "cell_type": "code",
   "execution_count": null,
   "metadata": {},
   "outputs": [],
   "source": []
  }
 ],
 "metadata": {
  "hide_input": false,
  "kernelspec": {
   "display_name": "Python 3",
   "language": "python",
   "name": "python3"
  },
  "language_info": {
   "codemirror_mode": {
    "name": "ipython",
    "version": 3
   },
   "file_extension": ".py",
   "mimetype": "text/x-python",
   "name": "python",
   "nbconvert_exporter": "python",
   "pygments_lexer": "ipython3",
   "version": "3.8.8"
  },
  "toc": {
   "base_numbering": 1,
   "nav_menu": {},
   "number_sections": true,
   "sideBar": true,
   "skip_h1_title": false,
   "title_cell": "Table of Contents",
   "title_sidebar": "Contents",
   "toc_cell": false,
   "toc_position": {},
   "toc_section_display": true,
   "toc_window_display": false
  },
  "varInspector": {
   "cols": {
    "lenName": 16,
    "lenType": 16,
    "lenVar": 40
   },
   "kernels_config": {
    "python": {
     "delete_cmd_postfix": "",
     "delete_cmd_prefix": "del ",
     "library": "var_list.py",
     "varRefreshCmd": "print(var_dic_list())"
    },
    "r": {
     "delete_cmd_postfix": ") ",
     "delete_cmd_prefix": "rm(",
     "library": "var_list.r",
     "varRefreshCmd": "cat(var_dic_list()) "
    }
   },
   "types_to_exclude": [
    "module",
    "function",
    "builtin_function_or_method",
    "instance",
    "_Feature"
   ],
   "window_display": false
  }
 },
 "nbformat": 4,
 "nbformat_minor": 2
}
