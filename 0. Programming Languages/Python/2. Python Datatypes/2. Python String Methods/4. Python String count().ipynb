{
 "cells": [
  {
   "cell_type": "markdown",
   "metadata": {},
   "source": [
    "<small><small><i>\n",
    "All the IPython Notebooks in this lecture series by Dr. Milan Parmar are available @ **[GitHub](https://github.com/milaan9/02_Python_Datatypes/tree/main/002_Python_String_Methods)**\n",
    "</i></small></small>"
   ]
  },
  {
   "cell_type": "markdown",
   "metadata": {},
   "source": [
    "# Python String `count()`\n",
    "\n",
    "The **`count()`** method returns the number of occurrences of a substring in the given string.\n",
    "\n",
    "In simple words, **`count()`** method searches the substring in the given **[string](http://localhost:8888/notebooks/01_Learn_Python4Data/02_Python_Datatypes/002_Python_String.ipynb)** and returns how many times the substring is present in it.\n",
    "\n",
    "It also takes optional parameters **`start`** and **`end`** to specify the starting and ending positions in the string respectively.\n",
    "\n",
    "**Syntax**:\n",
    "\n",
    "```python\n",
    "string.count(substring, start=..., end=...)\n",
    "```"
   ]
  },
  {
   "cell_type": "markdown",
   "metadata": {},
   "source": [
    "## `count()` Parameters\n",
    "\n",
    "The **`count()`** method only requires a single parameter for execution. However, it also has two optional parameters:\n",
    "\n",
    "* **substring** - string whose count is to be found.\n",
    "* **start (Optional)** - starting index within the string where search starts.\n",
    "* **end (Optional)** - ending index within the string where search ends.\n",
    "\n",
    ">**Note:** Index in Python starts from 0, not 1."
   ]
  },
  {
   "cell_type": "markdown",
   "metadata": {},
   "source": [
    "## Return Value from `count()`\n",
    "\n",
    "The **`count()`** method returns the number of occurrences of the substring in the given string."
   ]
  },
  {
   "cell_type": "code",
   "execution_count": 1,
   "metadata": {
    "ExecuteTime": {
     "end_time": "2021-06-23T07:51:14.735947Z",
     "start_time": "2021-06-23T07:51:14.721298Z"
    }
   },
   "outputs": [
    {
     "name": "stdout",
     "output_type": "stream",
     "text": [
      "The count is: 2\n"
     ]
    }
   ],
   "source": [
    "# Example 1: Count number of occurrences of a given substring\n",
    "\n",
    "# define string\n",
    "string = \"Python is awesome, isn't it?\"\n",
    "substring = \"is\"\n",
    "\n",
    "count = string.count(substring)\n",
    "\n",
    "# print count\n",
    "print(\"The count is:\", count)"
   ]
  },
  {
   "cell_type": "code",
   "execution_count": 2,
   "metadata": {
    "ExecuteTime": {
     "end_time": "2021-06-23T07:51:15.769139Z",
     "start_time": "2021-06-23T07:51:15.752542Z"
    }
   },
   "outputs": [
    {
     "name": "stdout",
     "output_type": "stream",
     "text": [
      "The count is: 1\n"
     ]
    }
   ],
   "source": [
    "# Example 2: Count number of occurrences of a given substring using start and end\n",
    "\n",
    "# define string\n",
    "string = \"Python is awesome, isn't it?\"\n",
    "substring = \"i\"\n",
    "\n",
    "# count after first 'i' and before the last 'i'\n",
    "count = string.count(substring, 8, 25)\n",
    "\n",
    "# print count\n",
    "print(\"The count is:\", count)"
   ]
  },
  {
   "cell_type": "markdown",
   "metadata": {},
   "source": [
    "**Explanation:** Here, the counting starts after the first **`i`** has been encountered, i.e. **`7th`** index position.\n",
    "\n",
    "And, it ends before the last **`i`**, i.e. **`25th`** index position."
   ]
  },
  {
   "cell_type": "code",
   "execution_count": 3,
   "metadata": {
    "ExecuteTime": {
     "end_time": "2021-06-23T07:51:17.817468Z",
     "start_time": "2021-06-23T07:51:17.800869Z"
    }
   },
   "outputs": [
    {
     "name": "stdout",
     "output_type": "stream",
     "text": [
      "3\n",
      "2\n",
      "2\n",
      "0\n"
     ]
    }
   ],
   "source": [
    "# Example 3:\n",
    "\n",
    "s=\"I Love Python Tutorial\"\n",
    "print(s.count('o'))      # 3\n",
    "print(s.count('o',5))    # 2\n",
    "print(s.count('t'))      # 2\n",
    "print(s.count('t',2,9))  # 0"
   ]
  },
  {
   "cell_type": "code",
   "execution_count": null,
   "metadata": {},
   "outputs": [],
   "source": []
  }
 ],
 "metadata": {
  "hide_input": false,
  "kernelspec": {
   "display_name": "Python 3",
   "language": "python",
   "name": "python3"
  },
  "language_info": {
   "codemirror_mode": {
    "name": "ipython",
    "version": 3
   },
   "file_extension": ".py",
   "mimetype": "text/x-python",
   "name": "python",
   "nbconvert_exporter": "python",
   "pygments_lexer": "ipython3",
   "version": "3.8.8"
  },
  "toc": {
   "base_numbering": 1,
   "nav_menu": {},
   "number_sections": true,
   "sideBar": true,
   "skip_h1_title": false,
   "title_cell": "Table of Contents",
   "title_sidebar": "Contents",
   "toc_cell": false,
   "toc_position": {},
   "toc_section_display": true,
   "toc_window_display": false
  },
  "varInspector": {
   "cols": {
    "lenName": 16,
    "lenType": 16,
    "lenVar": 40
   },
   "kernels_config": {
    "python": {
     "delete_cmd_postfix": "",
     "delete_cmd_prefix": "del ",
     "library": "var_list.py",
     "varRefreshCmd": "print(var_dic_list())"
    },
    "r": {
     "delete_cmd_postfix": ") ",
     "delete_cmd_prefix": "rm(",
     "library": "var_list.r",
     "varRefreshCmd": "cat(var_dic_list()) "
    }
   },
   "types_to_exclude": [
    "module",
    "function",
    "builtin_function_or_method",
    "instance",
    "_Feature"
   ],
   "window_display": false
  }
 },
 "nbformat": 4,
 "nbformat_minor": 2
}
