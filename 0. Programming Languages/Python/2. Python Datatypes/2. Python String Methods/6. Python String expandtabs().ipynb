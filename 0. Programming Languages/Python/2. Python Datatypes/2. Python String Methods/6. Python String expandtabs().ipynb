{
 "cells": [
  {
   "cell_type": "markdown",
   "metadata": {},
   "source": [
    "<small><small><i>\n",
    "All the IPython Notebooks in this lecture series by Dr. Milan Parmar are available @ **[GitHub](https://github.com/milaan9/02_Python_Datatypes/tree/main/002_Python_String_Methods)**\n",
    "</i></small></small>"
   ]
  },
  {
   "cell_type": "markdown",
   "metadata": {},
   "source": [
    "# Python String `expandtabs()`\n",
    "\n",
    "The **`expandtabs()`** method returns a copy of string with all tab characters **`'\\t'`** replaced with whitespace characters until the next multiple of tabsize parameter.\n",
    "\n",
    "**Syntax**:\n",
    "\n",
    "```python\n",
    "string.expandtabs(tabsize)\n",
    "```"
   ]
  },
  {
   "cell_type": "markdown",
   "metadata": {},
   "source": [
    "## `expandtabs()` Parameters\n",
    "\n",
    "The **`expandtabs()`** method takes an integer **`tabsize`** argument. The default **`tabsize`** is **8**."
   ]
  },
  {
   "cell_type": "markdown",
   "metadata": {},
   "source": [
    "## Return Value from `expandtabs()`\n",
    "\n",
    "The **`expandtabs()`** method returns a string where all **`'\\t'`** characters are replaced with whitespace characters until the next multiple of **`tabsize`** parameter."
   ]
  },
  {
   "cell_type": "code",
   "execution_count": 1,
   "metadata": {
    "ExecuteTime": {
     "end_time": "2021-06-10T18:04:47.837252Z",
     "start_time": "2021-06-10T18:04:47.820211Z"
    }
   },
   "outputs": [
    {
     "name": "stdout",
     "output_type": "stream",
     "text": [
      "xyz     12345   abc\n"
     ]
    }
   ],
   "source": [
    "# Example 1: expandtabs() With no Argument\n",
    "\n",
    "str = 'xyz\\t12345\\tabc'\n",
    "\n",
    "# no argument is passed\n",
    "# default tabsize is 8\n",
    "result = str.expandtabs()\n",
    "\n",
    "print(result)"
   ]
  },
  {
   "cell_type": "markdown",
   "metadata": {},
   "source": [
    "## How `expandtabs()` works in Python?\n",
    "\n",
    "The **`expandtabs()`** method keeps track of the current cursor position.\n",
    "\n",
    "The position of first **`'\\t'`** character in the above program is **3**. And, the **`tabsize`** is **8** (if argument is not passed).\n",
    "\n",
    "The **`expandtabs()`** character replaces the **`'\\t'`** with whitespace until the next tab stop. The position of **`'\\t'`** is **3** and the first tab stop is **8**. Hence, the number of spaces after **'xyz'** is **5**.\n",
    "\n",
    "The next tab stops are the multiples of **`tabsize`**. The next tab stops are **16**, **24**, **32** and so on.\n",
    "\n",
    "Now, the position of second **`'\\t'`** character is **13**. And, the next tab stop is **16**. Hence, there are 3 spaces after **12345**."
   ]
  },
  {
   "cell_type": "code",
   "execution_count": 2,
   "metadata": {
    "ExecuteTime": {
     "end_time": "2021-06-10T18:04:52.882638Z",
     "start_time": "2021-06-10T18:04:52.869977Z"
    }
   },
   "outputs": [
    {
     "name": "stdout",
     "output_type": "stream",
     "text": [
      "Original String: xyz\t12345\tabc\n",
      "Tabsize 2: xyz 12345 abc\n",
      "Tabsize 3: xyz   12345 abc\n",
      "Tabsize 4: xyz 12345   abc\n",
      "Tabsize 5: xyz  12345     abc\n",
      "Tabsize 6: xyz   12345 abc\n"
     ]
    }
   ],
   "source": [
    "# Example 2: expandtabs() With Different Argument\n",
    "\n",
    "str = \"xyz\\t12345\\tabc\"\n",
    "print('Original String:', str)\n",
    "\n",
    "# tabsize is set to 2\n",
    "print('Tabsize 2:', str.expandtabs(2))\n",
    "\n",
    "# tabsize is set to 3\n",
    "print('Tabsize 3:', str.expandtabs(3))\n",
    "\n",
    "# tabsize is set to 4\n",
    "print('Tabsize 4:', str.expandtabs(4))\n",
    "\n",
    "# tabsize is set to 5\n",
    "print('Tabsize 5:', str.expandtabs(5))\n",
    "\n",
    "# tabsize is set to 6\n",
    "print('Tabsize 6:', str.expandtabs(6))"
   ]
  },
  {
   "cell_type": "markdown",
   "metadata": {},
   "source": [
    "**Explanation:** \n",
    "\n",
    "* The default **`tabsize`** is **8**. The tab stops are **8**, **16** and so on. Hence, there is **5** spaces after **'xyz'** and **3** after **'12345'** when you print the original string.\n",
    "\n",
    "\n",
    "* When you set the **`tabsize`** to **2**. The tab stops are **2**, **4**, **6**, **8** and so on. For **'xyz'**, the tab stop is **4**, and for **'12345'**, the tab stop is **10**. Hence, there is **1** space after **'xyz'** and **1** space after **'12345'**.\n",
    "\n",
    "\n",
    "* When you set the **`tabsize`** to **3**. The tab stops are **3**, **6**, **9** and so on. For **'xyz'**, the tab stop is **6**, and for **'12345'**, the tab stop is **12**. Hence, there are **3** spaces after **'xyz'** and **1** space after **'12345'**.\n",
    "\n",
    "\n",
    "* When you set the **`tabsize`** to **4**. The tab stops are **4**, **8**, **12** and so on. For **'xyz'**, the tab stop is **4** and for **'12345'**, the tab stop is **12**. Hence, there is **1** space after **'xyz'** and **3** spaces after **'12345'**.\n",
    "\n",
    "\n",
    "* When you set the **`tabsize`** to **5v. The tab stops are **5**, **10**, **15** and so on. For **'xyz'**, the tab stop is **5** and for **'12345'**, the tab stop is **15**. Hence, there are **2** spaces after **'xyz'** and **5** spaces after **'12345'**.\n",
    "\n",
    "\n",
    "* When you set the **`tabsize`** to **6**. The tab stops are **6**, **12**, **18** and so on. For **'xyz'**, the tab stop is **6** and for **'12345'**, the tab stop is **12**. Hence, there are **3** spaces after **'xyz'** and **1** space after **'12345'**."
   ]
  },
  {
   "cell_type": "code",
   "execution_count": null,
   "metadata": {},
   "outputs": [],
   "source": []
  }
 ],
 "metadata": {
  "hide_input": false,
  "kernelspec": {
   "display_name": "Python 3",
   "language": "python",
   "name": "python3"
  },
  "language_info": {
   "codemirror_mode": {
    "name": "ipython",
    "version": 3
   },
   "file_extension": ".py",
   "mimetype": "text/x-python",
   "name": "python",
   "nbconvert_exporter": "python",
   "pygments_lexer": "ipython3",
   "version": "3.8.8"
  },
  "toc": {
   "base_numbering": 1,
   "nav_menu": {},
   "number_sections": true,
   "sideBar": true,
   "skip_h1_title": false,
   "title_cell": "Table of Contents",
   "title_sidebar": "Contents",
   "toc_cell": false,
   "toc_position": {},
   "toc_section_display": true,
   "toc_window_display": false
  },
  "varInspector": {
   "cols": {
    "lenName": 16,
    "lenType": 16,
    "lenVar": 40
   },
   "kernels_config": {
    "python": {
     "delete_cmd_postfix": "",
     "delete_cmd_prefix": "del ",
     "library": "var_list.py",
     "varRefreshCmd": "print(var_dic_list())"
    },
    "r": {
     "delete_cmd_postfix": ") ",
     "delete_cmd_prefix": "rm(",
     "library": "var_list.r",
     "varRefreshCmd": "cat(var_dic_list()) "
    }
   },
   "types_to_exclude": [
    "module",
    "function",
    "builtin_function_or_method",
    "instance",
    "_Feature"
   ],
   "window_display": false
  }
 },
 "nbformat": 4,
 "nbformat_minor": 2
}
