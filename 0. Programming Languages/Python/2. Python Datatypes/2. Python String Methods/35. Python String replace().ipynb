{
 "cells": [
  {
   "cell_type": "markdown",
   "metadata": {},
   "source": [
    "<small><small><i>\n",
    "All the IPython Notebooks in this lecture series by Dr. Milan Parmar are available @ **[GitHub](https://github.com/milaan9/02_Python_Datatypes/tree/main/002_Python_String_Methods)**\n",
    "</i></small></small>"
   ]
  },
  {
   "cell_type": "markdown",
   "metadata": {},
   "source": [
    "# Python String `replace()`\n",
    "\n",
    "The string **`replace()`** method returns a copy of the string where all occurrences of a substring is replaced with another substring.\n",
    "\n",
    "**Syntax**:\n",
    "\n",
    "```python\n",
    "str.replace(old, new [, count]) \n",
    "```"
   ]
  },
  {
   "cell_type": "markdown",
   "metadata": {
    "heading_collapsed": true
   },
   "source": [
    "## `replace()` Parameters\n",
    "\n",
    "The **`replace()`** method can take maximum of 3 parameters:\n",
    "\n",
    "* **`old`** - old substring you want to replace\n",
    "* **`new`** - new substring which will replace the old substring\n",
    "* **`count`** (optional) - the number of times you want to replace the **`old`** substring with the **`new`** substring\n",
    "\n",
    ">**Note:** If **`count`** is not specified, the **`replace()`** method replaces all occurrences of the **`old`** substring with the **`new`** substring."
   ]
  },
  {
   "cell_type": "markdown",
   "metadata": {},
   "source": [
    "## Return Value from `replace()`\n",
    "\n",
    "The **`replace()`** method returns a copy of the string where the **`old`** substring is replaced with the **`new`** substring. The original string is unchanged.\n",
    "\n",
    "If the **`old`** substring is not found, it returns the copy of the original string."
   ]
  },
  {
   "cell_type": "code",
   "execution_count": 1,
   "metadata": {
    "ExecuteTime": {
     "end_time": "2021-06-23T09:56:09.381186Z",
     "start_time": "2021-06-23T09:56:09.366538Z"
    },
    "scrolled": true
   },
   "outputs": [
    {
     "name": "stdout",
     "output_type": "stream",
     "text": [
      "hurt, hurt heart\n",
      "Let it be, don't let it be, don't let it be, let it be\n"
     ]
    }
   ],
   "source": [
    "# Example 1: Using replace()\n",
    "\n",
    "song = 'cold, cold heart'\n",
    "\n",
    "# replacing 'cold' with 'hurt'\n",
    "print(song.replace('cold', 'hurt'))\n",
    "\n",
    "song = 'Let it be, let it be, let it be, let it be'\n",
    "\n",
    "# replacing only two occurences of 'let'\n",
    "print(song.replace('let', \"don't let\", 2))"
   ]
  },
  {
   "cell_type": "code",
   "execution_count": 2,
   "metadata": {
    "ExecuteTime": {
     "end_time": "2021-06-23T09:56:10.136064Z",
     "start_time": "2021-06-23T09:56:10.125321Z"
    }
   },
   "outputs": [
    {
     "name": "stdout",
     "output_type": "stream",
     "text": [
      "Original string: cold, cold heart\n",
      "Replaced string: celd, celd heart\n",
      "let it be, let it be, let it be\n"
     ]
    }
   ],
   "source": [
    "# Example 2: Using replace()\n",
    "\n",
    "song = 'cold, cold heart'\n",
    "replaced_song = song.replace('o', 'e')\n",
    "\n",
    "# The original string is unchanged\n",
    "print('Original string:', song)\n",
    "\n",
    "print('Replaced string:', replaced_song)\n",
    "\n",
    "song = 'let it be, let it be, let it be'\n",
    "\n",
    "# maximum of 0 substring is replaced\n",
    "# returns copy of the original string\n",
    "print(song.replace('let', 'so', 0))"
   ]
  },
  {
   "cell_type": "code",
   "execution_count": 3,
   "metadata": {
    "ExecuteTime": {
     "end_time": "2021-06-23T09:56:11.014475Z",
     "start_time": "2021-06-23T09:56:11.004710Z"
    }
   },
   "outputs": [
    {
     "name": "stdout",
     "output_type": "stream",
     "text": [
      "I Like Python Tutorial, I Like Life, I Like Coding\n",
      "He Love Python Tutorial, He Love Life, I Love Coding\n"
     ]
    }
   ],
   "source": [
    "# Example 3:\n",
    "\n",
    "s1='I Love Python Tutorial, I Love Life, I Love Coding'\n",
    "print(s1.replace('Love','Like'))\n",
    "print(s1.replace('I','He',2))"
   ]
  },
  {
   "cell_type": "code",
   "execution_count": null,
   "metadata": {},
   "outputs": [],
   "source": []
  }
 ],
 "metadata": {
  "hide_input": false,
  "kernelspec": {
   "display_name": "Python 3",
   "language": "python",
   "name": "python3"
  },
  "language_info": {
   "codemirror_mode": {
    "name": "ipython",
    "version": 3
   },
   "file_extension": ".py",
   "mimetype": "text/x-python",
   "name": "python",
   "nbconvert_exporter": "python",
   "pygments_lexer": "ipython3",
   "version": "3.8.8"
  },
  "toc": {
   "base_numbering": 1,
   "nav_menu": {},
   "number_sections": true,
   "sideBar": true,
   "skip_h1_title": false,
   "title_cell": "Table of Contents",
   "title_sidebar": "Contents",
   "toc_cell": false,
   "toc_position": {},
   "toc_section_display": true,
   "toc_window_display": false
  },
  "varInspector": {
   "cols": {
    "lenName": 16,
    "lenType": 16,
    "lenVar": 40
   },
   "kernels_config": {
    "python": {
     "delete_cmd_postfix": "",
     "delete_cmd_prefix": "del ",
     "library": "var_list.py",
     "varRefreshCmd": "print(var_dic_list())"
    },
    "r": {
     "delete_cmd_postfix": ") ",
     "delete_cmd_prefix": "rm(",
     "library": "var_list.r",
     "varRefreshCmd": "cat(var_dic_list()) "
    }
   },
   "types_to_exclude": [
    "module",
    "function",
    "builtin_function_or_method",
    "instance",
    "_Feature"
   ],
   "window_display": false
  }
 },
 "nbformat": 4,
 "nbformat_minor": 2
}
