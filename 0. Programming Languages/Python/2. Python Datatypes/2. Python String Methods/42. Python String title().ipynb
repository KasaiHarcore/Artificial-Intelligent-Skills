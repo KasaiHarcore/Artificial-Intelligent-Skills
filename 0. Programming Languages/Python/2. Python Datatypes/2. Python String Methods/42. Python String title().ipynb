{
 "cells": [
  {
   "cell_type": "markdown",
   "metadata": {},
   "source": [
    "<small><small><i>\n",
    "All the IPython Notebooks in this lecture series by Dr. Milan Parmar are available @ **[GitHub](https://github.com/milaan9/02_Python_Datatypes/tree/main/002_Python_String_Methods)**\n",
    "</i></small></small>"
   ]
  },
  {
   "cell_type": "markdown",
   "metadata": {},
   "source": [
    "# Python String `title()`\n",
    "\n",
    "The string **`title()`** method returns a string with first letter of each word capitalized; a title cased string.\n",
    "\n",
    "**Syntax**:\n",
    "\n",
    "```python\n",
    "str.title()\n",
    "```"
   ]
  },
  {
   "cell_type": "markdown",
   "metadata": {
    "heading_collapsed": true
   },
   "source": [
    "## `title()` Parameters\n",
    "\n",
    "The **`title()`** method doesn't take any parameters."
   ]
  },
  {
   "cell_type": "markdown",
   "metadata": {},
   "source": [
    "## Return Value from `title()`\n",
    "\n",
    "The **`title()`** method returns a title cased version of the string. Meaning, the first character of each word is capitalized (if the first character is a letter)."
   ]
  },
  {
   "cell_type": "code",
   "execution_count": 1,
   "metadata": {
    "ExecuteTime": {
     "end_time": "2021-06-10T18:16:39.103900Z",
     "start_time": "2021-06-10T18:16:39.089292Z"
    },
    "scrolled": true
   },
   "outputs": [
    {
     "name": "stdout",
     "output_type": "stream",
     "text": [
      "My Favorite Number Is 99.\n",
      "963 K3L2 *63 Fun\n"
     ]
    }
   ],
   "source": [
    "# Example 1: How Python title() works?\n",
    "\n",
    "text = 'My favorite number is 99.'\n",
    "print(text.title())\n",
    "\n",
    "text = '963 k3l2 *63 fun'\n",
    "print(text.title())"
   ]
  },
  {
   "cell_type": "code",
   "execution_count": 2,
   "metadata": {
    "ExecuteTime": {
     "end_time": "2021-06-10T18:16:39.744677Z",
     "start_time": "2021-06-10T18:16:39.734937Z"
    }
   },
   "outputs": [
    {
     "name": "stdout",
     "output_type": "stream",
     "text": [
      "He'S An Engineer, Isn'T He?\n"
     ]
    }
   ],
   "source": [
    "# Example 2: title() with apostrophes\n",
    "\n",
    "text = \"He's an engineer, isn't he?\"\n",
    "print(text.title())"
   ]
  },
  {
   "cell_type": "markdown",
   "metadata": {},
   "source": [
    ">**Note:** **`title()`** capitalizes the first letter after apostrophes as well.\n",
    "\n",
    "To solve this issue, you can use regex as follows:"
   ]
  },
  {
   "cell_type": "code",
   "execution_count": 3,
   "metadata": {
    "ExecuteTime": {
     "end_time": "2021-06-10T18:16:41.072488Z",
     "start_time": "2021-06-10T18:16:41.059828Z"
    }
   },
   "outputs": [
    {
     "name": "stdout",
     "output_type": "stream",
     "text": [
      "He's An Engineer, Isn't He?\n"
     ]
    }
   ],
   "source": [
    "# Example 3: Using Regex to Title Case String\n",
    "\n",
    "import re\n",
    "\n",
    "def titlecase(s):\n",
    "    return re.sub(r\"[A-Za-z]+('[A-Za-z]+)?\",\n",
    "     lambda mo: mo.group(0)[0].upper() +\n",
    "     mo.group(0)[1:].lower(),\n",
    "     s)\n",
    "\n",
    "text = \"He's an engineer, isn't he?\"\n",
    "print(titlecase(text))"
   ]
  },
  {
   "cell_type": "code",
   "execution_count": null,
   "metadata": {},
   "outputs": [],
   "source": []
  }
 ],
 "metadata": {
  "hide_input": false,
  "kernelspec": {
   "display_name": "Python 3",
   "language": "python",
   "name": "python3"
  },
  "language_info": {
   "codemirror_mode": {
    "name": "ipython",
    "version": 3
   },
   "file_extension": ".py",
   "mimetype": "text/x-python",
   "name": "python",
   "nbconvert_exporter": "python",
   "pygments_lexer": "ipython3",
   "version": "3.8.8"
  },
  "toc": {
   "base_numbering": 1,
   "nav_menu": {},
   "number_sections": true,
   "sideBar": true,
   "skip_h1_title": false,
   "title_cell": "Table of Contents",
   "title_sidebar": "Contents",
   "toc_cell": false,
   "toc_position": {},
   "toc_section_display": true,
   "toc_window_display": false
  },
  "varInspector": {
   "cols": {
    "lenName": 16,
    "lenType": 16,
    "lenVar": 40
   },
   "kernels_config": {
    "python": {
     "delete_cmd_postfix": "",
     "delete_cmd_prefix": "del ",
     "library": "var_list.py",
     "varRefreshCmd": "print(var_dic_list())"
    },
    "r": {
     "delete_cmd_postfix": ") ",
     "delete_cmd_prefix": "rm(",
     "library": "var_list.r",
     "varRefreshCmd": "cat(var_dic_list()) "
    }
   },
   "types_to_exclude": [
    "module",
    "function",
    "builtin_function_or_method",
    "instance",
    "_Feature"
   ],
   "window_display": false
  }
 },
 "nbformat": 4,
 "nbformat_minor": 2
}
