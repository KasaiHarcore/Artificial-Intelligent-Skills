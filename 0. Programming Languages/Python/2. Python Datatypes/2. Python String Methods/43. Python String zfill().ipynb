{
 "cells": [
  {
   "cell_type": "markdown",
   "metadata": {},
   "source": [
    "<small><small><i>\n",
    "All the IPython Notebooks in this lecture series by Dr. Milan Parmar are available @ **[GitHub](https://github.com/milaan9/02_Python_Datatypes/tree/main/002_Python_String_Methods)**\n",
    "</i></small></small>"
   ]
  },
  {
   "cell_type": "markdown",
   "metadata": {},
   "source": [
    "# Python String `zfill()`\n",
    "\n",
    "The string **`zfill()`** method returns a copy of the string with '0' characters padded to the left.\n",
    "\n",
    "**Syntax**:\n",
    "\n",
    "```python\n",
    "str.zfill(width)\n",
    "```"
   ]
  },
  {
   "cell_type": "markdown",
   "metadata": {
    "heading_collapsed": true
   },
   "source": [
    "## `zfill()` Parameters\n",
    "\n",
    "The **`zfill()`** method takes a single character width.\n",
    "\n",
    "The **`width`** specifies the length of the returned string from **`zfill()`** with **`0`** digits filled to the left."
   ]
  },
  {
   "cell_type": "markdown",
   "metadata": {},
   "source": [
    "## Return Value from `zfill()`\n",
    "\n",
    "The **`zfill()`** method returns a copy of the string with **`0`** filled to the left. The length of the returned string depends on the **`width`** provided.\n",
    "\n",
    "* Suppose, the initial length of the string is 10. And, the **`width`** is specified 15. In this case, **`zfill()`** returns a copy of the string with five '0' digits filled to the left.\n",
    "* Suppose, the initial length of the string is 10. And, the **`width`** is specified 8. In this case, **`zfill()`** doesn't fill '0' digits to the left and returns a copy of the original string. The length of the returned string in this case will be 10."
   ]
  },
  {
   "cell_type": "code",
   "execution_count": 1,
   "metadata": {
    "ExecuteTime": {
     "end_time": "2021-06-10T18:16:54.223013Z",
     "start_time": "2021-06-10T18:16:54.207430Z"
    },
    "scrolled": false
   },
   "outputs": [
    {
     "name": "stdout",
     "output_type": "stream",
     "text": [
      "0program is fun\n",
      "000000program is fun\n",
      "program is fun\n"
     ]
    }
   ],
   "source": [
    "# Example 1: How zfill() works in Python?\n",
    "\n",
    "text = \"program is fun\"\n",
    "print(text.zfill(15))\n",
    "print(text.zfill(20))\n",
    "print(text.zfill(10))"
   ]
  },
  {
   "cell_type": "markdown",
   "metadata": {},
   "source": [
    ">**Note:** If a string starts with the sign prefix **`('+', '-')`**, **`0`** digits are filled after the first sign prefix character."
   ]
  },
  {
   "cell_type": "code",
   "execution_count": 2,
   "metadata": {
    "ExecuteTime": {
     "end_time": "2021-06-10T18:16:55.830310Z",
     "start_time": "2021-06-10T18:16:55.818624Z"
    }
   },
   "outputs": [
    {
     "name": "stdout",
     "output_type": "stream",
     "text": [
      "-0000690\n",
      "+0000690\n",
      "-0000000-random+text\n"
     ]
    }
   ],
   "source": [
    "# Example 2: How zfill() works with Sign Prefix?\n",
    "\n",
    "number = \"-690\"\n",
    "print(number.zfill(8))\n",
    "\n",
    "number = \"+690\"\n",
    "print(number.zfill(8))\n",
    "\n",
    "text = \"--random+text\"\n",
    "print(text.zfill(20))"
   ]
  },
  {
   "cell_type": "code",
   "execution_count": null,
   "metadata": {},
   "outputs": [],
   "source": []
  }
 ],
 "metadata": {
  "hide_input": false,
  "kernelspec": {
   "display_name": "Python 3",
   "language": "python",
   "name": "python3"
  },
  "language_info": {
   "codemirror_mode": {
    "name": "ipython",
    "version": 3
   },
   "file_extension": ".py",
   "mimetype": "text/x-python",
   "name": "python",
   "nbconvert_exporter": "python",
   "pygments_lexer": "ipython3",
   "version": "3.8.8"
  },
  "toc": {
   "base_numbering": 1,
   "nav_menu": {},
   "number_sections": true,
   "sideBar": true,
   "skip_h1_title": false,
   "title_cell": "Table of Contents",
   "title_sidebar": "Contents",
   "toc_cell": false,
   "toc_position": {},
   "toc_section_display": true,
   "toc_window_display": false
  },
  "varInspector": {
   "cols": {
    "lenName": 16,
    "lenType": 16,
    "lenVar": 40
   },
   "kernels_config": {
    "python": {
     "delete_cmd_postfix": "",
     "delete_cmd_prefix": "del ",
     "library": "var_list.py",
     "varRefreshCmd": "print(var_dic_list())"
    },
    "r": {
     "delete_cmd_postfix": ") ",
     "delete_cmd_prefix": "rm(",
     "library": "var_list.r",
     "varRefreshCmd": "cat(var_dic_list()) "
    }
   },
   "types_to_exclude": [
    "module",
    "function",
    "builtin_function_or_method",
    "instance",
    "_Feature"
   ],
   "window_display": false
  }
 },
 "nbformat": 4,
 "nbformat_minor": 2
}
