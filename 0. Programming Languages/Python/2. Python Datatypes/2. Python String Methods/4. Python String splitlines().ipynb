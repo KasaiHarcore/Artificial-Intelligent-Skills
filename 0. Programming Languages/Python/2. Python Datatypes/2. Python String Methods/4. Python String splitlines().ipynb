{
 "cells": [
  {
   "cell_type": "markdown",
   "metadata": {},
   "source": [
    "<small><small><i>\n",
    "All the IPython Notebooks in this lecture series by Dr. Milan Parmar are available @ **[GitHub](https://github.com/milaan9/02_Python_Datatypes/tree/main/002_Python_String_Methods)**\n",
    "</i></small></small>"
   ]
  },
  {
   "cell_type": "markdown",
   "metadata": {},
   "source": [
    "# Python String `splitlines()`\n",
    "\n",
    "The string **`splitlines()`** method splits the string at line breaks and returns a list of lines in the string.\n",
    "\n",
    "**Syntax**:\n",
    "\n",
    "```python\n",
    "str.splitlines([keepends])\n",
    "```"
   ]
  },
  {
   "cell_type": "markdown",
   "metadata": {
    "heading_collapsed": true
   },
   "source": [
    "## `splitlines()` Parameters\n",
    "\n",
    "The **`splitlines()`** method takes maximum of 1 parameter:\n",
    "\n",
    "* **`keepends`** (optional)- If **`keepends`** is provided and **`True`**, line breaks are also included in items of the list.\n",
    "\n",
    "By default, the line breaks are not included."
   ]
  },
  {
   "cell_type": "markdown",
   "metadata": {},
   "source": [
    "## Return Value from `splitlines()`\n",
    "\n",
    "The **`splitlines()`** method returns a list of lines in the string.\n",
    "\n",
    "If there are not line break characters, it returns a list with a single item (a single line)."
   ]
  },
  {
   "cell_type": "markdown",
   "metadata": {},
   "source": [
    "| Representation | Description |\n",
    "|:----| :--- |\n",
    "| **`\\n`**               | **Line Feed** | \n",
    "| **`\\r`**               | **Carriage Return** | \n",
    "| **`\\r\\n`**             | **Carriage Return + Line Feed** | \n",
    "| **`\\v`** or **`\\x0b`** | **Line Tabulation** | \n",
    "| **`\\f`** or **`\\x0c`** | **Form Feed** | \n",
    "| **`\\x1c`**             | **File Separator** | \n",
    "| **`\\x1d`**             | **Group Separator** | \n",
    "| **`\\x1e`**             | **Record Separator** | \n",
    "| **`\\x85`**             | **Next Line (C1 Control Code)** | \n",
    "| **`\\u2028`**           | **Line Separator** | \n",
    "| **`\\u2029`**           | **Paragraph Separator** | "
   ]
  },
  {
   "cell_type": "code",
   "execution_count": 1,
   "metadata": {
    "ExecuteTime": {
     "end_time": "2021-06-10T18:16:15.018784Z",
     "start_time": "2021-06-10T18:16:14.996390Z"
    },
    "scrolled": true
   },
   "outputs": [
    {
     "name": "stdout",
     "output_type": "stream",
     "text": [
      "['Milk', 'Coffee', 'Bread', 'Butter']\n",
      "['Milk\\n', 'Coffee\\r\\n', 'Bread\\r', 'Butter']\n",
      "['Milk Coffee Bread Butter']\n"
     ]
    }
   ],
   "source": [
    "# Example 1: How splitlines() works?\n",
    "\n",
    "grocery = 'Milk\\nCoffee\\r\\nBread\\rButter'\n",
    "\n",
    "print(grocery.splitlines())\n",
    "print(grocery.splitlines(True))\n",
    "\n",
    "grocery = 'Milk Coffee Bread Butter'\n",
    "print(grocery.splitlines())"
   ]
  },
  {
   "cell_type": "code",
   "execution_count": null,
   "metadata": {},
   "outputs": [],
   "source": []
  }
 ],
 "metadata": {
  "hide_input": false,
  "kernelspec": {
   "display_name": "Python 3",
   "language": "python",
   "name": "python3"
  },
  "language_info": {
   "codemirror_mode": {
    "name": "ipython",
    "version": 3
   },
   "file_extension": ".py",
   "mimetype": "text/x-python",
   "name": "python",
   "nbconvert_exporter": "python",
   "pygments_lexer": "ipython3",
   "version": "3.8.8"
  },
  "toc": {
   "base_numbering": 1,
   "nav_menu": {},
   "number_sections": true,
   "sideBar": true,
   "skip_h1_title": false,
   "title_cell": "Table of Contents",
   "title_sidebar": "Contents",
   "toc_cell": false,
   "toc_position": {},
   "toc_section_display": true,
   "toc_window_display": false
  },
  "varInspector": {
   "cols": {
    "lenName": 16,
    "lenType": 16,
    "lenVar": 40
   },
   "kernels_config": {
    "python": {
     "delete_cmd_postfix": "",
     "delete_cmd_prefix": "del ",
     "library": "var_list.py",
     "varRefreshCmd": "print(var_dic_list())"
    },
    "r": {
     "delete_cmd_postfix": ") ",
     "delete_cmd_prefix": "rm(",
     "library": "var_list.r",
     "varRefreshCmd": "cat(var_dic_list()) "
    }
   },
   "types_to_exclude": [
    "module",
    "function",
    "builtin_function_or_method",
    "instance",
    "_Feature"
   ],
   "window_display": false
  }
 },
 "nbformat": 4,
 "nbformat_minor": 2
}
