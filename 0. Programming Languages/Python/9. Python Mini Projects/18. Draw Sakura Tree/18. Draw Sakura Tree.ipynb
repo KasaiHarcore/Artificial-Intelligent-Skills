{
 "cells": [
  {
   "cell_type": "markdown",
   "metadata": {},
   "source": [
    "<small><small><i>\n",
    "All the IPython Notebooks in **Python Mini-Projects** series by Dr. Milaan Parmar are available @ **[GitHub](https://github.com/milaan9/91_Python_Mini_Projects)**\n",
    "</i></small></small>"
   ]
  },
  {
   "cell_type": "markdown",
   "metadata": {},
   "source": [
    "# Python Program to draw Sakura Tree"
   ]
  },
  {
   "cell_type": "code",
   "execution_count": 1,
   "metadata": {
    "ExecuteTime": {
     "end_time": "2021-09-21T08:32:47.179568Z",
     "start_time": "2021-09-21T08:32:37.930039Z"
    }
   },
   "outputs": [],
   "source": [
    "'''\n",
    "Python Program to Create Digital Clock\n",
    "'''\n",
    "\n",
    "# Import necessary modules!\n",
    "import turtle\n",
    "import random\n",
    "from turtle import *\n",
    "from time import sleep\n",
    "\n",
    "static_turtle = turtle.Turtle()\n",
    "frame = turtle.Screen()\n",
    "\n",
    "def tree(branch_len, inner_turtle):\n",
    "    if branch_len > 3:\n",
    "        if 9 <= branch_len <= 12:\n",
    "            if random.randint(0, 2) == 0:\n",
    "                inner_turtle.color(\"snow\")\n",
    "            else:\n",
    "                inner_turtle.color(\"lightcoral\")\n",
    "            inner_turtle.pensize(branch_len / 3)\n",
    "        elif branch_len < 9:\n",
    "            if random.randint(0, 1) == 0:\n",
    "                inner_turtle.color(\"snow\")\n",
    "            else:\n",
    "                inner_turtle.color(\"lightcoral\")\n",
    "            inner_turtle.pensize(branch_len / 2)\n",
    "        else:\n",
    "            inner_turtle.color(\"sienna\")\n",
    "            inner_turtle.pensize(branch_len / 10)\n",
    "\n",
    "        inner_turtle.forward(branch_len)\n",
    "        angle_elem = 1.5 * random.random()\n",
    "        inner_turtle.right(20 * angle_elem)\n",
    "        length_elem = 1.5 * random.random()\n",
    "        tree(branch_len - 10 * length_elem, inner_turtle)\n",
    "        inner_turtle.left(40 * angle_elem)\n",
    "        tree(branch_len - 10 * length_elem, inner_turtle)\n",
    "        inner_turtle.right(20 * angle_elem)\n",
    "        inner_turtle.up()\n",
    "        inner_turtle.backward(branch_len)\n",
    "        inner_turtle.down()\n",
    "        \n",
    "def petal(maxim, inner_turtle):\n",
    "    for i in range(maxim):\n",
    "        right_branch = 300 - 500 * random.random()\n",
    "        left_branch = 30 - 50 * random.random()\n",
    "        inner_turtle.up()\n",
    "        inner_turtle.forward(left_branch)\n",
    "        inner_turtle.left(90)\n",
    "        inner_turtle.forward(right_branch)\n",
    "        inner_turtle.down()\n",
    "        inner_turtle.color(\"lightcoral\")\n",
    "        inner_turtle.circle(1)\n",
    "        inner_turtle.up()\n",
    "        inner_turtle.backward(right_branch)\n",
    "        inner_turtle.right(90)\n",
    "        inner_turtle.backward(left_branch)\n",
    "        \n",
    "if __name__ == '__main__':\n",
    "    static_turtle = turtle.Turtle()\n",
    "    my_frame = turtle.Screen()\n",
    "    getscreen().tracer(5, 0)\n",
    "    turtle.screensize(bg=\"#f3cef5\") \n",
    "    static_turtle.left(90)\n",
    "    static_turtle.up()\n",
    "    static_turtle.backward(150)\n",
    "    static_turtle.down()\n",
    "    static_turtle.color(\"sienna\") \n",
    "    tree(60, static_turtle)\n",
    "    petal(100, static_turtle)\n",
    "    my_frame.exitonclick()        "
   ]
  },
  {
   "cell_type": "markdown",
   "metadata": {},
   "source": [
    "<p align=\"center\">  \n",
    " <img src=\"sakura.png\" width=\"800\"/>\n",
    "</p>  "
   ]
  },
  {
   "cell_type": "code",
   "execution_count": null,
   "metadata": {},
   "outputs": [],
   "source": []
  }
 ],
 "metadata": {
  "hide_input": false,
  "kernelspec": {
   "display_name": "Python 3",
   "language": "python",
   "name": "python3"
  },
  "language_info": {
   "codemirror_mode": {
    "name": "ipython",
    "version": 3
   },
   "file_extension": ".py",
   "mimetype": "text/x-python",
   "name": "python",
   "nbconvert_exporter": "python",
   "pygments_lexer": "ipython3",
   "version": "3.8.8"
  },
  "toc": {
   "base_numbering": 1,
   "nav_menu": {},
   "number_sections": true,
   "sideBar": true,
   "skip_h1_title": false,
   "title_cell": "Table of Contents",
   "title_sidebar": "Contents",
   "toc_cell": false,
   "toc_position": {},
   "toc_section_display": true,
   "toc_window_display": false
  },
  "varInspector": {
   "cols": {
    "lenName": 16,
    "lenType": 16,
    "lenVar": 40
   },
   "kernels_config": {
    "python": {
     "delete_cmd_postfix": "",
     "delete_cmd_prefix": "del ",
     "library": "var_list.py",
     "varRefreshCmd": "print(var_dic_list())"
    },
    "r": {
     "delete_cmd_postfix": ") ",
     "delete_cmd_prefix": "rm(",
     "library": "var_list.r",
     "varRefreshCmd": "cat(var_dic_list()) "
    }
   },
   "types_to_exclude": [
    "module",
    "function",
    "builtin_function_or_method",
    "instance",
    "_Feature"
   ],
   "window_display": false
  }
 },
 "nbformat": 4,
 "nbformat_minor": 4
}
