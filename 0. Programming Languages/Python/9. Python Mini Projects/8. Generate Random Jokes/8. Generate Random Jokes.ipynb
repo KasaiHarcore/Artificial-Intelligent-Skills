{
 "cells": [
  {
   "cell_type": "markdown",
   "metadata": {},
   "source": [
    "<small><small><i>\n",
    "All the IPython Notebooks in Python Mini-Projects series by Dr. Milan Parmar are available @ **[GitHub](https://github.com/milaan9/91_Python_Mini_Projects)**\n",
    "</i></small></small>"
   ]
  },
  {
   "cell_type": "markdown",
   "metadata": {},
   "source": [
    "# Python Program to Generate Random Jokes"
   ]
  },
  {
   "cell_type": "markdown",
   "metadata": {},
   "source": [
    "There are two methods in **`pyjokes`**:\n",
    "\n",
    "1. **`get_joke()`**\n",
    "\n",
    "**Function:** It only returns one joke at a time. It is generated randomly.\n",
    "\n",
    "**Parameters:** It has two parameters- **`language`** and **`category`**.\n",
    "\n",
    "**Return Type:** It returns string type (str).\n",
    "\n",
    "---\n",
    "\n",
    "2. **`get_jokes()`**\n",
    "\n",
    "**Function:** It returns a list of jokes.\n",
    "\n",
    "**Parameters:** The parameters are the same as above- **`language`** and **`category`**.\n",
    "\n",
    "**Return Type:** It returns a list."
   ]
  },
  {
   "cell_type": "code",
   "execution_count": 1,
   "metadata": {
    "ExecuteTime": {
     "end_time": "2021-07-24T11:51:31.264784Z",
     "start_time": "2021-07-24T11:51:31.036264Z"
    }
   },
   "outputs": [
    {
     "name": "stdout",
     "output_type": "stream",
     "text": [
      "How many programmers does it take to kill a cockroach? Two: one holds, the other installs Windows on it. \n",
      "\n",
      "What's the object-oriented way to become wealthy? Inheritance. \n",
      "\n",
      "1 . Complaining about the lack of smoking shelters, the nicotine addicted Python programmers said there ought to be 'spaces for tabs'. \n",
      "\n",
      "2 . Ubuntu users are apt to get this joke. \n",
      "\n",
      "3 . Obfuscated Reality Mappers (ORMs) can be useful database tools. \n",
      "\n",
      "4 . Asked to explain Unicode during an interview, Geoff went into detail about his final year university project. He was not hired. \n",
      "\n",
      "5 . Triumphantly, Beth removed Python 2.7 from her server in 2030. 'Finally!' she said with glee, only to see the announcement for Python 4.4. \n",
      "\n"
     ]
    }
   ],
   "source": [
    "'''\n",
    "Python Program to Generate Random Jokes\n",
    "'''\n",
    "\n",
    "# Import the necessary package\n",
    "import pyjokes\n",
    "\n",
    "# Fetch the joke\n",
    "joke1 = pyjokes.get_joke(language=\"en\", category=\"all\")\n",
    "\n",
    "# Display the joke\n",
    "print(joke1,\"\\n\")\n",
    "\n",
    "# Different category\n",
    "joke2 = pyjokes.get_joke(language=\"en\", category=\"neutral\")\n",
    "\n",
    "# Display the joke\n",
    "print(joke2,\"\\n\")\n",
    "\n",
    "# Fetch multiple jokes\n",
    "jokes = pyjokes.get_jokes(language=\"en\", category=\"neutral\")\n",
    "\n",
    "for i in range(5):\n",
    "    print(i+1,\".\",jokes[i],\"\\n\")"
   ]
  },
  {
   "cell_type": "code",
   "execution_count": null,
   "metadata": {},
   "outputs": [],
   "source": []
  }
 ],
 "metadata": {
  "hide_input": false,
  "kernelspec": {
   "display_name": "Python 3",
   "language": "python",
   "name": "python3"
  },
  "language_info": {
   "codemirror_mode": {
    "name": "ipython",
    "version": 3
   },
   "file_extension": ".py",
   "mimetype": "text/x-python",
   "name": "python",
   "nbconvert_exporter": "python",
   "pygments_lexer": "ipython3",
   "version": "3.8.8"
  },
  "toc": {
   "base_numbering": 1,
   "nav_menu": {},
   "number_sections": true,
   "sideBar": true,
   "skip_h1_title": false,
   "title_cell": "Table of Contents",
   "title_sidebar": "Contents",
   "toc_cell": false,
   "toc_position": {},
   "toc_section_display": true,
   "toc_window_display": false
  },
  "varInspector": {
   "cols": {
    "lenName": 16,
    "lenType": 16,
    "lenVar": 40
   },
   "kernels_config": {
    "python": {
     "delete_cmd_postfix": "",
     "delete_cmd_prefix": "del ",
     "library": "var_list.py",
     "varRefreshCmd": "print(var_dic_list())"
    },
    "r": {
     "delete_cmd_postfix": ") ",
     "delete_cmd_prefix": "rm(",
     "library": "var_list.r",
     "varRefreshCmd": "cat(var_dic_list()) "
    }
   },
   "types_to_exclude": [
    "module",
    "function",
    "builtin_function_or_method",
    "instance",
    "_Feature"
   ],
   "window_display": false
  }
 },
 "nbformat": 4,
 "nbformat_minor": 2
}
