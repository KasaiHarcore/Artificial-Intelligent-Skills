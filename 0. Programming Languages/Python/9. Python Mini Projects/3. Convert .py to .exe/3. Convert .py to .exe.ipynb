{
 "cells": [
  {
   "cell_type": "markdown",
   "metadata": {},
   "source": [
    "<small><small><i>\n",
    "All the IPython Notebooks in Python Mini-Projects series by Dr. Milan Parmar are available @ **[GitHub](https://github.com/milaan9/91_Python_Mini_Projects)**\n",
    "</i></small></small>"
   ]
  },
  {
   "cell_type": "markdown",
   "metadata": {},
   "source": [
    "# Convert .py to .exe file format\n",
    "\n",
    "A **`.py`** to **`.exe`** converter using a simple graphical interface and **[PyInstaller](https://www.pyinstaller.org/)** in Python."
   ]
  },
  {
   "cell_type": "markdown",
   "metadata": {},
   "source": [
    "## Pre-requisites\n",
    "\n",
    "**Python : 3.5-3.9**\n",
    "\n",
    "To have the interface displayed in the images, you will need chrome. If chrome is not installed or --no-chrome is supplied, the default browser will be used.\n",
    "\n",
    ">**Note:** As of **[PyInstaller 4.0](https://github.com/pyinstaller/pyinstaller/releases/tag/v4.0)**, Python 2.7 is no longer supported. Read **[Python 2.7 Support](https://pypi.org/project/auto-py-to-exe/#python-27-support)** below for steps on how to use this tool with Python 2.7."
   ]
  },
  {
   "cell_type": "markdown",
   "metadata": {},
   "source": [
    "## Open your Anaconda Command Promt and type:\n",
    "\n",
    "**`pip install auto-py-to-exe`**\n",
    "\n",
    "Then to run it, execute the following in the terminal:\n",
    "\n",
    "**`auto-py-to-exe`**"
   ]
  },
  {
   "cell_type": "markdown",
   "metadata": {},
   "source": [
    "## Using the Application\n",
    "\n",
    "1. At first you will see empty console\n",
    "<br>\n",
    "<br>\n",
    "<div>\n",
    "<img src=\"img/py2exe1.png\" width=\"500\"/>\n",
    "</div>\n",
    "<br>\n",
    "<br>\n",
    "1. Select your script location (paste in or use a file explorer)\n",
    "    - Outline will become blue when file exists  \n",
    "<br>\n",
    "<br>\n",
    "<div>\n",
    "<img src=\"img/py2exe2.png\" width=\"500\"/>\n",
    "</div> \n",
    "<br>\n",
    "<br>\n",
    "2. Select other options and add things like an other files and output location\n",
    "<br>\n",
    "<br>\n",
    "<div>\n",
    "<img src=\"img/py2exe3.png\" width=\"500\"/>\n",
    "</div>\n",
    "<br>\n",
    "<br>\n",
    "3. Click the big blue button at the bottom to convert\n",
    "<br>\n",
    "<br>\n",
    "<div>\n",
    "<img src=\"img/py2exe4.png\" width=\"500\"/>\n",
    "</div>\n",
    "<br>\n",
    "<br>\n",
    "4. Find your converted files in /output when completed\n",
    "<br>\n",
    "<br>\n",
    "<div>\n",
    "<img src=\"img/py2exe5.png\" width=\"500\"/>\n",
    "</div>"
   ]
  },
  {
   "cell_type": "code",
   "execution_count": null,
   "metadata": {},
   "outputs": [],
   "source": []
  }
 ],
 "metadata": {
  "hide_input": false,
  "kernelspec": {
   "display_name": "Python 3",
   "language": "python",
   "name": "python3"
  },
  "language_info": {
   "codemirror_mode": {
    "name": "ipython",
    "version": 3
   },
   "file_extension": ".py",
   "mimetype": "text/x-python",
   "name": "python",
   "nbconvert_exporter": "python",
   "pygments_lexer": "ipython3",
   "version": "3.8.8"
  },
  "toc": {
   "base_numbering": 1,
   "nav_menu": {},
   "number_sections": true,
   "sideBar": true,
   "skip_h1_title": false,
   "title_cell": "Table of Contents",
   "title_sidebar": "Contents",
   "toc_cell": false,
   "toc_position": {},
   "toc_section_display": true,
   "toc_window_display": false
  },
  "varInspector": {
   "cols": {
    "lenName": 16,
    "lenType": 16,
    "lenVar": 40
   },
   "kernels_config": {
    "python": {
     "delete_cmd_postfix": "",
     "delete_cmd_prefix": "del ",
     "library": "var_list.py",
     "varRefreshCmd": "print(var_dic_list())"
    },
    "r": {
     "delete_cmd_postfix": ") ",
     "delete_cmd_prefix": "rm(",
     "library": "var_list.r",
     "varRefreshCmd": "cat(var_dic_list()) "
    }
   },
   "types_to_exclude": [
    "module",
    "function",
    "builtin_function_or_method",
    "instance",
    "_Feature"
   ],
   "window_display": false
  }
 },
 "nbformat": 4,
 "nbformat_minor": 2
}
