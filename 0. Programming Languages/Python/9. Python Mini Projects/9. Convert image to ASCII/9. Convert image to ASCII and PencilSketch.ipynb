{
 "cells": [
  {
   "cell_type": "markdown",
   "metadata": {},
   "source": [
    "<small><small><i>\n",
    "All the IPython Notebooks in **Python Mini-Projects** series by Dr. Milaan Parmar are available @ **[GitHub](https://github.com/milaan9/91_Python_Mini_Projects)**\n",
    "</i></small></small>"
   ]
  },
  {
   "cell_type": "markdown",
   "metadata": {},
   "source": [
    "# Python Program to Convert Image to ASCII"
   ]
  },
  {
   "cell_type": "code",
   "execution_count": 1,
   "metadata": {
    "ExecuteTime": {
     "end_time": "2021-09-10T18:00:51.007067Z",
     "start_time": "2021-09-10T18:00:44.931408Z"
    }
   },
   "outputs": [
    {
     "name": "stdout",
     "output_type": "stream",
     "text": [
      "Let's convert image to ASCII symbols!\n"
     ]
    },
    {
     "data": {
      "text/plain": [
       "'................................................................................\\n..........................................::!!!!::::............................\\n.......................................:*%@@@&&&&&&@$!:.........................\\n..............................:::::!*%$@&@@@@&&&#####&@*........................\\n...........................:*$@&#####&&@@@@@@&&&#####&&@%:......................\\n.........................:$&###SSS#&&&&&@&#&&&###&&###&&&%:.....................\\n.........................!####SS#&&####@&#S#&&####&&&&&&&&$*!:..................\\n....................::!%$#S#@#SS#&#SSS&&SSSSS##SS#&#&&&&&&@&&@*:................\\n.................:*@#SS***SS&#SSS&#SS#&SSSSSSSSSS#&##&&&&&@&&&&@*:..............\\n.................!S*******SS#&SSS#&#S#SS#@##SSSSS#S###@&&&&&&&&&@:..............\\n.................!SSSS*****SS##SS###&#*S#&###S#SSS#$##&&&&&&&&&@$...............\\n.................!#SSSS****SS##&#S####SS###@@@##&@@&S#&&@&&&&&&@*...............\\n..................@S#SSS****SS##&@#####&&&&&&&&@&&#S##&&&&&&&&@*................\\n..................!#####SS**SSS##&@&#S######&&&##SS#&&&#&&&&@%!.................\\n...................!&S####S**SSSSS#&@&#S######&&@$$$@&##&&@$!...................\\n.....................*&######S*SSSSSS#&&&##&@@$%%%$@&&&&@$*..........::.........\\n.......................!*%*@&&#SSSSSSSS#&&&&&@$%$@&&&@$%***:.......:!:..........\\n...........................@#&&&#SSSSSSSS#&@@@$@&&&@%******:.....:!!:...........\\n...........................*SS&&&&#SSSSSS###&@@&&&$********:..:!**:.............\\n............................&*S##&&&#SSSS#####&&&%***********%$%!...............\\n............................!#*SSS#&@&#SS#####&&&@%*******$@@%!.................\\n.............................!#SSSSS#&&&######&&&&@%*****$$*:...................\\n.......................::::...:@SSSSSS##&###S#$$$@@%*%%%%*:.....................\\n.......................:::!!!*%$&#SS######&##S@$&@%%%*!:........................\\n...........................:!*%$@&&#&&&&@$&##SS&@*$*:...........................\\n...............................::*%%%%*!:.$###@%!:..............................\\n..........................................!!&$:.................................\\n............................................$@!.................................\\n............................................*&!.................................\\n................:*%%%*!!:...................*&*:................................\\n................::*@@&@@$%**::..............*&!.................................\\n....................:!%$$$$@$%*!!::.........*&!.................................\\n........................::$###&@$%%%*:......*&!.................................\\n.........................!&####&&@%%*!:.....*@:.................................\\n...........................:!*%$%%!::**:....%@:.................................\\n...........................!*%%%%%***!!!::::$$..................................\\n.........................*@&&&&@@@$%!:.::!::@$!::::!:::.........................\\n........................*S##&&&@$*:.......::&$:......:!:........................\\n........................%$%%%*!:...........:&%........:!:.......................\\n...........................................:@*..........*!......................\\n...........................................!@:.........:$$:.....................\\n...........................................*$..........:!:......................\\n.......................................::::$%::!%%*!!::.........................\\n...............................::!!!****%$$@@$%%$$%%%%**:.......................\\n..............................:!!::::::$@@@@@@@%.....:::!.......................\\n...........::::::::...................@S##&@&&&@!...............................\\n...........*&&&&&&&@$%*::.............&###&&#&&&%...............................\\n...........:$&&&&#######&%:...........!###&###&&$:..............................\\n.............*@&&&&&&###SS%............!&######@!...............................\\n..........:!%@&&&&#&&&&&@&*!:::::.......:$###&%:................................\\n.........!&####&@&&##@%%%$@&&@$$$$%*!....%@!!:..................................\\n........:#S#####&###$**%$%$@@@$%$$%$$...:@*.....................................\\n........*SS##S#S##@!.*@$%**%%%%*%%%$%!:.*&:.....................................\\n........:SSSSS#&$!...:$&@%%***!!**$$%*!*@%......................................\\n.........*@$%*!........*@&@$*:..:!%%*:.*&!......................................\\n........................:!::.......::..:&!......................................\\n........................................@*......................................\\n........................................%$......................................'"
      ]
     },
     "execution_count": 1,
     "metadata": {},
     "output_type": "execute_result"
    }
   ],
   "source": [
    "'''\n",
    "Python Program to Convert Image to ASCII\n",
    "'''\n",
    "\n",
    "# Import the necessary module!\n",
    "import pywhatkit as kt\n",
    "\n",
    "###############################################\n",
    "# Method 1:\n",
    "\n",
    "# Display welcome msg\n",
    "print(\"Let's convert image to ASCII symbols!\")\n",
    "\n",
    "# Capture source and target path\n",
    "source_path = \"rose.png\"    # source location\n",
    "target_path = \"ascii_img\"   # store location\n",
    "\n",
    "# Call the 'image_to_ascii_art' method\n",
    "kt.image_to_ascii_art(source_path, target_path)\n",
    "\n",
    "###############################################\n",
    "# Method 2:\n",
    "\n",
    "# Import pywhatkit as kt\n",
    "# kt.image_to_ascii_art(\"rose.png\", \"ascii_img\")"
   ]
  },
  {
   "cell_type": "markdown",
   "metadata": {},
   "source": [
    "<div>\n",
    "<img src=\"result.png\" width=\"550\"/>\n",
    "</div>   "
   ]
  },
  {
   "cell_type": "markdown",
   "metadata": {},
   "source": [
    "# Python Program to Convert Image to Grayscale, Negative and Pencil-Sketch"
   ]
  },
  {
   "cell_type": "code",
   "execution_count": 2,
   "metadata": {
    "ExecuteTime": {
     "end_time": "2021-09-29T13:54:14.737103Z",
     "start_time": "2021-09-29T13:54:11.540541Z"
    }
   },
   "outputs": [
    {
     "name": "stdout",
     "output_type": "stream",
     "text": [
      "Note: you may need to restart the kernel to use updated packages.\n"
     ]
    },
    {
     "name": "stderr",
     "output_type": "stream",
     "text": [
      "ERROR: Could not find a version that satisfies the requirement opencv\n",
      "ERROR: No matching distribution found for opencv\n"
     ]
    }
   ],
   "source": [
    "pip install opencv"
   ]
  },
  {
   "cell_type": "code",
   "execution_count": 3,
   "metadata": {
    "ExecuteTime": {
     "end_time": "2021-09-29T13:42:29.127318Z",
     "start_time": "2021-09-29T13:37:17.789850Z"
    }
   },
   "outputs": [
    {
     "data": {
      "text/plain": [
       "-1"
      ]
     },
     "execution_count": 3,
     "metadata": {},
     "output_type": "execute_result"
    }
   ],
   "source": [
    "'''\n",
    "Python Program to Convert Image to Grayscale, Negative and Pencil-Sketch\n",
    "'''\n",
    "\n",
    "# install\n",
    "# pip install opencv-python\n",
    "\n",
    "# Import the necessary module!\n",
    "import cv2\n",
    "image = cv2.imread(\"rose.png\")  # picture to convert\n",
    "\n",
    "cv2.imshow(\"rose\", image)                    # original picture\n",
    "cv2.waitKey(0)\n",
    "\n",
    "gray_image = cv2.cvtColor(image, cv2.COLOR_BGR2GRAY)\n",
    "cv2.imshow(\"rose\", gray_image)               # grayscale image of original\n",
    "cv2.waitKey(0)\n",
    "\n",
    "inverted_image = 255 - gray_image\n",
    "cv2.imshow(\"rose Inverted\", inverted_image)  # negative image of original\n",
    "cv2.waitKey()\n",
    "\n",
    "blurred = cv2.GaussianBlur(inverted_image, (21, 21), 0)\n",
    "inverted_blurred = 255 - blurred\n",
    "pencil_sketch = cv2.divide(gray_image, inverted_blurred, scale=256.0)\n",
    "cv2.imshow(\"rose Sketch\", pencil_sketch)    # pencil-sketch image of original\n",
    "cv2.waitKey(0)\n",
    "\n",
    "# Show original picture and pencil-sketch of original image side by side\n",
    "cv2.imshow(\"rose original image\", image)         # original image\n",
    "cv2.imshow(\"rose pencil sketch\", pencil_sketch)  # prncil-sketch image\n",
    "cv2.waitKey(0)"
   ]
  },
  {
   "cell_type": "markdown",
   "metadata": {
    "ExecuteTime": {
     "end_time": "2021-09-29T13:44:01.347461Z",
     "start_time": "2021-09-29T13:44:01.335774Z"
    }
   },
   "source": [
    "<div>\n",
    "<img src=\"result2.png\" width=\"900\"/>\n",
    "</div> "
   ]
  },
  {
   "cell_type": "code",
   "execution_count": null,
   "metadata": {},
   "outputs": [],
   "source": []
  }
 ],
 "metadata": {
  "hide_input": false,
  "kernelspec": {
   "display_name": "Python 3",
   "language": "python",
   "name": "python3"
  },
  "language_info": {
   "codemirror_mode": {
    "name": "ipython",
    "version": 3
   },
   "file_extension": ".py",
   "mimetype": "text/x-python",
   "name": "python",
   "nbconvert_exporter": "python",
   "pygments_lexer": "ipython3",
   "version": "3.8.8"
  },
  "toc": {
   "base_numbering": 1,
   "nav_menu": {
    "height": "195px",
    "width": "186px"
   },
   "number_sections": true,
   "sideBar": true,
   "skip_h1_title": false,
   "title_cell": "Table of Contents",
   "title_sidebar": "Contents",
   "toc_cell": false,
   "toc_position": {},
   "toc_section_display": true,
   "toc_window_display": false
  },
  "varInspector": {
   "cols": {
    "lenName": 16,
    "lenType": 16,
    "lenVar": 40
   },
   "kernels_config": {
    "python": {
     "delete_cmd_postfix": "",
     "delete_cmd_prefix": "del ",
     "library": "var_list.py",
     "varRefreshCmd": "print(var_dic_list())"
    },
    "r": {
     "delete_cmd_postfix": ") ",
     "delete_cmd_prefix": "rm(",
     "library": "var_list.r",
     "varRefreshCmd": "cat(var_dic_list()) "
    }
   },
   "types_to_exclude": [
    "module",
    "function",
    "builtin_function_or_method",
    "instance",
    "_Feature"
   ],
   "window_display": false
  }
 },
 "nbformat": 4,
 "nbformat_minor": 2
}
