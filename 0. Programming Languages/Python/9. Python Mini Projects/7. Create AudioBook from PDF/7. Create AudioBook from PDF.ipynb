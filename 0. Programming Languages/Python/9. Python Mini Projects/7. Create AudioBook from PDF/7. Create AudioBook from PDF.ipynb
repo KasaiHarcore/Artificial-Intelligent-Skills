{
 "cells": [
  {
   "cell_type": "markdown",
   "metadata": {},
   "source": [
    "<small><small><i>\n",
    "All the IPython Notebooks in Python Mini-Projects series by Dr. Milan Parmar are available @ **[GitHub](https://github.com/milaan9/91_Python_Mini_Projects)**\n",
    "</i></small></small>"
   ]
  },
  {
   "cell_type": "markdown",
   "metadata": {},
   "source": [
    "# Python Program to Create AudioBook from PDF"
   ]
  },
  {
   "cell_type": "code",
   "execution_count": 1,
   "metadata": {
    "ExecuteTime": {
     "end_time": "2021-07-25T13:22:09.776305Z",
     "start_time": "2021-07-25T13:21:28.622069Z"
    }
   },
   "outputs": [
    {
     "name": "stdout",
     "output_type": "stream",
     "text": [
      "Playing Audio Book\n"
     ]
    }
   ],
   "source": [
    "'''\n",
    "Python Program to Create AudioBook from PDF\n",
    "'''\n",
    "\n",
    "# Import the necessary modules!\n",
    "import pyttsx3\n",
    "import PyPDF2\n",
    "\n",
    "# Open our file in reading format and store into book\n",
    "book = open('demo.pdf','rb')    # `rb` stands for reading mode\n",
    "\n",
    "# Call PyPDF2's PdfFileReader method on book and store it into pdf_reader\n",
    "pdf_reader = PyPDF2.PdfFileReader(book)\n",
    "\n",
    "# Calculate the no of pages in our pdf by using numPages method\n",
    "num_pages = pdf_reader.numPages\n",
    "\n",
    "# Initialize pyttsx3 using init method and let's print playing Audiobook\n",
    "play = pyttsx3.init()\n",
    "print('Playing Audio Book')\n",
    "\n",
    "# Run a loop for the number of pages in our pdf file. \n",
    "# A page will get retrieved at each iteration.\n",
    "for num in range(0, num_pages):\n",
    "    page = pdf_reader.getPage(num)\n",
    "    # Extract the text from our page using extractText method on our page and store it into data.\n",
    "    data = page.extractText()\n",
    "\n",
    "\n",
    "# Call say method on data and finally we can call runAndWait method at the end.    \n",
    "    play.say(data)\n",
    "    play.runAndWait()"
   ]
  },
  {
   "cell_type": "code",
   "execution_count": null,
   "metadata": {},
   "outputs": [],
   "source": []
  }
 ],
 "metadata": {
  "hide_input": false,
  "kernelspec": {
   "display_name": "Python 3",
   "language": "python",
   "name": "python3"
  },
  "language_info": {
   "codemirror_mode": {
    "name": "ipython",
    "version": 3
   },
   "file_extension": ".py",
   "mimetype": "text/x-python",
   "name": "python",
   "nbconvert_exporter": "python",
   "pygments_lexer": "ipython3",
   "version": "3.8.8"
  },
  "toc": {
   "base_numbering": 1,
   "nav_menu": {},
   "number_sections": true,
   "sideBar": true,
   "skip_h1_title": false,
   "title_cell": "Table of Contents",
   "title_sidebar": "Contents",
   "toc_cell": false,
   "toc_position": {},
   "toc_section_display": true,
   "toc_window_display": false
  },
  "varInspector": {
   "cols": {
    "lenName": 16,
    "lenType": 16,
    "lenVar": 40
   },
   "kernels_config": {
    "python": {
     "delete_cmd_postfix": "",
     "delete_cmd_prefix": "del ",
     "library": "var_list.py",
     "varRefreshCmd": "print(var_dic_list())"
    },
    "r": {
     "delete_cmd_postfix": ") ",
     "delete_cmd_prefix": "rm(",
     "library": "var_list.r",
     "varRefreshCmd": "cat(var_dic_list()) "
    }
   },
   "types_to_exclude": [
    "module",
    "function",
    "builtin_function_or_method",
    "instance",
    "_Feature"
   ],
   "window_display": false
  }
 },
 "nbformat": 4,
 "nbformat_minor": 2
}
