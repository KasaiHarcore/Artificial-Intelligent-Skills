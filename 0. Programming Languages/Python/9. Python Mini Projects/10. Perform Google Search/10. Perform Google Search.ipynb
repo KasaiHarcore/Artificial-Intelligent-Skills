{
 "cells": [
  {
   "cell_type": "markdown",
   "metadata": {},
   "source": [
    "<small><small><i>\n",
    "All the IPython Notebooks in Python Mini-Projects series by Dr. Milan Parmar are available @ **[GitHub](https://github.com/milaan9/91_Python_Mini_Projects)**\n",
    "</i></small></small>"
   ]
  },
  {
   "cell_type": "markdown",
   "metadata": {},
   "source": [
    "# Python Program to Perform Google Search"
   ]
  },
  {
   "cell_type": "code",
   "execution_count": 1,
   "metadata": {
    "ExecuteTime": {
     "end_time": "2021-07-24T16:07:38.349084Z",
     "start_time": "2021-07-24T16:07:32.222642Z"
    }
   },
   "outputs": [
    {
     "name": "stdout",
     "output_type": "stream",
     "text": [
      "Let's perform Google search!\n"
     ]
    }
   ],
   "source": [
    "'''\n",
    "Python Program to Perform Google Search\n",
    "'''\n",
    "\n",
    "# Import the necessary module!\n",
    "import pywhatkit as kt\n",
    "\n",
    "###############################################\n",
    "# Method 1:\n",
    "\n",
    "# Display welcome message\n",
    "print(\"Let's perform Google search!\")\n",
    "\n",
    "# Single search item\n",
    "search1 = \"Dr Milan Parmar\"\n",
    "\n",
    "# Options for multiple search items\n",
    "search2 = \"github\"\n",
    "search3 = \"python4DataScience\"\n",
    "search4 = \"Happiness\"\n",
    "\n",
    "# Call search the method\n",
    "kt.search(search1)\n",
    "\n",
    "###############################################\n",
    "# Method 2:\n",
    "\n",
    "# Import pywhatkit as kt\n",
    "# kt.search(\"python4DataScience\")\n",
    "\n",
    "\n",
    "# NOTE: If your browser window is open is already running, \n",
    "# it will perform the search in a new tab otherwise will open a new window."
   ]
  },
  {
   "cell_type": "code",
   "execution_count": null,
   "metadata": {},
   "outputs": [],
   "source": []
  }
 ],
 "metadata": {
  "hide_input": false,
  "kernelspec": {
   "display_name": "Python 3",
   "language": "python",
   "name": "python3"
  },
  "language_info": {
   "codemirror_mode": {
    "name": "ipython",
    "version": 3
   },
   "file_extension": ".py",
   "mimetype": "text/x-python",
   "name": "python",
   "nbconvert_exporter": "python",
   "pygments_lexer": "ipython3",
   "version": "3.8.8"
  },
  "toc": {
   "base_numbering": 1,
   "nav_menu": {},
   "number_sections": true,
   "sideBar": true,
   "skip_h1_title": false,
   "title_cell": "Table of Contents",
   "title_sidebar": "Contents",
   "toc_cell": false,
   "toc_position": {},
   "toc_section_display": true,
   "toc_window_display": false
  },
  "varInspector": {
   "cols": {
    "lenName": 16,
    "lenType": 16,
    "lenVar": 40
   },
   "kernels_config": {
    "python": {
     "delete_cmd_postfix": "",
     "delete_cmd_prefix": "del ",
     "library": "var_list.py",
     "varRefreshCmd": "print(var_dic_list())"
    },
    "r": {
     "delete_cmd_postfix": ") ",
     "delete_cmd_prefix": "rm(",
     "library": "var_list.r",
     "varRefreshCmd": "cat(var_dic_list()) "
    }
   },
   "types_to_exclude": [
    "module",
    "function",
    "builtin_function_or_method",
    "instance",
    "_Feature"
   ],
   "window_display": false
  }
 },
 "nbformat": 4,
 "nbformat_minor": 2
}
