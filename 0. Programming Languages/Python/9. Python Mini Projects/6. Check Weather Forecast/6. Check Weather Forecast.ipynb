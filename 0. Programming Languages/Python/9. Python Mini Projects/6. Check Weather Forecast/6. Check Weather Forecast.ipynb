{
 "cells": [
  {
   "cell_type": "markdown",
   "metadata": {},
   "source": [
    "<small><small><i>\n",
    "All the IPython Notebooks in Python Mini-Projects series by Dr. Milan Parmar are available @ **[GitHub](https://github.com/milaan9/91_Python_Mini_Projects)**\n",
    "</i></small></small>"
   ]
  },
  {
   "cell_type": "markdown",
   "metadata": {},
   "source": [
    "# Python Program to Check Weather Forecast"
   ]
  },
  {
   "cell_type": "code",
   "execution_count": 1,
   "metadata": {
    "ExecuteTime": {
     "end_time": "2021-07-24T08:59:37.429672Z",
     "start_time": "2021-07-24T08:58:43.980631Z"
    }
   },
   "outputs": [
    {
     "name": "stdout",
     "output_type": "stream",
     "text": [
      "Enter City name: California\n",
      "Displaying Weater report for: California\n",
      "Weather report: California\n",
      "\n",
      "  \u001b[38;5;226m    \\   /    \u001b[0m Clear\n",
      "  \u001b[38;5;226m     .-.     \u001b[0m \u001b[38;5;220m25\u001b[0m °C\u001b[0m          \n",
      "  \u001b[38;5;226m  ― (   ) ―  \u001b[0m \u001b[1m→\u001b[0m \u001b[38;5;190m11\u001b[0m km/h\u001b[0m      \n",
      "  \u001b[38;5;226m     `-’     \u001b[0m 16 km\u001b[0m          \n",
      "  \u001b[38;5;226m    /   \\    \u001b[0m 0.0 mm\u001b[0m         \n",
      "                                                       ┌─────────────┐                                                       \n",
      "┌──────────────────────────────┬───────────────────────┤  Sat 24 Jul ├───────────────────────┬──────────────────────────────┐\n",
      "│            Morning           │             Noon      └──────┬──────┘     Evening           │             Night            │\n",
      "├──────────────────────────────┼──────────────────────────────┼──────────────────────────────┼──────────────────────────────┤\n",
      "│ \u001b[38;5;226m   \\  /\u001b[0m       Partly cloudy  │ \u001b[38;5;226m   \\  /\u001b[0m       Partly cloudy  │ \u001b[38;5;226m   \\  /\u001b[0m       Partly cloudy  │ \u001b[38;5;226m   \\  /\u001b[0m       Partly cloudy  │\n",
      "│ \u001b[38;5;226m _ /\"\"\u001b[38;5;250m.-.    \u001b[0m \u001b[38;5;220m25\u001b[0m °C\u001b[0m          │ \u001b[38;5;226m _ /\"\"\u001b[38;5;250m.-.    \u001b[0m \u001b[38;5;214m+29\u001b[0m(\u001b[38;5;220m27\u001b[0m) °C\u001b[0m     │ \u001b[38;5;226m _ /\"\"\u001b[38;5;250m.-.    \u001b[0m \u001b[38;5;220m26\u001b[0m °C\u001b[0m          │ \u001b[38;5;226m _ /\"\"\u001b[38;5;250m.-.    \u001b[0m \u001b[38;5;226m+22\u001b[0m(\u001b[38;5;226m24\u001b[0m) °C\u001b[0m     │\n",
      "│ \u001b[38;5;226m   \\_\u001b[38;5;250m(   ).  \u001b[0m \u001b[1m↗\u001b[0m \u001b[38;5;154m7\u001b[0m-\u001b[38;5;154m8\u001b[0m km/h\u001b[0m     │ \u001b[38;5;226m   \\_\u001b[38;5;250m(   ).  \u001b[0m \u001b[1m↗\u001b[0m \u001b[38;5;226m13\u001b[0m-\u001b[38;5;226m15\u001b[0m km/h\u001b[0m   │ \u001b[38;5;226m   \\_\u001b[38;5;250m(   ).  \u001b[0m \u001b[1m→\u001b[0m \u001b[38;5;118m6\u001b[0m-\u001b[38;5;154m7\u001b[0m km/h\u001b[0m     │ \u001b[38;5;226m   \\_\u001b[38;5;250m(   ).  \u001b[0m \u001b[1m↗\u001b[0m \u001b[38;5;082m3\u001b[0m-\u001b[38;5;154m7\u001b[0m km/h\u001b[0m     │\n",
      "│ \u001b[38;5;226m   /\u001b[38;5;250m(___(__) \u001b[0m 10 km\u001b[0m          │ \u001b[38;5;226m   /\u001b[38;5;250m(___(__) \u001b[0m 10 km\u001b[0m          │ \u001b[38;5;226m   /\u001b[38;5;250m(___(__) \u001b[0m 10 km\u001b[0m          │ \u001b[38;5;226m   /\u001b[38;5;250m(___(__) \u001b[0m 10 km\u001b[0m          │\n",
      "│               0.0 mm | 0%\u001b[0m    │               0.0 mm | 0%\u001b[0m    │               0.1 mm | 46%\u001b[0m   │               0.0 mm | 0%\u001b[0m    │\n",
      "└──────────────────────────────┴──────────────────────────────┴──────────────────────────────┴──────────────────────────────┘\n",
      "                                                       ┌─────────────┐                                                       \n",
      "┌──────────────────────────────┬───────────────────────┤  Sun 25 Jul ├───────────────────────┬──────────────────────────────┐\n",
      "│            Morning           │             Noon      └──────┬──────┘     Evening           │             Night            │\n",
      "├──────────────────────────────┼──────────────────────────────┼──────────────────────────────┼──────────────────────────────┤\n",
      "│ \u001b[38;5;226m   \\  /\u001b[0m       Partly cloudy  │ \u001b[38;5;226m _`/\"\"\u001b[38;5;250m.-.    \u001b[0m Patchy light d…│ \u001b[38;5;226m   \\  /\u001b[0m       Partly cloudy  │ \u001b[38;5;226m   \\  /\u001b[0m       Partly cloudy  │\n",
      "│ \u001b[38;5;226m _ /\"\"\u001b[38;5;250m.-.    \u001b[0m \u001b[38;5;220m+26\u001b[0m(\u001b[38;5;220m25\u001b[0m) °C\u001b[0m     │ \u001b[38;5;226m  ,\\_\u001b[38;5;250m(   ).  \u001b[0m \u001b[38;5;214m+28\u001b[0m(\u001b[38;5;220m27\u001b[0m) °C\u001b[0m     │ \u001b[38;5;226m _ /\"\"\u001b[38;5;250m.-.    \u001b[0m \u001b[38;5;226m+24\u001b[0m(\u001b[38;5;220m25\u001b[0m) °C\u001b[0m     │ \u001b[38;5;226m _ /\"\"\u001b[38;5;250m.-.    \u001b[0m \u001b[38;5;190m20\u001b[0m °C\u001b[0m          │\n",
      "│ \u001b[38;5;226m   \\_\u001b[38;5;250m(   ).  \u001b[0m \u001b[1m↗\u001b[0m \u001b[38;5;118m6\u001b[0m-\u001b[38;5;154m8\u001b[0m km/h\u001b[0m     │ \u001b[38;5;226m   /\u001b[38;5;250m(___(__) \u001b[0m \u001b[1m↗\u001b[0m \u001b[38;5;190m12\u001b[0m-\u001b[38;5;226m14\u001b[0m km/h\u001b[0m   │ \u001b[38;5;226m   \\_\u001b[38;5;250m(   ).  \u001b[0m \u001b[1m→\u001b[0m \u001b[38;5;118m6\u001b[0m-\u001b[38;5;154m7\u001b[0m km/h\u001b[0m     │ \u001b[38;5;226m   \\_\u001b[38;5;250m(   ).  \u001b[0m \u001b[1m↖\u001b[0m \u001b[38;5;118m5\u001b[0m-\u001b[38;5;190m10\u001b[0m km/h\u001b[0m    │\n",
      "│ \u001b[38;5;226m   /\u001b[38;5;250m(___(__) \u001b[0m 10 km\u001b[0m          │ \u001b[38;5;111m     ‘ ‘ ‘ ‘ \u001b[0m 8 km\u001b[0m           │ \u001b[38;5;226m   /\u001b[38;5;250m(___(__) \u001b[0m 9 km\u001b[0m           │ \u001b[38;5;226m   /\u001b[38;5;250m(___(__) \u001b[0m 10 km\u001b[0m          │\n",
      "│               0.0 mm | 0%\u001b[0m    │ \u001b[38;5;111m    ‘ ‘ ‘ ‘  \u001b[0m 0.1 mm | 24%\u001b[0m   │               0.3 mm | 51%\u001b[0m   │               0.0 mm | 0%\u001b[0m    │\n",
      "└──────────────────────────────┴──────────────────────────────┴──────────────────────────────┴──────────────────────────────┘\n",
      "                                                       ┌─────────────┐                                                       \n",
      "┌──────────────────────────────┬───────────────────────┤  Mon 26 Jul ├───────────────────────┬──────────────────────────────┐\n",
      "│            Morning           │             Noon      └──────┬──────┘     Evening           │             Night            │\n",
      "├──────────────────────────────┼──────────────────────────────┼──────────────────────────────┼──────────────────────────────┤\n",
      "│ \u001b[38;5;226m   \\  /\u001b[0m       Partly cloudy  │ \u001b[38;5;226m _`/\"\"\u001b[38;5;250m.-.    \u001b[0m Patchy rain po…│ \u001b[38;5;226m   \\  /\u001b[0m       Partly cloudy  │ \u001b[38;5;226m   \\  /\u001b[0m       Partly cloudy  │\n",
      "│ \u001b[38;5;226m _ /\"\"\u001b[38;5;250m.-.    \u001b[0m \u001b[38;5;226m+23\u001b[0m(\u001b[38;5;226m24\u001b[0m) °C\u001b[0m     │ \u001b[38;5;226m  ,\\_\u001b[38;5;250m(   ).  \u001b[0m \u001b[38;5;220m25\u001b[0m °C\u001b[0m          │ \u001b[38;5;226m _ /\"\"\u001b[38;5;250m.-.    \u001b[0m \u001b[38;5;226m+22\u001b[0m(\u001b[38;5;226m24\u001b[0m) °C\u001b[0m     │ \u001b[38;5;226m _ /\"\"\u001b[38;5;250m.-.    \u001b[0m \u001b[38;5;154m18\u001b[0m °C\u001b[0m          │\n",
      "│ \u001b[38;5;226m   \\_\u001b[38;5;250m(   ).  \u001b[0m \u001b[1m↗\u001b[0m \u001b[38;5;118m6\u001b[0m-\u001b[38;5;154m8\u001b[0m km/h\u001b[0m     │ \u001b[38;5;226m   /\u001b[38;5;250m(___(__) \u001b[0m \u001b[1m↗\u001b[0m \u001b[38;5;190m10\u001b[0m-\u001b[38;5;190m12\u001b[0m km/h\u001b[0m   │ \u001b[38;5;226m   \\_\u001b[38;5;250m(   ).  \u001b[0m \u001b[1m↑\u001b[0m \u001b[38;5;154m9\u001b[0m-\u001b[38;5;190m11\u001b[0m km/h\u001b[0m    │ \u001b[38;5;226m   \\_\u001b[38;5;250m(   ).  \u001b[0m \u001b[1m↙\u001b[0m \u001b[38;5;118m5\u001b[0m-\u001b[38;5;190m12\u001b[0m km/h\u001b[0m    │\n",
      "│ \u001b[38;5;226m   /\u001b[38;5;250m(___(__) \u001b[0m 10 km\u001b[0m          │ \u001b[38;5;111m     ‘ ‘ ‘ ‘ \u001b[0m 10 km\u001b[0m          │ \u001b[38;5;226m   /\u001b[38;5;250m(___(__) \u001b[0m 9 km\u001b[0m           │ \u001b[38;5;226m   /\u001b[38;5;250m(___(__) \u001b[0m 10 km\u001b[0m          │\n",
      "│               0.0 mm | 0%\u001b[0m    │ \u001b[38;5;111m    ‘ ‘ ‘ ‘  \u001b[0m 0.0 mm | 26%\u001b[0m   │               0.1 mm | 46%\u001b[0m   │               0.0 mm | 0%\u001b[0m    │\n",
      "└──────────────────────────────┴──────────────────────────────┴──────────────────────────────┴──────────────────────────────┘\n",
      "Location: California, United States of America [36.7014631,-118.7559973]\n",
      "\n",
      "Follow \u001b[46m\u001b[30m@igor_chubin\u001b[0m for wttr.in updates\n",
      "\n"
     ]
    }
   ],
   "source": [
    "'''\n",
    "Python Program to Check Weather Forecast\n",
    "'''\n",
    "\n",
    "# Import the necessary modules!\n",
    "import requests\n",
    "\n",
    "# Input the city name\n",
    "city = input('Enter City name: ')\n",
    "\n",
    "# Or you can also hard-code the value\n",
    "# city = 'Irkutsk'\n",
    "\n",
    "# Display the message\n",
    "print('Displaying Weater report for: ' + city)\n",
    "\n",
    "# Fetch the weater details\n",
    "url = 'https://wttr.in/{}'.format(city) # Use of format to pass city as a parameter here\n",
    "res = requests.get(url)                 # Make use of the requests module\n",
    "\n",
    "# Display the result\n",
    "# Resultant data is stored in res. \n",
    "# Use of the text method to extract our desired weather details to display the result\n",
    "print(res.text)"
   ]
  },
  {
   "cell_type": "code",
   "execution_count": null,
   "metadata": {},
   "outputs": [],
   "source": []
  }
 ],
 "metadata": {
  "hide_input": false,
  "kernelspec": {
   "display_name": "Python 3",
   "language": "python",
   "name": "python3"
  },
  "language_info": {
   "codemirror_mode": {
    "name": "ipython",
    "version": 3
   },
   "file_extension": ".py",
   "mimetype": "text/x-python",
   "name": "python",
   "nbconvert_exporter": "python",
   "pygments_lexer": "ipython3",
   "version": "3.8.8"
  },
  "toc": {
   "base_numbering": 1,
   "nav_menu": {},
   "number_sections": true,
   "sideBar": true,
   "skip_h1_title": false,
   "title_cell": "Table of Contents",
   "title_sidebar": "Contents",
   "toc_cell": false,
   "toc_position": {},
   "toc_section_display": true,
   "toc_window_display": false
  },
  "varInspector": {
   "cols": {
    "lenName": 16,
    "lenType": 16,
    "lenVar": 40
   },
   "kernels_config": {
    "python": {
     "delete_cmd_postfix": "",
     "delete_cmd_prefix": "del ",
     "library": "var_list.py",
     "varRefreshCmd": "print(var_dic_list())"
    },
    "r": {
     "delete_cmd_postfix": ") ",
     "delete_cmd_prefix": "rm(",
     "library": "var_list.r",
     "varRefreshCmd": "cat(var_dic_list()) "
    }
   },
   "types_to_exclude": [
    "module",
    "function",
    "builtin_function_or_method",
    "instance",
    "_Feature"
   ],
   "window_display": false
  }
 },
 "nbformat": 4,
 "nbformat_minor": 2
}
