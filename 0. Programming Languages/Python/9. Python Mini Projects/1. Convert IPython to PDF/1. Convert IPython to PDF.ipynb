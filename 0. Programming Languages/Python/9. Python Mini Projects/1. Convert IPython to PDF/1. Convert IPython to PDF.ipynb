{
 "cells": [
  {
   "cell_type": "markdown",
   "metadata": {},
   "source": [
    "<small><small><i>\n",
    "All the IPython Notebooks in Python Mini-Projects series by Dr. Milan Parmar are available @ **[GitHub](https://github.com/milaan9/91_Python_Mini_Projects)**\n",
    "</i></small></small>"
   ]
  },
  {
   "cell_type": "markdown",
   "metadata": {},
   "source": [
    "# Convert Jupyter Notebook to PDF\n",
    "\n",
    "<div>\n",
    "<img src=\"img/j2p1.png\" width=\"300\"/>\n",
    "</div>                                             \n",
    "\n",
    "There is an easy way to turn our Jupyer Notebooks into PDF files. Just with a simple setup, you can access your notebook as a PDF."
   ]
  },
  {
   "cell_type": "markdown",
   "metadata": {},
   "source": [
    "## Jupyter-to-PDF\n",
    "\n",
    "1. The first thing we need to do is to install the necessary package. Here we would use the package called notebook-as-pdf to help us convert Jupyter Notebook as PDF file. You need to run the following code in your command prompt. If you are using Anaconda type in anaconda command prompt.\n",
    "\n",
    "**`pip install -U notebook-as-pdf`**\n",
    "\n",
    "2. We also need an additional setup for Chromium. It is used to perform the HTML to PDF conversion. Just run the following code in your code prompt. If you are using Anaconda type in anaconda command prompt.\n",
    "\n",
    "**`pyppeteer-install`**\n",
    "\n",
    "3. Just like that, we have already finished our preparation. Now, let’s **open the notebook** you intend to convert into the PDF. In your notebook, click the **File** menu bar then select **Download as** then select the **PDF via HTML (.pdf)** to transform the notebook.\n",
    "\n",
    "<div>\n",
    "<img src=\"img/j2p2.png\" width=\"800\"/>\n",
    "</div>  \n",
    "\n",
    "or\n",
    "\n",
    "4. (optional) Just like that, you already have your notebook as a PDF file. If you prefer to use command prompt to convert the notebook, you could do it with the following code.\n",
    "\n",
    "**`jupyter-nbconvert --to PDFviaHTML example.ipynb`**\n",
    "\n",
    "The result would be called example.pdf as our Jupyter Notebook is called example.ipynb."
   ]
  },
  {
   "cell_type": "code",
   "execution_count": null,
   "metadata": {},
   "outputs": [],
   "source": []
  }
 ],
 "metadata": {
  "hide_input": false,
  "kernelspec": {
   "display_name": "Python 3",
   "language": "python",
   "name": "python3"
  },
  "language_info": {
   "codemirror_mode": {
    "name": "ipython",
    "version": 3
   },
   "file_extension": ".py",
   "mimetype": "text/x-python",
   "name": "python",
   "nbconvert_exporter": "python",
   "pygments_lexer": "ipython3",
   "version": "3.8.8"
  },
  "toc": {
   "base_numbering": 1,
   "nav_menu": {},
   "number_sections": true,
   "sideBar": true,
   "skip_h1_title": false,
   "title_cell": "Table of Contents",
   "title_sidebar": "Contents",
   "toc_cell": false,
   "toc_position": {},
   "toc_section_display": true,
   "toc_window_display": false
  },
  "varInspector": {
   "cols": {
    "lenName": 16,
    "lenType": 16,
    "lenVar": 40
   },
   "kernels_config": {
    "python": {
     "delete_cmd_postfix": "",
     "delete_cmd_prefix": "del ",
     "library": "var_list.py",
     "varRefreshCmd": "print(var_dic_list())"
    },
    "r": {
     "delete_cmd_postfix": ") ",
     "delete_cmd_prefix": "rm(",
     "library": "var_list.r",
     "varRefreshCmd": "cat(var_dic_list()) "
    }
   },
   "types_to_exclude": [
    "module",
    "function",
    "builtin_function_or_method",
    "instance",
    "_Feature"
   ],
   "window_display": false
  }
 },
 "nbformat": 4,
 "nbformat_minor": 2
}
