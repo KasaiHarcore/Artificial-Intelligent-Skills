{
 "cells": [
  {
   "cell_type": "markdown",
   "metadata": {},
   "source": [
    "<small><small><i>\n",
    "All the IPython Notebooks in Python Mini-Projects series by Dr. Milan Parmar are available @ **[GitHub](https://github.com/milaan9/91_Python_Mini_Projects)**\n",
    "</i></small></small>"
   ]
  },
  {
   "cell_type": "markdown",
   "metadata": {},
   "source": [
    "# Python Program for Web Scraping on CoWin Vaccine Slots\n",
    "\n",
    "We will use **[CoWin](https://www.cowin.gov.in/)** website to fetch the data because we are interested in the data contained in a table at CoWin’s website, where there are lists all the available slots for vaccination along with the types of vaccines and their prices. "
   ]
  },
  {
   "cell_type": "code",
   "execution_count": 1,
   "metadata": {
    "ExecuteTime": {
     "end_time": "2021-07-26T14:42:01.638111Z",
     "start_time": "2021-07-26T14:41:54.424754Z"
    }
   },
   "outputs": [
    {
     "name": "stdout",
     "output_type": "stream",
     "text": [
      "pygame 2.0.1 (SDL 2.0.14, Python 3.8.8)\n",
      "Hello from the pygame community. https://www.pygame.org/contribute.html\n",
      "Starting search for Covid vaccine slots!\n",
      "Pincode: 400092\n",
      "Available on: 26-07-2021\n",
      "\t HCG APEX HOSPITAL BORIVALI W\n",
      "\t Ward R North Corporation - MH\n",
      "\t Price:  Paid\n",
      "\t Availablity :  3576\n",
      "\t Vaccine type:  COVISHIELD\n",
      "\n",
      "\n",
      "Pincode: 400092\n",
      "Available on: 26-07-2021\n",
      "\t HCG APEX HOSPITAL BORIVALI W\n",
      "\t Ward R North Corporation - MH\n",
      "\t Price:  Paid\n",
      "\t Availablity :  3775\n",
      "\t Vaccine type:  COVISHIELD\n",
      "\n",
      "\n",
      "Pincode: 400092\n",
      "Available on: 26-07-2021\n",
      "\t Adharika Bhawan Gorai\n",
      "\t Ward R Central Corporation - MH\n",
      "\t Price:  Free\n",
      "\t Availablity :  1\n",
      "\t Vaccine type:  COVISHIELD\n",
      "\n",
      "\n",
      "Pincode: 400092\n",
      "Available on: 27-07-2021\n",
      "\t R/C APEX HOSPITALS\n",
      "\t Ward R Central Corporation - MH\n",
      "\t Price:  Paid\n",
      "\t Availablity :  1\n",
      "\t Vaccine type:  COVISHIELD\n",
      "\n",
      "\n",
      "Pincode: 400092\n",
      "Available on: 27-07-2021\n",
      "\t HCG APEX HOSPITAL BORIVALI W\n",
      "\t Ward R North Corporation - MH\n",
      "\t Price:  Paid\n",
      "\t Availablity :  3769\n",
      "\t Vaccine type:  COVISHIELD\n",
      "\n",
      "\n",
      "Search Completed!\n"
     ]
    },
    {
     "ename": "KeyboardInterrupt",
     "evalue": "",
     "output_type": "error",
     "traceback": [
      "\u001b[1;31m---------------------------------------------------------------------------\u001b[0m",
      "\u001b[1;31mKeyboardInterrupt\u001b[0m                         Traceback (most recent call last)",
      "\u001b[1;32m<ipython-input-1-79e540851788>\u001b[0m in \u001b[0;36m<module>\u001b[1;34m\u001b[0m\n\u001b[0;32m     65\u001b[0m \u001b[1;33m\u001b[0m\u001b[0m\n\u001b[0;32m     66\u001b[0m     \u001b[1;32mwhile\u001b[0m \u001b[0mdatetime\u001b[0m\u001b[1;33m.\u001b[0m\u001b[0mnow\u001b[0m\u001b[1;33m(\u001b[0m\u001b[1;33m)\u001b[0m \u001b[1;33m<\u001b[0m \u001b[0mdt\u001b[0m\u001b[1;33m:\u001b[0m\u001b[1;33m\u001b[0m\u001b[1;33m\u001b[0m\u001b[0m\n\u001b[1;32m---> 67\u001b[1;33m         \u001b[0mtime\u001b[0m\u001b[1;33m.\u001b[0m\u001b[0msleep\u001b[0m\u001b[1;33m(\u001b[0m\u001b[1;36m1\u001b[0m\u001b[1;33m)\u001b[0m\u001b[1;33m\u001b[0m\u001b[1;33m\u001b[0m\u001b[0m\n\u001b[0m",
      "\u001b[1;31mKeyboardInterrupt\u001b[0m: "
     ]
    }
   ],
   "source": [
    "'''\n",
    "Python Program for Web Scraping on CoWin Vaccine Slots\n",
    "'''\n",
    "\n",
    "# Import the necessary module!\n",
    "import requests\n",
    "from pygame import mixer \n",
    "from datetime import datetime, timedelta\n",
    "import time\n",
    "\n",
    "\n",
    "age = 19\n",
    "pincodes = [\"400092\"]\n",
    "num_days = 2\n",
    "\n",
    "print_flag = 'Y'\n",
    "\n",
    "print(\"Starting search for Covid vaccine slots!\")\n",
    "\n",
    "# Get today's date\n",
    "actual = datetime.today()\n",
    "# Run a loop to convert it into list format. \n",
    "# We will make use of timedelta method to convert it into list format\n",
    "list_format = [actual + timedelta(days=i) for i in range(num_days)]\n",
    "# We will again run a loop to fetch the dates from the list and \n",
    "# we will make use of strftime method to do so. \n",
    "# Note that we are storing date in date-month-year format.\n",
    "actual_dates = [i.strftime(\"%d-%m-%Y\") for i in list_format]\n",
    "\n",
    "# Let's introduce two more loops here:\n",
    "# 1. to fetch details for each pin-code.\n",
    "# 2. to fetch details for each date in the given pin-code.\n",
    "\n",
    "\n",
    "while True:\n",
    "    counter = 0   \n",
    "\n",
    "    for pincode in pincodes:   \n",
    "        for given_date in actual_dates:\n",
    "\n",
    "            # Now in order to get requests, let's define the URL.\n",
    "            # I have added parameters in the URL itself using string formatting. \n",
    "            # We are passing in two parameters here, pincode and date. \n",
    "            # Every time the inner loop runs, this URL will be called and \n",
    "            # the respective date and pin-code will be passed as arguments for each case.\n",
    "            URL = \"https://cdn-api.co-vin.in/api/v2/appointment/sessions/public/calendarByPin?pincode={}&date={}\".format(pincode, given_date)\n",
    "            # In order to get the request, let's define the header.\n",
    "            header = {'User-Agent': 'Mozilla/5.0 (Windows NT 6.1; WOW64) AppleWebKit/537.36 (KHTML, like Gecko) Chrome/56.0.2924.76 Safari/537.36'} \n",
    "            \n",
    "            result = requests.get(URL, headers=header)\n",
    "\n",
    "            # This data is not structured. So, we will make use of json here. \n",
    "            # Let's cast the data into json file.\n",
    "            if result.ok:\n",
    "                response_json = result.json()\n",
    "                if response_json[\"centers\"]:\n",
    "                    if(print_flag.lower() =='y'):\n",
    "                        for center in response_json[\"centers\"]:\n",
    "                            # let's display and verify our data for each center\n",
    "                            # print(center)\n",
    "                            # Finally, we can retrieve the information for each session. \n",
    "                            # We will apply the check parameters as the arguments we saved earlier.\n",
    "                            for session in center[\"sessions\"]:\n",
    "                                if (session[\"min_age_limit\"] <= age and session[\"available_capacity\"] > 0 ):\n",
    "                                    # If it stratifies our conditions, let's display the result\n",
    "                                    print('Pincode: ' + pincode)\n",
    "                                    print(\"Available on: {}\".format(given_date))\n",
    "                                    print(\"\\t\", center[\"name\"])\n",
    "                                    print(\"\\t\", center[\"block_name\"])\n",
    "                                    print(\"\\t Price: \", center[\"fee_type\"])\n",
    "                                    print(\"\\t Availablity : \", session[\"available_capacity\"])\n",
    "\n",
    "                                    if(session[\"vaccine\"] != ''):\n",
    "                                        print(\"\\t Vaccine type: \", session[\"vaccine\"])\n",
    "                                    print(\"\\n\")\n",
    "                                    # At the end, let's increase the counter by one\n",
    "                                    counter = counter + 1\n",
    "            else:\n",
    "                print(\"No Response!\")\n",
    "    \n",
    "    # Let's cover the edge case\n",
    "    if(counter == 0):\n",
    "        print(\"No Vaccination slot available!\")\n",
    "    else:\n",
    "        mixer.init()\n",
    "        mixer.music.load('sound/chime.mp3')\n",
    "        mixer.music.play()\n",
    "        print(\"Search Completed!\")\n",
    "\n",
    "    # Lastly, let's sync the data in real-time\n",
    "    dt = datetime.now() + timedelta(minutes=3)\n",
    "\n",
    "    while datetime.now() < dt:\n",
    "        time.sleep(1)"
   ]
  },
  {
   "cell_type": "code",
   "execution_count": null,
   "metadata": {},
   "outputs": [],
   "source": []
  }
 ],
 "metadata": {
  "hide_input": false,
  "kernelspec": {
   "display_name": "Python 3",
   "language": "python",
   "name": "python3"
  },
  "language_info": {
   "codemirror_mode": {
    "name": "ipython",
    "version": 3
   },
   "file_extension": ".py",
   "mimetype": "text/x-python",
   "name": "python",
   "nbconvert_exporter": "python",
   "pygments_lexer": "ipython3",
   "version": "3.8.8"
  },
  "toc": {
   "base_numbering": 1,
   "nav_menu": {},
   "number_sections": true,
   "sideBar": true,
   "skip_h1_title": false,
   "title_cell": "Table of Contents",
   "title_sidebar": "Contents",
   "toc_cell": false,
   "toc_position": {},
   "toc_section_display": true,
   "toc_window_display": false
  },
  "varInspector": {
   "cols": {
    "lenName": 16,
    "lenType": 16,
    "lenVar": 40
   },
   "kernels_config": {
    "python": {
     "delete_cmd_postfix": "",
     "delete_cmd_prefix": "del ",
     "library": "var_list.py",
     "varRefreshCmd": "print(var_dic_list())"
    },
    "r": {
     "delete_cmd_postfix": ") ",
     "delete_cmd_prefix": "rm(",
     "library": "var_list.r",
     "varRefreshCmd": "cat(var_dic_list()) "
    }
   },
   "types_to_exclude": [
    "module",
    "function",
    "builtin_function_or_method",
    "instance",
    "_Feature"
   ],
   "window_display": false
  }
 },
 "nbformat": 4,
 "nbformat_minor": 2
}
