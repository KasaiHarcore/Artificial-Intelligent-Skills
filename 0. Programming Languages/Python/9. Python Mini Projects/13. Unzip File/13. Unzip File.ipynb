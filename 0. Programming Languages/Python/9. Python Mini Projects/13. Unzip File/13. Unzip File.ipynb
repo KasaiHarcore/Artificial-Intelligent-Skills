{
 "cells": [
  {
   "cell_type": "markdown",
   "metadata": {},
   "source": [
    "<small><small><i>\n",
    "All the IPython Notebooks in Python Mini-Projects series by Dr. Milan Parmar are available @ **[GitHub](https://github.com/milaan9/91_Python_Mini_Projects)**\n",
    "</i></small></small>"
   ]
  },
  {
   "cell_type": "markdown",
   "metadata": {},
   "source": [
    "# Python Program to Unzip File"
   ]
  },
  {
   "cell_type": "code",
   "execution_count": 1,
   "metadata": {
    "ExecuteTime": {
     "end_time": "2021-07-25T06:33:26.850053Z",
     "start_time": "2021-07-25T06:33:26.820755Z"
    }
   },
   "outputs": [
    {
     "name": "stdout",
     "output_type": "stream",
     "text": [
      "Starting to Unzip the File\n",
      "\n",
      "File is Succesfully Unzipped!\n"
     ]
    }
   ],
   "source": [
    "'''\n",
    "Python Program to Unzip File\n",
    "'''\n",
    "\n",
    "# Import the necessary module!\n",
    "import zipfile as zip\n",
    "\n",
    "# Set the target file\n",
    "target = \"demo.zip\"\n",
    "\n",
    "# Display a start message\n",
    "print(\"Starting to Unzip the File\")\n",
    "\n",
    "# Use ZipFile method\n",
    "root = zip.ZipFile(target)\n",
    "\n",
    "# Give destination path\n",
    "# If the folder with name `unzip` already exists, it will create an unzipped file inside it. \n",
    "# Otherwise, a new folder will be created with the given name (even if no parameter is passed).\n",
    "root.extractall(\"unzip\")\n",
    "# End the process using close method.\n",
    "root.close()\n",
    "\n",
    "# Display the end message\n",
    "print(\"\\nFile is Succesfully Unzipped!\")"
   ]
  },
  {
   "cell_type": "code",
   "execution_count": null,
   "metadata": {},
   "outputs": [],
   "source": []
  }
 ],
 "metadata": {
  "hide_input": false,
  "kernelspec": {
   "display_name": "Python 3",
   "language": "python",
   "name": "python3"
  },
  "language_info": {
   "codemirror_mode": {
    "name": "ipython",
    "version": 3
   },
   "file_extension": ".py",
   "mimetype": "text/x-python",
   "name": "python",
   "nbconvert_exporter": "python",
   "pygments_lexer": "ipython3",
   "version": "3.8.8"
  },
  "toc": {
   "base_numbering": 1,
   "nav_menu": {},
   "number_sections": true,
   "sideBar": true,
   "skip_h1_title": false,
   "title_cell": "Table of Contents",
   "title_sidebar": "Contents",
   "toc_cell": false,
   "toc_position": {},
   "toc_section_display": true,
   "toc_window_display": false
  },
  "varInspector": {
   "cols": {
    "lenName": 16,
    "lenType": 16,
    "lenVar": 40
   },
   "kernels_config": {
    "python": {
     "delete_cmd_postfix": "",
     "delete_cmd_prefix": "del ",
     "library": "var_list.py",
     "varRefreshCmd": "print(var_dic_list())"
    },
    "r": {
     "delete_cmd_postfix": ") ",
     "delete_cmd_prefix": "rm(",
     "library": "var_list.r",
     "varRefreshCmd": "cat(var_dic_list()) "
    }
   },
   "types_to_exclude": [
    "module",
    "function",
    "builtin_function_or_method",
    "instance",
    "_Feature"
   ],
   "window_display": false
  }
 },
 "nbformat": 4,
 "nbformat_minor": 2
}
