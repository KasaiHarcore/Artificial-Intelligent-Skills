{
 "cells": [
  {
   "cell_type": "markdown",
   "metadata": {},
   "source": [
    "<small><small><i>\n",
    "All the IPython Notebooks in **Python Mini-Projects** series by Dr. Milaan Parmar are available @ **[GitHub](https://github.com/milaan9/91_Python_Mini_Projects)**\n",
    "</i></small></small>"
   ]
  },
  {
   "cell_type": "markdown",
   "metadata": {},
   "source": [
    "# Python Program to Create Digital Clock"
   ]
  },
  {
   "cell_type": "code",
   "execution_count": 1,
   "metadata": {
    "ExecuteTime": {
     "end_time": "2021-09-21T07:01:44.204077Z",
     "start_time": "2021-09-21T06:46:16.505015Z"
    }
   },
   "outputs": [],
   "source": [
    "'''\n",
    "Python Program to Create Digital Clock\n",
    "'''\n",
    "# Import necessary modules!\n",
    "from tkinter import *\n",
    "from tkinter.ttk import *\n",
    "\n",
    "# Import time\n",
    "from time import strftime\n",
    "\n",
    "# Create UI for our digital clock.\n",
    "root = Tk()\n",
    "\n",
    "# Set the title of our clock using title method.\n",
    "root.title(\"Digital clock\")\n",
    "\n",
    "# Define a clock function to get the time\n",
    "# Use strftime method to get the time and store it inside a string and name the string as tick\n",
    "def clock():\n",
    "    tick = strftime(\"%H:%M:%S %p\")\n",
    "    \n",
    "    # Set the label using config method.\n",
    "    label.config(text =tick)\n",
    "\n",
    "    # Call our clock function and use the after method to do the same\n",
    "    label.after(1000, clock)\n",
    "\n",
    "# Use label method to store our title.    \n",
    "label = Label(root, font = (\"segoe\", 60), foreground = \"yellow\", background = \"black\")\n",
    "\n",
    "# Use pack method to pack our label\n",
    "# Define the alignment of the label using the anchor method.\n",
    "label.pack(anchor= \"center\")\n",
    "\n",
    "# Call our clock function and at the end we will call it mainloop\n",
    "clock()\n",
    "mainloop()"
   ]
  },
  {
   "cell_type": "markdown",
   "metadata": {},
   "source": [
    "<p align=\"center\">  \n",
    " <img src=\"dclock.png\" width=\"350\"/>\n",
    "</p>  "
   ]
  },
  {
   "cell_type": "markdown",
   "metadata": {},
   "source": [
    "# Python Program to Create Stopwatch"
   ]
  },
  {
   "cell_type": "code",
   "execution_count": 2,
   "metadata": {
    "ExecuteTime": {
     "end_time": "2021-09-21T07:01:50.719877Z",
     "start_time": "2021-09-21T07:01:44.207016Z"
    }
   },
   "outputs": [],
   "source": [
    "'''\n",
    "Python Program to Create Stowatch\n",
    "'''\n",
    "# Import necessary modules!\n",
    "import tkinter as Tkinter\n",
    "\n",
    "# Import datetime\n",
    "from datetime import datetime\n",
    "\n",
    "counter=66600\n",
    "running=False\n",
    "\n",
    "def counter_label(label):\n",
    "    def count():\n",
    "        if running:\n",
    "            global counter\n",
    "\n",
    "            # To manage the initial delay.\n",
    "            if counter==66600:\n",
    "                display=\"Starting...⏳\"\n",
    "            else:\n",
    "                tt=datetime.fromtimestamp(counter)\n",
    "                string=tt.strftime(\"%H:%M:%S\")\n",
    "                display=string\n",
    "\n",
    "            label[\"text\"]=display\n",
    "            label.after(1000, count)\n",
    "            counter+=1\n",
    "\n",
    "    # Triggering the start of the counter.\n",
    "    count()\n",
    "\n",
    "# Start function of the stopwatch\n",
    "def Start(label):\n",
    "    global running\n",
    "    running=True\n",
    "    counter_label(label)\n",
    "    start[\"state\"]=\"disabled\"\n",
    "    stop[\"state\"]=\"normal\"\n",
    "    reset[\"state\"]=\"normal\"\n",
    "\n",
    "# Stop function of the stopwatch\n",
    "def Stop():\n",
    "    global running\n",
    "    start[\"state\"]=\"normal\"\n",
    "    stop[\"state\"]=\"disabled\"\n",
    "    reset[\"state\"]=\"normal\"\n",
    "    running=False\n",
    "\n",
    "# Reset function of the stopwatch\n",
    "def Reset(label):\n",
    "    global counter\n",
    "    counter=66600\n",
    "\n",
    "    # If rest is pressed after pressing stop.\n",
    "    if running == False:\n",
    "        reset[\"state\"]=\"disabled\"\n",
    "        label[\"text\"]=\"Click '▶' to Start⏱\"\n",
    "\n",
    "    # If reset is pressed while the stopwatch is running.\n",
    "    else:\n",
    "        label[\"text\"]=\"Starting...⏳\"\n",
    "root=Tkinter.Tk()\n",
    "root.title(\"Stopwatch\")\n",
    "root.iconbitmap(\"img/stopwatch.ico\")  # optional\n",
    "root.configure(bg=\"yellow\")  #FFE873\n",
    "\n",
    "# Fixing the window size.\n",
    "root.minsize(width=350,height=100)\n",
    "label=Tkinter.Label(root,text=\"Click '▶' to Start⏱\",fg=\"#4B8BBE\",bg=\"yellow\",font=\"Verdana 25 bold\") #4B8BBE #FFE873\n",
    "label.pack()\n",
    "f=Tkinter.Frame(root)\n",
    "start=Tkinter.Button(f,text=\"Start ▶\",width=10,command=lambda:Start(label))\n",
    "stop=Tkinter.Button(f,text=\"Pause ⏸\",width=10,state=\"disabled\",command=Stop)\n",
    "reset=Tkinter.Button(f,text=\"Reset 🔁\",width=10,state=\"disabled\",command=lambda:Reset(label))\n",
    "f.pack(anchor=\"center\",pady=5)\n",
    "start.pack(side=\"left\")\n",
    "stop.pack(side=\"left\")\n",
    "reset.pack(side=\"left\")\n",
    "root.mainloop()"
   ]
  },
  {
   "cell_type": "markdown",
   "metadata": {},
   "source": [
    "<p align=\"center\">  \n",
    " <img src=\"swatch.png\" width=\"350\"/>\n",
    "</p>  "
   ]
  },
  {
   "cell_type": "code",
   "execution_count": null,
   "metadata": {},
   "outputs": [],
   "source": []
  }
 ],
 "metadata": {
  "hide_input": false,
  "kernelspec": {
   "display_name": "Python 3",
   "language": "python",
   "name": "python3"
  },
  "language_info": {
   "codemirror_mode": {
    "name": "ipython",
    "version": 3
   },
   "file_extension": ".py",
   "mimetype": "text/x-python",
   "name": "python",
   "nbconvert_exporter": "python",
   "pygments_lexer": "ipython3",
   "version": "3.8.8"
  },
  "toc": {
   "base_numbering": 1,
   "nav_menu": {},
   "number_sections": true,
   "sideBar": true,
   "skip_h1_title": false,
   "title_cell": "Table of Contents",
   "title_sidebar": "Contents",
   "toc_cell": false,
   "toc_position": {},
   "toc_section_display": true,
   "toc_window_display": false
  },
  "varInspector": {
   "cols": {
    "lenName": 16,
    "lenType": 16,
    "lenVar": 40
   },
   "kernels_config": {
    "python": {
     "delete_cmd_postfix": "",
     "delete_cmd_prefix": "del ",
     "library": "var_list.py",
     "varRefreshCmd": "print(var_dic_list())"
    },
    "r": {
     "delete_cmd_postfix": ") ",
     "delete_cmd_prefix": "rm(",
     "library": "var_list.r",
     "varRefreshCmd": "cat(var_dic_list()) "
    }
   },
   "types_to_exclude": [
    "module",
    "function",
    "builtin_function_or_method",
    "instance",
    "_Feature"
   ],
   "window_display": false
  }
 },
 "nbformat": 4,
 "nbformat_minor": 2
}
