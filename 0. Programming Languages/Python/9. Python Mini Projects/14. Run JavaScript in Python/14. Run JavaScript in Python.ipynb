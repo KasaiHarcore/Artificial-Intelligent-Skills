{
 "cells": [
  {
   "cell_type": "markdown",
   "metadata": {},
   "source": [
    "<small><small><i>\n",
    "All the IPython Notebooks in Python Mini-Projects series by Dr. Milan Parmar are available @ **[GitHub](https://github.com/milaan9/91_Python_Mini_Projects)**\n",
    "</i></small></small>"
   ]
  },
  {
   "cell_type": "markdown",
   "metadata": {},
   "source": [
    "# Python Program to Run JavaScript in Python"
   ]
  },
  {
   "cell_type": "code",
   "execution_count": 1,
   "metadata": {
    "ExecuteTime": {
     "end_time": "2021-07-25T13:56:39.531715Z",
     "start_time": "2021-07-25T13:56:35.493643Z"
    }
   },
   "outputs": [
    {
     "name": "stdout",
     "output_type": "stream",
     "text": [
      "'Running JavaScript in Python'\n",
      "Enter value of x: 6\n",
      "Result: x + 3 = 9\n"
     ]
    }
   ],
   "source": [
    "'''\n",
    "Python Program to Run JavaScript in Python\n",
    "'''\n",
    "\n",
    "\"\"\"\n",
    "Equivalent Python code:\n",
    "\n",
    "# Example 1:          \n",
    "print(\"Running JavaScript in Python\")\n",
    "            \n",
    "#Example 2:            \n",
    "def add(x, y):\n",
    "    return x + y\n",
    "    \n",
    "\"\"\"\n",
    "\n",
    "\n",
    "# Import the necessary module!\n",
    "import js2py\n",
    "\n",
    "# Example 1: JavaScript command\n",
    "# Use of eval.js method from js2py module here, \n",
    "# Pass in our js code in it and store it in res1.\n",
    "js_1 = 'console.log(\"Running JavaScript in Python\")'\n",
    "\n",
    "res1 = js2py.eval_js(js_1)\n",
    "\n",
    "# Print the result\n",
    "res1\n",
    "\n",
    "########################################################\n",
    "\n",
    "# Exapmle 2: JavaScript function\n",
    "\n",
    "# Ask for user input\n",
    "x = int(input(\"Enter value of x: \"))\n",
    "js_2 = '''function add(x, y){\n",
    "    return x + y;\n",
    "    }'''\n",
    "# Use of eval.js method from js2py module here, \n",
    "# Pass in our js code in it and store it in res2.    \n",
    "res2 = js2py.eval_js(js_2)\n",
    "\n",
    "# Print the result\n",
    "print(\"Result: x + 3 =\", res2(x,3))"
   ]
  },
  {
   "cell_type": "code",
   "execution_count": null,
   "metadata": {},
   "outputs": [],
   "source": []
  }
 ],
 "metadata": {
  "hide_input": false,
  "kernelspec": {
   "display_name": "Python 3",
   "language": "python",
   "name": "python3"
  },
  "language_info": {
   "codemirror_mode": {
    "name": "ipython",
    "version": 3
   },
   "file_extension": ".py",
   "mimetype": "text/x-python",
   "name": "python",
   "nbconvert_exporter": "python",
   "pygments_lexer": "ipython3",
   "version": "3.8.8"
  },
  "toc": {
   "base_numbering": 1,
   "nav_menu": {},
   "number_sections": true,
   "sideBar": true,
   "skip_h1_title": false,
   "title_cell": "Table of Contents",
   "title_sidebar": "Contents",
   "toc_cell": false,
   "toc_position": {},
   "toc_section_display": true,
   "toc_window_display": false
  },
  "varInspector": {
   "cols": {
    "lenName": 16,
    "lenType": 16,
    "lenVar": 40
   },
   "kernels_config": {
    "python": {
     "delete_cmd_postfix": "",
     "delete_cmd_prefix": "del ",
     "library": "var_list.py",
     "varRefreshCmd": "print(var_dic_list())"
    },
    "r": {
     "delete_cmd_postfix": ") ",
     "delete_cmd_prefix": "rm(",
     "library": "var_list.r",
     "varRefreshCmd": "cat(var_dic_list()) "
    }
   },
   "types_to_exclude": [
    "module",
    "function",
    "builtin_function_or_method",
    "instance",
    "_Feature"
   ],
   "window_display": false
  }
 },
 "nbformat": 4,
 "nbformat_minor": 2
}
