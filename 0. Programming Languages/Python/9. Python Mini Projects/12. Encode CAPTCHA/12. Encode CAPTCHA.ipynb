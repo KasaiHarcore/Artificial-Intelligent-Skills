{
 "cells": [
  {
   "cell_type": "markdown",
   "metadata": {},
   "source": [
    "<small><small><i>\n",
    "All the IPython Notebooks in Python Mini-Projects series by Dr. Milan Parmar are available @ **[GitHub](https://github.com/milaan9/91_Python_Mini_Projects)**\n",
    "</i></small></small>"
   ]
  },
  {
   "cell_type": "markdown",
   "metadata": {},
   "source": [
    "# Python Program to Encode CAPTCHA\n",
    "\n",
    "**CAPTCHA** are used by any website that wishes to restrict usage by bots."
   ]
  },
  {
   "cell_type": "markdown",
   "metadata": {},
   "source": [
    "## 1. Image CAPTCHA"
   ]
  },
  {
   "cell_type": "code",
   "execution_count": 1,
   "metadata": {
    "ExecuteTime": {
     "end_time": "2021-07-25T08:38:30.677730Z",
     "start_time": "2021-07-25T08:38:30.436523Z"
    },
    "scrolled": true
   },
   "outputs": [],
   "source": [
    "'''\n",
    "Python Program to Encode and Decode Text CAPTCHA\n",
    "'''\n",
    "\n",
    "# Import the necessary module!\n",
    "from captcha.image import ImageCaptcha\n",
    "\n",
    "# Store and define dimentions\n",
    "image = ImageCaptcha(width = 500, height = 100)\n",
    "\n",
    "# Define data\n",
    "data = image.generate(\"9Pyth0n4d@tA6\")\n",
    "\n",
    "# Write to the file\n",
    "image.write(\"9Pyth0n4d@ta6\",\"CAPTCHA_1.png\")"
   ]
  },
  {
   "cell_type": "markdown",
   "metadata": {},
   "source": [
    "## 2. Audio CAPTCHA"
   ]
  },
  {
   "cell_type": "code",
   "execution_count": 2,
   "metadata": {
    "ExecuteTime": {
     "end_time": "2021-07-25T08:38:31.295406Z",
     "start_time": "2021-07-25T08:38:30.681638Z"
    }
   },
   "outputs": [
    {
     "data": {
      "text/plain": [
       "59840"
      ]
     },
     "execution_count": 2,
     "metadata": {},
     "output_type": "execute_result"
    }
   ],
   "source": [
    "'''\n",
    "Python Program to Encode Audio CAPTCHA\n",
    "'''\n",
    "\n",
    "# Import the necessary module!\n",
    "from captcha.audio import AudioCaptcha\n",
    "\n",
    "# Define properties\n",
    "audio = AudioCaptcha()\n",
    "\n",
    "# Define data\n",
    "data = audio.generate(\"978\")\n",
    "\n",
    "# Write to the file\n",
    "audio.write(\"978\", \"CAPTCHA_2.wav\")"
   ]
  },
  {
   "cell_type": "code",
   "execution_count": null,
   "metadata": {},
   "outputs": [],
   "source": []
  }
 ],
 "metadata": {
  "hide_input": false,
  "kernelspec": {
   "display_name": "Python 3",
   "language": "python",
   "name": "python3"
  },
  "language_info": {
   "codemirror_mode": {
    "name": "ipython",
    "version": 3
   },
   "file_extension": ".py",
   "mimetype": "text/x-python",
   "name": "python",
   "nbconvert_exporter": "python",
   "pygments_lexer": "ipython3",
   "version": "3.8.8"
  },
  "toc": {
   "base_numbering": 1,
   "nav_menu": {},
   "number_sections": true,
   "sideBar": true,
   "skip_h1_title": false,
   "title_cell": "Table of Contents",
   "title_sidebar": "Contents",
   "toc_cell": false,
   "toc_position": {},
   "toc_section_display": true,
   "toc_window_display": false
  },
  "varInspector": {
   "cols": {
    "lenName": 16,
    "lenType": 16,
    "lenVar": 40
   },
   "kernels_config": {
    "python": {
     "delete_cmd_postfix": "",
     "delete_cmd_prefix": "del ",
     "library": "var_list.py",
     "varRefreshCmd": "print(var_dic_list())"
    },
    "r": {
     "delete_cmd_postfix": ") ",
     "delete_cmd_prefix": "rm(",
     "library": "var_list.r",
     "varRefreshCmd": "cat(var_dic_list()) "
    }
   },
   "types_to_exclude": [
    "module",
    "function",
    "builtin_function_or_method",
    "instance",
    "_Feature"
   ],
   "window_display": false
  }
 },
 "nbformat": 4,
 "nbformat_minor": 2
}
