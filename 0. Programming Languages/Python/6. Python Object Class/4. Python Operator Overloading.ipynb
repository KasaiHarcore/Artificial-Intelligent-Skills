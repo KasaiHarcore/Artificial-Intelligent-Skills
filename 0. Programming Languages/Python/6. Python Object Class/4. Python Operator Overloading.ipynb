{
 "cells": [
  {
   "cell_type": "markdown",
   "metadata": {},
   "source": [
    "<small><small><i>\n",
    "All the IPython Notebooks in **Python Object Class** lecture series by **[Dr. Milaan Parmar](https://www.linkedin.com/in/milaanparmar/)** are available @ **[GitHub](https://github.com/milaan9/06_Python_Object_Class)**\n",
    "</i></small></small>"
   ]
  },
  {
   "cell_type": "markdown",
   "metadata": {},
   "source": [
    "# Python Operator Overloading\n",
    "\n",
    "You can change the meaning of an operator in Python depending upon the operands used. In this tutorial, you will learn how to use operator overloading in Python Object Oriented Programming."
   ]
  },
  {
   "cell_type": "markdown",
   "metadata": {},
   "source": [
    "## Python Operator Overloading\n",
    "\n",
    "[**Python operators**](https://github.com/milaan9/01_Python_Introduction/blob/main/012_Python_Operators.ipynb) work for built-in classes. But the same operator behaves differently with different types. For example, the **`+`** operator will perform arithmetic addition on two numbers, merge two lists, or concatenate two strings.\n",
    "\n",
    "This feature in Python that allows the same operator to have different meaning according to the context is called **operator overloading**.\n",
    "\n",
    "Python Operator overloading allows us to use mathematical, logical, and bitwise operators on Python objects.\n",
    "\n",
    "So what happens when we use them with objects of a user-defined class? Let us consider the following class, which tries to simulate a point in 2-D coordinate system."
   ]
  },
  {
   "cell_type": "code",
   "execution_count": 1,
   "metadata": {
    "ExecuteTime": {
     "end_time": "2021-06-20T19:11:59.737171Z",
     "start_time": "2021-06-20T19:11:59.424678Z"
    },
    "scrolled": true
   },
   "outputs": [
    {
     "ename": "TypeError",
     "evalue": "unsupported operand type(s) for +: 'Point' and 'Point'",
     "output_type": "error",
     "traceback": [
      "\u001b[1;31m---------------------------------------------------------------------------\u001b[0m",
      "\u001b[1;31mTypeError\u001b[0m                                 Traceback (most recent call last)",
      "\u001b[1;32m<ipython-input-1-5f195de51d93>\u001b[0m in \u001b[0;36m<module>\u001b[1;34m\u001b[0m\n\u001b[0;32m      8\u001b[0m \u001b[0mp1\u001b[0m \u001b[1;33m=\u001b[0m \u001b[0mPoint\u001b[0m\u001b[1;33m(\u001b[0m\u001b[1;36m1\u001b[0m\u001b[1;33m,\u001b[0m \u001b[1;36m2\u001b[0m\u001b[1;33m)\u001b[0m\u001b[1;33m\u001b[0m\u001b[1;33m\u001b[0m\u001b[0m\n\u001b[0;32m      9\u001b[0m \u001b[0mp2\u001b[0m \u001b[1;33m=\u001b[0m \u001b[0mPoint\u001b[0m\u001b[1;33m(\u001b[0m\u001b[1;36m2\u001b[0m\u001b[1;33m,\u001b[0m \u001b[1;36m3\u001b[0m\u001b[1;33m)\u001b[0m\u001b[1;33m\u001b[0m\u001b[1;33m\u001b[0m\u001b[0m\n\u001b[1;32m---> 10\u001b[1;33m \u001b[0mprint\u001b[0m\u001b[1;33m(\u001b[0m\u001b[0mp1\u001b[0m\u001b[1;33m+\u001b[0m\u001b[0mp2\u001b[0m\u001b[1;33m)\u001b[0m\u001b[1;33m\u001b[0m\u001b[1;33m\u001b[0m\u001b[0m\n\u001b[0m",
      "\u001b[1;31mTypeError\u001b[0m: unsupported operand type(s) for +: 'Point' and 'Point'"
     ]
    }
   ],
   "source": [
    "# Example 1: error\n",
    "\n",
    "class Point:\n",
    "    def __init__(self, x=0, y=0):\n",
    "        self.x = x\n",
    "        self.y = y\n",
    "\n",
    "p1 = Point(1, 2)\n",
    "p2 = Point(2, 3)\n",
    "print(p1+p2)"
   ]
  },
  {
   "cell_type": "markdown",
   "metadata": {},
   "source": [
    "**Explanation:**\n",
    "\n",
    "Here, we can see that a **`TypeError`** was raised, since Python didn't know how to add two **`Point`** objects together.\n",
    "\n",
    "However, we can achieve this task in Python through operator overloading. But first, let's get a notion about special functions."
   ]
  },
  {
   "cell_type": "markdown",
   "metadata": {},
   "source": [
    "## Python Special Functions\n",
    "\n",
    "Class functions that begin with double underscore **`__`** are called special functions in Python.\n",
    "\n",
    "These functions are not the typical functions that we define for a class. The **`__init__()`** function we defined above is one of them. It gets called every time we create a new object of that class.\n",
    "\n",
    "There are numerous other special functions in Python. Visit [**Python Special Functions**](https://docs.python.org/3/reference/datamodel.html#special-method-names) to learn more about them.\n",
    "\n",
    "Using special functions, we can make our class compatible with built-in functions."
   ]
  },
  {
   "cell_type": "code",
   "execution_count": 2,
   "metadata": {
    "ExecuteTime": {
     "end_time": "2021-06-20T19:12:01.734230Z",
     "start_time": "2021-06-20T19:12:01.726418Z"
    }
   },
   "outputs": [
    {
     "name": "stdout",
     "output_type": "stream",
     "text": [
      "<__main__.Point object at 0x00000218FFC65220>\n"
     ]
    }
   ],
   "source": [
    "p1 = Point(2,3)\n",
    "print(p1)"
   ]
  },
  {
   "cell_type": "markdown",
   "metadata": {},
   "source": [
    "Suppose we want the **`print()`** function to print the coordinates of the **`Point`** object instead of what we got. We can define a **`__str__()`** method in our class that controls how the object gets printed. Let's look at how we can achieve this:\n",
    "\n",
    "```python\n",
    "class Point:\n",
    "    def __init__(self, x = 0, y = 0):\n",
    "        self.x = x\n",
    "        self.y = y\n",
    "    \n",
    "    def __str__(self):\n",
    "        return \"({0},{1})\".format(self.x,self.y)\n",
    "```"
   ]
  },
  {
   "cell_type": "markdown",
   "metadata": {},
   "source": [
    "Now let's try the **`print()`** function again."
   ]
  },
  {
   "cell_type": "code",
   "execution_count": 3,
   "metadata": {
    "ExecuteTime": {
     "end_time": "2021-06-20T19:12:03.562338Z",
     "start_time": "2021-06-20T19:12:03.543787Z"
    }
   },
   "outputs": [
    {
     "name": "stdout",
     "output_type": "stream",
     "text": [
      "(2, 3)\n"
     ]
    }
   ],
   "source": [
    "# Example 1: without error\n",
    "\n",
    "class Point:\n",
    "    def __init__(self, x=0, y=0):\n",
    "        self.x = x\n",
    "        self.y = y\n",
    "\n",
    "    def __str__(self):\n",
    "        return \"({0}, {1})\".format(self.x, self.y)\n",
    "\n",
    "\n",
    "p1 = Point(2, 3)\n",
    "print(p1)"
   ]
  },
  {
   "cell_type": "markdown",
   "metadata": {},
   "source": [
    "That's better. Turns out, that this same method is invoked when we use the built-in function **`str()`** or **`format()`**."
   ]
  },
  {
   "cell_type": "code",
   "execution_count": 4,
   "metadata": {
    "ExecuteTime": {
     "end_time": "2021-06-20T19:12:04.898264Z",
     "start_time": "2021-06-20T19:12:04.869948Z"
    }
   },
   "outputs": [
    {
     "data": {
      "text/plain": [
       "'(2, 3)'"
      ]
     },
     "execution_count": 4,
     "metadata": {},
     "output_type": "execute_result"
    }
   ],
   "source": [
    "str(p1)"
   ]
  },
  {
   "cell_type": "code",
   "execution_count": 5,
   "metadata": {
    "ExecuteTime": {
     "end_time": "2021-06-20T19:12:05.529122Z",
     "start_time": "2021-06-20T19:12:05.518382Z"
    }
   },
   "outputs": [
    {
     "data": {
      "text/plain": [
       "'(2, 3)'"
      ]
     },
     "execution_count": 5,
     "metadata": {},
     "output_type": "execute_result"
    }
   ],
   "source": [
    "format(p1)"
   ]
  },
  {
   "cell_type": "markdown",
   "metadata": {},
   "source": [
    "So, when you use **`str(p1)`** or **`format(p1)`**, Python internally calls the **`p1.__str__()`** method. Hence the name, special functions.\n",
    "\n",
    "Now let's go back to operator overloading."
   ]
  },
  {
   "cell_type": "code",
   "execution_count": 6,
   "metadata": {
    "ExecuteTime": {
     "end_time": "2021-06-20T19:12:06.713683Z",
     "start_time": "2021-06-20T19:12:06.694154Z"
    },
    "scrolled": true
   },
   "outputs": [
    {
     "name": "stdout",
     "output_type": "stream",
     "text": [
      "Total Number of pages: 250\n"
     ]
    }
   ],
   "source": [
    "# Example 2:\n",
    "\n",
    "class Book:\n",
    "    def __init__(self, pages):\n",
    "        self.pages = pages\n",
    "\n",
    "    def __add__(self, other):\n",
    "        return self.pages + other.pages\n",
    "\n",
    "b1 = Book(150)\n",
    "b2 = Book(100)\n",
    "print(\"Total Number of pages:\", b1 + b2)\n",
    "# Output Total Number of pages: 250"
   ]
  },
  {
   "cell_type": "markdown",
   "metadata": {},
   "source": [
    "**Explanation:**\n",
    "\n",
    "In the above example, we overload the **`+`** operator internally **`+`** operator implemented using def **`__add__(self, other)`** method. This method is known as a **magic method**."
   ]
  },
  {
   "cell_type": "code",
   "execution_count": 7,
   "metadata": {
    "ExecuteTime": {
     "end_time": "2021-06-20T19:12:08.157522Z",
     "start_time": "2021-06-20T19:12:08.142874Z"
    }
   },
   "outputs": [
    {
     "name": "stdout",
     "output_type": "stream",
     "text": [
      "Vector (7, 8)\n"
     ]
    }
   ],
   "source": [
    "# Example 3:\n",
    "\n",
    "class Vector:\n",
    "    def __init__(self, a, b):\n",
    "        self.a = a\n",
    "        self.b = b\n",
    "\n",
    "    def __str__(self):\n",
    "        return 'Vector (%d, %d)' % (self.a, self.b)\n",
    "\n",
    "    def __add__(self,other):\n",
    "        return Vector(self.a + other.a, self.b + other.b)\n",
    "\n",
    "v1 = Vector(2,10)\n",
    "v2 = Vector(5,-2)\n",
    "print (v1 + v2)"
   ]
  },
  {
   "cell_type": "markdown",
   "metadata": {},
   "source": [
    "## Overloading the `+` Operator\n",
    "\n",
    "To overload the **`+`** operator, we will need to implement **`__add__()`** function in the class. With great power comes great responsibility. We can do whatever we like, inside this function. But it is more sensible to return a **`Point`** object of the coordinate sum.\n",
    "\n",
    "```python\n",
    ">>> class Point:\n",
    ">>>    def __init__(self, x=0, y=0):\n",
    ">>>        self.x = x\n",
    ">>>        self.y = y\n",
    "\n",
    ">>>    def __str__(self):\n",
    ">>>        return \"({0},{1})\".format(self.x, self.y)\n",
    "\n",
    ">>>    def __add__(self, other):\n",
    ">>>        x = self.x + other.x\n",
    ">>>        y = self.y + other.y\n",
    ">>>        return Point(x, y)\n",
    "```"
   ]
  },
  {
   "cell_type": "markdown",
   "metadata": {},
   "source": [
    "Now let's try the addition operation again:"
   ]
  },
  {
   "cell_type": "code",
   "execution_count": 8,
   "metadata": {
    "ExecuteTime": {
     "end_time": "2021-06-20T19:12:10.720975Z",
     "start_time": "2021-06-20T19:12:10.702424Z"
    }
   },
   "outputs": [
    {
     "name": "stdout",
     "output_type": "stream",
     "text": [
      "(3,5)\n"
     ]
    }
   ],
   "source": [
    "# Example 1:\n",
    "\n",
    "class Point:\n",
    "    def __init__(self, x=0, y=0):\n",
    "        self.x = x\n",
    "        self.y = y\n",
    "\n",
    "    def __str__(self):\n",
    "        return \"({0},{1})\".format(self.x, self.y)\n",
    "\n",
    "    def __add__(self, other):\n",
    "        x = self.x + other.x\n",
    "        y = self.y + other.y\n",
    "        return Point(x, y)\n",
    "\n",
    "\n",
    "p1 = Point(1, 2)\n",
    "p2 = Point(2, 3)\n",
    "\n",
    "print(p1+p2)"
   ]
  },
  {
   "cell_type": "markdown",
   "metadata": {},
   "source": [
    "**Explanation:**\n",
    "\n",
    "What actually happens is that, when you use **`p1 + p2`**, Python calls **`p1.__add__(p2)`** which in turn is **`Point.__add__(p1,p2)`**. After this, the addition operation is carried out the way we specified.\n",
    "\n",
    "In Python, there are different **magic methods** available to perform **overloading operations**. The below table shows the magic methods’ names to overload the mathematical operator, assignment operator, and relational operators in Python."
   ]
  },
  {
   "cell_type": "markdown",
   "metadata": {},
   "source": [
    "| Operator | Expression | Internally | Magic method | \n",
    "|:----:| :---: |:---: |:---: |\n",
    "| **Addition**            |  **`p1 + p2`**  | **`p1.__add__(p2)`** | **`__add__(self, other)`** |\n",
    "| **Subtraction**         |  **`p1 - p2`**  | **`p1.__sub__(p2)`** | **`__sub__(self, other)`** |\n",
    "| **Multiplication**      |  **`p1 * p2`**  | **`p1.__mul__(p2)`** | **`\t__mul__(self, other)`** |\n",
    "| **Power**               |  **`p1 ** p2`** | **`p1.__pow__(p2)`** | **`__pow__(self, other)`** |\n",
    "| **Increment**           |  **`p1 += p2`** | **`p1.__iadd__(p2)`** | **`__iadd__(self, other)`** |\n",
    "| **Decrement**           |  **`p1 -= p2`** | **`p1.__isub__(p2)`** | **`__isub__(self, other)`** |\n",
    "| **Product**             |  **`p1 *= p2`** | **`p1.__imul__(p2)`** | **`__imul__(self, other)`** |\n",
    "| **Division**            |  **`p1 /= p2`** | **`p1.__idiv__(p2)`** | **`__idiv__(self, other)`** |\n",
    "| **Modulus**             |  **`p1 %= p2`** | **`p1.__imod__(p2)`** | **`__imod__(self, other)`** |\n",
    "| **Power**               |  **`p1 **= p2`** | **`p1.__ipow__(p2)`** | **`__ipow__(self, other)`** |\n",
    "| **Division**            |  **`p1 / p2`**  | **`p1.__truediv__(p2)`** | **`__div__(self, other)`** |\n",
    "| **Floor Division**      |  **`p1 // p2`** | **`p1.__floordiv__(p2)`** | **`__floordiv__(self,other)`** |\n",
    "| **Remainder (modulo)**  |  **`p1 % p2`**  | **`p1.__mod__(p2)`** | **`__mod__(self, other)`** |\n",
    "| **Bitwise Left Shift**  |  **`p1 << p2`** | **`p1.__lshift__(p2)`** | **`__lshift__(self, other)`** |\n",
    "| **Bitwise Right Shift** |  **`p1 >> p2`** | **`p1.__rshift__(p2)`** | **`__rshift__(self, other)`** |\n",
    "| **Bitwise AND**         |  **`p1 & p2`**  | **`p1.__and__(p2)`** | **`__and__(self, other)`** |\n",
    "| **Bitwise OR**          |  **`p1 I p2`**  | **`p1.__or__(p2)`** | **`__or__(self, other)`** |\n",
    "| **Bitwise XOR**         |  **`p1 ^ p2`**  | **`p1.__xor__(p2)`** | **`__xor__(self, other)`** |\n",
    "| **Bitwise NOT**         |  **`~p1`**      | **`p1.__invert__()`** | **`__invert__(self)`** |"
   ]
  },
  {
   "cell_type": "markdown",
   "metadata": {},
   "source": [
    "## Overloading Comparison Operators\n",
    "\n",
    "Python does not limit operator overloading to arithmetic operators only. We can overload comparison operators as well.\n",
    "\n",
    "Suppose we wanted to implement the less than symbol **`<`** symbol in our **`Point`** class.\n",
    "\n",
    "Let us compare the magnitude of these points from the origin and return the result for this purpose. It can be implemented as follows."
   ]
  },
  {
   "cell_type": "code",
   "execution_count": 9,
   "metadata": {
    "ExecuteTime": {
     "end_time": "2021-06-20T19:12:13.606695Z",
     "start_time": "2021-06-20T19:12:13.591076Z"
    }
   },
   "outputs": [
    {
     "name": "stdout",
     "output_type": "stream",
     "text": [
      "True\n",
      "False\n",
      "False\n"
     ]
    }
   ],
   "source": [
    "# Example 1: overloading the less than operator\n",
    "class Point:\n",
    "    def __init__(self, x=0, y=0):\n",
    "        self.x = x\n",
    "        self.y = y\n",
    "\n",
    "    def __str__(self):\n",
    "        return \"({0},{1})\".format(self.x, self.y)\n",
    "\n",
    "    def __lt__(self, other):\n",
    "        self_mag = (self.x ** 2) + (self.y ** 2)\n",
    "        other_mag = (other.x ** 2) + (other.y ** 2)\n",
    "        return self_mag < other_mag\n",
    "\n",
    "p1 = Point(1,1)\n",
    "p2 = Point(-2,-3)\n",
    "p3 = Point(1,-1)\n",
    "\n",
    "# use less than\n",
    "print(p1<p2)\n",
    "print(p2<p3)\n",
    "print(p1<p3)"
   ]
  },
  {
   "cell_type": "markdown",
   "metadata": {},
   "source": [
    "Similarly, the special functions that we need to implement, to overload other comparison operators are tabulated below."
   ]
  },
  {
   "cell_type": "markdown",
   "metadata": {},
   "source": [
    "| Operator | Expression | Internally | Magic method | \n",
    "|:----| :--- |:--- |:--- |\n",
    "| **Less than**                |  **`p1 < p2`**   | **`p1.__lt__(p2)`** | **`__lt__(self, other)`** |\n",
    "| **Less than or equal to**    |  **`p1 <= p2`**  | **`p1.__le__(p2)`** | **`__le__(self, other)`** |\n",
    "| **Equal to**                 |  **`p1 == p2`**  | **`p1.__eq__(p2)`** | **`__eq__(self, other)`** |\n",
    "| **Not equal to**             |  **`p1 != p2`**  | **`p1.__ne__(p2)`** | **`__ne__(self, other)`** |\n",
    "| **Greater than**             |  **`p1 > p2`**   | **`p1.__gt__(p2)`** | **`__gt__(self, other)`** |\n",
    "| **Greater than or equal to** |  **`p1 >= p2`**  | **`p1.__ge__(p2)`** | **`__gt__(self, other)`** |"
   ]
  },
  {
   "cell_type": "code",
   "execution_count": null,
   "metadata": {},
   "outputs": [],
   "source": []
  }
 ],
 "metadata": {
  "hide_input": false,
  "kernelspec": {
   "display_name": "Python 3",
   "language": "python",
   "name": "python3"
  },
  "language_info": {
   "codemirror_mode": {
    "name": "ipython",
    "version": 3
   },
   "file_extension": ".py",
   "mimetype": "text/x-python",
   "name": "python",
   "nbconvert_exporter": "python",
   "pygments_lexer": "ipython3",
   "version": "3.8.8"
  },
  "toc": {
   "base_numbering": 1,
   "nav_menu": {},
   "number_sections": true,
   "sideBar": true,
   "skip_h1_title": false,
   "title_cell": "Table of Contents",
   "title_sidebar": "Contents",
   "toc_cell": false,
   "toc_position": {},
   "toc_section_display": true,
   "toc_window_display": false
  },
  "varInspector": {
   "cols": {
    "lenName": 16,
    "lenType": 16,
    "lenVar": 40
   },
   "kernels_config": {
    "python": {
     "delete_cmd_postfix": "",
     "delete_cmd_prefix": "del ",
     "library": "var_list.py",
     "varRefreshCmd": "print(var_dic_list())"
    },
    "r": {
     "delete_cmd_postfix": ") ",
     "delete_cmd_prefix": "rm(",
     "library": "var_list.r",
     "varRefreshCmd": "cat(var_dic_list()) "
    }
   },
   "types_to_exclude": [
    "module",
    "function",
    "builtin_function_or_method",
    "instance",
    "_Feature"
   ],
   "window_display": false
  }
 },
 "nbformat": 4,
 "nbformat_minor": 2
}
