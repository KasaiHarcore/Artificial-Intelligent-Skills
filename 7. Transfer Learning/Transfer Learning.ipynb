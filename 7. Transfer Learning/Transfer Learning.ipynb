{
 "cells": [
  {
   "cell_type": "markdown",
   "metadata": {},
   "source": [
    "# Transfer learning\n",
    "\n",
    "**Transfer Learning:**\n",
    "- Transfer learning is a machine learning technique where a model trained on one task is re-purposed on a second related task. It is commonly used in deep learning to fine-tune a pre-trained model on a new dataset."
   ]
  }
 ],
 "metadata": {
  "language_info": {
   "name": "python"
  },
  "orig_nbformat": 4
 },
 "nbformat": 4,
 "nbformat_minor": 2
}
